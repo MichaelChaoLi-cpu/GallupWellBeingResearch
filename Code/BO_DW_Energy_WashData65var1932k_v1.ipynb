{
 "cells": [
  {
   "cell_type": "markdown",
   "id": "93762d12-6fdd-4e46-bb6c-9714b6f55ed4",
   "metadata": {},
   "source": [
    "# Data for Random Forest Test with Well-being"
   ]
  },
  {
   "cell_type": "code",
   "execution_count": 1,
   "id": "37e38839-0184-49f6-b042-519212e34230",
   "metadata": {},
   "outputs": [
    {
     "data": {
      "text/plain": [
       "'/Users/shibo/Desktop/GallupWellBeingGroup/Code'"
      ]
     },
     "execution_count": 1,
     "metadata": {},
     "output_type": "execute_result"
    }
   ],
   "source": [
    "%pwd"
   ]
  },
  {
   "cell_type": "code",
   "execution_count": 2,
   "id": "aeb33755-8671-40da-9443-2e9715273b63",
   "metadata": {},
   "outputs": [
    {
     "name": "stdout",
     "output_type": "stream",
     "text": [
      "/Users/shibo/Desktop/GallupWellBeingGroup\n"
     ]
    }
   ],
   "source": [
    "%cd .."
   ]
  },
  {
   "cell_type": "code",
   "execution_count": null,
   "id": "b2565ea8-31ec-449d-8ad9-5568e7d40cfd",
   "metadata": {},
   "outputs": [],
   "source": []
  },
  {
   "cell_type": "markdown",
   "id": "2f14be87-268b-4229-983d-8cb41dfc2296",
   "metadata": {},
   "source": [
    "## Import Package"
   ]
  },
  {
   "cell_type": "code",
   "execution_count": 3,
   "id": "af6ef393-fd32-42b6-aefe-7e0686a40901",
   "metadata": {},
   "outputs": [],
   "source": [
    "import os \n",
    "import pandas as pd"
   ]
  },
  {
   "cell_type": "markdown",
   "id": "530c9c5a-3919-4cfe-893a-8d9bff2da19d",
   "metadata": {},
   "source": [
    "## Load Dataset"
   ]
  },
  {
   "cell_type": "code",
   "execution_count": 4,
   "id": "6c1929e6-a11b-477f-b941-f8cbc7ed00f9",
   "metadata": {},
   "outputs": [],
   "source": [
    "RawDataset_Filename = os.path.join(\"Data\", \"GallupWB_WashedRawData17Wave_v1.parquet\")"
   ]
  },
  {
   "cell_type": "code",
   "execution_count": 5,
   "id": "1fdf1caf-e6f9-4bd3-8b03-613a42e68490",
   "metadata": {},
   "outputs": [],
   "source": [
    "RawDataset = pd.read_parquet(RawDataset_Filename)"
   ]
  },
  {
   "cell_type": "code",
   "execution_count": 6,
   "id": "d3ea54de-5c7c-49eb-ab5f-c0bc0dd9bf0b",
   "metadata": {},
   "outputs": [
    {
     "data": {
      "text/plain": [
       "(2594089, 90)"
      ]
     },
     "execution_count": 6,
     "metadata": {},
     "output_type": "execute_result"
    }
   ],
   "source": [
    "RawDataset.shape"
   ]
  },
  {
   "cell_type": "code",
   "execution_count": 7,
   "id": "ba8e261a-7b3e-4232-afcf-14bc5fda9b89",
   "metadata": {},
   "outputs": [
    {
     "name": "stdout",
     "output_type": "stream",
     "text": [
      "('wave', 0)\n",
      "('COUNTRY_ISO3', 0)\n",
      "('INCOME_1', 420409)\n",
      "('INCOME_2', 423416)\n",
      "('INCOME_3', 420411)\n",
      "('INCOME_4', 423418)\n",
      "('INCOME_5', 419801)\n",
      "('INCOME_6', 2594089)\n",
      "('INCOME_7', 419841)\n",
      "('WP16', 14604)\n",
      "('WP18', 14603)\n",
      "('WP23', 123903)\n",
      "('WP27', 151900)\n",
      "('WP30', 129145)\n",
      "('WP31', 142727)\n",
      "('WP40', 52441)\n",
      "('WP43', 49598)\n",
      "('WP60', 86371)\n",
      "('WP61', 67376)\n",
      "('WP63', 104399)\n",
      "('WP65', 69390)\n",
      "('WP67', 74033)\n",
      "('WP68', 85721)\n",
      "('WP69', 82693)\n",
      "('WP70', 83895)\n",
      "('WP71', 184749)\n",
      "('WP74', 100720)\n",
      "('WP83', 185474)\n",
      "('WP85', 310161)\n",
      "('WP86', 240808)\n",
      "('WP19472', 1719188)\n",
      "('WP88', 262622)\n",
      "('WP89', 171021)\n",
      "('WP91', 198859)\n",
      "('WP92', 200973)\n",
      "('WP93', 145248)\n",
      "('WP94', 202990)\n",
      "('WP95', 201667)\n",
      "('WP96', 2594089)\n",
      "('WP97', 238617)\n",
      "('WP98', 231858)\n",
      "('WP10248', 710990)\n",
      "('WP103', 452880)\n",
      "('WP105', 545368)\n",
      "('WP106', 262574)\n",
      "('WP108', 189759)\n",
      "('WP109', 187253)\n",
      "('WP110', 193819)\n",
      "('WP111', 675056)\n",
      "('WP112', 419460)\n",
      "('WP113', 206175)\n",
      "('WP117', 268482)\n",
      "('WP118', 786324)\n",
      "('WP119', 291689)\n",
      "('WP129', 177618)\n",
      "('WP130', 156114)\n",
      "('WP9050', 731999)\n",
      "('WP131', 408916)\n",
      "('WP132', 218748)\n",
      "('WP134', 162829)\n",
      "('WP137', 503224)\n",
      "('WP138', 392723)\n",
      "('WP139', 426999)\n",
      "('WP141', 240493)\n",
      "('WP144', 461870)\n",
      "('WP10251', 790018)\n",
      "('WP145', 294340)\n",
      "('WP146', 401409)\n",
      "('WP150', 518606)\n",
      "('WP151', 347999)\n",
      "('WP153', 420278)\n",
      "('WP155', 452531)\n",
      "('WP156', 400767)\n",
      "('WP13125', 1158474)\n",
      "('WP1219', 22)\n",
      "('WP1220', 3306)\n",
      "('WP1223', 26119)\n",
      "('EMP_2010', 433208)\n",
      "('WP1230', 80157)\n",
      "('WP1233', 303845)\n",
      "('WP2319', 146446)\n",
      "('WP4657', 230088)\n",
      "('WP9042', 2467008)\n",
      "('WP9048', 2469606)\n",
      "('WP17625', 1287824)\n",
      "('WP17626', 1412789)\n",
      "('WP16056', 1478999)\n",
      "('WP15862', 1880708)\n",
      "('WP19544', 1824015)\n",
      "('WP3117', 77184)\n"
     ]
    }
   ],
   "source": [
    "nan_counts = RawDataset.isna().sum()\n",
    "for line in zip(RawDataset.columns, nan_counts):\n",
    "    print(line)"
   ]
  },
  {
   "cell_type": "markdown",
   "id": "7a243367-b00e-4819-a1d2-b57c1dd02df0",
   "metadata": {},
   "source": [
    "## wave"
   ]
  },
  {
   "cell_type": "code",
   "execution_count": 8,
   "id": "8f4ef7f6-230a-407a-932a-be63f57308d6",
   "metadata": {},
   "outputs": [
    {
     "data": {
      "text/plain": [
       "wave\n",
       "1.0     129972\n",
       "2.0     104831\n",
       "3.0     120443\n",
       "3.1       3568\n",
       "3.2       4141\n",
       "3.3       2592\n",
       "3.4       1758\n",
       "4.0      99664\n",
       "4.1      18074\n",
       "4.2      19164\n",
       "4.3       1147\n",
       "5.0     112702\n",
       "5.1      18141\n",
       "5.2      20013\n",
       "6.0     130614\n",
       "6.1      23134\n",
       "6.2      26258\n",
       "6.3       7224\n",
       "6.4       7157\n",
       "6.5       1077\n",
       "7.1     151720\n",
       "7.2      49465\n",
       "7.3      12879\n",
       "7.4      16019\n",
       "8.1     138673\n",
       "9.1     154205\n",
       "9.2      36143\n",
       "10.1    148232\n",
       "11.1    148724\n",
       "11.2      2000\n",
       "12.1    154166\n",
       "12.9      1000\n",
       "13.1    118922\n",
       "13.2     33952\n",
       "14.1    176253\n",
       "15.1    121207\n",
       "15.5      6350\n",
       "15.9      1917\n",
       "16.1    126902\n",
       "17.1    143686\n",
       "Name: count, dtype: int64"
      ]
     },
     "execution_count": 8,
     "metadata": {},
     "output_type": "execute_result"
    }
   ],
   "source": [
    "RawDataset['wave'].value_counts().sort_index()"
   ]
  },
  {
   "cell_type": "code",
   "execution_count": 9,
   "id": "027362ce-90ab-4652-b961-408d99f20c9a",
   "metadata": {},
   "outputs": [],
   "source": [
    "RawDataset['wave'] = RawDataset['wave'].astype(int)"
   ]
  },
  {
   "cell_type": "code",
   "execution_count": 10,
   "id": "9d556560-de8b-4893-ae32-cb20505bfef3",
   "metadata": {},
   "outputs": [
    {
     "data": {
      "text/plain": [
       "wave\n",
       "1     129972\n",
       "2     104831\n",
       "3     132502\n",
       "4     138049\n",
       "5     150856\n",
       "6     195464\n",
       "7     230083\n",
       "8     138673\n",
       "9     190348\n",
       "10    148232\n",
       "11    150724\n",
       "12    155166\n",
       "13    152874\n",
       "14    176253\n",
       "15    129474\n",
       "16    126902\n",
       "17    143686\n",
       "Name: count, dtype: int64"
      ]
     },
     "execution_count": 10,
     "metadata": {},
     "output_type": "execute_result"
    }
   ],
   "source": [
    "RawDataset['wave'].value_counts().sort_index()"
   ]
  },
  {
   "cell_type": "markdown",
   "id": "0873d909-74ad-49b1-b674-d7b4d9755ba8",
   "metadata": {},
   "source": [
    "## check elements"
   ]
  },
  {
   "cell_type": "code",
   "execution_count": 11,
   "id": "191ddc81-58c0-4c36-8e60-dc84e6abcd93",
   "metadata": {},
   "outputs": [
    {
     "data": {
      "text/plain": [
       "(2594089, 90)"
      ]
     },
     "execution_count": 11,
     "metadata": {},
     "output_type": "execute_result"
    }
   ],
   "source": [
    "RawDataset.shape"
   ]
  },
  {
   "cell_type": "markdown",
   "id": "6497b1fa-d843-459f-934a-d9452fa13115",
   "metadata": {},
   "source": [
    "## Filter columns and Replace elements"
   ]
  },
  {
   "cell_type": "code",
   "execution_count": 12,
   "id": "c8c63b3a-1b14-485e-a39c-0796124a34a3",
   "metadata": {},
   "outputs": [],
   "source": [
    "Droped_datasetdf = RawDataset.drop(columns=['WP119','WP131','INCOME_1','INCOME_3','INCOME_4','INCOME_5','INCOME_6','INCOME_7',\n",
    "                     'WP151','WP153','WP155','WP156','WP13125','WP1233','WP4657',\n",
    "                     'WP9042','WP9048','WP17625','WP3117','WP19472'])"
   ]
  },
  {
   "cell_type": "code",
   "execution_count": 13,
   "id": "766ae3b0-e6ef-4ec7-8a1d-41db7d3ea887",
   "metadata": {},
   "outputs": [
    {
     "data": {
      "text/plain": [
       "(2594089, 70)"
      ]
     },
     "execution_count": 13,
     "metadata": {},
     "output_type": "execute_result"
    }
   ],
   "source": [
    "Droped_datasetdf.shape"
   ]
  },
  {
   "cell_type": "markdown",
   "id": "430e4112-3864-4ef5-a2bf-ce774b6bf5e1",
   "metadata": {},
   "source": [
    "### Create new df for renamed df"
   ]
  },
  {
   "cell_type": "code",
   "execution_count": 14,
   "id": "8a131d5d-9219-4536-8930-5e87674bc67d",
   "metadata": {},
   "outputs": [],
   "source": [
    "Droped_new_df = pd.DataFrame()"
   ]
  },
  {
   "cell_type": "code",
   "execution_count": 15,
   "id": "a47d760c-5e55-4dd0-aa1d-150918043b68",
   "metadata": {},
   "outputs": [
    {
     "data": {
      "text/plain": [
       "Index(['wave', 'COUNTRY_ISO3', 'INCOME_2', 'WP16', 'WP18', 'WP23', 'WP27',\n",
       "       'WP30', 'WP31', 'WP40', 'WP43', 'WP60', 'WP61', 'WP63', 'WP65', 'WP67',\n",
       "       'WP68', 'WP69', 'WP70', 'WP71', 'WP74', 'WP83', 'WP85', 'WP86', 'WP88',\n",
       "       'WP89', 'WP91', 'WP92', 'WP93', 'WP94', 'WP95', 'WP96', 'WP97', 'WP98',\n",
       "       'WP10248', 'WP103', 'WP105', 'WP106', 'WP108', 'WP109', 'WP110',\n",
       "       'WP111', 'WP112', 'WP113', 'WP117', 'WP118', 'WP129', 'WP130', 'WP9050',\n",
       "       'WP132', 'WP134', 'WP137', 'WP138', 'WP139', 'WP141', 'WP144',\n",
       "       'WP10251', 'WP145', 'WP146', 'WP150', 'WP1219', 'WP1220', 'WP1223',\n",
       "       'EMP_2010', 'WP1230', 'WP2319', 'WP17626', 'WP16056', 'WP15862',\n",
       "       'WP19544'],\n",
       "      dtype='object')"
      ]
     },
     "execution_count": 15,
     "metadata": {},
     "output_type": "execute_result"
    }
   ],
   "source": [
    "Droped_datasetdf.columns"
   ]
  },
  {
   "cell_type": "markdown",
   "id": "1e516acf-f0ac-4f01-9980-a3179cdec091",
   "metadata": {
    "jp-MarkdownHeadingCollapsed": true
   },
   "source": [
    "### Lesson"
   ]
  },
  {
   "cell_type": "code",
   "execution_count": 16,
   "id": "f9517a52-96b2-4cfe-a700-fa3f34e61b7f",
   "metadata": {},
   "outputs": [],
   "source": [
    "name = ['wave', 'COUNTRY_ISO3', 'INCOME_2', 'Cantril_ladder', 'Cantril_ladder_future', 'WP23', 'WP27',\n",
    "       'WP30', 'WP31', 'WP40', 'WP43', 'WP60', 'WP61', 'WP63', 'WP65', 'WP67',\n",
    "       'WP68', 'WP69', 'WP70', 'WP71', 'WP74', 'WP83', 'WP85', 'WP86', 'WP88',\n",
    "       'WP89', 'WP91', 'WP92', 'WP93', 'WP94', 'WP95', 'WP96', 'WP97', 'WP98',\n",
    "       'WP10248', 'WP103', 'WP105', 'WP106', 'WP108', 'WP109', 'WP110',\n",
    "       'WP112', 'WP113', 'WP117', 'WP129', 'WP130', 'WP9050', 'WP132', 'WP134',\n",
    "       'WP137', 'WP138', 'WP139', 'WP141', 'WP144', 'WP10251', 'WP145',\n",
    "       'WP146', 'WP150', 'WP1219', 'WP1220', 'WP1223', 'EMP_2010', 'WP1230',\n",
    "       'WP2319', 'WP17626', 'WP16056', 'WP15862', 'WP19544']"
   ]
  },
  {
   "cell_type": "code",
   "execution_count": 17,
   "id": "42fc6a93-888c-4119-9d95-8989a6990e67",
   "metadata": {},
   "outputs": [
    {
     "data": {
      "text/plain": [
       "'wave'"
      ]
     },
     "execution_count": 17,
     "metadata": {},
     "output_type": "execute_result"
    }
   ],
   "source": [
    "name[0]"
   ]
  },
  {
   "cell_type": "code",
   "execution_count": 18,
   "id": "31b4a2b5-d110-433c-ab0b-ff4e0c13afb8",
   "metadata": {},
   "outputs": [],
   "source": [
    "dict_name = {}"
   ]
  },
  {
   "cell_type": "code",
   "execution_count": 19,
   "id": "c597bdf5-4551-41ea-a939-2763f62352bf",
   "metadata": {},
   "outputs": [],
   "source": [
    "dict_name['WP16'] = 'Cantril_ladder'"
   ]
  },
  {
   "cell_type": "code",
   "execution_count": 20,
   "id": "463aebf9-0faf-40ed-b1dd-861123e848ad",
   "metadata": {},
   "outputs": [],
   "source": [
    "dict_name['WP18'] = 'Cantril_ladder_future'"
   ]
  },
  {
   "cell_type": "code",
   "execution_count": 21,
   "id": "69ac6923-c3a0-47d6-bb41-a824c57fad80",
   "metadata": {},
   "outputs": [
    {
     "data": {
      "text/plain": [
       "{'WP16': 'Cantril_ladder', 'WP18': 'Cantril_ladder_future'}"
      ]
     },
     "execution_count": 21,
     "metadata": {},
     "output_type": "execute_result"
    }
   ],
   "source": [
    "dict_name"
   ]
  },
  {
   "cell_type": "code",
   "execution_count": 22,
   "id": "2cf199a5-36fa-4c5b-b79d-77bdcbca483c",
   "metadata": {},
   "outputs": [
    {
     "name": "stdout",
     "output_type": "stream",
     "text": [
      "WP16\n",
      "Cantril_ladder\n",
      "WP18\n",
      "Cantril_ladder_future\n",
      "WP23\n",
      "None\n"
     ]
    }
   ],
   "source": [
    "old_name = ['WP16', 'WP18', 'WP23']\n",
    "new_name = []\n",
    "for this_old_name in old_name:\n",
    "    print(this_old_name)\n",
    "    this_new_name = dict_name.get(this_old_name)\n",
    "    print(this_new_name)\n",
    "    new_name.append(this_new_name)"
   ]
  },
  {
   "cell_type": "code",
   "execution_count": 23,
   "id": "09d5d9b1-ece7-4b94-b812-fcf4bc3f9ea1",
   "metadata": {},
   "outputs": [
    {
     "data": {
      "text/plain": [
       "['Cantril_ladder', 'Cantril_ladder_future', None]"
      ]
     },
     "execution_count": 23,
     "metadata": {},
     "output_type": "execute_result"
    }
   ],
   "source": [
    "new_name"
   ]
  },
  {
   "cell_type": "code",
   "execution_count": 24,
   "id": "718da734-ca71-4065-a54a-eec3e228aa41",
   "metadata": {},
   "outputs": [
    {
     "data": {
      "text/plain": [
       "'Cantril_ladder_future'"
      ]
     },
     "execution_count": 24,
     "metadata": {},
     "output_type": "execute_result"
    }
   ],
   "source": [
    "dict_name.get('WP18')"
   ]
  },
  {
   "cell_type": "code",
   "execution_count": 25,
   "id": "a11824af-1370-461a-8d20-ac09df1e69c1",
   "metadata": {},
   "outputs": [],
   "source": [
    "dict_name.get('WP22')"
   ]
  },
  {
   "cell_type": "code",
   "execution_count": 26,
   "id": "6f00efe7-51d5-4d95-ab24-f780989300f7",
   "metadata": {},
   "outputs": [],
   "source": [
    "namechanging_df = Droped_datasetdf.copy()"
   ]
  },
  {
   "cell_type": "code",
   "execution_count": 27,
   "id": "5fce7fc8-02c4-4943-8862-af3e97173485",
   "metadata": {},
   "outputs": [
    {
     "ename": "ValueError",
     "evalue": "Length mismatch: Expected axis has 70 elements, new values have 68 elements",
     "output_type": "error",
     "traceback": [
      "\u001b[0;31m---------------------------------------------------------------------------\u001b[0m",
      "\u001b[0;31mValueError\u001b[0m                                Traceback (most recent call last)",
      "Cell \u001b[0;32mIn[27], line 1\u001b[0m\n\u001b[0;32m----> 1\u001b[0m namechanging_df\u001b[38;5;241m.\u001b[39mcolumns \u001b[38;5;241m=\u001b[39m name\n",
      "File \u001b[0;32m/opt/anaconda3/envs/MLlearning/lib/python3.9/site-packages/pandas/core/generic.py:6313\u001b[0m, in \u001b[0;36mNDFrame.__setattr__\u001b[0;34m(self, name, value)\u001b[0m\n\u001b[1;32m   6311\u001b[0m \u001b[38;5;28;01mtry\u001b[39;00m:\n\u001b[1;32m   6312\u001b[0m     \u001b[38;5;28mobject\u001b[39m\u001b[38;5;241m.\u001b[39m\u001b[38;5;21m__getattribute__\u001b[39m(\u001b[38;5;28mself\u001b[39m, name)\n\u001b[0;32m-> 6313\u001b[0m     \u001b[38;5;28;01mreturn\u001b[39;00m \u001b[38;5;28;43mobject\u001b[39;49m\u001b[38;5;241;43m.\u001b[39;49m\u001b[38;5;21;43m__setattr__\u001b[39;49m\u001b[43m(\u001b[49m\u001b[38;5;28;43mself\u001b[39;49m\u001b[43m,\u001b[49m\u001b[43m \u001b[49m\u001b[43mname\u001b[49m\u001b[43m,\u001b[49m\u001b[43m \u001b[49m\u001b[43mvalue\u001b[49m\u001b[43m)\u001b[49m\n\u001b[1;32m   6314\u001b[0m \u001b[38;5;28;01mexcept\u001b[39;00m \u001b[38;5;167;01mAttributeError\u001b[39;00m:\n\u001b[1;32m   6315\u001b[0m     \u001b[38;5;28;01mpass\u001b[39;00m\n",
      "File \u001b[0;32mproperties.pyx:69\u001b[0m, in \u001b[0;36mpandas._libs.properties.AxisProperty.__set__\u001b[0;34m()\u001b[0m\n",
      "File \u001b[0;32m/opt/anaconda3/envs/MLlearning/lib/python3.9/site-packages/pandas/core/generic.py:814\u001b[0m, in \u001b[0;36mNDFrame._set_axis\u001b[0;34m(self, axis, labels)\u001b[0m\n\u001b[1;32m    809\u001b[0m \u001b[38;5;250m\u001b[39m\u001b[38;5;124;03m\"\"\"\u001b[39;00m\n\u001b[1;32m    810\u001b[0m \u001b[38;5;124;03mThis is called from the cython code when we set the `index` attribute\u001b[39;00m\n\u001b[1;32m    811\u001b[0m \u001b[38;5;124;03mdirectly, e.g. `series.index = [1, 2, 3]`.\u001b[39;00m\n\u001b[1;32m    812\u001b[0m \u001b[38;5;124;03m\"\"\"\u001b[39;00m\n\u001b[1;32m    813\u001b[0m labels \u001b[38;5;241m=\u001b[39m ensure_index(labels)\n\u001b[0;32m--> 814\u001b[0m \u001b[38;5;28;43mself\u001b[39;49m\u001b[38;5;241;43m.\u001b[39;49m\u001b[43m_mgr\u001b[49m\u001b[38;5;241;43m.\u001b[39;49m\u001b[43mset_axis\u001b[49m\u001b[43m(\u001b[49m\u001b[43maxis\u001b[49m\u001b[43m,\u001b[49m\u001b[43m \u001b[49m\u001b[43mlabels\u001b[49m\u001b[43m)\u001b[49m\n\u001b[1;32m    815\u001b[0m \u001b[38;5;28mself\u001b[39m\u001b[38;5;241m.\u001b[39m_clear_item_cache()\n",
      "File \u001b[0;32m/opt/anaconda3/envs/MLlearning/lib/python3.9/site-packages/pandas/core/internals/managers.py:238\u001b[0m, in \u001b[0;36mBaseBlockManager.set_axis\u001b[0;34m(self, axis, new_labels)\u001b[0m\n\u001b[1;32m    236\u001b[0m \u001b[38;5;28;01mdef\u001b[39;00m \u001b[38;5;21mset_axis\u001b[39m(\u001b[38;5;28mself\u001b[39m, axis: AxisInt, new_labels: Index) \u001b[38;5;241m-\u001b[39m\u001b[38;5;241m>\u001b[39m \u001b[38;5;28;01mNone\u001b[39;00m:\n\u001b[1;32m    237\u001b[0m     \u001b[38;5;66;03m# Caller is responsible for ensuring we have an Index object.\u001b[39;00m\n\u001b[0;32m--> 238\u001b[0m     \u001b[38;5;28;43mself\u001b[39;49m\u001b[38;5;241;43m.\u001b[39;49m\u001b[43m_validate_set_axis\u001b[49m\u001b[43m(\u001b[49m\u001b[43maxis\u001b[49m\u001b[43m,\u001b[49m\u001b[43m \u001b[49m\u001b[43mnew_labels\u001b[49m\u001b[43m)\u001b[49m\n\u001b[1;32m    239\u001b[0m     \u001b[38;5;28mself\u001b[39m\u001b[38;5;241m.\u001b[39maxes[axis] \u001b[38;5;241m=\u001b[39m new_labels\n",
      "File \u001b[0;32m/opt/anaconda3/envs/MLlearning/lib/python3.9/site-packages/pandas/core/internals/base.py:98\u001b[0m, in \u001b[0;36mDataManager._validate_set_axis\u001b[0;34m(self, axis, new_labels)\u001b[0m\n\u001b[1;32m     95\u001b[0m     \u001b[38;5;28;01mpass\u001b[39;00m\n\u001b[1;32m     97\u001b[0m \u001b[38;5;28;01melif\u001b[39;00m new_len \u001b[38;5;241m!=\u001b[39m old_len:\n\u001b[0;32m---> 98\u001b[0m     \u001b[38;5;28;01mraise\u001b[39;00m \u001b[38;5;167;01mValueError\u001b[39;00m(\n\u001b[1;32m     99\u001b[0m         \u001b[38;5;124mf\u001b[39m\u001b[38;5;124m\"\u001b[39m\u001b[38;5;124mLength mismatch: Expected axis has \u001b[39m\u001b[38;5;132;01m{\u001b[39;00mold_len\u001b[38;5;132;01m}\u001b[39;00m\u001b[38;5;124m elements, new \u001b[39m\u001b[38;5;124m\"\u001b[39m\n\u001b[1;32m    100\u001b[0m         \u001b[38;5;124mf\u001b[39m\u001b[38;5;124m\"\u001b[39m\u001b[38;5;124mvalues have \u001b[39m\u001b[38;5;132;01m{\u001b[39;00mnew_len\u001b[38;5;132;01m}\u001b[39;00m\u001b[38;5;124m elements\u001b[39m\u001b[38;5;124m\"\u001b[39m\n\u001b[1;32m    101\u001b[0m     )\n",
      "\u001b[0;31mValueError\u001b[0m: Length mismatch: Expected axis has 70 elements, new values have 68 elements"
     ]
    }
   ],
   "source": [
    "namechanging_df.columns = name"
   ]
  },
  {
   "cell_type": "code",
   "execution_count": null,
   "id": "278b1a46-5d90-45bb-8a9b-9196fc0bc9c6",
   "metadata": {},
   "outputs": [],
   "source": [
    "namechanging_df.head()"
   ]
  },
  {
   "cell_type": "markdown",
   "id": "a22d37e1-4c0c-455d-b10c-157833c662a1",
   "metadata": {},
   "source": [
    "### WP23: Disability"
   ]
  },
  {
   "cell_type": "code",
   "execution_count": 16,
   "id": "0fc1199b-1dea-4b29-89f5-adca4c130340",
   "metadata": {},
   "outputs": [],
   "source": [
    "Droped_datasetdf['Disability'] = Droped_datasetdf['WP23']"
   ]
  },
  {
   "cell_type": "code",
   "execution_count": 17,
   "id": "acedc914-2290-4ed9-bcd0-ac84f8ed9ee8",
   "metadata": {},
   "outputs": [
    {
     "data": {
      "text/plain": [
       "Disability\n",
       "1.0     606730\n",
       "2.0    1849654\n",
       "3.0      10927\n",
       "4.0       2875\n",
       "Name: count, dtype: int64"
      ]
     },
     "execution_count": 17,
     "metadata": {},
     "output_type": "execute_result"
    }
   ],
   "source": [
    "Droped_datasetdf['Disability'].value_counts().sort_index()"
   ]
  },
  {
   "cell_type": "code",
   "execution_count": 18,
   "id": "a32cc3f3-e120-4c3a-9bd8-7fd610d26929",
   "metadata": {},
   "outputs": [
    {
     "name": "stdout",
     "output_type": "stream",
     "text": [
      "Number of NaN values': 123903\n"
     ]
    }
   ],
   "source": [
    "nan_count = Droped_datasetdf['Disability'].isna().sum()\n",
    "print(f\"Number of NaN values': {nan_count}\")"
   ]
  },
  {
   "cell_type": "code",
   "execution_count": 19,
   "id": "b5b9c758-9efc-4702-bd37-2ab7246200dc",
   "metadata": {},
   "outputs": [],
   "source": [
    "Droped_datasetdf['Disability'] = Droped_datasetdf['Disability'].replace({3: 1, 4: 1})\n",
    "Droped_datasetdf['Disability'] = Droped_datasetdf['Disability'].fillna(2)"
   ]
  },
  {
   "cell_type": "code",
   "execution_count": 20,
   "id": "a1c2076e-160b-416b-94f8-9f2a95c88940",
   "metadata": {},
   "outputs": [],
   "source": [
    "Droped_new_df['Disability'] = Droped_datasetdf['Disability']"
   ]
  },
  {
   "cell_type": "code",
   "execution_count": 21,
   "id": "494ce654-a791-4633-9f3f-7858d37e2d37",
   "metadata": {},
   "outputs": [
    {
     "name": "stdout",
     "output_type": "stream",
     "text": [
      "         Disability\n",
      "0               2.0\n",
      "1               1.0\n",
      "2               2.0\n",
      "3               2.0\n",
      "4               1.0\n",
      "...             ...\n",
      "2594084         2.0\n",
      "2594085         2.0\n",
      "2594086         2.0\n",
      "2594087         2.0\n",
      "2594088         2.0\n",
      "\n",
      "[2594089 rows x 1 columns]\n"
     ]
    }
   ],
   "source": [
    "print(Droped_new_df)"
   ]
  },
  {
   "cell_type": "markdown",
   "id": "74aab575-4598-4d28-8541-f8a9dae855c8",
   "metadata": {},
   "source": [
    "### WP40, WP43: Food&Shelter"
   ]
  },
  {
   "cell_type": "code",
   "execution_count": 22,
   "id": "9ee74b2d-4684-47d1-8bc5-8c56ff2e8e88",
   "metadata": {},
   "outputs": [],
   "source": [
    "Droped_datasetdf['Food'] = Droped_datasetdf['WP40']\n",
    "Droped_datasetdf['Shelter'] = Droped_datasetdf['WP40']"
   ]
  },
  {
   "cell_type": "code",
   "execution_count": 23,
   "id": "9e388aad-7121-48c2-91e0-af1050abca3d",
   "metadata": {},
   "outputs": [
    {
     "data": {
      "text/plain": [
       "Food\n",
       "1.0     805763\n",
       "2.0    1719891\n",
       "3.0      11392\n",
       "4.0       4602\n",
       "Name: count, dtype: int64"
      ]
     },
     "execution_count": 23,
     "metadata": {},
     "output_type": "execute_result"
    }
   ],
   "source": [
    "Droped_datasetdf['Food'].value_counts().sort_index()"
   ]
  },
  {
   "cell_type": "code",
   "execution_count": 24,
   "id": "2b2d5d45-4616-40b9-83e7-189d6938e905",
   "metadata": {},
   "outputs": [
    {
     "name": "stdout",
     "output_type": "stream",
     "text": [
      "Number of NaN values': 52441\n"
     ]
    }
   ],
   "source": [
    "nan_count = Droped_datasetdf['Food'].isna().sum()\n",
    "print(f\"Number of NaN values': {nan_count}\")"
   ]
  },
  {
   "cell_type": "code",
   "execution_count": 25,
   "id": "f5ab79f8-e677-4957-bb1a-2fd8341f9e0a",
   "metadata": {},
   "outputs": [
    {
     "data": {
      "text/plain": [
       "Shelter\n",
       "1.0     805763\n",
       "2.0    1719891\n",
       "3.0      11392\n",
       "4.0       4602\n",
       "Name: count, dtype: int64"
      ]
     },
     "execution_count": 25,
     "metadata": {},
     "output_type": "execute_result"
    }
   ],
   "source": [
    "Droped_datasetdf['Shelter'].value_counts().sort_index()"
   ]
  },
  {
   "cell_type": "code",
   "execution_count": 26,
   "id": "db187200-f192-4e5a-8b05-2be5f4ecf4c5",
   "metadata": {},
   "outputs": [
    {
     "name": "stdout",
     "output_type": "stream",
     "text": [
      "Number of NaN values': 52441\n"
     ]
    }
   ],
   "source": [
    "nan_count = Droped_datasetdf['Shelter'].isna().sum()\n",
    "print(f\"Number of NaN values': {nan_count}\")"
   ]
  },
  {
   "cell_type": "code",
   "execution_count": 27,
   "id": "6528ddba-b71b-47b5-be74-d5a3bbeb3183",
   "metadata": {},
   "outputs": [],
   "source": [
    "Droped_datasetdf['Food'] = Droped_datasetdf['Food'].replace({3: 1, 4: 1})\n",
    "Droped_datasetdf['Food'] = Droped_datasetdf['Food'].fillna(1)\n",
    "Droped_datasetdf['Shelter'] = Droped_datasetdf['Shelter'].replace({3: 1, 4: 1})\n",
    "Droped_datasetdf['Shelter'] = Droped_datasetdf['Shelter'].fillna(1)"
   ]
  },
  {
   "cell_type": "code",
   "execution_count": 28,
   "id": "9e1564b1-5cbb-425e-9c93-6d4b0b379baf",
   "metadata": {},
   "outputs": [],
   "source": [
    "Droped_new_df['Food'] = Droped_datasetdf['Food']\n",
    "Droped_new_df['Shelter'] = Droped_datasetdf['Shelter']"
   ]
  },
  {
   "cell_type": "code",
   "execution_count": 29,
   "id": "616435ee-cf1c-43ae-b00b-37821ee45035",
   "metadata": {},
   "outputs": [
    {
     "name": "stdout",
     "output_type": "stream",
     "text": [
      "         Disability  Food  Shelter\n",
      "0               2.0   2.0      2.0\n",
      "1               1.0   2.0      2.0\n",
      "2               2.0   2.0      2.0\n",
      "3               2.0   2.0      2.0\n",
      "4               1.0   2.0      2.0\n",
      "...             ...   ...      ...\n",
      "2594084         2.0   1.0      1.0\n",
      "2594085         2.0   1.0      1.0\n",
      "2594086         2.0   1.0      1.0\n",
      "2594087         2.0   1.0      1.0\n",
      "2594088         2.0   1.0      1.0\n",
      "\n",
      "[2594089 rows x 3 columns]\n"
     ]
    }
   ],
   "source": [
    "print(Droped_new_df)"
   ]
  },
  {
   "cell_type": "markdown",
   "id": "11ed10f5-7534-4a2f-8256-e92d92009e4c",
   "metadata": {},
   "source": [
    "### Other Binary variables"
   ]
  },
  {
   "cell_type": "markdown",
   "id": "85c9a769-717c-4eea-9572-4ce424169bf3",
   "metadata": {},
   "source": [
    "DK and refused to No"
   ]
  },
  {
   "cell_type": "markdown",
   "id": "27fabdb8-5305-41c2-9171-0292a532b3e7",
   "metadata": {},
   "source": [
    "#### WP27:Relatives"
   ]
  },
  {
   "cell_type": "code",
   "execution_count": 30,
   "id": "f4248ce3-6c14-4e48-abd4-91ef93121c7f",
   "metadata": {},
   "outputs": [],
   "source": [
    "Droped_datasetdf['Relatives'] = Droped_datasetdf['WP27']"
   ]
  },
  {
   "cell_type": "code",
   "execution_count": 31,
   "id": "dbec8cdb-3711-4dff-b049-d890a29ac250",
   "metadata": {},
   "outputs": [
    {
     "data": {
      "text/plain": [
       "Relatives\n",
       "1.0    1955363\n",
       "2.0     459668\n",
       "3.0      24189\n",
       "4.0       2969\n",
       "Name: count, dtype: int64"
      ]
     },
     "execution_count": 31,
     "metadata": {},
     "output_type": "execute_result"
    }
   ],
   "source": [
    "Droped_datasetdf['Relatives'].value_counts().sort_index()"
   ]
  },
  {
   "cell_type": "code",
   "execution_count": 32,
   "id": "d518d252-ac34-4e52-b149-02f67b5d3053",
   "metadata": {},
   "outputs": [
    {
     "name": "stdout",
     "output_type": "stream",
     "text": [
      "Number of NaN values': 151900\n"
     ]
    }
   ],
   "source": [
    "nan_count = Droped_datasetdf['Relatives'].isna().sum()\n",
    "print(f\"Number of NaN values': {nan_count}\")"
   ]
  },
  {
   "cell_type": "code",
   "execution_count": 33,
   "id": "48fa0bc2-7581-4652-86b6-41f129390b9e",
   "metadata": {},
   "outputs": [
    {
     "name": "stdout",
     "output_type": "stream",
     "text": [
      "         Disability  Food  Shelter  Relatives\n",
      "0               2.0   2.0      2.0        1.0\n",
      "1               1.0   2.0      2.0        1.0\n",
      "2               2.0   2.0      2.0        1.0\n",
      "3               2.0   2.0      2.0        1.0\n",
      "4               1.0   2.0      2.0        1.0\n",
      "...             ...   ...      ...        ...\n",
      "2594084         2.0   1.0      1.0        1.0\n",
      "2594085         2.0   1.0      1.0        1.0\n",
      "2594086         2.0   1.0      1.0        1.0\n",
      "2594087         2.0   1.0      1.0        1.0\n",
      "2594088         2.0   1.0      1.0        1.0\n",
      "\n",
      "[2594089 rows x 4 columns]\n"
     ]
    }
   ],
   "source": [
    "Droped_datasetdf['Relatives'] = Droped_datasetdf['Relatives'].replace({3: 2, 4: 2})\n",
    "Droped_datasetdf['Relatives'] = Droped_datasetdf['Relatives'].fillna(2)\n",
    "Droped_new_df['Relatives'] = Droped_datasetdf['Relatives']\n",
    "print(Droped_new_df)"
   ]
  },
  {
   "cell_type": "markdown",
   "id": "bff177f2-917c-4f63-9a78-4eb9968dee46",
   "metadata": {},
   "source": [
    "#### WP30: Satisfy_life"
   ]
  },
  {
   "cell_type": "code",
   "execution_count": 34,
   "id": "c3d7712f-60bb-4971-9de9-46f0547af78c",
   "metadata": {},
   "outputs": [],
   "source": [
    "Droped_datasetdf['Satisfy_life'] = Droped_datasetdf['WP30']"
   ]
  },
  {
   "cell_type": "code",
   "execution_count": 35,
   "id": "070a2b93-c04f-4c68-b4d0-9574535786e0",
   "metadata": {
    "scrolled": true
   },
   "outputs": [
    {
     "data": {
      "text/plain": [
       "Satisfy_life\n",
       "1.0    1534279\n",
       "2.0     892657\n",
       "3.0      33011\n",
       "4.0       4997\n",
       "Name: count, dtype: int64"
      ]
     },
     "execution_count": 35,
     "metadata": {},
     "output_type": "execute_result"
    }
   ],
   "source": [
    "Droped_datasetdf['Satisfy_life'].value_counts().sort_index()"
   ]
  },
  {
   "cell_type": "code",
   "execution_count": 36,
   "id": "4acf756f-84d1-4cad-8fb8-ab50e47c6f47",
   "metadata": {},
   "outputs": [
    {
     "name": "stdout",
     "output_type": "stream",
     "text": [
      "Number of NaN values': 129145\n"
     ]
    }
   ],
   "source": [
    "nan_count = Droped_datasetdf['Satisfy_life'].isna().sum()\n",
    "print(f\"Number of NaN values': {nan_count}\")"
   ]
  },
  {
   "cell_type": "code",
   "execution_count": 37,
   "id": "80858754-6ae1-4ea6-a3cd-6df33df6891c",
   "metadata": {},
   "outputs": [
    {
     "name": "stdout",
     "output_type": "stream",
     "text": [
      "         Disability  Food  Shelter  Relatives  Satisfy_life\n",
      "0               2.0   2.0      2.0        1.0           1.0\n",
      "1               1.0   2.0      2.0        1.0           1.0\n",
      "2               2.0   2.0      2.0        1.0           1.0\n",
      "3               2.0   2.0      2.0        1.0           1.0\n",
      "4               1.0   2.0      2.0        1.0           1.0\n",
      "...             ...   ...      ...        ...           ...\n",
      "2594084         2.0   1.0      1.0        1.0           2.0\n",
      "2594085         2.0   1.0      1.0        1.0           2.0\n",
      "2594086         2.0   1.0      1.0        1.0           2.0\n",
      "2594087         2.0   1.0      1.0        1.0           1.0\n",
      "2594088         2.0   1.0      1.0        1.0           2.0\n",
      "\n",
      "[2594089 rows x 5 columns]\n"
     ]
    }
   ],
   "source": [
    "Droped_datasetdf['Satisfy_life'] = Droped_datasetdf['Satisfy_life'].replace({3: 2, 4: 2})\n",
    "Droped_datasetdf['Satisfy_life'] = Droped_datasetdf['Satisfy_life'].fillna(2)\n",
    "Droped_new_df['Satisfy_life'] = Droped_datasetdf['Satisfy_life']\n",
    "print(Droped_new_df)"
   ]
  },
  {
   "cell_type": "markdown",
   "id": "4b6855c6-ad1f-4daa-b015-c57293f83d20",
   "metadata": {},
   "source": [
    "#### WP60:Wellrested"
   ]
  },
  {
   "cell_type": "code",
   "execution_count": 38,
   "id": "747ba354-5daa-4b78-bba9-ff9bc1a7ac23",
   "metadata": {},
   "outputs": [],
   "source": [
    "Droped_datasetdf['Wellrested'] = Droped_datasetdf['WP60']"
   ]
  },
  {
   "cell_type": "code",
   "execution_count": 39,
   "id": "b1811e04-72b2-4f14-9ddb-965e18b0e3ef",
   "metadata": {
    "scrolled": true
   },
   "outputs": [
    {
     "data": {
      "text/plain": [
       "Wellrested\n",
       "1.0    1689902\n",
       "2.0     797911\n",
       "3.0      16843\n",
       "4.0       3062\n",
       "Name: count, dtype: int64"
      ]
     },
     "execution_count": 39,
     "metadata": {},
     "output_type": "execute_result"
    }
   ],
   "source": [
    "Droped_datasetdf['Wellrested'].value_counts().sort_index()"
   ]
  },
  {
   "cell_type": "code",
   "execution_count": 40,
   "id": "a62d4f5a-3e5c-4b2c-b8ce-9d3336017c84",
   "metadata": {},
   "outputs": [
    {
     "name": "stdout",
     "output_type": "stream",
     "text": [
      "Number of NaN values': 86371\n"
     ]
    }
   ],
   "source": [
    "nan_count = Droped_datasetdf['Wellrested'].isna().sum()\n",
    "print(f\"Number of NaN values': {nan_count}\")"
   ]
  },
  {
   "cell_type": "code",
   "execution_count": 41,
   "id": "618265bb-5469-46fc-af26-324c44f6e9b5",
   "metadata": {},
   "outputs": [
    {
     "name": "stdout",
     "output_type": "stream",
     "text": [
      "         Disability  Food  Shelter  Relatives  Satisfy_life  Wellrested\n",
      "0               2.0   2.0      2.0        1.0           1.0         2.0\n",
      "1               1.0   2.0      2.0        1.0           1.0         2.0\n",
      "2               2.0   2.0      2.0        1.0           1.0         1.0\n",
      "3               2.0   2.0      2.0        1.0           1.0         1.0\n",
      "4               1.0   2.0      2.0        1.0           1.0         1.0\n",
      "...             ...   ...      ...        ...           ...         ...\n",
      "2594084         2.0   1.0      1.0        1.0           2.0         2.0\n",
      "2594085         2.0   1.0      1.0        1.0           2.0         1.0\n",
      "2594086         2.0   1.0      1.0        1.0           2.0         1.0\n",
      "2594087         2.0   1.0      1.0        1.0           1.0         1.0\n",
      "2594088         2.0   1.0      1.0        1.0           2.0         2.0\n",
      "\n",
      "[2594089 rows x 6 columns]\n"
     ]
    }
   ],
   "source": [
    "Droped_datasetdf['Wellrested'] = Droped_datasetdf['Wellrested'].replace({3: 2, 4: 2})\n",
    "Droped_datasetdf['Wellrested'] = Droped_datasetdf['Wellrested'].fillna(2)\n",
    "Droped_new_df['Wellrested'] = Droped_datasetdf['Wellrested']\n",
    "print(Droped_new_df)"
   ]
  },
  {
   "cell_type": "markdown",
   "id": "dc113d50-2c8d-4871-a39c-78458a621ba2",
   "metadata": {},
   "source": [
    "#### WP61 :Treated_respect"
   ]
  },
  {
   "cell_type": "code",
   "execution_count": 42,
   "id": "f0fa3cbe-61a3-4721-baeb-5efb112e8117",
   "metadata": {},
   "outputs": [],
   "source": [
    "Droped_datasetdf['Treated_respect'] = Droped_datasetdf['WP61']"
   ]
  },
  {
   "cell_type": "code",
   "execution_count": 43,
   "id": "e57d186e-05df-4dd5-a772-58f7be97533d",
   "metadata": {
    "scrolled": true
   },
   "outputs": [
    {
     "data": {
      "text/plain": [
       "Treated_respect\n",
       "1.0    2171561\n",
       "2.0     303734\n",
       "3.0      46140\n",
       "4.0       5278\n",
       "Name: count, dtype: int64"
      ]
     },
     "execution_count": 43,
     "metadata": {},
     "output_type": "execute_result"
    }
   ],
   "source": [
    "Droped_datasetdf['Treated_respect'].value_counts().sort_index()"
   ]
  },
  {
   "cell_type": "code",
   "execution_count": 44,
   "id": "172b341f-934a-4dde-b304-5d6802d86d61",
   "metadata": {},
   "outputs": [
    {
     "name": "stdout",
     "output_type": "stream",
     "text": [
      "Number of NaN values': 67376\n"
     ]
    }
   ],
   "source": [
    "nan_count = Droped_datasetdf['Treated_respect'].isna().sum()\n",
    "print(f\"Number of NaN values': {nan_count}\")"
   ]
  },
  {
   "cell_type": "code",
   "execution_count": 45,
   "id": "4da6d047-c836-4abd-87ba-231290e65f11",
   "metadata": {},
   "outputs": [
    {
     "name": "stdout",
     "output_type": "stream",
     "text": [
      "         Disability  Food  Shelter  Relatives  Satisfy_life  Wellrested  \\\n",
      "0               2.0   2.0      2.0        1.0           1.0         2.0   \n",
      "1               1.0   2.0      2.0        1.0           1.0         2.0   \n",
      "2               2.0   2.0      2.0        1.0           1.0         1.0   \n",
      "3               2.0   2.0      2.0        1.0           1.0         1.0   \n",
      "4               1.0   2.0      2.0        1.0           1.0         1.0   \n",
      "...             ...   ...      ...        ...           ...         ...   \n",
      "2594084         2.0   1.0      1.0        1.0           2.0         2.0   \n",
      "2594085         2.0   1.0      1.0        1.0           2.0         1.0   \n",
      "2594086         2.0   1.0      1.0        1.0           2.0         1.0   \n",
      "2594087         2.0   1.0      1.0        1.0           1.0         1.0   \n",
      "2594088         2.0   1.0      1.0        1.0           2.0         2.0   \n",
      "\n",
      "         Treated_respect  \n",
      "0                    1.0  \n",
      "1                    1.0  \n",
      "2                    1.0  \n",
      "3                    1.0  \n",
      "4                    1.0  \n",
      "...                  ...  \n",
      "2594084              2.0  \n",
      "2594085              1.0  \n",
      "2594086              1.0  \n",
      "2594087              1.0  \n",
      "2594088              1.0  \n",
      "\n",
      "[2594089 rows x 7 columns]\n"
     ]
    }
   ],
   "source": [
    "Droped_datasetdf['Treated_respect'] = Droped_datasetdf['Treated_respect'].replace({3: 2, 4: 2})\n",
    "Droped_datasetdf['Treated_respect'] = Droped_datasetdf['Treated_respect'].fillna(2)\n",
    "Droped_new_df['Treated_respect'] = Droped_datasetdf['Treated_respect']\n",
    "print(Droped_new_df)"
   ]
  },
  {
   "cell_type": "markdown",
   "id": "4bed60c4-ed4e-4a64-aaf3-ce62c6267fe1",
   "metadata": {},
   "source": [
    "#### WP63:Smile_Laugh"
   ]
  },
  {
   "cell_type": "code",
   "execution_count": 46,
   "id": "c6fb4d8d-d81c-4c9d-8306-a3a9676057e0",
   "metadata": {},
   "outputs": [],
   "source": [
    "Droped_datasetdf['Smile_Laugh'] = Droped_datasetdf['WP63']"
   ]
  },
  {
   "cell_type": "code",
   "execution_count": 47,
   "id": "86b99cc7-2439-4c86-a4b7-a720006944c5",
   "metadata": {
    "scrolled": true
   },
   "outputs": [
    {
     "data": {
      "text/plain": [
       "Smile_Laugh\n",
       "1.0    1757077\n",
       "2.0     685803\n",
       "3.0      42157\n",
       "4.0       4653\n",
       "Name: count, dtype: int64"
      ]
     },
     "execution_count": 47,
     "metadata": {},
     "output_type": "execute_result"
    }
   ],
   "source": [
    "Droped_datasetdf['Smile_Laugh'].value_counts().sort_index()"
   ]
  },
  {
   "cell_type": "code",
   "execution_count": 48,
   "id": "decd42a6-c0b8-4e64-8a8d-92eb4f5818d4",
   "metadata": {},
   "outputs": [
    {
     "name": "stdout",
     "output_type": "stream",
     "text": [
      "Number of NaN values': 104399\n"
     ]
    }
   ],
   "source": [
    "nan_count = Droped_datasetdf['Smile_Laugh'].isna().sum()\n",
    "print(f\"Number of NaN values': {nan_count}\")"
   ]
  },
  {
   "cell_type": "code",
   "execution_count": 49,
   "id": "53a7949d-f94f-472a-90a3-1e4f2f1e411b",
   "metadata": {},
   "outputs": [
    {
     "name": "stdout",
     "output_type": "stream",
     "text": [
      "         Disability  Food  Shelter  Relatives  Satisfy_life  Wellrested  \\\n",
      "0               2.0   2.0      2.0        1.0           1.0         2.0   \n",
      "1               1.0   2.0      2.0        1.0           1.0         2.0   \n",
      "2               2.0   2.0      2.0        1.0           1.0         1.0   \n",
      "3               2.0   2.0      2.0        1.0           1.0         1.0   \n",
      "4               1.0   2.0      2.0        1.0           1.0         1.0   \n",
      "...             ...   ...      ...        ...           ...         ...   \n",
      "2594084         2.0   1.0      1.0        1.0           2.0         2.0   \n",
      "2594085         2.0   1.0      1.0        1.0           2.0         1.0   \n",
      "2594086         2.0   1.0      1.0        1.0           2.0         1.0   \n",
      "2594087         2.0   1.0      1.0        1.0           1.0         1.0   \n",
      "2594088         2.0   1.0      1.0        1.0           2.0         2.0   \n",
      "\n",
      "         Treated_respect  Smile_Laugh  \n",
      "0                    1.0          1.0  \n",
      "1                    1.0          1.0  \n",
      "2                    1.0          1.0  \n",
      "3                    1.0          1.0  \n",
      "4                    1.0          1.0  \n",
      "...                  ...          ...  \n",
      "2594084              2.0          2.0  \n",
      "2594085              1.0          2.0  \n",
      "2594086              1.0          2.0  \n",
      "2594087              1.0          1.0  \n",
      "2594088              1.0          1.0  \n",
      "\n",
      "[2594089 rows x 8 columns]\n"
     ]
    }
   ],
   "source": [
    "Droped_datasetdf['Smile_Laugh'] = Droped_datasetdf['Smile_Laugh'].replace({3: 2, 4: 2})\n",
    "Droped_datasetdf['Smile_Laugh'] = Droped_datasetdf['Smile_Laugh'].fillna(2)\n",
    "Droped_new_df['Smile_Laugh'] = Droped_datasetdf['Smile_Laugh']\n",
    "print(Droped_new_df)"
   ]
  },
  {
   "cell_type": "markdown",
   "id": "2d1fa00a-b343-489d-89a5-763b3ad9e064",
   "metadata": {},
   "source": [
    "#### WP65:Learn_interesting"
   ]
  },
  {
   "cell_type": "code",
   "execution_count": 50,
   "id": "20f9e94c-07c8-48e4-8c4b-37658805f226",
   "metadata": {},
   "outputs": [],
   "source": [
    "Droped_datasetdf['Learn_interesting'] = Droped_datasetdf['WP65']"
   ]
  },
  {
   "cell_type": "code",
   "execution_count": 51,
   "id": "e2284608-3cb4-4f32-9893-dbb3bc0875c1",
   "metadata": {
    "scrolled": true
   },
   "outputs": [
    {
     "data": {
      "text/plain": [
       "Learn_interesting\n",
       "1.0    1312341\n",
       "2.0    1167576\n",
       "3.0      40270\n",
       "4.0       4512\n",
       "Name: count, dtype: int64"
      ]
     },
     "execution_count": 51,
     "metadata": {},
     "output_type": "execute_result"
    }
   ],
   "source": [
    "Droped_datasetdf['Learn_interesting'].value_counts().sort_index()"
   ]
  },
  {
   "cell_type": "code",
   "execution_count": 52,
   "id": "6f528864-b9b0-4bda-8b76-9148f9096bc7",
   "metadata": {},
   "outputs": [
    {
     "name": "stdout",
     "output_type": "stream",
     "text": [
      "Number of NaN values': 69390\n"
     ]
    }
   ],
   "source": [
    "nan_count = Droped_datasetdf['Learn_interesting'].isna().sum()\n",
    "print(f\"Number of NaN values': {nan_count}\")"
   ]
  },
  {
   "cell_type": "code",
   "execution_count": 53,
   "id": "0b5fcb72-bf0f-4a25-9e46-ee0d3981cedd",
   "metadata": {},
   "outputs": [
    {
     "name": "stdout",
     "output_type": "stream",
     "text": [
      "         Disability  Food  Shelter  Relatives  Satisfy_life  Wellrested  \\\n",
      "0               2.0   2.0      2.0        1.0           1.0         2.0   \n",
      "1               1.0   2.0      2.0        1.0           1.0         2.0   \n",
      "2               2.0   2.0      2.0        1.0           1.0         1.0   \n",
      "3               2.0   2.0      2.0        1.0           1.0         1.0   \n",
      "4               1.0   2.0      2.0        1.0           1.0         1.0   \n",
      "...             ...   ...      ...        ...           ...         ...   \n",
      "2594084         2.0   1.0      1.0        1.0           2.0         2.0   \n",
      "2594085         2.0   1.0      1.0        1.0           2.0         1.0   \n",
      "2594086         2.0   1.0      1.0        1.0           2.0         1.0   \n",
      "2594087         2.0   1.0      1.0        1.0           1.0         1.0   \n",
      "2594088         2.0   1.0      1.0        1.0           2.0         2.0   \n",
      "\n",
      "         Treated_respect  Smile_Laugh  Learn_interesting  \n",
      "0                    1.0          1.0                2.0  \n",
      "1                    1.0          1.0                1.0  \n",
      "2                    1.0          1.0                1.0  \n",
      "3                    1.0          1.0                2.0  \n",
      "4                    1.0          1.0                2.0  \n",
      "...                  ...          ...                ...  \n",
      "2594084              2.0          2.0                1.0  \n",
      "2594085              1.0          2.0                1.0  \n",
      "2594086              1.0          2.0                2.0  \n",
      "2594087              1.0          1.0                2.0  \n",
      "2594088              1.0          1.0                2.0  \n",
      "\n",
      "[2594089 rows x 9 columns]\n"
     ]
    }
   ],
   "source": [
    "Droped_datasetdf['Learn_interesting'] = Droped_datasetdf['Learn_interesting'].replace({3: 2, 4: 2})\n",
    "Droped_datasetdf['Learn_interesting'] = Droped_datasetdf['Learn_interesting'].fillna(2)\n",
    "Droped_new_df['Learn_interesting'] = Droped_datasetdf['Learn_interesting']\n",
    "print(Droped_new_df)"
   ]
  },
  {
   "cell_type": "markdown",
   "id": "f83da6b7-62d3-45fc-b740-17740e04137b",
   "metadata": {},
   "source": [
    "#### WP67:Enjoyment"
   ]
  },
  {
   "cell_type": "code",
   "execution_count": 54,
   "id": "8f49a4b6-178f-48e8-9d46-0f5211a6a874",
   "metadata": {},
   "outputs": [],
   "source": [
    "Droped_datasetdf['Enjoyment'] = Droped_datasetdf['WP67']"
   ]
  },
  {
   "cell_type": "code",
   "execution_count": 55,
   "id": "574988ec-d72b-4983-be5b-5e76b46ccbc2",
   "metadata": {
    "scrolled": true
   },
   "outputs": [
    {
     "data": {
      "text/plain": [
       "Enjoyment\n",
       "1.0    1742266\n",
       "2.0     742346\n",
       "3.0      30938\n",
       "4.0       4506\n",
       "Name: count, dtype: int64"
      ]
     },
     "execution_count": 55,
     "metadata": {},
     "output_type": "execute_result"
    }
   ],
   "source": [
    "Droped_datasetdf['Enjoyment'].value_counts().sort_index()"
   ]
  },
  {
   "cell_type": "code",
   "execution_count": 56,
   "id": "37c581e3-6d4a-42a2-a1dd-4f60ba967556",
   "metadata": {},
   "outputs": [
    {
     "name": "stdout",
     "output_type": "stream",
     "text": [
      "Number of NaN values': 74033\n"
     ]
    }
   ],
   "source": [
    "nan_count = Droped_datasetdf['Enjoyment'].isna().sum()\n",
    "print(f\"Number of NaN values': {nan_count}\")"
   ]
  },
  {
   "cell_type": "code",
   "execution_count": 57,
   "id": "d64a1986-76f3-4d3e-9cfe-d97e350448b4",
   "metadata": {},
   "outputs": [
    {
     "name": "stdout",
     "output_type": "stream",
     "text": [
      "         Disability  Food  Shelter  Relatives  Satisfy_life  Wellrested  \\\n",
      "0               2.0   2.0      2.0        1.0           1.0         2.0   \n",
      "1               1.0   2.0      2.0        1.0           1.0         2.0   \n",
      "2               2.0   2.0      2.0        1.0           1.0         1.0   \n",
      "3               2.0   2.0      2.0        1.0           1.0         1.0   \n",
      "4               1.0   2.0      2.0        1.0           1.0         1.0   \n",
      "...             ...   ...      ...        ...           ...         ...   \n",
      "2594084         2.0   1.0      1.0        1.0           2.0         2.0   \n",
      "2594085         2.0   1.0      1.0        1.0           2.0         1.0   \n",
      "2594086         2.0   1.0      1.0        1.0           2.0         1.0   \n",
      "2594087         2.0   1.0      1.0        1.0           1.0         1.0   \n",
      "2594088         2.0   1.0      1.0        1.0           2.0         2.0   \n",
      "\n",
      "         Treated_respect  Smile_Laugh  Learn_interesting  Enjoyment  \n",
      "0                    1.0          1.0                2.0        1.0  \n",
      "1                    1.0          1.0                1.0        1.0  \n",
      "2                    1.0          1.0                1.0        1.0  \n",
      "3                    1.0          1.0                2.0        1.0  \n",
      "4                    1.0          1.0                2.0        1.0  \n",
      "...                  ...          ...                ...        ...  \n",
      "2594084              2.0          2.0                1.0        2.0  \n",
      "2594085              1.0          2.0                1.0        1.0  \n",
      "2594086              1.0          2.0                2.0        1.0  \n",
      "2594087              1.0          1.0                2.0        1.0  \n",
      "2594088              1.0          1.0                2.0        2.0  \n",
      "\n",
      "[2594089 rows x 10 columns]\n"
     ]
    }
   ],
   "source": [
    "Droped_datasetdf['Enjoyment'] = Droped_datasetdf['Enjoyment'].replace({3: 2, 4: 2})\n",
    "Droped_datasetdf['Enjoyment'] = Droped_datasetdf['Enjoyment'].fillna(2)\n",
    "Droped_new_df['Enjoyment'] = Droped_datasetdf['Enjoyment']\n",
    "print(Droped_new_df)"
   ]
  },
  {
   "cell_type": "markdown",
   "id": "cd6d771f-d2af-44de-acf1-5a39191b86e7",
   "metadata": {},
   "source": [
    "#### WP68:Physical_pain"
   ]
  },
  {
   "cell_type": "code",
   "execution_count": 58,
   "id": "93ff25b0-5060-403b-a22d-0d955d5e9900",
   "metadata": {},
   "outputs": [],
   "source": [
    "Droped_datasetdf['Physical_pain'] = Droped_datasetdf['WP68']"
   ]
  },
  {
   "cell_type": "code",
   "execution_count": 59,
   "id": "c5a99fb6-b40e-4b66-95c1-edf0ed52b5b5",
   "metadata": {
    "scrolled": true
   },
   "outputs": [
    {
     "data": {
      "text/plain": [
       "Physical_pain\n",
       "1.0     756320\n",
       "2.0    1738797\n",
       "3.0      10319\n",
       "4.0       2932\n",
       "Name: count, dtype: int64"
      ]
     },
     "execution_count": 59,
     "metadata": {},
     "output_type": "execute_result"
    }
   ],
   "source": [
    "Droped_datasetdf['Physical_pain'].value_counts().sort_index()"
   ]
  },
  {
   "cell_type": "code",
   "execution_count": 60,
   "id": "eb4024f0-2730-4797-bd74-45b334de2106",
   "metadata": {},
   "outputs": [
    {
     "name": "stdout",
     "output_type": "stream",
     "text": [
      "Number of NaN values': 85721\n"
     ]
    }
   ],
   "source": [
    "nan_count = Droped_datasetdf['Physical_pain'].isna().sum()\n",
    "print(f\"Number of NaN values': {nan_count}\")"
   ]
  },
  {
   "cell_type": "code",
   "execution_count": 61,
   "id": "133ae212-9469-43a8-aea9-9091b4737eda",
   "metadata": {},
   "outputs": [
    {
     "name": "stdout",
     "output_type": "stream",
     "text": [
      "         Disability  Food  Shelter  Relatives  Satisfy_life  Wellrested  \\\n",
      "0               2.0   2.0      2.0        1.0           1.0         2.0   \n",
      "1               1.0   2.0      2.0        1.0           1.0         2.0   \n",
      "2               2.0   2.0      2.0        1.0           1.0         1.0   \n",
      "3               2.0   2.0      2.0        1.0           1.0         1.0   \n",
      "4               1.0   2.0      2.0        1.0           1.0         1.0   \n",
      "...             ...   ...      ...        ...           ...         ...   \n",
      "2594084         2.0   1.0      1.0        1.0           2.0         2.0   \n",
      "2594085         2.0   1.0      1.0        1.0           2.0         1.0   \n",
      "2594086         2.0   1.0      1.0        1.0           2.0         1.0   \n",
      "2594087         2.0   1.0      1.0        1.0           1.0         1.0   \n",
      "2594088         2.0   1.0      1.0        1.0           2.0         2.0   \n",
      "\n",
      "         Treated_respect  Smile_Laugh  Learn_interesting  Enjoyment  \\\n",
      "0                    1.0          1.0                2.0        1.0   \n",
      "1                    1.0          1.0                1.0        1.0   \n",
      "2                    1.0          1.0                1.0        1.0   \n",
      "3                    1.0          1.0                2.0        1.0   \n",
      "4                    1.0          1.0                2.0        1.0   \n",
      "...                  ...          ...                ...        ...   \n",
      "2594084              2.0          2.0                1.0        2.0   \n",
      "2594085              1.0          2.0                1.0        1.0   \n",
      "2594086              1.0          2.0                2.0        1.0   \n",
      "2594087              1.0          1.0                2.0        1.0   \n",
      "2594088              1.0          1.0                2.0        2.0   \n",
      "\n",
      "         Physical_pain  \n",
      "0                  2.0  \n",
      "1                  2.0  \n",
      "2                  2.0  \n",
      "3                  2.0  \n",
      "4                  2.0  \n",
      "...                ...  \n",
      "2594084            2.0  \n",
      "2594085            1.0  \n",
      "2594086            2.0  \n",
      "2594087            2.0  \n",
      "2594088            1.0  \n",
      "\n",
      "[2594089 rows x 11 columns]\n"
     ]
    }
   ],
   "source": [
    "Droped_datasetdf['Physical_pain'] = Droped_datasetdf['Physical_pain'].replace({3: 2, 4: 2})\n",
    "Droped_datasetdf['Physical_pain'] = Droped_datasetdf['Physical_pain'].fillna(2)\n",
    "Droped_new_df['Physical_pain'] = Droped_datasetdf['Physical_pain']\n",
    "print(Droped_new_df)"
   ]
  },
  {
   "cell_type": "markdown",
   "id": "5ebbfc56-d576-4238-9efe-0fdce4673a3b",
   "metadata": {},
   "source": [
    "#### WP69: Worry"
   ]
  },
  {
   "cell_type": "code",
   "execution_count": 62,
   "id": "80b4e3c5-ccff-4d37-97ac-cb286eb3241f",
   "metadata": {},
   "outputs": [],
   "source": [
    "Droped_datasetdf['Worry'] = Droped_datasetdf['WP69']"
   ]
  },
  {
   "cell_type": "code",
   "execution_count": 63,
   "id": "2c7368b2-b0fd-4b26-ac6d-8f594ca887d8",
   "metadata": {
    "scrolled": true
   },
   "outputs": [
    {
     "data": {
      "text/plain": [
       "Worry\n",
       "1.0     931583\n",
       "2.0    1561149\n",
       "3.0      15404\n",
       "4.0       3260\n",
       "Name: count, dtype: int64"
      ]
     },
     "execution_count": 63,
     "metadata": {},
     "output_type": "execute_result"
    }
   ],
   "source": [
    "Droped_datasetdf['Worry'].value_counts().sort_index()"
   ]
  },
  {
   "cell_type": "code",
   "execution_count": 64,
   "id": "97a09889-15bb-4777-835c-ec2445ca74d3",
   "metadata": {},
   "outputs": [
    {
     "name": "stdout",
     "output_type": "stream",
     "text": [
      "Number of NaN values': 82693\n"
     ]
    }
   ],
   "source": [
    "nan_count = Droped_datasetdf['Worry'].isna().sum()\n",
    "print(f\"Number of NaN values': {nan_count}\")"
   ]
  },
  {
   "cell_type": "code",
   "execution_count": 65,
   "id": "173f389a-d9a9-4431-ad40-06bef57cdc15",
   "metadata": {},
   "outputs": [
    {
     "name": "stdout",
     "output_type": "stream",
     "text": [
      "         Disability  Food  Shelter  Relatives  Satisfy_life  Wellrested  \\\n",
      "0               2.0   2.0      2.0        1.0           1.0         2.0   \n",
      "1               1.0   2.0      2.0        1.0           1.0         2.0   \n",
      "2               2.0   2.0      2.0        1.0           1.0         1.0   \n",
      "3               2.0   2.0      2.0        1.0           1.0         1.0   \n",
      "4               1.0   2.0      2.0        1.0           1.0         1.0   \n",
      "...             ...   ...      ...        ...           ...         ...   \n",
      "2594084         2.0   1.0      1.0        1.0           2.0         2.0   \n",
      "2594085         2.0   1.0      1.0        1.0           2.0         1.0   \n",
      "2594086         2.0   1.0      1.0        1.0           2.0         1.0   \n",
      "2594087         2.0   1.0      1.0        1.0           1.0         1.0   \n",
      "2594088         2.0   1.0      1.0        1.0           2.0         2.0   \n",
      "\n",
      "         Treated_respect  Smile_Laugh  Learn_interesting  Enjoyment  \\\n",
      "0                    1.0          1.0                2.0        1.0   \n",
      "1                    1.0          1.0                1.0        1.0   \n",
      "2                    1.0          1.0                1.0        1.0   \n",
      "3                    1.0          1.0                2.0        1.0   \n",
      "4                    1.0          1.0                2.0        1.0   \n",
      "...                  ...          ...                ...        ...   \n",
      "2594084              2.0          2.0                1.0        2.0   \n",
      "2594085              1.0          2.0                1.0        1.0   \n",
      "2594086              1.0          2.0                2.0        1.0   \n",
      "2594087              1.0          1.0                2.0        1.0   \n",
      "2594088              1.0          1.0                2.0        2.0   \n",
      "\n",
      "         Physical_pain  Worry  \n",
      "0                  2.0    2.0  \n",
      "1                  2.0    2.0  \n",
      "2                  2.0    1.0  \n",
      "3                  2.0    2.0  \n",
      "4                  2.0    2.0  \n",
      "...                ...    ...  \n",
      "2594084            2.0    1.0  \n",
      "2594085            1.0    2.0  \n",
      "2594086            2.0    2.0  \n",
      "2594087            2.0    2.0  \n",
      "2594088            1.0    1.0  \n",
      "\n",
      "[2594089 rows x 12 columns]\n"
     ]
    }
   ],
   "source": [
    "Droped_datasetdf['Worry'] = Droped_datasetdf['Worry'].replace({3: 2, 4: 2})\n",
    "Droped_datasetdf['Worry'] = Droped_datasetdf['Worry'].fillna(2)\n",
    "Droped_new_df['Worry'] = Droped_datasetdf['Worry']\n",
    "print(Droped_new_df)"
   ]
  },
  {
   "cell_type": "markdown",
   "id": "b3282e5e-5b6c-4741-b622-fad0c2d427f4",
   "metadata": {},
   "source": [
    "#### WP70: Sadness"
   ]
  },
  {
   "cell_type": "code",
   "execution_count": 66,
   "id": "2b5cd4c3-3d32-421e-b38b-26fe176b9a28",
   "metadata": {},
   "outputs": [],
   "source": [
    "Droped_datasetdf['Sadness'] = Droped_datasetdf['WP70']"
   ]
  },
  {
   "cell_type": "code",
   "execution_count": 67,
   "id": "1d806eb1-0dc9-45d6-9565-159d704fadb6",
   "metadata": {
    "scrolled": true
   },
   "outputs": [
    {
     "data": {
      "text/plain": [
       "Sadness\n",
       "1.0     577956\n",
       "2.0    1911392\n",
       "3.0      16939\n",
       "4.0       3907\n",
       "Name: count, dtype: int64"
      ]
     },
     "execution_count": 67,
     "metadata": {},
     "output_type": "execute_result"
    }
   ],
   "source": [
    "Droped_datasetdf['Sadness'].value_counts().sort_index()"
   ]
  },
  {
   "cell_type": "code",
   "execution_count": 68,
   "id": "2a6a477d-2493-4a41-a0d8-0080b8e45624",
   "metadata": {},
   "outputs": [
    {
     "name": "stdout",
     "output_type": "stream",
     "text": [
      "Number of NaN values': 83895\n"
     ]
    }
   ],
   "source": [
    "nan_count = Droped_datasetdf['Sadness'].isna().sum()\n",
    "print(f\"Number of NaN values': {nan_count}\")"
   ]
  },
  {
   "cell_type": "code",
   "execution_count": 69,
   "id": "86c5668a-3e76-4949-91fc-9b43db112a00",
   "metadata": {},
   "outputs": [
    {
     "name": "stdout",
     "output_type": "stream",
     "text": [
      "         Disability  Food  Shelter  Relatives  Satisfy_life  Wellrested  \\\n",
      "0               2.0   2.0      2.0        1.0           1.0         2.0   \n",
      "1               1.0   2.0      2.0        1.0           1.0         2.0   \n",
      "2               2.0   2.0      2.0        1.0           1.0         1.0   \n",
      "3               2.0   2.0      2.0        1.0           1.0         1.0   \n",
      "4               1.0   2.0      2.0        1.0           1.0         1.0   \n",
      "...             ...   ...      ...        ...           ...         ...   \n",
      "2594084         2.0   1.0      1.0        1.0           2.0         2.0   \n",
      "2594085         2.0   1.0      1.0        1.0           2.0         1.0   \n",
      "2594086         2.0   1.0      1.0        1.0           2.0         1.0   \n",
      "2594087         2.0   1.0      1.0        1.0           1.0         1.0   \n",
      "2594088         2.0   1.0      1.0        1.0           2.0         2.0   \n",
      "\n",
      "         Treated_respect  Smile_Laugh  Learn_interesting  Enjoyment  \\\n",
      "0                    1.0          1.0                2.0        1.0   \n",
      "1                    1.0          1.0                1.0        1.0   \n",
      "2                    1.0          1.0                1.0        1.0   \n",
      "3                    1.0          1.0                2.0        1.0   \n",
      "4                    1.0          1.0                2.0        1.0   \n",
      "...                  ...          ...                ...        ...   \n",
      "2594084              2.0          2.0                1.0        2.0   \n",
      "2594085              1.0          2.0                1.0        1.0   \n",
      "2594086              1.0          2.0                2.0        1.0   \n",
      "2594087              1.0          1.0                2.0        1.0   \n",
      "2594088              1.0          1.0                2.0        2.0   \n",
      "\n",
      "         Physical_pain  Worry  Sadness  \n",
      "0                  2.0    2.0      2.0  \n",
      "1                  2.0    2.0      2.0  \n",
      "2                  2.0    1.0      2.0  \n",
      "3                  2.0    2.0      2.0  \n",
      "4                  2.0    2.0      2.0  \n",
      "...                ...    ...      ...  \n",
      "2594084            2.0    1.0      1.0  \n",
      "2594085            1.0    2.0      2.0  \n",
      "2594086            2.0    2.0      1.0  \n",
      "2594087            2.0    2.0      2.0  \n",
      "2594088            1.0    1.0      1.0  \n",
      "\n",
      "[2594089 rows x 13 columns]\n"
     ]
    }
   ],
   "source": [
    "Droped_datasetdf['Sadness'] = Droped_datasetdf['Sadness'].replace({3: 2, 4: 2})\n",
    "Droped_datasetdf['Sadness'] = Droped_datasetdf['Sadness'].fillna(2)\n",
    "Droped_new_df['Sadness'] = Droped_datasetdf['Sadness']\n",
    "print(Droped_new_df)"
   ]
  },
  {
   "cell_type": "markdown",
   "id": "6e23a51e-8f04-4921-b0f3-8bd9ebc1eaf4",
   "metadata": {},
   "source": [
    "#### WP71: Stress"
   ]
  },
  {
   "cell_type": "code",
   "execution_count": 70,
   "id": "7955040b-66f7-4146-8045-ca33641325fb",
   "metadata": {},
   "outputs": [],
   "source": [
    "Droped_datasetdf['Stress'] = Droped_datasetdf['WP71']"
   ]
  },
  {
   "cell_type": "code",
   "execution_count": 71,
   "id": "1e1d0e9b-b0e4-406b-850c-f33dc3924136",
   "metadata": {
    "scrolled": true
   },
   "outputs": [
    {
     "data": {
      "text/plain": [
       "Stress\n",
       "1.0     781118\n",
       "2.0    1604772\n",
       "3.0      20033\n",
       "4.0       3417\n",
       "Name: count, dtype: int64"
      ]
     },
     "execution_count": 71,
     "metadata": {},
     "output_type": "execute_result"
    }
   ],
   "source": [
    "Droped_datasetdf['Stress'].value_counts().sort_index()"
   ]
  },
  {
   "cell_type": "code",
   "execution_count": 72,
   "id": "e7846d1e-02ca-4e64-889a-5a78696e0682",
   "metadata": {},
   "outputs": [
    {
     "name": "stdout",
     "output_type": "stream",
     "text": [
      "Number of NaN values': 184749\n"
     ]
    }
   ],
   "source": [
    "nan_count = Droped_datasetdf['Stress'].isna().sum()\n",
    "print(f\"Number of NaN values': {nan_count}\")"
   ]
  },
  {
   "cell_type": "code",
   "execution_count": 73,
   "id": "e4797e02-9913-45c8-b85b-104d5f76424a",
   "metadata": {},
   "outputs": [
    {
     "name": "stdout",
     "output_type": "stream",
     "text": [
      "         Disability  Food  Shelter  Relatives  Satisfy_life  Wellrested  \\\n",
      "0               2.0   2.0      2.0        1.0           1.0         2.0   \n",
      "1               1.0   2.0      2.0        1.0           1.0         2.0   \n",
      "2               2.0   2.0      2.0        1.0           1.0         1.0   \n",
      "3               2.0   2.0      2.0        1.0           1.0         1.0   \n",
      "4               1.0   2.0      2.0        1.0           1.0         1.0   \n",
      "...             ...   ...      ...        ...           ...         ...   \n",
      "2594084         2.0   1.0      1.0        1.0           2.0         2.0   \n",
      "2594085         2.0   1.0      1.0        1.0           2.0         1.0   \n",
      "2594086         2.0   1.0      1.0        1.0           2.0         1.0   \n",
      "2594087         2.0   1.0      1.0        1.0           1.0         1.0   \n",
      "2594088         2.0   1.0      1.0        1.0           2.0         2.0   \n",
      "\n",
      "         Treated_respect  Smile_Laugh  Learn_interesting  Enjoyment  \\\n",
      "0                    1.0          1.0                2.0        1.0   \n",
      "1                    1.0          1.0                1.0        1.0   \n",
      "2                    1.0          1.0                1.0        1.0   \n",
      "3                    1.0          1.0                2.0        1.0   \n",
      "4                    1.0          1.0                2.0        1.0   \n",
      "...                  ...          ...                ...        ...   \n",
      "2594084              2.0          2.0                1.0        2.0   \n",
      "2594085              1.0          2.0                1.0        1.0   \n",
      "2594086              1.0          2.0                2.0        1.0   \n",
      "2594087              1.0          1.0                2.0        1.0   \n",
      "2594088              1.0          1.0                2.0        2.0   \n",
      "\n",
      "         Physical_pain  Worry  Sadness  Stress  \n",
      "0                  2.0    2.0      2.0     2.0  \n",
      "1                  2.0    2.0      2.0     2.0  \n",
      "2                  2.0    1.0      2.0     1.0  \n",
      "3                  2.0    2.0      2.0     2.0  \n",
      "4                  2.0    2.0      2.0     2.0  \n",
      "...                ...    ...      ...     ...  \n",
      "2594084            2.0    1.0      1.0     2.0  \n",
      "2594085            1.0    2.0      2.0     1.0  \n",
      "2594086            2.0    2.0      1.0     1.0  \n",
      "2594087            2.0    2.0      2.0     2.0  \n",
      "2594088            1.0    1.0      1.0     1.0  \n",
      "\n",
      "[2594089 rows x 14 columns]\n"
     ]
    }
   ],
   "source": [
    "Droped_datasetdf['Stress'] = Droped_datasetdf['Stress'].replace({3: 2, 4: 2})\n",
    "Droped_datasetdf['Stress'] = Droped_datasetdf['Stress'].fillna(2)\n",
    "Droped_new_df['Stress'] = Droped_datasetdf['Stress']\n",
    "print(Droped_new_df)"
   ]
  },
  {
   "cell_type": "markdown",
   "id": "d69aa4f3-a565-432d-aba0-9bb8a5eaa3da",
   "metadata": {},
   "source": [
    "#### WP74: Anger"
   ]
  },
  {
   "cell_type": "code",
   "execution_count": 74,
   "id": "b7d0fb9b-6920-48d3-b34f-5cd774f40a4a",
   "metadata": {},
   "outputs": [],
   "source": [
    "Droped_datasetdf['Anger'] = Droped_datasetdf['WP74']"
   ]
  },
  {
   "cell_type": "code",
   "execution_count": 75,
   "id": "e32bcd7e-7b09-4c46-b283-9dc24b5d3b6e",
   "metadata": {
    "scrolled": true
   },
   "outputs": [
    {
     "data": {
      "text/plain": [
       "Anger\n",
       "1.0     498456\n",
       "2.0    1974550\n",
       "3.0      16268\n",
       "4.0       4095\n",
       "Name: count, dtype: int64"
      ]
     },
     "execution_count": 75,
     "metadata": {},
     "output_type": "execute_result"
    }
   ],
   "source": [
    "Droped_datasetdf['Anger'].value_counts().sort_index()"
   ]
  },
  {
   "cell_type": "code",
   "execution_count": 76,
   "id": "4dad5fa2-39fa-44e2-b881-52e68906c93a",
   "metadata": {},
   "outputs": [
    {
     "name": "stdout",
     "output_type": "stream",
     "text": [
      "Number of NaN values': 100720\n"
     ]
    }
   ],
   "source": [
    "nan_count = Droped_datasetdf['Anger'].isna().sum()\n",
    "print(f\"Number of NaN values': {nan_count}\")"
   ]
  },
  {
   "cell_type": "code",
   "execution_count": 77,
   "id": "7ddac372-217e-4059-b2bf-899192fdadd9",
   "metadata": {},
   "outputs": [
    {
     "name": "stdout",
     "output_type": "stream",
     "text": [
      "         Disability  Food  Shelter  Relatives  Satisfy_life  Wellrested  \\\n",
      "0               2.0   2.0      2.0        1.0           1.0         2.0   \n",
      "1               1.0   2.0      2.0        1.0           1.0         2.0   \n",
      "2               2.0   2.0      2.0        1.0           1.0         1.0   \n",
      "3               2.0   2.0      2.0        1.0           1.0         1.0   \n",
      "4               1.0   2.0      2.0        1.0           1.0         1.0   \n",
      "...             ...   ...      ...        ...           ...         ...   \n",
      "2594084         2.0   1.0      1.0        1.0           2.0         2.0   \n",
      "2594085         2.0   1.0      1.0        1.0           2.0         1.0   \n",
      "2594086         2.0   1.0      1.0        1.0           2.0         1.0   \n",
      "2594087         2.0   1.0      1.0        1.0           1.0         1.0   \n",
      "2594088         2.0   1.0      1.0        1.0           2.0         2.0   \n",
      "\n",
      "         Treated_respect  Smile_Laugh  Learn_interesting  Enjoyment  \\\n",
      "0                    1.0          1.0                2.0        1.0   \n",
      "1                    1.0          1.0                1.0        1.0   \n",
      "2                    1.0          1.0                1.0        1.0   \n",
      "3                    1.0          1.0                2.0        1.0   \n",
      "4                    1.0          1.0                2.0        1.0   \n",
      "...                  ...          ...                ...        ...   \n",
      "2594084              2.0          2.0                1.0        2.0   \n",
      "2594085              1.0          2.0                1.0        1.0   \n",
      "2594086              1.0          2.0                2.0        1.0   \n",
      "2594087              1.0          1.0                2.0        1.0   \n",
      "2594088              1.0          1.0                2.0        2.0   \n",
      "\n",
      "         Physical_pain  Worry  Sadness  Stress  Anger  \n",
      "0                  2.0    2.0      2.0     2.0    2.0  \n",
      "1                  2.0    2.0      2.0     2.0    2.0  \n",
      "2                  2.0    1.0      2.0     1.0    2.0  \n",
      "3                  2.0    2.0      2.0     2.0    2.0  \n",
      "4                  2.0    2.0      2.0     2.0    2.0  \n",
      "...                ...    ...      ...     ...    ...  \n",
      "2594084            2.0    1.0      1.0     2.0    1.0  \n",
      "2594085            1.0    2.0      2.0     1.0    2.0  \n",
      "2594086            2.0    2.0      1.0     1.0    2.0  \n",
      "2594087            2.0    2.0      2.0     2.0    2.0  \n",
      "2594088            1.0    1.0      1.0     1.0    1.0  \n",
      "\n",
      "[2594089 rows x 15 columns]\n"
     ]
    }
   ],
   "source": [
    "Droped_datasetdf['Anger'] = Droped_datasetdf['Anger'].replace({3: 2, 4: 2})\n",
    "Droped_datasetdf['Anger'] = Droped_datasetdf['Anger'].fillna(2)\n",
    "Droped_new_df['Anger'] = Droped_datasetdf['Anger']\n",
    "print(Droped_new_df)"
   ]
  },
  {
   "cell_type": "markdown",
   "id": "144ca8d7-335e-43c5-97e3-40d4c8433a0c",
   "metadata": {},
   "source": [
    "#### WP83: Satisfied_city"
   ]
  },
  {
   "cell_type": "code",
   "execution_count": 78,
   "id": "5ce1cfa3-3d1a-486a-a78f-dd060a17d494",
   "metadata": {},
   "outputs": [],
   "source": [
    "Droped_datasetdf['Satisfied_city'] = Droped_datasetdf['WP83']"
   ]
  },
  {
   "cell_type": "code",
   "execution_count": 79,
   "id": "d8b05c55-fd4f-4c43-9b92-86d5066abd55",
   "metadata": {
    "scrolled": true
   },
   "outputs": [
    {
     "data": {
      "text/plain": [
       "Satisfied_city\n",
       "1.0    1871744\n",
       "2.0     507329\n",
       "3.0      26182\n",
       "4.0       3360\n",
       "Name: count, dtype: int64"
      ]
     },
     "execution_count": 79,
     "metadata": {},
     "output_type": "execute_result"
    }
   ],
   "source": [
    "Droped_datasetdf['Satisfied_city'].value_counts().sort_index()"
   ]
  },
  {
   "cell_type": "code",
   "execution_count": 80,
   "id": "62d3983e-ad42-4532-8221-81ab28752aa3",
   "metadata": {},
   "outputs": [
    {
     "name": "stdout",
     "output_type": "stream",
     "text": [
      "Number of NaN values': 185474\n"
     ]
    }
   ],
   "source": [
    "nan_count = Droped_datasetdf['Satisfied_city'].isna().sum()\n",
    "print(f\"Number of NaN values': {nan_count}\")"
   ]
  },
  {
   "cell_type": "code",
   "execution_count": 81,
   "id": "55ec5d75-7eb0-4e50-9755-d6527019f4d2",
   "metadata": {},
   "outputs": [
    {
     "name": "stdout",
     "output_type": "stream",
     "text": [
      "         Disability  Food  Shelter  Relatives  Satisfy_life  Wellrested  \\\n",
      "0               2.0   2.0      2.0        1.0           1.0         2.0   \n",
      "1               1.0   2.0      2.0        1.0           1.0         2.0   \n",
      "2               2.0   2.0      2.0        1.0           1.0         1.0   \n",
      "3               2.0   2.0      2.0        1.0           1.0         1.0   \n",
      "4               1.0   2.0      2.0        1.0           1.0         1.0   \n",
      "...             ...   ...      ...        ...           ...         ...   \n",
      "2594084         2.0   1.0      1.0        1.0           2.0         2.0   \n",
      "2594085         2.0   1.0      1.0        1.0           2.0         1.0   \n",
      "2594086         2.0   1.0      1.0        1.0           2.0         1.0   \n",
      "2594087         2.0   1.0      1.0        1.0           1.0         1.0   \n",
      "2594088         2.0   1.0      1.0        1.0           2.0         2.0   \n",
      "\n",
      "         Treated_respect  Smile_Laugh  Learn_interesting  Enjoyment  \\\n",
      "0                    1.0          1.0                2.0        1.0   \n",
      "1                    1.0          1.0                1.0        1.0   \n",
      "2                    1.0          1.0                1.0        1.0   \n",
      "3                    1.0          1.0                2.0        1.0   \n",
      "4                    1.0          1.0                2.0        1.0   \n",
      "...                  ...          ...                ...        ...   \n",
      "2594084              2.0          2.0                1.0        2.0   \n",
      "2594085              1.0          2.0                1.0        1.0   \n",
      "2594086              1.0          2.0                2.0        1.0   \n",
      "2594087              1.0          1.0                2.0        1.0   \n",
      "2594088              1.0          1.0                2.0        2.0   \n",
      "\n",
      "         Physical_pain  Worry  Sadness  Stress  Anger  Satisfied_city  \n",
      "0                  2.0    2.0      2.0     2.0    2.0             2.0  \n",
      "1                  2.0    2.0      2.0     2.0    2.0             2.0  \n",
      "2                  2.0    1.0      2.0     1.0    2.0             2.0  \n",
      "3                  2.0    2.0      2.0     2.0    2.0             2.0  \n",
      "4                  2.0    2.0      2.0     2.0    2.0             2.0  \n",
      "...                ...    ...      ...     ...    ...             ...  \n",
      "2594084            2.0    1.0      1.0     2.0    1.0             1.0  \n",
      "2594085            1.0    2.0      2.0     1.0    2.0             1.0  \n",
      "2594086            2.0    2.0      1.0     1.0    2.0             1.0  \n",
      "2594087            2.0    2.0      2.0     2.0    2.0             1.0  \n",
      "2594088            1.0    1.0      1.0     1.0    1.0             2.0  \n",
      "\n",
      "[2594089 rows x 16 columns]\n"
     ]
    }
   ],
   "source": [
    "Droped_datasetdf['Satisfied_city'] = Droped_datasetdf['Satisfied_city'].replace({3: 2, 4: 2})\n",
    "Droped_datasetdf['Satisfied_city'] = Droped_datasetdf['Satisfied_city'].fillna(2)\n",
    "Droped_new_df['Satisfied_city'] = Droped_datasetdf['Satisfied_city']\n",
    "print(Droped_new_df)"
   ]
  },
  {
   "cell_type": "markdown",
   "id": "41ce065d-f77a-474b-9ffe-3f1d7f4c1471",
   "metadata": {},
   "source": [
    "#### WP85: Move_city"
   ]
  },
  {
   "cell_type": "code",
   "execution_count": 82,
   "id": "4514b824-dd69-43a8-b06b-23c136a1cf28",
   "metadata": {},
   "outputs": [],
   "source": [
    "Droped_datasetdf['Move_city'] = Droped_datasetdf['WP85']"
   ]
  },
  {
   "cell_type": "code",
   "execution_count": 83,
   "id": "26c5be31-bd30-42b7-90d6-fa61c5c2e459",
   "metadata": {
    "scrolled": true
   },
   "outputs": [
    {
     "data": {
      "text/plain": [
       "Move_city\n",
       "1.0     402175\n",
       "2.0    1802866\n",
       "3.0      75673\n",
       "4.0       3214\n",
       "Name: count, dtype: int64"
      ]
     },
     "execution_count": 83,
     "metadata": {},
     "output_type": "execute_result"
    }
   ],
   "source": [
    "Droped_datasetdf['Move_city'].value_counts().sort_index()"
   ]
  },
  {
   "cell_type": "code",
   "execution_count": 84,
   "id": "4e44eaf4-e6f2-4290-96f7-ec0c97ae2c4c",
   "metadata": {},
   "outputs": [
    {
     "name": "stdout",
     "output_type": "stream",
     "text": [
      "Number of NaN values': 310161\n"
     ]
    }
   ],
   "source": [
    "nan_count = Droped_datasetdf['Move_city'].isna().sum()\n",
    "print(f\"Number of NaN values': {nan_count}\")"
   ]
  },
  {
   "cell_type": "code",
   "execution_count": 85,
   "id": "c8726e8e-4830-4363-a36e-5c75c96a461b",
   "metadata": {},
   "outputs": [
    {
     "name": "stdout",
     "output_type": "stream",
     "text": [
      "         Disability  Food  Shelter  Relatives  Satisfy_life  Wellrested  \\\n",
      "0               2.0   2.0      2.0        1.0           1.0         2.0   \n",
      "1               1.0   2.0      2.0        1.0           1.0         2.0   \n",
      "2               2.0   2.0      2.0        1.0           1.0         1.0   \n",
      "3               2.0   2.0      2.0        1.0           1.0         1.0   \n",
      "4               1.0   2.0      2.0        1.0           1.0         1.0   \n",
      "...             ...   ...      ...        ...           ...         ...   \n",
      "2594084         2.0   1.0      1.0        1.0           2.0         2.0   \n",
      "2594085         2.0   1.0      1.0        1.0           2.0         1.0   \n",
      "2594086         2.0   1.0      1.0        1.0           2.0         1.0   \n",
      "2594087         2.0   1.0      1.0        1.0           1.0         1.0   \n",
      "2594088         2.0   1.0      1.0        1.0           2.0         2.0   \n",
      "\n",
      "         Treated_respect  Smile_Laugh  Learn_interesting  Enjoyment  \\\n",
      "0                    1.0          1.0                2.0        1.0   \n",
      "1                    1.0          1.0                1.0        1.0   \n",
      "2                    1.0          1.0                1.0        1.0   \n",
      "3                    1.0          1.0                2.0        1.0   \n",
      "4                    1.0          1.0                2.0        1.0   \n",
      "...                  ...          ...                ...        ...   \n",
      "2594084              2.0          2.0                1.0        2.0   \n",
      "2594085              1.0          2.0                1.0        1.0   \n",
      "2594086              1.0          2.0                2.0        1.0   \n",
      "2594087              1.0          1.0                2.0        1.0   \n",
      "2594088              1.0          1.0                2.0        2.0   \n",
      "\n",
      "         Physical_pain  Worry  Sadness  Stress  Anger  Satisfied_city  \\\n",
      "0                  2.0    2.0      2.0     2.0    2.0             2.0   \n",
      "1                  2.0    2.0      2.0     2.0    2.0             2.0   \n",
      "2                  2.0    1.0      2.0     1.0    2.0             2.0   \n",
      "3                  2.0    2.0      2.0     2.0    2.0             2.0   \n",
      "4                  2.0    2.0      2.0     2.0    2.0             2.0   \n",
      "...                ...    ...      ...     ...    ...             ...   \n",
      "2594084            2.0    1.0      1.0     2.0    1.0             1.0   \n",
      "2594085            1.0    2.0      2.0     1.0    2.0             1.0   \n",
      "2594086            2.0    2.0      1.0     1.0    2.0             1.0   \n",
      "2594087            2.0    2.0      2.0     2.0    2.0             1.0   \n",
      "2594088            1.0    1.0      1.0     1.0    1.0             2.0   \n",
      "\n",
      "         Move_city  \n",
      "0              2.0  \n",
      "1              2.0  \n",
      "2              2.0  \n",
      "3              2.0  \n",
      "4              2.0  \n",
      "...            ...  \n",
      "2594084        1.0  \n",
      "2594085        1.0  \n",
      "2594086        1.0  \n",
      "2594087        1.0  \n",
      "2594088        1.0  \n",
      "\n",
      "[2594089 rows x 17 columns]\n"
     ]
    }
   ],
   "source": [
    "Droped_datasetdf['Move_city'] = Droped_datasetdf['Move_city'].replace({3: 2, 4: 2})\n",
    "Droped_datasetdf['Move_city'] = Droped_datasetdf['Move_city'].fillna(2)\n",
    "Droped_new_df['Move_city'] = Droped_datasetdf['Move_city']\n",
    "print(Droped_new_df)"
   ]
  },
  {
   "cell_type": "markdown",
   "id": "75622df2-cbbf-4176-9cb8-e8bec7cd0d0f",
   "metadata": {},
   "source": [
    "#### WP86:Recommend_city"
   ]
  },
  {
   "cell_type": "code",
   "execution_count": 86,
   "id": "494f5d01-30c6-4a03-9956-1a87b8289152",
   "metadata": {},
   "outputs": [],
   "source": [
    "Droped_datasetdf['Recommend_city'] = Droped_datasetdf['WP86']"
   ]
  },
  {
   "cell_type": "code",
   "execution_count": 87,
   "id": "09877f61-548d-4014-b957-dad0d8604ba0",
   "metadata": {
    "scrolled": true
   },
   "outputs": [
    {
     "data": {
      "text/plain": [
       "Recommend_city\n",
       "1.0    1638555\n",
       "2.0     621906\n",
       "3.0      87568\n",
       "4.0       5252\n",
       "Name: count, dtype: int64"
      ]
     },
     "execution_count": 87,
     "metadata": {},
     "output_type": "execute_result"
    }
   ],
   "source": [
    "Droped_datasetdf['Recommend_city'].value_counts().sort_index()"
   ]
  },
  {
   "cell_type": "code",
   "execution_count": 88,
   "id": "ff1b4650-d084-414e-843e-2d82f4471882",
   "metadata": {},
   "outputs": [
    {
     "name": "stdout",
     "output_type": "stream",
     "text": [
      "Number of NaN values': 240808\n"
     ]
    }
   ],
   "source": [
    "nan_count = Droped_datasetdf['Recommend_city'].isna().sum()\n",
    "print(f\"Number of NaN values': {nan_count}\")"
   ]
  },
  {
   "cell_type": "code",
   "execution_count": 89,
   "id": "39302309-e5b6-46ed-b59c-43dd7d805e90",
   "metadata": {},
   "outputs": [
    {
     "name": "stdout",
     "output_type": "stream",
     "text": [
      "         Disability  Food  Shelter  Relatives  Satisfy_life  Wellrested  \\\n",
      "0               2.0   2.0      2.0        1.0           1.0         2.0   \n",
      "1               1.0   2.0      2.0        1.0           1.0         2.0   \n",
      "2               2.0   2.0      2.0        1.0           1.0         1.0   \n",
      "3               2.0   2.0      2.0        1.0           1.0         1.0   \n",
      "4               1.0   2.0      2.0        1.0           1.0         1.0   \n",
      "...             ...   ...      ...        ...           ...         ...   \n",
      "2594084         2.0   1.0      1.0        1.0           2.0         2.0   \n",
      "2594085         2.0   1.0      1.0        1.0           2.0         1.0   \n",
      "2594086         2.0   1.0      1.0        1.0           2.0         1.0   \n",
      "2594087         2.0   1.0      1.0        1.0           1.0         1.0   \n",
      "2594088         2.0   1.0      1.0        1.0           2.0         2.0   \n",
      "\n",
      "         Treated_respect  Smile_Laugh  Learn_interesting  Enjoyment  \\\n",
      "0                    1.0          1.0                2.0        1.0   \n",
      "1                    1.0          1.0                1.0        1.0   \n",
      "2                    1.0          1.0                1.0        1.0   \n",
      "3                    1.0          1.0                2.0        1.0   \n",
      "4                    1.0          1.0                2.0        1.0   \n",
      "...                  ...          ...                ...        ...   \n",
      "2594084              2.0          2.0                1.0        2.0   \n",
      "2594085              1.0          2.0                1.0        1.0   \n",
      "2594086              1.0          2.0                2.0        1.0   \n",
      "2594087              1.0          1.0                2.0        1.0   \n",
      "2594088              1.0          1.0                2.0        2.0   \n",
      "\n",
      "         Physical_pain  Worry  Sadness  Stress  Anger  Satisfied_city  \\\n",
      "0                  2.0    2.0      2.0     2.0    2.0             2.0   \n",
      "1                  2.0    2.0      2.0     2.0    2.0             2.0   \n",
      "2                  2.0    1.0      2.0     1.0    2.0             2.0   \n",
      "3                  2.0    2.0      2.0     2.0    2.0             2.0   \n",
      "4                  2.0    2.0      2.0     2.0    2.0             2.0   \n",
      "...                ...    ...      ...     ...    ...             ...   \n",
      "2594084            2.0    1.0      1.0     2.0    1.0             1.0   \n",
      "2594085            1.0    2.0      2.0     1.0    2.0             1.0   \n",
      "2594086            2.0    2.0      1.0     1.0    2.0             1.0   \n",
      "2594087            2.0    2.0      2.0     2.0    2.0             1.0   \n",
      "2594088            1.0    1.0      1.0     1.0    1.0             2.0   \n",
      "\n",
      "         Move_city  Recommend_city  \n",
      "0              2.0             2.0  \n",
      "1              2.0             2.0  \n",
      "2              2.0             2.0  \n",
      "3              2.0             2.0  \n",
      "4              2.0             2.0  \n",
      "...            ...             ...  \n",
      "2594084        1.0             1.0  \n",
      "2594085        1.0             1.0  \n",
      "2594086        1.0             1.0  \n",
      "2594087        1.0             1.0  \n",
      "2594088        1.0             2.0  \n",
      "\n",
      "[2594089 rows x 18 columns]\n"
     ]
    }
   ],
   "source": [
    "Droped_datasetdf['Recommend_city'] = Droped_datasetdf['Recommend_city'].replace({3: 2, 4: 2})\n",
    "Droped_datasetdf['Recommend_city'] = Droped_datasetdf['Recommend_city'].fillna(2)\n",
    "Droped_new_df['Recommend_city'] = Droped_datasetdf['Recommend_city']\n",
    "print(Droped_new_df)"
   ]
  },
  {
   "cell_type": "markdown",
   "id": "1f4bb2a0-a7ef-4a75-8893-ed87d750da92",
   "metadata": {},
   "source": [
    "#### WP89: Find_job"
   ]
  },
  {
   "cell_type": "code",
   "execution_count": 90,
   "id": "90d8f1c2-fb10-4516-8bc7-40274870a860",
   "metadata": {},
   "outputs": [],
   "source": [
    "Droped_datasetdf['Find_job'] = Droped_datasetdf['WP89']"
   ]
  },
  {
   "cell_type": "code",
   "execution_count": 91,
   "id": "5b8b7ba7-d0b9-4929-b605-a25fd17abe86",
   "metadata": {
    "scrolled": true
   },
   "outputs": [
    {
     "data": {
      "text/plain": [
       "Find_job\n",
       "1.0     825228\n",
       "2.0    1386060\n",
       "3.0     203351\n",
       "4.0       8429\n",
       "Name: count, dtype: int64"
      ]
     },
     "execution_count": 91,
     "metadata": {},
     "output_type": "execute_result"
    }
   ],
   "source": [
    "Droped_datasetdf['Find_job'].value_counts().sort_index()"
   ]
  },
  {
   "cell_type": "code",
   "execution_count": 92,
   "id": "30e7a8ba-60cc-43a9-9624-e2a9d791cd59",
   "metadata": {},
   "outputs": [
    {
     "name": "stdout",
     "output_type": "stream",
     "text": [
      "Number of NaN values': 171021\n"
     ]
    }
   ],
   "source": [
    "nan_count = Droped_datasetdf['Find_job'].isna().sum()\n",
    "print(f\"Number of NaN values': {nan_count}\")"
   ]
  },
  {
   "cell_type": "code",
   "execution_count": 93,
   "id": "b624efa9-a9f0-4d59-bd98-aa449adcedfc",
   "metadata": {},
   "outputs": [
    {
     "name": "stdout",
     "output_type": "stream",
     "text": [
      "         Disability  Food  Shelter  Relatives  Satisfy_life  Wellrested  \\\n",
      "0               2.0   2.0      2.0        1.0           1.0         2.0   \n",
      "1               1.0   2.0      2.0        1.0           1.0         2.0   \n",
      "2               2.0   2.0      2.0        1.0           1.0         1.0   \n",
      "3               2.0   2.0      2.0        1.0           1.0         1.0   \n",
      "4               1.0   2.0      2.0        1.0           1.0         1.0   \n",
      "...             ...   ...      ...        ...           ...         ...   \n",
      "2594084         2.0   1.0      1.0        1.0           2.0         2.0   \n",
      "2594085         2.0   1.0      1.0        1.0           2.0         1.0   \n",
      "2594086         2.0   1.0      1.0        1.0           2.0         1.0   \n",
      "2594087         2.0   1.0      1.0        1.0           1.0         1.0   \n",
      "2594088         2.0   1.0      1.0        1.0           2.0         2.0   \n",
      "\n",
      "         Treated_respect  Smile_Laugh  Learn_interesting  Enjoyment  \\\n",
      "0                    1.0          1.0                2.0        1.0   \n",
      "1                    1.0          1.0                1.0        1.0   \n",
      "2                    1.0          1.0                1.0        1.0   \n",
      "3                    1.0          1.0                2.0        1.0   \n",
      "4                    1.0          1.0                2.0        1.0   \n",
      "...                  ...          ...                ...        ...   \n",
      "2594084              2.0          2.0                1.0        2.0   \n",
      "2594085              1.0          2.0                1.0        1.0   \n",
      "2594086              1.0          2.0                2.0        1.0   \n",
      "2594087              1.0          1.0                2.0        1.0   \n",
      "2594088              1.0          1.0                2.0        2.0   \n",
      "\n",
      "         Physical_pain  Worry  Sadness  Stress  Anger  Satisfied_city  \\\n",
      "0                  2.0    2.0      2.0     2.0    2.0             2.0   \n",
      "1                  2.0    2.0      2.0     2.0    2.0             2.0   \n",
      "2                  2.0    1.0      2.0     1.0    2.0             2.0   \n",
      "3                  2.0    2.0      2.0     2.0    2.0             2.0   \n",
      "4                  2.0    2.0      2.0     2.0    2.0             2.0   \n",
      "...                ...    ...      ...     ...    ...             ...   \n",
      "2594084            2.0    1.0      1.0     2.0    1.0             1.0   \n",
      "2594085            1.0    2.0      2.0     1.0    2.0             1.0   \n",
      "2594086            2.0    2.0      1.0     1.0    2.0             1.0   \n",
      "2594087            2.0    2.0      2.0     2.0    2.0             1.0   \n",
      "2594088            1.0    1.0      1.0     1.0    1.0             2.0   \n",
      "\n",
      "         Move_city  Recommend_city  Find_job  \n",
      "0              2.0             2.0       2.0  \n",
      "1              2.0             2.0       2.0  \n",
      "2              2.0             2.0       2.0  \n",
      "3              2.0             2.0       2.0  \n",
      "4              2.0             2.0       2.0  \n",
      "...            ...             ...       ...  \n",
      "2594084        1.0             1.0       2.0  \n",
      "2594085        1.0             1.0       2.0  \n",
      "2594086        1.0             1.0       2.0  \n",
      "2594087        1.0             1.0       2.0  \n",
      "2594088        1.0             2.0       2.0  \n",
      "\n",
      "[2594089 rows x 19 columns]\n"
     ]
    }
   ],
   "source": [
    "Droped_datasetdf['Find_job'] = Droped_datasetdf['Find_job'].replace({3: 2, 4: 2})\n",
    "Droped_datasetdf['Find_job'] = Droped_datasetdf['Find_job'].fillna(2)\n",
    "Droped_new_df['Find_job'] = Droped_datasetdf['Find_job']\n",
    "print(Droped_new_df)"
   ]
  },
  {
   "cell_type": "markdown",
   "id": "ced854da-2850-471d-bd55-d566a225987e",
   "metadata": {},
   "source": [
    "#### WP91-98,10248: Public_transportation,Roads_highways,Edcuation,Air_quality,Water_quality,Health_care,Good_housing,Friends_make"
   ]
  },
  {
   "cell_type": "code",
   "execution_count": 94,
   "id": "85fe194b-18fb-46a6-8edd-7e8191e67594",
   "metadata": {},
   "outputs": [],
   "source": [
    "Droped_datasetdf['Public_transportation'] = Droped_datasetdf['WP91']"
   ]
  },
  {
   "cell_type": "code",
   "execution_count": 95,
   "id": "44fc6c12-b658-4e66-9687-369d81a5900e",
   "metadata": {},
   "outputs": [],
   "source": [
    "Droped_datasetdf['Roads_highways'] = Droped_datasetdf['WP92']"
   ]
  },
  {
   "cell_type": "code",
   "execution_count": 96,
   "id": "789dc539-6694-4b04-8f1e-50a256eb5011",
   "metadata": {},
   "outputs": [],
   "source": [
    "Droped_datasetdf['Education'] = Droped_datasetdf['WP93']"
   ]
  },
  {
   "cell_type": "code",
   "execution_count": 97,
   "id": "2ad3ad1c-cec2-4873-a206-077fffce7fae",
   "metadata": {},
   "outputs": [],
   "source": [
    "Droped_datasetdf['Air_quality'] = Droped_datasetdf['WP94']"
   ]
  },
  {
   "cell_type": "code",
   "execution_count": 98,
   "id": "a0ec7fbf-e5e4-49fc-9e1d-6354ca2f0b04",
   "metadata": {},
   "outputs": [],
   "source": [
    "Droped_datasetdf['Water_quality'] = Droped_datasetdf['WP95']"
   ]
  },
  {
   "cell_type": "code",
   "execution_count": 99,
   "id": "405c8728-da13-4e73-ae30-2868425bb2d7",
   "metadata": {},
   "outputs": [],
   "source": [
    "Droped_datasetdf['Health_care'] = Droped_datasetdf['WP97']"
   ]
  },
  {
   "cell_type": "code",
   "execution_count": 100,
   "id": "bcb8d261-c062-4179-a51b-00aba31922a4",
   "metadata": {},
   "outputs": [],
   "source": [
    "Droped_datasetdf['Good_housing'] = Droped_datasetdf['WP98']"
   ]
  },
  {
   "cell_type": "code",
   "execution_count": 101,
   "id": "f440e00f-e349-4bad-afd0-bbb860339cb6",
   "metadata": {},
   "outputs": [],
   "source": [
    "Droped_datasetdf['Friends_make'] = Droped_datasetdf['WP10248']"
   ]
  },
  {
   "cell_type": "code",
   "execution_count": 102,
   "id": "4157c324-0b8f-42cc-867c-e8cbc3ab7f27",
   "metadata": {},
   "outputs": [],
   "source": [
    "column_91_10248 = ['Public_transportation','Roads_highways','Education','Air_quality','Water_quality','Health_care','Good_housing','Friends_make']"
   ]
  },
  {
   "cell_type": "code",
   "execution_count": 103,
   "id": "897c0f8a-558d-4f0c-bc83-8c5dc78e5da1",
   "metadata": {},
   "outputs": [
    {
     "data": {
      "text/plain": [
       "Public_transportation  Roads_highways  Education  Air_quality  Water_quality  Health_care  Good_housing  Friends_make\n",
       "1.0                    1.0             1.0        1.0          1.0            1.0          1.0           1.0             263833\n",
       "                                                                                                         2.0              15350\n",
       "                                                                                                         3.0               2989\n",
       "                                                                                                         4.0                200\n",
       "                                                                                           2.0           1.0              67398\n",
       "                                                                                                                          ...  \n",
       "4.0                    4.0             4.0        4.0          4.0            4.0          3.0           4.0                  1\n",
       "                                                                                           4.0           1.0                  7\n",
       "                                                                                                         2.0                  3\n",
       "                                                                                                         3.0                  4\n",
       "                                                                                                         4.0                197\n",
       "Name: count, Length: 12268, dtype: int64"
      ]
     },
     "execution_count": 103,
     "metadata": {},
     "output_type": "execute_result"
    }
   ],
   "source": [
    "Droped_datasetdf[column_91_10248].value_counts().sort_index()"
   ]
  },
  {
   "cell_type": "code",
   "execution_count": 104,
   "id": "d38a8d48-46b0-4b0d-99d5-26cde8badb56",
   "metadata": {
    "scrolled": true
   },
   "outputs": [
    {
     "name": "stdout",
     "output_type": "stream",
     "text": [
      "Number of NaN values': Public_transportation    198859\n",
      "Roads_highways           200973\n",
      "Education                145248\n",
      "Air_quality              202990\n",
      "Water_quality            201667\n",
      "Health_care              238617\n",
      "Good_housing             231858\n",
      "Friends_make             710990\n",
      "dtype: int64\n"
     ]
    }
   ],
   "source": [
    "nan_count = Droped_datasetdf[column_91_10248].isna().sum()\n",
    "print(f\"Number of NaN values': {nan_count}\")"
   ]
  },
  {
   "cell_type": "code",
   "execution_count": 105,
   "id": "dee013ee-8256-4811-9555-98a4530a34a3",
   "metadata": {},
   "outputs": [
    {
     "name": "stdout",
     "output_type": "stream",
     "text": [
      "         Disability  Food  Shelter  Relatives  Satisfy_life  Wellrested  \\\n",
      "0               2.0   2.0      2.0        1.0           1.0         2.0   \n",
      "1               1.0   2.0      2.0        1.0           1.0         2.0   \n",
      "2               2.0   2.0      2.0        1.0           1.0         1.0   \n",
      "3               2.0   2.0      2.0        1.0           1.0         1.0   \n",
      "4               1.0   2.0      2.0        1.0           1.0         1.0   \n",
      "...             ...   ...      ...        ...           ...         ...   \n",
      "2594084         2.0   1.0      1.0        1.0           2.0         2.0   \n",
      "2594085         2.0   1.0      1.0        1.0           2.0         1.0   \n",
      "2594086         2.0   1.0      1.0        1.0           2.0         1.0   \n",
      "2594087         2.0   1.0      1.0        1.0           1.0         1.0   \n",
      "2594088         2.0   1.0      1.0        1.0           2.0         2.0   \n",
      "\n",
      "         Treated_respect  Smile_Laugh  Learn_interesting  Enjoyment  ...  \\\n",
      "0                    1.0          1.0                2.0        1.0  ...   \n",
      "1                    1.0          1.0                1.0        1.0  ...   \n",
      "2                    1.0          1.0                1.0        1.0  ...   \n",
      "3                    1.0          1.0                2.0        1.0  ...   \n",
      "4                    1.0          1.0                2.0        1.0  ...   \n",
      "...                  ...          ...                ...        ...  ...   \n",
      "2594084              2.0          2.0                1.0        2.0  ...   \n",
      "2594085              1.0          2.0                1.0        1.0  ...   \n",
      "2594086              1.0          2.0                2.0        1.0  ...   \n",
      "2594087              1.0          1.0                2.0        1.0  ...   \n",
      "2594088              1.0          1.0                2.0        2.0  ...   \n",
      "\n",
      "         Recommend_city  Find_job  Public_transportation  Roads_highways  \\\n",
      "0                   2.0       2.0                    2.0             2.0   \n",
      "1                   2.0       2.0                    2.0             1.0   \n",
      "2                   2.0       2.0                    2.0             2.0   \n",
      "3                   2.0       2.0                    2.0             1.0   \n",
      "4                   2.0       2.0                    1.0             1.0   \n",
      "...                 ...       ...                    ...             ...   \n",
      "2594084             1.0       2.0                    2.0             2.0   \n",
      "2594085             1.0       2.0                    2.0             2.0   \n",
      "2594086             1.0       2.0                    2.0             2.0   \n",
      "2594087             1.0       2.0                    2.0             2.0   \n",
      "2594088             2.0       2.0                    2.0             2.0   \n",
      "\n",
      "         Education  Air_quality  Water_quality  Health_care  Good_housing  \\\n",
      "0              2.0          1.0            1.0          2.0           2.0   \n",
      "1              1.0          1.0            1.0          2.0           2.0   \n",
      "2              1.0          1.0            1.0          2.0           2.0   \n",
      "3              1.0          1.0            1.0          2.0           2.0   \n",
      "4              1.0          1.0            2.0          2.0           2.0   \n",
      "...            ...          ...            ...          ...           ...   \n",
      "2594084        2.0          2.0            2.0          2.0           2.0   \n",
      "2594085        1.0          2.0            2.0          2.0           2.0   \n",
      "2594086        2.0          1.0            1.0          1.0           1.0   \n",
      "2594087        2.0          1.0            1.0          2.0           2.0   \n",
      "2594088        2.0          2.0            2.0          2.0           2.0   \n",
      "\n",
      "         Friends_make  \n",
      "0                 2.0  \n",
      "1                 2.0  \n",
      "2                 2.0  \n",
      "3                 2.0  \n",
      "4                 2.0  \n",
      "...               ...  \n",
      "2594084           1.0  \n",
      "2594085           1.0  \n",
      "2594086           1.0  \n",
      "2594087           2.0  \n",
      "2594088           2.0  \n",
      "\n",
      "[2594089 rows x 27 columns]\n"
     ]
    }
   ],
   "source": [
    "Droped_datasetdf[column_91_10248] = Droped_datasetdf[column_91_10248].replace({3: 2, 4: 2})\n",
    "Droped_datasetdf[column_91_10248] = Droped_datasetdf[column_91_10248].fillna(2)\n",
    "Droped_new_df[column_91_10248] = Droped_datasetdf[column_91_10248]\n",
    "print(Droped_new_df)"
   ]
  },
  {
   "cell_type": "markdown",
   "id": "b1293988-b6a3-4d27-ba29-61be1bf2b449",
   "metadata": {},
   "source": [
    "#### WP103-105: Racial_minority,Gay_les,Immigrants"
   ]
  },
  {
   "cell_type": "code",
   "execution_count": 106,
   "id": "7b35db73-eaf3-467e-abfd-a879bd909a42",
   "metadata": {},
   "outputs": [],
   "source": [
    "Droped_datasetdf['Racial_minority'] = Droped_datasetdf['WP103']"
   ]
  },
  {
   "cell_type": "code",
   "execution_count": 107,
   "id": "9c26adeb-3ee7-411d-ac10-0aeb34ab9f16",
   "metadata": {
    "scrolled": true
   },
   "outputs": [
    {
     "data": {
      "text/plain": [
       "Racial_minority\n",
       "1.0    1383344\n",
       "2.0     549192\n",
       "3.0     198432\n",
       "4.0      10241\n",
       "Name: count, dtype: int64"
      ]
     },
     "execution_count": 107,
     "metadata": {},
     "output_type": "execute_result"
    }
   ],
   "source": [
    "Droped_datasetdf['Racial_minority'].value_counts().sort_index()"
   ]
  },
  {
   "cell_type": "code",
   "execution_count": 108,
   "id": "35a0efc6-2cdb-4fdd-90af-bc8d53a93100",
   "metadata": {},
   "outputs": [
    {
     "name": "stdout",
     "output_type": "stream",
     "text": [
      "Number of NaN values': 452880\n"
     ]
    }
   ],
   "source": [
    "nan_count = Droped_datasetdf['Racial_minority'].isna().sum()\n",
    "print(f\"Number of NaN values': {nan_count}\")"
   ]
  },
  {
   "cell_type": "code",
   "execution_count": 109,
   "id": "36d43cd2-d19a-4d46-9e90-4f0522d02133",
   "metadata": {},
   "outputs": [
    {
     "name": "stdout",
     "output_type": "stream",
     "text": [
      "         Disability  Food  Shelter  Relatives  Satisfy_life  Wellrested  \\\n",
      "0               2.0   2.0      2.0        1.0           1.0         2.0   \n",
      "1               1.0   2.0      2.0        1.0           1.0         2.0   \n",
      "2               2.0   2.0      2.0        1.0           1.0         1.0   \n",
      "3               2.0   2.0      2.0        1.0           1.0         1.0   \n",
      "4               1.0   2.0      2.0        1.0           1.0         1.0   \n",
      "...             ...   ...      ...        ...           ...         ...   \n",
      "2594084         2.0   1.0      1.0        1.0           2.0         2.0   \n",
      "2594085         2.0   1.0      1.0        1.0           2.0         1.0   \n",
      "2594086         2.0   1.0      1.0        1.0           2.0         1.0   \n",
      "2594087         2.0   1.0      1.0        1.0           1.0         1.0   \n",
      "2594088         2.0   1.0      1.0        1.0           2.0         2.0   \n",
      "\n",
      "         Treated_respect  Smile_Laugh  Learn_interesting  Enjoyment  ...  \\\n",
      "0                    1.0          1.0                2.0        1.0  ...   \n",
      "1                    1.0          1.0                1.0        1.0  ...   \n",
      "2                    1.0          1.0                1.0        1.0  ...   \n",
      "3                    1.0          1.0                2.0        1.0  ...   \n",
      "4                    1.0          1.0                2.0        1.0  ...   \n",
      "...                  ...          ...                ...        ...  ...   \n",
      "2594084              2.0          2.0                1.0        2.0  ...   \n",
      "2594085              1.0          2.0                1.0        1.0  ...   \n",
      "2594086              1.0          2.0                2.0        1.0  ...   \n",
      "2594087              1.0          1.0                2.0        1.0  ...   \n",
      "2594088              1.0          1.0                2.0        2.0  ...   \n",
      "\n",
      "         Find_job  Public_transportation  Roads_highways  Education  \\\n",
      "0             2.0                    2.0             2.0        2.0   \n",
      "1             2.0                    2.0             1.0        1.0   \n",
      "2             2.0                    2.0             2.0        1.0   \n",
      "3             2.0                    2.0             1.0        1.0   \n",
      "4             2.0                    1.0             1.0        1.0   \n",
      "...           ...                    ...             ...        ...   \n",
      "2594084       2.0                    2.0             2.0        2.0   \n",
      "2594085       2.0                    2.0             2.0        1.0   \n",
      "2594086       2.0                    2.0             2.0        2.0   \n",
      "2594087       2.0                    2.0             2.0        2.0   \n",
      "2594088       2.0                    2.0             2.0        2.0   \n",
      "\n",
      "         Air_quality  Water_quality  Health_care  Good_housing  Friends_make  \\\n",
      "0                1.0            1.0          2.0           2.0           2.0   \n",
      "1                1.0            1.0          2.0           2.0           2.0   \n",
      "2                1.0            1.0          2.0           2.0           2.0   \n",
      "3                1.0            1.0          2.0           2.0           2.0   \n",
      "4                1.0            2.0          2.0           2.0           2.0   \n",
      "...              ...            ...          ...           ...           ...   \n",
      "2594084          2.0            2.0          2.0           2.0           1.0   \n",
      "2594085          2.0            2.0          2.0           2.0           1.0   \n",
      "2594086          1.0            1.0          1.0           1.0           1.0   \n",
      "2594087          1.0            1.0          2.0           2.0           2.0   \n",
      "2594088          2.0            2.0          2.0           2.0           2.0   \n",
      "\n",
      "         Racial_minority  \n",
      "0                    2.0  \n",
      "1                    2.0  \n",
      "2                    2.0  \n",
      "3                    2.0  \n",
      "4                    2.0  \n",
      "...                  ...  \n",
      "2594084              2.0  \n",
      "2594085              1.0  \n",
      "2594086              1.0  \n",
      "2594087              2.0  \n",
      "2594088              2.0  \n",
      "\n",
      "[2594089 rows x 28 columns]\n"
     ]
    }
   ],
   "source": [
    "Droped_datasetdf['Racial_minority'] = Droped_datasetdf['Racial_minority'].replace({3: 2, 4: 2})\n",
    "Droped_datasetdf['Racial_minority'] = Droped_datasetdf['Racial_minority'].fillna(2)\n",
    "Droped_new_df['Racial_minority'] = Droped_datasetdf['Racial_minority']\n",
    "print(Droped_new_df)"
   ]
  },
  {
   "cell_type": "code",
   "execution_count": 110,
   "id": "f0fc7117-8746-4270-a7a1-47bc5cc63057",
   "metadata": {},
   "outputs": [],
   "source": [
    "Droped_datasetdf['Gay_les'] = Droped_datasetdf['WP105']"
   ]
  },
  {
   "cell_type": "code",
   "execution_count": 111,
   "id": "b69fa4f9-4bf0-4eba-ab3e-09a3e3ea2bd2",
   "metadata": {
    "scrolled": true
   },
   "outputs": [
    {
     "data": {
      "text/plain": [
       "Gay_les\n",
       "1.0     663923\n",
       "2.0    1039051\n",
       "3.0     317429\n",
       "4.0      28318\n",
       "Name: count, dtype: int64"
      ]
     },
     "execution_count": 111,
     "metadata": {},
     "output_type": "execute_result"
    }
   ],
   "source": [
    "Droped_datasetdf['Gay_les'].value_counts().sort_index()"
   ]
  },
  {
   "cell_type": "code",
   "execution_count": 112,
   "id": "4564d93c-d265-483e-b75d-db6e7f5657aa",
   "metadata": {},
   "outputs": [
    {
     "name": "stdout",
     "output_type": "stream",
     "text": [
      "Number of NaN values': 545368\n"
     ]
    }
   ],
   "source": [
    "nan_count = Droped_datasetdf['Gay_les'].isna().sum()\n",
    "print(f\"Number of NaN values': {nan_count}\")"
   ]
  },
  {
   "cell_type": "code",
   "execution_count": 113,
   "id": "dbd77566-b19f-44f4-abd4-2a751a580273",
   "metadata": {},
   "outputs": [
    {
     "name": "stdout",
     "output_type": "stream",
     "text": [
      "         Disability  Food  Shelter  Relatives  Satisfy_life  Wellrested  \\\n",
      "0               2.0   2.0      2.0        1.0           1.0         2.0   \n",
      "1               1.0   2.0      2.0        1.0           1.0         2.0   \n",
      "2               2.0   2.0      2.0        1.0           1.0         1.0   \n",
      "3               2.0   2.0      2.0        1.0           1.0         1.0   \n",
      "4               1.0   2.0      2.0        1.0           1.0         1.0   \n",
      "...             ...   ...      ...        ...           ...         ...   \n",
      "2594084         2.0   1.0      1.0        1.0           2.0         2.0   \n",
      "2594085         2.0   1.0      1.0        1.0           2.0         1.0   \n",
      "2594086         2.0   1.0      1.0        1.0           2.0         1.0   \n",
      "2594087         2.0   1.0      1.0        1.0           1.0         1.0   \n",
      "2594088         2.0   1.0      1.0        1.0           2.0         2.0   \n",
      "\n",
      "         Treated_respect  Smile_Laugh  Learn_interesting  Enjoyment  ...  \\\n",
      "0                    1.0          1.0                2.0        1.0  ...   \n",
      "1                    1.0          1.0                1.0        1.0  ...   \n",
      "2                    1.0          1.0                1.0        1.0  ...   \n",
      "3                    1.0          1.0                2.0        1.0  ...   \n",
      "4                    1.0          1.0                2.0        1.0  ...   \n",
      "...                  ...          ...                ...        ...  ...   \n",
      "2594084              2.0          2.0                1.0        2.0  ...   \n",
      "2594085              1.0          2.0                1.0        1.0  ...   \n",
      "2594086              1.0          2.0                2.0        1.0  ...   \n",
      "2594087              1.0          1.0                2.0        1.0  ...   \n",
      "2594088              1.0          1.0                2.0        2.0  ...   \n",
      "\n",
      "         Public_transportation  Roads_highways  Education  Air_quality  \\\n",
      "0                          2.0             2.0        2.0          1.0   \n",
      "1                          2.0             1.0        1.0          1.0   \n",
      "2                          2.0             2.0        1.0          1.0   \n",
      "3                          2.0             1.0        1.0          1.0   \n",
      "4                          1.0             1.0        1.0          1.0   \n",
      "...                        ...             ...        ...          ...   \n",
      "2594084                    2.0             2.0        2.0          2.0   \n",
      "2594085                    2.0             2.0        1.0          2.0   \n",
      "2594086                    2.0             2.0        2.0          1.0   \n",
      "2594087                    2.0             2.0        2.0          1.0   \n",
      "2594088                    2.0             2.0        2.0          2.0   \n",
      "\n",
      "         Water_quality  Health_care  Good_housing  Friends_make  \\\n",
      "0                  1.0          2.0           2.0           2.0   \n",
      "1                  1.0          2.0           2.0           2.0   \n",
      "2                  1.0          2.0           2.0           2.0   \n",
      "3                  1.0          2.0           2.0           2.0   \n",
      "4                  2.0          2.0           2.0           2.0   \n",
      "...                ...          ...           ...           ...   \n",
      "2594084            2.0          2.0           2.0           1.0   \n",
      "2594085            2.0          2.0           2.0           1.0   \n",
      "2594086            1.0          1.0           1.0           1.0   \n",
      "2594087            1.0          2.0           2.0           2.0   \n",
      "2594088            2.0          2.0           2.0           2.0   \n",
      "\n",
      "         Racial_minority  Gay_les  \n",
      "0                    2.0      2.0  \n",
      "1                    2.0      2.0  \n",
      "2                    2.0      2.0  \n",
      "3                    2.0      2.0  \n",
      "4                    2.0      2.0  \n",
      "...                  ...      ...  \n",
      "2594084              2.0      1.0  \n",
      "2594085              1.0      2.0  \n",
      "2594086              1.0      2.0  \n",
      "2594087              2.0      2.0  \n",
      "2594088              2.0      2.0  \n",
      "\n",
      "[2594089 rows x 29 columns]\n"
     ]
    }
   ],
   "source": [
    "Droped_datasetdf['Gay_les'] = Droped_datasetdf['Gay_les'].replace({3: 2, 4: 2})\n",
    "Droped_datasetdf['Gay_les'] = Droped_datasetdf['Gay_les'].fillna(2)\n",
    "Droped_new_df['Gay_les'] = Droped_datasetdf['Gay_les']\n",
    "print(Droped_new_df)"
   ]
  },
  {
   "cell_type": "code",
   "execution_count": 114,
   "id": "f09948f7-9c35-4957-9bcb-f08e4fe7b8f3",
   "metadata": {
    "jupyter": {
     "source_hidden": true
    }
   },
   "outputs": [],
   "source": [
    "Droped_datasetdf['Immigrants'] = Droped_datasetdf['WP106']"
   ]
  },
  {
   "cell_type": "code",
   "execution_count": 115,
   "id": "4fc3eacf-0cbc-40a3-8e4c-70077a0c0341",
   "metadata": {
    "scrolled": true
   },
   "outputs": [
    {
     "data": {
      "text/plain": [
       "Immigrants\n",
       "1.0    1366279\n",
       "2.0     727006\n",
       "3.0     226062\n",
       "4.0      12168\n",
       "Name: count, dtype: int64"
      ]
     },
     "execution_count": 115,
     "metadata": {},
     "output_type": "execute_result"
    }
   ],
   "source": [
    "Droped_datasetdf['Immigrants'].value_counts().sort_index()"
   ]
  },
  {
   "cell_type": "code",
   "execution_count": 116,
   "id": "dcc9498d-6cab-4aa5-a660-2f8cb40823f1",
   "metadata": {},
   "outputs": [
    {
     "name": "stdout",
     "output_type": "stream",
     "text": [
      "Number of NaN values': 262574\n"
     ]
    }
   ],
   "source": [
    "nan_count = Droped_datasetdf['Immigrants'].isna().sum()\n",
    "print(f\"Number of NaN values': {nan_count}\")"
   ]
  },
  {
   "cell_type": "code",
   "execution_count": 117,
   "id": "fd8e914a-0d9a-4a5b-b900-721e82005659",
   "metadata": {},
   "outputs": [
    {
     "name": "stdout",
     "output_type": "stream",
     "text": [
      "         Disability  Food  Shelter  Relatives  Satisfy_life  Wellrested  \\\n",
      "0               2.0   2.0      2.0        1.0           1.0         2.0   \n",
      "1               1.0   2.0      2.0        1.0           1.0         2.0   \n",
      "2               2.0   2.0      2.0        1.0           1.0         1.0   \n",
      "3               2.0   2.0      2.0        1.0           1.0         1.0   \n",
      "4               1.0   2.0      2.0        1.0           1.0         1.0   \n",
      "...             ...   ...      ...        ...           ...         ...   \n",
      "2594084         2.0   1.0      1.0        1.0           2.0         2.0   \n",
      "2594085         2.0   1.0      1.0        1.0           2.0         1.0   \n",
      "2594086         2.0   1.0      1.0        1.0           2.0         1.0   \n",
      "2594087         2.0   1.0      1.0        1.0           1.0         1.0   \n",
      "2594088         2.0   1.0      1.0        1.0           2.0         2.0   \n",
      "\n",
      "         Treated_respect  Smile_Laugh  Learn_interesting  Enjoyment  ...  \\\n",
      "0                    1.0          1.0                2.0        1.0  ...   \n",
      "1                    1.0          1.0                1.0        1.0  ...   \n",
      "2                    1.0          1.0                1.0        1.0  ...   \n",
      "3                    1.0          1.0                2.0        1.0  ...   \n",
      "4                    1.0          1.0                2.0        1.0  ...   \n",
      "...                  ...          ...                ...        ...  ...   \n",
      "2594084              2.0          2.0                1.0        2.0  ...   \n",
      "2594085              1.0          2.0                1.0        1.0  ...   \n",
      "2594086              1.0          2.0                2.0        1.0  ...   \n",
      "2594087              1.0          1.0                2.0        1.0  ...   \n",
      "2594088              1.0          1.0                2.0        2.0  ...   \n",
      "\n",
      "         Roads_highways  Education  Air_quality  Water_quality  Health_care  \\\n",
      "0                   2.0        2.0          1.0            1.0          2.0   \n",
      "1                   1.0        1.0          1.0            1.0          2.0   \n",
      "2                   2.0        1.0          1.0            1.0          2.0   \n",
      "3                   1.0        1.0          1.0            1.0          2.0   \n",
      "4                   1.0        1.0          1.0            2.0          2.0   \n",
      "...                 ...        ...          ...            ...          ...   \n",
      "2594084             2.0        2.0          2.0            2.0          2.0   \n",
      "2594085             2.0        1.0          2.0            2.0          2.0   \n",
      "2594086             2.0        2.0          1.0            1.0          1.0   \n",
      "2594087             2.0        2.0          1.0            1.0          2.0   \n",
      "2594088             2.0        2.0          2.0            2.0          2.0   \n",
      "\n",
      "         Good_housing  Friends_make  Racial_minority  Gay_les  Immigrants  \n",
      "0                 2.0           2.0              2.0      2.0         2.0  \n",
      "1                 2.0           2.0              2.0      2.0         2.0  \n",
      "2                 2.0           2.0              2.0      2.0         2.0  \n",
      "3                 2.0           2.0              2.0      2.0         2.0  \n",
      "4                 2.0           2.0              2.0      2.0         2.0  \n",
      "...               ...           ...              ...      ...         ...  \n",
      "2594084           2.0           1.0              2.0      1.0         1.0  \n",
      "2594085           2.0           1.0              1.0      2.0         1.0  \n",
      "2594086           1.0           1.0              1.0      2.0         2.0  \n",
      "2594087           2.0           2.0              2.0      2.0         2.0  \n",
      "2594088           2.0           2.0              2.0      2.0         2.0  \n",
      "\n",
      "[2594089 rows x 30 columns]\n"
     ]
    }
   ],
   "source": [
    "Droped_datasetdf['Immigrants'] = Droped_datasetdf['Immigrants'].replace({3: 2, 4: 2})\n",
    "Droped_datasetdf['Immigrants'] = Droped_datasetdf['Immigrants'].fillna(2)\n",
    "Droped_new_df['Immigrants'] = Droped_datasetdf['Immigrants']\n",
    "print(Droped_new_df)"
   ]
  },
  {
   "cell_type": "markdown",
   "id": "0df171e9-3355-454e-a37f-2a0027cf32f2",
   "metadata": {},
   "source": [
    "#### WP108-118,129,130,9050: Donation,voluntary,Help_stranger,Voice_opinion,Confidence,Safety,Steal,Assualted,Children_respected,Children_learn,Women_respected"
   ]
  },
  {
   "cell_type": "code",
   "execution_count": 118,
   "id": "294a5c7b-94bf-4d48-b2ba-14121e6da5cf",
   "metadata": {},
   "outputs": [],
   "source": [
    "Droped_datasetdf['Donation'] = Droped_datasetdf['WP108']"
   ]
  },
  {
   "cell_type": "code",
   "execution_count": 119,
   "id": "150a40c3-5873-4c2d-a4f5-21b754c0db2e",
   "metadata": {},
   "outputs": [],
   "source": [
    "Droped_datasetdf['Voluntary'] = Droped_datasetdf['WP109']"
   ]
  },
  {
   "cell_type": "code",
   "execution_count": 120,
   "id": "526231bd-179b-4947-ae16-5dd87c53e886",
   "metadata": {},
   "outputs": [],
   "source": [
    "Droped_datasetdf['Help_stranger'] = Droped_datasetdf['WP110']"
   ]
  },
  {
   "cell_type": "code",
   "execution_count": 121,
   "id": "782fd18e-100f-4716-b15d-9e883690d4ff",
   "metadata": {},
   "outputs": [],
   "source": [
    "Droped_datasetdf['Voice_opinion'] = Droped_datasetdf['WP111']"
   ]
  },
  {
   "cell_type": "code",
   "execution_count": 122,
   "id": "241fd48d-d225-4010-bf18-c91242ca478e",
   "metadata": {},
   "outputs": [],
   "source": [
    "Droped_datasetdf['Confidence'] = Droped_datasetdf['WP112']"
   ]
  },
  {
   "cell_type": "code",
   "execution_count": 123,
   "id": "ff67bb27-3f84-411b-9aa4-46aa4b420897",
   "metadata": {},
   "outputs": [],
   "source": [
    "Droped_datasetdf['Safety'] = Droped_datasetdf['WP113']"
   ]
  },
  {
   "cell_type": "code",
   "execution_count": 124,
   "id": "36ed52a8-cec9-4424-bbc3-fc9767043e5b",
   "metadata": {},
   "outputs": [],
   "source": [
    "Droped_datasetdf['Steal'] = Droped_datasetdf['WP117']"
   ]
  },
  {
   "cell_type": "code",
   "execution_count": 125,
   "id": "707a7440-6ca4-482d-bfbd-d16f7e3b01cd",
   "metadata": {},
   "outputs": [],
   "source": [
    "Droped_datasetdf['Assualted'] = Droped_datasetdf['WP118']"
   ]
  },
  {
   "cell_type": "code",
   "execution_count": 126,
   "id": "fd4e9315-00c3-4f42-afe1-c84e7d1c6095",
   "metadata": {},
   "outputs": [],
   "source": [
    "Droped_datasetdf['Children_respected'] = Droped_datasetdf['WP129']"
   ]
  },
  {
   "cell_type": "code",
   "execution_count": 127,
   "id": "45171bce-7e28-4575-a785-f025360fb8e3",
   "metadata": {},
   "outputs": [],
   "source": [
    "Droped_datasetdf['Children_learn'] = Droped_datasetdf['WP130']"
   ]
  },
  {
   "cell_type": "code",
   "execution_count": 128,
   "id": "972aa226-fd6a-44da-b019-f408672049a0",
   "metadata": {},
   "outputs": [],
   "source": [
    "Droped_datasetdf['Women_respected'] = Droped_datasetdf['WP9050']"
   ]
  },
  {
   "cell_type": "code",
   "execution_count": 129,
   "id": "cd1c304c-4ab1-4b16-a374-3268f2dec332",
   "metadata": {},
   "outputs": [],
   "source": [
    "column_108_9050 = ['Donation','Voluntary','Help_stranger','Voice_opinion','Confidence','Safety','Steal','Assualted','Children_respected'\n",
    "                  ,'Children_learn','Women_respected']"
   ]
  },
  {
   "cell_type": "code",
   "execution_count": 130,
   "id": "749d0ea7-ab73-4c13-b7ef-37b8cc9340cb",
   "metadata": {},
   "outputs": [
    {
     "data": {
      "text/plain": [
       "Donation  Voluntary  Help_stranger  Voice_opinion  Confidence  Safety  Steal  Assualted  Children_respected  Children_learn  Women_respected\n",
       "1.0       1.0        1.0            1.0            1.0         1.0     1.0    1.0        1.0                 1.0             1.0                1000\n",
       "                                                                                                                             2.0                  78\n",
       "                                                                                                                             3.0                   9\n",
       "                                                                                                                             4.0                   1\n",
       "                                                                                                             2.0             1.0                  97\n",
       "                                                                                                                                                ... \n",
       "4.0       4.0        4.0            4.0            4.0         4.0     4.0    4.0        2.0                 2.0             2.0                   2\n",
       "                                                                                         3.0                 3.0             2.0                   1\n",
       "                                                                                         4.0                 3.0             3.0                   1\n",
       "                                                                                                             4.0             2.0                   1\n",
       "                                                                                                                             4.0                  14\n",
       "Name: count, Length: 25064, dtype: int64"
      ]
     },
     "execution_count": 130,
     "metadata": {},
     "output_type": "execute_result"
    }
   ],
   "source": [
    "Droped_datasetdf[column_108_9050].value_counts().sort_index()"
   ]
  },
  {
   "cell_type": "code",
   "execution_count": 131,
   "id": "1d41e6fa-5a44-4d08-ae66-f7cf9e380fff",
   "metadata": {
    "scrolled": true
   },
   "outputs": [
    {
     "name": "stdout",
     "output_type": "stream",
     "text": [
      "Number of NaN values': Donation              189759\n",
      "Voluntary             187253\n",
      "Help_stranger         193819\n",
      "Voice_opinion         675056\n",
      "Confidence            419460\n",
      "Safety                206175\n",
      "Steal                 268482\n",
      "Assualted             786324\n",
      "Children_respected    177618\n",
      "Children_learn        156114\n",
      "Women_respected       731999\n",
      "dtype: int64\n"
     ]
    }
   ],
   "source": [
    "nan_count = Droped_datasetdf[column_108_9050].isna().sum()\n",
    "print(f\"Number of NaN values': {nan_count}\")"
   ]
  },
  {
   "cell_type": "code",
   "execution_count": 132,
   "id": "215fae96-2010-4d99-8eae-07c1cdc83df3",
   "metadata": {},
   "outputs": [],
   "source": [
    "Droped_datasetdf[column_108_9050] = Droped_datasetdf[column_108_9050].replace({3: 2, 4: 2})\n",
    "Droped_datasetdf[column_108_9050] = Droped_datasetdf[column_108_9050].fillna(2)\n",
    "Droped_new_df[column_108_9050] = Droped_datasetdf[column_108_9050]"
   ]
  },
  {
   "cell_type": "markdown",
   "id": "25d7c857-6c22-47d8-bc91-ec75fb610ced",
   "metadata": {},
   "source": [
    "#### WP132,134: Preserve_environment,Freedom_life"
   ]
  },
  {
   "cell_type": "code",
   "execution_count": 133,
   "id": "dea12b71-b4f9-4108-a7c3-4e414ff810cb",
   "metadata": {},
   "outputs": [],
   "source": [
    "Droped_datasetdf['Preserve_environment'] = Droped_datasetdf['WP132']"
   ]
  },
  {
   "cell_type": "code",
   "execution_count": 134,
   "id": "873b4f62-cdb9-4eda-892c-aab0185777ed",
   "metadata": {
    "scrolled": true
   },
   "outputs": [
    {
     "data": {
      "text/plain": [
       "Preserve_environment\n",
       "1.0    1184351\n",
       "2.0    1073603\n",
       "3.0     113165\n",
       "4.0       4222\n",
       "Name: count, dtype: int64"
      ]
     },
     "execution_count": 134,
     "metadata": {},
     "output_type": "execute_result"
    }
   ],
   "source": [
    "Droped_datasetdf['Preserve_environment'].value_counts().sort_index()"
   ]
  },
  {
   "cell_type": "code",
   "execution_count": 135,
   "id": "d522a835-866f-4b90-9734-5645632c28c6",
   "metadata": {},
   "outputs": [
    {
     "name": "stdout",
     "output_type": "stream",
     "text": [
      "Number of NaN values': 218748\n"
     ]
    }
   ],
   "source": [
    "nan_count = Droped_datasetdf['Preserve_environment'].isna().sum()\n",
    "print(f\"Number of NaN values': {nan_count}\")"
   ]
  },
  {
   "cell_type": "code",
   "execution_count": 136,
   "id": "0da6345d-1131-40a6-9e95-6fa1b9abb973",
   "metadata": {},
   "outputs": [],
   "source": [
    "Droped_datasetdf['Preserve_environment'] = Droped_datasetdf['Preserve_environment'].replace({3: 2, 4: 2})\n",
    "Droped_datasetdf['Preserve_environment'] = Droped_datasetdf['Preserve_environment'].fillna(2)\n",
    "Droped_new_df['Preserve_environment'] = Droped_datasetdf['Preserve_environment']"
   ]
  },
  {
   "cell_type": "code",
   "execution_count": 137,
   "id": "b187fd29-e0b1-454e-b8fd-244ba1696a49",
   "metadata": {},
   "outputs": [],
   "source": [
    "Droped_datasetdf['Freedom_life'] = Droped_datasetdf['WP134']"
   ]
  },
  {
   "cell_type": "code",
   "execution_count": 138,
   "id": "6625c368-72ba-4c7d-93f1-7e192bfc14b0",
   "metadata": {
    "scrolled": true
   },
   "outputs": [
    {
     "data": {
      "text/plain": [
       "Freedom_life\n",
       "1.0    1767046\n",
       "2.0     584126\n",
       "3.0      73052\n",
       "4.0       7036\n",
       "Name: count, dtype: int64"
      ]
     },
     "execution_count": 138,
     "metadata": {},
     "output_type": "execute_result"
    }
   ],
   "source": [
    "Droped_datasetdf['Freedom_life'].value_counts().sort_index()"
   ]
  },
  {
   "cell_type": "code",
   "execution_count": 139,
   "id": "65737bc9-5d5a-4051-9c86-e60f71b55721",
   "metadata": {},
   "outputs": [
    {
     "name": "stdout",
     "output_type": "stream",
     "text": [
      "Number of NaN values': 162829\n"
     ]
    }
   ],
   "source": [
    "nan_count = Droped_datasetdf['Freedom_life'].isna().sum()\n",
    "print(f\"Number of NaN values': {nan_count}\")"
   ]
  },
  {
   "cell_type": "code",
   "execution_count": 140,
   "id": "b7d0bd0f-7115-49db-9a76-41fe5c1abe8e",
   "metadata": {},
   "outputs": [],
   "source": [
    "Droped_datasetdf['Freedom_life'] = Droped_datasetdf['Freedom_life'].replace({3: 2, 4: 2})\n",
    "Droped_datasetdf['Freedom_life'] = Droped_datasetdf['Freedom_life'].fillna(2)\n",
    "Droped_new_df['Freedom_life'] = Droped_datasetdf['Freedom_life']"
   ]
  },
  {
   "cell_type": "markdown",
   "id": "8149ed99-f258-4728-b083-a3807d01eea0",
   "metadata": {},
   "source": [
    "#### WP137-144:Military,Judicial_system,Government,Banks,election_honesty"
   ]
  },
  {
   "cell_type": "code",
   "execution_count": 141,
   "id": "871835cb-5fe8-4fa9-98b6-19793b26395f",
   "metadata": {},
   "outputs": [],
   "source": [
    "Droped_datasetdf['Military'] = Droped_datasetdf['WP137']"
   ]
  },
  {
   "cell_type": "code",
   "execution_count": 142,
   "id": "fb41e023-84ca-420f-8643-ccbe4c93a464",
   "metadata": {},
   "outputs": [],
   "source": [
    "Droped_datasetdf['Judicial_system'] = Droped_datasetdf['WP138']"
   ]
  },
  {
   "cell_type": "code",
   "execution_count": 143,
   "id": "0ca3405a-dfbf-48d3-b3d3-6a6615889d93",
   "metadata": {},
   "outputs": [],
   "source": [
    "Droped_datasetdf['Government'] = Droped_datasetdf['WP139']"
   ]
  },
  {
   "cell_type": "code",
   "execution_count": 144,
   "id": "537af568-5a5b-4e5d-975a-5298161ece65",
   "metadata": {},
   "outputs": [],
   "source": [
    "Droped_datasetdf['Banks'] = Droped_datasetdf['WP141']"
   ]
  },
  {
   "cell_type": "code",
   "execution_count": 145,
   "id": "d8153433-a3e3-4f15-822a-23d4e39d6771",
   "metadata": {},
   "outputs": [],
   "source": [
    "Droped_datasetdf['election_honesty'] = Droped_datasetdf['WP144']"
   ]
  },
  {
   "cell_type": "code",
   "execution_count": 146,
   "id": "7324ba29-1fa0-40a6-9ea9-841e1270ba09",
   "metadata": {},
   "outputs": [],
   "source": [
    "column_137_144 = ['Military','Judicial_system','Government','Banks','election_honesty']"
   ]
  },
  {
   "cell_type": "code",
   "execution_count": 147,
   "id": "6b00dbb0-e4c4-42c7-8782-ebc955b275f4",
   "metadata": {},
   "outputs": [
    {
     "data": {
      "text/plain": [
       "Military  Judicial_system  Government  Banks  election_honesty\n",
       "1.0       1.0              1.0         1.0    1.0                 437699\n",
       "                                              2.0                  88094\n",
       "                                              3.0                  18806\n",
       "                                              4.0                   1213\n",
       "                                       2.0    1.0                  58333\n",
       "                                                                   ...  \n",
       "4.0       4.0              4.0         3.0    4.0                    100\n",
       "                                       4.0    1.0                     50\n",
       "                                              2.0                     67\n",
       "                                              3.0                     56\n",
       "                                              4.0                   1580\n",
       "Name: count, Length: 1011, dtype: int64"
      ]
     },
     "execution_count": 147,
     "metadata": {},
     "output_type": "execute_result"
    }
   ],
   "source": [
    "Droped_datasetdf[column_137_144].value_counts().sort_index()"
   ]
  },
  {
   "cell_type": "code",
   "execution_count": 148,
   "id": "df5620a9-6a0a-4ec8-8cb8-55cc148af578",
   "metadata": {
    "scrolled": true
   },
   "outputs": [
    {
     "name": "stdout",
     "output_type": "stream",
     "text": [
      "Number of NaN values': Military            503224\n",
      "Judicial_system     392723\n",
      "Government          426999\n",
      "Banks               240493\n",
      "election_honesty    461870\n",
      "dtype: int64\n"
     ]
    }
   ],
   "source": [
    "nan_count = Droped_datasetdf[column_137_144].isna().sum()\n",
    "print(f\"Number of NaN values': {nan_count}\")"
   ]
  },
  {
   "cell_type": "code",
   "execution_count": 149,
   "id": "df761028-2562-47bd-b45d-5fc33f159c2f",
   "metadata": {},
   "outputs": [],
   "source": [
    "Droped_datasetdf[column_137_144] = Droped_datasetdf[column_137_144].replace({3: 2, 4: 2})\n",
    "Droped_datasetdf[column_137_144] = Droped_datasetdf[column_137_144].fillna(2)\n",
    "Droped_new_df[column_137_144] = Droped_datasetdf[column_137_144]"
   ]
  },
  {
   "cell_type": "markdown",
   "id": "fa3e07b0-02c3-4d3d-b543-f48d6a7bf9f6",
   "metadata": {},
   "source": [
    "#### WP145:Corruption_bussiness"
   ]
  },
  {
   "cell_type": "code",
   "execution_count": 150,
   "id": "b56ca875-de1a-40a5-89a0-b1fed56315fd",
   "metadata": {},
   "outputs": [],
   "source": [
    "Droped_datasetdf['Corruption_business'] = Droped_datasetdf['WP145']"
   ]
  },
  {
   "cell_type": "code",
   "execution_count": 151,
   "id": "1a3e93d4-b4e7-41c6-ba98-335372c3ed88",
   "metadata": {
    "scrolled": true
   },
   "outputs": [
    {
     "data": {
      "text/plain": [
       "Corruption_business\n",
       "1.0    1531200\n",
       "2.0     507609\n",
       "3.0     249855\n",
       "4.0      11085\n",
       "Name: count, dtype: int64"
      ]
     },
     "execution_count": 151,
     "metadata": {},
     "output_type": "execute_result"
    }
   ],
   "source": [
    "Droped_datasetdf['Corruption_business'].value_counts().sort_index()"
   ]
  },
  {
   "cell_type": "code",
   "execution_count": 152,
   "id": "f68a1e1d-4f41-41ee-b04f-26c69a45d40d",
   "metadata": {},
   "outputs": [
    {
     "name": "stdout",
     "output_type": "stream",
     "text": [
      "Number of NaN values': 294340\n"
     ]
    }
   ],
   "source": [
    "nan_count = Droped_datasetdf['Corruption_business'].isna().sum()\n",
    "print(f\"Number of NaN values': {nan_count}\")"
   ]
  },
  {
   "cell_type": "code",
   "execution_count": 153,
   "id": "b437fb24-c31d-416b-bc62-94a43b630145",
   "metadata": {},
   "outputs": [],
   "source": [
    "Droped_datasetdf['Corruption_business'] = Droped_datasetdf['Corruption_business'].replace({3: 2, 4: 2})\n",
    "Droped_datasetdf['Corruption_business'] = Droped_datasetdf['Corruption_business'].fillna(2)\n",
    "Droped_new_df['Corruption_business'] = Droped_datasetdf['Corruption_business']"
   ]
  },
  {
   "cell_type": "markdown",
   "id": "029b9e11-e8d6-46c6-9f44-aa80e65e45ac",
   "metadata": {},
   "source": [
    "#### WP146:Corruption_government"
   ]
  },
  {
   "cell_type": "code",
   "execution_count": 154,
   "id": "e834cfbe-3f40-49c7-b3ff-18a8caaa62cc",
   "metadata": {},
   "outputs": [],
   "source": [
    "Droped_datasetdf['Corruption_government'] = Droped_datasetdf['WP146']"
   ]
  },
  {
   "cell_type": "code",
   "execution_count": 155,
   "id": "e4bccccb-1f74-48b9-8936-e56091b576b6",
   "metadata": {
    "scrolled": true
   },
   "outputs": [
    {
     "data": {
      "text/plain": [
       "Corruption_government\n",
       "1.0    1459132\n",
       "2.0     484699\n",
       "3.0     233777\n",
       "4.0      15072\n",
       "Name: count, dtype: int64"
      ]
     },
     "execution_count": 155,
     "metadata": {},
     "output_type": "execute_result"
    }
   ],
   "source": [
    "Droped_datasetdf['Corruption_government'].value_counts().sort_index()"
   ]
  },
  {
   "cell_type": "code",
   "execution_count": 156,
   "id": "3f40d64f-02b4-4238-9000-86c48c76d4d8",
   "metadata": {},
   "outputs": [
    {
     "name": "stdout",
     "output_type": "stream",
     "text": [
      "Number of NaN values': 401409\n"
     ]
    }
   ],
   "source": [
    "nan_count = Droped_datasetdf['Corruption_government'].isna().sum()\n",
    "print(f\"Number of NaN values': {nan_count}\")"
   ]
  },
  {
   "cell_type": "code",
   "execution_count": 157,
   "id": "9c042252-cba9-47ee-8547-ffb4c626243f",
   "metadata": {},
   "outputs": [],
   "source": [
    "Droped_datasetdf['Corruption_government'] = Droped_datasetdf['Corruption_government'].replace({3: 2, 4: 2})\n",
    "Droped_datasetdf['Corruption_government'] = Droped_datasetdf['Corruption_government'].fillna(2)\n",
    "Droped_new_df['Corruption_government'] = Droped_datasetdf['Corruption_government']"
   ]
  },
  {
   "cell_type": "markdown",
   "id": "d9a3d51f-48f7-4d36-9116-677c709f786d",
   "metadata": {},
   "source": [
    "#### WP1219: Gender"
   ]
  },
  {
   "cell_type": "code",
   "execution_count": 158,
   "id": "30c47448-0f5a-4e15-8619-6ba35bd24a4f",
   "metadata": {},
   "outputs": [],
   "source": [
    "Droped_datasetdf['Gender'] = Droped_datasetdf['WP1219']"
   ]
  },
  {
   "cell_type": "code",
   "execution_count": 159,
   "id": "954f0f0c-ff59-42ae-ac3c-bd60e6806009",
   "metadata": {
    "scrolled": true
   },
   "outputs": [
    {
     "data": {
      "text/plain": [
       "Gender\n",
       "1.0    1214884\n",
       "2.0    1379183\n",
       "Name: count, dtype: int64"
      ]
     },
     "execution_count": 159,
     "metadata": {},
     "output_type": "execute_result"
    }
   ],
   "source": [
    "Droped_datasetdf['Gender'].value_counts().sort_index()"
   ]
  },
  {
   "cell_type": "code",
   "execution_count": 160,
   "id": "ced11320-d4c2-4130-9c9d-ff6a05027653",
   "metadata": {
    "scrolled": true
   },
   "outputs": [
    {
     "name": "stdout",
     "output_type": "stream",
     "text": [
      "Number of NaN values': 22\n"
     ]
    }
   ],
   "source": [
    "nan_count = Droped_datasetdf['Gender'].isna().sum()\n",
    "print(f\"Number of NaN values': {nan_count}\")"
   ]
  },
  {
   "cell_type": "code",
   "execution_count": 161,
   "id": "f40be5d9-1720-4106-bf67-44f317416184",
   "metadata": {},
   "outputs": [],
   "source": [
    "Droped_new_df['Gender'] = Droped_datasetdf['Gender']"
   ]
  },
  {
   "cell_type": "markdown",
   "id": "de0a6a4a-9447-4e2f-85a1-6a259d00ba42",
   "metadata": {},
   "source": [
    "#### WP150:Leadership_country"
   ]
  },
  {
   "cell_type": "code",
   "execution_count": 162,
   "id": "8ff6814b-e9e6-4fce-bda8-6a36a9c25d91",
   "metadata": {},
   "outputs": [],
   "source": [
    "Droped_datasetdf['Leadership_country'] = Droped_datasetdf['WP150']"
   ]
  },
  {
   "cell_type": "code",
   "execution_count": 163,
   "id": "84bc66ff-1f47-4bd7-a7bb-e55fe782f58e",
   "metadata": {
    "scrolled": true
   },
   "outputs": [
    {
     "data": {
      "text/plain": [
       "Leadership_country\n",
       "1.0    976654\n",
       "2.0    925114\n",
       "3.0    148746\n",
       "4.0     24969\n",
       "Name: count, dtype: int64"
      ]
     },
     "execution_count": 163,
     "metadata": {},
     "output_type": "execute_result"
    }
   ],
   "source": [
    "Droped_datasetdf['Leadership_country'].value_counts().sort_index()"
   ]
  },
  {
   "cell_type": "code",
   "execution_count": 164,
   "id": "08154470-fbea-439a-be49-ea0dcc865fce",
   "metadata": {},
   "outputs": [
    {
     "name": "stdout",
     "output_type": "stream",
     "text": [
      "Number of NaN values': 518606\n"
     ]
    }
   ],
   "source": [
    "nan_count = Droped_datasetdf['Leadership_country'].isna().sum()\n",
    "print(f\"Number of NaN values': {nan_count}\")"
   ]
  },
  {
   "cell_type": "code",
   "execution_count": 165,
   "id": "a68385fd-412a-4940-81ce-91dfb63624b7",
   "metadata": {},
   "outputs": [],
   "source": [
    "Droped_datasetdf['Leadership_country'] = Droped_datasetdf['Leadership_country'].replace({3: 2, 4: 2})\n",
    "Droped_datasetdf['Leadership_country'] = Droped_datasetdf['Leadership_country'].fillna(2)\n",
    "Droped_new_df['Leadership_country'] = Droped_datasetdf['Leadership_country']"
   ]
  },
  {
   "cell_type": "markdown",
   "id": "30f3f81e-e26d-456d-936e-9f9c6b73c45e",
   "metadata": {},
   "source": [
    "#### WP1223: Marital_status"
   ]
  },
  {
   "cell_type": "code",
   "execution_count": 166,
   "id": "0bcd2c33-2395-4243-b0cf-fead1286d935",
   "metadata": {},
   "outputs": [],
   "source": [
    "Droped_datasetdf['Marital_status'] = Droped_datasetdf['WP1223']"
   ]
  },
  {
   "cell_type": "code",
   "execution_count": 167,
   "id": "81fb40a5-d798-4bb9-8bbf-bf7edddd9f03",
   "metadata": {
    "scrolled": true
   },
   "outputs": [
    {
     "data": {
      "text/plain": [
       "Marital_status\n",
       "1.0     755250\n",
       "2.0    1339509\n",
       "3.0      56718\n",
       "4.0      96789\n",
       "5.0     178555\n",
       "6.0       5568\n",
       "7.0       7064\n",
       "8.0     128517\n",
       "Name: count, dtype: int64"
      ]
     },
     "execution_count": 167,
     "metadata": {},
     "output_type": "execute_result"
    }
   ],
   "source": [
    "Droped_datasetdf['Marital_status'].value_counts().sort_index()"
   ]
  },
  {
   "cell_type": "code",
   "execution_count": 168,
   "id": "2df22b77-dba1-4048-beb1-930c9825cd44",
   "metadata": {
    "scrolled": true
   },
   "outputs": [
    {
     "name": "stdout",
     "output_type": "stream",
     "text": [
      "Number of NaN values': 26119\n"
     ]
    }
   ],
   "source": [
    "nan_count = Droped_datasetdf['Marital_status'].isna().sum()\n",
    "print(f\"Number of NaN values': {nan_count}\")"
   ]
  },
  {
   "cell_type": "code",
   "execution_count": 169,
   "id": "e1ecd5c7-c84e-4d23-90bf-53069972dd0b",
   "metadata": {},
   "outputs": [],
   "source": [
    "Droped_new_df['Marital_status'] = Droped_datasetdf['Marital_status']"
   ]
  },
  {
   "cell_type": "markdown",
   "id": "28ae6d08-6f35-405c-bb93-a26a9027d82a",
   "metadata": {},
   "source": [
    "#### WP16056:Access_internet"
   ]
  },
  {
   "cell_type": "code",
   "execution_count": 170,
   "id": "a54993a9-54e1-4f0d-a687-04fe498854c1",
   "metadata": {},
   "outputs": [],
   "source": [
    "Droped_datasetdf['Acess_internet'] = Droped_datasetdf['WP16056']"
   ]
  },
  {
   "cell_type": "code",
   "execution_count": 171,
   "id": "27e5d068-b216-44ca-b1ee-0d85f1cd96d9",
   "metadata": {
    "scrolled": true
   },
   "outputs": [
    {
     "data": {
      "text/plain": [
       "Acess_internet\n",
       "1.0    713381\n",
       "2.0    395872\n",
       "3.0      4557\n",
       "4.0      1280\n",
       "Name: count, dtype: int64"
      ]
     },
     "execution_count": 171,
     "metadata": {},
     "output_type": "execute_result"
    }
   ],
   "source": [
    "Droped_datasetdf['Acess_internet'].value_counts().sort_index()"
   ]
  },
  {
   "cell_type": "code",
   "execution_count": 172,
   "id": "b16369a4-0df7-4eb8-a4ed-5b3afa704c20",
   "metadata": {},
   "outputs": [
    {
     "name": "stdout",
     "output_type": "stream",
     "text": [
      "Number of NaN values': 1478999\n"
     ]
    }
   ],
   "source": [
    "nan_count = Droped_datasetdf['Acess_internet'].isna().sum()\n",
    "print(f\"Number of NaN values': {nan_count}\")"
   ]
  },
  {
   "cell_type": "code",
   "execution_count": 173,
   "id": "fe69da5f-9e1e-453c-a8da-af6f79929f44",
   "metadata": {},
   "outputs": [],
   "source": [
    "Droped_datasetdf['Acess_internet'] = Droped_datasetdf['Acess_internet'].replace({3: 2, 4: 2})\n",
    "Droped_datasetdf['Acess_internet'] = Droped_datasetdf['Acess_internet'].fillna(2)\n",
    "Droped_new_df['Acess_internet'] = Droped_datasetdf['Acess_internet']"
   ]
  },
  {
   "cell_type": "markdown",
   "id": "db7a420b-f4ba-47d2-90f5-03614aec9f80",
   "metadata": {},
   "source": [
    "#### WP15862:Use_internet"
   ]
  },
  {
   "cell_type": "code",
   "execution_count": 174,
   "id": "07758453-89b6-4071-b9af-933f52c242e6",
   "metadata": {},
   "outputs": [],
   "source": [
    "Droped_datasetdf['Use_internet'] = Droped_datasetdf['WP15862']"
   ]
  },
  {
   "cell_type": "code",
   "execution_count": 175,
   "id": "6968c94f-037a-4df5-a42f-be8eca66a76b",
   "metadata": {
    "scrolled": true
   },
   "outputs": [
    {
     "data": {
      "text/plain": [
       "Use_internet\n",
       "1.0    650010\n",
       "2.0     62603\n",
       "3.0       560\n",
       "4.0       208\n",
       "Name: count, dtype: int64"
      ]
     },
     "execution_count": 175,
     "metadata": {},
     "output_type": "execute_result"
    }
   ],
   "source": [
    "Droped_datasetdf['Use_internet'].value_counts().sort_index()"
   ]
  },
  {
   "cell_type": "code",
   "execution_count": 176,
   "id": "85f85f35-a97b-4b4c-ba3f-8d00f30058da",
   "metadata": {},
   "outputs": [
    {
     "name": "stdout",
     "output_type": "stream",
     "text": [
      "Number of NaN values': 1880708\n"
     ]
    }
   ],
   "source": [
    "nan_count = Droped_datasetdf['Use_internet'].isna().sum()\n",
    "print(f\"Number of NaN values': {nan_count}\")"
   ]
  },
  {
   "cell_type": "code",
   "execution_count": 177,
   "id": "9a2a8d9a-23ee-4e01-9bc2-ddd65fe8737b",
   "metadata": {},
   "outputs": [],
   "source": [
    "Droped_datasetdf['Use_internet'] = Droped_datasetdf['Use_internet'].replace({3: 2, 4: 2})\n",
    "Droped_datasetdf['Use_internet'] = Droped_datasetdf['Use_internet'].fillna(2)\n",
    "Droped_new_df['Use_internet'] = Droped_datasetdf['Use_internet']"
   ]
  },
  {
   "cell_type": "markdown",
   "id": "ce6b31a3-5465-4dc2-8878-b15f7a868b18",
   "metadata": {},
   "source": [
    "#### WP19544:Phone_internet"
   ]
  },
  {
   "cell_type": "code",
   "execution_count": 178,
   "id": "6648dde3-77cb-4b5d-bb12-b52f92a43ed8",
   "metadata": {},
   "outputs": [],
   "source": [
    "Droped_datasetdf['Phone_internet'] = Droped_datasetdf['WP19544']"
   ]
  },
  {
   "cell_type": "code",
   "execution_count": 179,
   "id": "0d51859c-df34-4c9d-8776-a9e0381a45b4",
   "metadata": {
    "scrolled": true
   },
   "outputs": [
    {
     "data": {
      "text/plain": [
       "Phone_internet\n",
       "1.0    576783\n",
       "2.0    187388\n",
       "3.0      5329\n",
       "4.0       574\n",
       "Name: count, dtype: int64"
      ]
     },
     "execution_count": 179,
     "metadata": {},
     "output_type": "execute_result"
    }
   ],
   "source": [
    "Droped_datasetdf['Phone_internet'].value_counts().sort_index()"
   ]
  },
  {
   "cell_type": "code",
   "execution_count": 180,
   "id": "48864c47-ef44-4eac-b19d-734953780608",
   "metadata": {},
   "outputs": [
    {
     "name": "stdout",
     "output_type": "stream",
     "text": [
      "Number of NaN values': 1824015\n"
     ]
    }
   ],
   "source": [
    "nan_count = Droped_datasetdf['Phone_internet'].isna().sum()\n",
    "print(f\"Number of NaN values': {nan_count}\")"
   ]
  },
  {
   "cell_type": "code",
   "execution_count": 181,
   "id": "82df6db7-83bc-427f-ab9b-a32ba36d7423",
   "metadata": {},
   "outputs": [],
   "source": [
    "Droped_datasetdf['Phone_internet'] = Droped_datasetdf['Phone_internet'].replace({3: 2, 4: 2})\n",
    "Droped_datasetdf['Phone_internet'] = Droped_datasetdf['Phone_internet'].fillna(2)\n",
    "Droped_new_df['Phone_internet'] = Droped_datasetdf['Phone_internet']"
   ]
  },
  {
   "cell_type": "markdown",
   "id": "6b5fc31b-c60d-49e7-8116-4c0473531338",
   "metadata": {},
   "source": [
    "### Non-binary variables"
   ]
  },
  {
   "cell_type": "markdown",
   "id": "6aa70f81-390d-43dc-9a2b-80dfafb4446f",
   "metadata": {},
   "source": [
    "#### WP31,88,2319:Life_standard, Economic_condition, Income_feeling"
   ]
  },
  {
   "cell_type": "code",
   "execution_count": 182,
   "id": "a4868405-5cb5-4ec8-b956-1664e19a69f3",
   "metadata": {},
   "outputs": [],
   "source": [
    "Droped_datasetdf['Life_standard'] = Droped_datasetdf['WP31']\n",
    "Droped_datasetdf['Economic_condition'] = Droped_datasetdf['WP88']\n",
    "Droped_datasetdf['Income_feeling'] = Droped_datasetdf['WP2319']"
   ]
  },
  {
   "cell_type": "code",
   "execution_count": 183,
   "id": "66d34b59-0a05-44c7-aeb6-38503521761d",
   "metadata": {
    "scrolled": true
   },
   "outputs": [],
   "source": [
    "columns_non_binary = ['Life_standard','Economic_condition','Income_feeling']"
   ]
  },
  {
   "cell_type": "code",
   "execution_count": 184,
   "id": "67aefee9-1f4e-4d8d-99b0-4b5adfa22d15",
   "metadata": {},
   "outputs": [
    {
     "data": {
      "text/plain": [
       "Life_standard  Economic_condition  Income_feeling\n",
       "1.0            1.0                 1.0               188186\n",
       "                                   2.0               269832\n",
       "                                   3.0               110528\n",
       "                                   4.0                45691\n",
       "                                   5.0                 6229\n",
       "                                                      ...  \n",
       "5.0            5.0                 2.0                   68\n",
       "                                   3.0                   41\n",
       "                                   4.0                   26\n",
       "                                   5.0                    6\n",
       "                                   6.0                   62\n",
       "Name: count, Length: 150, dtype: int64"
      ]
     },
     "execution_count": 184,
     "metadata": {},
     "output_type": "execute_result"
    }
   ],
   "source": [
    "Droped_datasetdf[columns_non_binary].value_counts().sort_index()"
   ]
  },
  {
   "cell_type": "code",
   "execution_count": 185,
   "id": "ab642224-dad7-4a24-b6bc-d261acab72a8",
   "metadata": {},
   "outputs": [
    {
     "name": "stdout",
     "output_type": "stream",
     "text": [
      "Number of NaN values': Life_standard         142727\n",
      "Economic_condition    262622\n",
      "Income_feeling        146446\n",
      "dtype: int64\n"
     ]
    }
   ],
   "source": [
    "nan_count = Droped_datasetdf[columns_non_binary].isna().sum()\n",
    "print(f\"Number of NaN values': {nan_count}\")"
   ]
  },
  {
   "cell_type": "code",
   "execution_count": 186,
   "id": "4db94aad-cdb8-47e8-8d60-09679b379c83",
   "metadata": {},
   "outputs": [
    {
     "name": "stderr",
     "output_type": "stream",
     "text": [
      "/var/folders/_z/l4bh9x2d7_q8069ftw3jb2cr0000gn/T/ipykernel_53643/1692109213.py:1: FutureWarning: DataFrame.applymap has been deprecated. Use DataFrame.map instead.\n",
      "  Droped_datasetdf[columns_non_binary] = Droped_datasetdf[columns_non_binary].applymap(lambda x: 2 if x not in [1, 2, 3] else x)\n"
     ]
    }
   ],
   "source": [
    "Droped_datasetdf[columns_non_binary] = Droped_datasetdf[columns_non_binary].applymap(lambda x: 2 if x not in [1, 2, 3] else x)\n",
    "Droped_datasetdf[columns_non_binary] = Droped_datasetdf[columns_non_binary].fillna(2)\n",
    "Droped_new_df[columns_non_binary] = Droped_datasetdf[columns_non_binary]"
   ]
  },
  {
   "cell_type": "markdown",
   "id": "92fc5a9e-8a3e-4235-9377-1faf36feb350",
   "metadata": {},
   "source": [
    "#### WP16,18:Wellbeing_ladder, Ladder_future"
   ]
  },
  {
   "cell_type": "code",
   "execution_count": 187,
   "id": "e3febec4-3a22-4c58-ba3b-b93f55f575aa",
   "metadata": {},
   "outputs": [],
   "source": [
    "Droped_datasetdf['Wellbeing_ladder'] = Droped_datasetdf['WP16']\n",
    "Droped_datasetdf['Ladder_future'] = Droped_datasetdf['WP18']"
   ]
  },
  {
   "cell_type": "code",
   "execution_count": 188,
   "id": "3e5aff65-a6cb-4ba0-9287-74e380009359",
   "metadata": {},
   "outputs": [],
   "source": [
    "columns_wellbeing = ['Wellbeing_ladder','Ladder_future']"
   ]
  },
  {
   "cell_type": "code",
   "execution_count": 189,
   "id": "f3301055-61e1-4450-a2de-40edcc2a63e0",
   "metadata": {
    "scrolled": true
   },
   "outputs": [
    {
     "data": {
      "text/plain": [
       "Wellbeing_ladder  Ladder_future\n",
       "0.0               0.0              21793\n",
       "                  1.0               5407\n",
       "                  2.0               5793\n",
       "                  3.0               5073\n",
       "                  4.0               3079\n",
       "                                   ...  \n",
       "99.0              8.0                 70\n",
       "                  9.0                 47\n",
       "                  10.0               160\n",
       "                  98.0               489\n",
       "                  99.0              1759\n",
       "Name: count, Length: 169, dtype: int64"
      ]
     },
     "execution_count": 189,
     "metadata": {},
     "output_type": "execute_result"
    }
   ],
   "source": [
    "Droped_datasetdf[columns_wellbeing].value_counts().sort_index()"
   ]
  },
  {
   "cell_type": "code",
   "execution_count": 190,
   "id": "e3376114-61e1-4a08-9c48-37b4339148c4",
   "metadata": {
    "scrolled": true
   },
   "outputs": [
    {
     "name": "stdout",
     "output_type": "stream",
     "text": [
      "Number of NaN values': Wellbeing_ladder    14604\n",
      "Ladder_future       14603\n",
      "dtype: int64\n"
     ]
    }
   ],
   "source": [
    "nan_count = Droped_datasetdf[columns_wellbeing].isna().sum()\n",
    "print(f\"Number of NaN values': {nan_count}\")"
   ]
  },
  {
   "cell_type": "code",
   "execution_count": 191,
   "id": "53e9cfb1-79ac-486f-8be4-bb69b655243d",
   "metadata": {},
   "outputs": [],
   "source": [
    "Droped_datasetdf = Droped_datasetdf[~((Droped_datasetdf['Wellbeing_ladder'].isin([98, 99])) | (Droped_datasetdf['Ladder_future'].isin([98, 99])))]\n",
    "\n",
    "# Reset index (optional)\n",
    "Droped_datasetdf.reset_index(drop=True, inplace=True)"
   ]
  },
  {
   "cell_type": "code",
   "execution_count": 192,
   "id": "4fc5d8ea-eada-4a02-9c33-c41f0d4b4fca",
   "metadata": {},
   "outputs": [],
   "source": [
    "Droped_new_df[columns_wellbeing] = Droped_datasetdf[columns_wellbeing]"
   ]
  },
  {
   "cell_type": "markdown",
   "id": "5e32b9af-a961-46e1-b8dd-26c7361009e9",
   "metadata": {},
   "source": [
    "#### WP1230: Children_number"
   ]
  },
  {
   "cell_type": "code",
   "execution_count": 193,
   "id": "c6579e07-aeb7-4410-adad-9242cf3cb3d8",
   "metadata": {},
   "outputs": [],
   "source": [
    "Droped_datasetdf['Children_number'] = Droped_datasetdf['WP1230']"
   ]
  },
  {
   "cell_type": "code",
   "execution_count": 194,
   "id": "e945b9bd-75e8-484a-b0ac-701aea22b979",
   "metadata": {
    "scrolled": true
   },
   "outputs": [
    {
     "data": {
      "text/plain": [
       "Children_number\n",
       "0.0     1082508\n",
       "1.0      417803\n",
       "2.0      374309\n",
       "3.0      192746\n",
       "4.0       97830\n",
       "5.0       50772\n",
       "6.0       27004\n",
       "7.0       14291\n",
       "8.0        8627\n",
       "9.0        4320\n",
       "10.0       4053\n",
       "11.0       1518\n",
       "12.0       1687\n",
       "13.0        776\n",
       "14.0        553\n",
       "15.0        987\n",
       "16.0        281\n",
       "17.0        219\n",
       "18.0        154\n",
       "19.0         74\n",
       "20.0        403\n",
       "21.0         67\n",
       "22.0         70\n",
       "23.0         37\n",
       "24.0         26\n",
       "25.0         85\n",
       "26.0         19\n",
       "27.0         14\n",
       "28.0         12\n",
       "29.0          5\n",
       "30.0         61\n",
       "31.0          6\n",
       "32.0          6\n",
       "33.0          5\n",
       "34.0          3\n",
       "35.0         11\n",
       "36.0          4\n",
       "37.0          3\n",
       "38.0          3\n",
       "39.0          1\n",
       "40.0          3\n",
       "41.0          1\n",
       "42.0          1\n",
       "43.0          1\n",
       "44.0          2\n",
       "45.0          2\n",
       "47.0          3\n",
       "50.0          4\n",
       "51.0          6\n",
       "52.0          4\n",
       "55.0          3\n",
       "59.0          1\n",
       "60.0          2\n",
       "62.0          1\n",
       "64.0          1\n",
       "90.0          1\n",
       "97.0         72\n",
       "98.0       3105\n",
       "99.0       7621\n",
       "Name: count, dtype: int64"
      ]
     },
     "execution_count": 194,
     "metadata": {},
     "output_type": "execute_result"
    }
   ],
   "source": [
    "Droped_datasetdf['Children_number'].value_counts().sort_index()"
   ]
  },
  {
   "cell_type": "code",
   "execution_count": 195,
   "id": "588b2a39-2aec-4d90-ba4d-169c89fa3d97",
   "metadata": {
    "scrolled": true
   },
   "outputs": [
    {
     "name": "stdout",
     "output_type": "stream",
     "text": [
      "Number of NaN values': 73822\n"
     ]
    }
   ],
   "source": [
    "nan_count = Droped_datasetdf['Children_number'].isna().sum()\n",
    "print(f\"Number of NaN values': {nan_count}\")"
   ]
  },
  {
   "cell_type": "code",
   "execution_count": 196,
   "id": "9ed9d776-26c3-4029-b280-517f247f346e",
   "metadata": {},
   "outputs": [],
   "source": [
    "Droped_datasetdf = Droped_datasetdf[~((Droped_datasetdf['Children_number'].isin([98, 99])))]"
   ]
  },
  {
   "cell_type": "code",
   "execution_count": 197,
   "id": "3432fa01-c68c-48c1-a04e-fdec4bebf4f4",
   "metadata": {},
   "outputs": [],
   "source": [
    "Droped_datasetdf['Children_number'] = Droped_datasetdf['Children_number'].apply(lambda x: 1 if x > 0 else 0)"
   ]
  },
  {
   "cell_type": "code",
   "execution_count": 198,
   "id": "8b4d7f60-bab4-42d5-bb9b-d7e523e8134b",
   "metadata": {},
   "outputs": [],
   "source": [
    "Droped_new_df['Children_number'] = Droped_datasetdf['Children_number']"
   ]
  },
  {
   "cell_type": "markdown",
   "id": "a396a983-892d-4fbf-8137-88e73d1f84ba",
   "metadata": {},
   "source": [
    "#### EMP_2010:Employment"
   ]
  },
  {
   "cell_type": "code",
   "execution_count": 199,
   "id": "19e074da-00eb-42fe-b053-a5d087ab43a5",
   "metadata": {},
   "outputs": [],
   "source": [
    "Droped_datasetdf['Employment'] = Droped_datasetdf['EMP_2010']"
   ]
  },
  {
   "cell_type": "code",
   "execution_count": 200,
   "id": "18b55470-6e84-4321-90df-69ee26e019f1",
   "metadata": {
    "scrolled": true
   },
   "outputs": [
    {
     "data": {
      "text/plain": [
       "Employment\n",
       "1.0    552945\n",
       "2.0    265157\n",
       "3.0    144939\n",
       "4.0    128002\n",
       "5.0    152804\n",
       "6.0    725801\n",
       "Name: count, dtype: int64"
      ]
     },
     "execution_count": 200,
     "metadata": {},
     "output_type": "execute_result"
    }
   ],
   "source": [
    "Droped_datasetdf['Employment'].value_counts().sort_index()"
   ]
  },
  {
   "cell_type": "code",
   "execution_count": 201,
   "id": "94823fbd-b80f-4e67-84d9-05a8567a1548",
   "metadata": {
    "scrolled": true
   },
   "outputs": [
    {
     "name": "stdout",
     "output_type": "stream",
     "text": [
      "Number of NaN values': 385635\n"
     ]
    }
   ],
   "source": [
    "nan_count = Droped_datasetdf['Employment'].isna().sum()\n",
    "print(f\"Number of NaN values': {nan_count}\")"
   ]
  },
  {
   "cell_type": "code",
   "execution_count": 202,
   "id": "3e05b68b-0f50-4d1e-8170-5af373fae9ab",
   "metadata": {},
   "outputs": [],
   "source": [
    "Droped_datasetdf['Employment'] = Droped_datasetdf['Employment'].fillna(5)"
   ]
  },
  {
   "cell_type": "code",
   "execution_count": 203,
   "id": "30c0f124-cb4b-4281-bf7e-3088f618e730",
   "metadata": {},
   "outputs": [
    {
     "name": "stdout",
     "output_type": "stream",
     "text": [
      "Number of NaN values': 0\n"
     ]
    }
   ],
   "source": [
    "nan_count = Droped_datasetdf['Employment'].isna().sum()\n",
    "print(f\"Number of NaN values': {nan_count}\")"
   ]
  },
  {
   "cell_type": "code",
   "execution_count": 204,
   "id": "cd7bf74e-312d-41d5-a42a-b1f3f61e6eb1",
   "metadata": {},
   "outputs": [],
   "source": [
    "Droped_new_df['Employment'] = Droped_datasetdf['Employment']"
   ]
  },
  {
   "cell_type": "code",
   "execution_count": 205,
   "id": "98dcd236-1626-46a3-b47a-cd8c426cd866",
   "metadata": {},
   "outputs": [
    {
     "data": {
      "text/plain": [
       "(2594089, 63)"
      ]
     },
     "execution_count": 205,
     "metadata": {},
     "output_type": "execute_result"
    }
   ],
   "source": [
    "Droped_new_df.shape"
   ]
  },
  {
   "cell_type": "markdown",
   "id": "9271df43-e464-484a-9937-b4ee306e805d",
   "metadata": {},
   "source": [
    "### INCOME_2"
   ]
  },
  {
   "cell_type": "code",
   "execution_count": 206,
   "id": "ac0daa06-eb28-4ce7-819e-e6eed295dcbc",
   "metadata": {},
   "outputs": [],
   "source": [
    "Droped_new_df['INCOME_2'] = Droped_datasetdf['INCOME_2']"
   ]
  },
  {
   "cell_type": "code",
   "execution_count": 207,
   "id": "388fb329-d137-45dc-b62f-3b3500a1fd0c",
   "metadata": {},
   "outputs": [
    {
     "data": {
      "text/plain": [
       "INCOME_2\n",
       "0.000000e+00    44026\n",
       "8.139643e-08      135\n",
       "8.991144e-08        1\n",
       "1.713079e-07        1\n",
       "2.441893e-07       11\n",
       "                ...  \n",
       "6.542307e+07        1\n",
       "9.566582e+07        1\n",
       "1.360977e+08        1\n",
       "1.457195e+08        1\n",
       "8.980336e+08        2\n",
       "Name: count, Length: 169562, dtype: int64"
      ]
     },
     "execution_count": 207,
     "metadata": {},
     "output_type": "execute_result"
    }
   ],
   "source": [
    "Droped_new_df['INCOME_2'].value_counts().sort_index()"
   ]
  },
  {
   "cell_type": "code",
   "execution_count": 208,
   "id": "705cd388-2cd0-4771-9cb4-70df878e8380",
   "metadata": {},
   "outputs": [
    {
     "name": "stdout",
     "output_type": "stream",
     "text": [
      "Number of NaN values': 615344\n"
     ]
    }
   ],
   "source": [
    "nan_count = Droped_new_df['INCOME_2'].isna().sum()\n",
    "print(f\"Number of NaN values': {nan_count}\")"
   ]
  },
  {
   "cell_type": "code",
   "execution_count": 209,
   "id": "233d4b3d-e2c6-40b8-bc9c-e32ea4d7af59",
   "metadata": {},
   "outputs": [
    {
     "name": "stderr",
     "output_type": "stream",
     "text": [
      "/var/folders/_z/l4bh9x2d7_q8069ftw3jb2cr0000gn/T/ipykernel_53643/1179884599.py:8: DeprecationWarning: DataFrameGroupBy.apply operated on the grouping columns. This behavior is deprecated, and in a future version of pandas the grouping columns will be excluded from the operation. Either pass `include_groups=False` to exclude the groupings or explicitly select the grouping columns after groupby to silence this warning.\n",
      "  Droped_new_df = Droped_new_df.groupby(['COUNTRY_ISO3', 'wave']).apply(fill_na_with_group_mean)\n"
     ]
    },
    {
     "name": "stdout",
     "output_type": "stream",
     "text": [
      "\n",
      "Updated DataFrame with NaN values replaced in 'INCOME_2':\n",
      "         Disability  Food  Shelter  Relatives  Satisfy_life  Wellrested  \\\n",
      "0               2.0   1.0      1.0        2.0           1.0         2.0   \n",
      "1               2.0   1.0      1.0        1.0           1.0         1.0   \n",
      "2               2.0   1.0      1.0        1.0           1.0         1.0   \n",
      "3               2.0   2.0      2.0        1.0           1.0         2.0   \n",
      "4               2.0   1.0      1.0        2.0           1.0         1.0   \n",
      "...             ...   ...      ...        ...           ...         ...   \n",
      "2355278         2.0   2.0      2.0        1.0           2.0         2.0   \n",
      "2355279         2.0   2.0      2.0        1.0           1.0         1.0   \n",
      "2355280         2.0   2.0      2.0        1.0           1.0         1.0   \n",
      "2355281         2.0   2.0      2.0        1.0           2.0         1.0   \n",
      "2355282         2.0   1.0      1.0        1.0           2.0         2.0   \n",
      "\n",
      "         Treated_respect  Smile_Laugh  Learn_interesting  Enjoyment  ...  \\\n",
      "0                    1.0          1.0                1.0        1.0  ...   \n",
      "1                    1.0          1.0                1.0        2.0  ...   \n",
      "2                    1.0          1.0                2.0        1.0  ...   \n",
      "3                    2.0          2.0                2.0        1.0  ...   \n",
      "4                    1.0          2.0                1.0        2.0  ...   \n",
      "...                  ...          ...                ...        ...  ...   \n",
      "2355278              1.0          2.0                1.0        2.0  ...   \n",
      "2355279              1.0          2.0                1.0        1.0  ...   \n",
      "2355280              1.0          1.0                1.0        1.0  ...   \n",
      "2355281              1.0          1.0                2.0        1.0  ...   \n",
      "2355282              1.0          1.0                1.0        1.0  ...   \n",
      "\n",
      "         Life_standard  Economic_condition  Income_feeling  Wellbeing_ladder  \\\n",
      "0                  2.0                 2.0             3.0               6.0   \n",
      "1                  1.0                 2.0             3.0               2.0   \n",
      "2                  2.0                 2.0             2.0               7.0   \n",
      "3                  2.0                 2.0             3.0               5.0   \n",
      "4                  1.0                 2.0             3.0               4.0   \n",
      "...                ...                 ...             ...               ...   \n",
      "2355278            3.0                 2.0             3.0               2.0   \n",
      "2355279            2.0                 2.0             2.0               5.0   \n",
      "2355280            1.0                 3.0             1.0               7.0   \n",
      "2355281            1.0                 3.0             1.0               2.0   \n",
      "2355282            3.0                 3.0             2.0               5.0   \n",
      "\n",
      "         Ladder_future  Children_number  Employment  INCOME_2  COUNTRY_ISO3  \\\n",
      "0                  7.0              1.0         5.0       NaN           AFG   \n",
      "1                  5.0              1.0         5.0       NaN           AFG   \n",
      "2                  8.0              1.0         5.0       NaN           AFG   \n",
      "3                  5.0              1.0         5.0       NaN           AFG   \n",
      "4                  5.0              0.0         5.0       NaN           AFG   \n",
      "...                ...              ...         ...       ...           ...   \n",
      "2355278            9.0              1.0         2.0       NaN           ZWE   \n",
      "2355279            6.0              1.0         3.0       NaN           ZWE   \n",
      "2355280            5.0              1.0         6.0       NaN           ZWE   \n",
      "2355281            2.0              1.0         6.0       NaN           ZWE   \n",
      "2355282            8.0              1.0         2.0       NaN           ZWE   \n",
      "\n",
      "         wave  \n",
      "0         3.0  \n",
      "1         3.0  \n",
      "2         3.0  \n",
      "3         3.0  \n",
      "4         3.0  \n",
      "...       ...  \n",
      "2355278  17.0  \n",
      "2355279  17.0  \n",
      "2355280  17.0  \n",
      "2355281  17.0  \n",
      "2355282  17.0  \n",
      "\n",
      "[2355283 rows x 66 columns]\n"
     ]
    }
   ],
   "source": [
    "def fill_na_with_group_mean(group):\n",
    "    group['INCOME_2'] = group['INCOME_2'].fillna(group['INCOME_2'].mean())\n",
    "    return group\n",
    "\n",
    "# Group by 'COUNTRY_IS03' and 'wave', then apply the function\n",
    "Droped_new_df['COUNTRY_ISO3'] = Droped_datasetdf['COUNTRY_ISO3']\n",
    "Droped_new_df['wave'] = Droped_datasetdf['wave']\n",
    "Droped_new_df = Droped_new_df.groupby(['COUNTRY_ISO3', 'wave']).apply(fill_na_with_group_mean)\n",
    "# Remove the group keys added by groupby\n",
    "Droped_new_df = Droped_new_df.reset_index(drop=True)\n",
    "\n",
    "print(\"\\nUpdated DataFrame with NaN values replaced in 'INCOME_2':\")\n",
    "print(Droped_new_df)"
   ]
  },
  {
   "cell_type": "markdown",
   "id": "beb6ee4c-b9d2-40f7-8107-139dc2a228b9",
   "metadata": {},
   "source": [
    "### Filter columns with nan"
   ]
  },
  {
   "cell_type": "markdown",
   "id": "d4bec71a-9616-4cb3-bf10-e35345a7628d",
   "metadata": {},
   "source": [
    "#### Check nan number and drop bad data"
   ]
  },
  {
   "cell_type": "code",
   "execution_count": 210,
   "id": "2f4cdad2-c6d8-416b-9f90-d17ac566d100",
   "metadata": {},
   "outputs": [
    {
     "name": "stdout",
     "output_type": "stream",
     "text": [
      "('Disability', 0)\n",
      "('Food', 0)\n",
      "('Shelter', 0)\n",
      "('Relatives', 0)\n",
      "('Satisfy_life', 0)\n",
      "('Wellrested', 0)\n",
      "('Treated_respect', 0)\n",
      "('Smile_Laugh', 0)\n",
      "('Learn_interesting', 0)\n",
      "('Enjoyment', 0)\n",
      "('Physical_pain', 0)\n",
      "('Worry', 0)\n",
      "('Sadness', 0)\n",
      "('Stress', 0)\n",
      "('Anger', 0)\n",
      "('Satisfied_city', 0)\n",
      "('Move_city', 0)\n",
      "('Recommend_city', 0)\n",
      "('Find_job', 0)\n",
      "('Public_transportation', 0)\n",
      "('Roads_highways', 0)\n",
      "('Education', 0)\n",
      "('Air_quality', 0)\n",
      "('Water_quality', 0)\n",
      "('Health_care', 0)\n",
      "('Good_housing', 0)\n",
      "('Friends_make', 0)\n",
      "('Racial_minority', 0)\n",
      "('Gay_les', 0)\n",
      "('Immigrants', 0)\n",
      "('Donation', 0)\n",
      "('Voluntary', 0)\n",
      "('Help_stranger', 0)\n",
      "('Voice_opinion', 0)\n",
      "('Confidence', 0)\n",
      "('Safety', 0)\n",
      "('Steal', 0)\n",
      "('Assualted', 0)\n",
      "('Children_respected', 0)\n",
      "('Children_learn', 0)\n",
      "('Women_respected', 0)\n",
      "('Preserve_environment', 0)\n",
      "('Freedom_life', 0)\n",
      "('Military', 0)\n",
      "('Judicial_system', 0)\n",
      "('Government', 0)\n",
      "('Banks', 0)\n",
      "('election_honesty', 0)\n",
      "('Corruption_business', 0)\n",
      "('Corruption_government', 0)\n",
      "('Gender', 22)\n",
      "('Leadership_country', 0)\n",
      "('Marital_status', 25943)\n",
      "('Acess_internet', 0)\n",
      "('Use_internet', 0)\n",
      "('Phone_internet', 0)\n",
      "('Life_standard', 0)\n",
      "('Economic_condition', 0)\n",
      "('Income_feeling', 0)\n",
      "('Wellbeing_ladder', 14561)\n",
      "('Ladder_future', 14570)\n",
      "('Children_number', 0)\n",
      "('Employment', 0)\n",
      "('INCOME_2', 374920)\n",
      "('COUNTRY_ISO3', 0)\n",
      "('wave', 0)\n"
     ]
    }
   ],
   "source": [
    "nan_counts = Droped_new_df.isna().sum()\n",
    "for line in zip(Droped_new_df.columns, nan_counts):\n",
    "    print(line)"
   ]
  },
  {
   "cell_type": "code",
   "execution_count": 211,
   "id": "71303ca3-9791-44b8-979f-978eaa4704bc",
   "metadata": {},
   "outputs": [],
   "source": [
    "Droped_new_df = Droped_new_df.dropna()"
   ]
  },
  {
   "cell_type": "code",
   "execution_count": 212,
   "id": "17d836da-1b50-4af4-b3e1-a5cd030e7a78",
   "metadata": {},
   "outputs": [
    {
     "name": "stdout",
     "output_type": "stream",
     "text": [
      "Shape of DataFrame after dropping columns: (1967478, 66)\n",
      "Remaining columns: ['Disability', 'Food', 'Shelter', 'Relatives', 'Satisfy_life', 'Wellrested', 'Treated_respect', 'Smile_Laugh', 'Learn_interesting', 'Enjoyment', 'Physical_pain', 'Worry', 'Sadness', 'Stress', 'Anger', 'Satisfied_city', 'Move_city', 'Recommend_city', 'Find_job', 'Public_transportation', 'Roads_highways', 'Education', 'Air_quality', 'Water_quality', 'Health_care', 'Good_housing', 'Friends_make', 'Racial_minority', 'Gay_les', 'Immigrants', 'Donation', 'Voluntary', 'Help_stranger', 'Voice_opinion', 'Confidence', 'Safety', 'Steal', 'Assualted', 'Children_respected', 'Children_learn', 'Women_respected', 'Preserve_environment', 'Freedom_life', 'Military', 'Judicial_system', 'Government', 'Banks', 'election_honesty', 'Corruption_business', 'Corruption_government', 'Gender', 'Leadership_country', 'Marital_status', 'Acess_internet', 'Use_internet', 'Phone_internet', 'Life_standard', 'Economic_condition', 'Income_feeling', 'Wellbeing_ladder', 'Ladder_future', 'Children_number', 'Employment', 'INCOME_2', 'COUNTRY_ISO3', 'wave']\n"
     ]
    }
   ],
   "source": [
    "print(\"Shape of DataFrame after dropping columns:\", Droped_new_df.shape)\n",
    "print(\"Remaining columns:\", Droped_new_df.columns.tolist())"
   ]
  },
  {
   "cell_type": "code",
   "execution_count": 213,
   "id": "b4f96c8a-8af8-45af-b97a-bec4769091f7",
   "metadata": {},
   "outputs": [
    {
     "name": "stdout",
     "output_type": "stream",
     "text": [
      "Number of NaN values': Disability         0\n",
      "Food               0\n",
      "Shelter            0\n",
      "Relatives          0\n",
      "Satisfy_life       0\n",
      "                  ..\n",
      "Children_number    0\n",
      "Employment         0\n",
      "INCOME_2           0\n",
      "COUNTRY_ISO3       0\n",
      "wave               0\n",
      "Length: 66, dtype: int64\n"
     ]
    }
   ],
   "source": [
    "nan_count = Droped_new_df.isna().sum()\n",
    "print(f\"Number of NaN values': {nan_count}\")"
   ]
  },
  {
   "cell_type": "code",
   "execution_count": 214,
   "id": "62e09f32-8a31-4762-a826-ceeb65c85dff",
   "metadata": {},
   "outputs": [],
   "source": [
    "parquet_file_path = '/Users/shibo/Desktop/GallupWellBeingGroup/Data/Droped_new_df.parquet'\n",
    "Droped_new_df.to_parquet(parquet_file_path, engine='pyarrow')"
   ]
  },
  {
   "cell_type": "code",
   "execution_count": 28,
   "id": "4cfc0166-0deb-44c2-ae79-15144655cd8c",
   "metadata": {},
   "outputs": [
    {
     "name": "stdout",
     "output_type": "stream",
     "text": [
      "('wave', 0)\n",
      "('COUNTRY_ISO3', 0)\n",
      "('INCOME_2', 379654)\n",
      "('WP16', 14593)\n",
      "('WP18', 14599)\n",
      "('WP23', 0)\n",
      "('WP27', 0)\n",
      "('WP30', 0)\n",
      "('WP31', 0)\n",
      "('WP40', 0)\n",
      "('WP43', 0)\n",
      "('WP60', 0)\n",
      "('WP61', 0)\n",
      "('WP63', 0)\n",
      "('WP65', 0)\n",
      "('WP67', 0)\n",
      "('WP68', 0)\n",
      "('WP69', 0)\n",
      "('WP70', 0)\n",
      "('WP71', 0)\n",
      "('WP74', 0)\n",
      "('WP83', 0)\n",
      "('WP85', 0)\n",
      "('WP86', 0)\n",
      "('WP88', 0)\n",
      "('WP89', 0)\n",
      "('WP91', 0)\n",
      "('WP92', 0)\n",
      "('WP93', 0)\n",
      "('WP94', 0)\n",
      "('WP95', 0)\n",
      "('WP97', 0)\n",
      "('WP98', 0)\n",
      "('WP10248', 0)\n",
      "('WP103', 0)\n",
      "('WP105', 0)\n",
      "('WP106', 0)\n",
      "('WP108', 0)\n",
      "('WP109', 0)\n",
      "('WP110', 0)\n",
      "('WP112', 0)\n",
      "('WP113', 0)\n",
      "('WP117', 0)\n",
      "('WP129', 0)\n",
      "('WP130', 0)\n",
      "('WP9050', 0)\n",
      "('WP132', 0)\n",
      "('WP134', 0)\n",
      "('WP137', 0)\n",
      "('WP138', 0)\n",
      "('WP139', 0)\n",
      "('WP141', 0)\n",
      "('WP144', 0)\n",
      "('WP145', 0)\n",
      "('WP146', 0)\n",
      "('WP150', 0)\n",
      "('WP1219', 19)\n",
      "('WP1220', 3112)\n",
      "('WP1223', 24733)\n",
      "('EMP_2010', 0)\n",
      "('WP1230', 0)\n",
      "('WP2319', 0)\n",
      "('WP16056', 0)\n",
      "('WP15862', 0)\n",
      "('WP19544', 0)\n"
     ]
    }
   ],
   "source": [
    "nan_counts = Droped_nan_datasetdf.isna().sum()\n",
    "for line in zip(Droped_nan_datasetdf.columns, nan_counts):\n",
    "    print(line)"
   ]
  },
  {
   "cell_type": "code",
   "execution_count": 29,
   "id": "19388a09-cfdd-4611-b12b-fc09add4d899",
   "metadata": {},
   "outputs": [
    {
     "name": "stderr",
     "output_type": "stream",
     "text": [
      "/var/folders/_z/l4bh9x2d7_q8069ftw3jb2cr0000gn/T/ipykernel_44113/3381236747.py:6: DeprecationWarning: DataFrameGroupBy.apply operated on the grouping columns. This behavior is deprecated, and in a future version of pandas the grouping columns will be excluded from the operation. Either pass `include_groups=False` to exclude the groupings or explicitly select the grouping columns after groupby to silence this warning.\n",
      "  Droped_nan_datasetdf = Droped_nan_datasetdf.groupby(['COUNTRY_ISO3', 'wave']).apply(fill_na_with_group_mean)\n"
     ]
    },
    {
     "name": "stdout",
     "output_type": "stream",
     "text": [
      "\n",
      "Updated DataFrame with NaN values replaced in 'INCOME_2':\n",
      "         wave COUNTRY_ISO3  INCOME_2  WP16  WP18  WP23  WP27  WP30  WP31  \\\n",
      "0           3          AFG       NaN   6.0   7.0   1.0   1.0   1.0   1.0   \n",
      "1           3          AFG       NaN   2.0   5.0   1.0   1.0   2.0   3.0   \n",
      "2           3          AFG       NaN   7.0   8.0   2.0   1.0   1.0   1.0   \n",
      "3           3          AFG       NaN   5.0   5.0   1.0   1.0   1.0   1.0   \n",
      "4           3          AFG       NaN   4.0   5.0   2.0   1.0   1.0   1.0   \n",
      "...       ...          ...       ...   ...   ...   ...   ...   ...   ...   \n",
      "2366004    17          ZWE       NaN   2.0   9.0   2.0   2.0   2.0   1.0   \n",
      "2366005    17          ZWE       NaN   5.0   6.0   2.0   1.0   2.0   3.0   \n",
      "2366006    17          ZWE       NaN   7.0   5.0   1.0   1.0   1.0   3.0   \n",
      "2366007    17          ZWE       NaN   2.0   2.0   2.0   2.0   2.0   3.0   \n",
      "2366008    17          ZWE       NaN   5.0   8.0   1.0   1.0   2.0   2.0   \n",
      "\n",
      "         WP40  ...  WP150  WP1219  WP1220  WP1223  EMP_2010  WP1230  WP2319  \\\n",
      "0         2.0  ...    1.0     1.0    20.0     1.0       5.0       1     1.0   \n",
      "1         1.0  ...    2.0     1.0    30.0     2.0       5.0       1     2.0   \n",
      "2         2.0  ...    1.0     1.0    17.0     1.0       5.0       1     1.0   \n",
      "3         1.0  ...    1.0     1.0    45.0     2.0       5.0       1     1.0   \n",
      "4         2.0  ...    2.0     1.0    19.0     1.0       5.0       0     2.0   \n",
      "...       ...  ...    ...     ...     ...     ...       ...     ...     ...   \n",
      "2366004   1.0  ...    1.0     2.0    29.0     4.0       2.0       1     2.0   \n",
      "2366005   1.0  ...    1.0     2.0    26.0     2.0       3.0       1     3.0   \n",
      "2366006   1.0  ...    1.0     2.0    24.0     1.0       6.0       1     3.0   \n",
      "2366007   1.0  ...    2.0     2.0    36.0     2.0       6.0       1     2.0   \n",
      "2366008   2.0  ...    2.0     2.0    24.0     2.0       2.0       1     2.0   \n",
      "\n",
      "         WP16056  WP15862  WP19544  \n",
      "0            2.0      2.0      2.0  \n",
      "1            2.0      2.0      2.0  \n",
      "2            2.0      2.0      2.0  \n",
      "3            2.0      2.0      2.0  \n",
      "4            2.0      2.0      2.0  \n",
      "...          ...      ...      ...  \n",
      "2366004      1.0      1.0      1.0  \n",
      "2366005      2.0      2.0      2.0  \n",
      "2366006      1.0      1.0      1.0  \n",
      "2366007      1.0      1.0      1.0  \n",
      "2366008      1.0      1.0      1.0  \n",
      "\n",
      "[2366009 rows x 65 columns]\n"
     ]
    }
   ],
   "source": [
    "def fill_na_with_group_mean(group):\n",
    "    group['INCOME_2'] = group['INCOME_2'].fillna(group['INCOME_2'].mean())\n",
    "    return group\n",
    "\n",
    "# Group by 'COUNTRY_IS03' and 'wave', then apply the function\n",
    "Droped_nan_datasetdf = Droped_nan_datasetdf.groupby(['COUNTRY_ISO3', 'wave']).apply(fill_na_with_group_mean)\n",
    "# Remove the group keys added by groupby\n",
    "Droped_nan_datasetdf = Droped_nan_datasetdf.reset_index(drop=True)\n",
    "\n",
    "print(\"\\nUpdated DataFrame with NaN values replaced in 'INCOME_2':\")\n",
    "print(Droped_nan_datasetdf)"
   ]
  },
  {
   "cell_type": "code",
   "execution_count": 30,
   "id": "2108f35c-eaa5-4684-bb4e-888ef7172e60",
   "metadata": {},
   "outputs": [
    {
     "name": "stdout",
     "output_type": "stream",
     "text": [
      "\n",
      "Number of NaN values in 'INCOME_2' column: 378035\n"
     ]
    }
   ],
   "source": [
    "num_nan_income_2 = Droped_nan_datasetdf['INCOME_2'].isna().sum()\n",
    "print(f\"\\nNumber of NaN values in 'INCOME_2' column: {num_nan_income_2}\")"
   ]
  },
  {
   "cell_type": "code",
   "execution_count": 31,
   "id": "cfa09ed4-cf1b-4b88-888c-c88f44dcbad3",
   "metadata": {},
   "outputs": [],
   "source": [
    "columns_to_check = ['INCOME_2','WP16', 'WP18', 'WP1219', 'WP1220']\n",
    "Droped_nan_datasetdf = Droped_nan_datasetdf.dropna(subset=columns_to_check)"
   ]
  },
  {
   "cell_type": "code",
   "execution_count": 32,
   "id": "5a58a3da-1cc0-46b6-aacd-01792033101d",
   "metadata": {},
   "outputs": [
    {
     "name": "stdout",
     "output_type": "stream",
     "text": [
      "('wave', 0)\n",
      "('COUNTRY_ISO3', 0)\n",
      "('INCOME_2', 0)\n",
      "('WP16', 0)\n",
      "('WP18', 0)\n",
      "('WP23', 0)\n",
      "('WP27', 0)\n",
      "('WP30', 0)\n",
      "('WP31', 0)\n",
      "('WP40', 0)\n",
      "('WP43', 0)\n",
      "('WP60', 0)\n",
      "('WP61', 0)\n",
      "('WP63', 0)\n",
      "('WP65', 0)\n",
      "('WP67', 0)\n",
      "('WP68', 0)\n",
      "('WP69', 0)\n",
      "('WP70', 0)\n",
      "('WP71', 0)\n",
      "('WP74', 0)\n",
      "('WP83', 0)\n",
      "('WP85', 0)\n",
      "('WP86', 0)\n",
      "('WP88', 0)\n",
      "('WP89', 0)\n",
      "('WP91', 0)\n",
      "('WP92', 0)\n",
      "('WP93', 0)\n",
      "('WP94', 0)\n",
      "('WP95', 0)\n",
      "('WP97', 0)\n",
      "('WP98', 0)\n",
      "('WP10248', 0)\n",
      "('WP103', 0)\n",
      "('WP105', 0)\n",
      "('WP106', 0)\n",
      "('WP108', 0)\n",
      "('WP109', 0)\n",
      "('WP110', 0)\n",
      "('WP112', 0)\n",
      "('WP113', 0)\n",
      "('WP117', 0)\n",
      "('WP129', 0)\n",
      "('WP130', 0)\n",
      "('WP9050', 0)\n",
      "('WP132', 0)\n",
      "('WP134', 0)\n",
      "('WP137', 0)\n",
      "('WP138', 0)\n",
      "('WP139', 0)\n",
      "('WP141', 0)\n",
      "('WP144', 0)\n",
      "('WP145', 0)\n",
      "('WP146', 0)\n",
      "('WP150', 0)\n",
      "('WP1219', 0)\n",
      "('WP1220', 0)\n",
      "('WP1223', 5258)\n",
      "('EMP_2010', 0)\n",
      "('WP1230', 0)\n",
      "('WP2319', 0)\n",
      "('WP16056', 0)\n",
      "('WP15862', 0)\n",
      "('WP19544', 0)\n",
      "Shape of DataFrame after dropping columns: (1980424, 65)\n"
     ]
    }
   ],
   "source": [
    "nan_counts = Droped_nan_datasetdf.isna().sum()\n",
    "for line in zip(Droped_nan_datasetdf.columns, nan_counts):\n",
    "    print(line)\n",
    "\n",
    "print(\"Shape of DataFrame after dropping columns:\", Droped_nan_datasetdf.shape)"
   ]
  },
  {
   "cell_type": "code",
   "execution_count": 33,
   "id": "3215a496-7eb7-4a7f-9899-e13e1b6caa59",
   "metadata": {},
   "outputs": [
    {
     "name": "stdout",
     "output_type": "stream",
     "text": [
      "\n",
      "Updated DataFrame after dropping rows with any NaN values:\n",
      "         wave COUNTRY_ISO3     INCOME_2  WP16  WP18  WP23  WP27  WP30  WP31  \\\n",
      "860         4          AFG  2830.160508   2.0   4.0   1.0   2.0   2.0   2.0   \n",
      "861         4          AFG  8086.172880   5.0   6.0   2.0   1.0   1.0   1.0   \n",
      "862         4          AFG  6468.938304   4.0   3.0   2.0   1.0   1.0   2.0   \n",
      "863         4          AFG  2425.851864   3.0   5.0   2.0   1.0   2.0   1.0   \n",
      "864         4          AFG  5660.321016   6.0   7.0   2.0   1.0   1.0   2.0   \n",
      "...       ...          ...          ...   ...   ...   ...   ...   ...   ...   \n",
      "2362157    13          ZWE  1825.338810   0.0   2.0   2.0   1.0   1.0   3.0   \n",
      "2362158    13          ZWE  5704.183781   2.0   8.0   2.0   1.0   2.0   3.0   \n",
      "2362159    13          ZWE  6845.020537   1.0   2.0   1.0   1.0   1.0   1.0   \n",
      "2362160    13          ZWE  6388.685835   0.0   2.0   2.0   1.0   1.0   3.0   \n",
      "2362161    13          ZWE  6845.020537   0.0   3.0   2.0   1.0   2.0   3.0   \n",
      "\n",
      "         WP40  ...  WP150  WP1219  WP1220  WP1223  EMP_2010  WP1230  WP2319  \\\n",
      "860       1.0  ...    2.0     1.0    65.0     2.0       1.0       1     2.0   \n",
      "861       2.0  ...    1.0     1.0    55.0     2.0       5.0       1     2.0   \n",
      "862       2.0  ...    2.0     1.0    16.0     1.0       6.0       1     3.0   \n",
      "863       2.0  ...    2.0     1.0    45.0     2.0       1.0       0     2.0   \n",
      "864       2.0  ...    1.0     1.0    38.0     2.0       1.0       1     2.0   \n",
      "...       ...  ...    ...     ...     ...     ...       ...     ...     ...   \n",
      "2362157   1.0  ...    1.0     1.0    24.0     1.0       1.0       1     2.0   \n",
      "2362158   1.0  ...    2.0     1.0    32.0     2.0       1.0       0     3.0   \n",
      "2362159   1.0  ...    1.0     1.0    46.0     2.0       2.0       1     2.0   \n",
      "2362160   1.0  ...    1.0     2.0    16.0     1.0       6.0       1     3.0   \n",
      "2362161   1.0  ...    1.0     2.0    23.0     2.0       4.0       0     3.0   \n",
      "\n",
      "         WP16056  WP15862  WP19544  \n",
      "860          2.0      2.0      2.0  \n",
      "861          2.0      2.0      2.0  \n",
      "862          2.0      2.0      2.0  \n",
      "863          2.0      2.0      2.0  \n",
      "864          2.0      2.0      2.0  \n",
      "...          ...      ...      ...  \n",
      "2362157      1.0      2.0      1.0  \n",
      "2362158      1.0      2.0      1.0  \n",
      "2362159      2.0      2.0      2.0  \n",
      "2362160      2.0      2.0      2.0  \n",
      "2362161      1.0      2.0      1.0  \n",
      "\n",
      "[1975166 rows x 65 columns]\n"
     ]
    }
   ],
   "source": [
    "Droped_fullnan_datasetdf = Droped_nan_datasetdf.dropna()\n",
    "\n",
    "# Display the updated DataFrame\n",
    "print(\"\\nUpdated DataFrame after dropping rows with any NaN values:\")\n",
    "print(Droped_fullnan_datasetdf)"
   ]
  },
  {
   "cell_type": "code",
   "execution_count": 34,
   "id": "fa7a7751-dcbc-4cfc-a4d2-223eb90c88a2",
   "metadata": {},
   "outputs": [
    {
     "name": "stdout",
     "output_type": "stream",
     "text": [
      "('wave', 0)\n",
      "('COUNTRY_ISO3', 0)\n",
      "('INCOME_2', 0)\n",
      "('WP16', 0)\n",
      "('WP18', 0)\n",
      "('WP23', 0)\n",
      "('WP27', 0)\n",
      "('WP30', 0)\n",
      "('WP31', 0)\n",
      "('WP40', 0)\n",
      "('WP43', 0)\n",
      "('WP60', 0)\n",
      "('WP61', 0)\n",
      "('WP63', 0)\n",
      "('WP65', 0)\n",
      "('WP67', 0)\n",
      "('WP68', 0)\n",
      "('WP69', 0)\n",
      "('WP70', 0)\n",
      "('WP71', 0)\n",
      "('WP74', 0)\n",
      "('WP83', 0)\n",
      "('WP85', 0)\n",
      "('WP86', 0)\n",
      "('WP88', 0)\n",
      "('WP89', 0)\n",
      "('WP91', 0)\n",
      "('WP92', 0)\n",
      "('WP93', 0)\n",
      "('WP94', 0)\n",
      "('WP95', 0)\n",
      "('WP97', 0)\n",
      "('WP98', 0)\n",
      "('WP10248', 0)\n",
      "('WP103', 0)\n",
      "('WP105', 0)\n",
      "('WP106', 0)\n",
      "('WP108', 0)\n",
      "('WP109', 0)\n",
      "('WP110', 0)\n",
      "('WP112', 0)\n",
      "('WP113', 0)\n",
      "('WP117', 0)\n",
      "('WP129', 0)\n",
      "('WP130', 0)\n",
      "('WP9050', 0)\n",
      "('WP132', 0)\n",
      "('WP134', 0)\n",
      "('WP137', 0)\n",
      "('WP138', 0)\n",
      "('WP139', 0)\n",
      "('WP141', 0)\n",
      "('WP144', 0)\n",
      "('WP145', 0)\n",
      "('WP146', 0)\n",
      "('WP150', 0)\n",
      "('WP1219', 0)\n",
      "('WP1220', 0)\n",
      "('WP1223', 0)\n",
      "('EMP_2010', 0)\n",
      "('WP1230', 0)\n",
      "('WP2319', 0)\n",
      "('WP16056', 0)\n",
      "('WP15862', 0)\n",
      "('WP19544', 0)\n"
     ]
    }
   ],
   "source": [
    "nan_counts = Droped_fullnan_datasetdf.isna().sum()\n",
    "for line in zip(Droped_fullnan_datasetdf.columns, nan_counts):\n",
    "    print(line)"
   ]
  },
  {
   "cell_type": "code",
   "execution_count": null,
   "id": "46b2387a-b941-462a-ac2f-401ccddd5c30",
   "metadata": {},
   "outputs": [],
   "source": []
  },
  {
   "cell_type": "code",
   "execution_count": null,
   "id": "b9ce59ee-7e6b-46d4-bfbf-dd7b848583a2",
   "metadata": {},
   "outputs": [],
   "source": []
  },
  {
   "cell_type": "code",
   "execution_count": null,
   "id": "8b6b39cc-db1f-4c8e-b879-193f1e1ceda8",
   "metadata": {},
   "outputs": [],
   "source": []
  },
  {
   "cell_type": "code",
   "execution_count": null,
   "id": "52cffcb3-8b56-47a9-9149-fb803f85bf2e",
   "metadata": {},
   "outputs": [],
   "source": []
  },
  {
   "cell_type": "code",
   "execution_count": null,
   "id": "0734816c-3ad5-4b18-9979-032573895c34",
   "metadata": {},
   "outputs": [],
   "source": []
  },
  {
   "cell_type": "code",
   "execution_count": null,
   "id": "f32e0fe2-4e83-46c8-8fd3-d25278f0bcb9",
   "metadata": {},
   "outputs": [],
   "source": []
  },
  {
   "cell_type": "code",
   "execution_count": null,
   "id": "8cae3aa9-972a-4abc-bddc-df38ad219792",
   "metadata": {},
   "outputs": [],
   "source": []
  },
  {
   "cell_type": "code",
   "execution_count": null,
   "id": "150d1ca5-11b9-44f8-91ee-e993e24a65cc",
   "metadata": {},
   "outputs": [],
   "source": []
  },
  {
   "cell_type": "code",
   "execution_count": null,
   "id": "3dd2125b-7d14-4ebd-9eb4-d6e7c699b8f2",
   "metadata": {},
   "outputs": [],
   "source": []
  },
  {
   "cell_type": "code",
   "execution_count": null,
   "id": "e2d2833c-7245-499b-b2f4-86c835e75191",
   "metadata": {},
   "outputs": [],
   "source": []
  },
  {
   "cell_type": "code",
   "execution_count": null,
   "id": "39db911b-50cb-4bef-b4aa-6075f5a9e5b1",
   "metadata": {},
   "outputs": [],
   "source": []
  }
 ],
 "metadata": {
  "kernelspec": {
   "display_name": "Python 3 (ipykernel)",
   "language": "python",
   "name": "python3"
  },
  "language_info": {
   "codemirror_mode": {
    "name": "ipython",
    "version": 3
   },
   "file_extension": ".py",
   "mimetype": "text/x-python",
   "name": "python",
   "nbconvert_exporter": "python",
   "pygments_lexer": "ipython3",
   "version": "3.9.19"
  }
 },
 "nbformat": 4,
 "nbformat_minor": 5
}
