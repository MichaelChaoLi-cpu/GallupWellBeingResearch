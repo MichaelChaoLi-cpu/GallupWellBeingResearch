{
 "cells": [
  {
   "cell_type": "markdown",
   "id": "93762d12-6fdd-4e46-bb6c-9714b6f55ed4",
   "metadata": {},
   "source": [
    "# Random Forest Test with Well-being"
   ]
  },
  {
   "cell_type": "code",
   "execution_count": 1,
   "id": "37e38839-0184-49f6-b042-519212e34230",
   "metadata": {},
   "outputs": [
    {
     "data": {
      "text/plain": [
       "'/Users/shibo/Desktop/GallupWellBeingGroup/Code'"
      ]
     },
     "execution_count": 1,
     "metadata": {},
     "output_type": "execute_result"
    }
   ],
   "source": [
    "%pwd"
   ]
  },
  {
   "cell_type": "code",
   "execution_count": 2,
   "id": "aeb33755-8671-40da-9443-2e9715273b63",
   "metadata": {},
   "outputs": [
    {
     "name": "stdout",
     "output_type": "stream",
     "text": [
      "/Users/shibo/Desktop/GallupWellBeingGroup\n"
     ]
    }
   ],
   "source": [
    "%cd .."
   ]
  },
  {
   "cell_type": "code",
   "execution_count": null,
   "id": "b2565ea8-31ec-449d-8ad9-5568e7d40cfd",
   "metadata": {},
   "outputs": [],
   "source": []
  },
  {
   "cell_type": "markdown",
   "id": "2f14be87-268b-4229-983d-8cb41dfc2296",
   "metadata": {},
   "source": [
    "## Import Package"
   ]
  },
  {
   "cell_type": "code",
   "execution_count": 3,
   "id": "af6ef393-fd32-42b6-aefe-7e0686a40901",
   "metadata": {},
   "outputs": [],
   "source": [
    "import os \n",
    "import pandas as pd"
   ]
  },
  {
   "cell_type": "markdown",
   "id": "58285882-dbf4-4265-8b82-77eabf953a13",
   "metadata": {},
   "source": [
    "## Fine Wash"
   ]
  },
  {
   "cell_type": "markdown",
   "id": "530c9c5a-3919-4cfe-893a-8d9bff2da19d",
   "metadata": {},
   "source": [
    "### Load Dataset"
   ]
  },
  {
   "cell_type": "code",
   "execution_count": 4,
   "id": "6c1929e6-a11b-477f-b941-f8cbc7ed00f9",
   "metadata": {},
   "outputs": [],
   "source": [
    "RawDataset_Filename = os.path.join(\"Data\", \"GallupWB_WashedRawData17Wave_v1.parquet\")"
   ]
  },
  {
   "cell_type": "code",
   "execution_count": 5,
   "id": "1fdf1caf-e6f9-4bd3-8b03-613a42e68490",
   "metadata": {},
   "outputs": [],
   "source": [
    "RawDataset = pd.read_parquet(RawDataset_Filename)"
   ]
  },
  {
   "cell_type": "code",
   "execution_count": 6,
   "id": "d3ea54de-5c7c-49eb-ab5f-c0bc0dd9bf0b",
   "metadata": {},
   "outputs": [
    {
     "data": {
      "text/plain": [
       "(2594089, 90)"
      ]
     },
     "execution_count": 6,
     "metadata": {},
     "output_type": "execute_result"
    }
   ],
   "source": [
    "RawDataset.shape"
   ]
  },
  {
   "cell_type": "code",
   "execution_count": 7,
   "id": "ba8e261a-7b3e-4232-afcf-14bc5fda9b89",
   "metadata": {},
   "outputs": [
    {
     "name": "stdout",
     "output_type": "stream",
     "text": [
      "('wave', 0)\n",
      "('COUNTRY_ISO3', 0)\n",
      "('INCOME_1', 420409)\n",
      "('INCOME_2', 423416)\n",
      "('INCOME_3', 420411)\n",
      "('INCOME_4', 423418)\n",
      "('INCOME_5', 419801)\n",
      "('INCOME_6', 2594089)\n",
      "('INCOME_7', 419841)\n",
      "('WP16', 14604)\n",
      "('WP18', 14603)\n",
      "('WP23', 123903)\n",
      "('WP27', 151900)\n",
      "('WP30', 129145)\n",
      "('WP31', 142727)\n",
      "('WP40', 52441)\n",
      "('WP43', 49598)\n",
      "('WP60', 86371)\n",
      "('WP61', 67376)\n",
      "('WP63', 104399)\n",
      "('WP65', 69390)\n",
      "('WP67', 74033)\n",
      "('WP68', 85721)\n",
      "('WP69', 82693)\n",
      "('WP70', 83895)\n",
      "('WP71', 184749)\n",
      "('WP74', 100720)\n",
      "('WP83', 185474)\n",
      "('WP85', 310161)\n",
      "('WP86', 240808)\n",
      "('WP19472', 1719188)\n",
      "('WP88', 262622)\n",
      "('WP89', 171021)\n",
      "('WP91', 198859)\n",
      "('WP92', 200973)\n",
      "('WP93', 145248)\n",
      "('WP94', 202990)\n",
      "('WP95', 201667)\n",
      "('WP96', 2594089)\n",
      "('WP97', 238617)\n",
      "('WP98', 231858)\n",
      "('WP10248', 710990)\n",
      "('WP103', 452880)\n",
      "('WP105', 545368)\n",
      "('WP106', 262574)\n",
      "('WP108', 189759)\n",
      "('WP109', 187253)\n",
      "('WP110', 193819)\n",
      "('WP111', 675056)\n",
      "('WP112', 419460)\n",
      "('WP113', 206175)\n",
      "('WP117', 268482)\n",
      "('WP118', 786324)\n",
      "('WP119', 291689)\n",
      "('WP129', 177618)\n",
      "('WP130', 156114)\n",
      "('WP9050', 731999)\n",
      "('WP131', 408916)\n",
      "('WP132', 218748)\n",
      "('WP134', 162829)\n",
      "('WP137', 503224)\n",
      "('WP138', 392723)\n",
      "('WP139', 426999)\n",
      "('WP141', 240493)\n",
      "('WP144', 461870)\n",
      "('WP10251', 790018)\n",
      "('WP145', 294340)\n",
      "('WP146', 401409)\n",
      "('WP150', 518606)\n",
      "('WP151', 347999)\n",
      "('WP153', 420278)\n",
      "('WP155', 452531)\n",
      "('WP156', 400767)\n",
      "('WP13125', 1158474)\n",
      "('WP1219', 22)\n",
      "('WP1220', 3306)\n",
      "('WP1223', 26119)\n",
      "('EMP_2010', 433208)\n",
      "('WP1230', 80157)\n",
      "('WP1233', 303845)\n",
      "('WP2319', 146446)\n",
      "('WP4657', 230088)\n",
      "('WP9042', 2467008)\n",
      "('WP9048', 2469606)\n",
      "('WP17625', 1287824)\n",
      "('WP17626', 1412789)\n",
      "('WP16056', 1478999)\n",
      "('WP15862', 1880708)\n",
      "('WP19544', 1824015)\n",
      "('WP3117', 77184)\n"
     ]
    }
   ],
   "source": [
    "nan_counts = RawDataset.isna().sum()\n",
    "for line in zip(RawDataset.columns, nan_counts):\n",
    "    print(line)"
   ]
  },
  {
   "cell_type": "markdown",
   "id": "7a243367-b00e-4819-a1d2-b57c1dd02df0",
   "metadata": {},
   "source": [
    "### wave"
   ]
  },
  {
   "cell_type": "code",
   "execution_count": 8,
   "id": "8f4ef7f6-230a-407a-932a-be63f57308d6",
   "metadata": {},
   "outputs": [
    {
     "data": {
      "text/plain": [
       "wave\n",
       "1.0     129972\n",
       "2.0     104831\n",
       "3.0     120443\n",
       "3.1       3568\n",
       "3.2       4141\n",
       "3.3       2592\n",
       "3.4       1758\n",
       "4.0      99664\n",
       "4.1      18074\n",
       "4.2      19164\n",
       "4.3       1147\n",
       "5.0     112702\n",
       "5.1      18141\n",
       "5.2      20013\n",
       "6.0     130614\n",
       "6.1      23134\n",
       "6.2      26258\n",
       "6.3       7224\n",
       "6.4       7157\n",
       "6.5       1077\n",
       "7.1     151720\n",
       "7.2      49465\n",
       "7.3      12879\n",
       "7.4      16019\n",
       "8.1     138673\n",
       "9.1     154205\n",
       "9.2      36143\n",
       "10.1    148232\n",
       "11.1    148724\n",
       "11.2      2000\n",
       "12.1    154166\n",
       "12.9      1000\n",
       "13.1    118922\n",
       "13.2     33952\n",
       "14.1    176253\n",
       "15.1    121207\n",
       "15.5      6350\n",
       "15.9      1917\n",
       "16.1    126902\n",
       "17.1    143686\n",
       "Name: count, dtype: int64"
      ]
     },
     "execution_count": 8,
     "metadata": {},
     "output_type": "execute_result"
    }
   ],
   "source": [
    "RawDataset['wave'].value_counts().sort_index()"
   ]
  },
  {
   "cell_type": "code",
   "execution_count": 9,
   "id": "027362ce-90ab-4652-b961-408d99f20c9a",
   "metadata": {},
   "outputs": [],
   "source": [
    "RawDataset['wave'] = RawDataset['wave'].astype(int)"
   ]
  },
  {
   "cell_type": "code",
   "execution_count": 10,
   "id": "9d556560-de8b-4893-ae32-cb20505bfef3",
   "metadata": {},
   "outputs": [
    {
     "data": {
      "text/plain": [
       "wave\n",
       "1     129972\n",
       "2     104831\n",
       "3     132502\n",
       "4     138049\n",
       "5     150856\n",
       "6     195464\n",
       "7     230083\n",
       "8     138673\n",
       "9     190348\n",
       "10    148232\n",
       "11    150724\n",
       "12    155166\n",
       "13    152874\n",
       "14    176253\n",
       "15    129474\n",
       "16    126902\n",
       "17    143686\n",
       "Name: count, dtype: int64"
      ]
     },
     "execution_count": 10,
     "metadata": {},
     "output_type": "execute_result"
    }
   ],
   "source": [
    "RawDataset['wave'].value_counts().sort_index()"
   ]
  },
  {
   "cell_type": "markdown",
   "id": "0873d909-74ad-49b1-b674-d7b4d9755ba8",
   "metadata": {},
   "source": [
    "### check elements"
   ]
  },
  {
   "cell_type": "code",
   "execution_count": 11,
   "id": "191ddc81-58c0-4c36-8e60-dc84e6abcd93",
   "metadata": {},
   "outputs": [
    {
     "data": {
      "text/plain": [
       "(2594089, 90)"
      ]
     },
     "execution_count": 11,
     "metadata": {},
     "output_type": "execute_result"
    }
   ],
   "source": [
    "RawDataset.shape"
   ]
  },
  {
   "cell_type": "code",
   "execution_count": 12,
   "id": "549e2e0e-ea1e-4de1-8c10-b93c83d9a17c",
   "metadata": {
    "scrolled": true
   },
   "outputs": [
    {
     "data": {
      "text/plain": [
       "0    1.0\n",
       "1    1.0\n",
       "2    1.0\n",
       "3    1.0\n",
       "4    1.0\n",
       "Name: WP67, dtype: float64"
      ]
     },
     "execution_count": 12,
     "metadata": {},
     "output_type": "execute_result"
    }
   ],
   "source": [
    "RawDataset['WP67'].head()"
   ]
  },
  {
   "cell_type": "markdown",
   "id": "6497b1fa-d843-459f-934a-d9452fa13115",
   "metadata": {},
   "source": [
    "### Filter columns and Replace elements"
   ]
  },
  {
   "cell_type": "code",
   "execution_count": 13,
   "id": "c8c63b3a-1b14-485e-a39c-0796124a34a3",
   "metadata": {},
   "outputs": [],
   "source": [
    "Droped_datasetdf = RawDataset.drop(columns=['WP111','WP118','WP119','WP131','INCOME_1','INCOME_3','INCOME_4','INCOME_5','INCOME_6','INCOME_7',\n",
    "                     'WP151','WP153','WP155','WP156','WP13125','WP1233','WP4657',\n",
    "                     'WP9042','WP9048','WP17625','WP3117','WP19472'])"
   ]
  },
  {
   "cell_type": "code",
   "execution_count": 14,
   "id": "766ae3b0-e6ef-4ec7-8a1d-41db7d3ea887",
   "metadata": {},
   "outputs": [
    {
     "data": {
      "text/plain": [
       "(2594089, 68)"
      ]
     },
     "execution_count": 14,
     "metadata": {},
     "output_type": "execute_result"
    }
   ],
   "source": [
    "Droped_datasetdf.shape"
   ]
  },
  {
   "cell_type": "markdown",
   "id": "a22d37e1-4c0c-455d-b10c-157833c662a1",
   "metadata": {},
   "source": [
    "#### WP23: Disability"
   ]
  },
  {
   "cell_type": "code",
   "execution_count": 15,
   "id": "0fc1199b-1dea-4b29-89f5-adca4c130340",
   "metadata": {},
   "outputs": [],
   "source": [
    "Droped_datasetdf['WP23'] = Droped_datasetdf['WP23'].replace({3: 1, 4: 1})"
   ]
  },
  {
   "cell_type": "code",
   "execution_count": 16,
   "id": "b5b9c758-9efc-4702-bd37-2ab7246200dc",
   "metadata": {},
   "outputs": [],
   "source": [
    "Droped_datasetdf['WP23'] = Droped_datasetdf['WP23'].fillna(2)"
   ]
  },
  {
   "cell_type": "markdown",
   "id": "74aab575-4598-4d28-8541-f8a9dae855c8",
   "metadata": {},
   "source": [
    "#### WP40, WP43: Food&Shelter"
   ]
  },
  {
   "cell_type": "code",
   "execution_count": 17,
   "id": "9ee74b2d-4684-47d1-8bc5-8c56ff2e8e88",
   "metadata": {},
   "outputs": [],
   "source": [
    "Droped_datasetdf['WP40'] = Droped_datasetdf['WP40'].replace({3: 1, 4: 1})\n",
    "Droped_datasetdf['WP40'] = Droped_datasetdf['WP40'].fillna(1)\n",
    "Droped_datasetdf['WP43'] = Droped_datasetdf['WP43'].replace({3: 1, 4: 1})\n",
    "Droped_datasetdf['WP43'] = Droped_datasetdf['WP43'].fillna(1)"
   ]
  },
  {
   "cell_type": "markdown",
   "id": "11ed10f5-7534-4a2f-8256-e92d92009e4c",
   "metadata": {},
   "source": [
    "#### Other Binary variables"
   ]
  },
  {
   "cell_type": "markdown",
   "id": "85c9a769-717c-4eea-9572-4ce424169bf3",
   "metadata": {},
   "source": [
    "DK and refused to No"
   ]
  },
  {
   "cell_type": "code",
   "execution_count": 18,
   "id": "8cfc2274-2c83-43f8-a9fc-2be4205df693",
   "metadata": {},
   "outputs": [],
   "source": [
    "columns_to_update = ['WP27','WP30', 'WP60', 'WP61', 'WP63', 'WP65', 'WP67', 'WP68', 'WP69', 'WP70',\n",
    "                     'WP71', 'WP74', 'WP83', 'WP85','WP86', 'WP89', 'WP91', 'WP92', 'WP93', 'WP94', 'WP95', 'WP97', 'WP98', 'WP10248',\n",
    "                     'WP103', 'WP105', 'WP106', 'WP108', 'WP109', 'WP110', 'WP112', 'WP113', 'WP117','WP129', 'WP130', 'WP9050', 'WP132', 'WP134', \n",
    "                     'WP137', 'WP138', 'WP139', 'WP141', 'WP144', 'WP145', 'WP146', 'WP150',\n",
    "                     'WP16056', 'WP15862', 'WP19544']\n",
    "Droped_datasetdf[columns_to_update] = Droped_datasetdf[columns_to_update].replace({3: 2, 4: 2})"
   ]
  },
  {
   "cell_type": "code",
   "execution_count": 19,
   "id": "02050206-667b-4720-afc7-c1a25373dbdc",
   "metadata": {},
   "outputs": [],
   "source": [
    "Droped_datasetdf[columns_to_update] = Droped_datasetdf[columns_to_update].fillna(2)"
   ]
  },
  {
   "cell_type": "markdown",
   "id": "6b5fc31b-c60d-49e7-8116-4c0473531338",
   "metadata": {},
   "source": [
    "#### Non-binary variables"
   ]
  },
  {
   "cell_type": "code",
   "execution_count": 20,
   "id": "66d34b59-0a05-44c7-aeb6-38503521761d",
   "metadata": {
    "scrolled": true
   },
   "outputs": [
    {
     "name": "stderr",
     "output_type": "stream",
     "text": [
      "/var/folders/_z/l4bh9x2d7_q8069ftw3jb2cr0000gn/T/ipykernel_44113/2732660390.py:2: FutureWarning: DataFrame.applymap has been deprecated. Use DataFrame.map instead.\n",
      "  Droped_datasetdf[columns_to_update] = Droped_datasetdf[columns_to_update].applymap(lambda x: 2 if x not in [1, 2, 3] else x)\n"
     ]
    }
   ],
   "source": [
    "columns_to_update = ['WP31','WP88','WP2319']\n",
    "Droped_datasetdf[columns_to_update] = Droped_datasetdf[columns_to_update].applymap(lambda x: 2 if x not in [1, 2, 3] else x)"
   ]
  },
  {
   "cell_type": "code",
   "execution_count": 21,
   "id": "53e9cfb1-79ac-486f-8be4-bb69b655243d",
   "metadata": {},
   "outputs": [],
   "source": [
    "Droped_datasetdf = Droped_datasetdf[~((Droped_datasetdf['WP16'].isin([98, 99])) | (Droped_datasetdf['WP18'].isin([98, 99])))]\n",
    "\n",
    "# Reset index (optional)\n",
    "Droped_datasetdf.reset_index(drop=True, inplace=True)"
   ]
  },
  {
   "cell_type": "markdown",
   "id": "5e32b9af-a961-46e1-b8dd-26c7361009e9",
   "metadata": {},
   "source": [
    "#### WP1230: Children number"
   ]
  },
  {
   "cell_type": "code",
   "execution_count": 22,
   "id": "3432fa01-c68c-48c1-a04e-fdec4bebf4f4",
   "metadata": {},
   "outputs": [],
   "source": [
    "Droped_datasetdf['WP1230'] = Droped_datasetdf['WP1230'].apply(lambda x: 1 if x > 0 else 0)"
   ]
  },
  {
   "cell_type": "markdown",
   "id": "a396a983-892d-4fbf-8137-88e73d1f84ba",
   "metadata": {},
   "source": [
    "#### EMP_2010:Employment"
   ]
  },
  {
   "cell_type": "code",
   "execution_count": 23,
   "id": "3e05b68b-0f50-4d1e-8170-5af373fae9ab",
   "metadata": {},
   "outputs": [],
   "source": [
    "Droped_datasetdf['EMP_2010'] = Droped_datasetdf['EMP_2010'].fillna(5)"
   ]
  },
  {
   "cell_type": "code",
   "execution_count": 24,
   "id": "98dcd236-1626-46a3-b47a-cd8c426cd866",
   "metadata": {},
   "outputs": [
    {
     "data": {
      "text/plain": [
       "(2366009, 68)"
      ]
     },
     "execution_count": 24,
     "metadata": {},
     "output_type": "execute_result"
    }
   ],
   "source": [
    "Droped_datasetdf.shape"
   ]
  },
  {
   "cell_type": "markdown",
   "id": "beb6ee4c-b9d2-40f7-8107-139dc2a228b9",
   "metadata": {},
   "source": [
    "### Filter columns with nan"
   ]
  },
  {
   "cell_type": "markdown",
   "id": "d4bec71a-9616-4cb3-bf10-e35345a7628d",
   "metadata": {},
   "source": [
    "#### Check nan number and drop bad data"
   ]
  },
  {
   "cell_type": "code",
   "execution_count": 25,
   "id": "2f4cdad2-c6d8-416b-9f90-d17ac566d100",
   "metadata": {},
   "outputs": [
    {
     "name": "stdout",
     "output_type": "stream",
     "text": [
      "('wave', 0)\n",
      "('COUNTRY_ISO3', 0)\n",
      "('INCOME_2', 379654)\n",
      "('WP16', 14593)\n",
      "('WP18', 14599)\n",
      "('WP23', 0)\n",
      "('WP27', 0)\n",
      "('WP30', 0)\n",
      "('WP31', 0)\n",
      "('WP40', 0)\n",
      "('WP43', 0)\n",
      "('WP60', 0)\n",
      "('WP61', 0)\n",
      "('WP63', 0)\n",
      "('WP65', 0)\n",
      "('WP67', 0)\n",
      "('WP68', 0)\n",
      "('WP69', 0)\n",
      "('WP70', 0)\n",
      "('WP71', 0)\n",
      "('WP74', 0)\n",
      "('WP83', 0)\n",
      "('WP85', 0)\n",
      "('WP86', 0)\n",
      "('WP88', 0)\n",
      "('WP89', 0)\n",
      "('WP91', 0)\n",
      "('WP92', 0)\n",
      "('WP93', 0)\n",
      "('WP94', 0)\n",
      "('WP95', 0)\n",
      "('WP96', 2366009)\n",
      "('WP97', 0)\n",
      "('WP98', 0)\n",
      "('WP10248', 0)\n",
      "('WP103', 0)\n",
      "('WP105', 0)\n",
      "('WP106', 0)\n",
      "('WP108', 0)\n",
      "('WP109', 0)\n",
      "('WP110', 0)\n",
      "('WP112', 0)\n",
      "('WP113', 0)\n",
      "('WP117', 0)\n",
      "('WP129', 0)\n",
      "('WP130', 0)\n",
      "('WP9050', 0)\n",
      "('WP132', 0)\n",
      "('WP134', 0)\n",
      "('WP137', 0)\n",
      "('WP138', 0)\n",
      "('WP139', 0)\n",
      "('WP141', 0)\n",
      "('WP144', 0)\n",
      "('WP10251', 715181)\n",
      "('WP145', 0)\n",
      "('WP146', 0)\n",
      "('WP150', 0)\n",
      "('WP1219', 19)\n",
      "('WP1220', 3112)\n",
      "('WP1223', 24733)\n",
      "('EMP_2010', 0)\n",
      "('WP1230', 0)\n",
      "('WP2319', 0)\n",
      "('WP17626', 1291766)\n",
      "('WP16056', 0)\n",
      "('WP15862', 0)\n",
      "('WP19544', 0)\n"
     ]
    }
   ],
   "source": [
    "nan_counts = Droped_datasetdf.isna().sum()\n",
    "for line in zip(Droped_datasetdf.columns, nan_counts):\n",
    "    print(line)"
   ]
  },
  {
   "cell_type": "code",
   "execution_count": 26,
   "id": "09f10b31-06e5-4bad-9fa6-6829edcd31a6",
   "metadata": {},
   "outputs": [],
   "source": [
    "nan_counts = Droped_datasetdf.isna().sum()\n",
    "columns_to_drop = [col for col in Droped_datasetdf.columns if col != 'INCOME_2' and Droped_datasetdf[col].isna().sum() > 500_000]\n",
    "Droped_nan_datasetdf = Droped_datasetdf.drop(columns=columns_to_drop)"
   ]
  },
  {
   "cell_type": "code",
   "execution_count": 27,
   "id": "17d836da-1b50-4af4-b3e1-a5cd030e7a78",
   "metadata": {},
   "outputs": [
    {
     "name": "stdout",
     "output_type": "stream",
     "text": [
      "Shape of DataFrame after dropping columns: (2366009, 65)\n",
      "Remaining columns: ['wave', 'COUNTRY_ISO3', 'INCOME_2', 'WP16', 'WP18', 'WP23', 'WP27', 'WP30', 'WP31', 'WP40', 'WP43', 'WP60', 'WP61', 'WP63', 'WP65', 'WP67', 'WP68', 'WP69', 'WP70', 'WP71', 'WP74', 'WP83', 'WP85', 'WP86', 'WP88', 'WP89', 'WP91', 'WP92', 'WP93', 'WP94', 'WP95', 'WP97', 'WP98', 'WP10248', 'WP103', 'WP105', 'WP106', 'WP108', 'WP109', 'WP110', 'WP112', 'WP113', 'WP117', 'WP129', 'WP130', 'WP9050', 'WP132', 'WP134', 'WP137', 'WP138', 'WP139', 'WP141', 'WP144', 'WP145', 'WP146', 'WP150', 'WP1219', 'WP1220', 'WP1223', 'EMP_2010', 'WP1230', 'WP2319', 'WP16056', 'WP15862', 'WP19544']\n"
     ]
    }
   ],
   "source": [
    "print(\"Shape of DataFrame after dropping columns:\", Droped_nan_datasetdf.shape)\n",
    "print(\"Remaining columns:\", Droped_nan_datasetdf.columns.tolist())"
   ]
  },
  {
   "cell_type": "markdown",
   "id": "b8a34f32-b290-4949-b403-065c85737062",
   "metadata": {},
   "source": [
    "#### Process data: INCOME_2"
   ]
  },
  {
   "cell_type": "code",
   "execution_count": 28,
   "id": "4cfc0166-0deb-44c2-ae79-15144655cd8c",
   "metadata": {},
   "outputs": [
    {
     "name": "stdout",
     "output_type": "stream",
     "text": [
      "('wave', 0)\n",
      "('COUNTRY_ISO3', 0)\n",
      "('INCOME_2', 379654)\n",
      "('WP16', 14593)\n",
      "('WP18', 14599)\n",
      "('WP23', 0)\n",
      "('WP27', 0)\n",
      "('WP30', 0)\n",
      "('WP31', 0)\n",
      "('WP40', 0)\n",
      "('WP43', 0)\n",
      "('WP60', 0)\n",
      "('WP61', 0)\n",
      "('WP63', 0)\n",
      "('WP65', 0)\n",
      "('WP67', 0)\n",
      "('WP68', 0)\n",
      "('WP69', 0)\n",
      "('WP70', 0)\n",
      "('WP71', 0)\n",
      "('WP74', 0)\n",
      "('WP83', 0)\n",
      "('WP85', 0)\n",
      "('WP86', 0)\n",
      "('WP88', 0)\n",
      "('WP89', 0)\n",
      "('WP91', 0)\n",
      "('WP92', 0)\n",
      "('WP93', 0)\n",
      "('WP94', 0)\n",
      "('WP95', 0)\n",
      "('WP97', 0)\n",
      "('WP98', 0)\n",
      "('WP10248', 0)\n",
      "('WP103', 0)\n",
      "('WP105', 0)\n",
      "('WP106', 0)\n",
      "('WP108', 0)\n",
      "('WP109', 0)\n",
      "('WP110', 0)\n",
      "('WP112', 0)\n",
      "('WP113', 0)\n",
      "('WP117', 0)\n",
      "('WP129', 0)\n",
      "('WP130', 0)\n",
      "('WP9050', 0)\n",
      "('WP132', 0)\n",
      "('WP134', 0)\n",
      "('WP137', 0)\n",
      "('WP138', 0)\n",
      "('WP139', 0)\n",
      "('WP141', 0)\n",
      "('WP144', 0)\n",
      "('WP145', 0)\n",
      "('WP146', 0)\n",
      "('WP150', 0)\n",
      "('WP1219', 19)\n",
      "('WP1220', 3112)\n",
      "('WP1223', 24733)\n",
      "('EMP_2010', 0)\n",
      "('WP1230', 0)\n",
      "('WP2319', 0)\n",
      "('WP16056', 0)\n",
      "('WP15862', 0)\n",
      "('WP19544', 0)\n"
     ]
    }
   ],
   "source": [
    "nan_counts = Droped_nan_datasetdf.isna().sum()\n",
    "for line in zip(Droped_nan_datasetdf.columns, nan_counts):\n",
    "    print(line)"
   ]
  },
  {
   "cell_type": "code",
   "execution_count": 29,
   "id": "19388a09-cfdd-4611-b12b-fc09add4d899",
   "metadata": {},
   "outputs": [
    {
     "name": "stderr",
     "output_type": "stream",
     "text": [
      "/var/folders/_z/l4bh9x2d7_q8069ftw3jb2cr0000gn/T/ipykernel_44113/3381236747.py:6: DeprecationWarning: DataFrameGroupBy.apply operated on the grouping columns. This behavior is deprecated, and in a future version of pandas the grouping columns will be excluded from the operation. Either pass `include_groups=False` to exclude the groupings or explicitly select the grouping columns after groupby to silence this warning.\n",
      "  Droped_nan_datasetdf = Droped_nan_datasetdf.groupby(['COUNTRY_ISO3', 'wave']).apply(fill_na_with_group_mean)\n"
     ]
    },
    {
     "name": "stdout",
     "output_type": "stream",
     "text": [
      "\n",
      "Updated DataFrame with NaN values replaced in 'INCOME_2':\n",
      "         wave COUNTRY_ISO3  INCOME_2  WP16  WP18  WP23  WP27  WP30  WP31  \\\n",
      "0           3          AFG       NaN   6.0   7.0   1.0   1.0   1.0   1.0   \n",
      "1           3          AFG       NaN   2.0   5.0   1.0   1.0   2.0   3.0   \n",
      "2           3          AFG       NaN   7.0   8.0   2.0   1.0   1.0   1.0   \n",
      "3           3          AFG       NaN   5.0   5.0   1.0   1.0   1.0   1.0   \n",
      "4           3          AFG       NaN   4.0   5.0   2.0   1.0   1.0   1.0   \n",
      "...       ...          ...       ...   ...   ...   ...   ...   ...   ...   \n",
      "2366004    17          ZWE       NaN   2.0   9.0   2.0   2.0   2.0   1.0   \n",
      "2366005    17          ZWE       NaN   5.0   6.0   2.0   1.0   2.0   3.0   \n",
      "2366006    17          ZWE       NaN   7.0   5.0   1.0   1.0   1.0   3.0   \n",
      "2366007    17          ZWE       NaN   2.0   2.0   2.0   2.0   2.0   3.0   \n",
      "2366008    17          ZWE       NaN   5.0   8.0   1.0   1.0   2.0   2.0   \n",
      "\n",
      "         WP40  ...  WP150  WP1219  WP1220  WP1223  EMP_2010  WP1230  WP2319  \\\n",
      "0         2.0  ...    1.0     1.0    20.0     1.0       5.0       1     1.0   \n",
      "1         1.0  ...    2.0     1.0    30.0     2.0       5.0       1     2.0   \n",
      "2         2.0  ...    1.0     1.0    17.0     1.0       5.0       1     1.0   \n",
      "3         1.0  ...    1.0     1.0    45.0     2.0       5.0       1     1.0   \n",
      "4         2.0  ...    2.0     1.0    19.0     1.0       5.0       0     2.0   \n",
      "...       ...  ...    ...     ...     ...     ...       ...     ...     ...   \n",
      "2366004   1.0  ...    1.0     2.0    29.0     4.0       2.0       1     2.0   \n",
      "2366005   1.0  ...    1.0     2.0    26.0     2.0       3.0       1     3.0   \n",
      "2366006   1.0  ...    1.0     2.0    24.0     1.0       6.0       1     3.0   \n",
      "2366007   1.0  ...    2.0     2.0    36.0     2.0       6.0       1     2.0   \n",
      "2366008   2.0  ...    2.0     2.0    24.0     2.0       2.0       1     2.0   \n",
      "\n",
      "         WP16056  WP15862  WP19544  \n",
      "0            2.0      2.0      2.0  \n",
      "1            2.0      2.0      2.0  \n",
      "2            2.0      2.0      2.0  \n",
      "3            2.0      2.0      2.0  \n",
      "4            2.0      2.0      2.0  \n",
      "...          ...      ...      ...  \n",
      "2366004      1.0      1.0      1.0  \n",
      "2366005      2.0      2.0      2.0  \n",
      "2366006      1.0      1.0      1.0  \n",
      "2366007      1.0      1.0      1.0  \n",
      "2366008      1.0      1.0      1.0  \n",
      "\n",
      "[2366009 rows x 65 columns]\n"
     ]
    }
   ],
   "source": [
    "def fill_na_with_group_mean(group):\n",
    "    group['INCOME_2'] = group['INCOME_2'].fillna(group['INCOME_2'].mean())\n",
    "    return group\n",
    "\n",
    "# Group by 'COUNTRY_IS03' and 'wave', then apply the function\n",
    "Droped_nan_datasetdf = Droped_nan_datasetdf.groupby(['COUNTRY_ISO3', 'wave']).apply(fill_na_with_group_mean)\n",
    "# Remove the group keys added by groupby\n",
    "Droped_nan_datasetdf = Droped_nan_datasetdf.reset_index(drop=True)\n",
    "\n",
    "print(\"\\nUpdated DataFrame with NaN values replaced in 'INCOME_2':\")\n",
    "print(Droped_nan_datasetdf)"
   ]
  },
  {
   "cell_type": "code",
   "execution_count": 30,
   "id": "2108f35c-eaa5-4684-bb4e-888ef7172e60",
   "metadata": {},
   "outputs": [
    {
     "name": "stdout",
     "output_type": "stream",
     "text": [
      "\n",
      "Number of NaN values in 'INCOME_2' column: 378035\n"
     ]
    }
   ],
   "source": [
    "num_nan_income_2 = Droped_nan_datasetdf['INCOME_2'].isna().sum()\n",
    "print(f\"\\nNumber of NaN values in 'INCOME_2' column: {num_nan_income_2}\")"
   ]
  },
  {
   "cell_type": "code",
   "execution_count": 31,
   "id": "cfa09ed4-cf1b-4b88-888c-c88f44dcbad3",
   "metadata": {},
   "outputs": [],
   "source": [
    "columns_to_check = ['INCOME_2','WP16', 'WP18', 'WP1219', 'WP1220']\n",
    "Droped_nan_datasetdf = Droped_nan_datasetdf.dropna(subset=columns_to_check)"
   ]
  },
  {
   "cell_type": "code",
   "execution_count": 32,
   "id": "5a58a3da-1cc0-46b6-aacd-01792033101d",
   "metadata": {},
   "outputs": [
    {
     "name": "stdout",
     "output_type": "stream",
     "text": [
      "('wave', 0)\n",
      "('COUNTRY_ISO3', 0)\n",
      "('INCOME_2', 0)\n",
      "('WP16', 0)\n",
      "('WP18', 0)\n",
      "('WP23', 0)\n",
      "('WP27', 0)\n",
      "('WP30', 0)\n",
      "('WP31', 0)\n",
      "('WP40', 0)\n",
      "('WP43', 0)\n",
      "('WP60', 0)\n",
      "('WP61', 0)\n",
      "('WP63', 0)\n",
      "('WP65', 0)\n",
      "('WP67', 0)\n",
      "('WP68', 0)\n",
      "('WP69', 0)\n",
      "('WP70', 0)\n",
      "('WP71', 0)\n",
      "('WP74', 0)\n",
      "('WP83', 0)\n",
      "('WP85', 0)\n",
      "('WP86', 0)\n",
      "('WP88', 0)\n",
      "('WP89', 0)\n",
      "('WP91', 0)\n",
      "('WP92', 0)\n",
      "('WP93', 0)\n",
      "('WP94', 0)\n",
      "('WP95', 0)\n",
      "('WP97', 0)\n",
      "('WP98', 0)\n",
      "('WP10248', 0)\n",
      "('WP103', 0)\n",
      "('WP105', 0)\n",
      "('WP106', 0)\n",
      "('WP108', 0)\n",
      "('WP109', 0)\n",
      "('WP110', 0)\n",
      "('WP112', 0)\n",
      "('WP113', 0)\n",
      "('WP117', 0)\n",
      "('WP129', 0)\n",
      "('WP130', 0)\n",
      "('WP9050', 0)\n",
      "('WP132', 0)\n",
      "('WP134', 0)\n",
      "('WP137', 0)\n",
      "('WP138', 0)\n",
      "('WP139', 0)\n",
      "('WP141', 0)\n",
      "('WP144', 0)\n",
      "('WP145', 0)\n",
      "('WP146', 0)\n",
      "('WP150', 0)\n",
      "('WP1219', 0)\n",
      "('WP1220', 0)\n",
      "('WP1223', 5258)\n",
      "('EMP_2010', 0)\n",
      "('WP1230', 0)\n",
      "('WP2319', 0)\n",
      "('WP16056', 0)\n",
      "('WP15862', 0)\n",
      "('WP19544', 0)\n",
      "Shape of DataFrame after dropping columns: (1980424, 65)\n"
     ]
    }
   ],
   "source": [
    "nan_counts = Droped_nan_datasetdf.isna().sum()\n",
    "for line in zip(Droped_nan_datasetdf.columns, nan_counts):\n",
    "    print(line)\n",
    "\n",
    "print(\"Shape of DataFrame after dropping columns:\", Droped_nan_datasetdf.shape)"
   ]
  },
  {
   "cell_type": "code",
   "execution_count": 33,
   "id": "3215a496-7eb7-4a7f-9899-e13e1b6caa59",
   "metadata": {},
   "outputs": [
    {
     "name": "stdout",
     "output_type": "stream",
     "text": [
      "\n",
      "Updated DataFrame after dropping rows with any NaN values:\n",
      "         wave COUNTRY_ISO3     INCOME_2  WP16  WP18  WP23  WP27  WP30  WP31  \\\n",
      "860         4          AFG  2830.160508   2.0   4.0   1.0   2.0   2.0   2.0   \n",
      "861         4          AFG  8086.172880   5.0   6.0   2.0   1.0   1.0   1.0   \n",
      "862         4          AFG  6468.938304   4.0   3.0   2.0   1.0   1.0   2.0   \n",
      "863         4          AFG  2425.851864   3.0   5.0   2.0   1.0   2.0   1.0   \n",
      "864         4          AFG  5660.321016   6.0   7.0   2.0   1.0   1.0   2.0   \n",
      "...       ...          ...          ...   ...   ...   ...   ...   ...   ...   \n",
      "2362157    13          ZWE  1825.338810   0.0   2.0   2.0   1.0   1.0   3.0   \n",
      "2362158    13          ZWE  5704.183781   2.0   8.0   2.0   1.0   2.0   3.0   \n",
      "2362159    13          ZWE  6845.020537   1.0   2.0   1.0   1.0   1.0   1.0   \n",
      "2362160    13          ZWE  6388.685835   0.0   2.0   2.0   1.0   1.0   3.0   \n",
      "2362161    13          ZWE  6845.020537   0.0   3.0   2.0   1.0   2.0   3.0   \n",
      "\n",
      "         WP40  ...  WP150  WP1219  WP1220  WP1223  EMP_2010  WP1230  WP2319  \\\n",
      "860       1.0  ...    2.0     1.0    65.0     2.0       1.0       1     2.0   \n",
      "861       2.0  ...    1.0     1.0    55.0     2.0       5.0       1     2.0   \n",
      "862       2.0  ...    2.0     1.0    16.0     1.0       6.0       1     3.0   \n",
      "863       2.0  ...    2.0     1.0    45.0     2.0       1.0       0     2.0   \n",
      "864       2.0  ...    1.0     1.0    38.0     2.0       1.0       1     2.0   \n",
      "...       ...  ...    ...     ...     ...     ...       ...     ...     ...   \n",
      "2362157   1.0  ...    1.0     1.0    24.0     1.0       1.0       1     2.0   \n",
      "2362158   1.0  ...    2.0     1.0    32.0     2.0       1.0       0     3.0   \n",
      "2362159   1.0  ...    1.0     1.0    46.0     2.0       2.0       1     2.0   \n",
      "2362160   1.0  ...    1.0     2.0    16.0     1.0       6.0       1     3.0   \n",
      "2362161   1.0  ...    1.0     2.0    23.0     2.0       4.0       0     3.0   \n",
      "\n",
      "         WP16056  WP15862  WP19544  \n",
      "860          2.0      2.0      2.0  \n",
      "861          2.0      2.0      2.0  \n",
      "862          2.0      2.0      2.0  \n",
      "863          2.0      2.0      2.0  \n",
      "864          2.0      2.0      2.0  \n",
      "...          ...      ...      ...  \n",
      "2362157      1.0      2.0      1.0  \n",
      "2362158      1.0      2.0      1.0  \n",
      "2362159      2.0      2.0      2.0  \n",
      "2362160      2.0      2.0      2.0  \n",
      "2362161      1.0      2.0      1.0  \n",
      "\n",
      "[1975166 rows x 65 columns]\n"
     ]
    }
   ],
   "source": [
    "Droped_fullnan_datasetdf = Droped_nan_datasetdf.dropna()\n",
    "\n",
    "# Display the updated DataFrame\n",
    "print(\"\\nUpdated DataFrame after dropping rows with any NaN values:\")\n",
    "print(Droped_fullnan_datasetdf)"
   ]
  },
  {
   "cell_type": "code",
   "execution_count": 34,
   "id": "fa7a7751-dcbc-4cfc-a4d2-223eb90c88a2",
   "metadata": {},
   "outputs": [
    {
     "name": "stdout",
     "output_type": "stream",
     "text": [
      "('wave', 0)\n",
      "('COUNTRY_ISO3', 0)\n",
      "('INCOME_2', 0)\n",
      "('WP16', 0)\n",
      "('WP18', 0)\n",
      "('WP23', 0)\n",
      "('WP27', 0)\n",
      "('WP30', 0)\n",
      "('WP31', 0)\n",
      "('WP40', 0)\n",
      "('WP43', 0)\n",
      "('WP60', 0)\n",
      "('WP61', 0)\n",
      "('WP63', 0)\n",
      "('WP65', 0)\n",
      "('WP67', 0)\n",
      "('WP68', 0)\n",
      "('WP69', 0)\n",
      "('WP70', 0)\n",
      "('WP71', 0)\n",
      "('WP74', 0)\n",
      "('WP83', 0)\n",
      "('WP85', 0)\n",
      "('WP86', 0)\n",
      "('WP88', 0)\n",
      "('WP89', 0)\n",
      "('WP91', 0)\n",
      "('WP92', 0)\n",
      "('WP93', 0)\n",
      "('WP94', 0)\n",
      "('WP95', 0)\n",
      "('WP97', 0)\n",
      "('WP98', 0)\n",
      "('WP10248', 0)\n",
      "('WP103', 0)\n",
      "('WP105', 0)\n",
      "('WP106', 0)\n",
      "('WP108', 0)\n",
      "('WP109', 0)\n",
      "('WP110', 0)\n",
      "('WP112', 0)\n",
      "('WP113', 0)\n",
      "('WP117', 0)\n",
      "('WP129', 0)\n",
      "('WP130', 0)\n",
      "('WP9050', 0)\n",
      "('WP132', 0)\n",
      "('WP134', 0)\n",
      "('WP137', 0)\n",
      "('WP138', 0)\n",
      "('WP139', 0)\n",
      "('WP141', 0)\n",
      "('WP144', 0)\n",
      "('WP145', 0)\n",
      "('WP146', 0)\n",
      "('WP150', 0)\n",
      "('WP1219', 0)\n",
      "('WP1220', 0)\n",
      "('WP1223', 0)\n",
      "('EMP_2010', 0)\n",
      "('WP1230', 0)\n",
      "('WP2319', 0)\n",
      "('WP16056', 0)\n",
      "('WP15862', 0)\n",
      "('WP19544', 0)\n"
     ]
    }
   ],
   "source": [
    "nan_counts = Droped_fullnan_datasetdf.isna().sum()\n",
    "for line in zip(Droped_fullnan_datasetdf.columns, nan_counts):\n",
    "    print(line)"
   ]
  },
  {
   "cell_type": "code",
   "execution_count": null,
   "id": "46b2387a-b941-462a-ac2f-401ccddd5c30",
   "metadata": {},
   "outputs": [],
   "source": []
  },
  {
   "cell_type": "code",
   "execution_count": null,
   "id": "b9ce59ee-7e6b-46d4-bfbf-dd7b848583a2",
   "metadata": {},
   "outputs": [],
   "source": []
  },
  {
   "cell_type": "code",
   "execution_count": null,
   "id": "8b6b39cc-db1f-4c8e-b879-193f1e1ceda8",
   "metadata": {},
   "outputs": [],
   "source": []
  },
  {
   "cell_type": "code",
   "execution_count": null,
   "id": "52cffcb3-8b56-47a9-9149-fb803f85bf2e",
   "metadata": {},
   "outputs": [],
   "source": []
  },
  {
   "cell_type": "code",
   "execution_count": null,
   "id": "0734816c-3ad5-4b18-9979-032573895c34",
   "metadata": {},
   "outputs": [],
   "source": []
  },
  {
   "cell_type": "code",
   "execution_count": null,
   "id": "f32e0fe2-4e83-46c8-8fd3-d25278f0bcb9",
   "metadata": {},
   "outputs": [],
   "source": []
  },
  {
   "cell_type": "code",
   "execution_count": null,
   "id": "8cae3aa9-972a-4abc-bddc-df38ad219792",
   "metadata": {},
   "outputs": [],
   "source": []
  },
  {
   "cell_type": "code",
   "execution_count": null,
   "id": "150d1ca5-11b9-44f8-91ee-e993e24a65cc",
   "metadata": {},
   "outputs": [],
   "source": []
  },
  {
   "cell_type": "code",
   "execution_count": null,
   "id": "3dd2125b-7d14-4ebd-9eb4-d6e7c699b8f2",
   "metadata": {},
   "outputs": [],
   "source": []
  },
  {
   "cell_type": "code",
   "execution_count": null,
   "id": "e2d2833c-7245-499b-b2f4-86c835e75191",
   "metadata": {},
   "outputs": [],
   "source": []
  },
  {
   "cell_type": "code",
   "execution_count": null,
   "id": "39db911b-50cb-4bef-b4aa-6075f5a9e5b1",
   "metadata": {},
   "outputs": [],
   "source": []
  }
 ],
 "metadata": {
  "kernelspec": {
   "display_name": "Python 3 (ipykernel)",
   "language": "python",
   "name": "python3"
  },
  "language_info": {
   "codemirror_mode": {
    "name": "ipython",
    "version": 3
   },
   "file_extension": ".py",
   "mimetype": "text/x-python",
   "name": "python",
   "nbconvert_exporter": "python",
   "pygments_lexer": "ipython3",
   "version": "3.9.19"
  }
 },
 "nbformat": 4,
 "nbformat_minor": 5
}
