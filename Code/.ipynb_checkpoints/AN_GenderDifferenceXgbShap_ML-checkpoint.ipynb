{
 "cells": [
  {
   "cell_type": "markdown",
   "id": "674d42a8-e6ce-4786-a22b-9f68d1b8381f",
   "metadata": {},
   "source": [
    "# Gender Difference: XGB Experiment based on 59 Variables 1513k Rows 14 Waves"
   ]
  },
  {
   "cell_type": "code",
   "execution_count": 1,
   "id": "0da7b886-40aa-4fc8-a7e6-0590522fb7bf",
   "metadata": {},
   "outputs": [
    {
     "data": {
      "text/plain": [
       "'/Users/shibo/Desktop/GallupWellBeingGroup/Code'"
      ]
     },
     "execution_count": 1,
     "metadata": {},
     "output_type": "execute_result"
    }
   ],
   "source": [
    "%pwd"
   ]
  },
  {
   "cell_type": "code",
   "execution_count": 2,
   "id": "4cafc506-7084-475e-bc79-5ab38f2df1bf",
   "metadata": {},
   "outputs": [
    {
     "name": "stdout",
     "output_type": "stream",
     "text": [
      "/Users/shibo/Desktop/GallupWellBeingGroup\n"
     ]
    }
   ],
   "source": [
    "%cd .."
   ]
  },
  {
   "cell_type": "code",
   "execution_count": null,
   "id": "cf4463f1-6e2a-4250-a341-0522f9f4b7a4",
   "metadata": {},
   "outputs": [],
   "source": []
  },
  {
   "cell_type": "markdown",
   "id": "cb4e31a2-fed1-475b-adc6-a1270e989445",
   "metadata": {},
   "source": [
    "## Import Packagee"
   ]
  },
  {
   "cell_type": "code",
   "execution_count": 3,
   "id": "45c64cd5-61fa-4ece-8045-ae010e3699d7",
   "metadata": {},
   "outputs": [],
   "source": [
    "import os \n",
    "import pandas as pd\n",
    "from scipy import stats\n",
    "from sklearn.ensemble import RandomForestRegressor\n",
    "from sklearn.linear_model import LinearRegression\n",
    "from sklearn.metrics import mean_squared_error, r2_score\n",
    "from sklearn.model_selection import train_test_split\n",
    "import xgboost as xgb"
   ]
  },
  {
   "cell_type": "code",
   "execution_count": null,
   "id": "ca3d2f77-a012-4072-a23d-d8e303d8b131",
   "metadata": {},
   "outputs": [],
   "source": []
  },
  {
   "cell_type": "markdown",
   "id": "7ba4fd03-e7ac-4a98-a13e-625e527a91ee",
   "metadata": {},
   "source": [
    "## Load and Make Datasets"
   ]
  },
  {
   "cell_type": "code",
   "execution_count": 6,
   "id": "260d9fb0-8280-4ce8-8186-3197ff712cc8",
   "metadata": {},
   "outputs": [],
   "source": [
    "Df_Filename = os.path.join(\"Data\", \"GallupWB_WasedataEnergy_1.967Mvar_v1.parquet\")"
   ]
  },
  {
   "cell_type": "code",
   "execution_count": 7,
   "id": "6fcc6955-0ed2-4b31-87d6-6440d23bfb42",
   "metadata": {},
   "outputs": [],
   "source": [
    "Df = pd.read_parquet(Df_Filename)"
   ]
  },
  {
   "cell_type": "code",
   "execution_count": 6,
   "id": "1dde35de-81f1-4cdc-acf1-da741c24d044",
   "metadata": {},
   "outputs": [
    {
     "data": {
      "text/plain": [
       "(1911212, 64)"
      ]
     },
     "execution_count": 6,
     "metadata": {},
     "output_type": "execute_result"
    }
   ],
   "source": [
    "Df.shape"
   ]
  },
  {
   "cell_type": "code",
   "execution_count": 7,
   "id": "232cdf8e-1138-4325-8220-9f1d5e79f92c",
   "metadata": {},
   "outputs": [
    {
     "data": {
      "text/plain": [
       "Index(['wave', 'INCOME_2', 'Cantril_ladder', 'Health_disable', 'Relative_have',\n",
       "       'Living_standard_change', 'Enough_food', 'Enough_shelter',\n",
       "       'Well_rested', 'Respected', 'Smile', 'Interesting_thing', 'Enjoyment',\n",
       "       'Physical_pain', 'Worry', 'Sadness', 'Stress', 'Anger',\n",
       "       'City_satisficied', 'Economic_change', 'Goodtime_job', 'Sat_pubtran',\n",
       "       'Sat_road', 'Sat_edu', 'Sat_qualityair', 'Sat_qualitywater',\n",
       "       'Sat_healthcare', 'Sat_affhouse', 'Sat_oppofriend', 'Good_minorities',\n",
       "       'Good_gayles', 'Good_immigrants', 'Donated', 'Volunteer',\n",
       "       'Help_stranger', 'Voice_official', 'Local_police', 'Safety_walk',\n",
       "       'Stolen', 'Assualted', 'Religion_importance', 'Children_respected',\n",
       "       'Children_learn', 'Women_respected', 'Sat_dealpoor', 'Sat_perserveenv',\n",
       "       'Freedom_chooselife', 'Conf_military', 'Conf_judicial',\n",
       "       'Conf_government', 'Conf_financial', 'Conf_honestyelections',\n",
       "       'Freedom_media', 'Corruption_business', 'Corruption_government',\n",
       "       'Performance_leadership', 'Gender_female', 'Age', 'Marital_status',\n",
       "       'Employment', 'Children_under15', 'Feeling_income', 'Income_level',\n",
       "       'COUNTRY_ISO3'],\n",
       "      dtype='object')"
      ]
     },
     "execution_count": 7,
     "metadata": {},
     "output_type": "execute_result"
    }
   ],
   "source": [
    "Df.columns"
   ]
  },
  {
   "cell_type": "code",
   "execution_count": null,
   "id": "2ddf0523-2637-4601-ba1d-cd631e467790",
   "metadata": {},
   "outputs": [],
   "source": []
  },
  {
   "cell_type": "markdown",
   "id": "56c294b5-1063-4bc6-aa81-77f2d8c96799",
   "metadata": {},
   "source": [
    "### Check the Difference between Gender"
   ]
  },
  {
   "cell_type": "code",
   "execution_count": 8,
   "id": "95b7780a-2c93-4b5f-8d5b-94da80e54945",
   "metadata": {},
   "outputs": [],
   "source": [
    "female_cantrilladder = Df.loc[Df['Gender_female']==1, 'Cantril_ladder'].mean()"
   ]
  },
  {
   "cell_type": "code",
   "execution_count": 9,
   "id": "5452f6d8-7f38-4a30-8ec9-2602d8241a0c",
   "metadata": {},
   "outputs": [
    {
     "data": {
      "text/plain": [
       "5.569313150299246"
      ]
     },
     "execution_count": 9,
     "metadata": {},
     "output_type": "execute_result"
    }
   ],
   "source": [
    "female_cantrilladder"
   ]
  },
  {
   "cell_type": "code",
   "execution_count": 10,
   "id": "ed6d3ffc-803e-4f4e-b755-0fc1b44b8e2e",
   "metadata": {},
   "outputs": [],
   "source": [
    "male_cantrilladder = Df.loc[Df['Gender_female']==0, 'Cantril_ladder'].mean()"
   ]
  },
  {
   "cell_type": "code",
   "execution_count": 11,
   "id": "5544ebdd-1260-4060-bb8a-46ca8a0ba56d",
   "metadata": {},
   "outputs": [
    {
     "data": {
      "text/plain": [
       "5.466124824941722"
      ]
     },
     "execution_count": 11,
     "metadata": {},
     "output_type": "execute_result"
    }
   ],
   "source": [
    "male_cantrilladder"
   ]
  },
  {
   "cell_type": "code",
   "execution_count": 12,
   "id": "8112be0a-383e-4f0f-aee9-e3bcc53e368b",
   "metadata": {},
   "outputs": [],
   "source": [
    "t_stat, p_value = stats.ttest_ind(Df.loc[Df['Gender_female']==1, 'Cantril_ladder'], Df.loc[Df['Gender_female']==0, 'Cantril_ladder'])"
   ]
  },
  {
   "cell_type": "code",
   "execution_count": 13,
   "id": "b6c4b166-456a-4042-80c3-52ea4c49d4b2",
   "metadata": {},
   "outputs": [
    {
     "name": "stdout",
     "output_type": "stream",
     "text": [
      "T-statistic: 29.49502322170667, P-value: 3.682499213688914e-191\n"
     ]
    }
   ],
   "source": [
    "print(f\"T-statistic: {t_stat}, P-value: {p_value}\")"
   ]
  },
  {
   "cell_type": "code",
   "execution_count": null,
   "id": "bdc32688-54f4-4815-993a-c1e3f8d0d04e",
   "metadata": {},
   "outputs": [],
   "source": []
  },
  {
   "cell_type": "markdown",
   "id": "09031742-4031-41e1-b1d9-90cc13ac6bea",
   "metadata": {},
   "source": [
    "### Shuffle Conversion"
   ]
  },
  {
   "cell_type": "code",
   "execution_count": 14,
   "id": "4a902521-19d1-47af-9b3d-737b2c302a91",
   "metadata": {},
   "outputs": [],
   "source": [
    "Df = Df.sample(frac=1, random_state=42).reset_index(drop=True)"
   ]
  },
  {
   "cell_type": "code",
   "execution_count": 15,
   "id": "3b217b81-0d86-4f07-8d42-11c63d2378dd",
   "metadata": {},
   "outputs": [],
   "source": [
    "Df['COUNTRY_ISO3'] = Df['COUNTRY_ISO3'].astype('category')"
   ]
  },
  {
   "cell_type": "code",
   "execution_count": null,
   "id": "efb62493-7d22-4483-bdea-ca83db73c47f",
   "metadata": {},
   "outputs": [],
   "source": []
  },
  {
   "cell_type": "markdown",
   "id": "4f36cfa7-0345-4403-b37b-9b4b2a407ec1",
   "metadata": {},
   "source": [
    "### Df_male "
   ]
  },
  {
   "cell_type": "code",
   "execution_count": 16,
   "id": "d6bc3f38-42e4-4512-9635-b3a363ec4b50",
   "metadata": {},
   "outputs": [],
   "source": [
    "Df_male = Df.loc[Df['Gender_female']==0, :].drop(columns=['Gender_female'])"
   ]
  },
  {
   "cell_type": "code",
   "execution_count": 17,
   "id": "2af589ee-fe70-4cd3-84c6-0a6cd9013bed",
   "metadata": {},
   "outputs": [
    {
     "data": {
      "text/plain": [
       "(893988, 63)"
      ]
     },
     "execution_count": 17,
     "metadata": {},
     "output_type": "execute_result"
    }
   ],
   "source": [
    "Df_male.shape"
   ]
  },
  {
   "cell_type": "code",
   "execution_count": 18,
   "id": "3f57cff5-fc9d-4f20-a56f-e39ed83229fb",
   "metadata": {},
   "outputs": [],
   "source": [
    "ym = Df_male['Cantril_ladder']"
   ]
  },
  {
   "cell_type": "code",
   "execution_count": 19,
   "id": "491ee402-2cbb-494b-8379-83c4a361543a",
   "metadata": {},
   "outputs": [],
   "source": [
    "Xm = Df_male.drop(columns=['Cantril_ladder'])"
   ]
  },
  {
   "cell_type": "code",
   "execution_count": 20,
   "id": "38297b6d-0563-4ad9-8a1f-ac0af16e6dac",
   "metadata": {},
   "outputs": [],
   "source": [
    "Xm_train, Xm_test, ym_train, ym_test = train_test_split(Xm, ym, test_size=0.1, random_state=42)"
   ]
  },
  {
   "cell_type": "code",
   "execution_count": null,
   "id": "6277fe27-01ea-4675-9c19-e690df1f6159",
   "metadata": {},
   "outputs": [],
   "source": []
  },
  {
   "cell_type": "markdown",
   "id": "a60f838b-eeff-4bb2-8da9-d75fbedf965c",
   "metadata": {},
   "source": [
    "### Df_female "
   ]
  },
  {
   "cell_type": "code",
   "execution_count": 21,
   "id": "21af5ca1-13f4-4537-89ba-bafb614f4754",
   "metadata": {},
   "outputs": [],
   "source": [
    "Df_female = Df.loc[Df['Gender_female']==1, :].drop(columns=['Gender_female'])"
   ]
  },
  {
   "cell_type": "code",
   "execution_count": 22,
   "id": "4e1d47de-513f-43b3-8634-c94ae68b2724",
   "metadata": {},
   "outputs": [
    {
     "data": {
      "text/plain": [
       "(1017224, 63)"
      ]
     },
     "execution_count": 22,
     "metadata": {},
     "output_type": "execute_result"
    }
   ],
   "source": [
    "Df_female.shape"
   ]
  },
  {
   "cell_type": "code",
   "execution_count": 23,
   "id": "d673fda7-f5d1-43d1-a2e5-f45e8aee683a",
   "metadata": {},
   "outputs": [],
   "source": [
    "yf = Df_female['Cantril_ladder']"
   ]
  },
  {
   "cell_type": "code",
   "execution_count": 24,
   "id": "c23077ed-be6a-441e-bd00-bef308763a3c",
   "metadata": {},
   "outputs": [],
   "source": [
    "Xf = Df_female.drop(columns=['Cantril_ladder'])"
   ]
  },
  {
   "cell_type": "code",
   "execution_count": 25,
   "id": "33cfb3de-073e-4836-9de4-297d1c4de836",
   "metadata": {},
   "outputs": [],
   "source": [
    "Xf_train, Xf_test, yf_train, yf_test = train_test_split(Xf, yf, test_size=0.1, random_state=42)"
   ]
  },
  {
   "cell_type": "code",
   "execution_count": null,
   "id": "6325466d-d910-4a8d-95e9-7be586b346f1",
   "metadata": {},
   "outputs": [],
   "source": []
  },
  {
   "cell_type": "markdown",
   "id": "d6a3636c-a493-4388-be9d-4599eb194135",
   "metadata": {},
   "source": [
    "## Model and Tuning Hyper"
   ]
  },
  {
   "cell_type": "markdown",
   "id": "93106015-77d5-44ad-b5a9-d8abfbeb5fa5",
   "metadata": {},
   "source": [
    "### Male Model"
   ]
  },
  {
   "cell_type": "code",
   "execution_count": 26,
   "id": "e24ad185-fbbc-4da5-874c-0b2119e63d36",
   "metadata": {},
   "outputs": [
    {
     "name": "stdout",
     "output_type": "stream",
     "text": [
      "[13:15:00] WARNING: C:\\buildkite-agent\\builds\\buildkite-windows-cpu-autoscaling-group-i-07593ffd91cd9da33-1\\xgboost\\xgboost-ci-windows\\src\\learner.cc:767: \n",
      "Parameters: { \"device\" } are not used.\n",
      "\n"
     ]
    },
    {
     "data": {
      "text/html": [
       "<style>#sk-container-id-1 {color: black;background-color: white;}#sk-container-id-1 pre{padding: 0;}#sk-container-id-1 div.sk-toggleable {background-color: white;}#sk-container-id-1 label.sk-toggleable__label {cursor: pointer;display: block;width: 100%;margin-bottom: 0;padding: 0.3em;box-sizing: border-box;text-align: center;}#sk-container-id-1 label.sk-toggleable__label-arrow:before {content: \"▸\";float: left;margin-right: 0.25em;color: #696969;}#sk-container-id-1 label.sk-toggleable__label-arrow:hover:before {color: black;}#sk-container-id-1 div.sk-estimator:hover label.sk-toggleable__label-arrow:before {color: black;}#sk-container-id-1 div.sk-toggleable__content {max-height: 0;max-width: 0;overflow: hidden;text-align: left;background-color: #f0f8ff;}#sk-container-id-1 div.sk-toggleable__content pre {margin: 0.2em;color: black;border-radius: 0.25em;background-color: #f0f8ff;}#sk-container-id-1 input.sk-toggleable__control:checked~div.sk-toggleable__content {max-height: 200px;max-width: 100%;overflow: auto;}#sk-container-id-1 input.sk-toggleable__control:checked~label.sk-toggleable__label-arrow:before {content: \"▾\";}#sk-container-id-1 div.sk-estimator input.sk-toggleable__control:checked~label.sk-toggleable__label {background-color: #d4ebff;}#sk-container-id-1 div.sk-label input.sk-toggleable__control:checked~label.sk-toggleable__label {background-color: #d4ebff;}#sk-container-id-1 input.sk-hidden--visually {border: 0;clip: rect(1px 1px 1px 1px);clip: rect(1px, 1px, 1px, 1px);height: 1px;margin: -1px;overflow: hidden;padding: 0;position: absolute;width: 1px;}#sk-container-id-1 div.sk-estimator {font-family: monospace;background-color: #f0f8ff;border: 1px dotted black;border-radius: 0.25em;box-sizing: border-box;margin-bottom: 0.5em;}#sk-container-id-1 div.sk-estimator:hover {background-color: #d4ebff;}#sk-container-id-1 div.sk-parallel-item::after {content: \"\";width: 100%;border-bottom: 1px solid gray;flex-grow: 1;}#sk-container-id-1 div.sk-label:hover label.sk-toggleable__label {background-color: #d4ebff;}#sk-container-id-1 div.sk-serial::before {content: \"\";position: absolute;border-left: 1px solid gray;box-sizing: border-box;top: 0;bottom: 0;left: 50%;z-index: 0;}#sk-container-id-1 div.sk-serial {display: flex;flex-direction: column;align-items: center;background-color: white;padding-right: 0.2em;padding-left: 0.2em;position: relative;}#sk-container-id-1 div.sk-item {position: relative;z-index: 1;}#sk-container-id-1 div.sk-parallel {display: flex;align-items: stretch;justify-content: center;background-color: white;position: relative;}#sk-container-id-1 div.sk-item::before, #sk-container-id-1 div.sk-parallel-item::before {content: \"\";position: absolute;border-left: 1px solid gray;box-sizing: border-box;top: 0;bottom: 0;left: 50%;z-index: -1;}#sk-container-id-1 div.sk-parallel-item {display: flex;flex-direction: column;z-index: 1;position: relative;background-color: white;}#sk-container-id-1 div.sk-parallel-item:first-child::after {align-self: flex-end;width: 50%;}#sk-container-id-1 div.sk-parallel-item:last-child::after {align-self: flex-start;width: 50%;}#sk-container-id-1 div.sk-parallel-item:only-child::after {width: 0;}#sk-container-id-1 div.sk-dashed-wrapped {border: 1px dashed gray;margin: 0 0.4em 0.5em 0.4em;box-sizing: border-box;padding-bottom: 0.4em;background-color: white;}#sk-container-id-1 div.sk-label label {font-family: monospace;font-weight: bold;display: inline-block;line-height: 1.2em;}#sk-container-id-1 div.sk-label-container {text-align: center;}#sk-container-id-1 div.sk-container {/* jupyter's `normalize.less` sets `[hidden] { display: none; }` but bootstrap.min.css set `[hidden] { display: none !important; }` so we also need the `!important` here to be able to override the default hidden behavior on the sphinx rendered scikit-learn.org. See: https://github.com/scikit-learn/scikit-learn/issues/21755 */display: inline-block !important;position: relative;}#sk-container-id-1 div.sk-text-repr-fallback {display: none;}</style><div id=\"sk-container-id-1\" class=\"sk-top-container\"><div class=\"sk-text-repr-fallback\"><pre>XGBRegressor(base_score=None, booster=None, callbacks=None,\n",
       "             colsample_bylevel=None, colsample_bynode=None,\n",
       "             colsample_bytree=None, device=&#x27;cuda&#x27;, early_stopping_rounds=None,\n",
       "             enable_categorical=True, eval_metric=None, feature_types=None,\n",
       "             gamma=None, gpu_id=None, grow_policy=None, importance_type=None,\n",
       "             interaction_constraints=None, learning_rate=0.01, max_bin=None,\n",
       "             max_cat_threshold=None, max_cat_to_onehot=None,\n",
       "             max_delta_step=None, max_depth=5, max_leaves=None,\n",
       "             min_child_weight=None, missing=nan, monotone_constraints=None,\n",
       "             n_estimators=500, n_jobs=None, num_parallel_tree=None,\n",
       "             predictor=None, ...)</pre><b>In a Jupyter environment, please rerun this cell to show the HTML representation or trust the notebook. <br />On GitHub, the HTML representation is unable to render, please try loading this page with nbviewer.org.</b></div><div class=\"sk-container\" hidden><div class=\"sk-item\"><div class=\"sk-estimator sk-toggleable\"><input class=\"sk-toggleable__control sk-hidden--visually\" id=\"sk-estimator-id-1\" type=\"checkbox\" checked><label for=\"sk-estimator-id-1\" class=\"sk-toggleable__label sk-toggleable__label-arrow\">XGBRegressor</label><div class=\"sk-toggleable__content\"><pre>XGBRegressor(base_score=None, booster=None, callbacks=None,\n",
       "             colsample_bylevel=None, colsample_bynode=None,\n",
       "             colsample_bytree=None, device=&#x27;cuda&#x27;, early_stopping_rounds=None,\n",
       "             enable_categorical=True, eval_metric=None, feature_types=None,\n",
       "             gamma=None, gpu_id=None, grow_policy=None, importance_type=None,\n",
       "             interaction_constraints=None, learning_rate=0.01, max_bin=None,\n",
       "             max_cat_threshold=None, max_cat_to_onehot=None,\n",
       "             max_delta_step=None, max_depth=5, max_leaves=None,\n",
       "             min_child_weight=None, missing=nan, monotone_constraints=None,\n",
       "             n_estimators=500, n_jobs=None, num_parallel_tree=None,\n",
       "             predictor=None, ...)</pre></div></div></div></div></div>"
      ],
      "text/plain": [
       "XGBRegressor(base_score=None, booster=None, callbacks=None,\n",
       "             colsample_bylevel=None, colsample_bynode=None,\n",
       "             colsample_bytree=None, device='cuda', early_stopping_rounds=None,\n",
       "             enable_categorical=True, eval_metric=None, feature_types=None,\n",
       "             gamma=None, gpu_id=None, grow_policy=None, importance_type=None,\n",
       "             interaction_constraints=None, learning_rate=0.01, max_bin=None,\n",
       "             max_cat_threshold=None, max_cat_to_onehot=None,\n",
       "             max_delta_step=None, max_depth=5, max_leaves=None,\n",
       "             min_child_weight=None, missing=nan, monotone_constraints=None,\n",
       "             n_estimators=500, n_jobs=None, num_parallel_tree=None,\n",
       "             predictor=None, ...)"
      ]
     },
     "execution_count": 26,
     "metadata": {},
     "output_type": "execute_result"
    }
   ],
   "source": [
    "model = xgb.XGBRegressor(objective='reg:squarederror', device = 'cuda', tree_method='gpu_hist', \n",
    "                         n_estimators=500, learning_rate=0.01, max_depth=5, \n",
    "                         random_state=42, enable_categorical=True  )\n",
    "model.fit(Xm_train, ym_train)"
   ]
  },
  {
   "cell_type": "code",
   "execution_count": 27,
   "id": "0f19a162-9bb1-47bf-a429-5c65bb80da33",
   "metadata": {},
   "outputs": [],
   "source": [
    "ym_pred = model.predict(Xm_test)"
   ]
  },
  {
   "cell_type": "code",
   "execution_count": 28,
   "id": "45a6daa3-be27-45a1-ba9c-3b305dacd9dd",
   "metadata": {},
   "outputs": [
    {
     "data": {
      "text/plain": [
       "35.345814761344485"
      ]
     },
     "execution_count": 28,
     "metadata": {},
     "output_type": "execute_result"
    }
   ],
   "source": [
    "r2_score(ym_test, ym_pred) * 100"
   ]
  },
  {
   "cell_type": "code",
   "execution_count": 29,
   "id": "c3e459fe-301b-4c5e-80dc-a6d3a2ecdd96",
   "metadata": {},
   "outputs": [],
   "source": [
    "ym_train_pred = model.predict(Xm_train)"
   ]
  },
  {
   "cell_type": "code",
   "execution_count": 30,
   "id": "702ad42e-8877-4d6e-954b-03e2cfc77230",
   "metadata": {},
   "outputs": [
    {
     "data": {
      "text/plain": [
       "36.214464768212785"
      ]
     },
     "execution_count": 30,
     "metadata": {},
     "output_type": "execute_result"
    }
   ],
   "source": [
    "r2_score(ym_train, ym_train_pred) * 100"
   ]
  },
  {
   "cell_type": "code",
   "execution_count": 8,
   "id": "7b95a1f5-3017-4d20-a8a5-4247153054f9",
   "metadata": {},
   "outputs": [],
   "source": [
    "n_estimators_list = list(range(100, 1_100, 100))\n",
    "learning_rate_list = [0.001, 0.01, 0.1]\n",
    "max_depth_list = [3, 4, 5, 6, 7, 8, 9, 10, 11, 12, 13, 14, 15]\n",
    "subsample_list = [0.6, 0.7, 0.8, 0.9, 1]"
   ]
  },
  {
   "cell_type": "code",
   "execution_count": 9,
   "id": "ca82f52c-e0b2-4b5d-b548-5313a58591f8",
   "metadata": {
    "scrolled": true
   },
   "outputs": [
    {
     "ename": "NameError",
     "evalue": "name 'Xm_train' is not defined",
     "output_type": "error",
     "traceback": [
      "\u001b[0;31m---------------------------------------------------------------------------\u001b[0m",
      "\u001b[0;31mNameError\u001b[0m                                 Traceback (most recent call last)",
      "Cell \u001b[0;32mIn[9], line 13\u001b[0m\n\u001b[1;32m      5\u001b[0m \u001b[38;5;28;01mfor\u001b[39;00m subsample \u001b[38;5;129;01min\u001b[39;00m subsample_list:\n\u001b[1;32m      6\u001b[0m     model \u001b[38;5;241m=\u001b[39m xgb\u001b[38;5;241m.\u001b[39mXGBRegressor(objective\u001b[38;5;241m=\u001b[39m\u001b[38;5;124m'\u001b[39m\u001b[38;5;124mreg:squarederror\u001b[39m\u001b[38;5;124m'\u001b[39m, \n\u001b[1;32m      7\u001b[0m                              tree_method\u001b[38;5;241m=\u001b[39m\u001b[38;5;124m'\u001b[39m\u001b[38;5;124mgpu_hist\u001b[39m\u001b[38;5;124m'\u001b[39m,  \u001b[38;5;66;03m## on linux: device = 'cuda', tree_method='hist', \u001b[39;00m\n\u001b[1;32m      8\u001b[0m                              n_estimators \u001b[38;5;241m=\u001b[39m n_estimators, \n\u001b[0;32m   (...)\u001b[0m\n\u001b[1;32m     11\u001b[0m                              subsample \u001b[38;5;241m=\u001b[39m subsample,\n\u001b[1;32m     12\u001b[0m                              random_state\u001b[38;5;241m=\u001b[39m\u001b[38;5;241m42\u001b[39m, enable_categorical\u001b[38;5;241m=\u001b[39m\u001b[38;5;28;01mTrue\u001b[39;00m  )\n\u001b[0;32m---> 13\u001b[0m     model\u001b[38;5;241m.\u001b[39mfit(\u001b[43mXm_train\u001b[49m, ym_train)\n\u001b[1;32m     14\u001b[0m     ym_pred \u001b[38;5;241m=\u001b[39m model\u001b[38;5;241m.\u001b[39mpredict(Xm_test)\n\u001b[1;32m     15\u001b[0m     test_r2 \u001b[38;5;241m=\u001b[39m r2_score(ym_test, ym_pred) \u001b[38;5;241m*\u001b[39m \u001b[38;5;241m100\u001b[39m\n",
      "\u001b[0;31mNameError\u001b[0m: name 'Xm_train' is not defined"
     ]
    }
   ],
   "source": [
    "results_list = []\n",
    "for n_estimators in n_estimators_list:\n",
    "    for learning_rate in learning_rate_list:\n",
    "        for max_depth in max_depth_list:\n",
    "            for subsample in subsample_list:\n",
    "                model = xgb.XGBRegressor(objective='reg:squarederror', \n",
    "                                         tree_method='gpu_hist',  ## on linux: device = 'cuda', tree_method='hist', \n",
    "                                         n_estimators = n_estimators, \n",
    "                                         learning_rate = learning_rate, \n",
    "                                         max_depth = max_depth, \n",
    "                                         subsample = subsample,\n",
    "                                         random_state=42, enable_categorical=True  )\n",
    "                model.fit(Xm_train, ym_train)\n",
    "                ym_pred = model.predict(Xm_test)\n",
    "                test_r2 = r2_score(ym_test, ym_pred) * 100\n",
    "                ym_train_pred = model.predict(Xm_train)\n",
    "                train_r2 = r2_score(ym_train, ym_train_pred) * 100\n",
    "                row = [n_estimators, learning_rate, max_depth, \n",
    "                       subsample, train_r2, test_r2]\n",
    "                print(row)\n",
    "                model = None\n",
    "                ym_pred = None\n",
    "                ym_train_pred = None\n",
    "                results_list.append(row)"
   ]
  },
  {
   "cell_type": "code",
   "execution_count": 33,
   "id": "dc19c0e5-446b-49c0-989d-d939ebcab4ec",
   "metadata": {},
   "outputs": [],
   "source": [
    "results_list_df = pd.DataFrame(results_list, columns = ['n_estimators', 'learning_rate', 'max_depth', 'subsample', 'train_r2', 'test_r2'])"
   ]
  },
  {
   "cell_type": "code",
   "execution_count": 40,
   "id": "ba153600-f5d8-4bfc-a3d6-fe0533fbc207",
   "metadata": {},
   "outputs": [],
   "source": [
    "results_list_df.to_parquet(os.path.join('Results', \"Hyperparameter_GenderMaleXgboost_ML.parquet\"))"
   ]
  },
  {
   "cell_type": "code",
   "execution_count": 41,
   "id": "0144ee68-2e7d-45bf-a322-cef4b464cdf0",
   "metadata": {},
   "outputs": [
    {
     "data": {
      "text/html": [
       "<div>\n",
       "<style scoped>\n",
       "    .dataframe tbody tr th:only-of-type {\n",
       "        vertical-align: middle;\n",
       "    }\n",
       "\n",
       "    .dataframe tbody tr th {\n",
       "        vertical-align: top;\n",
       "    }\n",
       "\n",
       "    .dataframe thead th {\n",
       "        text-align: right;\n",
       "    }\n",
       "</style>\n",
       "<table border=\"1\" class=\"dataframe\">\n",
       "  <thead>\n",
       "    <tr style=\"text-align: right;\">\n",
       "      <th></th>\n",
       "      <th>n_estimators</th>\n",
       "      <th>learning_rate</th>\n",
       "      <th>max_depth</th>\n",
       "      <th>subsample</th>\n",
       "      <th>train_r2</th>\n",
       "      <th>test_r2</th>\n",
       "    </tr>\n",
       "  </thead>\n",
       "  <tbody>\n",
       "    <tr>\n",
       "      <th>0</th>\n",
       "      <td>100</td>\n",
       "      <td>0.001</td>\n",
       "      <td>3</td>\n",
       "      <td>0.6</td>\n",
       "      <td>-346.946515</td>\n",
       "      <td>-345.661486</td>\n",
       "    </tr>\n",
       "    <tr>\n",
       "      <th>1</th>\n",
       "      <td>100</td>\n",
       "      <td>0.001</td>\n",
       "      <td>3</td>\n",
       "      <td>0.7</td>\n",
       "      <td>-346.945118</td>\n",
       "      <td>-345.658858</td>\n",
       "    </tr>\n",
       "    <tr>\n",
       "      <th>2</th>\n",
       "      <td>100</td>\n",
       "      <td>0.001</td>\n",
       "      <td>3</td>\n",
       "      <td>0.8</td>\n",
       "      <td>-346.945979</td>\n",
       "      <td>-345.660372</td>\n",
       "    </tr>\n",
       "    <tr>\n",
       "      <th>3</th>\n",
       "      <td>100</td>\n",
       "      <td>0.001</td>\n",
       "      <td>3</td>\n",
       "      <td>0.9</td>\n",
       "      <td>-346.945067</td>\n",
       "      <td>-345.659066</td>\n",
       "    </tr>\n",
       "    <tr>\n",
       "      <th>4</th>\n",
       "      <td>100</td>\n",
       "      <td>0.001</td>\n",
       "      <td>3</td>\n",
       "      <td>1.0</td>\n",
       "      <td>-346.943746</td>\n",
       "      <td>-345.657782</td>\n",
       "    </tr>\n",
       "  </tbody>\n",
       "</table>\n",
       "</div>"
      ],
      "text/plain": [
       "   n_estimators  learning_rate  max_depth  subsample    train_r2     test_r2\n",
       "0           100          0.001          3        0.6 -346.946515 -345.661486\n",
       "1           100          0.001          3        0.7 -346.945118 -345.658858\n",
       "2           100          0.001          3        0.8 -346.945979 -345.660372\n",
       "3           100          0.001          3        0.9 -346.945067 -345.659066\n",
       "4           100          0.001          3        1.0 -346.943746 -345.657782"
      ]
     },
     "execution_count": 41,
     "metadata": {},
     "output_type": "execute_result"
    }
   ],
   "source": [
    "results_list_df.head()"
   ]
  },
  {
   "cell_type": "code",
   "execution_count": 43,
   "id": "68dc4bae-ffa8-4f15-8e64-68e9323e8c0d",
   "metadata": {},
   "outputs": [
    {
     "data": {
      "text/html": [
       "<div>\n",
       "<style scoped>\n",
       "    .dataframe tbody tr th:only-of-type {\n",
       "        vertical-align: middle;\n",
       "    }\n",
       "\n",
       "    .dataframe tbody tr th {\n",
       "        vertical-align: top;\n",
       "    }\n",
       "\n",
       "    .dataframe thead th {\n",
       "        text-align: right;\n",
       "    }\n",
       "</style>\n",
       "<table border=\"1\" class=\"dataframe\">\n",
       "  <thead>\n",
       "    <tr style=\"text-align: right;\">\n",
       "      <th></th>\n",
       "      <th>n_estimators</th>\n",
       "      <th>learning_rate</th>\n",
       "      <th>max_depth</th>\n",
       "      <th>subsample</th>\n",
       "      <th>train_r2</th>\n",
       "      <th>test_r2</th>\n",
       "    </tr>\n",
       "  </thead>\n",
       "  <tbody>\n",
       "    <tr>\n",
       "      <th>1868</th>\n",
       "      <td>1000</td>\n",
       "      <td>0.01</td>\n",
       "      <td>12</td>\n",
       "      <td>0.9</td>\n",
       "      <td>65.259347</td>\n",
       "      <td>37.972949</td>\n",
       "    </tr>\n",
       "    <tr>\n",
       "      <th>1865</th>\n",
       "      <td>1000</td>\n",
       "      <td>0.01</td>\n",
       "      <td>12</td>\n",
       "      <td>0.6</td>\n",
       "      <td>63.688727</td>\n",
       "      <td>37.949387</td>\n",
       "    </tr>\n",
       "    <tr>\n",
       "      <th>1862</th>\n",
       "      <td>1000</td>\n",
       "      <td>0.01</td>\n",
       "      <td>11</td>\n",
       "      <td>0.8</td>\n",
       "      <td>56.286785</td>\n",
       "      <td>37.944039</td>\n",
       "    </tr>\n",
       "    <tr>\n",
       "      <th>1867</th>\n",
       "      <td>1000</td>\n",
       "      <td>0.01</td>\n",
       "      <td>12</td>\n",
       "      <td>0.8</td>\n",
       "      <td>64.856366</td>\n",
       "      <td>37.932941</td>\n",
       "    </tr>\n",
       "    <tr>\n",
       "      <th>1673</th>\n",
       "      <td>900</td>\n",
       "      <td>0.01</td>\n",
       "      <td>12</td>\n",
       "      <td>0.9</td>\n",
       "      <td>63.580487</td>\n",
       "      <td>37.917952</td>\n",
       "    </tr>\n",
       "    <tr>\n",
       "      <th>1872</th>\n",
       "      <td>1000</td>\n",
       "      <td>0.01</td>\n",
       "      <td>13</td>\n",
       "      <td>0.8</td>\n",
       "      <td>74.394850</td>\n",
       "      <td>37.917832</td>\n",
       "    </tr>\n",
       "    <tr>\n",
       "      <th>1866</th>\n",
       "      <td>1000</td>\n",
       "      <td>0.01</td>\n",
       "      <td>12</td>\n",
       "      <td>0.7</td>\n",
       "      <td>64.327114</td>\n",
       "      <td>37.917203</td>\n",
       "    </tr>\n",
       "    <tr>\n",
       "      <th>1670</th>\n",
       "      <td>900</td>\n",
       "      <td>0.01</td>\n",
       "      <td>12</td>\n",
       "      <td>0.6</td>\n",
       "      <td>62.041453</td>\n",
       "      <td>37.906973</td>\n",
       "    </tr>\n",
       "    <tr>\n",
       "      <th>1873</th>\n",
       "      <td>1000</td>\n",
       "      <td>0.01</td>\n",
       "      <td>13</td>\n",
       "      <td>0.9</td>\n",
       "      <td>74.956253</td>\n",
       "      <td>37.905652</td>\n",
       "    </tr>\n",
       "    <tr>\n",
       "      <th>1677</th>\n",
       "      <td>900</td>\n",
       "      <td>0.01</td>\n",
       "      <td>13</td>\n",
       "      <td>0.8</td>\n",
       "      <td>72.509990</td>\n",
       "      <td>37.900075</td>\n",
       "    </tr>\n",
       "    <tr>\n",
       "      <th>1672</th>\n",
       "      <td>900</td>\n",
       "      <td>0.01</td>\n",
       "      <td>12</td>\n",
       "      <td>0.8</td>\n",
       "      <td>63.167024</td>\n",
       "      <td>37.893394</td>\n",
       "    </tr>\n",
       "    <tr>\n",
       "      <th>1861</th>\n",
       "      <td>1000</td>\n",
       "      <td>0.01</td>\n",
       "      <td>11</td>\n",
       "      <td>0.7</td>\n",
       "      <td>55.901094</td>\n",
       "      <td>37.891494</td>\n",
       "    </tr>\n",
       "    <tr>\n",
       "      <th>1863</th>\n",
       "      <td>1000</td>\n",
       "      <td>0.01</td>\n",
       "      <td>11</td>\n",
       "      <td>0.9</td>\n",
       "      <td>56.557420</td>\n",
       "      <td>37.882962</td>\n",
       "    </tr>\n",
       "    <tr>\n",
       "      <th>1860</th>\n",
       "      <td>1000</td>\n",
       "      <td>0.01</td>\n",
       "      <td>11</td>\n",
       "      <td>0.6</td>\n",
       "      <td>55.483696</td>\n",
       "      <td>37.878798</td>\n",
       "    </tr>\n",
       "    <tr>\n",
       "      <th>1667</th>\n",
       "      <td>900</td>\n",
       "      <td>0.01</td>\n",
       "      <td>11</td>\n",
       "      <td>0.8</td>\n",
       "      <td>54.979806</td>\n",
       "      <td>37.877821</td>\n",
       "    </tr>\n",
       "    <tr>\n",
       "      <th>1671</th>\n",
       "      <td>900</td>\n",
       "      <td>0.01</td>\n",
       "      <td>12</td>\n",
       "      <td>0.7</td>\n",
       "      <td>62.664476</td>\n",
       "      <td>37.875682</td>\n",
       "    </tr>\n",
       "    <tr>\n",
       "      <th>1678</th>\n",
       "      <td>900</td>\n",
       "      <td>0.01</td>\n",
       "      <td>13</td>\n",
       "      <td>0.9</td>\n",
       "      <td>73.093576</td>\n",
       "      <td>37.864147</td>\n",
       "    </tr>\n",
       "    <tr>\n",
       "      <th>1475</th>\n",
       "      <td>800</td>\n",
       "      <td>0.01</td>\n",
       "      <td>12</td>\n",
       "      <td>0.6</td>\n",
       "      <td>60.265254</td>\n",
       "      <td>37.850028</td>\n",
       "    </tr>\n",
       "    <tr>\n",
       "      <th>1871</th>\n",
       "      <td>1000</td>\n",
       "      <td>0.01</td>\n",
       "      <td>13</td>\n",
       "      <td>0.7</td>\n",
       "      <td>73.646052</td>\n",
       "      <td>37.849546</td>\n",
       "    </tr>\n",
       "    <tr>\n",
       "      <th>1478</th>\n",
       "      <td>800</td>\n",
       "      <td>0.01</td>\n",
       "      <td>12</td>\n",
       "      <td>0.9</td>\n",
       "      <td>61.753060</td>\n",
       "      <td>37.849004</td>\n",
       "    </tr>\n",
       "  </tbody>\n",
       "</table>\n",
       "</div>"
      ],
      "text/plain": [
       "      n_estimators  learning_rate  max_depth  subsample   train_r2    test_r2\n",
       "1868          1000           0.01         12        0.9  65.259347  37.972949\n",
       "1865          1000           0.01         12        0.6  63.688727  37.949387\n",
       "1862          1000           0.01         11        0.8  56.286785  37.944039\n",
       "1867          1000           0.01         12        0.8  64.856366  37.932941\n",
       "1673           900           0.01         12        0.9  63.580487  37.917952\n",
       "1872          1000           0.01         13        0.8  74.394850  37.917832\n",
       "1866          1000           0.01         12        0.7  64.327114  37.917203\n",
       "1670           900           0.01         12        0.6  62.041453  37.906973\n",
       "1873          1000           0.01         13        0.9  74.956253  37.905652\n",
       "1677           900           0.01         13        0.8  72.509990  37.900075\n",
       "1672           900           0.01         12        0.8  63.167024  37.893394\n",
       "1861          1000           0.01         11        0.7  55.901094  37.891494\n",
       "1863          1000           0.01         11        0.9  56.557420  37.882962\n",
       "1860          1000           0.01         11        0.6  55.483696  37.878798\n",
       "1667           900           0.01         11        0.8  54.979806  37.877821\n",
       "1671           900           0.01         12        0.7  62.664476  37.875682\n",
       "1678           900           0.01         13        0.9  73.093576  37.864147\n",
       "1475           800           0.01         12        0.6  60.265254  37.850028\n",
       "1871          1000           0.01         13        0.7  73.646052  37.849546\n",
       "1478           800           0.01         12        0.9  61.753060  37.849004"
      ]
     },
     "execution_count": 43,
     "metadata": {},
     "output_type": "execute_result"
    }
   ],
   "source": [
    "results_list_df.sort_values(by='test_r2', ascending=False).head(20)"
   ]
  },
  {
   "cell_type": "markdown",
   "id": "cd13ec2f-16d2-4af9-a2d6-265fc39c09f1",
   "metadata": {},
   "source": [
    "**Fine tune other hyperparameter**"
   ]
  },
  {
   "cell_type": "code",
   "execution_count": 45,
   "id": "9cff6d43-70c7-46fe-9d00-fad5edf87719",
   "metadata": {},
   "outputs": [],
   "source": [
    "gamma_list = [0, 0.01, 0.1, 1, 10]\n",
    "min_child_weight_list = [0, 0.1, 1, 10]\n",
    "max_delta_step_list = [0, 0.1, 1, 10]\n",
    "reg_lambda_list = [0, 0.1, 1, 10]\n",
    "reg_alpha_list = [0, 0.1, 1, 10]"
   ]
  },
  {
   "cell_type": "code",
   "execution_count": null,
   "id": "44c0cef1-29fe-44d3-97f2-97554b67fddc",
   "metadata": {
    "scrolled": true
   },
   "outputs": [
    {
     "name": "stdout",
     "output_type": "stream",
     "text": [
      "[0, 0, 0, 0, 0, 66.32583976200496, 37.92534171377735]\n",
      "[0, 0, 0, 0, 0.1, 66.25929018662178, 37.89396674883224]\n",
      "[0, 0, 0, 0, 1, 65.77513090428084, 37.92659717073056]\n",
      "[0, 0, 0, 0, 10, 57.76528690574637, 37.959529768840085]\n",
      "[0, 0, 0, 0.1, 0, 66.14473734107358, 37.91347779740685]\n",
      "[0, 0, 0, 0.1, 0.1, 66.11109036118917, 37.903010747107345]\n",
      "[0, 0, 0, 0.1, 1, 65.64327235851457, 37.913586773826104]\n",
      "[0, 0, 0, 0.1, 10, 57.73111159250488, 37.934744396040244]\n",
      "[0, 0, 0, 1, 0, 65.2593470125833, 37.972948793923756]\n",
      "[0, 0, 0, 1, 0.1, 65.2311686285684, 37.98462798746666]\n",
      "[0, 0, 0, 1, 1, 64.68336611746707, 37.962690044963246]\n",
      "[0, 0, 0, 1, 10, 57.25202947338671, 37.93972695444805]\n",
      "[0, 0, 0, 10, 0, 59.587659852857456, 38.049672756904464]\n",
      "[0, 0, 0, 10, 0.1, 59.56645364193989, 38.03215426078196]\n",
      "[0, 0, 0, 10, 1, 59.11353450893302, 38.05629920865351]\n",
      "[0, 0, 0, 10, 10, 54.593747394480815, 37.99005296392986]\n",
      "[0, 0, 0.1, 0, 0, 66.28456097496328, 37.97191901178252]\n",
      "[0, 0, 0.1, 0, 0.1, 66.19149802930379, 37.902195317806395]\n",
      "[0, 0, 0.1, 0, 1, 65.39839981558471, 37.92244374700557]\n",
      "[0, 0, 0.1, 0, 10, 59.04209243416285, 37.978024460129845]\n",
      "[0, 0, 0.1, 0.1, 0, 66.1887772782863, 37.93779191035834]\n",
      "[0, 0, 0.1, 0.1, 0.1, 66.0890024749104, 37.91353879663358]\n",
      "[0, 0, 0.1, 0.1, 1, 65.36006548245882, 37.93181961998149]\n",
      "[0, 0, 0.1, 0.1, 10, 58.945161916870305, 37.99095847971201]\n",
      "[0, 0, 0.1, 1, 0, 65.3420005288331, 37.94501368772308]\n",
      "[0, 0, 0.1, 1, 0.1, 65.2286540405963, 37.9801645632304]\n",
      "[0, 0, 0.1, 1, 1, 64.54745398174813, 37.93600617079718]\n",
      "[0, 0, 0.1, 1, 10, 58.370419934091466, 38.02194382717676]\n",
      "[0, 0, 0.1, 10, 0, 59.63030083001326, 38.038063642318065]\n",
      "[0, 0, 0.1, 10, 0.1, 59.57135011628001, 38.01854194152373]\n",
      "[0, 0, 0.1, 10, 1, 59.21013699713331, 38.0221230041724]\n",
      "[0, 0, 0.1, 10, 10, 55.29081533189923, 38.03327483431903]\n",
      "[0, 0, 1, 0, 0, 66.28456097496328, 37.97191901178252]\n",
      "[0, 0, 1, 0, 0.1, 66.19149802930379, 37.902195317806395]\n",
      "[0, 0, 1, 0, 1, 65.39839981558471, 37.92244374700557]\n",
      "[0, 0, 1, 0, 10, 59.04209243416285, 37.978024460129845]\n",
      "[0, 0, 1, 0.1, 0, 66.1887772782863, 37.93779191035834]\n",
      "[0, 0, 1, 0.1, 0.1, 66.0890024749104, 37.91353879663358]\n",
      "[0, 0, 1, 0.1, 1, 65.36006548245882, 37.93181961998149]\n",
      "[0, 0, 1, 0.1, 10, 58.945161916870305, 37.99095847971201]\n",
      "[0, 0, 1, 1, 0, 65.3420005288331, 37.94501368772308]\n",
      "[0, 0, 1, 1, 0.1, 65.2286540405963, 37.9801645632304]\n",
      "[0, 0, 1, 1, 1, 64.54745398174813, 37.93600617079718]\n",
      "[0, 0, 1, 1, 10, 58.370419934091466, 38.02194382717676]\n",
      "[0, 0, 1, 10, 0, 59.63030083001326, 38.038063642318065]\n",
      "[0, 0, 1, 10, 0.1, 59.57135011628001, 38.01854194152373]\n",
      "[0, 0, 1, 10, 1, 59.21013699713331, 38.0221230041724]\n",
      "[0, 0, 1, 10, 10, 55.29081533189923, 38.03327483431903]\n",
      "[0, 0, 10, 0, 0, 66.28456097496328, 37.97191901178252]\n",
      "[0, 0, 10, 0, 0.1, 66.19149802930379, 37.902195317806395]\n",
      "[0, 0, 10, 0, 1, 65.39839981558471, 37.92244374700557]\n",
      "[0, 0, 10, 0, 10, 59.04209243416285, 37.978024460129845]\n",
      "[0, 0, 10, 0.1, 0, 66.1887772782863, 37.93779191035834]\n",
      "[0, 0, 10, 0.1, 0.1, 66.0890024749104, 37.91353879663358]\n",
      "[0, 0, 10, 0.1, 1, 65.36006548245882, 37.93181961998149]\n",
      "[0, 0, 10, 0.1, 10, 58.945161916870305, 37.99095847971201]\n",
      "[0, 0, 10, 1, 0, 65.3420005288331, 37.94501368772308]\n",
      "[0, 0, 10, 1, 0.1, 65.2286540405963, 37.9801645632304]\n",
      "[0, 0, 10, 1, 1, 64.54745398174813, 37.93600617079718]\n",
      "[0, 0, 10, 1, 10, 58.370419934091466, 38.02194382717676]\n",
      "[0, 0, 10, 10, 0, 59.63030083001326, 38.038063642318065]\n",
      "[0, 0, 10, 10, 0.1, 59.57135011628001, 38.01854194152373]\n",
      "[0, 0, 10, 10, 1, 59.21013699713331, 38.0221230041724]\n",
      "[0, 0, 10, 10, 10, 55.29081533189923, 38.03327483431903]\n",
      "[0, 0.1, 0, 0, 0, 66.32583976200496, 37.92534171377735]\n",
      "[0, 0.1, 0, 0, 0.1, 66.25929018662178, 37.89396674883224]\n",
      "[0, 0.1, 0, 0, 1, 65.77513090428084, 37.92659717073056]\n",
      "[0, 0.1, 0, 0, 10, 57.82571458873629, 37.94682415693631]\n",
      "[0, 0.1, 0, 0.1, 0, 66.16789440832753, 37.917871642994136]\n",
      "[0, 0.1, 0, 0.1, 0.1, 66.11109036118917, 37.903010747107345]\n",
      "[0, 0.1, 0, 0.1, 1, 65.64327235851457, 37.913586773826104]\n",
      "[0, 0.1, 0, 0.1, 10, 57.754640965176264, 37.96691773211006]\n",
      "[0, 0.1, 0, 1, 0, 65.2593470125833, 37.972948793923756]\n",
      "[0, 0.1, 0, 1, 0.1, 65.2311686285684, 37.98462798746666]\n",
      "[0, 0.1, 0, 1, 1, 64.67360094649983, 37.9382041194665]\n",
      "[0, 0.1, 0, 1, 10, 57.237782768733304, 37.93771610170536]\n",
      "[0, 0.1, 0, 10, 0, 59.587659852857456, 38.049672756904464]\n",
      "[0, 0.1, 0, 10, 0.1, 59.564460782427595, 38.030829294958366]\n",
      "[0, 0.1, 0, 10, 1, 59.128072285671685, 38.031143881613836]\n",
      "[0, 0.1, 0, 10, 10, 54.553564390106814, 37.959378334989054]\n",
      "[0, 0.1, 0.1, 0, 0, 66.26628400938105, 37.939992955947844]\n",
      "[0, 0.1, 0.1, 0, 0.1, 66.19149802930379, 37.902195317806395]\n",
      "[0, 0.1, 0.1, 0, 1, 65.39839981558471, 37.92244374700557]\n",
      "[0, 0.1, 0.1, 0, 10, 59.04209243416285, 37.978024460129845]\n",
      "[0, 0.1, 0.1, 0.1, 0, 66.1887772782863, 37.93779191035834]\n",
      "[0, 0.1, 0.1, 0.1, 0.1, 66.0890024749104, 37.91353879663358]\n",
      "[0, 0.1, 0.1, 0.1, 1, 65.36006548245882, 37.93181961998149]\n",
      "[0, 0.1, 0.1, 0.1, 10, 58.945161916870305, 37.99095847971201]\n",
      "[0, 0.1, 0.1, 1, 0, 65.3420005288331, 37.94501368772308]\n",
      "[0, 0.1, 0.1, 1, 0.1, 65.2286540405963, 37.9801645632304]\n",
      "[0, 0.1, 0.1, 1, 1, 64.54745398174813, 37.93600617079718]\n",
      "[0, 0.1, 0.1, 1, 10, 58.370419934091466, 38.02194382717676]\n",
      "[0, 0.1, 0.1, 10, 0, 59.63030083001326, 38.038063642318065]\n",
      "[0, 0.1, 0.1, 10, 0.1, 59.57135011628001, 38.01854194152373]\n",
      "[0, 0.1, 0.1, 10, 1, 59.21013699713331, 38.0221230041724]\n",
      "[0, 0.1, 0.1, 10, 10, 55.29081533189923, 38.03327483431903]\n",
      "[0, 0.1, 1, 0, 0, 66.26628400938105, 37.939992955947844]\n",
      "[0, 0.1, 1, 0, 0.1, 66.19149802930379, 37.902195317806395]\n",
      "[0, 0.1, 1, 0, 1, 65.39839981558471, 37.92244374700557]\n",
      "[0, 0.1, 1, 0, 10, 59.04209243416285, 37.978024460129845]\n",
      "[0, 0.1, 1, 0.1, 0, 66.1887772782863, 37.93779191035834]\n",
      "[0, 0.1, 1, 0.1, 0.1, 66.0890024749104, 37.91353879663358]\n",
      "[0, 0.1, 1, 0.1, 1, 65.36006548245882, 37.93181961998149]\n",
      "[0, 0.1, 1, 0.1, 10, 58.945161916870305, 37.99095847971201]\n",
      "[0, 0.1, 1, 1, 0, 65.3420005288331, 37.94501368772308]\n",
      "[0, 0.1, 1, 1, 0.1, 65.2286540405963, 37.9801645632304]\n",
      "[0, 0.1, 1, 1, 1, 64.54745398174813, 37.93600617079718]\n",
      "[0, 0.1, 1, 1, 10, 58.370419934091466, 38.02194382717676]\n",
      "[0, 0.1, 1, 10, 0, 59.63030083001326, 38.038063642318065]\n",
      "[0, 0.1, 1, 10, 0.1, 59.57135011628001, 38.01854194152373]\n",
      "[0, 0.1, 1, 10, 1, 59.21013699713331, 38.0221230041724]\n",
      "[0, 0.1, 1, 10, 10, 55.29081533189923, 38.03327483431903]\n",
      "[0, 0.1, 10, 0, 0, 66.26628400938105, 37.939992955947844]\n",
      "[0, 0.1, 10, 0, 0.1, 66.19149802930379, 37.902195317806395]\n",
      "[0, 0.1, 10, 0, 1, 65.39839981558471, 37.92244374700557]\n",
      "[0, 0.1, 10, 0, 10, 59.04209243416285, 37.978024460129845]\n",
      "[0, 0.1, 10, 0.1, 0, 66.1887772782863, 37.93779191035834]\n",
      "[0, 0.1, 10, 0.1, 0.1, 66.0890024749104, 37.91353879663358]\n",
      "[0, 0.1, 10, 0.1, 1, 65.36006548245882, 37.93181961998149]\n",
      "[0, 0.1, 10, 0.1, 10, 58.945161916870305, 37.99095847971201]\n",
      "[0, 0.1, 10, 1, 0, 65.3420005288331, 37.94501368772308]\n",
      "[0, 0.1, 10, 1, 0.1, 65.2286540405963, 37.9801645632304]\n",
      "[0, 0.1, 10, 1, 1, 64.54745398174813, 37.93600617079718]\n",
      "[0, 0.1, 10, 1, 10, 58.370419934091466, 38.02194382717676]\n",
      "[0, 0.1, 10, 10, 0, 59.63030083001326, 38.038063642318065]\n",
      "[0, 0.1, 10, 10, 0.1, 59.57135011628001, 38.01854194152373]\n",
      "[0, 0.1, 10, 10, 1, 59.21013699713331, 38.0221230041724]\n",
      "[0, 0.1, 10, 10, 10, 55.29081533189923, 38.03327483431903]\n",
      "[0, 1, 0, 0, 0, 66.32583976200496, 37.92534171377735]\n",
      "[0, 1, 0, 0, 0.1, 66.25929018662178, 37.89396674883224]\n",
      "[0, 1, 0, 0, 1, 65.77513090428084, 37.92659717073056]\n",
      "[0, 1, 0, 0, 10, 57.82571458873629, 37.94682415693631]\n",
      "[0, 1, 0, 0.1, 0, 66.16789440832753, 37.917871642994136]\n",
      "[0, 1, 0, 0.1, 0.1, 66.11109036118917, 37.903010747107345]\n",
      "[0, 1, 0, 0.1, 1, 65.64327235851457, 37.913586773826104]\n",
      "[0, 1, 0, 0.1, 10, 57.754640965176264, 37.96691773211006]\n",
      "[0, 1, 0, 1, 0, 65.2593470125833, 37.972948793923756]\n",
      "[0, 1, 0, 1, 0.1, 65.2311686285684, 37.98462798746666]\n",
      "[0, 1, 0, 1, 1, 64.67360094649983, 37.9382041194665]\n",
      "[0, 1, 0, 1, 10, 57.237782768733304, 37.93771610170536]\n",
      "[0, 1, 0, 10, 0, 59.587659852857456, 38.049672756904464]\n",
      "[0, 1, 0, 10, 0.1, 59.564460782427595, 38.030829294958366]\n",
      "[0, 1, 0, 10, 1, 59.128072285671685, 38.031143881613836]\n",
      "[0, 1, 0, 10, 10, 54.553564390106814, 37.959378334989054]\n",
      "[0, 1, 0.1, 0, 0, 66.26628400938105, 37.939992955947844]\n",
      "[0, 1, 0.1, 0, 0.1, 66.19149802930379, 37.902195317806395]\n"
     ]
    }
   ],
   "source": [
    "# 1000\t0.01\t12\t0.9\t65.259347\t37.972949\n",
    "results_list_otherhyper = []\n",
    "for gamma in gamma_list:\n",
    "    for min_child_weight in min_child_weight_list:\n",
    "        for max_delta_step in max_delta_step_list:\n",
    "            for reg_lambda in reg_lambda_list:\n",
    "                for reg_alpha in reg_alpha_list:\n",
    "                    model = xgb.XGBRegressor(objective='reg:squarederror',  tree_method='gpu_hist',  ## on linux: device = 'cuda', tree_method='hist', \n",
    "                                             n_estimators = 1000,  learning_rate = 0.01, max_depth = 12,   subsample = 0.9,\n",
    "                                             gamma = gamma, min_child_weight = min_child_weight, max_delta_step = max_delta_step,\n",
    "                                             reg_lambda = reg_lambda, reg_alpha = reg_alpha, \n",
    "                                             random_state=42, enable_categorical=True  )\n",
    "                    model.fit(Xm_train, ym_train)\n",
    "                    ym_pred = model.predict(Xm_test)\n",
    "                    test_r2 = r2_score(ym_test, ym_pred) * 100\n",
    "                    ym_train_pred = model.predict(Xm_train)\n",
    "                    train_r2 = r2_score(ym_train, ym_train_pred) * 100\n",
    "                    row = [gamma, min_child_weight, max_delta_step, reg_lambda, \n",
    "                           reg_alpha, train_r2, test_r2]\n",
    "                    print(row)\n",
    "                    model = None\n",
    "                    ym_pred = None\n",
    "                    ym_train_pred = None\n",
    "                    results_list_otherhyper.append(row)"
   ]
  },
  {
   "cell_type": "code",
   "execution_count": null,
   "id": "cb231cac-c199-440c-8b0d-458397751970",
   "metadata": {},
   "outputs": [],
   "source": []
  }
 ],
 "metadata": {
  "kernelspec": {
   "display_name": "Python 3 (ipykernel)",
   "language": "python",
   "name": "python3"
  },
  "language_info": {
   "codemirror_mode": {
    "name": "ipython",
    "version": 3
   },
   "file_extension": ".py",
   "mimetype": "text/x-python",
   "name": "python",
   "nbconvert_exporter": "python",
   "pygments_lexer": "ipython3",
   "version": "3.9.19"
  }
 },
 "nbformat": 4,
 "nbformat_minor": 5
}
