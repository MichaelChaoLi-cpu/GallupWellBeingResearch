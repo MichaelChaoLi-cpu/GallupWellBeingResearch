{
 "cells": [
  {
   "cell_type": "markdown",
   "id": "9d4dec62-453d-4e6b-96d1-b4f02f9753c8",
   "metadata": {},
   "source": [
    "# Double Wash Data for Zhang     \n",
    "This code was created for Zhang's research, with the purpose of filtering the data needed for the research from the raw washed data."
   ]
  },
  {
   "cell_type": "code",
   "execution_count": 1,
   "id": "0a89b0cd-3cdb-4884-8631-46a56cb2c169",
   "metadata": {
    "scrolled": true
   },
   "outputs": [
    {
     "data": {
      "text/plain": [
       "'/mnt/f/ESG09_Project/Code'"
      ]
     },
     "execution_count": 1,
     "metadata": {},
     "output_type": "execute_result"
    }
   ],
   "source": [
    "%pwd"
   ]
  },
  {
   "cell_type": "code",
   "execution_count": 2,
   "id": "47dfb007-cdd6-4c73-89d2-a23950515a5b",
   "metadata": {},
   "outputs": [
    {
     "name": "stdout",
     "output_type": "stream",
     "text": [
      "/mnt/f/ESG09_Project\n"
     ]
    },
    {
     "name": "stderr",
     "output_type": "stream",
     "text": [
      "/home/zhang/miniconda3/envs/tf/lib/python3.9/site-packages/IPython/core/magics/osm.py:417: UserWarning: using dhist requires you to install the `pickleshare` library.\n",
      "  self.shell.db['dhist'] = compress_dhist(dhist)[-100:]\n"
     ]
    }
   ],
   "source": [
    "cd .."
   ]
  },
  {
   "cell_type": "code",
   "execution_count": null,
   "id": "0f73d4a8-695a-416c-9f2e-aaeeee75d151",
   "metadata": {},
   "outputs": [],
   "source": []
  },
  {
   "cell_type": "markdown",
   "id": "e484fd7f-d353-4795-a26c-250ca4994835",
   "metadata": {},
   "source": [
    "## Import Package"
   ]
  },
  {
   "cell_type": "code",
   "execution_count": 3,
   "id": "52bb507a-86c4-4548-909e-16363d4c54b3",
   "metadata": {},
   "outputs": [],
   "source": [
    "import numpy as np"
   ]
  },
  {
   "cell_type": "code",
   "execution_count": 4,
   "id": "04e2b8f4-2577-439a-9bba-c9e988d01ca1",
   "metadata": {},
   "outputs": [],
   "source": [
    "import os"
   ]
  },
  {
   "cell_type": "code",
   "execution_count": 5,
   "id": "41cfdba7-03ef-4539-9edb-18d2b9eb08b6",
   "metadata": {},
   "outputs": [],
   "source": [
    "import pandas as pd"
   ]
  },
  {
   "cell_type": "code",
   "execution_count": null,
   "id": "6b22d952-4334-42a5-874d-120707a7a2d7",
   "metadata": {},
   "outputs": [],
   "source": []
  },
  {
   "cell_type": "markdown",
   "id": "9bc82f1e-37fa-4696-b80e-8a56459b35d3",
   "metadata": {},
   "source": [
    "## Load dataset"
   ]
  },
  {
   "cell_type": "code",
   "execution_count": 6,
   "id": "350e2f51-05b9-4726-98f3-3593377f3cae",
   "metadata": {},
   "outputs": [],
   "source": [
    "filename = \"Data/GallupWB_WashedRawData17Wave_v1.parquet\""
   ]
  },
  {
   "cell_type": "code",
   "execution_count": null,
   "id": "231d48f3-7482-43a7-9f97-a2e1009b3f59",
   "metadata": {},
   "outputs": [],
   "source": []
  },
  {
   "cell_type": "markdown",
   "id": "81ec1aff-8c84-4a3a-b7b2-5cfe040a6a34",
   "metadata": {},
   "source": [
    "## Wash Dateset"
   ]
  },
  {
   "cell_type": "markdown",
   "id": "73001389-9798-4909-abe8-f802c4616b7a",
   "metadata": {},
   "source": [
    "### Extract the required columns & Dropna"
   ]
  },
  {
   "cell_type": "code",
   "execution_count": 7,
   "id": "15a13765-04e9-4602-9b8f-b0a2b9a344ab",
   "metadata": {},
   "outputs": [],
   "source": [
    "df = pd.read_parquet(filename)"
   ]
  },
  {
   "cell_type": "code",
   "execution_count": 8,
   "id": "e8b8aaeb-3c5f-4d11-8919-3439e8f4ee2a",
   "metadata": {},
   "outputs": [
    {
     "data": {
      "text/plain": [
       "(2594089, 90)"
      ]
     },
     "execution_count": 8,
     "metadata": {},
     "output_type": "execute_result"
    }
   ],
   "source": [
    "df.shape"
   ]
  },
  {
   "cell_type": "code",
   "execution_count": 16,
   "id": "c88ef963-c41e-407b-a478-85eff2466b62",
   "metadata": {},
   "outputs": [],
   "source": [
    "name_list = df.columns"
   ]
  },
  {
   "cell_type": "code",
   "execution_count": 29,
   "id": "6e4daac1-b775-4879-9790-245cd68d58f1",
   "metadata": {},
   "outputs": [],
   "source": [
    "columns_to_keep = [\n",
    "    'wave', 'COUNTRY_ISO3', 'INCOME_2',\n",
    "    'WP16', 'WP18', 'WP23', 'WP27', 'WP30', 'WP31', 'WP40', 'WP43', 'WP60', 'WP61', 'WP63', 'WP65', 'WP67', 'WP68', 'WP69',\n",
    "    'WP70', 'WP71', 'WP74', 'WP83', 'WP85', 'WP86', 'WP19472', 'WP88', 'WP89', 'WP91', 'WP92', 'WP93', 'WP94', 'WP95', 'WP97', 'WP98', 'WP10248', \n",
    "    'WP108', 'WP109', 'WP110', 'WP111', 'WP112', 'WP113', 'WP117', 'WP118', 'WP131', 'WP132', 'WP134', 'WP137', 'WP138',\n",
    "    'WP139', 'WP141', 'WP144', 'WP10251', 'WP145', 'WP146', 'WP150', 'WP1219', 'WP1220', 'EMP_2010', 'WP17625', 'WP2319',\n",
    "    'WP17626', 'WP16056', 'WP15862', 'WP19544', 'WP3117'\n",
    "]"
   ]
  },
  {
   "cell_type": "code",
   "execution_count": 30,
   "id": "a9b0e4fc-1894-4918-adf8-432d1807fe3e",
   "metadata": {},
   "outputs": [],
   "source": [
    "df_filtered = df.filter(items=columns_to_keep)"
   ]
  },
  {
   "cell_type": "code",
   "execution_count": 31,
   "id": "37130392-570e-420e-acbd-31f99f5eac04",
   "metadata": {},
   "outputs": [
    {
     "data": {
      "text/plain": [
       "(2594089, 68)"
      ]
     },
     "execution_count": 31,
     "metadata": {},
     "output_type": "execute_result"
    }
   ],
   "source": [
    "df_filtered.shape"
   ]
  },
  {
   "cell_type": "code",
   "execution_count": 32,
   "id": "26346625-3ea6-40b3-b567-78d6d2145376",
   "metadata": {},
   "outputs": [
    {
     "name": "stdout",
     "output_type": "stream",
     "text": [
      "('wave', 0)\n",
      "('COUNTRY_ISO3', 0)\n",
      "('INCOME_2', 423416)\n",
      "('WP16', 14604)\n",
      "('WP18', 14603)\n",
      "('WP23', 123903)\n",
      "('WP27', 151900)\n",
      "('WP30', 129145)\n",
      "('WP31', 142727)\n",
      "('WP40', 52441)\n",
      "('WP43', 49598)\n",
      "('WP60', 86371)\n",
      "('WP61', 67376)\n",
      "('WP63', 104399)\n",
      "('WP65', 69390)\n",
      "('WP67', 74033)\n",
      "('WP68', 85721)\n",
      "('WP69', 82693)\n",
      "('WP70', 83895)\n",
      "('WP71', 184749)\n",
      "('WP74', 100720)\n",
      "('WP83', 185474)\n",
      "('WP85', 310161)\n",
      "('WP86', 240808)\n",
      "('WP19472', 1719188)\n",
      "('WP88', 262622)\n",
      "('WP89', 171021)\n",
      "('WP91', 198859)\n",
      "('WP92', 200973)\n",
      "('WP93', 145248)\n",
      "('WP94', 202990)\n",
      "('WP95', 201667)\n",
      "('WP97', 238617)\n",
      "('WP98', 231858)\n",
      "('WP10248', 710990)\n",
      "('WP103', 452880)\n",
      "('WP105', 545368)\n",
      "('WP106', 262574)\n",
      "('WP108', 189759)\n",
      "('WP109', 187253)\n",
      "('WP110', 193819)\n",
      "('WP111', 675056)\n",
      "('WP112', 419460)\n",
      "('WP113', 206175)\n",
      "('WP117', 268482)\n",
      "('WP118', 786324)\n",
      "('WP131', 408916)\n",
      "('WP132', 218748)\n",
      "('WP134', 162829)\n",
      "('WP137', 503224)\n",
      "('WP138', 392723)\n",
      "('WP139', 426999)\n",
      "('WP141', 240493)\n",
      "('WP144', 461870)\n",
      "('WP10251', 790018)\n",
      "('WP145', 294340)\n",
      "('WP146', 401409)\n",
      "('WP150', 518606)\n",
      "('WP1219', 22)\n",
      "('WP1220', 3306)\n",
      "('EMP_2010', 433208)\n",
      "('WP17625', 1287824)\n",
      "('WP2319', 146446)\n",
      "('WP17626', 1412789)\n",
      "('WP16056', 1478999)\n",
      "('WP15862', 1880708)\n",
      "('WP19544', 1824015)\n",
      "('WP3117', 77184)\n"
     ]
    }
   ],
   "source": [
    "nan_counts = df_filtered.isna().sum()\n",
    "for line in zip(df_filtered.columns, nan_counts):\n",
    "    print(line)"
   ]
  },
  {
   "cell_type": "code",
   "execution_count": 33,
   "id": "c1ad2cf0-e99b-437e-9173-711532817417",
   "metadata": {},
   "outputs": [],
   "source": [
    "df_filtered.dropna(inplace=True)"
   ]
  },
  {
   "cell_type": "code",
   "execution_count": 34,
   "id": "86aad1ad-1ce6-4b3a-9c47-c37a708c0428",
   "metadata": {},
   "outputs": [
    {
     "data": {
      "text/plain": [
       "(394084, 68)"
      ]
     },
     "execution_count": 34,
     "metadata": {},
     "output_type": "execute_result"
    }
   ],
   "source": [
    "df_filtered.shape"
   ]
  },
  {
   "cell_type": "markdown",
   "id": "7baeba37-9546-448c-a473-9b84aa53fe58",
   "metadata": {},
   "source": [
    "### Washing item by item"
   ]
  },
  {
   "cell_type": "markdown",
   "id": "a5b73e63-11de-4d56-aa19-4586a67d6848",
   "metadata": {},
   "source": [
    "#### wave"
   ]
  },
  {
   "cell_type": "code",
   "execution_count": 35,
   "id": "1d76b1d5-7c56-4b93-838a-42cf02b4840a",
   "metadata": {
    "scrolled": true
   },
   "outputs": [
    {
     "data": {
      "text/plain": [
       "wave\n",
       "12.1    40844\n",
       "13.1    44790\n",
       "14.1    70487\n",
       "15.1    81193\n",
       "16.1    77144\n",
       "17.1    79626\n",
       "Name: count, dtype: int64"
      ]
     },
     "execution_count": 35,
     "metadata": {},
     "output_type": "execute_result"
    },
    {
     "name": "stdout",
     "output_type": "stream",
     "text": [
      "The history saving thread hit an unexpected error (OperationalError('attempt to write a readonly database')).History will not be written to the database.\n"
     ]
    }
   ],
   "source": [
    "df_filtered['wave'].value_counts().sort_index()"
   ]
  },
  {
   "cell_type": "code",
   "execution_count": 36,
   "id": "3efb9e3f-86ca-4bd5-82b5-a784102264d6",
   "metadata": {},
   "outputs": [],
   "source": [
    "df_filtered['wave'] = df_filtered['wave'].astype(int)"
   ]
  },
  {
   "cell_type": "code",
   "execution_count": 37,
   "id": "3465a9d3-66b6-4fb7-b689-27884738d71a",
   "metadata": {},
   "outputs": [
    {
     "data": {
      "text/plain": [
       "wave\n",
       "12    40844\n",
       "13    44790\n",
       "14    70487\n",
       "15    81193\n",
       "16    77144\n",
       "17    79626\n",
       "Name: count, dtype: int64"
      ]
     },
     "execution_count": 37,
     "metadata": {},
     "output_type": "execute_result"
    }
   ],
   "source": [
    "df_filtered['wave'].value_counts().sort_index()"
   ]
  },
  {
   "cell_type": "markdown",
   "id": "5f6af02f-68be-4b9e-a935-c58d8eb7e621",
   "metadata": {},
   "source": [
    "#### WP16 WP18"
   ]
  },
  {
   "cell_type": "code",
   "execution_count": 38,
   "id": "52d0b89c-4baa-4572-b79a-f9bbadfe5278",
   "metadata": {},
   "outputs": [
    {
     "data": {
      "text/plain": [
       "WP16\n",
       "0.0      9792\n",
       "1.0      6650\n",
       "2.0      9840\n",
       "3.0     20013\n",
       "4.0     29171\n",
       "5.0     85199\n",
       "6.0     50258\n",
       "7.0     68556\n",
       "8.0     63669\n",
       "9.0     21216\n",
       "10.0    27300\n",
       "98.0     2183\n",
       "99.0      237\n",
       "Name: count, dtype: int64"
      ]
     },
     "execution_count": 38,
     "metadata": {},
     "output_type": "execute_result"
    }
   ],
   "source": [
    "df_filtered['WP16'].value_counts().sort_index()"
   ]
  },
  {
   "cell_type": "code",
   "execution_count": 39,
   "id": "9e18585e-2351-43d0-b6dc-3e3a84fda336",
   "metadata": {},
   "outputs": [
    {
     "data": {
      "text/plain": [
       "WP18\n",
       "0.0      4669\n",
       "1.0      3594\n",
       "2.0      5923\n",
       "3.0     10596\n",
       "4.0     13132\n",
       "5.0     35194\n",
       "6.0     31519\n",
       "7.0     55394\n",
       "8.0     82537\n",
       "9.0     52608\n",
       "10.0    77062\n",
       "98.0    21206\n",
       "99.0      650\n",
       "Name: count, dtype: int64"
      ]
     },
     "execution_count": 39,
     "metadata": {},
     "output_type": "execute_result"
    }
   ],
   "source": [
    "df_filtered['WP18'].value_counts().sort_index()"
   ]
  },
  {
   "cell_type": "code",
   "execution_count": 40,
   "id": "537e89b0-dc96-4163-ba7f-70fd7f548518",
   "metadata": {},
   "outputs": [],
   "source": [
    "columns_to_replace = ['WP16', 'WP18']\n",
    "\n",
    "for column in columns_to_replace:\n",
    "    df_filtered.loc[df_filtered[column].isin([98, 99]), column] = np.nan"
   ]
  },
  {
   "cell_type": "code",
   "execution_count": 41,
   "id": "314c2b74-eb1d-4686-93c6-75290c66709e",
   "metadata": {},
   "outputs": [
    {
     "data": {
      "text/plain": [
       "WP16\n",
       "0.0      9792\n",
       "1.0      6650\n",
       "2.0      9840\n",
       "3.0     20013\n",
       "4.0     29171\n",
       "5.0     85199\n",
       "6.0     50258\n",
       "7.0     68556\n",
       "8.0     63669\n",
       "9.0     21216\n",
       "10.0    27300\n",
       "NaN      2420\n",
       "Name: count, dtype: int64"
      ]
     },
     "execution_count": 41,
     "metadata": {},
     "output_type": "execute_result"
    }
   ],
   "source": [
    "df_filtered['WP16'].value_counts(dropna=False).sort_index()"
   ]
  },
  {
   "cell_type": "code",
   "execution_count": 42,
   "id": "fef6a64a-17d0-4233-a8aa-f24a457120bd",
   "metadata": {},
   "outputs": [
    {
     "data": {
      "text/plain": [
       "WP18\n",
       "0.0      4669\n",
       "1.0      3594\n",
       "2.0      5923\n",
       "3.0     10596\n",
       "4.0     13132\n",
       "5.0     35194\n",
       "6.0     31519\n",
       "7.0     55394\n",
       "8.0     82537\n",
       "9.0     52608\n",
       "10.0    77062\n",
       "NaN     21856\n",
       "Name: count, dtype: int64"
      ]
     },
     "execution_count": 42,
     "metadata": {},
     "output_type": "execute_result"
    }
   ],
   "source": [
    "df_filtered['WP18'].value_counts(dropna=False).sort_index()"
   ]
  },
  {
   "cell_type": "markdown",
   "id": "3f5e3f48-4f46-4cea-b219-c5bba164631e",
   "metadata": {},
   "source": [
    "#### WP60 WP61 WP63 WP65 WP67 WP68 WP69 WP70 WP71 WP74 WP83 WP10251 WP17625 WP17626 WP16056 WP15862 WP19544"
   ]
  },
  {
   "cell_type": "code",
   "execution_count": 43,
   "id": "5d93e1d8-dc71-4d09-9a5b-89098123d8c4",
   "metadata": {},
   "outputs": [
    {
     "data": {
      "text/plain": [
       "WP60\n",
       "1.0    269961\n",
       "2.0    122125\n",
       "3.0      1813\n",
       "4.0       185\n",
       "Name: count, dtype: int64"
      ]
     },
     "execution_count": 43,
     "metadata": {},
     "output_type": "execute_result"
    }
   ],
   "source": [
    "df_filtered['WP60'].value_counts().sort_index()"
   ]
  },
  {
   "cell_type": "code",
   "execution_count": 44,
   "id": "032fe57f-01f4-404b-ac3d-68045e6d5915",
   "metadata": {},
   "outputs": [
    {
     "data": {
      "text/plain": [
       "WP61\n",
       "1.0    356011\n",
       "2.0     33505\n",
       "3.0      4167\n",
       "4.0       401\n",
       "Name: count, dtype: int64"
      ]
     },
     "execution_count": 44,
     "metadata": {},
     "output_type": "execute_result"
    }
   ],
   "source": [
    "df_filtered['WP61'].value_counts().sort_index()"
   ]
  },
  {
   "cell_type": "code",
   "execution_count": 45,
   "id": "1411ecad-1ea7-40d2-8485-0657d766186d",
   "metadata": {},
   "outputs": [
    {
     "data": {
      "text/plain": [
       "WP63\n",
       "1.0    295839\n",
       "2.0     92822\n",
       "3.0      5077\n",
       "4.0       346\n",
       "Name: count, dtype: int64"
      ]
     },
     "execution_count": 45,
     "metadata": {},
     "output_type": "execute_result"
    }
   ],
   "source": [
    "df_filtered['WP63'].value_counts().sort_index()"
   ]
  },
  {
   "cell_type": "code",
   "execution_count": 46,
   "id": "a7c74d74-c350-4a16-a18d-11ba94b12a63",
   "metadata": {},
   "outputs": [
    {
     "data": {
      "text/plain": [
       "WP65\n",
       "1.0    233475\n",
       "2.0    157007\n",
       "3.0      3340\n",
       "4.0       262\n",
       "Name: count, dtype: int64"
      ]
     },
     "execution_count": 46,
     "metadata": {},
     "output_type": "execute_result"
    }
   ],
   "source": [
    "df_filtered['WP65'].value_counts().sort_index()"
   ]
  },
  {
   "cell_type": "code",
   "execution_count": 47,
   "id": "28b0426b-7a39-42e7-88c9-489b74d1ce03",
   "metadata": {},
   "outputs": [
    {
     "data": {
      "text/plain": [
       "WP67\n",
       "1.0    289528\n",
       "2.0    100401\n",
       "3.0      3813\n",
       "4.0       342\n",
       "Name: count, dtype: int64"
      ]
     },
     "execution_count": 47,
     "metadata": {},
     "output_type": "execute_result"
    }
   ],
   "source": [
    "df_filtered['WP67'].value_counts().sort_index()"
   ]
  },
  {
   "cell_type": "code",
   "execution_count": 48,
   "id": "9bbe6c39-2c87-4fc6-8529-ae47d2b4cb55",
   "metadata": {},
   "outputs": [
    {
     "data": {
      "text/plain": [
       "WP68\n",
       "1.0    106893\n",
       "2.0    286129\n",
       "3.0       899\n",
       "4.0       163\n",
       "Name: count, dtype: int64"
      ]
     },
     "execution_count": 48,
     "metadata": {},
     "output_type": "execute_result"
    }
   ],
   "source": [
    "df_filtered['WP68'].value_counts().sort_index()"
   ]
  },
  {
   "cell_type": "code",
   "execution_count": 49,
   "id": "f0a3e70b-141e-4af0-902d-28e3f462a663",
   "metadata": {},
   "outputs": [
    {
     "data": {
      "text/plain": [
       "WP69\n",
       "1.0    149789\n",
       "2.0    242667\n",
       "3.0      1458\n",
       "4.0       170\n",
       "Name: count, dtype: int64"
      ]
     },
     "execution_count": 49,
     "metadata": {},
     "output_type": "execute_result"
    }
   ],
   "source": [
    "df_filtered['WP69'].value_counts().sort_index()"
   ]
  },
  {
   "cell_type": "code",
   "execution_count": 50,
   "id": "4acf26f8-4361-492b-ab9d-9b70ef87d3d5",
   "metadata": {},
   "outputs": [
    {
     "data": {
      "text/plain": [
       "WP70\n",
       "1.0     84275\n",
       "2.0    307888\n",
       "3.0      1714\n",
       "4.0       207\n",
       "Name: count, dtype: int64"
      ]
     },
     "execution_count": 50,
     "metadata": {},
     "output_type": "execute_result"
    }
   ],
   "source": [
    "df_filtered['WP70'].value_counts().sort_index()"
   ]
  },
  {
   "cell_type": "code",
   "execution_count": 51,
   "id": "f2308f96-8729-444e-b59f-7955c4965803",
   "metadata": {},
   "outputs": [
    {
     "data": {
      "text/plain": [
       "WP71\n",
       "1.0    138876\n",
       "2.0    253241\n",
       "3.0      1776\n",
       "4.0       191\n",
       "Name: count, dtype: int64"
      ]
     },
     "execution_count": 51,
     "metadata": {},
     "output_type": "execute_result"
    }
   ],
   "source": [
    "df_filtered['WP71'].value_counts().sort_index()"
   ]
  },
  {
   "cell_type": "code",
   "execution_count": 52,
   "id": "7183d30a-ed70-464a-bf3b-0547d88a20bd",
   "metadata": {},
   "outputs": [
    {
     "data": {
      "text/plain": [
       "WP74\n",
       "1.0     70085\n",
       "2.0    322333\n",
       "3.0      1453\n",
       "4.0       213\n",
       "Name: count, dtype: int64"
      ]
     },
     "execution_count": 52,
     "metadata": {},
     "output_type": "execute_result"
    }
   ],
   "source": [
    "df_filtered['WP74'].value_counts().sort_index()"
   ]
  },
  {
   "cell_type": "code",
   "execution_count": 53,
   "id": "76053eac-c946-4227-9fec-e67214256bcc",
   "metadata": {},
   "outputs": [
    {
     "data": {
      "text/plain": [
       "WP83\n",
       "1.0    311173\n",
       "2.0     78546\n",
       "3.0      4012\n",
       "4.0       353\n",
       "Name: count, dtype: int64"
      ]
     },
     "execution_count": 53,
     "metadata": {},
     "output_type": "execute_result"
    }
   ],
   "source": [
    "df_filtered['WP83'].value_counts().sort_index()"
   ]
  },
  {
   "cell_type": "code",
   "execution_count": 54,
   "id": "dde64f92-f132-4dd1-a766-153b5c5e54e1",
   "metadata": {},
   "outputs": [
    {
     "data": {
      "text/plain": [
       "WP10251\n",
       "1.0    247775\n",
       "2.0    126471\n",
       "3.0     19020\n",
       "4.0       818\n",
       "Name: count, dtype: int64"
      ]
     },
     "execution_count": 54,
     "metadata": {},
     "output_type": "execute_result"
    }
   ],
   "source": [
    "df_filtered['WP10251'].value_counts().sort_index()"
   ]
  },
  {
   "cell_type": "code",
   "execution_count": 55,
   "id": "c763b6dd-2020-4f28-8f6e-6dc55ecd79a8",
   "metadata": {},
   "outputs": [
    {
     "data": {
      "text/plain": [
       "WP17625\n",
       "1.0    125870\n",
       "2.0    267782\n",
       "3.0       257\n",
       "4.0       175\n",
       "Name: count, dtype: int64"
      ]
     },
     "execution_count": 55,
     "metadata": {},
     "output_type": "execute_result"
    }
   ],
   "source": [
    "df_filtered['WP17625'].value_counts().sort_index()"
   ]
  },
  {
   "cell_type": "code",
   "execution_count": 56,
   "id": "3203d9a9-9d2a-488d-8589-22e1fa224723",
   "metadata": {},
   "outputs": [
    {
     "data": {
      "text/plain": [
       "WP17626\n",
       "1.0    394084\n",
       "Name: count, dtype: int64"
      ]
     },
     "execution_count": 56,
     "metadata": {},
     "output_type": "execute_result"
    }
   ],
   "source": [
    "df_filtered['WP17626'].value_counts().sort_index()"
   ]
  },
  {
   "cell_type": "code",
   "execution_count": 57,
   "id": "0adf4d4b-efe7-4cfd-9578-5e538911bed2",
   "metadata": {},
   "outputs": [
    {
     "data": {
      "text/plain": [
       "WP16056\n",
       "1.0    394084\n",
       "Name: count, dtype: int64"
      ]
     },
     "execution_count": 57,
     "metadata": {},
     "output_type": "execute_result"
    }
   ],
   "source": [
    "df_filtered['WP16056'].value_counts().sort_index()"
   ]
  },
  {
   "cell_type": "code",
   "execution_count": 58,
   "id": "3dddc6d5-696d-4ce9-8d8b-621c77faba45",
   "metadata": {},
   "outputs": [
    {
     "data": {
      "text/plain": [
       "WP15862\n",
       "1.0    361758\n",
       "2.0     32048\n",
       "3.0       225\n",
       "4.0        53\n",
       "Name: count, dtype: int64"
      ]
     },
     "execution_count": 58,
     "metadata": {},
     "output_type": "execute_result"
    }
   ],
   "source": [
    "df_filtered['WP15862'].value_counts().sort_index()"
   ]
  },
  {
   "cell_type": "code",
   "execution_count": 59,
   "id": "23e781b5-0465-46ef-8212-65790ffc450b",
   "metadata": {},
   "outputs": [
    {
     "data": {
      "text/plain": [
       "WP19544\n",
       "1.0    367178\n",
       "2.0     26027\n",
       "3.0       756\n",
       "4.0       123\n",
       "Name: count, dtype: int64"
      ]
     },
     "execution_count": 59,
     "metadata": {},
     "output_type": "execute_result"
    }
   ],
   "source": [
    "df_filtered['WP19544'].value_counts().sort_index()"
   ]
  },
  {
   "cell_type": "code",
   "execution_count": 60,
   "id": "beb66071-9987-4d21-ac7c-8620783e8341",
   "metadata": {},
   "outputs": [],
   "source": [
    "columns_to_replace = ['WP60', 'WP61', 'WP63', 'WP65', 'WP67', 'WP68', 'WP69', 'WP70', 'WP71', 'WP74', \n",
    "                      'WP23', 'WP27', 'WP40', 'WP43', 'WP85', 'WP86', 'WP89', 'WP91', 'WP92', 'WP93', 'WP94', 'WP95', 'WP97', 'WP98', 'WP10248', \n",
    "    'WP103', 'WP105', 'WP106', 'WP108', 'WP109', 'WP110', 'WP111', 'WP112', 'WP113', 'WP117', 'WP118', 'WP131', 'WP132', 'WP134', 'WP137', 'WP138',\n",
    "    'WP139', 'WP141', 'WP144', 'WP145',\n",
    "                      'WP83', 'WP10251', 'WP17625', 'WP17626', 'WP16056', 'WP15862', 'WP19544']\n",
    "\n",
    "for column in columns_to_replace:\n",
    "    df_filtered.loc[df_filtered[column].isin([3, 4]), column] = 2"
   ]
  },
  {
   "cell_type": "code",
   "execution_count": 61,
   "id": "2bf33ed9-c5fc-4b64-9788-af75abc050f6",
   "metadata": {},
   "outputs": [
    {
     "data": {
      "text/plain": [
       "WP145\n",
       "1.0    269136\n",
       "2.0    124948\n",
       "Name: count, dtype: int64"
      ]
     },
     "execution_count": 61,
     "metadata": {},
     "output_type": "execute_result"
    }
   ],
   "source": [
    "df_filtered['WP145'].value_counts().sort_index()"
   ]
  },
  {
   "cell_type": "code",
   "execution_count": 62,
   "id": "686dce4c-0892-4869-b950-732297b8984b",
   "metadata": {},
   "outputs": [
    {
     "data": {
      "text/plain": [
       "WP61\n",
       "1.0    356011\n",
       "2.0     38073\n",
       "Name: count, dtype: int64"
      ]
     },
     "execution_count": 62,
     "metadata": {},
     "output_type": "execute_result"
    }
   ],
   "source": [
    "df_filtered['WP61'].value_counts().sort_index()"
   ]
  },
  {
   "cell_type": "code",
   "execution_count": 63,
   "id": "d29e33e1-db98-4849-90ed-5d8a3d9e48ce",
   "metadata": {},
   "outputs": [
    {
     "data": {
      "text/plain": [
       "WP63\n",
       "1.0    295839\n",
       "2.0     98245\n",
       "Name: count, dtype: int64"
      ]
     },
     "execution_count": 63,
     "metadata": {},
     "output_type": "execute_result"
    }
   ],
   "source": [
    "df_filtered['WP63'].value_counts().sort_index()"
   ]
  },
  {
   "cell_type": "code",
   "execution_count": 64,
   "id": "474b09c7-58d7-41db-a76c-86c024ada88a",
   "metadata": {},
   "outputs": [
    {
     "data": {
      "text/plain": [
       "WP17625\n",
       "1.0    125870\n",
       "2.0    268214\n",
       "Name: count, dtype: int64"
      ]
     },
     "execution_count": 64,
     "metadata": {},
     "output_type": "execute_result"
    }
   ],
   "source": [
    "df_filtered['WP17625'].value_counts().sort_index()"
   ]
  },
  {
   "cell_type": "code",
   "execution_count": 65,
   "id": "38c8daf6-4581-493d-a807-0b35921ae111",
   "metadata": {},
   "outputs": [
    {
     "data": {
      "text/plain": [
       "WP17626\n",
       "1.0    394084\n",
       "Name: count, dtype: int64"
      ]
     },
     "execution_count": 65,
     "metadata": {},
     "output_type": "execute_result"
    }
   ],
   "source": [
    "df_filtered['WP17626'].value_counts().sort_index()"
   ]
  },
  {
   "cell_type": "code",
   "execution_count": 66,
   "id": "4abd7e19-ccb4-4be6-964f-ed6875c22bfc",
   "metadata": {},
   "outputs": [
    {
     "data": {
      "text/plain": [
       "WP16056\n",
       "1.0    394084\n",
       "Name: count, dtype: int64"
      ]
     },
     "execution_count": 66,
     "metadata": {},
     "output_type": "execute_result"
    }
   ],
   "source": [
    "df_filtered['WP16056'].value_counts().sort_index()"
   ]
  },
  {
   "cell_type": "code",
   "execution_count": null,
   "id": "bdd11eb5-a226-4ff6-9a2b-0b96a3ed3868",
   "metadata": {},
   "outputs": [],
   "source": []
  },
  {
   "cell_type": "markdown",
   "id": "c1eb89e3-4d04-471b-9a5e-2cddf47d64d3",
   "metadata": {},
   "source": [
    "#### WP1220"
   ]
  },
  {
   "cell_type": "code",
   "execution_count": 67,
   "id": "ed547309-0fd1-435c-86ab-2dcd9cc0eed0",
   "metadata": {},
   "outputs": [
    {
     "data": {
      "text/plain": [
       "WP1220\n",
       "15.0     3469\n",
       "16.0     4826\n",
       "17.0     5761\n",
       "18.0     8939\n",
       "19.0     8163\n",
       "         ... \n",
       "96.0        6\n",
       "97.0        5\n",
       "98.0        7\n",
       "99.0       59\n",
       "100.0    1286\n",
       "Name: count, Length: 86, dtype: int64"
      ]
     },
     "execution_count": 67,
     "metadata": {},
     "output_type": "execute_result"
    }
   ],
   "source": [
    "df_filtered['WP1220'].value_counts().sort_index()"
   ]
  },
  {
   "cell_type": "code",
   "execution_count": 68,
   "id": "40547a84-0535-4add-adc5-c0bd47694024",
   "metadata": {},
   "outputs": [],
   "source": [
    "df_filtered.loc[df_filtered['WP1220'].isin([100]), 'WP1220'] = np.nan"
   ]
  },
  {
   "cell_type": "code",
   "execution_count": 69,
   "id": "05dc555f-4add-4987-928e-4fa770eaac14",
   "metadata": {},
   "outputs": [
    {
     "data": {
      "text/plain": [
       "WP1220\n",
       "15.0    3469\n",
       "16.0    4826\n",
       "17.0    5761\n",
       "18.0    8939\n",
       "19.0    8163\n",
       "        ... \n",
       "96.0       6\n",
       "97.0       5\n",
       "98.0       7\n",
       "99.0      59\n",
       "NaN     1286\n",
       "Name: count, Length: 86, dtype: int64"
      ]
     },
     "execution_count": 69,
     "metadata": {},
     "output_type": "execute_result"
    }
   ],
   "source": [
    "df_filtered['WP1220'].value_counts(dropna=False).sort_index()"
   ]
  },
  {
   "cell_type": "markdown",
   "id": "e7946d1a-17f8-499c-ab70-a1852fc89c30",
   "metadata": {},
   "source": [
    "#### WP3117"
   ]
  },
  {
   "cell_type": "code",
   "execution_count": 70,
   "id": "bcea7ae1-f3c2-4eb1-abaf-0cae892ddc52",
   "metadata": {},
   "outputs": [
    {
     "data": {
      "text/plain": [
       "WP3117\n",
       "1.0     49300\n",
       "2.0    234021\n",
       "3.0    109113\n",
       "4.0       805\n",
       "5.0       845\n",
       "Name: count, dtype: int64"
      ]
     },
     "execution_count": 70,
     "metadata": {},
     "output_type": "execute_result"
    }
   ],
   "source": [
    "df_filtered['WP3117'].value_counts().sort_index()"
   ]
  },
  {
   "cell_type": "code",
   "execution_count": 71,
   "id": "9dff426c-b375-4b87-a30a-898bd890c388",
   "metadata": {},
   "outputs": [],
   "source": [
    "df_filtered.loc[df_filtered['WP3117'].isin([4, 5]), 'WP3117'] = np.nan"
   ]
  },
  {
   "cell_type": "code",
   "execution_count": 72,
   "id": "565f7bcb-5b2f-405b-a432-b43cf4a22fc4",
   "metadata": {},
   "outputs": [
    {
     "data": {
      "text/plain": [
       "WP3117\n",
       "1.0     49300\n",
       "2.0    234021\n",
       "3.0    109113\n",
       "NaN      1650\n",
       "Name: count, dtype: int64"
      ]
     },
     "execution_count": 72,
     "metadata": {},
     "output_type": "execute_result"
    }
   ],
   "source": [
    "df_filtered['WP3117'].value_counts(dropna=False).sort_index()"
   ]
  },
  {
   "cell_type": "markdown",
   "id": "2216fc80-44f4-4d0c-a99c-0ac626d20d16",
   "metadata": {},
   "source": [
    "#### WP19472"
   ]
  },
  {
   "cell_type": "code",
   "execution_count": 73,
   "id": "10fad1d1-1dae-4401-9f1a-6eb1f387eacc",
   "metadata": {},
   "outputs": [
    {
     "data": {
      "text/plain": [
       "WP19472\n",
       "1.0     65783\n",
       "2.0    171444\n",
       "3.0    128825\n",
       "4.0     23734\n",
       "8.0      4057\n",
       "9.0       241\n",
       "Name: count, dtype: int64"
      ]
     },
     "execution_count": 73,
     "metadata": {},
     "output_type": "execute_result"
    }
   ],
   "source": [
    "df_filtered['WP19472'].value_counts().sort_index()"
   ]
  },
  {
   "cell_type": "code",
   "execution_count": 74,
   "id": "421fb73e-7aa0-4875-a53e-26e9500a2103",
   "metadata": {},
   "outputs": [],
   "source": [
    "df_filtered.loc[df_filtered['WP19472'].isin([8, 9]), 'WP19472'] = np.nan"
   ]
  },
  {
   "cell_type": "code",
   "execution_count": 75,
   "id": "c4cee995-b352-4edb-b07c-6d0d88485102",
   "metadata": {},
   "outputs": [
    {
     "data": {
      "text/plain": [
       "WP19472\n",
       "1.0     65783\n",
       "2.0    171444\n",
       "3.0    128825\n",
       "4.0     23734\n",
       "NaN      4298\n",
       "Name: count, dtype: int64"
      ]
     },
     "execution_count": 75,
     "metadata": {},
     "output_type": "execute_result"
    }
   ],
   "source": [
    "df_filtered['WP19472'].value_counts(dropna=False).sort_index()"
   ]
  },
  {
   "cell_type": "markdown",
   "id": "70693520-1910-4958-aaca-425335fdadb2",
   "metadata": {},
   "source": [
    "#### WP88"
   ]
  },
  {
   "cell_type": "code",
   "execution_count": 76,
   "id": "e7bf3880-2a85-4f7c-9437-1717d51a2987",
   "metadata": {},
   "outputs": [
    {
     "data": {
      "text/plain": [
       "WP88\n",
       "1.0    167806\n",
       "2.0     62799\n",
       "3.0    150105\n",
       "4.0     12951\n",
       "5.0       423\n",
       "Name: count, dtype: int64"
      ]
     },
     "execution_count": 76,
     "metadata": {},
     "output_type": "execute_result"
    }
   ],
   "source": [
    "df_filtered['WP88'].value_counts().sort_index()"
   ]
  },
  {
   "cell_type": "code",
   "execution_count": 77,
   "id": "fc82e8da-7db8-4c3e-8c93-5d3a82221da5",
   "metadata": {},
   "outputs": [],
   "source": [
    "df_filtered.loc[df_filtered['WP88'].isin([4, 5]), 'WP88'] = np.nan"
   ]
  },
  {
   "cell_type": "code",
   "execution_count": 78,
   "id": "70aff9f7-ab92-424f-91a3-611cb0a4d841",
   "metadata": {},
   "outputs": [
    {
     "data": {
      "text/plain": [
       "WP88\n",
       "1.0    167806\n",
       "2.0     62799\n",
       "3.0    150105\n",
       "NaN     13374\n",
       "Name: count, dtype: int64"
      ]
     },
     "execution_count": 78,
     "metadata": {},
     "output_type": "execute_result"
    }
   ],
   "source": [
    "df_filtered['WP88'].value_counts(dropna=False).sort_index()"
   ]
  },
  {
   "cell_type": "markdown",
   "id": "437cdb12-17ea-463f-85e9-dc027fb91a8e",
   "metadata": {},
   "source": [
    "#### WP2319"
   ]
  },
  {
   "cell_type": "code",
   "execution_count": 79,
   "id": "91f2be30-f1cc-452e-b9f5-66778fcd8fef",
   "metadata": {},
   "outputs": [
    {
     "data": {
      "text/plain": [
       "WP2319\n",
       "1.0    103903\n",
       "2.0    169337\n",
       "3.0     78205\n",
       "4.0     37236\n",
       "5.0      3000\n",
       "6.0      2403\n",
       "Name: count, dtype: int64"
      ]
     },
     "execution_count": 79,
     "metadata": {},
     "output_type": "execute_result"
    }
   ],
   "source": [
    "df_filtered['WP2319'].value_counts().sort_index()"
   ]
  },
  {
   "cell_type": "code",
   "execution_count": 80,
   "id": "00504061-8e48-4039-a616-d3bab1d6f8de",
   "metadata": {},
   "outputs": [],
   "source": [
    "df_filtered.loc[df_filtered['WP2319'].isin([5, 6]), 'WP2319'] = np.nan"
   ]
  },
  {
   "cell_type": "code",
   "execution_count": 81,
   "id": "c035e7ff-8896-4945-b489-80c5d80c063a",
   "metadata": {},
   "outputs": [
    {
     "data": {
      "text/plain": [
       "WP2319\n",
       "1.0    103903\n",
       "2.0    169337\n",
       "3.0     78205\n",
       "4.0     37236\n",
       "NaN      5403\n",
       "Name: count, dtype: int64"
      ]
     },
     "execution_count": 81,
     "metadata": {},
     "output_type": "execute_result"
    }
   ],
   "source": [
    "df_filtered['WP2319'].value_counts(dropna=False).sort_index()"
   ]
  },
  {
   "cell_type": "markdown",
   "id": "ec845869-1d13-47bd-8376-8fe27ea12b06",
   "metadata": {},
   "source": [
    "## Final Wash"
   ]
  },
  {
   "cell_type": "code",
   "execution_count": 82,
   "id": "7549fbfe-e105-47b2-a91a-5cef6d991a1d",
   "metadata": {},
   "outputs": [],
   "source": [
    "df_filtered.dropna(inplace=True)"
   ]
  },
  {
   "cell_type": "code",
   "execution_count": 83,
   "id": "b231c42c-ae3d-4609-856e-442b2fc4955d",
   "metadata": {},
   "outputs": [
    {
     "data": {
      "text/plain": [
       "(352129, 68)"
      ]
     },
     "execution_count": 83,
     "metadata": {},
     "output_type": "execute_result"
    }
   ],
   "source": [
    "df_filtered.shape"
   ]
  },
  {
   "cell_type": "code",
   "execution_count": 84,
   "id": "3a5e4264-f97a-43f1-ac0d-fe7fed62009b",
   "metadata": {},
   "outputs": [
    {
     "data": {
      "text/html": [
       "<div>\n",
       "<style scoped>\n",
       "    .dataframe tbody tr th:only-of-type {\n",
       "        vertical-align: middle;\n",
       "    }\n",
       "\n",
       "    .dataframe tbody tr th {\n",
       "        vertical-align: top;\n",
       "    }\n",
       "\n",
       "    .dataframe thead th {\n",
       "        text-align: right;\n",
       "    }\n",
       "</style>\n",
       "<table border=\"1\" class=\"dataframe\">\n",
       "  <thead>\n",
       "    <tr style=\"text-align: right;\">\n",
       "      <th></th>\n",
       "      <th>wave</th>\n",
       "      <th>COUNTRY_ISO3</th>\n",
       "      <th>INCOME_2</th>\n",
       "      <th>WP16</th>\n",
       "      <th>WP18</th>\n",
       "      <th>WP23</th>\n",
       "      <th>WP27</th>\n",
       "      <th>WP30</th>\n",
       "      <th>WP31</th>\n",
       "      <th>WP40</th>\n",
       "      <th>...</th>\n",
       "      <th>WP1219</th>\n",
       "      <th>WP1220</th>\n",
       "      <th>EMP_2010</th>\n",
       "      <th>WP17625</th>\n",
       "      <th>WP2319</th>\n",
       "      <th>WP17626</th>\n",
       "      <th>WP16056</th>\n",
       "      <th>WP15862</th>\n",
       "      <th>WP19544</th>\n",
       "      <th>WP3117</th>\n",
       "    </tr>\n",
       "  </thead>\n",
       "  <tbody>\n",
       "    <tr>\n",
       "      <th>1716771</th>\n",
       "      <td>12</td>\n",
       "      <td>PAK</td>\n",
       "      <td>4350.444097</td>\n",
       "      <td>5.0</td>\n",
       "      <td>7.0</td>\n",
       "      <td>1.0</td>\n",
       "      <td>1.0</td>\n",
       "      <td>2.0</td>\n",
       "      <td>3.0</td>\n",
       "      <td>1.0</td>\n",
       "      <td>...</td>\n",
       "      <td>1.0</td>\n",
       "      <td>32.0</td>\n",
       "      <td>1.0</td>\n",
       "      <td>2.0</td>\n",
       "      <td>3.0</td>\n",
       "      <td>1.0</td>\n",
       "      <td>1.0</td>\n",
       "      <td>1.0</td>\n",
       "      <td>1.0</td>\n",
       "      <td>1.0</td>\n",
       "    </tr>\n",
       "    <tr>\n",
       "      <th>1716778</th>\n",
       "      <td>12</td>\n",
       "      <td>PAK</td>\n",
       "      <td>15131.979468</td>\n",
       "      <td>7.0</td>\n",
       "      <td>10.0</td>\n",
       "      <td>2.0</td>\n",
       "      <td>1.0</td>\n",
       "      <td>1.0</td>\n",
       "      <td>1.0</td>\n",
       "      <td>2.0</td>\n",
       "      <td>...</td>\n",
       "      <td>1.0</td>\n",
       "      <td>15.0</td>\n",
       "      <td>6.0</td>\n",
       "      <td>2.0</td>\n",
       "      <td>1.0</td>\n",
       "      <td>1.0</td>\n",
       "      <td>1.0</td>\n",
       "      <td>1.0</td>\n",
       "      <td>2.0</td>\n",
       "      <td>1.0</td>\n",
       "    </tr>\n",
       "    <tr>\n",
       "      <th>1716780</th>\n",
       "      <td>12</td>\n",
       "      <td>PAK</td>\n",
       "      <td>15131.979468</td>\n",
       "      <td>5.0</td>\n",
       "      <td>7.0</td>\n",
       "      <td>2.0</td>\n",
       "      <td>1.0</td>\n",
       "      <td>1.0</td>\n",
       "      <td>2.0</td>\n",
       "      <td>1.0</td>\n",
       "      <td>...</td>\n",
       "      <td>1.0</td>\n",
       "      <td>31.0</td>\n",
       "      <td>2.0</td>\n",
       "      <td>1.0</td>\n",
       "      <td>4.0</td>\n",
       "      <td>1.0</td>\n",
       "      <td>1.0</td>\n",
       "      <td>1.0</td>\n",
       "      <td>1.0</td>\n",
       "      <td>1.0</td>\n",
       "    </tr>\n",
       "    <tr>\n",
       "      <th>1716781</th>\n",
       "      <td>12</td>\n",
       "      <td>PAK</td>\n",
       "      <td>13240.482034</td>\n",
       "      <td>5.0</td>\n",
       "      <td>6.0</td>\n",
       "      <td>2.0</td>\n",
       "      <td>1.0</td>\n",
       "      <td>1.0</td>\n",
       "      <td>1.0</td>\n",
       "      <td>2.0</td>\n",
       "      <td>...</td>\n",
       "      <td>1.0</td>\n",
       "      <td>47.0</td>\n",
       "      <td>1.0</td>\n",
       "      <td>2.0</td>\n",
       "      <td>2.0</td>\n",
       "      <td>1.0</td>\n",
       "      <td>1.0</td>\n",
       "      <td>1.0</td>\n",
       "      <td>1.0</td>\n",
       "      <td>2.0</td>\n",
       "    </tr>\n",
       "    <tr>\n",
       "      <th>1716784</th>\n",
       "      <td>12</td>\n",
       "      <td>PAK</td>\n",
       "      <td>11348.984601</td>\n",
       "      <td>7.0</td>\n",
       "      <td>8.0</td>\n",
       "      <td>2.0</td>\n",
       "      <td>1.0</td>\n",
       "      <td>1.0</td>\n",
       "      <td>1.0</td>\n",
       "      <td>2.0</td>\n",
       "      <td>...</td>\n",
       "      <td>2.0</td>\n",
       "      <td>27.0</td>\n",
       "      <td>4.0</td>\n",
       "      <td>2.0</td>\n",
       "      <td>1.0</td>\n",
       "      <td>1.0</td>\n",
       "      <td>1.0</td>\n",
       "      <td>1.0</td>\n",
       "      <td>1.0</td>\n",
       "      <td>3.0</td>\n",
       "    </tr>\n",
       "  </tbody>\n",
       "</table>\n",
       "<p>5 rows × 68 columns</p>\n",
       "</div>"
      ],
      "text/plain": [
       "         wave COUNTRY_ISO3      INCOME_2  WP16  WP18  WP23  WP27  WP30  WP31  \\\n",
       "1716771    12          PAK   4350.444097   5.0   7.0   1.0   1.0   2.0   3.0   \n",
       "1716778    12          PAK  15131.979468   7.0  10.0   2.0   1.0   1.0   1.0   \n",
       "1716780    12          PAK  15131.979468   5.0   7.0   2.0   1.0   1.0   2.0   \n",
       "1716781    12          PAK  13240.482034   5.0   6.0   2.0   1.0   1.0   1.0   \n",
       "1716784    12          PAK  11348.984601   7.0   8.0   2.0   1.0   1.0   1.0   \n",
       "\n",
       "         WP40  ...  WP1219  WP1220  EMP_2010  WP17625  WP2319  WP17626  \\\n",
       "1716771   1.0  ...     1.0    32.0       1.0      2.0     3.0      1.0   \n",
       "1716778   2.0  ...     1.0    15.0       6.0      2.0     1.0      1.0   \n",
       "1716780   1.0  ...     1.0    31.0       2.0      1.0     4.0      1.0   \n",
       "1716781   2.0  ...     1.0    47.0       1.0      2.0     2.0      1.0   \n",
       "1716784   2.0  ...     2.0    27.0       4.0      2.0     1.0      1.0   \n",
       "\n",
       "         WP16056  WP15862  WP19544  WP3117  \n",
       "1716771      1.0      1.0      1.0     1.0  \n",
       "1716778      1.0      1.0      2.0     1.0  \n",
       "1716780      1.0      1.0      1.0     1.0  \n",
       "1716781      1.0      1.0      1.0     2.0  \n",
       "1716784      1.0      1.0      1.0     3.0  \n",
       "\n",
       "[5 rows x 68 columns]"
      ]
     },
     "execution_count": 84,
     "metadata": {},
     "output_type": "execute_result"
    }
   ],
   "source": [
    "df_filtered.head()"
   ]
  },
  {
   "cell_type": "markdown",
   "id": "c5f30fbd-0721-4099-a94f-05de19405394",
   "metadata": {},
   "source": [
    "## Output Dateset"
   ]
  },
  {
   "cell_type": "code",
   "execution_count": 85,
   "id": "65e58448-7b54-4fa1-8d8c-717e6b6ce28a",
   "metadata": {},
   "outputs": [],
   "source": [
    "output_filename = os.path.join(\"Data\", \"GallupWB_DoubleWashedDataForZhang17Wave_v1.parquet\")"
   ]
  },
  {
   "cell_type": "code",
   "execution_count": 86,
   "id": "8551becc-221c-49da-adf5-4491e9ea0733",
   "metadata": {},
   "outputs": [],
   "source": [
    "df_filtered.to_parquet(output_filename)"
   ]
  },
  {
   "cell_type": "markdown",
   "id": "d3c334b6-d5d1-4448-8b04-d73ced7e3341",
   "metadata": {},
   "source": [
    "### Double Check"
   ]
  },
  {
   "cell_type": "code",
   "execution_count": 87,
   "id": "af349746-cadd-4f73-97f9-35b8071daa6b",
   "metadata": {},
   "outputs": [],
   "source": [
    "merged_df_reloaded = pd.read_parquet(output_filename)"
   ]
  },
  {
   "cell_type": "code",
   "execution_count": 88,
   "id": "a6cc5a78-57da-4749-b95a-c80ad0e62468",
   "metadata": {},
   "outputs": [
    {
     "data": {
      "text/html": [
       "<div>\n",
       "<style scoped>\n",
       "    .dataframe tbody tr th:only-of-type {\n",
       "        vertical-align: middle;\n",
       "    }\n",
       "\n",
       "    .dataframe tbody tr th {\n",
       "        vertical-align: top;\n",
       "    }\n",
       "\n",
       "    .dataframe thead th {\n",
       "        text-align: right;\n",
       "    }\n",
       "</style>\n",
       "<table border=\"1\" class=\"dataframe\">\n",
       "  <thead>\n",
       "    <tr style=\"text-align: right;\">\n",
       "      <th></th>\n",
       "      <th>wave</th>\n",
       "      <th>COUNTRY_ISO3</th>\n",
       "      <th>INCOME_2</th>\n",
       "      <th>WP16</th>\n",
       "      <th>WP18</th>\n",
       "      <th>WP23</th>\n",
       "      <th>WP27</th>\n",
       "      <th>WP30</th>\n",
       "      <th>WP31</th>\n",
       "      <th>WP40</th>\n",
       "      <th>...</th>\n",
       "      <th>WP1219</th>\n",
       "      <th>WP1220</th>\n",
       "      <th>EMP_2010</th>\n",
       "      <th>WP17625</th>\n",
       "      <th>WP2319</th>\n",
       "      <th>WP17626</th>\n",
       "      <th>WP16056</th>\n",
       "      <th>WP15862</th>\n",
       "      <th>WP19544</th>\n",
       "      <th>WP3117</th>\n",
       "    </tr>\n",
       "  </thead>\n",
       "  <tbody>\n",
       "    <tr>\n",
       "      <th>1716771</th>\n",
       "      <td>12</td>\n",
       "      <td>PAK</td>\n",
       "      <td>4350.444097</td>\n",
       "      <td>5.0</td>\n",
       "      <td>7.0</td>\n",
       "      <td>1.0</td>\n",
       "      <td>1.0</td>\n",
       "      <td>2.0</td>\n",
       "      <td>3.0</td>\n",
       "      <td>1.0</td>\n",
       "      <td>...</td>\n",
       "      <td>1.0</td>\n",
       "      <td>32.0</td>\n",
       "      <td>1.0</td>\n",
       "      <td>2.0</td>\n",
       "      <td>3.0</td>\n",
       "      <td>1.0</td>\n",
       "      <td>1.0</td>\n",
       "      <td>1.0</td>\n",
       "      <td>1.0</td>\n",
       "      <td>1.0</td>\n",
       "    </tr>\n",
       "    <tr>\n",
       "      <th>1716778</th>\n",
       "      <td>12</td>\n",
       "      <td>PAK</td>\n",
       "      <td>15131.979468</td>\n",
       "      <td>7.0</td>\n",
       "      <td>10.0</td>\n",
       "      <td>2.0</td>\n",
       "      <td>1.0</td>\n",
       "      <td>1.0</td>\n",
       "      <td>1.0</td>\n",
       "      <td>2.0</td>\n",
       "      <td>...</td>\n",
       "      <td>1.0</td>\n",
       "      <td>15.0</td>\n",
       "      <td>6.0</td>\n",
       "      <td>2.0</td>\n",
       "      <td>1.0</td>\n",
       "      <td>1.0</td>\n",
       "      <td>1.0</td>\n",
       "      <td>1.0</td>\n",
       "      <td>2.0</td>\n",
       "      <td>1.0</td>\n",
       "    </tr>\n",
       "    <tr>\n",
       "      <th>1716780</th>\n",
       "      <td>12</td>\n",
       "      <td>PAK</td>\n",
       "      <td>15131.979468</td>\n",
       "      <td>5.0</td>\n",
       "      <td>7.0</td>\n",
       "      <td>2.0</td>\n",
       "      <td>1.0</td>\n",
       "      <td>1.0</td>\n",
       "      <td>2.0</td>\n",
       "      <td>1.0</td>\n",
       "      <td>...</td>\n",
       "      <td>1.0</td>\n",
       "      <td>31.0</td>\n",
       "      <td>2.0</td>\n",
       "      <td>1.0</td>\n",
       "      <td>4.0</td>\n",
       "      <td>1.0</td>\n",
       "      <td>1.0</td>\n",
       "      <td>1.0</td>\n",
       "      <td>1.0</td>\n",
       "      <td>1.0</td>\n",
       "    </tr>\n",
       "    <tr>\n",
       "      <th>1716781</th>\n",
       "      <td>12</td>\n",
       "      <td>PAK</td>\n",
       "      <td>13240.482034</td>\n",
       "      <td>5.0</td>\n",
       "      <td>6.0</td>\n",
       "      <td>2.0</td>\n",
       "      <td>1.0</td>\n",
       "      <td>1.0</td>\n",
       "      <td>1.0</td>\n",
       "      <td>2.0</td>\n",
       "      <td>...</td>\n",
       "      <td>1.0</td>\n",
       "      <td>47.0</td>\n",
       "      <td>1.0</td>\n",
       "      <td>2.0</td>\n",
       "      <td>2.0</td>\n",
       "      <td>1.0</td>\n",
       "      <td>1.0</td>\n",
       "      <td>1.0</td>\n",
       "      <td>1.0</td>\n",
       "      <td>2.0</td>\n",
       "    </tr>\n",
       "    <tr>\n",
       "      <th>1716784</th>\n",
       "      <td>12</td>\n",
       "      <td>PAK</td>\n",
       "      <td>11348.984601</td>\n",
       "      <td>7.0</td>\n",
       "      <td>8.0</td>\n",
       "      <td>2.0</td>\n",
       "      <td>1.0</td>\n",
       "      <td>1.0</td>\n",
       "      <td>1.0</td>\n",
       "      <td>2.0</td>\n",
       "      <td>...</td>\n",
       "      <td>2.0</td>\n",
       "      <td>27.0</td>\n",
       "      <td>4.0</td>\n",
       "      <td>2.0</td>\n",
       "      <td>1.0</td>\n",
       "      <td>1.0</td>\n",
       "      <td>1.0</td>\n",
       "      <td>1.0</td>\n",
       "      <td>1.0</td>\n",
       "      <td>3.0</td>\n",
       "    </tr>\n",
       "  </tbody>\n",
       "</table>\n",
       "<p>5 rows × 68 columns</p>\n",
       "</div>"
      ],
      "text/plain": [
       "         wave COUNTRY_ISO3      INCOME_2  WP16  WP18  WP23  WP27  WP30  WP31  \\\n",
       "1716771    12          PAK   4350.444097   5.0   7.0   1.0   1.0   2.0   3.0   \n",
       "1716778    12          PAK  15131.979468   7.0  10.0   2.0   1.0   1.0   1.0   \n",
       "1716780    12          PAK  15131.979468   5.0   7.0   2.0   1.0   1.0   2.0   \n",
       "1716781    12          PAK  13240.482034   5.0   6.0   2.0   1.0   1.0   1.0   \n",
       "1716784    12          PAK  11348.984601   7.0   8.0   2.0   1.0   1.0   1.0   \n",
       "\n",
       "         WP40  ...  WP1219  WP1220  EMP_2010  WP17625  WP2319  WP17626  \\\n",
       "1716771   1.0  ...     1.0    32.0       1.0      2.0     3.0      1.0   \n",
       "1716778   2.0  ...     1.0    15.0       6.0      2.0     1.0      1.0   \n",
       "1716780   1.0  ...     1.0    31.0       2.0      1.0     4.0      1.0   \n",
       "1716781   2.0  ...     1.0    47.0       1.0      2.0     2.0      1.0   \n",
       "1716784   2.0  ...     2.0    27.0       4.0      2.0     1.0      1.0   \n",
       "\n",
       "         WP16056  WP15862  WP19544  WP3117  \n",
       "1716771      1.0      1.0      1.0     1.0  \n",
       "1716778      1.0      1.0      2.0     1.0  \n",
       "1716780      1.0      1.0      1.0     1.0  \n",
       "1716781      1.0      1.0      1.0     2.0  \n",
       "1716784      1.0      1.0      1.0     3.0  \n",
       "\n",
       "[5 rows x 68 columns]"
      ]
     },
     "execution_count": 88,
     "metadata": {},
     "output_type": "execute_result"
    }
   ],
   "source": [
    "merged_df_reloaded.head()"
   ]
  },
  {
   "cell_type": "code",
   "execution_count": 89,
   "id": "e4c5c42c-47a3-45d3-8134-7ed496da6346",
   "metadata": {},
   "outputs": [
    {
     "name": "stdout",
     "output_type": "stream",
     "text": [
      "wave\n",
      "COUNTRY_ISO3\n",
      "INCOME_2\n",
      "WP16\n",
      "WP18\n",
      "WP23\n",
      "WP27\n",
      "WP30\n",
      "WP31\n",
      "WP40\n",
      "WP43\n",
      "WP60\n",
      "WP61\n",
      "WP63\n",
      "WP65\n",
      "WP67\n",
      "WP68\n",
      "WP69\n",
      "WP70\n",
      "WP71\n",
      "WP74\n",
      "WP83\n",
      "WP85\n",
      "WP86\n",
      "WP19472\n",
      "WP88\n",
      "WP89\n",
      "WP91\n",
      "WP92\n",
      "WP93\n",
      "WP94\n",
      "WP95\n",
      "WP97\n",
      "WP98\n",
      "WP10248\n",
      "WP103\n",
      "WP105\n",
      "WP106\n",
      "WP108\n",
      "WP109\n",
      "WP110\n",
      "WP111\n",
      "WP112\n",
      "WP113\n",
      "WP117\n",
      "WP118\n",
      "WP131\n",
      "WP132\n",
      "WP134\n",
      "WP137\n",
      "WP138\n",
      "WP139\n",
      "WP141\n",
      "WP144\n",
      "WP10251\n",
      "WP145\n",
      "WP146\n",
      "WP150\n",
      "WP1219\n",
      "WP1220\n",
      "EMP_2010\n",
      "WP17625\n",
      "WP2319\n",
      "WP17626\n",
      "WP16056\n",
      "WP15862\n",
      "WP19544\n",
      "WP3117\n"
     ]
    }
   ],
   "source": [
    "for name in merged_df_reloaded.columns:\n",
    "    print(name)"
   ]
  },
  {
   "cell_type": "code",
   "execution_count": null,
   "id": "882d3b61-a005-4366-ad75-88b19aff2105",
   "metadata": {},
   "outputs": [],
   "source": []
  }
 ],
 "metadata": {
  "kernelspec": {
   "display_name": "Python 3 (ipykernel)",
   "language": "python",
   "name": "python3"
  },
  "language_info": {
   "codemirror_mode": {
    "name": "ipython",
    "version": 3
   },
   "file_extension": ".py",
   "mimetype": "text/x-python",
   "name": "python",
   "nbconvert_exporter": "python",
   "pygments_lexer": "ipython3",
   "version": "3.9.19"
  }
 },
 "nbformat": 4,
 "nbformat_minor": 5
}
