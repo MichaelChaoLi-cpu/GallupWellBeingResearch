{
 "cells": [
  {
   "cell_type": "code",
   "execution_count": 1,
   "id": "0e8e58f1-e698-488a-aacf-b8310c1bd564",
   "metadata": {
    "scrolled": true
   },
   "outputs": [
    {
     "data": {
      "text/plain": [
       "'/home/GPU/GallupWellBeingGroup/Code'"
      ]
     },
     "execution_count": 1,
     "metadata": {},
     "output_type": "execute_result"
    }
   ],
   "source": [
    "%pwd"
   ]
  },
  {
   "cell_type": "code",
   "execution_count": 2,
   "id": "08a2acd1-badc-441c-aa37-4884a89cd348",
   "metadata": {},
   "outputs": [
    {
     "name": "stdout",
     "output_type": "stream",
     "text": [
      "/home/GPU/GallupWellBeingGroup\n"
     ]
    },
    {
     "name": "stderr",
     "output_type": "stream",
     "text": [
      "/home/GPU/miniconda3/envs/MLlearning/lib/python3.9/site-packages/IPython/core/magics/osm.py:417: UserWarning: using dhist requires you to install the `pickleshare` library.\n",
      "  self.shell.db['dhist'] = compress_dhist(dhist)[-100:]\n"
     ]
    }
   ],
   "source": [
    "cd .."
   ]
  },
  {
   "cell_type": "markdown",
   "id": "9e873213-8fc2-4b10-ab78-af2754b96c5d",
   "metadata": {},
   "source": [
    "# Import Pacakge"
   ]
  },
  {
   "cell_type": "code",
   "execution_count": 3,
   "id": "2d8c0535-6f86-4e70-afc9-9adb9a7221fd",
   "metadata": {},
   "outputs": [],
   "source": [
    "import os \n",
    "import pandas as pd\n",
    "import xgboost as xgb\n",
    "import random\n",
    "from scipy import stats\n",
    "from sklearn.ensemble import RandomForestRegressor\n",
    "from sklearn.linear_model import LinearRegression\n",
    "from sklearn.metrics import mean_squared_error, r2_score\n",
    "from sklearn.model_selection import train_test_split, KFold\n",
    "from sklearn.metrics import accuracy_score, classification_report"
   ]
  },
  {
   "cell_type": "code",
   "execution_count": 4,
   "id": "28b18373-5e87-444f-b059-5b11c43d9cf4",
   "metadata": {},
   "outputs": [],
   "source": [
    "#pip install shap"
   ]
  },
  {
   "cell_type": "code",
   "execution_count": 5,
   "id": "899eb12d-79ef-403e-be03-b9d335e6c55b",
   "metadata": {},
   "outputs": [],
   "source": [
    "import shap\n",
    "from xgboost import plot_importance\n",
    "from xgboost import plot_tree\n",
    "import matplotlib.pyplot as plt"
   ]
  },
  {
   "cell_type": "code",
   "execution_count": 6,
   "id": "af5b7635-28de-4d6e-bcaf-989e0aeac300",
   "metadata": {},
   "outputs": [],
   "source": [
    "#pip install scikit-optimize"
   ]
  },
  {
   "cell_type": "code",
   "execution_count": 7,
   "id": "b53b7242-bba2-4584-af10-9eef918cb28c",
   "metadata": {},
   "outputs": [],
   "source": [
    "from skopt import BayesSearchCV\n",
    "from skopt.space import Real, Categorical, Integer\n",
    "from sklearn.ensemble import RandomForestClassifier\n",
    "from sklearn.datasets import load_iris\n",
    "from sklearn.model_selection import train_test_split"
   ]
  },
  {
   "cell_type": "markdown",
   "id": "cfe27d5b-ff4f-46af-86b5-c327f3bdce94",
   "metadata": {},
   "source": [
    "# Load and make dataset"
   ]
  },
  {
   "cell_type": "code",
   "execution_count": 8,
   "id": "acf46d84-4282-44b1-afad-d1756e5ad43d",
   "metadata": {},
   "outputs": [],
   "source": [
    "parquet_file_path = 'Data/GallupWB_WashdataEnergy_1.967Mvar_v3.parquet'"
   ]
  },
  {
   "cell_type": "code",
   "execution_count": 9,
   "id": "1c690160-0306-40a1-9fd3-fda84f22523c",
   "metadata": {},
   "outputs": [],
   "source": [
    "Df = pd.read_parquet(parquet_file_path, engine='pyarrow')"
   ]
  },
  {
   "cell_type": "code",
   "execution_count": 10,
   "id": "fde62ba3-d443-4086-ad70-bb85700f7a97",
   "metadata": {},
   "outputs": [
    {
     "data": {
      "text/plain": [
       "(1967478, 67)"
      ]
     },
     "execution_count": 10,
     "metadata": {},
     "output_type": "execute_result"
    }
   ],
   "source": [
    "Df.shape"
   ]
  },
  {
   "cell_type": "code",
   "execution_count": 11,
   "id": "24e7e3d9-9754-46a2-aa0f-7655a64b4677",
   "metadata": {},
   "outputs": [
    {
     "data": {
      "text/plain": [
       "Index(['Disability', 'Food', 'Shelter', 'Relatives', 'Satisfy_life',\n",
       "       'Wellrested', 'Treated_respect', 'Smile_Laugh', 'Learn_interesting',\n",
       "       'Enjoyment', 'Physical_pain', 'Worry', 'Sadness', 'Stress', 'Anger',\n",
       "       'Satisfied_city', 'Move_city', 'Recommend_city', 'Find_job',\n",
       "       'Public_transportation', 'Roads_highways', 'Education', 'Air_quality',\n",
       "       'Water_quality', 'Health_care', 'Good_housing', 'Friends_make',\n",
       "       'Racial_minority', 'Gay_les', 'Immigrants', 'Donation', 'Voluntary',\n",
       "       'Help_stranger', 'Voice_opinion', 'Confidence', 'Safety', 'Steal',\n",
       "       'Assualted', 'Children_respected', 'Children_learn', 'Women_respected',\n",
       "       'Preserve_environment', 'Freedom_life', 'Military', 'Judicial_system',\n",
       "       'Government', 'Banks', 'election_honesty', 'Corruption_business',\n",
       "       'Corruption_government', 'Gender', 'Leadership_country',\n",
       "       'Marital_status', 'Acess_internet', 'Use_internet', 'Phone_internet',\n",
       "       'Life_standard', 'Economic_trend', 'Income_feeling', 'Wellbeing_ladder',\n",
       "       'Ladder_future', 'Children_number', 'Employment', 'Economic_condition',\n",
       "       'INCOME_2', 'COUNTRY_ISO3', 'wave'],\n",
       "      dtype='object')"
      ]
     },
     "execution_count": 11,
     "metadata": {},
     "output_type": "execute_result"
    }
   ],
   "source": [
    "Df.columns"
   ]
  },
  {
   "cell_type": "markdown",
   "id": "bbdf8c9c-8016-49c5-99ae-b0561255f21a",
   "metadata": {},
   "source": [
    "## Check difference between "
   ]
  },
  {
   "cell_type": "code",
   "execution_count": null,
   "id": "09b965d0-22f5-4d6f-9d4c-635578e03004",
   "metadata": {},
   "outputs": [],
   "source": []
  },
  {
   "cell_type": "markdown",
   "id": "df3b8b9f-3943-4cd6-a2b8-a5178ac42b26",
   "metadata": {},
   "source": [
    "## Shuffle Conversion for Step 1"
   ]
  },
  {
   "cell_type": "code",
   "execution_count": null,
   "id": "a61a7317-8c31-4516-8f92-1ba337fe136a",
   "metadata": {},
   "outputs": [],
   "source": []
  },
  {
   "cell_type": "code",
   "execution_count": 12,
   "id": "28ca9a7f-cadc-45e8-b604-32ccd5d9ce3b",
   "metadata": {},
   "outputs": [],
   "source": [
    "Df = Df.sample(frac=1, random_state=42).reset_index(drop=True)"
   ]
  },
  {
   "cell_type": "code",
   "execution_count": 13,
   "id": "5dd2a58b-d321-4b60-9e3e-00594e816362",
   "metadata": {},
   "outputs": [],
   "source": [
    "Df['COUNTRY_ISO3'] = Df['COUNTRY_ISO3'].astype('category')"
   ]
  },
  {
   "cell_type": "code",
   "execution_count": 14,
   "id": "fc183d03-6567-48c1-bf14-24ea91dd0f7e",
   "metadata": {},
   "outputs": [],
   "source": [
    "ye1 = Df['Economic_trend']"
   ]
  },
  {
   "cell_type": "code",
   "execution_count": 15,
   "id": "0b155d0e-7a9b-40a0-8552-1c4a298871f4",
   "metadata": {},
   "outputs": [],
   "source": [
    "Xe1 = Df.drop(columns=['Wellbeing_ladder','Economic_trend'])"
   ]
  },
  {
   "cell_type": "code",
   "execution_count": 16,
   "id": "f02fe515-0406-4ee7-b18a-031ffcfa499b",
   "metadata": {},
   "outputs": [],
   "source": [
    "Xe1_train, Xe1_test, ye1_train, ye1_test = train_test_split(Xe1, ye1, test_size=0.1, random_state=42)"
   ]
  },
  {
   "cell_type": "code",
   "execution_count": 17,
   "id": "096b895b-612d-42a4-9a49-732a848f7124",
   "metadata": {},
   "outputs": [
    {
     "data": {
      "text/plain": [
       "Disability             float64\n",
       "Food                   float64\n",
       "Shelter                float64\n",
       "Relatives              float64\n",
       "Satisfy_life           float64\n",
       "                        ...   \n",
       "Employment             float64\n",
       "Economic_condition     float64\n",
       "INCOME_2               float64\n",
       "COUNTRY_ISO3          category\n",
       "wave                   float64\n",
       "Length: 65, dtype: object"
      ]
     },
     "execution_count": 17,
     "metadata": {},
     "output_type": "execute_result"
    }
   ],
   "source": [
    "Xe1_train.dtypes"
   ]
  },
  {
   "cell_type": "code",
   "execution_count": 18,
   "id": "401d6cdb-b85f-492f-a199-bda35a7d729c",
   "metadata": {
    "scrolled": true
   },
   "outputs": [
    {
     "data": {
      "text/plain": [
       "Disability             float64\n",
       "Food                   float64\n",
       "Shelter                float64\n",
       "Relatives              float64\n",
       "Satisfy_life           float64\n",
       "                        ...   \n",
       "Employment             float64\n",
       "Economic_condition     float64\n",
       "INCOME_2               float64\n",
       "COUNTRY_ISO3          category\n",
       "wave                   float64\n",
       "Length: 65, dtype: object"
      ]
     },
     "execution_count": 18,
     "metadata": {},
     "output_type": "execute_result"
    }
   ],
   "source": [
    "Xe1_test.dtypes"
   ]
  },
  {
   "cell_type": "code",
   "execution_count": 19,
   "id": "cf35c50d-7005-41cd-8f0b-ab6188aa7a18",
   "metadata": {},
   "outputs": [
    {
     "data": {
      "text/plain": [
       "(1770730, 65)"
      ]
     },
     "execution_count": 19,
     "metadata": {},
     "output_type": "execute_result"
    }
   ],
   "source": [
    "Xe1_train.shape"
   ]
  },
  {
   "cell_type": "markdown",
   "id": "5d34ac9b-c467-43ac-89ff-22d5e0dd9770",
   "metadata": {},
   "source": [
    "## Model and Tuning Hyper for Step 1"
   ]
  },
  {
   "cell_type": "markdown",
   "id": "92a60433-f294-465e-8d36-41fb2e5e65a6",
   "metadata": {},
   "source": [
    "Economic_trend Model: Isolate indirect effect of features on Wellbeing"
   ]
  },
  {
   "cell_type": "markdown",
   "id": "541845c1-7a28-4bce-9ddf-1d5f2341d1ae",
   "metadata": {},
   "source": [
    "### Encode COUNTRY_IS03"
   ]
  },
  {
   "cell_type": "code",
   "execution_count": 20,
   "id": "6690ce42-5e40-42b4-aec2-ccc4d449d5e2",
   "metadata": {},
   "outputs": [
    {
     "name": "stdout",
     "output_type": "stream",
     "text": [
      "Data types in Xe1_train:\n",
      "Disability            float64\n",
      "Food                  float64\n",
      "Shelter               float64\n",
      "Relatives             float64\n",
      "Satisfy_life          float64\n",
      "                       ...   \n",
      "Employment            float64\n",
      "Economic_condition    float64\n",
      "INCOME_2              float64\n",
      "COUNTRY_ISO3          float64\n",
      "wave                  float64\n",
      "Length: 65, dtype: object\n",
      "Data types in Xe1_test:\n",
      "Disability            float64\n",
      "Food                  float64\n",
      "Shelter               float64\n",
      "Relatives             float64\n",
      "Satisfy_life          float64\n",
      "                       ...   \n",
      "Employment            float64\n",
      "Economic_condition    float64\n",
      "INCOME_2              float64\n",
      "COUNTRY_ISO3          float64\n",
      "wave                  float64\n",
      "Length: 65, dtype: object\n"
     ]
    }
   ],
   "source": [
    "from sklearn.preprocessing import LabelEncoder\n",
    "\n",
    "# Initialize LabelEncoder\n",
    "le = LabelEncoder()\n",
    "\n",
    "# Fit the LabelEncoder on the categorical column and transform it\n",
    "Xe1_train['COUNTRY_ISO3'] = le.fit_transform(Xe1_train['COUNTRY_ISO3'])\n",
    "Xe1_test['COUNTRY_ISO3'] = le.transform(Xe1_test['COUNTRY_ISO3'])\n",
    "\n",
    "# Ensure all columns are of type float64\n",
    "Xe1_train = Xe1_train.astype('float64')\n",
    "Xe1_test = Xe1_test.astype('float64')\n",
    "\n",
    "# Verify data types\n",
    "print(\"Data types in Xe1_train:\")\n",
    "print(Xe1_train.dtypes)\n",
    "\n",
    "print(\"Data types in Xe1_test:\")\n",
    "print(Xe1_test.dtypes)"
   ]
  },
  {
   "cell_type": "markdown",
   "id": "136ec24b-3c7f-4285-87e0-d8ec999df370",
   "metadata": {},
   "source": [
    "### Bayes Search CV for Step 1"
   ]
  },
  {
   "cell_type": "markdown",
   "id": "3919688f-a1c1-4edc-bb37-236eef614542",
   "metadata": {},
   "source": [
    "Bayes for accuracy"
   ]
  },
  {
   "cell_type": "code",
   "execution_count": 21,
   "id": "98a97915-8a19-4b1a-abcb-30ba9f65b563",
   "metadata": {},
   "outputs": [],
   "source": [
    "param_space = {\n",
    "    'n_estimators': Integer(100, 3000),\n",
    "    'learning_rate': Real(0.001, 0.1, prior='log-uniform'),\n",
    "    'max_depth': Integer(3, 14),\n",
    "    'subsample': Real(0.5, 1.0),\n",
    "    'min_child_weight': Real(0.001, 10, prior='log-uniform'),\n",
    "    'max_delta_step': Real(0.001, 10, prior='log-uniform'),\n",
    "    'reg_lambda': Real(0.001, 10, prior='log-uniform'),\n",
    "    'reg_alpha': Real(0.001, 10, prior='log-uniform'),\n",
    "    'gamma': Real(0.001, 10, prior='log-uniform')\n",
    "}"
   ]
  },
  {
   "cell_type": "code",
   "execution_count": 22,
   "id": "7a2e894a-e5d1-47f9-8f98-3f1571e77618",
   "metadata": {},
   "outputs": [],
   "source": [
    "xgb_classifier = xgb.XGBClassifier(objective='multi:softmax',tree_method='hist', device='cuda', random_state=42, enable_categorical=True  )"
   ]
  },
  {
   "cell_type": "code",
   "execution_count": 23,
   "id": "a0246c8a-399b-4a04-8ce3-35b425a71dbc",
   "metadata": {},
   "outputs": [],
   "source": [
    "class RandomRunNFoldsKFold(KFold):\n",
    "    def __init__(self, n_splits=10, random_state=None, run_splits=3, **kwargs):\n",
    "        super().__init__(n_splits=n_splits, shuffle=True, random_state=random_state, **kwargs)\n",
    "        self.random_state = random_state\n",
    "        self.actual_splits = run_splits  # Number of actual splits to use\n",
    "\n",
    "    def split(self, X, y=None, groups=None):\n",
    "        folds = list(super().split(X, y, groups))\n",
    "        if self.random_state is not None:\n",
    "            random.seed(self.random_state)\n",
    "        selected_folds = random.sample(folds, self.actual_splits)\n",
    "        for train_index, test_index in selected_folds:\n",
    "            yield train_index, test_index\n",
    "\n",
    "    def get_n_splits(self, X=None, y=None, groups=None):\n",
    "        return self.actual_splits"
   ]
  },
  {
   "cell_type": "code",
   "execution_count": 24,
   "id": "f3480531-431a-4352-9701-0619e130b74e",
   "metadata": {},
   "outputs": [],
   "source": [
    "rkfcv = RandomRunNFoldsKFold(n_splits=10, run_splits=3, random_state=42)"
   ]
  },
  {
   "cell_type": "code",
   "execution_count": 37,
   "id": "96a3fad9-c836-4c56-a7dd-68c3a896b621",
   "metadata": {},
   "outputs": [],
   "source": [
    "bayes_research = BayesSearchCV(\n",
    "    estimator=xgb_classifier,\n",
    "    search_spaces=param_space,\n",
    "    n_iter=20,\n",
    "    scoring='accuracy',\n",
    "    cv=rkfcv,\n",
    "    n_jobs = 1,\n",
    "    n_points = 1,\n",
    "    verbose=2,\n",
    "    random_state=42,\n",
    "    return_train_score = True\n",
    ")"
   ]
  },
  {
   "cell_type": "code",
   "execution_count": null,
   "id": "9c387ee7-52a1-4736-9bf5-8170b660a486",
   "metadata": {
    "scrolled": true
   },
   "outputs": [
    {
     "name": "stdout",
     "output_type": "stream",
     "text": [
      "Fitting 3 folds for each of 1 candidates, totalling 3 fits\n",
      "[CV] END gamma=0.04369339947510315, learning_rate=0.02853983686604182, max_delta_step=5.388550972627239, max_depth=6, min_child_weight=0.47928274405969296, n_estimators=1301, reg_alpha=0.025335258486348353, reg_lambda=0.9078559343576645, subsample=0.6522316555182531; total time= 1.5min\n",
      "[CV] END gamma=0.04369339947510315, learning_rate=0.02853983686604182, max_delta_step=5.388550972627239, max_depth=6, min_child_weight=0.47928274405969296, n_estimators=1301, reg_alpha=0.025335258486348353, reg_lambda=0.9078559343576645, subsample=0.6522316555182531; total time= 1.5min\n",
      "[CV] END gamma=0.04369339947510315, learning_rate=0.02853983686604182, max_delta_step=5.388550972627239, max_depth=6, min_child_weight=0.47928274405969296, n_estimators=1301, reg_alpha=0.025335258486348353, reg_lambda=0.9078559343576645, subsample=0.6522316555182531; total time= 1.5min\n",
      "Fitting 3 folds for each of 1 candidates, totalling 3 fits\n",
      "[CV] END gamma=2.236420282054271, learning_rate=0.058429282697611454, max_delta_step=0.016354619314682416, max_depth=13, min_child_weight=2.8609591832863424, n_estimators=281, reg_alpha=0.0035746551640890665, reg_lambda=0.025962684183737327, subsample=0.8178645509395852; total time=  16.0s\n",
      "[CV] END gamma=2.236420282054271, learning_rate=0.058429282697611454, max_delta_step=0.016354619314682416, max_depth=13, min_child_weight=2.8609591832863424, n_estimators=281, reg_alpha=0.0035746551640890665, reg_lambda=0.025962684183737327, subsample=0.8178645509395852; total time=  16.1s\n",
      "[CV] END gamma=2.236420282054271, learning_rate=0.058429282697611454, max_delta_step=0.016354619314682416, max_depth=13, min_child_weight=2.8609591832863424, n_estimators=281, reg_alpha=0.0035746551640890665, reg_lambda=0.025962684183737327, subsample=0.8178645509395852; total time=  16.1s\n",
      "Fitting 3 folds for each of 1 candidates, totalling 3 fits\n",
      "[CV] END gamma=0.06016307829589929, learning_rate=0.06877728743793542, max_delta_step=0.002626858226437905, max_depth=8, min_child_weight=0.005647038458633676, n_estimators=1416, reg_alpha=0.00418593245501055, reg_lambda=1.0144020667237337, subsample=0.7786702115169006; total time= 1.2min\n",
      "[CV] END gamma=0.06016307829589929, learning_rate=0.06877728743793542, max_delta_step=0.002626858226437905, max_depth=8, min_child_weight=0.005647038458633676, n_estimators=1416, reg_alpha=0.00418593245501055, reg_lambda=1.0144020667237337, subsample=0.7786702115169006; total time= 1.2min\n",
      "[CV] END gamma=0.06016307829589929, learning_rate=0.06877728743793542, max_delta_step=0.002626858226437905, max_depth=8, min_child_weight=0.005647038458633676, n_estimators=1416, reg_alpha=0.00418593245501055, reg_lambda=1.0144020667237337, subsample=0.7786702115169006; total time= 1.2min\n",
      "Fitting 3 folds for each of 1 candidates, totalling 3 fits\n",
      "[CV] END gamma=1.7765766649807682, learning_rate=0.0022066991249460105, max_delta_step=0.24671088435225733, max_depth=12, min_child_weight=0.12365432532396153, n_estimators=377, reg_alpha=1.0548777482285936, reg_lambda=3.094007864244482, subsample=0.9559644307534418; total time=  60.0s\n",
      "[CV] END gamma=1.7765766649807682, learning_rate=0.0022066991249460105, max_delta_step=0.24671088435225733, max_depth=12, min_child_weight=0.12365432532396153, n_estimators=377, reg_alpha=1.0548777482285936, reg_lambda=3.094007864244482, subsample=0.9559644307534418; total time= 1.0min\n",
      "[CV] END gamma=1.7765766649807682, learning_rate=0.0022066991249460105, max_delta_step=0.24671088435225733, max_depth=12, min_child_weight=0.12365432532396153, n_estimators=377, reg_alpha=1.0548777482285936, reg_lambda=3.094007864244482, subsample=0.9559644307534418; total time= 1.0min\n",
      "Fitting 3 folds for each of 1 candidates, totalling 3 fits\n",
      "[CV] END gamma=1.5783879853890563, learning_rate=0.007517239253342656, max_delta_step=0.1277853151889843, max_depth=11, min_child_weight=4.124851234284971, n_estimators=2179, reg_alpha=0.04974074547470406, reg_lambda=0.3991502512609639, subsample=0.6765419227639857; total time= 6.2min\n",
      "[CV] END gamma=1.5783879853890563, learning_rate=0.007517239253342656, max_delta_step=0.1277853151889843, max_depth=11, min_child_weight=4.124851234284971, n_estimators=2179, reg_alpha=0.04974074547470406, reg_lambda=0.3991502512609639, subsample=0.6765419227639857; total time= 6.2min\n",
      "[CV] END gamma=1.5783879853890563, learning_rate=0.007517239253342656, max_delta_step=0.1277853151889843, max_depth=11, min_child_weight=4.124851234284971, n_estimators=2179, reg_alpha=0.04974074547470406, reg_lambda=0.3991502512609639, subsample=0.6765419227639857; total time= 6.2min\n",
      "Fitting 3 folds for each of 1 candidates, totalling 3 fits\n",
      "[CV] END gamma=0.8632012725909878, learning_rate=0.0756379021867824, max_delta_step=0.004512619487621619, max_depth=5, min_child_weight=1.5922561163725886, n_estimators=1180, reg_alpha=0.06856430159759418, reg_lambda=0.1377401781906964, subsample=0.8926419685712479; total time=  53.0s\n",
      "[CV] END gamma=0.8632012725909878, learning_rate=0.0756379021867824, max_delta_step=0.004512619487621619, max_depth=5, min_child_weight=1.5922561163725886, n_estimators=1180, reg_alpha=0.06856430159759418, reg_lambda=0.1377401781906964, subsample=0.8926419685712479; total time=  52.9s\n",
      "[CV] END gamma=0.8632012725909878, learning_rate=0.0756379021867824, max_delta_step=0.004512619487621619, max_depth=5, min_child_weight=1.5922561163725886, n_estimators=1180, reg_alpha=0.06856430159759418, reg_lambda=0.1377401781906964, subsample=0.8926419685712479; total time=  52.9s\n",
      "Fitting 3 folds for each of 1 candidates, totalling 3 fits\n",
      "[CV] END gamma=0.2939797620271688, learning_rate=0.035540927532494104, max_delta_step=0.027295542332669995, max_depth=13, min_child_weight=0.23468141668216005, n_estimators=1824, reg_alpha=0.393649803341925, reg_lambda=0.048789946714619455, subsample=0.866941242634403; total time= 4.4min\n",
      "[CV] END gamma=0.2939797620271688, learning_rate=0.035540927532494104, max_delta_step=0.027295542332669995, max_depth=13, min_child_weight=0.23468141668216005, n_estimators=1824, reg_alpha=0.393649803341925, reg_lambda=0.048789946714619455, subsample=0.866941242634403; total time= 4.4min\n",
      "[CV] END gamma=0.2939797620271688, learning_rate=0.035540927532494104, max_delta_step=0.027295542332669995, max_depth=13, min_child_weight=0.23468141668216005, n_estimators=1824, reg_alpha=0.393649803341925, reg_lambda=0.048789946714619455, subsample=0.866941242634403; total time= 4.4min\n",
      "Fitting 3 folds for each of 1 candidates, totalling 3 fits\n",
      "[CV] END gamma=0.14914622679778672, learning_rate=0.06918603669668356, max_delta_step=0.09679809588492402, max_depth=12, min_child_weight=0.019780621330832346, n_estimators=248, reg_alpha=0.19191601211845516, reg_lambda=0.0012682484500023282, subsample=0.6928647954923324; total time= 1.1min\n",
      "[CV] END gamma=0.14914622679778672, learning_rate=0.06918603669668356, max_delta_step=0.09679809588492402, max_depth=12, min_child_weight=0.019780621330832346, n_estimators=248, reg_alpha=0.19191601211845516, reg_lambda=0.0012682484500023282, subsample=0.6928647954923324; total time= 1.1min\n",
      "[CV] END gamma=0.14914622679778672, learning_rate=0.06918603669668356, max_delta_step=0.09679809588492402, max_depth=12, min_child_weight=0.019780621330832346, n_estimators=248, reg_alpha=0.19191601211845516, reg_lambda=0.0012682484500023282, subsample=0.6928647954923324; total time= 1.1min\n",
      "Fitting 3 folds for each of 1 candidates, totalling 3 fits\n",
      "[CV] END gamma=6.6360850776123375, learning_rate=0.02519085390684862, max_delta_step=3.0662510776734475, max_depth=8, min_child_weight=0.03343944487838535, n_estimators=713, reg_alpha=0.001000562456331363, reg_lambda=0.030390787275205566, subsample=0.7971894567956928; total time=  55.6s\n",
      "[CV] END gamma=6.6360850776123375, learning_rate=0.02519085390684862, max_delta_step=3.0662510776734475, max_depth=8, min_child_weight=0.03343944487838535, n_estimators=713, reg_alpha=0.001000562456331363, reg_lambda=0.030390787275205566, subsample=0.7971894567956928; total time=  55.1s\n",
      "[CV] END gamma=6.6360850776123375, learning_rate=0.02519085390684862, max_delta_step=3.0662510776734475, max_depth=8, min_child_weight=0.03343944487838535, n_estimators=713, reg_alpha=0.001000562456331363, reg_lambda=0.030390787275205566, subsample=0.7971894567956928; total time=  55.2s\n",
      "Fitting 3 folds for each of 1 candidates, totalling 3 fits\n",
      "[CV] END gamma=0.0010340016434251913, learning_rate=0.04321753967138224, max_delta_step=0.9228497044562662, max_depth=6, min_child_weight=0.20637512290600768, n_estimators=897, reg_alpha=0.017838454498583053, reg_lambda=0.0040773533275832545, subsample=0.9469190305262598; total time= 1.1min\n",
      "[CV] END gamma=0.0010340016434251913, learning_rate=0.04321753967138224, max_delta_step=0.9228497044562662, max_depth=6, min_child_weight=0.20637512290600768, n_estimators=897, reg_alpha=0.017838454498583053, reg_lambda=0.0040773533275832545, subsample=0.9469190305262598; total time= 1.1min\n",
      "[CV] END gamma=0.0010340016434251913, learning_rate=0.04321753967138224, max_delta_step=0.9228497044562662, max_depth=6, min_child_weight=0.20637512290600768, n_estimators=897, reg_alpha=0.017838454498583053, reg_lambda=0.0040773533275832545, subsample=0.9469190305262598; total time= 1.1min\n",
      "Fitting 3 folds for each of 1 candidates, totalling 3 fits\n",
      "[CV] END gamma=0.5881900249969596, learning_rate=0.02803944762071738, max_delta_step=0.22498790073196634, max_depth=7, min_child_weight=0.01102332369053288, n_estimators=667, reg_alpha=1.1020657949329642, reg_lambda=0.06335998419934102, subsample=0.8606744504737793; total time=  56.3s\n",
      "[CV] END gamma=0.5881900249969596, learning_rate=0.02803944762071738, max_delta_step=0.22498790073196634, max_depth=7, min_child_weight=0.01102332369053288, n_estimators=667, reg_alpha=1.1020657949329642, reg_lambda=0.06335998419934102, subsample=0.8606744504737793; total time=  56.4s\n",
      "[CV] END gamma=0.5881900249969596, learning_rate=0.02803944762071738, max_delta_step=0.22498790073196634, max_depth=7, min_child_weight=0.01102332369053288, n_estimators=667, reg_alpha=1.1020657949329642, reg_lambda=0.06335998419934102, subsample=0.8606744504737793; total time=  56.5s\n",
      "Fitting 3 folds for each of 1 candidates, totalling 3 fits\n",
      "[CV] END gamma=0.15082001325484934, learning_rate=0.09999999999999999, max_delta_step=0.1383254096164098, max_depth=12, min_child_weight=0.12911725319112605, n_estimators=3000, reg_alpha=10.0, reg_lambda=0.001, subsample=0.5225952354256881; total time=10.2min\n",
      "[CV] END gamma=0.15082001325484934, learning_rate=0.09999999999999999, max_delta_step=0.1383254096164098, max_depth=12, min_child_weight=0.12911725319112605, n_estimators=3000, reg_alpha=10.0, reg_lambda=0.001, subsample=0.5225952354256881; total time=10.2min\n",
      "[CV] END gamma=0.15082001325484934, learning_rate=0.09999999999999999, max_delta_step=0.1383254096164098, max_depth=12, min_child_weight=0.12911725319112605, n_estimators=3000, reg_alpha=10.0, reg_lambda=0.001, subsample=0.5225952354256881; total time=10.2min\n",
      "Fitting 3 folds for each of 1 candidates, totalling 3 fits\n",
      "[CV] END gamma=0.335614159713477, learning_rate=0.09999999999999999, max_delta_step=0.17494699920783827, max_depth=12, min_child_weight=0.3645216230026961, n_estimators=1715, reg_alpha=0.001, reg_lambda=0.015506906579934313, subsample=0.9204718149316709; total time= 4.3min\n",
      "[CV] END gamma=0.335614159713477, learning_rate=0.09999999999999999, max_delta_step=0.17494699920783827, max_depth=12, min_child_weight=0.3645216230026961, n_estimators=1715, reg_alpha=0.001, reg_lambda=0.015506906579934313, subsample=0.9204718149316709; total time= 4.3min\n",
      "[CV] END gamma=0.335614159713477, learning_rate=0.09999999999999999, max_delta_step=0.17494699920783827, max_depth=12, min_child_weight=0.3645216230026961, n_estimators=1715, reg_alpha=0.001, reg_lambda=0.015506906579934313, subsample=0.9204718149316709; total time= 4.3min\n",
      "Fitting 3 folds for each of 1 candidates, totalling 3 fits\n",
      "[CV] END gamma=3.840153432817054, learning_rate=0.001, max_delta_step=10.0, max_depth=13, min_child_weight=1.2574019171590738, n_estimators=3000, reg_alpha=1.2447417075654272, reg_lambda=0.001, subsample=0.632901336970009; total time=15.8min\n",
      "[CV] END gamma=3.840153432817054, learning_rate=0.001, max_delta_step=10.0, max_depth=13, min_child_weight=1.2574019171590738, n_estimators=3000, reg_alpha=1.2447417075654272, reg_lambda=0.001, subsample=0.632901336970009; total time=18.5min\n",
      "[CV] END gamma=3.840153432817054, learning_rate=0.001, max_delta_step=10.0, max_depth=13, min_child_weight=1.2574019171590738, n_estimators=3000, reg_alpha=1.2447417075654272, reg_lambda=0.001, subsample=0.632901336970009; total time=18.7min\n",
      "Fitting 3 folds for each of 1 candidates, totalling 3 fits\n",
      "[CV] END gamma=0.005139037703053589, learning_rate=0.07757757899052262, max_delta_step=0.5079117986325264, max_depth=9, min_child_weight=0.28649636939820367, n_estimators=100, reg_alpha=0.033191574619209144, reg_lambda=0.0010136934185928448, subsample=0.9553818623429611; total time=  20.0s\n",
      "[CV] END gamma=0.005139037703053589, learning_rate=0.07757757899052262, max_delta_step=0.5079117986325264, max_depth=9, min_child_weight=0.28649636939820367, n_estimators=100, reg_alpha=0.033191574619209144, reg_lambda=0.0010136934185928448, subsample=0.9553818623429611; total time=  20.1s\n",
      "[CV] END gamma=0.005139037703053589, learning_rate=0.07757757899052262, max_delta_step=0.5079117986325264, max_depth=9, min_child_weight=0.28649636939820367, n_estimators=100, reg_alpha=0.033191574619209144, reg_lambda=0.0010136934185928448, subsample=0.9553818623429611; total time=  20.0s\n",
      "Fitting 3 folds for each of 1 candidates, totalling 3 fits\n",
      "[CV] END gamma=0.25493543371232713, learning_rate=0.09999999999999999, max_delta_step=2.124047413898617, max_depth=4, min_child_weight=4.924765123008951, n_estimators=3000, reg_alpha=0.0012545335536037624, reg_lambda=3.5134443376465976, subsample=0.8342559277218298; total time= 3.4min\n",
      "[CV] END gamma=0.25493543371232713, learning_rate=0.09999999999999999, max_delta_step=2.124047413898617, max_depth=4, min_child_weight=4.924765123008951, n_estimators=3000, reg_alpha=0.0012545335536037624, reg_lambda=3.5134443376465976, subsample=0.8342559277218298; total time= 3.4min\n",
      "[CV] END gamma=0.25493543371232713, learning_rate=0.09999999999999999, max_delta_step=2.124047413898617, max_depth=4, min_child_weight=4.924765123008951, n_estimators=3000, reg_alpha=0.0012545335536037624, reg_lambda=3.5134443376465976, subsample=0.8342559277218298; total time= 3.4min\n",
      "Fitting 3 folds for each of 1 candidates, totalling 3 fits\n",
      "[CV] END gamma=1.168099674175606, learning_rate=0.001, max_delta_step=0.025038986001909812, max_depth=9, min_child_weight=0.002522432377071836, n_estimators=3000, reg_alpha=6.403890443285091, reg_lambda=0.031623555401716345, subsample=0.9590684340295266; total time= 3.2min\n",
      "[CV] END gamma=1.168099674175606, learning_rate=0.001, max_delta_step=0.025038986001909812, max_depth=9, min_child_weight=0.002522432377071836, n_estimators=3000, reg_alpha=6.403890443285091, reg_lambda=0.031623555401716345, subsample=0.9590684340295266; total time= 3.2min\n",
      "[CV] END gamma=1.168099674175606, learning_rate=0.001, max_delta_step=0.025038986001909812, max_depth=9, min_child_weight=0.002522432377071836, n_estimators=3000, reg_alpha=6.403890443285091, reg_lambda=0.031623555401716345, subsample=0.9590684340295266; total time= 3.2min\n",
      "Fitting 3 folds for each of 1 candidates, totalling 3 fits\n"
     ]
    }
   ],
   "source": [
    "bayes_research.fit(Xe1, ye1)"
   ]
  },
  {
   "cell_type": "code",
   "execution_count": 1,
   "id": "b40fe0cf-c23b-40c7-9a9b-454f2ccbd726",
   "metadata": {},
   "outputs": [
    {
     "ename": "NameError",
     "evalue": "name 'bayes_search' is not defined",
     "output_type": "error",
     "traceback": [
      "\u001b[0;31m---------------------------------------------------------------------------\u001b[0m",
      "\u001b[0;31mNameError\u001b[0m                                 Traceback (most recent call last)",
      "Cell \u001b[0;32mIn[1], line 1\u001b[0m\n\u001b[0;32m----> 1\u001b[0m \u001b[43mbayes_search\u001b[49m\u001b[38;5;241m.\u001b[39mbest_params_\n",
      "\u001b[0;31mNameError\u001b[0m: name 'bayes_search' is not defined"
     ]
    }
   ],
   "source": [
    "bayes_search.best_params_"
   ]
  },
  {
   "cell_type": "markdown",
   "id": "c3bd5ab0-beac-4392-a475-9c9e1dee518d",
   "metadata": {
    "jp-MarkdownHeadingCollapsed": true
   },
   "source": [
    "#### Bayes for R2"
   ]
  },
  {
   "cell_type": "code",
   "execution_count": 25,
   "id": "853e2b7c-4f12-41a4-9534-4a177e642e04",
   "metadata": {},
   "outputs": [],
   "source": [
    "bayes_search = BayesSearchCV(\n",
    "    estimator=xgb_classifier,\n",
    "    search_spaces=param_space,\n",
    "    n_iter=20,\n",
    "    scoring='r2',\n",
    "    cv=rkfcv,\n",
    "    n_jobs = 1,\n",
    "    n_points = 1,\n",
    "    verbose=2,\n",
    "    random_state=42,\n",
    "    return_train_score = True\n",
    ")"
   ]
  },
  {
   "cell_type": "code",
   "execution_count": 26,
   "id": "69963bf6-51bb-4e16-9b27-1d0a8ae79c90",
   "metadata": {
    "scrolled": true
   },
   "outputs": [
    {
     "name": "stdout",
     "output_type": "stream",
     "text": [
      "Fitting 3 folds for each of 1 candidates, totalling 3 fits\n"
     ]
    },
    {
     "name": "stderr",
     "output_type": "stream",
     "text": [
      "/home/GPU/miniconda3/envs/MLlearning/lib/python3.9/site-packages/xgboost/core.py:158: UserWarning: [02:14:01] WARNING: /workspace/src/common/error_msg.cc:58: Falling back to prediction using DMatrix due to mismatched devices. This might lead to higher memory usage and slower performance. XGBoost is running on: cuda:0, while the input data is on: cpu.\n",
      "Potential solutions:\n",
      "- Use a data structure that matches the device ordinal in the booster.\n",
      "- Set the device for booster before call to inplace_predict.\n",
      "\n",
      "This warning will only be shown once.\n",
      "\n",
      "  warnings.warn(smsg, UserWarning)\n"
     ]
    },
    {
     "name": "stdout",
     "output_type": "stream",
     "text": [
      "[CV] END gamma=0.04369339947510315, learning_rate=0.02853983686604182, max_delta_step=5.388550972627239, max_depth=6, min_child_weight=0.47928274405969296, n_estimators=1301, reg_alpha=0.025335258486348353, reg_lambda=0.9078559343576645, subsample=0.6522316555182531; total time= 1.2min\n",
      "[CV] END gamma=0.04369339947510315, learning_rate=0.02853983686604182, max_delta_step=5.388550972627239, max_depth=6, min_child_weight=0.47928274405969296, n_estimators=1301, reg_alpha=0.025335258486348353, reg_lambda=0.9078559343576645, subsample=0.6522316555182531; total time= 1.3min\n",
      "[CV] END gamma=0.04369339947510315, learning_rate=0.02853983686604182, max_delta_step=5.388550972627239, max_depth=6, min_child_weight=0.47928274405969296, n_estimators=1301, reg_alpha=0.025335258486348353, reg_lambda=0.9078559343576645, subsample=0.6522316555182531; total time= 1.3min\n",
      "Fitting 3 folds for each of 1 candidates, totalling 3 fits\n",
      "[CV] END gamma=2.236420282054271, learning_rate=0.058429282697611454, max_delta_step=0.016354619314682416, max_depth=13, min_child_weight=2.8609591832863424, n_estimators=281, reg_alpha=0.0035746551640890665, reg_lambda=0.025962684183737327, subsample=0.8178645509395852; total time=  16.1s\n",
      "[CV] END gamma=2.236420282054271, learning_rate=0.058429282697611454, max_delta_step=0.016354619314682416, max_depth=13, min_child_weight=2.8609591832863424, n_estimators=281, reg_alpha=0.0035746551640890665, reg_lambda=0.025962684183737327, subsample=0.8178645509395852; total time=  16.0s\n",
      "[CV] END gamma=2.236420282054271, learning_rate=0.058429282697611454, max_delta_step=0.016354619314682416, max_depth=13, min_child_weight=2.8609591832863424, n_estimators=281, reg_alpha=0.0035746551640890665, reg_lambda=0.025962684183737327, subsample=0.8178645509395852; total time=  16.3s\n",
      "Fitting 3 folds for each of 1 candidates, totalling 3 fits\n",
      "[CV] END gamma=0.06016307829589929, learning_rate=0.06877728743793542, max_delta_step=0.002626858226437905, max_depth=8, min_child_weight=0.005647038458633676, n_estimators=1416, reg_alpha=0.00418593245501055, reg_lambda=1.0144020667237337, subsample=0.7786702115169006; total time= 1.2min\n",
      "[CV] END gamma=0.06016307829589929, learning_rate=0.06877728743793542, max_delta_step=0.002626858226437905, max_depth=8, min_child_weight=0.005647038458633676, n_estimators=1416, reg_alpha=0.00418593245501055, reg_lambda=1.0144020667237337, subsample=0.7786702115169006; total time= 1.2min\n",
      "[CV] END gamma=0.06016307829589929, learning_rate=0.06877728743793542, max_delta_step=0.002626858226437905, max_depth=8, min_child_weight=0.005647038458633676, n_estimators=1416, reg_alpha=0.00418593245501055, reg_lambda=1.0144020667237337, subsample=0.7786702115169006; total time= 1.2min\n",
      "Fitting 3 folds for each of 1 candidates, totalling 3 fits\n",
      "[CV] END gamma=1.7765766649807682, learning_rate=0.0022066991249460105, max_delta_step=0.24671088435225733, max_depth=12, min_child_weight=0.12365432532396153, n_estimators=377, reg_alpha=1.0548777482285936, reg_lambda=3.094007864244482, subsample=0.9559644307534418; total time= 1.0min\n",
      "[CV] END gamma=1.7765766649807682, learning_rate=0.0022066991249460105, max_delta_step=0.24671088435225733, max_depth=12, min_child_weight=0.12365432532396153, n_estimators=377, reg_alpha=1.0548777482285936, reg_lambda=3.094007864244482, subsample=0.9559644307534418; total time= 1.0min\n",
      "[CV] END gamma=1.7765766649807682, learning_rate=0.0022066991249460105, max_delta_step=0.24671088435225733, max_depth=12, min_child_weight=0.12365432532396153, n_estimators=377, reg_alpha=1.0548777482285936, reg_lambda=3.094007864244482, subsample=0.9559644307534418; total time= 1.0min\n",
      "Fitting 3 folds for each of 1 candidates, totalling 3 fits\n",
      "[CV] END gamma=1.5783879853890563, learning_rate=0.007517239253342656, max_delta_step=0.1277853151889843, max_depth=11, min_child_weight=4.124851234284971, n_estimators=2179, reg_alpha=0.04974074547470406, reg_lambda=0.3991502512609639, subsample=0.6765419227639857; total time= 6.2min\n",
      "[CV] END gamma=1.5783879853890563, learning_rate=0.007517239253342656, max_delta_step=0.1277853151889843, max_depth=11, min_child_weight=4.124851234284971, n_estimators=2179, reg_alpha=0.04974074547470406, reg_lambda=0.3991502512609639, subsample=0.6765419227639857; total time= 6.2min\n",
      "[CV] END gamma=1.5783879853890563, learning_rate=0.007517239253342656, max_delta_step=0.1277853151889843, max_depth=11, min_child_weight=4.124851234284971, n_estimators=2179, reg_alpha=0.04974074547470406, reg_lambda=0.3991502512609639, subsample=0.6765419227639857; total time= 6.2min\n",
      "Fitting 3 folds for each of 1 candidates, totalling 3 fits\n",
      "[CV] END gamma=0.8632012725909878, learning_rate=0.0756379021867824, max_delta_step=0.004512619487621619, max_depth=5, min_child_weight=1.5922561163725886, n_estimators=1180, reg_alpha=0.06856430159759418, reg_lambda=0.1377401781906964, subsample=0.8926419685712479; total time=  53.1s\n",
      "[CV] END gamma=0.8632012725909878, learning_rate=0.0756379021867824, max_delta_step=0.004512619487621619, max_depth=5, min_child_weight=1.5922561163725886, n_estimators=1180, reg_alpha=0.06856430159759418, reg_lambda=0.1377401781906964, subsample=0.8926419685712479; total time=  52.8s\n",
      "[CV] END gamma=0.8632012725909878, learning_rate=0.0756379021867824, max_delta_step=0.004512619487621619, max_depth=5, min_child_weight=1.5922561163725886, n_estimators=1180, reg_alpha=0.06856430159759418, reg_lambda=0.1377401781906964, subsample=0.8926419685712479; total time=  52.7s\n",
      "Fitting 3 folds for each of 1 candidates, totalling 3 fits\n",
      "[CV] END gamma=0.2939797620271688, learning_rate=0.035540927532494104, max_delta_step=0.027295542332669995, max_depth=13, min_child_weight=0.23468141668216005, n_estimators=1824, reg_alpha=0.393649803341925, reg_lambda=0.048789946714619455, subsample=0.866941242634403; total time= 4.4min\n",
      "[CV] END gamma=0.2939797620271688, learning_rate=0.035540927532494104, max_delta_step=0.027295542332669995, max_depth=13, min_child_weight=0.23468141668216005, n_estimators=1824, reg_alpha=0.393649803341925, reg_lambda=0.048789946714619455, subsample=0.866941242634403; total time= 4.4min\n",
      "[CV] END gamma=0.2939797620271688, learning_rate=0.035540927532494104, max_delta_step=0.027295542332669995, max_depth=13, min_child_weight=0.23468141668216005, n_estimators=1824, reg_alpha=0.393649803341925, reg_lambda=0.048789946714619455, subsample=0.866941242634403; total time= 4.4min\n",
      "Fitting 3 folds for each of 1 candidates, totalling 3 fits\n",
      "[CV] END gamma=0.14914622679778672, learning_rate=0.06918603669668356, max_delta_step=0.09679809588492402, max_depth=12, min_child_weight=0.019780621330832346, n_estimators=248, reg_alpha=0.19191601211845516, reg_lambda=0.0012682484500023282, subsample=0.6928647954923324; total time= 1.1min\n",
      "[CV] END gamma=0.14914622679778672, learning_rate=0.06918603669668356, max_delta_step=0.09679809588492402, max_depth=12, min_child_weight=0.019780621330832346, n_estimators=248, reg_alpha=0.19191601211845516, reg_lambda=0.0012682484500023282, subsample=0.6928647954923324; total time= 1.1min\n",
      "[CV] END gamma=0.14914622679778672, learning_rate=0.06918603669668356, max_delta_step=0.09679809588492402, max_depth=12, min_child_weight=0.019780621330832346, n_estimators=248, reg_alpha=0.19191601211845516, reg_lambda=0.0012682484500023282, subsample=0.6928647954923324; total time= 1.1min\n",
      "Fitting 3 folds for each of 1 candidates, totalling 3 fits\n",
      "[CV] END gamma=6.6360850776123375, learning_rate=0.02519085390684862, max_delta_step=3.0662510776734475, max_depth=8, min_child_weight=0.03343944487838535, n_estimators=713, reg_alpha=0.001000562456331363, reg_lambda=0.030390787275205566, subsample=0.7971894567956928; total time=  55.5s\n",
      "[CV] END gamma=6.6360850776123375, learning_rate=0.02519085390684862, max_delta_step=3.0662510776734475, max_depth=8, min_child_weight=0.03343944487838535, n_estimators=713, reg_alpha=0.001000562456331363, reg_lambda=0.030390787275205566, subsample=0.7971894567956928; total time=  55.0s\n",
      "[CV] END gamma=6.6360850776123375, learning_rate=0.02519085390684862, max_delta_step=3.0662510776734475, max_depth=8, min_child_weight=0.03343944487838535, n_estimators=713, reg_alpha=0.001000562456331363, reg_lambda=0.030390787275205566, subsample=0.7971894567956928; total time=  55.3s\n",
      "Fitting 3 folds for each of 1 candidates, totalling 3 fits\n",
      "[CV] END gamma=0.0010340016434251913, learning_rate=0.04321753967138224, max_delta_step=0.9228497044562662, max_depth=6, min_child_weight=0.20637512290600768, n_estimators=897, reg_alpha=0.017838454498583053, reg_lambda=0.0040773533275832545, subsample=0.9469190305262598; total time= 1.1min\n",
      "[CV] END gamma=0.0010340016434251913, learning_rate=0.04321753967138224, max_delta_step=0.9228497044562662, max_depth=6, min_child_weight=0.20637512290600768, n_estimators=897, reg_alpha=0.017838454498583053, reg_lambda=0.0040773533275832545, subsample=0.9469190305262598; total time= 1.1min\n",
      "[CV] END gamma=0.0010340016434251913, learning_rate=0.04321753967138224, max_delta_step=0.9228497044562662, max_depth=6, min_child_weight=0.20637512290600768, n_estimators=897, reg_alpha=0.017838454498583053, reg_lambda=0.0040773533275832545, subsample=0.9469190305262598; total time= 1.1min\n",
      "Fitting 3 folds for each of 1 candidates, totalling 3 fits\n",
      "[CV] END gamma=0.012763671480718157, learning_rate=0.028455838738175733, max_delta_step=0.18980855089156243, max_depth=9, min_child_weight=0.01722674341692125, n_estimators=2408, reg_alpha=0.9637077895499311, reg_lambda=0.13134623063011344, subsample=0.947958052859203; total time= 4.7min\n",
      "[CV] END gamma=0.012763671480718157, learning_rate=0.028455838738175733, max_delta_step=0.18980855089156243, max_depth=9, min_child_weight=0.01722674341692125, n_estimators=2408, reg_alpha=0.9637077895499311, reg_lambda=0.13134623063011344, subsample=0.947958052859203; total time= 4.7min\n",
      "[CV] END gamma=0.012763671480718157, learning_rate=0.028455838738175733, max_delta_step=0.18980855089156243, max_depth=9, min_child_weight=0.01722674341692125, n_estimators=2408, reg_alpha=0.9637077895499311, reg_lambda=0.13134623063011344, subsample=0.947958052859203; total time= 4.7min\n",
      "Fitting 3 folds for each of 1 candidates, totalling 3 fits\n",
      "[CV] END gamma=5.984276981686374, learning_rate=0.09999999999999999, max_delta_step=0.6377394265394566, max_depth=13, min_child_weight=10.0, n_estimators=2395, reg_alpha=10.0, reg_lambda=8.603115072635985, subsample=0.5575906705282918; total time= 1.6min\n",
      "[CV] END gamma=5.984276981686374, learning_rate=0.09999999999999999, max_delta_step=0.6377394265394566, max_depth=13, min_child_weight=10.0, n_estimators=2395, reg_alpha=10.0, reg_lambda=8.603115072635985, subsample=0.5575906705282918; total time= 1.6min\n",
      "[CV] END gamma=5.984276981686374, learning_rate=0.09999999999999999, max_delta_step=0.6377394265394566, max_depth=13, min_child_weight=10.0, n_estimators=2395, reg_alpha=10.0, reg_lambda=8.603115072635985, subsample=0.5575906705282918; total time= 1.6min\n",
      "Fitting 3 folds for each of 1 candidates, totalling 3 fits\n",
      "[CV] END gamma=5.09805234521021, learning_rate=0.09999999999999999, max_delta_step=0.0609551061375846, max_depth=10, min_child_weight=7.1550220059003395, n_estimators=3000, reg_alpha=0.17247693025103378, reg_lambda=0.7846382782829889, subsample=0.5971232217424921; total time= 2.1min\n",
      "[CV] END gamma=5.09805234521021, learning_rate=0.09999999999999999, max_delta_step=0.0609551061375846, max_depth=10, min_child_weight=7.1550220059003395, n_estimators=3000, reg_alpha=0.17247693025103378, reg_lambda=0.7846382782829889, subsample=0.5971232217424921; total time= 2.1min\n",
      "[CV] END gamma=5.09805234521021, learning_rate=0.09999999999999999, max_delta_step=0.0609551061375846, max_depth=10, min_child_weight=7.1550220059003395, n_estimators=3000, reg_alpha=0.17247693025103378, reg_lambda=0.7846382782829889, subsample=0.5971232217424921; total time= 2.1min\n",
      "Fitting 3 folds for each of 1 candidates, totalling 3 fits\n",
      "[CV] END gamma=8.97540323397283, learning_rate=0.09999999999999999, max_delta_step=0.09603879753496582, max_depth=14, min_child_weight=0.001, n_estimators=2252, reg_alpha=10.0, reg_lambda=0.001, subsample=0.5; total time= 1.4min\n",
      "[CV] END gamma=8.97540323397283, learning_rate=0.09999999999999999, max_delta_step=0.09603879753496582, max_depth=14, min_child_weight=0.001, n_estimators=2252, reg_alpha=10.0, reg_lambda=0.001, subsample=0.5; total time= 1.4min\n",
      "[CV] END gamma=8.97540323397283, learning_rate=0.09999999999999999, max_delta_step=0.09603879753496582, max_depth=14, min_child_weight=0.001, n_estimators=2252, reg_alpha=10.0, reg_lambda=0.001, subsample=0.5; total time= 1.4min\n",
      "Fitting 3 folds for each of 1 candidates, totalling 3 fits\n",
      "[CV] END gamma=0.054793692381534066, learning_rate=0.026374078251929195, max_delta_step=0.2050105043556398, max_depth=9, min_child_weight=0.0014732367805252162, n_estimators=3000, reg_alpha=0.14397274752553135, reg_lambda=0.5222660759257282, subsample=0.9761830199736914; total time= 5.9min\n",
      "[CV] END gamma=0.054793692381534066, learning_rate=0.026374078251929195, max_delta_step=0.2050105043556398, max_depth=9, min_child_weight=0.0014732367805252162, n_estimators=3000, reg_alpha=0.14397274752553135, reg_lambda=0.5222660759257282, subsample=0.9761830199736914; total time= 5.9min\n",
      "[CV] END gamma=0.054793692381534066, learning_rate=0.026374078251929195, max_delta_step=0.2050105043556398, max_depth=9, min_child_weight=0.0014732367805252162, n_estimators=3000, reg_alpha=0.14397274752553135, reg_lambda=0.5222660759257282, subsample=0.9761830199736914; total time= 5.9min\n",
      "Fitting 3 folds for each of 1 candidates, totalling 3 fits\n",
      "[CV] END gamma=7.670887247917855, learning_rate=0.09999999999999999, max_delta_step=10.0, max_depth=10, min_child_weight=1.6567231815382408, n_estimators=3000, reg_alpha=5.777279164009808, reg_lambda=0.6006681587271385, subsample=0.8363000671177007; total time= 1.5min\n",
      "[CV] END gamma=7.670887247917855, learning_rate=0.09999999999999999, max_delta_step=10.0, max_depth=10, min_child_weight=1.6567231815382408, n_estimators=3000, reg_alpha=5.777279164009808, reg_lambda=0.6006681587271385, subsample=0.8363000671177007; total time= 1.5min\n",
      "[CV] END gamma=7.670887247917855, learning_rate=0.09999999999999999, max_delta_step=10.0, max_depth=10, min_child_weight=1.6567231815382408, n_estimators=3000, reg_alpha=5.777279164009808, reg_lambda=0.6006681587271385, subsample=0.8363000671177007; total time= 1.5min\n",
      "Fitting 3 folds for each of 1 candidates, totalling 3 fits\n",
      "[CV] END gamma=0.008743613620354628, learning_rate=0.0011948852511107315, max_delta_step=10.0, max_depth=8, min_child_weight=0.0018210779652629563, n_estimators=3000, reg_alpha=0.001, reg_lambda=0.015551573240718665, subsample=0.5218208254989434; total time= 5.1min\n",
      "[CV] END gamma=0.008743613620354628, learning_rate=0.0011948852511107315, max_delta_step=10.0, max_depth=8, min_child_weight=0.0018210779652629563, n_estimators=3000, reg_alpha=0.001, reg_lambda=0.015551573240718665, subsample=0.5218208254989434; total time= 5.1min\n",
      "[CV] END gamma=0.008743613620354628, learning_rate=0.0011948852511107315, max_delta_step=10.0, max_depth=8, min_child_weight=0.0018210779652629563, n_estimators=3000, reg_alpha=0.001, reg_lambda=0.015551573240718665, subsample=0.5218208254989434; total time= 5.1min\n",
      "Fitting 3 folds for each of 1 candidates, totalling 3 fits\n",
      "[CV] END gamma=1.3293031737920133, learning_rate=0.09999999999999999, max_delta_step=1.0482828308198722, max_depth=4, min_child_weight=1.1528116789486822, n_estimators=3000, reg_alpha=0.36237832099298634, reg_lambda=0.6115321050131377, subsample=0.5385183232558121; total time= 2.5min\n",
      "[CV] END gamma=1.3293031737920133, learning_rate=0.09999999999999999, max_delta_step=1.0482828308198722, max_depth=4, min_child_weight=1.1528116789486822, n_estimators=3000, reg_alpha=0.36237832099298634, reg_lambda=0.6115321050131377, subsample=0.5385183232558121; total time= 2.5min\n",
      "[CV] END gamma=1.3293031737920133, learning_rate=0.09999999999999999, max_delta_step=1.0482828308198722, max_depth=4, min_child_weight=1.1528116789486822, n_estimators=3000, reg_alpha=0.36237832099298634, reg_lambda=0.6115321050131377, subsample=0.5385183232558121; total time= 2.5min\n",
      "Fitting 3 folds for each of 1 candidates, totalling 3 fits\n",
      "[CV] END gamma=2.627240736000466, learning_rate=0.02557421011903943, max_delta_step=0.0026263872034041017, max_depth=11, min_child_weight=0.001, n_estimators=3000, reg_alpha=10.0, reg_lambda=0.23835299353040518, subsample=1.0; total time= 2.1min\n",
      "[CV] END gamma=2.627240736000466, learning_rate=0.02557421011903943, max_delta_step=0.0026263872034041017, max_depth=11, min_child_weight=0.001, n_estimators=3000, reg_alpha=10.0, reg_lambda=0.23835299353040518, subsample=1.0; total time= 2.1min\n",
      "[CV] END gamma=2.627240736000466, learning_rate=0.02557421011903943, max_delta_step=0.0026263872034041017, max_depth=11, min_child_weight=0.001, n_estimators=3000, reg_alpha=10.0, reg_lambda=0.23835299353040518, subsample=1.0; total time= 2.1min\n",
      "Fitting 3 folds for each of 1 candidates, totalling 3 fits\n",
      "[CV] END gamma=0.001, learning_rate=0.019715070197874638, max_delta_step=0.05464255020463181, max_depth=4, min_child_weight=10.0, n_estimators=3000, reg_alpha=0.0370619775716643, reg_lambda=10.0, subsample=1.0; total time= 2.4min\n",
      "[CV] END gamma=0.001, learning_rate=0.019715070197874638, max_delta_step=0.05464255020463181, max_depth=4, min_child_weight=10.0, n_estimators=3000, reg_alpha=0.0370619775716643, reg_lambda=10.0, subsample=1.0; total time= 2.4min\n",
      "[CV] END gamma=0.001, learning_rate=0.019715070197874638, max_delta_step=0.05464255020463181, max_depth=4, min_child_weight=10.0, n_estimators=3000, reg_alpha=0.0370619775716643, reg_lambda=10.0, subsample=1.0; total time= 2.4min\n"
     ]
    },
    {
     "data": {
      "text/html": [
       "<style>#sk-container-id-1 {\n",
       "  /* Definition of color scheme common for light and dark mode */\n",
       "  --sklearn-color-text: black;\n",
       "  --sklearn-color-line: gray;\n",
       "  /* Definition of color scheme for unfitted estimators */\n",
       "  --sklearn-color-unfitted-level-0: #fff5e6;\n",
       "  --sklearn-color-unfitted-level-1: #f6e4d2;\n",
       "  --sklearn-color-unfitted-level-2: #ffe0b3;\n",
       "  --sklearn-color-unfitted-level-3: chocolate;\n",
       "  /* Definition of color scheme for fitted estimators */\n",
       "  --sklearn-color-fitted-level-0: #f0f8ff;\n",
       "  --sklearn-color-fitted-level-1: #d4ebff;\n",
       "  --sklearn-color-fitted-level-2: #b3dbfd;\n",
       "  --sklearn-color-fitted-level-3: cornflowerblue;\n",
       "\n",
       "  /* Specific color for light theme */\n",
       "  --sklearn-color-text-on-default-background: var(--sg-text-color, var(--theme-code-foreground, var(--jp-content-font-color1, black)));\n",
       "  --sklearn-color-background: var(--sg-background-color, var(--theme-background, var(--jp-layout-color0, white)));\n",
       "  --sklearn-color-border-box: var(--sg-text-color, var(--theme-code-foreground, var(--jp-content-font-color1, black)));\n",
       "  --sklearn-color-icon: #696969;\n",
       "\n",
       "  @media (prefers-color-scheme: dark) {\n",
       "    /* Redefinition of color scheme for dark theme */\n",
       "    --sklearn-color-text-on-default-background: var(--sg-text-color, var(--theme-code-foreground, var(--jp-content-font-color1, white)));\n",
       "    --sklearn-color-background: var(--sg-background-color, var(--theme-background, var(--jp-layout-color0, #111)));\n",
       "    --sklearn-color-border-box: var(--sg-text-color, var(--theme-code-foreground, var(--jp-content-font-color1, white)));\n",
       "    --sklearn-color-icon: #878787;\n",
       "  }\n",
       "}\n",
       "\n",
       "#sk-container-id-1 {\n",
       "  color: var(--sklearn-color-text);\n",
       "}\n",
       "\n",
       "#sk-container-id-1 pre {\n",
       "  padding: 0;\n",
       "}\n",
       "\n",
       "#sk-container-id-1 input.sk-hidden--visually {\n",
       "  border: 0;\n",
       "  clip: rect(1px 1px 1px 1px);\n",
       "  clip: rect(1px, 1px, 1px, 1px);\n",
       "  height: 1px;\n",
       "  margin: -1px;\n",
       "  overflow: hidden;\n",
       "  padding: 0;\n",
       "  position: absolute;\n",
       "  width: 1px;\n",
       "}\n",
       "\n",
       "#sk-container-id-1 div.sk-dashed-wrapped {\n",
       "  border: 1px dashed var(--sklearn-color-line);\n",
       "  margin: 0 0.4em 0.5em 0.4em;\n",
       "  box-sizing: border-box;\n",
       "  padding-bottom: 0.4em;\n",
       "  background-color: var(--sklearn-color-background);\n",
       "}\n",
       "\n",
       "#sk-container-id-1 div.sk-container {\n",
       "  /* jupyter's `normalize.less` sets `[hidden] { display: none; }`\n",
       "     but bootstrap.min.css set `[hidden] { display: none !important; }`\n",
       "     so we also need the `!important` here to be able to override the\n",
       "     default hidden behavior on the sphinx rendered scikit-learn.org.\n",
       "     See: https://github.com/scikit-learn/scikit-learn/issues/21755 */\n",
       "  display: inline-block !important;\n",
       "  position: relative;\n",
       "}\n",
       "\n",
       "#sk-container-id-1 div.sk-text-repr-fallback {\n",
       "  display: none;\n",
       "}\n",
       "\n",
       "div.sk-parallel-item,\n",
       "div.sk-serial,\n",
       "div.sk-item {\n",
       "  /* draw centered vertical line to link estimators */\n",
       "  background-image: linear-gradient(var(--sklearn-color-text-on-default-background), var(--sklearn-color-text-on-default-background));\n",
       "  background-size: 2px 100%;\n",
       "  background-repeat: no-repeat;\n",
       "  background-position: center center;\n",
       "}\n",
       "\n",
       "/* Parallel-specific style estimator block */\n",
       "\n",
       "#sk-container-id-1 div.sk-parallel-item::after {\n",
       "  content: \"\";\n",
       "  width: 100%;\n",
       "  border-bottom: 2px solid var(--sklearn-color-text-on-default-background);\n",
       "  flex-grow: 1;\n",
       "}\n",
       "\n",
       "#sk-container-id-1 div.sk-parallel {\n",
       "  display: flex;\n",
       "  align-items: stretch;\n",
       "  justify-content: center;\n",
       "  background-color: var(--sklearn-color-background);\n",
       "  position: relative;\n",
       "}\n",
       "\n",
       "#sk-container-id-1 div.sk-parallel-item {\n",
       "  display: flex;\n",
       "  flex-direction: column;\n",
       "}\n",
       "\n",
       "#sk-container-id-1 div.sk-parallel-item:first-child::after {\n",
       "  align-self: flex-end;\n",
       "  width: 50%;\n",
       "}\n",
       "\n",
       "#sk-container-id-1 div.sk-parallel-item:last-child::after {\n",
       "  align-self: flex-start;\n",
       "  width: 50%;\n",
       "}\n",
       "\n",
       "#sk-container-id-1 div.sk-parallel-item:only-child::after {\n",
       "  width: 0;\n",
       "}\n",
       "\n",
       "/* Serial-specific style estimator block */\n",
       "\n",
       "#sk-container-id-1 div.sk-serial {\n",
       "  display: flex;\n",
       "  flex-direction: column;\n",
       "  align-items: center;\n",
       "  background-color: var(--sklearn-color-background);\n",
       "  padding-right: 1em;\n",
       "  padding-left: 1em;\n",
       "}\n",
       "\n",
       "\n",
       "/* Toggleable style: style used for estimator/Pipeline/ColumnTransformer box that is\n",
       "clickable and can be expanded/collapsed.\n",
       "- Pipeline and ColumnTransformer use this feature and define the default style\n",
       "- Estimators will overwrite some part of the style using the `sk-estimator` class\n",
       "*/\n",
       "\n",
       "/* Pipeline and ColumnTransformer style (default) */\n",
       "\n",
       "#sk-container-id-1 div.sk-toggleable {\n",
       "  /* Default theme specific background. It is overwritten whether we have a\n",
       "  specific estimator or a Pipeline/ColumnTransformer */\n",
       "  background-color: var(--sklearn-color-background);\n",
       "}\n",
       "\n",
       "/* Toggleable label */\n",
       "#sk-container-id-1 label.sk-toggleable__label {\n",
       "  cursor: pointer;\n",
       "  display: block;\n",
       "  width: 100%;\n",
       "  margin-bottom: 0;\n",
       "  padding: 0.5em;\n",
       "  box-sizing: border-box;\n",
       "  text-align: center;\n",
       "}\n",
       "\n",
       "#sk-container-id-1 label.sk-toggleable__label-arrow:before {\n",
       "  /* Arrow on the left of the label */\n",
       "  content: \"▸\";\n",
       "  float: left;\n",
       "  margin-right: 0.25em;\n",
       "  color: var(--sklearn-color-icon);\n",
       "}\n",
       "\n",
       "#sk-container-id-1 label.sk-toggleable__label-arrow:hover:before {\n",
       "  color: var(--sklearn-color-text);\n",
       "}\n",
       "\n",
       "/* Toggleable content - dropdown */\n",
       "\n",
       "#sk-container-id-1 div.sk-toggleable__content {\n",
       "  max-height: 0;\n",
       "  max-width: 0;\n",
       "  overflow: hidden;\n",
       "  text-align: left;\n",
       "  /* unfitted */\n",
       "  background-color: var(--sklearn-color-unfitted-level-0);\n",
       "}\n",
       "\n",
       "#sk-container-id-1 div.sk-toggleable__content.fitted {\n",
       "  /* fitted */\n",
       "  background-color: var(--sklearn-color-fitted-level-0);\n",
       "}\n",
       "\n",
       "#sk-container-id-1 div.sk-toggleable__content pre {\n",
       "  margin: 0.2em;\n",
       "  border-radius: 0.25em;\n",
       "  color: var(--sklearn-color-text);\n",
       "  /* unfitted */\n",
       "  background-color: var(--sklearn-color-unfitted-level-0);\n",
       "}\n",
       "\n",
       "#sk-container-id-1 div.sk-toggleable__content.fitted pre {\n",
       "  /* unfitted */\n",
       "  background-color: var(--sklearn-color-fitted-level-0);\n",
       "}\n",
       "\n",
       "#sk-container-id-1 input.sk-toggleable__control:checked~div.sk-toggleable__content {\n",
       "  /* Expand drop-down */\n",
       "  max-height: 200px;\n",
       "  max-width: 100%;\n",
       "  overflow: auto;\n",
       "}\n",
       "\n",
       "#sk-container-id-1 input.sk-toggleable__control:checked~label.sk-toggleable__label-arrow:before {\n",
       "  content: \"▾\";\n",
       "}\n",
       "\n",
       "/* Pipeline/ColumnTransformer-specific style */\n",
       "\n",
       "#sk-container-id-1 div.sk-label input.sk-toggleable__control:checked~label.sk-toggleable__label {\n",
       "  color: var(--sklearn-color-text);\n",
       "  background-color: var(--sklearn-color-unfitted-level-2);\n",
       "}\n",
       "\n",
       "#sk-container-id-1 div.sk-label.fitted input.sk-toggleable__control:checked~label.sk-toggleable__label {\n",
       "  background-color: var(--sklearn-color-fitted-level-2);\n",
       "}\n",
       "\n",
       "/* Estimator-specific style */\n",
       "\n",
       "/* Colorize estimator box */\n",
       "#sk-container-id-1 div.sk-estimator input.sk-toggleable__control:checked~label.sk-toggleable__label {\n",
       "  /* unfitted */\n",
       "  background-color: var(--sklearn-color-unfitted-level-2);\n",
       "}\n",
       "\n",
       "#sk-container-id-1 div.sk-estimator.fitted input.sk-toggleable__control:checked~label.sk-toggleable__label {\n",
       "  /* fitted */\n",
       "  background-color: var(--sklearn-color-fitted-level-2);\n",
       "}\n",
       "\n",
       "#sk-container-id-1 div.sk-label label.sk-toggleable__label,\n",
       "#sk-container-id-1 div.sk-label label {\n",
       "  /* The background is the default theme color */\n",
       "  color: var(--sklearn-color-text-on-default-background);\n",
       "}\n",
       "\n",
       "/* On hover, darken the color of the background */\n",
       "#sk-container-id-1 div.sk-label:hover label.sk-toggleable__label {\n",
       "  color: var(--sklearn-color-text);\n",
       "  background-color: var(--sklearn-color-unfitted-level-2);\n",
       "}\n",
       "\n",
       "/* Label box, darken color on hover, fitted */\n",
       "#sk-container-id-1 div.sk-label.fitted:hover label.sk-toggleable__label.fitted {\n",
       "  color: var(--sklearn-color-text);\n",
       "  background-color: var(--sklearn-color-fitted-level-2);\n",
       "}\n",
       "\n",
       "/* Estimator label */\n",
       "\n",
       "#sk-container-id-1 div.sk-label label {\n",
       "  font-family: monospace;\n",
       "  font-weight: bold;\n",
       "  display: inline-block;\n",
       "  line-height: 1.2em;\n",
       "}\n",
       "\n",
       "#sk-container-id-1 div.sk-label-container {\n",
       "  text-align: center;\n",
       "}\n",
       "\n",
       "/* Estimator-specific */\n",
       "#sk-container-id-1 div.sk-estimator {\n",
       "  font-family: monospace;\n",
       "  border: 1px dotted var(--sklearn-color-border-box);\n",
       "  border-radius: 0.25em;\n",
       "  box-sizing: border-box;\n",
       "  margin-bottom: 0.5em;\n",
       "  /* unfitted */\n",
       "  background-color: var(--sklearn-color-unfitted-level-0);\n",
       "}\n",
       "\n",
       "#sk-container-id-1 div.sk-estimator.fitted {\n",
       "  /* fitted */\n",
       "  background-color: var(--sklearn-color-fitted-level-0);\n",
       "}\n",
       "\n",
       "/* on hover */\n",
       "#sk-container-id-1 div.sk-estimator:hover {\n",
       "  /* unfitted */\n",
       "  background-color: var(--sklearn-color-unfitted-level-2);\n",
       "}\n",
       "\n",
       "#sk-container-id-1 div.sk-estimator.fitted:hover {\n",
       "  /* fitted */\n",
       "  background-color: var(--sklearn-color-fitted-level-2);\n",
       "}\n",
       "\n",
       "/* Specification for estimator info (e.g. \"i\" and \"?\") */\n",
       "\n",
       "/* Common style for \"i\" and \"?\" */\n",
       "\n",
       ".sk-estimator-doc-link,\n",
       "a:link.sk-estimator-doc-link,\n",
       "a:visited.sk-estimator-doc-link {\n",
       "  float: right;\n",
       "  font-size: smaller;\n",
       "  line-height: 1em;\n",
       "  font-family: monospace;\n",
       "  background-color: var(--sklearn-color-background);\n",
       "  border-radius: 1em;\n",
       "  height: 1em;\n",
       "  width: 1em;\n",
       "  text-decoration: none !important;\n",
       "  margin-left: 1ex;\n",
       "  /* unfitted */\n",
       "  border: var(--sklearn-color-unfitted-level-1) 1pt solid;\n",
       "  color: var(--sklearn-color-unfitted-level-1);\n",
       "}\n",
       "\n",
       ".sk-estimator-doc-link.fitted,\n",
       "a:link.sk-estimator-doc-link.fitted,\n",
       "a:visited.sk-estimator-doc-link.fitted {\n",
       "  /* fitted */\n",
       "  border: var(--sklearn-color-fitted-level-1) 1pt solid;\n",
       "  color: var(--sklearn-color-fitted-level-1);\n",
       "}\n",
       "\n",
       "/* On hover */\n",
       "div.sk-estimator:hover .sk-estimator-doc-link:hover,\n",
       ".sk-estimator-doc-link:hover,\n",
       "div.sk-label-container:hover .sk-estimator-doc-link:hover,\n",
       ".sk-estimator-doc-link:hover {\n",
       "  /* unfitted */\n",
       "  background-color: var(--sklearn-color-unfitted-level-3);\n",
       "  color: var(--sklearn-color-background);\n",
       "  text-decoration: none;\n",
       "}\n",
       "\n",
       "div.sk-estimator.fitted:hover .sk-estimator-doc-link.fitted:hover,\n",
       ".sk-estimator-doc-link.fitted:hover,\n",
       "div.sk-label-container:hover .sk-estimator-doc-link.fitted:hover,\n",
       ".sk-estimator-doc-link.fitted:hover {\n",
       "  /* fitted */\n",
       "  background-color: var(--sklearn-color-fitted-level-3);\n",
       "  color: var(--sklearn-color-background);\n",
       "  text-decoration: none;\n",
       "}\n",
       "\n",
       "/* Span, style for the box shown on hovering the info icon */\n",
       ".sk-estimator-doc-link span {\n",
       "  display: none;\n",
       "  z-index: 9999;\n",
       "  position: relative;\n",
       "  font-weight: normal;\n",
       "  right: .2ex;\n",
       "  padding: .5ex;\n",
       "  margin: .5ex;\n",
       "  width: min-content;\n",
       "  min-width: 20ex;\n",
       "  max-width: 50ex;\n",
       "  color: var(--sklearn-color-text);\n",
       "  box-shadow: 2pt 2pt 4pt #999;\n",
       "  /* unfitted */\n",
       "  background: var(--sklearn-color-unfitted-level-0);\n",
       "  border: .5pt solid var(--sklearn-color-unfitted-level-3);\n",
       "}\n",
       "\n",
       ".sk-estimator-doc-link.fitted span {\n",
       "  /* fitted */\n",
       "  background: var(--sklearn-color-fitted-level-0);\n",
       "  border: var(--sklearn-color-fitted-level-3);\n",
       "}\n",
       "\n",
       ".sk-estimator-doc-link:hover span {\n",
       "  display: block;\n",
       "}\n",
       "\n",
       "/* \"?\"-specific style due to the `<a>` HTML tag */\n",
       "\n",
       "#sk-container-id-1 a.estimator_doc_link {\n",
       "  float: right;\n",
       "  font-size: 1rem;\n",
       "  line-height: 1em;\n",
       "  font-family: monospace;\n",
       "  background-color: var(--sklearn-color-background);\n",
       "  border-radius: 1rem;\n",
       "  height: 1rem;\n",
       "  width: 1rem;\n",
       "  text-decoration: none;\n",
       "  /* unfitted */\n",
       "  color: var(--sklearn-color-unfitted-level-1);\n",
       "  border: var(--sklearn-color-unfitted-level-1) 1pt solid;\n",
       "}\n",
       "\n",
       "#sk-container-id-1 a.estimator_doc_link.fitted {\n",
       "  /* fitted */\n",
       "  border: var(--sklearn-color-fitted-level-1) 1pt solid;\n",
       "  color: var(--sklearn-color-fitted-level-1);\n",
       "}\n",
       "\n",
       "/* On hover */\n",
       "#sk-container-id-1 a.estimator_doc_link:hover {\n",
       "  /* unfitted */\n",
       "  background-color: var(--sklearn-color-unfitted-level-3);\n",
       "  color: var(--sklearn-color-background);\n",
       "  text-decoration: none;\n",
       "}\n",
       "\n",
       "#sk-container-id-1 a.estimator_doc_link.fitted:hover {\n",
       "  /* fitted */\n",
       "  background-color: var(--sklearn-color-fitted-level-3);\n",
       "}\n",
       "</style><div id=\"sk-container-id-1\" class=\"sk-top-container\"><div class=\"sk-text-repr-fallback\"><pre>BayesSearchCV(cv=RandomRunNFoldsKFold(n_splits=10, random_state=42, run_splits=None),\n",
       "              estimator=XGBClassifier(base_score=None, booster=None,\n",
       "                                      callbacks=None, colsample_bylevel=None,\n",
       "                                      colsample_bynode=None,\n",
       "                                      colsample_bytree=None, device=&#x27;cuda&#x27;,\n",
       "                                      early_stopping_rounds=None,\n",
       "                                      enable_categorical=True, eval_metric=None,\n",
       "                                      feature_types=None, gamma=None,\n",
       "                                      grow_policy=None, imp...\n",
       "                             &#x27;min_child_weight&#x27;: Real(low=0.001, high=10, prior=&#x27;log-uniform&#x27;, transform=&#x27;normalize&#x27;),\n",
       "                             &#x27;n_estimators&#x27;: Integer(low=100, high=3000, prior=&#x27;uniform&#x27;, transform=&#x27;normalize&#x27;),\n",
       "                             &#x27;reg_alpha&#x27;: Real(low=0.001, high=10, prior=&#x27;log-uniform&#x27;, transform=&#x27;normalize&#x27;),\n",
       "                             &#x27;reg_lambda&#x27;: Real(low=0.001, high=10, prior=&#x27;log-uniform&#x27;, transform=&#x27;normalize&#x27;),\n",
       "                             &#x27;subsample&#x27;: Real(low=0.5, high=1.0, prior=&#x27;uniform&#x27;, transform=&#x27;normalize&#x27;)},\n",
       "              verbose=2)</pre><b>In a Jupyter environment, please rerun this cell to show the HTML representation or trust the notebook. <br />On GitHub, the HTML representation is unable to render, please try loading this page with nbviewer.org.</b></div><div class=\"sk-container\" hidden><div class=\"sk-item sk-dashed-wrapped\"><div class=\"sk-label-container\"><div class=\"sk-label fitted sk-toggleable\"><input class=\"sk-toggleable__control sk-hidden--visually\" id=\"sk-estimator-id-1\" type=\"checkbox\" ><label for=\"sk-estimator-id-1\" class=\"sk-toggleable__label fitted sk-toggleable__label-arrow fitted\">&nbsp;BayesSearchCV<span class=\"sk-estimator-doc-link fitted\">i<span>Fitted</span></span></label><div class=\"sk-toggleable__content fitted\"><pre>BayesSearchCV(cv=RandomRunNFoldsKFold(n_splits=10, random_state=42, run_splits=None),\n",
       "              estimator=XGBClassifier(base_score=None, booster=None,\n",
       "                                      callbacks=None, colsample_bylevel=None,\n",
       "                                      colsample_bynode=None,\n",
       "                                      colsample_bytree=None, device=&#x27;cuda&#x27;,\n",
       "                                      early_stopping_rounds=None,\n",
       "                                      enable_categorical=True, eval_metric=None,\n",
       "                                      feature_types=None, gamma=None,\n",
       "                                      grow_policy=None, imp...\n",
       "                             &#x27;min_child_weight&#x27;: Real(low=0.001, high=10, prior=&#x27;log-uniform&#x27;, transform=&#x27;normalize&#x27;),\n",
       "                             &#x27;n_estimators&#x27;: Integer(low=100, high=3000, prior=&#x27;uniform&#x27;, transform=&#x27;normalize&#x27;),\n",
       "                             &#x27;reg_alpha&#x27;: Real(low=0.001, high=10, prior=&#x27;log-uniform&#x27;, transform=&#x27;normalize&#x27;),\n",
       "                             &#x27;reg_lambda&#x27;: Real(low=0.001, high=10, prior=&#x27;log-uniform&#x27;, transform=&#x27;normalize&#x27;),\n",
       "                             &#x27;subsample&#x27;: Real(low=0.5, high=1.0, prior=&#x27;uniform&#x27;, transform=&#x27;normalize&#x27;)},\n",
       "              verbose=2)</pre></div> </div></div><div class=\"sk-parallel\"><div class=\"sk-parallel-item\"><div class=\"sk-item\"><div class=\"sk-label-container\"><div class=\"sk-label fitted sk-toggleable\"><input class=\"sk-toggleable__control sk-hidden--visually\" id=\"sk-estimator-id-2\" type=\"checkbox\" ><label for=\"sk-estimator-id-2\" class=\"sk-toggleable__label fitted sk-toggleable__label-arrow fitted\">best_estimator_: XGBClassifier</label><div class=\"sk-toggleable__content fitted\"><pre>XGBClassifier(base_score=None, booster=None, callbacks=None,\n",
       "              colsample_bylevel=None, colsample_bynode=None,\n",
       "              colsample_bytree=None, device=&#x27;cuda&#x27;, early_stopping_rounds=None,\n",
       "              enable_categorical=True, eval_metric=None, feature_types=None,\n",
       "              gamma=0.012763671480718157, grow_policy=None,\n",
       "              importance_type=None, interaction_constraints=None,\n",
       "              learning_rate=0.028455838738175733, max_bin=None,\n",
       "              max_cat_threshold=None, max_cat_to_onehot=None,\n",
       "              max_delta_step=0.18980855089156243, max_depth=9, max_leaves=None,\n",
       "              min_child_weight=0.01722674341692125, missing=nan,\n",
       "              monotone_constraints=None, multi_strategy=None, n_estimators=2408,\n",
       "              n_jobs=None, num_parallel_tree=None, objective=&#x27;multi:softmax&#x27;, ...)</pre></div> </div></div><div class=\"sk-serial\"><div class=\"sk-item\"><div class=\"sk-estimator fitted sk-toggleable\"><input class=\"sk-toggleable__control sk-hidden--visually\" id=\"sk-estimator-id-3\" type=\"checkbox\" ><label for=\"sk-estimator-id-3\" class=\"sk-toggleable__label fitted sk-toggleable__label-arrow fitted\">XGBClassifier</label><div class=\"sk-toggleable__content fitted\"><pre>XGBClassifier(base_score=None, booster=None, callbacks=None,\n",
       "              colsample_bylevel=None, colsample_bynode=None,\n",
       "              colsample_bytree=None, device=&#x27;cuda&#x27;, early_stopping_rounds=None,\n",
       "              enable_categorical=True, eval_metric=None, feature_types=None,\n",
       "              gamma=0.012763671480718157, grow_policy=None,\n",
       "              importance_type=None, interaction_constraints=None,\n",
       "              learning_rate=0.028455838738175733, max_bin=None,\n",
       "              max_cat_threshold=None, max_cat_to_onehot=None,\n",
       "              max_delta_step=0.18980855089156243, max_depth=9, max_leaves=None,\n",
       "              min_child_weight=0.01722674341692125, missing=nan,\n",
       "              monotone_constraints=None, multi_strategy=None, n_estimators=2408,\n",
       "              n_jobs=None, num_parallel_tree=None, objective=&#x27;multi:softmax&#x27;, ...)</pre></div> </div></div></div></div></div></div></div></div></div>"
      ],
      "text/plain": [
       "BayesSearchCV(cv=RandomRunNFoldsKFold(n_splits=10, random_state=42, run_splits=None),\n",
       "              estimator=XGBClassifier(base_score=None, booster=None,\n",
       "                                      callbacks=None, colsample_bylevel=None,\n",
       "                                      colsample_bynode=None,\n",
       "                                      colsample_bytree=None, device='cuda',\n",
       "                                      early_stopping_rounds=None,\n",
       "                                      enable_categorical=True, eval_metric=None,\n",
       "                                      feature_types=None, gamma=None,\n",
       "                                      grow_policy=None, imp...\n",
       "                             'min_child_weight': Real(low=0.001, high=10, prior='log-uniform', transform='normalize'),\n",
       "                             'n_estimators': Integer(low=100, high=3000, prior='uniform', transform='normalize'),\n",
       "                             'reg_alpha': Real(low=0.001, high=10, prior='log-uniform', transform='normalize'),\n",
       "                             'reg_lambda': Real(low=0.001, high=10, prior='log-uniform', transform='normalize'),\n",
       "                             'subsample': Real(low=0.5, high=1.0, prior='uniform', transform='normalize')},\n",
       "              verbose=2)"
      ]
     },
     "execution_count": 26,
     "metadata": {},
     "output_type": "execute_result"
    }
   ],
   "source": [
    "bayes_search.fit(Xe1, ye1)"
   ]
  },
  {
   "cell_type": "code",
   "execution_count": 27,
   "id": "efc37804-362f-4d30-93c4-2acae816583f",
   "metadata": {},
   "outputs": [
    {
     "data": {
      "text/plain": [
       "OrderedDict([('gamma', 0.012763671480718157),\n",
       "             ('learning_rate', 0.028455838738175733),\n",
       "             ('max_delta_step', 0.18980855089156243),\n",
       "             ('max_depth', 9),\n",
       "             ('min_child_weight', 0.01722674341692125),\n",
       "             ('n_estimators', 2408),\n",
       "             ('reg_alpha', 0.9637077895499311),\n",
       "             ('reg_lambda', 0.13134623063011344),\n",
       "             ('subsample', 0.947958052859203)])"
      ]
     },
     "execution_count": 27,
     "metadata": {},
     "output_type": "execute_result"
    }
   ],
   "source": [
    "bayes_search.best_params_"
   ]
  },
  {
   "cell_type": "code",
   "execution_count": null,
   "id": "a21c64cb-d935-40dd-93e0-1de4dee02b59",
   "metadata": {},
   "outputs": [],
   "source": []
  },
  {
   "cell_type": "markdown",
   "id": "3e8b4e0c-1e4e-4df5-afeb-40f33d467c8a",
   "metadata": {},
   "source": [
    "### XgbClassifier for Step1: Figure out effects of features on Ecnomic_trend"
   ]
  },
  {
   "cell_type": "code",
   "execution_count": 30,
   "id": "e7121925-0134-43b4-b346-e1a592ce7383",
   "metadata": {},
   "outputs": [
    {
     "data": {
      "text/html": [
       "<style>#sk-container-id-2 {\n",
       "  /* Definition of color scheme common for light and dark mode */\n",
       "  --sklearn-color-text: black;\n",
       "  --sklearn-color-line: gray;\n",
       "  /* Definition of color scheme for unfitted estimators */\n",
       "  --sklearn-color-unfitted-level-0: #fff5e6;\n",
       "  --sklearn-color-unfitted-level-1: #f6e4d2;\n",
       "  --sklearn-color-unfitted-level-2: #ffe0b3;\n",
       "  --sklearn-color-unfitted-level-3: chocolate;\n",
       "  /* Definition of color scheme for fitted estimators */\n",
       "  --sklearn-color-fitted-level-0: #f0f8ff;\n",
       "  --sklearn-color-fitted-level-1: #d4ebff;\n",
       "  --sklearn-color-fitted-level-2: #b3dbfd;\n",
       "  --sklearn-color-fitted-level-3: cornflowerblue;\n",
       "\n",
       "  /* Specific color for light theme */\n",
       "  --sklearn-color-text-on-default-background: var(--sg-text-color, var(--theme-code-foreground, var(--jp-content-font-color1, black)));\n",
       "  --sklearn-color-background: var(--sg-background-color, var(--theme-background, var(--jp-layout-color0, white)));\n",
       "  --sklearn-color-border-box: var(--sg-text-color, var(--theme-code-foreground, var(--jp-content-font-color1, black)));\n",
       "  --sklearn-color-icon: #696969;\n",
       "\n",
       "  @media (prefers-color-scheme: dark) {\n",
       "    /* Redefinition of color scheme for dark theme */\n",
       "    --sklearn-color-text-on-default-background: var(--sg-text-color, var(--theme-code-foreground, var(--jp-content-font-color1, white)));\n",
       "    --sklearn-color-background: var(--sg-background-color, var(--theme-background, var(--jp-layout-color0, #111)));\n",
       "    --sklearn-color-border-box: var(--sg-text-color, var(--theme-code-foreground, var(--jp-content-font-color1, white)));\n",
       "    --sklearn-color-icon: #878787;\n",
       "  }\n",
       "}\n",
       "\n",
       "#sk-container-id-2 {\n",
       "  color: var(--sklearn-color-text);\n",
       "}\n",
       "\n",
       "#sk-container-id-2 pre {\n",
       "  padding: 0;\n",
       "}\n",
       "\n",
       "#sk-container-id-2 input.sk-hidden--visually {\n",
       "  border: 0;\n",
       "  clip: rect(1px 1px 1px 1px);\n",
       "  clip: rect(1px, 1px, 1px, 1px);\n",
       "  height: 1px;\n",
       "  margin: -1px;\n",
       "  overflow: hidden;\n",
       "  padding: 0;\n",
       "  position: absolute;\n",
       "  width: 1px;\n",
       "}\n",
       "\n",
       "#sk-container-id-2 div.sk-dashed-wrapped {\n",
       "  border: 1px dashed var(--sklearn-color-line);\n",
       "  margin: 0 0.4em 0.5em 0.4em;\n",
       "  box-sizing: border-box;\n",
       "  padding-bottom: 0.4em;\n",
       "  background-color: var(--sklearn-color-background);\n",
       "}\n",
       "\n",
       "#sk-container-id-2 div.sk-container {\n",
       "  /* jupyter's `normalize.less` sets `[hidden] { display: none; }`\n",
       "     but bootstrap.min.css set `[hidden] { display: none !important; }`\n",
       "     so we also need the `!important` here to be able to override the\n",
       "     default hidden behavior on the sphinx rendered scikit-learn.org.\n",
       "     See: https://github.com/scikit-learn/scikit-learn/issues/21755 */\n",
       "  display: inline-block !important;\n",
       "  position: relative;\n",
       "}\n",
       "\n",
       "#sk-container-id-2 div.sk-text-repr-fallback {\n",
       "  display: none;\n",
       "}\n",
       "\n",
       "div.sk-parallel-item,\n",
       "div.sk-serial,\n",
       "div.sk-item {\n",
       "  /* draw centered vertical line to link estimators */\n",
       "  background-image: linear-gradient(var(--sklearn-color-text-on-default-background), var(--sklearn-color-text-on-default-background));\n",
       "  background-size: 2px 100%;\n",
       "  background-repeat: no-repeat;\n",
       "  background-position: center center;\n",
       "}\n",
       "\n",
       "/* Parallel-specific style estimator block */\n",
       "\n",
       "#sk-container-id-2 div.sk-parallel-item::after {\n",
       "  content: \"\";\n",
       "  width: 100%;\n",
       "  border-bottom: 2px solid var(--sklearn-color-text-on-default-background);\n",
       "  flex-grow: 1;\n",
       "}\n",
       "\n",
       "#sk-container-id-2 div.sk-parallel {\n",
       "  display: flex;\n",
       "  align-items: stretch;\n",
       "  justify-content: center;\n",
       "  background-color: var(--sklearn-color-background);\n",
       "  position: relative;\n",
       "}\n",
       "\n",
       "#sk-container-id-2 div.sk-parallel-item {\n",
       "  display: flex;\n",
       "  flex-direction: column;\n",
       "}\n",
       "\n",
       "#sk-container-id-2 div.sk-parallel-item:first-child::after {\n",
       "  align-self: flex-end;\n",
       "  width: 50%;\n",
       "}\n",
       "\n",
       "#sk-container-id-2 div.sk-parallel-item:last-child::after {\n",
       "  align-self: flex-start;\n",
       "  width: 50%;\n",
       "}\n",
       "\n",
       "#sk-container-id-2 div.sk-parallel-item:only-child::after {\n",
       "  width: 0;\n",
       "}\n",
       "\n",
       "/* Serial-specific style estimator block */\n",
       "\n",
       "#sk-container-id-2 div.sk-serial {\n",
       "  display: flex;\n",
       "  flex-direction: column;\n",
       "  align-items: center;\n",
       "  background-color: var(--sklearn-color-background);\n",
       "  padding-right: 1em;\n",
       "  padding-left: 1em;\n",
       "}\n",
       "\n",
       "\n",
       "/* Toggleable style: style used for estimator/Pipeline/ColumnTransformer box that is\n",
       "clickable and can be expanded/collapsed.\n",
       "- Pipeline and ColumnTransformer use this feature and define the default style\n",
       "- Estimators will overwrite some part of the style using the `sk-estimator` class\n",
       "*/\n",
       "\n",
       "/* Pipeline and ColumnTransformer style (default) */\n",
       "\n",
       "#sk-container-id-2 div.sk-toggleable {\n",
       "  /* Default theme specific background. It is overwritten whether we have a\n",
       "  specific estimator or a Pipeline/ColumnTransformer */\n",
       "  background-color: var(--sklearn-color-background);\n",
       "}\n",
       "\n",
       "/* Toggleable label */\n",
       "#sk-container-id-2 label.sk-toggleable__label {\n",
       "  cursor: pointer;\n",
       "  display: block;\n",
       "  width: 100%;\n",
       "  margin-bottom: 0;\n",
       "  padding: 0.5em;\n",
       "  box-sizing: border-box;\n",
       "  text-align: center;\n",
       "}\n",
       "\n",
       "#sk-container-id-2 label.sk-toggleable__label-arrow:before {\n",
       "  /* Arrow on the left of the label */\n",
       "  content: \"▸\";\n",
       "  float: left;\n",
       "  margin-right: 0.25em;\n",
       "  color: var(--sklearn-color-icon);\n",
       "}\n",
       "\n",
       "#sk-container-id-2 label.sk-toggleable__label-arrow:hover:before {\n",
       "  color: var(--sklearn-color-text);\n",
       "}\n",
       "\n",
       "/* Toggleable content - dropdown */\n",
       "\n",
       "#sk-container-id-2 div.sk-toggleable__content {\n",
       "  max-height: 0;\n",
       "  max-width: 0;\n",
       "  overflow: hidden;\n",
       "  text-align: left;\n",
       "  /* unfitted */\n",
       "  background-color: var(--sklearn-color-unfitted-level-0);\n",
       "}\n",
       "\n",
       "#sk-container-id-2 div.sk-toggleable__content.fitted {\n",
       "  /* fitted */\n",
       "  background-color: var(--sklearn-color-fitted-level-0);\n",
       "}\n",
       "\n",
       "#sk-container-id-2 div.sk-toggleable__content pre {\n",
       "  margin: 0.2em;\n",
       "  border-radius: 0.25em;\n",
       "  color: var(--sklearn-color-text);\n",
       "  /* unfitted */\n",
       "  background-color: var(--sklearn-color-unfitted-level-0);\n",
       "}\n",
       "\n",
       "#sk-container-id-2 div.sk-toggleable__content.fitted pre {\n",
       "  /* unfitted */\n",
       "  background-color: var(--sklearn-color-fitted-level-0);\n",
       "}\n",
       "\n",
       "#sk-container-id-2 input.sk-toggleable__control:checked~div.sk-toggleable__content {\n",
       "  /* Expand drop-down */\n",
       "  max-height: 200px;\n",
       "  max-width: 100%;\n",
       "  overflow: auto;\n",
       "}\n",
       "\n",
       "#sk-container-id-2 input.sk-toggleable__control:checked~label.sk-toggleable__label-arrow:before {\n",
       "  content: \"▾\";\n",
       "}\n",
       "\n",
       "/* Pipeline/ColumnTransformer-specific style */\n",
       "\n",
       "#sk-container-id-2 div.sk-label input.sk-toggleable__control:checked~label.sk-toggleable__label {\n",
       "  color: var(--sklearn-color-text);\n",
       "  background-color: var(--sklearn-color-unfitted-level-2);\n",
       "}\n",
       "\n",
       "#sk-container-id-2 div.sk-label.fitted input.sk-toggleable__control:checked~label.sk-toggleable__label {\n",
       "  background-color: var(--sklearn-color-fitted-level-2);\n",
       "}\n",
       "\n",
       "/* Estimator-specific style */\n",
       "\n",
       "/* Colorize estimator box */\n",
       "#sk-container-id-2 div.sk-estimator input.sk-toggleable__control:checked~label.sk-toggleable__label {\n",
       "  /* unfitted */\n",
       "  background-color: var(--sklearn-color-unfitted-level-2);\n",
       "}\n",
       "\n",
       "#sk-container-id-2 div.sk-estimator.fitted input.sk-toggleable__control:checked~label.sk-toggleable__label {\n",
       "  /* fitted */\n",
       "  background-color: var(--sklearn-color-fitted-level-2);\n",
       "}\n",
       "\n",
       "#sk-container-id-2 div.sk-label label.sk-toggleable__label,\n",
       "#sk-container-id-2 div.sk-label label {\n",
       "  /* The background is the default theme color */\n",
       "  color: var(--sklearn-color-text-on-default-background);\n",
       "}\n",
       "\n",
       "/* On hover, darken the color of the background */\n",
       "#sk-container-id-2 div.sk-label:hover label.sk-toggleable__label {\n",
       "  color: var(--sklearn-color-text);\n",
       "  background-color: var(--sklearn-color-unfitted-level-2);\n",
       "}\n",
       "\n",
       "/* Label box, darken color on hover, fitted */\n",
       "#sk-container-id-2 div.sk-label.fitted:hover label.sk-toggleable__label.fitted {\n",
       "  color: var(--sklearn-color-text);\n",
       "  background-color: var(--sklearn-color-fitted-level-2);\n",
       "}\n",
       "\n",
       "/* Estimator label */\n",
       "\n",
       "#sk-container-id-2 div.sk-label label {\n",
       "  font-family: monospace;\n",
       "  font-weight: bold;\n",
       "  display: inline-block;\n",
       "  line-height: 1.2em;\n",
       "}\n",
       "\n",
       "#sk-container-id-2 div.sk-label-container {\n",
       "  text-align: center;\n",
       "}\n",
       "\n",
       "/* Estimator-specific */\n",
       "#sk-container-id-2 div.sk-estimator {\n",
       "  font-family: monospace;\n",
       "  border: 1px dotted var(--sklearn-color-border-box);\n",
       "  border-radius: 0.25em;\n",
       "  box-sizing: border-box;\n",
       "  margin-bottom: 0.5em;\n",
       "  /* unfitted */\n",
       "  background-color: var(--sklearn-color-unfitted-level-0);\n",
       "}\n",
       "\n",
       "#sk-container-id-2 div.sk-estimator.fitted {\n",
       "  /* fitted */\n",
       "  background-color: var(--sklearn-color-fitted-level-0);\n",
       "}\n",
       "\n",
       "/* on hover */\n",
       "#sk-container-id-2 div.sk-estimator:hover {\n",
       "  /* unfitted */\n",
       "  background-color: var(--sklearn-color-unfitted-level-2);\n",
       "}\n",
       "\n",
       "#sk-container-id-2 div.sk-estimator.fitted:hover {\n",
       "  /* fitted */\n",
       "  background-color: var(--sklearn-color-fitted-level-2);\n",
       "}\n",
       "\n",
       "/* Specification for estimator info (e.g. \"i\" and \"?\") */\n",
       "\n",
       "/* Common style for \"i\" and \"?\" */\n",
       "\n",
       ".sk-estimator-doc-link,\n",
       "a:link.sk-estimator-doc-link,\n",
       "a:visited.sk-estimator-doc-link {\n",
       "  float: right;\n",
       "  font-size: smaller;\n",
       "  line-height: 1em;\n",
       "  font-family: monospace;\n",
       "  background-color: var(--sklearn-color-background);\n",
       "  border-radius: 1em;\n",
       "  height: 1em;\n",
       "  width: 1em;\n",
       "  text-decoration: none !important;\n",
       "  margin-left: 1ex;\n",
       "  /* unfitted */\n",
       "  border: var(--sklearn-color-unfitted-level-1) 1pt solid;\n",
       "  color: var(--sklearn-color-unfitted-level-1);\n",
       "}\n",
       "\n",
       ".sk-estimator-doc-link.fitted,\n",
       "a:link.sk-estimator-doc-link.fitted,\n",
       "a:visited.sk-estimator-doc-link.fitted {\n",
       "  /* fitted */\n",
       "  border: var(--sklearn-color-fitted-level-1) 1pt solid;\n",
       "  color: var(--sklearn-color-fitted-level-1);\n",
       "}\n",
       "\n",
       "/* On hover */\n",
       "div.sk-estimator:hover .sk-estimator-doc-link:hover,\n",
       ".sk-estimator-doc-link:hover,\n",
       "div.sk-label-container:hover .sk-estimator-doc-link:hover,\n",
       ".sk-estimator-doc-link:hover {\n",
       "  /* unfitted */\n",
       "  background-color: var(--sklearn-color-unfitted-level-3);\n",
       "  color: var(--sklearn-color-background);\n",
       "  text-decoration: none;\n",
       "}\n",
       "\n",
       "div.sk-estimator.fitted:hover .sk-estimator-doc-link.fitted:hover,\n",
       ".sk-estimator-doc-link.fitted:hover,\n",
       "div.sk-label-container:hover .sk-estimator-doc-link.fitted:hover,\n",
       ".sk-estimator-doc-link.fitted:hover {\n",
       "  /* fitted */\n",
       "  background-color: var(--sklearn-color-fitted-level-3);\n",
       "  color: var(--sklearn-color-background);\n",
       "  text-decoration: none;\n",
       "}\n",
       "\n",
       "/* Span, style for the box shown on hovering the info icon */\n",
       ".sk-estimator-doc-link span {\n",
       "  display: none;\n",
       "  z-index: 9999;\n",
       "  position: relative;\n",
       "  font-weight: normal;\n",
       "  right: .2ex;\n",
       "  padding: .5ex;\n",
       "  margin: .5ex;\n",
       "  width: min-content;\n",
       "  min-width: 20ex;\n",
       "  max-width: 50ex;\n",
       "  color: var(--sklearn-color-text);\n",
       "  box-shadow: 2pt 2pt 4pt #999;\n",
       "  /* unfitted */\n",
       "  background: var(--sklearn-color-unfitted-level-0);\n",
       "  border: .5pt solid var(--sklearn-color-unfitted-level-3);\n",
       "}\n",
       "\n",
       ".sk-estimator-doc-link.fitted span {\n",
       "  /* fitted */\n",
       "  background: var(--sklearn-color-fitted-level-0);\n",
       "  border: var(--sklearn-color-fitted-level-3);\n",
       "}\n",
       "\n",
       ".sk-estimator-doc-link:hover span {\n",
       "  display: block;\n",
       "}\n",
       "\n",
       "/* \"?\"-specific style due to the `<a>` HTML tag */\n",
       "\n",
       "#sk-container-id-2 a.estimator_doc_link {\n",
       "  float: right;\n",
       "  font-size: 1rem;\n",
       "  line-height: 1em;\n",
       "  font-family: monospace;\n",
       "  background-color: var(--sklearn-color-background);\n",
       "  border-radius: 1rem;\n",
       "  height: 1rem;\n",
       "  width: 1rem;\n",
       "  text-decoration: none;\n",
       "  /* unfitted */\n",
       "  color: var(--sklearn-color-unfitted-level-1);\n",
       "  border: var(--sklearn-color-unfitted-level-1) 1pt solid;\n",
       "}\n",
       "\n",
       "#sk-container-id-2 a.estimator_doc_link.fitted {\n",
       "  /* fitted */\n",
       "  border: var(--sklearn-color-fitted-level-1) 1pt solid;\n",
       "  color: var(--sklearn-color-fitted-level-1);\n",
       "}\n",
       "\n",
       "/* On hover */\n",
       "#sk-container-id-2 a.estimator_doc_link:hover {\n",
       "  /* unfitted */\n",
       "  background-color: var(--sklearn-color-unfitted-level-3);\n",
       "  color: var(--sklearn-color-background);\n",
       "  text-decoration: none;\n",
       "}\n",
       "\n",
       "#sk-container-id-2 a.estimator_doc_link.fitted:hover {\n",
       "  /* fitted */\n",
       "  background-color: var(--sklearn-color-fitted-level-3);\n",
       "}\n",
       "</style><div id=\"sk-container-id-2\" class=\"sk-top-container\"><div class=\"sk-text-repr-fallback\"><pre>XGBClassifier(base_score=None, booster=None, callbacks=None,\n",
       "              colsample_bylevel=None, colsample_bynode=None,\n",
       "              colsample_bytree=None, device=&#x27;cuda&#x27;, early_stopping_rounds=None,\n",
       "              enable_categorical=True, eval_metric=None, feature_types=None,\n",
       "              gamma=0.012763671480718157, grow_policy=None,\n",
       "              importance_type=None, interaction_constraints=None,\n",
       "              learning_rate=0.028455838738175733, max_bin=None,\n",
       "              max_cat_threshold=None, max_cat_to_onehot=None,\n",
       "              max_delta_step=0.18980855089156243, max_depth=9, max_leaves=None,\n",
       "              min_child_weight=0.01722674341692125, missing=nan,\n",
       "              monotone_constraints=None, multi_strategy=None, n_estimators=2408,\n",
       "              n_jobs=-1, num_class=3, num_parallel_tree=None, ...)</pre><b>In a Jupyter environment, please rerun this cell to show the HTML representation or trust the notebook. <br />On GitHub, the HTML representation is unable to render, please try loading this page with nbviewer.org.</b></div><div class=\"sk-container\" hidden><div class=\"sk-item\"><div class=\"sk-estimator fitted sk-toggleable\"><input class=\"sk-toggleable__control sk-hidden--visually\" id=\"sk-estimator-id-4\" type=\"checkbox\" checked><label for=\"sk-estimator-id-4\" class=\"sk-toggleable__label fitted sk-toggleable__label-arrow fitted\">&nbsp;XGBClassifier<span class=\"sk-estimator-doc-link fitted\">i<span>Fitted</span></span></label><div class=\"sk-toggleable__content fitted\"><pre>XGBClassifier(base_score=None, booster=None, callbacks=None,\n",
       "              colsample_bylevel=None, colsample_bynode=None,\n",
       "              colsample_bytree=None, device=&#x27;cuda&#x27;, early_stopping_rounds=None,\n",
       "              enable_categorical=True, eval_metric=None, feature_types=None,\n",
       "              gamma=0.012763671480718157, grow_policy=None,\n",
       "              importance_type=None, interaction_constraints=None,\n",
       "              learning_rate=0.028455838738175733, max_bin=None,\n",
       "              max_cat_threshold=None, max_cat_to_onehot=None,\n",
       "              max_delta_step=0.18980855089156243, max_depth=9, max_leaves=None,\n",
       "              min_child_weight=0.01722674341692125, missing=nan,\n",
       "              monotone_constraints=None, multi_strategy=None, n_estimators=2408,\n",
       "              n_jobs=-1, num_class=3, num_parallel_tree=None, ...)</pre></div> </div></div></div></div>"
      ],
      "text/plain": [
       "XGBClassifier(base_score=None, booster=None, callbacks=None,\n",
       "              colsample_bylevel=None, colsample_bynode=None,\n",
       "              colsample_bytree=None, device='cuda', early_stopping_rounds=None,\n",
       "              enable_categorical=True, eval_metric=None, feature_types=None,\n",
       "              gamma=0.012763671480718157, grow_policy=None,\n",
       "              importance_type=None, interaction_constraints=None,\n",
       "              learning_rate=0.028455838738175733, max_bin=None,\n",
       "              max_cat_threshold=None, max_cat_to_onehot=None,\n",
       "              max_delta_step=0.18980855089156243, max_depth=9, max_leaves=None,\n",
       "              min_child_weight=0.01722674341692125, missing=nan,\n",
       "              monotone_constraints=None, multi_strategy=None, n_estimators=2408,\n",
       "              n_jobs=-1, num_class=3, num_parallel_tree=None, ...)"
      ]
     },
     "execution_count": 30,
     "metadata": {},
     "output_type": "execute_result"
    }
   ],
   "source": [
    "model = xgb.XGBClassifier(objective='multi:softmax',num_class=3, n_jobs=-1, device='cuda',\n",
    "                         tree_method='hist', random_state=42, enable_categorical=True, **bayes_research.best_params_)\n",
    "model.fit(Xe1_train, ye1_train)"
   ]
  },
  {
   "cell_type": "code",
   "execution_count": 31,
   "id": "7d385953-cf30-4555-994c-1c1347b12c60",
   "metadata": {},
   "outputs": [],
   "source": [
    "ye1_pred = model.predict(Xe1_test)"
   ]
  },
  {
   "cell_type": "code",
   "execution_count": 32,
   "id": "843feda9-6e1b-4490-b581-9a381311cf44",
   "metadata": {},
   "outputs": [
    {
     "data": {
      "text/plain": [
       "(196748,)"
      ]
     },
     "execution_count": 32,
     "metadata": {},
     "output_type": "execute_result"
    }
   ],
   "source": [
    "ye1_pred.shape"
   ]
  },
  {
   "cell_type": "code",
   "execution_count": 33,
   "id": "fab17835-bc48-4e39-8afc-e4a940531ca1",
   "metadata": {},
   "outputs": [
    {
     "data": {
      "text/plain": [
       "array([1, 1, 1, 1, 0], dtype=int32)"
      ]
     },
     "execution_count": 33,
     "metadata": {},
     "output_type": "execute_result"
    }
   ],
   "source": [
    "ye1_pred[:5]"
   ]
  },
  {
   "cell_type": "code",
   "execution_count": 34,
   "id": "43a0e7f7-5bb8-4b6c-852e-a001982263fb",
   "metadata": {},
   "outputs": [
    {
     "name": "stdout",
     "output_type": "stream",
     "text": [
      "Accuracy: 0.669246955496371\n"
     ]
    }
   ],
   "source": [
    "accuracy = accuracy_score(ye1_test, ye1_pred)\n",
    "print(f\"Accuracy: {accuracy}\")"
   ]
  },
  {
   "cell_type": "code",
   "execution_count": 35,
   "id": "688a29eb-8e42-4851-b4de-949bd82b5922",
   "metadata": {},
   "outputs": [],
   "source": [
    "ye1_train_pred = model.predict(Xe1_train)"
   ]
  },
  {
   "cell_type": "markdown",
   "id": "fdf65c28-6ca6-4677-875d-24098b7c57ea",
   "metadata": {},
   "source": [
    "#### Check xgbClassifier model"
   ]
  },
  {
   "cell_type": "code",
   "execution_count": 36,
   "id": "731a30bf-e42d-470f-9b20-ae71909c62f4",
   "metadata": {},
   "outputs": [
    {
     "data": {
      "image/png": "[encoded data removed]",
      "text/plain": [
       "<Figure size 640x480 with 1 Axes>"
      ]
     },
     "metadata": {},
     "output_type": "display_data"
    }
   ],
   "source": [
    "plot_importance(model)\n",
    "plt.show()"
   ]
  },
  {
   "cell_type": "code",
   "execution_count": null,
   "id": "6623a198-b4ca-416e-a47b-f4dd3cdf0a0f",
   "metadata": {},
   "outputs": [],
   "source": []
  },
  {
   "cell_type": "code",
   "execution_count": null,
   "id": "1ab6073a-4fd1-4046-8741-878a390f38ca",
   "metadata": {},
   "outputs": [],
   "source": []
  },
  {
   "cell_type": "markdown",
   "id": "de310542-2b88-445e-a561-3e233c234433",
   "metadata": {},
   "source": [
    "### SHAP for Step 1"
   ]
  },
  {
   "cell_type": "markdown",
   "id": "1a888eea-d22c-479f-a07d-64159d5a31e2",
   "metadata": {},
   "source": [
    "#### SHAP values"
   ]
  },
  {
   "cell_type": "code",
   "execution_count": 29,
   "id": "354348e7-29a2-4477-a131-f266b3623a56",
   "metadata": {},
   "outputs": [],
   "source": [
    "explainer = shap.TreeExplainer(model)"
   ]
  },
  {
   "cell_type": "code",
   "execution_count": 30,
   "id": "5b432b99-d69b-4494-b770-e290f1c068ae",
   "metadata": {},
   "outputs": [],
   "source": [
    "shap_values = explainer.shap_values(Xe1_train)"
   ]
  },
  {
   "cell_type": "code",
   "execution_count": 31,
   "id": "e738c7e3-9ff7-40dd-9740-8ef24be3449e",
   "metadata": {},
   "outputs": [
    {
     "name": "stdout",
     "output_type": "stream",
     "text": [
      "SHAP values shape: (1770730, 65, 3)\n"
     ]
    }
   ],
   "source": [
    "print(f\"SHAP values shape: {shap_values.shape}\")"
   ]
  },
  {
   "cell_type": "code",
   "execution_count": 49,
   "id": "b9d97a29-df78-46af-8183-16cb32f6fec7",
   "metadata": {},
   "outputs": [
    {
     "name": "stdout",
     "output_type": "stream",
     "text": [
      "SHAP values shape: (65, 3)\n"
     ]
    }
   ],
   "source": [
    "print(f'SHAP values shape: {shap_values[1].shape}')  # For class 1"
   ]
  },
  {
   "cell_type": "code",
   "execution_count": 53,
   "id": "bf8a8401-c23c-4ade-aa8b-280586ab2fb6",
   "metadata": {},
   "outputs": [
    {
     "data": {
      "image/png": "[encoded data removed]",
      "text/plain": [
       "<Figure size 1600x900 with 3 Axes>"
      ]
     },
     "metadata": {},
     "output_type": "display_data"
    }
   ],
   "source": [
    "shap.summary_plot(shap_values, Xe1_train, feature_names=feature_names, plot_type=\"bar\", max_display=10)"
   ]
  },
  {
   "cell_type": "markdown",
   "id": "47d190d1-03f7-4186-88bb-b62f8f2757da",
   "metadata": {},
   "source": [
    "### Hyperparameter for Step 1"
   ]
  },
  {
   "cell_type": "code",
   "execution_count": 33,
   "id": "57e9f5a3-6205-46ff-bc2f-82b743ec9c3b",
   "metadata": {},
   "outputs": [],
   "source": [
    "n_estimators_list = list(range(100, 300, 50))\n",
    "learning_rate_list = [0.05, 0.1]\n",
    "max_depth_list = [5,10,15]\n",
    "subsample_list = [0.6, 0.7, 0.8, 0.9, 1]"
   ]
  },
  {
   "cell_type": "code",
   "execution_count": 34,
   "id": "0e7c148f-f993-4ea7-b254-14cb49490a1b",
   "metadata": {},
   "outputs": [
    {
     "name": "stdout",
     "output_type": "stream",
     "text": [
      "[50, 0.05, 5, 0.6, 99.4079357100152, 99.40792611208336]\n",
      "[50, 0.05, 5, 0.7, 99.40793749453941, 99.40792790509471]\n",
      "[50, 0.05, 5, 0.8, 99.40793927905838, 99.40792969810079]\n",
      "[50, 0.05, 5, 0.9, 99.40793927905838, 99.40792969810079]\n",
      "[50, 0.05, 5, 1, 99.40794022132275, 99.40793063565667]\n",
      "[50, 0.05, 10, 0.6, 99.4079357100152, 99.40792611208336]\n",
      "[50, 0.05, 10, 0.7, 99.40793749453941, 99.40792790509471]\n",
      "[50, 0.05, 10, 0.8, 99.40793927905838, 99.40792969810079]\n",
      "[50, 0.05, 10, 0.9, 99.40793927905838, 99.40792969810079]\n",
      "[50, 0.05, 10, 1, 99.40794022132275, 99.40793063565667]\n",
      "[50, 0.05, 15, 0.6, 99.4079357100152, 99.40792611208336]\n",
      "[50, 0.05, 15, 0.7, 99.40793749453941, 99.40792790509471]\n",
      "[50, 0.05, 15, 0.8, 99.40793927905838, 99.40792969810079]\n",
      "[50, 0.05, 15, 0.9, 99.40793927905838, 99.40792969810079]\n",
      "[50, 0.05, 15, 1, 99.40794022132275, 99.40793063565667]\n",
      "[50, 0.1, 5, 0.6, 99.99734373387524, 99.99734369148592]\n",
      "[50, 0.1, 5, 0.7, 99.99734373387524, 99.99734369148592]\n",
      "[50, 0.1, 5, 0.8, 99.99734373387524, 99.99734369148592]\n",
      "[50, 0.1, 5, 0.9, 99.99734373387524, 99.99734369148592]\n",
      "[50, 0.1, 5, 1, 99.99734373387524, 99.99734369148592]\n",
      "[50, 0.1, 10, 0.6, 99.99734373387524, 99.99734369148592]\n",
      "[50, 0.1, 10, 0.7, 99.99734373387524, 99.99734369148592]\n",
      "[50, 0.1, 10, 0.8, 99.99734373387524, 99.99734369148592]\n",
      "[50, 0.1, 10, 0.9, 99.99734373387524, 99.99734369148592]\n",
      "[50, 0.1, 10, 1, 99.99734373387524, 99.99734369148592]\n",
      "[50, 0.1, 15, 0.6, 99.99734373387524, 99.99734369148592]\n",
      "[50, 0.1, 15, 0.7, 99.99734373387524, 99.99734369148592]\n",
      "[50, 0.1, 15, 0.8, 99.99734373387524, 99.99734369148592]\n",
      "[50, 0.1, 15, 0.9, 99.99734373387524, 99.99734369148592]\n",
      "[50, 0.1, 15, 1, 99.99734373387524, 99.99734369148592]\n",
      "[100, 0.05, 5, 0.6, 99.9964943899178, 99.9964943318993]\n",
      "[100, 0.05, 5, 0.7, 99.9964943899178, 99.9964943318993]\n",
      "[100, 0.05, 5, 0.8, 99.9964943899178, 99.9964943318993]\n",
      "[100, 0.05, 5, 0.9, 99.9964943899178, 99.9964943318993]\n",
      "[100, 0.05, 5, 1, 99.9964943899178, 99.9964943318993]\n",
      "[100, 0.05, 10, 0.6, 99.9964943899178, 99.9964943318993]\n",
      "[100, 0.05, 10, 0.7, 99.9964943899178, 99.9964943318993]\n",
      "[100, 0.05, 10, 0.8, 99.9964943899178, 99.9964943318993]\n",
      "[100, 0.05, 10, 0.9, 99.9964943899178, 99.9964943318993]\n",
      "[100, 0.05, 10, 1, 99.9964943899178, 99.9964943318993]\n",
      "[100, 0.05, 15, 0.6, 99.9964943899178, 99.9964943318993]\n",
      "[100, 0.05, 15, 0.7, 99.9964943899178, 99.9964943318993]\n",
      "[100, 0.05, 15, 0.8, 99.9964943899178, 99.9964943318993]\n",
      "[100, 0.05, 15, 0.9, 99.9964943899178, 99.9964943318993]\n",
      "[100, 0.05, 15, 1, 99.9964943899178, 99.9964943318993]\n",
      "[100, 0.1, 5, 0.6, 99.99999992867778, 99.99999992867734]\n",
      "[100, 0.1, 5, 0.7, 99.99999992867778, 99.99999992867734]\n",
      "[100, 0.1, 5, 0.8, 99.99999992867778, 99.99999992867734]\n",
      "[100, 0.1, 5, 0.9, 99.99999992867778, 99.99999992867734]\n",
      "[100, 0.1, 5, 1, 99.99999992867778, 99.99999992867734]\n",
      "[100, 0.1, 10, 0.6, 99.99999992867778, 99.99999992867734]\n",
      "[100, 0.1, 10, 0.7, 99.99999992867778, 99.99999992867734]\n",
      "[100, 0.1, 10, 0.8, 99.99999992867778, 99.99999992867734]\n",
      "[100, 0.1, 10, 0.9, 99.99999992867778, 99.99999992867734]\n",
      "[100, 0.1, 10, 1, 99.99999992867778, 99.99999992867734]\n",
      "[100, 0.1, 15, 0.6, 99.99999992867778, 99.99999992867734]\n",
      "[100, 0.1, 15, 0.7, 99.99999992867778, 99.99999992867734]\n",
      "[100, 0.1, 15, 0.8, 99.99999992867778, 99.99999992867734]\n",
      "[100, 0.1, 15, 0.9, 99.99999992867778, 99.99999992867734]\n",
      "[100, 0.1, 15, 1, 99.99999992867778, 99.99999992867734]\n",
      "[150, 0.05, 5, 0.6, 99.99997924152684, 99.99997924113228]\n",
      "[150, 0.05, 5, 0.7, 99.99997924152684, 99.99997924113228]\n",
      "[150, 0.05, 5, 0.8, 99.99997924152684, 99.99997924113228]\n",
      "[150, 0.05, 5, 0.9, 99.99997924152684, 99.99997924113228]\n",
      "[150, 0.05, 5, 1, 99.99997924152684, 99.99997924113228]\n",
      "[150, 0.05, 10, 0.6, 99.99997924152684, 99.99997924113228]\n",
      "[150, 0.05, 10, 0.7, 99.99997924152684, 99.99997924113228]\n",
      "[150, 0.05, 10, 0.8, 99.99997924152684, 99.99997924113228]\n",
      "[150, 0.05, 10, 0.9, 99.99997924152684, 99.99997924113228]\n",
      "[150, 0.05, 10, 1, 99.99997924152684, 99.99997924113228]\n",
      "[150, 0.05, 15, 0.6, 99.99997924152684, 99.99997924113228]\n",
      "[150, 0.05, 15, 0.7, 99.99997924152684, 99.99997924113228]\n",
      "[150, 0.05, 15, 0.8, 99.99997924152684, 99.99997924113228]\n",
      "[150, 0.05, 15, 0.9, 99.99997924152684, 99.99997924113228]\n",
      "[150, 0.05, 15, 1, 99.99997924152684, 99.99997924113228]\n",
      "[150, 0.1, 5, 0.6, 99.99999999982771, 99.99999999982765]\n",
      "[150, 0.1, 5, 0.7, 99.99999999984239, 99.99999999984223]\n",
      "[150, 0.1, 5, 0.8, 99.99999999987122, 99.99999999987122]\n",
      "[150, 0.1, 5, 0.9, 99.99999999987193, 99.99999999987193]\n",
      "[150, 0.1, 5, 1, 99.99999999987193, 99.99999999987193]\n",
      "[150, 0.1, 10, 0.6, 99.99999999982771, 99.99999999982765]\n",
      "[150, 0.1, 10, 0.7, 99.99999999984239, 99.99999999984223]\n",
      "[150, 0.1, 10, 0.8, 99.99999999987122, 99.99999999987122]\n",
      "[150, 0.1, 10, 0.9, 99.99999999987193, 99.99999999987193]\n",
      "[150, 0.1, 10, 1, 99.99999999987193, 99.99999999987193]\n",
      "[150, 0.1, 15, 0.6, 99.99999999982771, 99.99999999982765]\n",
      "[150, 0.1, 15, 0.7, 99.99999999984239, 99.99999999984223]\n",
      "[150, 0.1, 15, 0.8, 99.99999999987122, 99.99999999987122]\n",
      "[150, 0.1, 15, 0.9, 99.99999999987193, 99.99999999987193]\n",
      "[150, 0.1, 15, 1, 99.99999999987193, 99.99999999987193]\n",
      "[200, 0.05, 5, 0.6, 99.99999987714365, 99.9999998771419]\n",
      "[200, 0.05, 5, 0.7, 99.99999987714365, 99.9999998771419]\n",
      "[200, 0.05, 5, 0.8, 99.99999987714365, 99.9999998771419]\n",
      "[200, 0.05, 5, 0.9, 99.99999987714365, 99.9999998771419]\n",
      "[200, 0.05, 5, 1, 99.99999987714365, 99.9999998771419]\n",
      "[200, 0.05, 10, 0.6, 99.99999987714365, 99.9999998771419]\n",
      "[200, 0.05, 10, 0.7, 99.99999987714365, 99.9999998771419]\n",
      "[200, 0.05, 10, 0.8, 99.99999987714365, 99.9999998771419]\n",
      "[200, 0.05, 10, 0.9, 99.99999987714365, 99.9999998771419]\n",
      "[200, 0.05, 10, 1, 99.99999987714365, 99.9999998771419]\n",
      "[200, 0.05, 15, 0.6, 99.99999987714365, 99.9999998771419]\n",
      "[200, 0.05, 15, 0.7, 99.99999987714365, 99.9999998771419]\n",
      "[200, 0.05, 15, 0.8, 99.99999987714365, 99.9999998771419]\n",
      "[200, 0.05, 15, 0.9, 99.99999987714365, 99.9999998771419]\n",
      "[200, 0.05, 15, 1, 99.99999987714365, 99.9999998771419]\n",
      "[200, 0.1, 5, 0.6, 99.99999999982771, 99.99999999982765]\n",
      "[200, 0.1, 5, 0.7, 99.99999999984239, 99.99999999984223]\n",
      "[200, 0.1, 5, 0.8, 99.99999999987122, 99.99999999987122]\n",
      "[200, 0.1, 5, 0.9, 99.99999999987193, 99.99999999987193]\n",
      "[200, 0.1, 5, 1, 99.99999999987193, 99.99999999987193]\n",
      "[200, 0.1, 10, 0.6, 99.99999999982771, 99.99999999982765]\n",
      "[200, 0.1, 10, 0.7, 99.99999999984239, 99.99999999984223]\n",
      "[200, 0.1, 10, 0.8, 99.99999999987122, 99.99999999987122]\n",
      "[200, 0.1, 10, 0.9, 99.99999999987193, 99.99999999987193]\n",
      "[200, 0.1, 10, 1, 99.99999999987193, 99.99999999987193]\n",
      "[200, 0.1, 15, 0.6, 99.99999999982771, 99.99999999982765]\n",
      "[200, 0.1, 15, 0.7, 99.99999999984239, 99.99999999984223]\n",
      "[200, 0.1, 15, 0.8, 99.99999999987122, 99.99999999987122]\n",
      "[200, 0.1, 15, 0.9, 99.99999999987193, 99.99999999987193]\n",
      "[200, 0.1, 15, 1, 99.99999999987193, 99.99999999987193]\n",
      "[250, 0.05, 5, 0.6, 99.9999999990324, 99.99999999903191]\n",
      "[250, 0.05, 5, 0.7, 99.99999999909113, 99.99999999909095]\n",
      "[250, 0.05, 5, 0.8, 99.99999999909113, 99.99999999909095]\n",
      "[250, 0.05, 5, 0.9, 99.99999999909113, 99.99999999909095]\n",
      "[250, 0.05, 5, 1, 99.9999999991432, 99.9999999991433]\n",
      "[250, 0.05, 10, 0.6, 99.9999999990324, 99.99999999903191]\n",
      "[250, 0.05, 10, 0.7, 99.99999999909113, 99.99999999909095]\n",
      "[250, 0.05, 10, 0.8, 99.99999999909113, 99.99999999909095]\n",
      "[250, 0.05, 10, 0.9, 99.99999999909113, 99.99999999909095]\n",
      "[250, 0.05, 10, 1, 99.9999999991432, 99.9999999991433]\n",
      "[250, 0.05, 15, 0.6, 99.9999999990324, 99.99999999903191]\n",
      "[250, 0.05, 15, 0.7, 99.99999999909113, 99.99999999909095]\n",
      "[250, 0.05, 15, 0.8, 99.99999999909113, 99.99999999909095]\n",
      "[250, 0.05, 15, 0.9, 99.99999999909113, 99.99999999909095]\n",
      "[250, 0.05, 15, 1, 99.9999999991432, 99.9999999991433]\n",
      "[250, 0.1, 5, 0.6, 99.99999999982771, 99.99999999982765]\n",
      "[250, 0.1, 5, 0.7, 99.99999999984239, 99.99999999984223]\n",
      "[250, 0.1, 5, 0.8, 99.99999999987122, 99.99999999987122]\n",
      "[250, 0.1, 5, 0.9, 99.99999999987193, 99.99999999987193]\n",
      "[250, 0.1, 5, 1, 99.99999999987193, 99.99999999987193]\n",
      "[250, 0.1, 10, 0.6, 99.99999999982771, 99.99999999982765]\n",
      "[250, 0.1, 10, 0.7, 99.99999999984239, 99.99999999984223]\n",
      "[250, 0.1, 10, 0.8, 99.99999999987122, 99.99999999987122]\n",
      "[250, 0.1, 10, 0.9, 99.99999999987193, 99.99999999987193]\n",
      "[250, 0.1, 10, 1, 99.99999999987193, 99.99999999987193]\n",
      "[250, 0.1, 15, 0.6, 99.99999999982771, 99.99999999982765]\n",
      "[250, 0.1, 15, 0.7, 99.99999999984239, 99.99999999984223]\n",
      "[250, 0.1, 15, 0.8, 99.99999999987122, 99.99999999987122]\n",
      "[250, 0.1, 15, 0.9, 99.99999999987193, 99.99999999987193]\n",
      "[250, 0.1, 15, 1, 99.99999999987193, 99.99999999987193]\n"
     ]
    }
   ],
   "source": [
    "results_list = []\n",
    "for n_estimators in n_estimators_list:\n",
    "    for learning_rate in learning_rate_list:\n",
    "        for max_depth in max_depth_list:\n",
    "            for subsample in subsample_list:\n",
    "                model = xgb.XGBClassfier(objective='binary:logistic', \n",
    "                                         n_estimators = n_estimators,\n",
    "                                         learning_rate = learning_rate, \n",
    "                                         max_depth = max_depth, \n",
    "                                         subsample = subsample,\n",
    "                                         random_state=42, enable_categorical=True  )\n",
    "                model.fit(Xe_train, ye_train)\n",
    "                ye_pred = model.predict(Xe_test)\n",
    "                test_r2 = r2_score(ye_test, ye_pred) * 100\n",
    "                ye_train_pred = model.predict(Xe_train)\n",
    "                train_r2 = r2_score(ye_train, ye_train_pred) * 100\n",
    "                row = [n_estimators, learning_rate, max_depth, \n",
    "                       subsample, train_r2, test_r2]\n",
    "                print(row)\n",
    "                model = None\n",
    "                ye_pred = None\n",
    "                ye_train_pred = None\n",
    "                results_list.append(row)"
   ]
  },
  {
   "cell_type": "markdown",
   "id": "0ad90494-d449-4698-8b8a-43d922298d62",
   "metadata": {},
   "source": [
    "### PSM for Step 1"
   ]
  },
  {
   "cell_type": "code",
   "execution_count": 25,
   "id": "b52d9f23-3465-41e9-965d-0448742a6586",
   "metadata": {},
   "outputs": [],
   "source": [
    "from sklearn.linear_model import LogisticRegression\n",
    "from sklearn.neighbors import NearestNeighbors\n",
    "from sklearn.preprocessing import LabelEncoder"
   ]
  },
  {
   "cell_type": "code",
   "execution_count": 26,
   "id": "7ea55546-4b3c-4a67-be8f-3580720c30a8",
   "metadata": {},
   "outputs": [
    {
     "data": {
      "text/plain": [
       "(1967478, 67)"
      ]
     },
     "execution_count": 26,
     "metadata": {},
     "output_type": "execute_result"
    }
   ],
   "source": [
    "Df.shape"
   ]
  },
  {
   "cell_type": "code",
   "execution_count": 30,
   "id": "d7d7839f-f5d9-483a-90f1-095a2c32ef5c",
   "metadata": {},
   "outputs": [
    {
     "name": "stderr",
     "output_type": "stream",
     "text": [
      "/opt/anaconda3/envs/MLlearning/lib/python3.9/site-packages/sklearn/linear_model/_logistic.py:1247: FutureWarning: 'multi_class' was deprecated in version 1.5 and will be removed in 1.7. From then on, it will always use 'multinomial'. Leave it to its default value to avoid this warning.\n",
      "  warnings.warn(\n"
     ]
    }
   ],
   "source": [
    "X = Df[['Food', 'Disability','Shelter']]\n",
    "T = Df['Economic_trend']\n",
    "le = LabelEncoder()\n",
    "\n",
    "\n",
    "# Calculate propensity scores\n",
    "model_PSM = LogisticRegression(multi_class='multinomial', solver='lbfgs')\n",
    "model_PSM.fit(X, T)\n",
    "propensity_scores = model_PSM.predict_proba(X)\n",
    "\n",
    "for idx, Economic_trend in enumerate(model_PSM.classes_):\n",
    "    Df[f'propensity_score_{Economic_trend}'] = propensity_scores[:,idx]\n"
   ]
  },
  {
   "cell_type": "code",
   "execution_count": 32,
   "id": "6f794cc7-f381-4e02-839e-2610d6bcdd76",
   "metadata": {},
   "outputs": [],
   "source": [
    "for idx, level in enumerate(model_PSM.classes_):\n",
    "    Df[f'propensity_score_{level}'] = propensity_scores[:, idx]\n",
    "\n",
    "# Step 3: Perform Matching for each treatment level\n",
    "def match_on_propensity_score(Df, level):\n",
    "    treated = Df[Df['Economic_trend'] == level]\n",
    "    control = Df[Df['Economic_trend'] != level]\n",
    "    nn = NearestNeighbors(n_neighbors=1)\n",
    "    nn.fit(control[[f'propensity_score_{level}']])\n",
    "    distances, indices = nn.kneighbors(treated[[f'propensity_score_{level}']])\n",
    "    matched_control = control.iloc[indices.flatten()]\n",
    "    return treated, matched_control\n",
    "\n",
    "matched_data = pd.DataFrame()\n",
    "for level in model_PSM.classes_:\n",
    "    treated, matched_control = match_on_propensity_score(Df, level)\n",
    "    matched_data = pd.concat([matched_data, treated, matched_control])"
   ]
  },
  {
   "cell_type": "code",
   "execution_count": 33,
   "id": "ef31490b-0eaa-4762-8cb1-ee9626396c0a",
   "metadata": {},
   "outputs": [
    {
     "data": {
      "image/png": "[encoded data removed]",
      "text/plain": [
       "<Figure size 1800x600 with 3 Axes>"
      ]
     },
     "metadata": {},
     "output_type": "display_data"
    }
   ],
   "source": [
    "# Step 4: Visualize Propensity Score Distributions\n",
    "fig, axs = plt.subplots(1, 3, figsize=(18, 6), sharey=True)\n",
    "for idx, level in enumerate(model_PSM.classes_):\n",
    "    treated = Df[Df['Economic_trend'] == level]\n",
    "    control = Df[Df['Economic_trend'] != level]\n",
    "    matched_control = matched_data[matched_data['Economic_trend'] != level]\n",
    "    \n",
    "    axs[idx].hist(treated[f'propensity_score_{level}'], bins=20, alpha=0.5, label=f'Treated {level}')\n",
    "    axs[idx].hist(control[f'propensity_score_{level}'], bins=20, alpha=0.5, label='Control')\n",
    "    axs[idx].hist(matched_control[f'propensity_score_{level}'], bins=20, alpha=0.5, label='Matched Control')\n",
    "    axs[idx].set_title(f'Propensity Scores for Treatment {level}')\n",
    "    axs[idx].set_xlabel('Propensity Score')\n",
    "    axs[idx].set_ylabel('Frequency')\n",
    "    axs[idx].legend()\n",
    "\n",
    "plt.tight_layout()\n",
    "plt.show()"
   ]
  },
  {
   "cell_type": "code",
   "execution_count": null,
   "id": "71f0dc2d-5411-4cfd-b9f3-a1ffc86dc463",
   "metadata": {},
   "outputs": [],
   "source": []
  },
  {
   "cell_type": "code",
   "execution_count": null,
   "id": "a73f3a34-e3ef-4e6f-b2d9-d196984e0c74",
   "metadata": {},
   "outputs": [],
   "source": []
  },
  {
   "cell_type": "code",
   "execution_count": null,
   "id": "83504493-06de-47f8-b31a-bd7c7186cbb0",
   "metadata": {},
   "outputs": [],
   "source": []
  },
  {
   "cell_type": "code",
   "execution_count": null,
   "id": "a7c08ce8-cb35-4b1d-976c-c9a33775ab03",
   "metadata": {},
   "outputs": [],
   "source": []
  },
  {
   "cell_type": "code",
   "execution_count": null,
   "id": "793e3b7a-e26e-499d-92be-c0d8e933f510",
   "metadata": {},
   "outputs": [],
   "source": []
  },
  {
   "cell_type": "code",
   "execution_count": null,
   "id": "4f69a1db-b221-410f-96c6-4bd899884dff",
   "metadata": {},
   "outputs": [],
   "source": []
  },
  {
   "cell_type": "markdown",
   "id": "cc25621e-0134-4e11-91ae-5bc76c502cda",
   "metadata": {},
   "source": [
    "## Shuffle Conversion for Step 2"
   ]
  },
  {
   "cell_type": "code",
   "execution_count": null,
   "id": "fe9dc60e-2fdb-4efa-ae5d-62ee0bb0a489",
   "metadata": {},
   "outputs": [],
   "source": []
  },
  {
   "cell_type": "code",
   "execution_count": 11,
   "id": "8a0d657c-18be-4d28-b258-6bb984fdb630",
   "metadata": {},
   "outputs": [],
   "source": [
    "#Df = Df.sample(frac=1, random_state=42).reset_index(drop=True)"
   ]
  },
  {
   "cell_type": "code",
   "execution_count": 12,
   "id": "0dfb8c1e-b99d-486c-a6c7-e4425c5fe9eb",
   "metadata": {},
   "outputs": [],
   "source": [
    "#Df['COUNTRY_ISO3'] = Df['COUNTRY_ISO3'].astype('category')"
   ]
  },
  {
   "cell_type": "code",
   "execution_count": 13,
   "id": "c4d65352-f9ee-402d-a748-eb7678055b9a",
   "metadata": {},
   "outputs": [],
   "source": [
    "ye2 = Df['Wellbeing_ladder']"
   ]
  },
  {
   "cell_type": "code",
   "execution_count": 14,
   "id": "7488796c-6c59-4dbf-b7b3-93b7271e24fc",
   "metadata": {},
   "outputs": [],
   "source": [
    "Xe2 = Df.drop(columns=['Wellbeing_ladder','Economic_trend'])"
   ]
  },
  {
   "cell_type": "code",
   "execution_count": 15,
   "id": "e032c780-6bb8-4d0d-801e-0ce656a77d05",
   "metadata": {},
   "outputs": [],
   "source": [
    "Xe1_train, Xe1_test, ye1_train, ye1_test = train_test_split(Xe1, ye1, test_size=0.1, random_state=42)"
   ]
  },
  {
   "cell_type": "code",
   "execution_count": null,
   "id": "398c8cb5-002a-45e7-bb00-11ea1acdab14",
   "metadata": {},
   "outputs": [],
   "source": []
  },
  {
   "cell_type": "code",
   "execution_count": null,
   "id": "62a5ab3a-4053-4dd6-ad68-dd5047152f6f",
   "metadata": {},
   "outputs": [],
   "source": []
  },
  {
   "cell_type": "code",
   "execution_count": null,
   "id": "63d12522-c982-452f-9e8f-b81553d0b252",
   "metadata": {},
   "outputs": [],
   "source": []
  },
  {
   "cell_type": "code",
   "execution_count": null,
   "id": "0c1c1093-5a64-4eea-b9ed-3e16daaf5454",
   "metadata": {},
   "outputs": [],
   "source": []
  },
  {
   "cell_type": "code",
   "execution_count": null,
   "id": "4235f387-4d13-43ac-a50a-272f202eab0a",
   "metadata": {},
   "outputs": [],
   "source": []
  },
  {
   "cell_type": "code",
   "execution_count": null,
   "id": "c4c61ca9-3d17-434f-9df1-44a7cdc8ad9e",
   "metadata": {},
   "outputs": [],
   "source": []
  },
  {
   "cell_type": "code",
   "execution_count": null,
   "id": "5feeec7f-4a12-4e12-b95f-bf705553e9b0",
   "metadata": {},
   "outputs": [],
   "source": []
  },
  {
   "cell_type": "code",
   "execution_count": null,
   "id": "f2569b0e-a208-44eb-8c34-7ab4bcf94b29",
   "metadata": {},
   "outputs": [],
   "source": []
  },
  {
   "cell_type": "code",
   "execution_count": null,
   "id": "ea30762d-980d-43ae-b300-3a60cf8a6155",
   "metadata": {},
   "outputs": [],
   "source": []
  },
  {
   "cell_type": "code",
   "execution_count": null,
   "id": "84229473-25de-49ff-a906-ec0d88c69c18",
   "metadata": {},
   "outputs": [],
   "source": [
    "pip install gams"
   ]
  },
  {
   "cell_type": "code",
   "execution_count": null,
   "id": "31806adf-c182-4b75-bfe9-11302b1b2ca0",
   "metadata": {},
   "outputs": [],
   "source": []
  }
 ],
 "metadata": {
  "kernelspec": {
   "display_name": "Python 3 (ipykernel)",
   "language": "python",
   "name": "python3"
  },
  "language_info": {
   "codemirror_mode": {
    "name": "ipython",
    "version": 3
   },
   "file_extension": ".py",
   "mimetype": "text/x-python",
   "name": "python",
   "nbconvert_exporter": "python",
   "pygments_lexer": "ipython3",
   "version": "3.9.19"
  }
 },
 "nbformat": 4,
 "nbformat_minor": 5
}
