{
 "cells": [
  {
   "cell_type": "code",
   "execution_count": 1,
   "id": "0e8e58f1-e698-488a-aacf-b8310c1bd564",
   "metadata": {
    "scrolled": true
   },
   "outputs": [
    {
     "data": {
      "text/plain": [
       "'/Users/shibo/Desktop/GallupWellBeingGroup/Code'"
      ]
     },
     "execution_count": 1,
     "metadata": {},
     "output_type": "execute_result"
    }
   ],
   "source": [
    "%pwd"
   ]
  },
  {
   "cell_type": "code",
   "execution_count": 2,
   "id": "08a2acd1-badc-441c-aa37-4884a89cd348",
   "metadata": {},
   "outputs": [
    {
     "name": "stdout",
     "output_type": "stream",
     "text": [
      "/Users/shibo/Desktop/GallupWellBeingGroup\n"
     ]
    }
   ],
   "source": [
    "cd .."
   ]
  },
  {
   "cell_type": "markdown",
   "id": "9e873213-8fc2-4b10-ab78-af2754b96c5d",
   "metadata": {},
   "source": [
    "# Import Pacakge"
   ]
  },
  {
   "cell_type": "code",
   "execution_count": 35,
   "id": "2d8c0535-6f86-4e70-afc9-9adb9a7221fd",
   "metadata": {},
   "outputs": [],
   "source": [
    "import os \n",
    "import pandas as pd\n",
    "import xgboost as xgb\n",
    "import random\n",
    "from scipy import stats\n",
    "from sklearn.ensemble import RandomForestRegressor\n",
    "from sklearn.linear_model import LinearRegression\n",
    "from sklearn.metrics import mean_squared_error, r2_score\n",
    "from sklearn.model_selection import train_test_split, KFold\n",
    "from sklearn.metrics import accuracy_score, classification_report"
   ]
  },
  {
   "cell_type": "code",
   "execution_count": 4,
   "id": "899eb12d-79ef-403e-be03-b9d335e6c55b",
   "metadata": {},
   "outputs": [
    {
     "name": "stderr",
     "output_type": "stream",
     "text": [
      "/opt/anaconda3/envs/MLlearning/lib/python3.9/site-packages/tqdm/auto.py:21: TqdmWarning: IProgress not found. Please update jupyter and ipywidgets. See https://ipywidgets.readthedocs.io/en/stable/user_install.html\n",
      "  from .autonotebook import tqdm as notebook_tqdm\n"
     ]
    }
   ],
   "source": [
    "import shap\n",
    "from xgboost import plot_importance\n",
    "from xgboost import plot_tree\n",
    "import matplotlib.pyplot as plt"
   ]
  },
  {
   "cell_type": "code",
   "execution_count": 6,
   "id": "af5b7635-28de-4d6e-bcaf-989e0aeac300",
   "metadata": {},
   "outputs": [
    {
     "name": "stdout",
     "output_type": "stream",
     "text": [
      "Collecting scikit-optimize\n",
      "  Downloading scikit_optimize-0.10.2-py2.py3-none-any.whl.metadata (9.7 kB)\n",
      "Requirement already satisfied: joblib>=0.11 in /opt/anaconda3/envs/MLlearning/lib/python3.9/site-packages (from scikit-optimize) (1.4.2)\n",
      "Collecting pyaml>=16.9 (from scikit-optimize)\n",
      "  Downloading pyaml-24.4.0-py3-none-any.whl.metadata (11 kB)\n",
      "Requirement already satisfied: numpy>=1.20.3 in /opt/anaconda3/envs/MLlearning/lib/python3.9/site-packages (from scikit-optimize) (1.26.4)\n",
      "Requirement already satisfied: scipy>=1.1.0 in /opt/anaconda3/envs/MLlearning/lib/python3.9/site-packages (from scikit-optimize) (1.13.1)\n",
      "Requirement already satisfied: scikit-learn>=1.0.0 in /opt/anaconda3/envs/MLlearning/lib/python3.9/site-packages (from scikit-optimize) (1.5.0)\n",
      "Requirement already satisfied: packaging>=21.3 in /opt/anaconda3/envs/MLlearning/lib/python3.9/site-packages (from scikit-optimize) (23.2)\n",
      "Requirement already satisfied: PyYAML in /opt/anaconda3/envs/MLlearning/lib/python3.9/site-packages (from pyaml>=16.9->scikit-optimize) (6.0.1)\n",
      "Requirement already satisfied: threadpoolctl>=3.1.0 in /opt/anaconda3/envs/MLlearning/lib/python3.9/site-packages (from scikit-learn>=1.0.0->scikit-optimize) (3.5.0)\n",
      "Downloading scikit_optimize-0.10.2-py2.py3-none-any.whl (107 kB)\n",
      "\u001b[2K   \u001b[90m━━━━━━━━━━━━━━━━━━━━━━━━━━━━━━━━━━━━━━━━\u001b[0m \u001b[32m107.8/107.8 kB\u001b[0m \u001b[31m3.3 MB/s\u001b[0m eta \u001b[36m0:00:00\u001b[0m\n",
      "\u001b[?25hDownloading pyaml-24.4.0-py3-none-any.whl (24 kB)\n",
      "Installing collected packages: pyaml, scikit-optimize\n",
      "Successfully installed pyaml-24.4.0 scikit-optimize-0.10.2\n",
      "Note: you may need to restart the kernel to use updated packages.\n"
     ]
    }
   ],
   "source": [
    "pip install scikit-optimize"
   ]
  },
  {
   "cell_type": "code",
   "execution_count": 7,
   "id": "b53b7242-bba2-4584-af10-9eef918cb28c",
   "metadata": {},
   "outputs": [],
   "source": [
    "from skopt import BayesSearchCV\n",
    "from skopt.space import Real, Categorical, Integer\n",
    "from sklearn.ensemble import RandomForestClassifier\n",
    "from sklearn.datasets import load_iris\n",
    "from sklearn.model_selection import train_test_split"
   ]
  },
  {
   "cell_type": "markdown",
   "id": "cfe27d5b-ff4f-46af-86b5-c327f3bdce94",
   "metadata": {},
   "source": [
    "# Load and make dataset"
   ]
  },
  {
   "cell_type": "code",
   "execution_count": 6,
   "id": "2249d35a-c992-4b71-8211-878d249c14ff",
   "metadata": {},
   "outputs": [],
   "source": [
    "#Df_Filename = os.path.join(\"Data\", \"GallupWB_WasedataEnergy_1.967Mvar_v1.parquet\")"
   ]
  },
  {
   "cell_type": "code",
   "execution_count": 8,
   "id": "acf46d84-4282-44b1-afad-d1756e5ad43d",
   "metadata": {},
   "outputs": [],
   "source": [
    "parquet_file_path = 'Data/GallupWB_WashdataEnergy_1.967Mvar_v3.parquet'"
   ]
  },
  {
   "cell_type": "code",
   "execution_count": 9,
   "id": "1c690160-0306-40a1-9fd3-fda84f22523c",
   "metadata": {},
   "outputs": [],
   "source": [
    "Df = pd.read_parquet(parquet_file_path, engine='pyarrow')"
   ]
  },
  {
   "cell_type": "code",
   "execution_count": 10,
   "id": "fde62ba3-d443-4086-ad70-bb85700f7a97",
   "metadata": {},
   "outputs": [
    {
     "data": {
      "text/plain": [
       "(1967478, 67)"
      ]
     },
     "execution_count": 10,
     "metadata": {},
     "output_type": "execute_result"
    }
   ],
   "source": [
    "Df.shape"
   ]
  },
  {
   "cell_type": "code",
   "execution_count": 11,
   "id": "24e7e3d9-9754-46a2-aa0f-7655a64b4677",
   "metadata": {},
   "outputs": [
    {
     "data": {
      "text/plain": [
       "Index(['Disability', 'Food', 'Shelter', 'Relatives', 'Satisfy_life',\n",
       "       'Wellrested', 'Treated_respect', 'Smile_Laugh', 'Learn_interesting',\n",
       "       'Enjoyment', 'Physical_pain', 'Worry', 'Sadness', 'Stress', 'Anger',\n",
       "       'Satisfied_city', 'Move_city', 'Recommend_city', 'Find_job',\n",
       "       'Public_transportation', 'Roads_highways', 'Education', 'Air_quality',\n",
       "       'Water_quality', 'Health_care', 'Good_housing', 'Friends_make',\n",
       "       'Racial_minority', 'Gay_les', 'Immigrants', 'Donation', 'Voluntary',\n",
       "       'Help_stranger', 'Voice_opinion', 'Confidence', 'Safety', 'Steal',\n",
       "       'Assualted', 'Children_respected', 'Children_learn', 'Women_respected',\n",
       "       'Preserve_environment', 'Freedom_life', 'Military', 'Judicial_system',\n",
       "       'Government', 'Banks', 'election_honesty', 'Corruption_business',\n",
       "       'Corruption_government', 'Gender', 'Leadership_country',\n",
       "       'Marital_status', 'Acess_internet', 'Use_internet', 'Phone_internet',\n",
       "       'Life_standard', 'Economic_trend', 'Income_feeling', 'Wellbeing_ladder',\n",
       "       'Ladder_future', 'Children_number', 'Employment', 'Economic_condition',\n",
       "       'INCOME_2', 'COUNTRY_ISO3', 'wave'],\n",
       "      dtype='object')"
      ]
     },
     "execution_count": 11,
     "metadata": {},
     "output_type": "execute_result"
    }
   ],
   "source": [
    "Df.columns"
   ]
  },
  {
   "cell_type": "markdown",
   "id": "bbdf8c9c-8016-49c5-99ae-b0561255f21a",
   "metadata": {},
   "source": [
    "## Check difference between "
   ]
  },
  {
   "cell_type": "code",
   "execution_count": null,
   "id": "09b965d0-22f5-4d6f-9d4c-635578e03004",
   "metadata": {},
   "outputs": [],
   "source": []
  },
  {
   "cell_type": "markdown",
   "id": "df3b8b9f-3943-4cd6-a2b8-a5178ac42b26",
   "metadata": {},
   "source": [
    "## Shuffle Conversion for Step 1"
   ]
  },
  {
   "cell_type": "code",
   "execution_count": null,
   "id": "a61a7317-8c31-4516-8f92-1ba337fe136a",
   "metadata": {},
   "outputs": [],
   "source": []
  },
  {
   "cell_type": "code",
   "execution_count": 12,
   "id": "28ca9a7f-cadc-45e8-b604-32ccd5d9ce3b",
   "metadata": {},
   "outputs": [],
   "source": [
    "Df = Df.sample(frac=1, random_state=42).reset_index(drop=True)"
   ]
  },
  {
   "cell_type": "code",
   "execution_count": 13,
   "id": "5dd2a58b-d321-4b60-9e3e-00594e816362",
   "metadata": {},
   "outputs": [],
   "source": [
    "Df['COUNTRY_ISO3'] = Df['COUNTRY_ISO3'].astype('category')"
   ]
  },
  {
   "cell_type": "code",
   "execution_count": 14,
   "id": "fc183d03-6567-48c1-bf14-24ea91dd0f7e",
   "metadata": {},
   "outputs": [],
   "source": [
    "ye1 = Df['Economic_trend']"
   ]
  },
  {
   "cell_type": "code",
   "execution_count": 15,
   "id": "0b155d0e-7a9b-40a0-8552-1c4a298871f4",
   "metadata": {},
   "outputs": [],
   "source": [
    "Xe1 = Df.drop(columns=['Wellbeing_ladder','Economic_trend'])"
   ]
  },
  {
   "cell_type": "code",
   "execution_count": 16,
   "id": "f02fe515-0406-4ee7-b18a-031ffcfa499b",
   "metadata": {},
   "outputs": [],
   "source": [
    "Xe1_train, Xe1_test, ye1_train, ye1_test = train_test_split(Xe1, ye1, test_size=0.1, random_state=42)"
   ]
  },
  {
   "cell_type": "code",
   "execution_count": 17,
   "id": "096b895b-612d-42a4-9a49-732a848f7124",
   "metadata": {},
   "outputs": [
    {
     "data": {
      "text/plain": [
       "Disability             float64\n",
       "Food                   float64\n",
       "Shelter                float64\n",
       "Relatives              float64\n",
       "Satisfy_life           float64\n",
       "                        ...   \n",
       "Employment             float64\n",
       "Economic_condition     float64\n",
       "INCOME_2               float64\n",
       "COUNTRY_ISO3          category\n",
       "wave                   float64\n",
       "Length: 65, dtype: object"
      ]
     },
     "execution_count": 17,
     "metadata": {},
     "output_type": "execute_result"
    }
   ],
   "source": [
    "Xe1_train.dtypes"
   ]
  },
  {
   "cell_type": "code",
   "execution_count": 18,
   "id": "401d6cdb-b85f-492f-a199-bda35a7d729c",
   "metadata": {
    "scrolled": true
   },
   "outputs": [
    {
     "data": {
      "text/plain": [
       "Disability             float64\n",
       "Food                   float64\n",
       "Shelter                float64\n",
       "Relatives              float64\n",
       "Satisfy_life           float64\n",
       "                        ...   \n",
       "Employment             float64\n",
       "Economic_condition     float64\n",
       "INCOME_2               float64\n",
       "COUNTRY_ISO3          category\n",
       "wave                   float64\n",
       "Length: 65, dtype: object"
      ]
     },
     "execution_count": 18,
     "metadata": {},
     "output_type": "execute_result"
    }
   ],
   "source": [
    "Xe1_test.dtypes"
   ]
  },
  {
   "cell_type": "code",
   "execution_count": 19,
   "id": "cf35c50d-7005-41cd-8f0b-ab6188aa7a18",
   "metadata": {},
   "outputs": [
    {
     "data": {
      "text/plain": [
       "(1770730, 65)"
      ]
     },
     "execution_count": 19,
     "metadata": {},
     "output_type": "execute_result"
    }
   ],
   "source": [
    "Xe1_train.shape"
   ]
  },
  {
   "cell_type": "markdown",
   "id": "5d34ac9b-c467-43ac-89ff-22d5e0dd9770",
   "metadata": {},
   "source": [
    "## Model and Tuning Hyper for Step 1"
   ]
  },
  {
   "cell_type": "markdown",
   "id": "92a60433-f294-465e-8d36-41fb2e5e65a6",
   "metadata": {},
   "source": [
    "Economic_trend Model: Isolate indirect effect of features on Wellbeing"
   ]
  },
  {
   "cell_type": "markdown",
   "id": "541845c1-7a28-4bce-9ddf-1d5f2341d1ae",
   "metadata": {},
   "source": [
    "### Encode COUNTRY_IS03"
   ]
  },
  {
   "cell_type": "code",
   "execution_count": 20,
   "id": "6690ce42-5e40-42b4-aec2-ccc4d449d5e2",
   "metadata": {},
   "outputs": [
    {
     "name": "stdout",
     "output_type": "stream",
     "text": [
      "Data types in Xe1_train:\n",
      "Disability            float64\n",
      "Food                  float64\n",
      "Shelter               float64\n",
      "Relatives             float64\n",
      "Satisfy_life          float64\n",
      "                       ...   \n",
      "Employment            float64\n",
      "Economic_condition    float64\n",
      "INCOME_2              float64\n",
      "COUNTRY_ISO3          float64\n",
      "wave                  float64\n",
      "Length: 65, dtype: object\n",
      "Data types in Xe1_test:\n",
      "Disability            float64\n",
      "Food                  float64\n",
      "Shelter               float64\n",
      "Relatives             float64\n",
      "Satisfy_life          float64\n",
      "                       ...   \n",
      "Employment            float64\n",
      "Economic_condition    float64\n",
      "INCOME_2              float64\n",
      "COUNTRY_ISO3          float64\n",
      "wave                  float64\n",
      "Length: 65, dtype: object\n"
     ]
    }
   ],
   "source": [
    "from sklearn.preprocessing import LabelEncoder\n",
    "\n",
    "# Initialize LabelEncoder\n",
    "le = LabelEncoder()\n",
    "\n",
    "# Fit the LabelEncoder on the categorical column and transform it\n",
    "Xe1_train['COUNTRY_ISO3'] = le.fit_transform(Xe1_train['COUNTRY_ISO3'])\n",
    "Xe1_test['COUNTRY_ISO3'] = le.transform(Xe1_test['COUNTRY_ISO3'])\n",
    "\n",
    "# Ensure all columns are of type float64\n",
    "Xe1_train = Xe1_train.astype('float64')\n",
    "Xe1_test = Xe1_test.astype('float64')\n",
    "\n",
    "# Verify data types\n",
    "print(\"Data types in Xe1_train:\")\n",
    "print(Xe1_train.dtypes)\n",
    "\n",
    "print(\"Data types in Xe1_test:\")\n",
    "print(Xe1_test.dtypes)"
   ]
  },
  {
   "cell_type": "markdown",
   "id": "136ec24b-3c7f-4285-87e0-d8ec999df370",
   "metadata": {},
   "source": [
    "### Bayes Search CV for Step 1"
   ]
  },
  {
   "cell_type": "code",
   "execution_count": 38,
   "id": "98a97915-8a19-4b1a-abcb-30ba9f65b563",
   "metadata": {},
   "outputs": [],
   "source": [
    "param_space = {\n",
    "    'n_estimators': Integer(100, 5000),\n",
    "    'learning_rate': Real(0.001, 0.1, prior='log-uniform'),\n",
    "    'max_depth': Integer(3, 16),\n",
    "    'subsample': Real(0.5, 1.0),\n",
    "    'min_child_weight': Real(0.001, 10, prior='log-uniform'),\n",
    "    'max_delta_step': Real(0.001, 10, prior='log-uniform'),\n",
    "    'reg_lambda': Real(0.001, 10, prior='log-uniform'),\n",
    "    'reg_alpha': Real(0.001, 10, prior='log-uniform'),\n",
    "    'gamma': Real(0.001, 10, prior='log-uniform')\n",
    "}"
   ]
  },
  {
   "cell_type": "code",
   "execution_count": 39,
   "id": "7a2e894a-e5d1-47f9-8f98-3f1571e77618",
   "metadata": {},
   "outputs": [],
   "source": [
    "xgb_classifier = xgb.XGBClassifier(objective='multi:softmax',tree_method='hist', random_state=42, enable_categorical=True  )"
   ]
  },
  {
   "cell_type": "code",
   "execution_count": 40,
   "id": "a0246c8a-399b-4a04-8ce3-35b425a71dbc",
   "metadata": {},
   "outputs": [],
   "source": [
    "class RandomRunNFoldsKFold(KFold):\n",
    "    def __init__(self, n_splits=10, random_state=None, run_splits=3, **kwargs):\n",
    "        super().__init__(n_splits=n_splits, shuffle=True, random_state=random_state, **kwargs)\n",
    "        self.random_state = random_state\n",
    "        self.actual_splits = run_splits  # Number of actual splits to use\n",
    "\n",
    "    def split(self, X, y=None, groups=None):\n",
    "        folds = list(super().split(X, y, groups))\n",
    "        if self.random_state is not None:\n",
    "            random.seed(self.random_state)\n",
    "        selected_folds = random.sample(folds, self.actual_splits)\n",
    "        for train_index, test_index in selected_folds:\n",
    "            yield train_index, test_index\n",
    "\n",
    "    def get_n_splits(self, X=None, y=None, groups=None):\n",
    "        return self.actual_splits"
   ]
  },
  {
   "cell_type": "code",
   "execution_count": 41,
   "id": "f3480531-431a-4352-9701-0619e130b74e",
   "metadata": {},
   "outputs": [],
   "source": [
    "rkfcv = RandomRunNFoldsKFold(n_splits=10, run_splits=3, random_state=42)"
   ]
  },
  {
   "cell_type": "code",
   "execution_count": 42,
   "id": "96a3fad9-c836-4c56-a7dd-68c3a896b621",
   "metadata": {},
   "outputs": [],
   "source": [
    "bayes_search = BayesSearchCV(\n",
    "    estimator=xgb_classifier,\n",
    "    search_spaces=param_space,\n",
    "    n_iter=20,\n",
    "    scoring='r2',\n",
    "    cv=rkfcv,\n",
    "    n_jobs = 1,\n",
    "    n_points = 1,\n",
    "    verbose=2,\n",
    "    random_state=42,\n",
    "    return_train_score = True\n",
    ")"
   ]
  },
  {
   "cell_type": "code",
   "execution_count": 43,
   "id": "9c387ee7-52a1-4736-9bf5-8170b660a486",
   "metadata": {
    "scrolled": true
   },
   "outputs": [
    {
     "name": "stdout",
     "output_type": "stream",
     "text": [
      "Fitting 3 folds for each of 1 candidates, totalling 3 fits\n",
      "[CV] END gamma=0.04369339947510315, learning_rate=0.02853983686604182, max_delta_step=5.388550972627239, max_depth=7, min_child_weight=0.47928274405969296, n_estimators=2129, reg_alpha=0.025335258486348353, reg_lambda=0.9078559343576645, subsample=0.6522316555182531; total time=12.1min\n",
      "[CV] END gamma=0.04369339947510315, learning_rate=0.02853983686604182, max_delta_step=5.388550972627239, max_depth=7, min_child_weight=0.47928274405969296, n_estimators=2129, reg_alpha=0.025335258486348353, reg_lambda=0.9078559343576645, subsample=0.6522316555182531; total time=12.7min\n",
      "[CV] END gamma=0.04369339947510315, learning_rate=0.02853983686604182, max_delta_step=5.388550972627239, max_depth=7, min_child_weight=0.47928274405969296, n_estimators=2129, reg_alpha=0.025335258486348353, reg_lambda=0.9078559343576645, subsample=0.6522316555182531; total time=13.0min\n",
      "Fitting 3 folds for each of 1 candidates, totalling 3 fits\n",
      "[CV] END gamma=2.2364202820542705, learning_rate=0.05842928269761146, max_delta_step=0.01635461931468242, max_depth=15, min_child_weight=2.860959183286342, n_estimators=405, reg_alpha=0.003574655164089067, reg_lambda=0.02596268418373733, subsample=0.8178645509395852; total time= 1.1min\n",
      "[CV] END gamma=2.2364202820542705, learning_rate=0.05842928269761146, max_delta_step=0.01635461931468242, max_depth=15, min_child_weight=2.860959183286342, n_estimators=405, reg_alpha=0.003574655164089067, reg_lambda=0.02596268418373733, subsample=0.8178645509395852; total time= 1.1min\n",
      "[CV] END gamma=2.2364202820542705, learning_rate=0.05842928269761146, max_delta_step=0.01635461931468242, max_depth=15, min_child_weight=2.860959183286342, n_estimators=405, reg_alpha=0.003574655164089067, reg_lambda=0.02596268418373733, subsample=0.8178645509395852; total time= 1.1min\n",
      "Fitting 3 folds for each of 1 candidates, totalling 3 fits\n",
      "[CV] END gamma=0.060163078295899286, learning_rate=0.06877728743793542, max_delta_step=0.002626858226437905, max_depth=9, min_child_weight=0.005647038458633676, n_estimators=2323, reg_alpha=0.00418593245501055, reg_lambda=1.0144020667237337, subsample=0.7786702115169006; total time= 6.7min\n",
      "[CV] END gamma=0.060163078295899286, learning_rate=0.06877728743793542, max_delta_step=0.002626858226437905, max_depth=9, min_child_weight=0.005647038458633676, n_estimators=2323, reg_alpha=0.00418593245501055, reg_lambda=1.0144020667237337, subsample=0.7786702115169006; total time= 7.0min\n",
      "[CV] END gamma=0.060163078295899286, learning_rate=0.06877728743793542, max_delta_step=0.002626858226437905, max_depth=9, min_child_weight=0.005647038458633676, n_estimators=2323, reg_alpha=0.00418593245501055, reg_lambda=1.0144020667237337, subsample=0.7786702115169006; total time=38.5min\n",
      "Fitting 3 folds for each of 1 candidates, totalling 3 fits\n",
      "[CV] END gamma=1.7765766649807682, learning_rate=0.0022066991249460105, max_delta_step=0.24671088435225733, max_depth=13, min_child_weight=0.12365432532396153, n_estimators=568, reg_alpha=1.0548777482285936, reg_lambda=3.094007864244482, subsample=0.9559644307534418; total time=36.0min\n",
      "[CV] END gamma=1.7765766649807682, learning_rate=0.0022066991249460105, max_delta_step=0.24671088435225733, max_depth=13, min_child_weight=0.12365432532396153, n_estimators=568, reg_alpha=1.0548777482285936, reg_lambda=3.094007864244482, subsample=0.9559644307534418; total time=43.2min\n",
      "[CV] END gamma=1.7765766649807682, learning_rate=0.0022066991249460105, max_delta_step=0.24671088435225733, max_depth=13, min_child_weight=0.12365432532396153, n_estimators=568, reg_alpha=1.0548777482285936, reg_lambda=3.094007864244482, subsample=0.9559644307534418; total time=34.9min\n",
      "Fitting 3 folds for each of 1 candidates, totalling 3 fits\n",
      "[CV] END gamma=1.5783879853890563, learning_rate=0.007517239253342655, max_delta_step=0.12778531518898434, max_depth=12, min_child_weight=4.124851234284971, n_estimators=3613, reg_alpha=0.04974074547470406, reg_lambda=0.39915025126096393, subsample=0.6765419227639857; total time=278.3min\n",
      "[CV] END gamma=1.5783879853890563, learning_rate=0.007517239253342655, max_delta_step=0.12778531518898434, max_depth=12, min_child_weight=4.124851234284971, n_estimators=3613, reg_alpha=0.04974074547470406, reg_lambda=0.39915025126096393, subsample=0.6765419227639857; total time=211.5min\n"
     ]
    },
    {
     "ename": "KeyboardInterrupt",
     "evalue": "",
     "output_type": "error",
     "traceback": [
      "\u001b[0;31m---------------------------------------------------------------------------\u001b[0m",
      "\u001b[0;31mKeyboardInterrupt\u001b[0m                         Traceback (most recent call last)",
      "Cell \u001b[0;32mIn[43], line 1\u001b[0m\n\u001b[0;32m----> 1\u001b[0m \u001b[43mbayes_search\u001b[49m\u001b[38;5;241;43m.\u001b[39;49m\u001b[43mfit\u001b[49m\u001b[43m(\u001b[49m\u001b[43mXe1\u001b[49m\u001b[43m,\u001b[49m\u001b[43m \u001b[49m\u001b[43mye1\u001b[49m\u001b[43m)\u001b[49m\n",
      "File \u001b[0;32m/opt/anaconda3/envs/MLlearning/lib/python3.9/site-packages/skopt/searchcv.py:542\u001b[0m, in \u001b[0;36mBayesSearchCV.fit\u001b[0;34m(self, X, y, groups, callback, **fit_params)\u001b[0m\n\u001b[1;32m    535\u001b[0m \u001b[38;5;28;01mif\u001b[39;00m \u001b[38;5;28mcallable\u001b[39m(\u001b[38;5;28mself\u001b[39m\u001b[38;5;241m.\u001b[39mrefit):\n\u001b[1;32m    536\u001b[0m     \u001b[38;5;28;01mraise\u001b[39;00m \u001b[38;5;167;01mValueError\u001b[39;00m(\n\u001b[1;32m    537\u001b[0m         \u001b[38;5;124m\"\u001b[39m\u001b[38;5;124mBayesSearchCV doesn\u001b[39m\u001b[38;5;124m'\u001b[39m\u001b[38;5;124mt support a callable refit, \u001b[39m\u001b[38;5;124m\"\u001b[39m\n\u001b[1;32m    538\u001b[0m         \u001b[38;5;124m\"\u001b[39m\u001b[38;5;124mas it doesn\u001b[39m\u001b[38;5;124m'\u001b[39m\u001b[38;5;124mt define an implicit score to \u001b[39m\u001b[38;5;124m\"\u001b[39m\n\u001b[1;32m    539\u001b[0m         \u001b[38;5;124m\"\u001b[39m\u001b[38;5;124moptimize\u001b[39m\u001b[38;5;124m\"\u001b[39m\n\u001b[1;32m    540\u001b[0m     )\n\u001b[0;32m--> 542\u001b[0m \u001b[38;5;28;43msuper\u001b[39;49m\u001b[43m(\u001b[49m\u001b[43m)\u001b[49m\u001b[38;5;241;43m.\u001b[39;49m\u001b[43mfit\u001b[49m\u001b[43m(\u001b[49m\u001b[43mX\u001b[49m\u001b[38;5;241;43m=\u001b[39;49m\u001b[43mX\u001b[49m\u001b[43m,\u001b[49m\u001b[43m \u001b[49m\u001b[43my\u001b[49m\u001b[38;5;241;43m=\u001b[39;49m\u001b[43my\u001b[49m\u001b[43m,\u001b[49m\u001b[43m \u001b[49m\u001b[43mgroups\u001b[49m\u001b[38;5;241;43m=\u001b[39;49m\u001b[43mgroups\u001b[49m\u001b[43m,\u001b[49m\u001b[43m \u001b[49m\u001b[38;5;241;43m*\u001b[39;49m\u001b[38;5;241;43m*\u001b[39;49m\u001b[43mfit_params\u001b[49m\u001b[43m)\u001b[49m\n\u001b[1;32m    544\u001b[0m \u001b[38;5;66;03m# BaseSearchCV never ranked train scores,\u001b[39;00m\n\u001b[1;32m    545\u001b[0m \u001b[38;5;66;03m# but apparently we used to ship this (back-compat)\u001b[39;00m\n\u001b[1;32m    546\u001b[0m \u001b[38;5;28;01mif\u001b[39;00m \u001b[38;5;28mself\u001b[39m\u001b[38;5;241m.\u001b[39mreturn_train_score:\n",
      "File \u001b[0;32m/opt/anaconda3/envs/MLlearning/lib/python3.9/site-packages/sklearn/base.py:1473\u001b[0m, in \u001b[0;36m_fit_context.<locals>.decorator.<locals>.wrapper\u001b[0;34m(estimator, *args, **kwargs)\u001b[0m\n\u001b[1;32m   1466\u001b[0m     estimator\u001b[38;5;241m.\u001b[39m_validate_params()\n\u001b[1;32m   1468\u001b[0m \u001b[38;5;28;01mwith\u001b[39;00m config_context(\n\u001b[1;32m   1469\u001b[0m     skip_parameter_validation\u001b[38;5;241m=\u001b[39m(\n\u001b[1;32m   1470\u001b[0m         prefer_skip_nested_validation \u001b[38;5;129;01mor\u001b[39;00m global_skip_validation\n\u001b[1;32m   1471\u001b[0m     )\n\u001b[1;32m   1472\u001b[0m ):\n\u001b[0;32m-> 1473\u001b[0m     \u001b[38;5;28;01mreturn\u001b[39;00m \u001b[43mfit_method\u001b[49m\u001b[43m(\u001b[49m\u001b[43mestimator\u001b[49m\u001b[43m,\u001b[49m\u001b[43m \u001b[49m\u001b[38;5;241;43m*\u001b[39;49m\u001b[43margs\u001b[49m\u001b[43m,\u001b[49m\u001b[43m \u001b[49m\u001b[38;5;241;43m*\u001b[39;49m\u001b[38;5;241;43m*\u001b[39;49m\u001b[43mkwargs\u001b[49m\u001b[43m)\u001b[49m\n",
      "File \u001b[0;32m/opt/anaconda3/envs/MLlearning/lib/python3.9/site-packages/sklearn/model_selection/_search.py:968\u001b[0m, in \u001b[0;36mBaseSearchCV.fit\u001b[0;34m(self, X, y, **params)\u001b[0m\n\u001b[1;32m    962\u001b[0m     results \u001b[38;5;241m=\u001b[39m \u001b[38;5;28mself\u001b[39m\u001b[38;5;241m.\u001b[39m_format_results(\n\u001b[1;32m    963\u001b[0m         all_candidate_params, n_splits, all_out, all_more_results\n\u001b[1;32m    964\u001b[0m     )\n\u001b[1;32m    966\u001b[0m     \u001b[38;5;28;01mreturn\u001b[39;00m results\n\u001b[0;32m--> 968\u001b[0m \u001b[38;5;28;43mself\u001b[39;49m\u001b[38;5;241;43m.\u001b[39;49m\u001b[43m_run_search\u001b[49m\u001b[43m(\u001b[49m\u001b[43mevaluate_candidates\u001b[49m\u001b[43m)\u001b[49m\n\u001b[1;32m    970\u001b[0m \u001b[38;5;66;03m# multimetric is determined here because in the case of a callable\u001b[39;00m\n\u001b[1;32m    971\u001b[0m \u001b[38;5;66;03m# self.scoring the return type is only known after calling\u001b[39;00m\n\u001b[1;32m    972\u001b[0m first_test_score \u001b[38;5;241m=\u001b[39m all_out[\u001b[38;5;241m0\u001b[39m][\u001b[38;5;124m\"\u001b[39m\u001b[38;5;124mtest_scores\u001b[39m\u001b[38;5;124m\"\u001b[39m]\n",
      "File \u001b[0;32m/opt/anaconda3/envs/MLlearning/lib/python3.9/site-packages/skopt/searchcv.py:599\u001b[0m, in \u001b[0;36mBayesSearchCV._run_search\u001b[0;34m(self, evaluate_candidates)\u001b[0m\n\u001b[1;32m    595\u001b[0m \u001b[38;5;28;01mwhile\u001b[39;00m n_iter \u001b[38;5;241m>\u001b[39m \u001b[38;5;241m0\u001b[39m:\n\u001b[1;32m    596\u001b[0m     \u001b[38;5;66;03m# when n_iter < n_points points left for evaluation\u001b[39;00m\n\u001b[1;32m    597\u001b[0m     n_points_adjusted \u001b[38;5;241m=\u001b[39m \u001b[38;5;28mmin\u001b[39m(n_iter, n_points)\n\u001b[0;32m--> 599\u001b[0m     optim_result, score_name \u001b[38;5;241m=\u001b[39m \u001b[38;5;28;43mself\u001b[39;49m\u001b[38;5;241;43m.\u001b[39;49m\u001b[43m_step\u001b[49m\u001b[43m(\u001b[49m\n\u001b[1;32m    600\u001b[0m \u001b[43m        \u001b[49m\u001b[43msearch_space\u001b[49m\u001b[43m,\u001b[49m\n\u001b[1;32m    601\u001b[0m \u001b[43m        \u001b[49m\u001b[43moptimizer\u001b[49m\u001b[43m,\u001b[49m\n\u001b[1;32m    602\u001b[0m \u001b[43m        \u001b[49m\u001b[43mscore_name\u001b[49m\u001b[43m,\u001b[49m\n\u001b[1;32m    603\u001b[0m \u001b[43m        \u001b[49m\u001b[43mevaluate_candidates\u001b[49m\u001b[43m,\u001b[49m\n\u001b[1;32m    604\u001b[0m \u001b[43m        \u001b[49m\u001b[43mn_points\u001b[49m\u001b[38;5;241;43m=\u001b[39;49m\u001b[43mn_points_adjusted\u001b[49m\u001b[43m,\u001b[49m\n\u001b[1;32m    605\u001b[0m \u001b[43m    \u001b[49m\u001b[43m)\u001b[49m\n\u001b[1;32m    606\u001b[0m     n_iter \u001b[38;5;241m-\u001b[39m\u001b[38;5;241m=\u001b[39m n_points\n\u001b[1;32m    608\u001b[0m     \u001b[38;5;28;01mif\u001b[39;00m eval_callbacks(callbacks, optim_result):\n",
      "File \u001b[0;32m/opt/anaconda3/envs/MLlearning/lib/python3.9/site-packages/skopt/searchcv.py:453\u001b[0m, in \u001b[0;36mBayesSearchCV._step\u001b[0;34m(self, search_space, optimizer, score_name, evaluate_candidates, n_points)\u001b[0m\n\u001b[1;32m    450\u001b[0m \u001b[38;5;66;03m# make lists into dictionaries\u001b[39;00m\n\u001b[1;32m    451\u001b[0m params_dict \u001b[38;5;241m=\u001b[39m [point_asdict(search_space, p) \u001b[38;5;28;01mfor\u001b[39;00m p \u001b[38;5;129;01min\u001b[39;00m params]\n\u001b[0;32m--> 453\u001b[0m all_results \u001b[38;5;241m=\u001b[39m \u001b[43mevaluate_candidates\u001b[49m\u001b[43m(\u001b[49m\u001b[43mparams_dict\u001b[49m\u001b[43m)\u001b[49m\n\u001b[1;32m    455\u001b[0m \u001b[38;5;66;03m# if self.scoring is a callable, we have to wait until here\u001b[39;00m\n\u001b[1;32m    456\u001b[0m \u001b[38;5;66;03m# to get the score name\u001b[39;00m\n\u001b[1;32m    457\u001b[0m \u001b[38;5;28;01mif\u001b[39;00m score_name \u001b[38;5;129;01mis\u001b[39;00m \u001b[38;5;28;01mNone\u001b[39;00m:\n",
      "File \u001b[0;32m/opt/anaconda3/envs/MLlearning/lib/python3.9/site-packages/sklearn/model_selection/_search.py:914\u001b[0m, in \u001b[0;36mBaseSearchCV.fit.<locals>.evaluate_candidates\u001b[0;34m(candidate_params, cv, more_results)\u001b[0m\n\u001b[1;32m    906\u001b[0m \u001b[38;5;28;01mif\u001b[39;00m \u001b[38;5;28mself\u001b[39m\u001b[38;5;241m.\u001b[39mverbose \u001b[38;5;241m>\u001b[39m \u001b[38;5;241m0\u001b[39m:\n\u001b[1;32m    907\u001b[0m     \u001b[38;5;28mprint\u001b[39m(\n\u001b[1;32m    908\u001b[0m         \u001b[38;5;124m\"\u001b[39m\u001b[38;5;124mFitting \u001b[39m\u001b[38;5;132;01m{0}\u001b[39;00m\u001b[38;5;124m folds for each of \u001b[39m\u001b[38;5;132;01m{1}\u001b[39;00m\u001b[38;5;124m candidates,\u001b[39m\u001b[38;5;124m\"\u001b[39m\n\u001b[1;32m    909\u001b[0m         \u001b[38;5;124m\"\u001b[39m\u001b[38;5;124m totalling \u001b[39m\u001b[38;5;132;01m{2}\u001b[39;00m\u001b[38;5;124m fits\u001b[39m\u001b[38;5;124m\"\u001b[39m\u001b[38;5;241m.\u001b[39mformat(\n\u001b[1;32m    910\u001b[0m             n_splits, n_candidates, n_candidates \u001b[38;5;241m*\u001b[39m n_splits\n\u001b[1;32m    911\u001b[0m         )\n\u001b[1;32m    912\u001b[0m     )\n\u001b[0;32m--> 914\u001b[0m out \u001b[38;5;241m=\u001b[39m \u001b[43mparallel\u001b[49m\u001b[43m(\u001b[49m\n\u001b[1;32m    915\u001b[0m \u001b[43m    \u001b[49m\u001b[43mdelayed\u001b[49m\u001b[43m(\u001b[49m\u001b[43m_fit_and_score\u001b[49m\u001b[43m)\u001b[49m\u001b[43m(\u001b[49m\n\u001b[1;32m    916\u001b[0m \u001b[43m        \u001b[49m\u001b[43mclone\u001b[49m\u001b[43m(\u001b[49m\u001b[43mbase_estimator\u001b[49m\u001b[43m)\u001b[49m\u001b[43m,\u001b[49m\n\u001b[1;32m    917\u001b[0m \u001b[43m        \u001b[49m\u001b[43mX\u001b[49m\u001b[43m,\u001b[49m\n\u001b[1;32m    918\u001b[0m \u001b[43m        \u001b[49m\u001b[43my\u001b[49m\u001b[43m,\u001b[49m\n\u001b[1;32m    919\u001b[0m \u001b[43m        \u001b[49m\u001b[43mtrain\u001b[49m\u001b[38;5;241;43m=\u001b[39;49m\u001b[43mtrain\u001b[49m\u001b[43m,\u001b[49m\n\u001b[1;32m    920\u001b[0m \u001b[43m        \u001b[49m\u001b[43mtest\u001b[49m\u001b[38;5;241;43m=\u001b[39;49m\u001b[43mtest\u001b[49m\u001b[43m,\u001b[49m\n\u001b[1;32m    921\u001b[0m \u001b[43m        \u001b[49m\u001b[43mparameters\u001b[49m\u001b[38;5;241;43m=\u001b[39;49m\u001b[43mparameters\u001b[49m\u001b[43m,\u001b[49m\n\u001b[1;32m    922\u001b[0m \u001b[43m        \u001b[49m\u001b[43msplit_progress\u001b[49m\u001b[38;5;241;43m=\u001b[39;49m\u001b[43m(\u001b[49m\u001b[43msplit_idx\u001b[49m\u001b[43m,\u001b[49m\u001b[43m \u001b[49m\u001b[43mn_splits\u001b[49m\u001b[43m)\u001b[49m\u001b[43m,\u001b[49m\n\u001b[1;32m    923\u001b[0m \u001b[43m        \u001b[49m\u001b[43mcandidate_progress\u001b[49m\u001b[38;5;241;43m=\u001b[39;49m\u001b[43m(\u001b[49m\u001b[43mcand_idx\u001b[49m\u001b[43m,\u001b[49m\u001b[43m \u001b[49m\u001b[43mn_candidates\u001b[49m\u001b[43m)\u001b[49m\u001b[43m,\u001b[49m\n\u001b[1;32m    924\u001b[0m \u001b[43m        \u001b[49m\u001b[38;5;241;43m*\u001b[39;49m\u001b[38;5;241;43m*\u001b[39;49m\u001b[43mfit_and_score_kwargs\u001b[49m\u001b[43m,\u001b[49m\n\u001b[1;32m    925\u001b[0m \u001b[43m    \u001b[49m\u001b[43m)\u001b[49m\n\u001b[1;32m    926\u001b[0m \u001b[43m    \u001b[49m\u001b[38;5;28;43;01mfor\u001b[39;49;00m\u001b[43m \u001b[49m\u001b[43m(\u001b[49m\u001b[43mcand_idx\u001b[49m\u001b[43m,\u001b[49m\u001b[43m \u001b[49m\u001b[43mparameters\u001b[49m\u001b[43m)\u001b[49m\u001b[43m,\u001b[49m\u001b[43m \u001b[49m\u001b[43m(\u001b[49m\u001b[43msplit_idx\u001b[49m\u001b[43m,\u001b[49m\u001b[43m \u001b[49m\u001b[43m(\u001b[49m\u001b[43mtrain\u001b[49m\u001b[43m,\u001b[49m\u001b[43m \u001b[49m\u001b[43mtest\u001b[49m\u001b[43m)\u001b[49m\u001b[43m)\u001b[49m\u001b[43m \u001b[49m\u001b[38;5;129;43;01min\u001b[39;49;00m\u001b[43m \u001b[49m\u001b[43mproduct\u001b[49m\u001b[43m(\u001b[49m\n\u001b[1;32m    927\u001b[0m \u001b[43m        \u001b[49m\u001b[38;5;28;43menumerate\u001b[39;49m\u001b[43m(\u001b[49m\u001b[43mcandidate_params\u001b[49m\u001b[43m)\u001b[49m\u001b[43m,\u001b[49m\n\u001b[1;32m    928\u001b[0m \u001b[43m        \u001b[49m\u001b[38;5;28;43menumerate\u001b[39;49m\u001b[43m(\u001b[49m\u001b[43mcv\u001b[49m\u001b[38;5;241;43m.\u001b[39;49m\u001b[43msplit\u001b[49m\u001b[43m(\u001b[49m\u001b[43mX\u001b[49m\u001b[43m,\u001b[49m\u001b[43m \u001b[49m\u001b[43my\u001b[49m\u001b[43m,\u001b[49m\u001b[43m \u001b[49m\u001b[38;5;241;43m*\u001b[39;49m\u001b[38;5;241;43m*\u001b[39;49m\u001b[43mrouted_params\u001b[49m\u001b[38;5;241;43m.\u001b[39;49m\u001b[43msplitter\u001b[49m\u001b[38;5;241;43m.\u001b[39;49m\u001b[43msplit\u001b[49m\u001b[43m)\u001b[49m\u001b[43m)\u001b[49m\u001b[43m,\u001b[49m\n\u001b[1;32m    929\u001b[0m \u001b[43m    \u001b[49m\u001b[43m)\u001b[49m\n\u001b[1;32m    930\u001b[0m \u001b[43m\u001b[49m\u001b[43m)\u001b[49m\n\u001b[1;32m    932\u001b[0m \u001b[38;5;28;01mif\u001b[39;00m \u001b[38;5;28mlen\u001b[39m(out) \u001b[38;5;241m<\u001b[39m \u001b[38;5;241m1\u001b[39m:\n\u001b[1;32m    933\u001b[0m     \u001b[38;5;28;01mraise\u001b[39;00m \u001b[38;5;167;01mValueError\u001b[39;00m(\n\u001b[1;32m    934\u001b[0m         \u001b[38;5;124m\"\u001b[39m\u001b[38;5;124mNo fits were performed. \u001b[39m\u001b[38;5;124m\"\u001b[39m\n\u001b[1;32m    935\u001b[0m         \u001b[38;5;124m\"\u001b[39m\u001b[38;5;124mWas the CV iterator empty? \u001b[39m\u001b[38;5;124m\"\u001b[39m\n\u001b[1;32m    936\u001b[0m         \u001b[38;5;124m\"\u001b[39m\u001b[38;5;124mWere there no candidates?\u001b[39m\u001b[38;5;124m\"\u001b[39m\n\u001b[1;32m    937\u001b[0m     )\n",
      "File \u001b[0;32m/opt/anaconda3/envs/MLlearning/lib/python3.9/site-packages/sklearn/utils/parallel.py:67\u001b[0m, in \u001b[0;36mParallel.__call__\u001b[0;34m(self, iterable)\u001b[0m\n\u001b[1;32m     62\u001b[0m config \u001b[38;5;241m=\u001b[39m get_config()\n\u001b[1;32m     63\u001b[0m iterable_with_config \u001b[38;5;241m=\u001b[39m (\n\u001b[1;32m     64\u001b[0m     (_with_config(delayed_func, config), args, kwargs)\n\u001b[1;32m     65\u001b[0m     \u001b[38;5;28;01mfor\u001b[39;00m delayed_func, args, kwargs \u001b[38;5;129;01min\u001b[39;00m iterable\n\u001b[1;32m     66\u001b[0m )\n\u001b[0;32m---> 67\u001b[0m \u001b[38;5;28;01mreturn\u001b[39;00m \u001b[38;5;28;43msuper\u001b[39;49m\u001b[43m(\u001b[49m\u001b[43m)\u001b[49m\u001b[38;5;241;43m.\u001b[39;49m\u001b[38;5;21;43m__call__\u001b[39;49m\u001b[43m(\u001b[49m\u001b[43miterable_with_config\u001b[49m\u001b[43m)\u001b[49m\n",
      "File \u001b[0;32m/opt/anaconda3/envs/MLlearning/lib/python3.9/site-packages/joblib/parallel.py:1918\u001b[0m, in \u001b[0;36mParallel.__call__\u001b[0;34m(self, iterable)\u001b[0m\n\u001b[1;32m   1916\u001b[0m     output \u001b[38;5;241m=\u001b[39m \u001b[38;5;28mself\u001b[39m\u001b[38;5;241m.\u001b[39m_get_sequential_output(iterable)\n\u001b[1;32m   1917\u001b[0m     \u001b[38;5;28mnext\u001b[39m(output)\n\u001b[0;32m-> 1918\u001b[0m     \u001b[38;5;28;01mreturn\u001b[39;00m output \u001b[38;5;28;01mif\u001b[39;00m \u001b[38;5;28mself\u001b[39m\u001b[38;5;241m.\u001b[39mreturn_generator \u001b[38;5;28;01melse\u001b[39;00m \u001b[38;5;28;43mlist\u001b[39;49m\u001b[43m(\u001b[49m\u001b[43moutput\u001b[49m\u001b[43m)\u001b[49m\n\u001b[1;32m   1920\u001b[0m \u001b[38;5;66;03m# Let's create an ID that uniquely identifies the current call. If the\u001b[39;00m\n\u001b[1;32m   1921\u001b[0m \u001b[38;5;66;03m# call is interrupted early and that the same instance is immediately\u001b[39;00m\n\u001b[1;32m   1922\u001b[0m \u001b[38;5;66;03m# re-used, this id will be used to prevent workers that were\u001b[39;00m\n\u001b[1;32m   1923\u001b[0m \u001b[38;5;66;03m# concurrently finalizing a task from the previous call to run the\u001b[39;00m\n\u001b[1;32m   1924\u001b[0m \u001b[38;5;66;03m# callback.\u001b[39;00m\n\u001b[1;32m   1925\u001b[0m \u001b[38;5;28;01mwith\u001b[39;00m \u001b[38;5;28mself\u001b[39m\u001b[38;5;241m.\u001b[39m_lock:\n",
      "File \u001b[0;32m/opt/anaconda3/envs/MLlearning/lib/python3.9/site-packages/joblib/parallel.py:1847\u001b[0m, in \u001b[0;36mParallel._get_sequential_output\u001b[0;34m(self, iterable)\u001b[0m\n\u001b[1;32m   1845\u001b[0m \u001b[38;5;28mself\u001b[39m\u001b[38;5;241m.\u001b[39mn_dispatched_batches \u001b[38;5;241m+\u001b[39m\u001b[38;5;241m=\u001b[39m \u001b[38;5;241m1\u001b[39m\n\u001b[1;32m   1846\u001b[0m \u001b[38;5;28mself\u001b[39m\u001b[38;5;241m.\u001b[39mn_dispatched_tasks \u001b[38;5;241m+\u001b[39m\u001b[38;5;241m=\u001b[39m \u001b[38;5;241m1\u001b[39m\n\u001b[0;32m-> 1847\u001b[0m res \u001b[38;5;241m=\u001b[39m \u001b[43mfunc\u001b[49m\u001b[43m(\u001b[49m\u001b[38;5;241;43m*\u001b[39;49m\u001b[43margs\u001b[49m\u001b[43m,\u001b[49m\u001b[43m \u001b[49m\u001b[38;5;241;43m*\u001b[39;49m\u001b[38;5;241;43m*\u001b[39;49m\u001b[43mkwargs\u001b[49m\u001b[43m)\u001b[49m\n\u001b[1;32m   1848\u001b[0m \u001b[38;5;28mself\u001b[39m\u001b[38;5;241m.\u001b[39mn_completed_tasks \u001b[38;5;241m+\u001b[39m\u001b[38;5;241m=\u001b[39m \u001b[38;5;241m1\u001b[39m\n\u001b[1;32m   1849\u001b[0m \u001b[38;5;28mself\u001b[39m\u001b[38;5;241m.\u001b[39mprint_progress()\n",
      "File \u001b[0;32m/opt/anaconda3/envs/MLlearning/lib/python3.9/site-packages/sklearn/utils/parallel.py:129\u001b[0m, in \u001b[0;36m_FuncWrapper.__call__\u001b[0;34m(self, *args, **kwargs)\u001b[0m\n\u001b[1;32m    127\u001b[0m     config \u001b[38;5;241m=\u001b[39m {}\n\u001b[1;32m    128\u001b[0m \u001b[38;5;28;01mwith\u001b[39;00m config_context(\u001b[38;5;241m*\u001b[39m\u001b[38;5;241m*\u001b[39mconfig):\n\u001b[0;32m--> 129\u001b[0m     \u001b[38;5;28;01mreturn\u001b[39;00m \u001b[38;5;28;43mself\u001b[39;49m\u001b[38;5;241;43m.\u001b[39;49m\u001b[43mfunction\u001b[49m\u001b[43m(\u001b[49m\u001b[38;5;241;43m*\u001b[39;49m\u001b[43margs\u001b[49m\u001b[43m,\u001b[49m\u001b[43m \u001b[49m\u001b[38;5;241;43m*\u001b[39;49m\u001b[38;5;241;43m*\u001b[39;49m\u001b[43mkwargs\u001b[49m\u001b[43m)\u001b[49m\n",
      "File \u001b[0;32m/opt/anaconda3/envs/MLlearning/lib/python3.9/site-packages/sklearn/model_selection/_validation.py:888\u001b[0m, in \u001b[0;36m_fit_and_score\u001b[0;34m(estimator, X, y, scorer, train, test, verbose, parameters, fit_params, score_params, return_train_score, return_parameters, return_n_test_samples, return_times, return_estimator, split_progress, candidate_progress, error_score)\u001b[0m\n\u001b[1;32m    886\u001b[0m         estimator\u001b[38;5;241m.\u001b[39mfit(X_train, \u001b[38;5;241m*\u001b[39m\u001b[38;5;241m*\u001b[39mfit_params)\n\u001b[1;32m    887\u001b[0m     \u001b[38;5;28;01melse\u001b[39;00m:\n\u001b[0;32m--> 888\u001b[0m         \u001b[43mestimator\u001b[49m\u001b[38;5;241;43m.\u001b[39;49m\u001b[43mfit\u001b[49m\u001b[43m(\u001b[49m\u001b[43mX_train\u001b[49m\u001b[43m,\u001b[49m\u001b[43m \u001b[49m\u001b[43my_train\u001b[49m\u001b[43m,\u001b[49m\u001b[43m \u001b[49m\u001b[38;5;241;43m*\u001b[39;49m\u001b[38;5;241;43m*\u001b[39;49m\u001b[43mfit_params\u001b[49m\u001b[43m)\u001b[49m\n\u001b[1;32m    890\u001b[0m \u001b[38;5;28;01mexcept\u001b[39;00m \u001b[38;5;167;01mException\u001b[39;00m:\n\u001b[1;32m    891\u001b[0m     \u001b[38;5;66;03m# Note fit time as time until error\u001b[39;00m\n\u001b[1;32m    892\u001b[0m     fit_time \u001b[38;5;241m=\u001b[39m time\u001b[38;5;241m.\u001b[39mtime() \u001b[38;5;241m-\u001b[39m start_time\n",
      "File \u001b[0;32m/opt/anaconda3/envs/MLlearning/lib/python3.9/site-packages/xgboost/core.py:730\u001b[0m, in \u001b[0;36mrequire_keyword_args.<locals>.throw_if.<locals>.inner_f\u001b[0;34m(*args, **kwargs)\u001b[0m\n\u001b[1;32m    728\u001b[0m \u001b[38;5;28;01mfor\u001b[39;00m k, arg \u001b[38;5;129;01min\u001b[39;00m \u001b[38;5;28mzip\u001b[39m(sig\u001b[38;5;241m.\u001b[39mparameters, args):\n\u001b[1;32m    729\u001b[0m     kwargs[k] \u001b[38;5;241m=\u001b[39m arg\n\u001b[0;32m--> 730\u001b[0m \u001b[38;5;28;01mreturn\u001b[39;00m \u001b[43mfunc\u001b[49m\u001b[43m(\u001b[49m\u001b[38;5;241;43m*\u001b[39;49m\u001b[38;5;241;43m*\u001b[39;49m\u001b[43mkwargs\u001b[49m\u001b[43m)\u001b[49m\n",
      "File \u001b[0;32m/opt/anaconda3/envs/MLlearning/lib/python3.9/site-packages/xgboost/sklearn.py:1519\u001b[0m, in \u001b[0;36mXGBClassifier.fit\u001b[0;34m(self, X, y, sample_weight, base_margin, eval_set, eval_metric, early_stopping_rounds, verbose, xgb_model, sample_weight_eval_set, base_margin_eval_set, feature_weights, callbacks)\u001b[0m\n\u001b[1;32m   1491\u001b[0m (\n\u001b[1;32m   1492\u001b[0m     model,\n\u001b[1;32m   1493\u001b[0m     metric,\n\u001b[0;32m   (...)\u001b[0m\n\u001b[1;32m   1498\u001b[0m     xgb_model, eval_metric, params, early_stopping_rounds, callbacks\n\u001b[1;32m   1499\u001b[0m )\n\u001b[1;32m   1500\u001b[0m train_dmatrix, evals \u001b[38;5;241m=\u001b[39m _wrap_evaluation_matrices(\n\u001b[1;32m   1501\u001b[0m     missing\u001b[38;5;241m=\u001b[39m\u001b[38;5;28mself\u001b[39m\u001b[38;5;241m.\u001b[39mmissing,\n\u001b[1;32m   1502\u001b[0m     X\u001b[38;5;241m=\u001b[39mX,\n\u001b[0;32m   (...)\u001b[0m\n\u001b[1;32m   1516\u001b[0m     feature_types\u001b[38;5;241m=\u001b[39m\u001b[38;5;28mself\u001b[39m\u001b[38;5;241m.\u001b[39mfeature_types,\n\u001b[1;32m   1517\u001b[0m )\n\u001b[0;32m-> 1519\u001b[0m \u001b[38;5;28mself\u001b[39m\u001b[38;5;241m.\u001b[39m_Booster \u001b[38;5;241m=\u001b[39m \u001b[43mtrain\u001b[49m\u001b[43m(\u001b[49m\n\u001b[1;32m   1520\u001b[0m \u001b[43m    \u001b[49m\u001b[43mparams\u001b[49m\u001b[43m,\u001b[49m\n\u001b[1;32m   1521\u001b[0m \u001b[43m    \u001b[49m\u001b[43mtrain_dmatrix\u001b[49m\u001b[43m,\u001b[49m\n\u001b[1;32m   1522\u001b[0m \u001b[43m    \u001b[49m\u001b[38;5;28;43mself\u001b[39;49m\u001b[38;5;241;43m.\u001b[39;49m\u001b[43mget_num_boosting_rounds\u001b[49m\u001b[43m(\u001b[49m\u001b[43m)\u001b[49m\u001b[43m,\u001b[49m\n\u001b[1;32m   1523\u001b[0m \u001b[43m    \u001b[49m\u001b[43mevals\u001b[49m\u001b[38;5;241;43m=\u001b[39;49m\u001b[43mevals\u001b[49m\u001b[43m,\u001b[49m\n\u001b[1;32m   1524\u001b[0m \u001b[43m    \u001b[49m\u001b[43mearly_stopping_rounds\u001b[49m\u001b[38;5;241;43m=\u001b[39;49m\u001b[43mearly_stopping_rounds\u001b[49m\u001b[43m,\u001b[49m\n\u001b[1;32m   1525\u001b[0m \u001b[43m    \u001b[49m\u001b[43mevals_result\u001b[49m\u001b[38;5;241;43m=\u001b[39;49m\u001b[43mevals_result\u001b[49m\u001b[43m,\u001b[49m\n\u001b[1;32m   1526\u001b[0m \u001b[43m    \u001b[49m\u001b[43mobj\u001b[49m\u001b[38;5;241;43m=\u001b[39;49m\u001b[43mobj\u001b[49m\u001b[43m,\u001b[49m\n\u001b[1;32m   1527\u001b[0m \u001b[43m    \u001b[49m\u001b[43mcustom_metric\u001b[49m\u001b[38;5;241;43m=\u001b[39;49m\u001b[43mmetric\u001b[49m\u001b[43m,\u001b[49m\n\u001b[1;32m   1528\u001b[0m \u001b[43m    \u001b[49m\u001b[43mverbose_eval\u001b[49m\u001b[38;5;241;43m=\u001b[39;49m\u001b[43mverbose\u001b[49m\u001b[43m,\u001b[49m\n\u001b[1;32m   1529\u001b[0m \u001b[43m    \u001b[49m\u001b[43mxgb_model\u001b[49m\u001b[38;5;241;43m=\u001b[39;49m\u001b[43mmodel\u001b[49m\u001b[43m,\u001b[49m\n\u001b[1;32m   1530\u001b[0m \u001b[43m    \u001b[49m\u001b[43mcallbacks\u001b[49m\u001b[38;5;241;43m=\u001b[39;49m\u001b[43mcallbacks\u001b[49m\u001b[43m,\u001b[49m\n\u001b[1;32m   1531\u001b[0m \u001b[43m\u001b[49m\u001b[43m)\u001b[49m\n\u001b[1;32m   1533\u001b[0m \u001b[38;5;28;01mif\u001b[39;00m \u001b[38;5;129;01mnot\u001b[39;00m \u001b[38;5;28mcallable\u001b[39m(\u001b[38;5;28mself\u001b[39m\u001b[38;5;241m.\u001b[39mobjective):\n\u001b[1;32m   1534\u001b[0m     \u001b[38;5;28mself\u001b[39m\u001b[38;5;241m.\u001b[39mobjective \u001b[38;5;241m=\u001b[39m params[\u001b[38;5;124m\"\u001b[39m\u001b[38;5;124mobjective\u001b[39m\u001b[38;5;124m\"\u001b[39m]\n",
      "File \u001b[0;32m/opt/anaconda3/envs/MLlearning/lib/python3.9/site-packages/xgboost/core.py:730\u001b[0m, in \u001b[0;36mrequire_keyword_args.<locals>.throw_if.<locals>.inner_f\u001b[0;34m(*args, **kwargs)\u001b[0m\n\u001b[1;32m    728\u001b[0m \u001b[38;5;28;01mfor\u001b[39;00m k, arg \u001b[38;5;129;01min\u001b[39;00m \u001b[38;5;28mzip\u001b[39m(sig\u001b[38;5;241m.\u001b[39mparameters, args):\n\u001b[1;32m    729\u001b[0m     kwargs[k] \u001b[38;5;241m=\u001b[39m arg\n\u001b[0;32m--> 730\u001b[0m \u001b[38;5;28;01mreturn\u001b[39;00m \u001b[43mfunc\u001b[49m\u001b[43m(\u001b[49m\u001b[38;5;241;43m*\u001b[39;49m\u001b[38;5;241;43m*\u001b[39;49m\u001b[43mkwargs\u001b[49m\u001b[43m)\u001b[49m\n",
      "File \u001b[0;32m/opt/anaconda3/envs/MLlearning/lib/python3.9/site-packages/xgboost/training.py:181\u001b[0m, in \u001b[0;36mtrain\u001b[0;34m(params, dtrain, num_boost_round, evals, obj, feval, maximize, early_stopping_rounds, evals_result, verbose_eval, xgb_model, callbacks, custom_metric)\u001b[0m\n\u001b[1;32m    179\u001b[0m \u001b[38;5;28;01mif\u001b[39;00m cb_container\u001b[38;5;241m.\u001b[39mbefore_iteration(bst, i, dtrain, evals):\n\u001b[1;32m    180\u001b[0m     \u001b[38;5;28;01mbreak\u001b[39;00m\n\u001b[0;32m--> 181\u001b[0m \u001b[43mbst\u001b[49m\u001b[38;5;241;43m.\u001b[39;49m\u001b[43mupdate\u001b[49m\u001b[43m(\u001b[49m\u001b[43mdtrain\u001b[49m\u001b[43m,\u001b[49m\u001b[43m \u001b[49m\u001b[43mi\u001b[49m\u001b[43m,\u001b[49m\u001b[43m \u001b[49m\u001b[43mobj\u001b[49m\u001b[43m)\u001b[49m\n\u001b[1;32m    182\u001b[0m \u001b[38;5;28;01mif\u001b[39;00m cb_container\u001b[38;5;241m.\u001b[39mafter_iteration(bst, i, dtrain, evals):\n\u001b[1;32m    183\u001b[0m     \u001b[38;5;28;01mbreak\u001b[39;00m\n",
      "File \u001b[0;32m/opt/anaconda3/envs/MLlearning/lib/python3.9/site-packages/xgboost/core.py:2051\u001b[0m, in \u001b[0;36mBooster.update\u001b[0;34m(self, dtrain, iteration, fobj)\u001b[0m\n\u001b[1;32m   2047\u001b[0m \u001b[38;5;28mself\u001b[39m\u001b[38;5;241m.\u001b[39m_assign_dmatrix_features(dtrain)\n\u001b[1;32m   2049\u001b[0m \u001b[38;5;28;01mif\u001b[39;00m fobj \u001b[38;5;129;01mis\u001b[39;00m \u001b[38;5;28;01mNone\u001b[39;00m:\n\u001b[1;32m   2050\u001b[0m     _check_call(\n\u001b[0;32m-> 2051\u001b[0m         \u001b[43m_LIB\u001b[49m\u001b[38;5;241;43m.\u001b[39;49m\u001b[43mXGBoosterUpdateOneIter\u001b[49m\u001b[43m(\u001b[49m\n\u001b[1;32m   2052\u001b[0m \u001b[43m            \u001b[49m\u001b[38;5;28;43mself\u001b[39;49m\u001b[38;5;241;43m.\u001b[39;49m\u001b[43mhandle\u001b[49m\u001b[43m,\u001b[49m\u001b[43m \u001b[49m\u001b[43mctypes\u001b[49m\u001b[38;5;241;43m.\u001b[39;49m\u001b[43mc_int\u001b[49m\u001b[43m(\u001b[49m\u001b[43miteration\u001b[49m\u001b[43m)\u001b[49m\u001b[43m,\u001b[49m\u001b[43m \u001b[49m\u001b[43mdtrain\u001b[49m\u001b[38;5;241;43m.\u001b[39;49m\u001b[43mhandle\u001b[49m\n\u001b[1;32m   2053\u001b[0m \u001b[43m        \u001b[49m\u001b[43m)\u001b[49m\n\u001b[1;32m   2054\u001b[0m     )\n\u001b[1;32m   2055\u001b[0m \u001b[38;5;28;01melse\u001b[39;00m:\n\u001b[1;32m   2056\u001b[0m     pred \u001b[38;5;241m=\u001b[39m \u001b[38;5;28mself\u001b[39m\u001b[38;5;241m.\u001b[39mpredict(dtrain, output_margin\u001b[38;5;241m=\u001b[39m\u001b[38;5;28;01mTrue\u001b[39;00m, training\u001b[38;5;241m=\u001b[39m\u001b[38;5;28;01mTrue\u001b[39;00m)\n",
      "\u001b[0;31mKeyboardInterrupt\u001b[0m: "
     ]
    }
   ],
   "source": [
    "bayes_search.fit(Xe1, ye1)"
   ]
  },
  {
   "cell_type": "code",
   "execution_count": 37,
   "id": "b40fe0cf-c23b-40c7-9a9b-454f2ccbd726",
   "metadata": {},
   "outputs": [
    {
     "data": {
      "text/plain": [
       "OrderedDict([('bootstrap', True),\n",
       "             ('max_depth', 9),\n",
       "             ('min_samples_leaf', 1),\n",
       "             ('min_samples_split', 0.1),\n",
       "             ('n_estimators', 97)])"
      ]
     },
     "execution_count": 37,
     "metadata": {},
     "output_type": "execute_result"
    }
   ],
   "source": [
    "bayes_search.best_params_"
   ]
  },
  {
   "cell_type": "code",
   "execution_count": null,
   "id": "e903d775-e19c-4af5-b9b0-25632220f591",
   "metadata": {},
   "outputs": [],
   "source": []
  },
  {
   "cell_type": "code",
   "execution_count": null,
   "id": "a21c64cb-d935-40dd-93e0-1de4dee02b59",
   "metadata": {},
   "outputs": [],
   "source": []
  },
  {
   "cell_type": "markdown",
   "id": "3e8b4e0c-1e4e-4df5-afeb-40f33d467c8a",
   "metadata": {},
   "source": [
    "### XgbClassifier for Step1: Figure out effects of features on Ecnomic_trend"
   ]
  },
  {
   "cell_type": "code",
   "execution_count": 19,
   "id": "e7121925-0134-43b4-b346-e1a592ce7383",
   "metadata": {},
   "outputs": [
    {
     "data": {
      "text/html": [
       "<style>#sk-container-id-1 {\n",
       "  /* Definition of color scheme common for light and dark mode */\n",
       "  --sklearn-color-text: black;\n",
       "  --sklearn-color-line: gray;\n",
       "  /* Definition of color scheme for unfitted estimators */\n",
       "  --sklearn-color-unfitted-level-0: #fff5e6;\n",
       "  --sklearn-color-unfitted-level-1: #f6e4d2;\n",
       "  --sklearn-color-unfitted-level-2: #ffe0b3;\n",
       "  --sklearn-color-unfitted-level-3: chocolate;\n",
       "  /* Definition of color scheme for fitted estimators */\n",
       "  --sklearn-color-fitted-level-0: #f0f8ff;\n",
       "  --sklearn-color-fitted-level-1: #d4ebff;\n",
       "  --sklearn-color-fitted-level-2: #b3dbfd;\n",
       "  --sklearn-color-fitted-level-3: cornflowerblue;\n",
       "\n",
       "  /* Specific color for light theme */\n",
       "  --sklearn-color-text-on-default-background: var(--sg-text-color, var(--theme-code-foreground, var(--jp-content-font-color1, black)));\n",
       "  --sklearn-color-background: var(--sg-background-color, var(--theme-background, var(--jp-layout-color0, white)));\n",
       "  --sklearn-color-border-box: var(--sg-text-color, var(--theme-code-foreground, var(--jp-content-font-color1, black)));\n",
       "  --sklearn-color-icon: #696969;\n",
       "\n",
       "  @media (prefers-color-scheme: dark) {\n",
       "    /* Redefinition of color scheme for dark theme */\n",
       "    --sklearn-color-text-on-default-background: var(--sg-text-color, var(--theme-code-foreground, var(--jp-content-font-color1, white)));\n",
       "    --sklearn-color-background: var(--sg-background-color, var(--theme-background, var(--jp-layout-color0, #111)));\n",
       "    --sklearn-color-border-box: var(--sg-text-color, var(--theme-code-foreground, var(--jp-content-font-color1, white)));\n",
       "    --sklearn-color-icon: #878787;\n",
       "  }\n",
       "}\n",
       "\n",
       "#sk-container-id-1 {\n",
       "  color: var(--sklearn-color-text);\n",
       "}\n",
       "\n",
       "#sk-container-id-1 pre {\n",
       "  padding: 0;\n",
       "}\n",
       "\n",
       "#sk-container-id-1 input.sk-hidden--visually {\n",
       "  border: 0;\n",
       "  clip: rect(1px 1px 1px 1px);\n",
       "  clip: rect(1px, 1px, 1px, 1px);\n",
       "  height: 1px;\n",
       "  margin: -1px;\n",
       "  overflow: hidden;\n",
       "  padding: 0;\n",
       "  position: absolute;\n",
       "  width: 1px;\n",
       "}\n",
       "\n",
       "#sk-container-id-1 div.sk-dashed-wrapped {\n",
       "  border: 1px dashed var(--sklearn-color-line);\n",
       "  margin: 0 0.4em 0.5em 0.4em;\n",
       "  box-sizing: border-box;\n",
       "  padding-bottom: 0.4em;\n",
       "  background-color: var(--sklearn-color-background);\n",
       "}\n",
       "\n",
       "#sk-container-id-1 div.sk-container {\n",
       "  /* jupyter's `normalize.less` sets `[hidden] { display: none; }`\n",
       "     but bootstrap.min.css set `[hidden] { display: none !important; }`\n",
       "     so we also need the `!important` here to be able to override the\n",
       "     default hidden behavior on the sphinx rendered scikit-learn.org.\n",
       "     See: https://github.com/scikit-learn/scikit-learn/issues/21755 */\n",
       "  display: inline-block !important;\n",
       "  position: relative;\n",
       "}\n",
       "\n",
       "#sk-container-id-1 div.sk-text-repr-fallback {\n",
       "  display: none;\n",
       "}\n",
       "\n",
       "div.sk-parallel-item,\n",
       "div.sk-serial,\n",
       "div.sk-item {\n",
       "  /* draw centered vertical line to link estimators */\n",
       "  background-image: linear-gradient(var(--sklearn-color-text-on-default-background), var(--sklearn-color-text-on-default-background));\n",
       "  background-size: 2px 100%;\n",
       "  background-repeat: no-repeat;\n",
       "  background-position: center center;\n",
       "}\n",
       "\n",
       "/* Parallel-specific style estimator block */\n",
       "\n",
       "#sk-container-id-1 div.sk-parallel-item::after {\n",
       "  content: \"\";\n",
       "  width: 100%;\n",
       "  border-bottom: 2px solid var(--sklearn-color-text-on-default-background);\n",
       "  flex-grow: 1;\n",
       "}\n",
       "\n",
       "#sk-container-id-1 div.sk-parallel {\n",
       "  display: flex;\n",
       "  align-items: stretch;\n",
       "  justify-content: center;\n",
       "  background-color: var(--sklearn-color-background);\n",
       "  position: relative;\n",
       "}\n",
       "\n",
       "#sk-container-id-1 div.sk-parallel-item {\n",
       "  display: flex;\n",
       "  flex-direction: column;\n",
       "}\n",
       "\n",
       "#sk-container-id-1 div.sk-parallel-item:first-child::after {\n",
       "  align-self: flex-end;\n",
       "  width: 50%;\n",
       "}\n",
       "\n",
       "#sk-container-id-1 div.sk-parallel-item:last-child::after {\n",
       "  align-self: flex-start;\n",
       "  width: 50%;\n",
       "}\n",
       "\n",
       "#sk-container-id-1 div.sk-parallel-item:only-child::after {\n",
       "  width: 0;\n",
       "}\n",
       "\n",
       "/* Serial-specific style estimator block */\n",
       "\n",
       "#sk-container-id-1 div.sk-serial {\n",
       "  display: flex;\n",
       "  flex-direction: column;\n",
       "  align-items: center;\n",
       "  background-color: var(--sklearn-color-background);\n",
       "  padding-right: 1em;\n",
       "  padding-left: 1em;\n",
       "}\n",
       "\n",
       "\n",
       "/* Toggleable style: style used for estimator/Pipeline/ColumnTransformer box that is\n",
       "clickable and can be expanded/collapsed.\n",
       "- Pipeline and ColumnTransformer use this feature and define the default style\n",
       "- Estimators will overwrite some part of the style using the `sk-estimator` class\n",
       "*/\n",
       "\n",
       "/* Pipeline and ColumnTransformer style (default) */\n",
       "\n",
       "#sk-container-id-1 div.sk-toggleable {\n",
       "  /* Default theme specific background. It is overwritten whether we have a\n",
       "  specific estimator or a Pipeline/ColumnTransformer */\n",
       "  background-color: var(--sklearn-color-background);\n",
       "}\n",
       "\n",
       "/* Toggleable label */\n",
       "#sk-container-id-1 label.sk-toggleable__label {\n",
       "  cursor: pointer;\n",
       "  display: block;\n",
       "  width: 100%;\n",
       "  margin-bottom: 0;\n",
       "  padding: 0.5em;\n",
       "  box-sizing: border-box;\n",
       "  text-align: center;\n",
       "}\n",
       "\n",
       "#sk-container-id-1 label.sk-toggleable__label-arrow:before {\n",
       "  /* Arrow on the left of the label */\n",
       "  content: \"▸\";\n",
       "  float: left;\n",
       "  margin-right: 0.25em;\n",
       "  color: var(--sklearn-color-icon);\n",
       "}\n",
       "\n",
       "#sk-container-id-1 label.sk-toggleable__label-arrow:hover:before {\n",
       "  color: var(--sklearn-color-text);\n",
       "}\n",
       "\n",
       "/* Toggleable content - dropdown */\n",
       "\n",
       "#sk-container-id-1 div.sk-toggleable__content {\n",
       "  max-height: 0;\n",
       "  max-width: 0;\n",
       "  overflow: hidden;\n",
       "  text-align: left;\n",
       "  /* unfitted */\n",
       "  background-color: var(--sklearn-color-unfitted-level-0);\n",
       "}\n",
       "\n",
       "#sk-container-id-1 div.sk-toggleable__content.fitted {\n",
       "  /* fitted */\n",
       "  background-color: var(--sklearn-color-fitted-level-0);\n",
       "}\n",
       "\n",
       "#sk-container-id-1 div.sk-toggleable__content pre {\n",
       "  margin: 0.2em;\n",
       "  border-radius: 0.25em;\n",
       "  color: var(--sklearn-color-text);\n",
       "  /* unfitted */\n",
       "  background-color: var(--sklearn-color-unfitted-level-0);\n",
       "}\n",
       "\n",
       "#sk-container-id-1 div.sk-toggleable__content.fitted pre {\n",
       "  /* unfitted */\n",
       "  background-color: var(--sklearn-color-fitted-level-0);\n",
       "}\n",
       "\n",
       "#sk-container-id-1 input.sk-toggleable__control:checked~div.sk-toggleable__content {\n",
       "  /* Expand drop-down */\n",
       "  max-height: 200px;\n",
       "  max-width: 100%;\n",
       "  overflow: auto;\n",
       "}\n",
       "\n",
       "#sk-container-id-1 input.sk-toggleable__control:checked~label.sk-toggleable__label-arrow:before {\n",
       "  content: \"▾\";\n",
       "}\n",
       "\n",
       "/* Pipeline/ColumnTransformer-specific style */\n",
       "\n",
       "#sk-container-id-1 div.sk-label input.sk-toggleable__control:checked~label.sk-toggleable__label {\n",
       "  color: var(--sklearn-color-text);\n",
       "  background-color: var(--sklearn-color-unfitted-level-2);\n",
       "}\n",
       "\n",
       "#sk-container-id-1 div.sk-label.fitted input.sk-toggleable__control:checked~label.sk-toggleable__label {\n",
       "  background-color: var(--sklearn-color-fitted-level-2);\n",
       "}\n",
       "\n",
       "/* Estimator-specific style */\n",
       "\n",
       "/* Colorize estimator box */\n",
       "#sk-container-id-1 div.sk-estimator input.sk-toggleable__control:checked~label.sk-toggleable__label {\n",
       "  /* unfitted */\n",
       "  background-color: var(--sklearn-color-unfitted-level-2);\n",
       "}\n",
       "\n",
       "#sk-container-id-1 div.sk-estimator.fitted input.sk-toggleable__control:checked~label.sk-toggleable__label {\n",
       "  /* fitted */\n",
       "  background-color: var(--sklearn-color-fitted-level-2);\n",
       "}\n",
       "\n",
       "#sk-container-id-1 div.sk-label label.sk-toggleable__label,\n",
       "#sk-container-id-1 div.sk-label label {\n",
       "  /* The background is the default theme color */\n",
       "  color: var(--sklearn-color-text-on-default-background);\n",
       "}\n",
       "\n",
       "/* On hover, darken the color of the background */\n",
       "#sk-container-id-1 div.sk-label:hover label.sk-toggleable__label {\n",
       "  color: var(--sklearn-color-text);\n",
       "  background-color: var(--sklearn-color-unfitted-level-2);\n",
       "}\n",
       "\n",
       "/* Label box, darken color on hover, fitted */\n",
       "#sk-container-id-1 div.sk-label.fitted:hover label.sk-toggleable__label.fitted {\n",
       "  color: var(--sklearn-color-text);\n",
       "  background-color: var(--sklearn-color-fitted-level-2);\n",
       "}\n",
       "\n",
       "/* Estimator label */\n",
       "\n",
       "#sk-container-id-1 div.sk-label label {\n",
       "  font-family: monospace;\n",
       "  font-weight: bold;\n",
       "  display: inline-block;\n",
       "  line-height: 1.2em;\n",
       "}\n",
       "\n",
       "#sk-container-id-1 div.sk-label-container {\n",
       "  text-align: center;\n",
       "}\n",
       "\n",
       "/* Estimator-specific */\n",
       "#sk-container-id-1 div.sk-estimator {\n",
       "  font-family: monospace;\n",
       "  border: 1px dotted var(--sklearn-color-border-box);\n",
       "  border-radius: 0.25em;\n",
       "  box-sizing: border-box;\n",
       "  margin-bottom: 0.5em;\n",
       "  /* unfitted */\n",
       "  background-color: var(--sklearn-color-unfitted-level-0);\n",
       "}\n",
       "\n",
       "#sk-container-id-1 div.sk-estimator.fitted {\n",
       "  /* fitted */\n",
       "  background-color: var(--sklearn-color-fitted-level-0);\n",
       "}\n",
       "\n",
       "/* on hover */\n",
       "#sk-container-id-1 div.sk-estimator:hover {\n",
       "  /* unfitted */\n",
       "  background-color: var(--sklearn-color-unfitted-level-2);\n",
       "}\n",
       "\n",
       "#sk-container-id-1 div.sk-estimator.fitted:hover {\n",
       "  /* fitted */\n",
       "  background-color: var(--sklearn-color-fitted-level-2);\n",
       "}\n",
       "\n",
       "/* Specification for estimator info (e.g. \"i\" and \"?\") */\n",
       "\n",
       "/* Common style for \"i\" and \"?\" */\n",
       "\n",
       ".sk-estimator-doc-link,\n",
       "a:link.sk-estimator-doc-link,\n",
       "a:visited.sk-estimator-doc-link {\n",
       "  float: right;\n",
       "  font-size: smaller;\n",
       "  line-height: 1em;\n",
       "  font-family: monospace;\n",
       "  background-color: var(--sklearn-color-background);\n",
       "  border-radius: 1em;\n",
       "  height: 1em;\n",
       "  width: 1em;\n",
       "  text-decoration: none !important;\n",
       "  margin-left: 1ex;\n",
       "  /* unfitted */\n",
       "  border: var(--sklearn-color-unfitted-level-1) 1pt solid;\n",
       "  color: var(--sklearn-color-unfitted-level-1);\n",
       "}\n",
       "\n",
       ".sk-estimator-doc-link.fitted,\n",
       "a:link.sk-estimator-doc-link.fitted,\n",
       "a:visited.sk-estimator-doc-link.fitted {\n",
       "  /* fitted */\n",
       "  border: var(--sklearn-color-fitted-level-1) 1pt solid;\n",
       "  color: var(--sklearn-color-fitted-level-1);\n",
       "}\n",
       "\n",
       "/* On hover */\n",
       "div.sk-estimator:hover .sk-estimator-doc-link:hover,\n",
       ".sk-estimator-doc-link:hover,\n",
       "div.sk-label-container:hover .sk-estimator-doc-link:hover,\n",
       ".sk-estimator-doc-link:hover {\n",
       "  /* unfitted */\n",
       "  background-color: var(--sklearn-color-unfitted-level-3);\n",
       "  color: var(--sklearn-color-background);\n",
       "  text-decoration: none;\n",
       "}\n",
       "\n",
       "div.sk-estimator.fitted:hover .sk-estimator-doc-link.fitted:hover,\n",
       ".sk-estimator-doc-link.fitted:hover,\n",
       "div.sk-label-container:hover .sk-estimator-doc-link.fitted:hover,\n",
       ".sk-estimator-doc-link.fitted:hover {\n",
       "  /* fitted */\n",
       "  background-color: var(--sklearn-color-fitted-level-3);\n",
       "  color: var(--sklearn-color-background);\n",
       "  text-decoration: none;\n",
       "}\n",
       "\n",
       "/* Span, style for the box shown on hovering the info icon */\n",
       ".sk-estimator-doc-link span {\n",
       "  display: none;\n",
       "  z-index: 9999;\n",
       "  position: relative;\n",
       "  font-weight: normal;\n",
       "  right: .2ex;\n",
       "  padding: .5ex;\n",
       "  margin: .5ex;\n",
       "  width: min-content;\n",
       "  min-width: 20ex;\n",
       "  max-width: 50ex;\n",
       "  color: var(--sklearn-color-text);\n",
       "  box-shadow: 2pt 2pt 4pt #999;\n",
       "  /* unfitted */\n",
       "  background: var(--sklearn-color-unfitted-level-0);\n",
       "  border: .5pt solid var(--sklearn-color-unfitted-level-3);\n",
       "}\n",
       "\n",
       ".sk-estimator-doc-link.fitted span {\n",
       "  /* fitted */\n",
       "  background: var(--sklearn-color-fitted-level-0);\n",
       "  border: var(--sklearn-color-fitted-level-3);\n",
       "}\n",
       "\n",
       ".sk-estimator-doc-link:hover span {\n",
       "  display: block;\n",
       "}\n",
       "\n",
       "/* \"?\"-specific style due to the `<a>` HTML tag */\n",
       "\n",
       "#sk-container-id-1 a.estimator_doc_link {\n",
       "  float: right;\n",
       "  font-size: 1rem;\n",
       "  line-height: 1em;\n",
       "  font-family: monospace;\n",
       "  background-color: var(--sklearn-color-background);\n",
       "  border-radius: 1rem;\n",
       "  height: 1rem;\n",
       "  width: 1rem;\n",
       "  text-decoration: none;\n",
       "  /* unfitted */\n",
       "  color: var(--sklearn-color-unfitted-level-1);\n",
       "  border: var(--sklearn-color-unfitted-level-1) 1pt solid;\n",
       "}\n",
       "\n",
       "#sk-container-id-1 a.estimator_doc_link.fitted {\n",
       "  /* fitted */\n",
       "  border: var(--sklearn-color-fitted-level-1) 1pt solid;\n",
       "  color: var(--sklearn-color-fitted-level-1);\n",
       "}\n",
       "\n",
       "/* On hover */\n",
       "#sk-container-id-1 a.estimator_doc_link:hover {\n",
       "  /* unfitted */\n",
       "  background-color: var(--sklearn-color-unfitted-level-3);\n",
       "  color: var(--sklearn-color-background);\n",
       "  text-decoration: none;\n",
       "}\n",
       "\n",
       "#sk-container-id-1 a.estimator_doc_link.fitted:hover {\n",
       "  /* fitted */\n",
       "  background-color: var(--sklearn-color-fitted-level-3);\n",
       "}\n",
       "</style><div id=\"sk-container-id-1\" class=\"sk-top-container\"><div class=\"sk-text-repr-fallback\"><pre>XGBClassifier(base_score=None, booster=None, callbacks=None,\n",
       "              colsample_bylevel=None, colsample_bynode=None,\n",
       "              colsample_bytree=None, device=None, early_stopping_rounds=None,\n",
       "              enable_categorical=True, eval_metric=None, feature_types=None,\n",
       "              gamma=None, grow_policy=None, importance_type=None,\n",
       "              interaction_constraints=None, learning_rate=0.01, max_bin=None,\n",
       "              max_cat_threshold=None, max_cat_to_onehot=None,\n",
       "              max_delta_step=None, max_depth=5, max_leaves=None,\n",
       "              min_child_weight=None, missing=nan, monotone_constraints=None,\n",
       "              multi_strategy=None, n_estimators=500, n_jobs=-1, num_class=3,\n",
       "              num_parallel_tree=None, ...)</pre><b>In a Jupyter environment, please rerun this cell to show the HTML representation or trust the notebook. <br />On GitHub, the HTML representation is unable to render, please try loading this page with nbviewer.org.</b></div><div class=\"sk-container\" hidden><div class=\"sk-item\"><div class=\"sk-estimator fitted sk-toggleable\"><input class=\"sk-toggleable__control sk-hidden--visually\" id=\"sk-estimator-id-1\" type=\"checkbox\" checked><label for=\"sk-estimator-id-1\" class=\"sk-toggleable__label fitted sk-toggleable__label-arrow fitted\">&nbsp;XGBClassifier<span class=\"sk-estimator-doc-link fitted\">i<span>Fitted</span></span></label><div class=\"sk-toggleable__content fitted\"><pre>XGBClassifier(base_score=None, booster=None, callbacks=None,\n",
       "              colsample_bylevel=None, colsample_bynode=None,\n",
       "              colsample_bytree=None, device=None, early_stopping_rounds=None,\n",
       "              enable_categorical=True, eval_metric=None, feature_types=None,\n",
       "              gamma=None, grow_policy=None, importance_type=None,\n",
       "              interaction_constraints=None, learning_rate=0.01, max_bin=None,\n",
       "              max_cat_threshold=None, max_cat_to_onehot=None,\n",
       "              max_delta_step=None, max_depth=5, max_leaves=None,\n",
       "              min_child_weight=None, missing=nan, monotone_constraints=None,\n",
       "              multi_strategy=None, n_estimators=500, n_jobs=-1, num_class=3,\n",
       "              num_parallel_tree=None, ...)</pre></div> </div></div></div></div>"
      ],
      "text/plain": [
       "XGBClassifier(base_score=None, booster=None, callbacks=None,\n",
       "              colsample_bylevel=None, colsample_bynode=None,\n",
       "              colsample_bytree=None, device=None, early_stopping_rounds=None,\n",
       "              enable_categorical=True, eval_metric=None, feature_types=None,\n",
       "              gamma=None, grow_policy=None, importance_type=None,\n",
       "              interaction_constraints=None, learning_rate=0.01, max_bin=None,\n",
       "              max_cat_threshold=None, max_cat_to_onehot=None,\n",
       "              max_delta_step=None, max_depth=5, max_leaves=None,\n",
       "              min_child_weight=None, missing=nan, monotone_constraints=None,\n",
       "              multi_strategy=None, n_estimators=500, n_jobs=-1, num_class=3,\n",
       "              num_parallel_tree=None, ...)"
      ]
     },
     "execution_count": 19,
     "metadata": {},
     "output_type": "execute_result"
    }
   ],
   "source": [
    "model = xgb.XGBClassifier(objective='multi:softmax',num_class=3, n_jobs=-1,\n",
    "                         tree_method='hist', random_state=42, enable_categorical=True, **bayes_search.best_params_)\n",
    "model.fit(Xe1_train, ye1_train)"
   ]
  },
  {
   "cell_type": "code",
   "execution_count": 20,
   "id": "7d385953-cf30-4555-994c-1c1347b12c60",
   "metadata": {},
   "outputs": [],
   "source": [
    "ye1_pred = model.predict(Xe1_test)"
   ]
  },
  {
   "cell_type": "code",
   "execution_count": 21,
   "id": "843feda9-6e1b-4490-b581-9a381311cf44",
   "metadata": {},
   "outputs": [
    {
     "data": {
      "text/plain": [
       "(196748,)"
      ]
     },
     "execution_count": 21,
     "metadata": {},
     "output_type": "execute_result"
    }
   ],
   "source": [
    "ye1_pred.shape"
   ]
  },
  {
   "cell_type": "code",
   "execution_count": 22,
   "id": "fab17835-bc48-4e39-8afc-e4a940531ca1",
   "metadata": {},
   "outputs": [
    {
     "data": {
      "text/plain": [
       "array([1, 1, 1, 1, 2], dtype=int32)"
      ]
     },
     "execution_count": 22,
     "metadata": {},
     "output_type": "execute_result"
    }
   ],
   "source": [
    "ye1_pred[:5]"
   ]
  },
  {
   "cell_type": "code",
   "execution_count": 23,
   "id": "43a0e7f7-5bb8-4b6c-852e-a001982263fb",
   "metadata": {},
   "outputs": [
    {
     "name": "stdout",
     "output_type": "stream",
     "text": [
      "Accuracy: 0.636926423648525\n"
     ]
    }
   ],
   "source": [
    "accuracy = accuracy_score(ye1_test, ye1_pred)\n",
    "print(f\"Accuracy: {accuracy}\")"
   ]
  },
  {
   "cell_type": "code",
   "execution_count": 24,
   "id": "688a29eb-8e42-4851-b4de-949bd82b5922",
   "metadata": {},
   "outputs": [],
   "source": [
    "ye1_train_pred = model.predict(Xe1_train)"
   ]
  },
  {
   "cell_type": "markdown",
   "id": "fdf65c28-6ca6-4677-875d-24098b7c57ea",
   "metadata": {},
   "source": [
    "#### Check xgbClassifier model"
   ]
  },
  {
   "cell_type": "code",
   "execution_count": 25,
   "id": "731a30bf-e42d-470f-9b20-ae71909c62f4",
   "metadata": {},
   "outputs": [
    {
     "data": {
      "image/png": "[encoded data removed]",
      "text/plain": [
       "<Figure size 640x480 with 1 Axes>"
      ]
     },
     "metadata": {},
     "output_type": "display_data"
    }
   ],
   "source": [
    "plot_importance(model)\n",
    "plt.show()"
   ]
  },
  {
   "cell_type": "code",
   "execution_count": null,
   "id": "6623a198-b4ca-416e-a47b-f4dd3cdf0a0f",
   "metadata": {},
   "outputs": [],
   "source": []
  },
  {
   "cell_type": "code",
   "execution_count": null,
   "id": "1ab6073a-4fd1-4046-8741-878a390f38ca",
   "metadata": {},
   "outputs": [],
   "source": []
  },
  {
   "cell_type": "markdown",
   "id": "de310542-2b88-445e-a561-3e233c234433",
   "metadata": {},
   "source": [
    "### SHAP for Step 1"
   ]
  },
  {
   "cell_type": "markdown",
   "id": "1a888eea-d22c-479f-a07d-64159d5a31e2",
   "metadata": {},
   "source": [
    "#### SHAP values"
   ]
  },
  {
   "cell_type": "code",
   "execution_count": 29,
   "id": "354348e7-29a2-4477-a131-f266b3623a56",
   "metadata": {},
   "outputs": [],
   "source": [
    "explainer = shap.TreeExplainer(model)"
   ]
  },
  {
   "cell_type": "code",
   "execution_count": 30,
   "id": "5b432b99-d69b-4494-b770-e290f1c068ae",
   "metadata": {},
   "outputs": [],
   "source": [
    "shap_values = explainer.shap_values(Xe1_train)"
   ]
  },
  {
   "cell_type": "code",
   "execution_count": 31,
   "id": "e738c7e3-9ff7-40dd-9740-8ef24be3449e",
   "metadata": {},
   "outputs": [
    {
     "name": "stdout",
     "output_type": "stream",
     "text": [
      "SHAP values shape: (1770730, 65, 3)\n"
     ]
    }
   ],
   "source": [
    "print(f\"SHAP values shape: {shap_values.shape}\")"
   ]
  },
  {
   "cell_type": "code",
   "execution_count": 49,
   "id": "b9d97a29-df78-46af-8183-16cb32f6fec7",
   "metadata": {},
   "outputs": [
    {
     "name": "stdout",
     "output_type": "stream",
     "text": [
      "SHAP values shape: (65, 3)\n"
     ]
    }
   ],
   "source": [
    "print(f'SHAP values shape: {shap_values[1].shape}')  # For class 1"
   ]
  },
  {
   "cell_type": "code",
   "execution_count": 53,
   "id": "bf8a8401-c23c-4ade-aa8b-280586ab2fb6",
   "metadata": {},
   "outputs": [
    {
     "data": {
      "image/png": "[encoded data removed]",
      "text/plain": [
       "<Figure size 1600x900 with 3 Axes>"
      ]
     },
     "metadata": {},
     "output_type": "display_data"
    }
   ],
   "source": [
    "shap.summary_plot(shap_values, Xe1_train, feature_names=feature_names, plot_type=\"bar\", max_display=10)"
   ]
  },
  {
   "cell_type": "markdown",
   "id": "47d190d1-03f7-4186-88bb-b62f8f2757da",
   "metadata": {},
   "source": [
    "### Hyperparameter for Step 1"
   ]
  },
  {
   "cell_type": "code",
   "execution_count": 33,
   "id": "57e9f5a3-6205-46ff-bc2f-82b743ec9c3b",
   "metadata": {},
   "outputs": [],
   "source": [
    "n_estimators_list = list(range(100, 300, 50))\n",
    "learning_rate_list = [0.05, 0.1]\n",
    "max_depth_list = [5,10,15]\n",
    "subsample_list = [0.6, 0.7, 0.8, 0.9, 1]"
   ]
  },
  {
   "cell_type": "code",
   "execution_count": 34,
   "id": "0e7c148f-f993-4ea7-b254-14cb49490a1b",
   "metadata": {},
   "outputs": [
    {
     "name": "stdout",
     "output_type": "stream",
     "text": [
      "[50, 0.05, 5, 0.6, 99.4079357100152, 99.40792611208336]\n",
      "[50, 0.05, 5, 0.7, 99.40793749453941, 99.40792790509471]\n",
      "[50, 0.05, 5, 0.8, 99.40793927905838, 99.40792969810079]\n",
      "[50, 0.05, 5, 0.9, 99.40793927905838, 99.40792969810079]\n",
      "[50, 0.05, 5, 1, 99.40794022132275, 99.40793063565667]\n",
      "[50, 0.05, 10, 0.6, 99.4079357100152, 99.40792611208336]\n",
      "[50, 0.05, 10, 0.7, 99.40793749453941, 99.40792790509471]\n",
      "[50, 0.05, 10, 0.8, 99.40793927905838, 99.40792969810079]\n",
      "[50, 0.05, 10, 0.9, 99.40793927905838, 99.40792969810079]\n",
      "[50, 0.05, 10, 1, 99.40794022132275, 99.40793063565667]\n",
      "[50, 0.05, 15, 0.6, 99.4079357100152, 99.40792611208336]\n",
      "[50, 0.05, 15, 0.7, 99.40793749453941, 99.40792790509471]\n",
      "[50, 0.05, 15, 0.8, 99.40793927905838, 99.40792969810079]\n",
      "[50, 0.05, 15, 0.9, 99.40793927905838, 99.40792969810079]\n",
      "[50, 0.05, 15, 1, 99.40794022132275, 99.40793063565667]\n",
      "[50, 0.1, 5, 0.6, 99.99734373387524, 99.99734369148592]\n",
      "[50, 0.1, 5, 0.7, 99.99734373387524, 99.99734369148592]\n",
      "[50, 0.1, 5, 0.8, 99.99734373387524, 99.99734369148592]\n",
      "[50, 0.1, 5, 0.9, 99.99734373387524, 99.99734369148592]\n",
      "[50, 0.1, 5, 1, 99.99734373387524, 99.99734369148592]\n",
      "[50, 0.1, 10, 0.6, 99.99734373387524, 99.99734369148592]\n",
      "[50, 0.1, 10, 0.7, 99.99734373387524, 99.99734369148592]\n",
      "[50, 0.1, 10, 0.8, 99.99734373387524, 99.99734369148592]\n",
      "[50, 0.1, 10, 0.9, 99.99734373387524, 99.99734369148592]\n",
      "[50, 0.1, 10, 1, 99.99734373387524, 99.99734369148592]\n",
      "[50, 0.1, 15, 0.6, 99.99734373387524, 99.99734369148592]\n",
      "[50, 0.1, 15, 0.7, 99.99734373387524, 99.99734369148592]\n",
      "[50, 0.1, 15, 0.8, 99.99734373387524, 99.99734369148592]\n",
      "[50, 0.1, 15, 0.9, 99.99734373387524, 99.99734369148592]\n",
      "[50, 0.1, 15, 1, 99.99734373387524, 99.99734369148592]\n",
      "[100, 0.05, 5, 0.6, 99.9964943899178, 99.9964943318993]\n",
      "[100, 0.05, 5, 0.7, 99.9964943899178, 99.9964943318993]\n",
      "[100, 0.05, 5, 0.8, 99.9964943899178, 99.9964943318993]\n",
      "[100, 0.05, 5, 0.9, 99.9964943899178, 99.9964943318993]\n",
      "[100, 0.05, 5, 1, 99.9964943899178, 99.9964943318993]\n",
      "[100, 0.05, 10, 0.6, 99.9964943899178, 99.9964943318993]\n",
      "[100, 0.05, 10, 0.7, 99.9964943899178, 99.9964943318993]\n",
      "[100, 0.05, 10, 0.8, 99.9964943899178, 99.9964943318993]\n",
      "[100, 0.05, 10, 0.9, 99.9964943899178, 99.9964943318993]\n",
      "[100, 0.05, 10, 1, 99.9964943899178, 99.9964943318993]\n",
      "[100, 0.05, 15, 0.6, 99.9964943899178, 99.9964943318993]\n",
      "[100, 0.05, 15, 0.7, 99.9964943899178, 99.9964943318993]\n",
      "[100, 0.05, 15, 0.8, 99.9964943899178, 99.9964943318993]\n",
      "[100, 0.05, 15, 0.9, 99.9964943899178, 99.9964943318993]\n",
      "[100, 0.05, 15, 1, 99.9964943899178, 99.9964943318993]\n",
      "[100, 0.1, 5, 0.6, 99.99999992867778, 99.99999992867734]\n",
      "[100, 0.1, 5, 0.7, 99.99999992867778, 99.99999992867734]\n",
      "[100, 0.1, 5, 0.8, 99.99999992867778, 99.99999992867734]\n",
      "[100, 0.1, 5, 0.9, 99.99999992867778, 99.99999992867734]\n",
      "[100, 0.1, 5, 1, 99.99999992867778, 99.99999992867734]\n",
      "[100, 0.1, 10, 0.6, 99.99999992867778, 99.99999992867734]\n",
      "[100, 0.1, 10, 0.7, 99.99999992867778, 99.99999992867734]\n",
      "[100, 0.1, 10, 0.8, 99.99999992867778, 99.99999992867734]\n",
      "[100, 0.1, 10, 0.9, 99.99999992867778, 99.99999992867734]\n",
      "[100, 0.1, 10, 1, 99.99999992867778, 99.99999992867734]\n",
      "[100, 0.1, 15, 0.6, 99.99999992867778, 99.99999992867734]\n",
      "[100, 0.1, 15, 0.7, 99.99999992867778, 99.99999992867734]\n",
      "[100, 0.1, 15, 0.8, 99.99999992867778, 99.99999992867734]\n",
      "[100, 0.1, 15, 0.9, 99.99999992867778, 99.99999992867734]\n",
      "[100, 0.1, 15, 1, 99.99999992867778, 99.99999992867734]\n",
      "[150, 0.05, 5, 0.6, 99.99997924152684, 99.99997924113228]\n",
      "[150, 0.05, 5, 0.7, 99.99997924152684, 99.99997924113228]\n",
      "[150, 0.05, 5, 0.8, 99.99997924152684, 99.99997924113228]\n",
      "[150, 0.05, 5, 0.9, 99.99997924152684, 99.99997924113228]\n",
      "[150, 0.05, 5, 1, 99.99997924152684, 99.99997924113228]\n",
      "[150, 0.05, 10, 0.6, 99.99997924152684, 99.99997924113228]\n",
      "[150, 0.05, 10, 0.7, 99.99997924152684, 99.99997924113228]\n",
      "[150, 0.05, 10, 0.8, 99.99997924152684, 99.99997924113228]\n",
      "[150, 0.05, 10, 0.9, 99.99997924152684, 99.99997924113228]\n",
      "[150, 0.05, 10, 1, 99.99997924152684, 99.99997924113228]\n",
      "[150, 0.05, 15, 0.6, 99.99997924152684, 99.99997924113228]\n",
      "[150, 0.05, 15, 0.7, 99.99997924152684, 99.99997924113228]\n",
      "[150, 0.05, 15, 0.8, 99.99997924152684, 99.99997924113228]\n",
      "[150, 0.05, 15, 0.9, 99.99997924152684, 99.99997924113228]\n",
      "[150, 0.05, 15, 1, 99.99997924152684, 99.99997924113228]\n",
      "[150, 0.1, 5, 0.6, 99.99999999982771, 99.99999999982765]\n",
      "[150, 0.1, 5, 0.7, 99.99999999984239, 99.99999999984223]\n",
      "[150, 0.1, 5, 0.8, 99.99999999987122, 99.99999999987122]\n",
      "[150, 0.1, 5, 0.9, 99.99999999987193, 99.99999999987193]\n",
      "[150, 0.1, 5, 1, 99.99999999987193, 99.99999999987193]\n",
      "[150, 0.1, 10, 0.6, 99.99999999982771, 99.99999999982765]\n",
      "[150, 0.1, 10, 0.7, 99.99999999984239, 99.99999999984223]\n",
      "[150, 0.1, 10, 0.8, 99.99999999987122, 99.99999999987122]\n",
      "[150, 0.1, 10, 0.9, 99.99999999987193, 99.99999999987193]\n",
      "[150, 0.1, 10, 1, 99.99999999987193, 99.99999999987193]\n",
      "[150, 0.1, 15, 0.6, 99.99999999982771, 99.99999999982765]\n",
      "[150, 0.1, 15, 0.7, 99.99999999984239, 99.99999999984223]\n",
      "[150, 0.1, 15, 0.8, 99.99999999987122, 99.99999999987122]\n",
      "[150, 0.1, 15, 0.9, 99.99999999987193, 99.99999999987193]\n",
      "[150, 0.1, 15, 1, 99.99999999987193, 99.99999999987193]\n",
      "[200, 0.05, 5, 0.6, 99.99999987714365, 99.9999998771419]\n",
      "[200, 0.05, 5, 0.7, 99.99999987714365, 99.9999998771419]\n",
      "[200, 0.05, 5, 0.8, 99.99999987714365, 99.9999998771419]\n",
      "[200, 0.05, 5, 0.9, 99.99999987714365, 99.9999998771419]\n",
      "[200, 0.05, 5, 1, 99.99999987714365, 99.9999998771419]\n",
      "[200, 0.05, 10, 0.6, 99.99999987714365, 99.9999998771419]\n",
      "[200, 0.05, 10, 0.7, 99.99999987714365, 99.9999998771419]\n",
      "[200, 0.05, 10, 0.8, 99.99999987714365, 99.9999998771419]\n",
      "[200, 0.05, 10, 0.9, 99.99999987714365, 99.9999998771419]\n",
      "[200, 0.05, 10, 1, 99.99999987714365, 99.9999998771419]\n",
      "[200, 0.05, 15, 0.6, 99.99999987714365, 99.9999998771419]\n",
      "[200, 0.05, 15, 0.7, 99.99999987714365, 99.9999998771419]\n",
      "[200, 0.05, 15, 0.8, 99.99999987714365, 99.9999998771419]\n",
      "[200, 0.05, 15, 0.9, 99.99999987714365, 99.9999998771419]\n",
      "[200, 0.05, 15, 1, 99.99999987714365, 99.9999998771419]\n",
      "[200, 0.1, 5, 0.6, 99.99999999982771, 99.99999999982765]\n",
      "[200, 0.1, 5, 0.7, 99.99999999984239, 99.99999999984223]\n",
      "[200, 0.1, 5, 0.8, 99.99999999987122, 99.99999999987122]\n",
      "[200, 0.1, 5, 0.9, 99.99999999987193, 99.99999999987193]\n",
      "[200, 0.1, 5, 1, 99.99999999987193, 99.99999999987193]\n",
      "[200, 0.1, 10, 0.6, 99.99999999982771, 99.99999999982765]\n",
      "[200, 0.1, 10, 0.7, 99.99999999984239, 99.99999999984223]\n",
      "[200, 0.1, 10, 0.8, 99.99999999987122, 99.99999999987122]\n",
      "[200, 0.1, 10, 0.9, 99.99999999987193, 99.99999999987193]\n",
      "[200, 0.1, 10, 1, 99.99999999987193, 99.99999999987193]\n",
      "[200, 0.1, 15, 0.6, 99.99999999982771, 99.99999999982765]\n",
      "[200, 0.1, 15, 0.7, 99.99999999984239, 99.99999999984223]\n",
      "[200, 0.1, 15, 0.8, 99.99999999987122, 99.99999999987122]\n",
      "[200, 0.1, 15, 0.9, 99.99999999987193, 99.99999999987193]\n",
      "[200, 0.1, 15, 1, 99.99999999987193, 99.99999999987193]\n",
      "[250, 0.05, 5, 0.6, 99.9999999990324, 99.99999999903191]\n",
      "[250, 0.05, 5, 0.7, 99.99999999909113, 99.99999999909095]\n",
      "[250, 0.05, 5, 0.8, 99.99999999909113, 99.99999999909095]\n",
      "[250, 0.05, 5, 0.9, 99.99999999909113, 99.99999999909095]\n",
      "[250, 0.05, 5, 1, 99.9999999991432, 99.9999999991433]\n",
      "[250, 0.05, 10, 0.6, 99.9999999990324, 99.99999999903191]\n",
      "[250, 0.05, 10, 0.7, 99.99999999909113, 99.99999999909095]\n",
      "[250, 0.05, 10, 0.8, 99.99999999909113, 99.99999999909095]\n",
      "[250, 0.05, 10, 0.9, 99.99999999909113, 99.99999999909095]\n",
      "[250, 0.05, 10, 1, 99.9999999991432, 99.9999999991433]\n",
      "[250, 0.05, 15, 0.6, 99.9999999990324, 99.99999999903191]\n",
      "[250, 0.05, 15, 0.7, 99.99999999909113, 99.99999999909095]\n",
      "[250, 0.05, 15, 0.8, 99.99999999909113, 99.99999999909095]\n",
      "[250, 0.05, 15, 0.9, 99.99999999909113, 99.99999999909095]\n",
      "[250, 0.05, 15, 1, 99.9999999991432, 99.9999999991433]\n",
      "[250, 0.1, 5, 0.6, 99.99999999982771, 99.99999999982765]\n",
      "[250, 0.1, 5, 0.7, 99.99999999984239, 99.99999999984223]\n",
      "[250, 0.1, 5, 0.8, 99.99999999987122, 99.99999999987122]\n",
      "[250, 0.1, 5, 0.9, 99.99999999987193, 99.99999999987193]\n",
      "[250, 0.1, 5, 1, 99.99999999987193, 99.99999999987193]\n",
      "[250, 0.1, 10, 0.6, 99.99999999982771, 99.99999999982765]\n",
      "[250, 0.1, 10, 0.7, 99.99999999984239, 99.99999999984223]\n",
      "[250, 0.1, 10, 0.8, 99.99999999987122, 99.99999999987122]\n",
      "[250, 0.1, 10, 0.9, 99.99999999987193, 99.99999999987193]\n",
      "[250, 0.1, 10, 1, 99.99999999987193, 99.99999999987193]\n",
      "[250, 0.1, 15, 0.6, 99.99999999982771, 99.99999999982765]\n",
      "[250, 0.1, 15, 0.7, 99.99999999984239, 99.99999999984223]\n",
      "[250, 0.1, 15, 0.8, 99.99999999987122, 99.99999999987122]\n",
      "[250, 0.1, 15, 0.9, 99.99999999987193, 99.99999999987193]\n",
      "[250, 0.1, 15, 1, 99.99999999987193, 99.99999999987193]\n"
     ]
    }
   ],
   "source": [
    "results_list = []\n",
    "for n_estimators in n_estimators_list:\n",
    "    for learning_rate in learning_rate_list:\n",
    "        for max_depth in max_depth_list:\n",
    "            for subsample in subsample_list:\n",
    "                model = xgb.XGBClassfier(objective='binary:logistic', \n",
    "                                         n_estimators = n_estimators,\n",
    "                                         learning_rate = learning_rate, \n",
    "                                         max_depth = max_depth, \n",
    "                                         subsample = subsample,\n",
    "                                         random_state=42, enable_categorical=True  )\n",
    "                model.fit(Xe_train, ye_train)\n",
    "                ye_pred = model.predict(Xe_test)\n",
    "                test_r2 = r2_score(ye_test, ye_pred) * 100\n",
    "                ye_train_pred = model.predict(Xe_train)\n",
    "                train_r2 = r2_score(ye_train, ye_train_pred) * 100\n",
    "                row = [n_estimators, learning_rate, max_depth, \n",
    "                       subsample, train_r2, test_r2]\n",
    "                print(row)\n",
    "                model = None\n",
    "                ye_pred = None\n",
    "                ye_train_pred = None\n",
    "                results_list.append(row)"
   ]
  },
  {
   "cell_type": "markdown",
   "id": "0ad90494-d449-4698-8b8a-43d922298d62",
   "metadata": {},
   "source": [
    "### PSM for Step 1"
   ]
  },
  {
   "cell_type": "code",
   "execution_count": 25,
   "id": "b52d9f23-3465-41e9-965d-0448742a6586",
   "metadata": {},
   "outputs": [],
   "source": [
    "from sklearn.linear_model import LogisticRegression\n",
    "from sklearn.neighbors import NearestNeighbors\n",
    "from sklearn.preprocessing import LabelEncoder"
   ]
  },
  {
   "cell_type": "code",
   "execution_count": 26,
   "id": "7ea55546-4b3c-4a67-be8f-3580720c30a8",
   "metadata": {},
   "outputs": [
    {
     "data": {
      "text/plain": [
       "(1967478, 67)"
      ]
     },
     "execution_count": 26,
     "metadata": {},
     "output_type": "execute_result"
    }
   ],
   "source": [
    "Df.shape"
   ]
  },
  {
   "cell_type": "code",
   "execution_count": 30,
   "id": "d7d7839f-f5d9-483a-90f1-095a2c32ef5c",
   "metadata": {},
   "outputs": [
    {
     "name": "stderr",
     "output_type": "stream",
     "text": [
      "/opt/anaconda3/envs/MLlearning/lib/python3.9/site-packages/sklearn/linear_model/_logistic.py:1247: FutureWarning: 'multi_class' was deprecated in version 1.5 and will be removed in 1.7. From then on, it will always use 'multinomial'. Leave it to its default value to avoid this warning.\n",
      "  warnings.warn(\n"
     ]
    }
   ],
   "source": [
    "X = Df[['Food', 'Disability','Shelter']]\n",
    "T = Df['Economic_trend']\n",
    "le = LabelEncoder()\n",
    "\n",
    "\n",
    "# Calculate propensity scores\n",
    "model_PSM = LogisticRegression(multi_class='multinomial', solver='lbfgs')\n",
    "model_PSM.fit(X, T)\n",
    "propensity_scores = model_PSM.predict_proba(X)\n",
    "\n",
    "for idx, Economic_trend in enumerate(model_PSM.classes_):\n",
    "    Df[f'propensity_score_{Economic_trend}'] = propensity_scores[:,idx]\n"
   ]
  },
  {
   "cell_type": "code",
   "execution_count": 32,
   "id": "6f794cc7-f381-4e02-839e-2610d6bcdd76",
   "metadata": {},
   "outputs": [],
   "source": [
    "for idx, level in enumerate(model_PSM.classes_):\n",
    "    Df[f'propensity_score_{level}'] = propensity_scores[:, idx]\n",
    "\n",
    "# Step 3: Perform Matching for each treatment level\n",
    "def match_on_propensity_score(Df, level):\n",
    "    treated = Df[Df['Economic_trend'] == level]\n",
    "    control = Df[Df['Economic_trend'] != level]\n",
    "    nn = NearestNeighbors(n_neighbors=1)\n",
    "    nn.fit(control[[f'propensity_score_{level}']])\n",
    "    distances, indices = nn.kneighbors(treated[[f'propensity_score_{level}']])\n",
    "    matched_control = control.iloc[indices.flatten()]\n",
    "    return treated, matched_control\n",
    "\n",
    "matched_data = pd.DataFrame()\n",
    "for level in model_PSM.classes_:\n",
    "    treated, matched_control = match_on_propensity_score(Df, level)\n",
    "    matched_data = pd.concat([matched_data, treated, matched_control])"
   ]
  },
  {
   "cell_type": "code",
   "execution_count": 33,
   "id": "ef31490b-0eaa-4762-8cb1-ee9626396c0a",
   "metadata": {},
   "outputs": [
    {
     "data": {
      "image/png": "[encoded data removed]",
      "text/plain": [
       "<Figure size 1800x600 with 3 Axes>"
      ]
     },
     "metadata": {},
     "output_type": "display_data"
    }
   ],
   "source": [
    "# Step 4: Visualize Propensity Score Distributions\n",
    "fig, axs = plt.subplots(1, 3, figsize=(18, 6), sharey=True)\n",
    "for idx, level in enumerate(model_PSM.classes_):\n",
    "    treated = Df[Df['Economic_trend'] == level]\n",
    "    control = Df[Df['Economic_trend'] != level]\n",
    "    matched_control = matched_data[matched_data['Economic_trend'] != level]\n",
    "    \n",
    "    axs[idx].hist(treated[f'propensity_score_{level}'], bins=20, alpha=0.5, label=f'Treated {level}')\n",
    "    axs[idx].hist(control[f'propensity_score_{level}'], bins=20, alpha=0.5, label='Control')\n",
    "    axs[idx].hist(matched_control[f'propensity_score_{level}'], bins=20, alpha=0.5, label='Matched Control')\n",
    "    axs[idx].set_title(f'Propensity Scores for Treatment {level}')\n",
    "    axs[idx].set_xlabel('Propensity Score')\n",
    "    axs[idx].set_ylabel('Frequency')\n",
    "    axs[idx].legend()\n",
    "\n",
    "plt.tight_layout()\n",
    "plt.show()"
   ]
  },
  {
   "cell_type": "code",
   "execution_count": null,
   "id": "71f0dc2d-5411-4cfd-b9f3-a1ffc86dc463",
   "metadata": {},
   "outputs": [],
   "source": []
  },
  {
   "cell_type": "code",
   "execution_count": null,
   "id": "a73f3a34-e3ef-4e6f-b2d9-d196984e0c74",
   "metadata": {},
   "outputs": [],
   "source": []
  },
  {
   "cell_type": "code",
   "execution_count": null,
   "id": "83504493-06de-47f8-b31a-bd7c7186cbb0",
   "metadata": {},
   "outputs": [],
   "source": []
  },
  {
   "cell_type": "code",
   "execution_count": null,
   "id": "a7c08ce8-cb35-4b1d-976c-c9a33775ab03",
   "metadata": {},
   "outputs": [],
   "source": []
  },
  {
   "cell_type": "code",
   "execution_count": null,
   "id": "793e3b7a-e26e-499d-92be-c0d8e933f510",
   "metadata": {},
   "outputs": [],
   "source": []
  },
  {
   "cell_type": "code",
   "execution_count": null,
   "id": "4f69a1db-b221-410f-96c6-4bd899884dff",
   "metadata": {},
   "outputs": [],
   "source": []
  },
  {
   "cell_type": "markdown",
   "id": "cc25621e-0134-4e11-91ae-5bc76c502cda",
   "metadata": {},
   "source": [
    "## Shuffle Conversion for Step 2"
   ]
  },
  {
   "cell_type": "code",
   "execution_count": null,
   "id": "fe9dc60e-2fdb-4efa-ae5d-62ee0bb0a489",
   "metadata": {},
   "outputs": [],
   "source": []
  },
  {
   "cell_type": "code",
   "execution_count": 11,
   "id": "8a0d657c-18be-4d28-b258-6bb984fdb630",
   "metadata": {},
   "outputs": [],
   "source": [
    "#Df = Df.sample(frac=1, random_state=42).reset_index(drop=True)"
   ]
  },
  {
   "cell_type": "code",
   "execution_count": 12,
   "id": "0dfb8c1e-b99d-486c-a6c7-e4425c5fe9eb",
   "metadata": {},
   "outputs": [],
   "source": [
    "#Df['COUNTRY_ISO3'] = Df['COUNTRY_ISO3'].astype('category')"
   ]
  },
  {
   "cell_type": "code",
   "execution_count": 13,
   "id": "c4d65352-f9ee-402d-a748-eb7678055b9a",
   "metadata": {},
   "outputs": [],
   "source": [
    "ye2 = Df['Wellbeing_ladder']"
   ]
  },
  {
   "cell_type": "code",
   "execution_count": 14,
   "id": "7488796c-6c59-4dbf-b7b3-93b7271e24fc",
   "metadata": {},
   "outputs": [],
   "source": [
    "Xe2 = Df.drop(columns=['Wellbeing_ladder','Economic_trend'])"
   ]
  },
  {
   "cell_type": "code",
   "execution_count": 15,
   "id": "e032c780-6bb8-4d0d-801e-0ce656a77d05",
   "metadata": {},
   "outputs": [],
   "source": [
    "Xe1_train, Xe1_test, ye1_train, ye1_test = train_test_split(Xe1, ye1, test_size=0.1, random_state=42)"
   ]
  },
  {
   "cell_type": "code",
   "execution_count": null,
   "id": "398c8cb5-002a-45e7-bb00-11ea1acdab14",
   "metadata": {},
   "outputs": [],
   "source": []
  },
  {
   "cell_type": "code",
   "execution_count": null,
   "id": "62a5ab3a-4053-4dd6-ad68-dd5047152f6f",
   "metadata": {},
   "outputs": [],
   "source": []
  },
  {
   "cell_type": "code",
   "execution_count": null,
   "id": "63d12522-c982-452f-9e8f-b81553d0b252",
   "metadata": {},
   "outputs": [],
   "source": []
  },
  {
   "cell_type": "code",
   "execution_count": null,
   "id": "0c1c1093-5a64-4eea-b9ed-3e16daaf5454",
   "metadata": {},
   "outputs": [],
   "source": []
  },
  {
   "cell_type": "code",
   "execution_count": null,
   "id": "4235f387-4d13-43ac-a50a-272f202eab0a",
   "metadata": {},
   "outputs": [],
   "source": []
  },
  {
   "cell_type": "code",
   "execution_count": null,
   "id": "c4c61ca9-3d17-434f-9df1-44a7cdc8ad9e",
   "metadata": {},
   "outputs": [],
   "source": []
  },
  {
   "cell_type": "code",
   "execution_count": null,
   "id": "5feeec7f-4a12-4e12-b95f-bf705553e9b0",
   "metadata": {},
   "outputs": [],
   "source": []
  },
  {
   "cell_type": "code",
   "execution_count": null,
   "id": "f2569b0e-a208-44eb-8c34-7ab4bcf94b29",
   "metadata": {},
   "outputs": [],
   "source": []
  },
  {
   "cell_type": "code",
   "execution_count": null,
   "id": "ea30762d-980d-43ae-b300-3a60cf8a6155",
   "metadata": {},
   "outputs": [],
   "source": []
  },
  {
   "cell_type": "code",
   "execution_count": null,
   "id": "84229473-25de-49ff-a906-ec0d88c69c18",
   "metadata": {},
   "outputs": [],
   "source": []
  }
 ],
 "metadata": {
  "kernelspec": {
   "display_name": "Python 3 (ipykernel)",
   "language": "python",
   "name": "python3"
  },
  "language_info": {
   "codemirror_mode": {
    "name": "ipython",
    "version": 3
   },
   "file_extension": ".py",
   "mimetype": "text/x-python",
   "name": "python",
   "nbconvert_exporter": "python",
   "pygments_lexer": "ipython3",
   "version": "3.9.19"
  }
 },
 "nbformat": 4,
 "nbformat_minor": 5
}
