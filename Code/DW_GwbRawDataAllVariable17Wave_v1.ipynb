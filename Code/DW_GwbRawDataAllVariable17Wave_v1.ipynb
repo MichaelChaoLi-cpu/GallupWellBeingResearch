{
 "cells": [
  {
   "cell_type": "markdown",
   "id": "14d90fc3-e6d2-4adf-a935-8be21636fcda",
   "metadata": {},
   "source": [
    "# Raw Dataset for all studies in this Group"
   ]
  },
  {
   "cell_type": "markdown",
   "id": "75de16f2-a48c-4d2a-8e17-19f5aa9e4f9a",
   "metadata": {},
   "source": [
    "This code is to create the dataset including all variables available in the Codebook       \n",
    "Other members could re-wash it for their own purposes."
   ]
  },
  {
   "cell_type": "code",
   "execution_count": 1,
   "id": "10cbc7e3-13de-48c4-b2c8-59742ffa3637",
   "metadata": {},
   "outputs": [
    {
     "data": {
      "text/plain": [
       "'/mnt/f/ESG09_Project/Code'"
      ]
     },
     "execution_count": 1,
     "metadata": {},
     "output_type": "execute_result"
    }
   ],
   "source": [
    "%pwd"
   ]
  },
  {
   "cell_type": "code",
   "execution_count": 2,
   "id": "305c8a06-62d8-4953-8912-1f0874b5a639",
   "metadata": {},
   "outputs": [
    {
     "name": "stdout",
     "output_type": "stream",
     "text": [
      "/mnt/f/ESG09_Project\n"
     ]
    },
    {
     "name": "stderr",
     "output_type": "stream",
     "text": [
      "/home/zhang/miniconda3/envs/tf/lib/python3.9/site-packages/IPython/core/magics/osm.py:417: UserWarning: using dhist requires you to install the `pickleshare` library.\n",
      "  self.shell.db['dhist'] = compress_dhist(dhist)[-100:]\n"
     ]
    }
   ],
   "source": [
    "cd .."
   ]
  },
  {
   "cell_type": "markdown",
   "id": "06d85ce6-329a-44e7-a0ea-ce305ae2828e",
   "metadata": {},
   "source": [
    "## Import Package "
   ]
  },
  {
   "cell_type": "markdown",
   "id": "17b40918-67b5-4ab5-8eaa-de6d2a196356",
   "metadata": {},
   "source": [
    "**Note:**: this washing process keep the potential variable as much as possible"
   ]
  },
  {
   "cell_type": "code",
   "execution_count": 3,
   "id": "62a1f495-48bb-4dba-b5e8-5c1aa2aac258",
   "metadata": {},
   "outputs": [],
   "source": [
    "import os\n",
    "import pandas as pd"
   ]
  },
  {
   "cell_type": "code",
   "execution_count": null,
   "id": "fb2d6570-bf6e-444b-8073-b94987222ba6",
   "metadata": {},
   "outputs": [],
   "source": []
  },
  {
   "cell_type": "markdown",
   "id": "57a82ee0-039f-4987-bb90-9d8675fad79e",
   "metadata": {},
   "source": [
    "## Load dataset"
   ]
  },
  {
   "cell_type": "code",
   "execution_count": 4,
   "id": "8427fee2-9bbb-4e10-956c-967c36c53e1c",
   "metadata": {},
   "outputs": [],
   "source": [
    "filenames = [\"../GallupData2023/Gallup_World_Poll_Wave_1_5_032023.dta\", \n",
    "             \"../GallupData2023/Gallup_World_Poll_Wave_6_10_032023.dta\",\n",
    "             \"../GallupData2023/Gallup_World_Poll_Wave_11_17_032023.dta\"]"
   ]
  },
  {
   "cell_type": "code",
   "execution_count": null,
   "id": "f6f48e84-a8fd-404c-86e3-055731d769ea",
   "metadata": {},
   "outputs": [],
   "source": []
  },
  {
   "cell_type": "markdown",
   "id": "4d0feaa8-9e39-46d1-b6e1-f1e8fa63f2a1",
   "metadata": {},
   "source": [
    "## Wash Dateset"
   ]
  },
  {
   "cell_type": "code",
   "execution_count": 5,
   "id": "93f044d7-46b9-40f3-89d7-a86f632bedb1",
   "metadata": {},
   "outputs": [],
   "source": [
    "variable_list = ['wave', 'COUNTRY_ISO3', 'INCOME_1', 'INCOME_2', 'INCOME_3', 'INCOME_4', 'INCOME_5', 'INCOME_6', 'INCOME_7', \n",
    "                   'WP16', 'WP18', 'WP23', 'WP27', 'WP30', 'WP31', 'WP40', 'WP43', 'WP60', 'WP61', 'WP63', 'WP65', \n",
    "                   'WP67', 'WP68', 'WP69', 'WP70', 'WP71', 'WP74', 'WP83', 'WP85', 'WP86', 'WP19472', 'WP88', \n",
    "                   'WP89', 'WP91', 'WP92', 'WP93', 'WP94', 'WP95', 'WP96', 'WP97', 'WP98', 'WP10248', 'WP103', \n",
    "                   'WP105', 'WP106', 'WP108', 'WP109', 'WP110', 'WP111', 'WP112', 'WP113', 'WP117', 'WP118', 'WP119', \n",
    "                   'WP129', 'WP130', 'WP9050', 'WP131', 'WP132', 'WP134', 'WP137', 'WP138', 'WP139', 'WP141', 'WP144', \n",
    "                   'WP10251', 'WP145', 'WP146', 'WP150', 'WP151', 'WP153', 'WP155', 'WP156', 'WP13125', 'WP1219', \n",
    "                   'WP1220', 'WP1223', 'EMP_2010', 'WP1230', 'WP1233', 'WP2319', 'WP4657', 'WP9042', 'WP9048', 'WP17625', \n",
    "                   'WP17626', 'WP16056', 'WP15862', 'WP19544', 'WP3117']"
   ]
  },
  {
   "cell_type": "code",
   "execution_count": 6,
   "id": "4b74ce0c-5ba9-495c-8375-aae15d5fd4eb",
   "metadata": {},
   "outputs": [],
   "source": [
    "dfs = []    # Storing processed DataFrames"
   ]
  },
  {
   "cell_type": "code",
   "execution_count": 7,
   "id": "ebd11756-8a6d-445f-af78-932823e4ff56",
   "metadata": {},
   "outputs": [
    {
     "name": "stdout",
     "output_type": "stream",
     "text": [
      "\n",
      "../GallupData2023/Gallup_World_Poll_Wave_1_5_032023.dta Extracted column names:\n",
      "['WP3117', 'WP9048', 'WP69', 'WP132', 'WP43', 'WP103', 'WP83', 'WP156', 'WP94', 'WP112', 'WP1219', 'WP155', 'WP65', 'WP1220', 'WP98', 'WP88', 'WP4657', 'WP85', 'WP1223', 'COUNTRY_ISO3', 'WP2319', 'WP89', 'WP145', 'WP113', 'WP18', 'WP146', 'WP9050', 'WP40', 'WP119', 'WP129', 'WP117', 'WP141', 'WP150', 'WP16', 'WP60', 'INCOME_2', 'EMP_2010', 'WP86', 'WP151', 'INCOME_3', 'WP106', 'WP130', 'WP61', 'INCOME_1', 'WP27', 'INCOME_4', 'INCOME_7', 'WP31', 'WP144', 'WP10251', 'WP71', 'WP109', 'WP95', 'WP74', 'WP153', 'WP92', 'WP23', 'WP118', 'WP97', 'WP138', 'WP30', 'WP9042', 'wave', 'WP93', 'WP110', 'WP134', 'WP108', 'WP91', 'WP105', 'WP67', 'WP1230', 'INCOME_5', 'WP131', 'WP1233', 'WP63', 'WP70', 'WP68', 'WP137', 'WP111', 'WP139', 'WP10248']\n",
      "\n",
      " Column names in variable_list but not in ../GallupData2023/Gallup_World_Poll_Wave_1_5_032023.dta :\n",
      "['WP13125', 'INCOME_6', 'WP96', 'WP16056', 'WP15862', 'WP17626', 'WP17625', 'WP19544', 'WP19472']\n",
      "\n",
      "../GallupData2023/Gallup_World_Poll_Wave_6_10_032023.dta Extracted column names:\n",
      "['WP3117', 'WP9048', 'WP69', 'WP132', 'WP43', 'WP103', 'WP83', 'WP156', 'WP94', 'WP112', 'WP1219', 'WP155', 'WP65', 'WP1220', 'WP98', 'WP88', 'WP4657', 'WP85', 'WP1223', 'WP17626', 'COUNTRY_ISO3', 'WP2319', 'WP89', 'WP145', 'WP113', 'WP18', 'WP146', 'WP9050', 'WP40', 'WP119', 'WP129', 'WP117', 'WP141', 'WP150', 'WP16', 'WP60', 'INCOME_2', 'EMP_2010', 'WP86', 'WP151', 'INCOME_3', 'WP106', 'WP130', 'WP61', 'INCOME_1', 'WP16056', 'WP27', 'INCOME_4', 'INCOME_7', 'WP31', 'WP144', 'WP10251', 'WP71', 'WP109', 'WP95', 'WP74', 'WP15862', 'WP153', 'WP92', 'WP23', 'WP118', 'WP97', 'WP138', 'WP30', 'WP9042', 'wave', 'WP93', 'WP13125', 'WP110', 'WP134', 'WP108', 'WP91', 'WP105', 'WP17625', 'WP67', 'WP1230', 'INCOME_5', 'WP131', 'WP1233', 'WP63', 'WP70', 'WP68', 'WP137', 'WP111', 'WP139', 'WP10248']\n",
      "\n",
      " Column names in variable_list but not in ../GallupData2023/Gallup_World_Poll_Wave_6_10_032023.dta :\n",
      "['WP96', 'WP19472', 'WP19544', 'INCOME_6']\n",
      "\n",
      "../GallupData2023/Gallup_World_Poll_Wave_11_17_032023.dta Extracted column names:\n",
      "['WP3117', 'WP9048', 'WP69', 'WP132', 'WP43', 'WP103', 'WP19544', 'WP83', 'WP156', 'WP94', 'WP112', 'WP1219', 'WP155', 'WP65', 'WP1220', 'WP98', 'WP88', 'WP4657', 'WP85', 'WP1223', 'WP17626', 'COUNTRY_ISO3', 'WP19472', 'WP2319', 'WP89', 'WP145', 'WP113', 'WP18', 'WP146', 'WP9050', 'WP40', 'WP119', 'WP129', 'WP117', 'WP141', 'WP150', 'WP16', 'WP60', 'INCOME_2', 'EMP_2010', 'WP86', 'WP151', 'INCOME_3', 'WP106', 'WP130', 'WP61', 'INCOME_1', 'WP16056', 'WP27', 'INCOME_4', 'INCOME_7', 'WP31', 'WP144', 'WP10251', 'WP71', 'WP109', 'WP95', 'WP74', 'WP15862', 'WP153', 'WP92', 'WP23', 'WP118', 'WP97', 'WP138', 'WP30', 'WP9042', 'wave', 'WP93', 'WP13125', 'WP110', 'WP134', 'WP108', 'WP91', 'WP105', 'WP17625', 'WP67', 'WP1230', 'INCOME_5', 'WP131', 'WP1233', 'WP63', 'WP70', 'WP68', 'WP137', 'WP111', 'WP139', 'WP10248']\n",
      "\n",
      " Column names in variable_list but not in ../GallupData2023/Gallup_World_Poll_Wave_11_17_032023.dta :\n",
      "['WP96', 'INCOME_6']\n"
     ]
    }
   ],
   "source": [
    "for filename in filenames:\n",
    "    # Reading  file\n",
    "    df = pd.read_stata(filename, convert_categoricals=False)\n",
    "    \n",
    "    # Get the actual column names in the DataFrame\n",
    "    existing_columns = set(df.columns)\n",
    "    \n",
    "    # Find columns in variable_list that are not present in the DataFrame\n",
    "    variable_list_nonexisting = set(variable_list) - existing_columns\n",
    "    \n",
    "    # Use the reindex() function to select all columns in variable_list. For columns that do not exist, their values will be set to NaN.\n",
    "    df_selected = df.reindex(columns=variable_list)\n",
    "    \n",
    "    # Print the actual column names\n",
    "    print(f\"\\n{filename} Extracted column names:\")\n",
    "    print(list(existing_columns & set(variable_list)))\n",
    "    \n",
    "    # Print non-existent column names\n",
    "    print(f\"\\n Column names in variable_list but not in {filename} :\")\n",
    "    print(list(variable_list_nonexisting))\n",
    "    \n",
    "    dfs.append(df_selected)"
   ]
  },
  {
   "cell_type": "code",
   "execution_count": 8,
   "id": "b7aadff5-3ede-4600-8100-1f8125fd0b52",
   "metadata": {},
   "outputs": [],
   "source": [
    "merged_df = pd.concat(dfs, ignore_index=True)  # Merge the processed DataFrames vertically and reset the index"
   ]
  },
  {
   "cell_type": "code",
   "execution_count": 9,
   "id": "5800c53a-9976-411f-b835-d023bde27f67",
   "metadata": {},
   "outputs": [],
   "source": [
    "#merged_df = merged_df.loc[:, merged_df.iloc[1:].notna().any()] # Remove all columns containing NaN (excluding column names)"
   ]
  },
  {
   "cell_type": "code",
   "execution_count": 10,
   "id": "33a97b4b-3ad6-44e9-9f5c-5d5ffffdf1fa",
   "metadata": {},
   "outputs": [
    {
     "data": {
      "text/plain": [
       "(2594089, 90)"
      ]
     },
     "execution_count": 10,
     "metadata": {},
     "output_type": "execute_result"
    }
   ],
   "source": [
    "merged_df.shape"
   ]
  },
  {
   "cell_type": "markdown",
   "id": "c897227d-f974-4531-b9c2-650871badca0",
   "metadata": {},
   "source": [
    "### Output Dateset"
   ]
  },
  {
   "cell_type": "code",
   "execution_count": 11,
   "id": "40060da9-8787-4da3-988a-19bf669bdec8",
   "metadata": {},
   "outputs": [],
   "source": [
    "output_filename = os.path.join(\"Data\", \"GallupWB_WashedRawData17Wave_v1.parquet\")"
   ]
  },
  {
   "cell_type": "code",
   "execution_count": 12,
   "id": "582b4b9d-4a9f-49fb-8db0-83e0eec14015",
   "metadata": {},
   "outputs": [],
   "source": [
    "merged_df.to_parquet(output_filename)"
   ]
  },
  {
   "cell_type": "code",
   "execution_count": null,
   "id": "fc839504-4d8b-4650-aa7c-7230cff35c55",
   "metadata": {},
   "outputs": [],
   "source": []
  },
  {
   "cell_type": "markdown",
   "id": "aa002521-2f27-4cad-a69b-4ff57c7a3f4b",
   "metadata": {},
   "source": [
    "### Double Check"
   ]
  },
  {
   "cell_type": "code",
   "execution_count": 13,
   "id": "194ab088-8281-4487-86a9-7386b49f2cd9",
   "metadata": {},
   "outputs": [],
   "source": [
    "merged_df_reloaded = pd.read_parquet(output_filename)"
   ]
  },
  {
   "cell_type": "code",
   "execution_count": 14,
   "id": "c699393c-e87c-4d44-97dc-b1ac6d929b5a",
   "metadata": {},
   "outputs": [
    {
     "data": {
      "text/html": [
       "<div>\n",
       "<style scoped>\n",
       "    .dataframe tbody tr th:only-of-type {\n",
       "        vertical-align: middle;\n",
       "    }\n",
       "\n",
       "    .dataframe tbody tr th {\n",
       "        vertical-align: top;\n",
       "    }\n",
       "\n",
       "    .dataframe thead th {\n",
       "        text-align: right;\n",
       "    }\n",
       "</style>\n",
       "<table border=\"1\" class=\"dataframe\">\n",
       "  <thead>\n",
       "    <tr style=\"text-align: right;\">\n",
       "      <th></th>\n",
       "      <th>wave</th>\n",
       "      <th>COUNTRY_ISO3</th>\n",
       "      <th>INCOME_1</th>\n",
       "      <th>INCOME_2</th>\n",
       "      <th>INCOME_3</th>\n",
       "      <th>INCOME_4</th>\n",
       "      <th>INCOME_5</th>\n",
       "      <th>INCOME_6</th>\n",
       "      <th>INCOME_7</th>\n",
       "      <th>WP16</th>\n",
       "      <th>...</th>\n",
       "      <th>WP2319</th>\n",
       "      <th>WP4657</th>\n",
       "      <th>WP9042</th>\n",
       "      <th>WP9048</th>\n",
       "      <th>WP17625</th>\n",
       "      <th>WP17626</th>\n",
       "      <th>WP16056</th>\n",
       "      <th>WP15862</th>\n",
       "      <th>WP19544</th>\n",
       "      <th>WP3117</th>\n",
       "    </tr>\n",
       "  </thead>\n",
       "  <tbody>\n",
       "    <tr>\n",
       "      <th>0</th>\n",
       "      <td>1.0</td>\n",
       "      <td>USA</td>\n",
       "      <td>NaN</td>\n",
       "      <td>NaN</td>\n",
       "      <td>NaN</td>\n",
       "      <td>NaN</td>\n",
       "      <td>NaN</td>\n",
       "      <td>NaN</td>\n",
       "      <td>NaN</td>\n",
       "      <td>6.0</td>\n",
       "      <td>...</td>\n",
       "      <td>NaN</td>\n",
       "      <td>1.0</td>\n",
       "      <td>NaN</td>\n",
       "      <td>NaN</td>\n",
       "      <td>NaN</td>\n",
       "      <td>NaN</td>\n",
       "      <td>NaN</td>\n",
       "      <td>NaN</td>\n",
       "      <td>NaN</td>\n",
       "      <td>NaN</td>\n",
       "    </tr>\n",
       "    <tr>\n",
       "      <th>1</th>\n",
       "      <td>1.0</td>\n",
       "      <td>USA</td>\n",
       "      <td>NaN</td>\n",
       "      <td>NaN</td>\n",
       "      <td>NaN</td>\n",
       "      <td>NaN</td>\n",
       "      <td>NaN</td>\n",
       "      <td>NaN</td>\n",
       "      <td>NaN</td>\n",
       "      <td>8.0</td>\n",
       "      <td>...</td>\n",
       "      <td>NaN</td>\n",
       "      <td>1.0</td>\n",
       "      <td>NaN</td>\n",
       "      <td>NaN</td>\n",
       "      <td>NaN</td>\n",
       "      <td>NaN</td>\n",
       "      <td>NaN</td>\n",
       "      <td>NaN</td>\n",
       "      <td>NaN</td>\n",
       "      <td>NaN</td>\n",
       "    </tr>\n",
       "    <tr>\n",
       "      <th>2</th>\n",
       "      <td>1.0</td>\n",
       "      <td>USA</td>\n",
       "      <td>NaN</td>\n",
       "      <td>NaN</td>\n",
       "      <td>NaN</td>\n",
       "      <td>NaN</td>\n",
       "      <td>NaN</td>\n",
       "      <td>NaN</td>\n",
       "      <td>NaN</td>\n",
       "      <td>8.0</td>\n",
       "      <td>...</td>\n",
       "      <td>NaN</td>\n",
       "      <td>1.0</td>\n",
       "      <td>NaN</td>\n",
       "      <td>NaN</td>\n",
       "      <td>NaN</td>\n",
       "      <td>NaN</td>\n",
       "      <td>NaN</td>\n",
       "      <td>NaN</td>\n",
       "      <td>NaN</td>\n",
       "      <td>NaN</td>\n",
       "    </tr>\n",
       "    <tr>\n",
       "      <th>3</th>\n",
       "      <td>1.0</td>\n",
       "      <td>USA</td>\n",
       "      <td>NaN</td>\n",
       "      <td>NaN</td>\n",
       "      <td>NaN</td>\n",
       "      <td>NaN</td>\n",
       "      <td>NaN</td>\n",
       "      <td>NaN</td>\n",
       "      <td>NaN</td>\n",
       "      <td>8.0</td>\n",
       "      <td>...</td>\n",
       "      <td>NaN</td>\n",
       "      <td>1.0</td>\n",
       "      <td>NaN</td>\n",
       "      <td>NaN</td>\n",
       "      <td>NaN</td>\n",
       "      <td>NaN</td>\n",
       "      <td>NaN</td>\n",
       "      <td>NaN</td>\n",
       "      <td>NaN</td>\n",
       "      <td>NaN</td>\n",
       "    </tr>\n",
       "    <tr>\n",
       "      <th>4</th>\n",
       "      <td>1.0</td>\n",
       "      <td>USA</td>\n",
       "      <td>NaN</td>\n",
       "      <td>NaN</td>\n",
       "      <td>NaN</td>\n",
       "      <td>NaN</td>\n",
       "      <td>NaN</td>\n",
       "      <td>NaN</td>\n",
       "      <td>NaN</td>\n",
       "      <td>10.0</td>\n",
       "      <td>...</td>\n",
       "      <td>NaN</td>\n",
       "      <td>1.0</td>\n",
       "      <td>NaN</td>\n",
       "      <td>NaN</td>\n",
       "      <td>NaN</td>\n",
       "      <td>NaN</td>\n",
       "      <td>NaN</td>\n",
       "      <td>NaN</td>\n",
       "      <td>NaN</td>\n",
       "      <td>NaN</td>\n",
       "    </tr>\n",
       "  </tbody>\n",
       "</table>\n",
       "<p>5 rows × 90 columns</p>\n",
       "</div>"
      ],
      "text/plain": [
       "   wave COUNTRY_ISO3  INCOME_1  INCOME_2  INCOME_3  INCOME_4  INCOME_5  \\\n",
       "0   1.0          USA       NaN       NaN       NaN       NaN       NaN   \n",
       "1   1.0          USA       NaN       NaN       NaN       NaN       NaN   \n",
       "2   1.0          USA       NaN       NaN       NaN       NaN       NaN   \n",
       "3   1.0          USA       NaN       NaN       NaN       NaN       NaN   \n",
       "4   1.0          USA       NaN       NaN       NaN       NaN       NaN   \n",
       "\n",
       "   INCOME_6  INCOME_7  WP16  ...  WP2319  WP4657  WP9042  WP9048  WP17625  \\\n",
       "0       NaN       NaN   6.0  ...     NaN     1.0     NaN     NaN      NaN   \n",
       "1       NaN       NaN   8.0  ...     NaN     1.0     NaN     NaN      NaN   \n",
       "2       NaN       NaN   8.0  ...     NaN     1.0     NaN     NaN      NaN   \n",
       "3       NaN       NaN   8.0  ...     NaN     1.0     NaN     NaN      NaN   \n",
       "4       NaN       NaN  10.0  ...     NaN     1.0     NaN     NaN      NaN   \n",
       "\n",
       "   WP17626  WP16056  WP15862  WP19544  WP3117  \n",
       "0      NaN      NaN      NaN      NaN     NaN  \n",
       "1      NaN      NaN      NaN      NaN     NaN  \n",
       "2      NaN      NaN      NaN      NaN     NaN  \n",
       "3      NaN      NaN      NaN      NaN     NaN  \n",
       "4      NaN      NaN      NaN      NaN     NaN  \n",
       "\n",
       "[5 rows x 90 columns]"
      ]
     },
     "execution_count": 14,
     "metadata": {},
     "output_type": "execute_result"
    }
   ],
   "source": [
    "merged_df_reloaded.head()"
   ]
  },
  {
   "cell_type": "code",
   "execution_count": 15,
   "id": "01a25782-ab0d-473f-a7c6-662f5572e378",
   "metadata": {},
   "outputs": [
    {
     "name": "stdout",
     "output_type": "stream",
     "text": [
      "wave\n",
      "COUNTRY_ISO3\n",
      "INCOME_1\n",
      "INCOME_2\n",
      "INCOME_3\n",
      "INCOME_4\n",
      "INCOME_5\n",
      "INCOME_6\n",
      "INCOME_7\n",
      "WP16\n",
      "WP18\n",
      "WP23\n",
      "WP27\n",
      "WP30\n",
      "WP31\n",
      "WP40\n",
      "WP43\n",
      "WP60\n",
      "WP61\n",
      "WP63\n",
      "WP65\n",
      "WP67\n",
      "WP68\n",
      "WP69\n",
      "WP70\n",
      "WP71\n",
      "WP74\n",
      "WP83\n",
      "WP85\n",
      "WP86\n",
      "WP19472\n",
      "WP88\n",
      "WP89\n",
      "WP91\n",
      "WP92\n",
      "WP93\n",
      "WP94\n",
      "WP95\n",
      "WP96\n",
      "WP97\n",
      "WP98\n",
      "WP10248\n",
      "WP103\n",
      "WP105\n",
      "WP106\n",
      "WP108\n",
      "WP109\n",
      "WP110\n",
      "WP111\n",
      "WP112\n",
      "WP113\n",
      "WP117\n",
      "WP118\n",
      "WP119\n",
      "WP129\n",
      "WP130\n",
      "WP9050\n",
      "WP131\n",
      "WP132\n",
      "WP134\n",
      "WP137\n",
      "WP138\n",
      "WP139\n",
      "WP141\n",
      "WP144\n",
      "WP10251\n",
      "WP145\n",
      "WP146\n",
      "WP150\n",
      "WP151\n",
      "WP153\n",
      "WP155\n",
      "WP156\n",
      "WP13125\n",
      "WP1219\n",
      "WP1220\n",
      "WP1223\n",
      "EMP_2010\n",
      "WP1230\n",
      "WP1233\n",
      "WP2319\n",
      "WP4657\n",
      "WP9042\n",
      "WP9048\n",
      "WP17625\n",
      "WP17626\n",
      "WP16056\n",
      "WP15862\n",
      "WP19544\n",
      "WP3117\n"
     ]
    }
   ],
   "source": [
    "for name in merged_df_reloaded.columns:\n",
    "    print(name)"
   ]
  },
  {
   "cell_type": "code",
   "execution_count": 16,
   "id": "1d0f169c-cfe4-4a5f-bbe4-bea2cb7357f7",
   "metadata": {},
   "outputs": [
    {
     "data": {
      "text/plain": [
       "(2594089, 90)"
      ]
     },
     "execution_count": 16,
     "metadata": {},
     "output_type": "execute_result"
    }
   ],
   "source": [
    "merged_df_reloaded.shape"
   ]
  },
  {
   "cell_type": "code",
   "execution_count": null,
   "id": "ffc5cd00-0aae-467e-a89c-2df0d26d5492",
   "metadata": {},
   "outputs": [],
   "source": []
  }
 ],
 "metadata": {
  "kernelspec": {
   "display_name": "Python 3 (ipykernel)",
   "language": "python",
   "name": "python3"
  },
  "language_info": {
   "codemirror_mode": {
    "name": "ipython",
    "version": 3
   },
   "file_extension": ".py",
   "mimetype": "text/x-python",
   "name": "python",
   "nbconvert_exporter": "python",
   "pygments_lexer": "ipython3",
   "version": "3.9.19"
  }
 },
 "nbformat": 4,
 "nbformat_minor": 5
}
