{
 "cells": [
  {
   "cell_type": "markdown",
   "id": "9d4dec62-453d-4e6b-96d1-b4f02f9753c8",
   "metadata": {},
   "source": [
    "# Double Wash Data for Zhang     \n",
    "This code was created for Zhang's research, with the purpose of filtering the data needed for the research from the raw washed data."
   ]
  },
  {
   "cell_type": "code",
   "execution_count": 1,
   "id": "0a89b0cd-3cdb-4884-8631-46a56cb2c169",
   "metadata": {
    "scrolled": true
   },
   "outputs": [
    {
     "data": {
      "text/plain": [
       "'/mnt/f/ESG09_Project/Code'"
      ]
     },
     "execution_count": 1,
     "metadata": {},
     "output_type": "execute_result"
    }
   ],
   "source": [
    "%pwd"
   ]
  },
  {
   "cell_type": "code",
   "execution_count": 2,
   "id": "47dfb007-cdd6-4c73-89d2-a23950515a5b",
   "metadata": {},
   "outputs": [
    {
     "name": "stdout",
     "output_type": "stream",
     "text": [
      "/mnt/f/ESG09_Project\n"
     ]
    },
    {
     "name": "stderr",
     "output_type": "stream",
     "text": [
      "/home/zhang/miniconda3/envs/tf/lib/python3.9/site-packages/IPython/core/magics/osm.py:417: UserWarning: using dhist requires you to install the `pickleshare` library.\n",
      "  self.shell.db['dhist'] = compress_dhist(dhist)[-100:]\n"
     ]
    }
   ],
   "source": [
    "cd .."
   ]
  },
  {
   "cell_type": "code",
   "execution_count": null,
   "id": "0f73d4a8-695a-416c-9f2e-aaeeee75d151",
   "metadata": {},
   "outputs": [],
   "source": []
  },
  {
   "cell_type": "markdown",
   "id": "e484fd7f-d353-4795-a26c-250ca4994835",
   "metadata": {},
   "source": [
    "## Import Package"
   ]
  },
  {
   "cell_type": "code",
   "execution_count": 3,
   "id": "52bb507a-86c4-4548-909e-16363d4c54b3",
   "metadata": {},
   "outputs": [],
   "source": [
    "import numpy as np"
   ]
  },
  {
   "cell_type": "code",
   "execution_count": 4,
   "id": "04e2b8f4-2577-439a-9bba-c9e988d01ca1",
   "metadata": {},
   "outputs": [],
   "source": [
    "import os"
   ]
  },
  {
   "cell_type": "code",
   "execution_count": 5,
   "id": "41cfdba7-03ef-4539-9edb-18d2b9eb08b6",
   "metadata": {},
   "outputs": [],
   "source": [
    "import pandas as pd"
   ]
  },
  {
   "cell_type": "code",
   "execution_count": null,
   "id": "6b22d952-4334-42a5-874d-120707a7a2d7",
   "metadata": {},
   "outputs": [],
   "source": []
  },
  {
   "cell_type": "markdown",
   "id": "9bc82f1e-37fa-4696-b80e-8a56459b35d3",
   "metadata": {},
   "source": [
    "## Load dataset"
   ]
  },
  {
   "cell_type": "code",
   "execution_count": 6,
   "id": "350e2f51-05b9-4726-98f3-3593377f3cae",
   "metadata": {},
   "outputs": [],
   "source": [
    "filename = \"Data/GallupWB_WashedRawData17Wave_v1.parquet\""
   ]
  },
  {
   "cell_type": "code",
   "execution_count": null,
   "id": "231d48f3-7482-43a7-9f97-a2e1009b3f59",
   "metadata": {},
   "outputs": [],
   "source": []
  },
  {
   "cell_type": "markdown",
   "id": "81ec1aff-8c84-4a3a-b7b2-5cfe040a6a34",
   "metadata": {},
   "source": [
    "## Wash Dateset"
   ]
  },
  {
   "cell_type": "markdown",
   "id": "73001389-9798-4909-abe8-f802c4616b7a",
   "metadata": {},
   "source": [
    "### Extract the required columns & Dropna"
   ]
  },
  {
   "cell_type": "code",
   "execution_count": 7,
   "id": "15a13765-04e9-4602-9b8f-b0a2b9a344ab",
   "metadata": {},
   "outputs": [],
   "source": [
    "df = pd.read_parquet(filename)"
   ]
  },
  {
   "cell_type": "code",
   "execution_count": 8,
   "id": "e8b8aaeb-3c5f-4d11-8919-3439e8f4ee2a",
   "metadata": {},
   "outputs": [
    {
     "data": {
      "text/plain": [
       "(2594089, 90)"
      ]
     },
     "execution_count": 8,
     "metadata": {},
     "output_type": "execute_result"
    }
   ],
   "source": [
    "df.shape"
   ]
  },
  {
   "cell_type": "code",
   "execution_count": 9,
   "id": "c88ef963-c41e-407b-a478-85eff2466b62",
   "metadata": {},
   "outputs": [],
   "source": [
    "name_list = df.columns"
   ]
  },
  {
   "cell_type": "code",
   "execution_count": 10,
   "id": "6e4daac1-b775-4879-9790-245cd68d58f1",
   "metadata": {},
   "outputs": [],
   "source": [
    "columns_to_keep = [\n",
    "    'wave', 'COUNTRY_ISO3', 'INCOME_2',\n",
    "    'WP16', 'WP18', 'WP30', 'WP31', 'WP60', 'WP61', 'WP63', 'WP65', 'WP67', 'WP68', 'WP69',\n",
    "    'WP70', 'WP71', 'WP74', 'WP83', 'WP10251', 'WP1219', 'WP1220', 'EMP_2010', 'WP17625',\n",
    "    'WP17626', 'WP16056', 'WP15862', 'WP19544', 'WP3117'\n",
    "]"
   ]
  },
  {
   "cell_type": "code",
   "execution_count": 11,
   "id": "a9b0e4fc-1894-4918-adf8-432d1807fe3e",
   "metadata": {},
   "outputs": [],
   "source": [
    "df_filtered = df.filter(items=columns_to_keep)"
   ]
  },
  {
   "cell_type": "code",
   "execution_count": 12,
   "id": "37130392-570e-420e-acbd-31f99f5eac04",
   "metadata": {},
   "outputs": [
    {
     "data": {
      "text/plain": [
       "(2594089, 28)"
      ]
     },
     "execution_count": 12,
     "metadata": {},
     "output_type": "execute_result"
    }
   ],
   "source": [
    "df_filtered.shape"
   ]
  },
  {
   "cell_type": "code",
   "execution_count": 13,
   "id": "26346625-3ea6-40b3-b567-78d6d2145376",
   "metadata": {},
   "outputs": [
    {
     "name": "stdout",
     "output_type": "stream",
     "text": [
      "('wave', 0)\n",
      "('COUNTRY_ISO3', 0)\n",
      "('INCOME_2', 423416)\n",
      "('WP16', 14604)\n",
      "('WP18', 14603)\n",
      "('WP30', 129145)\n",
      "('WP31', 142727)\n",
      "('WP60', 86371)\n",
      "('WP61', 67376)\n",
      "('WP63', 104399)\n",
      "('WP65', 69390)\n",
      "('WP67', 74033)\n",
      "('WP68', 85721)\n",
      "('WP69', 82693)\n",
      "('WP70', 83895)\n",
      "('WP71', 184749)\n",
      "('WP74', 100720)\n",
      "('WP83', 185474)\n",
      "('WP10251', 790018)\n",
      "('WP1219', 22)\n",
      "('WP1220', 3306)\n",
      "('EMP_2010', 433208)\n",
      "('WP17625', 1287824)\n",
      "('WP17626', 1412789)\n",
      "('WP16056', 1478999)\n",
      "('WP15862', 1880708)\n",
      "('WP19544', 1824015)\n",
      "('WP3117', 77184)\n"
     ]
    }
   ],
   "source": [
    "nan_counts = df_filtered.isna().sum()\n",
    "for line in zip(df_filtered.columns, nan_counts):\n",
    "    print(line)"
   ]
  },
  {
   "cell_type": "code",
   "execution_count": 14,
   "id": "c1ad2cf0-e99b-437e-9173-711532817417",
   "metadata": {},
   "outputs": [],
   "source": [
    "df_filtered.dropna(inplace=True)"
   ]
  },
  {
   "cell_type": "code",
   "execution_count": 15,
   "id": "86aad1ad-1ce6-4b3a-9c47-c37a708c0428",
   "metadata": {},
   "outputs": [
    {
     "data": {
      "text/plain": [
       "(508985, 28)"
      ]
     },
     "execution_count": 15,
     "metadata": {},
     "output_type": "execute_result"
    }
   ],
   "source": [
    "df_filtered.shape"
   ]
  },
  {
   "cell_type": "markdown",
   "id": "7baeba37-9546-448c-a473-9b84aa53fe58",
   "metadata": {},
   "source": [
    "### Washing item by item"
   ]
  },
  {
   "cell_type": "markdown",
   "id": "a5b73e63-11de-4d56-aa19-4586a67d6848",
   "metadata": {},
   "source": [
    "#### wave"
   ]
  },
  {
   "cell_type": "code",
   "execution_count": 16,
   "id": "1d76b1d5-7c56-4b93-838a-42cf02b4840a",
   "metadata": {
    "scrolled": true
   },
   "outputs": [
    {
     "data": {
      "text/plain": [
       "wave\n",
       "12.1    71769\n",
       "13.1    52776\n",
       "13.2    25650\n",
       "14.1    91542\n",
       "15.1    91776\n",
       "16.1    85133\n",
       "17.1    90339\n",
       "Name: count, dtype: int64"
      ]
     },
     "execution_count": 16,
     "metadata": {},
     "output_type": "execute_result"
    }
   ],
   "source": [
    "df_filtered['wave'].value_counts().sort_index()"
   ]
  },
  {
   "cell_type": "code",
   "execution_count": 17,
   "id": "3efb9e3f-86ca-4bd5-82b5-a784102264d6",
   "metadata": {},
   "outputs": [],
   "source": [
    "df_filtered['wave'] = df_filtered['wave'].astype(int)"
   ]
  },
  {
   "cell_type": "code",
   "execution_count": 18,
   "id": "3465a9d3-66b6-4fb7-b689-27884738d71a",
   "metadata": {},
   "outputs": [
    {
     "data": {
      "text/plain": [
       "wave\n",
       "12    71769\n",
       "13    78426\n",
       "14    91542\n",
       "15    91776\n",
       "16    85133\n",
       "17    90339\n",
       "Name: count, dtype: int64"
      ]
     },
     "execution_count": 18,
     "metadata": {},
     "output_type": "execute_result"
    }
   ],
   "source": [
    "df_filtered['wave'].value_counts().sort_index()"
   ]
  },
  {
   "cell_type": "markdown",
   "id": "5f6af02f-68be-4b9e-a935-c58d8eb7e621",
   "metadata": {},
   "source": [
    "#### WP16 WP18"
   ]
  },
  {
   "cell_type": "code",
   "execution_count": 19,
   "id": "52d0b89c-4baa-4572-b79a-f9bbadfe5278",
   "metadata": {},
   "outputs": [
    {
     "data": {
      "text/plain": [
       "WP16\n",
       "0.0      12622\n",
       "1.0       8545\n",
       "2.0      12525\n",
       "3.0      25759\n",
       "4.0      36928\n",
       "5.0     108783\n",
       "6.0      64945\n",
       "7.0      89673\n",
       "8.0      84295\n",
       "9.0      28603\n",
       "10.0     33214\n",
       "98.0      2806\n",
       "99.0       287\n",
       "Name: count, dtype: int64"
      ]
     },
     "execution_count": 19,
     "metadata": {},
     "output_type": "execute_result"
    }
   ],
   "source": [
    "df_filtered['WP16'].value_counts().sort_index()"
   ]
  },
  {
   "cell_type": "code",
   "execution_count": 20,
   "id": "9e18585e-2351-43d0-b6dc-3e3a84fda336",
   "metadata": {},
   "outputs": [
    {
     "data": {
      "text/plain": [
       "WP18\n",
       "0.0       6293\n",
       "1.0       4868\n",
       "2.0       7872\n",
       "3.0      14004\n",
       "4.0      17146\n",
       "5.0      46191\n",
       "6.0      41773\n",
       "7.0      73424\n",
       "8.0     108476\n",
       "9.0      68092\n",
       "10.0     92113\n",
       "98.0     27941\n",
       "99.0       792\n",
       "Name: count, dtype: int64"
      ]
     },
     "execution_count": 20,
     "metadata": {},
     "output_type": "execute_result"
    }
   ],
   "source": [
    "df_filtered['WP18'].value_counts().sort_index()"
   ]
  },
  {
   "cell_type": "code",
   "execution_count": 21,
   "id": "537e89b0-dc96-4163-ba7f-70fd7f548518",
   "metadata": {},
   "outputs": [],
   "source": [
    "columns_to_replace = ['WP16', 'WP18']\n",
    "\n",
    "for column in columns_to_replace:\n",
    "    df_filtered.loc[df_filtered[column].isin([98, 99]), column] = np.nan"
   ]
  },
  {
   "cell_type": "code",
   "execution_count": 22,
   "id": "314c2b74-eb1d-4686-93c6-75290c66709e",
   "metadata": {},
   "outputs": [
    {
     "data": {
      "text/plain": [
       "WP16\n",
       "0.0      12622\n",
       "1.0       8545\n",
       "2.0      12525\n",
       "3.0      25759\n",
       "4.0      36928\n",
       "5.0     108783\n",
       "6.0      64945\n",
       "7.0      89673\n",
       "8.0      84295\n",
       "9.0      28603\n",
       "10.0     33214\n",
       "NaN       3093\n",
       "Name: count, dtype: int64"
      ]
     },
     "execution_count": 22,
     "metadata": {},
     "output_type": "execute_result"
    }
   ],
   "source": [
    "df_filtered['WP16'].value_counts(dropna=False).sort_index()"
   ]
  },
  {
   "cell_type": "code",
   "execution_count": 23,
   "id": "fef6a64a-17d0-4233-a8aa-f24a457120bd",
   "metadata": {},
   "outputs": [
    {
     "data": {
      "text/plain": [
       "WP18\n",
       "0.0       6293\n",
       "1.0       4868\n",
       "2.0       7872\n",
       "3.0      14004\n",
       "4.0      17146\n",
       "5.0      46191\n",
       "6.0      41773\n",
       "7.0      73424\n",
       "8.0     108476\n",
       "9.0      68092\n",
       "10.0     92113\n",
       "NaN      28733\n",
       "Name: count, dtype: int64"
      ]
     },
     "execution_count": 23,
     "metadata": {},
     "output_type": "execute_result"
    }
   ],
   "source": [
    "df_filtered['WP18'].value_counts(dropna=False).sort_index()"
   ]
  },
  {
   "cell_type": "markdown",
   "id": "3f5e3f48-4f46-4cea-b219-c5bba164631e",
   "metadata": {},
   "source": [
    "#### WP60 WP61 WP63 WP65 WP67 WP68 WP69 WP70 WP71 WP74 WP83 WP10251 WP17625 WP17626 WP16056 WP15862 WP19544"
   ]
  },
  {
   "cell_type": "code",
   "execution_count": 24,
   "id": "5d93e1d8-dc71-4d09-9a5b-89098123d8c4",
   "metadata": {},
   "outputs": [
    {
     "data": {
      "text/plain": [
       "WP60\n",
       "1.0    347152\n",
       "2.0    159299\n",
       "3.0      2294\n",
       "4.0       240\n",
       "Name: count, dtype: int64"
      ]
     },
     "execution_count": 24,
     "metadata": {},
     "output_type": "execute_result"
    }
   ],
   "source": [
    "df_filtered['WP60'].value_counts().sort_index()"
   ]
  },
  {
   "cell_type": "code",
   "execution_count": 25,
   "id": "032fe57f-01f4-404b-ac3d-68045e6d5915",
   "metadata": {},
   "outputs": [
    {
     "data": {
      "text/plain": [
       "WP61\n",
       "1.0    458781\n",
       "2.0     44203\n",
       "3.0      5513\n",
       "4.0       488\n",
       "Name: count, dtype: int64"
      ]
     },
     "execution_count": 25,
     "metadata": {},
     "output_type": "execute_result"
    }
   ],
   "source": [
    "df_filtered['WP61'].value_counts().sort_index()"
   ]
  },
  {
   "cell_type": "code",
   "execution_count": 26,
   "id": "1411ecad-1ea7-40d2-8485-0657d766186d",
   "metadata": {},
   "outputs": [
    {
     "data": {
      "text/plain": [
       "WP63\n",
       "1.0    378042\n",
       "2.0    124216\n",
       "3.0      6295\n",
       "4.0       432\n",
       "Name: count, dtype: int64"
      ]
     },
     "execution_count": 26,
     "metadata": {},
     "output_type": "execute_result"
    }
   ],
   "source": [
    "df_filtered['WP63'].value_counts().sort_index()"
   ]
  },
  {
   "cell_type": "code",
   "execution_count": 27,
   "id": "a7c74d74-c350-4a16-a18d-11ba94b12a63",
   "metadata": {},
   "outputs": [
    {
     "data": {
      "text/plain": [
       "WP65\n",
       "1.0    294561\n",
       "2.0    210040\n",
       "3.0      4060\n",
       "4.0       324\n",
       "Name: count, dtype: int64"
      ]
     },
     "execution_count": 27,
     "metadata": {},
     "output_type": "execute_result"
    }
   ],
   "source": [
    "df_filtered['WP65'].value_counts().sort_index()"
   ]
  },
  {
   "cell_type": "code",
   "execution_count": 28,
   "id": "28b0426b-7a39-42e7-88c9-489b74d1ce03",
   "metadata": {},
   "outputs": [
    {
     "data": {
      "text/plain": [
       "WP67\n",
       "1.0    369706\n",
       "2.0    134175\n",
       "3.0      4700\n",
       "4.0       404\n",
       "Name: count, dtype: int64"
      ]
     },
     "execution_count": 28,
     "metadata": {},
     "output_type": "execute_result"
    }
   ],
   "source": [
    "df_filtered['WP67'].value_counts().sort_index()"
   ]
  },
  {
   "cell_type": "code",
   "execution_count": 29,
   "id": "9bbe6c39-2c87-4fc6-8529-ae47d2b4cb55",
   "metadata": {},
   "outputs": [
    {
     "data": {
      "text/plain": [
       "WP68\n",
       "1.0    138661\n",
       "2.0    369035\n",
       "3.0      1094\n",
       "4.0       195\n",
       "Name: count, dtype: int64"
      ]
     },
     "execution_count": 29,
     "metadata": {},
     "output_type": "execute_result"
    }
   ],
   "source": [
    "df_filtered['WP68'].value_counts().sort_index()"
   ]
  },
  {
   "cell_type": "code",
   "execution_count": 30,
   "id": "f0a3e70b-141e-4af0-902d-28e3f462a663",
   "metadata": {},
   "outputs": [
    {
     "data": {
      "text/plain": [
       "WP69\n",
       "1.0    191670\n",
       "2.0    315333\n",
       "3.0      1784\n",
       "4.0       198\n",
       "Name: count, dtype: int64"
      ]
     },
     "execution_count": 30,
     "metadata": {},
     "output_type": "execute_result"
    }
   ],
   "source": [
    "df_filtered['WP69'].value_counts().sort_index()"
   ]
  },
  {
   "cell_type": "code",
   "execution_count": 31,
   "id": "4acf26f8-4361-492b-ab9d-9b70ef87d3d5",
   "metadata": {},
   "outputs": [
    {
     "data": {
      "text/plain": [
       "WP70\n",
       "1.0    108579\n",
       "2.0    398101\n",
       "3.0      2061\n",
       "4.0       244\n",
       "Name: count, dtype: int64"
      ]
     },
     "execution_count": 31,
     "metadata": {},
     "output_type": "execute_result"
    }
   ],
   "source": [
    "df_filtered['WP70'].value_counts().sort_index()"
   ]
  },
  {
   "cell_type": "code",
   "execution_count": 32,
   "id": "f2308f96-8729-444e-b59f-7955c4965803",
   "metadata": {},
   "outputs": [
    {
     "data": {
      "text/plain": [
       "WP71\n",
       "1.0    181687\n",
       "2.0    324933\n",
       "3.0      2144\n",
       "4.0       221\n",
       "Name: count, dtype: int64"
      ]
     },
     "execution_count": 32,
     "metadata": {},
     "output_type": "execute_result"
    }
   ],
   "source": [
    "df_filtered['WP71'].value_counts().sort_index()"
   ]
  },
  {
   "cell_type": "code",
   "execution_count": 33,
   "id": "7183d30a-ed70-464a-bf3b-0547d88a20bd",
   "metadata": {},
   "outputs": [
    {
     "data": {
      "text/plain": [
       "WP74\n",
       "1.0     94843\n",
       "2.0    412146\n",
       "3.0      1744\n",
       "4.0       252\n",
       "Name: count, dtype: int64"
      ]
     },
     "execution_count": 33,
     "metadata": {},
     "output_type": "execute_result"
    }
   ],
   "source": [
    "df_filtered['WP74'].value_counts().sort_index()"
   ]
  },
  {
   "cell_type": "code",
   "execution_count": 34,
   "id": "76053eac-c946-4227-9fec-e67214256bcc",
   "metadata": {},
   "outputs": [
    {
     "data": {
      "text/plain": [
       "WP83\n",
       "1.0    404858\n",
       "2.0     98900\n",
       "3.0      4808\n",
       "4.0       419\n",
       "Name: count, dtype: int64"
      ]
     },
     "execution_count": 34,
     "metadata": {},
     "output_type": "execute_result"
    }
   ],
   "source": [
    "df_filtered['WP83'].value_counts().sort_index()"
   ]
  },
  {
   "cell_type": "code",
   "execution_count": 35,
   "id": "dde64f92-f132-4dd1-a766-153b5c5e54e1",
   "metadata": {},
   "outputs": [
    {
     "data": {
      "text/plain": [
       "WP10251\n",
       "1.0    326489\n",
       "2.0    157714\n",
       "3.0     23668\n",
       "4.0      1114\n",
       "Name: count, dtype: int64"
      ]
     },
     "execution_count": 35,
     "metadata": {},
     "output_type": "execute_result"
    }
   ],
   "source": [
    "df_filtered['WP10251'].value_counts().sort_index()"
   ]
  },
  {
   "cell_type": "code",
   "execution_count": 36,
   "id": "c763b6dd-2020-4f28-8f6e-6dc55ecd79a8",
   "metadata": {},
   "outputs": [
    {
     "data": {
      "text/plain": [
       "WP17625\n",
       "1.0    179580\n",
       "2.0    328861\n",
       "3.0       323\n",
       "4.0       221\n",
       "Name: count, dtype: int64"
      ]
     },
     "execution_count": 36,
     "metadata": {},
     "output_type": "execute_result"
    }
   ],
   "source": [
    "df_filtered['WP17625'].value_counts().sort_index()"
   ]
  },
  {
   "cell_type": "code",
   "execution_count": 37,
   "id": "3203d9a9-9d2a-488d-8589-22e1fa224723",
   "metadata": {},
   "outputs": [
    {
     "data": {
      "text/plain": [
       "WP17626\n",
       "1.0    508982\n",
       "2.0         1\n",
       "4.0         2\n",
       "Name: count, dtype: int64"
      ]
     },
     "execution_count": 37,
     "metadata": {},
     "output_type": "execute_result"
    }
   ],
   "source": [
    "df_filtered['WP17626'].value_counts().sort_index()"
   ]
  },
  {
   "cell_type": "code",
   "execution_count": 38,
   "id": "0adf4d4b-efe7-4cfd-9578-5e538911bed2",
   "metadata": {},
   "outputs": [
    {
     "data": {
      "text/plain": [
       "WP16056\n",
       "1.0    508985\n",
       "Name: count, dtype: int64"
      ]
     },
     "execution_count": 38,
     "metadata": {},
     "output_type": "execute_result"
    }
   ],
   "source": [
    "df_filtered['WP16056'].value_counts().sort_index()"
   ]
  },
  {
   "cell_type": "code",
   "execution_count": 39,
   "id": "3dddc6d5-696d-4ce9-8d8b-621c77faba45",
   "metadata": {},
   "outputs": [
    {
     "data": {
      "text/plain": [
       "WP15862\n",
       "1.0    470036\n",
       "2.0     38609\n",
       "3.0       270\n",
       "4.0        70\n",
       "Name: count, dtype: int64"
      ]
     },
     "execution_count": 39,
     "metadata": {},
     "output_type": "execute_result"
    }
   ],
   "source": [
    "df_filtered['WP15862'].value_counts().sort_index()"
   ]
  },
  {
   "cell_type": "code",
   "execution_count": 40,
   "id": "23e781b5-0465-46ef-8212-65790ffc450b",
   "metadata": {},
   "outputs": [
    {
     "data": {
      "text/plain": [
       "WP19544\n",
       "1.0    473624\n",
       "2.0     34130\n",
       "3.0      1059\n",
       "4.0       172\n",
       "Name: count, dtype: int64"
      ]
     },
     "execution_count": 40,
     "metadata": {},
     "output_type": "execute_result"
    }
   ],
   "source": [
    "df_filtered['WP19544'].value_counts().sort_index()"
   ]
  },
  {
   "cell_type": "code",
   "execution_count": 41,
   "id": "beb66071-9987-4d21-ac7c-8620783e8341",
   "metadata": {},
   "outputs": [],
   "source": [
    "columns_to_replace = ['WP60', 'WP61', 'WP63', 'WP65', 'WP67', 'WP68', 'WP69', 'WP70', 'WP71', 'WP74', 'WP83', 'WP10251', 'WP17625', 'WP17626', 'WP16056', 'WP15862', 'WP19544']\n",
    "\n",
    "for column in columns_to_replace:\n",
    "    df_filtered.loc[df_filtered[column].isin([3, 4]), column] = 2"
   ]
  },
  {
   "cell_type": "code",
   "execution_count": 42,
   "id": "2bf33ed9-c5fc-4b64-9788-af75abc050f6",
   "metadata": {},
   "outputs": [
    {
     "data": {
      "text/plain": [
       "WP60\n",
       "1.0    347152\n",
       "2.0    161833\n",
       "Name: count, dtype: int64"
      ]
     },
     "execution_count": 42,
     "metadata": {},
     "output_type": "execute_result"
    }
   ],
   "source": [
    "df_filtered['WP60'].value_counts().sort_index()"
   ]
  },
  {
   "cell_type": "code",
   "execution_count": 43,
   "id": "686dce4c-0892-4869-b950-732297b8984b",
   "metadata": {},
   "outputs": [
    {
     "data": {
      "text/plain": [
       "WP61\n",
       "1.0    458781\n",
       "2.0     50204\n",
       "Name: count, dtype: int64"
      ]
     },
     "execution_count": 43,
     "metadata": {},
     "output_type": "execute_result"
    }
   ],
   "source": [
    "df_filtered['WP61'].value_counts().sort_index()"
   ]
  },
  {
   "cell_type": "code",
   "execution_count": 44,
   "id": "d29e33e1-db98-4849-90ed-5d8a3d9e48ce",
   "metadata": {},
   "outputs": [
    {
     "data": {
      "text/plain": [
       "WP63\n",
       "1.0    378042\n",
       "2.0    130943\n",
       "Name: count, dtype: int64"
      ]
     },
     "execution_count": 44,
     "metadata": {},
     "output_type": "execute_result"
    }
   ],
   "source": [
    "df_filtered['WP63'].value_counts().sort_index()"
   ]
  },
  {
   "cell_type": "code",
   "execution_count": 45,
   "id": "474b09c7-58d7-41db-a76c-86c024ada88a",
   "metadata": {},
   "outputs": [
    {
     "data": {
      "text/plain": [
       "WP17625\n",
       "1.0    179580\n",
       "2.0    329405\n",
       "Name: count, dtype: int64"
      ]
     },
     "execution_count": 45,
     "metadata": {},
     "output_type": "execute_result"
    }
   ],
   "source": [
    "df_filtered['WP17625'].value_counts().sort_index()"
   ]
  },
  {
   "cell_type": "code",
   "execution_count": 46,
   "id": "38c8daf6-4581-493d-a807-0b35921ae111",
   "metadata": {},
   "outputs": [
    {
     "data": {
      "text/plain": [
       "WP17626\n",
       "1.0    508982\n",
       "2.0         3\n",
       "Name: count, dtype: int64"
      ]
     },
     "execution_count": 46,
     "metadata": {},
     "output_type": "execute_result"
    }
   ],
   "source": [
    "df_filtered['WP17626'].value_counts().sort_index()"
   ]
  },
  {
   "cell_type": "code",
   "execution_count": 47,
   "id": "4abd7e19-ccb4-4be6-964f-ed6875c22bfc",
   "metadata": {},
   "outputs": [
    {
     "data": {
      "text/plain": [
       "WP16056\n",
       "1.0    508985\n",
       "Name: count, dtype: int64"
      ]
     },
     "execution_count": 47,
     "metadata": {},
     "output_type": "execute_result"
    }
   ],
   "source": [
    "df_filtered['WP16056'].value_counts().sort_index()"
   ]
  },
  {
   "cell_type": "code",
   "execution_count": null,
   "id": "bdd11eb5-a226-4ff6-9a2b-0b96a3ed3868",
   "metadata": {},
   "outputs": [],
   "source": []
  },
  {
   "cell_type": "markdown",
   "id": "c1eb89e3-4d04-471b-9a5e-2cddf47d64d3",
   "metadata": {},
   "source": [
    "#### WP1220"
   ]
  },
  {
   "cell_type": "code",
   "execution_count": 48,
   "id": "ed547309-0fd1-435c-86ab-2dcd9cc0eed0",
   "metadata": {},
   "outputs": [
    {
     "data": {
      "text/plain": [
       "WP1220\n",
       "15.0      4425\n",
       "16.0      6250\n",
       "17.0      7434\n",
       "17.5         1\n",
       "18.0     11553\n",
       "         ...  \n",
       "96.0         6\n",
       "97.0         9\n",
       "98.0         7\n",
       "99.0        92\n",
       "100.0     1691\n",
       "Name: count, Length: 87, dtype: int64"
      ]
     },
     "execution_count": 48,
     "metadata": {},
     "output_type": "execute_result"
    }
   ],
   "source": [
    "df_filtered['WP1220'].value_counts().sort_index()"
   ]
  },
  {
   "cell_type": "code",
   "execution_count": 49,
   "id": "40547a84-0535-4add-adc5-c0bd47694024",
   "metadata": {},
   "outputs": [],
   "source": [
    "df_filtered.loc[df_filtered['WP1220'].isin([100]), 'WP1220'] = np.nan"
   ]
  },
  {
   "cell_type": "code",
   "execution_count": 50,
   "id": "05dc555f-4add-4987-928e-4fa770eaac14",
   "metadata": {},
   "outputs": [
    {
     "data": {
      "text/plain": [
       "WP1220\n",
       "15.0     4425\n",
       "16.0     6250\n",
       "17.0     7434\n",
       "17.5        1\n",
       "18.0    11553\n",
       "        ...  \n",
       "96.0        6\n",
       "97.0        9\n",
       "98.0        7\n",
       "99.0       92\n",
       "NaN      1691\n",
       "Name: count, Length: 87, dtype: int64"
      ]
     },
     "execution_count": 50,
     "metadata": {},
     "output_type": "execute_result"
    }
   ],
   "source": [
    "df_filtered['WP1220'].value_counts(dropna=False).sort_index()"
   ]
  },
  {
   "cell_type": "markdown",
   "id": "e7946d1a-17f8-499c-ab70-a1852fc89c30",
   "metadata": {},
   "source": [
    "#### WP3117"
   ]
  },
  {
   "cell_type": "code",
   "execution_count": 51,
   "id": "bcea7ae1-f3c2-4eb1-abaf-0cae892ddc52",
   "metadata": {},
   "outputs": [
    {
     "data": {
      "text/plain": [
       "WP3117\n",
       "1.0     64749\n",
       "2.0    297345\n",
       "3.0    144897\n",
       "4.0       999\n",
       "5.0       995\n",
       "Name: count, dtype: int64"
      ]
     },
     "execution_count": 51,
     "metadata": {},
     "output_type": "execute_result"
    }
   ],
   "source": [
    "df_filtered['WP3117'].value_counts().sort_index()"
   ]
  },
  {
   "cell_type": "code",
   "execution_count": 52,
   "id": "9dff426c-b375-4b87-a30a-898bd890c388",
   "metadata": {},
   "outputs": [],
   "source": [
    "df_filtered.loc[df_filtered['WP3117'].isin([4, 5]), 'WP3117'] = np.nan"
   ]
  },
  {
   "cell_type": "code",
   "execution_count": 53,
   "id": "565f7bcb-5b2f-405b-a432-b43cf4a22fc4",
   "metadata": {},
   "outputs": [
    {
     "data": {
      "text/plain": [
       "WP3117\n",
       "1.0     64749\n",
       "2.0    297345\n",
       "3.0    144897\n",
       "NaN      1994\n",
       "Name: count, dtype: int64"
      ]
     },
     "execution_count": 53,
     "metadata": {},
     "output_type": "execute_result"
    }
   ],
   "source": [
    "df_filtered['WP3117'].value_counts(dropna=False).sort_index()"
   ]
  },
  {
   "cell_type": "markdown",
   "id": "ec845869-1d13-47bd-8376-8fe27ea12b06",
   "metadata": {},
   "source": [
    "## Final Wash"
   ]
  },
  {
   "cell_type": "code",
   "execution_count": 54,
   "id": "7549fbfe-e105-47b2-a91a-5cef6d991a1d",
   "metadata": {},
   "outputs": [],
   "source": [
    "df_filtered.dropna(inplace=True)"
   ]
  },
  {
   "cell_type": "code",
   "execution_count": 55,
   "id": "b231c42c-ae3d-4609-856e-442b2fc4955d",
   "metadata": {},
   "outputs": [
    {
     "data": {
      "text/plain": [
       "(476000, 28)"
      ]
     },
     "execution_count": 55,
     "metadata": {},
     "output_type": "execute_result"
    }
   ],
   "source": [
    "df_filtered.shape"
   ]
  },
  {
   "cell_type": "code",
   "execution_count": 56,
   "id": "3a5e4264-f97a-43f1-ac0d-fe7fed62009b",
   "metadata": {},
   "outputs": [
    {
     "data": {
      "text/html": [
       "<div>\n",
       "<style scoped>\n",
       "    .dataframe tbody tr th:only-of-type {\n",
       "        vertical-align: middle;\n",
       "    }\n",
       "\n",
       "    .dataframe tbody tr th {\n",
       "        vertical-align: top;\n",
       "    }\n",
       "\n",
       "    .dataframe thead th {\n",
       "        text-align: right;\n",
       "    }\n",
       "</style>\n",
       "<table border=\"1\" class=\"dataframe\">\n",
       "  <thead>\n",
       "    <tr style=\"text-align: right;\">\n",
       "      <th></th>\n",
       "      <th>wave</th>\n",
       "      <th>COUNTRY_ISO3</th>\n",
       "      <th>INCOME_2</th>\n",
       "      <th>WP16</th>\n",
       "      <th>WP18</th>\n",
       "      <th>WP30</th>\n",
       "      <th>WP31</th>\n",
       "      <th>WP60</th>\n",
       "      <th>WP61</th>\n",
       "      <th>WP63</th>\n",
       "      <th>...</th>\n",
       "      <th>WP10251</th>\n",
       "      <th>WP1219</th>\n",
       "      <th>WP1220</th>\n",
       "      <th>EMP_2010</th>\n",
       "      <th>WP17625</th>\n",
       "      <th>WP17626</th>\n",
       "      <th>WP16056</th>\n",
       "      <th>WP15862</th>\n",
       "      <th>WP19544</th>\n",
       "      <th>WP3117</th>\n",
       "    </tr>\n",
       "  </thead>\n",
       "  <tbody>\n",
       "    <tr>\n",
       "      <th>1709734</th>\n",
       "      <td>12</td>\n",
       "      <td>USA</td>\n",
       "      <td>592300.098717</td>\n",
       "      <td>5.0</td>\n",
       "      <td>8.0</td>\n",
       "      <td>2.0</td>\n",
       "      <td>3.0</td>\n",
       "      <td>2.0</td>\n",
       "      <td>2.0</td>\n",
       "      <td>1.0</td>\n",
       "      <td>...</td>\n",
       "      <td>1.0</td>\n",
       "      <td>1.0</td>\n",
       "      <td>43.0</td>\n",
       "      <td>1.0</td>\n",
       "      <td>1.0</td>\n",
       "      <td>1.0</td>\n",
       "      <td>1.0</td>\n",
       "      <td>1.0</td>\n",
       "      <td>1.0</td>\n",
       "      <td>2.0</td>\n",
       "    </tr>\n",
       "    <tr>\n",
       "      <th>1709735</th>\n",
       "      <td>12</td>\n",
       "      <td>USA</td>\n",
       "      <td>106614.017769</td>\n",
       "      <td>9.0</td>\n",
       "      <td>9.0</td>\n",
       "      <td>1.0</td>\n",
       "      <td>1.0</td>\n",
       "      <td>1.0</td>\n",
       "      <td>1.0</td>\n",
       "      <td>1.0</td>\n",
       "      <td>...</td>\n",
       "      <td>1.0</td>\n",
       "      <td>1.0</td>\n",
       "      <td>65.0</td>\n",
       "      <td>6.0</td>\n",
       "      <td>1.0</td>\n",
       "      <td>1.0</td>\n",
       "      <td>1.0</td>\n",
       "      <td>1.0</td>\n",
       "      <td>2.0</td>\n",
       "      <td>2.0</td>\n",
       "    </tr>\n",
       "    <tr>\n",
       "      <th>1709737</th>\n",
       "      <td>12</td>\n",
       "      <td>USA</td>\n",
       "      <td>56860.809477</td>\n",
       "      <td>5.0</td>\n",
       "      <td>5.0</td>\n",
       "      <td>1.0</td>\n",
       "      <td>2.0</td>\n",
       "      <td>1.0</td>\n",
       "      <td>1.0</td>\n",
       "      <td>1.0</td>\n",
       "      <td>...</td>\n",
       "      <td>1.0</td>\n",
       "      <td>1.0</td>\n",
       "      <td>89.0</td>\n",
       "      <td>6.0</td>\n",
       "      <td>1.0</td>\n",
       "      <td>1.0</td>\n",
       "      <td>1.0</td>\n",
       "      <td>1.0</td>\n",
       "      <td>2.0</td>\n",
       "      <td>3.0</td>\n",
       "    </tr>\n",
       "    <tr>\n",
       "      <th>1709738</th>\n",
       "      <td>12</td>\n",
       "      <td>USA</td>\n",
       "      <td>33844.027641</td>\n",
       "      <td>7.0</td>\n",
       "      <td>7.0</td>\n",
       "      <td>1.0</td>\n",
       "      <td>2.0</td>\n",
       "      <td>2.0</td>\n",
       "      <td>1.0</td>\n",
       "      <td>1.0</td>\n",
       "      <td>...</td>\n",
       "      <td>1.0</td>\n",
       "      <td>2.0</td>\n",
       "      <td>48.0</td>\n",
       "      <td>6.0</td>\n",
       "      <td>1.0</td>\n",
       "      <td>1.0</td>\n",
       "      <td>1.0</td>\n",
       "      <td>1.0</td>\n",
       "      <td>1.0</td>\n",
       "      <td>3.0</td>\n",
       "    </tr>\n",
       "    <tr>\n",
       "      <th>1709740</th>\n",
       "      <td>12</td>\n",
       "      <td>USA</td>\n",
       "      <td>94768.015795</td>\n",
       "      <td>7.0</td>\n",
       "      <td>7.0</td>\n",
       "      <td>1.0</td>\n",
       "      <td>1.0</td>\n",
       "      <td>1.0</td>\n",
       "      <td>1.0</td>\n",
       "      <td>1.0</td>\n",
       "      <td>...</td>\n",
       "      <td>1.0</td>\n",
       "      <td>2.0</td>\n",
       "      <td>41.0</td>\n",
       "      <td>1.0</td>\n",
       "      <td>1.0</td>\n",
       "      <td>1.0</td>\n",
       "      <td>1.0</td>\n",
       "      <td>1.0</td>\n",
       "      <td>1.0</td>\n",
       "      <td>3.0</td>\n",
       "    </tr>\n",
       "  </tbody>\n",
       "</table>\n",
       "<p>5 rows × 28 columns</p>\n",
       "</div>"
      ],
      "text/plain": [
       "         wave COUNTRY_ISO3       INCOME_2  WP16  WP18  WP30  WP31  WP60  WP61  \\\n",
       "1709734    12          USA  592300.098717   5.0   8.0   2.0   3.0   2.0   2.0   \n",
       "1709735    12          USA  106614.017769   9.0   9.0   1.0   1.0   1.0   1.0   \n",
       "1709737    12          USA   56860.809477   5.0   5.0   1.0   2.0   1.0   1.0   \n",
       "1709738    12          USA   33844.027641   7.0   7.0   1.0   2.0   2.0   1.0   \n",
       "1709740    12          USA   94768.015795   7.0   7.0   1.0   1.0   1.0   1.0   \n",
       "\n",
       "         WP63  ...  WP10251  WP1219  WP1220  EMP_2010  WP17625  WP17626  \\\n",
       "1709734   1.0  ...      1.0     1.0    43.0       1.0      1.0      1.0   \n",
       "1709735   1.0  ...      1.0     1.0    65.0       6.0      1.0      1.0   \n",
       "1709737   1.0  ...      1.0     1.0    89.0       6.0      1.0      1.0   \n",
       "1709738   1.0  ...      1.0     2.0    48.0       6.0      1.0      1.0   \n",
       "1709740   1.0  ...      1.0     2.0    41.0       1.0      1.0      1.0   \n",
       "\n",
       "         WP16056  WP15862  WP19544  WP3117  \n",
       "1709734      1.0      1.0      1.0     2.0  \n",
       "1709735      1.0      1.0      2.0     2.0  \n",
       "1709737      1.0      1.0      2.0     3.0  \n",
       "1709738      1.0      1.0      1.0     3.0  \n",
       "1709740      1.0      1.0      1.0     3.0  \n",
       "\n",
       "[5 rows x 28 columns]"
      ]
     },
     "execution_count": 56,
     "metadata": {},
     "output_type": "execute_result"
    }
   ],
   "source": [
    "df_filtered.head()"
   ]
  },
  {
   "cell_type": "markdown",
   "id": "c5f30fbd-0721-4099-a94f-05de19405394",
   "metadata": {},
   "source": [
    "## Output Dateset"
   ]
  },
  {
   "cell_type": "code",
   "execution_count": 57,
   "id": "65e58448-7b54-4fa1-8d8c-717e6b6ce28a",
   "metadata": {},
   "outputs": [],
   "source": [
    "output_filename = os.path.join(\"Data\", \"GallupWB_DoubleWashedDataForZhang17Wave_v1.parquet\")"
   ]
  },
  {
   "cell_type": "code",
   "execution_count": 58,
   "id": "8551becc-221c-49da-adf5-4491e9ea0733",
   "metadata": {},
   "outputs": [],
   "source": [
    "df_filtered.to_parquet(output_filename)"
   ]
  },
  {
   "cell_type": "markdown",
   "id": "d3c334b6-d5d1-4448-8b04-d73ced7e3341",
   "metadata": {},
   "source": [
    "### Double Check"
   ]
  },
  {
   "cell_type": "code",
   "execution_count": 59,
   "id": "af349746-cadd-4f73-97f9-35b8071daa6b",
   "metadata": {},
   "outputs": [],
   "source": [
    "merged_df_reloaded = pd.read_parquet(output_filename)"
   ]
  },
  {
   "cell_type": "code",
   "execution_count": 60,
   "id": "a6cc5a78-57da-4749-b95a-c80ad0e62468",
   "metadata": {},
   "outputs": [
    {
     "data": {
      "text/html": [
       "<div>\n",
       "<style scoped>\n",
       "    .dataframe tbody tr th:only-of-type {\n",
       "        vertical-align: middle;\n",
       "    }\n",
       "\n",
       "    .dataframe tbody tr th {\n",
       "        vertical-align: top;\n",
       "    }\n",
       "\n",
       "    .dataframe thead th {\n",
       "        text-align: right;\n",
       "    }\n",
       "</style>\n",
       "<table border=\"1\" class=\"dataframe\">\n",
       "  <thead>\n",
       "    <tr style=\"text-align: right;\">\n",
       "      <th></th>\n",
       "      <th>wave</th>\n",
       "      <th>COUNTRY_ISO3</th>\n",
       "      <th>INCOME_2</th>\n",
       "      <th>WP16</th>\n",
       "      <th>WP18</th>\n",
       "      <th>WP30</th>\n",
       "      <th>WP31</th>\n",
       "      <th>WP60</th>\n",
       "      <th>WP61</th>\n",
       "      <th>WP63</th>\n",
       "      <th>...</th>\n",
       "      <th>WP10251</th>\n",
       "      <th>WP1219</th>\n",
       "      <th>WP1220</th>\n",
       "      <th>EMP_2010</th>\n",
       "      <th>WP17625</th>\n",
       "      <th>WP17626</th>\n",
       "      <th>WP16056</th>\n",
       "      <th>WP15862</th>\n",
       "      <th>WP19544</th>\n",
       "      <th>WP3117</th>\n",
       "    </tr>\n",
       "  </thead>\n",
       "  <tbody>\n",
       "    <tr>\n",
       "      <th>1709734</th>\n",
       "      <td>12</td>\n",
       "      <td>USA</td>\n",
       "      <td>592300.098717</td>\n",
       "      <td>5.0</td>\n",
       "      <td>8.0</td>\n",
       "      <td>2.0</td>\n",
       "      <td>3.0</td>\n",
       "      <td>2.0</td>\n",
       "      <td>2.0</td>\n",
       "      <td>1.0</td>\n",
       "      <td>...</td>\n",
       "      <td>1.0</td>\n",
       "      <td>1.0</td>\n",
       "      <td>43.0</td>\n",
       "      <td>1.0</td>\n",
       "      <td>1.0</td>\n",
       "      <td>1.0</td>\n",
       "      <td>1.0</td>\n",
       "      <td>1.0</td>\n",
       "      <td>1.0</td>\n",
       "      <td>2.0</td>\n",
       "    </tr>\n",
       "    <tr>\n",
       "      <th>1709735</th>\n",
       "      <td>12</td>\n",
       "      <td>USA</td>\n",
       "      <td>106614.017769</td>\n",
       "      <td>9.0</td>\n",
       "      <td>9.0</td>\n",
       "      <td>1.0</td>\n",
       "      <td>1.0</td>\n",
       "      <td>1.0</td>\n",
       "      <td>1.0</td>\n",
       "      <td>1.0</td>\n",
       "      <td>...</td>\n",
       "      <td>1.0</td>\n",
       "      <td>1.0</td>\n",
       "      <td>65.0</td>\n",
       "      <td>6.0</td>\n",
       "      <td>1.0</td>\n",
       "      <td>1.0</td>\n",
       "      <td>1.0</td>\n",
       "      <td>1.0</td>\n",
       "      <td>2.0</td>\n",
       "      <td>2.0</td>\n",
       "    </tr>\n",
       "    <tr>\n",
       "      <th>1709737</th>\n",
       "      <td>12</td>\n",
       "      <td>USA</td>\n",
       "      <td>56860.809477</td>\n",
       "      <td>5.0</td>\n",
       "      <td>5.0</td>\n",
       "      <td>1.0</td>\n",
       "      <td>2.0</td>\n",
       "      <td>1.0</td>\n",
       "      <td>1.0</td>\n",
       "      <td>1.0</td>\n",
       "      <td>...</td>\n",
       "      <td>1.0</td>\n",
       "      <td>1.0</td>\n",
       "      <td>89.0</td>\n",
       "      <td>6.0</td>\n",
       "      <td>1.0</td>\n",
       "      <td>1.0</td>\n",
       "      <td>1.0</td>\n",
       "      <td>1.0</td>\n",
       "      <td>2.0</td>\n",
       "      <td>3.0</td>\n",
       "    </tr>\n",
       "    <tr>\n",
       "      <th>1709738</th>\n",
       "      <td>12</td>\n",
       "      <td>USA</td>\n",
       "      <td>33844.027641</td>\n",
       "      <td>7.0</td>\n",
       "      <td>7.0</td>\n",
       "      <td>1.0</td>\n",
       "      <td>2.0</td>\n",
       "      <td>2.0</td>\n",
       "      <td>1.0</td>\n",
       "      <td>1.0</td>\n",
       "      <td>...</td>\n",
       "      <td>1.0</td>\n",
       "      <td>2.0</td>\n",
       "      <td>48.0</td>\n",
       "      <td>6.0</td>\n",
       "      <td>1.0</td>\n",
       "      <td>1.0</td>\n",
       "      <td>1.0</td>\n",
       "      <td>1.0</td>\n",
       "      <td>1.0</td>\n",
       "      <td>3.0</td>\n",
       "    </tr>\n",
       "    <tr>\n",
       "      <th>1709740</th>\n",
       "      <td>12</td>\n",
       "      <td>USA</td>\n",
       "      <td>94768.015795</td>\n",
       "      <td>7.0</td>\n",
       "      <td>7.0</td>\n",
       "      <td>1.0</td>\n",
       "      <td>1.0</td>\n",
       "      <td>1.0</td>\n",
       "      <td>1.0</td>\n",
       "      <td>1.0</td>\n",
       "      <td>...</td>\n",
       "      <td>1.0</td>\n",
       "      <td>2.0</td>\n",
       "      <td>41.0</td>\n",
       "      <td>1.0</td>\n",
       "      <td>1.0</td>\n",
       "      <td>1.0</td>\n",
       "      <td>1.0</td>\n",
       "      <td>1.0</td>\n",
       "      <td>1.0</td>\n",
       "      <td>3.0</td>\n",
       "    </tr>\n",
       "  </tbody>\n",
       "</table>\n",
       "<p>5 rows × 28 columns</p>\n",
       "</div>"
      ],
      "text/plain": [
       "         wave COUNTRY_ISO3       INCOME_2  WP16  WP18  WP30  WP31  WP60  WP61  \\\n",
       "1709734    12          USA  592300.098717   5.0   8.0   2.0   3.0   2.0   2.0   \n",
       "1709735    12          USA  106614.017769   9.0   9.0   1.0   1.0   1.0   1.0   \n",
       "1709737    12          USA   56860.809477   5.0   5.0   1.0   2.0   1.0   1.0   \n",
       "1709738    12          USA   33844.027641   7.0   7.0   1.0   2.0   2.0   1.0   \n",
       "1709740    12          USA   94768.015795   7.0   7.0   1.0   1.0   1.0   1.0   \n",
       "\n",
       "         WP63  ...  WP10251  WP1219  WP1220  EMP_2010  WP17625  WP17626  \\\n",
       "1709734   1.0  ...      1.0     1.0    43.0       1.0      1.0      1.0   \n",
       "1709735   1.0  ...      1.0     1.0    65.0       6.0      1.0      1.0   \n",
       "1709737   1.0  ...      1.0     1.0    89.0       6.0      1.0      1.0   \n",
       "1709738   1.0  ...      1.0     2.0    48.0       6.0      1.0      1.0   \n",
       "1709740   1.0  ...      1.0     2.0    41.0       1.0      1.0      1.0   \n",
       "\n",
       "         WP16056  WP15862  WP19544  WP3117  \n",
       "1709734      1.0      1.0      1.0     2.0  \n",
       "1709735      1.0      1.0      2.0     2.0  \n",
       "1709737      1.0      1.0      2.0     3.0  \n",
       "1709738      1.0      1.0      1.0     3.0  \n",
       "1709740      1.0      1.0      1.0     3.0  \n",
       "\n",
       "[5 rows x 28 columns]"
      ]
     },
     "execution_count": 60,
     "metadata": {},
     "output_type": "execute_result"
    }
   ],
   "source": [
    "merged_df_reloaded.head()"
   ]
  },
  {
   "cell_type": "code",
   "execution_count": 61,
   "id": "e4c5c42c-47a3-45d3-8134-7ed496da6346",
   "metadata": {},
   "outputs": [
    {
     "name": "stdout",
     "output_type": "stream",
     "text": [
      "wave\n",
      "COUNTRY_ISO3\n",
      "INCOME_2\n",
      "WP16\n",
      "WP18\n",
      "WP30\n",
      "WP31\n",
      "WP60\n",
      "WP61\n",
      "WP63\n",
      "WP65\n",
      "WP67\n",
      "WP68\n",
      "WP69\n",
      "WP70\n",
      "WP71\n",
      "WP74\n",
      "WP83\n",
      "WP10251\n",
      "WP1219\n",
      "WP1220\n",
      "EMP_2010\n",
      "WP17625\n",
      "WP17626\n",
      "WP16056\n",
      "WP15862\n",
      "WP19544\n",
      "WP3117\n"
     ]
    }
   ],
   "source": [
    "for name in merged_df_reloaded.columns:\n",
    "    print(name)"
   ]
  },
  {
   "cell_type": "code",
   "execution_count": null,
   "id": "882d3b61-a005-4366-ad75-88b19aff2105",
   "metadata": {},
   "outputs": [],
   "source": []
  }
 ],
 "metadata": {
  "kernelspec": {
   "display_name": "Python 3 (ipykernel)",
   "language": "python",
   "name": "python3"
  },
  "language_info": {
   "codemirror_mode": {
    "name": "ipython",
    "version": 3
   },
   "file_extension": ".py",
   "mimetype": "text/x-python",
   "name": "python",
   "nbconvert_exporter": "python",
   "pygments_lexer": "ipython3",
   "version": "3.9.16"
  }
 },
 "nbformat": 4,
 "nbformat_minor": 5
}
