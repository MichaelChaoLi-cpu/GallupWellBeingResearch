{
 "cells": [
  {
   "cell_type": "markdown",
   "id": "93762d12-6fdd-4e46-bb6c-9714b6f55ed4",
   "metadata": {},
   "source": [
    "# Data Washed by Mike Cover 64 Variables 1.911 M Rows: Dependent Variable: Cantril_ladder"
   ]
  },
  {
   "cell_type": "code",
   "execution_count": 1,
   "id": "37e38839-0184-49f6-b042-519212e34230",
   "metadata": {},
   "outputs": [
    {
     "data": {
      "text/plain": [
       "'/mnt/d/OneDrive - Kyushu University/ESG09_Article/Code'"
      ]
     },
     "execution_count": 1,
     "metadata": {},
     "output_type": "execute_result"
    }
   ],
   "source": [
    "%pwd"
   ]
  },
  {
   "cell_type": "code",
   "execution_count": 2,
   "id": "aeb33755-8671-40da-9443-2e9715273b63",
   "metadata": {},
   "outputs": [
    {
     "name": "stdout",
     "output_type": "stream",
     "text": [
      "/mnt/d/OneDrive - Kyushu University/ESG09_Article\n"
     ]
    },
    {
     "name": "stderr",
     "output_type": "stream",
     "text": [
      "/home/linux/anaconda3/envs/tf/lib/python3.9/site-packages/IPython/core/magics/osm.py:417: UserWarning: using dhist requires you to install the `pickleshare` library.\n",
      "  self.shell.db['dhist'] = compress_dhist(dhist)[-100:]\n"
     ]
    }
   ],
   "source": [
    "%cd .."
   ]
  },
  {
   "cell_type": "code",
   "execution_count": null,
   "id": "b2565ea8-31ec-449d-8ad9-5568e7d40cfd",
   "metadata": {},
   "outputs": [],
   "source": []
  },
  {
   "cell_type": "markdown",
   "id": "2f14be87-268b-4229-983d-8cb41dfc2296",
   "metadata": {},
   "source": [
    "## Import Package"
   ]
  },
  {
   "cell_type": "code",
   "execution_count": 3,
   "id": "af6ef393-fd32-42b6-aefe-7e0686a40901",
   "metadata": {},
   "outputs": [],
   "source": [
    "import numpy as np\n",
    "import os \n",
    "import pandas as pd"
   ]
  },
  {
   "cell_type": "code",
   "execution_count": null,
   "id": "29220152-fecb-4076-9a50-8a6eae76bda5",
   "metadata": {},
   "outputs": [],
   "source": []
  },
  {
   "cell_type": "markdown",
   "id": "58285882-dbf4-4265-8b82-77eabf953a13",
   "metadata": {},
   "source": [
    "## Fine Wash"
   ]
  },
  {
   "cell_type": "markdown",
   "id": "530c9c5a-3919-4cfe-893a-8d9bff2da19d",
   "metadata": {},
   "source": [
    "### Load Dataset"
   ]
  },
  {
   "cell_type": "code",
   "execution_count": 224,
   "id": "6c1929e6-a11b-477f-b941-f8cbc7ed00f9",
   "metadata": {},
   "outputs": [],
   "source": [
    "RawDataset_Filename = os.path.join(\"Data\", \"GallupWB_WashedRawData17Wave_v1.parquet\")"
   ]
  },
  {
   "cell_type": "code",
   "execution_count": 225,
   "id": "1fdf1caf-e6f9-4bd3-8b03-613a42e68490",
   "metadata": {},
   "outputs": [],
   "source": [
    "RawDataset = pd.read_parquet(RawDataset_Filename)"
   ]
  },
  {
   "cell_type": "code",
   "execution_count": 226,
   "id": "d3ea54de-5c7c-49eb-ab5f-c0bc0dd9bf0b",
   "metadata": {},
   "outputs": [
    {
     "data": {
      "text/plain": [
       "(2594089, 90)"
      ]
     },
     "execution_count": 226,
     "metadata": {},
     "output_type": "execute_result"
    }
   ],
   "source": [
    "RawDataset.shape"
   ]
  },
  {
   "cell_type": "code",
   "execution_count": 227,
   "id": "ba8e261a-7b3e-4232-afcf-14bc5fda9b89",
   "metadata": {},
   "outputs": [
    {
     "name": "stdout",
     "output_type": "stream",
     "text": [
      "('wave', 0)\n",
      "('COUNTRY_ISO3', 0)\n",
      "('INCOME_1', 420409)\n",
      "('INCOME_2', 423416)\n",
      "('INCOME_3', 420411)\n",
      "('INCOME_4', 423418)\n",
      "('INCOME_5', 419801)\n",
      "('INCOME_6', 2594089)\n",
      "('INCOME_7', 419841)\n",
      "('WP16', 14604)\n",
      "('WP18', 14603)\n",
      "('WP23', 123903)\n",
      "('WP27', 151900)\n",
      "('WP30', 129145)\n",
      "('WP31', 142727)\n",
      "('WP40', 52441)\n",
      "('WP43', 49598)\n",
      "('WP60', 86371)\n",
      "('WP61', 67376)\n",
      "('WP63', 104399)\n",
      "('WP65', 69390)\n",
      "('WP67', 74033)\n",
      "('WP68', 85721)\n",
      "('WP69', 82693)\n",
      "('WP70', 83895)\n",
      "('WP71', 184749)\n",
      "('WP74', 100720)\n",
      "('WP83', 185474)\n",
      "('WP85', 310161)\n",
      "('WP86', 240808)\n",
      "('WP19472', 1719188)\n",
      "('WP88', 262622)\n",
      "('WP89', 171021)\n",
      "('WP91', 198859)\n",
      "('WP92', 200973)\n",
      "('WP93', 145248)\n",
      "('WP94', 202990)\n",
      "('WP95', 201667)\n",
      "('WP96', 2594089)\n",
      "('WP97', 238617)\n",
      "('WP98', 231858)\n",
      "('WP10248', 710990)\n",
      "('WP103', 452880)\n",
      "('WP105', 545368)\n",
      "('WP106', 262574)\n",
      "('WP108', 189759)\n",
      "('WP109', 187253)\n",
      "('WP110', 193819)\n",
      "('WP111', 675056)\n",
      "('WP112', 419460)\n",
      "('WP113', 206175)\n",
      "('WP117', 268482)\n",
      "('WP118', 786324)\n",
      "('WP119', 291689)\n",
      "('WP129', 177618)\n",
      "('WP130', 156114)\n",
      "('WP9050', 731999)\n",
      "('WP131', 408916)\n",
      "('WP132', 218748)\n",
      "('WP134', 162829)\n",
      "('WP137', 503224)\n",
      "('WP138', 392723)\n",
      "('WP139', 426999)\n",
      "('WP141', 240493)\n",
      "('WP144', 461870)\n",
      "('WP10251', 790018)\n",
      "('WP145', 294340)\n",
      "('WP146', 401409)\n",
      "('WP150', 518606)\n",
      "('WP151', 347999)\n",
      "('WP153', 420278)\n",
      "('WP155', 452531)\n",
      "('WP156', 400767)\n",
      "('WP13125', 1158474)\n",
      "('WP1219', 22)\n",
      "('WP1220', 3306)\n",
      "('WP1223', 26119)\n",
      "('EMP_2010', 433208)\n",
      "('WP1230', 80157)\n",
      "('WP1233', 303845)\n",
      "('WP2319', 146446)\n",
      "('WP4657', 230088)\n",
      "('WP9042', 2467008)\n",
      "('WP9048', 2469606)\n",
      "('WP17625', 1287824)\n",
      "('WP17626', 1412789)\n",
      "('WP16056', 1478999)\n",
      "('WP15862', 1880708)\n",
      "('WP19544', 1824015)\n",
      "('WP3117', 77184)\n"
     ]
    }
   ],
   "source": [
    "nan_counts = RawDataset.isna().sum()\n",
    "for line in zip(RawDataset.columns, nan_counts):\n",
    "    print(line)"
   ]
  },
  {
   "cell_type": "code",
   "execution_count": 228,
   "id": "25cc1de8-b984-4ad8-a104-57e25e98128f",
   "metadata": {},
   "outputs": [],
   "source": [
    "UseDataframe = RawDataset"
   ]
  },
  {
   "cell_type": "code",
   "execution_count": 229,
   "id": "316876ba-e700-4336-9f7a-867abc6a9491",
   "metadata": {},
   "outputs": [],
   "source": [
    "variable_list = []"
   ]
  },
  {
   "cell_type": "code",
   "execution_count": null,
   "id": "078fe34e-3dae-4815-8ad1-93587303c306",
   "metadata": {},
   "outputs": [],
   "source": []
  },
  {
   "cell_type": "code",
   "execution_count": null,
   "id": "a9673849-be02-4323-9fd4-28c205f9b413",
   "metadata": {},
   "outputs": [],
   "source": []
  },
  {
   "cell_type": "markdown",
   "id": "7a243367-b00e-4819-a1d2-b57c1dd02df0",
   "metadata": {},
   "source": [
    "### wave"
   ]
  },
  {
   "cell_type": "markdown",
   "id": "dee146f6-07e5-49f9-af2d-6709aba5b6b9",
   "metadata": {},
   "source": [
    "Strategies: ignore sub-wave, convert the wave into int"
   ]
  },
  {
   "cell_type": "code",
   "execution_count": 230,
   "id": "8f4ef7f6-230a-407a-932a-be63f57308d6",
   "metadata": {},
   "outputs": [
    {
     "data": {
      "text/plain": [
       "wave\n",
       "1.0     129972\n",
       "2.0     104831\n",
       "3.0     120443\n",
       "3.1       3568\n",
       "3.2       4141\n",
       "3.3       2592\n",
       "3.4       1758\n",
       "4.0      99664\n",
       "4.1      18074\n",
       "4.2      19164\n",
       "4.3       1147\n",
       "5.0     112702\n",
       "5.1      18141\n",
       "5.2      20013\n",
       "6.0     130614\n",
       "6.1      23134\n",
       "6.2      26258\n",
       "6.3       7224\n",
       "6.4       7157\n",
       "6.5       1077\n",
       "7.1     151720\n",
       "7.2      49465\n",
       "7.3      12879\n",
       "7.4      16019\n",
       "8.1     138673\n",
       "9.1     154205\n",
       "9.2      36143\n",
       "10.1    148232\n",
       "11.1    148724\n",
       "11.2      2000\n",
       "12.1    154166\n",
       "12.9      1000\n",
       "13.1    118922\n",
       "13.2     33952\n",
       "14.1    176253\n",
       "15.1    121207\n",
       "15.5      6350\n",
       "15.9      1917\n",
       "16.1    126902\n",
       "17.1    143686\n",
       "Name: count, dtype: int64"
      ]
     },
     "execution_count": 230,
     "metadata": {},
     "output_type": "execute_result"
    }
   ],
   "source": [
    "UseDataframe['wave'].value_counts().sort_index()"
   ]
  },
  {
   "cell_type": "code",
   "execution_count": 231,
   "id": "027362ce-90ab-4652-b961-408d99f20c9a",
   "metadata": {},
   "outputs": [],
   "source": [
    "UseDataframe['wave'] = UseDataframe['wave'].astype(int)"
   ]
  },
  {
   "cell_type": "code",
   "execution_count": 232,
   "id": "9d556560-de8b-4893-ae32-cb20505bfef3",
   "metadata": {},
   "outputs": [
    {
     "data": {
      "text/plain": [
       "wave\n",
       "1     129972\n",
       "2     104831\n",
       "3     132502\n",
       "4     138049\n",
       "5     150856\n",
       "6     195464\n",
       "7     230083\n",
       "8     138673\n",
       "9     190348\n",
       "10    148232\n",
       "11    150724\n",
       "12    155166\n",
       "13    152874\n",
       "14    176253\n",
       "15    129474\n",
       "16    126902\n",
       "17    143686\n",
       "Name: count, dtype: int64"
      ]
     },
     "execution_count": 232,
     "metadata": {},
     "output_type": "execute_result"
    }
   ],
   "source": [
    "UseDataframe['wave'].value_counts().sort_index()"
   ]
  },
  {
   "cell_type": "code",
   "execution_count": 233,
   "id": "f0a1fb5e-9be6-4824-a90f-07df24c84fa8",
   "metadata": {},
   "outputs": [],
   "source": [
    "variable_list.append('wave')"
   ]
  },
  {
   "cell_type": "code",
   "execution_count": null,
   "id": "292f8a34-79c7-42bd-887c-9d3de425654d",
   "metadata": {},
   "outputs": [],
   "source": []
  },
  {
   "cell_type": "markdown",
   "id": "f1fcdf74-d4b5-47f5-8fca-c1a598cd10f4",
   "metadata": {},
   "source": [
    "### INCOME_2 "
   ]
  },
  {
   "cell_type": "markdown",
   "id": "51740c1d-4aca-42be-9a6a-254ddc8d52b5",
   "metadata": {},
   "source": [
    "Use the mean value of a certain country and a specific wave to replace nan             \n",
    "The first three wave do not have the income information"
   ]
  },
  {
   "cell_type": "code",
   "execution_count": 234,
   "id": "e2d2833c-7245-499b-b2f4-86c835e75191",
   "metadata": {},
   "outputs": [],
   "source": [
    "group_means = UseDataframe.groupby(['wave', 'COUNTRY_ISO3'])['INCOME_2'].transform('mean')"
   ]
  },
  {
   "cell_type": "code",
   "execution_count": 235,
   "id": "39db911b-50cb-4bef-b4aa-6075f5a9e5b1",
   "metadata": {},
   "outputs": [
    {
     "data": {
      "text/plain": [
       "0                   NaN\n",
       "1                   NaN\n",
       "2                   NaN\n",
       "3                   NaN\n",
       "4                   NaN\n",
       "               ...     \n",
       "2594084    60673.641618\n",
       "2594085    60673.641618\n",
       "2594086    60673.641618\n",
       "2594087    60673.641618\n",
       "2594088    60673.641618\n",
       "Name: INCOME_2, Length: 2594089, dtype: float64"
      ]
     },
     "execution_count": 235,
     "metadata": {},
     "output_type": "execute_result"
    }
   ],
   "source": [
    "group_means"
   ]
  },
  {
   "cell_type": "code",
   "execution_count": 236,
   "id": "a60d4a66-c595-404c-b239-18bcd56f1889",
   "metadata": {},
   "outputs": [
    {
     "data": {
      "text/html": [
       "<div>\n",
       "<style scoped>\n",
       "    .dataframe tbody tr th:only-of-type {\n",
       "        vertical-align: middle;\n",
       "    }\n",
       "\n",
       "    .dataframe tbody tr th {\n",
       "        vertical-align: top;\n",
       "    }\n",
       "\n",
       "    .dataframe thead th {\n",
       "        text-align: right;\n",
       "    }\n",
       "</style>\n",
       "<table border=\"1\" class=\"dataframe\">\n",
       "  <thead>\n",
       "    <tr style=\"text-align: right;\">\n",
       "      <th></th>\n",
       "      <th>wave</th>\n",
       "      <th>COUNTRY_ISO3</th>\n",
       "      <th>INCOME_2</th>\n",
       "    </tr>\n",
       "  </thead>\n",
       "  <tbody>\n",
       "    <tr>\n",
       "      <th>0</th>\n",
       "      <td>1</td>\n",
       "      <td>USA</td>\n",
       "      <td>NaN</td>\n",
       "    </tr>\n",
       "    <tr>\n",
       "      <th>1</th>\n",
       "      <td>1</td>\n",
       "      <td>USA</td>\n",
       "      <td>NaN</td>\n",
       "    </tr>\n",
       "    <tr>\n",
       "      <th>2</th>\n",
       "      <td>1</td>\n",
       "      <td>USA</td>\n",
       "      <td>NaN</td>\n",
       "    </tr>\n",
       "    <tr>\n",
       "      <th>3</th>\n",
       "      <td>1</td>\n",
       "      <td>USA</td>\n",
       "      <td>NaN</td>\n",
       "    </tr>\n",
       "    <tr>\n",
       "      <th>4</th>\n",
       "      <td>1</td>\n",
       "      <td>USA</td>\n",
       "      <td>NaN</td>\n",
       "    </tr>\n",
       "    <tr>\n",
       "      <th>5</th>\n",
       "      <td>1</td>\n",
       "      <td>USA</td>\n",
       "      <td>NaN</td>\n",
       "    </tr>\n",
       "    <tr>\n",
       "      <th>6</th>\n",
       "      <td>1</td>\n",
       "      <td>USA</td>\n",
       "      <td>NaN</td>\n",
       "    </tr>\n",
       "    <tr>\n",
       "      <th>7</th>\n",
       "      <td>1</td>\n",
       "      <td>USA</td>\n",
       "      <td>NaN</td>\n",
       "    </tr>\n",
       "    <tr>\n",
       "      <th>8</th>\n",
       "      <td>1</td>\n",
       "      <td>USA</td>\n",
       "      <td>NaN</td>\n",
       "    </tr>\n",
       "    <tr>\n",
       "      <th>9</th>\n",
       "      <td>1</td>\n",
       "      <td>USA</td>\n",
       "      <td>NaN</td>\n",
       "    </tr>\n",
       "    <tr>\n",
       "      <th>10</th>\n",
       "      <td>1</td>\n",
       "      <td>USA</td>\n",
       "      <td>NaN</td>\n",
       "    </tr>\n",
       "    <tr>\n",
       "      <th>11</th>\n",
       "      <td>1</td>\n",
       "      <td>USA</td>\n",
       "      <td>NaN</td>\n",
       "    </tr>\n",
       "    <tr>\n",
       "      <th>12</th>\n",
       "      <td>1</td>\n",
       "      <td>USA</td>\n",
       "      <td>NaN</td>\n",
       "    </tr>\n",
       "    <tr>\n",
       "      <th>13</th>\n",
       "      <td>1</td>\n",
       "      <td>USA</td>\n",
       "      <td>NaN</td>\n",
       "    </tr>\n",
       "    <tr>\n",
       "      <th>14</th>\n",
       "      <td>1</td>\n",
       "      <td>USA</td>\n",
       "      <td>NaN</td>\n",
       "    </tr>\n",
       "    <tr>\n",
       "      <th>15</th>\n",
       "      <td>1</td>\n",
       "      <td>USA</td>\n",
       "      <td>NaN</td>\n",
       "    </tr>\n",
       "    <tr>\n",
       "      <th>16</th>\n",
       "      <td>1</td>\n",
       "      <td>USA</td>\n",
       "      <td>NaN</td>\n",
       "    </tr>\n",
       "    <tr>\n",
       "      <th>17</th>\n",
       "      <td>1</td>\n",
       "      <td>USA</td>\n",
       "      <td>NaN</td>\n",
       "    </tr>\n",
       "    <tr>\n",
       "      <th>18</th>\n",
       "      <td>1</td>\n",
       "      <td>USA</td>\n",
       "      <td>NaN</td>\n",
       "    </tr>\n",
       "    <tr>\n",
       "      <th>19</th>\n",
       "      <td>1</td>\n",
       "      <td>USA</td>\n",
       "      <td>NaN</td>\n",
       "    </tr>\n",
       "  </tbody>\n",
       "</table>\n",
       "</div>"
      ],
      "text/plain": [
       "    wave COUNTRY_ISO3  INCOME_2\n",
       "0      1          USA       NaN\n",
       "1      1          USA       NaN\n",
       "2      1          USA       NaN\n",
       "3      1          USA       NaN\n",
       "4      1          USA       NaN\n",
       "5      1          USA       NaN\n",
       "6      1          USA       NaN\n",
       "7      1          USA       NaN\n",
       "8      1          USA       NaN\n",
       "9      1          USA       NaN\n",
       "10     1          USA       NaN\n",
       "11     1          USA       NaN\n",
       "12     1          USA       NaN\n",
       "13     1          USA       NaN\n",
       "14     1          USA       NaN\n",
       "15     1          USA       NaN\n",
       "16     1          USA       NaN\n",
       "17     1          USA       NaN\n",
       "18     1          USA       NaN\n",
       "19     1          USA       NaN"
      ]
     },
     "execution_count": 236,
     "metadata": {},
     "output_type": "execute_result"
    }
   ],
   "source": [
    "UseDataframe[['wave', 'COUNTRY_ISO3', 'INCOME_2']].head(20)"
   ]
  },
  {
   "cell_type": "code",
   "execution_count": 237,
   "id": "d3986254-3c42-441f-a991-9103336c662c",
   "metadata": {},
   "outputs": [
    {
     "data": {
      "text/plain": [
       "129972"
      ]
     },
     "execution_count": 237,
     "metadata": {},
     "output_type": "execute_result"
    }
   ],
   "source": [
    "UseDataframe[UseDataframe['wave']==1]['INCOME_2'].isna().sum()"
   ]
  },
  {
   "cell_type": "code",
   "execution_count": 238,
   "id": "1c483058-e621-40cc-aa75-7dd298cfdadd",
   "metadata": {},
   "outputs": [
    {
     "data": {
      "text/plain": [
       "104831"
      ]
     },
     "execution_count": 238,
     "metadata": {},
     "output_type": "execute_result"
    }
   ],
   "source": [
    "UseDataframe[UseDataframe['wave']==2]['INCOME_2'].isna().sum()"
   ]
  },
  {
   "cell_type": "code",
   "execution_count": 239,
   "id": "ed728ef7-4f90-4276-992d-d577ebf08f25",
   "metadata": {},
   "outputs": [
    {
     "data": {
      "text/plain": [
       "132502"
      ]
     },
     "execution_count": 239,
     "metadata": {},
     "output_type": "execute_result"
    }
   ],
   "source": [
    "UseDataframe[UseDataframe['wave']==3]['INCOME_2'].isna().sum()"
   ]
  },
  {
   "cell_type": "code",
   "execution_count": 240,
   "id": "e21117fd-a277-4300-b597-083448b29621",
   "metadata": {},
   "outputs": [
    {
     "data": {
      "text/plain": [
       "6741"
      ]
     },
     "execution_count": 240,
     "metadata": {},
     "output_type": "execute_result"
    }
   ],
   "source": [
    "UseDataframe[UseDataframe['wave']==4]['INCOME_2'].isna().sum()"
   ]
  },
  {
   "cell_type": "code",
   "execution_count": 241,
   "id": "f31d362e-8acb-422b-8eed-77768a2a9ce2",
   "metadata": {},
   "outputs": [],
   "source": [
    "UseDataframe = UseDataframe[UseDataframe['wave']>3]"
   ]
  },
  {
   "cell_type": "code",
   "execution_count": 242,
   "id": "638b7d11-a656-444f-b328-67685f26ed60",
   "metadata": {},
   "outputs": [
    {
     "data": {
      "text/plain": [
       "(2226784, 90)"
      ]
     },
     "execution_count": 242,
     "metadata": {},
     "output_type": "execute_result"
    }
   ],
   "source": [
    "UseDataframe.shape"
   ]
  },
  {
   "cell_type": "code",
   "execution_count": 243,
   "id": "f46b9158-c248-406b-b721-c7d18963036e",
   "metadata": {},
   "outputs": [],
   "source": [
    "group_means = UseDataframe.groupby(['wave', 'COUNTRY_ISO3'])['INCOME_2'].transform('mean')"
   ]
  },
  {
   "cell_type": "code",
   "execution_count": 244,
   "id": "1707b787-2d5b-4715-a586-62f4b79d28ef",
   "metadata": {},
   "outputs": [
    {
     "name": "stderr",
     "output_type": "stream",
     "text": [
      "/tmp/ipykernel_12939/2939387626.py:1: FutureWarning: A value is trying to be set on a copy of a DataFrame or Series through chained assignment using an inplace method.\n",
      "The behavior will change in pandas 3.0. This inplace method will never work because the intermediate object on which we are setting values always behaves as a copy.\n",
      "\n",
      "For example, when doing 'df[col].method(value, inplace=True)', try using 'df.method({col: value}, inplace=True)' or df[col] = df[col].method(value) instead, to perform the operation inplace on the original object.\n",
      "\n",
      "\n",
      "  UseDataframe['INCOME_2'].fillna(group_means, inplace=True)\n",
      "/tmp/ipykernel_12939/2939387626.py:1: SettingWithCopyWarning: \n",
      "A value is trying to be set on a copy of a slice from a DataFrame\n",
      "\n",
      "See the caveats in the documentation: https://pandas.pydata.org/pandas-docs/stable/user_guide/indexing.html#returning-a-view-versus-a-copy\n",
      "  UseDataframe['INCOME_2'].fillna(group_means, inplace=True)\n"
     ]
    }
   ],
   "source": [
    "UseDataframe['INCOME_2'].fillna(group_means, inplace=True)"
   ]
  },
  {
   "cell_type": "code",
   "execution_count": 245,
   "id": "6141757b-8148-4ab9-9fd5-3e70c7dcf8f9",
   "metadata": {},
   "outputs": [
    {
     "data": {
      "text/plain": [
       "54487"
      ]
     },
     "execution_count": 245,
     "metadata": {},
     "output_type": "execute_result"
    }
   ],
   "source": [
    "UseDataframe['INCOME_2'].isna().sum()"
   ]
  },
  {
   "cell_type": "code",
   "execution_count": 246,
   "id": "3b997fda-525b-4e41-93cb-b67db82efa15",
   "metadata": {},
   "outputs": [
    {
     "data": {
      "text/plain": [
       "367305    1.351047e+01\n",
       "367306    2.296780e+06\n",
       "367307    3.512722e+05\n",
       "367308    5.404188e+04\n",
       "367309    0.000000e+00\n",
       "Name: INCOME_2, dtype: float64"
      ]
     },
     "execution_count": 246,
     "metadata": {},
     "output_type": "execute_result"
    }
   ],
   "source": [
    "UseDataframe['INCOME_2'].head()"
   ]
  },
  {
   "cell_type": "code",
   "execution_count": 247,
   "id": "b3e393ce-9cd1-4e0f-b98b-4904ab570cae",
   "metadata": {},
   "outputs": [
    {
     "data": {
      "text/html": [
       "<div>\n",
       "<style scoped>\n",
       "    .dataframe tbody tr th:only-of-type {\n",
       "        vertical-align: middle;\n",
       "    }\n",
       "\n",
       "    .dataframe tbody tr th {\n",
       "        vertical-align: top;\n",
       "    }\n",
       "\n",
       "    .dataframe thead th {\n",
       "        text-align: right;\n",
       "    }\n",
       "</style>\n",
       "<table border=\"1\" class=\"dataframe\">\n",
       "  <thead>\n",
       "    <tr style=\"text-align: right;\">\n",
       "      <th></th>\n",
       "      <th>wave</th>\n",
       "      <th>COUNTRY_ISO3</th>\n",
       "    </tr>\n",
       "  </thead>\n",
       "  <tbody>\n",
       "    <tr>\n",
       "      <th>380478</th>\n",
       "      <td>4</td>\n",
       "      <td>HKG</td>\n",
       "    </tr>\n",
       "    <tr>\n",
       "      <th>407542</th>\n",
       "      <td>4</td>\n",
       "      <td>SWE</td>\n",
       "    </tr>\n",
       "    <tr>\n",
       "      <th>460094</th>\n",
       "      <td>4</td>\n",
       "      <td>TKM</td>\n",
       "    </tr>\n",
       "    <tr>\n",
       "      <th>473859</th>\n",
       "      <td>4</td>\n",
       "      <td>MRT</td>\n",
       "    </tr>\n",
       "    <tr>\n",
       "      <th>477950</th>\n",
       "      <td>4</td>\n",
       "      <td>DJI</td>\n",
       "    </tr>\n",
       "    <tr>\n",
       "      <th>570450</th>\n",
       "      <td>5</td>\n",
       "      <td>SLE</td>\n",
       "    </tr>\n",
       "    <tr>\n",
       "      <th>587497</th>\n",
       "      <td>5</td>\n",
       "      <td>DJI</td>\n",
       "    </tr>\n",
       "    <tr>\n",
       "      <th>596017</th>\n",
       "      <td>5</td>\n",
       "      <td>LBR</td>\n",
       "    </tr>\n",
       "    <tr>\n",
       "      <th>602028</th>\n",
       "      <td>5</td>\n",
       "      <td>MNG</td>\n",
       "    </tr>\n",
       "    <tr>\n",
       "      <th>624158</th>\n",
       "      <td>5</td>\n",
       "      <td>MRT</td>\n",
       "    </tr>\n",
       "    <tr>\n",
       "      <th>637208</th>\n",
       "      <td>5</td>\n",
       "      <td>MAR</td>\n",
       "    </tr>\n",
       "    <tr>\n",
       "      <th>674298</th>\n",
       "      <td>6</td>\n",
       "      <td>HKG</td>\n",
       "    </tr>\n",
       "    <tr>\n",
       "      <th>707129</th>\n",
       "      <td>6</td>\n",
       "      <td>AGO</td>\n",
       "    </tr>\n",
       "    <tr>\n",
       "      <th>710129</th>\n",
       "      <td>6</td>\n",
       "      <td>MOZ</td>\n",
       "    </tr>\n",
       "    <tr>\n",
       "      <th>728138</th>\n",
       "      <td>6</td>\n",
       "      <td>SLE</td>\n",
       "    </tr>\n",
       "    <tr>\n",
       "      <th>761234</th>\n",
       "      <td>6</td>\n",
       "      <td>LBR</td>\n",
       "    </tr>\n",
       "    <tr>\n",
       "      <th>782273</th>\n",
       "      <td>6</td>\n",
       "      <td>TTO</td>\n",
       "    </tr>\n",
       "    <tr>\n",
       "      <th>787829</th>\n",
       "      <td>6</td>\n",
       "      <td>MAR</td>\n",
       "    </tr>\n",
       "    <tr>\n",
       "      <th>795855</th>\n",
       "      <td>6</td>\n",
       "      <td>MRT</td>\n",
       "    </tr>\n",
       "    <tr>\n",
       "      <th>799865</th>\n",
       "      <td>6</td>\n",
       "      <td>DJI</td>\n",
       "    </tr>\n",
       "    <tr>\n",
       "      <th>882017</th>\n",
       "      <td>7</td>\n",
       "      <td>HKG</td>\n",
       "    </tr>\n",
       "    <tr>\n",
       "      <th>903182</th>\n",
       "      <td>7</td>\n",
       "      <td>GHA</td>\n",
       "    </tr>\n",
       "    <tr>\n",
       "      <th>919214</th>\n",
       "      <td>7</td>\n",
       "      <td>AGO</td>\n",
       "    </tr>\n",
       "    <tr>\n",
       "      <th>923214</th>\n",
       "      <td>7</td>\n",
       "      <td>MRT</td>\n",
       "    </tr>\n",
       "    <tr>\n",
       "      <th>1141348</th>\n",
       "      <td>8</td>\n",
       "      <td>MRT</td>\n",
       "    </tr>\n",
       "    <tr>\n",
       "      <th>1159404</th>\n",
       "      <td>8</td>\n",
       "      <td>SLE</td>\n",
       "    </tr>\n",
       "    <tr>\n",
       "      <th>1194265</th>\n",
       "      <td>8</td>\n",
       "      <td>LBR</td>\n",
       "    </tr>\n",
       "    <tr>\n",
       "      <th>1211371</th>\n",
       "      <td>8</td>\n",
       "      <td>TTO</td>\n",
       "    </tr>\n",
       "    <tr>\n",
       "      <th>1283344</th>\n",
       "      <td>9</td>\n",
       "      <td>MRT</td>\n",
       "    </tr>\n",
       "    <tr>\n",
       "      <th>1301388</th>\n",
       "      <td>9</td>\n",
       "      <td>SLE</td>\n",
       "    </tr>\n",
       "    <tr>\n",
       "      <th>1338998</th>\n",
       "      <td>9</td>\n",
       "      <td>LBR</td>\n",
       "    </tr>\n",
       "    <tr>\n",
       "      <th>1472316</th>\n",
       "      <td>10</td>\n",
       "      <td>MRT</td>\n",
       "    </tr>\n",
       "    <tr>\n",
       "      <th>1491350</th>\n",
       "      <td>10</td>\n",
       "      <td>SLE</td>\n",
       "    </tr>\n",
       "    <tr>\n",
       "      <th>1526549</th>\n",
       "      <td>10</td>\n",
       "      <td>LBR</td>\n",
       "    </tr>\n",
       "    <tr>\n",
       "      <th>1619517</th>\n",
       "      <td>11</td>\n",
       "      <td>MRT</td>\n",
       "    </tr>\n",
       "    <tr>\n",
       "      <th>1773835</th>\n",
       "      <td>12</td>\n",
       "      <td>MRT</td>\n",
       "    </tr>\n",
       "    <tr>\n",
       "      <th>1885554</th>\n",
       "      <td>13</td>\n",
       "      <td>VEN</td>\n",
       "    </tr>\n",
       "    <tr>\n",
       "      <th>1911225</th>\n",
       "      <td>13</td>\n",
       "      <td>MRT</td>\n",
       "    </tr>\n",
       "    <tr>\n",
       "      <th>1913225</th>\n",
       "      <td>13</td>\n",
       "      <td>NER</td>\n",
       "    </tr>\n",
       "    <tr>\n",
       "      <th>2061411</th>\n",
       "      <td>14</td>\n",
       "      <td>VEN</td>\n",
       "    </tr>\n",
       "    <tr>\n",
       "      <th>2119615</th>\n",
       "      <td>14</td>\n",
       "      <td>ZWE</td>\n",
       "    </tr>\n",
       "    <tr>\n",
       "      <th>2227886</th>\n",
       "      <td>15</td>\n",
       "      <td>VEN</td>\n",
       "    </tr>\n",
       "    <tr>\n",
       "      <th>2264125</th>\n",
       "      <td>15</td>\n",
       "      <td>ZWE</td>\n",
       "    </tr>\n",
       "    <tr>\n",
       "      <th>2358159</th>\n",
       "      <td>16</td>\n",
       "      <td>VEN</td>\n",
       "    </tr>\n",
       "    <tr>\n",
       "      <th>2396240</th>\n",
       "      <td>16</td>\n",
       "      <td>SLE</td>\n",
       "    </tr>\n",
       "    <tr>\n",
       "      <th>2397240</th>\n",
       "      <td>16</td>\n",
       "      <td>ZWE</td>\n",
       "    </tr>\n",
       "    <tr>\n",
       "      <th>2453422</th>\n",
       "      <td>17</td>\n",
       "      <td>LBN</td>\n",
       "    </tr>\n",
       "    <tr>\n",
       "      <th>2474481</th>\n",
       "      <td>17</td>\n",
       "      <td>IRN</td>\n",
       "    </tr>\n",
       "    <tr>\n",
       "      <th>2525566</th>\n",
       "      <td>17</td>\n",
       "      <td>ZWE</td>\n",
       "    </tr>\n",
       "    <tr>\n",
       "      <th>2556989</th>\n",
       "      <td>17</td>\n",
       "      <td>JAM</td>\n",
       "    </tr>\n",
       "    <tr>\n",
       "      <th>2591089</th>\n",
       "      <td>17</td>\n",
       "      <td>YEM</td>\n",
       "    </tr>\n",
       "  </tbody>\n",
       "</table>\n",
       "</div>"
      ],
      "text/plain": [
       "         wave COUNTRY_ISO3\n",
       "380478      4          HKG\n",
       "407542      4          SWE\n",
       "460094      4          TKM\n",
       "473859      4          MRT\n",
       "477950      4          DJI\n",
       "570450      5          SLE\n",
       "587497      5          DJI\n",
       "596017      5          LBR\n",
       "602028      5          MNG\n",
       "624158      5          MRT\n",
       "637208      5          MAR\n",
       "674298      6          HKG\n",
       "707129      6          AGO\n",
       "710129      6          MOZ\n",
       "728138      6          SLE\n",
       "761234      6          LBR\n",
       "782273      6          TTO\n",
       "787829      6          MAR\n",
       "795855      6          MRT\n",
       "799865      6          DJI\n",
       "882017      7          HKG\n",
       "903182      7          GHA\n",
       "919214      7          AGO\n",
       "923214      7          MRT\n",
       "1141348     8          MRT\n",
       "1159404     8          SLE\n",
       "1194265     8          LBR\n",
       "1211371     8          TTO\n",
       "1283344     9          MRT\n",
       "1301388     9          SLE\n",
       "1338998     9          LBR\n",
       "1472316    10          MRT\n",
       "1491350    10          SLE\n",
       "1526549    10          LBR\n",
       "1619517    11          MRT\n",
       "1773835    12          MRT\n",
       "1885554    13          VEN\n",
       "1911225    13          MRT\n",
       "1913225    13          NER\n",
       "2061411    14          VEN\n",
       "2119615    14          ZWE\n",
       "2227886    15          VEN\n",
       "2264125    15          ZWE\n",
       "2358159    16          VEN\n",
       "2396240    16          SLE\n",
       "2397240    16          ZWE\n",
       "2453422    17          LBN\n",
       "2474481    17          IRN\n",
       "2525566    17          ZWE\n",
       "2556989    17          JAM\n",
       "2591089    17          YEM"
      ]
     },
     "execution_count": 247,
     "metadata": {},
     "output_type": "execute_result"
    }
   ],
   "source": [
    "UseDataframe[UseDataframe['INCOME_2'].isna()][['wave', 'COUNTRY_ISO3']].drop_duplicates()"
   ]
  },
  {
   "cell_type": "code",
   "execution_count": 248,
   "id": "5aaf14b3-3795-4338-b4b0-c8a75a4e0428",
   "metadata": {},
   "outputs": [
    {
     "name": "stderr",
     "output_type": "stream",
     "text": [
      "/tmp/ipykernel_12939/3867857424.py:1: SettingWithCopyWarning: \n",
      "A value is trying to be set on a copy of a slice from a DataFrame\n",
      "\n",
      "See the caveats in the documentation: https://pandas.pydata.org/pandas-docs/stable/user_guide/indexing.html#returning-a-view-versus-a-copy\n",
      "  UseDataframe.dropna(subset=['INCOME_2'], inplace=True)\n"
     ]
    }
   ],
   "source": [
    "UseDataframe.dropna(subset=['INCOME_2'], inplace=True)"
   ]
  },
  {
   "cell_type": "code",
   "execution_count": 249,
   "id": "277d7639-669b-460f-8f7d-aa19694862e1",
   "metadata": {},
   "outputs": [
    {
     "data": {
      "text/plain": [
       "0"
      ]
     },
     "execution_count": 249,
     "metadata": {},
     "output_type": "execute_result"
    }
   ],
   "source": [
    "UseDataframe['INCOME_2'].isna().sum()"
   ]
  },
  {
   "cell_type": "code",
   "execution_count": 250,
   "id": "b011ce15-0c05-4a5b-84d2-d7cccab4bf2a",
   "metadata": {},
   "outputs": [
    {
     "data": {
      "text/plain": [
       "(2172297, 90)"
      ]
     },
     "execution_count": 250,
     "metadata": {},
     "output_type": "execute_result"
    }
   ],
   "source": [
    "UseDataframe.shape"
   ]
  },
  {
   "cell_type": "code",
   "execution_count": 251,
   "id": "602e95a4-b2a8-4c87-b69a-df5a30837899",
   "metadata": {},
   "outputs": [],
   "source": [
    "variable_list.append('INCOME_2')"
   ]
  },
  {
   "cell_type": "markdown",
   "id": "6f46fc4f-3d59-4f65-9ca9-763236b5bbf6",
   "metadata": {},
   "source": [
    "### WP16 Cantril_ladder"
   ]
  },
  {
   "cell_type": "markdown",
   "id": "59d45f31-15d3-4f34-9b9e-ec7465054cb7",
   "metadata": {},
   "source": [
    "Strategy: drop nan and 98 99"
   ]
  },
  {
   "cell_type": "code",
   "execution_count": 252,
   "id": "1b08a8c8-74ae-4566-9f69-6663f6094a83",
   "metadata": {},
   "outputs": [
    {
     "data": {
      "text/plain": [
       "WP16\n",
       "0.0      73578\n",
       "1.0      62604\n",
       "2.0      97966\n",
       "3.0     172163\n",
       "4.0     209659\n",
       "5.0     490301\n",
       "6.0     260946\n",
       "7.0     291434\n",
       "8.0     264732\n",
       "9.0      94978\n",
       "10.0    123472\n",
       "98.0     22772\n",
       "99.0      2314\n",
       "Name: count, dtype: int64"
      ]
     },
     "execution_count": 252,
     "metadata": {},
     "output_type": "execute_result"
    }
   ],
   "source": [
    "UseDataframe['WP16'].value_counts().sort_index()"
   ]
  },
  {
   "cell_type": "code",
   "execution_count": 253,
   "id": "3041923d-3851-45d3-9b55-1bc23579c716",
   "metadata": {},
   "outputs": [
    {
     "name": "stderr",
     "output_type": "stream",
     "text": [
      "/tmp/ipykernel_12939/1026486328.py:1: SettingWithCopyWarning: \n",
      "A value is trying to be set on a copy of a slice from a DataFrame.\n",
      "Try using .loc[row_indexer,col_indexer] = value instead\n",
      "\n",
      "See the caveats in the documentation: https://pandas.pydata.org/pandas-docs/stable/user_guide/indexing.html#returning-a-view-versus-a-copy\n",
      "  UseDataframe['Cantril_ladder'] = UseDataframe['WP16']\n"
     ]
    }
   ],
   "source": [
    "UseDataframe['Cantril_ladder'] = UseDataframe['WP16']"
   ]
  },
  {
   "cell_type": "code",
   "execution_count": 254,
   "id": "3b4c8be2-be4e-4d12-9fbf-769e86ca38e0",
   "metadata": {},
   "outputs": [],
   "source": [
    "UseDataframe = UseDataframe[UseDataframe['Cantril_ladder'] < 11] "
   ]
  },
  {
   "cell_type": "code",
   "execution_count": 255,
   "id": "e9812999-056d-4a91-bdac-5f0a132151e1",
   "metadata": {},
   "outputs": [
    {
     "data": {
      "text/plain": [
       "(2141833, 91)"
      ]
     },
     "execution_count": 255,
     "metadata": {},
     "output_type": "execute_result"
    }
   ],
   "source": [
    "UseDataframe.shape"
   ]
  },
  {
   "cell_type": "code",
   "execution_count": 256,
   "id": "cba6b6e8-ca9f-4f24-9e91-081c9a3cc99d",
   "metadata": {},
   "outputs": [
    {
     "data": {
      "text/plain": [
       "0"
      ]
     },
     "execution_count": 256,
     "metadata": {},
     "output_type": "execute_result"
    }
   ],
   "source": [
    "UseDataframe['Cantril_ladder'].isna().sum()"
   ]
  },
  {
   "cell_type": "code",
   "execution_count": 257,
   "id": "d5d37863-7808-4871-bdfc-46dbededcc0d",
   "metadata": {},
   "outputs": [],
   "source": [
    "variable_list.append('Cantril_ladder')"
   ]
  },
  {
   "cell_type": "code",
   "execution_count": null,
   "id": "6065a3fc-9166-4d0e-b764-9eaf522781f9",
   "metadata": {},
   "outputs": [],
   "source": []
  },
  {
   "cell_type": "markdown",
   "id": "9723b752-299f-445d-9614-489706f52cca",
   "metadata": {},
   "source": [
    "### WP23 Health_disable"
   ]
  },
  {
   "cell_type": "markdown",
   "id": "a592b10d-7417-4115-8d1c-40c082985706",
   "metadata": {},
   "source": [
    "Strategy: drop nan"
   ]
  },
  {
   "cell_type": "code",
   "execution_count": 258,
   "id": "0b7ba2a5-5b45-4515-88fa-929d117dce3c",
   "metadata": {},
   "outputs": [
    {
     "data": {
      "text/plain": [
       "WP23\n",
       "1.0     498053\n",
       "2.0    1527750\n",
       "3.0       7607\n",
       "4.0       1904\n",
       "Name: count, dtype: int64"
      ]
     },
     "execution_count": 258,
     "metadata": {},
     "output_type": "execute_result"
    }
   ],
   "source": [
    "UseDataframe['WP23'].value_counts().sort_index()"
   ]
  },
  {
   "cell_type": "code",
   "execution_count": 259,
   "id": "a31bd89b-ee4c-419e-b423-8c618dc30988",
   "metadata": {},
   "outputs": [],
   "source": [
    "UseDataframe['Health_disable'] = UseDataframe['WP23']"
   ]
  },
  {
   "cell_type": "code",
   "execution_count": 260,
   "id": "106957e7-6309-4cce-be05-d8926c741d83",
   "metadata": {},
   "outputs": [],
   "source": [
    "UseDataframe = UseDataframe[UseDataframe['Health_disable'] < 3] "
   ]
  },
  {
   "cell_type": "code",
   "execution_count": 261,
   "id": "5c2b9bd1-7661-44ec-a282-5980195f08ed",
   "metadata": {},
   "outputs": [
    {
     "data": {
      "text/plain": [
       "(2025803, 92)"
      ]
     },
     "execution_count": 261,
     "metadata": {},
     "output_type": "execute_result"
    }
   ],
   "source": [
    "UseDataframe.shape"
   ]
  },
  {
   "cell_type": "code",
   "execution_count": 262,
   "id": "4b48b8da-a260-409a-a555-1963f028e02a",
   "metadata": {},
   "outputs": [
    {
     "data": {
      "text/plain": [
       "0"
      ]
     },
     "execution_count": 262,
     "metadata": {},
     "output_type": "execute_result"
    }
   ],
   "source": [
    "UseDataframe['WP23'].isna().sum()"
   ]
  },
  {
   "cell_type": "code",
   "execution_count": 263,
   "id": "3093d896-4e7c-4e0b-9e3a-336baf839efa",
   "metadata": {},
   "outputs": [
    {
     "data": {
      "text/plain": [
       "WP23\n",
       "1.0     498053\n",
       "2.0    1527750\n",
       "Name: count, dtype: int64"
      ]
     },
     "execution_count": 263,
     "metadata": {},
     "output_type": "execute_result"
    }
   ],
   "source": [
    "UseDataframe['WP23'].value_counts().sort_index()"
   ]
  },
  {
   "cell_type": "code",
   "execution_count": 264,
   "id": "52d513b1-4609-488a-b3af-a2ddfac9d60c",
   "metadata": {},
   "outputs": [],
   "source": [
    "UseDataframe['WP23'] = np.abs(UseDataframe['WP23']-2)"
   ]
  },
  {
   "cell_type": "code",
   "execution_count": 265,
   "id": "7a39f42c-9344-484b-bd19-05c38ce4901b",
   "metadata": {},
   "outputs": [
    {
     "data": {
      "text/plain": [
       "WP23\n",
       "0.0    1527750\n",
       "1.0     498053\n",
       "Name: count, dtype: int64"
      ]
     },
     "execution_count": 265,
     "metadata": {},
     "output_type": "execute_result"
    }
   ],
   "source": [
    "UseDataframe['WP23'].value_counts().sort_index()"
   ]
  },
  {
   "cell_type": "code",
   "execution_count": 266,
   "id": "886bf008-9fb2-4bbd-a5e4-db73323c80fc",
   "metadata": {},
   "outputs": [],
   "source": [
    "variable_list.append('Health_disable')"
   ]
  },
  {
   "cell_type": "code",
   "execution_count": null,
   "id": "a8399c83-f6e7-4bc2-96d1-0e273f047e20",
   "metadata": {},
   "outputs": [],
   "source": []
  },
  {
   "cell_type": "markdown",
   "id": "1d1d39c5-dd1e-45d1-a320-485c66910d78",
   "metadata": {},
   "source": [
    "### WP27 Relative_have"
   ]
  },
  {
   "cell_type": "markdown",
   "id": "e198c8e7-8cdb-47d7-a19a-06bb93664643",
   "metadata": {},
   "source": [
    "Strategy: Yes is yes 1 is 1, "
   ]
  },
  {
   "cell_type": "code",
   "execution_count": 268,
   "id": "0a0e7d89-912a-44d0-b29e-501dd0609c27",
   "metadata": {},
   "outputs": [
    {
     "data": {
      "text/plain": [
       "WP27\n",
       "1.0    1584543\n",
       "2.0     370031\n",
       "3.0      17400\n",
       "4.0       1674\n",
       "Name: count, dtype: int64"
      ]
     },
     "execution_count": 268,
     "metadata": {},
     "output_type": "execute_result"
    }
   ],
   "source": [
    "UseDataframe['WP27'].value_counts().sort_index()"
   ]
  },
  {
   "cell_type": "code",
   "execution_count": 269,
   "id": "8e45414b-613d-482f-af70-7ee01fba0dbf",
   "metadata": {},
   "outputs": [
    {
     "data": {
      "text/plain": [
       "52155"
      ]
     },
     "execution_count": 269,
     "metadata": {},
     "output_type": "execute_result"
    }
   ],
   "source": [
    "UseDataframe['WP27'].isna().sum()"
   ]
  },
  {
   "cell_type": "code",
   "execution_count": 270,
   "id": "e481ff69-9b03-463b-b3b4-f3c935a46682",
   "metadata": {},
   "outputs": [],
   "source": [
    "UseDataframe['WP27'] = UseDataframe['WP27'].fillna(2)"
   ]
  },
  {
   "cell_type": "code",
   "execution_count": 271,
   "id": "5ee0469f-e4ab-45f9-b339-beeba6a7c65f",
   "metadata": {},
   "outputs": [
    {
     "data": {
      "text/plain": [
       "0"
      ]
     },
     "execution_count": 271,
     "metadata": {},
     "output_type": "execute_result"
    }
   ],
   "source": [
    "UseDataframe['WP27'].isna().sum()"
   ]
  },
  {
   "cell_type": "code",
   "execution_count": 272,
   "id": "f18f1da2-5ecf-434b-bc06-c09a47c06404",
   "metadata": {},
   "outputs": [],
   "source": [
    "UseDataframe.loc[UseDataframe['WP27'] > 1, 'WP27'] = 0"
   ]
  },
  {
   "cell_type": "code",
   "execution_count": 273,
   "id": "f4d1d627-c074-455a-908a-6450100b2456",
   "metadata": {},
   "outputs": [
    {
     "data": {
      "text/plain": [
       "WP27\n",
       "0.0     441260\n",
       "1.0    1584543\n",
       "Name: count, dtype: int64"
      ]
     },
     "execution_count": 273,
     "metadata": {},
     "output_type": "execute_result"
    }
   ],
   "source": [
    "UseDataframe['WP27'].value_counts().sort_index()"
   ]
  },
  {
   "cell_type": "code",
   "execution_count": 274,
   "id": "401a908e-63ce-485a-81b6-9218b58615e1",
   "metadata": {},
   "outputs": [],
   "source": [
    "UseDataframe['Relative_have'] = UseDataframe['WP27']"
   ]
  },
  {
   "cell_type": "code",
   "execution_count": 275,
   "id": "fb861faa-3501-4da3-848b-b791cb923fbb",
   "metadata": {},
   "outputs": [],
   "source": [
    "variable_list.append('Relative_have')"
   ]
  },
  {
   "cell_type": "markdown",
   "id": "2a3ad581-d209-41f4-8441-db07f7ea1a6e",
   "metadata": {},
   "source": [
    "### WP31 Living_standard_change"
   ]
  },
  {
   "cell_type": "markdown",
   "id": "5c1b539c-e411-44c8-8c73-b74b28c35b68",
   "metadata": {},
   "source": [
    "Better is better (1), bad is bad (-1)"
   ]
  },
  {
   "cell_type": "code",
   "execution_count": 276,
   "id": "08feab1a-7a6d-45a9-9453-4ba9806abeec",
   "metadata": {},
   "outputs": [],
   "source": [
    "UseDataframe['Living_standard_change'] = UseDataframe['WP31']"
   ]
  },
  {
   "cell_type": "code",
   "execution_count": 277,
   "id": "64a51392-d48d-4f76-855a-69b337baf5cf",
   "metadata": {},
   "outputs": [
    {
     "data": {
      "text/plain": [
       "91707"
      ]
     },
     "execution_count": 277,
     "metadata": {},
     "output_type": "execute_result"
    }
   ],
   "source": [
    "UseDataframe['Living_standard_change'].isna().sum()"
   ]
  },
  {
   "cell_type": "code",
   "execution_count": 278,
   "id": "0b6db5be-9b2c-4343-91c6-8a37cdd40004",
   "metadata": {},
   "outputs": [],
   "source": [
    "UseDataframe['Living_standard_change'] = UseDataframe['Living_standard_change'].fillna(2)"
   ]
  },
  {
   "cell_type": "code",
   "execution_count": 284,
   "id": "3b65f3a5-a62f-477f-b897-06481220a27c",
   "metadata": {},
   "outputs": [
    {
     "data": {
      "text/plain": [
       "0"
      ]
     },
     "execution_count": 284,
     "metadata": {},
     "output_type": "execute_result"
    }
   ],
   "source": [
    "UseDataframe['Living_standard_change'].isna().sum()"
   ]
  },
  {
   "cell_type": "code",
   "execution_count": 279,
   "id": "156bc0d8-0cd9-4806-a819-7f5275ee8d5d",
   "metadata": {},
   "outputs": [
    {
     "data": {
      "text/plain": [
       "Living_standard_change\n",
       "1.0    876140\n",
       "2.0    594264\n",
       "3.0    529747\n",
       "4.0     23308\n",
       "5.0      2344\n",
       "Name: count, dtype: int64"
      ]
     },
     "execution_count": 279,
     "metadata": {},
     "output_type": "execute_result"
    }
   ],
   "source": [
    "UseDataframe['Living_standard_change'].value_counts().sort_index()"
   ]
  },
  {
   "cell_type": "code",
   "execution_count": 280,
   "id": "488fc0a8-5180-40c0-b2fb-85c6e1d39451",
   "metadata": {},
   "outputs": [],
   "source": [
    "UseDataframe.loc[UseDataframe['Living_standard_change'] > 3, 'Living_standard_change'] = 2"
   ]
  },
  {
   "cell_type": "code",
   "execution_count": 281,
   "id": "957c4faa-f67b-4de4-8736-8fde357566d2",
   "metadata": {},
   "outputs": [],
   "source": [
    "UseDataframe['Living_standard_change'] = -(UseDataframe['Living_standard_change'] - 2)"
   ]
  },
  {
   "cell_type": "code",
   "execution_count": 282,
   "id": "356c01f8-eff2-43f2-9886-600b26fb5ebf",
   "metadata": {},
   "outputs": [
    {
     "data": {
      "text/plain": [
       "Living_standard_change\n",
       "-1.0    529747\n",
       "-0.0    619916\n",
       " 1.0    876140\n",
       "Name: count, dtype: int64"
      ]
     },
     "execution_count": 282,
     "metadata": {},
     "output_type": "execute_result"
    }
   ],
   "source": [
    "UseDataframe['Living_standard_change'].value_counts().sort_index()"
   ]
  },
  {
   "cell_type": "code",
   "execution_count": 283,
   "id": "9aea80d8-976c-4759-baa0-a088da60fc46",
   "metadata": {},
   "outputs": [],
   "source": [
    "variable_list.append('Living_standard_change')"
   ]
  },
  {
   "cell_type": "code",
   "execution_count": 285,
   "id": "11576710-b329-4d14-b17e-47853a7974e4",
   "metadata": {},
   "outputs": [
    {
     "data": {
      "text/plain": [
       "(2025803, 94)"
      ]
     },
     "execution_count": 285,
     "metadata": {},
     "output_type": "execute_result"
    }
   ],
   "source": [
    "UseDataframe.shape"
   ]
  },
  {
   "cell_type": "code",
   "execution_count": null,
   "id": "307edf83-002e-43ea-8c01-8bcda8ee65f4",
   "metadata": {},
   "outputs": [],
   "source": []
  },
  {
   "cell_type": "markdown",
   "id": "209ebec5-ceb4-4d8c-969b-27f354287c98",
   "metadata": {},
   "source": [
    "### WP40 WP43 Enough_food Enough_shelter"
   ]
  },
  {
   "cell_type": "markdown",
   "id": "181e5910-5af5-411f-ae61-110d25828143",
   "metadata": {},
   "source": [
    "yes is yes 1"
   ]
  },
  {
   "cell_type": "code",
   "execution_count": 286,
   "id": "2efd5ec2-4999-450c-b3fd-fbfbbec5c43b",
   "metadata": {},
   "outputs": [],
   "source": [
    "name_list = ['Enough_food', 'Enough_shelter']"
   ]
  },
  {
   "cell_type": "code",
   "execution_count": 287,
   "id": "81f04125-2d1e-4c4d-98e9-8da67ed565b6",
   "metadata": {},
   "outputs": [],
   "source": [
    "UseDataframe['Enough_food'] = UseDataframe['WP40']\n",
    "UseDataframe['Enough_shelter'] = UseDataframe['WP43']"
   ]
  },
  {
   "cell_type": "code",
   "execution_count": 288,
   "id": "dee84b7d-2117-4780-9859-65f750768c49",
   "metadata": {},
   "outputs": [
    {
     "data": {
      "text/plain": [
       "11253"
      ]
     },
     "execution_count": 288,
     "metadata": {},
     "output_type": "execute_result"
    }
   ],
   "source": [
    "UseDataframe['Enough_food'].isna().sum()"
   ]
  },
  {
   "cell_type": "code",
   "execution_count": 289,
   "id": "fe00aca9-6b1b-4158-a716-642a84421a07",
   "metadata": {},
   "outputs": [
    {
     "data": {
      "text/plain": [
       "9195"
      ]
     },
     "execution_count": 289,
     "metadata": {},
     "output_type": "execute_result"
    }
   ],
   "source": [
    "UseDataframe['Enough_shelter'].isna().sum()"
   ]
  },
  {
   "cell_type": "code",
   "execution_count": 290,
   "id": "f7056019-8ef9-473b-bcc1-b82ee9cb989f",
   "metadata": {},
   "outputs": [],
   "source": [
    "UseDataframe['Enough_food'] = UseDataframe['Enough_food'].fillna(2)\n",
    "UseDataframe['Enough_shelter'] = UseDataframe['Enough_shelter'].fillna(2)"
   ]
  },
  {
   "cell_type": "code",
   "execution_count": 291,
   "id": "711076a0-d59f-4191-8be7-eac90cde1ad9",
   "metadata": {},
   "outputs": [
    {
     "name": "stdout",
     "output_type": "stream",
     "text": [
      "Enough_food\n",
      "0.0    1378238\n",
      "1.0     647565\n",
      "Name: count, dtype: int64\n",
      "Enough_shelter\n",
      "0.0    1533964\n",
      "1.0     491839\n",
      "Name: count, dtype: int64\n"
     ]
    }
   ],
   "source": [
    "for name in name_list:\n",
    "    UseDataframe.loc[UseDataframe[name] > 1, name] = 0\n",
    "    print(UseDataframe[name].value_counts().sort_index())"
   ]
  },
  {
   "cell_type": "code",
   "execution_count": 292,
   "id": "d7636f53-4ee0-4388-abec-ba1d0bbb937d",
   "metadata": {},
   "outputs": [],
   "source": [
    "variable_list = variable_list + name_list"
   ]
  },
  {
   "cell_type": "markdown",
   "id": "2578d5fe-825f-4af1-8b97-239276535cfa",
   "metadata": {},
   "source": [
    "### WP60, WP61, WP63, WP65 -> Well_rested, Respected, Smile, Interesting_thing"
   ]
  },
  {
   "cell_type": "markdown",
   "id": "2379125c-3e22-41b5-a278-01093d69897f",
   "metadata": {},
   "source": [
    "yes is yes 1"
   ]
  },
  {
   "cell_type": "code",
   "execution_count": 293,
   "id": "8d3c89ec-d6b4-43f3-87bc-98526b65ff2b",
   "metadata": {},
   "outputs": [],
   "source": [
    "name_list = [\"Well_rested\", \"Respected\", \"Smile\", \"Interesting_thing\"]"
   ]
  },
  {
   "cell_type": "code",
   "execution_count": 294,
   "id": "cfefc33c-78cb-412f-8908-b43b5012a834",
   "metadata": {},
   "outputs": [],
   "source": [
    "code_list = [\"WP60\", \"WP61\", \"WP63\", \"WP65\"]"
   ]
  },
  {
   "cell_type": "code",
   "execution_count": 295,
   "id": "fd7714a3-921b-4e44-b089-2d08eb6b96d0",
   "metadata": {},
   "outputs": [
    {
     "name": "stdout",
     "output_type": "stream",
     "text": [
      "WP60\n",
      "1.0    1366481\n",
      "2.0     638632\n",
      "3.0      11186\n",
      "4.0       1775\n",
      "Name: count, dtype: int64\n",
      "Well_rested\n",
      "0.0     659322\n",
      "1.0    1366481\n",
      "Name: count, dtype: int64\n",
      "WP61\n",
      "1.0    1750163\n",
      "2.0     232679\n",
      "3.0      30986\n",
      "4.0       3246\n",
      "Name: count, dtype: int64\n",
      "Respected\n",
      "0.0     275640\n",
      "1.0    1750163\n",
      "Name: count, dtype: int64\n",
      "WP63\n",
      "1.0    1422632\n",
      "2.0     546695\n",
      "3.0      30055\n",
      "4.0       2815\n",
      "Name: count, dtype: int64\n",
      "Smile\n",
      "0.0     603171\n",
      "1.0    1422632\n",
      "Name: count, dtype: int64\n",
      "WP65\n",
      "1.0    1053008\n",
      "2.0     934731\n",
      "3.0      27736\n",
      "4.0       2599\n",
      "Name: count, dtype: int64\n",
      "Interesting_thing\n",
      "0.0     972795\n",
      "1.0    1053008\n",
      "Name: count, dtype: int64\n"
     ]
    }
   ],
   "source": [
    "for code, name in zip(code_list, name_list):\n",
    "    print(UseDataframe[code].value_counts().sort_index())\n",
    "    UseDataframe[name] = UseDataframe[code]\n",
    "    UseDataframe[name] = UseDataframe[name].fillna(2)\n",
    "    UseDataframe.loc[UseDataframe[name] > 1, name] = 0\n",
    "    print(UseDataframe[name].value_counts().sort_index())"
   ]
  },
  {
   "cell_type": "code",
   "execution_count": 296,
   "id": "b7e1f6cd-7f8c-4139-a35a-65897194b1dc",
   "metadata": {},
   "outputs": [],
   "source": [
    "variable_list = variable_list + name_list"
   ]
  },
  {
   "cell_type": "code",
   "execution_count": 297,
   "id": "2ec4b22a-827a-45af-a8f6-9def6dad9f1f",
   "metadata": {},
   "outputs": [
    {
     "data": {
      "text/plain": [
       "['wave',\n",
       " 'INCOME_2',\n",
       " 'Cantril_ladder',\n",
       " 'Health_disable',\n",
       " 'Relative_have',\n",
       " 'Living_standard_change',\n",
       " 'Enough_food',\n",
       " 'Enough_shelter',\n",
       " 'Well_rested',\n",
       " 'Respected',\n",
       " 'Smile',\n",
       " 'Interesting_thing']"
      ]
     },
     "execution_count": 297,
     "metadata": {},
     "output_type": "execute_result"
    }
   ],
   "source": [
    "variable_list"
   ]
  },
  {
   "cell_type": "markdown",
   "id": "5cea6ec0-2e7b-4b5e-b446-600142fcfa69",
   "metadata": {},
   "source": [
    "### WP67, WP68, WP69, WP70, WP71, WP74 -> Enjoyment, Physical_pain, Worry, Sadness, Stress, Anger"
   ]
  },
  {
   "cell_type": "code",
   "execution_count": 298,
   "id": "7920ae7b-a855-470b-885b-784634eb8a31",
   "metadata": {},
   "outputs": [],
   "source": [
    "name_list = [\"Enjoyment\", \"Physical_pain\", \"Worry\", \"Sadness\", \"Stress\", \"Anger\"]"
   ]
  },
  {
   "cell_type": "code",
   "execution_count": 299,
   "id": "3c1c5711-d104-4bc2-b3bb-3fa421be1fd7",
   "metadata": {},
   "outputs": [],
   "source": [
    "code_list = [\"WP67\", \"WP68\", \"WP69\", \"WP70\", \"WP71\", \"WP74\"]"
   ]
  },
  {
   "cell_type": "code",
   "execution_count": 300,
   "id": "5ee62738-2d96-4a9b-95f1-5e0f1dbc065b",
   "metadata": {},
   "outputs": [
    {
     "name": "stdout",
     "output_type": "stream",
     "text": [
      "WP67\n",
      "1.0    1395182\n",
      "2.0     591071\n",
      "3.0      22200\n",
      "4.0       2746\n",
      "Name: count, dtype: int64\n",
      "Enjoyment\n",
      "0.0     630621\n",
      "1.0    1395182\n",
      "Name: count, dtype: int64\n",
      "WP68\n",
      "1.0     617655\n",
      "2.0    1392067\n",
      "3.0       6922\n",
      "4.0       1589\n",
      "Name: count, dtype: int64\n",
      "Physical_pain\n",
      "0.0    1408148\n",
      "1.0     617655\n",
      "Name: count, dtype: int64\n",
      "WP69\n",
      "1.0     764019\n",
      "2.0    1243966\n",
      "3.0      10432\n",
      "4.0       1843\n",
      "Name: count, dtype: int64\n",
      "Worry\n",
      "0.0    1261784\n",
      "1.0     764019\n",
      "Name: count, dtype: int64\n",
      "WP70\n",
      "1.0     470856\n",
      "2.0    1535494\n",
      "3.0      11664\n",
      "4.0       2245\n",
      "Name: count, dtype: int64\n",
      "Sadness\n",
      "0.0    1554947\n",
      "1.0     470856\n",
      "Name: count, dtype: int64\n",
      "WP71\n",
      "1.0     663219\n",
      "2.0    1323312\n",
      "3.0      14577\n",
      "4.0       2213\n",
      "Name: count, dtype: int64\n",
      "Stress\n",
      "0.0    1362584\n",
      "1.0     663219\n",
      "Name: count, dtype: int64\n",
      "WP74\n",
      "1.0     398760\n",
      "2.0    1593233\n",
      "3.0      11021\n",
      "4.0       2339\n",
      "Name: count, dtype: int64\n",
      "Anger\n",
      "0.0    1627043\n",
      "1.0     398760\n",
      "Name: count, dtype: int64\n"
     ]
    }
   ],
   "source": [
    "for code, name in zip(code_list, name_list):\n",
    "    print(UseDataframe[code].value_counts().sort_index())\n",
    "    UseDataframe[name] = UseDataframe[code]\n",
    "    UseDataframe[name] = UseDataframe[name].fillna(2)\n",
    "    UseDataframe.loc[UseDataframe[name] > 1, name] = 0\n",
    "    print(UseDataframe[name].value_counts().sort_index())"
   ]
  },
  {
   "cell_type": "code",
   "execution_count": 301,
   "id": "944014f0-5eba-40f2-baf5-5059e8e85b20",
   "metadata": {},
   "outputs": [],
   "source": [
    "variable_list = variable_list + name_list"
   ]
  },
  {
   "cell_type": "code",
   "execution_count": 302,
   "id": "49e80bf8-cd04-4cd8-b70f-26f039476758",
   "metadata": {},
   "outputs": [
    {
     "data": {
      "text/plain": [
       "['wave',\n",
       " 'INCOME_2',\n",
       " 'Cantril_ladder',\n",
       " 'Health_disable',\n",
       " 'Relative_have',\n",
       " 'Living_standard_change',\n",
       " 'Enough_food',\n",
       " 'Enough_shelter',\n",
       " 'Well_rested',\n",
       " 'Respected',\n",
       " 'Smile',\n",
       " 'Interesting_thing',\n",
       " 'Enjoyment',\n",
       " 'Physical_pain',\n",
       " 'Worry',\n",
       " 'Sadness',\n",
       " 'Stress',\n",
       " 'Anger']"
      ]
     },
     "execution_count": 302,
     "metadata": {},
     "output_type": "execute_result"
    }
   ],
   "source": [
    "variable_list"
   ]
  },
  {
   "cell_type": "code",
   "execution_count": null,
   "id": "b6984fa5-dc2f-4c25-b19c-1388e1878d0e",
   "metadata": {},
   "outputs": [],
   "source": []
  },
  {
   "cell_type": "markdown",
   "id": "75530eb8-59df-4d96-90cf-421115ad7eae",
   "metadata": {},
   "source": [
    "### WP83 -> City_satisficied"
   ]
  },
  {
   "cell_type": "code",
   "execution_count": 303,
   "id": "cb7dd528-3865-4e05-9656-037e25ac6f72",
   "metadata": {},
   "outputs": [],
   "source": [
    "code = 'WP83'"
   ]
  },
  {
   "cell_type": "code",
   "execution_count": 304,
   "id": "188eac2c-82d2-40a4-9be0-161f6e463af4",
   "metadata": {},
   "outputs": [],
   "source": [
    "name = 'City_satisficied'"
   ]
  },
  {
   "cell_type": "code",
   "execution_count": 305,
   "id": "de46b11e-87f2-46bd-9a18-5c03c916881b",
   "metadata": {},
   "outputs": [
    {
     "name": "stdout",
     "output_type": "stream",
     "text": [
      "WP83\n",
      "1.0    1535104\n",
      "2.0     409090\n",
      "3.0      19901\n",
      "4.0       2273\n",
      "Name: count, dtype: int64\n",
      "City_satisficied\n",
      "0.0     490699\n",
      "1.0    1535104\n",
      "Name: count, dtype: int64\n"
     ]
    }
   ],
   "source": [
    "print(UseDataframe[code].value_counts().sort_index())\n",
    "UseDataframe[name] = UseDataframe[code]\n",
    "UseDataframe[name] = UseDataframe[name].fillna(2)\n",
    "UseDataframe.loc[UseDataframe[name] > 1, name] = 0\n",
    "print(UseDataframe[name].value_counts().sort_index())"
   ]
  },
  {
   "cell_type": "code",
   "execution_count": 306,
   "id": "bd90d521-fad3-4789-a4a2-4248d85092f7",
   "metadata": {},
   "outputs": [],
   "source": [
    "variable_list.append(name)"
   ]
  },
  {
   "cell_type": "code",
   "execution_count": null,
   "id": "b9de6b22-8eaf-48e1-86b7-6298073b7da5",
   "metadata": {},
   "outputs": [],
   "source": []
  },
  {
   "cell_type": "markdown",
   "id": "b9d2fdbe-ff38-476c-b251-3a7056cc7a8f",
   "metadata": {},
   "source": [
    "### WP19472 "
   ]
  },
  {
   "cell_type": "code",
   "execution_count": 307,
   "id": "18e99825-7803-4b7b-a080-e69d3d20df49",
   "metadata": {},
   "outputs": [],
   "source": [
    "code = 'WP19472'"
   ]
  },
  {
   "cell_type": "code",
   "execution_count": 308,
   "id": "4cd76e19-fb0e-48c0-ac6f-7959e0a6b750",
   "metadata": {},
   "outputs": [
    {
     "name": "stdout",
     "output_type": "stream",
     "text": [
      "WP19472\n",
      "1.0    166101\n",
      "2.0    351457\n",
      "3.0    254275\n",
      "4.0     56604\n",
      "8.0     11860\n",
      "9.0       539\n",
      "Name: count, dtype: int64\n"
     ]
    }
   ],
   "source": [
    "print(UseDataframe[code].value_counts().sort_index())"
   ]
  },
  {
   "cell_type": "code",
   "execution_count": 309,
   "id": "92cd8bb3-2992-4bfc-8aac-c3d89ec95417",
   "metadata": {},
   "outputs": [
    {
     "data": {
      "text/plain": [
       "1184967"
      ]
     },
     "execution_count": 309,
     "metadata": {},
     "output_type": "execute_result"
    }
   ],
   "source": [
    "UseDataframe[code].isna().sum()"
   ]
  },
  {
   "cell_type": "markdown",
   "id": "6fa3ca6f-7fc1-44cf-8668-3fe283257d98",
   "metadata": {},
   "source": [
    "**NOT USE**"
   ]
  },
  {
   "cell_type": "code",
   "execution_count": null,
   "id": "270902d7-5fb3-4408-99f2-ee8046fa8e7d",
   "metadata": {},
   "outputs": [],
   "source": []
  },
  {
   "cell_type": "markdown",
   "id": "016a9fbe-6daa-48e5-8b70-fde569f456cf",
   "metadata": {},
   "source": [
    "### WP88 -> Economic_change"
   ]
  },
  {
   "cell_type": "code",
   "execution_count": 310,
   "id": "d524fb79-1289-4cae-b730-23422bc620ee",
   "metadata": {},
   "outputs": [],
   "source": [
    "code = 'WP88'\n",
    "name = 'Economic_change'"
   ]
  },
  {
   "cell_type": "code",
   "execution_count": 311,
   "id": "2ff0b3b5-3373-4d91-a102-bee0f3da7d25",
   "metadata": {},
   "outputs": [],
   "source": [
    "UseDataframe[name] = UseDataframe[code]"
   ]
  },
  {
   "cell_type": "code",
   "execution_count": 312,
   "id": "562b9d99-8dc0-4220-8d5c-6735eb341b9b",
   "metadata": {},
   "outputs": [
    {
     "data": {
      "text/plain": [
       "105933"
      ]
     },
     "execution_count": 312,
     "metadata": {},
     "output_type": "execute_result"
    }
   ],
   "source": [
    "UseDataframe[name].isna().sum()"
   ]
  },
  {
   "cell_type": "code",
   "execution_count": 313,
   "id": "7c1b29a1-2d66-48ba-82fd-f2271ad99645",
   "metadata": {},
   "outputs": [],
   "source": [
    "UseDataframe[name] = UseDataframe[name].fillna(2)"
   ]
  },
  {
   "cell_type": "code",
   "execution_count": 314,
   "id": "e47e4f8e-12b4-489f-9344-322145d3fd3f",
   "metadata": {},
   "outputs": [
    {
     "data": {
      "text/plain": [
       "Economic_change\n",
       "1.0    780185\n",
       "2.0    505309\n",
       "3.0    672649\n",
       "4.0     65339\n",
       "5.0      2321\n",
       "Name: count, dtype: int64"
      ]
     },
     "execution_count": 314,
     "metadata": {},
     "output_type": "execute_result"
    }
   ],
   "source": [
    "UseDataframe[name].value_counts().sort_index()"
   ]
  },
  {
   "cell_type": "code",
   "execution_count": 315,
   "id": "9d344ddb-8c98-44be-b167-1dafd8f89511",
   "metadata": {},
   "outputs": [],
   "source": [
    "UseDataframe.loc[UseDataframe[name] > 3, name] = 2"
   ]
  },
  {
   "cell_type": "code",
   "execution_count": 316,
   "id": "c86dd8f5-6608-4b19-b47a-96bb93900e03",
   "metadata": {},
   "outputs": [],
   "source": [
    "UseDataframe[name] = -(UseDataframe[name] - 2)"
   ]
  },
  {
   "cell_type": "code",
   "execution_count": 317,
   "id": "082efc80-b335-4a55-abb9-990c693a56e4",
   "metadata": {},
   "outputs": [
    {
     "data": {
      "text/plain": [
       "Economic_change\n",
       "-1.0    672649\n",
       "-0.0    572969\n",
       " 1.0    780185\n",
       "Name: count, dtype: int64"
      ]
     },
     "execution_count": 317,
     "metadata": {},
     "output_type": "execute_result"
    }
   ],
   "source": [
    "UseDataframe[name].value_counts().sort_index()"
   ]
  },
  {
   "cell_type": "code",
   "execution_count": 318,
   "id": "7e97f92b-0695-4ac2-8190-04be1e2323e2",
   "metadata": {},
   "outputs": [],
   "source": [
    "variable_list.append(name)"
   ]
  },
  {
   "cell_type": "code",
   "execution_count": null,
   "id": "aa4266bf-db0e-47a7-aa24-1e72a6f086fe",
   "metadata": {},
   "outputs": [],
   "source": []
  },
  {
   "cell_type": "markdown",
   "id": "fbe49c1b-ca6b-44cf-921c-857acbe1f25c",
   "metadata": {},
   "source": [
    "### WP89 -> Goodtime_job"
   ]
  },
  {
   "cell_type": "code",
   "execution_count": 322,
   "id": "b7d425aa-5a57-4bd1-b360-4d578c28ae61",
   "metadata": {},
   "outputs": [],
   "source": [
    "code = 'WP89'\n",
    "name = 'Goodtime_job'"
   ]
  },
  {
   "cell_type": "code",
   "execution_count": 323,
   "id": "b4183690-bf7e-4ec5-b9b6-307853bc0a4b",
   "metadata": {},
   "outputs": [
    {
     "name": "stdout",
     "output_type": "stream",
     "text": [
      "WP89\n",
      "1.0     671825\n",
      "2.0    1129068\n",
      "3.0     154631\n",
      "4.0       6020\n",
      "Name: count, dtype: int64\n",
      "64259\n",
      "Goodtime_job\n",
      "0.0    1353978\n",
      "1.0     671825\n",
      "Name: count, dtype: int64\n"
     ]
    }
   ],
   "source": [
    "print(UseDataframe[code].value_counts().sort_index())\n",
    "print(UseDataframe[code].isna().sum())\n",
    "UseDataframe[name] = UseDataframe[code]\n",
    "UseDataframe[name] = UseDataframe[name].fillna(2)\n",
    "UseDataframe.loc[UseDataframe[name] > 1, name] = 0\n",
    "print(UseDataframe[name].value_counts().sort_index())"
   ]
  },
  {
   "cell_type": "code",
   "execution_count": 324,
   "id": "d05c9c78-abf8-41d6-98d0-b1d85c2167b6",
   "metadata": {},
   "outputs": [],
   "source": [
    "variable_list.append(name)"
   ]
  },
  {
   "cell_type": "code",
   "execution_count": null,
   "id": "87517051-b006-4661-aafe-6c7158fe32f4",
   "metadata": {},
   "outputs": [],
   "source": []
  },
  {
   "cell_type": "markdown",
   "id": "4f8bbf5e-9840-4a14-b2d5-f65fbb4e9476",
   "metadata": {},
   "source": [
    "### WP91, WP92, WP93, WP94, WP95, WP97. WP98, WP10248 -> Sat_pubtran, Sat_road, Sat_edu, Sat_qualityair, Sat_qualitywater, Sat_healthcare, Sat_affhouse, Sat_oppofriend"
   ]
  },
  {
   "cell_type": "code",
   "execution_count": 325,
   "id": "06f157ff-9100-4a5d-a5af-30b739d58a80",
   "metadata": {},
   "outputs": [],
   "source": [
    "name_list = ['Sat_pubtran', 'Sat_road', 'Sat_edu', 'Sat_qualityair', 'Sat_qualitywater', 'Sat_healthcare', 'Sat_affhouse', 'Sat_oppofriend']"
   ]
  },
  {
   "cell_type": "code",
   "execution_count": 326,
   "id": "34e2c1cc-c461-494e-a5a4-b2f30ba725cd",
   "metadata": {},
   "outputs": [],
   "source": [
    "code_list = ['WP91', 'WP92', 'WP93', 'WP94', 'WP95', 'WP97', 'WP98', 'WP10248']"
   ]
  },
  {
   "cell_type": "code",
   "execution_count": 328,
   "id": "2cc92763-d35d-4607-98a6-2f3e4c064100",
   "metadata": {},
   "outputs": [
    {
     "name": "stdout",
     "output_type": "stream",
     "text": [
      "WP91\n",
      "1.0    1123099\n",
      "2.0     708625\n",
      "3.0      92478\n",
      "4.0       4195\n",
      "Name: count, dtype: int64\n",
      "97406\n",
      "Sat_pubtran\n",
      "0.0     902704\n",
      "1.0    1123099\n",
      "Name: count, dtype: int64\n",
      "WP92\n",
      "1.0    1048648\n",
      "2.0     842361\n",
      "3.0      32969\n",
      "4.0       1897\n",
      "Name: count, dtype: int64\n",
      "99928\n",
      "Sat_road\n",
      "0.0     977155\n",
      "1.0    1048648\n",
      "Name: count, dtype: int64\n",
      "WP93\n",
      "1.0    1211974\n",
      "2.0     609347\n",
      "3.0     132193\n",
      "4.0       3722\n",
      "Name: count, dtype: int64\n",
      "68567\n",
      "Sat_edu\n",
      "0.0     813829\n",
      "1.0    1211974\n",
      "Name: count, dtype: int64\n",
      "WP94\n",
      "1.0    1427096\n",
      "2.0     466253\n",
      "3.0      25754\n",
      "4.0       1717\n",
      "Name: count, dtype: int64\n",
      "104983\n",
      "Sat_qualityair\n",
      "0.0     598707\n",
      "1.0    1427096\n",
      "Name: count, dtype: int64\n",
      "WP95\n",
      "1.0    1336211\n",
      "2.0     568937\n",
      "3.0      18464\n",
      "4.0       1369\n",
      "Name: count, dtype: int64\n",
      "100822\n",
      "Sat_qualitywater\n",
      "0.0     689592\n",
      "1.0    1336211\n",
      "Name: count, dtype: int64\n",
      "WP97\n",
      "1.0    1089224\n",
      "2.0     774310\n",
      "3.0      48873\n",
      "4.0       2512\n",
      "Name: count, dtype: int64\n",
      "110884\n",
      "Sat_healthcare\n",
      "0.0     936579\n",
      "1.0    1089224\n",
      "Name: count, dtype: int64\n",
      "WP98\n",
      "1.0    927382\n",
      "2.0    868143\n",
      "3.0    127551\n",
      "4.0      4359\n",
      "Name: count, dtype: int64\n",
      "98368\n",
      "Sat_affhouse\n",
      "0.0    1098421\n",
      "1.0     927382\n",
      "Name: count, dtype: int64\n",
      "WP10248\n",
      "1.0    1357987\n",
      "2.0     367688\n",
      "3.0      58050\n",
      "4.0       4088\n",
      "Name: count, dtype: int64\n",
      "237990\n",
      "Sat_oppofriend\n",
      "0.0     667816\n",
      "1.0    1357987\n",
      "Name: count, dtype: int64\n"
     ]
    }
   ],
   "source": [
    "for code, name in zip(code_list, name_list):\n",
    "    print(UseDataframe[code].value_counts().sort_index())\n",
    "    print(UseDataframe[code].isna().sum())\n",
    "    UseDataframe[name] = UseDataframe[code]\n",
    "    UseDataframe[name] = UseDataframe[name].fillna(2)\n",
    "    UseDataframe.loc[UseDataframe[name] > 1, name] = 0\n",
    "    print(UseDataframe[name].value_counts().sort_index())"
   ]
  },
  {
   "cell_type": "code",
   "execution_count": 329,
   "id": "0c2ff888-c089-401c-8f5e-a9ad8d441fa6",
   "metadata": {},
   "outputs": [],
   "source": [
    "variable_list = variable_list + name_list"
   ]
  },
  {
   "cell_type": "code",
   "execution_count": null,
   "id": "ecc67bdf-3374-4f7e-9946-901057c1a337",
   "metadata": {},
   "outputs": [],
   "source": []
  },
  {
   "cell_type": "markdown",
   "id": "1f75326f-794e-41fe-bbc4-fff9e61122fa",
   "metadata": {},
   "source": [
    "### WP103, WP105, WP106 -> Good_minorities, Good_gayles, Good_immigrants"
   ]
  },
  {
   "cell_type": "code",
   "execution_count": 330,
   "id": "13576e35-6fc2-42db-8323-559727646800",
   "metadata": {},
   "outputs": [],
   "source": [
    "name_list = ['Good_minorities', 'Good_gayles', 'Good_immigrants']"
   ]
  },
  {
   "cell_type": "code",
   "execution_count": 331,
   "id": "5e56f8d0-3c03-4eb0-9f9f-cd48d478b4d3",
   "metadata": {},
   "outputs": [],
   "source": [
    "code_list = ['WP103', 'WP105', 'WP106']"
   ]
  },
  {
   "cell_type": "code",
   "execution_count": 332,
   "id": "a779c608-fef2-4ce8-b1d5-40b50015bb91",
   "metadata": {},
   "outputs": [
    {
     "name": "stdout",
     "output_type": "stream",
     "text": [
      "WP103\n",
      "1.0    1144291\n",
      "2.0     438206\n",
      "3.0     150000\n",
      "4.0       7563\n",
      "Name: count, dtype: int64\n",
      "285743\n",
      "Good_minorities\n",
      "0.0     881512\n",
      "1.0    1144291\n",
      "Name: count, dtype: int64\n",
      "WP105\n",
      "1.0    569865\n",
      "2.0    839730\n",
      "3.0    249336\n",
      "4.0     21333\n",
      "Name: count, dtype: int64\n",
      "345539\n",
      "Good_gayles\n",
      "0.0    1455938\n",
      "1.0     569865\n",
      "Name: count, dtype: int64\n",
      "WP106\n",
      "1.0    1138296\n",
      "2.0     601615\n",
      "3.0     174630\n",
      "4.0       8890\n",
      "Name: count, dtype: int64\n",
      "102372\n",
      "Good_immigrants\n",
      "0.0     887507\n",
      "1.0    1138296\n",
      "Name: count, dtype: int64\n"
     ]
    }
   ],
   "source": [
    "for code, name in zip(code_list, name_list):\n",
    "    print(UseDataframe[code].value_counts().sort_index())\n",
    "    print(UseDataframe[code].isna().sum())\n",
    "    UseDataframe[name] = UseDataframe[code]\n",
    "    UseDataframe[name] = UseDataframe[name].fillna(2)\n",
    "    UseDataframe.loc[UseDataframe[name] > 1, name] = 0\n",
    "    print(UseDataframe[name].value_counts().sort_index())"
   ]
  },
  {
   "cell_type": "code",
   "execution_count": 333,
   "id": "20727136-0939-4832-bf97-012b5c62d6ac",
   "metadata": {},
   "outputs": [],
   "source": [
    "variable_list = variable_list + name_list"
   ]
  },
  {
   "cell_type": "code",
   "execution_count": null,
   "id": "d0680372-4f96-4814-ad35-3ca058793e5b",
   "metadata": {},
   "outputs": [],
   "source": []
  },
  {
   "cell_type": "markdown",
   "id": "93d05e6f-dc29-41f9-9456-1c4c5e35b560",
   "metadata": {},
   "source": [
    "### WP108, WP109, WP110, WP111 -> Donated, Volunteer, Help_stranger, Voice_official"
   ]
  },
  {
   "cell_type": "code",
   "execution_count": 334,
   "id": "81567f67-9f83-406f-a439-80b6991dff35",
   "metadata": {},
   "outputs": [],
   "source": [
    "name_list = ['Donated', 'Volunteer', 'Help_stranger', 'Voice_official']"
   ]
  },
  {
   "cell_type": "code",
   "execution_count": 335,
   "id": "46b26d84-5514-41ce-b8f5-38b5f4a627bd",
   "metadata": {},
   "outputs": [],
   "source": [
    "code_list = ['WP108', 'WP109', 'WP110', 'WP111']"
   ]
  },
  {
   "cell_type": "code",
   "execution_count": 336,
   "id": "c8e4e4f2-58ce-41ec-b30f-1d4e40969c30",
   "metadata": {},
   "outputs": [
    {
     "name": "stdout",
     "output_type": "stream",
     "text": [
      "WP108\n",
      "1.0     609797\n",
      "2.0    1330242\n",
      "3.0       8764\n",
      "4.0       4203\n",
      "Name: count, dtype: int64\n",
      "72797\n",
      "Donated\n",
      "0.0    1416006\n",
      "1.0     609797\n",
      "Name: count, dtype: int64\n",
      "WP109\n",
      "1.0     403126\n",
      "2.0    1536953\n",
      "3.0       9431\n",
      "4.0       2496\n",
      "Name: count, dtype: int64\n",
      "73797\n",
      "Volunteer\n",
      "0.0    1622677\n",
      "1.0     403126\n",
      "Name: count, dtype: int64\n",
      "WP110\n",
      "1.0    990339\n",
      "2.0    943774\n",
      "3.0     13619\n",
      "4.0      4280\n",
      "Name: count, dtype: int64\n",
      "73791\n",
      "Help_stranger\n",
      "0.0    1035464\n",
      "1.0     990339\n",
      "Name: count, dtype: int64\n",
      "WP111\n",
      "1.0     315620\n",
      "2.0    1207209\n",
      "3.0      13283\n",
      "4.0       2867\n",
      "Name: count, dtype: int64\n",
      "486824\n",
      "Voice_official\n",
      "0.0    1710183\n",
      "1.0     315620\n",
      "Name: count, dtype: int64\n"
     ]
    }
   ],
   "source": [
    "for code, name in zip(code_list, name_list):\n",
    "    print(UseDataframe[code].value_counts().sort_index())\n",
    "    print(UseDataframe[code].isna().sum())\n",
    "    UseDataframe[name] = UseDataframe[code]\n",
    "    UseDataframe[name] = UseDataframe[name].fillna(2)\n",
    "    UseDataframe.loc[UseDataframe[name] > 1, name] = 0\n",
    "    print(UseDataframe[name].value_counts().sort_index())"
   ]
  },
  {
   "cell_type": "code",
   "execution_count": 337,
   "id": "6f3e3ea4-e078-4ca1-9122-73729421bf43",
   "metadata": {},
   "outputs": [],
   "source": [
    "variable_list = variable_list + name_list"
   ]
  },
  {
   "cell_type": "code",
   "execution_count": null,
   "id": "33223fce-2dc0-4c1e-aaea-28036729633d",
   "metadata": {},
   "outputs": [],
   "source": []
  },
  {
   "cell_type": "markdown",
   "id": "89e945de-442f-400c-bf0b-6622ddc4769b",
   "metadata": {},
   "source": [
    "### WP112, WP113, WP117, WP118 -> Local_police, Safety_walk, Stolen, Assualted"
   ]
  },
  {
   "cell_type": "code",
   "execution_count": 338,
   "id": "4755b044-7291-457d-b9f7-429c75883c9e",
   "metadata": {},
   "outputs": [],
   "source": [
    "name_list = ['Local_police', 'Safety_walk', 'Stolen', 'Assualted']"
   ]
  },
  {
   "cell_type": "code",
   "execution_count": 339,
   "id": "0e495028-4291-4780-a670-3cf83ecc9d83",
   "metadata": {},
   "outputs": [],
   "source": [
    "code_list = ['WP112', 'WP113', 'WP117', 'WP118']"
   ]
  },
  {
   "cell_type": "code",
   "execution_count": 340,
   "id": "64159685-9fcf-45a8-8c4a-cb2a91a39c8b",
   "metadata": {},
   "outputs": [
    {
     "name": "stdout",
     "output_type": "stream",
     "text": [
      "WP112\n",
      "1.0    1114381\n",
      "2.0     540117\n",
      "3.0      72628\n",
      "4.0       5808\n",
      "Name: count, dtype: int64\n",
      "292869\n",
      "Local_police\n",
      "0.0     911422\n",
      "1.0    1114381\n",
      "Name: count, dtype: int64\n",
      "WP113\n",
      "1.0    1188686\n",
      "2.0     677541\n",
      "3.0      43623\n",
      "4.0       3401\n",
      "Name: count, dtype: int64\n",
      "112552\n",
      "Safety_walk\n",
      "0.0     837117\n",
      "1.0    1188686\n",
      "Name: count, dtype: int64\n",
      "WP117\n",
      "1.0     278385\n",
      "2.0    1568014\n",
      "3.0       8061\n",
      "4.0       1580\n",
      "Name: count, dtype: int64\n",
      "169763\n",
      "Stolen\n",
      "0.0    1747418\n",
      "1.0     278385\n",
      "Name: count, dtype: int64\n",
      "WP118\n",
      "1.0      94052\n",
      "2.0    1284581\n",
      "3.0       3789\n",
      "4.0        996\n",
      "Name: count, dtype: int64\n",
      "642385\n",
      "Assualted\n",
      "0.0    1931751\n",
      "1.0      94052\n",
      "Name: count, dtype: int64\n"
     ]
    }
   ],
   "source": [
    "for code, name in zip(code_list, name_list):\n",
    "    print(UseDataframe[code].value_counts().sort_index())\n",
    "    print(UseDataframe[code].isna().sum())\n",
    "    UseDataframe[name] = UseDataframe[code]\n",
    "    UseDataframe[name] = UseDataframe[name].fillna(2)\n",
    "    UseDataframe.loc[UseDataframe[name] > 1, name] = 0\n",
    "    print(UseDataframe[name].value_counts().sort_index())"
   ]
  },
  {
   "cell_type": "code",
   "execution_count": 341,
   "id": "38a131c3-db31-4668-b755-0a2681aea6e5",
   "metadata": {},
   "outputs": [],
   "source": [
    "variable_list = variable_list + name_list"
   ]
  },
  {
   "cell_type": "code",
   "execution_count": null,
   "id": "b047c570-4460-4048-894e-f2c8acafe22a",
   "metadata": {},
   "outputs": [],
   "source": []
  },
  {
   "cell_type": "markdown",
   "id": "95d0984d-c197-4b22-9845-5be7cd3dab57",
   "metadata": {},
   "source": [
    "### WP119 -> Religion_importance"
   ]
  },
  {
   "cell_type": "code",
   "execution_count": 342,
   "id": "0308ca42-0d66-428d-9ffb-d49e632e26c1",
   "metadata": {},
   "outputs": [],
   "source": [
    "code = 'WP119'\n",
    "name = 'Religion_importance'"
   ]
  },
  {
   "cell_type": "code",
   "execution_count": 343,
   "id": "028723cd-0f46-4c08-93e8-325566606ff2",
   "metadata": {},
   "outputs": [
    {
     "name": "stdout",
     "output_type": "stream",
     "text": [
      "WP119\n",
      "1.0    1278325\n",
      "2.0     531738\n",
      "3.0      19773\n",
      "4.0       5244\n",
      "Name: count, dtype: int64\n",
      "190723\n",
      "Religion_importance\n",
      "0.0     747478\n",
      "1.0    1278325\n",
      "Name: count, dtype: int64\n"
     ]
    }
   ],
   "source": [
    "print(UseDataframe[code].value_counts().sort_index())\n",
    "print(UseDataframe[code].isna().sum())\n",
    "UseDataframe[name] = UseDataframe[code]\n",
    "UseDataframe[name] = UseDataframe[name].fillna(2)\n",
    "UseDataframe.loc[UseDataframe[name] > 1, name] = 0\n",
    "print(UseDataframe[name].value_counts().sort_index())"
   ]
  },
  {
   "cell_type": "code",
   "execution_count": 344,
   "id": "b67d212b-9194-4619-8680-c5233b3fcc9f",
   "metadata": {},
   "outputs": [],
   "source": [
    "variable_list.append(name)"
   ]
  },
  {
   "cell_type": "code",
   "execution_count": null,
   "id": "db9724e3-a5b6-4bd1-b083-8a465be7d0cc",
   "metadata": {},
   "outputs": [],
   "source": []
  },
  {
   "cell_type": "markdown",
   "id": "ac1c33fb-753c-431d-846a-84c23368c3c1",
   "metadata": {},
   "source": [
    "### WP129, WP130, WP9050 -> Children_respected, Children_learn, Women_respected"
   ]
  },
  {
   "cell_type": "code",
   "execution_count": 345,
   "id": "807b7237-5803-4b72-bf3d-1bf78eff075a",
   "metadata": {},
   "outputs": [],
   "source": [
    "name_list = ['Children_respected', 'Children_learn', 'Women_respected']"
   ]
  },
  {
   "cell_type": "code",
   "execution_count": 346,
   "id": "5bca2dae-b893-4476-a99e-b965c3e3d0b4",
   "metadata": {},
   "outputs": [],
   "source": [
    "code_list = ['WP129', 'WP130', 'WP9050']"
   ]
  },
  {
   "cell_type": "code",
   "execution_count": 347,
   "id": "c4a0f2aa-3bd1-4ed6-a445-3be8b0f4d88a",
   "metadata": {},
   "outputs": [
    {
     "name": "stdout",
     "output_type": "stream",
     "text": [
      "WP129\n",
      "1.0    1283260\n",
      "2.0     577462\n",
      "3.0      77845\n",
      "4.0       3765\n",
      "Name: count, dtype: int64\n",
      "83471\n",
      "Children_respected\n",
      "0.0     742543\n",
      "1.0    1283260\n",
      "Name: count, dtype: int64\n",
      "WP130\n",
      "1.0    1345504\n",
      "2.0     543886\n",
      "3.0      54267\n",
      "4.0       2695\n",
      "Name: count, dtype: int64\n",
      "79451\n",
      "Children_learn\n",
      "0.0     680299\n",
      "1.0    1345504\n",
      "Name: count, dtype: int64\n",
      "WP9050\n",
      "1.0    1129553\n",
      "2.0     546922\n",
      "3.0      57495\n",
      "4.0       3635\n",
      "Name: count, dtype: int64\n",
      "288198\n",
      "Women_respected\n",
      "0.0     896250\n",
      "1.0    1129553\n",
      "Name: count, dtype: int64\n"
     ]
    }
   ],
   "source": [
    "for code, name in zip(code_list, name_list):\n",
    "    print(UseDataframe[code].value_counts().sort_index())\n",
    "    print(UseDataframe[code].isna().sum())\n",
    "    UseDataframe[name] = UseDataframe[code]\n",
    "    UseDataframe[name] = UseDataframe[name].fillna(2)\n",
    "    UseDataframe.loc[UseDataframe[name] > 1, name] = 0\n",
    "    print(UseDataframe[name].value_counts().sort_index())"
   ]
  },
  {
   "cell_type": "code",
   "execution_count": 348,
   "id": "0dbe7a3f-4cd8-4012-adfa-70dd580ac73a",
   "metadata": {},
   "outputs": [],
   "source": [
    "variable_list = variable_list + name_list"
   ]
  },
  {
   "cell_type": "code",
   "execution_count": null,
   "id": "a9489f9d-8c17-4dcb-9426-29cede8f47d0",
   "metadata": {},
   "outputs": [],
   "source": []
  },
  {
   "cell_type": "markdown",
   "id": "1233caad-df1e-4aec-bcc0-86c146d37c35",
   "metadata": {},
   "source": [
    "### WP131, WP132, WP134 -> Sat_dealpoor, Sat_perserveenv, Freedom_chooselife"
   ]
  },
  {
   "cell_type": "code",
   "execution_count": 349,
   "id": "7c2ee865-8d9b-4115-904c-93a0fcfc6c08",
   "metadata": {},
   "outputs": [],
   "source": [
    "name_list = ['Sat_dealpoor', 'Sat_perserveenv', 'Freedom_chooselife']"
   ]
  },
  {
   "cell_type": "code",
   "execution_count": 350,
   "id": "425affed-faec-46bd-b2d3-42b67eb496e7",
   "metadata": {},
   "outputs": [],
   "source": [
    "code_list = ['WP131', 'WP132', 'WP134']"
   ]
  },
  {
   "cell_type": "code",
   "execution_count": 351,
   "id": "1920a116-c628-45b6-be5f-7901ab9ca1a5",
   "metadata": {},
   "outputs": [
    {
     "name": "stdout",
     "output_type": "stream",
     "text": [
      "WP131\n",
      "1.0    713088\n",
      "2.0    953947\n",
      "3.0     79269\n",
      "4.0      3300\n",
      "Name: count, dtype: int64\n",
      "276199\n",
      "Sat_dealpoor\n",
      "0.0    1312715\n",
      "1.0     713088\n",
      "Name: count, dtype: int64\n",
      "WP132\n",
      "1.0    990616\n",
      "2.0    864190\n",
      "3.0     87413\n",
      "4.0      3014\n",
      "Name: count, dtype: int64\n",
      "80570\n",
      "Sat_perserveenv\n",
      "0.0    1035187\n",
      "1.0     990616\n",
      "Name: count, dtype: int64\n",
      "WP134\n",
      "1.0    1444477\n",
      "2.0     450826\n",
      "3.0      52416\n",
      "4.0       4749\n",
      "Name: count, dtype: int64\n",
      "73335\n",
      "Freedom_chooselife\n",
      "0.0     581326\n",
      "1.0    1444477\n",
      "Name: count, dtype: int64\n"
     ]
    }
   ],
   "source": [
    "for code, name in zip(code_list, name_list):\n",
    "    print(UseDataframe[code].value_counts().sort_index())\n",
    "    print(UseDataframe[code].isna().sum())\n",
    "    UseDataframe[name] = UseDataframe[code]\n",
    "    UseDataframe[name] = UseDataframe[name].fillna(2)\n",
    "    UseDataframe.loc[UseDataframe[name] > 1, name] = 0\n",
    "    print(UseDataframe[name].value_counts().sort_index())"
   ]
  },
  {
   "cell_type": "code",
   "execution_count": 352,
   "id": "dc7cab4c-852e-4886-ab03-3757512e09da",
   "metadata": {},
   "outputs": [],
   "source": [
    "variable_list = variable_list + name_list"
   ]
  },
  {
   "cell_type": "code",
   "execution_count": null,
   "id": "9292eb93-db45-40a1-838a-991b9eb0d49e",
   "metadata": {},
   "outputs": [],
   "source": []
  },
  {
   "cell_type": "markdown",
   "id": "6d123280-97ff-409e-b19d-260cea4312f6",
   "metadata": {},
   "source": [
    "### WP137, WP138, WP139, WP141, WP144 -> Conf_military, Conf_judicial, Conf_government, Conf_financial, Conf_honestyelections"
   ]
  },
  {
   "cell_type": "code",
   "execution_count": 353,
   "id": "26cf0732-655c-4d14-81e3-9c3d5cb80203",
   "metadata": {},
   "outputs": [],
   "source": [
    "name_list = ['Conf_military', 'Conf_judicial', 'Conf_government', 'Conf_financial', 'Conf_honestyelections']"
   ]
  },
  {
   "cell_type": "code",
   "execution_count": 354,
   "id": "81872b34-d7fb-4748-8741-5c9bc303d6e8",
   "metadata": {},
   "outputs": [],
   "source": [
    "code_list = ['WP137', 'WP138', 'WP139', 'WP141', 'WP144']"
   ]
  },
  {
   "cell_type": "code",
   "execution_count": 355,
   "id": "4967997b-0436-4281-ae8b-75c2eb6cc4bf",
   "metadata": {},
   "outputs": [
    {
     "name": "stdout",
     "output_type": "stream",
     "text": [
      "WP137\n",
      "1.0    1166815\n",
      "2.0     415884\n",
      "3.0      85868\n",
      "4.0       5458\n",
      "Name: count, dtype: int64\n",
      "351778\n",
      "Conf_military\n",
      "0.0     858988\n",
      "1.0    1166815\n",
      "Name: count, dtype: int64\n",
      "WP138\n",
      "1.0    858321\n",
      "2.0    767358\n",
      "3.0    123267\n",
      "4.0      6518\n",
      "Name: count, dtype: int64\n",
      "270339\n",
      "Conf_judicial\n",
      "0.0    1167482\n",
      "1.0     858321\n",
      "Name: count, dtype: int64\n",
      "WP139\n",
      "1.0    837335\n",
      "2.0    772740\n",
      "3.0     86705\n",
      "4.0     10347\n",
      "Name: count, dtype: int64\n",
      "318676\n",
      "Conf_government\n",
      "0.0    1188468\n",
      "1.0     837335\n",
      "Name: count, dtype: int64\n",
      "WP141\n",
      "1.0    1057932\n",
      "2.0     666700\n",
      "3.0     126725\n",
      "4.0       5686\n",
      "Name: count, dtype: int64\n",
      "168760\n",
      "Conf_financial\n",
      "0.0     967871\n",
      "1.0    1057932\n",
      "Name: count, dtype: int64\n",
      "WP144\n",
      "1.0    799909\n",
      "2.0    767507\n",
      "3.0    113073\n",
      "4.0      9856\n",
      "Name: count, dtype: int64\n",
      "335458\n",
      "Conf_honestyelections\n",
      "0.0    1225894\n",
      "1.0     799909\n",
      "Name: count, dtype: int64\n"
     ]
    }
   ],
   "source": [
    "for code, name in zip(code_list, name_list):\n",
    "    print(UseDataframe[code].value_counts().sort_index())\n",
    "    print(UseDataframe[code].isna().sum())\n",
    "    UseDataframe[name] = UseDataframe[code]\n",
    "    UseDataframe[name] = UseDataframe[name].fillna(2)\n",
    "    UseDataframe.loc[UseDataframe[name] > 1, name] = 0\n",
    "    print(UseDataframe[name].value_counts().sort_index())"
   ]
  },
  {
   "cell_type": "code",
   "execution_count": 356,
   "id": "3bbad11f-0eaa-4a30-943f-7d2285507a8d",
   "metadata": {},
   "outputs": [],
   "source": [
    "variable_list = variable_list + name_list"
   ]
  },
  {
   "cell_type": "code",
   "execution_count": null,
   "id": "600c0121-2526-4beb-955e-de04c0548ef0",
   "metadata": {},
   "outputs": [],
   "source": []
  },
  {
   "cell_type": "markdown",
   "id": "361319fc-a227-4be3-b281-a12cc7872692",
   "metadata": {},
   "source": [
    "### WP10251, WP145, WP146, WP150 -> Freedom_media, Corruption_business, Corruption_government, Performance_leadership"
   ]
  },
  {
   "cell_type": "code",
   "execution_count": 357,
   "id": "c4e5f344-d9d3-422d-9e56-2a1eb4efdb70",
   "metadata": {},
   "outputs": [],
   "source": [
    "name_list = ['Freedom_media', 'Corruption_business', 'Corruption_government', 'Performance_leadership']"
   ]
  },
  {
   "cell_type": "code",
   "execution_count": 358,
   "id": "68fb9bfb-ad32-4e39-8da5-8ccc55e6b80b",
   "metadata": {},
   "outputs": [],
   "source": [
    "code_list = ['WP10251', 'WP145', 'WP146', 'WP150']"
   ]
  },
  {
   "cell_type": "code",
   "execution_count": 359,
   "id": "f0da22d4-53ca-4d3e-8290-e22d9648c0bf",
   "metadata": {},
   "outputs": [
    {
     "name": "stdout",
     "output_type": "stream",
     "text": [
      "WP10251\n",
      "1.0    1073936\n",
      "2.0     483527\n",
      "3.0     130045\n",
      "4.0       4655\n",
      "Name: count, dtype: int64\n",
      "333640\n",
      "Freedom_media\n",
      "0.0     951867\n",
      "1.0    1073936\n",
      "Name: count, dtype: int64\n",
      "WP145\n",
      "1.0    1222287\n",
      "2.0     413813\n",
      "3.0     193884\n",
      "4.0       8326\n",
      "Name: count, dtype: int64\n",
      "187493\n",
      "Corruption_business\n",
      "0.0     803516\n",
      "1.0    1222287\n",
      "Name: count, dtype: int64\n",
      "WP146\n",
      "1.0    1162669\n",
      "2.0     393904\n",
      "3.0     180890\n",
      "4.0      11613\n",
      "Name: count, dtype: int64\n",
      "276727\n",
      "Corruption_government\n",
      "0.0     863134\n",
      "1.0    1162669\n",
      "Name: count, dtype: int64\n",
      "WP150\n",
      "1.0    811264\n",
      "2.0    769698\n",
      "3.0    115949\n",
      "4.0     19075\n",
      "Name: count, dtype: int64\n",
      "309817\n",
      "Performance_leadership\n",
      "0.0    1214539\n",
      "1.0     811264\n",
      "Name: count, dtype: int64\n"
     ]
    }
   ],
   "source": [
    "for code, name in zip(code_list, name_list):\n",
    "    print(UseDataframe[code].value_counts().sort_index())\n",
    "    print(UseDataframe[code].isna().sum())\n",
    "    UseDataframe[name] = UseDataframe[code]\n",
    "    UseDataframe[name] = UseDataframe[name].fillna(2)\n",
    "    UseDataframe.loc[UseDataframe[name] > 1, name] = 0\n",
    "    print(UseDataframe[name].value_counts().sort_index())"
   ]
  },
  {
   "cell_type": "code",
   "execution_count": 360,
   "id": "f98e4581-ffb4-4865-8b37-1649cb5c888b",
   "metadata": {},
   "outputs": [],
   "source": [
    "variable_list = variable_list + name_list"
   ]
  },
  {
   "cell_type": "code",
   "execution_count": null,
   "id": "e2aaade8-6e59-4ee4-b7f2-3b70e99c9d17",
   "metadata": {},
   "outputs": [],
   "source": []
  },
  {
   "cell_type": "markdown",
   "id": "5ba186c5-b131-4d5b-af0b-0f3b63294269",
   "metadata": {},
   "source": [
    "### (Change a lot) WP1219 -> Gender_female"
   ]
  },
  {
   "cell_type": "markdown",
   "id": "b1c839b6-a179-4bc9-95d4-f9724561971a",
   "metadata": {},
   "source": [
    "drop all value except 1 and 2"
   ]
  },
  {
   "cell_type": "code",
   "execution_count": 361,
   "id": "434e617f-6afb-4f01-b75e-83817b8f98e7",
   "metadata": {},
   "outputs": [],
   "source": [
    "code = 'WP1219'\n",
    "name = 'Gender_female'"
   ]
  },
  {
   "cell_type": "code",
   "execution_count": 362,
   "id": "d5977244-eaf9-4ed8-8ef6-ea0b78a82c81",
   "metadata": {},
   "outputs": [
    {
     "name": "stdout",
     "output_type": "stream",
     "text": [
      "WP1219\n",
      "1.0     947439\n",
      "2.0    1078362\n",
      "Name: count, dtype: int64\n",
      "2\n"
     ]
    }
   ],
   "source": [
    "print(UseDataframe[code].value_counts().sort_index())\n",
    "print(UseDataframe[code].isna().sum())"
   ]
  },
  {
   "cell_type": "code",
   "execution_count": 363,
   "id": "9dbc836f-51ae-4544-86e5-509134fd9017",
   "metadata": {},
   "outputs": [],
   "source": [
    "UseDataframe[name] = UseDataframe[code]\n",
    "UseDataframe[name] = UseDataframe[name].fillna(5)"
   ]
  },
  {
   "cell_type": "code",
   "execution_count": 364,
   "id": "2aa0e003-3d8e-4d97-a421-48fcc8f63a53",
   "metadata": {},
   "outputs": [
    {
     "data": {
      "text/plain": [
       "(2025803, 145)"
      ]
     },
     "execution_count": 364,
     "metadata": {},
     "output_type": "execute_result"
    }
   ],
   "source": [
    "UseDataframe.shape"
   ]
  },
  {
   "cell_type": "code",
   "execution_count": 365,
   "id": "b8713238-3d2e-4507-a0e8-9245a9c87220",
   "metadata": {},
   "outputs": [],
   "source": [
    "UseDataframe = UseDataframe[UseDataframe[name] < 3]"
   ]
  },
  {
   "cell_type": "code",
   "execution_count": 368,
   "id": "3b8ee081-e456-4010-a903-2e2c5259b721",
   "metadata": {},
   "outputs": [],
   "source": [
    "UseDataframe[name] = UseDataframe[name] - 1"
   ]
  },
  {
   "cell_type": "code",
   "execution_count": 369,
   "id": "92dad3de-98b3-4a70-8051-4b270b6f66cc",
   "metadata": {},
   "outputs": [
    {
     "name": "stdout",
     "output_type": "stream",
     "text": [
      "0\n"
     ]
    }
   ],
   "source": [
    "print(UseDataframe[code].isna().sum())"
   ]
  },
  {
   "cell_type": "code",
   "execution_count": 366,
   "id": "5e51673c-0f3b-40be-a69c-2595241868c9",
   "metadata": {},
   "outputs": [
    {
     "data": {
      "text/plain": [
       "(2025801, 145)"
      ]
     },
     "execution_count": 366,
     "metadata": {},
     "output_type": "execute_result"
    }
   ],
   "source": [
    "UseDataframe.shape"
   ]
  },
  {
   "cell_type": "code",
   "execution_count": 367,
   "id": "04cee5d0-b6d9-4b59-9a5a-0453aec93e93",
   "metadata": {},
   "outputs": [],
   "source": [
    "variable_list.append(name)"
   ]
  },
  {
   "cell_type": "code",
   "execution_count": null,
   "id": "92cb5259-f8a4-4898-9a9e-434cee69843a",
   "metadata": {},
   "outputs": [],
   "source": []
  },
  {
   "cell_type": "markdown",
   "id": "4a64c630-634c-4d91-a36e-2334ce00369c",
   "metadata": {},
   "source": [
    "### WP1220 -> Age"
   ]
  },
  {
   "cell_type": "code",
   "execution_count": 370,
   "id": "7f0395f4-2455-4c39-a714-ed8e48e99a4c",
   "metadata": {},
   "outputs": [],
   "source": [
    "code = 'WP1220'\n",
    "name = 'Age'"
   ]
  },
  {
   "cell_type": "code",
   "execution_count": 371,
   "id": "788a7f1d-67ba-4c3a-8911-00217e33b813",
   "metadata": {},
   "outputs": [
    {
     "name": "stdout",
     "output_type": "stream",
     "text": [
      "WP1220\n",
      "15.0     27936\n",
      "16.0     32944\n",
      "17.0     34848\n",
      "17.5         1\n",
      "18.0     45749\n",
      "         ...  \n",
      "96.0       101\n",
      "97.0        71\n",
      "98.0       120\n",
      "99.0       578\n",
      "100.0     6419\n",
      "Name: count, Length: 87, dtype: int64\n",
      "190\n"
     ]
    }
   ],
   "source": [
    "print(UseDataframe[code].value_counts().sort_index())\n",
    "print(UseDataframe[code].isna().sum())"
   ]
  },
  {
   "cell_type": "code",
   "execution_count": 372,
   "id": "55364ded-972b-4c2b-b7c8-391ddb884134",
   "metadata": {},
   "outputs": [],
   "source": [
    "UseDataframe[name] = UseDataframe[code]\n",
    "UseDataframe[name] = UseDataframe[name].fillna(100)"
   ]
  },
  {
   "cell_type": "code",
   "execution_count": 373,
   "id": "74d96a59-5275-4f4b-9422-ad139a452a69",
   "metadata": {},
   "outputs": [
    {
     "data": {
      "text/plain": [
       "(2025801, 146)"
      ]
     },
     "execution_count": 373,
     "metadata": {},
     "output_type": "execute_result"
    }
   ],
   "source": [
    "UseDataframe.shape"
   ]
  },
  {
   "cell_type": "code",
   "execution_count": 374,
   "id": "eea5247f-cb88-49ac-8051-a5e98ee6833c",
   "metadata": {},
   "outputs": [],
   "source": [
    "UseDataframe = UseDataframe[UseDataframe[name] < 98]"
   ]
  },
  {
   "cell_type": "code",
   "execution_count": 375,
   "id": "38ec64f2-fd9c-4b14-9bf1-34f1f1bc1d11",
   "metadata": {},
   "outputs": [
    {
     "data": {
      "text/plain": [
       "(2019192, 146)"
      ]
     },
     "execution_count": 375,
     "metadata": {},
     "output_type": "execute_result"
    }
   ],
   "source": [
    "UseDataframe.shape"
   ]
  },
  {
   "cell_type": "code",
   "execution_count": 376,
   "id": "8ff2cc36-eb31-48cd-b4ca-2493494766ee",
   "metadata": {},
   "outputs": [],
   "source": [
    "variable_list.append(name)"
   ]
  },
  {
   "cell_type": "code",
   "execution_count": null,
   "id": "4cc07d23-492a-43d5-8a0c-056e3062022b",
   "metadata": {},
   "outputs": [],
   "source": []
  },
  {
   "cell_type": "markdown",
   "id": "446667c8-634f-4d61-b202-aea1f248f85d",
   "metadata": {},
   "source": [
    "### WP1223 -> Marital_status"
   ]
  },
  {
   "cell_type": "markdown",
   "id": "20daec4c-aba5-43c1-a8f6-c6588dcd152f",
   "metadata": {},
   "source": [
    "drop 6 and 7"
   ]
  },
  {
   "cell_type": "code",
   "execution_count": 377,
   "id": "c8ce3e46-a502-4d14-af98-de0e7344d138",
   "metadata": {},
   "outputs": [],
   "source": [
    "code = 'WP1223'\n",
    "name = 'Marital_status'"
   ]
  },
  {
   "cell_type": "code",
   "execution_count": 378,
   "id": "a35d643b-9b04-41eb-ab11-2e8bb2b254c7",
   "metadata": {},
   "outputs": [
    {
     "name": "stdout",
     "output_type": "stream",
     "text": [
      "WP1223\n",
      "1.0     587135\n",
      "2.0    1045819\n",
      "3.0      45886\n",
      "4.0      78540\n",
      "5.0     142082\n",
      "6.0       4442\n",
      "7.0       4009\n",
      "8.0     106833\n",
      "Name: count, dtype: int64\n",
      "4446\n"
     ]
    }
   ],
   "source": [
    "print(UseDataframe[code].value_counts().sort_index())\n",
    "print(UseDataframe[code].isna().sum())"
   ]
  },
  {
   "cell_type": "code",
   "execution_count": 379,
   "id": "bcd427d1-4188-48c2-a92c-a9c8bf999665",
   "metadata": {},
   "outputs": [],
   "source": [
    "UseDataframe[name] = UseDataframe[code]\n",
    "UseDataframe[name] = UseDataframe[name].fillna(6)"
   ]
  },
  {
   "cell_type": "code",
   "execution_count": 380,
   "id": "307d52f1-68b8-4e5d-9aae-d1935e630c2e",
   "metadata": {},
   "outputs": [
    {
     "data": {
      "text/plain": [
       "(2019192, 147)"
      ]
     },
     "execution_count": 380,
     "metadata": {},
     "output_type": "execute_result"
    }
   ],
   "source": [
    "UseDataframe.shape"
   ]
  },
  {
   "cell_type": "code",
   "execution_count": 381,
   "id": "f22b7370-a4f5-4409-8c49-96680e798578",
   "metadata": {},
   "outputs": [],
   "source": [
    "UseDataframe = UseDataframe[UseDataframe[name] != 6]\n",
    "UseDataframe = UseDataframe[UseDataframe[name] != 7]"
   ]
  },
  {
   "cell_type": "code",
   "execution_count": 382,
   "id": "faa0bcde-7525-492d-afdd-7b0d24e6e8ae",
   "metadata": {},
   "outputs": [
    {
     "data": {
      "text/plain": [
       "(2006295, 147)"
      ]
     },
     "execution_count": 382,
     "metadata": {},
     "output_type": "execute_result"
    }
   ],
   "source": [
    "UseDataframe.shape"
   ]
  },
  {
   "cell_type": "code",
   "execution_count": 383,
   "id": "56f4b7fa-7038-4399-8359-c9c8dc6a168c",
   "metadata": {},
   "outputs": [],
   "source": [
    "variable_list.append(name)"
   ]
  },
  {
   "cell_type": "code",
   "execution_count": null,
   "id": "e39c40fe-46e4-4c04-b781-f827a3577a25",
   "metadata": {},
   "outputs": [],
   "source": []
  },
  {
   "cell_type": "markdown",
   "id": "8353903b-e204-4e6a-9aeb-ebc3188b995a",
   "metadata": {},
   "source": [
    "### EMP_2010 -> Employment"
   ]
  },
  {
   "cell_type": "markdown",
   "id": "e509c5ef-a2f1-4dc0-8531-62ee111c960d",
   "metadata": {},
   "source": [
    "drop na"
   ]
  },
  {
   "cell_type": "code",
   "execution_count": 384,
   "id": "ef46363e-12ce-44a9-b100-0648fce9e25b",
   "metadata": {},
   "outputs": [],
   "source": [
    "code = 'EMP_2010'\n",
    "name = 'Employment'"
   ]
  },
  {
   "cell_type": "code",
   "execution_count": 385,
   "id": "6c604cf6-af76-4be9-83e3-1dc4d8decc6f",
   "metadata": {},
   "outputs": [
    {
     "name": "stdout",
     "output_type": "stream",
     "text": [
      "EMP_2010\n",
      "1.0    542937\n",
      "2.0    267966\n",
      "3.0    143057\n",
      "4.0    126215\n",
      "5.0    151608\n",
      "6.0    738658\n",
      "Name: count, dtype: int64\n",
      "35854\n"
     ]
    }
   ],
   "source": [
    "print(UseDataframe[code].value_counts().sort_index())\n",
    "print(UseDataframe[code].isna().sum())"
   ]
  },
  {
   "cell_type": "code",
   "execution_count": 386,
   "id": "8bc07961-6990-497d-b6e7-4179f7bb649b",
   "metadata": {},
   "outputs": [],
   "source": [
    "UseDataframe[name] = UseDataframe[code]\n",
    "UseDataframe[name] = UseDataframe[name].fillna(10)"
   ]
  },
  {
   "cell_type": "code",
   "execution_count": 387,
   "id": "1dee8286-6822-4c37-a760-d0110f0c6ffd",
   "metadata": {},
   "outputs": [
    {
     "data": {
      "text/plain": [
       "(2006295, 148)"
      ]
     },
     "execution_count": 387,
     "metadata": {},
     "output_type": "execute_result"
    }
   ],
   "source": [
    "UseDataframe.shape"
   ]
  },
  {
   "cell_type": "code",
   "execution_count": 388,
   "id": "a13f36ab-7220-409f-bc8e-d2e57311f5f9",
   "metadata": {},
   "outputs": [],
   "source": [
    "UseDataframe = UseDataframe[UseDataframe[name] != 10]"
   ]
  },
  {
   "cell_type": "code",
   "execution_count": 389,
   "id": "c517c021-4d27-4ef8-ac4b-58588cbbb841",
   "metadata": {},
   "outputs": [
    {
     "data": {
      "text/plain": [
       "(1970441, 148)"
      ]
     },
     "execution_count": 389,
     "metadata": {},
     "output_type": "execute_result"
    }
   ],
   "source": [
    "UseDataframe.shape"
   ]
  },
  {
   "cell_type": "code",
   "execution_count": 390,
   "id": "afe9016e-e6a3-4b29-a259-6bb39c2d4023",
   "metadata": {},
   "outputs": [],
   "source": [
    "variable_list.append(name)"
   ]
  },
  {
   "cell_type": "code",
   "execution_count": null,
   "id": "92dae20d-8c33-478b-b094-786aa70b052b",
   "metadata": {},
   "outputs": [],
   "source": []
  },
  {
   "cell_type": "markdown",
   "id": "c72c9d81-f07f-49b2-a7d7-d21cb8345687",
   "metadata": {},
   "source": [
    "### WP1230 -> Children_under15"
   ]
  },
  {
   "cell_type": "markdown",
   "id": "35fc143a-1950-4ce5-b7b7-17f6f89b1e4a",
   "metadata": {},
   "source": [
    "drop na"
   ]
  },
  {
   "cell_type": "code",
   "execution_count": 391,
   "id": "bfe1aac3-42a2-4ab0-aa7c-d887f4d7fafe",
   "metadata": {},
   "outputs": [],
   "source": [
    "code = 'WP1230'\n",
    "name = 'Children_under15'"
   ]
  },
  {
   "cell_type": "code",
   "execution_count": 392,
   "id": "06dbb378-ef8e-4bb2-b8e6-80e3cb922b6c",
   "metadata": {},
   "outputs": [
    {
     "name": "stdout",
     "output_type": "stream",
     "text": [
      "WP1230\n",
      "0.0     944275\n",
      "1.0     353048\n",
      "2.0     316083\n",
      "3.0     162343\n",
      "4.0      82111\n",
      "5.0      42740\n",
      "6.0      22909\n",
      "7.0      12163\n",
      "8.0       7474\n",
      "9.0       3752\n",
      "10.0      3708\n",
      "11.0      1295\n",
      "12.0      1532\n",
      "13.0       715\n",
      "14.0       496\n",
      "15.0       945\n",
      "16.0       263\n",
      "17.0       218\n",
      "18.0       143\n",
      "19.0        67\n",
      "20.0       383\n",
      "21.0        65\n",
      "22.0        59\n",
      "23.0        32\n",
      "24.0        25\n",
      "25.0        84\n",
      "26.0        16\n",
      "27.0        12\n",
      "28.0         9\n",
      "29.0         4\n",
      "30.0        52\n",
      "31.0         3\n",
      "32.0         6\n",
      "33.0         3\n",
      "34.0         3\n",
      "35.0        10\n",
      "36.0         4\n",
      "37.0         2\n",
      "38.0         3\n",
      "39.0         1\n",
      "40.0         4\n",
      "41.0         1\n",
      "42.0         1\n",
      "44.0         1\n",
      "45.0         1\n",
      "47.0         3\n",
      "50.0         2\n",
      "51.0         1\n",
      "52.0         3\n",
      "55.0         2\n",
      "59.0         1\n",
      "62.0         1\n",
      "90.0         1\n",
      "97.0        70\n",
      "98.0      2345\n",
      "99.0      3940\n",
      "Name: count, dtype: int64\n",
      "7008\n"
     ]
    }
   ],
   "source": [
    "print(UseDataframe[code].value_counts().sort_index())\n",
    "print(UseDataframe[code].isna().sum())"
   ]
  },
  {
   "cell_type": "code",
   "execution_count": 393,
   "id": "40d57c23-55d0-4d79-82aa-5762f965a576",
   "metadata": {},
   "outputs": [],
   "source": [
    "UseDataframe[name] = UseDataframe[code]\n",
    "UseDataframe[name] = UseDataframe[name].fillna(100)"
   ]
  },
  {
   "cell_type": "code",
   "execution_count": 394,
   "id": "95d3d976-d7cb-4088-8ce0-2560d5a31f49",
   "metadata": {},
   "outputs": [
    {
     "data": {
      "text/plain": [
       "(1970441, 149)"
      ]
     },
     "execution_count": 394,
     "metadata": {},
     "output_type": "execute_result"
    }
   ],
   "source": [
    "UseDataframe.shape"
   ]
  },
  {
   "cell_type": "code",
   "execution_count": 395,
   "id": "822a2304-5528-4aa0-83f4-6d79826496a7",
   "metadata": {},
   "outputs": [],
   "source": [
    "UseDataframe = UseDataframe[UseDataframe[name] < 100]"
   ]
  },
  {
   "cell_type": "code",
   "execution_count": 396,
   "id": "3e488a66-45c3-4698-95db-1d942a188d0e",
   "metadata": {},
   "outputs": [],
   "source": [
    "UseDataframe.loc[UseDataframe[name] > 0, name] = 1"
   ]
  },
  {
   "cell_type": "code",
   "execution_count": 397,
   "id": "e9d39ef1-e86e-4a42-b24f-4cba1fbe3f65",
   "metadata": {},
   "outputs": [
    {
     "data": {
      "text/plain": [
       "(1963433, 149)"
      ]
     },
     "execution_count": 397,
     "metadata": {},
     "output_type": "execute_result"
    }
   ],
   "source": [
    "UseDataframe.shape"
   ]
  },
  {
   "cell_type": "code",
   "execution_count": 398,
   "id": "cd1ff8ab-b936-463b-a981-fa4fcd5cfa02",
   "metadata": {},
   "outputs": [],
   "source": [
    "variable_list.append(name)"
   ]
  },
  {
   "cell_type": "code",
   "execution_count": null,
   "id": "0107418e-8219-4d54-a488-73ee25a332b8",
   "metadata": {},
   "outputs": [],
   "source": []
  },
  {
   "cell_type": "markdown",
   "id": "07204c3f-9593-4d58-afbd-7e8b19f2d80a",
   "metadata": {},
   "source": [
    "### WP2319 -> Feeling_income"
   ]
  },
  {
   "cell_type": "markdown",
   "id": "2a69d75d-6b8c-4986-9083-adf181550639",
   "metadata": {},
   "source": [
    "drop na"
   ]
  },
  {
   "cell_type": "code",
   "execution_count": 399,
   "id": "e0fc0b44-5e57-4eea-affc-e48c71c6120d",
   "metadata": {},
   "outputs": [],
   "source": [
    "code = 'WP2319'\n",
    "name = 'Feeling_income'"
   ]
  },
  {
   "cell_type": "code",
   "execution_count": 400,
   "id": "55d87a78-af28-4958-9aed-ca495056f675",
   "metadata": {},
   "outputs": [
    {
     "name": "stdout",
     "output_type": "stream",
     "text": [
      "WP2319\n",
      "1.0    399389\n",
      "2.0    781142\n",
      "3.0    449962\n",
      "4.0    283466\n",
      "5.0     17576\n",
      "6.0     12686\n",
      "Name: count, dtype: int64\n",
      "19212\n"
     ]
    }
   ],
   "source": [
    "print(UseDataframe[code].value_counts().sort_index())\n",
    "print(UseDataframe[code].isna().sum())"
   ]
  },
  {
   "cell_type": "code",
   "execution_count": 401,
   "id": "8aad35dd-d603-4661-8c54-cd98cf031791",
   "metadata": {},
   "outputs": [],
   "source": [
    "UseDataframe[name] = UseDataframe[code]\n",
    "UseDataframe[name] = UseDataframe[name].fillna(5)"
   ]
  },
  {
   "cell_type": "code",
   "execution_count": 402,
   "id": "94d561b4-f619-43f5-bd89-fc97a6fa78e9",
   "metadata": {},
   "outputs": [
    {
     "data": {
      "text/plain": [
       "(1963433, 150)"
      ]
     },
     "execution_count": 402,
     "metadata": {},
     "output_type": "execute_result"
    }
   ],
   "source": [
    "UseDataframe.shape"
   ]
  },
  {
   "cell_type": "code",
   "execution_count": 403,
   "id": "c3d85d98-2b31-4980-897f-cb3b7a5a88c9",
   "metadata": {},
   "outputs": [],
   "source": [
    "UseDataframe = UseDataframe[UseDataframe[name] < 5]"
   ]
  },
  {
   "cell_type": "code",
   "execution_count": 404,
   "id": "0a2b6553-20e8-477a-b548-3c1d5b6a255c",
   "metadata": {},
   "outputs": [
    {
     "data": {
      "text/plain": [
       "(1913959, 150)"
      ]
     },
     "execution_count": 404,
     "metadata": {},
     "output_type": "execute_result"
    }
   ],
   "source": [
    "UseDataframe.shape"
   ]
  },
  {
   "cell_type": "code",
   "execution_count": 405,
   "id": "a3b1c4a5-276a-4f08-bd7c-ec221d645eb8",
   "metadata": {},
   "outputs": [],
   "source": [
    "variable_list.append(name)"
   ]
  },
  {
   "cell_type": "code",
   "execution_count": null,
   "id": "1c944f5e-c46a-4cf7-9426-403519dcd210",
   "metadata": {},
   "outputs": [],
   "source": []
  },
  {
   "cell_type": "markdown",
   "id": "7b11f2e6-3f62-4f76-bfab-4297734679f4",
   "metadata": {},
   "source": [
    "### WP17625"
   ]
  },
  {
   "cell_type": "markdown",
   "id": "45829cca-4ba4-4e69-8192-be9fe842ecce",
   "metadata": {},
   "source": [
    "drop na"
   ]
  },
  {
   "cell_type": "code",
   "execution_count": 406,
   "id": "48eb69a1-2ca7-4129-b323-251fedf8a50f",
   "metadata": {},
   "outputs": [],
   "source": [
    "code = 'WP17625'\n",
    "name = 'Landline_telephone'"
   ]
  },
  {
   "cell_type": "code",
   "execution_count": 407,
   "id": "a2bf1038-cccb-4187-ba32-74b4bd5b048e",
   "metadata": {},
   "outputs": [
    {
     "name": "stdout",
     "output_type": "stream",
     "text": [
      "WP17625\n",
      "1.0    375022\n",
      "2.0    809385\n",
      "3.0      1108\n",
      "4.0       929\n",
      "Name: count, dtype: int64\n",
      "727515\n"
     ]
    }
   ],
   "source": [
    "print(UseDataframe[code].value_counts().sort_index())\n",
    "print(UseDataframe[code].isna().sum())"
   ]
  },
  {
   "cell_type": "code",
   "execution_count": 408,
   "id": "47e36440-346c-42b9-8504-72d8abac58e2",
   "metadata": {},
   "outputs": [],
   "source": [
    "code = 'WP17626'\n",
    "name = 'Mobile_telephone'"
   ]
  },
  {
   "cell_type": "code",
   "execution_count": 409,
   "id": "949d22df-5c09-43b6-8864-44c8c6663561",
   "metadata": {},
   "outputs": [
    {
     "name": "stdout",
     "output_type": "stream",
     "text": [
      "WP17626\n",
      "1.0    957018\n",
      "2.0    142449\n",
      "3.0       418\n",
      "4.0       778\n",
      "Name: count, dtype: int64\n",
      "813296\n"
     ]
    }
   ],
   "source": [
    "print(UseDataframe[code].value_counts().sort_index())\n",
    "print(UseDataframe[code].isna().sum())"
   ]
  },
  {
   "cell_type": "code",
   "execution_count": null,
   "id": "45441f58-0cb2-47f6-9926-d5d217cb73f1",
   "metadata": {},
   "outputs": [],
   "source": []
  },
  {
   "cell_type": "markdown",
   "id": "35aafcbc-140f-4991-bebd-1f9b0256b852",
   "metadata": {},
   "source": [
    "### WP16056"
   ]
  },
  {
   "cell_type": "markdown",
   "id": "2a4cad61-673f-490a-9f57-ff7ffd7654cc",
   "metadata": {},
   "source": [
    "drop na"
   ]
  },
  {
   "cell_type": "code",
   "execution_count": 410,
   "id": "fbf0d249-383a-41be-9bbc-2f2769ef14d2",
   "metadata": {},
   "outputs": [],
   "source": [
    "code = 'WP16056'\n",
    "name = 'Internet_access'"
   ]
  },
  {
   "cell_type": "code",
   "execution_count": 411,
   "id": "2c00d024-2fbc-4072-9eed-4f11c715e07f",
   "metadata": {},
   "outputs": [
    {
     "name": "stdout",
     "output_type": "stream",
     "text": [
      "WP16056\n",
      "1.0    676486\n",
      "2.0    362050\n",
      "3.0      3600\n",
      "4.0       575\n",
      "Name: count, dtype: int64\n",
      "871248\n"
     ]
    }
   ],
   "source": [
    "print(UseDataframe[code].value_counts().sort_index())\n",
    "print(UseDataframe[code].isna().sum())"
   ]
  },
  {
   "cell_type": "code",
   "execution_count": null,
   "id": "9dc328d7-0c69-4f89-9a58-5867dc3e6e3c",
   "metadata": {},
   "outputs": [],
   "source": []
  },
  {
   "cell_type": "code",
   "execution_count": null,
   "id": "dd2adc99-bbc1-4053-92c5-563b28b37234",
   "metadata": {},
   "outputs": [],
   "source": []
  },
  {
   "cell_type": "markdown",
   "id": "631d9304-20d3-4dbb-8935-1f682e2127ea",
   "metadata": {},
   "source": [
    "### WP19544"
   ]
  },
  {
   "cell_type": "markdown",
   "id": "8a346ef5-f7ef-492f-8e27-92681dee8e43",
   "metadata": {},
   "source": [
    "drop na"
   ]
  },
  {
   "cell_type": "code",
   "execution_count": 412,
   "id": "a68b6acb-cf3e-4440-a7fa-cf072b83214e",
   "metadata": {},
   "outputs": [],
   "source": [
    "code = 'WP19544'\n",
    "name = 'Mobile_internetaccess'"
   ]
  },
  {
   "cell_type": "code",
   "execution_count": 413,
   "id": "01076dc7-a625-4bde-8d30-7bc5ffaefde9",
   "metadata": {},
   "outputs": [
    {
     "name": "stdout",
     "output_type": "stream",
     "text": [
      "WP19544\n",
      "1.0    547212\n",
      "2.0    173367\n",
      "3.0      4563\n",
      "4.0       303\n",
      "Name: count, dtype: int64\n",
      "1188514\n"
     ]
    }
   ],
   "source": [
    "print(UseDataframe[code].value_counts().sort_index())\n",
    "print(UseDataframe[code].isna().sum())"
   ]
  },
  {
   "cell_type": "code",
   "execution_count": null,
   "id": "55af7db2-de46-40e9-bbc5-47e7a5b4494d",
   "metadata": {},
   "outputs": [],
   "source": []
  },
  {
   "cell_type": "markdown",
   "id": "07e17d27-2561-4b7f-8179-ec12a1b0a8fd",
   "metadata": {},
   "source": [
    "### INCOME_5"
   ]
  },
  {
   "cell_type": "markdown",
   "id": "5f9241ad-1b37-4c6c-b8f5-b4edcd5765ed",
   "metadata": {},
   "source": [
    "drop na"
   ]
  },
  {
   "cell_type": "code",
   "execution_count": 414,
   "id": "4523e0f8-e841-40eb-8aba-c85a34ec606a",
   "metadata": {},
   "outputs": [],
   "source": [
    "code = 'INCOME_5'\n",
    "name = 'Income_level'"
   ]
  },
  {
   "cell_type": "code",
   "execution_count": 415,
   "id": "927240ef-abbc-422f-a916-f37194a029ff",
   "metadata": {},
   "outputs": [
    {
     "name": "stdout",
     "output_type": "stream",
     "text": [
      "INCOME_5\n",
      "1.0    304138\n",
      "2.0    336186\n",
      "3.0    368328\n",
      "4.0    409075\n",
      "5.0    493485\n",
      "Name: count, dtype: int64\n",
      "2747\n"
     ]
    }
   ],
   "source": [
    "print(UseDataframe[code].value_counts().sort_index())\n",
    "print(UseDataframe[code].isna().sum())"
   ]
  },
  {
   "cell_type": "code",
   "execution_count": 416,
   "id": "cafc3c2e-2c6d-46a6-997d-6eef396867de",
   "metadata": {},
   "outputs": [
    {
     "data": {
      "text/plain": [
       "(1913959, 150)"
      ]
     },
     "execution_count": 416,
     "metadata": {},
     "output_type": "execute_result"
    }
   ],
   "source": [
    "UseDataframe.shape"
   ]
  },
  {
   "cell_type": "code",
   "execution_count": 417,
   "id": "f4bd8280-716f-438a-a650-1e239efba039",
   "metadata": {},
   "outputs": [],
   "source": [
    "UseDataframe = UseDataframe.dropna(subset=['INCOME_5'])"
   ]
  },
  {
   "cell_type": "code",
   "execution_count": 418,
   "id": "e9f3882c-ce3c-49e5-876d-e11e3cff028e",
   "metadata": {},
   "outputs": [
    {
     "data": {
      "text/plain": [
       "(1911212, 150)"
      ]
     },
     "execution_count": 418,
     "metadata": {},
     "output_type": "execute_result"
    }
   ],
   "source": [
    "UseDataframe.shape"
   ]
  },
  {
   "cell_type": "code",
   "execution_count": 420,
   "id": "37cd5123-16b6-4678-8b99-83c19fb506df",
   "metadata": {},
   "outputs": [],
   "source": [
    "UseDataframe[name] = UseDataframe[code]"
   ]
  },
  {
   "cell_type": "code",
   "execution_count": 419,
   "id": "496317ab-9f56-4299-941c-ba94273145b0",
   "metadata": {},
   "outputs": [],
   "source": [
    "variable_list.append(name)"
   ]
  },
  {
   "cell_type": "code",
   "execution_count": null,
   "id": "59a6d639-366b-469a-a794-cb1adfb1340a",
   "metadata": {},
   "outputs": [],
   "source": []
  },
  {
   "cell_type": "markdown",
   "id": "da75cdd7-e96b-4682-8be4-92fe55755163",
   "metadata": {},
   "source": [
    "### COUNTRY_ISO3"
   ]
  },
  {
   "cell_type": "code",
   "execution_count": 421,
   "id": "e0181a88-6f11-4e45-afaa-3537553b7470",
   "metadata": {},
   "outputs": [],
   "source": [
    "name = 'COUNTRY_ISO3'"
   ]
  },
  {
   "cell_type": "code",
   "execution_count": 422,
   "id": "79932d69-dcfd-4fd4-ab75-39aa350cee2a",
   "metadata": {},
   "outputs": [],
   "source": [
    "variable_list.append(name)"
   ]
  },
  {
   "cell_type": "code",
   "execution_count": null,
   "id": "5555988e-8760-48fe-82bc-7b11a155d3e5",
   "metadata": {},
   "outputs": [],
   "source": []
  },
  {
   "cell_type": "markdown",
   "id": "b7ecdc58-f7bb-4771-9670-ffdc272b1f66",
   "metadata": {},
   "source": [
    "### Save the Washed Dataset"
   ]
  },
  {
   "cell_type": "code",
   "execution_count": 423,
   "id": "2b33fadc-fc86-4697-9e7e-58cc0c11ac1b",
   "metadata": {},
   "outputs": [
    {
     "data": {
      "text/plain": [
       "['wave',\n",
       " 'INCOME_2',\n",
       " 'Cantril_ladder',\n",
       " 'Health_disable',\n",
       " 'Relative_have',\n",
       " 'Living_standard_change',\n",
       " 'Enough_food',\n",
       " 'Enough_shelter',\n",
       " 'Well_rested',\n",
       " 'Respected',\n",
       " 'Smile',\n",
       " 'Interesting_thing',\n",
       " 'Enjoyment',\n",
       " 'Physical_pain',\n",
       " 'Worry',\n",
       " 'Sadness',\n",
       " 'Stress',\n",
       " 'Anger',\n",
       " 'City_satisficied',\n",
       " 'Economic_change',\n",
       " 'Goodtime_job',\n",
       " 'Sat_pubtran',\n",
       " 'Sat_road',\n",
       " 'Sat_edu',\n",
       " 'Sat_qualityair',\n",
       " 'Sat_qualitywater',\n",
       " 'Sat_healthcare',\n",
       " 'Sat_affhouse',\n",
       " 'Sat_oppofriend',\n",
       " 'Good_minorities',\n",
       " 'Good_gayles',\n",
       " 'Good_immigrants',\n",
       " 'Donated',\n",
       " 'Volunteer',\n",
       " 'Help_stranger',\n",
       " 'Voice_official',\n",
       " 'Local_police',\n",
       " 'Safety_walk',\n",
       " 'Stolen',\n",
       " 'Assualted',\n",
       " 'Religion_importance',\n",
       " 'Children_respected',\n",
       " 'Children_learn',\n",
       " 'Women_respected',\n",
       " 'Sat_dealpoor',\n",
       " 'Sat_perserveenv',\n",
       " 'Freedom_chooselife',\n",
       " 'Conf_military',\n",
       " 'Conf_judicial',\n",
       " 'Conf_government',\n",
       " 'Conf_financial',\n",
       " 'Conf_honestyelections',\n",
       " 'Freedom_media',\n",
       " 'Corruption_business',\n",
       " 'Corruption_government',\n",
       " 'Performance_leadership',\n",
       " 'Gender_female',\n",
       " 'Age',\n",
       " 'Marital_status',\n",
       " 'Employment',\n",
       " 'Children_under15',\n",
       " 'Feeling_income',\n",
       " 'Income_level',\n",
       " 'COUNTRY_ISO3']"
      ]
     },
     "execution_count": 423,
     "metadata": {},
     "output_type": "execute_result"
    }
   ],
   "source": [
    "variable_list"
   ]
  },
  {
   "cell_type": "code",
   "execution_count": 424,
   "id": "d72f61c0-7e67-460a-8350-bd7539c99044",
   "metadata": {},
   "outputs": [
    {
     "data": {
      "text/plain": [
       "64"
      ]
     },
     "execution_count": 424,
     "metadata": {},
     "output_type": "execute_result"
    }
   ],
   "source": [
    "len(variable_list)"
   ]
  },
  {
   "cell_type": "code",
   "execution_count": 425,
   "id": "28c94907-50eb-402c-83d9-5992e52de58d",
   "metadata": {},
   "outputs": [],
   "source": [
    "MlWahsedDataset = UseDataframe[variable_list]"
   ]
  },
  {
   "cell_type": "code",
   "execution_count": 426,
   "id": "fd36616b-ebd1-4926-9107-1d19ef8646f8",
   "metadata": {},
   "outputs": [
    {
     "data": {
      "text/plain": [
       "(1911212, 64)"
      ]
     },
     "execution_count": 426,
     "metadata": {},
     "output_type": "execute_result"
    }
   ],
   "source": [
    "MlWahsedDataset.shape"
   ]
  },
  {
   "cell_type": "code",
   "execution_count": 427,
   "id": "36d75d22-96dd-4201-8d92-bd77a25f98ef",
   "metadata": {},
   "outputs": [
    {
     "data": {
      "text/plain": [
       "False"
      ]
     },
     "execution_count": 427,
     "metadata": {},
     "output_type": "execute_result"
    }
   ],
   "source": [
    "MlWahsedDataset.isna().any().any()"
   ]
  },
  {
   "cell_type": "code",
   "execution_count": 428,
   "id": "3a5ffc8c-95d8-4f77-8cac-21d93c063d44",
   "metadata": {},
   "outputs": [
    {
     "data": {
      "text/plain": [
       "wave\n",
       "4      90761\n",
       "5     114922\n",
       "6     164003\n",
       "7     171355\n",
       "8     128518\n",
       "9     139051\n",
       "10    136842\n",
       "11    139669\n",
       "12    146317\n",
       "13    143038\n",
       "14    164360\n",
       "15    121398\n",
       "16    116399\n",
       "17    134579\n",
       "Name: count, dtype: int64"
      ]
     },
     "execution_count": 428,
     "metadata": {},
     "output_type": "execute_result"
    }
   ],
   "source": [
    "MlWahsedDataset['wave'].value_counts().sort_index()"
   ]
  },
  {
   "cell_type": "code",
   "execution_count": 429,
   "id": "2b6205dd-30bd-479c-90d9-fa787c941403",
   "metadata": {},
   "outputs": [
    {
     "data": {
      "text/plain": [
       "COUNTRY_ISO3\n",
       "AFG    13645\n",
       "AGO     1811\n",
       "ALB    12803\n",
       "ARE    18363\n",
       "ARG    13714\n",
       "       ...  \n",
       "XSR     4976\n",
       "YEM    11935\n",
       "ZAF    13723\n",
       "ZMB    12449\n",
       "ZWE     8857\n",
       "Name: count, Length: 164, dtype: int64"
      ]
     },
     "execution_count": 429,
     "metadata": {},
     "output_type": "execute_result"
    }
   ],
   "source": [
    "MlWahsedDataset['COUNTRY_ISO3'].value_counts().sort_index()"
   ]
  },
  {
   "cell_type": "code",
   "execution_count": 430,
   "id": "c0be3d84-8e4e-49f9-b750-c5942e2ea748",
   "metadata": {},
   "outputs": [],
   "source": [
    "MlWahsedDataset.to_parquet(os.path.join('Data', 'GallupWB_Ml64var1911k14wave_v1.parquet'))"
   ]
  },
  {
   "cell_type": "code",
   "execution_count": null,
   "id": "1c9899c3-c0a5-435f-b4d6-3bc96f6e027c",
   "metadata": {},
   "outputs": [],
   "source": []
  }
 ],
 "metadata": {
  "kernelspec": {
   "display_name": "Python 3 (ipykernel)",
   "language": "python",
   "name": "python3"
  },
  "language_info": {
   "codemirror_mode": {
    "name": "ipython",
    "version": 3
   },
   "file_extension": ".py",
   "mimetype": "text/x-python",
   "name": "python",
   "nbconvert_exporter": "python",
   "pygments_lexer": "ipython3",
   "version": "3.9.19"
  }
 },
 "nbformat": 4,
 "nbformat_minor": 5
}
