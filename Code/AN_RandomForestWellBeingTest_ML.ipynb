{
 "cells": [
  {
   "cell_type": "markdown",
   "id": "93762d12-6fdd-4e46-bb6c-9714b6f55ed4",
   "metadata": {},
   "source": [
    "# Random Forest Test with Well-being"
   ]
  },
  {
   "cell_type": "code",
   "execution_count": 2,
   "id": "37e38839-0184-49f6-b042-519212e34230",
   "metadata": {},
   "outputs": [
    {
     "data": {
      "text/plain": [
       "'/mnt/f/ESG09_Project/Code'"
      ]
     },
     "execution_count": 2,
     "metadata": {},
     "output_type": "execute_result"
    }
   ],
   "source": [
    "%pwd"
   ]
  },
  {
   "cell_type": "code",
   "execution_count": 3,
   "id": "aeb33755-8671-40da-9443-2e9715273b63",
   "metadata": {},
   "outputs": [
    {
     "name": "stdout",
     "output_type": "stream",
     "text": [
      "/mnt/f/ESG09_Project\n"
     ]
    },
    {
     "name": "stderr",
     "output_type": "stream",
     "text": [
      "/home/zhang/miniconda3/envs/tf/lib/python3.9/site-packages/IPython/core/magics/osm.py:417: UserWarning: using dhist requires you to install the `pickleshare` library.\n",
      "  self.shell.db['dhist'] = compress_dhist(dhist)[-100:]\n"
     ]
    }
   ],
   "source": [
    "%cd .."
   ]
  },
  {
   "cell_type": "code",
   "execution_count": null,
   "id": "b2565ea8-31ec-449d-8ad9-5568e7d40cfd",
   "metadata": {},
   "outputs": [],
   "source": []
  },
  {
   "cell_type": "markdown",
   "id": "2f14be87-268b-4229-983d-8cb41dfc2296",
   "metadata": {},
   "source": [
    "## Import Package"
   ]
  },
  {
   "cell_type": "code",
   "execution_count": 4,
   "id": "af6ef393-fd32-42b6-aefe-7e0686a40901",
   "metadata": {},
   "outputs": [],
   "source": [
    "import matplotlib.pyplot as plt\n",
    "import os \n",
    "import pandas as pd\n",
    "import seaborn as sns\n",
    "from sklearn.ensemble import RandomForestRegressor\n",
    "from sklearn.linear_model import LinearRegression\n",
    "from sklearn.metrics import mean_squared_error, r2_score\n",
    "from sklearn.model_selection import train_test_split\n",
    "import xgboost as xgb"
   ]
  },
  {
   "cell_type": "code",
   "execution_count": 5,
   "id": "29220152-fecb-4076-9a50-8a6eae76bda5",
   "metadata": {},
   "outputs": [
    {
     "name": "stdout",
     "output_type": "stream",
     "text": [
      "Requirement already satisfied: seaborn in /home/zhang/miniconda3/envs/tf/lib/python3.9/site-packages (0.13.2)\n",
      "Requirement already satisfied: numpy!=1.24.0,>=1.20 in /home/zhang/miniconda3/envs/tf/lib/python3.9/site-packages (from seaborn) (1.24.3)\n",
      "Requirement already satisfied: pandas>=1.2 in /home/zhang/miniconda3/envs/tf/lib/python3.9/site-packages (from seaborn) (2.2.2)\n",
      "Requirement already satisfied: matplotlib!=3.6.1,>=3.4 in /home/zhang/miniconda3/envs/tf/lib/python3.9/site-packages (from seaborn) (3.9.0)\n",
      "Requirement already satisfied: contourpy>=1.0.1 in /home/zhang/miniconda3/envs/tf/lib/python3.9/site-packages (from matplotlib!=3.6.1,>=3.4->seaborn) (1.2.1)\n",
      "Requirement already satisfied: cycler>=0.10 in /home/zhang/miniconda3/envs/tf/lib/python3.9/site-packages (from matplotlib!=3.6.1,>=3.4->seaborn) (0.12.1)\n",
      "Requirement already satisfied: fonttools>=4.22.0 in /home/zhang/miniconda3/envs/tf/lib/python3.9/site-packages (from matplotlib!=3.6.1,>=3.4->seaborn) (4.53.0)\n",
      "Requirement already satisfied: kiwisolver>=1.3.1 in /home/zhang/miniconda3/envs/tf/lib/python3.9/site-packages (from matplotlib!=3.6.1,>=3.4->seaborn) (1.4.5)\n",
      "Requirement already satisfied: packaging>=20.0 in /home/zhang/miniconda3/envs/tf/lib/python3.9/site-packages (from matplotlib!=3.6.1,>=3.4->seaborn) (24.1)\n",
      "Requirement already satisfied: pillow>=8 in /home/zhang/miniconda3/envs/tf/lib/python3.9/site-packages (from matplotlib!=3.6.1,>=3.4->seaborn) (10.3.0)\n",
      "Requirement already satisfied: pyparsing>=2.3.1 in /home/zhang/miniconda3/envs/tf/lib/python3.9/site-packages (from matplotlib!=3.6.1,>=3.4->seaborn) (3.1.2)\n",
      "Requirement already satisfied: python-dateutil>=2.7 in /home/zhang/miniconda3/envs/tf/lib/python3.9/site-packages (from matplotlib!=3.6.1,>=3.4->seaborn) (2.9.0.post0)\n",
      "Requirement already satisfied: importlib-resources>=3.2.0 in /home/zhang/miniconda3/envs/tf/lib/python3.9/site-packages (from matplotlib!=3.6.1,>=3.4->seaborn) (6.4.0)\n",
      "Requirement already satisfied: pytz>=2020.1 in /home/zhang/miniconda3/envs/tf/lib/python3.9/site-packages (from pandas>=1.2->seaborn) (2024.1)\n",
      "Requirement already satisfied: tzdata>=2022.7 in /home/zhang/miniconda3/envs/tf/lib/python3.9/site-packages (from pandas>=1.2->seaborn) (2024.1)\n",
      "Requirement already satisfied: zipp>=3.1.0 in /home/zhang/miniconda3/envs/tf/lib/python3.9/site-packages (from importlib-resources>=3.2.0->matplotlib!=3.6.1,>=3.4->seaborn) (3.19.2)\n",
      "Requirement already satisfied: six>=1.5 in /home/zhang/miniconda3/envs/tf/lib/python3.9/site-packages (from python-dateutil>=2.7->matplotlib!=3.6.1,>=3.4->seaborn) (1.16.0)\n"
     ]
    }
   ],
   "source": [
    "!pip install seaborn"
   ]
  },
  {
   "cell_type": "markdown",
   "id": "fef3be6e-2111-47a5-a066-03c0c95a4828",
   "metadata": {},
   "source": [
    "## Basic with the most variable"
   ]
  },
  {
   "cell_type": "markdown",
   "id": "8462fedb-e14c-4ef1-95b6-9015ee348a3b",
   "metadata": {},
   "source": [
    "### Load and Make Data"
   ]
  },
  {
   "cell_type": "code",
   "execution_count": 6,
   "id": "e67e5927-a979-4ea9-9a28-b006513f0d5a",
   "metadata": {},
   "outputs": [],
   "source": [
    "RawDataset_Filename = os.path.join(\"Data\", \"GallupWB_WashedRawData17Wave_v1.parquet\")"
   ]
  },
  {
   "cell_type": "code",
   "execution_count": 7,
   "id": "ff0a8152-0461-48e8-bca7-e175cf43e528",
   "metadata": {},
   "outputs": [],
   "source": [
    "RawDataset = pd.read_parquet(RawDataset_Filename)"
   ]
  },
  {
   "cell_type": "code",
   "execution_count": 8,
   "id": "12645d0a-27f8-4d6e-8652-811bfac1ba71",
   "metadata": {},
   "outputs": [
    {
     "data": {
      "text/plain": [
       "(2594089, 90)"
      ]
     },
     "execution_count": 8,
     "metadata": {},
     "output_type": "execute_result"
    }
   ],
   "source": [
    "RawDataset.shape"
   ]
  },
  {
   "cell_type": "code",
   "execution_count": 9,
   "id": "dcacbf50-15d6-4126-bd1e-d0091f0aae3f",
   "metadata": {},
   "outputs": [
    {
     "name": "stdout",
     "output_type": "stream",
     "text": [
      "('wave', 0)\n",
      "('COUNTRY_ISO3', 0)\n",
      "('INCOME_1', 420409)\n",
      "('INCOME_2', 423416)\n",
      "('INCOME_3', 420411)\n",
      "('INCOME_4', 423418)\n",
      "('INCOME_5', 419801)\n",
      "('INCOME_6', 2594089)\n",
      "('INCOME_7', 419841)\n",
      "('WP16', 14604)\n",
      "('WP18', 14603)\n",
      "('WP23', 123903)\n",
      "('WP27', 151900)\n",
      "('WP30', 129145)\n",
      "('WP31', 142727)\n",
      "('WP40', 52441)\n",
      "('WP43', 49598)\n",
      "('WP60', 86371)\n",
      "('WP61', 67376)\n",
      "('WP63', 104399)\n",
      "('WP65', 69390)\n",
      "('WP67', 74033)\n",
      "('WP68', 85721)\n",
      "('WP69', 82693)\n",
      "('WP70', 83895)\n",
      "('WP71', 184749)\n",
      "('WP74', 100720)\n",
      "('WP83', 185474)\n",
      "('WP85', 310161)\n",
      "('WP86', 240808)\n",
      "('WP19472', 1719188)\n",
      "('WP88', 262622)\n",
      "('WP89', 171021)\n",
      "('WP91', 198859)\n",
      "('WP92', 200973)\n",
      "('WP93', 145248)\n",
      "('WP94', 202990)\n",
      "('WP95', 201667)\n",
      "('WP96', 2594089)\n",
      "('WP97', 238617)\n",
      "('WP98', 231858)\n",
      "('WP10248', 710990)\n",
      "('WP103', 452880)\n",
      "('WP105', 545368)\n",
      "('WP106', 262574)\n",
      "('WP108', 189759)\n",
      "('WP109', 187253)\n",
      "('WP110', 193819)\n",
      "('WP111', 675056)\n",
      "('WP112', 419460)\n",
      "('WP113', 206175)\n",
      "('WP117', 268482)\n",
      "('WP118', 786324)\n",
      "('WP119', 291689)\n",
      "('WP129', 177618)\n",
      "('WP130', 156114)\n",
      "('WP9050', 731999)\n",
      "('WP131', 408916)\n",
      "('WP132', 218748)\n",
      "('WP134', 162829)\n",
      "('WP137', 503224)\n",
      "('WP138', 392723)\n",
      "('WP139', 426999)\n",
      "('WP141', 240493)\n",
      "('WP144', 461870)\n",
      "('WP10251', 790018)\n",
      "('WP145', 294340)\n",
      "('WP146', 401409)\n",
      "('WP150', 518606)\n",
      "('WP151', 347999)\n",
      "('WP153', 420278)\n",
      "('WP155', 452531)\n",
      "('WP156', 400767)\n",
      "('WP13125', 1158474)\n",
      "('WP1219', 22)\n",
      "('WP1220', 3306)\n",
      "('WP1223', 26119)\n",
      "('EMP_2010', 433208)\n",
      "('WP1230', 80157)\n",
      "('WP1233', 303845)\n",
      "('WP2319', 146446)\n",
      "('WP4657', 230088)\n",
      "('WP9042', 2467008)\n",
      "('WP9048', 2469606)\n",
      "('WP17625', 1287824)\n",
      "('WP17626', 1412789)\n",
      "('WP16056', 1478999)\n",
      "('WP15862', 1880708)\n",
      "('WP19544', 1824015)\n",
      "('WP3117', 77184)\n"
     ]
    }
   ],
   "source": [
    "nan_counts = RawDataset.isna().sum()\n",
    "for line in zip(RawDataset.columns, nan_counts):\n",
    "    print(line)"
   ]
  },
  {
   "cell_type": "code",
   "execution_count": 10,
   "id": "13b89022-d282-4960-957e-859b8407d469",
   "metadata": {},
   "outputs": [
    {
     "name": "stdout",
     "output_type": "stream",
     "text": [
      "('wave', 0)\n",
      "('COUNTRY_ISO3', 0)\n",
      "('INCOME_1', 420409)\n",
      "('INCOME_2', 423416)\n",
      "('INCOME_3', 420411)\n",
      "('INCOME_4', 423418)\n",
      "('INCOME_5', 419801)\n",
      "('INCOME_7', 419841)\n",
      "('WP16', 14604)\n",
      "('WP18', 14603)\n",
      "('WP23', 123903)\n",
      "('WP27', 151900)\n",
      "('WP30', 129145)\n",
      "('WP31', 142727)\n",
      "('WP40', 52441)\n",
      "('WP43', 49598)\n",
      "('WP60', 86371)\n",
      "('WP61', 67376)\n",
      "('WP63', 104399)\n",
      "('WP65', 69390)\n",
      "('WP67', 74033)\n",
      "('WP68', 85721)\n",
      "('WP69', 82693)\n",
      "('WP70', 83895)\n",
      "('WP71', 184749)\n",
      "('WP74', 100720)\n",
      "('WP83', 185474)\n",
      "('WP85', 310161)\n",
      "('WP86', 240808)\n",
      "('WP88', 262622)\n",
      "('WP89', 171021)\n",
      "('WP91', 198859)\n",
      "('WP92', 200973)\n",
      "('WP93', 145248)\n",
      "('WP94', 202990)\n",
      "('WP95', 201667)\n",
      "('WP97', 238617)\n",
      "('WP98', 231858)\n",
      "('WP103', 452880)\n",
      "('WP106', 262574)\n",
      "('WP108', 189759)\n",
      "('WP109', 187253)\n",
      "('WP110', 193819)\n",
      "('WP112', 419460)\n",
      "('WP113', 206175)\n",
      "('WP117', 268482)\n",
      "('WP119', 291689)\n",
      "('WP129', 177618)\n",
      "('WP130', 156114)\n",
      "('WP131', 408916)\n",
      "('WP132', 218748)\n",
      "('WP134', 162829)\n",
      "('WP138', 392723)\n",
      "('WP139', 426999)\n",
      "('WP141', 240493)\n",
      "('WP144', 461870)\n",
      "('WP145', 294340)\n",
      "('WP146', 401409)\n",
      "('WP151', 347999)\n",
      "('WP153', 420278)\n",
      "('WP155', 452531)\n",
      "('WP156', 400767)\n",
      "('WP1219', 22)\n",
      "('WP1220', 3306)\n",
      "('WP1223', 26119)\n",
      "('EMP_2010', 433208)\n",
      "('WP1230', 80157)\n",
      "('WP1233', 303845)\n",
      "('WP2319', 146446)\n",
      "('WP4657', 230088)\n",
      "('WP3117', 77184)\n"
     ]
    }
   ],
   "source": [
    "nan_counts = RawDataset.isna().sum()\n",
    "name_list = []\n",
    "for line in zip(RawDataset.columns, nan_counts):\n",
    "    if line[1] < 500_000:\n",
    "        name_list.append(line[0])\n",
    "        print(line)"
   ]
  },
  {
   "cell_type": "code",
   "execution_count": 11,
   "id": "38c25b6c-32b7-42d9-8666-437f86637617",
   "metadata": {},
   "outputs": [
    {
     "name": "stdout",
     "output_type": "stream",
     "text": [
      "('wave', 0)\n",
      "('COUNTRY_ISO3', 0)\n",
      "('WP16', 14604)\n",
      "('WP18', 14603)\n",
      "('WP23', 123903)\n",
      "('WP27', 151900)\n",
      "('WP30', 129145)\n",
      "('WP31', 142727)\n",
      "('WP40', 52441)\n",
      "('WP43', 49598)\n",
      "('WP60', 86371)\n",
      "('WP61', 67376)\n",
      "('WP63', 104399)\n",
      "('WP65', 69390)\n",
      "('WP67', 74033)\n",
      "('WP68', 85721)\n",
      "('WP69', 82693)\n",
      "('WP70', 83895)\n",
      "('WP71', 184749)\n",
      "('WP74', 100720)\n",
      "('WP83', 185474)\n",
      "('WP89', 171021)\n",
      "('WP91', 198859)\n",
      "('WP93', 145248)\n",
      "('WP108', 189759)\n",
      "('WP109', 187253)\n",
      "('WP110', 193819)\n",
      "('WP129', 177618)\n",
      "('WP130', 156114)\n",
      "('WP134', 162829)\n",
      "('WP1219', 22)\n",
      "('WP1220', 3306)\n",
      "('WP1223', 26119)\n",
      "('WP1230', 80157)\n",
      "('WP2319', 146446)\n",
      "('WP3117', 77184)\n"
     ]
    }
   ],
   "source": [
    "name_list = []\n",
    "for line in zip(RawDataset.columns, nan_counts):\n",
    "    if line[1] < 200_000:\n",
    "        name_list.append(line[0])\n",
    "        print(line)"
   ]
  },
  {
   "cell_type": "code",
   "execution_count": 12,
   "id": "6f81bf1b-ccf2-4cc4-b950-9012d87f848c",
   "metadata": {},
   "outputs": [],
   "source": [
    "name_list = name_list + ['INCOME_2']"
   ]
  },
  {
   "cell_type": "code",
   "execution_count": 13,
   "id": "b4d8610c-8317-4190-ad6c-b7e91e32bb71",
   "metadata": {},
   "outputs": [],
   "source": [
    "FineWashedDf = RawDataset[name_list]"
   ]
  },
  {
   "cell_type": "code",
   "execution_count": 14,
   "id": "499f8bde-da8f-4c56-b835-6f72d84db574",
   "metadata": {},
   "outputs": [
    {
     "data": {
      "text/plain": [
       "(2594089, 37)"
      ]
     },
     "execution_count": 14,
     "metadata": {},
     "output_type": "execute_result"
    }
   ],
   "source": [
    "FineWashedDf.shape"
   ]
  },
  {
   "cell_type": "code",
   "execution_count": 15,
   "id": "26620cd8-7ef8-4727-a151-a462d7d148ef",
   "metadata": {},
   "outputs": [
    {
     "name": "stderr",
     "output_type": "stream",
     "text": [
      "/tmp/ipykernel_22333/2069073635.py:1: SettingWithCopyWarning: \n",
      "A value is trying to be set on a copy of a slice from a DataFrame\n",
      "\n",
      "See the caveats in the documentation: https://pandas.pydata.org/pandas-docs/stable/user_guide/indexing.html#returning-a-view-versus-a-copy\n",
      "  FineWashedDf.dropna(inplace=True)\n"
     ]
    }
   ],
   "source": [
    "FineWashedDf.dropna(inplace=True)"
   ]
  },
  {
   "cell_type": "code",
   "execution_count": 16,
   "id": "aec767a6-cf87-495a-9a1b-56ec81959685",
   "metadata": {},
   "outputs": [
    {
     "data": {
      "text/plain": [
       "(1786480, 37)"
      ]
     },
     "execution_count": 16,
     "metadata": {},
     "output_type": "execute_result"
    }
   ],
   "source": [
    "FineWashedDf.shape"
   ]
  },
  {
   "cell_type": "code",
   "execution_count": null,
   "id": "92cfc34e-ecea-4411-a44d-ad5add493be2",
   "metadata": {},
   "outputs": [],
   "source": []
  },
  {
   "cell_type": "markdown",
   "id": "ea29b7ec-07e6-448b-85e7-ed06eb1d679a",
   "metadata": {},
   "source": [
    "### Train and Test df"
   ]
  },
  {
   "cell_type": "code",
   "execution_count": 17,
   "id": "971cb4ff-093c-49f7-b9a6-22fee11dd2aa",
   "metadata": {},
   "outputs": [],
   "source": [
    "FineWashedDf = FineWashedDf.sample(frac=1, random_state=42).reset_index(drop=True)"
   ]
  },
  {
   "cell_type": "code",
   "execution_count": 18,
   "id": "707a5557-8147-4344-9899-ef6b02436d38",
   "metadata": {},
   "outputs": [],
   "source": [
    "FineWashedDf['COUNTRY_ISO3'] = FineWashedDf['COUNTRY_ISO3'].astype('category')"
   ]
  },
  {
   "cell_type": "code",
   "execution_count": 19,
   "id": "b80a1068-5869-4bb5-90d5-22dfdeb92b4a",
   "metadata": {},
   "outputs": [
    {
     "data": {
      "text/html": [
       "<div>\n",
       "<style scoped>\n",
       "    .dataframe tbody tr th:only-of-type {\n",
       "        vertical-align: middle;\n",
       "    }\n",
       "\n",
       "    .dataframe tbody tr th {\n",
       "        vertical-align: top;\n",
       "    }\n",
       "\n",
       "    .dataframe thead th {\n",
       "        text-align: right;\n",
       "    }\n",
       "</style>\n",
       "<table border=\"1\" class=\"dataframe\">\n",
       "  <thead>\n",
       "    <tr style=\"text-align: right;\">\n",
       "      <th></th>\n",
       "      <th>wave</th>\n",
       "      <th>COUNTRY_ISO3</th>\n",
       "      <th>WP16</th>\n",
       "      <th>WP18</th>\n",
       "      <th>WP23</th>\n",
       "      <th>WP27</th>\n",
       "      <th>WP30</th>\n",
       "      <th>WP31</th>\n",
       "      <th>WP40</th>\n",
       "      <th>WP43</th>\n",
       "      <th>...</th>\n",
       "      <th>WP129</th>\n",
       "      <th>WP130</th>\n",
       "      <th>WP134</th>\n",
       "      <th>WP1219</th>\n",
       "      <th>WP1220</th>\n",
       "      <th>WP1223</th>\n",
       "      <th>WP1230</th>\n",
       "      <th>WP2319</th>\n",
       "      <th>WP3117</th>\n",
       "      <th>INCOME_2</th>\n",
       "    </tr>\n",
       "  </thead>\n",
       "  <tbody>\n",
       "    <tr>\n",
       "      <th>0</th>\n",
       "      <td>4.0</td>\n",
       "      <td>SLV</td>\n",
       "      <td>6.0</td>\n",
       "      <td>7.0</td>\n",
       "      <td>2.0</td>\n",
       "      <td>1.0</td>\n",
       "      <td>1.0</td>\n",
       "      <td>1.0</td>\n",
       "      <td>2.0</td>\n",
       "      <td>1.0</td>\n",
       "      <td>...</td>\n",
       "      <td>1.0</td>\n",
       "      <td>1.0</td>\n",
       "      <td>1.0</td>\n",
       "      <td>1.0</td>\n",
       "      <td>28.0</td>\n",
       "      <td>8.0</td>\n",
       "      <td>1.0</td>\n",
       "      <td>4.0</td>\n",
       "      <td>1.0</td>\n",
       "      <td>2060.323089</td>\n",
       "    </tr>\n",
       "    <tr>\n",
       "      <th>1</th>\n",
       "      <td>15.1</td>\n",
       "      <td>THA</td>\n",
       "      <td>0.0</td>\n",
       "      <td>0.0</td>\n",
       "      <td>2.0</td>\n",
       "      <td>1.0</td>\n",
       "      <td>2.0</td>\n",
       "      <td>3.0</td>\n",
       "      <td>1.0</td>\n",
       "      <td>2.0</td>\n",
       "      <td>...</td>\n",
       "      <td>1.0</td>\n",
       "      <td>1.0</td>\n",
       "      <td>1.0</td>\n",
       "      <td>1.0</td>\n",
       "      <td>45.0</td>\n",
       "      <td>8.0</td>\n",
       "      <td>0.0</td>\n",
       "      <td>4.0</td>\n",
       "      <td>1.0</td>\n",
       "      <td>4506.659275</td>\n",
       "    </tr>\n",
       "    <tr>\n",
       "      <th>2</th>\n",
       "      <td>8.1</td>\n",
       "      <td>PSE</td>\n",
       "      <td>5.0</td>\n",
       "      <td>6.0</td>\n",
       "      <td>2.0</td>\n",
       "      <td>1.0</td>\n",
       "      <td>1.0</td>\n",
       "      <td>2.0</td>\n",
       "      <td>2.0</td>\n",
       "      <td>2.0</td>\n",
       "      <td>...</td>\n",
       "      <td>2.0</td>\n",
       "      <td>2.0</td>\n",
       "      <td>2.0</td>\n",
       "      <td>1.0</td>\n",
       "      <td>35.0</td>\n",
       "      <td>2.0</td>\n",
       "      <td>4.0</td>\n",
       "      <td>2.0</td>\n",
       "      <td>2.0</td>\n",
       "      <td>14539.335197</td>\n",
       "    </tr>\n",
       "    <tr>\n",
       "      <th>3</th>\n",
       "      <td>11.1</td>\n",
       "      <td>MKD</td>\n",
       "      <td>5.0</td>\n",
       "      <td>8.0</td>\n",
       "      <td>2.0</td>\n",
       "      <td>1.0</td>\n",
       "      <td>2.0</td>\n",
       "      <td>4.0</td>\n",
       "      <td>2.0</td>\n",
       "      <td>2.0</td>\n",
       "      <td>...</td>\n",
       "      <td>1.0</td>\n",
       "      <td>1.0</td>\n",
       "      <td>1.0</td>\n",
       "      <td>1.0</td>\n",
       "      <td>32.0</td>\n",
       "      <td>2.0</td>\n",
       "      <td>1.0</td>\n",
       "      <td>2.0</td>\n",
       "      <td>3.0</td>\n",
       "      <td>19596.924107</td>\n",
       "    </tr>\n",
       "    <tr>\n",
       "      <th>4</th>\n",
       "      <td>10.1</td>\n",
       "      <td>CZE</td>\n",
       "      <td>9.0</td>\n",
       "      <td>9.0</td>\n",
       "      <td>2.0</td>\n",
       "      <td>1.0</td>\n",
       "      <td>1.0</td>\n",
       "      <td>1.0</td>\n",
       "      <td>2.0</td>\n",
       "      <td>1.0</td>\n",
       "      <td>...</td>\n",
       "      <td>1.0</td>\n",
       "      <td>1.0</td>\n",
       "      <td>1.0</td>\n",
       "      <td>2.0</td>\n",
       "      <td>46.0</td>\n",
       "      <td>2.0</td>\n",
       "      <td>0.0</td>\n",
       "      <td>1.0</td>\n",
       "      <td>2.0</td>\n",
       "      <td>42387.733484</td>\n",
       "    </tr>\n",
       "  </tbody>\n",
       "</table>\n",
       "<p>5 rows × 37 columns</p>\n",
       "</div>"
      ],
      "text/plain": [
       "   wave COUNTRY_ISO3  WP16  WP18  WP23  WP27  WP30  WP31  WP40  WP43  ...  \\\n",
       "0   4.0          SLV   6.0   7.0   2.0   1.0   1.0   1.0   2.0   1.0  ...   \n",
       "1  15.1          THA   0.0   0.0   2.0   1.0   2.0   3.0   1.0   2.0  ...   \n",
       "2   8.1          PSE   5.0   6.0   2.0   1.0   1.0   2.0   2.0   2.0  ...   \n",
       "3  11.1          MKD   5.0   8.0   2.0   1.0   2.0   4.0   2.0   2.0  ...   \n",
       "4  10.1          CZE   9.0   9.0   2.0   1.0   1.0   1.0   2.0   1.0  ...   \n",
       "\n",
       "   WP129  WP130  WP134  WP1219  WP1220  WP1223  WP1230  WP2319  WP3117  \\\n",
       "0    1.0    1.0    1.0     1.0    28.0     8.0     1.0     4.0     1.0   \n",
       "1    1.0    1.0    1.0     1.0    45.0     8.0     0.0     4.0     1.0   \n",
       "2    2.0    2.0    2.0     1.0    35.0     2.0     4.0     2.0     2.0   \n",
       "3    1.0    1.0    1.0     1.0    32.0     2.0     1.0     2.0     3.0   \n",
       "4    1.0    1.0    1.0     2.0    46.0     2.0     0.0     1.0     2.0   \n",
       "\n",
       "       INCOME_2  \n",
       "0   2060.323089  \n",
       "1   4506.659275  \n",
       "2  14539.335197  \n",
       "3  19596.924107  \n",
       "4  42387.733484  \n",
       "\n",
       "[5 rows x 37 columns]"
      ]
     },
     "execution_count": 19,
     "metadata": {},
     "output_type": "execute_result"
    }
   ],
   "source": [
    "FineWashedDf.head()"
   ]
  },
  {
   "cell_type": "code",
   "execution_count": 20,
   "id": "c014908a-675c-4740-89b3-2611fc64737e",
   "metadata": {},
   "outputs": [],
   "source": [
    "y = FineWashedDf['WP16']"
   ]
  },
  {
   "cell_type": "code",
   "execution_count": 21,
   "id": "9600980b-fd8d-454c-97bb-9fce6759a197",
   "metadata": {},
   "outputs": [],
   "source": [
    "X = FineWashedDf.drop(columns=['WP16', 'WP18'])"
   ]
  },
  {
   "cell_type": "code",
   "execution_count": 22,
   "id": "2da88104-2b04-4b5a-ac40-222511f8c950",
   "metadata": {},
   "outputs": [
    {
     "data": {
      "text/plain": [
       "(1786480, 35)"
      ]
     },
     "execution_count": 22,
     "metadata": {},
     "output_type": "execute_result"
    }
   ],
   "source": [
    "X.shape"
   ]
  },
  {
   "cell_type": "code",
   "execution_count": 23,
   "id": "64a4f177-2b82-4df8-a7c7-8c512a9c3bf8",
   "metadata": {},
   "outputs": [],
   "source": [
    "X_train, X_test, y_train, y_test = train_test_split(X, y, test_size=0.1, random_state=42)"
   ]
  },
  {
   "cell_type": "code",
   "execution_count": null,
   "id": "15a5a828-06c0-448b-b6ed-81c3c0a6e55f",
   "metadata": {},
   "outputs": [],
   "source": []
  },
  {
   "cell_type": "markdown",
   "id": "e19ab74c-8e0a-41cf-9088-f4fd3080c022",
   "metadata": {},
   "source": [
    "### Clear Memory"
   ]
  },
  {
   "cell_type": "code",
   "execution_count": 24,
   "id": "f3a7d326-ff8f-48aa-a9d5-93658cd67c82",
   "metadata": {},
   "outputs": [],
   "source": [
    "RawDataset = None"
   ]
  },
  {
   "cell_type": "code",
   "execution_count": 25,
   "id": "84a6fc9c-d70c-4a85-93cb-154d564b1f4f",
   "metadata": {},
   "outputs": [],
   "source": [
    "FineWashedDf = None"
   ]
  },
  {
   "cell_type": "code",
   "execution_count": 26,
   "id": "73c28203-5ced-4716-92aa-7286ffd66642",
   "metadata": {},
   "outputs": [],
   "source": [
    "X = None"
   ]
  },
  {
   "cell_type": "code",
   "execution_count": 27,
   "id": "3f075ecb-ea18-42ac-a46a-d4a84cba8bb5",
   "metadata": {},
   "outputs": [],
   "source": [
    "y = None"
   ]
  },
  {
   "cell_type": "code",
   "execution_count": null,
   "id": "a461e055-1424-4b82-a953-c8783de9d16a",
   "metadata": {},
   "outputs": [],
   "source": []
  },
  {
   "cell_type": "markdown",
   "id": "decd91d4-7569-49da-9758-a1f2adcfd86c",
   "metadata": {},
   "source": [
    "### Analysis Test XGBoost"
   ]
  },
  {
   "cell_type": "code",
   "execution_count": null,
   "id": "9657ccd6-99c7-4151-b307-f6c54a62cbbb",
   "metadata": {},
   "outputs": [],
   "source": [
    "for i in range(10):\n",
    "    model = xgb.XGBRegressor(objective='reg:squarederror', device = 'cuda', tree_method='hist', n_estimators=500, learning_rate=0.01, max_depth=20, random_state=42, enable_categorical=True  )\n",
    "    model.fit(X_train, y_train)"
   ]
  },
  {
   "cell_type": "code",
   "execution_count": 54,
   "id": "bb282273-cf2a-44ec-a01b-8491d13120c2",
   "metadata": {},
   "outputs": [],
   "source": [
    "y_pred = model.predict(X_test)"
   ]
  },
  {
   "cell_type": "code",
   "execution_count": 55,
   "id": "e382b1af-4832-4322-b6da-e6c3259a81aa",
   "metadata": {},
   "outputs": [
    {
     "data": {
      "text/plain": [
       "0.475639019188312"
      ]
     },
     "execution_count": 55,
     "metadata": {},
     "output_type": "execute_result"
    }
   ],
   "source": [
    "r2_score(y_test, y_pred) * 100"
   ]
  },
  {
   "cell_type": "code",
   "execution_count": 56,
   "id": "52c85a5d-03a1-43bf-a0d4-07271cb707f1",
   "metadata": {},
   "outputs": [],
   "source": [
    "y_pred = model.predict(X_train)"
   ]
  },
  {
   "cell_type": "code",
   "execution_count": 57,
   "id": "733d857e-168c-405d-953b-182b7e859730",
   "metadata": {},
   "outputs": [
    {
     "data": {
      "text/plain": [
       "99.99750353180168"
      ]
     },
     "execution_count": 57,
     "metadata": {},
     "output_type": "execute_result"
    }
   ],
   "source": [
    "r2_score(y_train, y_pred) * 100"
   ]
  },
  {
   "cell_type": "code",
   "execution_count": null,
   "id": "53ca7250-cd00-4bff-9ce4-bb6213e28b0f",
   "metadata": {},
   "outputs": [],
   "source": []
  },
  {
   "cell_type": "markdown",
   "id": "58285882-dbf4-4265-8b82-77eabf953a13",
   "metadata": {},
   "source": [
    "## Fine Wash"
   ]
  },
  {
   "cell_type": "markdown",
   "id": "530c9c5a-3919-4cfe-893a-8d9bff2da19d",
   "metadata": {},
   "source": [
    "### Load Dataset"
   ]
  },
  {
   "cell_type": "code",
   "execution_count": 4,
   "id": "6c1929e6-a11b-477f-b941-f8cbc7ed00f9",
   "metadata": {},
   "outputs": [],
   "source": [
    "RawDataset_Filename = os.path.join(\"Data\", \"GallupWB_WashedRawData17Wave_v1.parquet\")"
   ]
  },
  {
   "cell_type": "code",
   "execution_count": 5,
   "id": "1fdf1caf-e6f9-4bd3-8b03-613a42e68490",
   "metadata": {},
   "outputs": [],
   "source": [
    "RawDataset = pd.read_parquet(RawDataset_Filename)"
   ]
  },
  {
   "cell_type": "code",
   "execution_count": 6,
   "id": "d3ea54de-5c7c-49eb-ab5f-c0bc0dd9bf0b",
   "metadata": {},
   "outputs": [
    {
     "data": {
      "text/plain": [
       "(2594089, 90)"
      ]
     },
     "execution_count": 6,
     "metadata": {},
     "output_type": "execute_result"
    }
   ],
   "source": [
    "RawDataset.shape"
   ]
  },
  {
   "cell_type": "code",
   "execution_count": 7,
   "id": "ba8e261a-7b3e-4232-afcf-14bc5fda9b89",
   "metadata": {},
   "outputs": [
    {
     "name": "stdout",
     "output_type": "stream",
     "text": [
      "('wave', 0)\n",
      "('COUNTRY_ISO3', 0)\n",
      "('INCOME_1', 420409)\n",
      "('INCOME_2', 423416)\n",
      "('INCOME_3', 420411)\n",
      "('INCOME_4', 423418)\n",
      "('INCOME_5', 419801)\n",
      "('INCOME_6', 2594089)\n",
      "('INCOME_7', 419841)\n",
      "('WP16', 14604)\n",
      "('WP18', 14603)\n",
      "('WP23', 123903)\n",
      "('WP27', 151900)\n",
      "('WP30', 129145)\n",
      "('WP31', 142727)\n",
      "('WP40', 52441)\n",
      "('WP43', 49598)\n",
      "('WP60', 86371)\n",
      "('WP61', 67376)\n",
      "('WP63', 104399)\n",
      "('WP65', 69390)\n",
      "('WP67', 74033)\n",
      "('WP68', 85721)\n",
      "('WP69', 82693)\n",
      "('WP70', 83895)\n",
      "('WP71', 184749)\n",
      "('WP74', 100720)\n",
      "('WP83', 185474)\n",
      "('WP85', 310161)\n",
      "('WP86', 240808)\n",
      "('WP19472', 1719188)\n",
      "('WP88', 262622)\n",
      "('WP89', 171021)\n",
      "('WP91', 198859)\n",
      "('WP92', 200973)\n",
      "('WP93', 145248)\n",
      "('WP94', 202990)\n",
      "('WP95', 201667)\n",
      "('WP96', 2594089)\n",
      "('WP97', 238617)\n",
      "('WP98', 231858)\n",
      "('WP10248', 710990)\n",
      "('WP103', 452880)\n",
      "('WP105', 545368)\n",
      "('WP106', 262574)\n",
      "('WP108', 189759)\n",
      "('WP109', 187253)\n",
      "('WP110', 193819)\n",
      "('WP111', 675056)\n",
      "('WP112', 419460)\n",
      "('WP113', 206175)\n",
      "('WP117', 268482)\n",
      "('WP118', 786324)\n",
      "('WP119', 291689)\n",
      "('WP129', 177618)\n",
      "('WP130', 156114)\n",
      "('WP9050', 731999)\n",
      "('WP131', 408916)\n",
      "('WP132', 218748)\n",
      "('WP134', 162829)\n",
      "('WP137', 503224)\n",
      "('WP138', 392723)\n",
      "('WP139', 426999)\n",
      "('WP141', 240493)\n",
      "('WP144', 461870)\n",
      "('WP10251', 790018)\n",
      "('WP145', 294340)\n",
      "('WP146', 401409)\n",
      "('WP150', 518606)\n",
      "('WP151', 347999)\n",
      "('WP153', 420278)\n",
      "('WP155', 452531)\n",
      "('WP156', 400767)\n",
      "('WP13125', 1158474)\n",
      "('WP1219', 22)\n",
      "('WP1220', 3306)\n",
      "('WP1223', 26119)\n",
      "('EMP_2010', 433208)\n",
      "('WP1230', 80157)\n",
      "('WP1233', 303845)\n",
      "('WP2319', 146446)\n",
      "('WP4657', 230088)\n",
      "('WP9042', 2467008)\n",
      "('WP9048', 2469606)\n",
      "('WP17625', 1287824)\n",
      "('WP17626', 1412789)\n",
      "('WP16056', 1478999)\n",
      "('WP15862', 1880708)\n",
      "('WP19544', 1824015)\n",
      "('WP3117', 77184)\n"
     ]
    }
   ],
   "source": [
    "nan_counts = RawDataset.isna().sum()\n",
    "for line in zip(RawDataset.columns, nan_counts):\n",
    "    print(line)"
   ]
  },
  {
   "cell_type": "markdown",
   "id": "7a243367-b00e-4819-a1d2-b57c1dd02df0",
   "metadata": {},
   "source": [
    "### wave"
   ]
  },
  {
   "cell_type": "code",
   "execution_count": 65,
   "id": "8f4ef7f6-230a-407a-932a-be63f57308d6",
   "metadata": {},
   "outputs": [
    {
     "data": {
      "text/plain": [
       "wave\n",
       "1.0     129972\n",
       "2.0     104831\n",
       "3.0     120443\n",
       "3.1       3568\n",
       "3.2       4141\n",
       "3.3       2592\n",
       "3.4       1758\n",
       "4.0      99664\n",
       "4.1      18074\n",
       "4.2      19164\n",
       "4.3       1147\n",
       "5.0     112702\n",
       "5.1      18141\n",
       "5.2      20013\n",
       "6.0     130614\n",
       "6.1      23134\n",
       "6.2      26258\n",
       "6.3       7224\n",
       "6.4       7157\n",
       "6.5       1077\n",
       "7.1     151720\n",
       "7.2      49465\n",
       "7.3      12879\n",
       "7.4      16019\n",
       "8.1     138673\n",
       "9.1     154205\n",
       "9.2      36143\n",
       "10.1    148232\n",
       "11.1    148724\n",
       "11.2      2000\n",
       "12.1    154166\n",
       "12.9      1000\n",
       "13.1    118922\n",
       "13.2     33952\n",
       "14.1    176253\n",
       "15.1    121207\n",
       "15.5      6350\n",
       "15.9      1917\n",
       "16.1    126902\n",
       "17.1    143686\n",
       "Name: count, dtype: int64"
      ]
     },
     "execution_count": 65,
     "metadata": {},
     "output_type": "execute_result"
    }
   ],
   "source": [
    "RawDataset['wave'].value_counts().sort_index()"
   ]
  },
  {
   "cell_type": "code",
   "execution_count": 66,
   "id": "027362ce-90ab-4652-b961-408d99f20c9a",
   "metadata": {},
   "outputs": [],
   "source": [
    "RawDataset['wave'] = RawDataset['wave'].astype(int)"
   ]
  },
  {
   "cell_type": "code",
   "execution_count": 67,
   "id": "9d556560-de8b-4893-ae32-cb20505bfef3",
   "metadata": {},
   "outputs": [
    {
     "data": {
      "text/plain": [
       "wave\n",
       "1     129972\n",
       "2     104831\n",
       "3     132502\n",
       "4     138049\n",
       "5     150856\n",
       "6     195464\n",
       "7     230083\n",
       "8     138673\n",
       "9     190348\n",
       "10    148232\n",
       "11    150724\n",
       "12    155166\n",
       "13    152874\n",
       "14    176253\n",
       "15    129474\n",
       "16    126902\n",
       "17    143686\n",
       "Name: count, dtype: int64"
      ]
     },
     "execution_count": 67,
     "metadata": {},
     "output_type": "execute_result"
    }
   ],
   "source": [
    "RawDataset['wave'].value_counts().sort_index()"
   ]
  },
  {
   "cell_type": "code",
   "execution_count": 17,
   "id": "150d1ca5-11b9-44f8-91ee-e993e24a65cc",
   "metadata": {},
   "outputs": [
    {
     "data": {
      "image/png": "[encoded data removed]",
      "text/plain": [
       "<Figure size 640x480 with 1 Axes>"
      ]
     },
     "metadata": {},
     "output_type": "display_data"
    }
   ],
   "source": [
    "plt.hist(RawDataset['WP16'], bins=11, range=(0, 10), edgecolor='black')\n",
    "plt.title('Histogram of WP16')\n",
    "plt.xlabel('WP16')\n",
    "plt.ylabel('Frequency')\n",
    "plt.grid(True)\n",
    "plt.show()"
   ]
  },
  {
   "cell_type": "code",
   "execution_count": null,
   "id": "3dd2125b-7d14-4ebd-9eb4-d6e7c699b8f2",
   "metadata": {},
   "outputs": [],
   "source": []
  },
  {
   "cell_type": "code",
   "execution_count": null,
   "id": "e2d2833c-7245-499b-b2f4-86c835e75191",
   "metadata": {},
   "outputs": [],
   "source": []
  },
  {
   "cell_type": "code",
   "execution_count": null,
   "id": "39db911b-50cb-4bef-b4aa-6075f5a9e5b1",
   "metadata": {},
   "outputs": [],
   "source": []
  }
 ],
 "metadata": {
  "kernelspec": {
   "display_name": "Python 3 (ipykernel)",
   "language": "python",
   "name": "python3"
  },
  "language_info": {
   "codemirror_mode": {
    "name": "ipython",
    "version": 3
   },
   "file_extension": ".py",
   "mimetype": "text/x-python",
   "name": "python",
   "nbconvert_exporter": "python",
   "pygments_lexer": "ipython3",
   "version": "3.9.19"
  }
 },
 "nbformat": 4,
 "nbformat_minor": 5
}
