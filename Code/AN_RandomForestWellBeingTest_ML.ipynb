{
 "cells": [
  {
   "cell_type": "markdown",
   "id": "93762d12-6fdd-4e46-bb6c-9714b6f55ed4",
   "metadata": {},
   "source": [
    "# Random Forest Test with Well-being"
   ]
  },
  {
   "cell_type": "code",
   "execution_count": 1,
   "id": "37e38839-0184-49f6-b042-519212e34230",
   "metadata": {},
   "outputs": [
    {
     "data": {
      "text/plain": [
       "'/mnt/d/OneDrive - Kyushu University/ESG09_Article/Code'"
      ]
     },
     "execution_count": 1,
     "metadata": {},
     "output_type": "execute_result"
    }
   ],
   "source": [
    "%pwd"
   ]
  },
  {
   "cell_type": "code",
   "execution_count": 2,
   "id": "aeb33755-8671-40da-9443-2e9715273b63",
   "metadata": {},
   "outputs": [
    {
     "name": "stdout",
     "output_type": "stream",
     "text": [
      "/mnt/d/OneDrive - Kyushu University/ESG09_Article\n"
     ]
    },
    {
     "name": "stderr",
     "output_type": "stream",
     "text": [
      "/home/linux/anaconda3/envs/tf/lib/python3.9/site-packages/IPython/core/magics/osm.py:417: UserWarning: using dhist requires you to install the `pickleshare` library.\n",
      "  self.shell.db['dhist'] = compress_dhist(dhist)[-100:]\n"
     ]
    }
   ],
   "source": [
    "%cd .."
   ]
  },
  {
   "cell_type": "code",
   "execution_count": null,
   "id": "b2565ea8-31ec-449d-8ad9-5568e7d40cfd",
   "metadata": {},
   "outputs": [],
   "source": []
  },
  {
   "cell_type": "markdown",
   "id": "2f14be87-268b-4229-983d-8cb41dfc2296",
   "metadata": {},
   "source": [
    "## Import Package"
   ]
  },
  {
   "cell_type": "code",
   "execution_count": 70,
   "id": "af6ef393-fd32-42b6-aefe-7e0686a40901",
   "metadata": {},
   "outputs": [],
   "source": [
    "import numpy as np\n",
    "import os \n",
    "import pandas as pd\n",
    "from sklearn.ensemble import RandomForestRegressor\n",
    "from sklearn.linear_model import LinearRegression\n",
    "from sklearn.metrics import mean_squared_error, r2_score\n",
    "from sklearn.model_selection import train_test_split\n",
    "import xgboost as xgb"
   ]
  },
  {
   "cell_type": "code",
   "execution_count": null,
   "id": "29220152-fecb-4076-9a50-8a6eae76bda5",
   "metadata": {},
   "outputs": [],
   "source": []
  },
  {
   "cell_type": "markdown",
   "id": "fef3be6e-2111-47a5-a066-03c0c95a4828",
   "metadata": {},
   "source": [
    "## Basic with the most variable"
   ]
  },
  {
   "cell_type": "markdown",
   "id": "8462fedb-e14c-4ef1-95b6-9015ee348a3b",
   "metadata": {},
   "source": [
    "### Load and Make Data"
   ]
  },
  {
   "cell_type": "code",
   "execution_count": 28,
   "id": "e67e5927-a979-4ea9-9a28-b006513f0d5a",
   "metadata": {},
   "outputs": [],
   "source": [
    "RawDataset_Filename = os.path.join(\"Data\", \"GallupWB_WashedRawData17Wave_v1.parquet\")"
   ]
  },
  {
   "cell_type": "code",
   "execution_count": 29,
   "id": "ff0a8152-0461-48e8-bca7-e175cf43e528",
   "metadata": {},
   "outputs": [],
   "source": [
    "RawDataset = pd.read_parquet(RawDataset_Filename)"
   ]
  },
  {
   "cell_type": "code",
   "execution_count": 30,
   "id": "12645d0a-27f8-4d6e-8652-811bfac1ba71",
   "metadata": {},
   "outputs": [
    {
     "data": {
      "text/plain": [
       "(2594089, 90)"
      ]
     },
     "execution_count": 30,
     "metadata": {},
     "output_type": "execute_result"
    }
   ],
   "source": [
    "RawDataset.shape"
   ]
  },
  {
   "cell_type": "code",
   "execution_count": 31,
   "id": "dcacbf50-15d6-4126-bd1e-d0091f0aae3f",
   "metadata": {},
   "outputs": [
    {
     "name": "stdout",
     "output_type": "stream",
     "text": [
      "('wave', 0)\n",
      "('COUNTRY_ISO3', 0)\n",
      "('INCOME_1', 420409)\n",
      "('INCOME_2', 423416)\n",
      "('INCOME_3', 420411)\n",
      "('INCOME_4', 423418)\n",
      "('INCOME_5', 419801)\n",
      "('INCOME_6', 2594089)\n",
      "('INCOME_7', 419841)\n",
      "('WP16', 14604)\n",
      "('WP18', 14603)\n",
      "('WP23', 123903)\n",
      "('WP27', 151900)\n",
      "('WP30', 129145)\n",
      "('WP31', 142727)\n",
      "('WP40', 52441)\n",
      "('WP43', 49598)\n",
      "('WP60', 86371)\n",
      "('WP61', 67376)\n",
      "('WP63', 104399)\n",
      "('WP65', 69390)\n",
      "('WP67', 74033)\n",
      "('WP68', 85721)\n",
      "('WP69', 82693)\n",
      "('WP70', 83895)\n",
      "('WP71', 184749)\n",
      "('WP74', 100720)\n",
      "('WP83', 185474)\n",
      "('WP85', 310161)\n",
      "('WP86', 240808)\n",
      "('WP19472', 1719188)\n",
      "('WP88', 262622)\n",
      "('WP89', 171021)\n",
      "('WP91', 198859)\n",
      "('WP92', 200973)\n",
      "('WP93', 145248)\n",
      "('WP94', 202990)\n",
      "('WP95', 201667)\n",
      "('WP96', 2594089)\n",
      "('WP97', 238617)\n",
      "('WP98', 231858)\n",
      "('WP10248', 710990)\n",
      "('WP103', 452880)\n",
      "('WP105', 545368)\n",
      "('WP106', 262574)\n",
      "('WP108', 189759)\n",
      "('WP109', 187253)\n",
      "('WP110', 193819)\n",
      "('WP111', 675056)\n",
      "('WP112', 419460)\n",
      "('WP113', 206175)\n",
      "('WP117', 268482)\n",
      "('WP118', 786324)\n",
      "('WP119', 291689)\n",
      "('WP129', 177618)\n",
      "('WP130', 156114)\n",
      "('WP9050', 731999)\n",
      "('WP131', 408916)\n",
      "('WP132', 218748)\n",
      "('WP134', 162829)\n",
      "('WP137', 503224)\n",
      "('WP138', 392723)\n",
      "('WP139', 426999)\n",
      "('WP141', 240493)\n",
      "('WP144', 461870)\n",
      "('WP10251', 790018)\n",
      "('WP145', 294340)\n",
      "('WP146', 401409)\n",
      "('WP150', 518606)\n",
      "('WP151', 347999)\n",
      "('WP153', 420278)\n",
      "('WP155', 452531)\n",
      "('WP156', 400767)\n",
      "('WP13125', 1158474)\n",
      "('WP1219', 22)\n",
      "('WP1220', 3306)\n",
      "('WP1223', 26119)\n",
      "('EMP_2010', 433208)\n",
      "('WP1230', 80157)\n",
      "('WP1233', 303845)\n",
      "('WP2319', 146446)\n",
      "('WP4657', 230088)\n",
      "('WP9042', 2467008)\n",
      "('WP9048', 2469606)\n",
      "('WP17625', 1287824)\n",
      "('WP17626', 1412789)\n",
      "('WP16056', 1478999)\n",
      "('WP15862', 1880708)\n",
      "('WP19544', 1824015)\n",
      "('WP3117', 77184)\n"
     ]
    }
   ],
   "source": [
    "nan_counts = RawDataset.isna().sum()\n",
    "for line in zip(RawDataset.columns, nan_counts):\n",
    "    print(line)"
   ]
  },
  {
   "cell_type": "code",
   "execution_count": 32,
   "id": "13b89022-d282-4960-957e-859b8407d469",
   "metadata": {},
   "outputs": [
    {
     "name": "stdout",
     "output_type": "stream",
     "text": [
      "('wave', 0)\n",
      "('COUNTRY_ISO3', 0)\n",
      "('INCOME_1', 420409)\n",
      "('INCOME_2', 423416)\n",
      "('INCOME_3', 420411)\n",
      "('INCOME_4', 423418)\n",
      "('INCOME_5', 419801)\n",
      "('INCOME_7', 419841)\n",
      "('WP16', 14604)\n",
      "('WP18', 14603)\n",
      "('WP23', 123903)\n",
      "('WP27', 151900)\n",
      "('WP30', 129145)\n",
      "('WP31', 142727)\n",
      "('WP40', 52441)\n",
      "('WP43', 49598)\n",
      "('WP60', 86371)\n",
      "('WP61', 67376)\n",
      "('WP63', 104399)\n",
      "('WP65', 69390)\n",
      "('WP67', 74033)\n",
      "('WP68', 85721)\n",
      "('WP69', 82693)\n",
      "('WP70', 83895)\n",
      "('WP71', 184749)\n",
      "('WP74', 100720)\n",
      "('WP83', 185474)\n",
      "('WP85', 310161)\n",
      "('WP86', 240808)\n",
      "('WP88', 262622)\n",
      "('WP89', 171021)\n",
      "('WP91', 198859)\n",
      "('WP92', 200973)\n",
      "('WP93', 145248)\n",
      "('WP94', 202990)\n",
      "('WP95', 201667)\n",
      "('WP97', 238617)\n",
      "('WP98', 231858)\n",
      "('WP103', 452880)\n",
      "('WP106', 262574)\n",
      "('WP108', 189759)\n",
      "('WP109', 187253)\n",
      "('WP110', 193819)\n",
      "('WP112', 419460)\n",
      "('WP113', 206175)\n",
      "('WP117', 268482)\n",
      "('WP119', 291689)\n",
      "('WP129', 177618)\n",
      "('WP130', 156114)\n",
      "('WP131', 408916)\n",
      "('WP132', 218748)\n",
      "('WP134', 162829)\n",
      "('WP138', 392723)\n",
      "('WP139', 426999)\n",
      "('WP141', 240493)\n",
      "('WP144', 461870)\n",
      "('WP145', 294340)\n",
      "('WP146', 401409)\n",
      "('WP151', 347999)\n",
      "('WP153', 420278)\n",
      "('WP155', 452531)\n",
      "('WP156', 400767)\n",
      "('WP1219', 22)\n",
      "('WP1220', 3306)\n",
      "('WP1223', 26119)\n",
      "('EMP_2010', 433208)\n",
      "('WP1230', 80157)\n",
      "('WP1233', 303845)\n",
      "('WP2319', 146446)\n",
      "('WP4657', 230088)\n",
      "('WP3117', 77184)\n"
     ]
    }
   ],
   "source": [
    "nan_counts = RawDataset.isna().sum()\n",
    "name_list = []\n",
    "for line in zip(RawDataset.columns, nan_counts):\n",
    "    if line[1] < 500_000:\n",
    "        name_list.append(line[0])\n",
    "        print(line)"
   ]
  },
  {
   "cell_type": "code",
   "execution_count": 33,
   "id": "38c25b6c-32b7-42d9-8666-437f86637617",
   "metadata": {},
   "outputs": [
    {
     "name": "stdout",
     "output_type": "stream",
     "text": [
      "('wave', 0)\n",
      "('COUNTRY_ISO3', 0)\n",
      "('WP16', 14604)\n",
      "('WP18', 14603)\n",
      "('WP23', 123903)\n",
      "('WP27', 151900)\n",
      "('WP30', 129145)\n",
      "('WP31', 142727)\n",
      "('WP40', 52441)\n",
      "('WP43', 49598)\n",
      "('WP60', 86371)\n",
      "('WP61', 67376)\n",
      "('WP63', 104399)\n",
      "('WP65', 69390)\n",
      "('WP67', 74033)\n",
      "('WP68', 85721)\n",
      "('WP69', 82693)\n",
      "('WP70', 83895)\n",
      "('WP71', 184749)\n",
      "('WP74', 100720)\n",
      "('WP83', 185474)\n",
      "('WP89', 171021)\n",
      "('WP91', 198859)\n",
      "('WP93', 145248)\n",
      "('WP108', 189759)\n",
      "('WP109', 187253)\n",
      "('WP110', 193819)\n",
      "('WP129', 177618)\n",
      "('WP130', 156114)\n",
      "('WP134', 162829)\n",
      "('WP1219', 22)\n",
      "('WP1220', 3306)\n",
      "('WP1223', 26119)\n",
      "('WP1230', 80157)\n",
      "('WP2319', 146446)\n",
      "('WP3117', 77184)\n"
     ]
    }
   ],
   "source": [
    "name_list = []\n",
    "for line in zip(RawDataset.columns, nan_counts):\n",
    "    if line[1] < 200_000:\n",
    "        name_list.append(line[0])\n",
    "        print(line)"
   ]
  },
  {
   "cell_type": "code",
   "execution_count": 34,
   "id": "6f81bf1b-ccf2-4cc4-b950-9012d87f848c",
   "metadata": {},
   "outputs": [],
   "source": [
    "name_list = name_list + ['INCOME_2']"
   ]
  },
  {
   "cell_type": "code",
   "execution_count": 35,
   "id": "b4d8610c-8317-4190-ad6c-b7e91e32bb71",
   "metadata": {},
   "outputs": [],
   "source": [
    "FineWashedDf = RawDataset[name_list]"
   ]
  },
  {
   "cell_type": "code",
   "execution_count": 36,
   "id": "499f8bde-da8f-4c56-b835-6f72d84db574",
   "metadata": {},
   "outputs": [
    {
     "data": {
      "text/plain": [
       "(2594089, 37)"
      ]
     },
     "execution_count": 36,
     "metadata": {},
     "output_type": "execute_result"
    }
   ],
   "source": [
    "FineWashedDf.shape"
   ]
  },
  {
   "cell_type": "code",
   "execution_count": 37,
   "id": "26620cd8-7ef8-4727-a151-a462d7d148ef",
   "metadata": {},
   "outputs": [
    {
     "name": "stderr",
     "output_type": "stream",
     "text": [
      "/tmp/ipykernel_1672/2069073635.py:1: SettingWithCopyWarning: \n",
      "A value is trying to be set on a copy of a slice from a DataFrame\n",
      "\n",
      "See the caveats in the documentation: https://pandas.pydata.org/pandas-docs/stable/user_guide/indexing.html#returning-a-view-versus-a-copy\n",
      "  FineWashedDf.dropna(inplace=True)\n"
     ]
    }
   ],
   "source": [
    "FineWashedDf.dropna(inplace=True)"
   ]
  },
  {
   "cell_type": "code",
   "execution_count": 38,
   "id": "aec767a6-cf87-495a-9a1b-56ec81959685",
   "metadata": {},
   "outputs": [
    {
     "data": {
      "text/plain": [
       "(1786480, 37)"
      ]
     },
     "execution_count": 38,
     "metadata": {},
     "output_type": "execute_result"
    }
   ],
   "source": [
    "FineWashedDf.shape"
   ]
  },
  {
   "cell_type": "code",
   "execution_count": null,
   "id": "92cfc34e-ecea-4411-a44d-ad5add493be2",
   "metadata": {},
   "outputs": [],
   "source": []
  },
  {
   "cell_type": "markdown",
   "id": "ea29b7ec-07e6-448b-85e7-ed06eb1d679a",
   "metadata": {},
   "source": [
    "### Train and Test df"
   ]
  },
  {
   "cell_type": "code",
   "execution_count": 39,
   "id": "971cb4ff-093c-49f7-b9a6-22fee11dd2aa",
   "metadata": {},
   "outputs": [],
   "source": [
    "FineWashedDf = FineWashedDf.sample(frac=1, random_state=42).reset_index(drop=True)"
   ]
  },
  {
   "cell_type": "code",
   "execution_count": 40,
   "id": "707a5557-8147-4344-9899-ef6b02436d38",
   "metadata": {},
   "outputs": [],
   "source": [
    "FineWashedDf['COUNTRY_ISO3'] = FineWashedDf['COUNTRY_ISO3'].astype('category')"
   ]
  },
  {
   "cell_type": "code",
   "execution_count": 41,
   "id": "b80a1068-5869-4bb5-90d5-22dfdeb92b4a",
   "metadata": {},
   "outputs": [
    {
     "data": {
      "text/html": [
       "<div>\n",
       "<style scoped>\n",
       "    .dataframe tbody tr th:only-of-type {\n",
       "        vertical-align: middle;\n",
       "    }\n",
       "\n",
       "    .dataframe tbody tr th {\n",
       "        vertical-align: top;\n",
       "    }\n",
       "\n",
       "    .dataframe thead th {\n",
       "        text-align: right;\n",
       "    }\n",
       "</style>\n",
       "<table border=\"1\" class=\"dataframe\">\n",
       "  <thead>\n",
       "    <tr style=\"text-align: right;\">\n",
       "      <th></th>\n",
       "      <th>wave</th>\n",
       "      <th>COUNTRY_ISO3</th>\n",
       "      <th>WP16</th>\n",
       "      <th>WP18</th>\n",
       "      <th>WP23</th>\n",
       "      <th>WP27</th>\n",
       "      <th>WP30</th>\n",
       "      <th>WP31</th>\n",
       "      <th>WP40</th>\n",
       "      <th>WP43</th>\n",
       "      <th>...</th>\n",
       "      <th>WP129</th>\n",
       "      <th>WP130</th>\n",
       "      <th>WP134</th>\n",
       "      <th>WP1219</th>\n",
       "      <th>WP1220</th>\n",
       "      <th>WP1223</th>\n",
       "      <th>WP1230</th>\n",
       "      <th>WP2319</th>\n",
       "      <th>WP3117</th>\n",
       "      <th>INCOME_2</th>\n",
       "    </tr>\n",
       "  </thead>\n",
       "  <tbody>\n",
       "    <tr>\n",
       "      <th>0</th>\n",
       "      <td>4.0</td>\n",
       "      <td>SLV</td>\n",
       "      <td>6.0</td>\n",
       "      <td>7.0</td>\n",
       "      <td>2.0</td>\n",
       "      <td>1.0</td>\n",
       "      <td>1.0</td>\n",
       "      <td>1.0</td>\n",
       "      <td>2.0</td>\n",
       "      <td>1.0</td>\n",
       "      <td>...</td>\n",
       "      <td>1.0</td>\n",
       "      <td>1.0</td>\n",
       "      <td>1.0</td>\n",
       "      <td>1.0</td>\n",
       "      <td>28.0</td>\n",
       "      <td>8.0</td>\n",
       "      <td>1.0</td>\n",
       "      <td>4.0</td>\n",
       "      <td>1.0</td>\n",
       "      <td>2060.323089</td>\n",
       "    </tr>\n",
       "    <tr>\n",
       "      <th>1</th>\n",
       "      <td>15.1</td>\n",
       "      <td>THA</td>\n",
       "      <td>0.0</td>\n",
       "      <td>0.0</td>\n",
       "      <td>2.0</td>\n",
       "      <td>1.0</td>\n",
       "      <td>2.0</td>\n",
       "      <td>3.0</td>\n",
       "      <td>1.0</td>\n",
       "      <td>2.0</td>\n",
       "      <td>...</td>\n",
       "      <td>1.0</td>\n",
       "      <td>1.0</td>\n",
       "      <td>1.0</td>\n",
       "      <td>1.0</td>\n",
       "      <td>45.0</td>\n",
       "      <td>8.0</td>\n",
       "      <td>0.0</td>\n",
       "      <td>4.0</td>\n",
       "      <td>1.0</td>\n",
       "      <td>4506.659275</td>\n",
       "    </tr>\n",
       "    <tr>\n",
       "      <th>2</th>\n",
       "      <td>8.1</td>\n",
       "      <td>PSE</td>\n",
       "      <td>5.0</td>\n",
       "      <td>6.0</td>\n",
       "      <td>2.0</td>\n",
       "      <td>1.0</td>\n",
       "      <td>1.0</td>\n",
       "      <td>2.0</td>\n",
       "      <td>2.0</td>\n",
       "      <td>2.0</td>\n",
       "      <td>...</td>\n",
       "      <td>2.0</td>\n",
       "      <td>2.0</td>\n",
       "      <td>2.0</td>\n",
       "      <td>1.0</td>\n",
       "      <td>35.0</td>\n",
       "      <td>2.0</td>\n",
       "      <td>4.0</td>\n",
       "      <td>2.0</td>\n",
       "      <td>2.0</td>\n",
       "      <td>14539.335197</td>\n",
       "    </tr>\n",
       "    <tr>\n",
       "      <th>3</th>\n",
       "      <td>11.1</td>\n",
       "      <td>MKD</td>\n",
       "      <td>5.0</td>\n",
       "      <td>8.0</td>\n",
       "      <td>2.0</td>\n",
       "      <td>1.0</td>\n",
       "      <td>2.0</td>\n",
       "      <td>4.0</td>\n",
       "      <td>2.0</td>\n",
       "      <td>2.0</td>\n",
       "      <td>...</td>\n",
       "      <td>1.0</td>\n",
       "      <td>1.0</td>\n",
       "      <td>1.0</td>\n",
       "      <td>1.0</td>\n",
       "      <td>32.0</td>\n",
       "      <td>2.0</td>\n",
       "      <td>1.0</td>\n",
       "      <td>2.0</td>\n",
       "      <td>3.0</td>\n",
       "      <td>19596.924107</td>\n",
       "    </tr>\n",
       "    <tr>\n",
       "      <th>4</th>\n",
       "      <td>10.1</td>\n",
       "      <td>CZE</td>\n",
       "      <td>9.0</td>\n",
       "      <td>9.0</td>\n",
       "      <td>2.0</td>\n",
       "      <td>1.0</td>\n",
       "      <td>1.0</td>\n",
       "      <td>1.0</td>\n",
       "      <td>2.0</td>\n",
       "      <td>1.0</td>\n",
       "      <td>...</td>\n",
       "      <td>1.0</td>\n",
       "      <td>1.0</td>\n",
       "      <td>1.0</td>\n",
       "      <td>2.0</td>\n",
       "      <td>46.0</td>\n",
       "      <td>2.0</td>\n",
       "      <td>0.0</td>\n",
       "      <td>1.0</td>\n",
       "      <td>2.0</td>\n",
       "      <td>42387.733484</td>\n",
       "    </tr>\n",
       "  </tbody>\n",
       "</table>\n",
       "<p>5 rows × 37 columns</p>\n",
       "</div>"
      ],
      "text/plain": [
       "   wave COUNTRY_ISO3  WP16  WP18  WP23  WP27  WP30  WP31  WP40  WP43  ...  \\\n",
       "0   4.0          SLV   6.0   7.0   2.0   1.0   1.0   1.0   2.0   1.0  ...   \n",
       "1  15.1          THA   0.0   0.0   2.0   1.0   2.0   3.0   1.0   2.0  ...   \n",
       "2   8.1          PSE   5.0   6.0   2.0   1.0   1.0   2.0   2.0   2.0  ...   \n",
       "3  11.1          MKD   5.0   8.0   2.0   1.0   2.0   4.0   2.0   2.0  ...   \n",
       "4  10.1          CZE   9.0   9.0   2.0   1.0   1.0   1.0   2.0   1.0  ...   \n",
       "\n",
       "   WP129  WP130  WP134  WP1219  WP1220  WP1223  WP1230  WP2319  WP3117  \\\n",
       "0    1.0    1.0    1.0     1.0    28.0     8.0     1.0     4.0     1.0   \n",
       "1    1.0    1.0    1.0     1.0    45.0     8.0     0.0     4.0     1.0   \n",
       "2    2.0    2.0    2.0     1.0    35.0     2.0     4.0     2.0     2.0   \n",
       "3    1.0    1.0    1.0     1.0    32.0     2.0     1.0     2.0     3.0   \n",
       "4    1.0    1.0    1.0     2.0    46.0     2.0     0.0     1.0     2.0   \n",
       "\n",
       "       INCOME_2  \n",
       "0   2060.323089  \n",
       "1   4506.659275  \n",
       "2  14539.335197  \n",
       "3  19596.924107  \n",
       "4  42387.733484  \n",
       "\n",
       "[5 rows x 37 columns]"
      ]
     },
     "execution_count": 41,
     "metadata": {},
     "output_type": "execute_result"
    }
   ],
   "source": [
    "FineWashedDf.head()"
   ]
  },
  {
   "cell_type": "code",
   "execution_count": 42,
   "id": "c014908a-675c-4740-89b3-2611fc64737e",
   "metadata": {},
   "outputs": [],
   "source": [
    "y = FineWashedDf['WP16']"
   ]
  },
  {
   "cell_type": "code",
   "execution_count": 43,
   "id": "9600980b-fd8d-454c-97bb-9fce6759a197",
   "metadata": {},
   "outputs": [],
   "source": [
    "X = FineWashedDf.drop(columns=['WP16', 'WP18'])"
   ]
  },
  {
   "cell_type": "code",
   "execution_count": 44,
   "id": "2da88104-2b04-4b5a-ac40-222511f8c950",
   "metadata": {},
   "outputs": [
    {
     "data": {
      "text/plain": [
       "(1786480, 35)"
      ]
     },
     "execution_count": 44,
     "metadata": {},
     "output_type": "execute_result"
    }
   ],
   "source": [
    "X.shape"
   ]
  },
  {
   "cell_type": "code",
   "execution_count": 45,
   "id": "64a4f177-2b82-4df8-a7c7-8c512a9c3bf8",
   "metadata": {},
   "outputs": [],
   "source": [
    "X_train, X_test, y_train, y_test = train_test_split(X, y, test_size=0.1, random_state=42)"
   ]
  },
  {
   "cell_type": "code",
   "execution_count": null,
   "id": "15a5a828-06c0-448b-b6ed-81c3c0a6e55f",
   "metadata": {},
   "outputs": [],
   "source": []
  },
  {
   "cell_type": "markdown",
   "id": "e19ab74c-8e0a-41cf-9088-f4fd3080c022",
   "metadata": {},
   "source": [
    "### Clear Memory"
   ]
  },
  {
   "cell_type": "code",
   "execution_count": 21,
   "id": "f3a7d326-ff8f-48aa-a9d5-93658cd67c82",
   "metadata": {},
   "outputs": [],
   "source": [
    "RawDataset = None"
   ]
  },
  {
   "cell_type": "code",
   "execution_count": 22,
   "id": "84a6fc9c-d70c-4a85-93cb-154d564b1f4f",
   "metadata": {},
   "outputs": [],
   "source": [
    "FineWashedDf = None"
   ]
  },
  {
   "cell_type": "code",
   "execution_count": 23,
   "id": "73c28203-5ced-4716-92aa-7286ffd66642",
   "metadata": {},
   "outputs": [],
   "source": [
    "X = None"
   ]
  },
  {
   "cell_type": "code",
   "execution_count": 24,
   "id": "3f075ecb-ea18-42ac-a46a-d4a84cba8bb5",
   "metadata": {},
   "outputs": [],
   "source": [
    "y = None"
   ]
  },
  {
   "cell_type": "code",
   "execution_count": null,
   "id": "d0654ba2-b5fc-4df3-9d78-c138780928c6",
   "metadata": {},
   "outputs": [],
   "source": []
  },
  {
   "cell_type": "markdown",
   "id": "decd91d4-7569-49da-9758-a1f2adcfd86c",
   "metadata": {},
   "source": [
    "### Analysis Test XGBoost"
   ]
  },
  {
   "cell_type": "code",
   "execution_count": 53,
   "id": "9657ccd6-99c7-4151-b307-f6c54a62cbbb",
   "metadata": {},
   "outputs": [
    {
     "data": {
      "text/html": [
       "<style>#sk-container-id-2 {\n",
       "  /* Definition of color scheme common for light and dark mode */\n",
       "  --sklearn-color-text: black;\n",
       "  --sklearn-color-line: gray;\n",
       "  /* Definition of color scheme for unfitted estimators */\n",
       "  --sklearn-color-unfitted-level-0: #fff5e6;\n",
       "  --sklearn-color-unfitted-level-1: #f6e4d2;\n",
       "  --sklearn-color-unfitted-level-2: #ffe0b3;\n",
       "  --sklearn-color-unfitted-level-3: chocolate;\n",
       "  /* Definition of color scheme for fitted estimators */\n",
       "  --sklearn-color-fitted-level-0: #f0f8ff;\n",
       "  --sklearn-color-fitted-level-1: #d4ebff;\n",
       "  --sklearn-color-fitted-level-2: #b3dbfd;\n",
       "  --sklearn-color-fitted-level-3: cornflowerblue;\n",
       "\n",
       "  /* Specific color for light theme */\n",
       "  --sklearn-color-text-on-default-background: var(--sg-text-color, var(--theme-code-foreground, var(--jp-content-font-color1, black)));\n",
       "  --sklearn-color-background: var(--sg-background-color, var(--theme-background, var(--jp-layout-color0, white)));\n",
       "  --sklearn-color-border-box: var(--sg-text-color, var(--theme-code-foreground, var(--jp-content-font-color1, black)));\n",
       "  --sklearn-color-icon: #696969;\n",
       "\n",
       "  @media (prefers-color-scheme: dark) {\n",
       "    /* Redefinition of color scheme for dark theme */\n",
       "    --sklearn-color-text-on-default-background: var(--sg-text-color, var(--theme-code-foreground, var(--jp-content-font-color1, white)));\n",
       "    --sklearn-color-background: var(--sg-background-color, var(--theme-background, var(--jp-layout-color0, #111)));\n",
       "    --sklearn-color-border-box: var(--sg-text-color, var(--theme-code-foreground, var(--jp-content-font-color1, white)));\n",
       "    --sklearn-color-icon: #878787;\n",
       "  }\n",
       "}\n",
       "\n",
       "#sk-container-id-2 {\n",
       "  color: var(--sklearn-color-text);\n",
       "}\n",
       "\n",
       "#sk-container-id-2 pre {\n",
       "  padding: 0;\n",
       "}\n",
       "\n",
       "#sk-container-id-2 input.sk-hidden--visually {\n",
       "  border: 0;\n",
       "  clip: rect(1px 1px 1px 1px);\n",
       "  clip: rect(1px, 1px, 1px, 1px);\n",
       "  height: 1px;\n",
       "  margin: -1px;\n",
       "  overflow: hidden;\n",
       "  padding: 0;\n",
       "  position: absolute;\n",
       "  width: 1px;\n",
       "}\n",
       "\n",
       "#sk-container-id-2 div.sk-dashed-wrapped {\n",
       "  border: 1px dashed var(--sklearn-color-line);\n",
       "  margin: 0 0.4em 0.5em 0.4em;\n",
       "  box-sizing: border-box;\n",
       "  padding-bottom: 0.4em;\n",
       "  background-color: var(--sklearn-color-background);\n",
       "}\n",
       "\n",
       "#sk-container-id-2 div.sk-container {\n",
       "  /* jupyter's `normalize.less` sets `[hidden] { display: none; }`\n",
       "     but bootstrap.min.css set `[hidden] { display: none !important; }`\n",
       "     so we also need the `!important` here to be able to override the\n",
       "     default hidden behavior on the sphinx rendered scikit-learn.org.\n",
       "     See: https://github.com/scikit-learn/scikit-learn/issues/21755 */\n",
       "  display: inline-block !important;\n",
       "  position: relative;\n",
       "}\n",
       "\n",
       "#sk-container-id-2 div.sk-text-repr-fallback {\n",
       "  display: none;\n",
       "}\n",
       "\n",
       "div.sk-parallel-item,\n",
       "div.sk-serial,\n",
       "div.sk-item {\n",
       "  /* draw centered vertical line to link estimators */\n",
       "  background-image: linear-gradient(var(--sklearn-color-text-on-default-background), var(--sklearn-color-text-on-default-background));\n",
       "  background-size: 2px 100%;\n",
       "  background-repeat: no-repeat;\n",
       "  background-position: center center;\n",
       "}\n",
       "\n",
       "/* Parallel-specific style estimator block */\n",
       "\n",
       "#sk-container-id-2 div.sk-parallel-item::after {\n",
       "  content: \"\";\n",
       "  width: 100%;\n",
       "  border-bottom: 2px solid var(--sklearn-color-text-on-default-background);\n",
       "  flex-grow: 1;\n",
       "}\n",
       "\n",
       "#sk-container-id-2 div.sk-parallel {\n",
       "  display: flex;\n",
       "  align-items: stretch;\n",
       "  justify-content: center;\n",
       "  background-color: var(--sklearn-color-background);\n",
       "  position: relative;\n",
       "}\n",
       "\n",
       "#sk-container-id-2 div.sk-parallel-item {\n",
       "  display: flex;\n",
       "  flex-direction: column;\n",
       "}\n",
       "\n",
       "#sk-container-id-2 div.sk-parallel-item:first-child::after {\n",
       "  align-self: flex-end;\n",
       "  width: 50%;\n",
       "}\n",
       "\n",
       "#sk-container-id-2 div.sk-parallel-item:last-child::after {\n",
       "  align-self: flex-start;\n",
       "  width: 50%;\n",
       "}\n",
       "\n",
       "#sk-container-id-2 div.sk-parallel-item:only-child::after {\n",
       "  width: 0;\n",
       "}\n",
       "\n",
       "/* Serial-specific style estimator block */\n",
       "\n",
       "#sk-container-id-2 div.sk-serial {\n",
       "  display: flex;\n",
       "  flex-direction: column;\n",
       "  align-items: center;\n",
       "  background-color: var(--sklearn-color-background);\n",
       "  padding-right: 1em;\n",
       "  padding-left: 1em;\n",
       "}\n",
       "\n",
       "\n",
       "/* Toggleable style: style used for estimator/Pipeline/ColumnTransformer box that is\n",
       "clickable and can be expanded/collapsed.\n",
       "- Pipeline and ColumnTransformer use this feature and define the default style\n",
       "- Estimators will overwrite some part of the style using the `sk-estimator` class\n",
       "*/\n",
       "\n",
       "/* Pipeline and ColumnTransformer style (default) */\n",
       "\n",
       "#sk-container-id-2 div.sk-toggleable {\n",
       "  /* Default theme specific background. It is overwritten whether we have a\n",
       "  specific estimator or a Pipeline/ColumnTransformer */\n",
       "  background-color: var(--sklearn-color-background);\n",
       "}\n",
       "\n",
       "/* Toggleable label */\n",
       "#sk-container-id-2 label.sk-toggleable__label {\n",
       "  cursor: pointer;\n",
       "  display: block;\n",
       "  width: 100%;\n",
       "  margin-bottom: 0;\n",
       "  padding: 0.5em;\n",
       "  box-sizing: border-box;\n",
       "  text-align: center;\n",
       "}\n",
       "\n",
       "#sk-container-id-2 label.sk-toggleable__label-arrow:before {\n",
       "  /* Arrow on the left of the label */\n",
       "  content: \"▸\";\n",
       "  float: left;\n",
       "  margin-right: 0.25em;\n",
       "  color: var(--sklearn-color-icon);\n",
       "}\n",
       "\n",
       "#sk-container-id-2 label.sk-toggleable__label-arrow:hover:before {\n",
       "  color: var(--sklearn-color-text);\n",
       "}\n",
       "\n",
       "/* Toggleable content - dropdown */\n",
       "\n",
       "#sk-container-id-2 div.sk-toggleable__content {\n",
       "  max-height: 0;\n",
       "  max-width: 0;\n",
       "  overflow: hidden;\n",
       "  text-align: left;\n",
       "  /* unfitted */\n",
       "  background-color: var(--sklearn-color-unfitted-level-0);\n",
       "}\n",
       "\n",
       "#sk-container-id-2 div.sk-toggleable__content.fitted {\n",
       "  /* fitted */\n",
       "  background-color: var(--sklearn-color-fitted-level-0);\n",
       "}\n",
       "\n",
       "#sk-container-id-2 div.sk-toggleable__content pre {\n",
       "  margin: 0.2em;\n",
       "  border-radius: 0.25em;\n",
       "  color: var(--sklearn-color-text);\n",
       "  /* unfitted */\n",
       "  background-color: var(--sklearn-color-unfitted-level-0);\n",
       "}\n",
       "\n",
       "#sk-container-id-2 div.sk-toggleable__content.fitted pre {\n",
       "  /* unfitted */\n",
       "  background-color: var(--sklearn-color-fitted-level-0);\n",
       "}\n",
       "\n",
       "#sk-container-id-2 input.sk-toggleable__control:checked~div.sk-toggleable__content {\n",
       "  /* Expand drop-down */\n",
       "  max-height: 200px;\n",
       "  max-width: 100%;\n",
       "  overflow: auto;\n",
       "}\n",
       "\n",
       "#sk-container-id-2 input.sk-toggleable__control:checked~label.sk-toggleable__label-arrow:before {\n",
       "  content: \"▾\";\n",
       "}\n",
       "\n",
       "/* Pipeline/ColumnTransformer-specific style */\n",
       "\n",
       "#sk-container-id-2 div.sk-label input.sk-toggleable__control:checked~label.sk-toggleable__label {\n",
       "  color: var(--sklearn-color-text);\n",
       "  background-color: var(--sklearn-color-unfitted-level-2);\n",
       "}\n",
       "\n",
       "#sk-container-id-2 div.sk-label.fitted input.sk-toggleable__control:checked~label.sk-toggleable__label {\n",
       "  background-color: var(--sklearn-color-fitted-level-2);\n",
       "}\n",
       "\n",
       "/* Estimator-specific style */\n",
       "\n",
       "/* Colorize estimator box */\n",
       "#sk-container-id-2 div.sk-estimator input.sk-toggleable__control:checked~label.sk-toggleable__label {\n",
       "  /* unfitted */\n",
       "  background-color: var(--sklearn-color-unfitted-level-2);\n",
       "}\n",
       "\n",
       "#sk-container-id-2 div.sk-estimator.fitted input.sk-toggleable__control:checked~label.sk-toggleable__label {\n",
       "  /* fitted */\n",
       "  background-color: var(--sklearn-color-fitted-level-2);\n",
       "}\n",
       "\n",
       "#sk-container-id-2 div.sk-label label.sk-toggleable__label,\n",
       "#sk-container-id-2 div.sk-label label {\n",
       "  /* The background is the default theme color */\n",
       "  color: var(--sklearn-color-text-on-default-background);\n",
       "}\n",
       "\n",
       "/* On hover, darken the color of the background */\n",
       "#sk-container-id-2 div.sk-label:hover label.sk-toggleable__label {\n",
       "  color: var(--sklearn-color-text);\n",
       "  background-color: var(--sklearn-color-unfitted-level-2);\n",
       "}\n",
       "\n",
       "/* Label box, darken color on hover, fitted */\n",
       "#sk-container-id-2 div.sk-label.fitted:hover label.sk-toggleable__label.fitted {\n",
       "  color: var(--sklearn-color-text);\n",
       "  background-color: var(--sklearn-color-fitted-level-2);\n",
       "}\n",
       "\n",
       "/* Estimator label */\n",
       "\n",
       "#sk-container-id-2 div.sk-label label {\n",
       "  font-family: monospace;\n",
       "  font-weight: bold;\n",
       "  display: inline-block;\n",
       "  line-height: 1.2em;\n",
       "}\n",
       "\n",
       "#sk-container-id-2 div.sk-label-container {\n",
       "  text-align: center;\n",
       "}\n",
       "\n",
       "/* Estimator-specific */\n",
       "#sk-container-id-2 div.sk-estimator {\n",
       "  font-family: monospace;\n",
       "  border: 1px dotted var(--sklearn-color-border-box);\n",
       "  border-radius: 0.25em;\n",
       "  box-sizing: border-box;\n",
       "  margin-bottom: 0.5em;\n",
       "  /* unfitted */\n",
       "  background-color: var(--sklearn-color-unfitted-level-0);\n",
       "}\n",
       "\n",
       "#sk-container-id-2 div.sk-estimator.fitted {\n",
       "  /* fitted */\n",
       "  background-color: var(--sklearn-color-fitted-level-0);\n",
       "}\n",
       "\n",
       "/* on hover */\n",
       "#sk-container-id-2 div.sk-estimator:hover {\n",
       "  /* unfitted */\n",
       "  background-color: var(--sklearn-color-unfitted-level-2);\n",
       "}\n",
       "\n",
       "#sk-container-id-2 div.sk-estimator.fitted:hover {\n",
       "  /* fitted */\n",
       "  background-color: var(--sklearn-color-fitted-level-2);\n",
       "}\n",
       "\n",
       "/* Specification for estimator info (e.g. \"i\" and \"?\") */\n",
       "\n",
       "/* Common style for \"i\" and \"?\" */\n",
       "\n",
       ".sk-estimator-doc-link,\n",
       "a:link.sk-estimator-doc-link,\n",
       "a:visited.sk-estimator-doc-link {\n",
       "  float: right;\n",
       "  font-size: smaller;\n",
       "  line-height: 1em;\n",
       "  font-family: monospace;\n",
       "  background-color: var(--sklearn-color-background);\n",
       "  border-radius: 1em;\n",
       "  height: 1em;\n",
       "  width: 1em;\n",
       "  text-decoration: none !important;\n",
       "  margin-left: 1ex;\n",
       "  /* unfitted */\n",
       "  border: var(--sklearn-color-unfitted-level-1) 1pt solid;\n",
       "  color: var(--sklearn-color-unfitted-level-1);\n",
       "}\n",
       "\n",
       ".sk-estimator-doc-link.fitted,\n",
       "a:link.sk-estimator-doc-link.fitted,\n",
       "a:visited.sk-estimator-doc-link.fitted {\n",
       "  /* fitted */\n",
       "  border: var(--sklearn-color-fitted-level-1) 1pt solid;\n",
       "  color: var(--sklearn-color-fitted-level-1);\n",
       "}\n",
       "\n",
       "/* On hover */\n",
       "div.sk-estimator:hover .sk-estimator-doc-link:hover,\n",
       ".sk-estimator-doc-link:hover,\n",
       "div.sk-label-container:hover .sk-estimator-doc-link:hover,\n",
       ".sk-estimator-doc-link:hover {\n",
       "  /* unfitted */\n",
       "  background-color: var(--sklearn-color-unfitted-level-3);\n",
       "  color: var(--sklearn-color-background);\n",
       "  text-decoration: none;\n",
       "}\n",
       "\n",
       "div.sk-estimator.fitted:hover .sk-estimator-doc-link.fitted:hover,\n",
       ".sk-estimator-doc-link.fitted:hover,\n",
       "div.sk-label-container:hover .sk-estimator-doc-link.fitted:hover,\n",
       ".sk-estimator-doc-link.fitted:hover {\n",
       "  /* fitted */\n",
       "  background-color: var(--sklearn-color-fitted-level-3);\n",
       "  color: var(--sklearn-color-background);\n",
       "  text-decoration: none;\n",
       "}\n",
       "\n",
       "/* Span, style for the box shown on hovering the info icon */\n",
       ".sk-estimator-doc-link span {\n",
       "  display: none;\n",
       "  z-index: 9999;\n",
       "  position: relative;\n",
       "  font-weight: normal;\n",
       "  right: .2ex;\n",
       "  padding: .5ex;\n",
       "  margin: .5ex;\n",
       "  width: min-content;\n",
       "  min-width: 20ex;\n",
       "  max-width: 50ex;\n",
       "  color: var(--sklearn-color-text);\n",
       "  box-shadow: 2pt 2pt 4pt #999;\n",
       "  /* unfitted */\n",
       "  background: var(--sklearn-color-unfitted-level-0);\n",
       "  border: .5pt solid var(--sklearn-color-unfitted-level-3);\n",
       "}\n",
       "\n",
       ".sk-estimator-doc-link.fitted span {\n",
       "  /* fitted */\n",
       "  background: var(--sklearn-color-fitted-level-0);\n",
       "  border: var(--sklearn-color-fitted-level-3);\n",
       "}\n",
       "\n",
       ".sk-estimator-doc-link:hover span {\n",
       "  display: block;\n",
       "}\n",
       "\n",
       "/* \"?\"-specific style due to the `<a>` HTML tag */\n",
       "\n",
       "#sk-container-id-2 a.estimator_doc_link {\n",
       "  float: right;\n",
       "  font-size: 1rem;\n",
       "  line-height: 1em;\n",
       "  font-family: monospace;\n",
       "  background-color: var(--sklearn-color-background);\n",
       "  border-radius: 1rem;\n",
       "  height: 1rem;\n",
       "  width: 1rem;\n",
       "  text-decoration: none;\n",
       "  /* unfitted */\n",
       "  color: var(--sklearn-color-unfitted-level-1);\n",
       "  border: var(--sklearn-color-unfitted-level-1) 1pt solid;\n",
       "}\n",
       "\n",
       "#sk-container-id-2 a.estimator_doc_link.fitted {\n",
       "  /* fitted */\n",
       "  border: var(--sklearn-color-fitted-level-1) 1pt solid;\n",
       "  color: var(--sklearn-color-fitted-level-1);\n",
       "}\n",
       "\n",
       "/* On hover */\n",
       "#sk-container-id-2 a.estimator_doc_link:hover {\n",
       "  /* unfitted */\n",
       "  background-color: var(--sklearn-color-unfitted-level-3);\n",
       "  color: var(--sklearn-color-background);\n",
       "  text-decoration: none;\n",
       "}\n",
       "\n",
       "#sk-container-id-2 a.estimator_doc_link.fitted:hover {\n",
       "  /* fitted */\n",
       "  background-color: var(--sklearn-color-fitted-level-3);\n",
       "}\n",
       "</style><div id=\"sk-container-id-2\" class=\"sk-top-container\"><div class=\"sk-text-repr-fallback\"><pre>XGBRegressor(base_score=None, booster=None, callbacks=None,\n",
       "             colsample_bylevel=None, colsample_bynode=None,\n",
       "             colsample_bytree=None, device=&#x27;cuda&#x27;, early_stopping_rounds=None,\n",
       "             enable_categorical=True, eval_metric=None, feature_types=None,\n",
       "             gamma=None, grow_policy=None, importance_type=None,\n",
       "             interaction_constraints=None, learning_rate=0.05, max_bin=None,\n",
       "             max_cat_threshold=None, max_cat_to_onehot=None,\n",
       "             max_delta_step=None, max_depth=20, max_leaves=None,\n",
       "             min_child_weight=None, missing=nan, monotone_constraints=None,\n",
       "             multi_strategy=None, n_estimators=2000, n_jobs=None,\n",
       "             num_parallel_tree=None, random_state=42, ...)</pre><b>In a Jupyter environment, please rerun this cell to show the HTML representation or trust the notebook. <br />On GitHub, the HTML representation is unable to render, please try loading this page with nbviewer.org.</b></div><div class=\"sk-container\" hidden><div class=\"sk-item\"><div class=\"sk-estimator fitted sk-toggleable\"><input class=\"sk-toggleable__control sk-hidden--visually\" id=\"sk-estimator-id-2\" type=\"checkbox\" checked><label for=\"sk-estimator-id-2\" class=\"sk-toggleable__label fitted sk-toggleable__label-arrow fitted\">&nbsp;XGBRegressor<span class=\"sk-estimator-doc-link fitted\">i<span>Fitted</span></span></label><div class=\"sk-toggleable__content fitted\"><pre>XGBRegressor(base_score=None, booster=None, callbacks=None,\n",
       "             colsample_bylevel=None, colsample_bynode=None,\n",
       "             colsample_bytree=None, device=&#x27;cuda&#x27;, early_stopping_rounds=None,\n",
       "             enable_categorical=True, eval_metric=None, feature_types=None,\n",
       "             gamma=None, grow_policy=None, importance_type=None,\n",
       "             interaction_constraints=None, learning_rate=0.05, max_bin=None,\n",
       "             max_cat_threshold=None, max_cat_to_onehot=None,\n",
       "             max_delta_step=None, max_depth=20, max_leaves=None,\n",
       "             min_child_weight=None, missing=nan, monotone_constraints=None,\n",
       "             multi_strategy=None, n_estimators=2000, n_jobs=None,\n",
       "             num_parallel_tree=None, random_state=42, ...)</pre></div> </div></div></div></div>"
      ],
      "text/plain": [
       "XGBRegressor(base_score=None, booster=None, callbacks=None,\n",
       "             colsample_bylevel=None, colsample_bynode=None,\n",
       "             colsample_bytree=None, device='cuda', early_stopping_rounds=None,\n",
       "             enable_categorical=True, eval_metric=None, feature_types=None,\n",
       "             gamma=None, grow_policy=None, importance_type=None,\n",
       "             interaction_constraints=None, learning_rate=0.05, max_bin=None,\n",
       "             max_cat_threshold=None, max_cat_to_onehot=None,\n",
       "             max_delta_step=None, max_depth=20, max_leaves=None,\n",
       "             min_child_weight=None, missing=nan, monotone_constraints=None,\n",
       "             multi_strategy=None, n_estimators=2000, n_jobs=None,\n",
       "             num_parallel_tree=None, random_state=42, ...)"
      ]
     },
     "execution_count": 53,
     "metadata": {},
     "output_type": "execute_result"
    }
   ],
   "source": [
    "model = xgb.XGBRegressor(objective='reg:squarederror', device = 'cuda', tree_method='hist', n_estimators=2000, learning_rate=0.05, max_depth=20, random_state=42, enable_categorical=True  )\n",
    "model.fit(X_train, y_train)"
   ]
  },
  {
   "cell_type": "code",
   "execution_count": 54,
   "id": "bb282273-cf2a-44ec-a01b-8491d13120c2",
   "metadata": {},
   "outputs": [],
   "source": [
    "y_pred = model.predict(X_test)"
   ]
  },
  {
   "cell_type": "code",
   "execution_count": 55,
   "id": "e382b1af-4832-4322-b6da-e6c3259a81aa",
   "metadata": {},
   "outputs": [
    {
     "data": {
      "text/plain": [
       "0.475639019188312"
      ]
     },
     "execution_count": 55,
     "metadata": {},
     "output_type": "execute_result"
    }
   ],
   "source": [
    "r2_score(y_test, y_pred) * 100"
   ]
  },
  {
   "cell_type": "code",
   "execution_count": 56,
   "id": "52c85a5d-03a1-43bf-a0d4-07271cb707f1",
   "metadata": {},
   "outputs": [],
   "source": [
    "y_pred = model.predict(X_train)"
   ]
  },
  {
   "cell_type": "code",
   "execution_count": 57,
   "id": "733d857e-168c-405d-953b-182b7e859730",
   "metadata": {},
   "outputs": [
    {
     "data": {
      "text/plain": [
       "99.99750353180168"
      ]
     },
     "execution_count": 57,
     "metadata": {},
     "output_type": "execute_result"
    }
   ],
   "source": [
    "r2_score(y_train, y_pred) * 100"
   ]
  },
  {
   "cell_type": "code",
   "execution_count": null,
   "id": "53ca7250-cd00-4bff-9ce4-bb6213e28b0f",
   "metadata": {},
   "outputs": [],
   "source": []
  },
  {
   "cell_type": "markdown",
   "id": "58285882-dbf4-4265-8b82-77eabf953a13",
   "metadata": {},
   "source": [
    "## Fine Wash"
   ]
  },
  {
   "cell_type": "markdown",
   "id": "530c9c5a-3919-4cfe-893a-8d9bff2da19d",
   "metadata": {},
   "source": [
    "### Load Dataset"
   ]
  },
  {
   "cell_type": "code",
   "execution_count": 4,
   "id": "6c1929e6-a11b-477f-b941-f8cbc7ed00f9",
   "metadata": {},
   "outputs": [],
   "source": [
    "RawDataset_Filename = os.path.join(\"Data\", \"GallupWB_WashedRawData17Wave_v1.parquet\")"
   ]
  },
  {
   "cell_type": "code",
   "execution_count": 5,
   "id": "1fdf1caf-e6f9-4bd3-8b03-613a42e68490",
   "metadata": {},
   "outputs": [],
   "source": [
    "RawDataset = pd.read_parquet(RawDataset_Filename)"
   ]
  },
  {
   "cell_type": "code",
   "execution_count": 6,
   "id": "d3ea54de-5c7c-49eb-ab5f-c0bc0dd9bf0b",
   "metadata": {},
   "outputs": [
    {
     "data": {
      "text/plain": [
       "(2594089, 90)"
      ]
     },
     "execution_count": 6,
     "metadata": {},
     "output_type": "execute_result"
    }
   ],
   "source": [
    "RawDataset.shape"
   ]
  },
  {
   "cell_type": "code",
   "execution_count": 7,
   "id": "ba8e261a-7b3e-4232-afcf-14bc5fda9b89",
   "metadata": {},
   "outputs": [
    {
     "name": "stdout",
     "output_type": "stream",
     "text": [
      "('wave', 0)\n",
      "('COUNTRY_ISO3', 0)\n",
      "('INCOME_1', 420409)\n",
      "('INCOME_2', 423416)\n",
      "('INCOME_3', 420411)\n",
      "('INCOME_4', 423418)\n",
      "('INCOME_5', 419801)\n",
      "('INCOME_6', 2594089)\n",
      "('INCOME_7', 419841)\n",
      "('WP16', 14604)\n",
      "('WP18', 14603)\n",
      "('WP23', 123903)\n",
      "('WP27', 151900)\n",
      "('WP30', 129145)\n",
      "('WP31', 142727)\n",
      "('WP40', 52441)\n",
      "('WP43', 49598)\n",
      "('WP60', 86371)\n",
      "('WP61', 67376)\n",
      "('WP63', 104399)\n",
      "('WP65', 69390)\n",
      "('WP67', 74033)\n",
      "('WP68', 85721)\n",
      "('WP69', 82693)\n",
      "('WP70', 83895)\n",
      "('WP71', 184749)\n",
      "('WP74', 100720)\n",
      "('WP83', 185474)\n",
      "('WP85', 310161)\n",
      "('WP86', 240808)\n",
      "('WP19472', 1719188)\n",
      "('WP88', 262622)\n",
      "('WP89', 171021)\n",
      "('WP91', 198859)\n",
      "('WP92', 200973)\n",
      "('WP93', 145248)\n",
      "('WP94', 202990)\n",
      "('WP95', 201667)\n",
      "('WP96', 2594089)\n",
      "('WP97', 238617)\n",
      "('WP98', 231858)\n",
      "('WP10248', 710990)\n",
      "('WP103', 452880)\n",
      "('WP105', 545368)\n",
      "('WP106', 262574)\n",
      "('WP108', 189759)\n",
      "('WP109', 187253)\n",
      "('WP110', 193819)\n",
      "('WP111', 675056)\n",
      "('WP112', 419460)\n",
      "('WP113', 206175)\n",
      "('WP117', 268482)\n",
      "('WP118', 786324)\n",
      "('WP119', 291689)\n",
      "('WP129', 177618)\n",
      "('WP130', 156114)\n",
      "('WP9050', 731999)\n",
      "('WP131', 408916)\n",
      "('WP132', 218748)\n",
      "('WP134', 162829)\n",
      "('WP137', 503224)\n",
      "('WP138', 392723)\n",
      "('WP139', 426999)\n",
      "('WP141', 240493)\n",
      "('WP144', 461870)\n",
      "('WP10251', 790018)\n",
      "('WP145', 294340)\n",
      "('WP146', 401409)\n",
      "('WP150', 518606)\n",
      "('WP151', 347999)\n",
      "('WP153', 420278)\n",
      "('WP155', 452531)\n",
      "('WP156', 400767)\n",
      "('WP13125', 1158474)\n",
      "('WP1219', 22)\n",
      "('WP1220', 3306)\n",
      "('WP1223', 26119)\n",
      "('EMP_2010', 433208)\n",
      "('WP1230', 80157)\n",
      "('WP1233', 303845)\n",
      "('WP2319', 146446)\n",
      "('WP4657', 230088)\n",
      "('WP9042', 2467008)\n",
      "('WP9048', 2469606)\n",
      "('WP17625', 1287824)\n",
      "('WP17626', 1412789)\n",
      "('WP16056', 1478999)\n",
      "('WP15862', 1880708)\n",
      "('WP19544', 1824015)\n",
      "('WP3117', 77184)\n"
     ]
    }
   ],
   "source": [
    "nan_counts = RawDataset.isna().sum()\n",
    "for line in zip(RawDataset.columns, nan_counts):\n",
    "    print(line)"
   ]
  },
  {
   "cell_type": "code",
   "execution_count": 26,
   "id": "25cc1de8-b984-4ad8-a104-57e25e98128f",
   "metadata": {},
   "outputs": [],
   "source": [
    "UseDataframe = RawDataset"
   ]
  },
  {
   "cell_type": "code",
   "execution_count": 92,
   "id": "316876ba-e700-4336-9f7a-867abc6a9491",
   "metadata": {},
   "outputs": [],
   "source": [
    "variable_list = []"
   ]
  },
  {
   "cell_type": "code",
   "execution_count": null,
   "id": "078fe34e-3dae-4815-8ad1-93587303c306",
   "metadata": {},
   "outputs": [],
   "source": []
  },
  {
   "cell_type": "code",
   "execution_count": null,
   "id": "a9673849-be02-4323-9fd4-28c205f9b413",
   "metadata": {},
   "outputs": [],
   "source": []
  },
  {
   "cell_type": "markdown",
   "id": "7a243367-b00e-4819-a1d2-b57c1dd02df0",
   "metadata": {},
   "source": [
    "### wave"
   ]
  },
  {
   "cell_type": "markdown",
   "id": "dee146f6-07e5-49f9-af2d-6709aba5b6b9",
   "metadata": {},
   "source": [
    "Strategies: ignore sub-wave, convert the wave into int"
   ]
  },
  {
   "cell_type": "code",
   "execution_count": 8,
   "id": "8f4ef7f6-230a-407a-932a-be63f57308d6",
   "metadata": {},
   "outputs": [
    {
     "data": {
      "text/plain": [
       "wave\n",
       "1.0     129972\n",
       "2.0     104831\n",
       "3.0     120443\n",
       "3.1       3568\n",
       "3.2       4141\n",
       "3.3       2592\n",
       "3.4       1758\n",
       "4.0      99664\n",
       "4.1      18074\n",
       "4.2      19164\n",
       "4.3       1147\n",
       "5.0     112702\n",
       "5.1      18141\n",
       "5.2      20013\n",
       "6.0     130614\n",
       "6.1      23134\n",
       "6.2      26258\n",
       "6.3       7224\n",
       "6.4       7157\n",
       "6.5       1077\n",
       "7.1     151720\n",
       "7.2      49465\n",
       "7.3      12879\n",
       "7.4      16019\n",
       "8.1     138673\n",
       "9.1     154205\n",
       "9.2      36143\n",
       "10.1    148232\n",
       "11.1    148724\n",
       "11.2      2000\n",
       "12.1    154166\n",
       "12.9      1000\n",
       "13.1    118922\n",
       "13.2     33952\n",
       "14.1    176253\n",
       "15.1    121207\n",
       "15.5      6350\n",
       "15.9      1917\n",
       "16.1    126902\n",
       "17.1    143686\n",
       "Name: count, dtype: int64"
      ]
     },
     "execution_count": 8,
     "metadata": {},
     "output_type": "execute_result"
    }
   ],
   "source": [
    "UseDataframe['wave'].value_counts().sort_index()"
   ]
  },
  {
   "cell_type": "code",
   "execution_count": 9,
   "id": "027362ce-90ab-4652-b961-408d99f20c9a",
   "metadata": {},
   "outputs": [],
   "source": [
    "UseDataframe['wave'] = UseDataframe['wave'].astype(int)"
   ]
  },
  {
   "cell_type": "code",
   "execution_count": 10,
   "id": "9d556560-de8b-4893-ae32-cb20505bfef3",
   "metadata": {},
   "outputs": [
    {
     "data": {
      "text/plain": [
       "wave\n",
       "1     129972\n",
       "2     104831\n",
       "3     132502\n",
       "4     138049\n",
       "5     150856\n",
       "6     195464\n",
       "7     230083\n",
       "8     138673\n",
       "9     190348\n",
       "10    148232\n",
       "11    150724\n",
       "12    155166\n",
       "13    152874\n",
       "14    176253\n",
       "15    129474\n",
       "16    126902\n",
       "17    143686\n",
       "Name: count, dtype: int64"
      ]
     },
     "execution_count": 10,
     "metadata": {},
     "output_type": "execute_result"
    }
   ],
   "source": [
    "UseDataframe['wave'].value_counts().sort_index()"
   ]
  },
  {
   "cell_type": "code",
   "execution_count": 93,
   "id": "f0a1fb5e-9be6-4824-a90f-07df24c84fa8",
   "metadata": {},
   "outputs": [],
   "source": [
    "variable_list.append('wave')"
   ]
  },
  {
   "cell_type": "code",
   "execution_count": null,
   "id": "292f8a34-79c7-42bd-887c-9d3de425654d",
   "metadata": {},
   "outputs": [],
   "source": []
  },
  {
   "cell_type": "markdown",
   "id": "f1fcdf74-d4b5-47f5-8fca-c1a598cd10f4",
   "metadata": {},
   "source": [
    "### INCOME_2 "
   ]
  },
  {
   "cell_type": "markdown",
   "id": "51740c1d-4aca-42be-9a6a-254ddc8d52b5",
   "metadata": {},
   "source": [
    "Use the mean value of a certain country and a specific wave to replace nan             \n",
    "The first three wave do not have the income information"
   ]
  },
  {
   "cell_type": "code",
   "execution_count": 27,
   "id": "e2d2833c-7245-499b-b2f4-86c835e75191",
   "metadata": {},
   "outputs": [],
   "source": [
    "group_means = UseDataframe.groupby(['wave', 'COUNTRY_ISO3'])['INCOME_2'].transform('mean')"
   ]
  },
  {
   "cell_type": "code",
   "execution_count": 28,
   "id": "39db911b-50cb-4bef-b4aa-6075f5a9e5b1",
   "metadata": {},
   "outputs": [
    {
     "data": {
      "text/plain": [
       "0                   NaN\n",
       "1                   NaN\n",
       "2                   NaN\n",
       "3                   NaN\n",
       "4                   NaN\n",
       "               ...     \n",
       "2594084    60673.641618\n",
       "2594085    60673.641618\n",
       "2594086    60673.641618\n",
       "2594087    60673.641618\n",
       "2594088    60673.641618\n",
       "Name: INCOME_2, Length: 2594089, dtype: float64"
      ]
     },
     "execution_count": 28,
     "metadata": {},
     "output_type": "execute_result"
    }
   ],
   "source": [
    "group_means"
   ]
  },
  {
   "cell_type": "code",
   "execution_count": 34,
   "id": "a60d4a66-c595-404c-b239-18bcd56f1889",
   "metadata": {},
   "outputs": [
    {
     "data": {
      "text/html": [
       "<div>\n",
       "<style scoped>\n",
       "    .dataframe tbody tr th:only-of-type {\n",
       "        vertical-align: middle;\n",
       "    }\n",
       "\n",
       "    .dataframe tbody tr th {\n",
       "        vertical-align: top;\n",
       "    }\n",
       "\n",
       "    .dataframe thead th {\n",
       "        text-align: right;\n",
       "    }\n",
       "</style>\n",
       "<table border=\"1\" class=\"dataframe\">\n",
       "  <thead>\n",
       "    <tr style=\"text-align: right;\">\n",
       "      <th></th>\n",
       "      <th>wave</th>\n",
       "      <th>COUNTRY_ISO3</th>\n",
       "      <th>INCOME_2</th>\n",
       "    </tr>\n",
       "  </thead>\n",
       "  <tbody>\n",
       "    <tr>\n",
       "      <th>0</th>\n",
       "      <td>1</td>\n",
       "      <td>USA</td>\n",
       "      <td>NaN</td>\n",
       "    </tr>\n",
       "    <tr>\n",
       "      <th>1</th>\n",
       "      <td>1</td>\n",
       "      <td>USA</td>\n",
       "      <td>NaN</td>\n",
       "    </tr>\n",
       "    <tr>\n",
       "      <th>2</th>\n",
       "      <td>1</td>\n",
       "      <td>USA</td>\n",
       "      <td>NaN</td>\n",
       "    </tr>\n",
       "    <tr>\n",
       "      <th>3</th>\n",
       "      <td>1</td>\n",
       "      <td>USA</td>\n",
       "      <td>NaN</td>\n",
       "    </tr>\n",
       "    <tr>\n",
       "      <th>4</th>\n",
       "      <td>1</td>\n",
       "      <td>USA</td>\n",
       "      <td>NaN</td>\n",
       "    </tr>\n",
       "    <tr>\n",
       "      <th>5</th>\n",
       "      <td>1</td>\n",
       "      <td>USA</td>\n",
       "      <td>NaN</td>\n",
       "    </tr>\n",
       "    <tr>\n",
       "      <th>6</th>\n",
       "      <td>1</td>\n",
       "      <td>USA</td>\n",
       "      <td>NaN</td>\n",
       "    </tr>\n",
       "    <tr>\n",
       "      <th>7</th>\n",
       "      <td>1</td>\n",
       "      <td>USA</td>\n",
       "      <td>NaN</td>\n",
       "    </tr>\n",
       "    <tr>\n",
       "      <th>8</th>\n",
       "      <td>1</td>\n",
       "      <td>USA</td>\n",
       "      <td>NaN</td>\n",
       "    </tr>\n",
       "    <tr>\n",
       "      <th>9</th>\n",
       "      <td>1</td>\n",
       "      <td>USA</td>\n",
       "      <td>NaN</td>\n",
       "    </tr>\n",
       "    <tr>\n",
       "      <th>10</th>\n",
       "      <td>1</td>\n",
       "      <td>USA</td>\n",
       "      <td>NaN</td>\n",
       "    </tr>\n",
       "    <tr>\n",
       "      <th>11</th>\n",
       "      <td>1</td>\n",
       "      <td>USA</td>\n",
       "      <td>NaN</td>\n",
       "    </tr>\n",
       "    <tr>\n",
       "      <th>12</th>\n",
       "      <td>1</td>\n",
       "      <td>USA</td>\n",
       "      <td>NaN</td>\n",
       "    </tr>\n",
       "    <tr>\n",
       "      <th>13</th>\n",
       "      <td>1</td>\n",
       "      <td>USA</td>\n",
       "      <td>NaN</td>\n",
       "    </tr>\n",
       "    <tr>\n",
       "      <th>14</th>\n",
       "      <td>1</td>\n",
       "      <td>USA</td>\n",
       "      <td>NaN</td>\n",
       "    </tr>\n",
       "    <tr>\n",
       "      <th>15</th>\n",
       "      <td>1</td>\n",
       "      <td>USA</td>\n",
       "      <td>NaN</td>\n",
       "    </tr>\n",
       "    <tr>\n",
       "      <th>16</th>\n",
       "      <td>1</td>\n",
       "      <td>USA</td>\n",
       "      <td>NaN</td>\n",
       "    </tr>\n",
       "    <tr>\n",
       "      <th>17</th>\n",
       "      <td>1</td>\n",
       "      <td>USA</td>\n",
       "      <td>NaN</td>\n",
       "    </tr>\n",
       "    <tr>\n",
       "      <th>18</th>\n",
       "      <td>1</td>\n",
       "      <td>USA</td>\n",
       "      <td>NaN</td>\n",
       "    </tr>\n",
       "    <tr>\n",
       "      <th>19</th>\n",
       "      <td>1</td>\n",
       "      <td>USA</td>\n",
       "      <td>NaN</td>\n",
       "    </tr>\n",
       "  </tbody>\n",
       "</table>\n",
       "</div>"
      ],
      "text/plain": [
       "    wave COUNTRY_ISO3  INCOME_2\n",
       "0      1          USA       NaN\n",
       "1      1          USA       NaN\n",
       "2      1          USA       NaN\n",
       "3      1          USA       NaN\n",
       "4      1          USA       NaN\n",
       "5      1          USA       NaN\n",
       "6      1          USA       NaN\n",
       "7      1          USA       NaN\n",
       "8      1          USA       NaN\n",
       "9      1          USA       NaN\n",
       "10     1          USA       NaN\n",
       "11     1          USA       NaN\n",
       "12     1          USA       NaN\n",
       "13     1          USA       NaN\n",
       "14     1          USA       NaN\n",
       "15     1          USA       NaN\n",
       "16     1          USA       NaN\n",
       "17     1          USA       NaN\n",
       "18     1          USA       NaN\n",
       "19     1          USA       NaN"
      ]
     },
     "execution_count": 34,
     "metadata": {},
     "output_type": "execute_result"
    }
   ],
   "source": [
    "UseDataframe[['wave', 'COUNTRY_ISO3', 'INCOME_2']].head(20)"
   ]
  },
  {
   "cell_type": "code",
   "execution_count": 35,
   "id": "d3986254-3c42-441f-a991-9103336c662c",
   "metadata": {},
   "outputs": [
    {
     "data": {
      "text/plain": [
       "129972"
      ]
     },
     "execution_count": 35,
     "metadata": {},
     "output_type": "execute_result"
    }
   ],
   "source": [
    "UseDataframe[UseDataframe['wave']==1]['INCOME_2'].isna().sum()"
   ]
  },
  {
   "cell_type": "code",
   "execution_count": 36,
   "id": "1c483058-e621-40cc-aa75-7dd298cfdadd",
   "metadata": {},
   "outputs": [
    {
     "data": {
      "text/plain": [
       "104831"
      ]
     },
     "execution_count": 36,
     "metadata": {},
     "output_type": "execute_result"
    }
   ],
   "source": [
    "UseDataframe[UseDataframe['wave']==2]['INCOME_2'].isna().sum()"
   ]
  },
  {
   "cell_type": "code",
   "execution_count": 37,
   "id": "ed728ef7-4f90-4276-992d-d577ebf08f25",
   "metadata": {},
   "outputs": [
    {
     "data": {
      "text/plain": [
       "132502"
      ]
     },
     "execution_count": 37,
     "metadata": {},
     "output_type": "execute_result"
    }
   ],
   "source": [
    "UseDataframe[UseDataframe['wave']==3]['INCOME_2'].isna().sum()"
   ]
  },
  {
   "cell_type": "code",
   "execution_count": 38,
   "id": "e21117fd-a277-4300-b597-083448b29621",
   "metadata": {},
   "outputs": [
    {
     "data": {
      "text/plain": [
       "6741"
      ]
     },
     "execution_count": 38,
     "metadata": {},
     "output_type": "execute_result"
    }
   ],
   "source": [
    "UseDataframe[UseDataframe['wave']==4]['INCOME_2'].isna().sum()"
   ]
  },
  {
   "cell_type": "code",
   "execution_count": 39,
   "id": "f31d362e-8acb-422b-8eed-77768a2a9ce2",
   "metadata": {},
   "outputs": [],
   "source": [
    "UseDataframe = UseDataframe[UseDataframe['wave']>3]"
   ]
  },
  {
   "cell_type": "code",
   "execution_count": 40,
   "id": "638b7d11-a656-444f-b328-67685f26ed60",
   "metadata": {},
   "outputs": [
    {
     "data": {
      "text/plain": [
       "(2226784, 90)"
      ]
     },
     "execution_count": 40,
     "metadata": {},
     "output_type": "execute_result"
    }
   ],
   "source": [
    "UseDataframe.shape"
   ]
  },
  {
   "cell_type": "code",
   "execution_count": 48,
   "id": "f46b9158-c248-406b-b721-c7d18963036e",
   "metadata": {},
   "outputs": [],
   "source": [
    "group_means = UseDataframe.groupby(['wave', 'COUNTRY_ISO3'])['INCOME_2'].transform('mean')"
   ]
  },
  {
   "cell_type": "code",
   "execution_count": 49,
   "id": "1707b787-2d5b-4715-a586-62f4b79d28ef",
   "metadata": {},
   "outputs": [
    {
     "name": "stderr",
     "output_type": "stream",
     "text": [
      "/tmp/ipykernel_17676/2939387626.py:1: FutureWarning: A value is trying to be set on a copy of a DataFrame or Series through chained assignment using an inplace method.\n",
      "The behavior will change in pandas 3.0. This inplace method will never work because the intermediate object on which we are setting values always behaves as a copy.\n",
      "\n",
      "For example, when doing 'df[col].method(value, inplace=True)', try using 'df.method({col: value}, inplace=True)' or df[col] = df[col].method(value) instead, to perform the operation inplace on the original object.\n",
      "\n",
      "\n",
      "  UseDataframe['INCOME_2'].fillna(group_means, inplace=True)\n",
      "/tmp/ipykernel_17676/2939387626.py:1: SettingWithCopyWarning: \n",
      "A value is trying to be set on a copy of a slice from a DataFrame\n",
      "\n",
      "See the caveats in the documentation: https://pandas.pydata.org/pandas-docs/stable/user_guide/indexing.html#returning-a-view-versus-a-copy\n",
      "  UseDataframe['INCOME_2'].fillna(group_means, inplace=True)\n"
     ]
    }
   ],
   "source": [
    "UseDataframe['INCOME_2'].fillna(group_means, inplace=True)"
   ]
  },
  {
   "cell_type": "code",
   "execution_count": 50,
   "id": "6141757b-8148-4ab9-9fd5-3e70c7dcf8f9",
   "metadata": {},
   "outputs": [
    {
     "data": {
      "text/plain": [
       "54487"
      ]
     },
     "execution_count": 50,
     "metadata": {},
     "output_type": "execute_result"
    }
   ],
   "source": [
    "UseDataframe['INCOME_2'].isna().sum()"
   ]
  },
  {
   "cell_type": "code",
   "execution_count": 51,
   "id": "3b997fda-525b-4e41-93cb-b67db82efa15",
   "metadata": {},
   "outputs": [
    {
     "data": {
      "text/plain": [
       "367305    1.351047e+01\n",
       "367306    2.296780e+06\n",
       "367307    3.512722e+05\n",
       "367308    5.404188e+04\n",
       "367309    0.000000e+00\n",
       "Name: INCOME_2, dtype: float64"
      ]
     },
     "execution_count": 51,
     "metadata": {},
     "output_type": "execute_result"
    }
   ],
   "source": [
    "UseDataframe['INCOME_2'].head()"
   ]
  },
  {
   "cell_type": "code",
   "execution_count": 55,
   "id": "b3e393ce-9cd1-4e0f-b98b-4904ab570cae",
   "metadata": {},
   "outputs": [
    {
     "data": {
      "text/html": [
       "<div>\n",
       "<style scoped>\n",
       "    .dataframe tbody tr th:only-of-type {\n",
       "        vertical-align: middle;\n",
       "    }\n",
       "\n",
       "    .dataframe tbody tr th {\n",
       "        vertical-align: top;\n",
       "    }\n",
       "\n",
       "    .dataframe thead th {\n",
       "        text-align: right;\n",
       "    }\n",
       "</style>\n",
       "<table border=\"1\" class=\"dataframe\">\n",
       "  <thead>\n",
       "    <tr style=\"text-align: right;\">\n",
       "      <th></th>\n",
       "      <th>wave</th>\n",
       "      <th>COUNTRY_ISO3</th>\n",
       "    </tr>\n",
       "  </thead>\n",
       "  <tbody>\n",
       "    <tr>\n",
       "      <th>380478</th>\n",
       "      <td>4</td>\n",
       "      <td>HKG</td>\n",
       "    </tr>\n",
       "    <tr>\n",
       "      <th>407542</th>\n",
       "      <td>4</td>\n",
       "      <td>SWE</td>\n",
       "    </tr>\n",
       "    <tr>\n",
       "      <th>460094</th>\n",
       "      <td>4</td>\n",
       "      <td>TKM</td>\n",
       "    </tr>\n",
       "    <tr>\n",
       "      <th>473859</th>\n",
       "      <td>4</td>\n",
       "      <td>MRT</td>\n",
       "    </tr>\n",
       "    <tr>\n",
       "      <th>477950</th>\n",
       "      <td>4</td>\n",
       "      <td>DJI</td>\n",
       "    </tr>\n",
       "    <tr>\n",
       "      <th>570450</th>\n",
       "      <td>5</td>\n",
       "      <td>SLE</td>\n",
       "    </tr>\n",
       "    <tr>\n",
       "      <th>587497</th>\n",
       "      <td>5</td>\n",
       "      <td>DJI</td>\n",
       "    </tr>\n",
       "    <tr>\n",
       "      <th>596017</th>\n",
       "      <td>5</td>\n",
       "      <td>LBR</td>\n",
       "    </tr>\n",
       "    <tr>\n",
       "      <th>602028</th>\n",
       "      <td>5</td>\n",
       "      <td>MNG</td>\n",
       "    </tr>\n",
       "    <tr>\n",
       "      <th>624158</th>\n",
       "      <td>5</td>\n",
       "      <td>MRT</td>\n",
       "    </tr>\n",
       "    <tr>\n",
       "      <th>637208</th>\n",
       "      <td>5</td>\n",
       "      <td>MAR</td>\n",
       "    </tr>\n",
       "    <tr>\n",
       "      <th>674298</th>\n",
       "      <td>6</td>\n",
       "      <td>HKG</td>\n",
       "    </tr>\n",
       "    <tr>\n",
       "      <th>707129</th>\n",
       "      <td>6</td>\n",
       "      <td>AGO</td>\n",
       "    </tr>\n",
       "    <tr>\n",
       "      <th>710129</th>\n",
       "      <td>6</td>\n",
       "      <td>MOZ</td>\n",
       "    </tr>\n",
       "    <tr>\n",
       "      <th>728138</th>\n",
       "      <td>6</td>\n",
       "      <td>SLE</td>\n",
       "    </tr>\n",
       "    <tr>\n",
       "      <th>761234</th>\n",
       "      <td>6</td>\n",
       "      <td>LBR</td>\n",
       "    </tr>\n",
       "    <tr>\n",
       "      <th>782273</th>\n",
       "      <td>6</td>\n",
       "      <td>TTO</td>\n",
       "    </tr>\n",
       "    <tr>\n",
       "      <th>787829</th>\n",
       "      <td>6</td>\n",
       "      <td>MAR</td>\n",
       "    </tr>\n",
       "    <tr>\n",
       "      <th>795855</th>\n",
       "      <td>6</td>\n",
       "      <td>MRT</td>\n",
       "    </tr>\n",
       "    <tr>\n",
       "      <th>799865</th>\n",
       "      <td>6</td>\n",
       "      <td>DJI</td>\n",
       "    </tr>\n",
       "    <tr>\n",
       "      <th>882017</th>\n",
       "      <td>7</td>\n",
       "      <td>HKG</td>\n",
       "    </tr>\n",
       "    <tr>\n",
       "      <th>903182</th>\n",
       "      <td>7</td>\n",
       "      <td>GHA</td>\n",
       "    </tr>\n",
       "    <tr>\n",
       "      <th>919214</th>\n",
       "      <td>7</td>\n",
       "      <td>AGO</td>\n",
       "    </tr>\n",
       "    <tr>\n",
       "      <th>923214</th>\n",
       "      <td>7</td>\n",
       "      <td>MRT</td>\n",
       "    </tr>\n",
       "    <tr>\n",
       "      <th>1141348</th>\n",
       "      <td>8</td>\n",
       "      <td>MRT</td>\n",
       "    </tr>\n",
       "    <tr>\n",
       "      <th>1159404</th>\n",
       "      <td>8</td>\n",
       "      <td>SLE</td>\n",
       "    </tr>\n",
       "    <tr>\n",
       "      <th>1194265</th>\n",
       "      <td>8</td>\n",
       "      <td>LBR</td>\n",
       "    </tr>\n",
       "    <tr>\n",
       "      <th>1211371</th>\n",
       "      <td>8</td>\n",
       "      <td>TTO</td>\n",
       "    </tr>\n",
       "    <tr>\n",
       "      <th>1283344</th>\n",
       "      <td>9</td>\n",
       "      <td>MRT</td>\n",
       "    </tr>\n",
       "    <tr>\n",
       "      <th>1301388</th>\n",
       "      <td>9</td>\n",
       "      <td>SLE</td>\n",
       "    </tr>\n",
       "    <tr>\n",
       "      <th>1338998</th>\n",
       "      <td>9</td>\n",
       "      <td>LBR</td>\n",
       "    </tr>\n",
       "    <tr>\n",
       "      <th>1472316</th>\n",
       "      <td>10</td>\n",
       "      <td>MRT</td>\n",
       "    </tr>\n",
       "    <tr>\n",
       "      <th>1491350</th>\n",
       "      <td>10</td>\n",
       "      <td>SLE</td>\n",
       "    </tr>\n",
       "    <tr>\n",
       "      <th>1526549</th>\n",
       "      <td>10</td>\n",
       "      <td>LBR</td>\n",
       "    </tr>\n",
       "    <tr>\n",
       "      <th>1619517</th>\n",
       "      <td>11</td>\n",
       "      <td>MRT</td>\n",
       "    </tr>\n",
       "    <tr>\n",
       "      <th>1773835</th>\n",
       "      <td>12</td>\n",
       "      <td>MRT</td>\n",
       "    </tr>\n",
       "    <tr>\n",
       "      <th>1885554</th>\n",
       "      <td>13</td>\n",
       "      <td>VEN</td>\n",
       "    </tr>\n",
       "    <tr>\n",
       "      <th>1911225</th>\n",
       "      <td>13</td>\n",
       "      <td>MRT</td>\n",
       "    </tr>\n",
       "    <tr>\n",
       "      <th>1913225</th>\n",
       "      <td>13</td>\n",
       "      <td>NER</td>\n",
       "    </tr>\n",
       "    <tr>\n",
       "      <th>2061411</th>\n",
       "      <td>14</td>\n",
       "      <td>VEN</td>\n",
       "    </tr>\n",
       "    <tr>\n",
       "      <th>2119615</th>\n",
       "      <td>14</td>\n",
       "      <td>ZWE</td>\n",
       "    </tr>\n",
       "    <tr>\n",
       "      <th>2227886</th>\n",
       "      <td>15</td>\n",
       "      <td>VEN</td>\n",
       "    </tr>\n",
       "    <tr>\n",
       "      <th>2264125</th>\n",
       "      <td>15</td>\n",
       "      <td>ZWE</td>\n",
       "    </tr>\n",
       "    <tr>\n",
       "      <th>2358159</th>\n",
       "      <td>16</td>\n",
       "      <td>VEN</td>\n",
       "    </tr>\n",
       "    <tr>\n",
       "      <th>2396240</th>\n",
       "      <td>16</td>\n",
       "      <td>SLE</td>\n",
       "    </tr>\n",
       "    <tr>\n",
       "      <th>2397240</th>\n",
       "      <td>16</td>\n",
       "      <td>ZWE</td>\n",
       "    </tr>\n",
       "    <tr>\n",
       "      <th>2453422</th>\n",
       "      <td>17</td>\n",
       "      <td>LBN</td>\n",
       "    </tr>\n",
       "    <tr>\n",
       "      <th>2474481</th>\n",
       "      <td>17</td>\n",
       "      <td>IRN</td>\n",
       "    </tr>\n",
       "    <tr>\n",
       "      <th>2525566</th>\n",
       "      <td>17</td>\n",
       "      <td>ZWE</td>\n",
       "    </tr>\n",
       "    <tr>\n",
       "      <th>2556989</th>\n",
       "      <td>17</td>\n",
       "      <td>JAM</td>\n",
       "    </tr>\n",
       "    <tr>\n",
       "      <th>2591089</th>\n",
       "      <td>17</td>\n",
       "      <td>YEM</td>\n",
       "    </tr>\n",
       "  </tbody>\n",
       "</table>\n",
       "</div>"
      ],
      "text/plain": [
       "         wave COUNTRY_ISO3\n",
       "380478      4          HKG\n",
       "407542      4          SWE\n",
       "460094      4          TKM\n",
       "473859      4          MRT\n",
       "477950      4          DJI\n",
       "570450      5          SLE\n",
       "587497      5          DJI\n",
       "596017      5          LBR\n",
       "602028      5          MNG\n",
       "624158      5          MRT\n",
       "637208      5          MAR\n",
       "674298      6          HKG\n",
       "707129      6          AGO\n",
       "710129      6          MOZ\n",
       "728138      6          SLE\n",
       "761234      6          LBR\n",
       "782273      6          TTO\n",
       "787829      6          MAR\n",
       "795855      6          MRT\n",
       "799865      6          DJI\n",
       "882017      7          HKG\n",
       "903182      7          GHA\n",
       "919214      7          AGO\n",
       "923214      7          MRT\n",
       "1141348     8          MRT\n",
       "1159404     8          SLE\n",
       "1194265     8          LBR\n",
       "1211371     8          TTO\n",
       "1283344     9          MRT\n",
       "1301388     9          SLE\n",
       "1338998     9          LBR\n",
       "1472316    10          MRT\n",
       "1491350    10          SLE\n",
       "1526549    10          LBR\n",
       "1619517    11          MRT\n",
       "1773835    12          MRT\n",
       "1885554    13          VEN\n",
       "1911225    13          MRT\n",
       "1913225    13          NER\n",
       "2061411    14          VEN\n",
       "2119615    14          ZWE\n",
       "2227886    15          VEN\n",
       "2264125    15          ZWE\n",
       "2358159    16          VEN\n",
       "2396240    16          SLE\n",
       "2397240    16          ZWE\n",
       "2453422    17          LBN\n",
       "2474481    17          IRN\n",
       "2525566    17          ZWE\n",
       "2556989    17          JAM\n",
       "2591089    17          YEM"
      ]
     },
     "execution_count": 55,
     "metadata": {},
     "output_type": "execute_result"
    }
   ],
   "source": [
    "UseDataframe[UseDataframe['INCOME_2'].isna()][['wave', 'COUNTRY_ISO3']].drop_duplicates()"
   ]
  },
  {
   "cell_type": "code",
   "execution_count": 56,
   "id": "5aaf14b3-3795-4338-b4b0-c8a75a4e0428",
   "metadata": {},
   "outputs": [
    {
     "name": "stderr",
     "output_type": "stream",
     "text": [
      "/tmp/ipykernel_17676/3867857424.py:1: SettingWithCopyWarning: \n",
      "A value is trying to be set on a copy of a slice from a DataFrame\n",
      "\n",
      "See the caveats in the documentation: https://pandas.pydata.org/pandas-docs/stable/user_guide/indexing.html#returning-a-view-versus-a-copy\n",
      "  UseDataframe.dropna(subset=['INCOME_2'], inplace=True)\n"
     ]
    }
   ],
   "source": [
    "UseDataframe.dropna(subset=['INCOME_2'], inplace=True)"
   ]
  },
  {
   "cell_type": "code",
   "execution_count": 57,
   "id": "b011ce15-0c05-4a5b-84d2-d7cccab4bf2a",
   "metadata": {},
   "outputs": [
    {
     "data": {
      "text/plain": [
       "(2172297, 90)"
      ]
     },
     "execution_count": 57,
     "metadata": {},
     "output_type": "execute_result"
    }
   ],
   "source": [
    "UseDataframe.shape"
   ]
  },
  {
   "cell_type": "code",
   "execution_count": 94,
   "id": "602e95a4-b2a8-4c87-b69a-df5a30837899",
   "metadata": {},
   "outputs": [],
   "source": [
    "variable_list.append('INCOME_2')"
   ]
  },
  {
   "cell_type": "markdown",
   "id": "6f46fc4f-3d59-4f65-9ca9-763236b5bbf6",
   "metadata": {},
   "source": [
    "### WP16 Cantril_ladder"
   ]
  },
  {
   "cell_type": "markdown",
   "id": "59d45f31-15d3-4f34-9b9e-ec7465054cb7",
   "metadata": {},
   "source": [
    "Strategy: drop nan and 98 99"
   ]
  },
  {
   "cell_type": "code",
   "execution_count": 58,
   "id": "1b08a8c8-74ae-4566-9f69-6663f6094a83",
   "metadata": {},
   "outputs": [
    {
     "data": {
      "text/plain": [
       "WP16\n",
       "0.0      73578\n",
       "1.0      62604\n",
       "2.0      97966\n",
       "3.0     172163\n",
       "4.0     209659\n",
       "5.0     490301\n",
       "6.0     260946\n",
       "7.0     291434\n",
       "8.0     264732\n",
       "9.0      94978\n",
       "10.0    123472\n",
       "98.0     22772\n",
       "99.0      2314\n",
       "Name: count, dtype: int64"
      ]
     },
     "execution_count": 58,
     "metadata": {},
     "output_type": "execute_result"
    }
   ],
   "source": [
    "UseDataframe['WP16'].value_counts().sort_index()"
   ]
  },
  {
   "cell_type": "code",
   "execution_count": 59,
   "id": "3041923d-3851-45d3-9b55-1bc23579c716",
   "metadata": {},
   "outputs": [
    {
     "name": "stderr",
     "output_type": "stream",
     "text": [
      "/tmp/ipykernel_17676/1026486328.py:1: SettingWithCopyWarning: \n",
      "A value is trying to be set on a copy of a slice from a DataFrame.\n",
      "Try using .loc[row_indexer,col_indexer] = value instead\n",
      "\n",
      "See the caveats in the documentation: https://pandas.pydata.org/pandas-docs/stable/user_guide/indexing.html#returning-a-view-versus-a-copy\n",
      "  UseDataframe['Cantril_ladder'] = UseDataframe['WP16']\n"
     ]
    }
   ],
   "source": [
    "UseDataframe['Cantril_ladder'] = UseDataframe['WP16']"
   ]
  },
  {
   "cell_type": "code",
   "execution_count": 60,
   "id": "3b4c8be2-be4e-4d12-9fbf-769e86ca38e0",
   "metadata": {},
   "outputs": [],
   "source": [
    "UseDataframe = UseDataframe[UseDataframe['Cantril_ladder'] < 11] "
   ]
  },
  {
   "cell_type": "code",
   "execution_count": 61,
   "id": "e9812999-056d-4a91-bdac-5f0a132151e1",
   "metadata": {},
   "outputs": [
    {
     "data": {
      "text/plain": [
       "(2141833, 91)"
      ]
     },
     "execution_count": 61,
     "metadata": {},
     "output_type": "execute_result"
    }
   ],
   "source": [
    "UseDataframe.shape"
   ]
  },
  {
   "cell_type": "code",
   "execution_count": 95,
   "id": "d5d37863-7808-4871-bdfc-46dbededcc0d",
   "metadata": {},
   "outputs": [],
   "source": [
    "variable_list.append('Cantril_ladder')"
   ]
  },
  {
   "cell_type": "markdown",
   "id": "9723b752-299f-445d-9614-489706f52cca",
   "metadata": {},
   "source": [
    "### WP23 Health_disable"
   ]
  },
  {
   "cell_type": "markdown",
   "id": "a592b10d-7417-4115-8d1c-40c082985706",
   "metadata": {},
   "source": [
    "Strategy: drop nan"
   ]
  },
  {
   "cell_type": "code",
   "execution_count": 62,
   "id": "0b7ba2a5-5b45-4515-88fa-929d117dce3c",
   "metadata": {},
   "outputs": [
    {
     "data": {
      "text/plain": [
       "WP23\n",
       "1.0     498053\n",
       "2.0    1527750\n",
       "3.0       7607\n",
       "4.0       1904\n",
       "Name: count, dtype: int64"
      ]
     },
     "execution_count": 62,
     "metadata": {},
     "output_type": "execute_result"
    }
   ],
   "source": [
    "UseDataframe['WP23'].value_counts().sort_index()"
   ]
  },
  {
   "cell_type": "code",
   "execution_count": 63,
   "id": "a31bd89b-ee4c-419e-b423-8c618dc30988",
   "metadata": {},
   "outputs": [],
   "source": [
    "UseDataframe['Health_disable'] = UseDataframe['WP23']"
   ]
  },
  {
   "cell_type": "code",
   "execution_count": 64,
   "id": "106957e7-6309-4cce-be05-d8926c741d83",
   "metadata": {},
   "outputs": [],
   "source": [
    "UseDataframe = UseDataframe[UseDataframe['Health_disable'] < 3] "
   ]
  },
  {
   "cell_type": "code",
   "execution_count": 65,
   "id": "5c2b9bd1-7661-44ec-a282-5980195f08ed",
   "metadata": {},
   "outputs": [
    {
     "data": {
      "text/plain": [
       "(2025803, 92)"
      ]
     },
     "execution_count": 65,
     "metadata": {},
     "output_type": "execute_result"
    }
   ],
   "source": [
    "UseDataframe.shape"
   ]
  },
  {
   "cell_type": "code",
   "execution_count": 67,
   "id": "4b48b8da-a260-409a-a555-1963f028e02a",
   "metadata": {},
   "outputs": [
    {
     "data": {
      "text/plain": [
       "0"
      ]
     },
     "execution_count": 67,
     "metadata": {},
     "output_type": "execute_result"
    }
   ],
   "source": [
    "UseDataframe['WP23'].isna().sum()"
   ]
  },
  {
   "cell_type": "code",
   "execution_count": 68,
   "id": "3093d896-4e7c-4e0b-9e3a-336baf839efa",
   "metadata": {},
   "outputs": [
    {
     "data": {
      "text/plain": [
       "WP23\n",
       "1.0     498053\n",
       "2.0    1527750\n",
       "Name: count, dtype: int64"
      ]
     },
     "execution_count": 68,
     "metadata": {},
     "output_type": "execute_result"
    }
   ],
   "source": [
    "UseDataframe['WP23'].value_counts().sort_index()"
   ]
  },
  {
   "cell_type": "code",
   "execution_count": 71,
   "id": "52d513b1-4609-488a-b3af-a2ddfac9d60c",
   "metadata": {},
   "outputs": [],
   "source": [
    "UseDataframe['WP23'] = np.abs(UseDataframe['WP23']-2)"
   ]
  },
  {
   "cell_type": "code",
   "execution_count": 72,
   "id": "7a39f42c-9344-484b-bd19-05c38ce4901b",
   "metadata": {},
   "outputs": [
    {
     "data": {
      "text/plain": [
       "WP23\n",
       "0.0    1527750\n",
       "1.0     498053\n",
       "Name: count, dtype: int64"
      ]
     },
     "execution_count": 72,
     "metadata": {},
     "output_type": "execute_result"
    }
   ],
   "source": [
    "UseDataframe['WP23'].value_counts().sort_index()"
   ]
  },
  {
   "cell_type": "code",
   "execution_count": 96,
   "id": "886bf008-9fb2-4bbd-a5e4-db73323c80fc",
   "metadata": {},
   "outputs": [],
   "source": [
    "variable_list.append('Health_disable')"
   ]
  },
  {
   "cell_type": "markdown",
   "id": "1d1d39c5-dd1e-45d1-a320-485c66910d78",
   "metadata": {},
   "source": [
    "### WP27 Relative_have"
   ]
  },
  {
   "cell_type": "markdown",
   "id": "e198c8e7-8cdb-47d7-a19a-06bb93664643",
   "metadata": {},
   "source": [
    "Strategy: Yes is yes 1 is 1, "
   ]
  },
  {
   "cell_type": "code",
   "execution_count": 73,
   "id": "0a0e7d89-912a-44d0-b29e-501dd0609c27",
   "metadata": {},
   "outputs": [
    {
     "data": {
      "text/plain": [
       "WP27\n",
       "1.0    1584543\n",
       "2.0     370031\n",
       "3.0      17400\n",
       "4.0       1674\n",
       "Name: count, dtype: int64"
      ]
     },
     "execution_count": 73,
     "metadata": {},
     "output_type": "execute_result"
    }
   ],
   "source": [
    "UseDataframe['WP27'].value_counts().sort_index()"
   ]
  },
  {
   "cell_type": "code",
   "execution_count": 74,
   "id": "8e45414b-613d-482f-af70-7ee01fba0dbf",
   "metadata": {},
   "outputs": [
    {
     "data": {
      "text/plain": [
       "52155"
      ]
     },
     "execution_count": 74,
     "metadata": {},
     "output_type": "execute_result"
    }
   ],
   "source": [
    "UseDataframe['WP27'].isna().sum()"
   ]
  },
  {
   "cell_type": "code",
   "execution_count": 76,
   "id": "e481ff69-9b03-463b-b3b4-f3c935a46682",
   "metadata": {},
   "outputs": [],
   "source": [
    "UseDataframe['WP27'] = UseDataframe['WP27'].fillna(2)"
   ]
  },
  {
   "cell_type": "code",
   "execution_count": 77,
   "id": "5ee0469f-e4ab-45f9-b339-beeba6a7c65f",
   "metadata": {},
   "outputs": [
    {
     "data": {
      "text/plain": [
       "0"
      ]
     },
     "execution_count": 77,
     "metadata": {},
     "output_type": "execute_result"
    }
   ],
   "source": [
    "UseDataframe['WP27'].isna().sum()"
   ]
  },
  {
   "cell_type": "code",
   "execution_count": 82,
   "id": "f18f1da2-5ecf-434b-bc06-c09a47c06404",
   "metadata": {},
   "outputs": [],
   "source": [
    "UseDataframe.loc[UseDataframe['WP27'] > 1, 'WP27'] = 0"
   ]
  },
  {
   "cell_type": "code",
   "execution_count": 83,
   "id": "f4d1d627-c074-455a-908a-6450100b2456",
   "metadata": {},
   "outputs": [
    {
     "data": {
      "text/plain": [
       "WP27\n",
       "0.0     441260\n",
       "1.0    1584543\n",
       "Name: count, dtype: int64"
      ]
     },
     "execution_count": 83,
     "metadata": {},
     "output_type": "execute_result"
    }
   ],
   "source": [
    "UseDataframe['WP27'].value_counts().sort_index()"
   ]
  },
  {
   "cell_type": "code",
   "execution_count": 84,
   "id": "401a908e-63ce-485a-81b6-9218b58615e1",
   "metadata": {},
   "outputs": [],
   "source": [
    "UseDataframe['Relative_have'] = UseDataframe['WP27']"
   ]
  },
  {
   "cell_type": "code",
   "execution_count": 97,
   "id": "fb861faa-3501-4da3-848b-b791cb923fbb",
   "metadata": {},
   "outputs": [],
   "source": [
    "variable_list.append('Relative_have')"
   ]
  },
  {
   "cell_type": "markdown",
   "id": "2a3ad581-d209-41f4-8441-db07f7ea1a6e",
   "metadata": {},
   "source": [
    "### WP31 Living_standard_change"
   ]
  },
  {
   "cell_type": "markdown",
   "id": "5c1b539c-e411-44c8-8c73-b74b28c35b68",
   "metadata": {},
   "source": [
    "Better is better (1), bad is bad (-1)"
   ]
  },
  {
   "cell_type": "code",
   "execution_count": 85,
   "id": "08feab1a-7a6d-45a9-9453-4ba9806abeec",
   "metadata": {},
   "outputs": [],
   "source": [
    "UseDataframe['Living_standard_change'] = UseDataframe['WP31']"
   ]
  },
  {
   "cell_type": "code",
   "execution_count": 86,
   "id": "64a51392-d48d-4f76-855a-69b337baf5cf",
   "metadata": {},
   "outputs": [
    {
     "data": {
      "text/plain": [
       "91707"
      ]
     },
     "execution_count": 86,
     "metadata": {},
     "output_type": "execute_result"
    }
   ],
   "source": [
    "UseDataframe['Living_standard_change'].isna().sum()"
   ]
  },
  {
   "cell_type": "code",
   "execution_count": 87,
   "id": "0b6db5be-9b2c-4343-91c6-8a37cdd40004",
   "metadata": {},
   "outputs": [],
   "source": [
    "UseDataframe['Living_standard_change'] = UseDataframe['Living_standard_change'].fillna(2)"
   ]
  },
  {
   "cell_type": "code",
   "execution_count": 88,
   "id": "156bc0d8-0cd9-4806-a819-7f5275ee8d5d",
   "metadata": {},
   "outputs": [
    {
     "data": {
      "text/plain": [
       "Living_standard_change\n",
       "1.0    876140\n",
       "2.0    594264\n",
       "3.0    529747\n",
       "4.0     23308\n",
       "5.0      2344\n",
       "Name: count, dtype: int64"
      ]
     },
     "execution_count": 88,
     "metadata": {},
     "output_type": "execute_result"
    }
   ],
   "source": [
    "UseDataframe['Living_standard_change'].value_counts().sort_index()"
   ]
  },
  {
   "cell_type": "code",
   "execution_count": 89,
   "id": "488fc0a8-5180-40c0-b2fb-85c6e1d39451",
   "metadata": {},
   "outputs": [],
   "source": [
    "UseDataframe.loc[UseDataframe['Living_standard_change'] > 3, 'Living_standard_change'] = 2"
   ]
  },
  {
   "cell_type": "code",
   "execution_count": 90,
   "id": "957c4faa-f67b-4de4-8736-8fde357566d2",
   "metadata": {},
   "outputs": [],
   "source": [
    "UseDataframe['Living_standard_change'] = -(UseDataframe['Living_standard_change'] - 2)"
   ]
  },
  {
   "cell_type": "code",
   "execution_count": 91,
   "id": "356c01f8-eff2-43f2-9886-600b26fb5ebf",
   "metadata": {},
   "outputs": [
    {
     "data": {
      "text/plain": [
       "Living_standard_change\n",
       "-1.0    529747\n",
       "-0.0    619916\n",
       " 1.0    876140\n",
       "Name: count, dtype: int64"
      ]
     },
     "execution_count": 91,
     "metadata": {},
     "output_type": "execute_result"
    }
   ],
   "source": [
    "UseDataframe['Living_standard_change'].value_counts().sort_index()"
   ]
  },
  {
   "cell_type": "code",
   "execution_count": 98,
   "id": "9aea80d8-976c-4759-baa0-a088da60fc46",
   "metadata": {},
   "outputs": [],
   "source": [
    "variable_list.append('Living_standard_change')"
   ]
  },
  {
   "cell_type": "code",
   "execution_count": 99,
   "id": "11576710-b329-4d14-b17e-47853a7974e4",
   "metadata": {},
   "outputs": [
    {
     "data": {
      "text/plain": [
       "(2025803, 94)"
      ]
     },
     "execution_count": 99,
     "metadata": {},
     "output_type": "execute_result"
    }
   ],
   "source": [
    "UseDataframe.shape"
   ]
  },
  {
   "cell_type": "code",
   "execution_count": null,
   "id": "307edf83-002e-43ea-8c01-8bcda8ee65f4",
   "metadata": {},
   "outputs": [],
   "source": []
  },
  {
   "cell_type": "markdown",
   "id": "209ebec5-ceb4-4d8c-969b-27f354287c98",
   "metadata": {},
   "source": [
    "### WP40 WP43 Enough_food Enough_shelter"
   ]
  },
  {
   "cell_type": "markdown",
   "id": "181e5910-5af5-411f-ae61-110d25828143",
   "metadata": {},
   "source": [
    "yes is yes 1"
   ]
  },
  {
   "cell_type": "code",
   "execution_count": 113,
   "id": "2efd5ec2-4999-450c-b3fd-fbfbbec5c43b",
   "metadata": {},
   "outputs": [],
   "source": [
    "name_list = ['Enough_food', 'Enough_shelter']"
   ]
  },
  {
   "cell_type": "code",
   "execution_count": 100,
   "id": "81f04125-2d1e-4c4d-98e9-8da67ed565b6",
   "metadata": {},
   "outputs": [],
   "source": [
    "UseDataframe['Enough_food'] = UseDataframe['WP40']\n",
    "UseDataframe['Enough_shelter'] = UseDataframe['WP43']"
   ]
  },
  {
   "cell_type": "code",
   "execution_count": 101,
   "id": "dee84b7d-2117-4780-9859-65f750768c49",
   "metadata": {},
   "outputs": [
    {
     "data": {
      "text/plain": [
       "11253"
      ]
     },
     "execution_count": 101,
     "metadata": {},
     "output_type": "execute_result"
    }
   ],
   "source": [
    "UseDataframe['Enough_food'].isna().sum()"
   ]
  },
  {
   "cell_type": "code",
   "execution_count": 102,
   "id": "fe00aca9-6b1b-4158-a716-642a84421a07",
   "metadata": {},
   "outputs": [
    {
     "data": {
      "text/plain": [
       "9195"
      ]
     },
     "execution_count": 102,
     "metadata": {},
     "output_type": "execute_result"
    }
   ],
   "source": [
    "UseDataframe['Enough_shelter'].isna().sum()"
   ]
  },
  {
   "cell_type": "code",
   "execution_count": 103,
   "id": "f7056019-8ef9-473b-bcc1-b82ee9cb989f",
   "metadata": {},
   "outputs": [],
   "source": [
    "UseDataframe['Enough_food'] = UseDataframe['Enough_food'].fillna(2)\n",
    "UseDataframe['Enough_shelter'] = UseDataframe['Enough_shelter'].fillna(2)"
   ]
  },
  {
   "cell_type": "code",
   "execution_count": 107,
   "id": "711076a0-d59f-4191-8be7-eac90cde1ad9",
   "metadata": {},
   "outputs": [
    {
     "name": "stdout",
     "output_type": "stream",
     "text": [
      "Enough_food\n",
      "0.0    1378238\n",
      "1.0     647565\n",
      "Name: count, dtype: int64\n",
      "Enough_shelter\n",
      "0.0    1533964\n",
      "1.0     491839\n",
      "Name: count, dtype: int64\n"
     ]
    }
   ],
   "source": [
    "for name in name_list:\n",
    "    UseDataframe.loc[UseDataframe[name] > 1, name] = 0\n",
    "    print(UseDataframe[name].value_counts().sort_index())"
   ]
  },
  {
   "cell_type": "code",
   "execution_count": 115,
   "id": "d7636f53-4ee0-4388-abec-ba1d0bbb937d",
   "metadata": {},
   "outputs": [],
   "source": [
    "variable_list = variable_list + name_list"
   ]
  },
  {
   "cell_type": "markdown",
   "id": "2578d5fe-825f-4af1-8b97-239276535cfa",
   "metadata": {},
   "source": [
    "### WP60, WP61, WP63, WP65 -> Well_rested, Respected, Smile, Interesting_thing"
   ]
  },
  {
   "cell_type": "markdown",
   "id": "2379125c-3e22-41b5-a278-01093d69897f",
   "metadata": {},
   "source": [
    "yes is yes 1"
   ]
  },
  {
   "cell_type": "code",
   "execution_count": 120,
   "id": "8d3c89ec-d6b4-43f3-87bc-98526b65ff2b",
   "metadata": {},
   "outputs": [],
   "source": [
    "name_list = [\"Well_rested\", \"Respected\", \"Smile\", \"Interesting_thing\"]"
   ]
  },
  {
   "cell_type": "code",
   "execution_count": 109,
   "id": "cfefc33c-78cb-412f-8908-b43b5012a834",
   "metadata": {},
   "outputs": [],
   "source": [
    "code_list = [\"WP60\", \"WP61\", \"WP63\", \"WP65\"]"
   ]
  },
  {
   "cell_type": "code",
   "execution_count": 112,
   "id": "fd7714a3-921b-4e44-b089-2d08eb6b96d0",
   "metadata": {},
   "outputs": [
    {
     "name": "stdout",
     "output_type": "stream",
     "text": [
      "WP60\n",
      "1.0    1366481\n",
      "2.0     638632\n",
      "3.0      11186\n",
      "4.0       1775\n",
      "Name: count, dtype: int64\n",
      "Well_rested\n",
      "0.0     659322\n",
      "1.0    1366481\n",
      "Name: count, dtype: int64\n",
      "WP61\n",
      "1.0    1750163\n",
      "2.0     232679\n",
      "3.0      30986\n",
      "4.0       3246\n",
      "Name: count, dtype: int64\n",
      "Respected\n",
      "0.0     275640\n",
      "1.0    1750163\n",
      "Name: count, dtype: int64\n",
      "WP63\n",
      "1.0    1422632\n",
      "2.0     546695\n",
      "3.0      30055\n",
      "4.0       2815\n",
      "Name: count, dtype: int64\n",
      "Smile\n",
      "0.0     603171\n",
      "1.0    1422632\n",
      "Name: count, dtype: int64\n",
      "WP65\n",
      "1.0    1053008\n",
      "2.0     934731\n",
      "3.0      27736\n",
      "4.0       2599\n",
      "Name: count, dtype: int64\n",
      "Interesting_thing\n",
      "0.0     972795\n",
      "1.0    1053008\n",
      "Name: count, dtype: int64\n"
     ]
    }
   ],
   "source": [
    "for code, name in zip(code_list, name_list):\n",
    "    print(UseDataframe[code].value_counts().sort_index())\n",
    "    UseDataframe[name] = UseDataframe[code]\n",
    "    UseDataframe[name] = UseDataframe[name].fillna(2)\n",
    "    UseDataframe.loc[UseDataframe[name] > 1, name] = 0\n",
    "    print(UseDataframe[name].value_counts().sort_index())"
   ]
  },
  {
   "cell_type": "code",
   "execution_count": 121,
   "id": "b7e1f6cd-7f8c-4139-a35a-65897194b1dc",
   "metadata": {},
   "outputs": [],
   "source": [
    "variable_list = variable_list + name_list"
   ]
  },
  {
   "cell_type": "code",
   "execution_count": 122,
   "id": "2ec4b22a-827a-45af-a8f6-9def6dad9f1f",
   "metadata": {},
   "outputs": [
    {
     "data": {
      "text/plain": [
       "['wave',\n",
       " 'INCOME_2',\n",
       " 'Cantril_ladder',\n",
       " 'Health_disable',\n",
       " 'Relative_have',\n",
       " 'Living_standard_change',\n",
       " 'Enough_food',\n",
       " 'Enough_shelter',\n",
       " 'Well_rested',\n",
       " 'Respected',\n",
       " 'Smile',\n",
       " 'Interesting_thing']"
      ]
     },
     "execution_count": 122,
     "metadata": {},
     "output_type": "execute_result"
    }
   ],
   "source": [
    "variable_list"
   ]
  },
  {
   "cell_type": "markdown",
   "id": "5cea6ec0-2e7b-4b5e-b446-600142fcfa69",
   "metadata": {},
   "source": [
    "### WP67, WP68, WP69, WP70, WP71, WP74 -> Enjoyment, Physical_pain, Worry, Sadness, Stress, Anger"
   ]
  },
  {
   "cell_type": "code",
   "execution_count": 123,
   "id": "7920ae7b-a855-470b-885b-784634eb8a31",
   "metadata": {},
   "outputs": [],
   "source": [
    "name_list = [\"Enjoyment\", \"Physical_pain\", \"Worry\", \"Sadness\", \"Stress\", \"Anger\"]"
   ]
  },
  {
   "cell_type": "code",
   "execution_count": 124,
   "id": "3c1c5711-d104-4bc2-b3bb-3fa421be1fd7",
   "metadata": {},
   "outputs": [],
   "source": [
    "code_list = [\"WP67\", \"WP68\", \"WP69\", \"WP70\", \"WP71\", \"WP74\"]"
   ]
  },
  {
   "cell_type": "code",
   "execution_count": 125,
   "id": "5ee62738-2d96-4a9b-95f1-5e0f1dbc065b",
   "metadata": {},
   "outputs": [
    {
     "name": "stdout",
     "output_type": "stream",
     "text": [
      "WP67\n",
      "1.0    1395182\n",
      "2.0     591071\n",
      "3.0      22200\n",
      "4.0       2746\n",
      "Name: count, dtype: int64\n",
      "Enjoyment\n",
      "0.0     630621\n",
      "1.0    1395182\n",
      "Name: count, dtype: int64\n",
      "WP68\n",
      "1.0     617655\n",
      "2.0    1392067\n",
      "3.0       6922\n",
      "4.0       1589\n",
      "Name: count, dtype: int64\n",
      "Physical_pain\n",
      "0.0    1408148\n",
      "1.0     617655\n",
      "Name: count, dtype: int64\n",
      "WP69\n",
      "1.0     764019\n",
      "2.0    1243966\n",
      "3.0      10432\n",
      "4.0       1843\n",
      "Name: count, dtype: int64\n",
      "Worry\n",
      "0.0    1261784\n",
      "1.0     764019\n",
      "Name: count, dtype: int64\n",
      "WP70\n",
      "1.0     470856\n",
      "2.0    1535494\n",
      "3.0      11664\n",
      "4.0       2245\n",
      "Name: count, dtype: int64\n",
      "Sadness\n",
      "0.0    1554947\n",
      "1.0     470856\n",
      "Name: count, dtype: int64\n",
      "WP71\n",
      "1.0     663219\n",
      "2.0    1323312\n",
      "3.0      14577\n",
      "4.0       2213\n",
      "Name: count, dtype: int64\n",
      "Stress\n",
      "0.0    1362584\n",
      "1.0     663219\n",
      "Name: count, dtype: int64\n",
      "WP74\n",
      "1.0     398760\n",
      "2.0    1593233\n",
      "3.0      11021\n",
      "4.0       2339\n",
      "Name: count, dtype: int64\n",
      "Anger\n",
      "0.0    1627043\n",
      "1.0     398760\n",
      "Name: count, dtype: int64\n"
     ]
    }
   ],
   "source": [
    "for code, name in zip(code_list, name_list):\n",
    "    print(UseDataframe[code].value_counts().sort_index())\n",
    "    UseDataframe[name] = UseDataframe[code]\n",
    "    UseDataframe[name] = UseDataframe[name].fillna(2)\n",
    "    UseDataframe.loc[UseDataframe[name] > 1, name] = 0\n",
    "    print(UseDataframe[name].value_counts().sort_index())"
   ]
  },
  {
   "cell_type": "code",
   "execution_count": 126,
   "id": "944014f0-5eba-40f2-baf5-5059e8e85b20",
   "metadata": {},
   "outputs": [],
   "source": [
    "variable_list = variable_list + name_list"
   ]
  },
  {
   "cell_type": "code",
   "execution_count": 127,
   "id": "49e80bf8-cd04-4cd8-b70f-26f039476758",
   "metadata": {},
   "outputs": [
    {
     "data": {
      "text/plain": [
       "['wave',\n",
       " 'INCOME_2',\n",
       " 'Cantril_ladder',\n",
       " 'Health_disable',\n",
       " 'Relative_have',\n",
       " 'Living_standard_change',\n",
       " 'Enough_food',\n",
       " 'Enough_shelter',\n",
       " 'Well_rested',\n",
       " 'Respected',\n",
       " 'Smile',\n",
       " 'Interesting_thing',\n",
       " 'Enjoyment',\n",
       " 'Physical_pain',\n",
       " 'Worry',\n",
       " 'Sadness',\n",
       " 'Stress',\n",
       " 'Anger']"
      ]
     },
     "execution_count": 127,
     "metadata": {},
     "output_type": "execute_result"
    }
   ],
   "source": [
    "variable_list"
   ]
  },
  {
   "cell_type": "code",
   "execution_count": null,
   "id": "b6984fa5-dc2f-4c25-b19c-1388e1878d0e",
   "metadata": {},
   "outputs": [],
   "source": []
  },
  {
   "cell_type": "markdown",
   "id": "75530eb8-59df-4d96-90cf-421115ad7eae",
   "metadata": {},
   "source": [
    "### WP83 -> City_satisficied"
   ]
  },
  {
   "cell_type": "code",
   "execution_count": 128,
   "id": "cb7dd528-3865-4e05-9656-037e25ac6f72",
   "metadata": {},
   "outputs": [],
   "source": [
    "code = 'WP83'"
   ]
  },
  {
   "cell_type": "code",
   "execution_count": 129,
   "id": "188eac2c-82d2-40a4-9be0-161f6e463af4",
   "metadata": {},
   "outputs": [],
   "source": [
    "name = 'City_satisficied'"
   ]
  },
  {
   "cell_type": "code",
   "execution_count": 130,
   "id": "de46b11e-87f2-46bd-9a18-5c03c916881b",
   "metadata": {},
   "outputs": [
    {
     "name": "stdout",
     "output_type": "stream",
     "text": [
      "WP83\n",
      "1.0    1535104\n",
      "2.0     409090\n",
      "3.0      19901\n",
      "4.0       2273\n",
      "Name: count, dtype: int64\n",
      "City_satisficied\n",
      "0.0     490699\n",
      "1.0    1535104\n",
      "Name: count, dtype: int64\n"
     ]
    }
   ],
   "source": [
    "print(UseDataframe[code].value_counts().sort_index())\n",
    "UseDataframe[name] = UseDataframe[code]\n",
    "UseDataframe[name] = UseDataframe[name].fillna(2)\n",
    "UseDataframe.loc[UseDataframe[name] > 1, name] = 0\n",
    "print(UseDataframe[name].value_counts().sort_index())"
   ]
  },
  {
   "cell_type": "code",
   "execution_count": null,
   "id": "b9de6b22-8eaf-48e1-86b7-6298073b7da5",
   "metadata": {},
   "outputs": [],
   "source": []
  },
  {
   "cell_type": "markdown",
   "id": "b9d2fdbe-ff38-476c-b251-3a7056cc7a8f",
   "metadata": {},
   "source": [
    "### WP19472 "
   ]
  },
  {
   "cell_type": "code",
   "execution_count": 131,
   "id": "18e99825-7803-4b7b-a080-e69d3d20df49",
   "metadata": {},
   "outputs": [],
   "source": [
    "code = 'WP19472'"
   ]
  },
  {
   "cell_type": "code",
   "execution_count": 133,
   "id": "4cd76e19-fb0e-48c0-ac6f-7959e0a6b750",
   "metadata": {},
   "outputs": [
    {
     "name": "stdout",
     "output_type": "stream",
     "text": [
      "WP19472\n",
      "1.0    166101\n",
      "2.0    351457\n",
      "3.0    254275\n",
      "4.0     56604\n",
      "8.0     11860\n",
      "9.0       539\n",
      "Name: count, dtype: int64\n"
     ]
    }
   ],
   "source": [
    "print(UseDataframe[code].value_counts().sort_index())"
   ]
  },
  {
   "cell_type": "code",
   "execution_count": 134,
   "id": "92cd8bb3-2992-4bfc-8aac-c3d89ec95417",
   "metadata": {},
   "outputs": [
    {
     "data": {
      "text/plain": [
       "1184967"
      ]
     },
     "execution_count": 134,
     "metadata": {},
     "output_type": "execute_result"
    }
   ],
   "source": [
    "UseDataframe[code].isna().sum()"
   ]
  },
  {
   "cell_type": "markdown",
   "id": "6fa3ca6f-7fc1-44cf-8668-3fe283257d98",
   "metadata": {},
   "source": [
    "**NOT USE**"
   ]
  },
  {
   "cell_type": "code",
   "execution_count": null,
   "id": "270902d7-5fb3-4408-99f2-ee8046fa8e7d",
   "metadata": {},
   "outputs": [],
   "source": []
  },
  {
   "cell_type": "markdown",
   "id": "016a9fbe-6daa-48e5-8b70-fde569f456cf",
   "metadata": {},
   "source": [
    "### WP88 -> Economic_change"
   ]
  },
  {
   "cell_type": "code",
   "execution_count": 135,
   "id": "d524fb79-1289-4cae-b730-23422bc620ee",
   "metadata": {},
   "outputs": [],
   "source": [
    "code = 'WP88'\n",
    "name = 'Economic_change'"
   ]
  },
  {
   "cell_type": "code",
   "execution_count": 136,
   "id": "2ff0b3b5-3373-4d91-a102-bee0f3da7d25",
   "metadata": {},
   "outputs": [],
   "source": [
    "UseDataframe[name] = UseDataframe[code]"
   ]
  },
  {
   "cell_type": "code",
   "execution_count": 138,
   "id": "562b9d99-8dc0-4220-8d5c-6735eb341b9b",
   "metadata": {},
   "outputs": [
    {
     "data": {
      "text/plain": [
       "105933"
      ]
     },
     "execution_count": 138,
     "metadata": {},
     "output_type": "execute_result"
    }
   ],
   "source": [
    "UseDataframe[name].isna().sum()"
   ]
  },
  {
   "cell_type": "code",
   "execution_count": 139,
   "id": "7c1b29a1-2d66-48ba-82fd-f2271ad99645",
   "metadata": {},
   "outputs": [],
   "source": [
    "UseDataframe[name] = UseDataframe[name].fillna(2)"
   ]
  },
  {
   "cell_type": "code",
   "execution_count": 140,
   "id": "e47e4f8e-12b4-489f-9344-322145d3fd3f",
   "metadata": {},
   "outputs": [
    {
     "data": {
      "text/plain": [
       "Economic_change\n",
       "1.0    780185\n",
       "2.0    505309\n",
       "3.0    672649\n",
       "4.0     65339\n",
       "5.0      2321\n",
       "Name: count, dtype: int64"
      ]
     },
     "execution_count": 140,
     "metadata": {},
     "output_type": "execute_result"
    }
   ],
   "source": [
    "UseDataframe[name].value_counts().sort_index()"
   ]
  },
  {
   "cell_type": "code",
   "execution_count": 141,
   "id": "9d344ddb-8c98-44be-b167-1dafd8f89511",
   "metadata": {},
   "outputs": [],
   "source": [
    "UseDataframe.loc[UseDataframe[name] > 3, name] = 2"
   ]
  },
  {
   "cell_type": "code",
   "execution_count": 142,
   "id": "c86dd8f5-6608-4b19-b47a-96bb93900e03",
   "metadata": {},
   "outputs": [],
   "source": [
    "UseDataframe[name] = -(UseDataframe[name] - 2)"
   ]
  },
  {
   "cell_type": "code",
   "execution_count": 143,
   "id": "082efc80-b335-4a55-abb9-990c693a56e4",
   "metadata": {},
   "outputs": [
    {
     "data": {
      "text/plain": [
       "Economic_change\n",
       "-1.0    672649\n",
       "-0.0    572969\n",
       " 1.0    780185\n",
       "Name: count, dtype: int64"
      ]
     },
     "execution_count": 143,
     "metadata": {},
     "output_type": "execute_result"
    }
   ],
   "source": [
    "UseDataframe[name].value_counts().sort_index()"
   ]
  },
  {
   "cell_type": "code",
   "execution_count": 144,
   "id": "7e97f92b-0695-4ac2-8190-04be1e2323e2",
   "metadata": {},
   "outputs": [],
   "source": [
    "variable_list.append(name)"
   ]
  },
  {
   "cell_type": "code",
   "execution_count": null,
   "id": "aa4266bf-db0e-47a7-aa24-1e72a6f086fe",
   "metadata": {},
   "outputs": [],
   "source": []
  },
  {
   "cell_type": "markdown",
   "id": "fbe49c1b-ca6b-44cf-921c-857acbe1f25c",
   "metadata": {},
   "source": [
    "### WP89 -> Goodtime_job"
   ]
  },
  {
   "cell_type": "code",
   "execution_count": 145,
   "id": "b7d425aa-5a57-4bd1-b360-4d578c28ae61",
   "metadata": {},
   "outputs": [],
   "source": [
    "code = 'WP89'\n",
    "name = 'Goodtime_job'"
   ]
  },
  {
   "cell_type": "code",
   "execution_count": 146,
   "id": "b4183690-bf7e-4ec5-b9b6-307853bc0a4b",
   "metadata": {},
   "outputs": [
    {
     "name": "stdout",
     "output_type": "stream",
     "text": [
      "WP89\n",
      "1.0     671825\n",
      "2.0    1129068\n",
      "3.0     154631\n",
      "4.0       6020\n",
      "Name: count, dtype: int64\n",
      "Goodtime_job\n",
      "0.0    1353978\n",
      "1.0     671825\n",
      "Name: count, dtype: int64\n"
     ]
    }
   ],
   "source": [
    "print(UseDataframe[code].value_counts().sort_index())\n",
    "print(UseDataframe[name].isna().sum())\n",
    "UseDataframe[name] = UseDataframe[code]\n",
    "UseDataframe[name] = UseDataframe[name].fillna(2)\n",
    "UseDataframe.loc[UseDataframe[name] > 1, name] = 0\n",
    "print(UseDataframe[name].value_counts().sort_index())"
   ]
  },
  {
   "cell_type": "code",
   "execution_count": 147,
   "id": "d05c9c78-abf8-41d6-98d0-b1d85c2167b6",
   "metadata": {},
   "outputs": [],
   "source": [
    "variable_list.append(name)"
   ]
  },
  {
   "cell_type": "code",
   "execution_count": null,
   "id": "87517051-b006-4661-aafe-6c7158fe32f4",
   "metadata": {},
   "outputs": [],
   "source": []
  },
  {
   "cell_type": "markdown",
   "id": "4f8bbf5e-9840-4a14-b2d5-f65fbb4e9476",
   "metadata": {},
   "source": [
    "### WP"
   ]
  },
  {
   "cell_type": "code",
   "execution_count": null,
   "id": "0a7fdd2f-f51b-4adc-8e60-21e2fc7888c5",
   "metadata": {},
   "outputs": [],
   "source": []
  },
  {
   "cell_type": "code",
   "execution_count": null,
   "id": "600c0121-2526-4beb-955e-de04c0548ef0",
   "metadata": {},
   "outputs": [],
   "source": []
  },
  {
   "cell_type": "code",
   "execution_count": null,
   "id": "3a5ffc8c-95d8-4f77-8cac-21d93c063d44",
   "metadata": {},
   "outputs": [],
   "source": []
  }
 ],
 "metadata": {
  "kernelspec": {
   "display_name": "Python 3 (ipykernel)",
   "language": "python",
   "name": "python3"
  },
  "language_info": {
   "codemirror_mode": {
    "name": "ipython",
    "version": 3
   },
   "file_extension": ".py",
   "mimetype": "text/x-python",
   "name": "python",
   "nbconvert_exporter": "python",
   "pygments_lexer": "ipython3",
   "version": "3.9.19"
  }
 },
 "nbformat": 4,
 "nbformat_minor": 5
}
