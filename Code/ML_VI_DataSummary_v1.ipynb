{
 "cells": [
  {
   "cell_type": "markdown",
   "id": "93762d12-6fdd-4e46-bb6c-9714b6f55ed4",
   "metadata": {},
   "source": [
    "# Data Washed by Mike Cover 64 Variables 1.911 M Rows: Dependent Variable: Cantril_ladder"
   ]
  },
  {
   "cell_type": "code",
   "execution_count": 1,
   "id": "37e38839-0184-49f6-b042-519212e34230",
   "metadata": {},
   "outputs": [
    {
     "data": {
      "text/plain": [
       "'/Users/lichao/Library/CloudStorage/OneDrive-KyushuUniversity/ESG09_Article/Code'"
      ]
     },
     "execution_count": 1,
     "metadata": {},
     "output_type": "execute_result"
    }
   ],
   "source": [
    "%pwd"
   ]
  },
  {
   "cell_type": "code",
   "execution_count": 2,
   "id": "aeb33755-8671-40da-9443-2e9715273b63",
   "metadata": {},
   "outputs": [
    {
     "name": "stdout",
     "output_type": "stream",
     "text": [
      "/Users/lichao/Library/CloudStorage/OneDrive-KyushuUniversity/ESG09_Article\n"
     ]
    }
   ],
   "source": [
    "%cd .."
   ]
  },
  {
   "cell_type": "code",
   "execution_count": null,
   "id": "b2565ea8-31ec-449d-8ad9-5568e7d40cfd",
   "metadata": {},
   "outputs": [],
   "source": []
  },
  {
   "cell_type": "markdown",
   "id": "2f14be87-268b-4229-983d-8cb41dfc2296",
   "metadata": {},
   "source": [
    "## Import Package"
   ]
  },
  {
   "cell_type": "code",
   "execution_count": 3,
   "id": "af6ef393-fd32-42b6-aefe-7e0686a40901",
   "metadata": {},
   "outputs": [
    {
     "name": "stdout",
     "output_type": "stream",
     "text": [
      "Intel MKL WARNING: Support of Intel(R) Streaming SIMD Extensions 4.2 (Intel(R) SSE4.2) enabled only processors has been deprecated. Intel oneAPI Math Kernel Library 2025.0 will require Intel(R) Advanced Vector Extensions (Intel(R) AVX) instructions.\n",
      "Intel MKL WARNING: Support of Intel(R) Streaming SIMD Extensions 4.2 (Intel(R) SSE4.2) enabled only processors has been deprecated. Intel oneAPI Math Kernel Library 2025.0 will require Intel(R) Advanced Vector Extensions (Intel(R) AVX) instructions.\n"
     ]
    }
   ],
   "source": [
    "import numpy as np\n",
    "import os \n",
    "import pandas as pd"
   ]
  },
  {
   "cell_type": "code",
   "execution_count": null,
   "id": "29220152-fecb-4076-9a50-8a6eae76bda5",
   "metadata": {},
   "outputs": [],
   "source": []
  },
  {
   "cell_type": "markdown",
   "id": "58285882-dbf4-4265-8b82-77eabf953a13",
   "metadata": {},
   "source": [
    "## Data Summary Table"
   ]
  },
  {
   "cell_type": "markdown",
   "id": "530c9c5a-3919-4cfe-893a-8d9bff2da19d",
   "metadata": {},
   "source": [
    "### Load Dataset"
   ]
  },
  {
   "cell_type": "code",
   "execution_count": 4,
   "id": "6c1929e6-a11b-477f-b941-f8cbc7ed00f9",
   "metadata": {},
   "outputs": [],
   "source": [
    "Dataset_Filename = os.path.join(\"Data\", \"GallupWB_Ml64var1911k14wave_v1.parquet\")"
   ]
  },
  {
   "cell_type": "code",
   "execution_count": 5,
   "id": "1fdf1caf-e6f9-4bd3-8b03-613a42e68490",
   "metadata": {},
   "outputs": [],
   "source": [
    "Df = pd.read_parquet(Dataset_Filename)"
   ]
  },
  {
   "cell_type": "code",
   "execution_count": 6,
   "id": "d3ea54de-5c7c-49eb-ab5f-c0bc0dd9bf0b",
   "metadata": {},
   "outputs": [
    {
     "data": {
      "text/plain": [
       "(1911212, 64)"
      ]
     },
     "execution_count": 6,
     "metadata": {},
     "output_type": "execute_result"
    }
   ],
   "source": [
    "Df.shape"
   ]
  },
  {
   "cell_type": "code",
   "execution_count": 7,
   "id": "91ae3271-cef6-44cf-bcdd-200b1c6113ed",
   "metadata": {},
   "outputs": [
    {
     "data": {
      "text/plain": [
       "Index(['wave', 'INCOME_2', 'Cantril_ladder', 'Health_disable', 'Relative_have',\n",
       "       'Living_standard_change', 'Enough_food', 'Enough_shelter',\n",
       "       'Well_rested', 'Respected', 'Smile', 'Interesting_thing', 'Enjoyment',\n",
       "       'Physical_pain', 'Worry', 'Sadness', 'Stress', 'Anger',\n",
       "       'City_satisficied', 'Economic_change', 'Goodtime_job', 'Sat_pubtran',\n",
       "       'Sat_road', 'Sat_edu', 'Sat_qualityair', 'Sat_qualitywater',\n",
       "       'Sat_healthcare', 'Sat_affhouse', 'Sat_oppofriend', 'Good_minorities',\n",
       "       'Good_gayles', 'Good_immigrants', 'Donated', 'Volunteer',\n",
       "       'Help_stranger', 'Voice_official', 'Local_police', 'Safety_walk',\n",
       "       'Stolen', 'Assualted', 'Religion_importance', 'Children_respected',\n",
       "       'Children_learn', 'Women_respected', 'Sat_dealpoor', 'Sat_perserveenv',\n",
       "       'Freedom_chooselife', 'Conf_military', 'Conf_judicial',\n",
       "       'Conf_government', 'Conf_financial', 'Conf_honestyelections',\n",
       "       'Freedom_media', 'Corruption_business', 'Corruption_government',\n",
       "       'Performance_leadership', 'Gender_female', 'Age', 'Marital_status',\n",
       "       'Employment', 'Children_under15', 'Feeling_income', 'Income_level',\n",
       "       'COUNTRY_ISO3'],\n",
       "      dtype='object')"
      ]
     },
     "execution_count": 7,
     "metadata": {},
     "output_type": "execute_result"
    }
   ],
   "source": [
    "Df.columns"
   ]
  },
  {
   "cell_type": "code",
   "execution_count": null,
   "id": "0664114a-c41c-4c82-bb6e-0ae21252635e",
   "metadata": {},
   "outputs": [],
   "source": []
  },
  {
   "cell_type": "markdown",
   "id": "d37fbd6b-ef52-4abe-bb16-9fa3115bde41",
   "metadata": {},
   "source": [
    "### Country and Wave Summary"
   ]
  },
  {
   "cell_type": "code",
   "execution_count": 8,
   "id": "7b298bbf-8431-476d-87c2-243dfe6cbb24",
   "metadata": {},
   "outputs": [],
   "source": [
    "df_country_wave = Df[['wave', 'COUNTRY_ISO3']]"
   ]
  },
  {
   "cell_type": "code",
   "execution_count": 9,
   "id": "3947b9d8-1255-4a40-8edd-ddcd3c462eb0",
   "metadata": {},
   "outputs": [
    {
     "name": "stdout",
     "output_type": "stream",
     "text": [
      "wave            4    5     6     7     8    9     10    11    12    13    14  \\\n",
      "COUNTRY_ISO3                                                                   \n",
      "AFG            937  983   994  1973  1000  915   929   932   952   957  1110   \n",
      "AGO              0    0     0     0   919  892     0     0     0     0     0   \n",
      "ALB              0  939   980  1010  1006  970   967   976   985   975  1069   \n",
      "ARE           1014  996  1974   977   898  975  1842  1808  1793  1807  1378   \n",
      "ARG            988  961   977   981   991  980   852   990   989   992  1051   \n",
      "...            ...  ...   ...   ...   ...  ...   ...   ...   ...   ...   ...   \n",
      "XSR            997  999  1988   992     0    0     0     0     0     0     0   \n",
      "YEM            985  988  1963   993   986  979   979   994   989   987  1092   \n",
      "ZAF              0  995   990  1983   993  982   988   968   967   959   977   \n",
      "ZMB            968    0   995   989   982  986   979   842   945   925   941   \n",
      "ZWE              0  995   986   990   990  981   989   959   977   990     0   \n",
      "\n",
      "wave           15   16    17  \n",
      "COUNTRY_ISO3                  \n",
      "AFG             0  985   978  \n",
      "AGO             0    0     0  \n",
      "ALB           975  978   973  \n",
      "ARE           973  904  1024  \n",
      "ARG           983  983   996  \n",
      "...           ...  ...   ...  \n",
      "XSR             0    0     0  \n",
      "YEM             0    0     0  \n",
      "ZAF           972  994   955  \n",
      "ZMB           996  913   988  \n",
      "ZWE             0    0     0  \n",
      "\n",
      "[164 rows x 14 columns]\n"
     ]
    }
   ],
   "source": [
    "pivot_table = df_country_wave.pivot_table(index='COUNTRY_ISO3', columns='wave', aggfunc='size', fill_value=0)\n",
    "\n",
    "print(pivot_table)"
   ]
  },
  {
   "cell_type": "code",
   "execution_count": 10,
   "id": "c171961f-dfc2-4b11-8cd7-676b552d0464",
   "metadata": {},
   "outputs": [],
   "source": [
    "pivot_table.to_csv('Results/ML_Table01_CountryWaveSummary.csv')"
   ]
  },
  {
   "cell_type": "code",
   "execution_count": null,
   "id": "b20f2a2f-695d-4e1f-8d7c-6119e255953c",
   "metadata": {},
   "outputs": [],
   "source": []
  },
  {
   "cell_type": "markdown",
   "id": "ef4a5e68-41f9-4c57-9815-ceb41f097abb",
   "metadata": {},
   "source": [
    "### Data Summary"
   ]
  },
  {
   "cell_type": "code",
   "execution_count": 13,
   "id": "37ec73d9-5679-414b-8c6f-cc93349d68c0",
   "metadata": {},
   "outputs": [],
   "source": [
    "column_order = ['Cantril_ladder', 'INCOME_2', 'Health_disable', 'Gender_female', 'Age', #5 5\n",
    "                 'Marital_status', #1 6\n",
    "               'Employment', 'Children_under15', 'Feeling_income', 'Income_level', #4 10\n",
    "                'Relative_have', #1 11\n",
    "               'Living_standard_change', 'Enough_food', 'Enough_shelter', #3 14\n",
    "               'Well_rested', 'Respected', 'Smile', 'Interesting_thing', 'Enjoyment', #5 19\n",
    "               'Physical_pain', 'Worry', 'Sadness', 'Stress', 'Anger', #5 24\n",
    "               'City_satisficied', 'Economic_change', 'Goodtime_job', 'Sat_pubtran', #4 28\n",
    "               'Sat_road', 'Sat_edu', 'Sat_qualityair', 'Sat_qualitywater', #4 32\n",
    "               'Sat_healthcare', 'Sat_affhouse', 'Sat_oppofriend', 'Good_minorities', #4 36\n",
    "               'Good_gayles', 'Good_immigrants', 'Donated', 'Volunteer', #4 40\n",
    "               'Help_stranger', 'Voice_official', 'Local_police', 'Safety_walk', #4 44\n",
    "               'Stolen', 'Assualted', 'Religion_importance', 'Children_respected', #4 48\n",
    "               'Children_learn', 'Women_respected', 'Sat_dealpoor', 'Sat_perserveenv', #4 52\n",
    "               'Freedom_chooselife', 'Conf_military', 'Conf_judicial', #3 55\n",
    "               'Conf_government', 'Conf_financial', 'Conf_honestyelections', #3 58\n",
    "               'Freedom_media', 'Corruption_business', 'Corruption_government', #3 61\n",
    "               'Performance_leadership'] #1 62"
   ]
  },
  {
   "cell_type": "code",
   "execution_count": 14,
   "id": "d226abae-b4fc-4355-9471-25b3f104736c",
   "metadata": {},
   "outputs": [],
   "source": [
    "Df_tosummary = Df[column_order]"
   ]
  },
  {
   "cell_type": "code",
   "execution_count": 20,
   "id": "8814bf7c-cbb9-4b4d-95cf-b4cd65d008b8",
   "metadata": {},
   "outputs": [],
   "source": [
    "new_names = ['SWB', \"Household Income\", \"Health Disability\", \"Female Dummy\", \"Age\", #5 5\n",
    "             'Marital Status', #1 6\n",
    "             'Employment', 'Children Under 15', 'Feeling of Income', 'Income Level', #4 10\n",
    "            \"Having Relatives to Rely on\", #1 11\n",
    "             \"Living Standard Changing Direction\", \"Enough Food\", \"Enough Shelter\", #3 14\n",
    "             \"Well Rested\", \"Respected\", 'Smiling', 'Interesting Things', 'Enjoyment', #5 19\n",
    "            \"Physical Pain\", \"Worry\", \"Sadness\", \"Stress\", \"Anger\", #5 24\n",
    "            \"Satisfied with City\", \"Economic Changing Direction\", \"Good Time to Find Job\", \"Satisfied with Public Transportation\", #4 28\n",
    "            \"Satisfied with Road\", \"Satisfied with Education\", \"Satisfied with Air Quality\", \"Satisfied with Water Quality\", #4 32\n",
    "            \"Satisfied with Healthcare\", \"Satisfied with Affordable House\", \"Satisfied with Opportunity to Make Friends\", \"Good Place for Ethitical Minority\", #4 36\n",
    "            \"Good Place for Gay or Lesbian\", \"Good Place for Immigrants\", \"Donated Recently\", \"Did Volunteer Recently\", #4 40\n",
    "            \"Helped Stranger\", \"Voiced Opinion to Official\", \"Confidence in Local Police\", \"Safety of Alone Night Walking\", #4 44\n",
    "            'Stolen', 'Assaulted', 'Religion Importance', 'Children Respected', #4 48\n",
    "            'Opportunity for Children Learning', 'Women Respected', 'Satisfied with Poverty Alleviation', 'Satisfied with Environmental Efforts', #4 52\n",
    "            \"Freedom of Choosing Life\", \"Confidence in Military\", \"Confidence in Judicial System\", #3 55\n",
    "             \"Confidence in National Government\", \"Confidence in Financial System\", \"Confidence in Election Honesty\", #3 58\n",
    "            \"Freedom of Media\", \"Corruption within Business\", \"Corruption within Government\", #3 61\n",
    "             \"Approval of Leadership Performance\" ]"
   ]
  },
  {
   "cell_type": "code",
   "execution_count": 21,
   "id": "e7435576-6132-42ad-bbc2-2fc7aefc4f08",
   "metadata": {},
   "outputs": [
    {
     "data": {
      "text/plain": [
       "['SWB',\n",
       " 'Household Income',\n",
       " 'Health Disability',\n",
       " 'Female Dummy',\n",
       " 'Age',\n",
       " 'Marital Status',\n",
       " 'Employment',\n",
       " 'Children Under 15',\n",
       " 'Feeling of Income',\n",
       " 'Income Level',\n",
       " 'Having Relatives to Rely on',\n",
       " 'Living Standard Changing Direction',\n",
       " 'Enough Food',\n",
       " 'Enough Shelter',\n",
       " 'Well Rested',\n",
       " 'Respected',\n",
       " 'Smiling',\n",
       " 'Interesting Things',\n",
       " 'Enjoyment',\n",
       " 'Physical Pain',\n",
       " 'Worry',\n",
       " 'Sadness',\n",
       " 'Stress',\n",
       " 'Anger',\n",
       " 'Satisfied with City',\n",
       " 'Economic Changing Direction',\n",
       " 'Good Time to Find Job',\n",
       " 'Satisfied with Public Transportation',\n",
       " 'Satisfied with Road',\n",
       " 'Satisfied with Education',\n",
       " 'Satisfied with Air Quality',\n",
       " 'Satisfied with Water Quality',\n",
       " 'Satisfied with Healthcare',\n",
       " 'Satisfied with Affordable House',\n",
       " 'Satisfied with Opportunity to Make Friends',\n",
       " 'Good Place for Ethitical Minority',\n",
       " 'Good Place for Gay or Lesbian',\n",
       " 'Good Place for Immigrants',\n",
       " 'Donated Recently',\n",
       " 'Did Volunteer Recently',\n",
       " 'Helped Stranger',\n",
       " 'Voiced Opinion to Official',\n",
       " 'Confidence in Local Police',\n",
       " 'Safety of Alone Night Walking',\n",
       " 'Stolen',\n",
       " 'Assaulted',\n",
       " 'Religion Importance',\n",
       " 'Children Respected',\n",
       " 'Opportunity for Children Learning',\n",
       " 'Women Respected',\n",
       " 'Satisfied with Poverty Alleviation',\n",
       " 'Satisfied with Environmental Efforts',\n",
       " 'Freedom of Choosing Life',\n",
       " 'Confidence in Military',\n",
       " 'Confidence in Judicial System',\n",
       " 'Confidence in National Government',\n",
       " 'Confidence in Financial System',\n",
       " 'Confidence in Election Honesty',\n",
       " 'Freedom of Media',\n",
       " 'Corruption within Business',\n",
       " 'Corruption within Government',\n",
       " 'Approval of Leadership Performance']"
      ]
     },
     "execution_count": 21,
     "metadata": {},
     "output_type": "execute_result"
    }
   ],
   "source": [
    "new_names"
   ]
  },
  {
   "cell_type": "code",
   "execution_count": 22,
   "id": "93a3bccd-aaa3-4a77-ad2a-4d937fc4dc9f",
   "metadata": {},
   "outputs": [],
   "source": [
    "Df_tosummary.columns = new_names"
   ]
  },
  {
   "cell_type": "code",
   "execution_count": 25,
   "id": "1e46382b-c405-4c0b-9c0c-81fb497cf378",
   "metadata": {},
   "outputs": [
    {
     "data": {
      "text/html": [
       "<div>\n",
       "<style scoped>\n",
       "    .dataframe tbody tr th:only-of-type {\n",
       "        vertical-align: middle;\n",
       "    }\n",
       "\n",
       "    .dataframe tbody tr th {\n",
       "        vertical-align: top;\n",
       "    }\n",
       "\n",
       "    .dataframe thead th {\n",
       "        text-align: right;\n",
       "    }\n",
       "</style>\n",
       "<table border=\"1\" class=\"dataframe\">\n",
       "  <thead>\n",
       "    <tr style=\"text-align: right;\">\n",
       "      <th></th>\n",
       "      <th>count</th>\n",
       "      <th>mean</th>\n",
       "      <th>std</th>\n",
       "      <th>min</th>\n",
       "      <th>25%</th>\n",
       "      <th>50%</th>\n",
       "      <th>75%</th>\n",
       "      <th>max</th>\n",
       "    </tr>\n",
       "  </thead>\n",
       "  <tbody>\n",
       "    <tr>\n",
       "      <th>SWB</th>\n",
       "      <td>1911212.0</td>\n",
       "      <td>5.521046</td>\n",
       "      <td>2.413794</td>\n",
       "      <td>0.0</td>\n",
       "      <td>4.000000</td>\n",
       "      <td>5.000000</td>\n",
       "      <td>7.000000</td>\n",
       "      <td>1.000000e+01</td>\n",
       "    </tr>\n",
       "    <tr>\n",
       "      <th>Household Income</th>\n",
       "      <td>1911212.0</td>\n",
       "      <td>25339.301337</td>\n",
       "      <td>925219.104267</td>\n",
       "      <td>0.0</td>\n",
       "      <td>4190.874514</td>\n",
       "      <td>10510.192411</td>\n",
       "      <td>26055.600306</td>\n",
       "      <td>8.980336e+08</td>\n",
       "    </tr>\n",
       "    <tr>\n",
       "      <th>Health Disability</th>\n",
       "      <td>1911212.0</td>\n",
       "      <td>1.754300</td>\n",
       "      <td>0.430502</td>\n",
       "      <td>1.0</td>\n",
       "      <td>2.000000</td>\n",
       "      <td>2.000000</td>\n",
       "      <td>2.000000</td>\n",
       "      <td>2.000000e+00</td>\n",
       "    </tr>\n",
       "    <tr>\n",
       "      <th>Female Dummy</th>\n",
       "      <td>1911212.0</td>\n",
       "      <td>0.532240</td>\n",
       "      <td>0.498960</td>\n",
       "      <td>0.0</td>\n",
       "      <td>0.000000</td>\n",
       "      <td>1.000000</td>\n",
       "      <td>1.000000</td>\n",
       "      <td>1.000000e+00</td>\n",
       "    </tr>\n",
       "    <tr>\n",
       "      <th>Age</th>\n",
       "      <td>1911212.0</td>\n",
       "      <td>41.429310</td>\n",
       "      <td>17.551835</td>\n",
       "      <td>15.0</td>\n",
       "      <td>27.000000</td>\n",
       "      <td>39.000000</td>\n",
       "      <td>54.000000</td>\n",
       "      <td>9.900000e+01</td>\n",
       "    </tr>\n",
       "    <tr>\n",
       "      <th>...</th>\n",
       "      <td>...</td>\n",
       "      <td>...</td>\n",
       "      <td>...</td>\n",
       "      <td>...</td>\n",
       "      <td>...</td>\n",
       "      <td>...</td>\n",
       "      <td>...</td>\n",
       "      <td>...</td>\n",
       "    </tr>\n",
       "    <tr>\n",
       "      <th>Confidence in Election Honesty</th>\n",
       "      <td>1911212.0</td>\n",
       "      <td>0.402433</td>\n",
       "      <td>0.490388</td>\n",
       "      <td>0.0</td>\n",
       "      <td>0.000000</td>\n",
       "      <td>0.000000</td>\n",
       "      <td>1.000000</td>\n",
       "      <td>1.000000e+00</td>\n",
       "    </tr>\n",
       "    <tr>\n",
       "      <th>Freedom of Media</th>\n",
       "      <td>1911212.0</td>\n",
       "      <td>0.543335</td>\n",
       "      <td>0.498119</td>\n",
       "      <td>0.0</td>\n",
       "      <td>0.000000</td>\n",
       "      <td>1.000000</td>\n",
       "      <td>1.000000</td>\n",
       "      <td>1.000000e+00</td>\n",
       "    </tr>\n",
       "    <tr>\n",
       "      <th>Corruption within Business</th>\n",
       "      <td>1911212.0</td>\n",
       "      <td>0.609903</td>\n",
       "      <td>0.487772</td>\n",
       "      <td>0.0</td>\n",
       "      <td>0.000000</td>\n",
       "      <td>1.000000</td>\n",
       "      <td>1.000000</td>\n",
       "      <td>1.000000e+00</td>\n",
       "    </tr>\n",
       "    <tr>\n",
       "      <th>Corruption within Government</th>\n",
       "      <td>1911212.0</td>\n",
       "      <td>0.580533</td>\n",
       "      <td>0.493472</td>\n",
       "      <td>0.0</td>\n",
       "      <td>0.000000</td>\n",
       "      <td>1.000000</td>\n",
       "      <td>1.000000</td>\n",
       "      <td>1.000000e+00</td>\n",
       "    </tr>\n",
       "    <tr>\n",
       "      <th>Approval of Leadership Performance</th>\n",
       "      <td>1911212.0</td>\n",
       "      <td>0.405867</td>\n",
       "      <td>0.491059</td>\n",
       "      <td>0.0</td>\n",
       "      <td>0.000000</td>\n",
       "      <td>0.000000</td>\n",
       "      <td>1.000000</td>\n",
       "      <td>1.000000e+00</td>\n",
       "    </tr>\n",
       "  </tbody>\n",
       "</table>\n",
       "<p>62 rows × 8 columns</p>\n",
       "</div>"
      ],
      "text/plain": [
       "                                        count          mean            std  \\\n",
       "SWB                                 1911212.0      5.521046       2.413794   \n",
       "Household Income                    1911212.0  25339.301337  925219.104267   \n",
       "Health Disability                   1911212.0      1.754300       0.430502   \n",
       "Female Dummy                        1911212.0      0.532240       0.498960   \n",
       "Age                                 1911212.0     41.429310      17.551835   \n",
       "...                                       ...           ...            ...   \n",
       "Confidence in Election Honesty      1911212.0      0.402433       0.490388   \n",
       "Freedom of Media                    1911212.0      0.543335       0.498119   \n",
       "Corruption within Business          1911212.0      0.609903       0.487772   \n",
       "Corruption within Government        1911212.0      0.580533       0.493472   \n",
       "Approval of Leadership Performance  1911212.0      0.405867       0.491059   \n",
       "\n",
       "                                     min          25%           50%  \\\n",
       "SWB                                  0.0     4.000000      5.000000   \n",
       "Household Income                     0.0  4190.874514  10510.192411   \n",
       "Health Disability                    1.0     2.000000      2.000000   \n",
       "Female Dummy                         0.0     0.000000      1.000000   \n",
       "Age                                 15.0    27.000000     39.000000   \n",
       "...                                  ...          ...           ...   \n",
       "Confidence in Election Honesty       0.0     0.000000      0.000000   \n",
       "Freedom of Media                     0.0     0.000000      1.000000   \n",
       "Corruption within Business           0.0     0.000000      1.000000   \n",
       "Corruption within Government         0.0     0.000000      1.000000   \n",
       "Approval of Leadership Performance   0.0     0.000000      0.000000   \n",
       "\n",
       "                                             75%           max  \n",
       "SWB                                     7.000000  1.000000e+01  \n",
       "Household Income                    26055.600306  8.980336e+08  \n",
       "Health Disability                       2.000000  2.000000e+00  \n",
       "Female Dummy                            1.000000  1.000000e+00  \n",
       "Age                                    54.000000  9.900000e+01  \n",
       "...                                          ...           ...  \n",
       "Confidence in Election Honesty          1.000000  1.000000e+00  \n",
       "Freedom of Media                        1.000000  1.000000e+00  \n",
       "Corruption within Business              1.000000  1.000000e+00  \n",
       "Corruption within Government            1.000000  1.000000e+00  \n",
       "Approval of Leadership Performance      1.000000  1.000000e+00  \n",
       "\n",
       "[62 rows x 8 columns]"
      ]
     },
     "execution_count": 25,
     "metadata": {},
     "output_type": "execute_result"
    }
   ],
   "source": [
    "Df_tosummary.describe().T"
   ]
  },
  {
   "cell_type": "code",
   "execution_count": 26,
   "id": "b4c7ce4c-1328-44e1-bdcb-f82c71f3702b",
   "metadata": {},
   "outputs": [],
   "source": [
    "Df_tosummary.describe().T.to_csv('Results/ML_Table01_DataSummary.csv')"
   ]
  },
  {
   "cell_type": "code",
   "execution_count": null,
   "id": "da4cab10-0a51-44a6-b0b0-322e2eeae5fe",
   "metadata": {},
   "outputs": [],
   "source": [
    "[\"SWB\", \"Household Income\", \"Health Disability\", \"Female Dummy\", \"Age\", 'Marital Status', 'Employment', 'Children Under 15', 'Feeling of Income', 'Income Level', \n",
    "\"Having Relatives to Rely on\", \"Living Standard Changing Direction\", \"Enough Food\", \"Enough Shelter\", \"Well Rested\", \"Respected\", 'Smiling', 'Interesting Things', \n",
    "'Enjoyment', \"Physical Pain\", \"Worry\", \"Sadness\", \"Stress\", \"Anger\", \"Satisfied with City\", \"Economic Changing Direction\", \n",
    "\"Good Time to Find Job\", \"Satisfied with Public Transportation\", \"Satisfied with Road\", \"Satisfied with Education\", \n",
    "\"Satisfied with Air Quality\", \"Satisfied with Water Quality\", \"Satisfied with Healthcare\", \"Satisfied with Affordable House\", \n",
    "\"Satisfied with Opportunity to Make Friends\", \"Good Place for Ethitical Minority\", \n",
    "\"Good Place for Gay or Lesbian\", \"Good Place for Immigrants\", \"Donated Recently\", \"Did Volunteer Recently\", \n",
    "\"Helped Stranger\", \"Voiced Opinion to Official\", \"Confidence in Local Police\", \"Safety of Alone Night Walking\", \n",
    "'Stolen', 'Assaulted', 'Religion Importance', 'Children Respected', \n",
    "'Opportunity for Children Learning', 'Women Respected', 'Satisfied with Poverty Alleviation', 'Satisfied with Environmental Efforts', \n",
    "\"Freedom of Choosing Life\", \"Confidence in Military\", \"Confidence in Judicial System\", \n",
    "\"Confidence in National Government\", \"Confidence in Financial System\", \"Confidence in Election Honesty\", \n",
    "\"Freedom of Media\", \"Corruption within Business\", \"Corruption within Government\", \n",
    "\"Approval of Leadership Performance\"]"
   ]
  },
  {
   "cell_type": "code",
   "execution_count": null,
   "id": "5957b28c-dfea-4655-9d2b-e37faa3a644e",
   "metadata": {},
   "outputs": [],
   "source": []
  }
 ],
 "metadata": {
  "kernelspec": {
   "display_name": "Python 3 (ipykernel)",
   "language": "python",
   "name": "python3"
  },
  "language_info": {
   "codemirror_mode": {
    "name": "ipython",
    "version": 3
   },
   "file_extension": ".py",
   "mimetype": "text/x-python",
   "name": "python",
   "nbconvert_exporter": "python",
   "pygments_lexer": "ipython3",
   "version": "3.9.19"
  }
 },
 "nbformat": 4,
 "nbformat_minor": 5
}
