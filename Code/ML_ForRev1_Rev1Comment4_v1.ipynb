{
 "cells": [
  {
   "cell_type": "markdown",
   "id": "7165eb0f-da82-4c86-8545-8c8fe365c2c4",
   "metadata": {},
   "source": [
    "# Compared with OLS"
   ]
  },
  {
   "cell_type": "markdown",
   "id": "bc563bc2-b057-427f-a917-da95aa29bf54",
   "metadata": {},
   "source": [
    "Logic: 10 Folder Prediction on self-model vs average other groups"
   ]
  },
  {
   "cell_type": "code",
   "execution_count": 1,
   "id": "89ebdb0f-694a-4b46-b8e3-fb34449153a9",
   "metadata": {},
   "outputs": [
    {
     "data": {
      "text/plain": [
       "'/mnt/g/D-storage/ESG09_Article/Code'"
      ]
     },
     "execution_count": 1,
     "metadata": {},
     "output_type": "execute_result"
    }
   ],
   "source": [
    "%pwd"
   ]
  },
  {
   "cell_type": "code",
   "execution_count": 2,
   "id": "bbf2a104-10ab-405b-920c-23fa040fe251",
   "metadata": {},
   "outputs": [
    {
     "name": "stdout",
     "output_type": "stream",
     "text": [
      "/mnt/g/D-storage/ESG09_Article\n"
     ]
    },
    {
     "name": "stderr",
     "output_type": "stream",
     "text": [
      "/home/linux/anaconda3/envs/tf/lib/python3.9/site-packages/IPython/core/magics/osm.py:417: UserWarning: using dhist requires you to install the `pickleshare` library.\n",
      "  self.shell.db['dhist'] = compress_dhist(dhist)[-100:]\n"
     ]
    }
   ],
   "source": [
    "%cd .."
   ]
  },
  {
   "cell_type": "code",
   "execution_count": null,
   "id": "fac3622b-1a3e-4020-bab7-f7499ad127fd",
   "metadata": {},
   "outputs": [],
   "source": []
  },
  {
   "cell_type": "markdown",
   "id": "808b3e57-0c84-4018-a236-68135ce5c25a",
   "metadata": {},
   "source": [
    "## Import Package"
   ]
  },
  {
   "cell_type": "code",
   "execution_count": 30,
   "id": "dd765fb2-e071-4b63-a2ac-d9a881aada52",
   "metadata": {},
   "outputs": [],
   "source": [
    "from joblib import dump, load\n",
    "import numpy as np\n",
    "import os \n",
    "import pandas as pd\n",
    "import random\n",
    "from scipy import stats\n",
    "from sklearn.ensemble import RandomForestRegressor\n",
    "from sklearn.linear_model import LinearRegression\n",
    "from sklearn.metrics import mean_squared_error, r2_score\n",
    "from sklearn.model_selection import train_test_split, KFold, cross_val_score\n",
    "from skopt import BayesSearchCV\n",
    "from skopt.space import Real, Integer\n",
    "import xgboost as xgb"
   ]
  },
  {
   "cell_type": "code",
   "execution_count": null,
   "id": "d31e8cce-e3b5-40d7-b00e-f57844cec585",
   "metadata": {},
   "outputs": [],
   "source": []
  },
  {
   "cell_type": "markdown",
   "id": "88fc8549-eca3-43dd-b993-5347ae59bbb7",
   "metadata": {},
   "source": [
    "## Load dataset and divide them into subgroup"
   ]
  },
  {
   "cell_type": "code",
   "execution_count": 4,
   "id": "8c0228f0-6f73-45c3-8715-d0e4335a66cd",
   "metadata": {},
   "outputs": [],
   "source": [
    "Df_Filename = os.path.join(\"Data\", \"GallupWB_Ml64var1911k14wave_v1.parquet\")"
   ]
  },
  {
   "cell_type": "code",
   "execution_count": 5,
   "id": "bd437d0b-7888-4be5-936a-0ffff02854bf",
   "metadata": {},
   "outputs": [],
   "source": [
    "Df = pd.read_parquet(Df_Filename)"
   ]
  },
  {
   "cell_type": "code",
   "execution_count": 6,
   "id": "3c440ca1-15d0-4a3b-9941-daaaa4905db4",
   "metadata": {},
   "outputs": [
    {
     "data": {
      "text/plain": [
       "(1911212, 64)"
      ]
     },
     "execution_count": 6,
     "metadata": {},
     "output_type": "execute_result"
    }
   ],
   "source": [
    "Df.shape"
   ]
  },
  {
   "cell_type": "code",
   "execution_count": 7,
   "id": "8674e93c-5eb9-475d-ab4c-ba79d0d4e860",
   "metadata": {},
   "outputs": [
    {
     "data": {
      "text/plain": [
       "Index(['wave', 'INCOME_2', 'Cantril_ladder', 'Health_disable', 'Relative_have',\n",
       "       'Living_standard_change', 'Enough_food', 'Enough_shelter',\n",
       "       'Well_rested', 'Respected', 'Smile', 'Interesting_thing', 'Enjoyment',\n",
       "       'Physical_pain', 'Worry', 'Sadness', 'Stress', 'Anger',\n",
       "       'City_satisficied', 'Economic_change', 'Goodtime_job', 'Sat_pubtran',\n",
       "       'Sat_road', 'Sat_edu', 'Sat_qualityair', 'Sat_qualitywater',\n",
       "       'Sat_healthcare', 'Sat_affhouse', 'Sat_oppofriend', 'Good_minorities',\n",
       "       'Good_gayles', 'Good_immigrants', 'Donated', 'Volunteer',\n",
       "       'Help_stranger', 'Voice_official', 'Local_police', 'Safety_walk',\n",
       "       'Stolen', 'Assualted', 'Religion_importance', 'Children_respected',\n",
       "       'Children_learn', 'Women_respected', 'Sat_dealpoor', 'Sat_perserveenv',\n",
       "       'Freedom_chooselife', 'Conf_military', 'Conf_judicial',\n",
       "       'Conf_government', 'Conf_financial', 'Conf_honestyelections',\n",
       "       'Freedom_media', 'Corruption_business', 'Corruption_government',\n",
       "       'Performance_leadership', 'Gender_female', 'Age', 'Marital_status',\n",
       "       'Employment', 'Children_under15', 'Feeling_income', 'Income_level',\n",
       "       'COUNTRY_ISO3'],\n",
       "      dtype='object')"
      ]
     },
     "execution_count": 7,
     "metadata": {},
     "output_type": "execute_result"
    }
   ],
   "source": [
    "Df.columns"
   ]
  },
  {
   "cell_type": "code",
   "execution_count": 9,
   "id": "b6d08598-48fe-43c4-ab8f-ef8e66076437",
   "metadata": {},
   "outputs": [
    {
     "data": {
      "text/html": [
       "<div>\n",
       "<style scoped>\n",
       "    .dataframe tbody tr th:only-of-type {\n",
       "        vertical-align: middle;\n",
       "    }\n",
       "\n",
       "    .dataframe tbody tr th {\n",
       "        vertical-align: top;\n",
       "    }\n",
       "\n",
       "    .dataframe thead th {\n",
       "        text-align: right;\n",
       "    }\n",
       "</style>\n",
       "<table border=\"1\" class=\"dataframe\">\n",
       "  <thead>\n",
       "    <tr style=\"text-align: right;\">\n",
       "      <th></th>\n",
       "      <th>wave</th>\n",
       "      <th>INCOME_2</th>\n",
       "      <th>Cantril_ladder</th>\n",
       "      <th>Health_disable</th>\n",
       "      <th>Relative_have</th>\n",
       "      <th>Living_standard_change</th>\n",
       "      <th>Enough_food</th>\n",
       "      <th>Enough_shelter</th>\n",
       "      <th>Well_rested</th>\n",
       "      <th>Respected</th>\n",
       "      <th>...</th>\n",
       "      <th>Corruption_government</th>\n",
       "      <th>Performance_leadership</th>\n",
       "      <th>Gender_female</th>\n",
       "      <th>Age</th>\n",
       "      <th>Marital_status</th>\n",
       "      <th>Employment</th>\n",
       "      <th>Children_under15</th>\n",
       "      <th>Feeling_income</th>\n",
       "      <th>Income_level</th>\n",
       "      <th>COUNTRY_ISO3</th>\n",
       "    </tr>\n",
       "  </thead>\n",
       "  <tbody>\n",
       "    <tr>\n",
       "      <th>367305</th>\n",
       "      <td>4</td>\n",
       "      <td>1.351047e+01</td>\n",
       "      <td>6.0</td>\n",
       "      <td>2.0</td>\n",
       "      <td>1.0</td>\n",
       "      <td>1.0</td>\n",
       "      <td>0.0</td>\n",
       "      <td>0.0</td>\n",
       "      <td>1.0</td>\n",
       "      <td>1.0</td>\n",
       "      <td>...</td>\n",
       "      <td>0.0</td>\n",
       "      <td>0.0</td>\n",
       "      <td>1.0</td>\n",
       "      <td>21.0</td>\n",
       "      <td>1.0</td>\n",
       "      <td>1.0</td>\n",
       "      <td>0.0</td>\n",
       "      <td>2.0</td>\n",
       "      <td>1.0</td>\n",
       "      <td>USA</td>\n",
       "    </tr>\n",
       "    <tr>\n",
       "      <th>367306</th>\n",
       "      <td>4</td>\n",
       "      <td>2.296780e+06</td>\n",
       "      <td>6.0</td>\n",
       "      <td>2.0</td>\n",
       "      <td>1.0</td>\n",
       "      <td>-0.0</td>\n",
       "      <td>0.0</td>\n",
       "      <td>0.0</td>\n",
       "      <td>1.0</td>\n",
       "      <td>0.0</td>\n",
       "      <td>...</td>\n",
       "      <td>1.0</td>\n",
       "      <td>1.0</td>\n",
       "      <td>1.0</td>\n",
       "      <td>34.0</td>\n",
       "      <td>1.0</td>\n",
       "      <td>1.0</td>\n",
       "      <td>0.0</td>\n",
       "      <td>2.0</td>\n",
       "      <td>5.0</td>\n",
       "      <td>USA</td>\n",
       "    </tr>\n",
       "    <tr>\n",
       "      <th>367307</th>\n",
       "      <td>4</td>\n",
       "      <td>3.512722e+05</td>\n",
       "      <td>8.0</td>\n",
       "      <td>2.0</td>\n",
       "      <td>1.0</td>\n",
       "      <td>-1.0</td>\n",
       "      <td>0.0</td>\n",
       "      <td>0.0</td>\n",
       "      <td>0.0</td>\n",
       "      <td>1.0</td>\n",
       "      <td>...</td>\n",
       "      <td>0.0</td>\n",
       "      <td>1.0</td>\n",
       "      <td>1.0</td>\n",
       "      <td>44.0</td>\n",
       "      <td>1.0</td>\n",
       "      <td>1.0</td>\n",
       "      <td>0.0</td>\n",
       "      <td>2.0</td>\n",
       "      <td>5.0</td>\n",
       "      <td>USA</td>\n",
       "    </tr>\n",
       "    <tr>\n",
       "      <th>367308</th>\n",
       "      <td>4</td>\n",
       "      <td>5.404188e+04</td>\n",
       "      <td>8.0</td>\n",
       "      <td>2.0</td>\n",
       "      <td>1.0</td>\n",
       "      <td>-1.0</td>\n",
       "      <td>0.0</td>\n",
       "      <td>0.0</td>\n",
       "      <td>1.0</td>\n",
       "      <td>1.0</td>\n",
       "      <td>...</td>\n",
       "      <td>1.0</td>\n",
       "      <td>1.0</td>\n",
       "      <td>1.0</td>\n",
       "      <td>67.0</td>\n",
       "      <td>1.0</td>\n",
       "      <td>1.0</td>\n",
       "      <td>0.0</td>\n",
       "      <td>1.0</td>\n",
       "      <td>5.0</td>\n",
       "      <td>USA</td>\n",
       "    </tr>\n",
       "    <tr>\n",
       "      <th>367309</th>\n",
       "      <td>4</td>\n",
       "      <td>0.000000e+00</td>\n",
       "      <td>8.0</td>\n",
       "      <td>2.0</td>\n",
       "      <td>1.0</td>\n",
       "      <td>1.0</td>\n",
       "      <td>0.0</td>\n",
       "      <td>0.0</td>\n",
       "      <td>1.0</td>\n",
       "      <td>1.0</td>\n",
       "      <td>...</td>\n",
       "      <td>1.0</td>\n",
       "      <td>0.0</td>\n",
       "      <td>1.0</td>\n",
       "      <td>49.0</td>\n",
       "      <td>2.0</td>\n",
       "      <td>1.0</td>\n",
       "      <td>0.0</td>\n",
       "      <td>1.0</td>\n",
       "      <td>1.0</td>\n",
       "      <td>USA</td>\n",
       "    </tr>\n",
       "  </tbody>\n",
       "</table>\n",
       "<p>5 rows × 64 columns</p>\n",
       "</div>"
      ],
      "text/plain": [
       "        wave      INCOME_2  Cantril_ladder  Health_disable  Relative_have  \\\n",
       "367305     4  1.351047e+01             6.0             2.0            1.0   \n",
       "367306     4  2.296780e+06             6.0             2.0            1.0   \n",
       "367307     4  3.512722e+05             8.0             2.0            1.0   \n",
       "367308     4  5.404188e+04             8.0             2.0            1.0   \n",
       "367309     4  0.000000e+00             8.0             2.0            1.0   \n",
       "\n",
       "        Living_standard_change  Enough_food  Enough_shelter  Well_rested  \\\n",
       "367305                     1.0          0.0             0.0          1.0   \n",
       "367306                    -0.0          0.0             0.0          1.0   \n",
       "367307                    -1.0          0.0             0.0          0.0   \n",
       "367308                    -1.0          0.0             0.0          1.0   \n",
       "367309                     1.0          0.0             0.0          1.0   \n",
       "\n",
       "        Respected  ...  Corruption_government  Performance_leadership  \\\n",
       "367305        1.0  ...                    0.0                     0.0   \n",
       "367306        0.0  ...                    1.0                     1.0   \n",
       "367307        1.0  ...                    0.0                     1.0   \n",
       "367308        1.0  ...                    1.0                     1.0   \n",
       "367309        1.0  ...                    1.0                     0.0   \n",
       "\n",
       "        Gender_female   Age  Marital_status  Employment  Children_under15  \\\n",
       "367305            1.0  21.0             1.0         1.0               0.0   \n",
       "367306            1.0  34.0             1.0         1.0               0.0   \n",
       "367307            1.0  44.0             1.0         1.0               0.0   \n",
       "367308            1.0  67.0             1.0         1.0               0.0   \n",
       "367309            1.0  49.0             2.0         1.0               0.0   \n",
       "\n",
       "        Feeling_income  Income_level  COUNTRY_ISO3  \n",
       "367305             2.0           1.0           USA  \n",
       "367306             2.0           5.0           USA  \n",
       "367307             2.0           5.0           USA  \n",
       "367308             1.0           5.0           USA  \n",
       "367309             1.0           1.0           USA  \n",
       "\n",
       "[5 rows x 64 columns]"
      ]
     },
     "execution_count": 9,
     "metadata": {},
     "output_type": "execute_result"
    }
   ],
   "source": [
    "Df.sort_index().head()"
   ]
  },
  {
   "cell_type": "code",
   "execution_count": 10,
   "id": "29346342-3798-45de-b77c-4b3857fe9145",
   "metadata": {},
   "outputs": [],
   "source": [
    "Df = Df.sample(frac=1, random_state=42)"
   ]
  },
  {
   "cell_type": "code",
   "execution_count": 11,
   "id": "2398aa9f-2f3a-4a40-95ca-19bf8f6ad4c7",
   "metadata": {},
   "outputs": [
    {
     "data": {
      "text/html": [
       "<div>\n",
       "<style scoped>\n",
       "    .dataframe tbody tr th:only-of-type {\n",
       "        vertical-align: middle;\n",
       "    }\n",
       "\n",
       "    .dataframe tbody tr th {\n",
       "        vertical-align: top;\n",
       "    }\n",
       "\n",
       "    .dataframe thead th {\n",
       "        text-align: right;\n",
       "    }\n",
       "</style>\n",
       "<table border=\"1\" class=\"dataframe\">\n",
       "  <thead>\n",
       "    <tr style=\"text-align: right;\">\n",
       "      <th></th>\n",
       "      <th>wave</th>\n",
       "      <th>INCOME_2</th>\n",
       "      <th>Cantril_ladder</th>\n",
       "      <th>Health_disable</th>\n",
       "      <th>Relative_have</th>\n",
       "      <th>Living_standard_change</th>\n",
       "      <th>Enough_food</th>\n",
       "      <th>Enough_shelter</th>\n",
       "      <th>Well_rested</th>\n",
       "      <th>Respected</th>\n",
       "      <th>...</th>\n",
       "      <th>Corruption_government</th>\n",
       "      <th>Performance_leadership</th>\n",
       "      <th>Gender_female</th>\n",
       "      <th>Age</th>\n",
       "      <th>Marital_status</th>\n",
       "      <th>Employment</th>\n",
       "      <th>Children_under15</th>\n",
       "      <th>Feeling_income</th>\n",
       "      <th>Income_level</th>\n",
       "      <th>COUNTRY_ISO3</th>\n",
       "    </tr>\n",
       "  </thead>\n",
       "  <tbody>\n",
       "    <tr>\n",
       "      <th>1469152</th>\n",
       "      <td>10</td>\n",
       "      <td>35602.470662</td>\n",
       "      <td>7.0</td>\n",
       "      <td>2.0</td>\n",
       "      <td>1.0</td>\n",
       "      <td>-0.0</td>\n",
       "      <td>0.0</td>\n",
       "      <td>0.0</td>\n",
       "      <td>1.0</td>\n",
       "      <td>1.0</td>\n",
       "      <td>...</td>\n",
       "      <td>1.0</td>\n",
       "      <td>0.0</td>\n",
       "      <td>0.0</td>\n",
       "      <td>64.0</td>\n",
       "      <td>1.0</td>\n",
       "      <td>5.0</td>\n",
       "      <td>0.0</td>\n",
       "      <td>2.0</td>\n",
       "      <td>3.0</td>\n",
       "      <td>NZL</td>\n",
       "    </tr>\n",
       "    <tr>\n",
       "      <th>1562723</th>\n",
       "      <td>11</td>\n",
       "      <td>20170.734058</td>\n",
       "      <td>5.0</td>\n",
       "      <td>2.0</td>\n",
       "      <td>1.0</td>\n",
       "      <td>-1.0</td>\n",
       "      <td>0.0</td>\n",
       "      <td>0.0</td>\n",
       "      <td>1.0</td>\n",
       "      <td>1.0</td>\n",
       "      <td>...</td>\n",
       "      <td>1.0</td>\n",
       "      <td>0.0</td>\n",
       "      <td>1.0</td>\n",
       "      <td>18.0</td>\n",
       "      <td>1.0</td>\n",
       "      <td>6.0</td>\n",
       "      <td>0.0</td>\n",
       "      <td>2.0</td>\n",
       "      <td>1.0</td>\n",
       "      <td>LBN</td>\n",
       "    </tr>\n",
       "    <tr>\n",
       "      <th>708695</th>\n",
       "      <td>6</td>\n",
       "      <td>8664.458086</td>\n",
       "      <td>4.0</td>\n",
       "      <td>2.0</td>\n",
       "      <td>1.0</td>\n",
       "      <td>1.0</td>\n",
       "      <td>0.0</td>\n",
       "      <td>1.0</td>\n",
       "      <td>1.0</td>\n",
       "      <td>1.0</td>\n",
       "      <td>...</td>\n",
       "      <td>0.0</td>\n",
       "      <td>1.0</td>\n",
       "      <td>0.0</td>\n",
       "      <td>15.0</td>\n",
       "      <td>1.0</td>\n",
       "      <td>6.0</td>\n",
       "      <td>1.0</td>\n",
       "      <td>3.0</td>\n",
       "      <td>3.0</td>\n",
       "      <td>BWA</td>\n",
       "    </tr>\n",
       "    <tr>\n",
       "      <th>1828455</th>\n",
       "      <td>12</td>\n",
       "      <td>30706.925977</td>\n",
       "      <td>2.0</td>\n",
       "      <td>2.0</td>\n",
       "      <td>1.0</td>\n",
       "      <td>1.0</td>\n",
       "      <td>0.0</td>\n",
       "      <td>0.0</td>\n",
       "      <td>0.0</td>\n",
       "      <td>1.0</td>\n",
       "      <td>...</td>\n",
       "      <td>0.0</td>\n",
       "      <td>0.0</td>\n",
       "      <td>0.0</td>\n",
       "      <td>33.0</td>\n",
       "      <td>2.0</td>\n",
       "      <td>1.0</td>\n",
       "      <td>1.0</td>\n",
       "      <td>2.0</td>\n",
       "      <td>1.0</td>\n",
       "      <td>KWT</td>\n",
       "    </tr>\n",
       "    <tr>\n",
       "      <th>968859</th>\n",
       "      <td>7</td>\n",
       "      <td>4826.805232</td>\n",
       "      <td>8.0</td>\n",
       "      <td>1.0</td>\n",
       "      <td>1.0</td>\n",
       "      <td>1.0</td>\n",
       "      <td>0.0</td>\n",
       "      <td>0.0</td>\n",
       "      <td>1.0</td>\n",
       "      <td>1.0</td>\n",
       "      <td>...</td>\n",
       "      <td>1.0</td>\n",
       "      <td>0.0</td>\n",
       "      <td>0.0</td>\n",
       "      <td>29.0</td>\n",
       "      <td>8.0</td>\n",
       "      <td>1.0</td>\n",
       "      <td>1.0</td>\n",
       "      <td>3.0</td>\n",
       "      <td>4.0</td>\n",
       "      <td>HND</td>\n",
       "    </tr>\n",
       "  </tbody>\n",
       "</table>\n",
       "<p>5 rows × 64 columns</p>\n",
       "</div>"
      ],
      "text/plain": [
       "         wave      INCOME_2  Cantril_ladder  Health_disable  Relative_have  \\\n",
       "1469152    10  35602.470662             7.0             2.0            1.0   \n",
       "1562723    11  20170.734058             5.0             2.0            1.0   \n",
       "708695      6   8664.458086             4.0             2.0            1.0   \n",
       "1828455    12  30706.925977             2.0             2.0            1.0   \n",
       "968859      7   4826.805232             8.0             1.0            1.0   \n",
       "\n",
       "         Living_standard_change  Enough_food  Enough_shelter  Well_rested  \\\n",
       "1469152                    -0.0          0.0             0.0          1.0   \n",
       "1562723                    -1.0          0.0             0.0          1.0   \n",
       "708695                      1.0          0.0             1.0          1.0   \n",
       "1828455                     1.0          0.0             0.0          0.0   \n",
       "968859                      1.0          0.0             0.0          1.0   \n",
       "\n",
       "         Respected  ...  Corruption_government  Performance_leadership  \\\n",
       "1469152        1.0  ...                    1.0                     0.0   \n",
       "1562723        1.0  ...                    1.0                     0.0   \n",
       "708695         1.0  ...                    0.0                     1.0   \n",
       "1828455        1.0  ...                    0.0                     0.0   \n",
       "968859         1.0  ...                    1.0                     0.0   \n",
       "\n",
       "         Gender_female   Age  Marital_status  Employment  Children_under15  \\\n",
       "1469152            0.0  64.0             1.0         5.0               0.0   \n",
       "1562723            1.0  18.0             1.0         6.0               0.0   \n",
       "708695             0.0  15.0             1.0         6.0               1.0   \n",
       "1828455            0.0  33.0             2.0         1.0               1.0   \n",
       "968859             0.0  29.0             8.0         1.0               1.0   \n",
       "\n",
       "         Feeling_income  Income_level  COUNTRY_ISO3  \n",
       "1469152             2.0           3.0           NZL  \n",
       "1562723             2.0           1.0           LBN  \n",
       "708695              3.0           3.0           BWA  \n",
       "1828455             2.0           1.0           KWT  \n",
       "968859              3.0           4.0           HND  \n",
       "\n",
       "[5 rows x 64 columns]"
      ]
     },
     "execution_count": 11,
     "metadata": {},
     "output_type": "execute_result"
    }
   ],
   "source": [
    "Df.head()"
   ]
  },
  {
   "cell_type": "code",
   "execution_count": 12,
   "id": "40e51a7c-25d7-40dc-a6fe-8d12709e74ea",
   "metadata": {},
   "outputs": [],
   "source": [
    "Df['COUNTRY_ISO3'] = Df['COUNTRY_ISO3'].astype('category')"
   ]
  },
  {
   "cell_type": "code",
   "execution_count": 13,
   "id": "0818c84b-a65b-49c5-a3cf-8a5d97b6f59b",
   "metadata": {},
   "outputs": [
    {
     "data": {
      "text/plain": [
       "False"
      ]
     },
     "execution_count": 13,
     "metadata": {},
     "output_type": "execute_result"
    }
   ],
   "source": [
    "Df.isna().any().any()"
   ]
  },
  {
   "cell_type": "code",
   "execution_count": 14,
   "id": "3c1b5b97-b63e-4fe7-8c13-844e64c3b627",
   "metadata": {},
   "outputs": [],
   "source": [
    "Df_young = Df.loc[Df['Age']<=40, :].drop(columns=['Age'])"
   ]
  },
  {
   "cell_type": "code",
   "execution_count": 15,
   "id": "ebaa6cdf-acf3-4d80-b46f-c921cd6be286",
   "metadata": {},
   "outputs": [],
   "source": [
    "Df_middle = Df.loc[(Df['Age']>40)&(Df['Age']<=65), :].drop(columns=['Age'])"
   ]
  },
  {
   "cell_type": "code",
   "execution_count": 16,
   "id": "2b70c151-23df-446b-9d15-29cb59a0e88b",
   "metadata": {},
   "outputs": [],
   "source": [
    "Df_old = Df.loc[Df['Age']>65, :].drop(columns=['Age'])"
   ]
  },
  {
   "cell_type": "code",
   "execution_count": 17,
   "id": "4393f179-cb25-4fe2-9bec-1bd5db2c1509",
   "metadata": {},
   "outputs": [],
   "source": [
    "yy = Df_young['Cantril_ladder']\n",
    "Xy = Df_young.drop(columns=['Cantril_ladder'])"
   ]
  },
  {
   "cell_type": "code",
   "execution_count": 18,
   "id": "dcd9fe7f-1ca5-4e90-9a7f-49492b79a26a",
   "metadata": {},
   "outputs": [],
   "source": [
    "ym = Df_middle['Cantril_ladder']\n",
    "Xm = Df_middle.drop(columns=['Cantril_ladder'])"
   ]
  },
  {
   "cell_type": "code",
   "execution_count": 19,
   "id": "e748fc64-a701-4ae0-9d38-7b2a919786e8",
   "metadata": {},
   "outputs": [],
   "source": [
    "yo = Df_old['Cantril_ladder']\n",
    "Xo = Df_old.drop(columns=['Cantril_ladder'])"
   ]
  },
  {
   "cell_type": "code",
   "execution_count": 47,
   "id": "419e1972-0405-4398-9de3-136bfbf3d0e1",
   "metadata": {},
   "outputs": [],
   "source": [
    "y = Df['Cantril_ladder']\n",
    "X = Df.drop(columns=['Cantril_ladder'])"
   ]
  },
  {
   "cell_type": "code",
   "execution_count": null,
   "id": "2b41e9f6-be8c-4e62-83cc-816bd30c4cdb",
   "metadata": {},
   "outputs": [],
   "source": []
  },
  {
   "cell_type": "markdown",
   "id": "0a7a59d3-85c2-48ae-bb86-e44daa218eef",
   "metadata": {},
   "source": [
    "## Prediction of Each Group Based on Different Models"
   ]
  },
  {
   "cell_type": "code",
   "execution_count": 70,
   "id": "34af5cc7-c923-4742-9fcd-6abfa60c1202",
   "metadata": {},
   "outputs": [],
   "source": [
    "ols = LinearRegression()\n",
    "kf = KFold(n_splits=10, shuffle=True, random_state=42)\n",
    "Xy_encoded = pd.get_dummies(Xy, drop_first=True)\n",
    "scores = cross_val_score(ols, Xy_encoded, yy, cv=kf, scoring='r2')"
   ]
  },
  {
   "cell_type": "code",
   "execution_count": 71,
   "id": "69566d79-2fae-49d3-8848-3f5d6a6d7a62",
   "metadata": {},
   "outputs": [
    {
     "data": {
      "text/plain": [
       "array([0.31047511, 0.30359478, 0.31020385, 0.30641302, 0.30875559,\n",
       "       0.3062418 , 0.3089177 , 0.30988344, 0.27808987, 0.3134841 ])"
      ]
     },
     "execution_count": 71,
     "metadata": {},
     "output_type": "execute_result"
    }
   ],
   "source": [
    "scores"
   ]
  },
  {
   "cell_type": "code",
   "execution_count": 72,
   "id": "e6114ee0-db66-423f-89dd-f978a494e32e",
   "metadata": {},
   "outputs": [
    {
     "data": {
      "text/plain": [
       "0.03539422763774025"
      ]
     },
     "execution_count": 72,
     "metadata": {},
     "output_type": "execute_result"
    }
   ],
   "source": [
    "scores.max() - scores.min()"
   ]
  },
  {
   "cell_type": "code",
   "execution_count": 34,
   "id": "2567cc23-5968-4c62-9a7e-1850a76bea44",
   "metadata": {},
   "outputs": [
    {
     "data": {
      "text/plain": [
       "0.3056059241902413"
      ]
     },
     "execution_count": 34,
     "metadata": {},
     "output_type": "execute_result"
    }
   ],
   "source": [
    "scores.mean()"
   ]
  },
  {
   "cell_type": "code",
   "execution_count": 35,
   "id": "0d10593d-caa0-4e26-9a9d-6d3047a832d9",
   "metadata": {},
   "outputs": [
    {
     "data": {
      "text/plain": [
       "0.009530658714331806"
      ]
     },
     "execution_count": 35,
     "metadata": {},
     "output_type": "execute_result"
    }
   ],
   "source": [
    "scores.std()"
   ]
  },
  {
   "cell_type": "code",
   "execution_count": 38,
   "id": "6956197b-9daf-4d39-8f00-1d9ec9e32c00",
   "metadata": {},
   "outputs": [],
   "source": [
    "ols = LinearRegression()\n",
    "kf = KFold(n_splits=10, shuffle=True, random_state=42)\n",
    "Xm_encoded = pd.get_dummies(Xm, drop_first=True)\n",
    "scores = cross_val_score(ols, Xm_encoded, ym, cv=kf, scoring='r2')"
   ]
  },
  {
   "cell_type": "code",
   "execution_count": 39,
   "id": "de606caa-acff-4b70-bb5f-d88c66b12eda",
   "metadata": {},
   "outputs": [
    {
     "data": {
      "text/plain": [
       "array([0.37195114, 0.37685847, 0.37181933, 0.37486719, 0.37441654,\n",
       "       0.36868896, 0.26802381, 0.36986432, 0.36923755, 0.37630765])"
      ]
     },
     "execution_count": 39,
     "metadata": {},
     "output_type": "execute_result"
    }
   ],
   "source": [
    "scores"
   ]
  },
  {
   "cell_type": "code",
   "execution_count": 40,
   "id": "1400c03a-8825-4790-9cd1-b10cf2e9ad0d",
   "metadata": {},
   "outputs": [
    {
     "data": {
      "text/plain": [
       "0.36220349524020556"
      ]
     },
     "execution_count": 40,
     "metadata": {},
     "output_type": "execute_result"
    }
   ],
   "source": [
    "scores.mean()"
   ]
  },
  {
   "cell_type": "code",
   "execution_count": 41,
   "id": "2e72628e-e3b0-463e-866e-76b4aabd60b6",
   "metadata": {},
   "outputs": [
    {
     "data": {
      "text/plain": [
       "0.03151308391892737"
      ]
     },
     "execution_count": 41,
     "metadata": {},
     "output_type": "execute_result"
    }
   ],
   "source": [
    "scores.std()"
   ]
  },
  {
   "cell_type": "code",
   "execution_count": 42,
   "id": "53cdc63a-9054-469e-8767-4184cad7eca1",
   "metadata": {},
   "outputs": [],
   "source": [
    "ols = LinearRegression()\n",
    "kf = KFold(n_splits=10, shuffle=True, random_state=42)\n",
    "Xo_encoded = pd.get_dummies(Xo, drop_first=True)\n",
    "scores = cross_val_score(ols, Xo_encoded, yo, cv=kf, scoring='r2')"
   ]
  },
  {
   "cell_type": "code",
   "execution_count": 43,
   "id": "6f53d3d5-09b0-4d97-82a5-0e0e5149fed9",
   "metadata": {},
   "outputs": [
    {
     "data": {
      "text/plain": [
       "array([0.38873713, 0.38803747, 0.38959006, 0.3953112 , 0.39039817,\n",
       "       0.39287455, 0.38181798, 0.39254133, 0.39596217, 0.38404042])"
      ]
     },
     "execution_count": 43,
     "metadata": {},
     "output_type": "execute_result"
    }
   ],
   "source": [
    "scores"
   ]
  },
  {
   "cell_type": "code",
   "execution_count": 44,
   "id": "37cc238c-f23b-4e91-99a9-78d5ce71dac3",
   "metadata": {},
   "outputs": [
    {
     "data": {
      "text/plain": [
       "0.38993104677330476"
      ]
     },
     "execution_count": 44,
     "metadata": {},
     "output_type": "execute_result"
    }
   ],
   "source": [
    "scores.mean()"
   ]
  },
  {
   "cell_type": "code",
   "execution_count": 45,
   "id": "08dc94a1-b8fe-44ff-bb81-3f02445cf25f",
   "metadata": {},
   "outputs": [
    {
     "data": {
      "text/plain": [
       "0.004320476784696853"
      ]
     },
     "execution_count": 45,
     "metadata": {},
     "output_type": "execute_result"
    }
   ],
   "source": [
    "scores.std()"
   ]
  },
  {
   "cell_type": "markdown",
   "id": "8e1e0261-c207-44d0-a047-c5c289cd56e9",
   "metadata": {},
   "source": [
    "### All"
   ]
  },
  {
   "cell_type": "code",
   "execution_count": 48,
   "id": "1f6c6e4b-9388-47c5-9c0e-2f35af6861ac",
   "metadata": {},
   "outputs": [],
   "source": [
    "ols = LinearRegression()\n",
    "kf = KFold(n_splits=10, shuffle=True, random_state=42)\n",
    "X_encoded = pd.get_dummies(X, drop_first=True)\n",
    "scores = cross_val_score(ols, X_encoded, y, cv=kf, scoring='r2')"
   ]
  },
  {
   "cell_type": "code",
   "execution_count": 49,
   "id": "dae2cc75-29aa-4680-8ff8-3bb9bd1f2299",
   "metadata": {},
   "outputs": [
    {
     "data": {
      "text/plain": [
       "array([0.33886987, 0.33819521, 0.33522845, 0.33606037, 0.33872882,\n",
       "       0.33694698, 0.33762807, 0.33923422, 0.3413866 , 0.33945767])"
      ]
     },
     "execution_count": 49,
     "metadata": {},
     "output_type": "execute_result"
    }
   ],
   "source": [
    "scores"
   ]
  },
  {
   "cell_type": "code",
   "execution_count": 50,
   "id": "0d5a6cd5-8735-4c2a-8a24-814e0d31e9bb",
   "metadata": {},
   "outputs": [
    {
     "data": {
      "text/plain": [
       "0.33817362612436974"
      ]
     },
     "execution_count": 50,
     "metadata": {},
     "output_type": "execute_result"
    }
   ],
   "source": [
    "scores.mean()"
   ]
  },
  {
   "cell_type": "code",
   "execution_count": 51,
   "id": "6c983ccc-4029-44b0-bb96-aa49dc659e37",
   "metadata": {},
   "outputs": [
    {
     "data": {
      "text/plain": [
       "0.0016980141290090752"
      ]
     },
     "execution_count": 51,
     "metadata": {},
     "output_type": "execute_result"
    }
   ],
   "source": [
    "scores.std()"
   ]
  },
  {
   "cell_type": "code",
   "execution_count": 53,
   "id": "432c067e-a0c1-486b-9ba0-3c16f5fd3b77",
   "metadata": {},
   "outputs": [
    {
     "data": {
      "text/plain": [
       "(1911212, 225)"
      ]
     },
     "execution_count": 53,
     "metadata": {},
     "output_type": "execute_result"
    }
   ],
   "source": [
    "X_encoded.shape"
   ]
  },
  {
   "cell_type": "code",
   "execution_count": 68,
   "id": "d2d23b7f-354c-4cb9-8f4a-6df3bcd119dd",
   "metadata": {},
   "outputs": [
    {
     "data": {
      "text/plain": [
       "0.1523217982845312"
      ]
     },
     "execution_count": 68,
     "metadata": {},
     "output_type": "execute_result"
    }
   ],
   "source": [
    "5.15 / 33.81"
   ]
  },
  {
   "cell_type": "markdown",
   "id": "719fb8fc-fe89-4ec2-8676-143ce4464ba2",
   "metadata": {},
   "source": [
    "## ANN Test"
   ]
  },
  {
   "cell_type": "code",
   "execution_count": 64,
   "id": "140810f7-c86e-4549-8a35-f46c574e8d82",
   "metadata": {},
   "outputs": [],
   "source": [
    "import tensorflow as tf\n",
    "import tensorflow.keras.backend as K\n",
    "from tensorflow.keras.models import Sequential\n",
    "from tensorflow.keras.layers import Dense"
   ]
  },
  {
   "cell_type": "code",
   "execution_count": 65,
   "id": "a0a473fe-89c4-4f2c-bc19-c7bf2a7e62a0",
   "metadata": {},
   "outputs": [],
   "source": [
    "def r2_score(y_true, y_pred):\n",
    "    ss_res = K.sum(K.square(y_true - y_pred))\n",
    "    ss_tot = K.sum(K.square(y_true - K.mean(y_true)))\n",
    "    return 1 - ss_res / (ss_tot + K.epsilon())"
   ]
  },
  {
   "cell_type": "code",
   "execution_count": 55,
   "id": "8377b8d9-b6b6-4b5a-848f-12a26685c72b",
   "metadata": {},
   "outputs": [],
   "source": [
    "X_num = X_encoded.to_numpy()\n",
    "y_num = y.to_numpy()"
   ]
  },
  {
   "cell_type": "code",
   "execution_count": 59,
   "id": "d4daa19a-f2c1-4c90-b787-61a24583638a",
   "metadata": {},
   "outputs": [],
   "source": [
    "X_num = X_num.astype(float)\n",
    "y_num = y_num.astype(float)"
   ]
  },
  {
   "cell_type": "code",
   "execution_count": 67,
   "id": "0f218fca-7ca3-48ea-80ff-6c3fe3cb7550",
   "metadata": {
    "scrolled": true
   },
   "outputs": [
    {
     "name": "stdout",
     "output_type": "stream",
     "text": [
      "Epoch 1/100\n"
     ]
    },
    {
     "name": "stderr",
     "output_type": "stream",
     "text": [
      "2025-04-20 17:25:27.831235: I tensorflow/compiler/xla/stream_executor/cuda/cuda_blas.cc:637] TensorFloat-32 will be used for the matrix multiplication. This will only be logged once.\n",
      "2025-04-20 17:25:28.869678: I tensorflow/compiler/xla/service/service.cc:169] XLA service 0x2216c8d0 initialized for platform CUDA (this does not guarantee that XLA will be used). Devices:\n",
      "2025-04-20 17:25:28.869742: I tensorflow/compiler/xla/service/service.cc:177]   StreamExecutor device (0): NVIDIA GeForce RTX 4090, Compute Capability 8.9\n",
      "2025-04-20 17:25:29.548346: I tensorflow/compiler/mlir/tensorflow/utils/dump_mlir_util.cc:269] disabling MLIR crash reproducer, set env var `MLIR_CRASH_REPRODUCER_DIRECTORY` to enable.\n",
      "2025-04-20 17:25:31.391614: I tensorflow/compiler/xla/stream_executor/cuda/cuda_dnn.cc:424] Loaded cuDNN version 8902\n",
      "2025-04-20 17:25:33.496036: W tensorflow/compiler/xla/stream_executor/gpu/asm_compiler.cc:231] Falling back to the CUDA driver for PTX compilation; ptxas does not support CC 8.9\n",
      "2025-04-20 17:25:33.496080: W tensorflow/compiler/xla/stream_executor/gpu/asm_compiler.cc:234] Used ptxas at ptxas\n",
      "2025-04-20 17:25:33.496193: W tensorflow/compiler/xla/service/gpu/nvptx_compiler.cc:344] Couldn't read CUDA driver version.\n",
      "2025-04-20 17:25:33.681519: I ./tensorflow/compiler/jit/device_compiler.h:180] Compiled cluster using XLA!  This line is logged at most once for the lifetime of the process.\n"
     ]
    },
    {
     "name": "stdout",
     "output_type": "stream",
     "text": [
      "6720/6720 [==============================] - 54s 6ms/step - loss: 35175.6914 - r2_score: -6989.4409 - val_loss: 26.7493 - val_r2_score: -3.6739\n",
      "Epoch 2/100\n",
      "6720/6720 [==============================] - 46s 7ms/step - loss: 3829.9373 - r2_score: -708.2230 - val_loss: 6.7976 - val_r2_score: -0.1814\n",
      "Epoch 3/100\n",
      "6720/6720 [==============================] - 45s 7ms/step - loss: 250.8978 - r2_score: -46.5597 - val_loss: 4.2356 - val_r2_score: 0.2694\n",
      "Epoch 4/100\n",
      "6720/6720 [==============================] - 45s 7ms/step - loss: 4.2952 - r2_score: 0.2591 - val_loss: 4.3302 - val_r2_score: 0.2532\n",
      "Epoch 5/100\n",
      "6720/6720 [==============================] - 45s 7ms/step - loss: 8.9919 - r2_score: -0.5248 - val_loss: 5.2750 - val_r2_score: 0.0907\n",
      "Epoch 6/100\n",
      "6720/6720 [==============================] - 46s 7ms/step - loss: 4.6306 - r2_score: 0.2017 - val_loss: 4.3882 - val_r2_score: 0.2430\n",
      "Epoch 7/100\n",
      "6720/6720 [==============================] - 45s 7ms/step - loss: 5.7651 - r2_score: 0.0067 - val_loss: 5.8277 - val_r2_score: -0.0044\n",
      "Epoch 8/100\n",
      "6720/6720 [==============================] - 45s 7ms/step - loss: 5.8307 - r2_score: -0.0047 - val_loss: 5.8237 - val_r2_score: -0.0038\n",
      "Epoch 9/100\n",
      "6720/6720 [==============================] - 45s 7ms/step - loss: 5.8303 - r2_score: -0.0047 - val_loss: 5.8261 - val_r2_score: -0.0042\n",
      "Epoch 10/100\n",
      "6720/6720 [==============================] - 45s 7ms/step - loss: 5.8298 - r2_score: -0.0046 - val_loss: 5.8254 - val_r2_score: -0.0041\n",
      "Epoch 11/100\n",
      "6720/6720 [==============================] - 45s 7ms/step - loss: 5.8297 - r2_score: -0.0046 - val_loss: 5.8235 - val_r2_score: -0.0037\n",
      "Epoch 12/100\n",
      "6720/6720 [==============================] - 46s 7ms/step - loss: 5.8296 - r2_score: -0.0045 - val_loss: 5.8281 - val_r2_score: -0.0046\n",
      "Epoch 13/100\n",
      "6720/6720 [==============================] - 45s 7ms/step - loss: 5.8297 - r2_score: -0.0045 - val_loss: 5.8253 - val_r2_score: -0.0040\n",
      "Epoch 14/100\n",
      "6720/6720 [==============================] - 44s 7ms/step - loss: 5.8292 - r2_score: -0.0044 - val_loss: 5.8248 - val_r2_score: -0.0040\n",
      "Epoch 15/100\n",
      "6720/6720 [==============================] - 43s 6ms/step - loss: 5.8288 - r2_score: -0.0044 - val_loss: 5.8239 - val_r2_score: -0.0038\n",
      "Epoch 16/100\n",
      "6720/6720 [==============================] - 43s 6ms/step - loss: 5.8291 - r2_score: -0.0044 - val_loss: 5.8237 - val_r2_score: -0.0038\n",
      "Epoch 17/100\n",
      "6720/6720 [==============================] - 43s 6ms/step - loss: 5.8291 - r2_score: -0.0044 - val_loss: 5.8280 - val_r2_score: -0.0045\n",
      "Epoch 18/100\n",
      "6720/6720 [==============================] - 43s 6ms/step - loss: 5.8288 - r2_score: -0.0043 - val_loss: 5.8240 - val_r2_score: -0.0038\n",
      "Epoch 19/100\n",
      "3509/6720 [==============>...............] - ETA: 20s - loss: 5.8313 - r2_score: -0.0043"
     ]
    },
    {
     "ename": "KeyboardInterrupt",
     "evalue": "",
     "output_type": "error",
     "traceback": [
      "\u001b[0;31m---------------------------------------------------------------------------\u001b[0m",
      "\u001b[0;31mKeyboardInterrupt\u001b[0m                         Traceback (most recent call last)",
      "Cell \u001b[0;32mIn[67], line 18\u001b[0m\n\u001b[1;32m     15\u001b[0m model\u001b[38;5;241m.\u001b[39mcompile(optimizer\u001b[38;5;241m=\u001b[39m\u001b[38;5;124m'\u001b[39m\u001b[38;5;124madam\u001b[39m\u001b[38;5;124m'\u001b[39m, loss\u001b[38;5;241m=\u001b[39m\u001b[38;5;124m'\u001b[39m\u001b[38;5;124mmse\u001b[39m\u001b[38;5;124m'\u001b[39m, metrics\u001b[38;5;241m=\u001b[39m[r2_score])\n\u001b[1;32m     17\u001b[0m \u001b[38;5;66;03m# Fit the model\u001b[39;00m\n\u001b[0;32m---> 18\u001b[0m \u001b[43mmodel\u001b[49m\u001b[38;5;241;43m.\u001b[39;49m\u001b[43mfit\u001b[49m\u001b[43m(\u001b[49m\u001b[43mX_num\u001b[49m\u001b[43m,\u001b[49m\u001b[43m \u001b[49m\u001b[43my_num\u001b[49m\u001b[43m,\u001b[49m\u001b[43m \u001b[49m\u001b[43mepochs\u001b[49m\u001b[38;5;241;43m=\u001b[39;49m\u001b[38;5;241;43m100\u001b[39;49m\u001b[43m,\u001b[49m\u001b[43m \u001b[49m\u001b[43mbatch_size\u001b[49m\u001b[38;5;241;43m=\u001b[39;49m\u001b[38;5;241;43m32\u001b[39;49m\u001b[38;5;241;43m*\u001b[39;49m\u001b[38;5;241;43m8\u001b[39;49m\u001b[43m,\u001b[49m\u001b[43m \u001b[49m\u001b[43mvalidation_split\u001b[49m\u001b[38;5;241;43m=\u001b[39;49m\u001b[38;5;241;43m0.1\u001b[39;49m\u001b[43m)\u001b[49m\n",
      "File \u001b[0;32m~/anaconda3/envs/tf/lib/python3.9/site-packages/keras/utils/traceback_utils.py:65\u001b[0m, in \u001b[0;36mfilter_traceback.<locals>.error_handler\u001b[0;34m(*args, **kwargs)\u001b[0m\n\u001b[1;32m     63\u001b[0m filtered_tb \u001b[38;5;241m=\u001b[39m \u001b[38;5;28;01mNone\u001b[39;00m\n\u001b[1;32m     64\u001b[0m \u001b[38;5;28;01mtry\u001b[39;00m:\n\u001b[0;32m---> 65\u001b[0m     \u001b[38;5;28;01mreturn\u001b[39;00m \u001b[43mfn\u001b[49m\u001b[43m(\u001b[49m\u001b[38;5;241;43m*\u001b[39;49m\u001b[43margs\u001b[49m\u001b[43m,\u001b[49m\u001b[43m \u001b[49m\u001b[38;5;241;43m*\u001b[39;49m\u001b[38;5;241;43m*\u001b[39;49m\u001b[43mkwargs\u001b[49m\u001b[43m)\u001b[49m\n\u001b[1;32m     66\u001b[0m \u001b[38;5;28;01mexcept\u001b[39;00m \u001b[38;5;167;01mException\u001b[39;00m \u001b[38;5;28;01mas\u001b[39;00m e:\n\u001b[1;32m     67\u001b[0m     filtered_tb \u001b[38;5;241m=\u001b[39m _process_traceback_frames(e\u001b[38;5;241m.\u001b[39m__traceback__)\n",
      "File \u001b[0;32m~/anaconda3/envs/tf/lib/python3.9/site-packages/keras/engine/training.py:1685\u001b[0m, in \u001b[0;36mModel.fit\u001b[0;34m(self, x, y, batch_size, epochs, verbose, callbacks, validation_split, validation_data, shuffle, class_weight, sample_weight, initial_epoch, steps_per_epoch, validation_steps, validation_batch_size, validation_freq, max_queue_size, workers, use_multiprocessing)\u001b[0m\n\u001b[1;32m   1677\u001b[0m \u001b[38;5;28;01mwith\u001b[39;00m tf\u001b[38;5;241m.\u001b[39mprofiler\u001b[38;5;241m.\u001b[39mexperimental\u001b[38;5;241m.\u001b[39mTrace(\n\u001b[1;32m   1678\u001b[0m     \u001b[38;5;124m\"\u001b[39m\u001b[38;5;124mtrain\u001b[39m\u001b[38;5;124m\"\u001b[39m,\n\u001b[1;32m   1679\u001b[0m     epoch_num\u001b[38;5;241m=\u001b[39mepoch,\n\u001b[0;32m   (...)\u001b[0m\n\u001b[1;32m   1682\u001b[0m     _r\u001b[38;5;241m=\u001b[39m\u001b[38;5;241m1\u001b[39m,\n\u001b[1;32m   1683\u001b[0m ):\n\u001b[1;32m   1684\u001b[0m     callbacks\u001b[38;5;241m.\u001b[39mon_train_batch_begin(step)\n\u001b[0;32m-> 1685\u001b[0m     tmp_logs \u001b[38;5;241m=\u001b[39m \u001b[38;5;28;43mself\u001b[39;49m\u001b[38;5;241;43m.\u001b[39;49m\u001b[43mtrain_function\u001b[49m\u001b[43m(\u001b[49m\u001b[43miterator\u001b[49m\u001b[43m)\u001b[49m\n\u001b[1;32m   1686\u001b[0m     \u001b[38;5;28;01mif\u001b[39;00m data_handler\u001b[38;5;241m.\u001b[39mshould_sync:\n\u001b[1;32m   1687\u001b[0m         context\u001b[38;5;241m.\u001b[39masync_wait()\n",
      "File \u001b[0;32m~/anaconda3/envs/tf/lib/python3.9/site-packages/tensorflow/python/util/traceback_utils.py:150\u001b[0m, in \u001b[0;36mfilter_traceback.<locals>.error_handler\u001b[0;34m(*args, **kwargs)\u001b[0m\n\u001b[1;32m    148\u001b[0m filtered_tb \u001b[38;5;241m=\u001b[39m \u001b[38;5;28;01mNone\u001b[39;00m\n\u001b[1;32m    149\u001b[0m \u001b[38;5;28;01mtry\u001b[39;00m:\n\u001b[0;32m--> 150\u001b[0m   \u001b[38;5;28;01mreturn\u001b[39;00m \u001b[43mfn\u001b[49m\u001b[43m(\u001b[49m\u001b[38;5;241;43m*\u001b[39;49m\u001b[43margs\u001b[49m\u001b[43m,\u001b[49m\u001b[43m \u001b[49m\u001b[38;5;241;43m*\u001b[39;49m\u001b[38;5;241;43m*\u001b[39;49m\u001b[43mkwargs\u001b[49m\u001b[43m)\u001b[49m\n\u001b[1;32m    151\u001b[0m \u001b[38;5;28;01mexcept\u001b[39;00m \u001b[38;5;167;01mException\u001b[39;00m \u001b[38;5;28;01mas\u001b[39;00m e:\n\u001b[1;32m    152\u001b[0m   filtered_tb \u001b[38;5;241m=\u001b[39m _process_traceback_frames(e\u001b[38;5;241m.\u001b[39m__traceback__)\n",
      "File \u001b[0;32m~/anaconda3/envs/tf/lib/python3.9/site-packages/tensorflow/python/eager/polymorphic_function/polymorphic_function.py:894\u001b[0m, in \u001b[0;36mFunction.__call__\u001b[0;34m(self, *args, **kwds)\u001b[0m\n\u001b[1;32m    891\u001b[0m compiler \u001b[38;5;241m=\u001b[39m \u001b[38;5;124m\"\u001b[39m\u001b[38;5;124mxla\u001b[39m\u001b[38;5;124m\"\u001b[39m \u001b[38;5;28;01mif\u001b[39;00m \u001b[38;5;28mself\u001b[39m\u001b[38;5;241m.\u001b[39m_jit_compile \u001b[38;5;28;01melse\u001b[39;00m \u001b[38;5;124m\"\u001b[39m\u001b[38;5;124mnonXla\u001b[39m\u001b[38;5;124m\"\u001b[39m\n\u001b[1;32m    893\u001b[0m \u001b[38;5;28;01mwith\u001b[39;00m OptionalXlaContext(\u001b[38;5;28mself\u001b[39m\u001b[38;5;241m.\u001b[39m_jit_compile):\n\u001b[0;32m--> 894\u001b[0m   result \u001b[38;5;241m=\u001b[39m \u001b[38;5;28;43mself\u001b[39;49m\u001b[38;5;241;43m.\u001b[39;49m\u001b[43m_call\u001b[49m\u001b[43m(\u001b[49m\u001b[38;5;241;43m*\u001b[39;49m\u001b[43margs\u001b[49m\u001b[43m,\u001b[49m\u001b[43m \u001b[49m\u001b[38;5;241;43m*\u001b[39;49m\u001b[38;5;241;43m*\u001b[39;49m\u001b[43mkwds\u001b[49m\u001b[43m)\u001b[49m\n\u001b[1;32m    896\u001b[0m new_tracing_count \u001b[38;5;241m=\u001b[39m \u001b[38;5;28mself\u001b[39m\u001b[38;5;241m.\u001b[39mexperimental_get_tracing_count()\n\u001b[1;32m    897\u001b[0m without_tracing \u001b[38;5;241m=\u001b[39m (tracing_count \u001b[38;5;241m==\u001b[39m new_tracing_count)\n",
      "File \u001b[0;32m~/anaconda3/envs/tf/lib/python3.9/site-packages/tensorflow/python/eager/polymorphic_function/polymorphic_function.py:926\u001b[0m, in \u001b[0;36mFunction._call\u001b[0;34m(self, *args, **kwds)\u001b[0m\n\u001b[1;32m    923\u001b[0m   \u001b[38;5;28mself\u001b[39m\u001b[38;5;241m.\u001b[39m_lock\u001b[38;5;241m.\u001b[39mrelease()\n\u001b[1;32m    924\u001b[0m   \u001b[38;5;66;03m# In this case we have created variables on the first call, so we run the\u001b[39;00m\n\u001b[1;32m    925\u001b[0m   \u001b[38;5;66;03m# defunned version which is guaranteed to never create variables.\u001b[39;00m\n\u001b[0;32m--> 926\u001b[0m   \u001b[38;5;28;01mreturn\u001b[39;00m \u001b[38;5;28;43mself\u001b[39;49m\u001b[38;5;241;43m.\u001b[39;49m\u001b[43m_no_variable_creation_fn\u001b[49m\u001b[43m(\u001b[49m\u001b[38;5;241;43m*\u001b[39;49m\u001b[43margs\u001b[49m\u001b[43m,\u001b[49m\u001b[43m \u001b[49m\u001b[38;5;241;43m*\u001b[39;49m\u001b[38;5;241;43m*\u001b[39;49m\u001b[43mkwds\u001b[49m\u001b[43m)\u001b[49m  \u001b[38;5;66;03m# pylint: disable=not-callable\u001b[39;00m\n\u001b[1;32m    927\u001b[0m \u001b[38;5;28;01melif\u001b[39;00m \u001b[38;5;28mself\u001b[39m\u001b[38;5;241m.\u001b[39m_variable_creation_fn \u001b[38;5;129;01mis\u001b[39;00m \u001b[38;5;129;01mnot\u001b[39;00m \u001b[38;5;28;01mNone\u001b[39;00m:\n\u001b[1;32m    928\u001b[0m   \u001b[38;5;66;03m# Release the lock early so that multiple threads can perform the call\u001b[39;00m\n\u001b[1;32m    929\u001b[0m   \u001b[38;5;66;03m# in parallel.\u001b[39;00m\n\u001b[1;32m    930\u001b[0m   \u001b[38;5;28mself\u001b[39m\u001b[38;5;241m.\u001b[39m_lock\u001b[38;5;241m.\u001b[39mrelease()\n",
      "File \u001b[0;32m~/anaconda3/envs/tf/lib/python3.9/site-packages/tensorflow/python/eager/polymorphic_function/tracing_compiler.py:143\u001b[0m, in \u001b[0;36mTracingCompiler.__call__\u001b[0;34m(self, *args, **kwargs)\u001b[0m\n\u001b[1;32m    140\u001b[0m \u001b[38;5;28;01mwith\u001b[39;00m \u001b[38;5;28mself\u001b[39m\u001b[38;5;241m.\u001b[39m_lock:\n\u001b[1;32m    141\u001b[0m   (concrete_function,\n\u001b[1;32m    142\u001b[0m    filtered_flat_args) \u001b[38;5;241m=\u001b[39m \u001b[38;5;28mself\u001b[39m\u001b[38;5;241m.\u001b[39m_maybe_define_function(args, kwargs)\n\u001b[0;32m--> 143\u001b[0m \u001b[38;5;28;01mreturn\u001b[39;00m \u001b[43mconcrete_function\u001b[49m\u001b[38;5;241;43m.\u001b[39;49m\u001b[43m_call_flat\u001b[49m\u001b[43m(\u001b[49m\n\u001b[1;32m    144\u001b[0m \u001b[43m    \u001b[49m\u001b[43mfiltered_flat_args\u001b[49m\u001b[43m,\u001b[49m\u001b[43m \u001b[49m\u001b[43mcaptured_inputs\u001b[49m\u001b[38;5;241;43m=\u001b[39;49m\u001b[43mconcrete_function\u001b[49m\u001b[38;5;241;43m.\u001b[39;49m\u001b[43mcaptured_inputs\u001b[49m\u001b[43m)\u001b[49m\n",
      "File \u001b[0;32m~/anaconda3/envs/tf/lib/python3.9/site-packages/tensorflow/python/eager/polymorphic_function/monomorphic_function.py:1757\u001b[0m, in \u001b[0;36mConcreteFunction._call_flat\u001b[0;34m(self, args, captured_inputs, cancellation_manager)\u001b[0m\n\u001b[1;32m   1753\u001b[0m possible_gradient_type \u001b[38;5;241m=\u001b[39m gradients_util\u001b[38;5;241m.\u001b[39mPossibleTapeGradientTypes(args)\n\u001b[1;32m   1754\u001b[0m \u001b[38;5;28;01mif\u001b[39;00m (possible_gradient_type \u001b[38;5;241m==\u001b[39m gradients_util\u001b[38;5;241m.\u001b[39mPOSSIBLE_GRADIENT_TYPES_NONE\n\u001b[1;32m   1755\u001b[0m     \u001b[38;5;129;01mand\u001b[39;00m executing_eagerly):\n\u001b[1;32m   1756\u001b[0m   \u001b[38;5;66;03m# No tape is watching; skip to running the function.\u001b[39;00m\n\u001b[0;32m-> 1757\u001b[0m   \u001b[38;5;28;01mreturn\u001b[39;00m \u001b[38;5;28mself\u001b[39m\u001b[38;5;241m.\u001b[39m_build_call_outputs(\u001b[38;5;28;43mself\u001b[39;49m\u001b[38;5;241;43m.\u001b[39;49m\u001b[43m_inference_function\u001b[49m\u001b[38;5;241;43m.\u001b[39;49m\u001b[43mcall\u001b[49m\u001b[43m(\u001b[49m\n\u001b[1;32m   1758\u001b[0m \u001b[43m      \u001b[49m\u001b[43mctx\u001b[49m\u001b[43m,\u001b[49m\u001b[43m \u001b[49m\u001b[43margs\u001b[49m\u001b[43m,\u001b[49m\u001b[43m \u001b[49m\u001b[43mcancellation_manager\u001b[49m\u001b[38;5;241;43m=\u001b[39;49m\u001b[43mcancellation_manager\u001b[49m\u001b[43m)\u001b[49m)\n\u001b[1;32m   1759\u001b[0m forward_backward \u001b[38;5;241m=\u001b[39m \u001b[38;5;28mself\u001b[39m\u001b[38;5;241m.\u001b[39m_select_forward_and_backward_functions(\n\u001b[1;32m   1760\u001b[0m     args,\n\u001b[1;32m   1761\u001b[0m     possible_gradient_type,\n\u001b[1;32m   1762\u001b[0m     executing_eagerly)\n\u001b[1;32m   1763\u001b[0m forward_function, args_with_tangents \u001b[38;5;241m=\u001b[39m forward_backward\u001b[38;5;241m.\u001b[39mforward()\n",
      "File \u001b[0;32m~/anaconda3/envs/tf/lib/python3.9/site-packages/tensorflow/python/eager/polymorphic_function/monomorphic_function.py:381\u001b[0m, in \u001b[0;36m_EagerDefinedFunction.call\u001b[0;34m(self, ctx, args, cancellation_manager)\u001b[0m\n\u001b[1;32m    379\u001b[0m \u001b[38;5;28;01mwith\u001b[39;00m _InterpolateFunctionError(\u001b[38;5;28mself\u001b[39m):\n\u001b[1;32m    380\u001b[0m   \u001b[38;5;28;01mif\u001b[39;00m cancellation_manager \u001b[38;5;129;01mis\u001b[39;00m \u001b[38;5;28;01mNone\u001b[39;00m:\n\u001b[0;32m--> 381\u001b[0m     outputs \u001b[38;5;241m=\u001b[39m \u001b[43mexecute\u001b[49m\u001b[38;5;241;43m.\u001b[39;49m\u001b[43mexecute\u001b[49m\u001b[43m(\u001b[49m\n\u001b[1;32m    382\u001b[0m \u001b[43m        \u001b[49m\u001b[38;5;28;43mstr\u001b[39;49m\u001b[43m(\u001b[49m\u001b[38;5;28;43mself\u001b[39;49m\u001b[38;5;241;43m.\u001b[39;49m\u001b[43msignature\u001b[49m\u001b[38;5;241;43m.\u001b[39;49m\u001b[43mname\u001b[49m\u001b[43m)\u001b[49m\u001b[43m,\u001b[49m\n\u001b[1;32m    383\u001b[0m \u001b[43m        \u001b[49m\u001b[43mnum_outputs\u001b[49m\u001b[38;5;241;43m=\u001b[39;49m\u001b[38;5;28;43mself\u001b[39;49m\u001b[38;5;241;43m.\u001b[39;49m\u001b[43m_num_outputs\u001b[49m\u001b[43m,\u001b[49m\n\u001b[1;32m    384\u001b[0m \u001b[43m        \u001b[49m\u001b[43minputs\u001b[49m\u001b[38;5;241;43m=\u001b[39;49m\u001b[43margs\u001b[49m\u001b[43m,\u001b[49m\n\u001b[1;32m    385\u001b[0m \u001b[43m        \u001b[49m\u001b[43mattrs\u001b[49m\u001b[38;5;241;43m=\u001b[39;49m\u001b[43mattrs\u001b[49m\u001b[43m,\u001b[49m\n\u001b[1;32m    386\u001b[0m \u001b[43m        \u001b[49m\u001b[43mctx\u001b[49m\u001b[38;5;241;43m=\u001b[39;49m\u001b[43mctx\u001b[49m\u001b[43m)\u001b[49m\n\u001b[1;32m    387\u001b[0m   \u001b[38;5;28;01melse\u001b[39;00m:\n\u001b[1;32m    388\u001b[0m     outputs \u001b[38;5;241m=\u001b[39m execute\u001b[38;5;241m.\u001b[39mexecute_with_cancellation(\n\u001b[1;32m    389\u001b[0m         \u001b[38;5;28mstr\u001b[39m(\u001b[38;5;28mself\u001b[39m\u001b[38;5;241m.\u001b[39msignature\u001b[38;5;241m.\u001b[39mname),\n\u001b[1;32m    390\u001b[0m         num_outputs\u001b[38;5;241m=\u001b[39m\u001b[38;5;28mself\u001b[39m\u001b[38;5;241m.\u001b[39m_num_outputs,\n\u001b[0;32m   (...)\u001b[0m\n\u001b[1;32m    393\u001b[0m         ctx\u001b[38;5;241m=\u001b[39mctx,\n\u001b[1;32m    394\u001b[0m         cancellation_manager\u001b[38;5;241m=\u001b[39mcancellation_manager)\n",
      "File \u001b[0;32m~/anaconda3/envs/tf/lib/python3.9/site-packages/tensorflow/python/eager/execute.py:52\u001b[0m, in \u001b[0;36mquick_execute\u001b[0;34m(op_name, num_outputs, inputs, attrs, ctx, name)\u001b[0m\n\u001b[1;32m     50\u001b[0m \u001b[38;5;28;01mtry\u001b[39;00m:\n\u001b[1;32m     51\u001b[0m   ctx\u001b[38;5;241m.\u001b[39mensure_initialized()\n\u001b[0;32m---> 52\u001b[0m   tensors \u001b[38;5;241m=\u001b[39m \u001b[43mpywrap_tfe\u001b[49m\u001b[38;5;241;43m.\u001b[39;49m\u001b[43mTFE_Py_Execute\u001b[49m\u001b[43m(\u001b[49m\u001b[43mctx\u001b[49m\u001b[38;5;241;43m.\u001b[39;49m\u001b[43m_handle\u001b[49m\u001b[43m,\u001b[49m\u001b[43m \u001b[49m\u001b[43mdevice_name\u001b[49m\u001b[43m,\u001b[49m\u001b[43m \u001b[49m\u001b[43mop_name\u001b[49m\u001b[43m,\u001b[49m\n\u001b[1;32m     53\u001b[0m \u001b[43m                                      \u001b[49m\u001b[43minputs\u001b[49m\u001b[43m,\u001b[49m\u001b[43m \u001b[49m\u001b[43mattrs\u001b[49m\u001b[43m,\u001b[49m\u001b[43m \u001b[49m\u001b[43mnum_outputs\u001b[49m\u001b[43m)\u001b[49m\n\u001b[1;32m     54\u001b[0m \u001b[38;5;28;01mexcept\u001b[39;00m core\u001b[38;5;241m.\u001b[39m_NotOkStatusException \u001b[38;5;28;01mas\u001b[39;00m e:\n\u001b[1;32m     55\u001b[0m   \u001b[38;5;28;01mif\u001b[39;00m name \u001b[38;5;129;01mis\u001b[39;00m \u001b[38;5;129;01mnot\u001b[39;00m \u001b[38;5;28;01mNone\u001b[39;00m:\n",
      "\u001b[0;31mKeyboardInterrupt\u001b[0m: "
     ]
    }
   ],
   "source": [
    "# Create the ANN model\n",
    "model = Sequential()\n",
    "\n",
    "# Input layer + 1st hidden layer\n",
    "model.add(Dense(224, input_dim=X_encoded.shape[1], activation='relu'))\n",
    "\n",
    "# Hidden layers (2nd to 8th)\n",
    "for _ in range(7):  # 7 more layers to make it 8 hidden layers total\n",
    "    model.add(Dense(224, activation='relu'))\n",
    "\n",
    "# Output layer (assuming regression, use 'linear'; for classification, use 'sigmoid' or 'softmax')\n",
    "model.add(Dense(1, activation='relu'))  # For regression\n",
    "\n",
    "# Compile the model\n",
    "model.compile(optimizer='adam', loss='mse', metrics=[r2_score])\n",
    "\n",
    "# Fit the model\n",
    "model.fit(X_num, y_num, epochs=100, batch_size=32*8, validation_split=0.1)"
   ]
  },
  {
   "cell_type": "code",
   "execution_count": null,
   "id": "6e423863-2b6a-4ad9-9b30-f427bd4e17fe",
   "metadata": {},
   "outputs": [],
   "source": []
  },
  {
   "cell_type": "code",
   "execution_count": null,
   "id": "09ec9cfb-de6e-41ae-9b2e-5b18c6de23f2",
   "metadata": {},
   "outputs": [],
   "source": []
  },
  {
   "cell_type": "code",
   "execution_count": null,
   "id": "a14c21c2-1c7c-4888-b4a4-44394af27ce5",
   "metadata": {},
   "outputs": [],
   "source": []
  },
  {
   "cell_type": "code",
   "execution_count": null,
   "id": "ea6a2cf9-9ddc-4e71-93cf-4e3239046d24",
   "metadata": {},
   "outputs": [],
   "source": []
  }
 ],
 "metadata": {
  "kernelspec": {
   "display_name": "Python 3 (ipykernel)",
   "language": "python",
   "name": "python3"
  },
  "language_info": {
   "codemirror_mode": {
    "name": "ipython",
    "version": 3
   },
   "file_extension": ".py",
   "mimetype": "text/x-python",
   "name": "python",
   "nbconvert_exporter": "python",
   "pygments_lexer": "ipython3",
   "version": "3.9.19"
  }
 },
 "nbformat": 4,
 "nbformat_minor": 5
}
