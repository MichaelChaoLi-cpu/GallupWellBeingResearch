{
 "cells": [
  {
   "cell_type": "markdown",
   "id": "1dca2e4c-ecb3-4654-81cc-2bec42b3896d",
   "metadata": {},
   "source": [
    "# Wash Data 12 to 17 wave for Zhang     \n",
    "This code was created for Zhang's research, with the purpose of filtering the data needed for the research from the raw washed data."
   ]
  },
  {
   "cell_type": "code",
   "execution_count": 1,
   "id": "9d107c0c-298a-488e-a668-4be189316b7d",
   "metadata": {},
   "outputs": [
    {
     "data": {
      "text/plain": [
       "'/mnt/f/ESG09_Project/Code'"
      ]
     },
     "execution_count": 1,
     "metadata": {},
     "output_type": "execute_result"
    }
   ],
   "source": [
    "%pwd"
   ]
  },
  {
   "cell_type": "code",
   "execution_count": 2,
   "id": "2417c46d-f0e0-4798-9c42-a38474892d12",
   "metadata": {},
   "outputs": [
    {
     "name": "stdout",
     "output_type": "stream",
     "text": [
      "/mnt/f/ESG09_Project\n"
     ]
    },
    {
     "name": "stderr",
     "output_type": "stream",
     "text": [
      "/home/zhang/miniconda3/envs/tf/lib/python3.9/site-packages/IPython/core/magics/osm.py:417: UserWarning: using dhist requires you to install the `pickleshare` library.\n",
      "  self.shell.db['dhist'] = compress_dhist(dhist)[-100:]\n"
     ]
    }
   ],
   "source": [
    "cd .."
   ]
  },
  {
   "cell_type": "markdown",
   "id": "02a74d59-689a-4e47-9c11-289dfb68dca7",
   "metadata": {},
   "source": [
    "## Import Package"
   ]
  },
  {
   "cell_type": "code",
   "execution_count": 3,
   "id": "ecf23674-4c86-4d60-8dc7-8c652c8bf166",
   "metadata": {},
   "outputs": [],
   "source": [
    "import numpy as np\n",
    "import os\n",
    "import pandas as pd"
   ]
  },
  {
   "cell_type": "code",
   "execution_count": null,
   "id": "8aad6397-37cd-4f4d-897a-ff6f114125dc",
   "metadata": {},
   "outputs": [],
   "source": []
  },
  {
   "cell_type": "markdown",
   "id": "3309a111-9e9b-40c3-865c-a3a0bd6b74bc",
   "metadata": {},
   "source": [
    "## Wash Dateset"
   ]
  },
  {
   "cell_type": "markdown",
   "id": "afdfe74f-e7cb-435e-a6d1-0588be116409",
   "metadata": {},
   "source": [
    "### Load dataset"
   ]
  },
  {
   "cell_type": "code",
   "execution_count": 4,
   "id": "b6dd1b46-ff3b-4f7b-9146-1d1fc0d02602",
   "metadata": {},
   "outputs": [],
   "source": [
    "filename = \"Data/GallupWB_WashedRawData17Wave_v1.parquet\""
   ]
  },
  {
   "cell_type": "markdown",
   "id": "62bc191e-5a99-4f52-ad80-40b82671498e",
   "metadata": {},
   "source": [
    "### Check Data"
   ]
  },
  {
   "cell_type": "code",
   "execution_count": 5,
   "id": "874b7bcd-9bd4-437c-929d-3b35ccd2d2b8",
   "metadata": {},
   "outputs": [],
   "source": [
    "df = pd.read_parquet(filename)"
   ]
  },
  {
   "cell_type": "code",
   "execution_count": 6,
   "id": "efc00eba-d3af-4989-a4f1-13bcd12236a5",
   "metadata": {},
   "outputs": [
    {
     "data": {
      "text/plain": [
       "(2594089, 90)"
      ]
     },
     "execution_count": 6,
     "metadata": {},
     "output_type": "execute_result"
    }
   ],
   "source": [
    "df.shape"
   ]
  },
  {
   "cell_type": "code",
   "execution_count": 7,
   "id": "7fef2e3a-1cf5-4a72-bbca-051b9ae27cd1",
   "metadata": {},
   "outputs": [
    {
     "data": {
      "text/html": [
       "<div>\n",
       "<style scoped>\n",
       "    .dataframe tbody tr th:only-of-type {\n",
       "        vertical-align: middle;\n",
       "    }\n",
       "\n",
       "    .dataframe tbody tr th {\n",
       "        vertical-align: top;\n",
       "    }\n",
       "\n",
       "    .dataframe thead th {\n",
       "        text-align: right;\n",
       "    }\n",
       "</style>\n",
       "<table border=\"1\" class=\"dataframe\">\n",
       "  <thead>\n",
       "    <tr style=\"text-align: right;\">\n",
       "      <th></th>\n",
       "      <th>wave</th>\n",
       "      <th>COUNTRY_ISO3</th>\n",
       "      <th>INCOME_1</th>\n",
       "      <th>INCOME_2</th>\n",
       "      <th>INCOME_3</th>\n",
       "      <th>INCOME_4</th>\n",
       "      <th>INCOME_5</th>\n",
       "      <th>INCOME_6</th>\n",
       "      <th>INCOME_7</th>\n",
       "      <th>WP16</th>\n",
       "      <th>...</th>\n",
       "      <th>WP2319</th>\n",
       "      <th>WP4657</th>\n",
       "      <th>WP9042</th>\n",
       "      <th>WP9048</th>\n",
       "      <th>WP17625</th>\n",
       "      <th>WP17626</th>\n",
       "      <th>WP16056</th>\n",
       "      <th>WP15862</th>\n",
       "      <th>WP19544</th>\n",
       "      <th>WP3117</th>\n",
       "    </tr>\n",
       "  </thead>\n",
       "  <tbody>\n",
       "    <tr>\n",
       "      <th>0</th>\n",
       "      <td>1.0</td>\n",
       "      <td>USA</td>\n",
       "      <td>NaN</td>\n",
       "      <td>NaN</td>\n",
       "      <td>NaN</td>\n",
       "      <td>NaN</td>\n",
       "      <td>NaN</td>\n",
       "      <td>NaN</td>\n",
       "      <td>NaN</td>\n",
       "      <td>6.0</td>\n",
       "      <td>...</td>\n",
       "      <td>NaN</td>\n",
       "      <td>1.0</td>\n",
       "      <td>NaN</td>\n",
       "      <td>NaN</td>\n",
       "      <td>NaN</td>\n",
       "      <td>NaN</td>\n",
       "      <td>NaN</td>\n",
       "      <td>NaN</td>\n",
       "      <td>NaN</td>\n",
       "      <td>NaN</td>\n",
       "    </tr>\n",
       "    <tr>\n",
       "      <th>1</th>\n",
       "      <td>1.0</td>\n",
       "      <td>USA</td>\n",
       "      <td>NaN</td>\n",
       "      <td>NaN</td>\n",
       "      <td>NaN</td>\n",
       "      <td>NaN</td>\n",
       "      <td>NaN</td>\n",
       "      <td>NaN</td>\n",
       "      <td>NaN</td>\n",
       "      <td>8.0</td>\n",
       "      <td>...</td>\n",
       "      <td>NaN</td>\n",
       "      <td>1.0</td>\n",
       "      <td>NaN</td>\n",
       "      <td>NaN</td>\n",
       "      <td>NaN</td>\n",
       "      <td>NaN</td>\n",
       "      <td>NaN</td>\n",
       "      <td>NaN</td>\n",
       "      <td>NaN</td>\n",
       "      <td>NaN</td>\n",
       "    </tr>\n",
       "    <tr>\n",
       "      <th>2</th>\n",
       "      <td>1.0</td>\n",
       "      <td>USA</td>\n",
       "      <td>NaN</td>\n",
       "      <td>NaN</td>\n",
       "      <td>NaN</td>\n",
       "      <td>NaN</td>\n",
       "      <td>NaN</td>\n",
       "      <td>NaN</td>\n",
       "      <td>NaN</td>\n",
       "      <td>8.0</td>\n",
       "      <td>...</td>\n",
       "      <td>NaN</td>\n",
       "      <td>1.0</td>\n",
       "      <td>NaN</td>\n",
       "      <td>NaN</td>\n",
       "      <td>NaN</td>\n",
       "      <td>NaN</td>\n",
       "      <td>NaN</td>\n",
       "      <td>NaN</td>\n",
       "      <td>NaN</td>\n",
       "      <td>NaN</td>\n",
       "    </tr>\n",
       "    <tr>\n",
       "      <th>3</th>\n",
       "      <td>1.0</td>\n",
       "      <td>USA</td>\n",
       "      <td>NaN</td>\n",
       "      <td>NaN</td>\n",
       "      <td>NaN</td>\n",
       "      <td>NaN</td>\n",
       "      <td>NaN</td>\n",
       "      <td>NaN</td>\n",
       "      <td>NaN</td>\n",
       "      <td>8.0</td>\n",
       "      <td>...</td>\n",
       "      <td>NaN</td>\n",
       "      <td>1.0</td>\n",
       "      <td>NaN</td>\n",
       "      <td>NaN</td>\n",
       "      <td>NaN</td>\n",
       "      <td>NaN</td>\n",
       "      <td>NaN</td>\n",
       "      <td>NaN</td>\n",
       "      <td>NaN</td>\n",
       "      <td>NaN</td>\n",
       "    </tr>\n",
       "    <tr>\n",
       "      <th>4</th>\n",
       "      <td>1.0</td>\n",
       "      <td>USA</td>\n",
       "      <td>NaN</td>\n",
       "      <td>NaN</td>\n",
       "      <td>NaN</td>\n",
       "      <td>NaN</td>\n",
       "      <td>NaN</td>\n",
       "      <td>NaN</td>\n",
       "      <td>NaN</td>\n",
       "      <td>10.0</td>\n",
       "      <td>...</td>\n",
       "      <td>NaN</td>\n",
       "      <td>1.0</td>\n",
       "      <td>NaN</td>\n",
       "      <td>NaN</td>\n",
       "      <td>NaN</td>\n",
       "      <td>NaN</td>\n",
       "      <td>NaN</td>\n",
       "      <td>NaN</td>\n",
       "      <td>NaN</td>\n",
       "      <td>NaN</td>\n",
       "    </tr>\n",
       "  </tbody>\n",
       "</table>\n",
       "<p>5 rows × 90 columns</p>\n",
       "</div>"
      ],
      "text/plain": [
       "   wave COUNTRY_ISO3  INCOME_1  INCOME_2  INCOME_3  INCOME_4  INCOME_5  \\\n",
       "0   1.0          USA       NaN       NaN       NaN       NaN       NaN   \n",
       "1   1.0          USA       NaN       NaN       NaN       NaN       NaN   \n",
       "2   1.0          USA       NaN       NaN       NaN       NaN       NaN   \n",
       "3   1.0          USA       NaN       NaN       NaN       NaN       NaN   \n",
       "4   1.0          USA       NaN       NaN       NaN       NaN       NaN   \n",
       "\n",
       "   INCOME_6  INCOME_7  WP16  ...  WP2319  WP4657  WP9042  WP9048  WP17625  \\\n",
       "0       NaN       NaN   6.0  ...     NaN     1.0     NaN     NaN      NaN   \n",
       "1       NaN       NaN   8.0  ...     NaN     1.0     NaN     NaN      NaN   \n",
       "2       NaN       NaN   8.0  ...     NaN     1.0     NaN     NaN      NaN   \n",
       "3       NaN       NaN   8.0  ...     NaN     1.0     NaN     NaN      NaN   \n",
       "4       NaN       NaN  10.0  ...     NaN     1.0     NaN     NaN      NaN   \n",
       "\n",
       "   WP17626  WP16056  WP15862  WP19544  WP3117  \n",
       "0      NaN      NaN      NaN      NaN     NaN  \n",
       "1      NaN      NaN      NaN      NaN     NaN  \n",
       "2      NaN      NaN      NaN      NaN     NaN  \n",
       "3      NaN      NaN      NaN      NaN     NaN  \n",
       "4      NaN      NaN      NaN      NaN     NaN  \n",
       "\n",
       "[5 rows x 90 columns]"
      ]
     },
     "execution_count": 7,
     "metadata": {},
     "output_type": "execute_result"
    }
   ],
   "source": [
    "df.head()"
   ]
  },
  {
   "cell_type": "code",
   "execution_count": 8,
   "id": "7b361c3d-8d5b-4274-9b63-1ee0b6c87865",
   "metadata": {},
   "outputs": [],
   "source": [
    "variable_list = []"
   ]
  },
  {
   "cell_type": "markdown",
   "id": "4e3f1b72-2e82-4b7a-9e9b-1d6f31114cbe",
   "metadata": {},
   "source": [
    "### Washing wave"
   ]
  },
  {
   "cell_type": "code",
   "execution_count": 9,
   "id": "9b2d8591-adce-4295-9a70-99bb0c708911",
   "metadata": {},
   "outputs": [
    {
     "data": {
      "text/plain": [
       "wave\n",
       "1.0     129972\n",
       "2.0     104831\n",
       "3.0     120443\n",
       "3.1       3568\n",
       "3.2       4141\n",
       "3.3       2592\n",
       "3.4       1758\n",
       "4.0      99664\n",
       "4.1      18074\n",
       "4.2      19164\n",
       "4.3       1147\n",
       "5.0     112702\n",
       "5.1      18141\n",
       "5.2      20013\n",
       "6.0     130614\n",
       "6.1      23134\n",
       "6.2      26258\n",
       "6.3       7224\n",
       "6.4       7157\n",
       "6.5       1077\n",
       "7.1     151720\n",
       "7.2      49465\n",
       "7.3      12879\n",
       "7.4      16019\n",
       "8.1     138673\n",
       "9.1     154205\n",
       "9.2      36143\n",
       "10.1    148232\n",
       "11.1    148724\n",
       "11.2      2000\n",
       "12.1    154166\n",
       "12.9      1000\n",
       "13.1    118922\n",
       "13.2     33952\n",
       "14.1    176253\n",
       "15.1    121207\n",
       "15.5      6350\n",
       "15.9      1917\n",
       "16.1    126902\n",
       "17.1    143686\n",
       "Name: count, dtype: int64"
      ]
     },
     "execution_count": 9,
     "metadata": {},
     "output_type": "execute_result"
    }
   ],
   "source": [
    "df['wave'].value_counts().sort_index()"
   ]
  },
  {
   "cell_type": "code",
   "execution_count": 10,
   "id": "b0c9359f-8e1d-44f9-986b-ecd34a3b603e",
   "metadata": {},
   "outputs": [],
   "source": [
    "df['wave'] = df['wave'].astype(int)"
   ]
  },
  {
   "cell_type": "code",
   "execution_count": 11,
   "id": "cd76ac65-9d7f-41e5-b4be-b48b20e10d0c",
   "metadata": {},
   "outputs": [
    {
     "data": {
      "text/plain": [
       "wave\n",
       "1     129972\n",
       "2     104831\n",
       "3     132502\n",
       "4     138049\n",
       "5     150856\n",
       "6     195464\n",
       "7     230083\n",
       "8     138673\n",
       "9     190348\n",
       "10    148232\n",
       "11    150724\n",
       "12    155166\n",
       "13    152874\n",
       "14    176253\n",
       "15    129474\n",
       "16    126902\n",
       "17    143686\n",
       "Name: count, dtype: int64"
      ]
     },
     "execution_count": 11,
     "metadata": {},
     "output_type": "execute_result"
    }
   ],
   "source": [
    "df['wave'].value_counts().sort_index()"
   ]
  },
  {
   "cell_type": "code",
   "execution_count": 12,
   "id": "124ecd92-0fe6-4125-b903-388dea87e558",
   "metadata": {},
   "outputs": [],
   "source": [
    "df = df[df['wave'].isin([12, 13, 14, 15, 16, 17])]"
   ]
  },
  {
   "cell_type": "code",
   "execution_count": 13,
   "id": "58d784fd-be0d-4738-aa3c-66e73713a9b2",
   "metadata": {},
   "outputs": [
    {
     "data": {
      "text/plain": [
       "wave\n",
       "12    155166\n",
       "13    152874\n",
       "14    176253\n",
       "15    129474\n",
       "16    126902\n",
       "17    143686\n",
       "Name: count, dtype: int64"
      ]
     },
     "execution_count": 13,
     "metadata": {},
     "output_type": "execute_result"
    }
   ],
   "source": [
    "df['wave'].value_counts().sort_index()"
   ]
  },
  {
   "cell_type": "code",
   "execution_count": 14,
   "id": "17956beb-c475-4bfc-a1fa-732d614f2029",
   "metadata": {},
   "outputs": [
    {
     "data": {
      "text/plain": [
       "(884355, 90)"
      ]
     },
     "execution_count": 14,
     "metadata": {},
     "output_type": "execute_result"
    }
   ],
   "source": [
    "df.shape"
   ]
  },
  {
   "cell_type": "code",
   "execution_count": 15,
   "id": "752def57-a98a-4bee-bedb-148fb3e25d84",
   "metadata": {},
   "outputs": [
    {
     "data": {
      "text/html": [
       "<div>\n",
       "<style scoped>\n",
       "    .dataframe tbody tr th:only-of-type {\n",
       "        vertical-align: middle;\n",
       "    }\n",
       "\n",
       "    .dataframe tbody tr th {\n",
       "        vertical-align: top;\n",
       "    }\n",
       "\n",
       "    .dataframe thead th {\n",
       "        text-align: right;\n",
       "    }\n",
       "</style>\n",
       "<table border=\"1\" class=\"dataframe\">\n",
       "  <thead>\n",
       "    <tr style=\"text-align: right;\">\n",
       "      <th></th>\n",
       "      <th>wave</th>\n",
       "      <th>COUNTRY_ISO3</th>\n",
       "      <th>INCOME_1</th>\n",
       "      <th>INCOME_2</th>\n",
       "      <th>INCOME_3</th>\n",
       "      <th>INCOME_4</th>\n",
       "      <th>INCOME_5</th>\n",
       "      <th>INCOME_6</th>\n",
       "      <th>INCOME_7</th>\n",
       "      <th>WP16</th>\n",
       "      <th>...</th>\n",
       "      <th>WP2319</th>\n",
       "      <th>WP4657</th>\n",
       "      <th>WP9042</th>\n",
       "      <th>WP9048</th>\n",
       "      <th>WP17625</th>\n",
       "      <th>WP17626</th>\n",
       "      <th>WP16056</th>\n",
       "      <th>WP15862</th>\n",
       "      <th>WP19544</th>\n",
       "      <th>WP3117</th>\n",
       "    </tr>\n",
       "  </thead>\n",
       "  <tbody>\n",
       "    <tr>\n",
       "      <th>1709734</th>\n",
       "      <td>12</td>\n",
       "      <td>USA</td>\n",
       "      <td>600000.0</td>\n",
       "      <td>592300.098717</td>\n",
       "      <td>150000.0</td>\n",
       "      <td>148075.024679</td>\n",
       "      <td>5.0</td>\n",
       "      <td>NaN</td>\n",
       "      <td>1.0</td>\n",
       "      <td>5.0</td>\n",
       "      <td>...</td>\n",
       "      <td>2.0</td>\n",
       "      <td>1.0</td>\n",
       "      <td>NaN</td>\n",
       "      <td>NaN</td>\n",
       "      <td>1.0</td>\n",
       "      <td>1.0</td>\n",
       "      <td>1.0</td>\n",
       "      <td>1.0</td>\n",
       "      <td>1.0</td>\n",
       "      <td>2.0</td>\n",
       "    </tr>\n",
       "    <tr>\n",
       "      <th>1709735</th>\n",
       "      <td>12</td>\n",
       "      <td>USA</td>\n",
       "      <td>108000.0</td>\n",
       "      <td>106614.017769</td>\n",
       "      <td>54000.0</td>\n",
       "      <td>53307.008885</td>\n",
       "      <td>5.0</td>\n",
       "      <td>NaN</td>\n",
       "      <td>1.0</td>\n",
       "      <td>9.0</td>\n",
       "      <td>...</td>\n",
       "      <td>1.0</td>\n",
       "      <td>1.0</td>\n",
       "      <td>NaN</td>\n",
       "      <td>NaN</td>\n",
       "      <td>1.0</td>\n",
       "      <td>1.0</td>\n",
       "      <td>1.0</td>\n",
       "      <td>1.0</td>\n",
       "      <td>2.0</td>\n",
       "      <td>2.0</td>\n",
       "    </tr>\n",
       "    <tr>\n",
       "      <th>1709736</th>\n",
       "      <td>12</td>\n",
       "      <td>USA</td>\n",
       "      <td>21600.0</td>\n",
       "      <td>21322.803554</td>\n",
       "      <td>21600.0</td>\n",
       "      <td>21322.803554</td>\n",
       "      <td>3.0</td>\n",
       "      <td>NaN</td>\n",
       "      <td>1.0</td>\n",
       "      <td>6.0</td>\n",
       "      <td>...</td>\n",
       "      <td>1.0</td>\n",
       "      <td>1.0</td>\n",
       "      <td>NaN</td>\n",
       "      <td>NaN</td>\n",
       "      <td>1.0</td>\n",
       "      <td>2.0</td>\n",
       "      <td>1.0</td>\n",
       "      <td>2.0</td>\n",
       "      <td>NaN</td>\n",
       "      <td>2.0</td>\n",
       "    </tr>\n",
       "    <tr>\n",
       "      <th>1709737</th>\n",
       "      <td>12</td>\n",
       "      <td>USA</td>\n",
       "      <td>57600.0</td>\n",
       "      <td>56860.809477</td>\n",
       "      <td>57600.0</td>\n",
       "      <td>56860.809477</td>\n",
       "      <td>5.0</td>\n",
       "      <td>NaN</td>\n",
       "      <td>1.0</td>\n",
       "      <td>5.0</td>\n",
       "      <td>...</td>\n",
       "      <td>1.0</td>\n",
       "      <td>1.0</td>\n",
       "      <td>NaN</td>\n",
       "      <td>NaN</td>\n",
       "      <td>1.0</td>\n",
       "      <td>1.0</td>\n",
       "      <td>1.0</td>\n",
       "      <td>1.0</td>\n",
       "      <td>2.0</td>\n",
       "      <td>3.0</td>\n",
       "    </tr>\n",
       "    <tr>\n",
       "      <th>1709738</th>\n",
       "      <td>12</td>\n",
       "      <td>USA</td>\n",
       "      <td>34284.0</td>\n",
       "      <td>33844.027641</td>\n",
       "      <td>8571.0</td>\n",
       "      <td>8461.006910</td>\n",
       "      <td>2.0</td>\n",
       "      <td>NaN</td>\n",
       "      <td>1.0</td>\n",
       "      <td>7.0</td>\n",
       "      <td>...</td>\n",
       "      <td>2.0</td>\n",
       "      <td>1.0</td>\n",
       "      <td>NaN</td>\n",
       "      <td>NaN</td>\n",
       "      <td>1.0</td>\n",
       "      <td>1.0</td>\n",
       "      <td>1.0</td>\n",
       "      <td>1.0</td>\n",
       "      <td>1.0</td>\n",
       "      <td>3.0</td>\n",
       "    </tr>\n",
       "  </tbody>\n",
       "</table>\n",
       "<p>5 rows × 90 columns</p>\n",
       "</div>"
      ],
      "text/plain": [
       "         wave COUNTRY_ISO3  INCOME_1       INCOME_2  INCOME_3       INCOME_4  \\\n",
       "1709734    12          USA  600000.0  592300.098717  150000.0  148075.024679   \n",
       "1709735    12          USA  108000.0  106614.017769   54000.0   53307.008885   \n",
       "1709736    12          USA   21600.0   21322.803554   21600.0   21322.803554   \n",
       "1709737    12          USA   57600.0   56860.809477   57600.0   56860.809477   \n",
       "1709738    12          USA   34284.0   33844.027641    8571.0    8461.006910   \n",
       "\n",
       "         INCOME_5  INCOME_6  INCOME_7  WP16  ...  WP2319  WP4657  WP9042  \\\n",
       "1709734       5.0       NaN       1.0   5.0  ...     2.0     1.0     NaN   \n",
       "1709735       5.0       NaN       1.0   9.0  ...     1.0     1.0     NaN   \n",
       "1709736       3.0       NaN       1.0   6.0  ...     1.0     1.0     NaN   \n",
       "1709737       5.0       NaN       1.0   5.0  ...     1.0     1.0     NaN   \n",
       "1709738       2.0       NaN       1.0   7.0  ...     2.0     1.0     NaN   \n",
       "\n",
       "         WP9048  WP17625  WP17626  WP16056  WP15862  WP19544  WP3117  \n",
       "1709734     NaN      1.0      1.0      1.0      1.0      1.0     2.0  \n",
       "1709735     NaN      1.0      1.0      1.0      1.0      2.0     2.0  \n",
       "1709736     NaN      1.0      2.0      1.0      2.0      NaN     2.0  \n",
       "1709737     NaN      1.0      1.0      1.0      1.0      2.0     3.0  \n",
       "1709738     NaN      1.0      1.0      1.0      1.0      1.0     3.0  \n",
       "\n",
       "[5 rows x 90 columns]"
      ]
     },
     "execution_count": 15,
     "metadata": {},
     "output_type": "execute_result"
    }
   ],
   "source": [
    "df.head()"
   ]
  },
  {
   "cell_type": "code",
   "execution_count": 16,
   "id": "b2856757-f70f-4d8d-879f-aaf14d5f85a6",
   "metadata": {},
   "outputs": [],
   "source": [
    "variable_list.append('wave')"
   ]
  },
  {
   "cell_type": "markdown",
   "id": "9386c52d-d2bf-4e84-94c3-6d4bff4f0c28",
   "metadata": {},
   "source": [
    "### Washing item by item"
   ]
  },
  {
   "cell_type": "markdown",
   "id": "aee5c543-b733-41f2-b6e6-e3d24a968da2",
   "metadata": {},
   "source": [
    "#### INCOME_2"
   ]
  },
  {
   "cell_type": "code",
   "execution_count": 17,
   "id": "7ccef838-ca00-4de6-917f-f4505a178b77",
   "metadata": {},
   "outputs": [],
   "source": [
    "group_means = df.groupby(['wave', 'COUNTRY_ISO3'])['INCOME_2'].transform('mean')"
   ]
  },
  {
   "cell_type": "code",
   "execution_count": 18,
   "id": "f333183b-5106-4c19-8206-88472040fe5d",
   "metadata": {},
   "outputs": [
    {
     "data": {
      "text/plain": [
       "1709734    107344.552408\n",
       "1709735    107344.552408\n",
       "1709736    107344.552408\n",
       "1709737    107344.552408\n",
       "1709738    107344.552408\n",
       "               ...      \n",
       "2594084     60673.641618\n",
       "2594085     60673.641618\n",
       "2594086     60673.641618\n",
       "2594087     60673.641618\n",
       "2594088     60673.641618\n",
       "Name: INCOME_2, Length: 884355, dtype: float64"
      ]
     },
     "execution_count": 18,
     "metadata": {},
     "output_type": "execute_result"
    }
   ],
   "source": [
    "group_means"
   ]
  },
  {
   "cell_type": "code",
   "execution_count": 19,
   "id": "78303439-2be4-48d2-93f9-47a8cfe54dd9",
   "metadata": {},
   "outputs": [
    {
     "data": {
      "text/plain": [
       "(884355, 90)"
      ]
     },
     "execution_count": 19,
     "metadata": {},
     "output_type": "execute_result"
    }
   ],
   "source": [
    "df.shape"
   ]
  },
  {
   "cell_type": "code",
   "execution_count": 20,
   "id": "55d1a628-9751-4707-8976-cb6c32bcb65f",
   "metadata": {},
   "outputs": [],
   "source": [
    "group_means = df.groupby(['wave', 'COUNTRY_ISO3'])['INCOME_2'].transform('mean')"
   ]
  },
  {
   "cell_type": "code",
   "execution_count": 21,
   "id": "c2d6c186-4649-4b21-9a58-53511d2e32c6",
   "metadata": {},
   "outputs": [
    {
     "name": "stderr",
     "output_type": "stream",
     "text": [
      "/tmp/ipykernel_760305/4171748563.py:1: FutureWarning: A value is trying to be set on a copy of a DataFrame or Series through chained assignment using an inplace method.\n",
      "The behavior will change in pandas 3.0. This inplace method will never work because the intermediate object on which we are setting values always behaves as a copy.\n",
      "\n",
      "For example, when doing 'df[col].method(value, inplace=True)', try using 'df.method({col: value}, inplace=True)' or df[col] = df[col].method(value) instead, to perform the operation inplace on the original object.\n",
      "\n",
      "\n",
      "  df['INCOME_2'].fillna(group_means, inplace=True)\n"
     ]
    }
   ],
   "source": [
    "df['INCOME_2'].fillna(group_means, inplace=True)"
   ]
  },
  {
   "cell_type": "code",
   "execution_count": 22,
   "id": "e490f922-ba1b-49cb-8fc4-06d1ede5efc9",
   "metadata": {},
   "outputs": [
    {
     "data": {
      "text/plain": [
       "15673"
      ]
     },
     "execution_count": 22,
     "metadata": {},
     "output_type": "execute_result"
    }
   ],
   "source": [
    "df['INCOME_2'].isna().sum()"
   ]
  },
  {
   "cell_type": "code",
   "execution_count": 23,
   "id": "fa435a16-025d-4111-89cf-31a1da73d0b6",
   "metadata": {},
   "outputs": [
    {
     "data": {
      "text/plain": [
       "1709734    592300.098717\n",
       "1709735    106614.017769\n",
       "1709736     21322.803554\n",
       "1709737     56860.809477\n",
       "1709738     33844.027641\n",
       "Name: INCOME_2, dtype: float64"
      ]
     },
     "execution_count": 23,
     "metadata": {},
     "output_type": "execute_result"
    }
   ],
   "source": [
    "df['INCOME_2'].head()"
   ]
  },
  {
   "cell_type": "code",
   "execution_count": 24,
   "id": "f8df9b83-2b7b-4d13-b8c8-105e1c129cc1",
   "metadata": {},
   "outputs": [
    {
     "data": {
      "text/html": [
       "<div>\n",
       "<style scoped>\n",
       "    .dataframe tbody tr th:only-of-type {\n",
       "        vertical-align: middle;\n",
       "    }\n",
       "\n",
       "    .dataframe tbody tr th {\n",
       "        vertical-align: top;\n",
       "    }\n",
       "\n",
       "    .dataframe thead th {\n",
       "        text-align: right;\n",
       "    }\n",
       "</style>\n",
       "<table border=\"1\" class=\"dataframe\">\n",
       "  <thead>\n",
       "    <tr style=\"text-align: right;\">\n",
       "      <th></th>\n",
       "      <th>wave</th>\n",
       "      <th>COUNTRY_ISO3</th>\n",
       "    </tr>\n",
       "  </thead>\n",
       "  <tbody>\n",
       "    <tr>\n",
       "      <th>1773835</th>\n",
       "      <td>12</td>\n",
       "      <td>MRT</td>\n",
       "    </tr>\n",
       "    <tr>\n",
       "      <th>1885554</th>\n",
       "      <td>13</td>\n",
       "      <td>VEN</td>\n",
       "    </tr>\n",
       "    <tr>\n",
       "      <th>1911225</th>\n",
       "      <td>13</td>\n",
       "      <td>MRT</td>\n",
       "    </tr>\n",
       "    <tr>\n",
       "      <th>1913225</th>\n",
       "      <td>13</td>\n",
       "      <td>NER</td>\n",
       "    </tr>\n",
       "    <tr>\n",
       "      <th>2061411</th>\n",
       "      <td>14</td>\n",
       "      <td>VEN</td>\n",
       "    </tr>\n",
       "    <tr>\n",
       "      <th>2119615</th>\n",
       "      <td>14</td>\n",
       "      <td>ZWE</td>\n",
       "    </tr>\n",
       "    <tr>\n",
       "      <th>2227886</th>\n",
       "      <td>15</td>\n",
       "      <td>VEN</td>\n",
       "    </tr>\n",
       "    <tr>\n",
       "      <th>2264125</th>\n",
       "      <td>15</td>\n",
       "      <td>ZWE</td>\n",
       "    </tr>\n",
       "    <tr>\n",
       "      <th>2358159</th>\n",
       "      <td>16</td>\n",
       "      <td>VEN</td>\n",
       "    </tr>\n",
       "    <tr>\n",
       "      <th>2396240</th>\n",
       "      <td>16</td>\n",
       "      <td>SLE</td>\n",
       "    </tr>\n",
       "    <tr>\n",
       "      <th>2397240</th>\n",
       "      <td>16</td>\n",
       "      <td>ZWE</td>\n",
       "    </tr>\n",
       "    <tr>\n",
       "      <th>2453422</th>\n",
       "      <td>17</td>\n",
       "      <td>LBN</td>\n",
       "    </tr>\n",
       "    <tr>\n",
       "      <th>2474481</th>\n",
       "      <td>17</td>\n",
       "      <td>IRN</td>\n",
       "    </tr>\n",
       "    <tr>\n",
       "      <th>2525566</th>\n",
       "      <td>17</td>\n",
       "      <td>ZWE</td>\n",
       "    </tr>\n",
       "    <tr>\n",
       "      <th>2556989</th>\n",
       "      <td>17</td>\n",
       "      <td>JAM</td>\n",
       "    </tr>\n",
       "    <tr>\n",
       "      <th>2591089</th>\n",
       "      <td>17</td>\n",
       "      <td>YEM</td>\n",
       "    </tr>\n",
       "  </tbody>\n",
       "</table>\n",
       "</div>"
      ],
      "text/plain": [
       "         wave COUNTRY_ISO3\n",
       "1773835    12          MRT\n",
       "1885554    13          VEN\n",
       "1911225    13          MRT\n",
       "1913225    13          NER\n",
       "2061411    14          VEN\n",
       "2119615    14          ZWE\n",
       "2227886    15          VEN\n",
       "2264125    15          ZWE\n",
       "2358159    16          VEN\n",
       "2396240    16          SLE\n",
       "2397240    16          ZWE\n",
       "2453422    17          LBN\n",
       "2474481    17          IRN\n",
       "2525566    17          ZWE\n",
       "2556989    17          JAM\n",
       "2591089    17          YEM"
      ]
     },
     "execution_count": 24,
     "metadata": {},
     "output_type": "execute_result"
    }
   ],
   "source": [
    "df[df['INCOME_2'].isna()][['wave', 'COUNTRY_ISO3']].drop_duplicates()"
   ]
  },
  {
   "cell_type": "code",
   "execution_count": 25,
   "id": "5454c722-e06f-44ed-a8df-2207327f1c6c",
   "metadata": {},
   "outputs": [],
   "source": [
    "df.dropna(subset=['INCOME_2'], inplace=True)"
   ]
  },
  {
   "cell_type": "code",
   "execution_count": 26,
   "id": "3dcbebc4-606c-4ec0-bbad-03a3b68c88de",
   "metadata": {},
   "outputs": [
    {
     "data": {
      "text/plain": [
       "0"
      ]
     },
     "execution_count": 26,
     "metadata": {},
     "output_type": "execute_result"
    }
   ],
   "source": [
    "df['INCOME_2'].isna().sum()"
   ]
  },
  {
   "cell_type": "code",
   "execution_count": 27,
   "id": "b25478b7-f31b-4716-be80-5ad43bc76e1a",
   "metadata": {},
   "outputs": [
    {
     "data": {
      "text/plain": [
       "(868682, 90)"
      ]
     },
     "execution_count": 27,
     "metadata": {},
     "output_type": "execute_result"
    }
   ],
   "source": [
    "df.shape"
   ]
  },
  {
   "cell_type": "code",
   "execution_count": 28,
   "id": "1dfd3c07-fd24-4d46-9b96-40596d06ed34",
   "metadata": {},
   "outputs": [],
   "source": [
    "variable_list.append('INCOME_2')"
   ]
  },
  {
   "cell_type": "code",
   "execution_count": 29,
   "id": "02ca39e8-23b0-4420-b2e9-f2ec741c00b9",
   "metadata": {},
   "outputs": [],
   "source": [
    "code = 'INCOME_5'\n",
    "name = 'Income_level'"
   ]
  },
  {
   "cell_type": "code",
   "execution_count": 30,
   "id": "d7126916-5ddd-4b6f-ac7f-b14479d96bf4",
   "metadata": {},
   "outputs": [],
   "source": [
    "df[name] = df[code]"
   ]
  },
  {
   "cell_type": "code",
   "execution_count": 31,
   "id": "1d979a8c-a11b-4567-ac6f-939186ac9608",
   "metadata": {},
   "outputs": [
    {
     "name": "stdout",
     "output_type": "stream",
     "text": [
      "INCOME_5\n",
      "1.0    142897\n",
      "2.0    153245\n",
      "3.0    167389\n",
      "4.0    184648\n",
      "5.0    220503\n",
      "Name: count, dtype: int64\n"
     ]
    }
   ],
   "source": [
    "print(df[code].value_counts(dropna=False).sort_index())"
   ]
  },
  {
   "cell_type": "code",
   "execution_count": null,
   "id": "7da7752b-de89-4d17-a1ae-460f8b8b12af",
   "metadata": {},
   "outputs": [],
   "source": []
  },
  {
   "cell_type": "code",
   "execution_count": null,
   "id": "372bb159-17f0-46df-b428-cc2ac3b300a8",
   "metadata": {},
   "outputs": [],
   "source": []
  },
  {
   "cell_type": "markdown",
   "id": "c0837d5e-be57-4264-8f8f-179ed2ec5af9",
   "metadata": {},
   "source": [
    "#### WP16 Cantril_ladder"
   ]
  },
  {
   "cell_type": "markdown",
   "id": "5bac4ec2-e855-40f8-8251-4968341f3ce0",
   "metadata": {},
   "source": [
    "drop 98 99 to NaN"
   ]
  },
  {
   "cell_type": "code",
   "execution_count": 32,
   "id": "cbe721df-41a4-436e-a438-d3a811b4c912",
   "metadata": {},
   "outputs": [],
   "source": [
    "df['Cantril_ladder'] = df['WP16']"
   ]
  },
  {
   "cell_type": "code",
   "execution_count": 33,
   "id": "efd8e933-e9ae-472c-8b3d-eee37842793c",
   "metadata": {
    "scrolled": true
   },
   "outputs": [
    {
     "data": {
      "text/plain": [
       "Cantril_ladder\n",
       "0.0      42565\n",
       "1.0      27590\n",
       "2.0      36225\n",
       "3.0      59265\n",
       "4.0      71016\n",
       "5.0     193836\n",
       "6.0      95765\n",
       "7.0     118001\n",
       "8.0     108226\n",
       "9.0      37923\n",
       "10.0     64622\n",
       "98.0     12724\n",
       "99.0       924\n",
       "Name: count, dtype: int64"
      ]
     },
     "execution_count": 33,
     "metadata": {},
     "output_type": "execute_result"
    }
   ],
   "source": [
    "df['Cantril_ladder'].value_counts(dropna=False).sort_index()"
   ]
  },
  {
   "cell_type": "code",
   "execution_count": 34,
   "id": "d89908f6-baaf-4066-9ae5-951ea0458842",
   "metadata": {},
   "outputs": [],
   "source": [
    "df = df[df['Cantril_ladder'] < 11]\n"
   ]
  },
  {
   "cell_type": "code",
   "execution_count": 35,
   "id": "098a160c-f000-4235-80b5-ee460e4814cc",
   "metadata": {
    "scrolled": true
   },
   "outputs": [
    {
     "data": {
      "text/plain": [
       "Cantril_ladder\n",
       "0.0      42565\n",
       "1.0      27590\n",
       "2.0      36225\n",
       "3.0      59265\n",
       "4.0      71016\n",
       "5.0     193836\n",
       "6.0      95765\n",
       "7.0     118001\n",
       "8.0     108226\n",
       "9.0      37923\n",
       "10.0     64622\n",
       "Name: count, dtype: int64"
      ]
     },
     "execution_count": 35,
     "metadata": {},
     "output_type": "execute_result"
    }
   ],
   "source": [
    "df['Cantril_ladder'].value_counts(dropna=False).sort_index()"
   ]
  },
  {
   "cell_type": "code",
   "execution_count": 36,
   "id": "37de109d-8000-4b97-8588-450103ef8b39",
   "metadata": {},
   "outputs": [
    {
     "data": {
      "text/plain": [
       "(855034, 92)"
      ]
     },
     "execution_count": 36,
     "metadata": {},
     "output_type": "execute_result"
    }
   ],
   "source": [
    "df.shape"
   ]
  },
  {
   "cell_type": "code",
   "execution_count": 37,
   "id": "4f715f7d-dd88-49c2-8085-04dbc50bf237",
   "metadata": {},
   "outputs": [],
   "source": [
    "variable_list.append('Cantril_ladder')"
   ]
  },
  {
   "cell_type": "code",
   "execution_count": null,
   "id": "e4fd8ab7-efb3-4046-b5bf-eb015ff0ef96",
   "metadata": {},
   "outputs": [],
   "source": []
  },
  {
   "cell_type": "markdown",
   "id": "a7b9010e-bf7f-4f41-be0d-2bda663b9626",
   "metadata": {},
   "source": [
    "#### WP18"
   ]
  },
  {
   "cell_type": "code",
   "execution_count": 38,
   "id": "1ca8e0e2-0090-4078-a4e1-fa332b83451d",
   "metadata": {},
   "outputs": [
    {
     "data": {
      "text/plain": [
       "WP18\n",
       "0.0      17446\n",
       "1.0      13267\n",
       "2.0      20654\n",
       "3.0      31637\n",
       "4.0      35609\n",
       "5.0      89840\n",
       "6.0      72172\n",
       "7.0     111206\n",
       "8.0     149889\n",
       "9.0      91297\n",
       "10.0    155796\n",
       "98.0     64526\n",
       "99.0      1695\n",
       "Name: count, dtype: int64"
      ]
     },
     "execution_count": 38,
     "metadata": {},
     "output_type": "execute_result"
    }
   ],
   "source": [
    "df['WP18'].value_counts(dropna=False).sort_index()"
   ]
  },
  {
   "cell_type": "markdown",
   "id": "1b7a7254-5844-4667-8abb-3a077a4f0b1c",
   "metadata": {},
   "source": [
    "**Do not use**"
   ]
  },
  {
   "cell_type": "markdown",
   "id": "afb02012-22c7-4335-91ba-e9b1ef5fbbef",
   "metadata": {},
   "source": [
    "#### WP23 Health_disable"
   ]
  },
  {
   "cell_type": "markdown",
   "id": "c563f096-f22b-4a19-8b54-91d061863da7",
   "metadata": {},
   "source": [
    "drop 3 4 to NaN"
   ]
  },
  {
   "cell_type": "code",
   "execution_count": 39,
   "id": "4e422ef0-6027-47f3-aa42-ddaef3b389eb",
   "metadata": {},
   "outputs": [
    {
     "data": {
      "text/plain": [
       "WP23\n",
       "1.0    209933\n",
       "2.0    639967\n",
       "3.0      2737\n",
       "4.0       445\n",
       "NaN      1952\n",
       "Name: count, dtype: int64"
      ]
     },
     "execution_count": 39,
     "metadata": {},
     "output_type": "execute_result"
    }
   ],
   "source": [
    "df['WP23'].value_counts(dropna=False).sort_index()"
   ]
  },
  {
   "cell_type": "code",
   "execution_count": 40,
   "id": "d54113a1-ad50-4780-b7cf-eb2e0e35795d",
   "metadata": {},
   "outputs": [],
   "source": [
    "df['Health_disable'] = df['WP23']"
   ]
  },
  {
   "cell_type": "code",
   "execution_count": 41,
   "id": "7e140a31-45be-434a-bae6-16e70e9122c5",
   "metadata": {},
   "outputs": [],
   "source": [
    "df = df[df['Health_disable'] < 3] "
   ]
  },
  {
   "cell_type": "code",
   "execution_count": 42,
   "id": "2e1df8f8-0c71-4382-90c3-d9b07a06e188",
   "metadata": {},
   "outputs": [
    {
     "data": {
      "text/plain": [
       "Health_disable\n",
       "1.0    209933\n",
       "2.0    639967\n",
       "Name: count, dtype: int64"
      ]
     },
     "execution_count": 42,
     "metadata": {},
     "output_type": "execute_result"
    }
   ],
   "source": [
    "df['Health_disable'].value_counts(dropna=False).sort_index()"
   ]
  },
  {
   "cell_type": "code",
   "execution_count": 43,
   "id": "ee006596-7250-454d-b56f-733193f00e62",
   "metadata": {},
   "outputs": [],
   "source": [
    "df['Health_disable'] = np.abs(df['Health_disable']-2)"
   ]
  },
  {
   "cell_type": "code",
   "execution_count": 44,
   "id": "cca4a62b-edc4-4a32-b409-e306e76234f3",
   "metadata": {},
   "outputs": [
    {
     "data": {
      "text/plain": [
       "Health_disable\n",
       "0.0    639967\n",
       "1.0    209933\n",
       "Name: count, dtype: int64"
      ]
     },
     "execution_count": 44,
     "metadata": {},
     "output_type": "execute_result"
    }
   ],
   "source": [
    "df['Health_disable'].value_counts(dropna=False).sort_index()"
   ]
  },
  {
   "cell_type": "code",
   "execution_count": 45,
   "id": "9ac726f5-fbfc-44d6-95de-0cd95761ccd4",
   "metadata": {},
   "outputs": [],
   "source": [
    "variable_list.append('Health_disable')"
   ]
  },
  {
   "cell_type": "markdown",
   "id": "1c165dc5-e04e-481c-a88b-10b53aca4118",
   "metadata": {},
   "source": [
    "#### WP27 Relative_have"
   ]
  },
  {
   "cell_type": "markdown",
   "id": "a011fe62-88d0-4038-8d1a-510c086ab096",
   "metadata": {},
   "source": [
    "drop 3 4 to 2"
   ]
  },
  {
   "cell_type": "code",
   "execution_count": 46,
   "id": "b8926949-a8a1-40cb-b0bc-c1b7391fba99",
   "metadata": {},
   "outputs": [
    {
     "data": {
      "text/plain": [
       "WP27\n",
       "1.0    688058\n",
       "2.0    154692\n",
       "3.0      5759\n",
       "4.0       461\n",
       "NaN       930\n",
       "Name: count, dtype: int64"
      ]
     },
     "execution_count": 46,
     "metadata": {},
     "output_type": "execute_result"
    }
   ],
   "source": [
    "df['WP27'].value_counts(dropna=False).sort_index()"
   ]
  },
  {
   "cell_type": "code",
   "execution_count": 47,
   "id": "c3baf572-9854-4519-b059-9a1bff8fd6ac",
   "metadata": {},
   "outputs": [],
   "source": [
    "df['Relative_have'] = df['WP27']"
   ]
  },
  {
   "cell_type": "code",
   "execution_count": 48,
   "id": "362fddb8-cf63-4e8c-b6c1-9f8a311c1738",
   "metadata": {},
   "outputs": [],
   "source": [
    "df['Relative_have'] = df['Relative_have'].fillna(2)"
   ]
  },
  {
   "cell_type": "code",
   "execution_count": 49,
   "id": "f6c24167-992d-451f-9fa5-4f7c564235fc",
   "metadata": {},
   "outputs": [],
   "source": [
    "df.loc[df['Relative_have'].isin([3, 4]), 'Relative_have'] = 2"
   ]
  },
  {
   "cell_type": "code",
   "execution_count": 50,
   "id": "64a131e1-a569-4307-ac50-d0f321438a9e",
   "metadata": {},
   "outputs": [
    {
     "data": {
      "text/plain": [
       "Relative_have\n",
       "1.0    688058\n",
       "2.0    161842\n",
       "Name: count, dtype: int64"
      ]
     },
     "execution_count": 50,
     "metadata": {},
     "output_type": "execute_result"
    }
   ],
   "source": [
    "df['Relative_have'].value_counts(dropna=False).sort_index()"
   ]
  },
  {
   "cell_type": "code",
   "execution_count": 51,
   "id": "9b293aab-7148-4789-bc26-74684e8c6f24",
   "metadata": {},
   "outputs": [],
   "source": [
    "df['Relative_have'] = np.abs(df['Relative_have']-2)"
   ]
  },
  {
   "cell_type": "code",
   "execution_count": 52,
   "id": "4d92ef35-47ff-4bcc-8c42-da961f386283",
   "metadata": {},
   "outputs": [
    {
     "data": {
      "text/plain": [
       "Relative_have\n",
       "0.0    161842\n",
       "1.0    688058\n",
       "Name: count, dtype: int64"
      ]
     },
     "execution_count": 52,
     "metadata": {},
     "output_type": "execute_result"
    }
   ],
   "source": [
    "df['Relative_have'].value_counts(dropna=False).sort_index()"
   ]
  },
  {
   "cell_type": "code",
   "execution_count": 53,
   "id": "4570e027-7d0f-4bc1-b293-588e320b7a3c",
   "metadata": {},
   "outputs": [],
   "source": [
    "variable_list.append('Relative_have')"
   ]
  },
  {
   "cell_type": "markdown",
   "id": "01933696-f6b0-4817-a499-6b908cb092b0",
   "metadata": {},
   "source": [
    "#### WP30 Life_satisfaction"
   ]
  },
  {
   "cell_type": "markdown",
   "id": "08161b3c-1321-40b7-9358-1d3b7afd067b",
   "metadata": {},
   "source": [
    "drop 3 4 to 2"
   ]
  },
  {
   "cell_type": "code",
   "execution_count": 54,
   "id": "67430042-729e-446a-a8c4-bd41accba636",
   "metadata": {},
   "outputs": [
    {
     "data": {
      "text/plain": [
       "WP30\n",
       "1.0    564243\n",
       "2.0    273696\n",
       "3.0      9914\n",
       "4.0      1117\n",
       "NaN       930\n",
       "Name: count, dtype: int64"
      ]
     },
     "execution_count": 54,
     "metadata": {},
     "output_type": "execute_result"
    }
   ],
   "source": [
    "df['WP30'].value_counts(dropna=False).sort_index()"
   ]
  },
  {
   "cell_type": "code",
   "execution_count": 55,
   "id": "56dcfabf-6e8f-4320-a26a-ff04aec12bc3",
   "metadata": {},
   "outputs": [],
   "source": [
    "df['Life_satisfaction'] = df['WP30']"
   ]
  },
  {
   "cell_type": "code",
   "execution_count": 56,
   "id": "df54f25b-adb0-4e18-a9c6-6ca5ebf82209",
   "metadata": {},
   "outputs": [],
   "source": [
    "df['Life_satisfaction'] = df['Life_satisfaction'].fillna(2)"
   ]
  },
  {
   "cell_type": "code",
   "execution_count": 57,
   "id": "5be59e4e-2e51-44b4-ba27-c91c02f8db55",
   "metadata": {},
   "outputs": [],
   "source": [
    "df.loc[df['Life_satisfaction'].isin([3, 4]), 'Life_satisfaction'] = 2"
   ]
  },
  {
   "cell_type": "code",
   "execution_count": 58,
   "id": "6e3d6bf5-df23-483b-8b23-10b6f2c2fee0",
   "metadata": {},
   "outputs": [
    {
     "data": {
      "text/plain": [
       "Life_satisfaction\n",
       "1.0    564243\n",
       "2.0    285657\n",
       "Name: count, dtype: int64"
      ]
     },
     "execution_count": 58,
     "metadata": {},
     "output_type": "execute_result"
    }
   ],
   "source": [
    "df['Life_satisfaction'].value_counts(dropna=False).sort_index()"
   ]
  },
  {
   "cell_type": "code",
   "execution_count": 59,
   "id": "4494a38f-e77f-47be-8ffb-9043c6e2fd99",
   "metadata": {},
   "outputs": [],
   "source": [
    "df['Life_satisfaction'] = np.abs(df['Life_satisfaction']-2)"
   ]
  },
  {
   "cell_type": "code",
   "execution_count": 60,
   "id": "6c1d2db9-ab1e-4f82-83f5-f036541135c8",
   "metadata": {},
   "outputs": [
    {
     "data": {
      "text/plain": [
       "Life_satisfaction\n",
       "0.0    285657\n",
       "1.0    564243\n",
       "Name: count, dtype: int64"
      ]
     },
     "execution_count": 60,
     "metadata": {},
     "output_type": "execute_result"
    }
   ],
   "source": [
    "df['Life_satisfaction'].value_counts(dropna=False).sort_index()"
   ]
  },
  {
   "cell_type": "code",
   "execution_count": 61,
   "id": "5e944544-5bc2-4805-988d-2672631f3233",
   "metadata": {},
   "outputs": [],
   "source": [
    "variable_list.append('Life_satisfaction')"
   ]
  },
  {
   "cell_type": "markdown",
   "id": "73aba7ee-dedc-4e71-ba66-708b63fe7837",
   "metadata": {},
   "source": [
    "#### WP31 Living_standard_trend"
   ]
  },
  {
   "cell_type": "markdown",
   "id": "cb0f6295-e99a-482d-abed-2850cd53461b",
   "metadata": {},
   "source": [
    "drop 4 5 to 2"
   ]
  },
  {
   "cell_type": "code",
   "execution_count": 62,
   "id": "f7dfd0ec-40a3-40cf-bf83-aceb7658ddb7",
   "metadata": {},
   "outputs": [
    {
     "data": {
      "text/plain": [
       "WP31\n",
       "1.0    410233\n",
       "2.0    179276\n",
       "3.0    241899\n",
       "4.0     10634\n",
       "5.0       807\n",
       "NaN      7051\n",
       "Name: count, dtype: int64"
      ]
     },
     "execution_count": 62,
     "metadata": {},
     "output_type": "execute_result"
    }
   ],
   "source": [
    "df['WP31'].value_counts(dropna=False).sort_index()"
   ]
  },
  {
   "cell_type": "code",
   "execution_count": 63,
   "id": "0fad22d5-5bd6-4b78-803c-267872c55b20",
   "metadata": {},
   "outputs": [],
   "source": [
    "df['Living_standard_trend'] = df['WP31']"
   ]
  },
  {
   "cell_type": "code",
   "execution_count": 64,
   "id": "0eec6092-831c-4cca-9bb0-2133c60dc828",
   "metadata": {},
   "outputs": [],
   "source": [
    "df['Living_standard_trend'] = df['Living_standard_trend'].fillna(2)"
   ]
  },
  {
   "cell_type": "code",
   "execution_count": 65,
   "id": "7c2c0c81-e40c-4ae6-a551-b9892808e1dd",
   "metadata": {},
   "outputs": [],
   "source": [
    "df.loc[df['Living_standard_trend'].isin([4, 5]), 'Living_standard_trend'] = 2"
   ]
  },
  {
   "cell_type": "code",
   "execution_count": 66,
   "id": "bb4300b2-46b3-449b-80a3-ea85b21f4c41",
   "metadata": {},
   "outputs": [
    {
     "data": {
      "text/plain": [
       "Living_standard_trend\n",
       "1.0    410233\n",
       "2.0    197768\n",
       "3.0    241899\n",
       "Name: count, dtype: int64"
      ]
     },
     "execution_count": 66,
     "metadata": {},
     "output_type": "execute_result"
    }
   ],
   "source": [
    "df['Living_standard_trend'].value_counts(dropna=False).sort_index()"
   ]
  },
  {
   "cell_type": "code",
   "execution_count": 67,
   "id": "e3a5db94-25b9-437a-ab34-3405babe4086",
   "metadata": {},
   "outputs": [],
   "source": [
    "df['Living_standard_trend'] = -(df['Living_standard_trend'] - 2)"
   ]
  },
  {
   "cell_type": "code",
   "execution_count": 68,
   "id": "b622648a-765c-455b-95ac-b53989b8e80c",
   "metadata": {},
   "outputs": [
    {
     "data": {
      "text/plain": [
       "Living_standard_trend\n",
       "-1.0    241899\n",
       "-0.0    197768\n",
       " 1.0    410233\n",
       "Name: count, dtype: int64"
      ]
     },
     "execution_count": 68,
     "metadata": {},
     "output_type": "execute_result"
    }
   ],
   "source": [
    "df['Living_standard_trend'].value_counts(dropna=False).sort_index()"
   ]
  },
  {
   "cell_type": "code",
   "execution_count": 69,
   "id": "01f68de3-eb8a-4e75-af55-8a8b98f67b39",
   "metadata": {},
   "outputs": [],
   "source": [
    "variable_list.append('Living_standard_trend')"
   ]
  },
  {
   "cell_type": "markdown",
   "id": "0b842ec3-77d4-4029-b88c-f725b78cb728",
   "metadata": {},
   "source": [
    "#### WP40 WP43 Enough_food Enough_shelter"
   ]
  },
  {
   "cell_type": "markdown",
   "id": "e80c4778-a8e7-4099-b717-3463e155f0b9",
   "metadata": {},
   "source": [
    "drop 3 4 to 2"
   ]
  },
  {
   "cell_type": "code",
   "execution_count": 70,
   "id": "8f8392b0-d139-4231-b490-55284cdab448",
   "metadata": {},
   "outputs": [],
   "source": [
    "name_list = ['Enough_food', 'Enough_shelter']"
   ]
  },
  {
   "cell_type": "code",
   "execution_count": 71,
   "id": "7791a469-c21f-49ab-8c82-cfced25f495f",
   "metadata": {},
   "outputs": [],
   "source": [
    "df['Enough_food'] = df['WP40']\n",
    "df['Enough_shelter'] = df['WP43']"
   ]
  },
  {
   "cell_type": "code",
   "execution_count": 72,
   "id": "ad498063-c355-4299-b0ec-fad26a2e1f5b",
   "metadata": {},
   "outputs": [
    {
     "data": {
      "text/plain": [
       "Enough_food\n",
       "1.0    302464\n",
       "2.0    540676\n",
       "3.0      3195\n",
       "4.0       611\n",
       "NaN      2954\n",
       "Name: count, dtype: int64"
      ]
     },
     "execution_count": 72,
     "metadata": {},
     "output_type": "execute_result"
    }
   ],
   "source": [
    "df['Enough_food'].value_counts(dropna=False).sort_index()"
   ]
  },
  {
   "cell_type": "code",
   "execution_count": 73,
   "id": "7de41e9e-8bc3-46c4-9088-5ab4fa4c1657",
   "metadata": {},
   "outputs": [],
   "source": [
    "df['Enough_food'] = df['Enough_food'].fillna(2)\n",
    "df['Enough_shelter'] = df['Enough_shelter'].fillna(2)"
   ]
  },
  {
   "cell_type": "code",
   "execution_count": 74,
   "id": "2a933848-68da-4873-af08-1d2f6f50863a",
   "metadata": {},
   "outputs": [
    {
     "data": {
      "text/plain": [
       "Enough_shelter\n",
       "1.0    243779\n",
       "2.0    600095\n",
       "3.0      5100\n",
       "4.0       926\n",
       "Name: count, dtype: int64"
      ]
     },
     "execution_count": 74,
     "metadata": {},
     "output_type": "execute_result"
    }
   ],
   "source": [
    "df['Enough_shelter'].value_counts(dropna=False).sort_index()"
   ]
  },
  {
   "cell_type": "code",
   "execution_count": 75,
   "id": "b9fa8763-59ab-4c65-9466-e0ad9e6f1ac4",
   "metadata": {},
   "outputs": [],
   "source": [
    "columns_to_replace = ['Enough_food', 'Enough_shelter']\n",
    "\n",
    "for column in columns_to_replace:\n",
    "    df.loc[df[column].isin([3, 4]), column] = 2"
   ]
  },
  {
   "cell_type": "code",
   "execution_count": 76,
   "id": "28ae8d05-f341-4ef8-afee-f924d24d1037",
   "metadata": {},
   "outputs": [],
   "source": [
    "df['Enough_food'] = np.abs(df['Enough_food']-2)      "
   ]
  },
  {
   "cell_type": "code",
   "execution_count": 77,
   "id": "c74f1bea-c6d8-40c5-a96a-e6ca0859b739",
   "metadata": {},
   "outputs": [],
   "source": [
    "df['Enough_shelter'] = np.abs(df['Enough_shelter']-2)  "
   ]
  },
  {
   "cell_type": "code",
   "execution_count": 78,
   "id": "20cb2747-f5b6-4fcc-be82-240c5a563618",
   "metadata": {},
   "outputs": [
    {
     "data": {
      "text/plain": [
       "Enough_food\n",
       "0.0    547436\n",
       "1.0    302464\n",
       "Name: count, dtype: int64"
      ]
     },
     "execution_count": 78,
     "metadata": {},
     "output_type": "execute_result"
    }
   ],
   "source": [
    "df['Enough_food'].value_counts(dropna=False).sort_index()    "
   ]
  },
  {
   "cell_type": "code",
   "execution_count": 79,
   "id": "3068777d-373d-4e8f-b79b-febbe2dfc1a8",
   "metadata": {},
   "outputs": [
    {
     "data": {
      "text/plain": [
       "Enough_shelter\n",
       "0.0    606121\n",
       "1.0    243779\n",
       "Name: count, dtype: int64"
      ]
     },
     "execution_count": 79,
     "metadata": {},
     "output_type": "execute_result"
    }
   ],
   "source": [
    "df['Enough_shelter'].value_counts(dropna=False).sort_index()"
   ]
  },
  {
   "cell_type": "code",
   "execution_count": 80,
   "id": "41f0bff0-f3f0-461b-afee-f23114daf0c4",
   "metadata": {},
   "outputs": [],
   "source": [
    "variable_list = variable_list + name_list"
   ]
  },
  {
   "cell_type": "markdown",
   "id": "62ac491b-d8f3-4fdc-aeb6-429abb185865",
   "metadata": {},
   "source": [
    "#### WP60, WP61, WP63, WP65  Well_rested, Respected, Smile, Interesting_thing"
   ]
  },
  {
   "cell_type": "markdown",
   "id": "87dd4e5d-80da-4887-825f-01492f942244",
   "metadata": {},
   "source": [
    "drop 3 4 to 2"
   ]
  },
  {
   "cell_type": "code",
   "execution_count": 81,
   "id": "3b205bb2-f670-4220-bff2-5d2583e093be",
   "metadata": {},
   "outputs": [],
   "source": [
    "name_list = [\"Well_rested\", \"Respected\", \"Smile\", \"Interesting_thing\"]"
   ]
  },
  {
   "cell_type": "code",
   "execution_count": 82,
   "id": "8aaf93ff-e175-4880-b9d2-3c0545a48b4f",
   "metadata": {},
   "outputs": [],
   "source": [
    "code_list = [\"WP60\", \"WP61\", \"WP63\", \"WP65\"]"
   ]
  },
  {
   "cell_type": "code",
   "execution_count": 83,
   "id": "9b3eb0e4-6743-4cdd-b212-8000e1142b62",
   "metadata": {},
   "outputs": [
    {
     "name": "stdout",
     "output_type": "stream",
     "text": [
      "WP60\n",
      "1.0    571737\n",
      "2.0    266912\n",
      "3.0      3747\n",
      "4.0       397\n",
      "NaN      7107\n",
      "Name: count, dtype: int64\n",
      "Well_rested\n",
      "0.0    278163\n",
      "1.0    571737\n",
      "Name: count, dtype: int64\n",
      "WP61\n",
      "1.0    740562\n",
      "2.0     91281\n",
      "3.0     10054\n",
      "4.0       896\n",
      "NaN      7107\n",
      "Name: count, dtype: int64\n",
      "Respected\n",
      "0.0    109338\n",
      "1.0    740562\n",
      "Name: count, dtype: int64\n",
      "WP63\n",
      "1.0    607165\n",
      "2.0    224595\n",
      "3.0     10307\n",
      "4.0       726\n",
      "NaN      7107\n",
      "Name: count, dtype: int64\n",
      "Smile\n",
      "0.0    242735\n",
      "1.0    607165\n",
      "Name: count, dtype: int64\n",
      "WP65\n",
      "1.0    450741\n",
      "2.0    383900\n",
      "3.0      7566\n",
      "4.0       586\n",
      "NaN      7107\n",
      "Name: count, dtype: int64\n",
      "Interesting_thing\n",
      "0.0    399159\n",
      "1.0    450741\n",
      "Name: count, dtype: int64\n"
     ]
    }
   ],
   "source": [
    "for code, name in zip(code_list, name_list):\n",
    "    print(df[code].value_counts(dropna=False).sort_index())\n",
    "    df[name] = df[code]\n",
    "    df[name] = df[name].fillna(2)\n",
    "    df.loc[df[name].isin([3, 4]), name] = 2\n",
    "    df[name] = np.abs(df[name]-2) \n",
    "    print(df[name].value_counts(dropna=False).sort_index())"
   ]
  },
  {
   "cell_type": "code",
   "execution_count": 84,
   "id": "10d381e1-fc27-40c3-be1a-4a61f355d8a8",
   "metadata": {},
   "outputs": [],
   "source": [
    "variable_list = variable_list + name_list"
   ]
  },
  {
   "cell_type": "markdown",
   "id": "96b0fa86-2bbf-4147-a489-cd80fed89607",
   "metadata": {},
   "source": [
    "#### WP67, WP68, WP69, WP70, WP71, WP74  Enjoyment, Physical_pain, Worry, Sadness, Stress, Anger"
   ]
  },
  {
   "cell_type": "markdown",
   "id": "c8482426-15c0-4542-bbfb-d77fba17a49a",
   "metadata": {},
   "source": [
    "drop 3 4 to 2"
   ]
  },
  {
   "cell_type": "code",
   "execution_count": 85,
   "id": "a92a6ce5-5c99-48eb-a75a-7fc04f89a0a1",
   "metadata": {},
   "outputs": [],
   "source": [
    "name_list = [\"Enjoyment\", \"Physical_pain\", \"Worry\", \"Sadness\", \"Stress\", \"Anger\"]"
   ]
  },
  {
   "cell_type": "code",
   "execution_count": 86,
   "id": "90dc8326-70eb-4bf0-8dc6-20dec5f70419",
   "metadata": {},
   "outputs": [],
   "source": [
    "code_list = [\"WP67\", \"WP68\", \"WP69\", \"WP70\", \"WP71\", \"WP74\"]"
   ]
  },
  {
   "cell_type": "code",
   "execution_count": 87,
   "id": "ea6c9d0e-ac1f-403c-9e56-0bfea9483345",
   "metadata": {},
   "outputs": [
    {
     "name": "stdout",
     "output_type": "stream",
     "text": [
      "WP67\n",
      "1.0    576556\n",
      "2.0    253325\n",
      "3.0      8292\n",
      "4.0       684\n",
      "NaN     11043\n",
      "Name: count, dtype: int64\n",
      "Enjoyment\n",
      "0.0    273344\n",
      "1.0    576556\n",
      "Name: count, dtype: int64\n",
      "WP68\n",
      "1.0    276936\n",
      "2.0    565738\n",
      "3.0      2032\n",
      "4.0       272\n",
      "NaN      4922\n",
      "Name: count, dtype: int64\n",
      "Physical_pain\n",
      "0.0    572964\n",
      "1.0    276936\n",
      "Name: count, dtype: int64\n",
      "WP69\n",
      "1.0    341255\n",
      "2.0    500322\n",
      "3.0      3076\n",
      "4.0       325\n",
      "NaN      4922\n",
      "Name: count, dtype: int64\n",
      "Worry\n",
      "0.0    508645\n",
      "1.0    341255\n",
      "Name: count, dtype: int64\n",
      "WP70\n",
      "1.0    216873\n",
      "2.0    623971\n",
      "3.0      3727\n",
      "4.0       407\n",
      "NaN      4922\n",
      "Name: count, dtype: int64\n",
      "Sadness\n",
      "0.0    633027\n",
      "1.0    216873\n",
      "Name: count, dtype: int64\n",
      "WP71\n",
      "1.0    305845\n",
      "2.0    532661\n",
      "3.0      5066\n",
      "4.0       416\n",
      "NaN      5912\n",
      "Name: count, dtype: int64\n",
      "Stress\n",
      "0.0    544055\n",
      "1.0    305845\n",
      "Name: count, dtype: int64\n",
      "WP74\n",
      "1.0    175247\n",
      "2.0    666088\n",
      "3.0      3214\n",
      "4.0       429\n",
      "NaN      4922\n",
      "Name: count, dtype: int64\n",
      "Anger\n",
      "0.0    674653\n",
      "1.0    175247\n",
      "Name: count, dtype: int64\n"
     ]
    }
   ],
   "source": [
    "for code, name in zip(code_list, name_list):\n",
    "    print(df[code].value_counts(dropna=False).sort_index())\n",
    "    df[name] = df[code]\n",
    "    df[name] = df[name].fillna(2)\n",
    "    df.loc[df[name].isin([3, 4]), name] = 2\n",
    "    df[name] = np.abs(df[name]-2) \n",
    "    print(df[name].value_counts(dropna=False).sort_index())"
   ]
  },
  {
   "cell_type": "code",
   "execution_count": 88,
   "id": "af104ea9-5b7b-470d-a062-504ef5f1dddb",
   "metadata": {},
   "outputs": [],
   "source": [
    "variable_list = variable_list + name_list"
   ]
  },
  {
   "cell_type": "code",
   "execution_count": null,
   "id": "65b8241c-a948-4a2c-ada3-4d5f5175097f",
   "metadata": {},
   "outputs": [],
   "source": []
  },
  {
   "cell_type": "markdown",
   "id": "1f6f6047-557c-4538-a689-ce8c959a7794",
   "metadata": {},
   "source": [
    "#### WP83 City_satisfaction"
   ]
  },
  {
   "cell_type": "markdown",
   "id": "55b52fe8-3cae-4470-83a2-125d48947bac",
   "metadata": {},
   "source": [
    "drop 3 4 to 2"
   ]
  },
  {
   "cell_type": "code",
   "execution_count": 89,
   "id": "ee6be5bd-0bdb-43a3-bda9-d80301f8e92a",
   "metadata": {},
   "outputs": [],
   "source": [
    "code = 'WP83'\n",
    "name = 'City_satisfaction'"
   ]
  },
  {
   "cell_type": "code",
   "execution_count": 90,
   "id": "89f43d3a-eb37-4c88-9bbe-770a98ec1f2f",
   "metadata": {},
   "outputs": [
    {
     "name": "stdout",
     "output_type": "stream",
     "text": [
      "WP83\n",
      "1.0    655854\n",
      "2.0    171893\n",
      "3.0      7408\n",
      "4.0       647\n",
      "Name: count, dtype: int64\n",
      "City_satisfaction\n",
      "0.0    194046\n",
      "1.0    655854\n",
      "Name: count, dtype: int64\n"
     ]
    }
   ],
   "source": [
    "print(df[code].value_counts().sort_index())\n",
    "df[name] = df[code]\n",
    "df[name] = df[name].fillna(2)\n",
    "df.loc[df[name] > 1, name] = 0\n",
    "print(df[name].value_counts().sort_index())"
   ]
  },
  {
   "cell_type": "code",
   "execution_count": 91,
   "id": "f3950638-c688-4600-afda-687e7fd517d0",
   "metadata": {},
   "outputs": [],
   "source": [
    "variable_list.append(name)"
   ]
  },
  {
   "cell_type": "code",
   "execution_count": null,
   "id": "c4b255bb-2229-45be-9330-72ee167f027b",
   "metadata": {},
   "outputs": [],
   "source": []
  },
  {
   "cell_type": "markdown",
   "id": "ed4cd88e-6d84-4ff3-8615-29a5315bd9ae",
   "metadata": {},
   "source": [
    "#### **WP85 "
   ]
  },
  {
   "cell_type": "markdown",
   "id": "c052f5a7-7241-4ace-b690-258ea577e7c5",
   "metadata": {},
   "source": [
    "Move_place drop 3 4 to 2"
   ]
  },
  {
   "cell_type": "code",
   "execution_count": 92,
   "id": "34963000-5b1b-47c8-9162-8eb05450bf93",
   "metadata": {},
   "outputs": [],
   "source": [
    "#code = 'WP85'"
   ]
  },
  {
   "cell_type": "code",
   "execution_count": 93,
   "id": "0aad701b-a64a-443e-b339-e27573db00e2",
   "metadata": {},
   "outputs": [],
   "source": [
    "#name = 'Move_place'"
   ]
  },
  {
   "cell_type": "code",
   "execution_count": 94,
   "id": "d15fb0bd-294c-45ca-a976-00635721175b",
   "metadata": {
    "scrolled": true
   },
   "outputs": [],
   "source": [
    "#print(df[code].value_counts(dropna=False).sort_index())\n",
    "#df[name] = df[code]\n",
    "#df[name] = df[name].fillna(2)\n",
    "#df.loc[df[name] > 1, name] = 0\n",
    "#print(df[name].value_counts().sort_index())"
   ]
  },
  {
   "cell_type": "code",
   "execution_count": 95,
   "id": "4acba949-47d2-422e-87c6-e444259d8975",
   "metadata": {},
   "outputs": [],
   "source": [
    "#variable_list.append(name)"
   ]
  },
  {
   "cell_type": "markdown",
   "id": "2fafe6ac-428e-4c67-b51f-23cf31d1a00b",
   "metadata": {},
   "source": [
    "**To be determined**"
   ]
  },
  {
   "cell_type": "markdown",
   "id": "e9afeb0a-d77e-494d-8dc8-cb6fb649556d",
   "metadata": {},
   "source": [
    "#### WP86 Recommended_live_place"
   ]
  },
  {
   "cell_type": "markdown",
   "id": "befa1550-aa4e-4b2c-953e-fd55e98a4a02",
   "metadata": {},
   "source": [
    "drop 3 4 to 2"
   ]
  },
  {
   "cell_type": "code",
   "execution_count": 96,
   "id": "862b88ea-1cf6-4e09-a0d3-f3e8f3512e96",
   "metadata": {},
   "outputs": [],
   "source": [
    "code = 'WP86'\n",
    "name = 'Recommended_live_place'"
   ]
  },
  {
   "cell_type": "code",
   "execution_count": 97,
   "id": "f32fb707-cda1-4256-8edb-6e98873d0724",
   "metadata": {},
   "outputs": [
    {
     "name": "stdout",
     "output_type": "stream",
     "text": [
      "WP86\n",
      "1.0    596946\n",
      "2.0    216041\n",
      "3.0     21792\n",
      "4.0      1023\n",
      "NaN     14098\n",
      "Name: count, dtype: int64\n",
      "Recommended_live_place\n",
      "0.0    252954\n",
      "1.0    596946\n",
      "Name: count, dtype: int64\n"
     ]
    }
   ],
   "source": [
    "print(df[code].value_counts(dropna=False).sort_index())\n",
    "df[name] = df[code]\n",
    "df[name] = df[name].fillna(2)\n",
    "df.loc[df[name] > 1, name] = 0\n",
    "print(df[name].value_counts(dropna=False).sort_index())"
   ]
  },
  {
   "cell_type": "code",
   "execution_count": 98,
   "id": "e5225529-77af-470d-989f-0254f2f11783",
   "metadata": {},
   "outputs": [],
   "source": [
    "variable_list.append(name)"
   ]
  },
  {
   "cell_type": "markdown",
   "id": "25a818c5-b055-4bb5-9c43-f3b7a6503c19",
   "metadata": {},
   "source": [
    "#### WP19472 Economic_rating"
   ]
  },
  {
   "cell_type": "markdown",
   "id": "a1dd4b56-ec3f-44bf-9d5a-0b4913140407",
   "metadata": {},
   "source": [
    "Drop nan 8 9 to 2"
   ]
  },
  {
   "cell_type": "code",
   "execution_count": 99,
   "id": "97473e8d-193e-4874-aa50-72ba153f548d",
   "metadata": {},
   "outputs": [],
   "source": [
    "code = 'WP19472'\n",
    "name = 'Economic_rating'"
   ]
  },
  {
   "cell_type": "code",
   "execution_count": 100,
   "id": "d8ae7817-47d7-4fe2-8dce-8206051973cc",
   "metadata": {},
   "outputs": [
    {
     "name": "stdout",
     "output_type": "stream",
     "text": [
      "WP19472\n",
      "1.0    166101\n",
      "2.0    351457\n",
      "3.0    254275\n",
      "4.0     56604\n",
      "8.0     11860\n",
      "9.0       539\n",
      "NaN      9064\n",
      "Name: count, dtype: int64\n"
     ]
    }
   ],
   "source": [
    "print(df[code].value_counts(dropna=False).sort_index())"
   ]
  },
  {
   "cell_type": "code",
   "execution_count": 101,
   "id": "97514733-2007-4c9e-9483-fe3206a272d2",
   "metadata": {},
   "outputs": [
    {
     "name": "stdout",
     "output_type": "stream",
     "text": [
      "Economic_rating\n",
      "1.0    166101\n",
      "2.0    372920\n",
      "3.0    254275\n",
      "4.0     56604\n",
      "Name: count, dtype: int64\n"
     ]
    }
   ],
   "source": [
    "df[name] = df[code]\n",
    "df[name] = df[name].fillna(2)\n",
    "df.loc[df[name].isin([8, 9]), name] = 2\n",
    "print(df[name].value_counts(dropna=False).sort_index())"
   ]
  },
  {
   "cell_type": "code",
   "execution_count": 102,
   "id": "29eb27bd-b345-4817-a82c-52dce4c6c525",
   "metadata": {},
   "outputs": [],
   "source": [
    "variable_list.append(name)"
   ]
  },
  {
   "cell_type": "markdown",
   "id": "8aabc400-f3d3-47be-93fa-475d9a1bb06d",
   "metadata": {},
   "source": [
    "#### WP88 Economy_trend"
   ]
  },
  {
   "cell_type": "markdown",
   "id": "26bb9032-0c65-47f3-af30-06278cee16f3",
   "metadata": {},
   "source": [
    "Drop nan 4 5 to 2"
   ]
  },
  {
   "cell_type": "code",
   "execution_count": 103,
   "id": "3dbd6072-60cd-47f2-8294-261dc85fc80c",
   "metadata": {},
   "outputs": [],
   "source": [
    "code = 'WP88'\n",
    "name = 'Economic_trend'"
   ]
  },
  {
   "cell_type": "code",
   "execution_count": 104,
   "id": "a17c265c-9f97-4a9a-b266-37b07bde235c",
   "metadata": {},
   "outputs": [
    {
     "name": "stdout",
     "output_type": "stream",
     "text": [
      "WP88\n",
      "1.0    365977\n",
      "2.0    129015\n",
      "3.0    317404\n",
      "4.0     27567\n",
      "5.0       873\n",
      "NaN      9064\n",
      "Name: count, dtype: int64\n"
     ]
    }
   ],
   "source": [
    "print(df[code].value_counts(dropna=False).sort_index())"
   ]
  },
  {
   "cell_type": "code",
   "execution_count": 105,
   "id": "467a3a05-e897-4291-aa98-556605655237",
   "metadata": {},
   "outputs": [
    {
     "name": "stdout",
     "output_type": "stream",
     "text": [
      "Economic_trend\n",
      "-1.0    317404\n",
      "-0.0    166519\n",
      " 1.0    365977\n",
      "Name: count, dtype: int64\n"
     ]
    }
   ],
   "source": [
    "df[name] = df[code]\n",
    "df[name] = df[name].fillna(2)\n",
    "df.loc[df[name].isin([4, 5]), name] = 2\n",
    "df[name] = -(df[name] - 2)\n",
    "print(df[name].value_counts(dropna=False).sort_index())"
   ]
  },
  {
   "cell_type": "code",
   "execution_count": 106,
   "id": "acbec3c3-cf8c-4044-87f5-51363b067afc",
   "metadata": {},
   "outputs": [],
   "source": [
    "variable_list.append(name)"
   ]
  },
  {
   "cell_type": "markdown",
   "id": "48c6f8e5-482b-43d0-b0ed-deb2639cc5db",
   "metadata": {},
   "source": [
    "#### WP89 Local_job_outlook"
   ]
  },
  {
   "cell_type": "markdown",
   "id": "9436b49b-a6cc-4f18-865d-ec575481cd60",
   "metadata": {},
   "source": [
    "Drop nan 3 4 to 2"
   ]
  },
  {
   "cell_type": "code",
   "execution_count": 107,
   "id": "c5eb6b8d-f154-4e36-a4b4-34f651193fb2",
   "metadata": {},
   "outputs": [],
   "source": [
    "code = 'WP89'\n",
    "name = 'Local_job_outlook'"
   ]
  },
  {
   "cell_type": "code",
   "execution_count": 108,
   "id": "1cb4d521-daf9-4e07-9cd3-b3e42841a711",
   "metadata": {},
   "outputs": [
    {
     "name": "stdout",
     "output_type": "stream",
     "text": [
      "WP89\n",
      "1.0    323101\n",
      "2.0    454415\n",
      "3.0     58038\n",
      "4.0      1799\n",
      "NaN     12547\n",
      "Name: count, dtype: int64\n",
      "Local_job_outlook\n",
      "0.0    526799\n",
      "1.0    323101\n",
      "Name: count, dtype: int64\n"
     ]
    }
   ],
   "source": [
    "print(df[code].value_counts(dropna=False).sort_index())\n",
    "df[name] = df[code]\n",
    "df[name] = df[name].fillna(2)\n",
    "df.loc[df[name] > 1, name] = 0\n",
    "print(df[name].value_counts(dropna=False).sort_index())"
   ]
  },
  {
   "cell_type": "code",
   "execution_count": 109,
   "id": "9dd5506b-577d-4308-98e8-af68722a382d",
   "metadata": {},
   "outputs": [],
   "source": [
    "variable_list.append(name)"
   ]
  },
  {
   "cell_type": "markdown",
   "id": "c74c6eb2-befd-4664-8150-823101197dd9",
   "metadata": {},
   "source": [
    "#### WP91, WP92, WP93, WP94, WP95, WP97. WP98, WP10248 -> Satisfied_pubtran, Satisfied_road, Satisfied_edu, Satisfied_qualityair, Satisfied_qualitywater, Satisfied_healthcare, Satisfied_affhouse, Satisfied_makefriend"
   ]
  },
  {
   "cell_type": "markdown",
   "id": "398e0845-63af-428d-9de2-74a33f181664",
   "metadata": {},
   "source": [
    "Drop nan 3 4 to 2"
   ]
  },
  {
   "cell_type": "code",
   "execution_count": 110,
   "id": "21a9070a-a576-47cc-8090-51a94075caad",
   "metadata": {},
   "outputs": [],
   "source": [
    "name_list = ['Satisfied_pubtran', 'Satisfied_road', 'Satisfied_edu', 'Satisfied_qualityair', 'Satisfied_qualitywater', 'Satisfied_healthcare', 'Satisfied_affhouse', 'Satisfied_oppofriend']"
   ]
  },
  {
   "cell_type": "code",
   "execution_count": 111,
   "id": "b88dd842-17f1-4cea-b99b-5c05ea58a386",
   "metadata": {},
   "outputs": [],
   "source": [
    "code_list = ['WP91', 'WP92', 'WP93', 'WP94', 'WP95', 'WP97', 'WP98', 'WP10248']"
   ]
  },
  {
   "cell_type": "code",
   "execution_count": 112,
   "id": "7b7223f8-c104-4b64-9cdb-09b31fbdc46d",
   "metadata": {},
   "outputs": [
    {
     "name": "stdout",
     "output_type": "stream",
     "text": [
      "WP91\n",
      "1.0    497582\n",
      "2.0    297857\n",
      "3.0     43572\n",
      "4.0      1825\n",
      "NaN      9064\n",
      "Name: count, dtype: int64\n",
      "Satisfied_pubtran\n",
      "0.0    352318\n",
      "1.0    497582\n",
      "Name: count, dtype: int64\n",
      "WP92\n",
      "1.0    475046\n",
      "2.0    351191\n",
      "3.0     13902\n",
      "4.0       697\n",
      "NaN      9064\n",
      "Name: count, dtype: int64\n",
      "Satisfied_road\n",
      "0.0    374854\n",
      "1.0    475046\n",
      "Name: count, dtype: int64\n",
      "WP93\n",
      "1.0    516505\n",
      "2.0    263782\n",
      "3.0     55960\n",
      "4.0      1524\n",
      "NaN     12129\n",
      "Name: count, dtype: int64\n",
      "Satisfied_edu\n",
      "0.0    333395\n",
      "1.0    516505\n",
      "Name: count, dtype: int64\n",
      "WP94\n",
      "1.0    625422\n",
      "2.0    204172\n",
      "3.0     10623\n",
      "4.0       619\n",
      "NaN      9064\n",
      "Name: count, dtype: int64\n",
      "Satisfied_qualityair\n",
      "0.0    224478\n",
      "1.0    625422\n",
      "Name: count, dtype: int64\n",
      "WP95\n",
      "1.0    600177\n",
      "2.0    239235\n",
      "3.0      7130\n",
      "4.0       415\n",
      "NaN      2943\n",
      "Name: count, dtype: int64\n",
      "Satisfied_qualitywater\n",
      "0.0    249723\n",
      "1.0    600177\n",
      "Name: count, dtype: int64\n",
      "WP97\n",
      "1.0    493323\n",
      "2.0    323873\n",
      "3.0     20678\n",
      "4.0       920\n",
      "NaN     11106\n",
      "Name: count, dtype: int64\n",
      "Satisfied_healthcare\n",
      "0.0    356577\n",
      "1.0    493323\n",
      "Name: count, dtype: int64\n",
      "WP98\n",
      "1.0    419451\n",
      "2.0    363803\n",
      "3.0     55897\n",
      "4.0      1685\n",
      "NaN      9064\n",
      "Name: count, dtype: int64\n",
      "Satisfied_affhouse\n",
      "0.0    430449\n",
      "1.0    419451\n",
      "Name: count, dtype: int64\n",
      "WP10248\n",
      "1.0    638029\n",
      "2.0    156341\n",
      "3.0     23885\n",
      "4.0      1590\n",
      "NaN     30055\n",
      "Name: count, dtype: int64\n",
      "Satisfied_oppofriend\n",
      "0.0    211871\n",
      "1.0    638029\n",
      "Name: count, dtype: int64\n"
     ]
    }
   ],
   "source": [
    "for code, name in zip(code_list, name_list):\n",
    "    print(df[code].value_counts(dropna=False).sort_index())\n",
    "    df[name] = df[code]\n",
    "    df[name] = df[name].fillna(2)\n",
    "    df.loc[df[name] > 1, name] = 0\n",
    "    print(df[name].value_counts(dropna=False).sort_index())"
   ]
  },
  {
   "cell_type": "code",
   "execution_count": 113,
   "id": "198315de-3266-4b9b-8b1b-0772b6c17038",
   "metadata": {},
   "outputs": [],
   "source": [
    "variable_list = variable_list + name_list"
   ]
  },
  {
   "cell_type": "markdown",
   "id": "9acd4557-2db0-4e52-9558-8ff1c392a53c",
   "metadata": {},
   "source": [
    "#### WP103, WP105, WP106 -> Good_minorities, Good_homo, Good_immigrants"
   ]
  },
  {
   "cell_type": "markdown",
   "id": "8008ef14-441d-475a-9778-6e57ea8ba895",
   "metadata": {},
   "source": [
    "Drop nan 3 4 to 2"
   ]
  },
  {
   "cell_type": "code",
   "execution_count": 114,
   "id": "7c54a969-8754-4373-9565-fdb0f5e810d9",
   "metadata": {},
   "outputs": [],
   "source": [
    "name_list = ['Good_minorities', 'Good_homo', 'Good_immigrants']"
   ]
  },
  {
   "cell_type": "code",
   "execution_count": 115,
   "id": "b888113a-e5a4-48d9-b1b6-4f82624a7f85",
   "metadata": {},
   "outputs": [],
   "source": [
    "code_list = ['WP103', 'WP105', 'WP106']"
   ]
  },
  {
   "cell_type": "code",
   "execution_count": 116,
   "id": "fb947b62-33d0-4f26-8eb1-3356ae0dfa43",
   "metadata": {
    "scrolled": true
   },
   "outputs": [
    {
     "name": "stdout",
     "output_type": "stream",
     "text": [
      "WP103\n",
      "1.0    530909\n",
      "2.0    162510\n",
      "3.0     51481\n",
      "4.0      2560\n",
      "NaN    102440\n",
      "Name: count, dtype: int64\n",
      "Good_minorities\n",
      "0.0    318991\n",
      "1.0    530909\n",
      "Name: count, dtype: int64\n",
      "WP105\n",
      "1.0    287763\n",
      "2.0    338653\n",
      "3.0     96640\n",
      "4.0      8781\n",
      "NaN    118063\n",
      "Name: count, dtype: int64\n",
      "Good_homo\n",
      "0.0    562137\n",
      "1.0    287763\n",
      "Name: count, dtype: int64\n",
      "WP106\n",
      "1.0    516436\n",
      "2.0    257515\n",
      "3.0     64690\n",
      "4.0      3272\n",
      "NaN      7987\n",
      "Name: count, dtype: int64\n",
      "Good_immigrants\n",
      "0.0    333464\n",
      "1.0    516436\n",
      "Name: count, dtype: int64\n"
     ]
    }
   ],
   "source": [
    "for code, name in zip(code_list, name_list):\n",
    "    print(df[code].value_counts(dropna=False).sort_index())\n",
    "    df[name] = df[code]\n",
    "    df[name] = df[name].fillna(2)\n",
    "    df.loc[df[name] > 1, name] = 0\n",
    "    print(df[name].value_counts(dropna=False).sort_index())"
   ]
  },
  {
   "cell_type": "code",
   "execution_count": 117,
   "id": "d5ae6cfa-7bd9-4e34-be6e-00fe48089c71",
   "metadata": {},
   "outputs": [],
   "source": [
    "variable_list = variable_list + name_list"
   ]
  },
  {
   "cell_type": "markdown",
   "id": "78a10fa3-c1ec-4f10-995e-742bfa0b8650",
   "metadata": {},
   "source": [
    "#### WP108, WP109, WP110, WP111 -> Donated, Volunteer, Help_stranger, Voice_official"
   ]
  },
  {
   "cell_type": "markdown",
   "id": "dde36327-a11d-4e0e-9e6b-b97920a104da",
   "metadata": {},
   "source": [
    "Drop nan 3 4 to 2"
   ]
  },
  {
   "cell_type": "code",
   "execution_count": 118,
   "id": "fd466da5-a8aa-46a4-a0cd-ba6c5d5583dc",
   "metadata": {},
   "outputs": [],
   "source": [
    "name_list = ['Donated', 'Volunteer', 'Help_stranger', 'Voice_official']"
   ]
  },
  {
   "cell_type": "code",
   "execution_count": 119,
   "id": "c81b3c9b-71ee-49b4-996a-b54ae279a307",
   "metadata": {},
   "outputs": [],
   "source": [
    "code_list = ['WP108', 'WP109', 'WP110', 'WP111']"
   ]
  },
  {
   "cell_type": "code",
   "execution_count": 120,
   "id": "4a7ea1d1-fc2d-4634-b7eb-0a92dc1707c1",
   "metadata": {},
   "outputs": [
    {
     "name": "stdout",
     "output_type": "stream",
     "text": [
      "WP108\n",
      "1.0    275806\n",
      "2.0    568495\n",
      "3.0      2765\n",
      "4.0      1405\n",
      "NaN      1429\n",
      "Name: count, dtype: int64\n",
      "Donated\n",
      "0.0    574094\n",
      "1.0    275806\n",
      "Name: count, dtype: int64\n",
      "WP109\n",
      "1.0    181972\n",
      "2.0    662524\n",
      "3.0      3289\n",
      "4.0       686\n",
      "NaN      1429\n",
      "Name: count, dtype: int64\n",
      "Volunteer\n",
      "0.0    667928\n",
      "1.0    181972\n",
      "Name: count, dtype: int64\n",
      "WP110\n",
      "1.0    462094\n",
      "2.0    379682\n",
      "3.0      4451\n",
      "4.0      1243\n",
      "NaN      2430\n",
      "Name: count, dtype: int64\n",
      "Help_stranger\n",
      "0.0    387806\n",
      "1.0    462094\n",
      "Name: count, dtype: int64\n",
      "WP111\n",
      "1.0    171016\n",
      "2.0    643756\n",
      "3.0      6525\n",
      "4.0      1040\n",
      "NaN     27563\n",
      "Name: count, dtype: int64\n",
      "Voice_official\n",
      "0.0    678884\n",
      "1.0    171016\n",
      "Name: count, dtype: int64\n"
     ]
    }
   ],
   "source": [
    "for code, name in zip(code_list, name_list):\n",
    "    print(df[code].value_counts(dropna=False).sort_index())\n",
    "    df[name] = df[code]\n",
    "    df[name] = df[name].fillna(2)\n",
    "    df.loc[df[name] > 1, name] = 0\n",
    "    print(df[name].value_counts(dropna=False).sort_index())"
   ]
  },
  {
   "cell_type": "code",
   "execution_count": 121,
   "id": "f4b6782f-00db-4db9-ac71-f8570b025a49",
   "metadata": {},
   "outputs": [],
   "source": [
    "variable_list = variable_list + name_list"
   ]
  },
  {
   "cell_type": "markdown",
   "id": "938cb92c-56f1-4a9c-b0d4-de6cb9d3787d",
   "metadata": {},
   "source": [
    "#### WP112, WP113, WP117, WP118 -> Local_police_confidence, Safety_walk, Stolen, Assualted"
   ]
  },
  {
   "cell_type": "markdown",
   "id": "d1e45531-7c95-412e-b868-cb57888ce9e3",
   "metadata": {},
   "source": [
    "Drop nan 3 4 to 2"
   ]
  },
  {
   "cell_type": "code",
   "execution_count": 122,
   "id": "4892ba37-3916-4bf7-942d-b45488dc1ffb",
   "metadata": {},
   "outputs": [],
   "source": [
    "name_list = ['Local_police_confidence', 'Safety_walk', 'Stolen', 'Assualted']"
   ]
  },
  {
   "cell_type": "code",
   "execution_count": 123,
   "id": "ae7dcfc2-1c06-4000-b098-6571e8fabe53",
   "metadata": {},
   "outputs": [],
   "source": [
    "code_list = ['WP112', 'WP113', 'WP117', 'WP118']"
   ]
  },
  {
   "cell_type": "code",
   "execution_count": 124,
   "id": "a66ecd6b-b1db-4352-be71-3d4242608d71",
   "metadata": {},
   "outputs": [
    {
     "name": "stdout",
     "output_type": "stream",
     "text": [
      "WP112\n",
      "1.0    503820\n",
      "2.0    221368\n",
      "3.0     28677\n",
      "4.0      2054\n",
      "NaN     93981\n",
      "Name: count, dtype: int64\n",
      "Local_police_confidence\n",
      "0.0    346080\n",
      "1.0    503820\n",
      "Name: count, dtype: int64\n",
      "WP113\n",
      "1.0    534170\n",
      "2.0    280373\n",
      "3.0     17402\n",
      "4.0      1054\n",
      "NaN     16901\n",
      "Name: count, dtype: int64\n",
      "Safety_walk\n",
      "0.0    315730\n",
      "1.0    534170\n",
      "Name: count, dtype: int64\n",
      "WP117\n",
      "1.0    123892\n",
      "2.0    700323\n",
      "3.0      3171\n",
      "4.0       352\n",
      "NaN     22162\n",
      "Name: count, dtype: int64\n",
      "Stolen\n",
      "0.0    726008\n",
      "1.0    123892\n",
      "Name: count, dtype: int64\n",
      "WP118\n",
      "1.0     54623\n",
      "2.0    771357\n",
      "3.0      1780\n",
      "4.0       369\n",
      "NaN     21771\n",
      "Name: count, dtype: int64\n",
      "Assualted\n",
      "0.0    795277\n",
      "1.0     54623\n",
      "Name: count, dtype: int64\n"
     ]
    }
   ],
   "source": [
    "for code, name in zip(code_list, name_list):\n",
    "    print(df[code].value_counts(dropna=False).sort_index())\n",
    "    df[name] = df[code]\n",
    "    df[name] = df[name].fillna(2)\n",
    "    df.loc[df[name] > 1, name] = 0\n",
    "    print(df[name].value_counts(dropna=False).sort_index())"
   ]
  },
  {
   "cell_type": "code",
   "execution_count": 125,
   "id": "616187a3-4c10-456d-8814-d635611ee265",
   "metadata": {},
   "outputs": [],
   "source": [
    "variable_list = variable_list + name_list"
   ]
  },
  {
   "cell_type": "markdown",
   "id": "25278634-a859-40d6-8aa8-59ccf0052bcd",
   "metadata": {},
   "source": [
    "#### WP119, WP129, WP130, WP9050 -> Religion_importance, Children_respected, Children_learn, Women_respected"
   ]
  },
  {
   "cell_type": "markdown",
   "id": "9261b6d0-6bc4-457b-8b10-59557dfe4498",
   "metadata": {},
   "source": [
    "Drop nan 3 4 to 2"
   ]
  },
  {
   "cell_type": "code",
   "execution_count": 126,
   "id": "26cb1499-a051-48e1-ada2-410c9c848367",
   "metadata": {},
   "outputs": [],
   "source": [
    "name_list = ['Religion_importance', 'Children_respected', 'Children_learn', 'Women_respected']"
   ]
  },
  {
   "cell_type": "code",
   "execution_count": 127,
   "id": "4fd6a567-d89f-43fb-a927-511e1583cb41",
   "metadata": {},
   "outputs": [],
   "source": [
    "code_list = ['WP119', 'WP129', 'WP130', 'WP9050']"
   ]
  },
  {
   "cell_type": "code",
   "execution_count": 128,
   "id": "ef5888d7-868c-45de-b40c-ffa0c4e89876",
   "metadata": {},
   "outputs": [
    {
     "name": "stdout",
     "output_type": "stream",
     "text": [
      "WP119\n",
      "1.0    540788\n",
      "2.0    244826\n",
      "3.0      7043\n",
      "4.0      1554\n",
      "NaN     55689\n",
      "Name: count, dtype: int64\n",
      "Religion_importance\n",
      "0.0    309112\n",
      "1.0    540788\n",
      "Name: count, dtype: int64\n",
      "WP129\n",
      "1.0    563979\n",
      "2.0    245775\n",
      "3.0     31586\n",
      "4.0      1424\n",
      "NaN      7136\n",
      "Name: count, dtype: int64\n",
      "Children_respected\n",
      "0.0    285921\n",
      "1.0    563979\n",
      "Name: count, dtype: int64\n",
      "WP130\n",
      "1.0    588191\n",
      "2.0    232554\n",
      "3.0     21225\n",
      "4.0       794\n",
      "NaN      7136\n",
      "Name: count, dtype: int64\n",
      "Children_learn\n",
      "0.0    261709\n",
      "1.0    588191\n",
      "Name: count, dtype: int64\n",
      "WP9050\n",
      "1.0    548693\n",
      "2.0    272114\n",
      "3.0     26564\n",
      "4.0      1514\n",
      "NaN      1015\n",
      "Name: count, dtype: int64\n",
      "Women_respected\n",
      "0.0    301207\n",
      "1.0    548693\n",
      "Name: count, dtype: int64\n"
     ]
    }
   ],
   "source": [
    "for code, name in zip(code_list, name_list):\n",
    "    print(df[code].value_counts(dropna=False).sort_index())\n",
    "    df[name] = df[code]\n",
    "    df[name] = df[name].fillna(2)\n",
    "    df.loc[df[name] > 1, name] = 0\n",
    "    print(df[name].value_counts(dropna=False).sort_index())"
   ]
  },
  {
   "cell_type": "code",
   "execution_count": 129,
   "id": "adbf9fd1-eebc-4c95-a676-2d488396db3f",
   "metadata": {},
   "outputs": [],
   "source": [
    "variable_list = variable_list + name_list"
   ]
  },
  {
   "cell_type": "markdown",
   "id": "e8dd840a-bbe5-4b6a-ae18-13b08142fe74",
   "metadata": {},
   "source": [
    "#### WP131, WP132, WP134 -> Satisfied_dealpoor, Satisfied_Env_preservation, Satisfied_Personalfreedom"
   ]
  },
  {
   "cell_type": "markdown",
   "id": "590e9196-fc93-472a-87e7-c0625ae7e7b1",
   "metadata": {},
   "source": [
    "Drop nan 3 4 to 2"
   ]
  },
  {
   "cell_type": "code",
   "execution_count": 130,
   "id": "26a83eb7-e87c-470b-8e62-02693d5a77ed",
   "metadata": {},
   "outputs": [],
   "source": [
    "name_list = ['Satisfied_dealpoor', 'Satisfied_Env_preservation', 'Satisfied_Personalfreedom']"
   ]
  },
  {
   "cell_type": "code",
   "execution_count": 131,
   "id": "51b288c1-6f3a-47e9-8581-4ad9eaab21d4",
   "metadata": {},
   "outputs": [],
   "source": [
    "code_list = ['WP131', 'WP132', 'WP134']"
   ]
  },
  {
   "cell_type": "code",
   "execution_count": 132,
   "id": "b480d4e7-81c8-4eed-9455-6d8719c3040c",
   "metadata": {},
   "outputs": [
    {
     "name": "stdout",
     "output_type": "stream",
     "text": [
      "WP131\n",
      "1.0    367801\n",
      "2.0    442565\n",
      "3.0     33035\n",
      "4.0      1491\n",
      "NaN      5008\n",
      "Name: count, dtype: int64\n",
      "Satisfied_dealpoor\n",
      "0.0    482099\n",
      "1.0    367801\n",
      "Name: count, dtype: int64\n",
      "WP132\n",
      "1.0    437926\n",
      "2.0    374591\n",
      "3.0     29210\n",
      "4.0      1037\n",
      "NaN      7136\n",
      "Name: count, dtype: int64\n",
      "Satisfied_Env_preservation\n",
      "0.0    411974\n",
      "1.0    437926\n",
      "Name: count, dtype: int64\n",
      "WP134\n",
      "1.0    659787\n",
      "2.0    166391\n",
      "3.0     13581\n",
      "4.0      1080\n",
      "NaN      9061\n",
      "Name: count, dtype: int64\n",
      "Satisfied_Personalfreedom\n",
      "0.0    190113\n",
      "1.0    659787\n",
      "Name: count, dtype: int64\n"
     ]
    }
   ],
   "source": [
    "for code, name in zip(code_list, name_list):\n",
    "    print(df[code].value_counts(dropna=False).sort_index())\n",
    "    df[name] = df[code]\n",
    "    df[name] = df[name].fillna(2)\n",
    "    df.loc[df[name] > 1, name] = 0\n",
    "    print(df[name].value_counts(dropna=False).sort_index())"
   ]
  },
  {
   "cell_type": "code",
   "execution_count": 133,
   "id": "8fd364b4-a560-4244-8e44-7c057f663b41",
   "metadata": {},
   "outputs": [],
   "source": [
    "variable_list = variable_list + name_list"
   ]
  },
  {
   "cell_type": "markdown",
   "id": "649fccfa-8ff1-4af4-88c2-2dd8ae623825",
   "metadata": {},
   "source": [
    "#### WP137, WP138, WP139, WP141, WP144 -> Confidence_military, Confidence_judicial, Confidence_gov, Confidence_fin, Confidence_honestyelections"
   ]
  },
  {
   "cell_type": "markdown",
   "id": "0080cc12-07c8-4a44-9470-721beaeaf81a",
   "metadata": {},
   "source": [
    "Drop nan 3 4 to 2"
   ]
  },
  {
   "cell_type": "code",
   "execution_count": 134,
   "id": "44a5e899-4a8a-465d-8529-8156a9a9ea70",
   "metadata": {},
   "outputs": [],
   "source": [
    "name_list = ['Confidence_military', 'Confidence_judicial', 'Confidence_gov', 'Confidence_fin', 'Confidence_honestyelections']"
   ]
  },
  {
   "cell_type": "code",
   "execution_count": 135,
   "id": "eae0da84-4b4e-417d-a12b-b137d6ee121e",
   "metadata": {},
   "outputs": [],
   "source": [
    "code_list = ['WP137', 'WP138', 'WP139', 'WP141', 'WP144']"
   ]
  },
  {
   "cell_type": "code",
   "execution_count": 136,
   "id": "d59f8276-c1e6-4836-8d70-0dd0b6ffea09",
   "metadata": {},
   "outputs": [
    {
     "name": "stdout",
     "output_type": "stream",
     "text": [
      "WP137\n",
      "1.0    521824\n",
      "2.0    176345\n",
      "3.0     32216\n",
      "4.0      2224\n",
      "NaN    117291\n",
      "Name: count, dtype: int64\n",
      "Confidence_military\n",
      "0.0    328076\n",
      "1.0    521824\n",
      "Name: count, dtype: int64\n",
      "WP138\n",
      "1.0    381330\n",
      "2.0    326725\n",
      "3.0     48491\n",
      "4.0      2632\n",
      "NaN     90722\n",
      "Name: count, dtype: int64\n",
      "Confidence_judicial\n",
      "0.0    468570\n",
      "1.0    381330\n",
      "Name: count, dtype: int64\n",
      "WP139\n",
      "1.0    374817\n",
      "2.0    336268\n",
      "3.0     32288\n",
      "4.0      4735\n",
      "NaN    101792\n",
      "Name: count, dtype: int64\n",
      "Confidence_gov\n",
      "0.0    475083\n",
      "1.0    374817\n",
      "Name: count, dtype: int64\n",
      "WP141\n",
      "1.0    476107\n",
      "2.0    283014\n",
      "3.0     44748\n",
      "4.0      2026\n",
      "NaN     44005\n",
      "Name: count, dtype: int64\n",
      "Confidence_fin\n",
      "0.0    373793\n",
      "1.0    476107\n",
      "Name: count, dtype: int64\n",
      "WP144\n",
      "1.0    364041\n",
      "2.0    329524\n",
      "3.0     41264\n",
      "4.0      4125\n",
      "NaN    110946\n",
      "Name: count, dtype: int64\n",
      "Confidence_honestyelections\n",
      "0.0    485859\n",
      "1.0    364041\n",
      "Name: count, dtype: int64\n"
     ]
    }
   ],
   "source": [
    "for code, name in zip(code_list, name_list):\n",
    "    print(df[code].value_counts(dropna=False).sort_index())\n",
    "    df[name] = df[code]\n",
    "    df[name] = df[name].fillna(2)\n",
    "    df.loc[df[name] > 1, name] = 0\n",
    "    print(df[name].value_counts(dropna=False).sort_index())"
   ]
  },
  {
   "cell_type": "code",
   "execution_count": 137,
   "id": "dc8ae278-6bf3-4b4b-8087-65cef94a065f",
   "metadata": {},
   "outputs": [],
   "source": [
    "variable_list = variable_list + name_list"
   ]
  },
  {
   "cell_type": "markdown",
   "id": "1095c15c-9cb7-47a3-8cd2-82e148141549",
   "metadata": {},
   "source": [
    "#### WP10251, WP145, WP146, WP150 -> Freedom_media, Corruption_business, Corruption_government, Performance_leadership"
   ]
  },
  {
   "cell_type": "markdown",
   "id": "0925a995-2d10-4a89-a685-7a855f758845",
   "metadata": {},
   "source": [
    "Drop nan 3 4 to 2"
   ]
  },
  {
   "cell_type": "code",
   "execution_count": 138,
   "id": "7ffd0c77-dc4b-4217-a075-dd0432c70dfe",
   "metadata": {},
   "outputs": [],
   "source": [
    "name_list = ['Freedom_media', 'Corruption_business', 'Corruption_government', 'Performance_leadership']"
   ]
  },
  {
   "cell_type": "code",
   "execution_count": 139,
   "id": "4cec4b2f-5685-4ca4-b565-e1fe22b81e74",
   "metadata": {},
   "outputs": [],
   "source": [
    "code_list = ['WP10251', 'WP145', 'WP146', 'WP150']"
   ]
  },
  {
   "cell_type": "code",
   "execution_count": 140,
   "id": "c231c08b-6922-44cc-ac1a-e245bd15affd",
   "metadata": {},
   "outputs": [
    {
     "name": "stdout",
     "output_type": "stream",
     "text": [
      "WP10251\n",
      "1.0    488101\n",
      "2.0    235058\n",
      "3.0     51829\n",
      "4.0      1813\n",
      "NaN     73099\n",
      "Name: count, dtype: int64\n",
      "Freedom_media\n",
      "0.0    361799\n",
      "1.0    488101\n",
      "Name: count, dtype: int64\n",
      "WP145\n",
      "1.0    522280\n",
      "2.0    187736\n",
      "3.0     79574\n",
      "4.0      3206\n",
      "NaN     57104\n",
      "Name: count, dtype: int64\n",
      "Corruption_business\n",
      "0.0    327620\n",
      "1.0    522280\n",
      "Name: count, dtype: int64\n",
      "WP146\n",
      "1.0    478896\n",
      "2.0    183409\n",
      "3.0     73043\n",
      "4.0      4748\n",
      "NaN    109804\n",
      "Name: count, dtype: int64\n",
      "Corruption_government\n",
      "0.0    371004\n",
      "1.0    478896\n",
      "Name: count, dtype: int64\n",
      "WP150\n",
      "1.0    353320\n",
      "2.0    339934\n",
      "3.0     43459\n",
      "4.0      7393\n",
      "NaN    105794\n",
      "Name: count, dtype: int64\n",
      "Performance_leadership\n",
      "0.0    496580\n",
      "1.0    353320\n",
      "Name: count, dtype: int64\n"
     ]
    }
   ],
   "source": [
    "for code, name in zip(code_list, name_list):\n",
    "    print(df[code].value_counts(dropna=False).sort_index())\n",
    "    df[name] = df[code]\n",
    "    df[name] = df[name].fillna(2)\n",
    "    df.loc[df[name] > 1, name] = 0\n",
    "    print(df[name].value_counts(dropna=False).sort_index())"
   ]
  },
  {
   "cell_type": "code",
   "execution_count": 141,
   "id": "730725e8-df42-4739-9596-5651563e5ef7",
   "metadata": {},
   "outputs": [],
   "source": [
    "variable_list = variable_list + name_list"
   ]
  },
  {
   "cell_type": "markdown",
   "id": "cde5b9b4-92de-4504-ae4c-46dba4468368",
   "metadata": {},
   "source": [
    "####  WP1219 Gender_female"
   ]
  },
  {
   "cell_type": "markdown",
   "id": "7bc72d7c-ef9f-42bd-933a-593b7df48ae5",
   "metadata": {},
   "source": [
    "Use 0&1 instead of 1&2"
   ]
  },
  {
   "cell_type": "code",
   "execution_count": 142,
   "id": "a868c257-46ae-4e65-929a-bc1fcb108b2f",
   "metadata": {},
   "outputs": [],
   "source": [
    "code = 'WP1219'\n",
    "name = 'Gender_female'"
   ]
  },
  {
   "cell_type": "code",
   "execution_count": 143,
   "id": "7cec2c66-f573-4edd-ab27-d0ca34436dbd",
   "metadata": {},
   "outputs": [],
   "source": [
    "df[name] = df[code]"
   ]
  },
  {
   "cell_type": "code",
   "execution_count": 144,
   "id": "f53d0ada-d7c7-4ea4-b7b1-16c67b26bd4b",
   "metadata": {},
   "outputs": [
    {
     "name": "stdout",
     "output_type": "stream",
     "text": [
      "WP1219\n",
      "1.0    402384\n",
      "2.0    447516\n",
      "Name: count, dtype: int64\n"
     ]
    }
   ],
   "source": [
    "print(df[code].value_counts(dropna=False).sort_index())"
   ]
  },
  {
   "cell_type": "code",
   "execution_count": 145,
   "id": "587d53b5-6a15-40d9-bd6a-562dda94b832",
   "metadata": {},
   "outputs": [],
   "source": [
    "df[name] = df[name] - 1"
   ]
  },
  {
   "cell_type": "code",
   "execution_count": 146,
   "id": "3fe8bb5d-4c4e-4a5a-9e93-23ed6e39e40c",
   "metadata": {},
   "outputs": [
    {
     "name": "stdout",
     "output_type": "stream",
     "text": [
      "Gender_female\n",
      "0.0    402384\n",
      "1.0    447516\n",
      "Name: count, dtype: int64\n"
     ]
    }
   ],
   "source": [
    "print(df[name].value_counts(dropna=False).sort_index())"
   ]
  },
  {
   "cell_type": "code",
   "execution_count": 147,
   "id": "f0614416-11ab-4f82-929d-245020e82159",
   "metadata": {},
   "outputs": [],
   "source": [
    "variable_list.append(name)"
   ]
  },
  {
   "cell_type": "markdown",
   "id": "1e794f01-c028-4d8e-afd6-85abcf57cebd",
   "metadata": {},
   "source": [
    "#### WP1220  Age"
   ]
  },
  {
   "cell_type": "markdown",
   "id": "9a676a0c-7e69-458f-a5df-aab9d4b7e290",
   "metadata": {},
   "source": [
    "drop 100 to nan"
   ]
  },
  {
   "cell_type": "code",
   "execution_count": 148,
   "id": "f346bb79-f294-46b1-b1e8-da2c3d0060b8",
   "metadata": {},
   "outputs": [],
   "source": [
    "code = 'WP1220'\n",
    "name = 'Age'"
   ]
  },
  {
   "cell_type": "code",
   "execution_count": 149,
   "id": "3b8ae12f-c5c0-401f-ab15-8ab32bcc70fb",
   "metadata": {},
   "outputs": [],
   "source": [
    "df[name] = df[code]"
   ]
  },
  {
   "cell_type": "code",
   "execution_count": 150,
   "id": "76e94abc-b46e-4c9e-9517-9081551201a0",
   "metadata": {
    "scrolled": true
   },
   "outputs": [
    {
     "name": "stdout",
     "output_type": "stream",
     "text": [
      "WP1220\n",
      "15.0     10236\n",
      "16.0     11918\n",
      "17.0     13102\n",
      "17.5         1\n",
      "18.0     19292\n",
      "         ...  \n",
      "97.0        40\n",
      "98.0        48\n",
      "99.0       293\n",
      "100.0     2641\n",
      "NaN          6\n",
      "Name: count, Length: 88, dtype: int64\n"
     ]
    }
   ],
   "source": [
    "print(df[code].value_counts(dropna=False).sort_index())"
   ]
  },
  {
   "cell_type": "code",
   "execution_count": 151,
   "id": "0d55f441-4bae-4363-8a17-7d03b89d73b9",
   "metadata": {},
   "outputs": [],
   "source": [
    "df[name] = df[name].fillna(100)"
   ]
  },
  {
   "cell_type": "code",
   "execution_count": 152,
   "id": "cfbaad1d-acdc-46f0-9422-3ad62ae98a04",
   "metadata": {},
   "outputs": [
    {
     "data": {
      "text/plain": [
       "(849900, 150)"
      ]
     },
     "execution_count": 152,
     "metadata": {},
     "output_type": "execute_result"
    }
   ],
   "source": [
    "df.shape"
   ]
  },
  {
   "cell_type": "code",
   "execution_count": 153,
   "id": "b342d0f2-8c52-4501-aa4d-1dae0af2f57c",
   "metadata": {},
   "outputs": [],
   "source": [
    "df = df[df[name] < 100]"
   ]
  },
  {
   "cell_type": "code",
   "execution_count": 154,
   "id": "b57114e4-e738-41f0-b1b4-07010e9f1e35",
   "metadata": {},
   "outputs": [
    {
     "data": {
      "text/plain": [
       "(847253, 150)"
      ]
     },
     "execution_count": 154,
     "metadata": {},
     "output_type": "execute_result"
    }
   ],
   "source": [
    "df.shape"
   ]
  },
  {
   "cell_type": "code",
   "execution_count": 155,
   "id": "75d72149-8dbc-4e6f-adc3-a41411b75af1",
   "metadata": {},
   "outputs": [
    {
     "name": "stdout",
     "output_type": "stream",
     "text": [
      "Age\n",
      "15.0    10236\n",
      "16.0    11918\n",
      "17.0    13102\n",
      "17.5        1\n",
      "18.0    19292\n",
      "        ...  \n",
      "95.0       78\n",
      "96.0       45\n",
      "97.0       40\n",
      "98.0       48\n",
      "99.0      293\n",
      "Name: count, Length: 86, dtype: int64\n"
     ]
    }
   ],
   "source": [
    "print(df[name].value_counts(dropna=False).sort_index())"
   ]
  },
  {
   "cell_type": "code",
   "execution_count": 156,
   "id": "ffabe453-0e13-4546-97be-812debe5ea7e",
   "metadata": {},
   "outputs": [],
   "source": [
    "variable_list.append(name)"
   ]
  },
  {
   "cell_type": "markdown",
   "id": "a0450568-97cf-4b11-b9e9-852905bc7d36",
   "metadata": {},
   "source": [
    "#### WP3117 Education"
   ]
  },
  {
   "cell_type": "code",
   "execution_count": 157,
   "id": "c0c58d55-0304-4efa-9594-98b5563149b6",
   "metadata": {},
   "outputs": [],
   "source": [
    "code = 'WP3117'\n",
    "name = 'Education'"
   ]
  },
  {
   "cell_type": "code",
   "execution_count": 158,
   "id": "f87a9c41-308f-4da0-97be-c231aa648cbd",
   "metadata": {},
   "outputs": [],
   "source": [
    "df[name] = df[code]"
   ]
  },
  {
   "cell_type": "code",
   "execution_count": 159,
   "id": "1282300f-fce4-4f0e-84cf-909397efb272",
   "metadata": {},
   "outputs": [
    {
     "name": "stdout",
     "output_type": "stream",
     "text": [
      "WP3117\n",
      "1.0    229203\n",
      "2.0    437203\n",
      "3.0    176965\n",
      "4.0      2089\n",
      "5.0      1783\n",
      "NaN        10\n",
      "Name: count, dtype: int64\n"
     ]
    }
   ],
   "source": [
    "print(df[code].value_counts(dropna=False).sort_index())"
   ]
  },
  {
   "cell_type": "code",
   "execution_count": 160,
   "id": "be284edd-3e1f-4597-ad8b-c01c478e3500",
   "metadata": {},
   "outputs": [],
   "source": [
    "df[name] = df[name].fillna(2)  "
   ]
  },
  {
   "cell_type": "code",
   "execution_count": 161,
   "id": "b226681d-c014-4599-b24f-88db5cec0eea",
   "metadata": {},
   "outputs": [],
   "source": [
    "df.loc[df[name] > 3, name] = 2"
   ]
  },
  {
   "cell_type": "code",
   "execution_count": 162,
   "id": "42d07f82-74f1-4c6a-916b-863af9bb458e",
   "metadata": {},
   "outputs": [
    {
     "name": "stdout",
     "output_type": "stream",
     "text": [
      "Education\n",
      "1.0    229203\n",
      "2.0    441085\n",
      "3.0    176965\n",
      "Name: count, dtype: int64\n"
     ]
    }
   ],
   "source": [
    "print(df[name].value_counts(dropna=False).sort_index())"
   ]
  },
  {
   "cell_type": "code",
   "execution_count": 163,
   "id": "b9909606-8be6-4981-8ac1-e6aa1204cfcc",
   "metadata": {},
   "outputs": [],
   "source": [
    "df[name] = (df[name] - 2)"
   ]
  },
  {
   "cell_type": "code",
   "execution_count": 164,
   "id": "dca17c06-9a77-4641-8ae4-567c8384e104",
   "metadata": {},
   "outputs": [
    {
     "name": "stdout",
     "output_type": "stream",
     "text": [
      "Education\n",
      "-1.0    229203\n",
      " 0.0    441085\n",
      " 1.0    176965\n",
      "Name: count, dtype: int64\n"
     ]
    }
   ],
   "source": [
    "print(df[name].value_counts(dropna=False).sort_index())"
   ]
  },
  {
   "cell_type": "code",
   "execution_count": 165,
   "id": "29a10fe9-6b4d-4ea5-b718-e17c7c9fb80d",
   "metadata": {},
   "outputs": [],
   "source": [
    "variable_list.append(name)"
   ]
  },
  {
   "cell_type": "markdown",
   "id": "15ecbe4a-5d72-49df-aa5a-99dc496c0f1d",
   "metadata": {},
   "source": [
    "#### WP1223  Marital_status"
   ]
  },
  {
   "cell_type": "markdown",
   "id": "1dabb1f2-e0ba-48af-a879-77a6836024f3",
   "metadata": {},
   "source": [
    "drop 6 7 to nan"
   ]
  },
  {
   "cell_type": "code",
   "execution_count": 166,
   "id": "d83e8017-0e14-4a7b-b5a2-39c44a4d39e8",
   "metadata": {},
   "outputs": [],
   "source": [
    "code = 'WP1223'\n",
    "name = 'Marital_status'"
   ]
  },
  {
   "cell_type": "code",
   "execution_count": 167,
   "id": "6e560cac-1abe-4564-8472-e45a37384c5a",
   "metadata": {},
   "outputs": [],
   "source": [
    "df[name] = df[code]"
   ]
  },
  {
   "cell_type": "code",
   "execution_count": 168,
   "id": "a179585f-b44a-4107-9b71-1f559a8ef92b",
   "metadata": {},
   "outputs": [
    {
     "name": "stdout",
     "output_type": "stream",
     "text": [
      "WP1223\n",
      "1.0    260846\n",
      "2.0    416088\n",
      "3.0     20251\n",
      "4.0     35609\n",
      "5.0     57615\n",
      "6.0      1112\n",
      "7.0      1151\n",
      "8.0     51136\n",
      "NaN      3445\n",
      "Name: count, dtype: int64\n"
     ]
    }
   ],
   "source": [
    "print(df[code].value_counts(dropna=False).sort_index())"
   ]
  },
  {
   "cell_type": "code",
   "execution_count": 169,
   "id": "f2dc1ddd-57ee-419d-96d9-5d0a3f9b1c65",
   "metadata": {},
   "outputs": [],
   "source": [
    "df[name] = df[name].fillna(6)"
   ]
  },
  {
   "cell_type": "code",
   "execution_count": 170,
   "id": "b7f9bd8e-d3d5-46b5-97ab-0554d6d2551d",
   "metadata": {},
   "outputs": [],
   "source": [
    "df = df[df[name] != 6]\n",
    "df = df[df[name] != 7]"
   ]
  },
  {
   "cell_type": "code",
   "execution_count": 171,
   "id": "16b0ca0a-9b9b-4daa-965a-d4553cfd48d9",
   "metadata": {},
   "outputs": [
    {
     "name": "stdout",
     "output_type": "stream",
     "text": [
      "Marital_status\n",
      "1.0    260846\n",
      "2.0    416088\n",
      "3.0     20251\n",
      "4.0     35609\n",
      "5.0     57615\n",
      "8.0     51136\n",
      "Name: count, dtype: int64\n"
     ]
    }
   ],
   "source": [
    "print(df[name].value_counts(dropna=False).sort_index())"
   ]
  },
  {
   "cell_type": "code",
   "execution_count": 172,
   "id": "cf79addd-31af-4bf6-bbc1-4e5fd12f148c",
   "metadata": {},
   "outputs": [],
   "source": [
    "variable_list.append(name)"
   ]
  },
  {
   "cell_type": "markdown",
   "id": "802b9529-6373-4e69-9d3c-5a5a8391ec40",
   "metadata": {},
   "source": [
    "#### EMP_2010 Employment"
   ]
  },
  {
   "cell_type": "code",
   "execution_count": 173,
   "id": "7d8d5add-ffaf-48f7-b187-55a7908a8465",
   "metadata": {},
   "outputs": [],
   "source": [
    "code = 'EMP_2010'\n",
    "name = 'Employment'"
   ]
  },
  {
   "cell_type": "code",
   "execution_count": 174,
   "id": "3c187968-3ef5-41fa-a8ee-a28cf5a6a1e2",
   "metadata": {},
   "outputs": [],
   "source": [
    "df[name] = df[code]"
   ]
  },
  {
   "cell_type": "code",
   "execution_count": 175,
   "id": "20a702bd-e99e-4ab5-8ac3-b4dd1403a3c9",
   "metadata": {},
   "outputs": [
    {
     "name": "stdout",
     "output_type": "stream",
     "text": [
      "EMP_2010\n",
      "1.0    240416\n",
      "2.0    113419\n",
      "3.0     59978\n",
      "4.0     55548\n",
      "5.0     72963\n",
      "6.0    298240\n",
      "NaN       981\n",
      "Name: count, dtype: int64\n"
     ]
    }
   ],
   "source": [
    "print(df[code].value_counts(dropna=False).sort_index())"
   ]
  },
  {
   "cell_type": "code",
   "execution_count": 176,
   "id": "4e983c2b-aafa-4911-9c8b-ce65aa72f2f4",
   "metadata": {},
   "outputs": [],
   "source": [
    "df[name] = df[name].fillna(10)"
   ]
  },
  {
   "cell_type": "code",
   "execution_count": 177,
   "id": "dbda5721-2ae2-492a-a454-013ec95012e7",
   "metadata": {},
   "outputs": [
    {
     "data": {
      "text/plain": [
       "(841545, 153)"
      ]
     },
     "execution_count": 177,
     "metadata": {},
     "output_type": "execute_result"
    }
   ],
   "source": [
    "df.shape"
   ]
  },
  {
   "cell_type": "code",
   "execution_count": 178,
   "id": "406af7a4-9819-4b08-8954-8022e8a8eb53",
   "metadata": {},
   "outputs": [],
   "source": [
    "df = df[df[name] != 10]"
   ]
  },
  {
   "cell_type": "code",
   "execution_count": 179,
   "id": "0050fd57-603a-48f7-8b20-ebf8a07b54ad",
   "metadata": {},
   "outputs": [
    {
     "data": {
      "text/plain": [
       "(840564, 153)"
      ]
     },
     "execution_count": 179,
     "metadata": {},
     "output_type": "execute_result"
    }
   ],
   "source": [
    "df.shape"
   ]
  },
  {
   "cell_type": "code",
   "execution_count": 180,
   "id": "41b89473-0e69-4722-adaa-5e9d6d90c1ec",
   "metadata": {},
   "outputs": [
    {
     "name": "stdout",
     "output_type": "stream",
     "text": [
      "Employment\n",
      "1.0    240416\n",
      "2.0    113419\n",
      "3.0     59978\n",
      "4.0     55548\n",
      "5.0     72963\n",
      "6.0    298240\n",
      "Name: count, dtype: int64\n"
     ]
    }
   ],
   "source": [
    "print(df[name].value_counts(dropna=False).sort_index())"
   ]
  },
  {
   "cell_type": "code",
   "execution_count": 181,
   "id": "1b20f36b-92dd-4b05-97e1-420deb334dba",
   "metadata": {},
   "outputs": [],
   "source": [
    "variable_list.append(name)"
   ]
  },
  {
   "cell_type": "markdown",
   "id": "d9a261e6-fbda-408c-8940-dd2ee1820f37",
   "metadata": {},
   "source": [
    "#### WP1230 Children_under15"
   ]
  },
  {
   "cell_type": "markdown",
   "id": "e9cacbcc-cb2a-4913-90e7-a5897d5a2095",
   "metadata": {},
   "source": [
    "If it is greater than 10, then it is equal to 1"
   ]
  },
  {
   "cell_type": "code",
   "execution_count": 182,
   "id": "b43dee1f-24b6-4f19-b81d-8c776b30e09a",
   "metadata": {},
   "outputs": [],
   "source": [
    "code = 'WP1230'\n",
    "name = 'Children_under15'"
   ]
  },
  {
   "cell_type": "code",
   "execution_count": 183,
   "id": "6354c666-a1f2-418a-8a30-51834c118deb",
   "metadata": {},
   "outputs": [],
   "source": [
    "df[name] = df[code]"
   ]
  },
  {
   "cell_type": "code",
   "execution_count": 184,
   "id": "9625f1fb-8ba7-4197-b000-ead7a1fe4539",
   "metadata": {},
   "outputs": [
    {
     "name": "stdout",
     "output_type": "stream",
     "text": [
      "WP1230\n",
      "0.0     405473\n",
      "1.0     150376\n",
      "2.0     135278\n",
      "3.0      69198\n",
      "4.0      34217\n",
      "5.0      18161\n",
      "6.0       9326\n",
      "7.0       4917\n",
      "8.0       3272\n",
      "9.0       1499\n",
      "10.0      1925\n",
      "11.0       535\n",
      "12.0       724\n",
      "13.0       316\n",
      "14.0       241\n",
      "15.0       528\n",
      "16.0       138\n",
      "17.0        92\n",
      "18.0        75\n",
      "19.0        35\n",
      "20.0       231\n",
      "21.0        29\n",
      "22.0        24\n",
      "23.0        12\n",
      "24.0        13\n",
      "25.0        54\n",
      "26.0         6\n",
      "27.0         8\n",
      "28.0         5\n",
      "29.0         1\n",
      "30.0        34\n",
      "31.0         2\n",
      "32.0         3\n",
      "33.0         2\n",
      "34.0         2\n",
      "35.0         6\n",
      "36.0         2\n",
      "38.0         2\n",
      "40.0         1\n",
      "42.0         1\n",
      "44.0         1\n",
      "50.0         1\n",
      "55.0         1\n",
      "98.0       828\n",
      "99.0      1055\n",
      "NaN       1914\n",
      "Name: count, dtype: int64\n"
     ]
    }
   ],
   "source": [
    "print(df[code].value_counts(dropna=False).sort_index())"
   ]
  },
  {
   "cell_type": "code",
   "execution_count": 185,
   "id": "c4873552-7f5a-4df3-99c3-4e4b3858af83",
   "metadata": {},
   "outputs": [],
   "source": [
    "df[name] = df[name].fillna(100)"
   ]
  },
  {
   "cell_type": "code",
   "execution_count": 186,
   "id": "6efc1b68-7ad4-44ba-bee5-3924e4579b83",
   "metadata": {},
   "outputs": [
    {
     "name": "stdout",
     "output_type": "stream",
     "text": [
      "Children_under15\n",
      "0.0      405473\n",
      "1.0      150376\n",
      "2.0      135278\n",
      "3.0       69198\n",
      "4.0       34217\n",
      "5.0       18161\n",
      "6.0        9326\n",
      "7.0        4917\n",
      "8.0        3272\n",
      "9.0        1499\n",
      "10.0       1925\n",
      "11.0        535\n",
      "12.0        724\n",
      "13.0        316\n",
      "14.0        241\n",
      "15.0        528\n",
      "16.0        138\n",
      "17.0         92\n",
      "18.0         75\n",
      "19.0         35\n",
      "20.0        231\n",
      "21.0         29\n",
      "22.0         24\n",
      "23.0         12\n",
      "24.0         13\n",
      "25.0         54\n",
      "26.0          6\n",
      "27.0          8\n",
      "28.0          5\n",
      "29.0          1\n",
      "30.0         34\n",
      "31.0          2\n",
      "32.0          3\n",
      "33.0          2\n",
      "34.0          2\n",
      "35.0          6\n",
      "36.0          2\n",
      "38.0          2\n",
      "40.0          1\n",
      "42.0          1\n",
      "44.0          1\n",
      "50.0          1\n",
      "55.0          1\n",
      "98.0        828\n",
      "99.0       1055\n",
      "100.0      1914\n",
      "Name: count, dtype: int64\n"
     ]
    }
   ],
   "source": [
    "print(df[name].value_counts(dropna=False).sort_index())"
   ]
  },
  {
   "cell_type": "code",
   "execution_count": 187,
   "id": "0c3b79bd-ab93-4927-b081-b5f5975682bf",
   "metadata": {},
   "outputs": [],
   "source": [
    "df.loc[df[name] > 0, name] = 1"
   ]
  },
  {
   "cell_type": "code",
   "execution_count": 188,
   "id": "ff0219ef-fa5a-4c7c-9e73-70ca31f814ba",
   "metadata": {},
   "outputs": [
    {
     "name": "stdout",
     "output_type": "stream",
     "text": [
      "Children_under15\n",
      "0.0    405473\n",
      "1.0    435091\n",
      "Name: count, dtype: int64\n"
     ]
    }
   ],
   "source": [
    "print(df[name].value_counts(dropna=False).sort_index())"
   ]
  },
  {
   "cell_type": "code",
   "execution_count": 189,
   "id": "324d0405-b574-4c9d-b6fe-e3ce6a11d8d2",
   "metadata": {},
   "outputs": [],
   "source": [
    "variable_list.append(name)"
   ]
  },
  {
   "cell_type": "markdown",
   "id": "9223573a-da9d-49ab-8dc9-45a4cf69ceb5",
   "metadata": {},
   "source": [
    "#### WP2319 -> Feeling_income"
   ]
  },
  {
   "cell_type": "markdown",
   "id": "92f3ff64-d1d8-44de-ad1f-213ba6552f50",
   "metadata": {},
   "source": [
    "drop 5 6 to nan"
   ]
  },
  {
   "cell_type": "code",
   "execution_count": 190,
   "id": "2603de79-c967-43f0-8c2c-a5dc1eff3b7a",
   "metadata": {},
   "outputs": [],
   "source": [
    "code = 'WP2319'\n",
    "name = 'Feeling_income'"
   ]
  },
  {
   "cell_type": "code",
   "execution_count": 191,
   "id": "c175db97-8b53-4027-8f21-478d8abcd0e0",
   "metadata": {},
   "outputs": [],
   "source": [
    "df[name] = df[code]"
   ]
  },
  {
   "cell_type": "code",
   "execution_count": 192,
   "id": "c080754f-e165-4135-bc22-d8c5db3ec007",
   "metadata": {},
   "outputs": [
    {
     "name": "stdout",
     "output_type": "stream",
     "text": [
      "WP2319\n",
      "1.0    187080\n",
      "2.0    327936\n",
      "3.0    188478\n",
      "4.0    124448\n",
      "5.0      8218\n",
      "6.0      4404\n",
      "Name: count, dtype: int64\n"
     ]
    }
   ],
   "source": [
    "print(df[code].value_counts(dropna=False).sort_index())"
   ]
  },
  {
   "cell_type": "code",
   "execution_count": 193,
   "id": "e9fd1979-1f01-4156-b50e-5d9370f30668",
   "metadata": {},
   "outputs": [],
   "source": [
    "df[name] = df[name].fillna(5)"
   ]
  },
  {
   "cell_type": "code",
   "execution_count": 194,
   "id": "9977b921-c96a-4283-a9a5-aacf184d7d13",
   "metadata": {},
   "outputs": [
    {
     "data": {
      "text/plain": [
       "(840564, 155)"
      ]
     },
     "execution_count": 194,
     "metadata": {},
     "output_type": "execute_result"
    }
   ],
   "source": [
    "df.shape"
   ]
  },
  {
   "cell_type": "code",
   "execution_count": 195,
   "id": "0a1645e4-5532-4113-8c66-c0cfdd92166f",
   "metadata": {},
   "outputs": [],
   "source": [
    "df = df[df[name] < 5]"
   ]
  },
  {
   "cell_type": "code",
   "execution_count": 196,
   "id": "892256c1-63c8-42e7-a89e-80d8ec3f75d1",
   "metadata": {},
   "outputs": [
    {
     "data": {
      "text/plain": [
       "(827942, 155)"
      ]
     },
     "execution_count": 196,
     "metadata": {},
     "output_type": "execute_result"
    }
   ],
   "source": [
    "df.shape"
   ]
  },
  {
   "cell_type": "code",
   "execution_count": 197,
   "id": "5095803f-a642-484d-8e08-fd9b9c341e8d",
   "metadata": {},
   "outputs": [
    {
     "name": "stdout",
     "output_type": "stream",
     "text": [
      "Feeling_income\n",
      "1.0    187080\n",
      "2.0    327936\n",
      "3.0    188478\n",
      "4.0    124448\n",
      "Name: count, dtype: int64\n"
     ]
    }
   ],
   "source": [
    "print(df[name].value_counts(dropna=False).sort_index())"
   ]
  },
  {
   "cell_type": "code",
   "execution_count": 198,
   "id": "e790d717-1f9d-4cec-8a4f-4e9e1093ace2",
   "metadata": {},
   "outputs": [],
   "source": [
    "variable_list.append(name)"
   ]
  },
  {
   "cell_type": "markdown",
   "id": "73d6bbad-229e-4b4e-8680-82e721058115",
   "metadata": {},
   "source": [
    "#### WP4657 Born_here"
   ]
  },
  {
   "cell_type": "code",
   "execution_count": 199,
   "id": "d825a8c8-3413-4847-9d31-e3d4df02ed6b",
   "metadata": {},
   "outputs": [],
   "source": [
    "code = 'WP4657'\n",
    "name = 'Born_here'"
   ]
  },
  {
   "cell_type": "code",
   "execution_count": 200,
   "id": "b0514f19-52e0-4da8-9480-53d7389a74a5",
   "metadata": {},
   "outputs": [],
   "source": [
    "df[name] = df[code]"
   ]
  },
  {
   "cell_type": "code",
   "execution_count": 201,
   "id": "85f1c2f5-b026-4f3a-ba28-e24ac693c63d",
   "metadata": {},
   "outputs": [
    {
     "name": "stdout",
     "output_type": "stream",
     "text": [
      "WP4657\n",
      "1.0    762957\n",
      "2.0     48834\n",
      "3.0       123\n",
      "4.0       103\n",
      "NaN     15925\n",
      "Name: count, dtype: int64\n"
     ]
    }
   ],
   "source": [
    "print(df[code].value_counts(dropna=False).sort_index())"
   ]
  },
  {
   "cell_type": "code",
   "execution_count": 202,
   "id": "5a42bfec-4b4d-49f5-889b-e8a6e3f1f871",
   "metadata": {},
   "outputs": [],
   "source": [
    "df[name] = df[name].fillna(2)"
   ]
  },
  {
   "cell_type": "code",
   "execution_count": 203,
   "id": "775fc7e9-ac13-4ea5-9f09-b59f965a6054",
   "metadata": {},
   "outputs": [],
   "source": [
    "df.loc[df[name].isin([3, 4]), name] = 2"
   ]
  },
  {
   "cell_type": "code",
   "execution_count": 204,
   "id": "82a14ab2-5625-4068-b91e-594eb4e43850",
   "metadata": {},
   "outputs": [],
   "source": [
    "df[name] = np.abs(df[name]-2)"
   ]
  },
  {
   "cell_type": "code",
   "execution_count": 205,
   "id": "07379d8e-1114-4e9b-a065-03f312324d28",
   "metadata": {},
   "outputs": [
    {
     "name": "stdout",
     "output_type": "stream",
     "text": [
      "Born_here\n",
      "0.0     64985\n",
      "1.0    762957\n",
      "Name: count, dtype: int64\n"
     ]
    }
   ],
   "source": [
    "print(df[name].value_counts(dropna=False).sort_index())"
   ]
  },
  {
   "cell_type": "code",
   "execution_count": 206,
   "id": "fa87e660-596a-4fdd-82d4-6b873ac051f2",
   "metadata": {},
   "outputs": [],
   "source": [
    "variable_list.append(name)"
   ]
  },
  {
   "cell_type": "markdown",
   "id": "e75043ab-a1ce-4812-b956-9f991a8c6a4d",
   "metadata": {},
   "source": [
    "#### WP17625 Home_handline"
   ]
  },
  {
   "cell_type": "markdown",
   "id": "d0c6a0d8-59ba-43ae-8dda-3f30e421bcf1",
   "metadata": {},
   "source": [
    "drop 3 4 to nan"
   ]
  },
  {
   "cell_type": "code",
   "execution_count": 207,
   "id": "4b53baf3-d837-4723-a235-295aa4ee6d3a",
   "metadata": {},
   "outputs": [],
   "source": [
    "code = 'WP17625'\n",
    "name = 'Home_handline'"
   ]
  },
  {
   "cell_type": "code",
   "execution_count": 208,
   "id": "5eb37ce2-68aa-4210-9974-ecb64fdbc7f0",
   "metadata": {},
   "outputs": [],
   "source": [
    "df[name] = df[code]"
   ]
  },
  {
   "cell_type": "code",
   "execution_count": 209,
   "id": "b525631a-bdaa-46ce-a266-ab2fb1f8b80c",
   "metadata": {
    "scrolled": true
   },
   "outputs": [
    {
     "name": "stdout",
     "output_type": "stream",
     "text": [
      "WP17625\n",
      "1.0    233103\n",
      "2.0    572864\n",
      "3.0       692\n",
      "4.0       411\n",
      "NaN     20872\n",
      "Name: count, dtype: int64\n"
     ]
    }
   ],
   "source": [
    "print(df[code].value_counts(dropna=False).sort_index())"
   ]
  },
  {
   "cell_type": "code",
   "execution_count": 210,
   "id": "dfd91da1-4a64-40f9-8093-4b4680fdc3e7",
   "metadata": {},
   "outputs": [],
   "source": [
    "df[name] = df[name].fillna(3)"
   ]
  },
  {
   "cell_type": "code",
   "execution_count": 211,
   "id": "94dd6388-4278-44f2-8c12-b719dfd08fd1",
   "metadata": {},
   "outputs": [],
   "source": [
    "df = df[df[name] < 3]"
   ]
  },
  {
   "cell_type": "code",
   "execution_count": 212,
   "id": "6ec93fdd-d23e-48bd-a1ef-953879bae4b1",
   "metadata": {},
   "outputs": [
    {
     "name": "stdout",
     "output_type": "stream",
     "text": [
      "Home_handline\n",
      "1.0    233103\n",
      "2.0    572864\n",
      "Name: count, dtype: int64\n"
     ]
    }
   ],
   "source": [
    "print(df[name].value_counts(dropna=False).sort_index())"
   ]
  },
  {
   "cell_type": "code",
   "execution_count": 213,
   "id": "841cab21-c0d8-4f8e-82ba-cc739e9062d6",
   "metadata": {},
   "outputs": [],
   "source": [
    "df[name] = np.abs(df[name]-2)"
   ]
  },
  {
   "cell_type": "code",
   "execution_count": 214,
   "id": "4158dd15-538c-4d96-bbd5-86d43fea060e",
   "metadata": {},
   "outputs": [
    {
     "name": "stdout",
     "output_type": "stream",
     "text": [
      "Home_handline\n",
      "0.0    572864\n",
      "1.0    233103\n",
      "Name: count, dtype: int64\n"
     ]
    }
   ],
   "source": [
    "print(df[name].value_counts(dropna=False).sort_index())"
   ]
  },
  {
   "cell_type": "code",
   "execution_count": 215,
   "id": "1f6c2b41-450e-45c3-bd63-a337e003a941",
   "metadata": {},
   "outputs": [],
   "source": [
    "variable_list.append(name)"
   ]
  },
  {
   "cell_type": "markdown",
   "id": "10e313cf-9992-4351-a5b3-8dbbf4851ccb",
   "metadata": {},
   "source": [
    "#### WP17626 Mobile_phone"
   ]
  },
  {
   "cell_type": "markdown",
   "id": "0dca0cab-fa27-4f71-bf94-32d48509ccac",
   "metadata": {},
   "source": [
    "drop 3 4 to nan"
   ]
  },
  {
   "cell_type": "code",
   "execution_count": 216,
   "id": "a4e70c9e-fb7a-4c25-a56e-b51fd3a92f6f",
   "metadata": {},
   "outputs": [],
   "source": [
    "code = 'WP17626'\n",
    "name = 'Mobile_phone'"
   ]
  },
  {
   "cell_type": "code",
   "execution_count": 217,
   "id": "0820b7b8-b2b9-48fb-948f-29ae738b2613",
   "metadata": {},
   "outputs": [],
   "source": [
    "df[name] = df[code]"
   ]
  },
  {
   "cell_type": "code",
   "execution_count": 218,
   "id": "af0859de-9f6c-4539-8046-324acce282ea",
   "metadata": {},
   "outputs": [
    {
     "name": "stdout",
     "output_type": "stream",
     "text": [
      "WP17626\n",
      "1.0    707407\n",
      "2.0     98027\n",
      "3.0       210\n",
      "4.0       322\n",
      "NaN         1\n",
      "Name: count, dtype: int64\n"
     ]
    }
   ],
   "source": [
    "print(df[code].value_counts(dropna=False).sort_index())"
   ]
  },
  {
   "cell_type": "code",
   "execution_count": 219,
   "id": "a77594af-1fa4-4b0b-b9e7-85acd7968c0e",
   "metadata": {},
   "outputs": [],
   "source": [
    "df[name] = df[name].fillna(3)"
   ]
  },
  {
   "cell_type": "code",
   "execution_count": 220,
   "id": "49ee4296-bfb9-491d-b214-92fc96a15e64",
   "metadata": {},
   "outputs": [],
   "source": [
    "df = df[df[name] < 3]"
   ]
  },
  {
   "cell_type": "code",
   "execution_count": 221,
   "id": "48c3ba05-0f59-4ad5-a9cd-6d8873da5d72",
   "metadata": {},
   "outputs": [],
   "source": [
    "df[name] = np.abs(df[name]-2)"
   ]
  },
  {
   "cell_type": "code",
   "execution_count": 222,
   "id": "796c9b3a-854d-43ca-95bb-4a0e7f052ec4",
   "metadata": {},
   "outputs": [
    {
     "name": "stdout",
     "output_type": "stream",
     "text": [
      "Mobile_phone\n",
      "0.0     98027\n",
      "1.0    707407\n",
      "Name: count, dtype: int64\n"
     ]
    }
   ],
   "source": [
    "print(df[name].value_counts(dropna=False).sort_index())"
   ]
  },
  {
   "cell_type": "code",
   "execution_count": 223,
   "id": "567193df-6790-40e5-acde-d581eef515b0",
   "metadata": {},
   "outputs": [],
   "source": [
    "variable_list.append(name)"
   ]
  },
  {
   "cell_type": "markdown",
   "id": "be43bc1b-ac98-44d9-8548-6512c4f2542d",
   "metadata": {},
   "source": [
    "#### WP16056 Internet_access_available"
   ]
  },
  {
   "cell_type": "markdown",
   "id": "2a772466-17c5-4b64-a8b8-a67ada24d244",
   "metadata": {},
   "source": [
    "drop 3 4  nan"
   ]
  },
  {
   "cell_type": "code",
   "execution_count": 224,
   "id": "89a02f6e-471e-4473-92d3-0fa5377b4821",
   "metadata": {},
   "outputs": [],
   "source": [
    "code = 'WP16056'\n",
    "name = 'Internet_access_available'"
   ]
  },
  {
   "cell_type": "code",
   "execution_count": 225,
   "id": "dc05c9e0-6a3d-426f-91c2-d974896fccdb",
   "metadata": {},
   "outputs": [],
   "source": [
    "df[name] = df[code]"
   ]
  },
  {
   "cell_type": "code",
   "execution_count": 226,
   "id": "1d884e11-ef5b-45b4-b93b-e9094c4656d1",
   "metadata": {},
   "outputs": [
    {
     "name": "stdout",
     "output_type": "stream",
     "text": [
      "WP16056\n",
      "1.0    541121\n",
      "2.0    261699\n",
      "3.0      2389\n",
      "4.0       225\n",
      "Name: count, dtype: int64\n"
     ]
    }
   ],
   "source": [
    "print(df[code].value_counts(dropna=False).sort_index())"
   ]
  },
  {
   "cell_type": "code",
   "execution_count": 227,
   "id": "bf3e8869-a8ea-49f9-9fb2-96be5cde494b",
   "metadata": {},
   "outputs": [],
   "source": [
    "df[name] = df[name].fillna(3)"
   ]
  },
  {
   "cell_type": "code",
   "execution_count": 228,
   "id": "e848f4dc-cee2-46b8-823a-62fc5852b7cf",
   "metadata": {},
   "outputs": [],
   "source": [
    "df = df[df[name] < 3]"
   ]
  },
  {
   "cell_type": "code",
   "execution_count": 229,
   "id": "bd62befd-682d-41a6-8740-1cd0ff89471c",
   "metadata": {},
   "outputs": [],
   "source": [
    "df[name] = np.abs(df[name]-2)"
   ]
  },
  {
   "cell_type": "code",
   "execution_count": 230,
   "id": "3b406129-7789-4ba1-bd57-8bd2eba4d618",
   "metadata": {},
   "outputs": [
    {
     "name": "stdout",
     "output_type": "stream",
     "text": [
      "Internet_access_available\n",
      "0.0    261699\n",
      "1.0    541121\n",
      "Name: count, dtype: int64\n"
     ]
    }
   ],
   "source": [
    "print(df[name].value_counts(dropna=False).sort_index())"
   ]
  },
  {
   "cell_type": "code",
   "execution_count": 231,
   "id": "af955fad-bc8c-4323-a651-758c638cc471",
   "metadata": {},
   "outputs": [],
   "source": [
    "variable_list.append(name)"
   ]
  },
  {
   "cell_type": "markdown",
   "id": "a01f6167-71fa-4377-ad30-703ad30ba6d0",
   "metadata": {},
   "source": [
    "#### **WP15862 Used_internet_recently"
   ]
  },
  {
   "cell_type": "markdown",
   "id": "30bb257e-94b9-42a7-ba4f-6b54a9eea98b",
   "metadata": {},
   "source": []
  },
  {
   "cell_type": "code",
   "execution_count": 232,
   "id": "332fb589-5dc5-4400-a645-38f2da8681c8",
   "metadata": {},
   "outputs": [],
   "source": [
    "code = 'WP15862'\n",
    "name = 'Used_internet_recently'"
   ]
  },
  {
   "cell_type": "code",
   "execution_count": 233,
   "id": "0977a835-681f-4a96-8abf-1df8f1d1e383",
   "metadata": {},
   "outputs": [],
   "source": [
    "df[name] = df[code]"
   ]
  },
  {
   "cell_type": "code",
   "execution_count": 234,
   "id": "a71784f0-7620-4f5b-92f2-f0286ea66976",
   "metadata": {
    "scrolled": true
   },
   "outputs": [
    {
     "name": "stdout",
     "output_type": "stream",
     "text": [
      "WP15862\n",
      "1.0    496891\n",
      "2.0     43920\n",
      "3.0       254\n",
      "4.0        56\n",
      "NaN    261699\n",
      "Name: count, dtype: int64\n"
     ]
    }
   ],
   "source": [
    "print(df[code].value_counts(dropna=False).sort_index())"
   ]
  },
  {
   "cell_type": "code",
   "execution_count": 235,
   "id": "4be6be71-dfd6-49cf-af66-a9ef16601f8c",
   "metadata": {},
   "outputs": [],
   "source": [
    "df[name] = df[name].fillna(2)\n",
    "df = df[df[name] < 3]"
   ]
  },
  {
   "cell_type": "code",
   "execution_count": 236,
   "id": "6dd34de4-9557-41e4-97bd-f0adbf525015",
   "metadata": {},
   "outputs": [],
   "source": [
    "df[name] = np.abs(df[name]-2)"
   ]
  },
  {
   "cell_type": "code",
   "execution_count": 237,
   "id": "b406cee0-5221-4bfb-aa0d-b962826ab621",
   "metadata": {},
   "outputs": [
    {
     "name": "stdout",
     "output_type": "stream",
     "text": [
      "Used_internet_recently\n",
      "0.0    305619\n",
      "1.0    496891\n",
      "Name: count, dtype: int64\n"
     ]
    }
   ],
   "source": [
    "print(df[name].value_counts(dropna=False).sort_index())"
   ]
  },
  {
   "cell_type": "code",
   "execution_count": 238,
   "id": "4a2759a8-ad86-48f1-aba3-db1e390fd992",
   "metadata": {},
   "outputs": [],
   "source": [
    "variable_list.append(name)"
   ]
  },
  {
   "cell_type": "markdown",
   "id": "637abc63-979e-4c24-8560-353ac81b2f95",
   "metadata": {},
   "source": [
    "**To be determined**"
   ]
  },
  {
   "cell_type": "code",
   "execution_count": 239,
   "id": "ba53022f-7b7f-4f5b-be71-41b044924806",
   "metadata": {},
   "outputs": [
    {
     "data": {
      "text/plain": [
       "Internet_access_available\n",
       "0.0    261699\n",
       "1.0    540811\n",
       "Name: count, dtype: int64"
      ]
     },
     "execution_count": 239,
     "metadata": {},
     "output_type": "execute_result"
    }
   ],
   "source": [
    "df['Internet_access_available'].value_counts(dropna=False).sort_index()"
   ]
  },
  {
   "cell_type": "markdown",
   "id": "03071f6c-b30f-4ede-89c0-9626b9cea17a",
   "metadata": {},
   "source": [
    "#### **WP19544 Phone_internet_access"
   ]
  },
  {
   "cell_type": "code",
   "execution_count": 240,
   "id": "c549f08c-abd8-4ba0-b32b-428d3e15ccfe",
   "metadata": {},
   "outputs": [],
   "source": [
    "code = 'WP19544'\n",
    "name = 'Phone_internet_access'"
   ]
  },
  {
   "cell_type": "code",
   "execution_count": 241,
   "id": "28dd2e5b-47f4-42d5-b057-46dd0471fbb8",
   "metadata": {},
   "outputs": [],
   "source": [
    "df[name] = df[code]"
   ]
  },
  {
   "cell_type": "code",
   "execution_count": 242,
   "id": "d1c34771-de4f-42de-9486-1af2c3a2bb8d",
   "metadata": {},
   "outputs": [
    {
     "name": "stdout",
     "output_type": "stream",
     "text": [
      "WP19544\n",
      "1.0    527859\n",
      "2.0    171636\n",
      "3.0      3754\n",
      "4.0       152\n",
      "NaN     99109\n",
      "Name: count, dtype: int64\n"
     ]
    }
   ],
   "source": [
    "print(df[code].value_counts(dropna=False).sort_index())"
   ]
  },
  {
   "cell_type": "code",
   "execution_count": 243,
   "id": "b4b9eaed-1b4c-4f81-88f9-98c156766484",
   "metadata": {},
   "outputs": [],
   "source": [
    "df[name] = df[name].fillna(2)\n",
    "df = df[df[name] < 3]"
   ]
  },
  {
   "cell_type": "code",
   "execution_count": 244,
   "id": "817c5a84-9e4e-4f18-899c-4d1d676a861e",
   "metadata": {},
   "outputs": [],
   "source": [
    "df[name] = np.abs(df[name]-2)"
   ]
  },
  {
   "cell_type": "code",
   "execution_count": 245,
   "id": "1e00c5b8-fbdb-44f7-afeb-2c067526492f",
   "metadata": {},
   "outputs": [
    {
     "name": "stdout",
     "output_type": "stream",
     "text": [
      "Phone_internet_access\n",
      "0.0    270745\n",
      "1.0    527859\n",
      "Name: count, dtype: int64\n"
     ]
    }
   ],
   "source": [
    "print(df[name].value_counts(dropna=False).sort_index())"
   ]
  },
  {
   "cell_type": "code",
   "execution_count": 246,
   "id": "ce912a81-39cb-46fc-97e7-36c70bce83e5",
   "metadata": {},
   "outputs": [],
   "source": [
    "variable_list.append(name)"
   ]
  },
  {
   "cell_type": "markdown",
   "id": "5e26a930-d91e-4d8b-841c-1c8a7f845304",
   "metadata": {},
   "source": [
    "**To be determined**"
   ]
  },
  {
   "cell_type": "code",
   "execution_count": 247,
   "id": "882799b8-5afe-4587-94a8-0c4ec6f130ed",
   "metadata": {},
   "outputs": [
    {
     "data": {
      "text/plain": [
       "Internet_access_available\n",
       "0.0    258850\n",
       "1.0    539754\n",
       "Name: count, dtype: int64"
      ]
     },
     "execution_count": 247,
     "metadata": {},
     "output_type": "execute_result"
    }
   ],
   "source": [
    "df['Internet_access_available'].value_counts(dropna=False).sort_index()"
   ]
  },
  {
   "cell_type": "markdown",
   "id": "ed913b7e-0c0c-4572-a02c-66d5b6184009",
   "metadata": {},
   "source": [
    "#### COUNTRY_ISO3"
   ]
  },
  {
   "cell_type": "code",
   "execution_count": 248,
   "id": "daa40877-811d-4c08-97a2-43d649e684b4",
   "metadata": {},
   "outputs": [],
   "source": [
    "name = 'COUNTRY_ISO3'"
   ]
  },
  {
   "cell_type": "code",
   "execution_count": 249,
   "id": "ae733a65-8bda-4ef6-b201-3434aaff3dd4",
   "metadata": {},
   "outputs": [],
   "source": [
    "variable_list.append(name)"
   ]
  },
  {
   "cell_type": "code",
   "execution_count": null,
   "id": "5d37a7f7-283e-4049-810c-2d771baf14bc",
   "metadata": {},
   "outputs": [],
   "source": []
  },
  {
   "cell_type": "markdown",
   "id": "f2ac02a4-7f01-415b-b5d5-e34fdaf216f0",
   "metadata": {},
   "source": [
    "#### INCOME_5"
   ]
  },
  {
   "cell_type": "code",
   "execution_count": 250,
   "id": "8235e6a4-2ae9-48f5-8b53-25b7620e2ab8",
   "metadata": {},
   "outputs": [],
   "source": [
    "code = 'INCOME_5'\n",
    "name = 'Income_level'"
   ]
  },
  {
   "cell_type": "code",
   "execution_count": 251,
   "id": "4957db13-ca92-4987-8698-e228971eca31",
   "metadata": {},
   "outputs": [],
   "source": [
    "df[name] = df[code]"
   ]
  },
  {
   "cell_type": "code",
   "execution_count": 252,
   "id": "68e3708d-4a38-4221-8c44-4b7152afa168",
   "metadata": {},
   "outputs": [
    {
     "name": "stdout",
     "output_type": "stream",
     "text": [
      "INCOME_5\n",
      "1.0    127118\n",
      "2.0    140056\n",
      "3.0    154335\n",
      "4.0    171161\n",
      "5.0    205934\n",
      "Name: count, dtype: int64\n"
     ]
    }
   ],
   "source": [
    "print(df[code].value_counts(dropna=False).sort_index())"
   ]
  },
  {
   "cell_type": "code",
   "execution_count": 253,
   "id": "04d472a0-4b5a-4f72-b328-0dadcfb921db",
   "metadata": {},
   "outputs": [
    {
     "data": {
      "text/plain": [
       "(798604, 161)"
      ]
     },
     "execution_count": 253,
     "metadata": {},
     "output_type": "execute_result"
    }
   ],
   "source": [
    "df.shape"
   ]
  },
  {
   "cell_type": "code",
   "execution_count": 254,
   "id": "d2a52ae1-061a-45f5-bfec-2b21a7aa770b",
   "metadata": {},
   "outputs": [],
   "source": [
    "df = df.dropna(subset=['INCOME_5'])"
   ]
  },
  {
   "cell_type": "code",
   "execution_count": 255,
   "id": "8fad353e-f145-4360-b9f4-bf6da504f5ba",
   "metadata": {},
   "outputs": [
    {
     "data": {
      "text/plain": [
       "(798604, 161)"
      ]
     },
     "execution_count": 255,
     "metadata": {},
     "output_type": "execute_result"
    }
   ],
   "source": [
    "df.shape"
   ]
  },
  {
   "cell_type": "code",
   "execution_count": 256,
   "id": "d63829f7-366a-4e5d-8b20-140fc84dff0a",
   "metadata": {},
   "outputs": [],
   "source": [
    "variable_list.append(name)"
   ]
  },
  {
   "cell_type": "markdown",
   "id": "cf0f651b-0dac-423d-b5aa-7bd3be5818ac",
   "metadata": {},
   "source": [
    "### Save the Washed Dataset"
   ]
  },
  {
   "cell_type": "code",
   "execution_count": 257,
   "id": "ee3f814c-7a26-46d6-807b-d0bc1d251077",
   "metadata": {},
   "outputs": [
    {
     "data": {
      "text/plain": [
       "['wave',\n",
       " 'INCOME_2',\n",
       " 'Cantril_ladder',\n",
       " 'Health_disable',\n",
       " 'Relative_have',\n",
       " 'Life_satisfaction',\n",
       " 'Living_standard_trend',\n",
       " 'Enough_food',\n",
       " 'Enough_shelter',\n",
       " 'Well_rested',\n",
       " 'Respected',\n",
       " 'Smile',\n",
       " 'Interesting_thing',\n",
       " 'Enjoyment',\n",
       " 'Physical_pain',\n",
       " 'Worry',\n",
       " 'Sadness',\n",
       " 'Stress',\n",
       " 'Anger',\n",
       " 'City_satisfaction',\n",
       " 'Recommended_live_place',\n",
       " 'Economic_rating',\n",
       " 'Economic_trend',\n",
       " 'Local_job_outlook',\n",
       " 'Satisfied_pubtran',\n",
       " 'Satisfied_road',\n",
       " 'Satisfied_edu',\n",
       " 'Satisfied_qualityair',\n",
       " 'Satisfied_qualitywater',\n",
       " 'Satisfied_healthcare',\n",
       " 'Satisfied_affhouse',\n",
       " 'Satisfied_oppofriend',\n",
       " 'Good_minorities',\n",
       " 'Good_homo',\n",
       " 'Good_immigrants',\n",
       " 'Donated',\n",
       " 'Volunteer',\n",
       " 'Help_stranger',\n",
       " 'Voice_official',\n",
       " 'Local_police_confidence',\n",
       " 'Safety_walk',\n",
       " 'Stolen',\n",
       " 'Assualted',\n",
       " 'Religion_importance',\n",
       " 'Children_respected',\n",
       " 'Children_learn',\n",
       " 'Women_respected',\n",
       " 'Satisfied_dealpoor',\n",
       " 'Satisfied_Env_preservation',\n",
       " 'Satisfied_Personalfreedom',\n",
       " 'Confidence_military',\n",
       " 'Confidence_judicial',\n",
       " 'Confidence_gov',\n",
       " 'Confidence_fin',\n",
       " 'Confidence_honestyelections',\n",
       " 'Freedom_media',\n",
       " 'Corruption_business',\n",
       " 'Corruption_government',\n",
       " 'Performance_leadership',\n",
       " 'Gender_female',\n",
       " 'Age',\n",
       " 'Education',\n",
       " 'Marital_status',\n",
       " 'Employment',\n",
       " 'Children_under15',\n",
       " 'Feeling_income',\n",
       " 'Born_here',\n",
       " 'Home_handline',\n",
       " 'Mobile_phone',\n",
       " 'Internet_access_available',\n",
       " 'Used_internet_recently',\n",
       " 'Phone_internet_access',\n",
       " 'COUNTRY_ISO3',\n",
       " 'Income_level']"
      ]
     },
     "execution_count": 257,
     "metadata": {},
     "output_type": "execute_result"
    }
   ],
   "source": [
    "variable_list"
   ]
  },
  {
   "cell_type": "code",
   "execution_count": 258,
   "id": "fe5c5ee0-5515-42de-8acc-6ef8bafce8c3",
   "metadata": {},
   "outputs": [
    {
     "data": {
      "text/plain": [
       "74"
      ]
     },
     "execution_count": 258,
     "metadata": {},
     "output_type": "execute_result"
    }
   ],
   "source": [
    "len(variable_list)"
   ]
  },
  {
   "cell_type": "code",
   "execution_count": 259,
   "id": "a435fa19-cb37-4fd1-9128-bba52a60e95b",
   "metadata": {},
   "outputs": [],
   "source": [
    "ZhangWahsedDataset = df[variable_list]"
   ]
  },
  {
   "cell_type": "code",
   "execution_count": 260,
   "id": "29b77b35-3c94-402f-b89b-d39d54d2936e",
   "metadata": {},
   "outputs": [
    {
     "data": {
      "text/plain": [
       "(798604, 74)"
      ]
     },
     "execution_count": 260,
     "metadata": {},
     "output_type": "execute_result"
    }
   ],
   "source": [
    "ZhangWahsedDataset.shape"
   ]
  },
  {
   "cell_type": "code",
   "execution_count": 263,
   "id": "dce8fda7-5477-40ff-949d-54eb0a79ffe8",
   "metadata": {},
   "outputs": [
    {
     "data": {
      "text/plain": [
       "False"
      ]
     },
     "execution_count": 263,
     "metadata": {},
     "output_type": "execute_result"
    }
   ],
   "source": [
    "ZhangWahsedDataset.isna().any().any()"
   ]
  },
  {
   "cell_type": "code",
   "execution_count": 262,
   "id": "6a6ba8fd-f743-4a30-8a12-b4e7150a376e",
   "metadata": {},
   "outputs": [],
   "source": [
    "ZhangWahsedDataset.to_parquet(os.path.join('Data', 'GallupWB_Zhang47var798k6wave_v1.parquet'))"
   ]
  },
  {
   "cell_type": "code",
   "execution_count": null,
   "id": "c21447e6-190b-4246-ba4e-2d05643bc488",
   "metadata": {},
   "outputs": [],
   "source": []
  }
 ],
 "metadata": {
  "kernelspec": {
   "display_name": "Python 3 (ipykernel)",
   "language": "python",
   "name": "python3"
  },
  "language_info": {
   "codemirror_mode": {
    "name": "ipython",
    "version": 3
   },
   "file_extension": ".py",
   "mimetype": "text/x-python",
   "name": "python",
   "nbconvert_exporter": "python",
   "pygments_lexer": "ipython3",
   "version": "3.9.19"
  }
 },
 "nbformat": 4,
 "nbformat_minor": 5
}
