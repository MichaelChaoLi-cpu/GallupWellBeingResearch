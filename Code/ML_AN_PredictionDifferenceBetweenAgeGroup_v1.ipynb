{
 "cells": [
  {
   "cell_type": "markdown",
   "id": "7165eb0f-da82-4c86-8545-8c8fe365c2c4",
   "metadata": {},
   "source": [
    "# Prediction Difference Computation Between Age Group"
   ]
  },
  {
   "cell_type": "markdown",
   "id": "bc563bc2-b057-427f-a917-da95aa29bf54",
   "metadata": {},
   "source": [
    "Logic: 10 Folder Prediction on self-model vs average other groups"
   ]
  },
  {
   "cell_type": "code",
   "execution_count": 1,
   "id": "89ebdb0f-694a-4b46-b8e3-fb34449153a9",
   "metadata": {},
   "outputs": [
    {
     "data": {
      "text/plain": [
       "'/mnt/d/OneDrive - Kyushu University/ESG09_Article/Code'"
      ]
     },
     "execution_count": 1,
     "metadata": {},
     "output_type": "execute_result"
    }
   ],
   "source": [
    "%pwd"
   ]
  },
  {
   "cell_type": "code",
   "execution_count": 2,
   "id": "bbf2a104-10ab-405b-920c-23fa040fe251",
   "metadata": {},
   "outputs": [
    {
     "name": "stdout",
     "output_type": "stream",
     "text": [
      "/mnt/d/OneDrive - Kyushu University/ESG09_Article\n"
     ]
    },
    {
     "name": "stderr",
     "output_type": "stream",
     "text": [
      "/home/linux/anaconda3/envs/automl/lib/python3.9/site-packages/IPython/core/magics/osm.py:417: UserWarning: using dhist requires you to install the `pickleshare` library.\n",
      "  self.shell.db['dhist'] = compress_dhist(dhist)[-100:]\n"
     ]
    }
   ],
   "source": [
    "%cd .."
   ]
  },
  {
   "cell_type": "code",
   "execution_count": null,
   "id": "fac3622b-1a3e-4020-bab7-f7499ad127fd",
   "metadata": {},
   "outputs": [],
   "source": []
  },
  {
   "cell_type": "markdown",
   "id": "808b3e57-0c84-4018-a236-68135ce5c25a",
   "metadata": {},
   "source": [
    "## Import Package"
   ]
  },
  {
   "cell_type": "code",
   "execution_count": 3,
   "id": "dd765fb2-e071-4b63-a2ac-d9a881aada52",
   "metadata": {},
   "outputs": [],
   "source": [
    "from joblib import dump, load\n",
    "import numpy as np\n",
    "import os \n",
    "import pandas as pd\n",
    "import random\n",
    "from scipy import stats\n",
    "from sklearn.ensemble import RandomForestRegressor\n",
    "from sklearn.linear_model import LinearRegression\n",
    "from sklearn.metrics import mean_squared_error, r2_score\n",
    "from sklearn.model_selection import train_test_split, KFold, cross_val_score\n",
    "from skopt import BayesSearchCV\n",
    "from skopt.space import Real, Integer\n",
    "import xgboost as xgb"
   ]
  },
  {
   "cell_type": "code",
   "execution_count": null,
   "id": "d31e8cce-e3b5-40d7-b00e-f57844cec585",
   "metadata": {},
   "outputs": [],
   "source": []
  },
  {
   "cell_type": "markdown",
   "id": "88fc8549-eca3-43dd-b993-5347ae59bbb7",
   "metadata": {},
   "source": [
    "## Load dataset and divide them into subgroup"
   ]
  },
  {
   "cell_type": "code",
   "execution_count": 4,
   "id": "8c0228f0-6f73-45c3-8715-d0e4335a66cd",
   "metadata": {},
   "outputs": [],
   "source": [
    "Df_Filename = os.path.join(\"Data\", \"GallupWB_Ml64var1911k14wave_v1.parquet\")"
   ]
  },
  {
   "cell_type": "code",
   "execution_count": 5,
   "id": "bd437d0b-7888-4be5-936a-0ffff02854bf",
   "metadata": {},
   "outputs": [],
   "source": [
    "Df = pd.read_parquet(Df_Filename)"
   ]
  },
  {
   "cell_type": "code",
   "execution_count": 6,
   "id": "3c440ca1-15d0-4a3b-9941-daaaa4905db4",
   "metadata": {},
   "outputs": [
    {
     "data": {
      "text/plain": [
       "(1911212, 64)"
      ]
     },
     "execution_count": 6,
     "metadata": {},
     "output_type": "execute_result"
    }
   ],
   "source": [
    "Df.shape"
   ]
  },
  {
   "cell_type": "code",
   "execution_count": 7,
   "id": "8674e93c-5eb9-475d-ab4c-ba79d0d4e860",
   "metadata": {},
   "outputs": [
    {
     "data": {
      "text/plain": [
       "Index(['wave', 'INCOME_2', 'Cantril_ladder', 'Health_disable', 'Relative_have',\n",
       "       'Living_standard_change', 'Enough_food', 'Enough_shelter',\n",
       "       'Well_rested', 'Respected', 'Smile', 'Interesting_thing', 'Enjoyment',\n",
       "       'Physical_pain', 'Worry', 'Sadness', 'Stress', 'Anger',\n",
       "       'City_satisficied', 'Economic_change', 'Goodtime_job', 'Sat_pubtran',\n",
       "       'Sat_road', 'Sat_edu', 'Sat_qualityair', 'Sat_qualitywater',\n",
       "       'Sat_healthcare', 'Sat_affhouse', 'Sat_oppofriend', 'Good_minorities',\n",
       "       'Good_gayles', 'Good_immigrants', 'Donated', 'Volunteer',\n",
       "       'Help_stranger', 'Voice_official', 'Local_police', 'Safety_walk',\n",
       "       'Stolen', 'Assualted', 'Religion_importance', 'Children_respected',\n",
       "       'Children_learn', 'Women_respected', 'Sat_dealpoor', 'Sat_perserveenv',\n",
       "       'Freedom_chooselife', 'Conf_military', 'Conf_judicial',\n",
       "       'Conf_government', 'Conf_financial', 'Conf_honestyelections',\n",
       "       'Freedom_media', 'Corruption_business', 'Corruption_government',\n",
       "       'Performance_leadership', 'Gender_female', 'Age', 'Marital_status',\n",
       "       'Employment', 'Children_under15', 'Feeling_income', 'Income_level',\n",
       "       'COUNTRY_ISO3'],\n",
       "      dtype='object')"
      ]
     },
     "execution_count": 7,
     "metadata": {},
     "output_type": "execute_result"
    }
   ],
   "source": [
    "Df.columns"
   ]
  },
  {
   "cell_type": "code",
   "execution_count": 8,
   "id": "b6d08598-48fe-43c4-ab8f-ef8e66076437",
   "metadata": {},
   "outputs": [
    {
     "data": {
      "text/html": [
       "<div>\n",
       "<style scoped>\n",
       "    .dataframe tbody tr th:only-of-type {\n",
       "        vertical-align: middle;\n",
       "    }\n",
       "\n",
       "    .dataframe tbody tr th {\n",
       "        vertical-align: top;\n",
       "    }\n",
       "\n",
       "    .dataframe thead th {\n",
       "        text-align: right;\n",
       "    }\n",
       "</style>\n",
       "<table border=\"1\" class=\"dataframe\">\n",
       "  <thead>\n",
       "    <tr style=\"text-align: right;\">\n",
       "      <th></th>\n",
       "      <th>wave</th>\n",
       "      <th>INCOME_2</th>\n",
       "      <th>Cantril_ladder</th>\n",
       "      <th>Health_disable</th>\n",
       "      <th>Relative_have</th>\n",
       "      <th>Living_standard_change</th>\n",
       "      <th>Enough_food</th>\n",
       "      <th>Enough_shelter</th>\n",
       "      <th>Well_rested</th>\n",
       "      <th>Respected</th>\n",
       "      <th>...</th>\n",
       "      <th>Corruption_government</th>\n",
       "      <th>Performance_leadership</th>\n",
       "      <th>Gender_female</th>\n",
       "      <th>Age</th>\n",
       "      <th>Marital_status</th>\n",
       "      <th>Employment</th>\n",
       "      <th>Children_under15</th>\n",
       "      <th>Feeling_income</th>\n",
       "      <th>Income_level</th>\n",
       "      <th>COUNTRY_ISO3</th>\n",
       "    </tr>\n",
       "  </thead>\n",
       "  <tbody>\n",
       "    <tr>\n",
       "      <th>367305</th>\n",
       "      <td>4</td>\n",
       "      <td>1.351047e+01</td>\n",
       "      <td>6.0</td>\n",
       "      <td>2.0</td>\n",
       "      <td>1.0</td>\n",
       "      <td>1.0</td>\n",
       "      <td>0.0</td>\n",
       "      <td>0.0</td>\n",
       "      <td>1.0</td>\n",
       "      <td>1.0</td>\n",
       "      <td>...</td>\n",
       "      <td>0.0</td>\n",
       "      <td>0.0</td>\n",
       "      <td>1.0</td>\n",
       "      <td>21.0</td>\n",
       "      <td>1.0</td>\n",
       "      <td>1.0</td>\n",
       "      <td>0.0</td>\n",
       "      <td>2.0</td>\n",
       "      <td>1.0</td>\n",
       "      <td>USA</td>\n",
       "    </tr>\n",
       "    <tr>\n",
       "      <th>367306</th>\n",
       "      <td>4</td>\n",
       "      <td>2.296780e+06</td>\n",
       "      <td>6.0</td>\n",
       "      <td>2.0</td>\n",
       "      <td>1.0</td>\n",
       "      <td>-0.0</td>\n",
       "      <td>0.0</td>\n",
       "      <td>0.0</td>\n",
       "      <td>1.0</td>\n",
       "      <td>0.0</td>\n",
       "      <td>...</td>\n",
       "      <td>1.0</td>\n",
       "      <td>1.0</td>\n",
       "      <td>1.0</td>\n",
       "      <td>34.0</td>\n",
       "      <td>1.0</td>\n",
       "      <td>1.0</td>\n",
       "      <td>0.0</td>\n",
       "      <td>2.0</td>\n",
       "      <td>5.0</td>\n",
       "      <td>USA</td>\n",
       "    </tr>\n",
       "    <tr>\n",
       "      <th>367307</th>\n",
       "      <td>4</td>\n",
       "      <td>3.512722e+05</td>\n",
       "      <td>8.0</td>\n",
       "      <td>2.0</td>\n",
       "      <td>1.0</td>\n",
       "      <td>-1.0</td>\n",
       "      <td>0.0</td>\n",
       "      <td>0.0</td>\n",
       "      <td>0.0</td>\n",
       "      <td>1.0</td>\n",
       "      <td>...</td>\n",
       "      <td>0.0</td>\n",
       "      <td>1.0</td>\n",
       "      <td>1.0</td>\n",
       "      <td>44.0</td>\n",
       "      <td>1.0</td>\n",
       "      <td>1.0</td>\n",
       "      <td>0.0</td>\n",
       "      <td>2.0</td>\n",
       "      <td>5.0</td>\n",
       "      <td>USA</td>\n",
       "    </tr>\n",
       "    <tr>\n",
       "      <th>367308</th>\n",
       "      <td>4</td>\n",
       "      <td>5.404188e+04</td>\n",
       "      <td>8.0</td>\n",
       "      <td>2.0</td>\n",
       "      <td>1.0</td>\n",
       "      <td>-1.0</td>\n",
       "      <td>0.0</td>\n",
       "      <td>0.0</td>\n",
       "      <td>1.0</td>\n",
       "      <td>1.0</td>\n",
       "      <td>...</td>\n",
       "      <td>1.0</td>\n",
       "      <td>1.0</td>\n",
       "      <td>1.0</td>\n",
       "      <td>67.0</td>\n",
       "      <td>1.0</td>\n",
       "      <td>1.0</td>\n",
       "      <td>0.0</td>\n",
       "      <td>1.0</td>\n",
       "      <td>5.0</td>\n",
       "      <td>USA</td>\n",
       "    </tr>\n",
       "    <tr>\n",
       "      <th>367309</th>\n",
       "      <td>4</td>\n",
       "      <td>0.000000e+00</td>\n",
       "      <td>8.0</td>\n",
       "      <td>2.0</td>\n",
       "      <td>1.0</td>\n",
       "      <td>1.0</td>\n",
       "      <td>0.0</td>\n",
       "      <td>0.0</td>\n",
       "      <td>1.0</td>\n",
       "      <td>1.0</td>\n",
       "      <td>...</td>\n",
       "      <td>1.0</td>\n",
       "      <td>0.0</td>\n",
       "      <td>1.0</td>\n",
       "      <td>49.0</td>\n",
       "      <td>2.0</td>\n",
       "      <td>1.0</td>\n",
       "      <td>0.0</td>\n",
       "      <td>1.0</td>\n",
       "      <td>1.0</td>\n",
       "      <td>USA</td>\n",
       "    </tr>\n",
       "  </tbody>\n",
       "</table>\n",
       "<p>5 rows × 64 columns</p>\n",
       "</div>"
      ],
      "text/plain": [
       "        wave      INCOME_2  Cantril_ladder  Health_disable  Relative_have  \\\n",
       "367305     4  1.351047e+01             6.0             2.0            1.0   \n",
       "367306     4  2.296780e+06             6.0             2.0            1.0   \n",
       "367307     4  3.512722e+05             8.0             2.0            1.0   \n",
       "367308     4  5.404188e+04             8.0             2.0            1.0   \n",
       "367309     4  0.000000e+00             8.0             2.0            1.0   \n",
       "\n",
       "        Living_standard_change  Enough_food  Enough_shelter  Well_rested  \\\n",
       "367305                     1.0          0.0             0.0          1.0   \n",
       "367306                    -0.0          0.0             0.0          1.0   \n",
       "367307                    -1.0          0.0             0.0          0.0   \n",
       "367308                    -1.0          0.0             0.0          1.0   \n",
       "367309                     1.0          0.0             0.0          1.0   \n",
       "\n",
       "        Respected  ...  Corruption_government  Performance_leadership  \\\n",
       "367305        1.0  ...                    0.0                     0.0   \n",
       "367306        0.0  ...                    1.0                     1.0   \n",
       "367307        1.0  ...                    0.0                     1.0   \n",
       "367308        1.0  ...                    1.0                     1.0   \n",
       "367309        1.0  ...                    1.0                     0.0   \n",
       "\n",
       "        Gender_female   Age  Marital_status  Employment  Children_under15  \\\n",
       "367305            1.0  21.0             1.0         1.0               0.0   \n",
       "367306            1.0  34.0             1.0         1.0               0.0   \n",
       "367307            1.0  44.0             1.0         1.0               0.0   \n",
       "367308            1.0  67.0             1.0         1.0               0.0   \n",
       "367309            1.0  49.0             2.0         1.0               0.0   \n",
       "\n",
       "        Feeling_income  Income_level  COUNTRY_ISO3  \n",
       "367305             2.0           1.0           USA  \n",
       "367306             2.0           5.0           USA  \n",
       "367307             2.0           5.0           USA  \n",
       "367308             1.0           5.0           USA  \n",
       "367309             1.0           1.0           USA  \n",
       "\n",
       "[5 rows x 64 columns]"
      ]
     },
     "execution_count": 8,
     "metadata": {},
     "output_type": "execute_result"
    }
   ],
   "source": [
    "Df.sort_index().head()"
   ]
  },
  {
   "cell_type": "code",
   "execution_count": 9,
   "id": "29346342-3798-45de-b77c-4b3857fe9145",
   "metadata": {},
   "outputs": [],
   "source": [
    "Df = Df.sample(frac=1, random_state=42)"
   ]
  },
  {
   "cell_type": "code",
   "execution_count": 10,
   "id": "2398aa9f-2f3a-4a40-95ca-19bf8f6ad4c7",
   "metadata": {},
   "outputs": [
    {
     "data": {
      "text/html": [
       "<div>\n",
       "<style scoped>\n",
       "    .dataframe tbody tr th:only-of-type {\n",
       "        vertical-align: middle;\n",
       "    }\n",
       "\n",
       "    .dataframe tbody tr th {\n",
       "        vertical-align: top;\n",
       "    }\n",
       "\n",
       "    .dataframe thead th {\n",
       "        text-align: right;\n",
       "    }\n",
       "</style>\n",
       "<table border=\"1\" class=\"dataframe\">\n",
       "  <thead>\n",
       "    <tr style=\"text-align: right;\">\n",
       "      <th></th>\n",
       "      <th>wave</th>\n",
       "      <th>INCOME_2</th>\n",
       "      <th>Cantril_ladder</th>\n",
       "      <th>Health_disable</th>\n",
       "      <th>Relative_have</th>\n",
       "      <th>Living_standard_change</th>\n",
       "      <th>Enough_food</th>\n",
       "      <th>Enough_shelter</th>\n",
       "      <th>Well_rested</th>\n",
       "      <th>Respected</th>\n",
       "      <th>...</th>\n",
       "      <th>Corruption_government</th>\n",
       "      <th>Performance_leadership</th>\n",
       "      <th>Gender_female</th>\n",
       "      <th>Age</th>\n",
       "      <th>Marital_status</th>\n",
       "      <th>Employment</th>\n",
       "      <th>Children_under15</th>\n",
       "      <th>Feeling_income</th>\n",
       "      <th>Income_level</th>\n",
       "      <th>COUNTRY_ISO3</th>\n",
       "    </tr>\n",
       "  </thead>\n",
       "  <tbody>\n",
       "    <tr>\n",
       "      <th>1469152</th>\n",
       "      <td>10</td>\n",
       "      <td>35602.470662</td>\n",
       "      <td>7.0</td>\n",
       "      <td>2.0</td>\n",
       "      <td>1.0</td>\n",
       "      <td>-0.0</td>\n",
       "      <td>0.0</td>\n",
       "      <td>0.0</td>\n",
       "      <td>1.0</td>\n",
       "      <td>1.0</td>\n",
       "      <td>...</td>\n",
       "      <td>1.0</td>\n",
       "      <td>0.0</td>\n",
       "      <td>0.0</td>\n",
       "      <td>64.0</td>\n",
       "      <td>1.0</td>\n",
       "      <td>5.0</td>\n",
       "      <td>0.0</td>\n",
       "      <td>2.0</td>\n",
       "      <td>3.0</td>\n",
       "      <td>NZL</td>\n",
       "    </tr>\n",
       "    <tr>\n",
       "      <th>1562723</th>\n",
       "      <td>11</td>\n",
       "      <td>20170.734058</td>\n",
       "      <td>5.0</td>\n",
       "      <td>2.0</td>\n",
       "      <td>1.0</td>\n",
       "      <td>-1.0</td>\n",
       "      <td>0.0</td>\n",
       "      <td>0.0</td>\n",
       "      <td>1.0</td>\n",
       "      <td>1.0</td>\n",
       "      <td>...</td>\n",
       "      <td>1.0</td>\n",
       "      <td>0.0</td>\n",
       "      <td>1.0</td>\n",
       "      <td>18.0</td>\n",
       "      <td>1.0</td>\n",
       "      <td>6.0</td>\n",
       "      <td>0.0</td>\n",
       "      <td>2.0</td>\n",
       "      <td>1.0</td>\n",
       "      <td>LBN</td>\n",
       "    </tr>\n",
       "    <tr>\n",
       "      <th>708695</th>\n",
       "      <td>6</td>\n",
       "      <td>8664.458086</td>\n",
       "      <td>4.0</td>\n",
       "      <td>2.0</td>\n",
       "      <td>1.0</td>\n",
       "      <td>1.0</td>\n",
       "      <td>0.0</td>\n",
       "      <td>1.0</td>\n",
       "      <td>1.0</td>\n",
       "      <td>1.0</td>\n",
       "      <td>...</td>\n",
       "      <td>0.0</td>\n",
       "      <td>1.0</td>\n",
       "      <td>0.0</td>\n",
       "      <td>15.0</td>\n",
       "      <td>1.0</td>\n",
       "      <td>6.0</td>\n",
       "      <td>1.0</td>\n",
       "      <td>3.0</td>\n",
       "      <td>3.0</td>\n",
       "      <td>BWA</td>\n",
       "    </tr>\n",
       "    <tr>\n",
       "      <th>1828455</th>\n",
       "      <td>12</td>\n",
       "      <td>30706.925977</td>\n",
       "      <td>2.0</td>\n",
       "      <td>2.0</td>\n",
       "      <td>1.0</td>\n",
       "      <td>1.0</td>\n",
       "      <td>0.0</td>\n",
       "      <td>0.0</td>\n",
       "      <td>0.0</td>\n",
       "      <td>1.0</td>\n",
       "      <td>...</td>\n",
       "      <td>0.0</td>\n",
       "      <td>0.0</td>\n",
       "      <td>0.0</td>\n",
       "      <td>33.0</td>\n",
       "      <td>2.0</td>\n",
       "      <td>1.0</td>\n",
       "      <td>1.0</td>\n",
       "      <td>2.0</td>\n",
       "      <td>1.0</td>\n",
       "      <td>KWT</td>\n",
       "    </tr>\n",
       "    <tr>\n",
       "      <th>968859</th>\n",
       "      <td>7</td>\n",
       "      <td>4826.805232</td>\n",
       "      <td>8.0</td>\n",
       "      <td>1.0</td>\n",
       "      <td>1.0</td>\n",
       "      <td>1.0</td>\n",
       "      <td>0.0</td>\n",
       "      <td>0.0</td>\n",
       "      <td>1.0</td>\n",
       "      <td>1.0</td>\n",
       "      <td>...</td>\n",
       "      <td>1.0</td>\n",
       "      <td>0.0</td>\n",
       "      <td>0.0</td>\n",
       "      <td>29.0</td>\n",
       "      <td>8.0</td>\n",
       "      <td>1.0</td>\n",
       "      <td>1.0</td>\n",
       "      <td>3.0</td>\n",
       "      <td>4.0</td>\n",
       "      <td>HND</td>\n",
       "    </tr>\n",
       "  </tbody>\n",
       "</table>\n",
       "<p>5 rows × 64 columns</p>\n",
       "</div>"
      ],
      "text/plain": [
       "         wave      INCOME_2  Cantril_ladder  Health_disable  Relative_have  \\\n",
       "1469152    10  35602.470662             7.0             2.0            1.0   \n",
       "1562723    11  20170.734058             5.0             2.0            1.0   \n",
       "708695      6   8664.458086             4.0             2.0            1.0   \n",
       "1828455    12  30706.925977             2.0             2.0            1.0   \n",
       "968859      7   4826.805232             8.0             1.0            1.0   \n",
       "\n",
       "         Living_standard_change  Enough_food  Enough_shelter  Well_rested  \\\n",
       "1469152                    -0.0          0.0             0.0          1.0   \n",
       "1562723                    -1.0          0.0             0.0          1.0   \n",
       "708695                      1.0          0.0             1.0          1.0   \n",
       "1828455                     1.0          0.0             0.0          0.0   \n",
       "968859                      1.0          0.0             0.0          1.0   \n",
       "\n",
       "         Respected  ...  Corruption_government  Performance_leadership  \\\n",
       "1469152        1.0  ...                    1.0                     0.0   \n",
       "1562723        1.0  ...                    1.0                     0.0   \n",
       "708695         1.0  ...                    0.0                     1.0   \n",
       "1828455        1.0  ...                    0.0                     0.0   \n",
       "968859         1.0  ...                    1.0                     0.0   \n",
       "\n",
       "         Gender_female   Age  Marital_status  Employment  Children_under15  \\\n",
       "1469152            0.0  64.0             1.0         5.0               0.0   \n",
       "1562723            1.0  18.0             1.0         6.0               0.0   \n",
       "708695             0.0  15.0             1.0         6.0               1.0   \n",
       "1828455            0.0  33.0             2.0         1.0               1.0   \n",
       "968859             0.0  29.0             8.0         1.0               1.0   \n",
       "\n",
       "         Feeling_income  Income_level  COUNTRY_ISO3  \n",
       "1469152             2.0           3.0           NZL  \n",
       "1562723             2.0           1.0           LBN  \n",
       "708695              3.0           3.0           BWA  \n",
       "1828455             2.0           1.0           KWT  \n",
       "968859              3.0           4.0           HND  \n",
       "\n",
       "[5 rows x 64 columns]"
      ]
     },
     "execution_count": 10,
     "metadata": {},
     "output_type": "execute_result"
    }
   ],
   "source": [
    "Df.head()"
   ]
  },
  {
   "cell_type": "code",
   "execution_count": 11,
   "id": "40e51a7c-25d7-40dc-a6fe-8d12709e74ea",
   "metadata": {},
   "outputs": [],
   "source": [
    "Df['COUNTRY_ISO3'] = Df['COUNTRY_ISO3'].astype('category')"
   ]
  },
  {
   "cell_type": "code",
   "execution_count": 12,
   "id": "0818c84b-a65b-49c5-a3cf-8a5d97b6f59b",
   "metadata": {},
   "outputs": [
    {
     "data": {
      "text/plain": [
       "False"
      ]
     },
     "execution_count": 12,
     "metadata": {},
     "output_type": "execute_result"
    }
   ],
   "source": [
    "Df.isna().any().any()"
   ]
  },
  {
   "cell_type": "code",
   "execution_count": 13,
   "id": "3c1b5b97-b63e-4fe7-8c13-844e64c3b627",
   "metadata": {},
   "outputs": [],
   "source": [
    "Df_young = Df.loc[Df['Age']<=40, :].drop(columns=['Age'])"
   ]
  },
  {
   "cell_type": "code",
   "execution_count": 14,
   "id": "ebaa6cdf-acf3-4d80-b46f-c921cd6be286",
   "metadata": {},
   "outputs": [],
   "source": [
    "Df_middle = Df.loc[(Df['Age']>40)&(Df['Age']<=65), :].drop(columns=['Age'])"
   ]
  },
  {
   "cell_type": "code",
   "execution_count": 15,
   "id": "2b70c151-23df-446b-9d15-29cb59a0e88b",
   "metadata": {},
   "outputs": [],
   "source": [
    "Df_old = Df.loc[Df['Age']>65, :].drop(columns=['Age'])"
   ]
  },
  {
   "cell_type": "code",
   "execution_count": 16,
   "id": "4393f179-cb25-4fe2-9bec-1bd5db2c1509",
   "metadata": {},
   "outputs": [],
   "source": [
    "yy = Df_young['Cantril_ladder']\n",
    "Xy = Df_young.drop(columns=['Cantril_ladder'])"
   ]
  },
  {
   "cell_type": "code",
   "execution_count": 17,
   "id": "dcd9fe7f-1ca5-4e90-9a7f-49492b79a26a",
   "metadata": {},
   "outputs": [],
   "source": [
    "ym = Df_middle['Cantril_ladder']\n",
    "Xm = Df_middle.drop(columns=['Cantril_ladder'])"
   ]
  },
  {
   "cell_type": "code",
   "execution_count": 18,
   "id": "e748fc64-a701-4ae0-9d38-7b2a919786e8",
   "metadata": {},
   "outputs": [],
   "source": [
    "yo = Df_old['Cantril_ladder']\n",
    "Xo = Df_old.drop(columns=['Cantril_ladder'])"
   ]
  },
  {
   "cell_type": "code",
   "execution_count": null,
   "id": "419e1972-0405-4398-9de3-136bfbf3d0e1",
   "metadata": {},
   "outputs": [],
   "source": []
  },
  {
   "cell_type": "markdown",
   "id": "0a7a59d3-85c2-48ae-bb86-e44daa218eef",
   "metadata": {},
   "source": [
    "## Prediction of Each Group Based on Different Models"
   ]
  },
  {
   "cell_type": "markdown",
   "id": "7fea0323-c85e-409a-9047-905dc4ea9b3e",
   "metadata": {},
   "source": [
    "### Young Hyperparameter Reload, build model, and conduct 10 fold 10 times CV"
   ]
  },
  {
   "cell_type": "code",
   "execution_count": 19,
   "id": "b0294e55-5993-46ad-820a-f94811415193",
   "metadata": {},
   "outputs": [],
   "source": [
    "class RandomRunNFoldsKFold(KFold):\n",
    "    def __init__(self, n_splits=10, random_state=None, run_splits=3, **kwargs):\n",
    "        super().__init__(n_splits=n_splits, shuffle=True, random_state=random_state, **kwargs)\n",
    "        self.random_state = random_state\n",
    "        self.actual_splits = run_splits  # Number of actual splits to use\n",
    "\n",
    "    def split(self, X, y=None, groups=None):\n",
    "        folds = list(super().split(X, y, groups))\n",
    "        if self.random_state is not None:\n",
    "            random.seed(self.random_state)\n",
    "        selected_folds = random.sample(folds, self.actual_splits)\n",
    "        for train_index, test_index in selected_folds:\n",
    "            yield train_index, test_index\n",
    "\n",
    "    def get_n_splits(self, X=None, y=None, groups=None):\n",
    "        return self.actual_splits"
   ]
  },
  {
   "cell_type": "code",
   "execution_count": 20,
   "id": "22bfb0bd-67fd-4f19-a9ad-2c55a352a38b",
   "metadata": {},
   "outputs": [],
   "source": [
    "bayes_search_young = load('Results/BayesSearchAgeYoung20iter.joblib')"
   ]
  },
  {
   "cell_type": "code",
   "execution_count": 21,
   "id": "05504a78-1887-49da-8609-214046cdc793",
   "metadata": {},
   "outputs": [
    {
     "data": {
      "text/plain": [
       "mean_fit_time                                                     21.459076\n",
       "std_fit_time                                                       0.223054\n",
       "mean_score_time                                                    0.098571\n",
       "std_score_time                                                     0.001349\n",
       "param_gamma                                                        6.636085\n",
       "param_learning_rate                                                0.025191\n",
       "param_max_delta_step                                               3.066251\n",
       "param_max_depth                                                           8\n",
       "param_min_child_weight                                             0.033439\n",
       "param_n_estimators                                                     1136\n",
       "param_reg_alpha                                                    0.001001\n",
       "param_reg_lambda                                                   0.030391\n",
       "param_subsample                                                    0.797189\n",
       "params                    {'gamma': 6.6360850776123375, 'learning_rate':...\n",
       "split0_test_score                                                  0.347959\n",
       "split1_test_score                                                  0.355065\n",
       "split2_test_score                                                  0.353873\n",
       "mean_test_score                                                    0.352299\n",
       "std_test_score                                                     0.003107\n",
       "rank_test_score                                                           1\n",
       "split0_train_score                                                 0.427777\n",
       "split1_train_score                                                  0.42752\n",
       "split2_train_score                                                 0.427362\n",
       "mean_train_score                                                   0.427553\n",
       "std_train_score                                                    0.000171\n",
       "rank_train_score                                                          6\n",
       "Name: 8, dtype: object"
      ]
     },
     "execution_count": 21,
     "metadata": {},
     "output_type": "execute_result"
    }
   ],
   "source": [
    "CV_result = bayes_search_young.cv_results_\n",
    "pd.DataFrame(CV_result).sort_values(by='rank_test_score', ascending=True).iloc[0,:]"
   ]
  },
  {
   "cell_type": "code",
   "execution_count": 21,
   "id": "81446869-8f13-4ffb-8dd0-b990c369a3d6",
   "metadata": {},
   "outputs": [
    {
     "name": "stdout",
     "output_type": "stream",
     "text": [
      "Best parameters: OrderedDict([('gamma', 6.6360850776123375), ('learning_rate', 0.02519085390684862), ('max_delta_step', 3.0662510776734475), ('max_depth', 8), ('min_child_weight', 0.03343944487838535), ('n_estimators', 1136), ('reg_alpha', 0.001000562456331363), ('reg_lambda', 0.030390787275205566), ('subsample', 0.7971894567956928)])\n",
      "Best score: 0.3522986332513942\n"
     ]
    }
   ],
   "source": [
    "print(f\"Best parameters: {bayes_search_young.best_params_}\")\n",
    "print(f\"Best score: {bayes_search_young.best_score_}\")"
   ]
  },
  {
   "cell_type": "code",
   "execution_count": 22,
   "id": "8931bd2a-640f-46ba-a7b5-7653dc815a18",
   "metadata": {},
   "outputs": [
    {
     "data": {
      "text/plain": [
       "{'gamma': 6.6360850776123375,\n",
       " 'learning_rate': 0.02519085390684862,\n",
       " 'max_delta_step': 3.0662510776734475,\n",
       " 'max_depth': 8,\n",
       " 'min_child_weight': 0.03343944487838535,\n",
       " 'n_estimators': 1136,\n",
       " 'reg_alpha': 0.001000562456331363,\n",
       " 'reg_lambda': 0.030390787275205566,\n",
       " 'subsample': 0.7971894567956928}"
      ]
     },
     "execution_count": 22,
     "metadata": {},
     "output_type": "execute_result"
    }
   ],
   "source": [
    "dict(bayes_search_young.best_params_)"
   ]
  },
  {
   "cell_type": "code",
   "execution_count": 23,
   "id": "fb4c6fae-1b81-4806-8e2d-5cbdccf073ba",
   "metadata": {},
   "outputs": [],
   "source": [
    "young_xgb = xgb.XGBRegressor(objective='reg:squarederror',  device = 'cuda', tree_method='hist', random_state=42, enable_categorical=True, **bayes_search_young.best_params_)"
   ]
  },
  {
   "cell_type": "code",
   "execution_count": 24,
   "id": "34af5cc7-c923-4742-9fcd-6abfa60c1202",
   "metadata": {},
   "outputs": [],
   "source": [
    "kf = KFold(n_splits=10, shuffle=True, random_state=42)"
   ]
  },
  {
   "cell_type": "code",
   "execution_count": 25,
   "id": "9e9f15c0-bfbf-4f90-bdc1-8f46d08454da",
   "metadata": {},
   "outputs": [
    {
     "name": "stderr",
     "output_type": "stream",
     "text": [
      "/home/linux/anaconda3/envs/automl/lib/python3.9/site-packages/xgboost/core.py:160: UserWarning: [18:03:56] WARNING: /workspace/src/common/error_msg.cc:58: Falling back to prediction using DMatrix due to mismatched devices. This might lead to higher memory usage and slower performance. XGBoost is running on: cuda:0, while the input data is on: cpu.\n",
      "Potential solutions:\n",
      "- Use a data structure that matches the device ordinal in the booster.\n",
      "- Set the device for booster before call to inplace_predict.\n",
      "\n",
      "This warning will only be shown once.\n",
      "\n",
      "  warnings.warn(smsg, UserWarning)\n"
     ]
    }
   ],
   "source": [
    "scores = cross_val_score(young_xgb, Xy, yy, cv=kf, scoring='r2')"
   ]
  },
  {
   "cell_type": "code",
   "execution_count": 26,
   "id": "2567cc23-5968-4c62-9a7e-1850a76bea44",
   "metadata": {},
   "outputs": [
    {
     "data": {
      "text/plain": [
       "array([0.35506462, 0.34795873, 0.3542707 , 0.34943226, 0.35387255,\n",
       "       0.34925824, 0.35431603, 0.35241485, 0.35253019, 0.35508866])"
      ]
     },
     "execution_count": 26,
     "metadata": {},
     "output_type": "execute_result"
    }
   ],
   "source": [
    "scores"
   ]
  },
  {
   "cell_type": "code",
   "execution_count": 27,
   "id": "fc673dc3-0e04-40bd-8781-f749483c51ce",
   "metadata": {},
   "outputs": [
    {
     "data": {
      "text/html": [
       "<div>\n",
       "<style scoped>\n",
       "    .dataframe tbody tr th:only-of-type {\n",
       "        vertical-align: middle;\n",
       "    }\n",
       "\n",
       "    .dataframe tbody tr th {\n",
       "        vertical-align: top;\n",
       "    }\n",
       "\n",
       "    .dataframe thead th {\n",
       "        text-align: right;\n",
       "    }\n",
       "</style>\n",
       "<table border=\"1\" class=\"dataframe\">\n",
       "  <thead>\n",
       "    <tr style=\"text-align: right;\">\n",
       "      <th></th>\n",
       "      <th>wave</th>\n",
       "      <th>INCOME_2</th>\n",
       "      <th>Health_disable</th>\n",
       "      <th>Relative_have</th>\n",
       "      <th>Living_standard_change</th>\n",
       "      <th>Enough_food</th>\n",
       "      <th>Enough_shelter</th>\n",
       "      <th>Well_rested</th>\n",
       "      <th>Respected</th>\n",
       "      <th>Smile</th>\n",
       "      <th>...</th>\n",
       "      <th>Corruption_business</th>\n",
       "      <th>Corruption_government</th>\n",
       "      <th>Performance_leadership</th>\n",
       "      <th>Gender_female</th>\n",
       "      <th>Marital_status</th>\n",
       "      <th>Employment</th>\n",
       "      <th>Children_under15</th>\n",
       "      <th>Feeling_income</th>\n",
       "      <th>Income_level</th>\n",
       "      <th>COUNTRY_ISO3</th>\n",
       "    </tr>\n",
       "  </thead>\n",
       "  <tbody>\n",
       "    <tr>\n",
       "      <th>1562723</th>\n",
       "      <td>11</td>\n",
       "      <td>20170.734058</td>\n",
       "      <td>2.0</td>\n",
       "      <td>1.0</td>\n",
       "      <td>-1.0</td>\n",
       "      <td>0.0</td>\n",
       "      <td>0.0</td>\n",
       "      <td>1.0</td>\n",
       "      <td>1.0</td>\n",
       "      <td>1.0</td>\n",
       "      <td>...</td>\n",
       "      <td>1.0</td>\n",
       "      <td>1.0</td>\n",
       "      <td>0.0</td>\n",
       "      <td>1.0</td>\n",
       "      <td>1.0</td>\n",
       "      <td>6.0</td>\n",
       "      <td>0.0</td>\n",
       "      <td>2.0</td>\n",
       "      <td>1.0</td>\n",
       "      <td>LBN</td>\n",
       "    </tr>\n",
       "    <tr>\n",
       "      <th>708695</th>\n",
       "      <td>6</td>\n",
       "      <td>8664.458086</td>\n",
       "      <td>2.0</td>\n",
       "      <td>1.0</td>\n",
       "      <td>1.0</td>\n",
       "      <td>0.0</td>\n",
       "      <td>1.0</td>\n",
       "      <td>1.0</td>\n",
       "      <td>1.0</td>\n",
       "      <td>1.0</td>\n",
       "      <td>...</td>\n",
       "      <td>0.0</td>\n",
       "      <td>0.0</td>\n",
       "      <td>1.0</td>\n",
       "      <td>0.0</td>\n",
       "      <td>1.0</td>\n",
       "      <td>6.0</td>\n",
       "      <td>1.0</td>\n",
       "      <td>3.0</td>\n",
       "      <td>3.0</td>\n",
       "      <td>BWA</td>\n",
       "    </tr>\n",
       "    <tr>\n",
       "      <th>1828455</th>\n",
       "      <td>12</td>\n",
       "      <td>30706.925977</td>\n",
       "      <td>2.0</td>\n",
       "      <td>1.0</td>\n",
       "      <td>1.0</td>\n",
       "      <td>0.0</td>\n",
       "      <td>0.0</td>\n",
       "      <td>0.0</td>\n",
       "      <td>1.0</td>\n",
       "      <td>1.0</td>\n",
       "      <td>...</td>\n",
       "      <td>0.0</td>\n",
       "      <td>0.0</td>\n",
       "      <td>0.0</td>\n",
       "      <td>0.0</td>\n",
       "      <td>2.0</td>\n",
       "      <td>1.0</td>\n",
       "      <td>1.0</td>\n",
       "      <td>2.0</td>\n",
       "      <td>1.0</td>\n",
       "      <td>KWT</td>\n",
       "    </tr>\n",
       "    <tr>\n",
       "      <th>968859</th>\n",
       "      <td>7</td>\n",
       "      <td>4826.805232</td>\n",
       "      <td>1.0</td>\n",
       "      <td>1.0</td>\n",
       "      <td>1.0</td>\n",
       "      <td>0.0</td>\n",
       "      <td>0.0</td>\n",
       "      <td>1.0</td>\n",
       "      <td>1.0</td>\n",
       "      <td>1.0</td>\n",
       "      <td>...</td>\n",
       "      <td>0.0</td>\n",
       "      <td>1.0</td>\n",
       "      <td>0.0</td>\n",
       "      <td>0.0</td>\n",
       "      <td>8.0</td>\n",
       "      <td>1.0</td>\n",
       "      <td>1.0</td>\n",
       "      <td>3.0</td>\n",
       "      <td>4.0</td>\n",
       "      <td>HND</td>\n",
       "    </tr>\n",
       "    <tr>\n",
       "      <th>2375401</th>\n",
       "      <td>16</td>\n",
       "      <td>6999.233312</td>\n",
       "      <td>2.0</td>\n",
       "      <td>0.0</td>\n",
       "      <td>-1.0</td>\n",
       "      <td>1.0</td>\n",
       "      <td>1.0</td>\n",
       "      <td>1.0</td>\n",
       "      <td>1.0</td>\n",
       "      <td>1.0</td>\n",
       "      <td>...</td>\n",
       "      <td>1.0</td>\n",
       "      <td>1.0</td>\n",
       "      <td>0.0</td>\n",
       "      <td>0.0</td>\n",
       "      <td>1.0</td>\n",
       "      <td>6.0</td>\n",
       "      <td>0.0</td>\n",
       "      <td>2.0</td>\n",
       "      <td>4.0</td>\n",
       "      <td>THA</td>\n",
       "    </tr>\n",
       "  </tbody>\n",
       "</table>\n",
       "<p>5 rows × 62 columns</p>\n",
       "</div>"
      ],
      "text/plain": [
       "         wave      INCOME_2  Health_disable  Relative_have  \\\n",
       "1562723    11  20170.734058             2.0            1.0   \n",
       "708695      6   8664.458086             2.0            1.0   \n",
       "1828455    12  30706.925977             2.0            1.0   \n",
       "968859      7   4826.805232             1.0            1.0   \n",
       "2375401    16   6999.233312             2.0            0.0   \n",
       "\n",
       "         Living_standard_change  Enough_food  Enough_shelter  Well_rested  \\\n",
       "1562723                    -1.0          0.0             0.0          1.0   \n",
       "708695                      1.0          0.0             1.0          1.0   \n",
       "1828455                     1.0          0.0             0.0          0.0   \n",
       "968859                      1.0          0.0             0.0          1.0   \n",
       "2375401                    -1.0          1.0             1.0          1.0   \n",
       "\n",
       "         Respected  Smile  ...  Corruption_business  Corruption_government  \\\n",
       "1562723        1.0    1.0  ...                  1.0                    1.0   \n",
       "708695         1.0    1.0  ...                  0.0                    0.0   \n",
       "1828455        1.0    1.0  ...                  0.0                    0.0   \n",
       "968859         1.0    1.0  ...                  0.0                    1.0   \n",
       "2375401        1.0    1.0  ...                  1.0                    1.0   \n",
       "\n",
       "         Performance_leadership  Gender_female  Marital_status  Employment  \\\n",
       "1562723                     0.0            1.0             1.0         6.0   \n",
       "708695                      1.0            0.0             1.0         6.0   \n",
       "1828455                     0.0            0.0             2.0         1.0   \n",
       "968859                      0.0            0.0             8.0         1.0   \n",
       "2375401                     0.0            0.0             1.0         6.0   \n",
       "\n",
       "         Children_under15  Feeling_income  Income_level  COUNTRY_ISO3  \n",
       "1562723               0.0             2.0           1.0           LBN  \n",
       "708695                1.0             3.0           3.0           BWA  \n",
       "1828455               1.0             2.0           1.0           KWT  \n",
       "968859                1.0             3.0           4.0           HND  \n",
       "2375401               0.0             2.0           4.0           THA  \n",
       "\n",
       "[5 rows x 62 columns]"
      ]
     },
     "execution_count": 27,
     "metadata": {},
     "output_type": "execute_result"
    }
   ],
   "source": [
    "Xy.head()"
   ]
  },
  {
   "cell_type": "code",
   "execution_count": 28,
   "id": "0151c0d5-f18d-41a4-b975-5f2f3b1ffe2c",
   "metadata": {},
   "outputs": [
    {
     "data": {
      "text/plain": [
       "1562723    5.0\n",
       "708695     4.0\n",
       "1828455    2.0\n",
       "968859     8.0\n",
       "2375401    5.0\n",
       "Name: Cantril_ladder, dtype: float64"
      ]
     },
     "execution_count": 28,
     "metadata": {},
     "output_type": "execute_result"
    }
   ],
   "source": [
    "yy.head()"
   ]
  },
  {
   "cell_type": "code",
   "execution_count": 29,
   "id": "19bacff1-c918-4bc1-b3a9-26a868d91d36",
   "metadata": {},
   "outputs": [],
   "source": [
    "random.seed(42)"
   ]
  },
  {
   "cell_type": "code",
   "execution_count": 30,
   "id": "a849da23-e758-4564-a830-ff293788c6f0",
   "metadata": {},
   "outputs": [
    {
     "name": "stdout",
     "output_type": "stream",
     "text": [
      "[1824, 409, 4506, 4012, 3657, 2286, 1679, 1424, 6912, 520]\n"
     ]
    }
   ],
   "source": [
    "range_limit = 8192\n",
    "num_samples = 10\n",
    "sampled_integers = random.sample(range(range_limit), num_samples)\n",
    "print(sampled_integers)"
   ]
  },
  {
   "cell_type": "code",
   "execution_count": 31,
   "id": "6a956f3d-6bbf-4ac1-a00f-8955e25b9f5c",
   "metadata": {},
   "outputs": [],
   "source": [
    "X = Xy\n",
    "y = yy\n",
    "model = young_xgb"
   ]
  },
  {
   "cell_type": "code",
   "execution_count": 32,
   "id": "1ea51574-2874-46cf-ab3d-79dd4f5d490f",
   "metadata": {},
   "outputs": [
    {
     "name": "stdout",
     "output_type": "stream",
     "text": [
      "Mean R2: 0.3522217242009007\n",
      "Standard Deviation of R2: 0.0022207814425039512\n",
      "R2 list: [0.3474370255166309, 0.35521655837177646, 0.35165319106158, 0.35067460747097223, 0.35138379662532826, 0.3540339081742152, 0.35241274625247265, 0.3549953897773831, 0.3509755528862025, 0.35343446587244554]\n",
      "R2 Midlle list: [0.3982138540709379, 0.3983569705009914, 0.3983072309689749, 0.39848480070279435, 0.3984157591806865, 0.3982033491997027, 0.39821748333167106, 0.3983378707589823, 0.39842239401595225, 0.3982358477474731]\n",
      "R2 Old list: [0.3870935913400436, 0.38710960606034583, 0.38734082977209694, 0.3867929680475657, 0.3876853131057699, 0.38768512000982025, 0.38731615701745115, 0.3873881304044483, 0.38798766429080933, 0.3872558827749033]\n",
      "Mean R2: 0.3522713519389892\n",
      "Standard Deviation of R2: 0.0026598541055617457\n",
      "R2 list: [0.3494232206103729, 0.3481366358517979, 0.35685315233643045, 0.3519521127188906, 0.3551054290650789, 0.348838094329185, 0.3540616136691941, 0.352993025255785, 0.3532110966784241, 0.35213913887473214]\n",
      "R2 Midlle list: [0.39848585432027483, 0.3984342787198446, 0.39821562987720427, 0.3985875699352537, 0.3981263764780987, 0.3982535523683908, 0.3980793292119965, 0.3983626806258982, 0.3983380065512734, 0.39845007713422564]\n",
      "R2 Old list: [0.38773033021909065, 0.3880910657722827, 0.38682561965672346, 0.3875457579768352, 0.3871202350416171, 0.38745823024075776, 0.38729002584454486, 0.38747799893546087, 0.38674264605511177, 0.3872409665283052]\n",
      "Mean R2: 0.35241026774295287\n",
      "Standard Deviation of R2: 0.0025161887615944784\n",
      "R2 list: [0.349221387042971, 0.35720611120996193, 0.3520301555158245, 0.35225432166558057, 0.354497895231104, 0.35327282076700717, 0.3493641847502157, 0.35494116236601114, 0.3518906662557606, 0.3494239726250914]\n",
      "R2 Midlle list: [0.3981717954755125, 0.39816245136181716, 0.39806181818469843, 0.3982075352011857, 0.39838104082740833, 0.3984177580110708, 0.39823950290944865, 0.3986272697174451, 0.39824640445260706, 0.39829270355874336]\n",
      "R2 Old list: [0.38715957259272504, 0.38744725464797514, 0.3872555293889136, 0.387247627653451, 0.3872545424968573, 0.3869493697441523, 0.38755649264008507, 0.38737602183293685, 0.38717552228307384, 0.3879408171218277]\n",
      "Mean R2: 0.35245248590293093\n",
      "Standard Deviation of R2: 0.00250665397772542\n",
      "R2 list: [0.35315798838763857, 0.3514499037847493, 0.3496699323459449, 0.3493751851156581, 0.3508529713515077, 0.35250704059555027, 0.3532325552322757, 0.3510235240282016, 0.3552069335043221, 0.35804882468346144]\n",
      "R2 Midlle list: [0.3982903220864713, 0.39825119870274184, 0.3982370726295237, 0.39827416041337615, 0.398224160938191, 0.3983698131643746, 0.39847327819866873, 0.39837954523100716, 0.3985604859872194, 0.3983655729353579]\n",
      "R2 Old list: [0.3874330730310137, 0.3871958636436874, 0.38716193847574343, 0.38779685708194434, 0.3876898639888823, 0.38683546389199774, 0.388133012847077, 0.38675167521969256, 0.38721170955919815, 0.38701250173828816]\n",
      "Mean R2: 0.3522898160524935\n",
      "Standard Deviation of R2: 0.0029864149892454717\n",
      "R2 list: [0.3507773076581854, 0.3515549278894119, 0.3544489536028209, 0.35148734167075724, 0.3480300035890326, 0.35177672946149696, 0.35082993153367836, 0.3589595527059021, 0.3496949785145984, 0.35533843389905095]\n",
      "R2 Midlle list: [0.39856171002178864, 0.3984719566600462, 0.3985184269893507, 0.3981807950555226, 0.39824387635965486, 0.39844601023487725, 0.39841777527528077, 0.3983585182189797, 0.3979696583405321, 0.39815923992012003]\n",
      "R2 Old list: [0.38746217688731754, 0.3875387150666879, 0.3870386514190616, 0.3877213869377879, 0.38782053580063114, 0.3881944434321227, 0.387045345720445, 0.3868178923579615, 0.38779551679952307, 0.3866421774881533]\n",
      "Mean R2: 0.352159625554765\n",
      "Standard Deviation of R2: 0.0019377489978838246\n",
      "R2 list: [0.3508730003309982, 0.3514315414758816, 0.3518613797228972, 0.3534420781692521, 0.35251459985781575, 0.35460202628169335, 0.34993342824663687, 0.3561859463424003, 0.3504442957719337, 0.35030795934814074]\n",
      "R2 Midlle list: [0.3979705449160055, 0.39818320639218807, 0.3981965041175939, 0.3981027107884363, 0.3984268147742911, 0.3984912855490016, 0.398486844490184, 0.3982648267775315, 0.398401481956016, 0.398269492323313]\n",
      "R2 Old list: [0.3870684062123082, 0.3871456646971825, 0.38736097281493354, 0.3874399769696706, 0.38722278137586497, 0.38670865778800834, 0.38679654094396054, 0.38766537242234445, 0.38759480096610366, 0.3874074429788382]\n",
      "Mean R2: 0.3523346874833687\n",
      "Standard Deviation of R2: 0.003263873651457144\n",
      "R2 list: [0.3547215386907129, 0.3554349443616045, 0.35006306774202967, 0.3531144864624771, 0.3505153643907061, 0.34901798247750315, 0.347239943655143, 0.3557402091948568, 0.3575956351040189, 0.34990370275463467]\n",
      "R2 Midlle list: [0.3983767109967854, 0.3985499563081919, 0.39837133935559843, 0.3980968393525497, 0.39826308594176385, 0.3979965967885989, 0.39842038620980835, 0.39829287715222494, 0.3981594362844856, 0.3984316215868281]\n",
      "R2 Old list: [0.3877087209798066, 0.3875273839216312, 0.3879220236557841, 0.38677538097541786, 0.3871082799415507, 0.3871533271321326, 0.38734961531629164, 0.3875365026044959, 0.38726247489493537, 0.3872127261133581]\n",
      "Mean R2: 0.3522103146093485\n",
      "Standard Deviation of R2: 0.0034709030894560277\n",
      "R2 list: [0.3521056792439913, 0.35120601967130816, 0.35493270589358317, 0.35574804593394727, 0.3497760071354864, 0.3481223113538583, 0.34505349564984744, 0.35448515789901325, 0.3546505736431771, 0.3560231496692724]\n",
      "R2 Midlle list: [0.3981538008678903, 0.3981556523055373, 0.3982302383450812, 0.39835339617984067, 0.39796731301714716, 0.3984384997931625, 0.39856826799786516, 0.39836575539420627, 0.39847577647641497, 0.3985139410632047]\n",
      "R2 Old list: [0.387650729074528, 0.3874621095542875, 0.3872513901136675, 0.3875964270438006, 0.38701217979928704, 0.387339421380995, 0.3873213662031346, 0.38729622239025674, 0.3874823283990654, 0.38754606672976855]\n",
      "Mean R2: 0.35232897414591535\n",
      "Standard Deviation of R2: 0.0038818690892207194\n",
      "R2 list: [0.3450809167138824, 0.35412830620718205, 0.35553264729299494, 0.3511342827937526, 0.35189014216941816, 0.3530920545871169, 0.3604189581698062, 0.3496899015527011, 0.34924922006903625, 0.3530733119032632]\n",
      "R2 Midlle list: [0.3986087367254646, 0.39817519272476265, 0.3984178860648968, 0.398437567902192, 0.3981132039815042, 0.39833091540161214, 0.3983435359527714, 0.3984035937174498, 0.3983348413213399, 0.39825664969608887]\n",
      "R2 Old list: [0.3882255771243781, 0.386649574469215, 0.38792862131473127, 0.3882508522609438, 0.38600989504052996, 0.3872508206897134, 0.3871762271607171, 0.3877562482863742, 0.38709152285274895, 0.3874641577770578]\n",
      "Mean R2: 0.352262229794852\n",
      "Standard Deviation of R2: 0.0014644145518193082\n",
      "R2 list: [0.35326107576799093, 0.35324275692404417, 0.352579949380585, 0.3541793277726609, 0.34916056752912306, 0.3531711366792457, 0.35259178722807427, 0.35280449906926115, 0.35139663046503733, 0.3502345671324978]\n",
      "R2 Midlle list: [0.39824948441751884, 0.3985380235665955, 0.39821332379600216, 0.39833412936550683, 0.39826969607598817, 0.3985864716753619, 0.3986024196103304, 0.3983285374134016, 0.39813269199444434, 0.39836473874429257]\n",
      "R2 Old list: [0.3877493597992776, 0.3873391437708307, 0.38733087396174215, 0.38721784062780473, 0.38764019778182257, 0.3873252087640122, 0.38773774120179805, 0.38807451790022374, 0.38709342101223676, 0.3870843516713236]\n"
     ]
    }
   ],
   "source": [
    "m_prediction_list = [np.array(ym.index), np.array(ym.to_list())]\n",
    "o_prediction_list = [np.array(yo.index), np.array(yo.to_list())]\n",
    "fold_predictions_array_list = []\n",
    "r2_scores_list = []\n",
    "r2m_scores_list = []\n",
    "r2o_scores_list = []\n",
    "\n",
    "for i, random_integer in enumerate(sampled_integers):\n",
    "    kf = KFold(n_splits=10, shuffle=True, random_state=random_integer)\n",
    "    \n",
    "    r2_scores = []\n",
    "    r2m_scores = []\n",
    "    r2o_scores = []\n",
    "    fold_predictions = []\n",
    "    # Perform cross-validation\n",
    "    for train_index, test_index in kf.split(X):\n",
    "        X_train, X_test = X.iloc[train_index, :], X.iloc[test_index, :]\n",
    "        y_train, y_test = y.iloc[train_index], y.iloc[test_index]\n",
    "        \n",
    "        # Train the model\n",
    "        model.fit(X_train, y_train)\n",
    "        \n",
    "        # Make predictions\n",
    "        y_pred = model.predict(X_test)\n",
    "        \n",
    "        # Evaluate the model\n",
    "        r2 = r2_score(y_test, y_pred)\n",
    "        r2_scores.append(r2)\n",
    "        this_folder = np.array([y_test.index, y_test, y_pred]).T\n",
    "        fold_predictions.append(this_folder)\n",
    "    \n",
    "        # Middle Predict\n",
    "        ym_pred = model.predict(Xm)\n",
    "        m_prediction_list.append(ym_pred)\n",
    "        r2m = r2_score(ym, ym_pred)\n",
    "        r2m_scores.append(r2m)\n",
    "        \n",
    "        # Old Predict\n",
    "        yo_pred = model.predict(Xo)\n",
    "        o_prediction_list.append(yo_pred)\n",
    "        r2o = r2_score(yo, yo_pred)\n",
    "        r2o_scores.append(r2o)\n",
    "    \n",
    "    print(f\"Mean R2: {np.mean(r2_scores)}\")\n",
    "    print(f\"Standard Deviation of R2: {np.std(r2_scores)}\")\n",
    "    print(f\"R2 list: {r2_scores}\")\n",
    "    print(f\"R2 Midlle list: {r2m_scores}\")\n",
    "    print(f\"R2 Old list: {r2o_scores}\")\n",
    "    \n",
    "    fold_predictions_array = pd.DataFrame(np.concatenate(fold_predictions, axis = 0), columns = ['index', 'Real_y', f'Predict_y_{i}'])\n",
    "    fold_predictions_array_list.append(fold_predictions_array)\n",
    "    r2_scores_list.append(r2_scores)\n",
    "    r2m_scores_list.append(r2m_scores)\n",
    "    r2o_scores_list.append(r2o_scores)"
   ]
  },
  {
   "cell_type": "code",
   "execution_count": 26,
   "id": "010d9039-0b09-4771-8bdb-e212f7c2af56",
   "metadata": {},
   "outputs": [],
   "source": [
    "r2_list = [0.3474370255166309, 0.35521655837177646, 0.35165319106158, 0.35067460747097223, 0.35138379662532826, \n",
    " 0.3540339081742152, 0.35241274625247265, 0.3549953897773831, 0.3509755528862025, 0.35343446587244554] + \\\n",
    "[0.3494232206103729, 0.3481366358517979, 0.35685315233643045, 0.3519521127188906, 0.3551054290650789, \n",
    " 0.348838094329185, 0.3540616136691941, 0.352993025255785, 0.3532110966784241, 0.35213913887473214] + \\\n",
    "[0.349221387042971, 0.35720611120996193, 0.3520301555158245, 0.35225432166558057, 0.354497895231104, \n",
    " 0.35327282076700717, 0.3493641847502157, 0.35494116236601114, 0.3518906662557606, 0.3494239726250914] + \\\n",
    "[0.35315798838763857, 0.3514499037847493, 0.3496699323459449, 0.3493751851156581, 0.3508529713515077, \n",
    " 0.35250704059555027, 0.3532325552322757, 0.3510235240282016, 0.3552069335043221, 0.35804882468346144] + \\\n",
    "[0.3507773076581854, 0.3515549278894119, 0.3544489536028209, 0.35148734167075724, 0.3480300035890326, \n",
    " 0.35177672946149696, 0.35082993153367836, 0.3589595527059021, 0.3496949785145984, 0.35533843389905095] + \\\n",
    "[0.3508730003309982, 0.3514315414758816, 0.3518613797228972, 0.3534420781692521, 0.35251459985781575, \n",
    " 0.35460202628169335, 0.34993342824663687, 0.3561859463424003, 0.3504442957719337, 0.35030795934814074] + \\\n",
    "[0.3547215386907129, 0.3554349443616045, 0.35006306774202967, 0.3531144864624771, 0.3505153643907061, \n",
    " 0.34901798247750315, 0.347239943655143, 0.3557402091948568, 0.3575956351040189, 0.34990370275463467] + \\\n",
    "[0.3521056792439913, 0.35120601967130816, 0.35493270589358317, 0.35574804593394727, 0.3497760071354864, \n",
    " 0.3481223113538583, 0.34505349564984744, 0.35448515789901325, 0.3546505736431771, 0.3560231496692724] + \\\n",
    "[0.3450809167138824, 0.35412830620718205, 0.35553264729299494, 0.3511342827937526, 0.35189014216941816, \n",
    " 0.3530920545871169, 0.3604189581698062, 0.3496899015527011, 0.34924922006903625, 0.3530733119032632] + \\\n",
    "[0.35326107576799093, 0.35324275692404417, 0.352579949380585, 0.3541793277726609, 0.34916056752912306, \n",
    " 0.3531711366792457, 0.35259178722807427, 0.35280449906926115, 0.35139663046503733, 0.3502345671324978]"
   ]
  },
  {
   "cell_type": "code",
   "execution_count": 27,
   "id": "acfb7a8f-3ea7-437d-8710-b1b7b79fbd47",
   "metadata": {},
   "outputs": [
    {
     "data": {
      "text/plain": [
       "0.3522941477426516"
      ]
     },
     "execution_count": 27,
     "metadata": {},
     "output_type": "execute_result"
    }
   ],
   "source": [
    "np.mean(r2_list)"
   ]
  },
  {
   "cell_type": "code",
   "execution_count": 28,
   "id": "39d936a1-8c6e-47ea-aa9c-761d4d2a8e79",
   "metadata": {},
   "outputs": [
    {
     "data": {
      "text/plain": [
       "0.3604189581698062"
      ]
     },
     "execution_count": 28,
     "metadata": {},
     "output_type": "execute_result"
    }
   ],
   "source": [
    "np.max(r2_list)"
   ]
  },
  {
   "cell_type": "code",
   "execution_count": 29,
   "id": "2453e451-6ea0-46cc-bbc2-f9181c74e3ac",
   "metadata": {},
   "outputs": [
    {
     "data": {
      "text/plain": [
       "0.34505349564984744"
      ]
     },
     "execution_count": 29,
     "metadata": {},
     "output_type": "execute_result"
    }
   ],
   "source": [
    "np.min(r2_list)"
   ]
  },
  {
   "cell_type": "code",
   "execution_count": 30,
   "id": "6c786d23-680f-4c97-9139-11bb8af9e356",
   "metadata": {},
   "outputs": [
    {
     "data": {
      "text/plain": [
       "0.002779956017533995"
      ]
     },
     "execution_count": 30,
     "metadata": {},
     "output_type": "execute_result"
    }
   ],
   "source": [
    "np.std(r2_list)"
   ]
  },
  {
   "cell_type": "code",
   "execution_count": 31,
   "id": "36b092c1-7718-40cf-95d8-b7229788637f",
   "metadata": {},
   "outputs": [],
   "source": [
    "r2_midle_list = [0.3982138540709379, 0.3983569705009914, 0.3983072309689749, 0.39848480070279435, 0.3984157591806865, \n",
    "                 0.3982033491997027, 0.39821748333167106, 0.3983378707589823, 0.39842239401595225, 0.3982358477474731] + \\\n",
    "[0.39848585432027483, 0.3984342787198446, 0.39821562987720427, 0.3985875699352537, 0.3981263764780987, \n",
    " 0.3982535523683908, 0.3980793292119965, 0.3983626806258982, 0.3983380065512734, 0.39845007713422564] + \\\n",
    "[0.3981717954755125, 0.39816245136181716, 0.39806181818469843, 0.3982075352011857, 0.39838104082740833,\n",
    " 0.3984177580110708, 0.39823950290944865, 0.3986272697174451, 0.39824640445260706, 0.39829270355874336] + \\\n",
    " [0.3982903220864713, 0.39825119870274184, 0.3982370726295237, 0.39827416041337615, 0.398224160938191, \n",
    "  0.3983698131643746, 0.39847327819866873, 0.39837954523100716, 0.3985604859872194, 0.3983655729353579] + \\\n",
    "[0.39856171002178864, 0.3984719566600462, 0.3985184269893507, 0.3981807950555226, 0.39824387635965486, \n",
    " 0.39844601023487725, 0.39841777527528077, 0.3983585182189797, 0.3979696583405321, 0.39815923992012003] + \\\n",
    "[0.3979705449160055, 0.39818320639218807, 0.3981965041175939, 0.3981027107884363, 0.3984268147742911, \n",
    " 0.3984912855490016, 0.398486844490184, 0.3982648267775315, 0.398401481956016, 0.398269492323313] + \\\n",
    "[0.3983767109967854, 0.3985499563081919, 0.39837133935559843, 0.3980968393525497, 0.39826308594176385, \n",
    " 0.3979965967885989, 0.39842038620980835, 0.39829287715222494, 0.3981594362844856, 0.3984316215868281] + \\\n",
    "[0.3981538008678903, 0.3981556523055373, 0.3982302383450812, 0.39835339617984067, 0.39796731301714716, \n",
    " 0.3984384997931625, 0.39856826799786516, 0.39836575539420627, 0.39847577647641497, 0.3985139410632047] + \\\n",
    "[0.3986087367254646, 0.39817519272476265, 0.3984178860648968, 0.398437567902192, 0.3981132039815042, \n",
    " 0.39833091540161214, 0.3983435359527714, 0.3984035937174498, 0.3983348413213399, 0.39825664969608887] + \\\n",
    "[0.39824948441751884, 0.3985380235665955, 0.39821332379600216, 0.39833412936550683, 0.39826969607598817, \n",
    " 0.3985864716753619, 0.3986024196103304, 0.3983285374134016, 0.39813269199444434, 0.39836473874429257]"
   ]
  },
  {
   "cell_type": "code",
   "execution_count": 32,
   "id": "877a5c92-2b9c-4e5d-a8f7-841d77badfeb",
   "metadata": {},
   "outputs": [
    {
     "data": {
      "text/plain": [
       "0.39832107616412915"
      ]
     },
     "execution_count": 32,
     "metadata": {},
     "output_type": "execute_result"
    }
   ],
   "source": [
    "np.mean(r2_midle_list)"
   ]
  },
  {
   "cell_type": "code",
   "execution_count": 33,
   "id": "26ae086b-46c4-4d9f-9e9f-0cf1891ea12b",
   "metadata": {},
   "outputs": [
    {
     "data": {
      "text/plain": [
       "0.3986272697174451"
      ]
     },
     "execution_count": 33,
     "metadata": {},
     "output_type": "execute_result"
    }
   ],
   "source": [
    "np.max(r2_midle_list)"
   ]
  },
  {
   "cell_type": "code",
   "execution_count": 34,
   "id": "e52b105e-ad7e-403b-8885-85923c01a23a",
   "metadata": {},
   "outputs": [
    {
     "data": {
      "text/plain": [
       "0.39796731301714716"
      ]
     },
     "execution_count": 34,
     "metadata": {},
     "output_type": "execute_result"
    }
   ],
   "source": [
    "np.min(r2_midle_list)"
   ]
  },
  {
   "cell_type": "code",
   "execution_count": 35,
   "id": "7b719c0e-9202-4afa-9217-75ca450a595a",
   "metadata": {},
   "outputs": [
    {
     "data": {
      "text/plain": [
       "0.0001525938184977891"
      ]
     },
     "execution_count": 35,
     "metadata": {},
     "output_type": "execute_result"
    }
   ],
   "source": [
    "np.std(r2_midle_list)"
   ]
  },
  {
   "cell_type": "code",
   "execution_count": 36,
   "id": "e24f559e-e0ba-48b2-acd3-1a3919ff4f49",
   "metadata": {},
   "outputs": [],
   "source": [
    "r2_old_list = [0.3870935913400436, 0.38710960606034583, 0.38734082977209694, 0.3867929680475657, 0.3876853131057699, \n",
    "               0.38768512000982025, 0.38731615701745115, 0.3873881304044483, 0.38798766429080933, 0.3872558827749033] + \\\n",
    "[0.38773033021909065, 0.3880910657722827, 0.38682561965672346, 0.3875457579768352, 0.3871202350416171, \n",
    " 0.38745823024075776, 0.38729002584454486, 0.38747799893546087, 0.38674264605511177, 0.3872409665283052] + \\\n",
    "[0.38715957259272504, 0.38744725464797514, 0.3872555293889136, 0.387247627653451, 0.3872545424968573, \n",
    " 0.3869493697441523, 0.38755649264008507, 0.38737602183293685, 0.38717552228307384, 0.3879408171218277] + \\\n",
    "[0.3874330730310137, 0.3871958636436874, 0.38716193847574343, 0.38779685708194434, 0.3876898639888823, \n",
    " 0.38683546389199774, 0.388133012847077, 0.38675167521969256, 0.38721170955919815, 0.38701250173828816] + \\\n",
    "[0.38746217688731754, 0.3875387150666879, 0.3870386514190616, 0.3877213869377879, 0.38782053580063114, \n",
    " 0.3881944434321227, 0.387045345720445, 0.3868178923579615, 0.38779551679952307, 0.3866421774881533] + \\\n",
    "[0.3870684062123082, 0.3871456646971825, 0.38736097281493354, 0.3874399769696706, 0.38722278137586497, \n",
    " 0.38670865778800834, 0.38679654094396054, 0.38766537242234445, 0.38759480096610366, 0.3874074429788382] + \\\n",
    "[0.3877087209798066, 0.3875273839216312, 0.3879220236557841, 0.38677538097541786, 0.3871082799415507, \n",
    " 0.3871533271321326, 0.38734961531629164, 0.3875365026044959, 0.38726247489493537, 0.3872127261133581] + \\\n",
    "[0.387650729074528, 0.3874621095542875, 0.3872513901136675, 0.3875964270438006, 0.38701217979928704, \n",
    " 0.387339421380995, 0.3873213662031346, 0.38729622239025674, 0.3874823283990654, 0.38754606672976855] + \\\n",
    "[0.3882255771243781, 0.386649574469215, 0.38792862131473127, 0.3882508522609438, 0.38600989504052996, \n",
    " 0.3872508206897134, 0.3871762271607171, 0.3877562482863742, 0.38709152285274895, 0.3874641577770578] + \\\n",
    "[0.3877493597992776, 0.3873391437708307, 0.38733087396174215, 0.38721784062780473, 0.38764019778182257, \n",
    " 0.3873252087640122, 0.38773774120179805, 0.38807451790022374, 0.38709342101223676, 0.3870843516713236]"
   ]
  },
  {
   "cell_type": "code",
   "execution_count": 37,
   "id": "183b6b49-682b-4b6f-a502-ac2a17a0c09e",
   "metadata": {},
   "outputs": [
    {
     "data": {
      "text/plain": [
       "0.3873616113774409"
      ]
     },
     "execution_count": 37,
     "metadata": {},
     "output_type": "execute_result"
    }
   ],
   "source": [
    "np.mean(r2_old_list)"
   ]
  },
  {
   "cell_type": "code",
   "execution_count": 38,
   "id": "e358475b-099c-4d57-acca-f46574c53024",
   "metadata": {},
   "outputs": [
    {
     "data": {
      "text/plain": [
       "0.3882508522609438"
      ]
     },
     "execution_count": 38,
     "metadata": {},
     "output_type": "execute_result"
    }
   ],
   "source": [
    "np.max(r2_old_list)"
   ]
  },
  {
   "cell_type": "code",
   "execution_count": 39,
   "id": "52860788-3b63-49b0-845c-cbc122a7c6a1",
   "metadata": {},
   "outputs": [
    {
     "data": {
      "text/plain": [
       "0.38600989504052996"
      ]
     },
     "execution_count": 39,
     "metadata": {},
     "output_type": "execute_result"
    }
   ],
   "source": [
    "np.min(r2_old_list)"
   ]
  },
  {
   "cell_type": "code",
   "execution_count": 40,
   "id": "4aeb6868-1861-4a49-90cb-42bbff7c3ba5",
   "metadata": {},
   "outputs": [
    {
     "data": {
      "text/plain": [
       "0.00038914839255171067"
      ]
     },
     "execution_count": 40,
     "metadata": {},
     "output_type": "execute_result"
    }
   ],
   "source": [
    "np.std(r2_old_list)"
   ]
  },
  {
   "cell_type": "code",
   "execution_count": null,
   "id": "f6ff49d5-b079-4242-a15f-918ce6a26b97",
   "metadata": {},
   "outputs": [],
   "source": []
  },
  {
   "cell_type": "markdown",
   "id": "4b562a62-874f-4eb7-be69-02a6982fd009",
   "metadata": {},
   "source": [
    "### Young Model Middle Prediction"
   ]
  },
  {
   "cell_type": "markdown",
   "id": "01a963cb-de4b-4a8a-b8a5-7cb6416f970d",
   "metadata": {},
   "source": [
    "Prediction is average of 10 fold * 10 times"
   ]
  },
  {
   "cell_type": "code",
   "execution_count": 33,
   "id": "42043ba8-6ba9-452c-8952-93fb66818d10",
   "metadata": {},
   "outputs": [],
   "source": [
    "column_list = ['index', 'Real_y']\n",
    "for num in list(range(0, 10*10)):\n",
    "    column_list.append(f'Predict_y_{num}')\n",
    "middle_preidiction_df = pd.DataFrame(np.array(m_prediction_list).T, columns = column_list)"
   ]
  },
  {
   "cell_type": "code",
   "execution_count": 34,
   "id": "f6c146c3-4ef5-474e-a9b2-2b5679b0e474",
   "metadata": {},
   "outputs": [
    {
     "data": {
      "text/html": [
       "<div>\n",
       "<style scoped>\n",
       "    .dataframe tbody tr th:only-of-type {\n",
       "        vertical-align: middle;\n",
       "    }\n",
       "\n",
       "    .dataframe tbody tr th {\n",
       "        vertical-align: top;\n",
       "    }\n",
       "\n",
       "    .dataframe thead th {\n",
       "        text-align: right;\n",
       "    }\n",
       "</style>\n",
       "<table border=\"1\" class=\"dataframe\">\n",
       "  <thead>\n",
       "    <tr style=\"text-align: right;\">\n",
       "      <th></th>\n",
       "      <th>index</th>\n",
       "      <th>Real_y</th>\n",
       "      <th>Predict_y_0</th>\n",
       "      <th>Predict_y_1</th>\n",
       "      <th>Predict_y_2</th>\n",
       "      <th>Predict_y_3</th>\n",
       "      <th>Predict_y_4</th>\n",
       "      <th>Predict_y_5</th>\n",
       "      <th>Predict_y_6</th>\n",
       "      <th>Predict_y_7</th>\n",
       "      <th>...</th>\n",
       "      <th>Predict_y_90</th>\n",
       "      <th>Predict_y_91</th>\n",
       "      <th>Predict_y_92</th>\n",
       "      <th>Predict_y_93</th>\n",
       "      <th>Predict_y_94</th>\n",
       "      <th>Predict_y_95</th>\n",
       "      <th>Predict_y_96</th>\n",
       "      <th>Predict_y_97</th>\n",
       "      <th>Predict_y_98</th>\n",
       "      <th>Predict_y_99</th>\n",
       "    </tr>\n",
       "  </thead>\n",
       "  <tbody>\n",
       "    <tr>\n",
       "      <th>0</th>\n",
       "      <td>1469152.0</td>\n",
       "      <td>7.0</td>\n",
       "      <td>6.400946</td>\n",
       "      <td>6.555736</td>\n",
       "      <td>6.466240</td>\n",
       "      <td>6.440830</td>\n",
       "      <td>6.466629</td>\n",
       "      <td>6.285450</td>\n",
       "      <td>6.507310</td>\n",
       "      <td>6.292445</td>\n",
       "      <td>...</td>\n",
       "      <td>6.539925</td>\n",
       "      <td>6.556092</td>\n",
       "      <td>6.409082</td>\n",
       "      <td>6.523125</td>\n",
       "      <td>6.426798</td>\n",
       "      <td>6.348955</td>\n",
       "      <td>6.437340</td>\n",
       "      <td>6.451184</td>\n",
       "      <td>6.497902</td>\n",
       "      <td>6.423701</td>\n",
       "    </tr>\n",
       "    <tr>\n",
       "      <th>1</th>\n",
       "      <td>831522.0</td>\n",
       "      <td>5.0</td>\n",
       "      <td>3.384124</td>\n",
       "      <td>3.360096</td>\n",
       "      <td>3.413772</td>\n",
       "      <td>3.442470</td>\n",
       "      <td>3.163432</td>\n",
       "      <td>3.637131</td>\n",
       "      <td>3.342038</td>\n",
       "      <td>3.245346</td>\n",
       "      <td>...</td>\n",
       "      <td>3.383887</td>\n",
       "      <td>3.331268</td>\n",
       "      <td>3.424055</td>\n",
       "      <td>3.325405</td>\n",
       "      <td>3.423450</td>\n",
       "      <td>3.302390</td>\n",
       "      <td>3.548165</td>\n",
       "      <td>3.321219</td>\n",
       "      <td>3.316379</td>\n",
       "      <td>3.297112</td>\n",
       "    </tr>\n",
       "    <tr>\n",
       "      <th>2</th>\n",
       "      <td>1938251.0</td>\n",
       "      <td>2.0</td>\n",
       "      <td>4.370151</td>\n",
       "      <td>4.441043</td>\n",
       "      <td>4.409160</td>\n",
       "      <td>4.503329</td>\n",
       "      <td>4.556055</td>\n",
       "      <td>4.426740</td>\n",
       "      <td>4.470988</td>\n",
       "      <td>4.186167</td>\n",
       "      <td>...</td>\n",
       "      <td>4.389811</td>\n",
       "      <td>4.546682</td>\n",
       "      <td>4.543580</td>\n",
       "      <td>4.243330</td>\n",
       "      <td>4.468473</td>\n",
       "      <td>4.254834</td>\n",
       "      <td>4.477594</td>\n",
       "      <td>4.339351</td>\n",
       "      <td>4.316685</td>\n",
       "      <td>4.351960</td>\n",
       "    </tr>\n",
       "    <tr>\n",
       "      <th>3</th>\n",
       "      <td>1836183.0</td>\n",
       "      <td>10.0</td>\n",
       "      <td>7.194324</td>\n",
       "      <td>7.140410</td>\n",
       "      <td>7.165401</td>\n",
       "      <td>7.259960</td>\n",
       "      <td>7.176110</td>\n",
       "      <td>7.122205</td>\n",
       "      <td>7.076654</td>\n",
       "      <td>7.207380</td>\n",
       "      <td>...</td>\n",
       "      <td>7.215580</td>\n",
       "      <td>7.179533</td>\n",
       "      <td>7.067491</td>\n",
       "      <td>7.226800</td>\n",
       "      <td>7.159401</td>\n",
       "      <td>7.181217</td>\n",
       "      <td>7.148418</td>\n",
       "      <td>7.163084</td>\n",
       "      <td>7.195183</td>\n",
       "      <td>7.212948</td>\n",
       "    </tr>\n",
       "    <tr>\n",
       "      <th>4</th>\n",
       "      <td>1653464.0</td>\n",
       "      <td>3.0</td>\n",
       "      <td>6.498404</td>\n",
       "      <td>6.622296</td>\n",
       "      <td>6.525658</td>\n",
       "      <td>6.538016</td>\n",
       "      <td>6.547456</td>\n",
       "      <td>6.663548</td>\n",
       "      <td>6.587179</td>\n",
       "      <td>6.474920</td>\n",
       "      <td>...</td>\n",
       "      <td>6.398673</td>\n",
       "      <td>6.609694</td>\n",
       "      <td>6.371307</td>\n",
       "      <td>6.800985</td>\n",
       "      <td>6.451802</td>\n",
       "      <td>6.665865</td>\n",
       "      <td>6.332347</td>\n",
       "      <td>6.701022</td>\n",
       "      <td>6.627069</td>\n",
       "      <td>6.530715</td>\n",
       "    </tr>\n",
       "  </tbody>\n",
       "</table>\n",
       "<p>5 rows × 102 columns</p>\n",
       "</div>"
      ],
      "text/plain": [
       "       index  Real_y  Predict_y_0  Predict_y_1  Predict_y_2  Predict_y_3  \\\n",
       "0  1469152.0     7.0     6.400946     6.555736     6.466240     6.440830   \n",
       "1   831522.0     5.0     3.384124     3.360096     3.413772     3.442470   \n",
       "2  1938251.0     2.0     4.370151     4.441043     4.409160     4.503329   \n",
       "3  1836183.0    10.0     7.194324     7.140410     7.165401     7.259960   \n",
       "4  1653464.0     3.0     6.498404     6.622296     6.525658     6.538016   \n",
       "\n",
       "   Predict_y_4  Predict_y_5  Predict_y_6  Predict_y_7  ...  Predict_y_90  \\\n",
       "0     6.466629     6.285450     6.507310     6.292445  ...      6.539925   \n",
       "1     3.163432     3.637131     3.342038     3.245346  ...      3.383887   \n",
       "2     4.556055     4.426740     4.470988     4.186167  ...      4.389811   \n",
       "3     7.176110     7.122205     7.076654     7.207380  ...      7.215580   \n",
       "4     6.547456     6.663548     6.587179     6.474920  ...      6.398673   \n",
       "\n",
       "   Predict_y_91  Predict_y_92  Predict_y_93  Predict_y_94  Predict_y_95  \\\n",
       "0      6.556092      6.409082      6.523125      6.426798      6.348955   \n",
       "1      3.331268      3.424055      3.325405      3.423450      3.302390   \n",
       "2      4.546682      4.543580      4.243330      4.468473      4.254834   \n",
       "3      7.179533      7.067491      7.226800      7.159401      7.181217   \n",
       "4      6.609694      6.371307      6.800985      6.451802      6.665865   \n",
       "\n",
       "   Predict_y_96  Predict_y_97  Predict_y_98  Predict_y_99  \n",
       "0      6.437340      6.451184      6.497902      6.423701  \n",
       "1      3.548165      3.321219      3.316379      3.297112  \n",
       "2      4.477594      4.339351      4.316685      4.351960  \n",
       "3      7.148418      7.163084      7.195183      7.212948  \n",
       "4      6.332347      6.701022      6.627069      6.530715  \n",
       "\n",
       "[5 rows x 102 columns]"
      ]
     },
     "execution_count": 34,
     "metadata": {},
     "output_type": "execute_result"
    }
   ],
   "source": [
    "middle_preidiction_df.head()"
   ]
  },
  {
   "cell_type": "code",
   "execution_count": 35,
   "id": "34b06aeb-f359-48a0-94a7-b6a477074aad",
   "metadata": {},
   "outputs": [],
   "source": [
    "middle_preidiction_df['Predict_y'] = middle_preidiction_df.iloc[:,2:103].mean(axis = 1)"
   ]
  },
  {
   "cell_type": "code",
   "execution_count": 36,
   "id": "b4fe1a88-be29-4903-ad49-79358683eda6",
   "metadata": {},
   "outputs": [
    {
     "data": {
      "text/plain": [
       "0    6.447419\n",
       "1    3.354689\n",
       "2    4.419019\n",
       "3    7.147924\n",
       "4    6.521834\n",
       "Name: Predict_y, dtype: float64"
      ]
     },
     "execution_count": 36,
     "metadata": {},
     "output_type": "execute_result"
    }
   ],
   "source": [
    "middle_preidiction_df['Predict_y'].head()"
   ]
  },
  {
   "cell_type": "code",
   "execution_count": 37,
   "id": "cbe8f587-adea-4d56-ae9c-d8abd59a251a",
   "metadata": {},
   "outputs": [],
   "source": [
    "middle_preidiction_df = middle_preidiction_df[['index', 'Real_y', 'Predict_y']]"
   ]
  },
  {
   "cell_type": "code",
   "execution_count": 38,
   "id": "93558297-3df6-4b39-ac1f-70cd7313c16b",
   "metadata": {},
   "outputs": [],
   "source": [
    "middle_preidiction_df['index'] = middle_preidiction_df['index'].astype(int)"
   ]
  },
  {
   "cell_type": "code",
   "execution_count": 39,
   "id": "f0a4e8b0-b8a5-4d48-a778-35dad4832888",
   "metadata": {},
   "outputs": [
    {
     "data": {
      "text/html": [
       "<div>\n",
       "<style scoped>\n",
       "    .dataframe tbody tr th:only-of-type {\n",
       "        vertical-align: middle;\n",
       "    }\n",
       "\n",
       "    .dataframe tbody tr th {\n",
       "        vertical-align: top;\n",
       "    }\n",
       "\n",
       "    .dataframe thead th {\n",
       "        text-align: right;\n",
       "    }\n",
       "</style>\n",
       "<table border=\"1\" class=\"dataframe\">\n",
       "  <thead>\n",
       "    <tr style=\"text-align: right;\">\n",
       "      <th></th>\n",
       "      <th>index</th>\n",
       "      <th>Real_y</th>\n",
       "      <th>Predict_y</th>\n",
       "    </tr>\n",
       "  </thead>\n",
       "  <tbody>\n",
       "    <tr>\n",
       "      <th>0</th>\n",
       "      <td>1469152</td>\n",
       "      <td>7.0</td>\n",
       "      <td>6.447419</td>\n",
       "    </tr>\n",
       "    <tr>\n",
       "      <th>1</th>\n",
       "      <td>831522</td>\n",
       "      <td>5.0</td>\n",
       "      <td>3.354689</td>\n",
       "    </tr>\n",
       "    <tr>\n",
       "      <th>2</th>\n",
       "      <td>1938251</td>\n",
       "      <td>2.0</td>\n",
       "      <td>4.419019</td>\n",
       "    </tr>\n",
       "    <tr>\n",
       "      <th>3</th>\n",
       "      <td>1836183</td>\n",
       "      <td>10.0</td>\n",
       "      <td>7.147924</td>\n",
       "    </tr>\n",
       "    <tr>\n",
       "      <th>4</th>\n",
       "      <td>1653464</td>\n",
       "      <td>3.0</td>\n",
       "      <td>6.521834</td>\n",
       "    </tr>\n",
       "    <tr>\n",
       "      <th>5</th>\n",
       "      <td>2335499</td>\n",
       "      <td>7.0</td>\n",
       "      <td>7.453140</td>\n",
       "    </tr>\n",
       "    <tr>\n",
       "      <th>6</th>\n",
       "      <td>1538044</td>\n",
       "      <td>8.0</td>\n",
       "      <td>8.491811</td>\n",
       "    </tr>\n",
       "    <tr>\n",
       "      <th>7</th>\n",
       "      <td>1461202</td>\n",
       "      <td>9.0</td>\n",
       "      <td>8.043764</td>\n",
       "    </tr>\n",
       "    <tr>\n",
       "      <th>8</th>\n",
       "      <td>727466</td>\n",
       "      <td>5.0</td>\n",
       "      <td>4.685451</td>\n",
       "    </tr>\n",
       "    <tr>\n",
       "      <th>9</th>\n",
       "      <td>938061</td>\n",
       "      <td>3.0</td>\n",
       "      <td>3.657958</td>\n",
       "    </tr>\n",
       "  </tbody>\n",
       "</table>\n",
       "</div>"
      ],
      "text/plain": [
       "     index  Real_y  Predict_y\n",
       "0  1469152     7.0   6.447419\n",
       "1   831522     5.0   3.354689\n",
       "2  1938251     2.0   4.419019\n",
       "3  1836183    10.0   7.147924\n",
       "4  1653464     3.0   6.521834\n",
       "5  2335499     7.0   7.453140\n",
       "6  1538044     8.0   8.491811\n",
       "7  1461202     9.0   8.043764\n",
       "8   727466     5.0   4.685451\n",
       "9   938061     3.0   3.657958"
      ]
     },
     "execution_count": 39,
     "metadata": {},
     "output_type": "execute_result"
    }
   ],
   "source": [
    "middle_preidiction_df.head(10)"
   ]
  },
  {
   "cell_type": "code",
   "execution_count": 40,
   "id": "676eee6e-2646-46e1-8b8e-1bf74327c695",
   "metadata": {},
   "outputs": [],
   "source": [
    "middle_preidiction_df.to_parquet(os.path.join('Results', 'PredictionWB_XgbYoungModelMiddlePrediction_v1.parquet'))"
   ]
  },
  {
   "cell_type": "code",
   "execution_count": null,
   "id": "55bb13f5-07b4-4800-a100-207544ceab40",
   "metadata": {},
   "outputs": [],
   "source": []
  },
  {
   "cell_type": "markdown",
   "id": "281d1508-4b99-47d1-a6e2-60ff0d9951c2",
   "metadata": {},
   "source": [
    "### Young Model Old Prediction"
   ]
  },
  {
   "cell_type": "code",
   "execution_count": 41,
   "id": "99e6c141-53a6-45bb-9133-7d4bc095b6eb",
   "metadata": {},
   "outputs": [],
   "source": [
    "column_list = ['index', 'Real_y']\n",
    "for num in list(range(0, 10*10)):\n",
    "    column_list.append(f'Predict_y_{num}')\n",
    "old_preidiction_df = pd.DataFrame(np.array(o_prediction_list).T, columns = column_list)"
   ]
  },
  {
   "cell_type": "code",
   "execution_count": 42,
   "id": "14b0f97e-b980-4c71-8e85-a1d5c009cc67",
   "metadata": {},
   "outputs": [
    {
     "data": {
      "text/html": [
       "<div>\n",
       "<style scoped>\n",
       "    .dataframe tbody tr th:only-of-type {\n",
       "        vertical-align: middle;\n",
       "    }\n",
       "\n",
       "    .dataframe tbody tr th {\n",
       "        vertical-align: top;\n",
       "    }\n",
       "\n",
       "    .dataframe thead th {\n",
       "        text-align: right;\n",
       "    }\n",
       "</style>\n",
       "<table border=\"1\" class=\"dataframe\">\n",
       "  <thead>\n",
       "    <tr style=\"text-align: right;\">\n",
       "      <th></th>\n",
       "      <th>index</th>\n",
       "      <th>Real_y</th>\n",
       "      <th>Predict_y_0</th>\n",
       "      <th>Predict_y_1</th>\n",
       "      <th>Predict_y_2</th>\n",
       "      <th>Predict_y_3</th>\n",
       "      <th>Predict_y_4</th>\n",
       "      <th>Predict_y_5</th>\n",
       "      <th>Predict_y_6</th>\n",
       "      <th>Predict_y_7</th>\n",
       "      <th>...</th>\n",
       "      <th>Predict_y_90</th>\n",
       "      <th>Predict_y_91</th>\n",
       "      <th>Predict_y_92</th>\n",
       "      <th>Predict_y_93</th>\n",
       "      <th>Predict_y_94</th>\n",
       "      <th>Predict_y_95</th>\n",
       "      <th>Predict_y_96</th>\n",
       "      <th>Predict_y_97</th>\n",
       "      <th>Predict_y_98</th>\n",
       "      <th>Predict_y_99</th>\n",
       "    </tr>\n",
       "  </thead>\n",
       "  <tbody>\n",
       "    <tr>\n",
       "      <th>0</th>\n",
       "      <td>1535061.0</td>\n",
       "      <td>2.0</td>\n",
       "      <td>4.761735</td>\n",
       "      <td>4.758277</td>\n",
       "      <td>4.452856</td>\n",
       "      <td>4.660881</td>\n",
       "      <td>4.595292</td>\n",
       "      <td>4.530033</td>\n",
       "      <td>4.545422</td>\n",
       "      <td>4.778203</td>\n",
       "      <td>...</td>\n",
       "      <td>4.891882</td>\n",
       "      <td>4.592116</td>\n",
       "      <td>4.753959</td>\n",
       "      <td>4.724636</td>\n",
       "      <td>4.918623</td>\n",
       "      <td>4.464150</td>\n",
       "      <td>4.527631</td>\n",
       "      <td>4.742477</td>\n",
       "      <td>4.569503</td>\n",
       "      <td>4.847426</td>\n",
       "    </tr>\n",
       "    <tr>\n",
       "      <th>1</th>\n",
       "      <td>718598.0</td>\n",
       "      <td>5.0</td>\n",
       "      <td>5.514935</td>\n",
       "      <td>5.453190</td>\n",
       "      <td>5.533300</td>\n",
       "      <td>5.374983</td>\n",
       "      <td>5.550637</td>\n",
       "      <td>5.436326</td>\n",
       "      <td>5.510552</td>\n",
       "      <td>5.432149</td>\n",
       "      <td>...</td>\n",
       "      <td>5.441208</td>\n",
       "      <td>5.577156</td>\n",
       "      <td>5.434406</td>\n",
       "      <td>5.630925</td>\n",
       "      <td>5.574893</td>\n",
       "      <td>5.630754</td>\n",
       "      <td>5.551843</td>\n",
       "      <td>5.547777</td>\n",
       "      <td>5.492942</td>\n",
       "      <td>5.303827</td>\n",
       "    </tr>\n",
       "    <tr>\n",
       "      <th>2</th>\n",
       "      <td>1701982.0</td>\n",
       "      <td>7.0</td>\n",
       "      <td>6.742113</td>\n",
       "      <td>6.864552</td>\n",
       "      <td>6.855124</td>\n",
       "      <td>6.769381</td>\n",
       "      <td>6.764365</td>\n",
       "      <td>6.727232</td>\n",
       "      <td>6.694466</td>\n",
       "      <td>6.730587</td>\n",
       "      <td>...</td>\n",
       "      <td>6.848044</td>\n",
       "      <td>6.857678</td>\n",
       "      <td>6.818696</td>\n",
       "      <td>6.708043</td>\n",
       "      <td>6.834156</td>\n",
       "      <td>6.784311</td>\n",
       "      <td>6.839764</td>\n",
       "      <td>6.884028</td>\n",
       "      <td>6.701709</td>\n",
       "      <td>6.759612</td>\n",
       "    </tr>\n",
       "    <tr>\n",
       "      <th>3</th>\n",
       "      <td>1578430.0</td>\n",
       "      <td>7.0</td>\n",
       "      <td>6.354822</td>\n",
       "      <td>6.673211</td>\n",
       "      <td>6.392900</td>\n",
       "      <td>6.593334</td>\n",
       "      <td>6.498292</td>\n",
       "      <td>6.524296</td>\n",
       "      <td>6.214782</td>\n",
       "      <td>6.468731</td>\n",
       "      <td>...</td>\n",
       "      <td>6.459635</td>\n",
       "      <td>6.563035</td>\n",
       "      <td>6.616180</td>\n",
       "      <td>6.507893</td>\n",
       "      <td>6.601959</td>\n",
       "      <td>6.591118</td>\n",
       "      <td>6.510722</td>\n",
       "      <td>6.523704</td>\n",
       "      <td>6.603150</td>\n",
       "      <td>6.591974</td>\n",
       "    </tr>\n",
       "    <tr>\n",
       "      <th>4</th>\n",
       "      <td>1398218.0</td>\n",
       "      <td>10.0</td>\n",
       "      <td>7.484743</td>\n",
       "      <td>7.578883</td>\n",
       "      <td>7.371109</td>\n",
       "      <td>7.423291</td>\n",
       "      <td>7.391529</td>\n",
       "      <td>7.396041</td>\n",
       "      <td>7.561340</td>\n",
       "      <td>7.576428</td>\n",
       "      <td>...</td>\n",
       "      <td>7.369772</td>\n",
       "      <td>7.561635</td>\n",
       "      <td>7.448269</td>\n",
       "      <td>7.413283</td>\n",
       "      <td>7.467255</td>\n",
       "      <td>7.506205</td>\n",
       "      <td>7.275626</td>\n",
       "      <td>7.363591</td>\n",
       "      <td>7.544077</td>\n",
       "      <td>7.408568</td>\n",
       "    </tr>\n",
       "  </tbody>\n",
       "</table>\n",
       "<p>5 rows × 102 columns</p>\n",
       "</div>"
      ],
      "text/plain": [
       "       index  Real_y  Predict_y_0  Predict_y_1  Predict_y_2  Predict_y_3  \\\n",
       "0  1535061.0     2.0     4.761735     4.758277     4.452856     4.660881   \n",
       "1   718598.0     5.0     5.514935     5.453190     5.533300     5.374983   \n",
       "2  1701982.0     7.0     6.742113     6.864552     6.855124     6.769381   \n",
       "3  1578430.0     7.0     6.354822     6.673211     6.392900     6.593334   \n",
       "4  1398218.0    10.0     7.484743     7.578883     7.371109     7.423291   \n",
       "\n",
       "   Predict_y_4  Predict_y_5  Predict_y_6  Predict_y_7  ...  Predict_y_90  \\\n",
       "0     4.595292     4.530033     4.545422     4.778203  ...      4.891882   \n",
       "1     5.550637     5.436326     5.510552     5.432149  ...      5.441208   \n",
       "2     6.764365     6.727232     6.694466     6.730587  ...      6.848044   \n",
       "3     6.498292     6.524296     6.214782     6.468731  ...      6.459635   \n",
       "4     7.391529     7.396041     7.561340     7.576428  ...      7.369772   \n",
       "\n",
       "   Predict_y_91  Predict_y_92  Predict_y_93  Predict_y_94  Predict_y_95  \\\n",
       "0      4.592116      4.753959      4.724636      4.918623      4.464150   \n",
       "1      5.577156      5.434406      5.630925      5.574893      5.630754   \n",
       "2      6.857678      6.818696      6.708043      6.834156      6.784311   \n",
       "3      6.563035      6.616180      6.507893      6.601959      6.591118   \n",
       "4      7.561635      7.448269      7.413283      7.467255      7.506205   \n",
       "\n",
       "   Predict_y_96  Predict_y_97  Predict_y_98  Predict_y_99  \n",
       "0      4.527631      4.742477      4.569503      4.847426  \n",
       "1      5.551843      5.547777      5.492942      5.303827  \n",
       "2      6.839764      6.884028      6.701709      6.759612  \n",
       "3      6.510722      6.523704      6.603150      6.591974  \n",
       "4      7.275626      7.363591      7.544077      7.408568  \n",
       "\n",
       "[5 rows x 102 columns]"
      ]
     },
     "execution_count": 42,
     "metadata": {},
     "output_type": "execute_result"
    }
   ],
   "source": [
    "old_preidiction_df.head()"
   ]
  },
  {
   "cell_type": "code",
   "execution_count": 43,
   "id": "31fda55b-5ae2-4ad4-afc7-4dc301954989",
   "metadata": {},
   "outputs": [],
   "source": [
    "old_preidiction_df['Predict_y'] = old_preidiction_df.iloc[:,2:103].mean(axis = 1)"
   ]
  },
  {
   "cell_type": "code",
   "execution_count": 44,
   "id": "ac45e987-9cfc-4f87-9cfb-799de293627c",
   "metadata": {},
   "outputs": [
    {
     "data": {
      "text/plain": [
       "0    4.697998\n",
       "1    5.481435\n",
       "2    6.793449\n",
       "3    6.506651\n",
       "4    7.434296\n",
       "Name: Predict_y, dtype: float64"
      ]
     },
     "execution_count": 44,
     "metadata": {},
     "output_type": "execute_result"
    }
   ],
   "source": [
    "old_preidiction_df['Predict_y'].head()"
   ]
  },
  {
   "cell_type": "code",
   "execution_count": 45,
   "id": "4be47282-2d27-4ebf-8b20-69d9ff0a5831",
   "metadata": {},
   "outputs": [],
   "source": [
    "old_preidiction_df = old_preidiction_df[['index', 'Real_y', 'Predict_y']]"
   ]
  },
  {
   "cell_type": "code",
   "execution_count": 46,
   "id": "de6901fb-ae64-400a-b23b-99991a836117",
   "metadata": {},
   "outputs": [],
   "source": [
    "old_preidiction_df['index'] = old_preidiction_df['index'].astype(int)"
   ]
  },
  {
   "cell_type": "code",
   "execution_count": 47,
   "id": "5aec6b26-3020-42df-b26c-bc690c35875f",
   "metadata": {},
   "outputs": [
    {
     "data": {
      "text/html": [
       "<div>\n",
       "<style scoped>\n",
       "    .dataframe tbody tr th:only-of-type {\n",
       "        vertical-align: middle;\n",
       "    }\n",
       "\n",
       "    .dataframe tbody tr th {\n",
       "        vertical-align: top;\n",
       "    }\n",
       "\n",
       "    .dataframe thead th {\n",
       "        text-align: right;\n",
       "    }\n",
       "</style>\n",
       "<table border=\"1\" class=\"dataframe\">\n",
       "  <thead>\n",
       "    <tr style=\"text-align: right;\">\n",
       "      <th></th>\n",
       "      <th>index</th>\n",
       "      <th>Real_y</th>\n",
       "      <th>Predict_y</th>\n",
       "    </tr>\n",
       "  </thead>\n",
       "  <tbody>\n",
       "    <tr>\n",
       "      <th>0</th>\n",
       "      <td>1535061</td>\n",
       "      <td>2.0</td>\n",
       "      <td>4.697998</td>\n",
       "    </tr>\n",
       "    <tr>\n",
       "      <th>1</th>\n",
       "      <td>718598</td>\n",
       "      <td>5.0</td>\n",
       "      <td>5.481435</td>\n",
       "    </tr>\n",
       "    <tr>\n",
       "      <th>2</th>\n",
       "      <td>1701982</td>\n",
       "      <td>7.0</td>\n",
       "      <td>6.793449</td>\n",
       "    </tr>\n",
       "    <tr>\n",
       "      <th>3</th>\n",
       "      <td>1578430</td>\n",
       "      <td>7.0</td>\n",
       "      <td>6.506651</td>\n",
       "    </tr>\n",
       "    <tr>\n",
       "      <th>4</th>\n",
       "      <td>1398218</td>\n",
       "      <td>10.0</td>\n",
       "      <td>7.434296</td>\n",
       "    </tr>\n",
       "    <tr>\n",
       "      <th>5</th>\n",
       "      <td>1581052</td>\n",
       "      <td>5.0</td>\n",
       "      <td>5.276537</td>\n",
       "    </tr>\n",
       "    <tr>\n",
       "      <th>6</th>\n",
       "      <td>1764291</td>\n",
       "      <td>7.0</td>\n",
       "      <td>4.615627</td>\n",
       "    </tr>\n",
       "    <tr>\n",
       "      <th>7</th>\n",
       "      <td>1322632</td>\n",
       "      <td>7.0</td>\n",
       "      <td>4.694141</td>\n",
       "    </tr>\n",
       "    <tr>\n",
       "      <th>8</th>\n",
       "      <td>2573377</td>\n",
       "      <td>8.0</td>\n",
       "      <td>5.338784</td>\n",
       "    </tr>\n",
       "    <tr>\n",
       "      <th>9</th>\n",
       "      <td>865858</td>\n",
       "      <td>8.0</td>\n",
       "      <td>6.836610</td>\n",
       "    </tr>\n",
       "  </tbody>\n",
       "</table>\n",
       "</div>"
      ],
      "text/plain": [
       "     index  Real_y  Predict_y\n",
       "0  1535061     2.0   4.697998\n",
       "1   718598     5.0   5.481435\n",
       "2  1701982     7.0   6.793449\n",
       "3  1578430     7.0   6.506651\n",
       "4  1398218    10.0   7.434296\n",
       "5  1581052     5.0   5.276537\n",
       "6  1764291     7.0   4.615627\n",
       "7  1322632     7.0   4.694141\n",
       "8  2573377     8.0   5.338784\n",
       "9   865858     8.0   6.836610"
      ]
     },
     "execution_count": 47,
     "metadata": {},
     "output_type": "execute_result"
    }
   ],
   "source": [
    "old_preidiction_df.head(10)"
   ]
  },
  {
   "cell_type": "code",
   "execution_count": 48,
   "id": "15955d34-9388-45df-98ec-083d104b06ef",
   "metadata": {},
   "outputs": [],
   "source": [
    "old_preidiction_df.to_parquet(os.path.join('Results', 'PredictionWB_XgbYoungModelOldPrediction_v1.parquet'))"
   ]
  },
  {
   "cell_type": "code",
   "execution_count": null,
   "id": "1ff8b492-bf24-498b-b0af-903a78cc1e50",
   "metadata": {},
   "outputs": [],
   "source": []
  },
  {
   "cell_type": "markdown",
   "id": "f6555f83-1819-443c-8dd0-6ee6cc19d07f",
   "metadata": {},
   "source": [
    "### Young Model Young Prediction"
   ]
  },
  {
   "cell_type": "code",
   "execution_count": 49,
   "id": "7c5c9c07-656c-40d7-ad9a-cfce35d5b55b",
   "metadata": {},
   "outputs": [
    {
     "name": "stdout",
     "output_type": "stream",
     "text": [
      "Index(['index', 'Real_y', 'Predict_y_0'], dtype='object')\n",
      "Index(['index', 'Real_y', 'Predict_y_1'], dtype='object')\n",
      "Index(['index', 'Real_y', 'Predict_y_2'], dtype='object')\n",
      "Index(['index', 'Real_y', 'Predict_y_3'], dtype='object')\n",
      "Index(['index', 'Real_y', 'Predict_y_4'], dtype='object')\n",
      "Index(['index', 'Real_y', 'Predict_y_5'], dtype='object')\n",
      "Index(['index', 'Real_y', 'Predict_y_6'], dtype='object')\n",
      "Index(['index', 'Real_y', 'Predict_y_7'], dtype='object')\n",
      "Index(['index', 'Real_y', 'Predict_y_8'], dtype='object')\n",
      "Index(['index', 'Real_y', 'Predict_y_9'], dtype='object')\n"
     ]
    }
   ],
   "source": [
    "merged_young_prediction_df = None\n",
    "for young_prediction_df in fold_predictions_array_list:\n",
    "    young_prediction_df['index'] = young_prediction_df['index'].astype(int)\n",
    "    young_prediction_df['Real_y'] = young_prediction_df['Real_y'].astype(int)\n",
    "    print(young_prediction_df.columns)\n",
    "    if merged_young_prediction_df is None:\n",
    "        merged_young_prediction_df = young_prediction_df\n",
    "    else:\n",
    "        merged_young_prediction_df = pd.merge(merged_young_prediction_df, young_prediction_df, on=['index', 'Real_y'])"
   ]
  },
  {
   "cell_type": "code",
   "execution_count": 50,
   "id": "12d02867-d1d3-45bf-87fc-89c56439d959",
   "metadata": {},
   "outputs": [
    {
     "data": {
      "text/html": [
       "<div>\n",
       "<style scoped>\n",
       "    .dataframe tbody tr th:only-of-type {\n",
       "        vertical-align: middle;\n",
       "    }\n",
       "\n",
       "    .dataframe tbody tr th {\n",
       "        vertical-align: top;\n",
       "    }\n",
       "\n",
       "    .dataframe thead th {\n",
       "        text-align: right;\n",
       "    }\n",
       "</style>\n",
       "<table border=\"1\" class=\"dataframe\">\n",
       "  <thead>\n",
       "    <tr style=\"text-align: right;\">\n",
       "      <th></th>\n",
       "      <th>index</th>\n",
       "      <th>Real_y</th>\n",
       "      <th>Predict_y_0</th>\n",
       "      <th>Predict_y_1</th>\n",
       "      <th>Predict_y_2</th>\n",
       "      <th>Predict_y_3</th>\n",
       "      <th>Predict_y_4</th>\n",
       "      <th>Predict_y_5</th>\n",
       "      <th>Predict_y_6</th>\n",
       "      <th>Predict_y_7</th>\n",
       "      <th>Predict_y_8</th>\n",
       "      <th>Predict_y_9</th>\n",
       "    </tr>\n",
       "  </thead>\n",
       "  <tbody>\n",
       "    <tr>\n",
       "      <th>0</th>\n",
       "      <td>1976009</td>\n",
       "      <td>7</td>\n",
       "      <td>5.585835</td>\n",
       "      <td>5.606697</td>\n",
       "      <td>5.452052</td>\n",
       "      <td>5.622301</td>\n",
       "      <td>5.705790</td>\n",
       "      <td>5.725687</td>\n",
       "      <td>5.724606</td>\n",
       "      <td>5.699248</td>\n",
       "      <td>5.787541</td>\n",
       "      <td>5.813135</td>\n",
       "    </tr>\n",
       "    <tr>\n",
       "      <th>1</th>\n",
       "      <td>1036932</td>\n",
       "      <td>3</td>\n",
       "      <td>3.872958</td>\n",
       "      <td>3.693524</td>\n",
       "      <td>3.899238</td>\n",
       "      <td>3.863476</td>\n",
       "      <td>3.777722</td>\n",
       "      <td>3.834348</td>\n",
       "      <td>4.067349</td>\n",
       "      <td>3.965018</td>\n",
       "      <td>3.821776</td>\n",
       "      <td>3.866279</td>\n",
       "    </tr>\n",
       "    <tr>\n",
       "      <th>2</th>\n",
       "      <td>2505821</td>\n",
       "      <td>4</td>\n",
       "      <td>3.861683</td>\n",
       "      <td>3.618260</td>\n",
       "      <td>3.698452</td>\n",
       "      <td>4.012042</td>\n",
       "      <td>3.893312</td>\n",
       "      <td>4.019055</td>\n",
       "      <td>3.826325</td>\n",
       "      <td>3.761884</td>\n",
       "      <td>3.856846</td>\n",
       "      <td>4.032545</td>\n",
       "    </tr>\n",
       "    <tr>\n",
       "      <th>3</th>\n",
       "      <td>1135079</td>\n",
       "      <td>1</td>\n",
       "      <td>3.987695</td>\n",
       "      <td>4.035850</td>\n",
       "      <td>3.972183</td>\n",
       "      <td>4.160449</td>\n",
       "      <td>4.218924</td>\n",
       "      <td>4.020698</td>\n",
       "      <td>4.099977</td>\n",
       "      <td>3.989823</td>\n",
       "      <td>4.140359</td>\n",
       "      <td>4.217546</td>\n",
       "    </tr>\n",
       "    <tr>\n",
       "      <th>4</th>\n",
       "      <td>2386018</td>\n",
       "      <td>6</td>\n",
       "      <td>7.888861</td>\n",
       "      <td>7.881535</td>\n",
       "      <td>7.829309</td>\n",
       "      <td>7.823808</td>\n",
       "      <td>7.898308</td>\n",
       "      <td>7.729335</td>\n",
       "      <td>7.905879</td>\n",
       "      <td>7.831308</td>\n",
       "      <td>7.908490</td>\n",
       "      <td>7.885075</td>\n",
       "    </tr>\n",
       "  </tbody>\n",
       "</table>\n",
       "</div>"
      ],
      "text/plain": [
       "     index  Real_y  Predict_y_0  Predict_y_1  Predict_y_2  Predict_y_3  \\\n",
       "0  1976009       7     5.585835     5.606697     5.452052     5.622301   \n",
       "1  1036932       3     3.872958     3.693524     3.899238     3.863476   \n",
       "2  2505821       4     3.861683     3.618260     3.698452     4.012042   \n",
       "3  1135079       1     3.987695     4.035850     3.972183     4.160449   \n",
       "4  2386018       6     7.888861     7.881535     7.829309     7.823808   \n",
       "\n",
       "   Predict_y_4  Predict_y_5  Predict_y_6  Predict_y_7  Predict_y_8  \\\n",
       "0     5.705790     5.725687     5.724606     5.699248     5.787541   \n",
       "1     3.777722     3.834348     4.067349     3.965018     3.821776   \n",
       "2     3.893312     4.019055     3.826325     3.761884     3.856846   \n",
       "3     4.218924     4.020698     4.099977     3.989823     4.140359   \n",
       "4     7.898308     7.729335     7.905879     7.831308     7.908490   \n",
       "\n",
       "   Predict_y_9  \n",
       "0     5.813135  \n",
       "1     3.866279  \n",
       "2     4.032545  \n",
       "3     4.217546  \n",
       "4     7.885075  "
      ]
     },
     "execution_count": 50,
     "metadata": {},
     "output_type": "execute_result"
    }
   ],
   "source": [
    "merged_young_prediction_df.head()"
   ]
  },
  {
   "cell_type": "code",
   "execution_count": 51,
   "id": "b0345327-aa8a-4cf1-a55a-25db5b62a2b8",
   "metadata": {},
   "outputs": [],
   "source": [
    "merged_young_prediction_df['Predict_y'] = merged_young_prediction_df.iloc[:,2:13].mean(axis = 1)"
   ]
  },
  {
   "cell_type": "code",
   "execution_count": 52,
   "id": "b2072905-93ad-4d75-9cd9-239e9d5c2c8d",
   "metadata": {},
   "outputs": [],
   "source": [
    "merged_young_prediction_df = merged_young_prediction_df[['index', 'Real_y', 'Predict_y']]"
   ]
  },
  {
   "cell_type": "code",
   "execution_count": 53,
   "id": "9e48dd21-e869-4191-8eea-de01c29aa92d",
   "metadata": {},
   "outputs": [
    {
     "data": {
      "text/html": [
       "<div>\n",
       "<style scoped>\n",
       "    .dataframe tbody tr th:only-of-type {\n",
       "        vertical-align: middle;\n",
       "    }\n",
       "\n",
       "    .dataframe tbody tr th {\n",
       "        vertical-align: top;\n",
       "    }\n",
       "\n",
       "    .dataframe thead th {\n",
       "        text-align: right;\n",
       "    }\n",
       "</style>\n",
       "<table border=\"1\" class=\"dataframe\">\n",
       "  <thead>\n",
       "    <tr style=\"text-align: right;\">\n",
       "      <th></th>\n",
       "      <th>index</th>\n",
       "      <th>Real_y</th>\n",
       "      <th>Predict_y</th>\n",
       "    </tr>\n",
       "  </thead>\n",
       "  <tbody>\n",
       "    <tr>\n",
       "      <th>0</th>\n",
       "      <td>1976009</td>\n",
       "      <td>7</td>\n",
       "      <td>5.672289</td>\n",
       "    </tr>\n",
       "    <tr>\n",
       "      <th>1</th>\n",
       "      <td>1036932</td>\n",
       "      <td>3</td>\n",
       "      <td>3.866169</td>\n",
       "    </tr>\n",
       "    <tr>\n",
       "      <th>2</th>\n",
       "      <td>2505821</td>\n",
       "      <td>4</td>\n",
       "      <td>3.858040</td>\n",
       "    </tr>\n",
       "    <tr>\n",
       "      <th>3</th>\n",
       "      <td>1135079</td>\n",
       "      <td>1</td>\n",
       "      <td>4.084350</td>\n",
       "    </tr>\n",
       "    <tr>\n",
       "      <th>4</th>\n",
       "      <td>2386018</td>\n",
       "      <td>6</td>\n",
       "      <td>7.858191</td>\n",
       "    </tr>\n",
       "    <tr>\n",
       "      <th>5</th>\n",
       "      <td>1493327</td>\n",
       "      <td>5</td>\n",
       "      <td>4.763505</td>\n",
       "    </tr>\n",
       "    <tr>\n",
       "      <th>6</th>\n",
       "      <td>549924</td>\n",
       "      <td>1</td>\n",
       "      <td>5.829806</td>\n",
       "    </tr>\n",
       "    <tr>\n",
       "      <th>7</th>\n",
       "      <td>2186766</td>\n",
       "      <td>7</td>\n",
       "      <td>6.495862</td>\n",
       "    </tr>\n",
       "    <tr>\n",
       "      <th>8</th>\n",
       "      <td>1936498</td>\n",
       "      <td>4</td>\n",
       "      <td>4.671191</td>\n",
       "    </tr>\n",
       "    <tr>\n",
       "      <th>9</th>\n",
       "      <td>2235916</td>\n",
       "      <td>7</td>\n",
       "      <td>4.416826</td>\n",
       "    </tr>\n",
       "  </tbody>\n",
       "</table>\n",
       "</div>"
      ],
      "text/plain": [
       "     index  Real_y  Predict_y\n",
       "0  1976009       7   5.672289\n",
       "1  1036932       3   3.866169\n",
       "2  2505821       4   3.858040\n",
       "3  1135079       1   4.084350\n",
       "4  2386018       6   7.858191\n",
       "5  1493327       5   4.763505\n",
       "6   549924       1   5.829806\n",
       "7  2186766       7   6.495862\n",
       "8  1936498       4   4.671191\n",
       "9  2235916       7   4.416826"
      ]
     },
     "execution_count": 53,
     "metadata": {},
     "output_type": "execute_result"
    }
   ],
   "source": [
    "merged_young_prediction_df.head(10)"
   ]
  },
  {
   "cell_type": "code",
   "execution_count": 54,
   "id": "e62de7ea-bbac-47bf-951c-7fa0696328c2",
   "metadata": {},
   "outputs": [],
   "source": [
    "merged_young_prediction_df.to_parquet(os.path.join('Results', 'PredictionWB_XgbYoungModelYoundPrediction_v1.parquet'))"
   ]
  },
  {
   "cell_type": "code",
   "execution_count": null,
   "id": "14cbf83a-3be8-4a22-9dca-73172e30f8cb",
   "metadata": {},
   "outputs": [],
   "source": []
  },
  {
   "cell_type": "markdown",
   "id": "6bd0bda4-a9a7-40a0-9eb0-734f5ca8fa6a",
   "metadata": {},
   "source": [
    "### Middle Hyperparameter Reload, build model, and conduct 10 fold 10 times CV"
   ]
  },
  {
   "cell_type": "code",
   "execution_count": 55,
   "id": "012e10fd-d9a9-4997-8fc3-bd1bfd09b0e8",
   "metadata": {},
   "outputs": [],
   "source": [
    "class RandomRunNFoldsKFold(KFold):\n",
    "    def __init__(self, n_splits=10, random_state=None, run_splits=3, **kwargs):\n",
    "        super().__init__(n_splits=n_splits, shuffle=True, random_state=random_state, **kwargs)\n",
    "        self.random_state = random_state\n",
    "        self.actual_splits = run_splits  # Number of actual splits to use\n",
    "\n",
    "    def split(self, X, y=None, groups=None):\n",
    "        folds = list(super().split(X, y, groups))\n",
    "        if self.random_state is not None:\n",
    "            random.seed(self.random_state)\n",
    "        selected_folds = random.sample(folds, self.actual_splits)\n",
    "        for train_index, test_index in selected_folds:\n",
    "            yield train_index, test_index\n",
    "\n",
    "    def get_n_splits(self, X=None, y=None, groups=None):\n",
    "        return self.actual_splits"
   ]
  },
  {
   "cell_type": "code",
   "execution_count": 22,
   "id": "942cd954-7af8-4de6-bcc6-baf30efebb32",
   "metadata": {},
   "outputs": [],
   "source": [
    "bayes_search_young = load('Results/BayesSearchAgeMiddle20iter.joblib')"
   ]
  },
  {
   "cell_type": "code",
   "execution_count": 23,
   "id": "0d10cad7-2888-4111-b830-f944513df10d",
   "metadata": {},
   "outputs": [
    {
     "data": {
      "text/plain": [
       "mean_fit_time                                                    260.862294\n",
       "std_fit_time                                                       1.711591\n",
       "mean_score_time                                                    0.424207\n",
       "std_score_time                                                     0.010861\n",
       "param_gamma                                                        0.059651\n",
       "param_learning_rate                                                 0.01615\n",
       "param_max_delta_step                                               0.100424\n",
       "param_max_depth                                                          13\n",
       "param_min_child_weight                                             1.762463\n",
       "param_n_estimators                                                     3304\n",
       "param_reg_alpha                                                        10.0\n",
       "param_reg_lambda                                                   0.002894\n",
       "param_subsample                                                    0.895621\n",
       "params                    {'gamma': 0.05965055817863728, 'learning_rate'...\n",
       "split0_test_score                                                  0.412991\n",
       "split1_test_score                                                  0.405928\n",
       "split2_test_score                                                  0.409534\n",
       "mean_test_score                                                    0.409484\n",
       "std_test_score                                                     0.002884\n",
       "rank_test_score                                                           1\n",
       "split0_train_score                                                 0.603081\n",
       "split1_train_score                                                 0.603507\n",
       "split2_train_score                                                 0.602626\n",
       "mean_train_score                                                   0.603071\n",
       "std_train_score                                                     0.00036\n",
       "rank_train_score                                                          5\n",
       "Name: 16, dtype: object"
      ]
     },
     "execution_count": 23,
     "metadata": {},
     "output_type": "execute_result"
    }
   ],
   "source": [
    "CV_result = bayes_search_young.cv_results_\n",
    "pd.DataFrame(CV_result).sort_values(by='rank_test_score', ascending=True).iloc[0,:]"
   ]
  },
  {
   "cell_type": "code",
   "execution_count": 57,
   "id": "1ce08b39-07da-423e-9733-1483e90f5775",
   "metadata": {},
   "outputs": [
    {
     "name": "stdout",
     "output_type": "stream",
     "text": [
      "Best parameters: OrderedDict([('gamma', 0.05965055817863728), ('learning_rate', 0.016150250040658724), ('max_delta_step', 0.10042448556024319), ('max_depth', 13), ('min_child_weight', 1.7624628686422215), ('n_estimators', 3304), ('reg_alpha', 10.0), ('reg_lambda', 0.002893997263318717), ('subsample', 0.8956214250879957)])\n",
      "Best score: 0.40948431281386427\n"
     ]
    }
   ],
   "source": [
    "print(f\"Best parameters: {bayes_search_young.best_params_}\")\n",
    "print(f\"Best score: {bayes_search_young.best_score_}\")"
   ]
  },
  {
   "cell_type": "code",
   "execution_count": 58,
   "id": "a90849a0-fbdf-4925-8672-3e8f3ed74a04",
   "metadata": {},
   "outputs": [
    {
     "data": {
      "text/plain": [
       "{'gamma': 0.05965055817863728,\n",
       " 'learning_rate': 0.016150250040658724,\n",
       " 'max_delta_step': 0.10042448556024319,\n",
       " 'max_depth': 13,\n",
       " 'min_child_weight': 1.7624628686422215,\n",
       " 'n_estimators': 3304,\n",
       " 'reg_alpha': 10.0,\n",
       " 'reg_lambda': 0.002893997263318717,\n",
       " 'subsample': 0.8956214250879957}"
      ]
     },
     "execution_count": 58,
     "metadata": {},
     "output_type": "execute_result"
    }
   ],
   "source": [
    "dict(bayes_search_young.best_params_)"
   ]
  },
  {
   "cell_type": "code",
   "execution_count": 59,
   "id": "65162ff9-717d-4370-baa4-9ccf88495ea0",
   "metadata": {},
   "outputs": [],
   "source": [
    "middle_xgb = xgb.XGBRegressor(objective='reg:squarederror',  device = 'cuda', tree_method='hist', random_state=42, enable_categorical=True, **bayes_search_young.best_params_)"
   ]
  },
  {
   "cell_type": "code",
   "execution_count": 60,
   "id": "9cd90296-5bfe-488d-ae16-03788a06e52e",
   "metadata": {},
   "outputs": [],
   "source": [
    "kf = KFold(n_splits=10, shuffle=True, random_state=42)"
   ]
  },
  {
   "cell_type": "code",
   "execution_count": 61,
   "id": "9ca84741-a1ba-4ae4-8267-abdc575e9c90",
   "metadata": {},
   "outputs": [],
   "source": [
    "scores = cross_val_score(young_xgb, Xm, ym, cv=kf, scoring='r2')"
   ]
  },
  {
   "cell_type": "code",
   "execution_count": 62,
   "id": "b4b3d7f4-0994-4600-9a9c-a69206a9c5c2",
   "metadata": {},
   "outputs": [
    {
     "data": {
      "text/plain": [
       "array([0.40514408, 0.4122419 , 0.40431345, 0.40673967, 0.40809723,\n",
       "       0.40270521, 0.40289283, 0.40250772, 0.39997671, 0.41249771])"
      ]
     },
     "execution_count": 62,
     "metadata": {},
     "output_type": "execute_result"
    }
   ],
   "source": [
    "scores"
   ]
  },
  {
   "cell_type": "code",
   "execution_count": 63,
   "id": "2c1b94c9-a69f-4292-846c-7fdb7931f901",
   "metadata": {},
   "outputs": [
    {
     "data": {
      "text/html": [
       "<div>\n",
       "<style scoped>\n",
       "    .dataframe tbody tr th:only-of-type {\n",
       "        vertical-align: middle;\n",
       "    }\n",
       "\n",
       "    .dataframe tbody tr th {\n",
       "        vertical-align: top;\n",
       "    }\n",
       "\n",
       "    .dataframe thead th {\n",
       "        text-align: right;\n",
       "    }\n",
       "</style>\n",
       "<table border=\"1\" class=\"dataframe\">\n",
       "  <thead>\n",
       "    <tr style=\"text-align: right;\">\n",
       "      <th></th>\n",
       "      <th>wave</th>\n",
       "      <th>INCOME_2</th>\n",
       "      <th>Health_disable</th>\n",
       "      <th>Relative_have</th>\n",
       "      <th>Living_standard_change</th>\n",
       "      <th>Enough_food</th>\n",
       "      <th>Enough_shelter</th>\n",
       "      <th>Well_rested</th>\n",
       "      <th>Respected</th>\n",
       "      <th>Smile</th>\n",
       "      <th>...</th>\n",
       "      <th>Corruption_business</th>\n",
       "      <th>Corruption_government</th>\n",
       "      <th>Performance_leadership</th>\n",
       "      <th>Gender_female</th>\n",
       "      <th>Marital_status</th>\n",
       "      <th>Employment</th>\n",
       "      <th>Children_under15</th>\n",
       "      <th>Feeling_income</th>\n",
       "      <th>Income_level</th>\n",
       "      <th>COUNTRY_ISO3</th>\n",
       "    </tr>\n",
       "  </thead>\n",
       "  <tbody>\n",
       "    <tr>\n",
       "      <th>1469152</th>\n",
       "      <td>10</td>\n",
       "      <td>35602.470662</td>\n",
       "      <td>2.0</td>\n",
       "      <td>1.0</td>\n",
       "      <td>-0.0</td>\n",
       "      <td>0.0</td>\n",
       "      <td>0.0</td>\n",
       "      <td>1.0</td>\n",
       "      <td>1.0</td>\n",
       "      <td>1.0</td>\n",
       "      <td>...</td>\n",
       "      <td>1.0</td>\n",
       "      <td>1.0</td>\n",
       "      <td>0.0</td>\n",
       "      <td>0.0</td>\n",
       "      <td>1.0</td>\n",
       "      <td>5.0</td>\n",
       "      <td>0.0</td>\n",
       "      <td>2.0</td>\n",
       "      <td>3.0</td>\n",
       "      <td>NZL</td>\n",
       "    </tr>\n",
       "    <tr>\n",
       "      <th>831522</th>\n",
       "      <td>6</td>\n",
       "      <td>4357.352396</td>\n",
       "      <td>1.0</td>\n",
       "      <td>0.0</td>\n",
       "      <td>-1.0</td>\n",
       "      <td>1.0</td>\n",
       "      <td>1.0</td>\n",
       "      <td>1.0</td>\n",
       "      <td>1.0</td>\n",
       "      <td>1.0</td>\n",
       "      <td>...</td>\n",
       "      <td>1.0</td>\n",
       "      <td>0.0</td>\n",
       "      <td>0.0</td>\n",
       "      <td>0.0</td>\n",
       "      <td>2.0</td>\n",
       "      <td>6.0</td>\n",
       "      <td>0.0</td>\n",
       "      <td>4.0</td>\n",
       "      <td>4.0</td>\n",
       "      <td>SDN</td>\n",
       "    </tr>\n",
       "    <tr>\n",
       "      <th>1938251</th>\n",
       "      <td>13</td>\n",
       "      <td>7202.172618</td>\n",
       "      <td>2.0</td>\n",
       "      <td>1.0</td>\n",
       "      <td>-1.0</td>\n",
       "      <td>0.0</td>\n",
       "      <td>0.0</td>\n",
       "      <td>0.0</td>\n",
       "      <td>1.0</td>\n",
       "      <td>0.0</td>\n",
       "      <td>...</td>\n",
       "      <td>1.0</td>\n",
       "      <td>1.0</td>\n",
       "      <td>0.0</td>\n",
       "      <td>1.0</td>\n",
       "      <td>3.0</td>\n",
       "      <td>1.0</td>\n",
       "      <td>0.0</td>\n",
       "      <td>3.0</td>\n",
       "      <td>2.0</td>\n",
       "      <td>BIH</td>\n",
       "    </tr>\n",
       "    <tr>\n",
       "      <th>1836183</th>\n",
       "      <td>12</td>\n",
       "      <td>52643.260274</td>\n",
       "      <td>2.0</td>\n",
       "      <td>1.0</td>\n",
       "      <td>-0.0</td>\n",
       "      <td>0.0</td>\n",
       "      <td>0.0</td>\n",
       "      <td>1.0</td>\n",
       "      <td>1.0</td>\n",
       "      <td>1.0</td>\n",
       "      <td>...</td>\n",
       "      <td>1.0</td>\n",
       "      <td>1.0</td>\n",
       "      <td>1.0</td>\n",
       "      <td>1.0</td>\n",
       "      <td>1.0</td>\n",
       "      <td>6.0</td>\n",
       "      <td>0.0</td>\n",
       "      <td>2.0</td>\n",
       "      <td>5.0</td>\n",
       "      <td>MLT</td>\n",
       "    </tr>\n",
       "    <tr>\n",
       "      <th>1653464</th>\n",
       "      <td>11</td>\n",
       "      <td>2561.527818</td>\n",
       "      <td>1.0</td>\n",
       "      <td>1.0</td>\n",
       "      <td>1.0</td>\n",
       "      <td>0.0</td>\n",
       "      <td>0.0</td>\n",
       "      <td>1.0</td>\n",
       "      <td>1.0</td>\n",
       "      <td>1.0</td>\n",
       "      <td>...</td>\n",
       "      <td>1.0</td>\n",
       "      <td>1.0</td>\n",
       "      <td>1.0</td>\n",
       "      <td>1.0</td>\n",
       "      <td>5.0</td>\n",
       "      <td>6.0</td>\n",
       "      <td>1.0</td>\n",
       "      <td>3.0</td>\n",
       "      <td>1.0</td>\n",
       "      <td>CHL</td>\n",
       "    </tr>\n",
       "  </tbody>\n",
       "</table>\n",
       "<p>5 rows × 62 columns</p>\n",
       "</div>"
      ],
      "text/plain": [
       "         wave      INCOME_2  Health_disable  Relative_have  \\\n",
       "1469152    10  35602.470662             2.0            1.0   \n",
       "831522      6   4357.352396             1.0            0.0   \n",
       "1938251    13   7202.172618             2.0            1.0   \n",
       "1836183    12  52643.260274             2.0            1.0   \n",
       "1653464    11   2561.527818             1.0            1.0   \n",
       "\n",
       "         Living_standard_change  Enough_food  Enough_shelter  Well_rested  \\\n",
       "1469152                    -0.0          0.0             0.0          1.0   \n",
       "831522                     -1.0          1.0             1.0          1.0   \n",
       "1938251                    -1.0          0.0             0.0          0.0   \n",
       "1836183                    -0.0          0.0             0.0          1.0   \n",
       "1653464                     1.0          0.0             0.0          1.0   \n",
       "\n",
       "         Respected  Smile  ...  Corruption_business  Corruption_government  \\\n",
       "1469152        1.0    1.0  ...                  1.0                    1.0   \n",
       "831522         1.0    1.0  ...                  1.0                    0.0   \n",
       "1938251        1.0    0.0  ...                  1.0                    1.0   \n",
       "1836183        1.0    1.0  ...                  1.0                    1.0   \n",
       "1653464        1.0    1.0  ...                  1.0                    1.0   \n",
       "\n",
       "         Performance_leadership  Gender_female  Marital_status  Employment  \\\n",
       "1469152                     0.0            0.0             1.0         5.0   \n",
       "831522                      0.0            0.0             2.0         6.0   \n",
       "1938251                     0.0            1.0             3.0         1.0   \n",
       "1836183                     1.0            1.0             1.0         6.0   \n",
       "1653464                     1.0            1.0             5.0         6.0   \n",
       "\n",
       "         Children_under15  Feeling_income  Income_level  COUNTRY_ISO3  \n",
       "1469152               0.0             2.0           3.0           NZL  \n",
       "831522                0.0             4.0           4.0           SDN  \n",
       "1938251               0.0             3.0           2.0           BIH  \n",
       "1836183               0.0             2.0           5.0           MLT  \n",
       "1653464               1.0             3.0           1.0           CHL  \n",
       "\n",
       "[5 rows x 62 columns]"
      ]
     },
     "execution_count": 63,
     "metadata": {},
     "output_type": "execute_result"
    }
   ],
   "source": [
    "Xm.head()"
   ]
  },
  {
   "cell_type": "code",
   "execution_count": 64,
   "id": "494561ee-0e04-49ed-94c0-6b73267302a7",
   "metadata": {},
   "outputs": [
    {
     "data": {
      "text/plain": [
       "1469152     7.0\n",
       "831522      5.0\n",
       "1938251     2.0\n",
       "1836183    10.0\n",
       "1653464     3.0\n",
       "Name: Cantril_ladder, dtype: float64"
      ]
     },
     "execution_count": 64,
     "metadata": {},
     "output_type": "execute_result"
    }
   ],
   "source": [
    "ym.head()"
   ]
  },
  {
   "cell_type": "code",
   "execution_count": 65,
   "id": "5c5bf413-2166-46aa-ae1d-035b4f73a207",
   "metadata": {},
   "outputs": [],
   "source": [
    "random.seed(42)"
   ]
  },
  {
   "cell_type": "code",
   "execution_count": 66,
   "id": "b101993a-c069-4fb3-95fa-36a941af7ce7",
   "metadata": {},
   "outputs": [
    {
     "name": "stdout",
     "output_type": "stream",
     "text": [
      "[1824, 409, 4506, 4012, 3657, 2286, 1679, 1424, 6912, 520]\n"
     ]
    }
   ],
   "source": [
    "range_limit = 8192\n",
    "num_samples = 10\n",
    "sampled_integers = random.sample(range(range_limit), num_samples)\n",
    "print(sampled_integers)"
   ]
  },
  {
   "cell_type": "code",
   "execution_count": 67,
   "id": "93d246f6-c1ee-453f-b609-1310051ca0d4",
   "metadata": {},
   "outputs": [],
   "source": [
    "X = Xm\n",
    "y = ym\n",
    "model = middle_xgb"
   ]
  },
  {
   "cell_type": "code",
   "execution_count": 68,
   "id": "3288f0de-88ab-4fdb-84ba-65096d4065dd",
   "metadata": {},
   "outputs": [
    {
     "name": "stdout",
     "output_type": "stream",
     "text": [
      "Mean R2: 0.40735791523522974\n",
      "Standard Deviation of R2: 0.003171409083690291\n",
      "R2 list: [0.4080695228068072, 0.4057294946513367, 0.41049948034501726, 0.40420300272453, 0.40459087524266113, 0.4090729730433533, 0.4109361132843121, 0.4008739923052219, 0.40947858681515104, 0.41012511113390626]\n",
      "R2 Young list: [0.3310407605571152, 0.3316980487270871, 0.331477521818205, 0.3312009029681884, 0.3312098059861447, 0.3310905459850747, 0.3313206107780008, 0.33177973469267574, 0.3313168017156958, 0.33159383900784756]\n",
      "R2 Old list: [0.40786439309044764, 0.40755437214961654, 0.4074431834794635, 0.4077787071914424, 0.4078731339528372, 0.40783409885020416, 0.40764422478585316, 0.4080961122971404, 0.40749163825771684, 0.40794155378829566]\n",
      "Mean R2: 0.4071631950551181\n",
      "Standard Deviation of R2: 0.0020126869754770104\n",
      "R2 list: [0.4067726436409145, 0.40423751591421264, 0.4083871529192522, 0.40899405118648613, 0.40746057801751934, 0.40753825549299416, 0.403526599123445, 0.40568725062976585, 0.4098761597613917, 0.4091517438651996]\n",
      "R2 Young list: [0.33159369461733346, 0.3313534733543272, 0.3316411170492938, 0.3314261868227725, 0.33135410880519933, 0.3311345775928396, 0.3314816945457243, 0.3314377238146061, 0.33128425519994753, 0.3312270642240075]\n",
      "R2 Old list: [0.4077422602552744, 0.4076642437779884, 0.40801765724366545, 0.4076583505062218, 0.40761779195419134, 0.40784792357425914, 0.40757491082002084, 0.4077914455918443, 0.4078435263308827, 0.4076796689798229]\n",
      "Mean R2: 0.4073129236593188\n",
      "Standard Deviation of R2: 0.00392599426402873\n",
      "R2 list: [0.41103977294378136, 0.40509508854123044, 0.4085999472487616, 0.4018625064007262, 0.407234279943987, 0.4061041725803123, 0.41311334977417047, 0.4097063090460341, 0.39998679820833394, 0.41038701190585125]\n",
      "R2 Young list: [0.3314344661926505, 0.3313417133920269, 0.3313316475081678, 0.3312714279356046, 0.33134862210612714, 0.3314259036665106, 0.33158914112021576, 0.3312256046197636, 0.3314152076865692, 0.3313549436744585]\n",
      "R2 Old list: [0.4078514945653776, 0.4077239892947827, 0.40776867509480075, 0.40760991226561016, 0.4078011336333377, 0.4079192890028295, 0.4075605513149654, 0.40766542316669907, 0.40795264805368825, 0.40750458935901657]\n",
      "Mean R2: 0.40710698511476784\n",
      "Standard Deviation of R2: 0.0034560395680102887\n",
      "R2 list: [0.4040444905265559, 0.4032537158500543, 0.4044107885929419, 0.4111338994569278, 0.40677441888892274, 0.41528964751114605, 0.4071659664716778, 0.4055813334315709, 0.40570438556789, 0.40771120484999057]\n",
      "R2 Young list: [0.3313313928737619, 0.33161228304769674, 0.33147376620992497, 0.3313103451333903, 0.33138746183730305, 0.3313294117029535, 0.3314312444974059, 0.3313247258325619, 0.33141393083513027, 0.3315594234650726]\n",
      "R2 Old list: [0.40773218487778184, 0.40736951016630973, 0.4077384933602065, 0.40791296809702515, 0.40792377900745425, 0.4078631113139941, 0.40772968905958384, 0.40746738074377786, 0.4078266717677813, 0.4076298655978823]\n",
      "Mean R2: 0.4072389890410431\n",
      "Standard Deviation of R2: 0.002808755493547433\n",
      "R2 list: [0.40812217302807097, 0.4058551750183884, 0.4104058272553973, 0.40405654810487135, 0.4107786789478286, 0.4097253987341207, 0.41051328276133203, 0.4049561461157284, 0.4036265637676951, 0.40435009667699784]\n",
      "R2 Young list: [0.3315631651667975, 0.3313477114756911, 0.3311605506342783, 0.33166468647879, 0.3314733619806921, 0.3311484482863857, 0.33153097309017554, 0.33126700444032964, 0.3311242356442913, 0.3313861104803444]\n",
      "R2 Old list: [0.4077972928135861, 0.40791601005296685, 0.40743195634312446, 0.40812171433666034, 0.40792796477408333, 0.40710919048784777, 0.40788777916337204, 0.40730434273467797, 0.4076056803694069, 0.4079817625461907]\n",
      "Mean R2: 0.4072799091674639\n",
      "Standard Deviation of R2: 0.003245750879718756\n",
      "R2 list: [0.4060522918895595, 0.4071561291119291, 0.4088962794109806, 0.40397971446354086, 0.40970356075112446, 0.4042559027076633, 0.40401236564065857, 0.4139365932336422, 0.40421837188162824, 0.4105878825839121]\n",
      "R2 Young list: [0.3311457634366536, 0.33144431170388855, 0.3315672162667913, 0.33107700990057887, 0.331605704298932, 0.33092958176393106, 0.3314488604454684, 0.33100463104579314, 0.3313088938284907, 0.3317663981944635]\n",
      "R2 Old list: [0.4077401757933147, 0.40773072393928833, 0.4078152080399988, 0.40744395334452665, 0.40774839274051045, 0.4077521681545794, 0.40802247279524684, 0.40757128068766646, 0.4079487697803629, 0.4077309083821181]\n",
      "Mean R2: 0.4072936697873789\n",
      "Standard Deviation of R2: 0.002232961411972945\n",
      "R2 list: [0.411589958291249, 0.4078047696666821, 0.4071165220520081, 0.4054386241638793, 0.40839586162269614, 0.4069857011533601, 0.40606147005240656, 0.403595690561797, 0.41023683606420536, 0.40571126424550574]\n",
      "R2 Young list: [0.33170427099928534, 0.3315996709931125, 0.33164502255206063, 0.3310121062961672, 0.33156526330222513, 0.3311855951273437, 0.33130854053305747, 0.3313955684948524, 0.33111050192313296, 0.3312592271503638]\n",
      "R2 Old list: [0.407652575451387, 0.4076744247264825, 0.4076302721547943, 0.4078270943828842, 0.40763819471494567, 0.40766760378647293, 0.4078056710205863, 0.4077936750335117, 0.4077206482446518, 0.40803064221457475]\n",
      "Mean R2: 0.40740358881289607\n",
      "Standard Deviation of R2: 0.003014696630104722\n",
      "R2 list: [0.40677238043281616, 0.4095565347591156, 0.40425109560125205, 0.4049254579702175, 0.40355753158077834, 0.40960429313938274, 0.41077794098048714, 0.4044223569002706, 0.40730107810987537, 0.4128672186547655]\n",
      "R2 Young list: [0.33117347288201493, 0.3317032141246362, 0.3311346080164137, 0.3311966364183373, 0.33141926527800025, 0.3315052467301003, 0.33154769755756675, 0.33120861586101047, 0.3316013533799712, 0.3316071862697244]\n",
      "R2 Old list: [0.4077994416014177, 0.40792987644022083, 0.4075192558150099, 0.407873167732862, 0.4079517411015041, 0.4075829178195459, 0.4074548926316307, 0.40766577452593755, 0.40762657230688304, 0.40765293854281626]\n",
      "Mean R2: 0.4070025047719034\n",
      "Standard Deviation of R2: 0.003289458080846782\n",
      "R2 list: [0.40853703672062347, 0.4046080295980814, 0.4054872064974948, 0.4018365335512627, 0.40983830922765174, 0.41304023492903996, 0.40480483120728117, 0.40592459158960603, 0.4110366427132993, 0.4049116316846938]\n",
      "R2 Young list: [0.3315380551481917, 0.33148737770318093, 0.33148683781862265, 0.33132724161568006, 0.33155696183714833, 0.3308157856646191, 0.33146252151530564, 0.3314444514090015, 0.33120507187674, 0.3313776795213017]\n",
      "R2 Old list: [0.40751381069087556, 0.4079815425966751, 0.40750145436396024, 0.40781187585858725, 0.4078292201772772, 0.40752803505910695, 0.407832322266218, 0.4076638731761477, 0.4076714809723291, 0.40733803058214446]\n",
      "Mean R2: 0.40733538449492845\n",
      "Standard Deviation of R2: 0.0030560944982514202\n",
      "R2 list: [0.4087141772726547, 0.40741655372808216, 0.4084220626246402, 0.4047287830313062, 0.40820404318627435, 0.40402046807573677, 0.4022180272990372, 0.4058084640704621, 0.41274321111513723, 0.41107805454595425]\n",
      "R2 Young list: [0.3313696423288658, 0.33139916727882324, 0.33126925477839997, 0.33147342535862123, 0.3315970825426855, 0.3317610266512715, 0.33106745963177253, 0.331225086946481, 0.3314862970092327, 0.33121546577426697]\n",
      "R2 Old list: [0.40789282024161155, 0.40769807186770857, 0.40768701780634875, 0.4079277671843645, 0.4077059941979697, 0.40769126356657936, 0.4075000779646485, 0.40769670043473694, 0.4076193032860521, 0.40805214412451973]\n"
     ]
    }
   ],
   "source": [
    "y_prediction_list = [np.array(yy.index), np.array(yy.to_list())]\n",
    "o_prediction_list = [np.array(yo.index), np.array(yo.to_list())]\n",
    "fold_predictions_array_list = []\n",
    "r2_scores_list = []\n",
    "r2y_scores_list = []\n",
    "r2o_scores_list = []\n",
    "\n",
    "for i, random_integer in enumerate(sampled_integers):\n",
    "    kf = KFold(n_splits=10, shuffle=True, random_state=random_integer)\n",
    "    \n",
    "    r2_scores = []\n",
    "    r2y_scores = []\n",
    "    r2o_scores = []\n",
    "    fold_predictions = []\n",
    "    # Perform cross-validation\n",
    "    for train_index, test_index in kf.split(X):\n",
    "        X_train, X_test = X.iloc[train_index, :], X.iloc[test_index, :]\n",
    "        y_train, y_test = y.iloc[train_index], y.iloc[test_index]\n",
    "        \n",
    "        # Train the model\n",
    "        model.fit(X_train, y_train)\n",
    "        \n",
    "        # Make predictions\n",
    "        y_pred = model.predict(X_test)\n",
    "        \n",
    "        # Evaluate the model\n",
    "        r2 = r2_score(y_test, y_pred)\n",
    "        r2_scores.append(r2)\n",
    "        this_folder = np.array([y_test.index, y_test, y_pred]).T\n",
    "        fold_predictions.append(this_folder)\n",
    "    \n",
    "        # Young Predict\n",
    "        yy_pred = model.predict(Xy)\n",
    "        y_prediction_list.append(yy_pred)\n",
    "        r2y = r2_score(yy, yy_pred)\n",
    "        r2y_scores.append(r2y)\n",
    "        \n",
    "        # Old Predict\n",
    "        yo_pred = model.predict(Xo)\n",
    "        o_prediction_list.append(yo_pred)\n",
    "        r2o = r2_score(yo, yo_pred)\n",
    "        r2o_scores.append(r2o)\n",
    "    \n",
    "    print(f\"Mean R2: {np.mean(r2_scores)}\")\n",
    "    print(f\"Standard Deviation of R2: {np.std(r2_scores)}\")\n",
    "    print(f\"R2 list: {r2_scores}\")\n",
    "    print(f\"R2 Young list: {r2y_scores}\")\n",
    "    print(f\"R2 Old list: {r2o_scores}\")\n",
    "    \n",
    "    fold_predictions_array = pd.DataFrame(np.concatenate(fold_predictions, axis = 0), columns = ['index', 'Real_y', f'Predict_y_{i}'])\n",
    "    fold_predictions_array_list.append(fold_predictions_array)\n",
    "    r2_scores_list.append(r2_scores)\n",
    "    r2y_scores_list.append(r2y_scores)\n",
    "    r2o_scores_list.append(r2o_scores)"
   ]
  },
  {
   "cell_type": "code",
   "execution_count": 45,
   "id": "d19a5b0e-f7da-46c3-82e7-d70de975b345",
   "metadata": {},
   "outputs": [],
   "source": [
    "r2_list = [0.4080695228068072, 0.4057294946513367, 0.41049948034501726, 0.40420300272453, 0.40459087524266113, \n",
    "           0.4090729730433533, 0.4109361132843121, 0.4008739923052219, 0.40947858681515104, 0.41012511113390626] + \\\n",
    "[0.4067726436409145, 0.40423751591421264, 0.4083871529192522, 0.40899405118648613, 0.40746057801751934, \n",
    " 0.40753825549299416, 0.403526599123445, 0.40568725062976585, 0.4098761597613917, 0.4091517438651996] + \\\n",
    "[0.41103977294378136, 0.40509508854123044, 0.4085999472487616, 0.4018625064007262, 0.407234279943987, \n",
    " 0.4061041725803123, 0.41311334977417047, 0.4097063090460341, 0.39998679820833394, 0.41038701190585125] + \\\n",
    "[0.4040444905265559, 0.4032537158500543, 0.4044107885929419, 0.4111338994569278, 0.40677441888892274, \n",
    " 0.41528964751114605, 0.4071659664716778, 0.4055813334315709, 0.40570438556789, 0.40771120484999057] + \\\n",
    "[0.40812217302807097, 0.4058551750183884, 0.4104058272553973, 0.40405654810487135, 0.4107786789478286,\n",
    " 0.4097253987341207, 0.41051328276133203, 0.4049561461157284, 0.4036265637676951, 0.40435009667699784] + \\\n",
    "[0.4060522918895595, 0.4071561291119291, 0.4088962794109806, 0.40397971446354086, 0.40970356075112446, \n",
    " 0.4042559027076633, 0.40401236564065857, 0.4139365932336422, 0.40421837188162824, 0.4105878825839121] + \\\n",
    "[0.411589958291249, 0.4078047696666821, 0.4071165220520081, 0.4054386241638793, 0.40839586162269614, \n",
    " 0.4069857011533601, 0.40606147005240656, 0.403595690561797, 0.41023683606420536, 0.40571126424550574] + \\\n",
    "[0.40677238043281616, 0.4095565347591156, 0.40425109560125205, 0.4049254579702175, 0.40355753158077834, \n",
    " 0.40960429313938274, 0.41077794098048714, 0.4044223569002706, 0.40730107810987537, 0.4128672186547655] + \\\n",
    "[0.40853703672062347, 0.4046080295980814, 0.4054872064974948, 0.4018365335512627, 0.40983830922765174, \n",
    " 0.41304023492903996, 0.40480483120728117, 0.40592459158960603, 0.4110366427132993, 0.4049116316846938] + \\\n",
    "[0.4087141772726547, 0.40741655372808216, 0.4084220626246402, 0.4047287830313062, 0.40820404318627435, \n",
    " 0.40402046807573677, 0.4022180272990372, 0.4058084640704621, 0.41274321111513723, 0.41107805454595425]"
   ]
  },
  {
   "cell_type": "code",
   "execution_count": 46,
   "id": "c46ed19b-b39a-48f5-8de6-5f4c11c3b512",
   "metadata": {},
   "outputs": [
    {
     "data": {
      "text/plain": [
       "0.40724950651400477"
      ]
     },
     "execution_count": 46,
     "metadata": {},
     "output_type": "execute_result"
    }
   ],
   "source": [
    "np.mean(r2_list)"
   ]
  },
  {
   "cell_type": "code",
   "execution_count": 47,
   "id": "66a74513-f5c1-44d6-9d08-9f26c4414a6b",
   "metadata": {},
   "outputs": [
    {
     "data": {
      "text/plain": [
       "0.41528964751114605"
      ]
     },
     "execution_count": 47,
     "metadata": {},
     "output_type": "execute_result"
    }
   ],
   "source": [
    "np.max(r2_list)"
   ]
  },
  {
   "cell_type": "code",
   "execution_count": 48,
   "id": "8d2e7cb8-15d1-422e-b9dc-be674ed4f056",
   "metadata": {},
   "outputs": [
    {
     "data": {
      "text/plain": [
       "0.39998679820833394"
      ]
     },
     "execution_count": 48,
     "metadata": {},
     "output_type": "execute_result"
    }
   ],
   "source": [
    "np.min(r2_list)"
   ]
  },
  {
   "cell_type": "code",
   "execution_count": 49,
   "id": "c25ab0fc-6956-49cc-9127-ce90ef8c2f74",
   "metadata": {},
   "outputs": [
    {
     "data": {
      "text/plain": [
       "0.0030702410223859347"
      ]
     },
     "execution_count": 49,
     "metadata": {},
     "output_type": "execute_result"
    }
   ],
   "source": [
    "np.std(r2_list)"
   ]
  },
  {
   "cell_type": "code",
   "execution_count": 50,
   "id": "a18e6fa4-a42c-4d3c-adf3-2eaa61144331",
   "metadata": {},
   "outputs": [],
   "source": [
    "r2_young_list = [0.3310407605571152, 0.3316980487270871, 0.331477521818205, 0.3312009029681884, 0.3312098059861447, \n",
    "                 0.3310905459850747, 0.3313206107780008, 0.33177973469267574, 0.3313168017156958, 0.33159383900784756] + \\\n",
    " [0.33159369461733346, 0.3313534733543272, 0.3316411170492938, 0.3314261868227725, 0.33135410880519933, \n",
    "  0.3311345775928396, 0.3314816945457243, 0.3314377238146061, 0.33128425519994753, 0.3312270642240075] + \\\n",
    " [0.3314344661926505, 0.3313417133920269, 0.3313316475081678, 0.3312714279356046, 0.33134862210612714, \n",
    "  0.3314259036665106, 0.33158914112021576, 0.3312256046197636, 0.3314152076865692, 0.3313549436744585] + \\\n",
    " [0.3313313928737619, 0.33161228304769674, 0.33147376620992497, 0.3313103451333903, 0.33138746183730305, \n",
    "  0.3313294117029535, 0.3314312444974059, 0.3313247258325619, 0.33141393083513027, 0.3315594234650726] + \\\n",
    " [0.3315631651667975, 0.3313477114756911, 0.3311605506342783, 0.33166468647879, 0.3314733619806921, \n",
    "  0.3311484482863857, 0.33153097309017554, 0.33126700444032964, 0.3311242356442913, 0.3313861104803444] + \\\n",
    " [0.3311457634366536, 0.33144431170388855, 0.3315672162667913, 0.33107700990057887, 0.331605704298932, \n",
    "  0.33092958176393106, 0.3314488604454684, 0.33100463104579314, 0.3313088938284907, 0.3317663981944635] + \\\n",
    " [0.33170427099928534, 0.3315996709931125, 0.33164502255206063, 0.3310121062961672, 0.33156526330222513, \n",
    "  0.3311855951273437, 0.33130854053305747, 0.3313955684948524, 0.33111050192313296, 0.3312592271503638] + \\\n",
    " [0.33117347288201493, 0.3317032141246362, 0.3311346080164137, 0.3311966364183373, 0.33141926527800025, \n",
    "  0.3315052467301003, 0.33154769755756675, 0.33120861586101047, 0.3316013533799712, 0.3316071862697244] + \\\n",
    " [0.3315380551481917, 0.33148737770318093, 0.33148683781862265, 0.33132724161568006, 0.33155696183714833, \n",
    "  0.3308157856646191, 0.33146252151530564, 0.3314444514090015, 0.33120507187674, 0.3313776795213017] + \\\n",
    " [0.3313696423288658, 0.33139916727882324, 0.33126925477839997, 0.33147342535862123, 0.3315970825426855, \n",
    "  0.3317610266512715, 0.33106745963177253, 0.331225086946481, 0.3314862970092327, 0.33121546577426697]"
   ]
  },
  {
   "cell_type": "code",
   "execution_count": 65,
   "id": "cc16fbd9-e042-4e6f-a161-313db30095fc",
   "metadata": {},
   "outputs": [
    {
     "data": {
      "text/plain": [
       "0.3313798870646174"
      ]
     },
     "execution_count": 65,
     "metadata": {},
     "output_type": "execute_result"
    }
   ],
   "source": [
    "np.mean(r2_young_list)"
   ]
  },
  {
   "cell_type": "code",
   "execution_count": 66,
   "id": "943f5a94-34a3-451d-9b07-2f02195baaff",
   "metadata": {},
   "outputs": [
    {
     "data": {
      "text/plain": [
       "0.33177973469267574"
      ]
     },
     "execution_count": 66,
     "metadata": {},
     "output_type": "execute_result"
    }
   ],
   "source": [
    "np.max(r2_young_list)"
   ]
  },
  {
   "cell_type": "code",
   "execution_count": 67,
   "id": "87707b30-a2b1-42d2-85b1-43bb4aee4b9e",
   "metadata": {},
   "outputs": [
    {
     "data": {
      "text/plain": [
       "0.3308157856646191"
      ]
     },
     "execution_count": 67,
     "metadata": {},
     "output_type": "execute_result"
    }
   ],
   "source": [
    "np.min(r2_young_list)"
   ]
  },
  {
   "cell_type": "code",
   "execution_count": 68,
   "id": "9a667080-8209-4f68-9478-5af07bf5001e",
   "metadata": {},
   "outputs": [
    {
     "data": {
      "text/plain": [
       "0.00019577190453169108"
      ]
     },
     "execution_count": 68,
     "metadata": {},
     "output_type": "execute_result"
    }
   ],
   "source": [
    "np.std(r2_young_list)"
   ]
  },
  {
   "cell_type": "code",
   "execution_count": 55,
   "id": "8df63584-ea07-40a0-be2a-9dc594b57e75",
   "metadata": {},
   "outputs": [],
   "source": [
    "r2_old_list = [0.40786439309044764, 0.40755437214961654, 0.4074431834794635, 0.4077787071914424, 0.4078731339528372, \n",
    "               0.40783409885020416, 0.40764422478585316, 0.4080961122971404, 0.40749163825771684, 0.40794155378829566] + \\\n",
    " [0.4077422602552744, 0.4076642437779884, 0.40801765724366545, 0.4076583505062218, 0.40761779195419134, \n",
    "  0.40784792357425914, 0.40757491082002084, 0.4077914455918443, 0.4078435263308827, 0.4076796689798229] + \\\n",
    " [0.4078514945653776, 0.4077239892947827, 0.40776867509480075, 0.40760991226561016, 0.4078011336333377, \n",
    "  0.4079192890028295, 0.4075605513149654, 0.40766542316669907, 0.40795264805368825, 0.40750458935901657] + \\\n",
    " [0.40773218487778184, 0.40736951016630973, 0.4077384933602065, 0.40791296809702515, 0.40792377900745425, \n",
    "  0.4078631113139941, 0.40772968905958384, 0.40746738074377786, 0.4078266717677813, 0.4076298655978823] + \\\n",
    " [0.4077972928135861, 0.40791601005296685, 0.40743195634312446, 0.40812171433666034, 0.40792796477408333, \n",
    "  0.40710919048784777, 0.40788777916337204, 0.40730434273467797, 0.4076056803694069, 0.4079817625461907] + \\\n",
    " [0.4077401757933147, 0.40773072393928833, 0.4078152080399988, 0.40744395334452665, 0.40774839274051045, \n",
    "  0.4077521681545794, 0.40802247279524684, 0.40757128068766646, 0.4079487697803629, 0.4077309083821181] + \\\n",
    " [0.407652575451387, 0.4076744247264825, 0.4076302721547943, 0.4078270943828842, 0.40763819471494567, \n",
    "  0.40766760378647293, 0.4078056710205863, 0.4077936750335117, 0.4077206482446518, 0.40803064221457475] + \\\n",
    " [0.4077994416014177, 0.40792987644022083, 0.4075192558150099, 0.407873167732862, 0.4079517411015041, \n",
    "  0.4075829178195459, 0.4074548926316307, 0.40766577452593755, 0.40762657230688304, 0.40765293854281626] + \\\n",
    " [0.40751381069087556, 0.4079815425966751, 0.40750145436396024, 0.40781187585858725, 0.4078292201772772, \n",
    "  0.40752803505910695, 0.407832322266218, 0.4076638731761477, 0.4076714809723291, 0.40733803058214446] + \\\n",
    " [0.40789282024161155, 0.40769807186770857, 0.40768701780634875, 0.4079277671843645, 0.4077059941979697, \n",
    "  0.40769126356657936, 0.4075000779646485, 0.40769670043473694, 0.4076193032860521, 0.40805214412451973]"
   ]
  },
  {
   "cell_type": "code",
   "execution_count": 56,
   "id": "1e7fc1eb-9999-48fe-b9a2-07c5b9b43f2d",
   "metadata": {},
   "outputs": [
    {
     "data": {
      "text/plain": [
       "0.4077273849056561"
      ]
     },
     "execution_count": 56,
     "metadata": {},
     "output_type": "execute_result"
    }
   ],
   "source": [
    "np.mean(r2_old_list)"
   ]
  },
  {
   "cell_type": "code",
   "execution_count": 57,
   "id": "85d07dc4-7320-4121-adc5-c0275a1049fe",
   "metadata": {},
   "outputs": [
    {
     "data": {
      "text/plain": [
       "0.40812171433666034"
      ]
     },
     "execution_count": 57,
     "metadata": {},
     "output_type": "execute_result"
    }
   ],
   "source": [
    "np.max(r2_old_list)"
   ]
  },
  {
   "cell_type": "code",
   "execution_count": 58,
   "id": "e2f30218-0414-4a70-95ce-d2631442f743",
   "metadata": {},
   "outputs": [
    {
     "data": {
      "text/plain": [
       "0.40710919048784777"
      ]
     },
     "execution_count": 58,
     "metadata": {},
     "output_type": "execute_result"
    }
   ],
   "source": [
    "np.min(r2_old_list)"
   ]
  },
  {
   "cell_type": "code",
   "execution_count": 59,
   "id": "c138cc2b-6e3c-4414-aa6c-7554cb946361",
   "metadata": {},
   "outputs": [
    {
     "data": {
      "text/plain": [
       "0.0001835968095482087"
      ]
     },
     "execution_count": 59,
     "metadata": {},
     "output_type": "execute_result"
    }
   ],
   "source": [
    "np.std(r2_old_list)"
   ]
  },
  {
   "cell_type": "code",
   "execution_count": null,
   "id": "d3429c09-5fe2-48ae-90b4-9bf8b8ca92ec",
   "metadata": {},
   "outputs": [],
   "source": []
  },
  {
   "cell_type": "markdown",
   "id": "c9a24acc-bb75-41de-9539-deaf0e192f59",
   "metadata": {},
   "source": [
    "### Middle Model Young Prediction"
   ]
  },
  {
   "cell_type": "markdown",
   "id": "cd5f6c08-b833-464e-a651-946483ec6358",
   "metadata": {},
   "source": [
    "Prediction is average of 10 fold * 10 times"
   ]
  },
  {
   "cell_type": "code",
   "execution_count": 69,
   "id": "7fc37390-ca96-45df-bc34-2486d0f12c12",
   "metadata": {},
   "outputs": [],
   "source": [
    "column_list = ['index', 'Real_y']\n",
    "for num in list(range(0, 10*10)):\n",
    "    column_list.append(f'Predict_y_{num}')\n",
    "young_preidiction_df = pd.DataFrame(np.array(y_prediction_list).T, columns = column_list)"
   ]
  },
  {
   "cell_type": "code",
   "execution_count": 70,
   "id": "e8d0a669-0938-44e4-9814-1572e65d7d92",
   "metadata": {},
   "outputs": [
    {
     "data": {
      "text/html": [
       "<div>\n",
       "<style scoped>\n",
       "    .dataframe tbody tr th:only-of-type {\n",
       "        vertical-align: middle;\n",
       "    }\n",
       "\n",
       "    .dataframe tbody tr th {\n",
       "        vertical-align: top;\n",
       "    }\n",
       "\n",
       "    .dataframe thead th {\n",
       "        text-align: right;\n",
       "    }\n",
       "</style>\n",
       "<table border=\"1\" class=\"dataframe\">\n",
       "  <thead>\n",
       "    <tr style=\"text-align: right;\">\n",
       "      <th></th>\n",
       "      <th>index</th>\n",
       "      <th>Real_y</th>\n",
       "      <th>Predict_y_0</th>\n",
       "      <th>Predict_y_1</th>\n",
       "      <th>Predict_y_2</th>\n",
       "      <th>Predict_y_3</th>\n",
       "      <th>Predict_y_4</th>\n",
       "      <th>Predict_y_5</th>\n",
       "      <th>Predict_y_6</th>\n",
       "      <th>Predict_y_7</th>\n",
       "      <th>...</th>\n",
       "      <th>Predict_y_90</th>\n",
       "      <th>Predict_y_91</th>\n",
       "      <th>Predict_y_92</th>\n",
       "      <th>Predict_y_93</th>\n",
       "      <th>Predict_y_94</th>\n",
       "      <th>Predict_y_95</th>\n",
       "      <th>Predict_y_96</th>\n",
       "      <th>Predict_y_97</th>\n",
       "      <th>Predict_y_98</th>\n",
       "      <th>Predict_y_99</th>\n",
       "    </tr>\n",
       "  </thead>\n",
       "  <tbody>\n",
       "    <tr>\n",
       "      <th>0</th>\n",
       "      <td>1562723.0</td>\n",
       "      <td>5.0</td>\n",
       "      <td>4.780888</td>\n",
       "      <td>4.519880</td>\n",
       "      <td>4.772003</td>\n",
       "      <td>4.768342</td>\n",
       "      <td>4.783091</td>\n",
       "      <td>4.933635</td>\n",
       "      <td>4.810184</td>\n",
       "      <td>4.741272</td>\n",
       "      <td>...</td>\n",
       "      <td>4.686022</td>\n",
       "      <td>4.801900</td>\n",
       "      <td>4.738563</td>\n",
       "      <td>4.680453</td>\n",
       "      <td>4.895226</td>\n",
       "      <td>4.851616</td>\n",
       "      <td>4.822000</td>\n",
       "      <td>4.792110</td>\n",
       "      <td>4.595822</td>\n",
       "      <td>4.778974</td>\n",
       "    </tr>\n",
       "    <tr>\n",
       "      <th>1</th>\n",
       "      <td>708695.0</td>\n",
       "      <td>4.0</td>\n",
       "      <td>4.212075</td>\n",
       "      <td>4.289929</td>\n",
       "      <td>4.382177</td>\n",
       "      <td>3.999223</td>\n",
       "      <td>4.256259</td>\n",
       "      <td>4.260980</td>\n",
       "      <td>4.266835</td>\n",
       "      <td>4.284914</td>\n",
       "      <td>...</td>\n",
       "      <td>4.114879</td>\n",
       "      <td>4.196670</td>\n",
       "      <td>4.166576</td>\n",
       "      <td>4.110175</td>\n",
       "      <td>4.516248</td>\n",
       "      <td>3.974162</td>\n",
       "      <td>4.188296</td>\n",
       "      <td>4.357482</td>\n",
       "      <td>3.982884</td>\n",
       "      <td>4.054521</td>\n",
       "    </tr>\n",
       "    <tr>\n",
       "      <th>2</th>\n",
       "      <td>1828455.0</td>\n",
       "      <td>2.0</td>\n",
       "      <td>6.493051</td>\n",
       "      <td>6.344342</td>\n",
       "      <td>6.421969</td>\n",
       "      <td>6.475831</td>\n",
       "      <td>6.440760</td>\n",
       "      <td>6.604690</td>\n",
       "      <td>6.430300</td>\n",
       "      <td>6.117033</td>\n",
       "      <td>...</td>\n",
       "      <td>6.402391</td>\n",
       "      <td>6.401849</td>\n",
       "      <td>6.286951</td>\n",
       "      <td>6.402671</td>\n",
       "      <td>6.408615</td>\n",
       "      <td>6.331493</td>\n",
       "      <td>6.483055</td>\n",
       "      <td>6.409377</td>\n",
       "      <td>6.627054</td>\n",
       "      <td>6.412904</td>\n",
       "    </tr>\n",
       "    <tr>\n",
       "      <th>3</th>\n",
       "      <td>968859.0</td>\n",
       "      <td>8.0</td>\n",
       "      <td>5.289126</td>\n",
       "      <td>5.464239</td>\n",
       "      <td>5.286373</td>\n",
       "      <td>5.247552</td>\n",
       "      <td>5.444459</td>\n",
       "      <td>5.510852</td>\n",
       "      <td>5.523960</td>\n",
       "      <td>5.511659</td>\n",
       "      <td>...</td>\n",
       "      <td>5.295139</td>\n",
       "      <td>5.344650</td>\n",
       "      <td>5.372141</td>\n",
       "      <td>5.329281</td>\n",
       "      <td>5.544105</td>\n",
       "      <td>5.185625</td>\n",
       "      <td>5.416097</td>\n",
       "      <td>5.303905</td>\n",
       "      <td>5.435267</td>\n",
       "      <td>5.549560</td>\n",
       "    </tr>\n",
       "    <tr>\n",
       "      <th>4</th>\n",
       "      <td>2375401.0</td>\n",
       "      <td>5.0</td>\n",
       "      <td>4.595544</td>\n",
       "      <td>4.643282</td>\n",
       "      <td>4.653045</td>\n",
       "      <td>4.494058</td>\n",
       "      <td>4.547693</td>\n",
       "      <td>4.461103</td>\n",
       "      <td>4.526562</td>\n",
       "      <td>4.616069</td>\n",
       "      <td>...</td>\n",
       "      <td>4.445099</td>\n",
       "      <td>4.719227</td>\n",
       "      <td>4.639669</td>\n",
       "      <td>4.562653</td>\n",
       "      <td>4.618272</td>\n",
       "      <td>4.627410</td>\n",
       "      <td>4.757525</td>\n",
       "      <td>4.497378</td>\n",
       "      <td>4.545774</td>\n",
       "      <td>4.607549</td>\n",
       "    </tr>\n",
       "  </tbody>\n",
       "</table>\n",
       "<p>5 rows × 102 columns</p>\n",
       "</div>"
      ],
      "text/plain": [
       "       index  Real_y  Predict_y_0  Predict_y_1  Predict_y_2  Predict_y_3  \\\n",
       "0  1562723.0     5.0     4.780888     4.519880     4.772003     4.768342   \n",
       "1   708695.0     4.0     4.212075     4.289929     4.382177     3.999223   \n",
       "2  1828455.0     2.0     6.493051     6.344342     6.421969     6.475831   \n",
       "3   968859.0     8.0     5.289126     5.464239     5.286373     5.247552   \n",
       "4  2375401.0     5.0     4.595544     4.643282     4.653045     4.494058   \n",
       "\n",
       "   Predict_y_4  Predict_y_5  Predict_y_6  Predict_y_7  ...  Predict_y_90  \\\n",
       "0     4.783091     4.933635     4.810184     4.741272  ...      4.686022   \n",
       "1     4.256259     4.260980     4.266835     4.284914  ...      4.114879   \n",
       "2     6.440760     6.604690     6.430300     6.117033  ...      6.402391   \n",
       "3     5.444459     5.510852     5.523960     5.511659  ...      5.295139   \n",
       "4     4.547693     4.461103     4.526562     4.616069  ...      4.445099   \n",
       "\n",
       "   Predict_y_91  Predict_y_92  Predict_y_93  Predict_y_94  Predict_y_95  \\\n",
       "0      4.801900      4.738563      4.680453      4.895226      4.851616   \n",
       "1      4.196670      4.166576      4.110175      4.516248      3.974162   \n",
       "2      6.401849      6.286951      6.402671      6.408615      6.331493   \n",
       "3      5.344650      5.372141      5.329281      5.544105      5.185625   \n",
       "4      4.719227      4.639669      4.562653      4.618272      4.627410   \n",
       "\n",
       "   Predict_y_96  Predict_y_97  Predict_y_98  Predict_y_99  \n",
       "0      4.822000      4.792110      4.595822      4.778974  \n",
       "1      4.188296      4.357482      3.982884      4.054521  \n",
       "2      6.483055      6.409377      6.627054      6.412904  \n",
       "3      5.416097      5.303905      5.435267      5.549560  \n",
       "4      4.757525      4.497378      4.545774      4.607549  \n",
       "\n",
       "[5 rows x 102 columns]"
      ]
     },
     "execution_count": 70,
     "metadata": {},
     "output_type": "execute_result"
    }
   ],
   "source": [
    "young_preidiction_df.head()"
   ]
  },
  {
   "cell_type": "code",
   "execution_count": 71,
   "id": "52efaac4-f695-44e1-bed1-bdb32e221b51",
   "metadata": {},
   "outputs": [],
   "source": [
    "young_preidiction_df['Predict_y'] = young_preidiction_df.iloc[:,2:103].mean(axis = 1)"
   ]
  },
  {
   "cell_type": "code",
   "execution_count": 72,
   "id": "5932d943-1cb9-409f-b867-2312dbd98fe4",
   "metadata": {},
   "outputs": [
    {
     "data": {
      "text/plain": [
       "0    4.739254\n",
       "1    4.177796\n",
       "2    6.406743\n",
       "3    5.386602\n",
       "4    4.562044\n",
       "Name: Predict_y, dtype: float64"
      ]
     },
     "execution_count": 72,
     "metadata": {},
     "output_type": "execute_result"
    }
   ],
   "source": [
    "young_preidiction_df['Predict_y'].head()"
   ]
  },
  {
   "cell_type": "code",
   "execution_count": 73,
   "id": "76f8e750-582d-4a5f-833c-3be5e80047b3",
   "metadata": {},
   "outputs": [],
   "source": [
    "young_preidiction_df = young_preidiction_df[['index', 'Real_y', 'Predict_y']]"
   ]
  },
  {
   "cell_type": "code",
   "execution_count": 74,
   "id": "a7735021-f9d8-4f42-8b86-e5e71d01e2c1",
   "metadata": {},
   "outputs": [],
   "source": [
    "young_preidiction_df['index'] = young_preidiction_df['index'].astype(int)"
   ]
  },
  {
   "cell_type": "code",
   "execution_count": 75,
   "id": "ded8b083-2bab-46d5-8cd2-776c1d12aa28",
   "metadata": {},
   "outputs": [
    {
     "data": {
      "text/html": [
       "<div>\n",
       "<style scoped>\n",
       "    .dataframe tbody tr th:only-of-type {\n",
       "        vertical-align: middle;\n",
       "    }\n",
       "\n",
       "    .dataframe tbody tr th {\n",
       "        vertical-align: top;\n",
       "    }\n",
       "\n",
       "    .dataframe thead th {\n",
       "        text-align: right;\n",
       "    }\n",
       "</style>\n",
       "<table border=\"1\" class=\"dataframe\">\n",
       "  <thead>\n",
       "    <tr style=\"text-align: right;\">\n",
       "      <th></th>\n",
       "      <th>index</th>\n",
       "      <th>Real_y</th>\n",
       "      <th>Predict_y</th>\n",
       "    </tr>\n",
       "  </thead>\n",
       "  <tbody>\n",
       "    <tr>\n",
       "      <th>0</th>\n",
       "      <td>1562723</td>\n",
       "      <td>5.0</td>\n",
       "      <td>4.739254</td>\n",
       "    </tr>\n",
       "    <tr>\n",
       "      <th>1</th>\n",
       "      <td>708695</td>\n",
       "      <td>4.0</td>\n",
       "      <td>4.177796</td>\n",
       "    </tr>\n",
       "    <tr>\n",
       "      <th>2</th>\n",
       "      <td>1828455</td>\n",
       "      <td>2.0</td>\n",
       "      <td>6.406743</td>\n",
       "    </tr>\n",
       "    <tr>\n",
       "      <th>3</th>\n",
       "      <td>968859</td>\n",
       "      <td>8.0</td>\n",
       "      <td>5.386602</td>\n",
       "    </tr>\n",
       "    <tr>\n",
       "      <th>4</th>\n",
       "      <td>2375401</td>\n",
       "      <td>5.0</td>\n",
       "      <td>4.562044</td>\n",
       "    </tr>\n",
       "    <tr>\n",
       "      <th>5</th>\n",
       "      <td>723699</td>\n",
       "      <td>6.0</td>\n",
       "      <td>6.309007</td>\n",
       "    </tr>\n",
       "    <tr>\n",
       "      <th>6</th>\n",
       "      <td>2069375</td>\n",
       "      <td>2.0</td>\n",
       "      <td>2.571380</td>\n",
       "    </tr>\n",
       "    <tr>\n",
       "      <th>7</th>\n",
       "      <td>1655669</td>\n",
       "      <td>10.0</td>\n",
       "      <td>4.477426</td>\n",
       "    </tr>\n",
       "    <tr>\n",
       "      <th>8</th>\n",
       "      <td>776224</td>\n",
       "      <td>7.0</td>\n",
       "      <td>5.382874</td>\n",
       "    </tr>\n",
       "    <tr>\n",
       "      <th>9</th>\n",
       "      <td>1002429</td>\n",
       "      <td>5.0</td>\n",
       "      <td>6.740423</td>\n",
       "    </tr>\n",
       "  </tbody>\n",
       "</table>\n",
       "</div>"
      ],
      "text/plain": [
       "     index  Real_y  Predict_y\n",
       "0  1562723     5.0   4.739254\n",
       "1   708695     4.0   4.177796\n",
       "2  1828455     2.0   6.406743\n",
       "3   968859     8.0   5.386602\n",
       "4  2375401     5.0   4.562044\n",
       "5   723699     6.0   6.309007\n",
       "6  2069375     2.0   2.571380\n",
       "7  1655669    10.0   4.477426\n",
       "8   776224     7.0   5.382874\n",
       "9  1002429     5.0   6.740423"
      ]
     },
     "execution_count": 75,
     "metadata": {},
     "output_type": "execute_result"
    }
   ],
   "source": [
    "young_preidiction_df.head(10)"
   ]
  },
  {
   "cell_type": "code",
   "execution_count": 76,
   "id": "3d9e88ae-a37f-49a3-9f83-b52afa760ddf",
   "metadata": {},
   "outputs": [],
   "source": [
    "young_preidiction_df.to_parquet(os.path.join('Results', 'PredictionWB_XgbMiddleModelYoungPrediction_v1.parquet'))"
   ]
  },
  {
   "cell_type": "code",
   "execution_count": null,
   "id": "9dc21d2b-02fa-4aee-9880-f5778fb753aa",
   "metadata": {},
   "outputs": [],
   "source": []
  },
  {
   "cell_type": "markdown",
   "id": "a2c88f10-f014-4ea2-9dd2-09eec6b128fe",
   "metadata": {},
   "source": [
    "### Middle Model Old Prediction"
   ]
  },
  {
   "cell_type": "code",
   "execution_count": 77,
   "id": "df81cd3b-684a-4d7c-81b1-487d653faf1d",
   "metadata": {},
   "outputs": [],
   "source": [
    "column_list = ['index', 'Real_y']\n",
    "for num in list(range(0, 10*10)):\n",
    "    column_list.append(f'Predict_y_{num}')\n",
    "old_preidiction_df = pd.DataFrame(np.array(o_prediction_list).T, columns = column_list)"
   ]
  },
  {
   "cell_type": "code",
   "execution_count": 78,
   "id": "a8dccdac-6705-4add-8889-c6d4afd2b0e1",
   "metadata": {},
   "outputs": [
    {
     "data": {
      "text/html": [
       "<div>\n",
       "<style scoped>\n",
       "    .dataframe tbody tr th:only-of-type {\n",
       "        vertical-align: middle;\n",
       "    }\n",
       "\n",
       "    .dataframe tbody tr th {\n",
       "        vertical-align: top;\n",
       "    }\n",
       "\n",
       "    .dataframe thead th {\n",
       "        text-align: right;\n",
       "    }\n",
       "</style>\n",
       "<table border=\"1\" class=\"dataframe\">\n",
       "  <thead>\n",
       "    <tr style=\"text-align: right;\">\n",
       "      <th></th>\n",
       "      <th>index</th>\n",
       "      <th>Real_y</th>\n",
       "      <th>Predict_y_0</th>\n",
       "      <th>Predict_y_1</th>\n",
       "      <th>Predict_y_2</th>\n",
       "      <th>Predict_y_3</th>\n",
       "      <th>Predict_y_4</th>\n",
       "      <th>Predict_y_5</th>\n",
       "      <th>Predict_y_6</th>\n",
       "      <th>Predict_y_7</th>\n",
       "      <th>...</th>\n",
       "      <th>Predict_y_90</th>\n",
       "      <th>Predict_y_91</th>\n",
       "      <th>Predict_y_92</th>\n",
       "      <th>Predict_y_93</th>\n",
       "      <th>Predict_y_94</th>\n",
       "      <th>Predict_y_95</th>\n",
       "      <th>Predict_y_96</th>\n",
       "      <th>Predict_y_97</th>\n",
       "      <th>Predict_y_98</th>\n",
       "      <th>Predict_y_99</th>\n",
       "    </tr>\n",
       "  </thead>\n",
       "  <tbody>\n",
       "    <tr>\n",
       "      <th>0</th>\n",
       "      <td>1535061.0</td>\n",
       "      <td>2.0</td>\n",
       "      <td>3.969106</td>\n",
       "      <td>3.978705</td>\n",
       "      <td>4.002112</td>\n",
       "      <td>3.892348</td>\n",
       "      <td>3.855026</td>\n",
       "      <td>3.942824</td>\n",
       "      <td>3.897498</td>\n",
       "      <td>3.878018</td>\n",
       "      <td>...</td>\n",
       "      <td>3.960808</td>\n",
       "      <td>3.878315</td>\n",
       "      <td>3.774483</td>\n",
       "      <td>3.760675</td>\n",
       "      <td>4.049340</td>\n",
       "      <td>3.898403</td>\n",
       "      <td>3.829437</td>\n",
       "      <td>4.035239</td>\n",
       "      <td>3.865960</td>\n",
       "      <td>3.857313</td>\n",
       "    </tr>\n",
       "    <tr>\n",
       "      <th>1</th>\n",
       "      <td>718598.0</td>\n",
       "      <td>5.0</td>\n",
       "      <td>5.822968</td>\n",
       "      <td>6.024619</td>\n",
       "      <td>6.085072</td>\n",
       "      <td>5.899174</td>\n",
       "      <td>5.863245</td>\n",
       "      <td>5.779330</td>\n",
       "      <td>5.687943</td>\n",
       "      <td>5.881076</td>\n",
       "      <td>...</td>\n",
       "      <td>5.967302</td>\n",
       "      <td>5.660300</td>\n",
       "      <td>5.966939</td>\n",
       "      <td>5.996565</td>\n",
       "      <td>6.010541</td>\n",
       "      <td>5.952579</td>\n",
       "      <td>5.999315</td>\n",
       "      <td>5.890594</td>\n",
       "      <td>5.734946</td>\n",
       "      <td>5.913235</td>\n",
       "    </tr>\n",
       "    <tr>\n",
       "      <th>2</th>\n",
       "      <td>1701982.0</td>\n",
       "      <td>7.0</td>\n",
       "      <td>6.727386</td>\n",
       "      <td>6.814416</td>\n",
       "      <td>6.813144</td>\n",
       "      <td>6.817902</td>\n",
       "      <td>6.723922</td>\n",
       "      <td>6.719148</td>\n",
       "      <td>6.776139</td>\n",
       "      <td>6.818443</td>\n",
       "      <td>...</td>\n",
       "      <td>6.825069</td>\n",
       "      <td>6.825710</td>\n",
       "      <td>6.869914</td>\n",
       "      <td>6.748897</td>\n",
       "      <td>6.754500</td>\n",
       "      <td>6.878654</td>\n",
       "      <td>6.824768</td>\n",
       "      <td>6.674596</td>\n",
       "      <td>6.822055</td>\n",
       "      <td>6.818986</td>\n",
       "    </tr>\n",
       "    <tr>\n",
       "      <th>3</th>\n",
       "      <td>1578430.0</td>\n",
       "      <td>7.0</td>\n",
       "      <td>6.438377</td>\n",
       "      <td>6.546244</td>\n",
       "      <td>6.500910</td>\n",
       "      <td>6.397367</td>\n",
       "      <td>6.413377</td>\n",
       "      <td>6.568873</td>\n",
       "      <td>6.554882</td>\n",
       "      <td>6.569552</td>\n",
       "      <td>...</td>\n",
       "      <td>6.537684</td>\n",
       "      <td>6.414593</td>\n",
       "      <td>6.605969</td>\n",
       "      <td>6.445230</td>\n",
       "      <td>6.636500</td>\n",
       "      <td>6.388546</td>\n",
       "      <td>6.364561</td>\n",
       "      <td>6.403244</td>\n",
       "      <td>6.428311</td>\n",
       "      <td>6.443772</td>\n",
       "    </tr>\n",
       "    <tr>\n",
       "      <th>4</th>\n",
       "      <td>1398218.0</td>\n",
       "      <td>10.0</td>\n",
       "      <td>7.454511</td>\n",
       "      <td>7.423173</td>\n",
       "      <td>7.347449</td>\n",
       "      <td>7.332770</td>\n",
       "      <td>7.404515</td>\n",
       "      <td>7.324477</td>\n",
       "      <td>7.453548</td>\n",
       "      <td>7.346744</td>\n",
       "      <td>...</td>\n",
       "      <td>7.346906</td>\n",
       "      <td>7.548555</td>\n",
       "      <td>7.263584</td>\n",
       "      <td>7.338118</td>\n",
       "      <td>7.462066</td>\n",
       "      <td>7.430343</td>\n",
       "      <td>7.313087</td>\n",
       "      <td>7.283575</td>\n",
       "      <td>7.534380</td>\n",
       "      <td>7.387546</td>\n",
       "    </tr>\n",
       "  </tbody>\n",
       "</table>\n",
       "<p>5 rows × 102 columns</p>\n",
       "</div>"
      ],
      "text/plain": [
       "       index  Real_y  Predict_y_0  Predict_y_1  Predict_y_2  Predict_y_3  \\\n",
       "0  1535061.0     2.0     3.969106     3.978705     4.002112     3.892348   \n",
       "1   718598.0     5.0     5.822968     6.024619     6.085072     5.899174   \n",
       "2  1701982.0     7.0     6.727386     6.814416     6.813144     6.817902   \n",
       "3  1578430.0     7.0     6.438377     6.546244     6.500910     6.397367   \n",
       "4  1398218.0    10.0     7.454511     7.423173     7.347449     7.332770   \n",
       "\n",
       "   Predict_y_4  Predict_y_5  Predict_y_6  Predict_y_7  ...  Predict_y_90  \\\n",
       "0     3.855026     3.942824     3.897498     3.878018  ...      3.960808   \n",
       "1     5.863245     5.779330     5.687943     5.881076  ...      5.967302   \n",
       "2     6.723922     6.719148     6.776139     6.818443  ...      6.825069   \n",
       "3     6.413377     6.568873     6.554882     6.569552  ...      6.537684   \n",
       "4     7.404515     7.324477     7.453548     7.346744  ...      7.346906   \n",
       "\n",
       "   Predict_y_91  Predict_y_92  Predict_y_93  Predict_y_94  Predict_y_95  \\\n",
       "0      3.878315      3.774483      3.760675      4.049340      3.898403   \n",
       "1      5.660300      5.966939      5.996565      6.010541      5.952579   \n",
       "2      6.825710      6.869914      6.748897      6.754500      6.878654   \n",
       "3      6.414593      6.605969      6.445230      6.636500      6.388546   \n",
       "4      7.548555      7.263584      7.338118      7.462066      7.430343   \n",
       "\n",
       "   Predict_y_96  Predict_y_97  Predict_y_98  Predict_y_99  \n",
       "0      3.829437      4.035239      3.865960      3.857313  \n",
       "1      5.999315      5.890594      5.734946      5.913235  \n",
       "2      6.824768      6.674596      6.822055      6.818986  \n",
       "3      6.364561      6.403244      6.428311      6.443772  \n",
       "4      7.313087      7.283575      7.534380      7.387546  \n",
       "\n",
       "[5 rows x 102 columns]"
      ]
     },
     "execution_count": 78,
     "metadata": {},
     "output_type": "execute_result"
    }
   ],
   "source": [
    "old_preidiction_df.head()"
   ]
  },
  {
   "cell_type": "code",
   "execution_count": 79,
   "id": "64d2ba9d-8201-4811-9b61-105d45e2231a",
   "metadata": {},
   "outputs": [],
   "source": [
    "old_preidiction_df['Predict_y'] = old_preidiction_df.iloc[:,2:103].mean(axis = 1)"
   ]
  },
  {
   "cell_type": "code",
   "execution_count": 80,
   "id": "9bdd0455-ae87-4773-b567-2f51dc9e1e9e",
   "metadata": {},
   "outputs": [
    {
     "data": {
      "text/plain": [
       "0    3.916924\n",
       "1    5.893912\n",
       "2    6.797334\n",
       "3    6.478603\n",
       "4    7.409482\n",
       "Name: Predict_y, dtype: float64"
      ]
     },
     "execution_count": 80,
     "metadata": {},
     "output_type": "execute_result"
    }
   ],
   "source": [
    "old_preidiction_df['Predict_y'].head()"
   ]
  },
  {
   "cell_type": "code",
   "execution_count": 81,
   "id": "cd57e081-e870-4a40-ad08-45cf7256ec06",
   "metadata": {},
   "outputs": [],
   "source": [
    "old_preidiction_df = old_preidiction_df[['index', 'Real_y', 'Predict_y']]"
   ]
  },
  {
   "cell_type": "code",
   "execution_count": 82,
   "id": "e28199b3-d9ee-4e46-b23c-840f48938691",
   "metadata": {},
   "outputs": [],
   "source": [
    "old_preidiction_df['index'] = old_preidiction_df['index'].astype(int)"
   ]
  },
  {
   "cell_type": "code",
   "execution_count": 83,
   "id": "2672f642-2552-4d29-81a4-a6829d2e33dd",
   "metadata": {},
   "outputs": [
    {
     "data": {
      "text/html": [
       "<div>\n",
       "<style scoped>\n",
       "    .dataframe tbody tr th:only-of-type {\n",
       "        vertical-align: middle;\n",
       "    }\n",
       "\n",
       "    .dataframe tbody tr th {\n",
       "        vertical-align: top;\n",
       "    }\n",
       "\n",
       "    .dataframe thead th {\n",
       "        text-align: right;\n",
       "    }\n",
       "</style>\n",
       "<table border=\"1\" class=\"dataframe\">\n",
       "  <thead>\n",
       "    <tr style=\"text-align: right;\">\n",
       "      <th></th>\n",
       "      <th>index</th>\n",
       "      <th>Real_y</th>\n",
       "      <th>Predict_y</th>\n",
       "    </tr>\n",
       "  </thead>\n",
       "  <tbody>\n",
       "    <tr>\n",
       "      <th>0</th>\n",
       "      <td>1535061</td>\n",
       "      <td>2.0</td>\n",
       "      <td>3.916924</td>\n",
       "    </tr>\n",
       "    <tr>\n",
       "      <th>1</th>\n",
       "      <td>718598</td>\n",
       "      <td>5.0</td>\n",
       "      <td>5.893912</td>\n",
       "    </tr>\n",
       "    <tr>\n",
       "      <th>2</th>\n",
       "      <td>1701982</td>\n",
       "      <td>7.0</td>\n",
       "      <td>6.797334</td>\n",
       "    </tr>\n",
       "    <tr>\n",
       "      <th>3</th>\n",
       "      <td>1578430</td>\n",
       "      <td>7.0</td>\n",
       "      <td>6.478603</td>\n",
       "    </tr>\n",
       "    <tr>\n",
       "      <th>4</th>\n",
       "      <td>1398218</td>\n",
       "      <td>10.0</td>\n",
       "      <td>7.409482</td>\n",
       "    </tr>\n",
       "    <tr>\n",
       "      <th>5</th>\n",
       "      <td>1581052</td>\n",
       "      <td>5.0</td>\n",
       "      <td>4.480478</td>\n",
       "    </tr>\n",
       "    <tr>\n",
       "      <th>6</th>\n",
       "      <td>1764291</td>\n",
       "      <td>7.0</td>\n",
       "      <td>5.359951</td>\n",
       "    </tr>\n",
       "    <tr>\n",
       "      <th>7</th>\n",
       "      <td>1322632</td>\n",
       "      <td>7.0</td>\n",
       "      <td>5.057159</td>\n",
       "    </tr>\n",
       "    <tr>\n",
       "      <th>8</th>\n",
       "      <td>2573377</td>\n",
       "      <td>8.0</td>\n",
       "      <td>4.907039</td>\n",
       "    </tr>\n",
       "    <tr>\n",
       "      <th>9</th>\n",
       "      <td>865858</td>\n",
       "      <td>8.0</td>\n",
       "      <td>7.000365</td>\n",
       "    </tr>\n",
       "  </tbody>\n",
       "</table>\n",
       "</div>"
      ],
      "text/plain": [
       "     index  Real_y  Predict_y\n",
       "0  1535061     2.0   3.916924\n",
       "1   718598     5.0   5.893912\n",
       "2  1701982     7.0   6.797334\n",
       "3  1578430     7.0   6.478603\n",
       "4  1398218    10.0   7.409482\n",
       "5  1581052     5.0   4.480478\n",
       "6  1764291     7.0   5.359951\n",
       "7  1322632     7.0   5.057159\n",
       "8  2573377     8.0   4.907039\n",
       "9   865858     8.0   7.000365"
      ]
     },
     "execution_count": 83,
     "metadata": {},
     "output_type": "execute_result"
    }
   ],
   "source": [
    "old_preidiction_df.head(10)"
   ]
  },
  {
   "cell_type": "code",
   "execution_count": 84,
   "id": "9fc36334-5d43-4c60-ba6d-e359bc6e55a4",
   "metadata": {},
   "outputs": [],
   "source": [
    "old_preidiction_df.to_parquet(os.path.join('Results', 'PredictionWB_XgbMiddleModelOldPrediction_v1.parquet'))"
   ]
  },
  {
   "cell_type": "code",
   "execution_count": null,
   "id": "9bc42a99-ef1b-4cf1-91f1-7214fb74f143",
   "metadata": {},
   "outputs": [],
   "source": []
  },
  {
   "cell_type": "markdown",
   "id": "6c6a733a-92ad-4c29-98fa-b7c692b3f1f4",
   "metadata": {},
   "source": [
    "### Middle Model Middle Prediction"
   ]
  },
  {
   "cell_type": "code",
   "execution_count": 85,
   "id": "b70c3d7e-3ba1-4e39-af64-2e6951d6edd1",
   "metadata": {},
   "outputs": [
    {
     "name": "stdout",
     "output_type": "stream",
     "text": [
      "Index(['index', 'Real_y', 'Predict_y_0'], dtype='object')\n",
      "Index(['index', 'Real_y', 'Predict_y_1'], dtype='object')\n",
      "Index(['index', 'Real_y', 'Predict_y_2'], dtype='object')\n",
      "Index(['index', 'Real_y', 'Predict_y_3'], dtype='object')\n",
      "Index(['index', 'Real_y', 'Predict_y_4'], dtype='object')\n",
      "Index(['index', 'Real_y', 'Predict_y_5'], dtype='object')\n",
      "Index(['index', 'Real_y', 'Predict_y_6'], dtype='object')\n",
      "Index(['index', 'Real_y', 'Predict_y_7'], dtype='object')\n",
      "Index(['index', 'Real_y', 'Predict_y_8'], dtype='object')\n",
      "Index(['index', 'Real_y', 'Predict_y_9'], dtype='object')\n"
     ]
    }
   ],
   "source": [
    "merged_middle_prediction_df = None\n",
    "for middle_prediction_df in fold_predictions_array_list:\n",
    "    middle_prediction_df['index'] = middle_prediction_df['index'].astype(int)\n",
    "    middle_prediction_df['Real_y'] = middle_prediction_df['Real_y'].astype(int)\n",
    "    print(middle_prediction_df.columns)\n",
    "    if merged_middle_prediction_df is None:\n",
    "        merged_middle_prediction_df = middle_prediction_df\n",
    "    else:\n",
    "        merged_middle_prediction_df = pd.merge(merged_middle_prediction_df, middle_prediction_df, on=['index', 'Real_y'])"
   ]
  },
  {
   "cell_type": "code",
   "execution_count": 86,
   "id": "01da0cef-46f3-4043-94d2-0c7000566efc",
   "metadata": {},
   "outputs": [
    {
     "data": {
      "text/html": [
       "<div>\n",
       "<style scoped>\n",
       "    .dataframe tbody tr th:only-of-type {\n",
       "        vertical-align: middle;\n",
       "    }\n",
       "\n",
       "    .dataframe tbody tr th {\n",
       "        vertical-align: top;\n",
       "    }\n",
       "\n",
       "    .dataframe thead th {\n",
       "        text-align: right;\n",
       "    }\n",
       "</style>\n",
       "<table border=\"1\" class=\"dataframe\">\n",
       "  <thead>\n",
       "    <tr style=\"text-align: right;\">\n",
       "      <th></th>\n",
       "      <th>index</th>\n",
       "      <th>Real_y</th>\n",
       "      <th>Predict_y_0</th>\n",
       "      <th>Predict_y_1</th>\n",
       "      <th>Predict_y_2</th>\n",
       "      <th>Predict_y_3</th>\n",
       "      <th>Predict_y_4</th>\n",
       "      <th>Predict_y_5</th>\n",
       "      <th>Predict_y_6</th>\n",
       "      <th>Predict_y_7</th>\n",
       "      <th>Predict_y_8</th>\n",
       "      <th>Predict_y_9</th>\n",
       "    </tr>\n",
       "  </thead>\n",
       "  <tbody>\n",
       "    <tr>\n",
       "      <th>0</th>\n",
       "      <td>1469152</td>\n",
       "      <td>7</td>\n",
       "      <td>6.578477</td>\n",
       "      <td>6.417754</td>\n",
       "      <td>6.532204</td>\n",
       "      <td>6.383023</td>\n",
       "      <td>6.512581</td>\n",
       "      <td>6.364153</td>\n",
       "      <td>6.606808</td>\n",
       "      <td>6.389546</td>\n",
       "      <td>6.540977</td>\n",
       "      <td>6.587455</td>\n",
       "    </tr>\n",
       "    <tr>\n",
       "      <th>1</th>\n",
       "      <td>1761492</td>\n",
       "      <td>5</td>\n",
       "      <td>5.936441</td>\n",
       "      <td>6.118467</td>\n",
       "      <td>6.045741</td>\n",
       "      <td>6.127396</td>\n",
       "      <td>6.048608</td>\n",
       "      <td>6.127149</td>\n",
       "      <td>6.125085</td>\n",
       "      <td>6.146679</td>\n",
       "      <td>6.175223</td>\n",
       "      <td>6.074225</td>\n",
       "    </tr>\n",
       "    <tr>\n",
       "      <th>2</th>\n",
       "      <td>1605988</td>\n",
       "      <td>6</td>\n",
       "      <td>4.549599</td>\n",
       "      <td>4.594558</td>\n",
       "      <td>4.297661</td>\n",
       "      <td>4.596976</td>\n",
       "      <td>4.715903</td>\n",
       "      <td>4.599617</td>\n",
       "      <td>4.431871</td>\n",
       "      <td>4.495641</td>\n",
       "      <td>4.724684</td>\n",
       "      <td>4.320829</td>\n",
       "    </tr>\n",
       "    <tr>\n",
       "      <th>3</th>\n",
       "      <td>1027429</td>\n",
       "      <td>7</td>\n",
       "      <td>6.008943</td>\n",
       "      <td>6.100342</td>\n",
       "      <td>6.119356</td>\n",
       "      <td>6.058822</td>\n",
       "      <td>6.040822</td>\n",
       "      <td>6.097470</td>\n",
       "      <td>5.986335</td>\n",
       "      <td>6.019828</td>\n",
       "      <td>6.010950</td>\n",
       "      <td>6.184084</td>\n",
       "    </tr>\n",
       "    <tr>\n",
       "      <th>4</th>\n",
       "      <td>2225558</td>\n",
       "      <td>5</td>\n",
       "      <td>4.788544</td>\n",
       "      <td>4.693890</td>\n",
       "      <td>4.864774</td>\n",
       "      <td>4.808639</td>\n",
       "      <td>4.688700</td>\n",
       "      <td>4.888168</td>\n",
       "      <td>4.841007</td>\n",
       "      <td>4.842601</td>\n",
       "      <td>4.956825</td>\n",
       "      <td>4.772230</td>\n",
       "    </tr>\n",
       "  </tbody>\n",
       "</table>\n",
       "</div>"
      ],
      "text/plain": [
       "     index  Real_y  Predict_y_0  Predict_y_1  Predict_y_2  Predict_y_3  \\\n",
       "0  1469152       7     6.578477     6.417754     6.532204     6.383023   \n",
       "1  1761492       5     5.936441     6.118467     6.045741     6.127396   \n",
       "2  1605988       6     4.549599     4.594558     4.297661     4.596976   \n",
       "3  1027429       7     6.008943     6.100342     6.119356     6.058822   \n",
       "4  2225558       5     4.788544     4.693890     4.864774     4.808639   \n",
       "\n",
       "   Predict_y_4  Predict_y_5  Predict_y_6  Predict_y_7  Predict_y_8  \\\n",
       "0     6.512581     6.364153     6.606808     6.389546     6.540977   \n",
       "1     6.048608     6.127149     6.125085     6.146679     6.175223   \n",
       "2     4.715903     4.599617     4.431871     4.495641     4.724684   \n",
       "3     6.040822     6.097470     5.986335     6.019828     6.010950   \n",
       "4     4.688700     4.888168     4.841007     4.842601     4.956825   \n",
       "\n",
       "   Predict_y_9  \n",
       "0     6.587455  \n",
       "1     6.074225  \n",
       "2     4.320829  \n",
       "3     6.184084  \n",
       "4     4.772230  "
      ]
     },
     "execution_count": 86,
     "metadata": {},
     "output_type": "execute_result"
    }
   ],
   "source": [
    "merged_middle_prediction_df.head()"
   ]
  },
  {
   "cell_type": "code",
   "execution_count": 87,
   "id": "3c5b4758-92ec-415c-940b-898638533552",
   "metadata": {},
   "outputs": [],
   "source": [
    "merged_middle_prediction_df['Predict_y'] = merged_middle_prediction_df.iloc[:,2:13].mean(axis = 1)"
   ]
  },
  {
   "cell_type": "code",
   "execution_count": 88,
   "id": "d1e91f14-7077-414a-b8c5-c74aa2ccbeac",
   "metadata": {},
   "outputs": [],
   "source": [
    "merged_middle_prediction_df = merged_middle_prediction_df[['index', 'Real_y', 'Predict_y']]"
   ]
  },
  {
   "cell_type": "code",
   "execution_count": 89,
   "id": "1007f90a-5b6f-49fc-86e0-fabf21c529b9",
   "metadata": {},
   "outputs": [
    {
     "data": {
      "text/html": [
       "<div>\n",
       "<style scoped>\n",
       "    .dataframe tbody tr th:only-of-type {\n",
       "        vertical-align: middle;\n",
       "    }\n",
       "\n",
       "    .dataframe tbody tr th {\n",
       "        vertical-align: top;\n",
       "    }\n",
       "\n",
       "    .dataframe thead th {\n",
       "        text-align: right;\n",
       "    }\n",
       "</style>\n",
       "<table border=\"1\" class=\"dataframe\">\n",
       "  <thead>\n",
       "    <tr style=\"text-align: right;\">\n",
       "      <th></th>\n",
       "      <th>index</th>\n",
       "      <th>Real_y</th>\n",
       "      <th>Predict_y</th>\n",
       "    </tr>\n",
       "  </thead>\n",
       "  <tbody>\n",
       "    <tr>\n",
       "      <th>0</th>\n",
       "      <td>1469152</td>\n",
       "      <td>7</td>\n",
       "      <td>6.491298</td>\n",
       "    </tr>\n",
       "    <tr>\n",
       "      <th>1</th>\n",
       "      <td>1761492</td>\n",
       "      <td>5</td>\n",
       "      <td>6.092501</td>\n",
       "    </tr>\n",
       "    <tr>\n",
       "      <th>2</th>\n",
       "      <td>1605988</td>\n",
       "      <td>6</td>\n",
       "      <td>4.532734</td>\n",
       "    </tr>\n",
       "    <tr>\n",
       "      <th>3</th>\n",
       "      <td>1027429</td>\n",
       "      <td>7</td>\n",
       "      <td>6.062695</td>\n",
       "    </tr>\n",
       "    <tr>\n",
       "      <th>4</th>\n",
       "      <td>2225558</td>\n",
       "      <td>5</td>\n",
       "      <td>4.814538</td>\n",
       "    </tr>\n",
       "    <tr>\n",
       "      <th>5</th>\n",
       "      <td>1761622</td>\n",
       "      <td>3</td>\n",
       "      <td>4.233992</td>\n",
       "    </tr>\n",
       "    <tr>\n",
       "      <th>6</th>\n",
       "      <td>2438374</td>\n",
       "      <td>4</td>\n",
       "      <td>3.697439</td>\n",
       "    </tr>\n",
       "    <tr>\n",
       "      <th>7</th>\n",
       "      <td>2482997</td>\n",
       "      <td>5</td>\n",
       "      <td>6.814744</td>\n",
       "    </tr>\n",
       "    <tr>\n",
       "      <th>8</th>\n",
       "      <td>537644</td>\n",
       "      <td>8</td>\n",
       "      <td>7.714562</td>\n",
       "    </tr>\n",
       "    <tr>\n",
       "      <th>9</th>\n",
       "      <td>618292</td>\n",
       "      <td>5</td>\n",
       "      <td>4.451225</td>\n",
       "    </tr>\n",
       "  </tbody>\n",
       "</table>\n",
       "</div>"
      ],
      "text/plain": [
       "     index  Real_y  Predict_y\n",
       "0  1469152       7   6.491298\n",
       "1  1761492       5   6.092501\n",
       "2  1605988       6   4.532734\n",
       "3  1027429       7   6.062695\n",
       "4  2225558       5   4.814538\n",
       "5  1761622       3   4.233992\n",
       "6  2438374       4   3.697439\n",
       "7  2482997       5   6.814744\n",
       "8   537644       8   7.714562\n",
       "9   618292       5   4.451225"
      ]
     },
     "execution_count": 89,
     "metadata": {},
     "output_type": "execute_result"
    }
   ],
   "source": [
    "merged_middle_prediction_df.head(10)"
   ]
  },
  {
   "cell_type": "code",
   "execution_count": 90,
   "id": "224fb4ea-d4f3-44ac-b427-01be593b5811",
   "metadata": {},
   "outputs": [],
   "source": [
    "merged_middle_prediction_df.to_parquet(os.path.join('Results', 'PredictionWB_XgbMiddleModelMiddlePrediction_v1.parquet'))"
   ]
  },
  {
   "cell_type": "code",
   "execution_count": null,
   "id": "3e25f43d-7188-4509-8c8b-f641363cb827",
   "metadata": {},
   "outputs": [],
   "source": []
  },
  {
   "cell_type": "markdown",
   "id": "94a26ec4-69a0-4053-a897-d79797a7c43a",
   "metadata": {},
   "source": [
    "### Old Hyperparameter Reload, build model, and conduct 10 fold 10 times CV"
   ]
  },
  {
   "cell_type": "code",
   "execution_count": 91,
   "id": "e2cf4604-53a9-4f89-9258-28ce2a4eb3e1",
   "metadata": {},
   "outputs": [],
   "source": [
    "class RandomRunNFoldsKFold(KFold):\n",
    "    def __init__(self, n_splits=10, random_state=None, run_splits=3, **kwargs):\n",
    "        super().__init__(n_splits=n_splits, shuffle=True, random_state=random_state, **kwargs)\n",
    "        self.random_state = random_state\n",
    "        self.actual_splits = run_splits  # Number of actual splits to use\n",
    "\n",
    "    def split(self, X, y=None, groups=None):\n",
    "        folds = list(super().split(X, y, groups))\n",
    "        if self.random_state is not None:\n",
    "            random.seed(self.random_state)\n",
    "        selected_folds = random.sample(folds, self.actual_splits)\n",
    "        for train_index, test_index in selected_folds:\n",
    "            yield train_index, test_index\n",
    "\n",
    "    def get_n_splits(self, X=None, y=None, groups=None):\n",
    "        return self.actual_splits"
   ]
  },
  {
   "cell_type": "code",
   "execution_count": 24,
   "id": "da205d33-a90e-4162-becc-68b948ff0bc3",
   "metadata": {},
   "outputs": [],
   "source": [
    "bayes_search_young = load('Results/BayesSearchAgeOld20iter.joblib')"
   ]
  },
  {
   "cell_type": "code",
   "execution_count": 25,
   "id": "400e9a77-3629-4ffa-8b98-5c63aa2cb338",
   "metadata": {},
   "outputs": [
    {
     "data": {
      "text/plain": [
       "mean_fit_time                                                     34.022171\n",
       "std_fit_time                                                       0.825355\n",
       "mean_score_time                                                    0.056066\n",
       "std_score_time                                                     0.001606\n",
       "param_gamma                                                        1.204548\n",
       "param_learning_rate                                                0.030685\n",
       "param_max_delta_step                                               0.380578\n",
       "param_max_depth                                                          13\n",
       "param_min_child_weight                                             0.002362\n",
       "param_n_estimators                                                      540\n",
       "param_reg_alpha                                                    6.590411\n",
       "param_reg_lambda                                                   0.016427\n",
       "param_subsample                                                    0.557202\n",
       "params                    {'gamma': 1.2045479993021058, 'learning_rate':...\n",
       "split0_test_score                                                  0.402056\n",
       "split1_test_score                                                  0.404643\n",
       "split2_test_score                                                  0.407185\n",
       "mean_test_score                                                    0.404628\n",
       "std_test_score                                                     0.002094\n",
       "rank_test_score                                                           1\n",
       "split0_train_score                                                 0.671441\n",
       "split1_train_score                                                 0.672732\n",
       "split2_train_score                                                 0.672991\n",
       "mean_train_score                                                   0.672388\n",
       "std_train_score                                                    0.000678\n",
       "rank_train_score                                                          5\n",
       "Name: 11, dtype: object"
      ]
     },
     "execution_count": 25,
     "metadata": {},
     "output_type": "execute_result"
    }
   ],
   "source": [
    "CV_result = bayes_search_young.cv_results_\n",
    "pd.DataFrame(CV_result).sort_values(by='rank_test_score', ascending=True).iloc[0,:]"
   ]
  },
  {
   "cell_type": "code",
   "execution_count": 93,
   "id": "3013ffab-3bbe-47d9-aa31-bd44e981122a",
   "metadata": {},
   "outputs": [
    {
     "name": "stdout",
     "output_type": "stream",
     "text": [
      "Best parameters: OrderedDict([('gamma', 1.2045479993021058), ('learning_rate', 0.030685320506680522), ('max_delta_step', 0.3805781770349062), ('max_depth', 13), ('min_child_weight', 0.002361695637610135), ('n_estimators', 540), ('reg_alpha', 6.59041086695112), ('reg_lambda', 0.01642699361057668), ('subsample', 0.5572023993404673)])\n",
      "Best score: 0.40462796837403414\n"
     ]
    }
   ],
   "source": [
    "print(f\"Best parameters: {bayes_search_young.best_params_}\")\n",
    "print(f\"Best score: {bayes_search_young.best_score_}\")"
   ]
  },
  {
   "cell_type": "code",
   "execution_count": 94,
   "id": "0f803145-fd28-434f-b06c-888770928437",
   "metadata": {},
   "outputs": [
    {
     "data": {
      "text/plain": [
       "{'gamma': 1.2045479993021058,\n",
       " 'learning_rate': 0.030685320506680522,\n",
       " 'max_delta_step': 0.3805781770349062,\n",
       " 'max_depth': 13,\n",
       " 'min_child_weight': 0.002361695637610135,\n",
       " 'n_estimators': 540,\n",
       " 'reg_alpha': 6.59041086695112,\n",
       " 'reg_lambda': 0.01642699361057668,\n",
       " 'subsample': 0.5572023993404673}"
      ]
     },
     "execution_count": 94,
     "metadata": {},
     "output_type": "execute_result"
    }
   ],
   "source": [
    "dict(bayes_search_young.best_params_)"
   ]
  },
  {
   "cell_type": "code",
   "execution_count": 95,
   "id": "0c544be8-9a40-4947-9994-c264dcac9853",
   "metadata": {},
   "outputs": [],
   "source": [
    "old_xgb = xgb.XGBRegressor(objective='reg:squarederror',  device = 'cuda', tree_method='hist', random_state=42, enable_categorical=True, **bayes_search_young.best_params_)"
   ]
  },
  {
   "cell_type": "code",
   "execution_count": 96,
   "id": "52709b02-aaed-40f7-b6a5-fe705fc9176e",
   "metadata": {},
   "outputs": [],
   "source": [
    "kf = KFold(n_splits=10, shuffle=True, random_state=42)"
   ]
  },
  {
   "cell_type": "code",
   "execution_count": 97,
   "id": "2d369c8d-a8ab-4900-9392-eca8e530982f",
   "metadata": {},
   "outputs": [],
   "source": [
    "scores = cross_val_score(young_xgb, Xo, yo, cv=kf, scoring='r2')"
   ]
  },
  {
   "cell_type": "code",
   "execution_count": 98,
   "id": "3c0297cd-25fd-4fe4-999f-8e4c4e62ed40",
   "metadata": {},
   "outputs": [
    {
     "data": {
      "text/plain": [
       "array([0.40170052, 0.39842216, 0.4012616 , 0.40491502, 0.40255832,\n",
       "       0.40758486, 0.39560507, 0.40361746, 0.40749449, 0.39730465])"
      ]
     },
     "execution_count": 98,
     "metadata": {},
     "output_type": "execute_result"
    }
   ],
   "source": [
    "scores"
   ]
  },
  {
   "cell_type": "code",
   "execution_count": 99,
   "id": "dc3c0e96-0bfb-4d6a-b145-5b89dccc1e17",
   "metadata": {},
   "outputs": [
    {
     "data": {
      "text/html": [
       "<div>\n",
       "<style scoped>\n",
       "    .dataframe tbody tr th:only-of-type {\n",
       "        vertical-align: middle;\n",
       "    }\n",
       "\n",
       "    .dataframe tbody tr th {\n",
       "        vertical-align: top;\n",
       "    }\n",
       "\n",
       "    .dataframe thead th {\n",
       "        text-align: right;\n",
       "    }\n",
       "</style>\n",
       "<table border=\"1\" class=\"dataframe\">\n",
       "  <thead>\n",
       "    <tr style=\"text-align: right;\">\n",
       "      <th></th>\n",
       "      <th>wave</th>\n",
       "      <th>INCOME_2</th>\n",
       "      <th>Health_disable</th>\n",
       "      <th>Relative_have</th>\n",
       "      <th>Living_standard_change</th>\n",
       "      <th>Enough_food</th>\n",
       "      <th>Enough_shelter</th>\n",
       "      <th>Well_rested</th>\n",
       "      <th>Respected</th>\n",
       "      <th>Smile</th>\n",
       "      <th>...</th>\n",
       "      <th>Corruption_business</th>\n",
       "      <th>Corruption_government</th>\n",
       "      <th>Performance_leadership</th>\n",
       "      <th>Gender_female</th>\n",
       "      <th>Marital_status</th>\n",
       "      <th>Employment</th>\n",
       "      <th>Children_under15</th>\n",
       "      <th>Feeling_income</th>\n",
       "      <th>Income_level</th>\n",
       "      <th>COUNTRY_ISO3</th>\n",
       "    </tr>\n",
       "  </thead>\n",
       "  <tbody>\n",
       "    <tr>\n",
       "      <th>1535061</th>\n",
       "      <td>10</td>\n",
       "      <td>4467.534252</td>\n",
       "      <td>1.0</td>\n",
       "      <td>1.0</td>\n",
       "      <td>-0.0</td>\n",
       "      <td>0.0</td>\n",
       "      <td>0.0</td>\n",
       "      <td>0.0</td>\n",
       "      <td>1.0</td>\n",
       "      <td>0.0</td>\n",
       "      <td>...</td>\n",
       "      <td>0.0</td>\n",
       "      <td>0.0</td>\n",
       "      <td>0.0</td>\n",
       "      <td>1.0</td>\n",
       "      <td>5.0</td>\n",
       "      <td>6.0</td>\n",
       "      <td>0.0</td>\n",
       "      <td>3.0</td>\n",
       "      <td>3.0</td>\n",
       "      <td>MNE</td>\n",
       "    </tr>\n",
       "    <tr>\n",
       "      <th>718598</th>\n",
       "      <td>6</td>\n",
       "      <td>9792.918107</td>\n",
       "      <td>2.0</td>\n",
       "      <td>1.0</td>\n",
       "      <td>-0.0</td>\n",
       "      <td>0.0</td>\n",
       "      <td>0.0</td>\n",
       "      <td>0.0</td>\n",
       "      <td>0.0</td>\n",
       "      <td>1.0</td>\n",
       "      <td>...</td>\n",
       "      <td>0.0</td>\n",
       "      <td>0.0</td>\n",
       "      <td>0.0</td>\n",
       "      <td>1.0</td>\n",
       "      <td>5.0</td>\n",
       "      <td>6.0</td>\n",
       "      <td>0.0</td>\n",
       "      <td>2.0</td>\n",
       "      <td>4.0</td>\n",
       "      <td>BLR</td>\n",
       "    </tr>\n",
       "    <tr>\n",
       "      <th>1701982</th>\n",
       "      <td>11</td>\n",
       "      <td>13238.653845</td>\n",
       "      <td>2.0</td>\n",
       "      <td>1.0</td>\n",
       "      <td>-0.0</td>\n",
       "      <td>0.0</td>\n",
       "      <td>0.0</td>\n",
       "      <td>1.0</td>\n",
       "      <td>1.0</td>\n",
       "      <td>1.0</td>\n",
       "      <td>...</td>\n",
       "      <td>1.0</td>\n",
       "      <td>1.0</td>\n",
       "      <td>1.0</td>\n",
       "      <td>1.0</td>\n",
       "      <td>2.0</td>\n",
       "      <td>6.0</td>\n",
       "      <td>0.0</td>\n",
       "      <td>2.0</td>\n",
       "      <td>4.0</td>\n",
       "      <td>URY</td>\n",
       "    </tr>\n",
       "    <tr>\n",
       "      <th>1578430</th>\n",
       "      <td>11</td>\n",
       "      <td>10734.066166</td>\n",
       "      <td>1.0</td>\n",
       "      <td>1.0</td>\n",
       "      <td>-0.0</td>\n",
       "      <td>0.0</td>\n",
       "      <td>0.0</td>\n",
       "      <td>1.0</td>\n",
       "      <td>1.0</td>\n",
       "      <td>1.0</td>\n",
       "      <td>...</td>\n",
       "      <td>0.0</td>\n",
       "      <td>0.0</td>\n",
       "      <td>1.0</td>\n",
       "      <td>1.0</td>\n",
       "      <td>5.0</td>\n",
       "      <td>6.0</td>\n",
       "      <td>0.0</td>\n",
       "      <td>2.0</td>\n",
       "      <td>3.0</td>\n",
       "      <td>CZE</td>\n",
       "    </tr>\n",
       "    <tr>\n",
       "      <th>1398218</th>\n",
       "      <td>9</td>\n",
       "      <td>24336.227568</td>\n",
       "      <td>2.0</td>\n",
       "      <td>1.0</td>\n",
       "      <td>-0.0</td>\n",
       "      <td>0.0</td>\n",
       "      <td>0.0</td>\n",
       "      <td>1.0</td>\n",
       "      <td>0.0</td>\n",
       "      <td>1.0</td>\n",
       "      <td>...</td>\n",
       "      <td>1.0</td>\n",
       "      <td>1.0</td>\n",
       "      <td>0.0</td>\n",
       "      <td>0.0</td>\n",
       "      <td>2.0</td>\n",
       "      <td>6.0</td>\n",
       "      <td>0.0</td>\n",
       "      <td>2.0</td>\n",
       "      <td>2.0</td>\n",
       "      <td>FIN</td>\n",
       "    </tr>\n",
       "  </tbody>\n",
       "</table>\n",
       "<p>5 rows × 62 columns</p>\n",
       "</div>"
      ],
      "text/plain": [
       "         wave      INCOME_2  Health_disable  Relative_have  \\\n",
       "1535061    10   4467.534252             1.0            1.0   \n",
       "718598      6   9792.918107             2.0            1.0   \n",
       "1701982    11  13238.653845             2.0            1.0   \n",
       "1578430    11  10734.066166             1.0            1.0   \n",
       "1398218     9  24336.227568             2.0            1.0   \n",
       "\n",
       "         Living_standard_change  Enough_food  Enough_shelter  Well_rested  \\\n",
       "1535061                    -0.0          0.0             0.0          0.0   \n",
       "718598                     -0.0          0.0             0.0          0.0   \n",
       "1701982                    -0.0          0.0             0.0          1.0   \n",
       "1578430                    -0.0          0.0             0.0          1.0   \n",
       "1398218                    -0.0          0.0             0.0          1.0   \n",
       "\n",
       "         Respected  Smile  ...  Corruption_business  Corruption_government  \\\n",
       "1535061        1.0    0.0  ...                  0.0                    0.0   \n",
       "718598         0.0    1.0  ...                  0.0                    0.0   \n",
       "1701982        1.0    1.0  ...                  1.0                    1.0   \n",
       "1578430        1.0    1.0  ...                  0.0                    0.0   \n",
       "1398218        0.0    1.0  ...                  1.0                    1.0   \n",
       "\n",
       "         Performance_leadership  Gender_female  Marital_status  Employment  \\\n",
       "1535061                     0.0            1.0             5.0         6.0   \n",
       "718598                      0.0            1.0             5.0         6.0   \n",
       "1701982                     1.0            1.0             2.0         6.0   \n",
       "1578430                     1.0            1.0             5.0         6.0   \n",
       "1398218                     0.0            0.0             2.0         6.0   \n",
       "\n",
       "         Children_under15  Feeling_income  Income_level  COUNTRY_ISO3  \n",
       "1535061               0.0             3.0           3.0           MNE  \n",
       "718598                0.0             2.0           4.0           BLR  \n",
       "1701982               0.0             2.0           4.0           URY  \n",
       "1578430               0.0             2.0           3.0           CZE  \n",
       "1398218               0.0             2.0           2.0           FIN  \n",
       "\n",
       "[5 rows x 62 columns]"
      ]
     },
     "execution_count": 99,
     "metadata": {},
     "output_type": "execute_result"
    }
   ],
   "source": [
    "Xo.head()"
   ]
  },
  {
   "cell_type": "code",
   "execution_count": 100,
   "id": "4b3d6fea-8905-413d-8ed2-143c3c250e56",
   "metadata": {},
   "outputs": [
    {
     "data": {
      "text/plain": [
       "1535061     2.0\n",
       "718598      5.0\n",
       "1701982     7.0\n",
       "1578430     7.0\n",
       "1398218    10.0\n",
       "Name: Cantril_ladder, dtype: float64"
      ]
     },
     "execution_count": 100,
     "metadata": {},
     "output_type": "execute_result"
    }
   ],
   "source": [
    "yo.head()"
   ]
  },
  {
   "cell_type": "code",
   "execution_count": 101,
   "id": "16ca89e9-2896-47b9-9ab6-9ebda26dad01",
   "metadata": {},
   "outputs": [],
   "source": [
    "random.seed(42)"
   ]
  },
  {
   "cell_type": "code",
   "execution_count": 102,
   "id": "5ea9de7f-4416-444a-809e-c59de9c516cc",
   "metadata": {},
   "outputs": [
    {
     "name": "stdout",
     "output_type": "stream",
     "text": [
      "[1824, 409, 4506, 4012, 3657, 2286, 1679, 1424, 6912, 520]\n"
     ]
    }
   ],
   "source": [
    "range_limit = 8192\n",
    "num_samples = 10\n",
    "sampled_integers = random.sample(range(range_limit), num_samples)\n",
    "print(sampled_integers)"
   ]
  },
  {
   "cell_type": "code",
   "execution_count": 103,
   "id": "9664f928-4590-4347-b9f8-83ff064c1461",
   "metadata": {},
   "outputs": [],
   "source": [
    "X = Xo\n",
    "y = yo\n",
    "model = old_xgb"
   ]
  },
  {
   "cell_type": "code",
   "execution_count": 104,
   "id": "c421a045-3027-4353-953b-b4f242bb9cf9",
   "metadata": {},
   "outputs": [
    {
     "name": "stdout",
     "output_type": "stream",
     "text": [
      "Mean R2: 0.4044587694230886\n",
      "Standard Deviation of R2: 0.006288313207473653\n",
      "R2 list: [0.40928855258277574, 0.39222826121218857, 0.41166991315215784, 0.40850282058733733, 0.40500514081728944, 0.4017740900815038, 0.4036665994833275, 0.39548015237970746, 0.4044256549555284, 0.4125465089790695]\n",
      "R2 Young list: [0.2979886627866627, 0.29791966173551165, 0.29894049798372246, 0.2979187079704628, 0.29677522905717924, 0.2982929078460792, 0.297470635886913, 0.2981276880765539, 0.29752941801220034, 0.2974326126343281]\n",
      "R2 Middle list: [0.3763524808835307, 0.3764913869783597, 0.37686628596614913, 0.3762348644905381, 0.3757916163520967, 0.3764627504577214, 0.37614462200025434, 0.3767538282211552, 0.3767616103822383, 0.37620457769262705]\n",
      "Mean R2: 0.4041501660956114\n",
      "Standard Deviation of R2: 0.005108994427981802\n",
      "R2 list: [0.40090970887714383, 0.41054186821886496, 0.3970947368501335, 0.40838961267102736, 0.3991880086739322, 0.40480922321630053, 0.39875702108856637, 0.41253052235674903, 0.4017200967047192, 0.40756086229867705]\n",
      "R2 Young list: [0.29775737342325503, 0.2971685917587894, 0.29661542064488366, 0.29805361203423697, 0.29696388859773426, 0.2980296619614804, 0.29759947376074625, 0.29796374504368384, 0.2987378602746452, 0.29877520216772013]\n",
      "R2 Middle list: [0.3761552796883785, 0.3759316117920193, 0.3760354090791189, 0.3767300880432346, 0.37624361808817386, 0.37669262315645446, 0.3759886362087319, 0.37616878794175546, 0.3765844649155856, 0.37671128068397153]\n",
      "Mean R2: 0.40419295970955077\n",
      "Standard Deviation of R2: 0.004470699764676435\n",
      "R2 list: [0.40202573442332346, 0.40279890156678155, 0.40412586897405534, 0.4132567262296458, 0.4057563534889602, 0.40030292663461, 0.3991528242750305, 0.4107062552959, 0.39914742244161916, 0.4046565837655818]\n",
      "R2 Young list: [0.29729368126816813, 0.297536875365744, 0.29712291386660594, 0.29826178976730044, 0.29897802431203147, 0.29738676691912913, 0.29844830096340613, 0.29810847280860675, 0.2971130618823181, 0.29784913516725675]\n",
      "R2 Middle list: [0.37599501044835837, 0.37665417523377, 0.37585483127406294, 0.3765977340012482, 0.37654130439881106, 0.37664304683476124, 0.3767202119914149, 0.3768583334103438, 0.3756492659822931, 0.3759589405156306]\n",
      "Mean R2: 0.40422561905039167\n",
      "Standard Deviation of R2: 0.0035488903369027326\n",
      "R2 list: [0.40099112374845824, 0.4048093802140553, 0.4092575404455725, 0.4019445772993161, 0.4034955483929462, 0.40819749437416075, 0.4090178189516086, 0.3981720898433935, 0.40137748938103446, 0.40499312785337105]\n",
      "R2 Young list: [0.2978364600790693, 0.2984750216922194, 0.29791834022461106, 0.29867866068768456, 0.29763748907401644, 0.29737031345668963, 0.2971455329821858, 0.29851041775624576, 0.29769424566636027, 0.2985625761694005]\n",
      "R2 Middle list: [0.37661903425944254, 0.3767968688829074, 0.3760992218923751, 0.3771609885123849, 0.376448552854037, 0.37632361835307704, 0.37598405103166577, 0.3765507592685653, 0.3764789526033614, 0.3762910807927409]\n",
      "Mean R2: 0.4046106568997354\n",
      "Standard Deviation of R2: 0.0033571346101738133\n",
      "R2 list: [0.40910346008949205, 0.4063619604105697, 0.3993060201042725, 0.4019420571259369, 0.405059551470204, 0.40504169486129304, 0.40580231966968316, 0.4043779324177812, 0.3994409528639564, 0.40967061998416543]\n",
      "R2 Young list: [0.29806662001556816, 0.29876330178642463, 0.29799405673244994, 0.29818741935243154, 0.29837500194857847, 0.29694199553296796, 0.297524168270463, 0.29775651985336893, 0.2973034946698915, 0.2975119348139421]\n",
      "R2 Middle list: [0.3762611702312093, 0.3763197480448546, 0.37649677878644194, 0.37662994799466, 0.37665008163956504, 0.37637210497202, 0.37624835797642986, 0.37622432034227216, 0.37599561371821455, 0.3763029850419287]\n",
      "Mean R2: 0.4039017302140854\n",
      "Standard Deviation of R2: 0.004902950990417961\n",
      "R2 list: [0.3997582993077877, 0.4062668768884481, 0.40736022219312873, 0.4152712135536001, 0.4047889673316988, 0.3987194017744947, 0.4020750729961864, 0.39758152273479597, 0.4019713726537125, 0.40522435270700063]\n",
      "R2 Young list: [0.29831755436697216, 0.2986480671720749, 0.2979229394912053, 0.29769345004616, 0.29763799509672395, 0.29764273560092824, 0.2973852351966697, 0.2988492536628663, 0.2969204612587506, 0.29759043380458716]\n",
      "R2 Middle list: [0.37653300406965806, 0.3759039737243972, 0.3763969983312272, 0.376573049745081, 0.3766500522903836, 0.37603904069475236, 0.3762046041265321, 0.3771628142584512, 0.3760614760270845, 0.3764088451726335]\n",
      "Mean R2: 0.4050323399799871\n",
      "Standard Deviation of R2: 0.004055650545215781\n",
      "R2 list: [0.40244193665479333, 0.4035756525340157, 0.41203555565863803, 0.4089253645045926, 0.40545647660381856, 0.40951700664419977, 0.4023383816011902, 0.4042981485819209, 0.4046535203681664, 0.3970813566485354]\n",
      "R2 Young list: [0.29823962839056595, 0.29779789404134405, 0.29696176158748144, 0.29809748478001175, 0.2986738355270594, 0.29830576866608494, 0.2983491516326571, 0.2981400946086149, 0.2969641061355899, 0.29783316881224087]\n",
      "R2 Middle list: [0.37621706863402704, 0.37645471840862466, 0.3761665456090624, 0.37632401389610515, 0.3765490176834113, 0.3766392842830142, 0.37713913041483693, 0.37635378769871286, 0.37645710363038964, 0.37592134717616865]\n",
      "Mean R2: 0.40464019904180465\n",
      "Standard Deviation of R2: 0.0072806710444950585\n",
      "R2 list: [0.4088915352667748, 0.3917029236852765, 0.4048667493692265, 0.4076734203516684, 0.3965209201193246, 0.40630438342071507, 0.4001140567997533, 0.41332521762874774, 0.41689655915741264, 0.400106224619147]\n",
      "R2 Young list: [0.2979634466511909, 0.2972466294400471, 0.29783690892099624, 0.29870851529671083, 0.29722774321567, 0.29818494613530233, 0.2979558799224957, 0.2981656108678914, 0.2978499673561832, 0.29724341026371237]\n",
      "R2 Middle list: [0.3763174132882995, 0.3760908824175907, 0.37674112387291603, 0.37662217899169914, 0.37639077379299135, 0.37668400819286885, 0.3762116865363039, 0.37619818028921903, 0.37658207088985396, 0.376324363279942]\n",
      "Mean R2: 0.4038177374753877\n",
      "Standard Deviation of R2: 0.006199948223749372\n",
      "R2 list: [0.3976099455175389, 0.39723127544533554, 0.4094101520122472, 0.4021380447715306, 0.40703840169887207, 0.4091624533178486, 0.40177760072439206, 0.412409171731452, 0.3925752997352563, 0.4088250297994045]\n",
      "R2 Young list: [0.2966392011855652, 0.29838084246705476, 0.2977941406516834, 0.2990925401346286, 0.298092097701393, 0.2966685346421617, 0.29800093247416193, 0.29846895129281303, 0.29863871504967476, 0.29807356894444703]\n",
      "R2 Middle list: [0.37614640519389664, 0.37628080014923837, 0.37635449591510284, 0.3764068107216483, 0.37670735610182127, 0.3760176041082308, 0.3762862995923456, 0.3767730770681694, 0.3768694190153754, 0.37635512009546523]\n",
      "Mean R2: 0.40425175867166424\n",
      "Standard Deviation of R2: 0.004374734052951986\n",
      "R2 list: [0.4116558874679148, 0.401529669005535, 0.40270344105350453, 0.40429595443532573, 0.40073388818826794, 0.40253056974550294, 0.40944832778266993, 0.4043074249630694, 0.40895367076311173, 0.39635875331174053]\n",
      "R2 Young list: [0.2975809724615126, 0.2976094559449822, 0.2978286763471839, 0.2988616300920348, 0.29836236009760086, 0.2980646207518681, 0.29830752658634774, 0.2973477029548681, 0.2983978591198403, 0.29669645433706526]\n",
      "R2 Middle list: [0.37579769211717473, 0.37646938386029394, 0.3764159135782851, 0.3766548432634974, 0.37690986830020345, 0.37632081354113167, 0.3763301509347212, 0.37700168613803764, 0.37637135863866855, 0.37597347487743715]\n"
     ]
    }
   ],
   "source": [
    "y_prediction_list = [np.array(yy.index), np.array(yy.to_list())]\n",
    "m_prediction_list = [np.array(ym.index), np.array(ym.to_list())]\n",
    "fold_predictions_array_list = []\n",
    "r2_scores_list = []\n",
    "r2y_scores_list = []\n",
    "r2m_scores_list = []\n",
    "\n",
    "for i, random_integer in enumerate(sampled_integers):\n",
    "    kf = KFold(n_splits=10, shuffle=True, random_state=random_integer)\n",
    "    \n",
    "    r2_scores = []\n",
    "    r2y_scores = []\n",
    "    r2m_scores = []\n",
    "    fold_predictions = []\n",
    "    # Perform cross-validation\n",
    "    for train_index, test_index in kf.split(X):\n",
    "        X_train, X_test = X.iloc[train_index, :], X.iloc[test_index, :]\n",
    "        y_train, y_test = y.iloc[train_index], y.iloc[test_index]\n",
    "        \n",
    "        # Train the model\n",
    "        model.fit(X_train, y_train)\n",
    "        \n",
    "        # Make predictions\n",
    "        y_pred = model.predict(X_test)\n",
    "        \n",
    "        # Evaluate the model\n",
    "        r2 = r2_score(y_test, y_pred)\n",
    "        r2_scores.append(r2)\n",
    "        this_folder = np.array([y_test.index, y_test, y_pred]).T\n",
    "        fold_predictions.append(this_folder)\n",
    "    \n",
    "        # Young Predict\n",
    "        yy_pred = model.predict(Xy)\n",
    "        y_prediction_list.append(yy_pred)\n",
    "        r2y = r2_score(yy, yy_pred)\n",
    "        r2y_scores.append(r2y)\n",
    "        \n",
    "        # Middle Predict\n",
    "        ym_pred = model.predict(Xm)\n",
    "        m_prediction_list.append(ym_pred)\n",
    "        r2m = r2_score(ym, ym_pred)\n",
    "        r2m_scores.append(r2m)\n",
    "    \n",
    "    print(f\"Mean R2: {np.mean(r2_scores)}\")\n",
    "    print(f\"Standard Deviation of R2: {np.std(r2_scores)}\")\n",
    "    print(f\"R2 list: {r2_scores}\")\n",
    "    print(f\"R2 Young list: {r2y_scores}\")\n",
    "    print(f\"R2 Middle list: {r2m_scores}\")\n",
    "    \n",
    "    fold_predictions_array = pd.DataFrame(np.concatenate(fold_predictions, axis = 0), columns = ['index', 'Real_y', f'Predict_y_{i}'])\n",
    "    fold_predictions_array_list.append(fold_predictions_array)\n",
    "    r2_scores_list.append(r2_scores)\n",
    "    r2y_scores_list.append(r2y_scores)\n",
    "    r2m_scores_list.append(r2m_scores)"
   ]
  },
  {
   "cell_type": "code",
   "execution_count": 60,
   "id": "2fdb86da-67dc-4ccb-a7d7-d210b6809076",
   "metadata": {},
   "outputs": [],
   "source": [
    "r2_list = [0.40928855258277574, 0.39222826121218857, 0.41166991315215784, 0.40850282058733733, 0.40500514081728944, \n",
    "           0.4017740900815038, 0.4036665994833275, 0.39548015237970746, 0.4044256549555284, 0.4125465089790695] + \\\n",
    " [0.40090970887714383, 0.41054186821886496, 0.3970947368501335, 0.40838961267102736, 0.3991880086739322, \n",
    "  0.40480922321630053, 0.39875702108856637, 0.41253052235674903, 0.4017200967047192, 0.40756086229867705] + \\\n",
    " [0.40202573442332346, 0.40279890156678155, 0.40412586897405534, 0.4132567262296458, 0.4057563534889602, \n",
    "  0.40030292663461, 0.3991528242750305, 0.4107062552959, 0.39914742244161916, 0.4046565837655818] + \\\n",
    " [0.40099112374845824, 0.4048093802140553, 0.4092575404455725, 0.4019445772993161, 0.4034955483929462, \n",
    "  0.40819749437416075, 0.4090178189516086, 0.3981720898433935, 0.40137748938103446, 0.40499312785337105] + \\\n",
    " [0.40910346008949205, 0.4063619604105697, 0.3993060201042725, 0.4019420571259369, 0.405059551470204, \n",
    "  0.40504169486129304, 0.40580231966968316, 0.4043779324177812, 0.3994409528639564, 0.40967061998416543] + \\\n",
    " [0.3997582993077877, 0.4062668768884481, 0.40736022219312873, 0.4152712135536001, 0.4047889673316988, \n",
    "  0.3987194017744947, 0.4020750729961864, 0.39758152273479597, 0.4019713726537125, 0.40522435270700063] + \\\n",
    " [0.40244193665479333, 0.4035756525340157, 0.41203555565863803, 0.4089253645045926, 0.40545647660381856, \n",
    "  0.40951700664419977, 0.4023383816011902, 0.4042981485819209, 0.4046535203681664, 0.3970813566485354] + \\\n",
    " [0.4088915352667748, 0.3917029236852765, 0.4048667493692265, 0.4076734203516684, 0.3965209201193246, \n",
    "  0.40630438342071507, 0.4001140567997533, 0.41332521762874774, 0.41689655915741264, 0.400106224619147] + \\\n",
    " [0.3976099455175389, 0.39723127544533554, 0.4094101520122472, 0.4021380447715306, 0.40703840169887207, \n",
    "  0.4091624533178486, 0.40177760072439206, 0.412409171731452, 0.3925752997352563, 0.4088250297994045] + \\\n",
    " [0.4116558874679148, 0.401529669005535, 0.40270344105350453, 0.40429595443532573, 0.40073388818826794, \n",
    "  0.40253056974550294, 0.40944832778266993, 0.4043074249630694, 0.40895367076311173, 0.39635875331174053]"
   ]
  },
  {
   "cell_type": "code",
   "execution_count": 61,
   "id": "3b0f0971-55ac-47fb-afaa-6ff9b3b6c468",
   "metadata": {},
   "outputs": [
    {
     "data": {
      "text/plain": [
       "0.4043281936561307"
      ]
     },
     "execution_count": 61,
     "metadata": {},
     "output_type": "execute_result"
    }
   ],
   "source": [
    "np.mean(r2_list)"
   ]
  },
  {
   "cell_type": "code",
   "execution_count": 62,
   "id": "2d808249-2a85-4237-bea9-e33b46743a57",
   "metadata": {},
   "outputs": [
    {
     "data": {
      "text/plain": [
       "0.41689655915741264"
      ]
     },
     "execution_count": 62,
     "metadata": {},
     "output_type": "execute_result"
    }
   ],
   "source": [
    "np.max(r2_list)"
   ]
  },
  {
   "cell_type": "code",
   "execution_count": 63,
   "id": "592d1a37-6cf8-4e61-a17d-9a817e076cce",
   "metadata": {},
   "outputs": [
    {
     "data": {
      "text/plain": [
       "0.3917029236852765"
      ]
     },
     "execution_count": 63,
     "metadata": {},
     "output_type": "execute_result"
    }
   ],
   "source": [
    "np.min(r2_list)"
   ]
  },
  {
   "cell_type": "code",
   "execution_count": 64,
   "id": "62641554-7f5e-4121-aac4-2f8f3ce018e6",
   "metadata": {},
   "outputs": [
    {
     "data": {
      "text/plain": [
       "0.005116333480914738"
      ]
     },
     "execution_count": 64,
     "metadata": {},
     "output_type": "execute_result"
    }
   ],
   "source": [
    "np.std(r2_list)"
   ]
  },
  {
   "cell_type": "code",
   "execution_count": 71,
   "id": "4e138b4b-ad1d-4524-92a9-94fcf040586f",
   "metadata": {},
   "outputs": [],
   "source": [
    "r2_young_list = [0.2979886627866627, 0.29791966173551165, 0.29894049798372246, 0.2979187079704628, 0.29677522905717924, \n",
    "                 0.2982929078460792, 0.297470635886913, 0.2981276880765539, 0.29752941801220034, 0.2974326126343281] + \\\n",
    " [0.29775737342325503, 0.2971685917587894, 0.29661542064488366, 0.29805361203423697, 0.29696388859773426, \n",
    "  0.2980296619614804, 0.29759947376074625, 0.29796374504368384, 0.2987378602746452, 0.29877520216772013] + \\\n",
    " [0.29729368126816813, 0.297536875365744, 0.29712291386660594, 0.29826178976730044, 0.29897802431203147, \n",
    "  0.29738676691912913, 0.29844830096340613, 0.29810847280860675, 0.2971130618823181, 0.29784913516725675] + \\\n",
    " [0.2978364600790693, 0.2984750216922194, 0.29791834022461106, 0.29867866068768456, 0.29763748907401644, \n",
    "  0.29737031345668963, 0.2971455329821858, 0.29851041775624576, 0.29769424566636027, 0.2985625761694005] + \\\n",
    " [0.29806662001556816, 0.29876330178642463, 0.29799405673244994, 0.29818741935243154, 0.29837500194857847, \n",
    "  0.29694199553296796, 0.297524168270463, 0.29775651985336893, 0.2973034946698915, 0.2975119348139421] + \\\n",
    " [0.29831755436697216, 0.2986480671720749, 0.2979229394912053, 0.29769345004616, 0.29763799509672395, \n",
    "  0.29764273560092824, 0.2973852351966697, 0.2988492536628663, 0.2969204612587506, 0.29759043380458716] + \\\n",
    " [0.29823962839056595, 0.29779789404134405, 0.29696176158748144, 0.29809748478001175, 0.2986738355270594, \n",
    "  0.29830576866608494, 0.2983491516326571, 0.2981400946086149, 0.2969641061355899, 0.29783316881224087] + \\\n",
    " [0.2979634466511909, 0.2972466294400471, 0.29783690892099624, 0.29870851529671083, 0.29722774321567, \n",
    "  0.29818494613530233, 0.2979558799224957, 0.2981656108678914, 0.2978499673561832, 0.29724341026371237] + \\\n",
    " [0.2966392011855652, 0.29838084246705476, 0.2977941406516834, 0.2990925401346286, 0.298092097701393, \n",
    "  0.2966685346421617, 0.29800093247416193, 0.29846895129281303, 0.29863871504967476, 0.29807356894444703] + \\\n",
    " [0.2975809724615126, 0.2976094559449822, 0.2978286763471839, 0.2988616300920348, 0.29836236009760086,\n",
    "  0.2980646207518681, 0.29830752658634774, 0.2973477029548681, 0.2983978591198403, 0.29669645433706526]"
   ]
  },
  {
   "cell_type": "code",
   "execution_count": 72,
   "id": "b1f7d93e-036f-4b8d-a6dc-24d76358a3fb",
   "metadata": {},
   "outputs": [
    {
     "data": {
      "text/plain": [
       "0.2978767430592761"
      ]
     },
     "execution_count": 72,
     "metadata": {},
     "output_type": "execute_result"
    }
   ],
   "source": [
    "np.mean(r2_young_list)"
   ]
  },
  {
   "cell_type": "code",
   "execution_count": 73,
   "id": "af041877-b4bf-4712-92b8-f5377d1aba49",
   "metadata": {},
   "outputs": [
    {
     "data": {
      "text/plain": [
       "0.2990925401346286"
      ]
     },
     "execution_count": 73,
     "metadata": {},
     "output_type": "execute_result"
    }
   ],
   "source": [
    "np.max(r2_young_list)"
   ]
  },
  {
   "cell_type": "code",
   "execution_count": 74,
   "id": "7d15a475-92cf-4110-ad5d-18e68bb53266",
   "metadata": {},
   "outputs": [
    {
     "data": {
      "text/plain": [
       "0.29661542064488366"
      ]
     },
     "execution_count": 74,
     "metadata": {},
     "output_type": "execute_result"
    }
   ],
   "source": [
    "np.min(r2_young_list)"
   ]
  },
  {
   "cell_type": "code",
   "execution_count": 75,
   "id": "99af0056-67d9-4db3-9093-a45acc6aaaa7",
   "metadata": {},
   "outputs": [
    {
     "data": {
      "text/plain": [
       "0.0005848193347995549"
      ]
     },
     "execution_count": 75,
     "metadata": {},
     "output_type": "execute_result"
    }
   ],
   "source": [
    "np.std(r2_young_list)"
   ]
  },
  {
   "cell_type": "code",
   "execution_count": 76,
   "id": "91327fdd-f491-43c7-8ce5-7f5b3af30dd3",
   "metadata": {},
   "outputs": [],
   "source": [
    "r2_middle_list = [0.3763524808835307, 0.3764913869783597, 0.37686628596614913, 0.3762348644905381, 0.3757916163520967, \n",
    "                  0.3764627504577214, 0.37614462200025434, 0.3767538282211552, 0.3767616103822383, 0.37620457769262705] + \\\n",
    " [0.3761552796883785, 0.3759316117920193, 0.3760354090791189, 0.3767300880432346, 0.37624361808817386,\n",
    "  0.37669262315645446, 0.3759886362087319, 0.37616878794175546, 0.3765844649155856, 0.37671128068397153] + \\\n",
    " [0.37599501044835837, 0.37665417523377, 0.37585483127406294, 0.3765977340012482, 0.37654130439881106, \n",
    "  0.37664304683476124, 0.3767202119914149, 0.3768583334103438, 0.3756492659822931, 0.3759589405156306] + \\\n",
    " [0.37661903425944254, 0.3767968688829074, 0.3760992218923751, 0.3771609885123849, 0.376448552854037, \n",
    "  0.37632361835307704, 0.37598405103166577, 0.3765507592685653, 0.3764789526033614, 0.3762910807927409] + \\\n",
    " [0.3762611702312093, 0.3763197480448546, 0.37649677878644194, 0.37662994799466, 0.37665008163956504, \n",
    "  0.37637210497202, 0.37624835797642986, 0.37622432034227216, 0.37599561371821455, 0.3763029850419287] + \\\n",
    " [0.37653300406965806, 0.3759039737243972, 0.3763969983312272, 0.376573049745081, 0.3766500522903836, \n",
    "  0.37603904069475236, 0.3762046041265321, 0.3771628142584512, 0.3760614760270845, 0.3764088451726335] + \\\n",
    " [0.37621706863402704, 0.37645471840862466, 0.3761665456090624, 0.37632401389610515, 0.3765490176834113, \n",
    "  0.3766392842830142, 0.37713913041483693, 0.37635378769871286, 0.37645710363038964, 0.37592134717616865] + \\\n",
    " [0.3763174132882995, 0.3760908824175907, 0.37674112387291603, 0.37662217899169914, 0.37639077379299135, \n",
    "  0.37668400819286885, 0.3762116865363039, 0.37619818028921903, 0.37658207088985396, 0.376324363279942] + \\\n",
    " [0.37614640519389664, 0.37628080014923837, 0.37635449591510284, 0.3764068107216483, 0.37670735610182127,\n",
    "  0.3760176041082308, 0.3762862995923456, 0.3767730770681694, 0.3768694190153754, 0.37635512009546523] + \\\n",
    " [0.37579769211717473, 0.37646938386029394, 0.3764159135782851, 0.3766548432634974, 0.37690986830020345, \n",
    "  0.37632081354113167, 0.3763301509347212, 0.37700168613803764, 0.37637135863866855, 0.37597347487743715]"
   ]
  },
  {
   "cell_type": "code",
   "execution_count": 81,
   "id": "888b24a7-82e6-4210-bd3f-32a2c2b39295",
   "metadata": {},
   "outputs": [
    {
     "data": {
      "text/plain": [
       "0.37639794044947933"
      ]
     },
     "execution_count": 81,
     "metadata": {},
     "output_type": "execute_result"
    }
   ],
   "source": [
    "np.mean(r2_middle_list)"
   ]
  },
  {
   "cell_type": "code",
   "execution_count": 82,
   "id": "b06f4a3e-dda2-4532-b62a-f6cfd8f1c5b7",
   "metadata": {},
   "outputs": [
    {
     "data": {
      "text/plain": [
       "0.3771628142584512"
      ]
     },
     "execution_count": 82,
     "metadata": {},
     "output_type": "execute_result"
    }
   ],
   "source": [
    "np.max(r2_middle_list)"
   ]
  },
  {
   "cell_type": "code",
   "execution_count": 83,
   "id": "f65cb0bc-3b0e-41e8-85f7-7ee2f25704f4",
   "metadata": {},
   "outputs": [
    {
     "data": {
      "text/plain": [
       "0.3756492659822931"
      ]
     },
     "execution_count": 83,
     "metadata": {},
     "output_type": "execute_result"
    }
   ],
   "source": [
    "np.min(r2_middle_list)"
   ]
  },
  {
   "cell_type": "code",
   "execution_count": 84,
   "id": "208bc3cf-62ab-476a-ba2c-706aae064f83",
   "metadata": {},
   "outputs": [
    {
     "data": {
      "text/plain": [
       "0.00031224479335830124"
      ]
     },
     "execution_count": 84,
     "metadata": {},
     "output_type": "execute_result"
    }
   ],
   "source": [
    "np.std(r2_middle_list)"
   ]
  },
  {
   "cell_type": "code",
   "execution_count": null,
   "id": "43a7cedb-58fe-4683-95ec-e2d0ab1b7435",
   "metadata": {},
   "outputs": [],
   "source": []
  },
  {
   "cell_type": "markdown",
   "id": "18e06d92-98af-463f-878d-c47543723654",
   "metadata": {},
   "source": [
    "### Old Model Young Prediction"
   ]
  },
  {
   "cell_type": "markdown",
   "id": "0b58898d-cb9d-4497-bfbd-1f1cb0abdc31",
   "metadata": {},
   "source": [
    "Prediction is average of 10 fold * 10 times"
   ]
  },
  {
   "cell_type": "code",
   "execution_count": 105,
   "id": "6100ada0-c0d3-4d33-9c15-3a9722f0e247",
   "metadata": {},
   "outputs": [],
   "source": [
    "column_list = ['index', 'Real_y']\n",
    "for num in list(range(0, 10*10)):\n",
    "    column_list.append(f'Predict_y_{num}')\n",
    "young_preidiction_df = pd.DataFrame(np.array(y_prediction_list).T, columns = column_list)"
   ]
  },
  {
   "cell_type": "code",
   "execution_count": 106,
   "id": "6062c74d-5924-43c0-b389-a401a5826e6a",
   "metadata": {},
   "outputs": [
    {
     "data": {
      "text/html": [
       "<div>\n",
       "<style scoped>\n",
       "    .dataframe tbody tr th:only-of-type {\n",
       "        vertical-align: middle;\n",
       "    }\n",
       "\n",
       "    .dataframe tbody tr th {\n",
       "        vertical-align: top;\n",
       "    }\n",
       "\n",
       "    .dataframe thead th {\n",
       "        text-align: right;\n",
       "    }\n",
       "</style>\n",
       "<table border=\"1\" class=\"dataframe\">\n",
       "  <thead>\n",
       "    <tr style=\"text-align: right;\">\n",
       "      <th></th>\n",
       "      <th>index</th>\n",
       "      <th>Real_y</th>\n",
       "      <th>Predict_y_0</th>\n",
       "      <th>Predict_y_1</th>\n",
       "      <th>Predict_y_2</th>\n",
       "      <th>Predict_y_3</th>\n",
       "      <th>Predict_y_4</th>\n",
       "      <th>Predict_y_5</th>\n",
       "      <th>Predict_y_6</th>\n",
       "      <th>Predict_y_7</th>\n",
       "      <th>...</th>\n",
       "      <th>Predict_y_90</th>\n",
       "      <th>Predict_y_91</th>\n",
       "      <th>Predict_y_92</th>\n",
       "      <th>Predict_y_93</th>\n",
       "      <th>Predict_y_94</th>\n",
       "      <th>Predict_y_95</th>\n",
       "      <th>Predict_y_96</th>\n",
       "      <th>Predict_y_97</th>\n",
       "      <th>Predict_y_98</th>\n",
       "      <th>Predict_y_99</th>\n",
       "    </tr>\n",
       "  </thead>\n",
       "  <tbody>\n",
       "    <tr>\n",
       "      <th>0</th>\n",
       "      <td>1562723.0</td>\n",
       "      <td>5.0</td>\n",
       "      <td>5.130018</td>\n",
       "      <td>5.336755</td>\n",
       "      <td>5.091726</td>\n",
       "      <td>5.274494</td>\n",
       "      <td>5.314049</td>\n",
       "      <td>5.383406</td>\n",
       "      <td>5.129823</td>\n",
       "      <td>5.409705</td>\n",
       "      <td>...</td>\n",
       "      <td>5.105457</td>\n",
       "      <td>5.025791</td>\n",
       "      <td>5.727588</td>\n",
       "      <td>5.204990</td>\n",
       "      <td>5.177685</td>\n",
       "      <td>4.965321</td>\n",
       "      <td>5.130508</td>\n",
       "      <td>5.036926</td>\n",
       "      <td>5.437913</td>\n",
       "      <td>5.223881</td>\n",
       "    </tr>\n",
       "    <tr>\n",
       "      <th>1</th>\n",
       "      <td>708695.0</td>\n",
       "      <td>4.0</td>\n",
       "      <td>4.245168</td>\n",
       "      <td>4.633191</td>\n",
       "      <td>4.264570</td>\n",
       "      <td>4.320512</td>\n",
       "      <td>4.789810</td>\n",
       "      <td>4.134440</td>\n",
       "      <td>4.290300</td>\n",
       "      <td>4.251861</td>\n",
       "      <td>...</td>\n",
       "      <td>4.563736</td>\n",
       "      <td>4.502735</td>\n",
       "      <td>4.294883</td>\n",
       "      <td>4.338293</td>\n",
       "      <td>4.047647</td>\n",
       "      <td>4.342415</td>\n",
       "      <td>4.021832</td>\n",
       "      <td>4.729479</td>\n",
       "      <td>4.650709</td>\n",
       "      <td>4.248056</td>\n",
       "    </tr>\n",
       "    <tr>\n",
       "      <th>2</th>\n",
       "      <td>1828455.0</td>\n",
       "      <td>2.0</td>\n",
       "      <td>7.894469</td>\n",
       "      <td>7.539904</td>\n",
       "      <td>7.540966</td>\n",
       "      <td>7.712207</td>\n",
       "      <td>7.757643</td>\n",
       "      <td>7.667683</td>\n",
       "      <td>7.324636</td>\n",
       "      <td>7.641912</td>\n",
       "      <td>...</td>\n",
       "      <td>7.454721</td>\n",
       "      <td>7.252598</td>\n",
       "      <td>7.961985</td>\n",
       "      <td>7.541924</td>\n",
       "      <td>7.287425</td>\n",
       "      <td>7.695890</td>\n",
       "      <td>7.644617</td>\n",
       "      <td>7.860868</td>\n",
       "      <td>7.689695</td>\n",
       "      <td>7.862912</td>\n",
       "    </tr>\n",
       "    <tr>\n",
       "      <th>3</th>\n",
       "      <td>968859.0</td>\n",
       "      <td>8.0</td>\n",
       "      <td>5.585791</td>\n",
       "      <td>5.427691</td>\n",
       "      <td>4.593238</td>\n",
       "      <td>5.016794</td>\n",
       "      <td>5.578860</td>\n",
       "      <td>5.049002</td>\n",
       "      <td>5.689332</td>\n",
       "      <td>5.090939</td>\n",
       "      <td>...</td>\n",
       "      <td>5.420019</td>\n",
       "      <td>5.259854</td>\n",
       "      <td>5.673426</td>\n",
       "      <td>4.940588</td>\n",
       "      <td>5.127910</td>\n",
       "      <td>5.410072</td>\n",
       "      <td>5.656180</td>\n",
       "      <td>4.826082</td>\n",
       "      <td>5.279181</td>\n",
       "      <td>5.019331</td>\n",
       "    </tr>\n",
       "    <tr>\n",
       "      <th>4</th>\n",
       "      <td>2375401.0</td>\n",
       "      <td>5.0</td>\n",
       "      <td>4.951559</td>\n",
       "      <td>5.513785</td>\n",
       "      <td>5.798038</td>\n",
       "      <td>5.627521</td>\n",
       "      <td>5.232227</td>\n",
       "      <td>5.459647</td>\n",
       "      <td>5.578069</td>\n",
       "      <td>5.670605</td>\n",
       "      <td>...</td>\n",
       "      <td>5.254714</td>\n",
       "      <td>5.598813</td>\n",
       "      <td>5.260324</td>\n",
       "      <td>5.507310</td>\n",
       "      <td>5.595958</td>\n",
       "      <td>6.077547</td>\n",
       "      <td>5.924397</td>\n",
       "      <td>5.143947</td>\n",
       "      <td>5.399024</td>\n",
       "      <td>5.561028</td>\n",
       "    </tr>\n",
       "  </tbody>\n",
       "</table>\n",
       "<p>5 rows × 102 columns</p>\n",
       "</div>"
      ],
      "text/plain": [
       "       index  Real_y  Predict_y_0  Predict_y_1  Predict_y_2  Predict_y_3  \\\n",
       "0  1562723.0     5.0     5.130018     5.336755     5.091726     5.274494   \n",
       "1   708695.0     4.0     4.245168     4.633191     4.264570     4.320512   \n",
       "2  1828455.0     2.0     7.894469     7.539904     7.540966     7.712207   \n",
       "3   968859.0     8.0     5.585791     5.427691     4.593238     5.016794   \n",
       "4  2375401.0     5.0     4.951559     5.513785     5.798038     5.627521   \n",
       "\n",
       "   Predict_y_4  Predict_y_5  Predict_y_6  Predict_y_7  ...  Predict_y_90  \\\n",
       "0     5.314049     5.383406     5.129823     5.409705  ...      5.105457   \n",
       "1     4.789810     4.134440     4.290300     4.251861  ...      4.563736   \n",
       "2     7.757643     7.667683     7.324636     7.641912  ...      7.454721   \n",
       "3     5.578860     5.049002     5.689332     5.090939  ...      5.420019   \n",
       "4     5.232227     5.459647     5.578069     5.670605  ...      5.254714   \n",
       "\n",
       "   Predict_y_91  Predict_y_92  Predict_y_93  Predict_y_94  Predict_y_95  \\\n",
       "0      5.025791      5.727588      5.204990      5.177685      4.965321   \n",
       "1      4.502735      4.294883      4.338293      4.047647      4.342415   \n",
       "2      7.252598      7.961985      7.541924      7.287425      7.695890   \n",
       "3      5.259854      5.673426      4.940588      5.127910      5.410072   \n",
       "4      5.598813      5.260324      5.507310      5.595958      6.077547   \n",
       "\n",
       "   Predict_y_96  Predict_y_97  Predict_y_98  Predict_y_99  \n",
       "0      5.130508      5.036926      5.437913      5.223881  \n",
       "1      4.021832      4.729479      4.650709      4.248056  \n",
       "2      7.644617      7.860868      7.689695      7.862912  \n",
       "3      5.656180      4.826082      5.279181      5.019331  \n",
       "4      5.924397      5.143947      5.399024      5.561028  \n",
       "\n",
       "[5 rows x 102 columns]"
      ]
     },
     "execution_count": 106,
     "metadata": {},
     "output_type": "execute_result"
    }
   ],
   "source": [
    "young_preidiction_df.head()"
   ]
  },
  {
   "cell_type": "code",
   "execution_count": 107,
   "id": "5fc17026-52b9-48f2-900d-05714fa161d4",
   "metadata": {},
   "outputs": [],
   "source": [
    "young_preidiction_df['Predict_y'] = young_preidiction_df.iloc[:,2:103].mean(axis = 1)"
   ]
  },
  {
   "cell_type": "code",
   "execution_count": 108,
   "id": "d793bc9d-8706-4d6d-9f7e-14607c9cb121",
   "metadata": {},
   "outputs": [
    {
     "data": {
      "text/plain": [
       "0    5.278725\n",
       "1    4.387673\n",
       "2    7.615552\n",
       "3    5.315835\n",
       "4    5.489779\n",
       "Name: Predict_y, dtype: float64"
      ]
     },
     "execution_count": 108,
     "metadata": {},
     "output_type": "execute_result"
    }
   ],
   "source": [
    "young_preidiction_df['Predict_y'].head()"
   ]
  },
  {
   "cell_type": "code",
   "execution_count": 109,
   "id": "04d819fe-8158-454a-809c-a337e527c211",
   "metadata": {},
   "outputs": [],
   "source": [
    "young_preidiction_df = young_preidiction_df[['index', 'Real_y', 'Predict_y']]"
   ]
  },
  {
   "cell_type": "code",
   "execution_count": 110,
   "id": "f7e268bb-c164-41d1-a0f9-fb6406c87727",
   "metadata": {},
   "outputs": [],
   "source": [
    "young_preidiction_df['index'] = young_preidiction_df['index'].astype(int)"
   ]
  },
  {
   "cell_type": "code",
   "execution_count": 111,
   "id": "f682868f-f930-405d-8ec5-3f187ba70ff0",
   "metadata": {},
   "outputs": [
    {
     "data": {
      "text/html": [
       "<div>\n",
       "<style scoped>\n",
       "    .dataframe tbody tr th:only-of-type {\n",
       "        vertical-align: middle;\n",
       "    }\n",
       "\n",
       "    .dataframe tbody tr th {\n",
       "        vertical-align: top;\n",
       "    }\n",
       "\n",
       "    .dataframe thead th {\n",
       "        text-align: right;\n",
       "    }\n",
       "</style>\n",
       "<table border=\"1\" class=\"dataframe\">\n",
       "  <thead>\n",
       "    <tr style=\"text-align: right;\">\n",
       "      <th></th>\n",
       "      <th>index</th>\n",
       "      <th>Real_y</th>\n",
       "      <th>Predict_y</th>\n",
       "    </tr>\n",
       "  </thead>\n",
       "  <tbody>\n",
       "    <tr>\n",
       "      <th>0</th>\n",
       "      <td>1562723</td>\n",
       "      <td>5.0</td>\n",
       "      <td>5.278725</td>\n",
       "    </tr>\n",
       "    <tr>\n",
       "      <th>1</th>\n",
       "      <td>708695</td>\n",
       "      <td>4.0</td>\n",
       "      <td>4.387673</td>\n",
       "    </tr>\n",
       "    <tr>\n",
       "      <th>2</th>\n",
       "      <td>1828455</td>\n",
       "      <td>2.0</td>\n",
       "      <td>7.615552</td>\n",
       "    </tr>\n",
       "    <tr>\n",
       "      <th>3</th>\n",
       "      <td>968859</td>\n",
       "      <td>8.0</td>\n",
       "      <td>5.315835</td>\n",
       "    </tr>\n",
       "    <tr>\n",
       "      <th>4</th>\n",
       "      <td>2375401</td>\n",
       "      <td>5.0</td>\n",
       "      <td>5.489779</td>\n",
       "    </tr>\n",
       "    <tr>\n",
       "      <th>5</th>\n",
       "      <td>723699</td>\n",
       "      <td>6.0</td>\n",
       "      <td>6.750625</td>\n",
       "    </tr>\n",
       "    <tr>\n",
       "      <th>6</th>\n",
       "      <td>2069375</td>\n",
       "      <td>2.0</td>\n",
       "      <td>3.658306</td>\n",
       "    </tr>\n",
       "    <tr>\n",
       "      <th>7</th>\n",
       "      <td>1655669</td>\n",
       "      <td>10.0</td>\n",
       "      <td>4.659057</td>\n",
       "    </tr>\n",
       "    <tr>\n",
       "      <th>8</th>\n",
       "      <td>776224</td>\n",
       "      <td>7.0</td>\n",
       "      <td>5.861314</td>\n",
       "    </tr>\n",
       "    <tr>\n",
       "      <th>9</th>\n",
       "      <td>1002429</td>\n",
       "      <td>5.0</td>\n",
       "      <td>6.744498</td>\n",
       "    </tr>\n",
       "  </tbody>\n",
       "</table>\n",
       "</div>"
      ],
      "text/plain": [
       "     index  Real_y  Predict_y\n",
       "0  1562723     5.0   5.278725\n",
       "1   708695     4.0   4.387673\n",
       "2  1828455     2.0   7.615552\n",
       "3   968859     8.0   5.315835\n",
       "4  2375401     5.0   5.489779\n",
       "5   723699     6.0   6.750625\n",
       "6  2069375     2.0   3.658306\n",
       "7  1655669    10.0   4.659057\n",
       "8   776224     7.0   5.861314\n",
       "9  1002429     5.0   6.744498"
      ]
     },
     "execution_count": 111,
     "metadata": {},
     "output_type": "execute_result"
    }
   ],
   "source": [
    "young_preidiction_df.head(10)"
   ]
  },
  {
   "cell_type": "code",
   "execution_count": 112,
   "id": "67fba451-01cc-4723-a96f-9343a001f6dd",
   "metadata": {},
   "outputs": [],
   "source": [
    "young_preidiction_df.to_parquet(os.path.join('Results', 'PredictionWB_XgbOldModelYoungPrediction_v1.parquet'))"
   ]
  },
  {
   "cell_type": "code",
   "execution_count": null,
   "id": "6f28e9e5-a9d8-4ae1-9fcc-bb16abfc8019",
   "metadata": {},
   "outputs": [],
   "source": []
  },
  {
   "cell_type": "markdown",
   "id": "87dc6f6a-12bc-483f-a100-92f82ae4e6be",
   "metadata": {},
   "source": [
    "### Old Model Middle Prediction"
   ]
  },
  {
   "cell_type": "code",
   "execution_count": 113,
   "id": "f0938665-203f-4777-845e-bfe7754873f8",
   "metadata": {},
   "outputs": [],
   "source": [
    "column_list = ['index', 'Real_y']\n",
    "for num in list(range(0, 10*10)):\n",
    "    column_list.append(f'Predict_y_{num}')\n",
    "middle_preidiction_df = pd.DataFrame(np.array(m_prediction_list).T, columns = column_list)"
   ]
  },
  {
   "cell_type": "code",
   "execution_count": 114,
   "id": "fd1f210b-578b-4357-9be2-ac6abc01abc3",
   "metadata": {},
   "outputs": [
    {
     "data": {
      "text/html": [
       "<div>\n",
       "<style scoped>\n",
       "    .dataframe tbody tr th:only-of-type {\n",
       "        vertical-align: middle;\n",
       "    }\n",
       "\n",
       "    .dataframe tbody tr th {\n",
       "        vertical-align: top;\n",
       "    }\n",
       "\n",
       "    .dataframe thead th {\n",
       "        text-align: right;\n",
       "    }\n",
       "</style>\n",
       "<table border=\"1\" class=\"dataframe\">\n",
       "  <thead>\n",
       "    <tr style=\"text-align: right;\">\n",
       "      <th></th>\n",
       "      <th>index</th>\n",
       "      <th>Real_y</th>\n",
       "      <th>Predict_y_0</th>\n",
       "      <th>Predict_y_1</th>\n",
       "      <th>Predict_y_2</th>\n",
       "      <th>Predict_y_3</th>\n",
       "      <th>Predict_y_4</th>\n",
       "      <th>Predict_y_5</th>\n",
       "      <th>Predict_y_6</th>\n",
       "      <th>Predict_y_7</th>\n",
       "      <th>...</th>\n",
       "      <th>Predict_y_90</th>\n",
       "      <th>Predict_y_91</th>\n",
       "      <th>Predict_y_92</th>\n",
       "      <th>Predict_y_93</th>\n",
       "      <th>Predict_y_94</th>\n",
       "      <th>Predict_y_95</th>\n",
       "      <th>Predict_y_96</th>\n",
       "      <th>Predict_y_97</th>\n",
       "      <th>Predict_y_98</th>\n",
       "      <th>Predict_y_99</th>\n",
       "    </tr>\n",
       "  </thead>\n",
       "  <tbody>\n",
       "    <tr>\n",
       "      <th>0</th>\n",
       "      <td>1469152.0</td>\n",
       "      <td>7.0</td>\n",
       "      <td>7.076150</td>\n",
       "      <td>7.218330</td>\n",
       "      <td>7.328291</td>\n",
       "      <td>7.326531</td>\n",
       "      <td>7.352338</td>\n",
       "      <td>7.256581</td>\n",
       "      <td>7.250031</td>\n",
       "      <td>7.032497</td>\n",
       "      <td>...</td>\n",
       "      <td>7.318269</td>\n",
       "      <td>7.198857</td>\n",
       "      <td>7.396550</td>\n",
       "      <td>7.150467</td>\n",
       "      <td>7.426195</td>\n",
       "      <td>7.134408</td>\n",
       "      <td>7.071593</td>\n",
       "      <td>7.148722</td>\n",
       "      <td>7.152225</td>\n",
       "      <td>7.252667</td>\n",
       "    </tr>\n",
       "    <tr>\n",
       "      <th>1</th>\n",
       "      <td>831522.0</td>\n",
       "      <td>5.0</td>\n",
       "      <td>2.990256</td>\n",
       "      <td>2.999151</td>\n",
       "      <td>2.863636</td>\n",
       "      <td>2.745602</td>\n",
       "      <td>3.034600</td>\n",
       "      <td>2.815908</td>\n",
       "      <td>3.074700</td>\n",
       "      <td>2.828677</td>\n",
       "      <td>...</td>\n",
       "      <td>2.698011</td>\n",
       "      <td>2.860187</td>\n",
       "      <td>2.814734</td>\n",
       "      <td>3.163394</td>\n",
       "      <td>2.842949</td>\n",
       "      <td>3.140445</td>\n",
       "      <td>2.564129</td>\n",
       "      <td>3.098267</td>\n",
       "      <td>3.196708</td>\n",
       "      <td>2.835105</td>\n",
       "    </tr>\n",
       "    <tr>\n",
       "      <th>2</th>\n",
       "      <td>1938251.0</td>\n",
       "      <td>2.0</td>\n",
       "      <td>4.235611</td>\n",
       "      <td>4.247810</td>\n",
       "      <td>4.341072</td>\n",
       "      <td>4.035480</td>\n",
       "      <td>4.044701</td>\n",
       "      <td>4.257991</td>\n",
       "      <td>4.239149</td>\n",
       "      <td>3.975514</td>\n",
       "      <td>...</td>\n",
       "      <td>3.969376</td>\n",
       "      <td>3.777669</td>\n",
       "      <td>3.835070</td>\n",
       "      <td>3.987470</td>\n",
       "      <td>4.083126</td>\n",
       "      <td>4.101276</td>\n",
       "      <td>3.864651</td>\n",
       "      <td>4.118773</td>\n",
       "      <td>3.849860</td>\n",
       "      <td>4.073575</td>\n",
       "    </tr>\n",
       "    <tr>\n",
       "      <th>3</th>\n",
       "      <td>1836183.0</td>\n",
       "      <td>10.0</td>\n",
       "      <td>7.657158</td>\n",
       "      <td>7.389333</td>\n",
       "      <td>7.439538</td>\n",
       "      <td>7.389019</td>\n",
       "      <td>7.533093</td>\n",
       "      <td>7.715889</td>\n",
       "      <td>7.451866</td>\n",
       "      <td>7.697068</td>\n",
       "      <td>...</td>\n",
       "      <td>7.555080</td>\n",
       "      <td>7.736094</td>\n",
       "      <td>7.832221</td>\n",
       "      <td>7.683749</td>\n",
       "      <td>7.477293</td>\n",
       "      <td>7.506588</td>\n",
       "      <td>7.514276</td>\n",
       "      <td>7.494143</td>\n",
       "      <td>7.531126</td>\n",
       "      <td>7.770050</td>\n",
       "    </tr>\n",
       "    <tr>\n",
       "      <th>4</th>\n",
       "      <td>1653464.0</td>\n",
       "      <td>3.0</td>\n",
       "      <td>6.398757</td>\n",
       "      <td>6.645863</td>\n",
       "      <td>6.778865</td>\n",
       "      <td>6.545725</td>\n",
       "      <td>6.431090</td>\n",
       "      <td>6.415228</td>\n",
       "      <td>6.565426</td>\n",
       "      <td>6.641722</td>\n",
       "      <td>...</td>\n",
       "      <td>6.369149</td>\n",
       "      <td>6.406950</td>\n",
       "      <td>6.345706</td>\n",
       "      <td>6.674747</td>\n",
       "      <td>6.547424</td>\n",
       "      <td>6.974433</td>\n",
       "      <td>6.861008</td>\n",
       "      <td>6.511042</td>\n",
       "      <td>6.765471</td>\n",
       "      <td>6.525588</td>\n",
       "    </tr>\n",
       "  </tbody>\n",
       "</table>\n",
       "<p>5 rows × 102 columns</p>\n",
       "</div>"
      ],
      "text/plain": [
       "       index  Real_y  Predict_y_0  Predict_y_1  Predict_y_2  Predict_y_3  \\\n",
       "0  1469152.0     7.0     7.076150     7.218330     7.328291     7.326531   \n",
       "1   831522.0     5.0     2.990256     2.999151     2.863636     2.745602   \n",
       "2  1938251.0     2.0     4.235611     4.247810     4.341072     4.035480   \n",
       "3  1836183.0    10.0     7.657158     7.389333     7.439538     7.389019   \n",
       "4  1653464.0     3.0     6.398757     6.645863     6.778865     6.545725   \n",
       "\n",
       "   Predict_y_4  Predict_y_5  Predict_y_6  Predict_y_7  ...  Predict_y_90  \\\n",
       "0     7.352338     7.256581     7.250031     7.032497  ...      7.318269   \n",
       "1     3.034600     2.815908     3.074700     2.828677  ...      2.698011   \n",
       "2     4.044701     4.257991     4.239149     3.975514  ...      3.969376   \n",
       "3     7.533093     7.715889     7.451866     7.697068  ...      7.555080   \n",
       "4     6.431090     6.415228     6.565426     6.641722  ...      6.369149   \n",
       "\n",
       "   Predict_y_91  Predict_y_92  Predict_y_93  Predict_y_94  Predict_y_95  \\\n",
       "0      7.198857      7.396550      7.150467      7.426195      7.134408   \n",
       "1      2.860187      2.814734      3.163394      2.842949      3.140445   \n",
       "2      3.777669      3.835070      3.987470      4.083126      4.101276   \n",
       "3      7.736094      7.832221      7.683749      7.477293      7.506588   \n",
       "4      6.406950      6.345706      6.674747      6.547424      6.974433   \n",
       "\n",
       "   Predict_y_96  Predict_y_97  Predict_y_98  Predict_y_99  \n",
       "0      7.071593      7.148722      7.152225      7.252667  \n",
       "1      2.564129      3.098267      3.196708      2.835105  \n",
       "2      3.864651      4.118773      3.849860      4.073575  \n",
       "3      7.514276      7.494143      7.531126      7.770050  \n",
       "4      6.861008      6.511042      6.765471      6.525588  \n",
       "\n",
       "[5 rows x 102 columns]"
      ]
     },
     "execution_count": 114,
     "metadata": {},
     "output_type": "execute_result"
    }
   ],
   "source": [
    "middle_preidiction_df.head()"
   ]
  },
  {
   "cell_type": "code",
   "execution_count": 115,
   "id": "7f32a992-9c49-443f-b28c-476bc1138ee2",
   "metadata": {},
   "outputs": [],
   "source": [
    "middle_preidiction_df['Predict_y'] = middle_preidiction_df.iloc[:,2:103].mean(axis = 1)"
   ]
  },
  {
   "cell_type": "code",
   "execution_count": 116,
   "id": "b82f535f-0811-4d62-b2ee-198206127f5d",
   "metadata": {},
   "outputs": [
    {
     "data": {
      "text/plain": [
       "0    7.219572\n",
       "1    2.934331\n",
       "2    4.079315\n",
       "3    7.539057\n",
       "4    6.571742\n",
       "Name: Predict_y, dtype: float64"
      ]
     },
     "execution_count": 116,
     "metadata": {},
     "output_type": "execute_result"
    }
   ],
   "source": [
    "middle_preidiction_df['Predict_y'].head()"
   ]
  },
  {
   "cell_type": "code",
   "execution_count": 117,
   "id": "f8d8d37d-de38-4364-88ea-550f2b3f2763",
   "metadata": {},
   "outputs": [],
   "source": [
    "middle_preidiction_df = middle_preidiction_df[['index', 'Real_y', 'Predict_y']]"
   ]
  },
  {
   "cell_type": "code",
   "execution_count": 118,
   "id": "b278fcf0-db0d-4b56-99ba-f32faeded042",
   "metadata": {},
   "outputs": [],
   "source": [
    "middle_preidiction_df['index'] = middle_preidiction_df['index'].astype(int)"
   ]
  },
  {
   "cell_type": "code",
   "execution_count": 119,
   "id": "2f82f3c8-9e0c-4856-a371-7fbc9a5327c6",
   "metadata": {},
   "outputs": [
    {
     "data": {
      "text/html": [
       "<div>\n",
       "<style scoped>\n",
       "    .dataframe tbody tr th:only-of-type {\n",
       "        vertical-align: middle;\n",
       "    }\n",
       "\n",
       "    .dataframe tbody tr th {\n",
       "        vertical-align: top;\n",
       "    }\n",
       "\n",
       "    .dataframe thead th {\n",
       "        text-align: right;\n",
       "    }\n",
       "</style>\n",
       "<table border=\"1\" class=\"dataframe\">\n",
       "  <thead>\n",
       "    <tr style=\"text-align: right;\">\n",
       "      <th></th>\n",
       "      <th>index</th>\n",
       "      <th>Real_y</th>\n",
       "      <th>Predict_y</th>\n",
       "    </tr>\n",
       "  </thead>\n",
       "  <tbody>\n",
       "    <tr>\n",
       "      <th>0</th>\n",
       "      <td>1469152</td>\n",
       "      <td>7.0</td>\n",
       "      <td>7.219572</td>\n",
       "    </tr>\n",
       "    <tr>\n",
       "      <th>1</th>\n",
       "      <td>831522</td>\n",
       "      <td>5.0</td>\n",
       "      <td>2.934331</td>\n",
       "    </tr>\n",
       "    <tr>\n",
       "      <th>2</th>\n",
       "      <td>1938251</td>\n",
       "      <td>2.0</td>\n",
       "      <td>4.079315</td>\n",
       "    </tr>\n",
       "    <tr>\n",
       "      <th>3</th>\n",
       "      <td>1836183</td>\n",
       "      <td>10.0</td>\n",
       "      <td>7.539057</td>\n",
       "    </tr>\n",
       "    <tr>\n",
       "      <th>4</th>\n",
       "      <td>1653464</td>\n",
       "      <td>3.0</td>\n",
       "      <td>6.571742</td>\n",
       "    </tr>\n",
       "    <tr>\n",
       "      <th>5</th>\n",
       "      <td>2335499</td>\n",
       "      <td>7.0</td>\n",
       "      <td>7.705797</td>\n",
       "    </tr>\n",
       "    <tr>\n",
       "      <th>6</th>\n",
       "      <td>1538044</td>\n",
       "      <td>8.0</td>\n",
       "      <td>8.354906</td>\n",
       "    </tr>\n",
       "    <tr>\n",
       "      <th>7</th>\n",
       "      <td>1461202</td>\n",
       "      <td>9.0</td>\n",
       "      <td>8.299133</td>\n",
       "    </tr>\n",
       "    <tr>\n",
       "      <th>8</th>\n",
       "      <td>727466</td>\n",
       "      <td>5.0</td>\n",
       "      <td>5.069509</td>\n",
       "    </tr>\n",
       "    <tr>\n",
       "      <th>9</th>\n",
       "      <td>938061</td>\n",
       "      <td>3.0</td>\n",
       "      <td>3.236902</td>\n",
       "    </tr>\n",
       "  </tbody>\n",
       "</table>\n",
       "</div>"
      ],
      "text/plain": [
       "     index  Real_y  Predict_y\n",
       "0  1469152     7.0   7.219572\n",
       "1   831522     5.0   2.934331\n",
       "2  1938251     2.0   4.079315\n",
       "3  1836183    10.0   7.539057\n",
       "4  1653464     3.0   6.571742\n",
       "5  2335499     7.0   7.705797\n",
       "6  1538044     8.0   8.354906\n",
       "7  1461202     9.0   8.299133\n",
       "8   727466     5.0   5.069509\n",
       "9   938061     3.0   3.236902"
      ]
     },
     "execution_count": 119,
     "metadata": {},
     "output_type": "execute_result"
    }
   ],
   "source": [
    "middle_preidiction_df.head(10)"
   ]
  },
  {
   "cell_type": "code",
   "execution_count": 120,
   "id": "51173ff6-7549-406b-bcdf-96ebca18329f",
   "metadata": {},
   "outputs": [],
   "source": [
    "middle_preidiction_df.to_parquet(os.path.join('Results', 'PredictionWB_XgbOldModelMiddlePrediction_v1.parquet'))"
   ]
  },
  {
   "cell_type": "code",
   "execution_count": null,
   "id": "5b12251b-6fdc-4840-bda9-22589205c13d",
   "metadata": {},
   "outputs": [],
   "source": []
  },
  {
   "cell_type": "markdown",
   "id": "14dedc76-3aca-4df3-abcf-63e87b6cb94a",
   "metadata": {},
   "source": [
    "### Old Model Old Prediction"
   ]
  },
  {
   "cell_type": "code",
   "execution_count": 121,
   "id": "1130ad5f-2047-4e02-8f41-3f086b17ad23",
   "metadata": {},
   "outputs": [
    {
     "name": "stdout",
     "output_type": "stream",
     "text": [
      "Index(['index', 'Real_y', 'Predict_y_0'], dtype='object')\n",
      "Index(['index', 'Real_y', 'Predict_y_1'], dtype='object')\n",
      "Index(['index', 'Real_y', 'Predict_y_2'], dtype='object')\n",
      "Index(['index', 'Real_y', 'Predict_y_3'], dtype='object')\n",
      "Index(['index', 'Real_y', 'Predict_y_4'], dtype='object')\n",
      "Index(['index', 'Real_y', 'Predict_y_5'], dtype='object')\n",
      "Index(['index', 'Real_y', 'Predict_y_6'], dtype='object')\n",
      "Index(['index', 'Real_y', 'Predict_y_7'], dtype='object')\n",
      "Index(['index', 'Real_y', 'Predict_y_8'], dtype='object')\n",
      "Index(['index', 'Real_y', 'Predict_y_9'], dtype='object')\n"
     ]
    }
   ],
   "source": [
    "merged_old_prediction_df = None\n",
    "for old_prediction_df in fold_predictions_array_list:\n",
    "    old_prediction_df['index'] = old_prediction_df['index'].astype(int)\n",
    "    old_prediction_df['Real_y'] = old_prediction_df['Real_y'].astype(int)\n",
    "    print(old_prediction_df.columns)\n",
    "    if merged_old_prediction_df is None:\n",
    "        merged_old_prediction_df = old_prediction_df\n",
    "    else:\n",
    "        merged_old_prediction_df = pd.merge(merged_old_prediction_df, old_prediction_df, on=['index', 'Real_y'])"
   ]
  },
  {
   "cell_type": "code",
   "execution_count": 122,
   "id": "b4e58c55-6c59-4269-9091-15a65ab3a2eb",
   "metadata": {},
   "outputs": [
    {
     "data": {
      "text/html": [
       "<div>\n",
       "<style scoped>\n",
       "    .dataframe tbody tr th:only-of-type {\n",
       "        vertical-align: middle;\n",
       "    }\n",
       "\n",
       "    .dataframe tbody tr th {\n",
       "        vertical-align: top;\n",
       "    }\n",
       "\n",
       "    .dataframe thead th {\n",
       "        text-align: right;\n",
       "    }\n",
       "</style>\n",
       "<table border=\"1\" class=\"dataframe\">\n",
       "  <thead>\n",
       "    <tr style=\"text-align: right;\">\n",
       "      <th></th>\n",
       "      <th>index</th>\n",
       "      <th>Real_y</th>\n",
       "      <th>Predict_y_0</th>\n",
       "      <th>Predict_y_1</th>\n",
       "      <th>Predict_y_2</th>\n",
       "      <th>Predict_y_3</th>\n",
       "      <th>Predict_y_4</th>\n",
       "      <th>Predict_y_5</th>\n",
       "      <th>Predict_y_6</th>\n",
       "      <th>Predict_y_7</th>\n",
       "      <th>Predict_y_8</th>\n",
       "      <th>Predict_y_9</th>\n",
       "    </tr>\n",
       "  </thead>\n",
       "  <tbody>\n",
       "    <tr>\n",
       "      <th>0</th>\n",
       "      <td>1618415</td>\n",
       "      <td>8</td>\n",
       "      <td>3.585752</td>\n",
       "      <td>3.693771</td>\n",
       "      <td>4.180027</td>\n",
       "      <td>4.032078</td>\n",
       "      <td>4.005493</td>\n",
       "      <td>3.820362</td>\n",
       "      <td>3.741325</td>\n",
       "      <td>3.814029</td>\n",
       "      <td>3.508904</td>\n",
       "      <td>4.053596</td>\n",
       "    </tr>\n",
       "    <tr>\n",
       "      <th>1</th>\n",
       "      <td>1688015</td>\n",
       "      <td>8</td>\n",
       "      <td>7.240756</td>\n",
       "      <td>6.952606</td>\n",
       "      <td>7.001698</td>\n",
       "      <td>6.948921</td>\n",
       "      <td>7.262212</td>\n",
       "      <td>6.759714</td>\n",
       "      <td>6.777848</td>\n",
       "      <td>7.081533</td>\n",
       "      <td>7.268421</td>\n",
       "      <td>6.793781</td>\n",
       "    </tr>\n",
       "    <tr>\n",
       "      <th>2</th>\n",
       "      <td>1726042</td>\n",
       "      <td>7</td>\n",
       "      <td>6.794312</td>\n",
       "      <td>6.651580</td>\n",
       "      <td>6.306438</td>\n",
       "      <td>6.236263</td>\n",
       "      <td>6.613828</td>\n",
       "      <td>6.567781</td>\n",
       "      <td>6.460809</td>\n",
       "      <td>6.347579</td>\n",
       "      <td>6.386783</td>\n",
       "      <td>6.346259</td>\n",
       "    </tr>\n",
       "    <tr>\n",
       "      <th>3</th>\n",
       "      <td>2461182</td>\n",
       "      <td>3</td>\n",
       "      <td>6.433945</td>\n",
       "      <td>6.381985</td>\n",
       "      <td>6.573924</td>\n",
       "      <td>6.209233</td>\n",
       "      <td>6.257556</td>\n",
       "      <td>6.185764</td>\n",
       "      <td>6.209081</td>\n",
       "      <td>6.537595</td>\n",
       "      <td>6.569862</td>\n",
       "      <td>6.445984</td>\n",
       "    </tr>\n",
       "    <tr>\n",
       "      <th>4</th>\n",
       "      <td>2308488</td>\n",
       "      <td>8</td>\n",
       "      <td>8.156580</td>\n",
       "      <td>8.042215</td>\n",
       "      <td>8.272901</td>\n",
       "      <td>8.220867</td>\n",
       "      <td>8.360530</td>\n",
       "      <td>8.486036</td>\n",
       "      <td>8.257619</td>\n",
       "      <td>8.316249</td>\n",
       "      <td>8.085272</td>\n",
       "      <td>8.037689</td>\n",
       "    </tr>\n",
       "  </tbody>\n",
       "</table>\n",
       "</div>"
      ],
      "text/plain": [
       "     index  Real_y  Predict_y_0  Predict_y_1  Predict_y_2  Predict_y_3  \\\n",
       "0  1618415       8     3.585752     3.693771     4.180027     4.032078   \n",
       "1  1688015       8     7.240756     6.952606     7.001698     6.948921   \n",
       "2  1726042       7     6.794312     6.651580     6.306438     6.236263   \n",
       "3  2461182       3     6.433945     6.381985     6.573924     6.209233   \n",
       "4  2308488       8     8.156580     8.042215     8.272901     8.220867   \n",
       "\n",
       "   Predict_y_4  Predict_y_5  Predict_y_6  Predict_y_7  Predict_y_8  \\\n",
       "0     4.005493     3.820362     3.741325     3.814029     3.508904   \n",
       "1     7.262212     6.759714     6.777848     7.081533     7.268421   \n",
       "2     6.613828     6.567781     6.460809     6.347579     6.386783   \n",
       "3     6.257556     6.185764     6.209081     6.537595     6.569862   \n",
       "4     8.360530     8.486036     8.257619     8.316249     8.085272   \n",
       "\n",
       "   Predict_y_9  \n",
       "0     4.053596  \n",
       "1     6.793781  \n",
       "2     6.346259  \n",
       "3     6.445984  \n",
       "4     8.037689  "
      ]
     },
     "execution_count": 122,
     "metadata": {},
     "output_type": "execute_result"
    }
   ],
   "source": [
    "merged_old_prediction_df.head()"
   ]
  },
  {
   "cell_type": "code",
   "execution_count": 123,
   "id": "553ed581-128c-4064-959b-c1288457f0c0",
   "metadata": {},
   "outputs": [],
   "source": [
    "merged_old_prediction_df['Predict_y'] = merged_old_prediction_df.iloc[:,2:13].mean(axis = 1)"
   ]
  },
  {
   "cell_type": "code",
   "execution_count": 124,
   "id": "178ea07a-4918-496e-be96-de81dc484609",
   "metadata": {},
   "outputs": [],
   "source": [
    "merged_old_prediction_df = merged_old_prediction_df[['index', 'Real_y', 'Predict_y']]"
   ]
  },
  {
   "cell_type": "code",
   "execution_count": 125,
   "id": "fc9cb761-5639-4663-ac66-656a9b2a3fc1",
   "metadata": {},
   "outputs": [
    {
     "data": {
      "text/html": [
       "<div>\n",
       "<style scoped>\n",
       "    .dataframe tbody tr th:only-of-type {\n",
       "        vertical-align: middle;\n",
       "    }\n",
       "\n",
       "    .dataframe tbody tr th {\n",
       "        vertical-align: top;\n",
       "    }\n",
       "\n",
       "    .dataframe thead th {\n",
       "        text-align: right;\n",
       "    }\n",
       "</style>\n",
       "<table border=\"1\" class=\"dataframe\">\n",
       "  <thead>\n",
       "    <tr style=\"text-align: right;\">\n",
       "      <th></th>\n",
       "      <th>index</th>\n",
       "      <th>Real_y</th>\n",
       "      <th>Predict_y</th>\n",
       "    </tr>\n",
       "  </thead>\n",
       "  <tbody>\n",
       "    <tr>\n",
       "      <th>0</th>\n",
       "      <td>1618415</td>\n",
       "      <td>8</td>\n",
       "      <td>3.843534</td>\n",
       "    </tr>\n",
       "    <tr>\n",
       "      <th>1</th>\n",
       "      <td>1688015</td>\n",
       "      <td>8</td>\n",
       "      <td>7.008749</td>\n",
       "    </tr>\n",
       "    <tr>\n",
       "      <th>2</th>\n",
       "      <td>1726042</td>\n",
       "      <td>7</td>\n",
       "      <td>6.471163</td>\n",
       "    </tr>\n",
       "    <tr>\n",
       "      <th>3</th>\n",
       "      <td>2461182</td>\n",
       "      <td>3</td>\n",
       "      <td>6.380493</td>\n",
       "    </tr>\n",
       "    <tr>\n",
       "      <th>4</th>\n",
       "      <td>2308488</td>\n",
       "      <td>8</td>\n",
       "      <td>8.223596</td>\n",
       "    </tr>\n",
       "    <tr>\n",
       "      <th>5</th>\n",
       "      <td>2520496</td>\n",
       "      <td>5</td>\n",
       "      <td>4.702780</td>\n",
       "    </tr>\n",
       "    <tr>\n",
       "      <th>6</th>\n",
       "      <td>2587628</td>\n",
       "      <td>0</td>\n",
       "      <td>6.420927</td>\n",
       "    </tr>\n",
       "    <tr>\n",
       "      <th>7</th>\n",
       "      <td>2580220</td>\n",
       "      <td>4</td>\n",
       "      <td>4.289569</td>\n",
       "    </tr>\n",
       "    <tr>\n",
       "      <th>8</th>\n",
       "      <td>818170</td>\n",
       "      <td>8</td>\n",
       "      <td>8.098807</td>\n",
       "    </tr>\n",
       "    <tr>\n",
       "      <th>9</th>\n",
       "      <td>2568275</td>\n",
       "      <td>8</td>\n",
       "      <td>5.448313</td>\n",
       "    </tr>\n",
       "  </tbody>\n",
       "</table>\n",
       "</div>"
      ],
      "text/plain": [
       "     index  Real_y  Predict_y\n",
       "0  1618415       8   3.843534\n",
       "1  1688015       8   7.008749\n",
       "2  1726042       7   6.471163\n",
       "3  2461182       3   6.380493\n",
       "4  2308488       8   8.223596\n",
       "5  2520496       5   4.702780\n",
       "6  2587628       0   6.420927\n",
       "7  2580220       4   4.289569\n",
       "8   818170       8   8.098807\n",
       "9  2568275       8   5.448313"
      ]
     },
     "execution_count": 125,
     "metadata": {},
     "output_type": "execute_result"
    }
   ],
   "source": [
    "merged_old_prediction_df.head(10)"
   ]
  },
  {
   "cell_type": "code",
   "execution_count": 126,
   "id": "d45cc7d7-5070-4730-9721-d75b87f545f1",
   "metadata": {},
   "outputs": [],
   "source": [
    "merged_old_prediction_df.to_parquet(os.path.join('Results', 'PredictionWB_XgbOldModelOldPrediction_v1.parquet'))"
   ]
  },
  {
   "cell_type": "code",
   "execution_count": null,
   "id": "1c0f2065-4029-4096-aac1-05fd5aeb54ff",
   "metadata": {},
   "outputs": [],
   "source": []
  },
  {
   "cell_type": "code",
   "execution_count": null,
   "id": "492d9c45-0eb4-4eaa-bfcd-107d9b3c43d7",
   "metadata": {},
   "outputs": [],
   "source": []
  },
  {
   "cell_type": "code",
   "execution_count": null,
   "id": "1f99415d-60d1-4670-a16e-f2c163cefd94",
   "metadata": {},
   "outputs": [],
   "source": []
  }
 ],
 "metadata": {
  "kernelspec": {
   "display_name": "Python 3 (ipykernel)",
   "language": "python",
   "name": "python3"
  },
  "language_info": {
   "codemirror_mode": {
    "name": "ipython",
    "version": 3
   },
   "file_extension": ".py",
   "mimetype": "text/x-python",
   "name": "python",
   "nbconvert_exporter": "python",
   "pygments_lexer": "ipython3",
   "version": "3.9.19"
  }
 },
 "nbformat": 4,
 "nbformat_minor": 5
}
