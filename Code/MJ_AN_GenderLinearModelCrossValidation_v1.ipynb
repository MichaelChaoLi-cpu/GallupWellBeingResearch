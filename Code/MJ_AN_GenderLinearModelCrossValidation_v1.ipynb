{
 "cells": [
  {
   "cell_type": "markdown",
   "id": "674d42a8-e6ce-4786-a22b-9f68d1b8381f",
   "metadata": {},
   "source": [
    "# Gender Difference: XGB Experiment based on 64 Variables 1911k Rows 14 Waves"
   ]
  },
  {
   "cell_type": "code",
   "execution_count": 1,
   "id": "0da7b886-40aa-4fc8-a7e6-0590522fb7bf",
   "metadata": {},
   "outputs": [
    {
     "data": {
      "text/plain": [
       "'/mnt/d/OneDrive - Kyushu University/ESG09_Article/Code'"
      ]
     },
     "execution_count": 1,
     "metadata": {},
     "output_type": "execute_result"
    }
   ],
   "source": [
    "%pwd"
   ]
  },
  {
   "cell_type": "code",
   "execution_count": 2,
   "id": "4cafc506-7084-475e-bc79-5ab38f2df1bf",
   "metadata": {},
   "outputs": [
    {
     "name": "stdout",
     "output_type": "stream",
     "text": [
      "/mnt/d/OneDrive - Kyushu University/ESG09_Article\n"
     ]
    },
    {
     "name": "stderr",
     "output_type": "stream",
     "text": [
      "/home/linux/anaconda3/envs/automl/lib/python3.9/site-packages/IPython/core/magics/osm.py:417: UserWarning: using dhist requires you to install the `pickleshare` library.\n",
      "  self.shell.db['dhist'] = compress_dhist(dhist)[-100:]\n"
     ]
    }
   ],
   "source": [
    "%cd .."
   ]
  },
  {
   "cell_type": "code",
   "execution_count": null,
   "id": "cf4463f1-6e2a-4250-a341-0522f9f4b7a4",
   "metadata": {},
   "outputs": [],
   "source": []
  },
  {
   "cell_type": "markdown",
   "id": "cb4e31a2-fed1-475b-adc6-a1270e989445",
   "metadata": {},
   "source": [
    "## Import Package"
   ]
  },
  {
   "cell_type": "code",
   "execution_count": 37,
   "id": "45c64cd5-61fa-4ece-8045-ae010e3699d7",
   "metadata": {},
   "outputs": [],
   "source": [
    "from autogluon.tabular import TabularDataset, TabularPredictor\n",
    "import catboost as cb\n",
    "from joblib import dump, load\n",
    "import lightgbm\n",
    "import numpy as np\n",
    "import os \n",
    "import pandas as pd\n",
    "import random\n",
    "from scipy import stats\n",
    "from sklearn.ensemble import RandomForestRegressor\n",
    "from sklearn.linear_model import LinearRegression\n",
    "from sklearn.metrics import mean_squared_error, r2_score\n",
    "from sklearn.model_selection import train_test_split, KFold\n",
    "from sklearn.preprocessing import LabelEncoder\n",
    "from skopt import BayesSearchCV\n",
    "from skopt.space import Real, Integer\n",
    "import xgboost as xgb"
   ]
  },
  {
   "cell_type": "code",
   "execution_count": null,
   "id": "b3b0418d-64d5-4d8d-872b-eae4e8a07f75",
   "metadata": {},
   "outputs": [],
   "source": []
  },
  {
   "cell_type": "markdown",
   "id": "7ba4fd03-e7ac-4a98-a13e-625e527a91ee",
   "metadata": {},
   "source": [
    "## Load and Make Datasets"
   ]
  },
  {
   "cell_type": "code",
   "execution_count": 4,
   "id": "260d9fb0-8280-4ce8-8186-3197ff712cc8",
   "metadata": {},
   "outputs": [],
   "source": [
    "Df_Filename = os.path.join(\"Data\", \"GallupWB_Ml64var1911k14wave_v1.parquet\")"
   ]
  },
  {
   "cell_type": "code",
   "execution_count": 5,
   "id": "6fcc6955-0ed2-4b31-87d6-6440d23bfb42",
   "metadata": {},
   "outputs": [],
   "source": [
    "Df = pd.read_parquet(Df_Filename)"
   ]
  },
  {
   "cell_type": "code",
   "execution_count": 6,
   "id": "1dde35de-81f1-4cdc-acf1-da741c24d044",
   "metadata": {},
   "outputs": [
    {
     "data": {
      "text/plain": [
       "(1911212, 64)"
      ]
     },
     "execution_count": 6,
     "metadata": {},
     "output_type": "execute_result"
    }
   ],
   "source": [
    "Df.shape"
   ]
  },
  {
   "cell_type": "code",
   "execution_count": 7,
   "id": "232cdf8e-1138-4325-8220-9f1d5e79f92c",
   "metadata": {},
   "outputs": [
    {
     "data": {
      "text/plain": [
       "Index(['wave', 'INCOME_2', 'Cantril_ladder', 'Health_disable', 'Relative_have',\n",
       "       'Living_standard_change', 'Enough_food', 'Enough_shelter',\n",
       "       'Well_rested', 'Respected', 'Smile', 'Interesting_thing', 'Enjoyment',\n",
       "       'Physical_pain', 'Worry', 'Sadness', 'Stress', 'Anger',\n",
       "       'City_satisficied', 'Economic_change', 'Goodtime_job', 'Sat_pubtran',\n",
       "       'Sat_road', 'Sat_edu', 'Sat_qualityair', 'Sat_qualitywater',\n",
       "       'Sat_healthcare', 'Sat_affhouse', 'Sat_oppofriend', 'Good_minorities',\n",
       "       'Good_gayles', 'Good_immigrants', 'Donated', 'Volunteer',\n",
       "       'Help_stranger', 'Voice_official', 'Local_police', 'Safety_walk',\n",
       "       'Stolen', 'Assualted', 'Religion_importance', 'Children_respected',\n",
       "       'Children_learn', 'Women_respected', 'Sat_dealpoor', 'Sat_perserveenv',\n",
       "       'Freedom_chooselife', 'Conf_military', 'Conf_judicial',\n",
       "       'Conf_government', 'Conf_financial', 'Conf_honestyelections',\n",
       "       'Freedom_media', 'Corruption_business', 'Corruption_government',\n",
       "       'Performance_leadership', 'Gender_female', 'Age', 'Marital_status',\n",
       "       'Employment', 'Children_under15', 'Feeling_income', 'Income_level',\n",
       "       'COUNTRY_ISO3'],\n",
       "      dtype='object')"
      ]
     },
     "execution_count": 7,
     "metadata": {},
     "output_type": "execute_result"
    }
   ],
   "source": [
    "Df.columns"
   ]
  },
  {
   "cell_type": "code",
   "execution_count": null,
   "id": "2ddf0523-2637-4601-ba1d-cd631e467790",
   "metadata": {},
   "outputs": [],
   "source": []
  },
  {
   "cell_type": "markdown",
   "id": "56c294b5-1063-4bc6-aa81-77f2d8c96799",
   "metadata": {},
   "source": [
    "### Check the Difference between Gender"
   ]
  },
  {
   "cell_type": "code",
   "execution_count": 8,
   "id": "95b7780a-2c93-4b5f-8d5b-94da80e54945",
   "metadata": {},
   "outputs": [],
   "source": [
    "female_cantrilladder = Df.loc[Df['Gender_female']==1, 'Cantril_ladder'].mean()"
   ]
  },
  {
   "cell_type": "code",
   "execution_count": 9,
   "id": "5452f6d8-7f38-4a30-8ec9-2602d8241a0c",
   "metadata": {},
   "outputs": [
    {
     "data": {
      "text/plain": [
       "5.569313150299246"
      ]
     },
     "execution_count": 9,
     "metadata": {},
     "output_type": "execute_result"
    }
   ],
   "source": [
    "female_cantrilladder"
   ]
  },
  {
   "cell_type": "code",
   "execution_count": 10,
   "id": "ed6d3ffc-803e-4f4e-b755-0fc1b44b8e2e",
   "metadata": {},
   "outputs": [],
   "source": [
    "male_cantrilladder = Df.loc[Df['Gender_female']==0, 'Cantril_ladder'].mean()"
   ]
  },
  {
   "cell_type": "code",
   "execution_count": 11,
   "id": "5544ebdd-1260-4060-bb8a-46ca8a0ba56d",
   "metadata": {},
   "outputs": [
    {
     "data": {
      "text/plain": [
       "5.466124824941722"
      ]
     },
     "execution_count": 11,
     "metadata": {},
     "output_type": "execute_result"
    }
   ],
   "source": [
    "male_cantrilladder"
   ]
  },
  {
   "cell_type": "code",
   "execution_count": 12,
   "id": "8112be0a-383e-4f0f-aee9-e3bcc53e368b",
   "metadata": {},
   "outputs": [],
   "source": [
    "t_stat, p_value = stats.ttest_ind(Df.loc[Df['Gender_female']==1, 'Cantril_ladder'], Df.loc[Df['Gender_female']==0, 'Cantril_ladder'])"
   ]
  },
  {
   "cell_type": "code",
   "execution_count": 13,
   "id": "b6c4b166-456a-4042-80c3-52ea4c49d4b2",
   "metadata": {},
   "outputs": [
    {
     "name": "stdout",
     "output_type": "stream",
     "text": [
      "T-statistic: 29.49502322170667, P-value: 3.682499213688914e-191\n"
     ]
    }
   ],
   "source": [
    "print(f\"T-statistic: {t_stat}, P-value: {p_value}\")"
   ]
  },
  {
   "cell_type": "code",
   "execution_count": null,
   "id": "bdc32688-54f4-4815-993a-c1e3f8d0d04e",
   "metadata": {},
   "outputs": [],
   "source": []
  },
  {
   "cell_type": "markdown",
   "id": "09031742-4031-41e1-b1d9-90cc13ac6bea",
   "metadata": {},
   "source": [
    "### Shuffle Conversion and One hot"
   ]
  },
  {
   "cell_type": "code",
   "execution_count": 14,
   "id": "4a902521-19d1-47af-9b3d-737b2c302a91",
   "metadata": {},
   "outputs": [],
   "source": [
    "Df = Df.sample(frac=1, random_state=42)"
   ]
  },
  {
   "cell_type": "code",
   "execution_count": 15,
   "id": "3b217b81-0d86-4f07-8d42-11c63d2378dd",
   "metadata": {},
   "outputs": [],
   "source": [
    "Df['COUNTRY_ISO3'] = Df['COUNTRY_ISO3'].astype('category')"
   ]
  },
  {
   "cell_type": "code",
   "execution_count": 16,
   "id": "efb62493-7d22-4483-bdea-ca83db73c47f",
   "metadata": {},
   "outputs": [],
   "source": [
    "one_hot_encoded = pd.get_dummies(Df['COUNTRY_ISO3'], prefix='Country')"
   ]
  },
  {
   "cell_type": "code",
   "execution_count": 17,
   "id": "9775a29a-35fa-47c3-8452-5f6f92eb37f0",
   "metadata": {},
   "outputs": [
    {
     "data": {
      "text/html": [
       "<div>\n",
       "<style scoped>\n",
       "    .dataframe tbody tr th:only-of-type {\n",
       "        vertical-align: middle;\n",
       "    }\n",
       "\n",
       "    .dataframe tbody tr th {\n",
       "        vertical-align: top;\n",
       "    }\n",
       "\n",
       "    .dataframe thead th {\n",
       "        text-align: right;\n",
       "    }\n",
       "</style>\n",
       "<table border=\"1\" class=\"dataframe\">\n",
       "  <thead>\n",
       "    <tr style=\"text-align: right;\">\n",
       "      <th></th>\n",
       "      <th>Country_AFG</th>\n",
       "      <th>Country_AGO</th>\n",
       "      <th>Country_ALB</th>\n",
       "      <th>Country_ARE</th>\n",
       "      <th>Country_ARG</th>\n",
       "      <th>Country_ARM</th>\n",
       "      <th>Country_AUS</th>\n",
       "      <th>Country_AUT</th>\n",
       "      <th>Country_AZE</th>\n",
       "      <th>Country_BDI</th>\n",
       "      <th>...</th>\n",
       "      <th>Country_VEN</th>\n",
       "      <th>Country_VNM</th>\n",
       "      <th>Country_XKX</th>\n",
       "      <th>Country_XNC</th>\n",
       "      <th>Country_XNK</th>\n",
       "      <th>Country_XSR</th>\n",
       "      <th>Country_YEM</th>\n",
       "      <th>Country_ZAF</th>\n",
       "      <th>Country_ZMB</th>\n",
       "      <th>Country_ZWE</th>\n",
       "    </tr>\n",
       "  </thead>\n",
       "  <tbody>\n",
       "    <tr>\n",
       "      <th>1469152</th>\n",
       "      <td>False</td>\n",
       "      <td>False</td>\n",
       "      <td>False</td>\n",
       "      <td>False</td>\n",
       "      <td>False</td>\n",
       "      <td>False</td>\n",
       "      <td>False</td>\n",
       "      <td>False</td>\n",
       "      <td>False</td>\n",
       "      <td>False</td>\n",
       "      <td>...</td>\n",
       "      <td>False</td>\n",
       "      <td>False</td>\n",
       "      <td>False</td>\n",
       "      <td>False</td>\n",
       "      <td>False</td>\n",
       "      <td>False</td>\n",
       "      <td>False</td>\n",
       "      <td>False</td>\n",
       "      <td>False</td>\n",
       "      <td>False</td>\n",
       "    </tr>\n",
       "    <tr>\n",
       "      <th>1562723</th>\n",
       "      <td>False</td>\n",
       "      <td>False</td>\n",
       "      <td>False</td>\n",
       "      <td>False</td>\n",
       "      <td>False</td>\n",
       "      <td>False</td>\n",
       "      <td>False</td>\n",
       "      <td>False</td>\n",
       "      <td>False</td>\n",
       "      <td>False</td>\n",
       "      <td>...</td>\n",
       "      <td>False</td>\n",
       "      <td>False</td>\n",
       "      <td>False</td>\n",
       "      <td>False</td>\n",
       "      <td>False</td>\n",
       "      <td>False</td>\n",
       "      <td>False</td>\n",
       "      <td>False</td>\n",
       "      <td>False</td>\n",
       "      <td>False</td>\n",
       "    </tr>\n",
       "    <tr>\n",
       "      <th>708695</th>\n",
       "      <td>False</td>\n",
       "      <td>False</td>\n",
       "      <td>False</td>\n",
       "      <td>False</td>\n",
       "      <td>False</td>\n",
       "      <td>False</td>\n",
       "      <td>False</td>\n",
       "      <td>False</td>\n",
       "      <td>False</td>\n",
       "      <td>False</td>\n",
       "      <td>...</td>\n",
       "      <td>False</td>\n",
       "      <td>False</td>\n",
       "      <td>False</td>\n",
       "      <td>False</td>\n",
       "      <td>False</td>\n",
       "      <td>False</td>\n",
       "      <td>False</td>\n",
       "      <td>False</td>\n",
       "      <td>False</td>\n",
       "      <td>False</td>\n",
       "    </tr>\n",
       "    <tr>\n",
       "      <th>1828455</th>\n",
       "      <td>False</td>\n",
       "      <td>False</td>\n",
       "      <td>False</td>\n",
       "      <td>False</td>\n",
       "      <td>False</td>\n",
       "      <td>False</td>\n",
       "      <td>False</td>\n",
       "      <td>False</td>\n",
       "      <td>False</td>\n",
       "      <td>False</td>\n",
       "      <td>...</td>\n",
       "      <td>False</td>\n",
       "      <td>False</td>\n",
       "      <td>False</td>\n",
       "      <td>False</td>\n",
       "      <td>False</td>\n",
       "      <td>False</td>\n",
       "      <td>False</td>\n",
       "      <td>False</td>\n",
       "      <td>False</td>\n",
       "      <td>False</td>\n",
       "    </tr>\n",
       "    <tr>\n",
       "      <th>968859</th>\n",
       "      <td>False</td>\n",
       "      <td>False</td>\n",
       "      <td>False</td>\n",
       "      <td>False</td>\n",
       "      <td>False</td>\n",
       "      <td>False</td>\n",
       "      <td>False</td>\n",
       "      <td>False</td>\n",
       "      <td>False</td>\n",
       "      <td>False</td>\n",
       "      <td>...</td>\n",
       "      <td>False</td>\n",
       "      <td>False</td>\n",
       "      <td>False</td>\n",
       "      <td>False</td>\n",
       "      <td>False</td>\n",
       "      <td>False</td>\n",
       "      <td>False</td>\n",
       "      <td>False</td>\n",
       "      <td>False</td>\n",
       "      <td>False</td>\n",
       "    </tr>\n",
       "  </tbody>\n",
       "</table>\n",
       "<p>5 rows × 164 columns</p>\n",
       "</div>"
      ],
      "text/plain": [
       "         Country_AFG  Country_AGO  Country_ALB  Country_ARE  Country_ARG  \\\n",
       "1469152        False        False        False        False        False   \n",
       "1562723        False        False        False        False        False   \n",
       "708695         False        False        False        False        False   \n",
       "1828455        False        False        False        False        False   \n",
       "968859         False        False        False        False        False   \n",
       "\n",
       "         Country_ARM  Country_AUS  Country_AUT  Country_AZE  Country_BDI  ...  \\\n",
       "1469152        False        False        False        False        False  ...   \n",
       "1562723        False        False        False        False        False  ...   \n",
       "708695         False        False        False        False        False  ...   \n",
       "1828455        False        False        False        False        False  ...   \n",
       "968859         False        False        False        False        False  ...   \n",
       "\n",
       "         Country_VEN  Country_VNM  Country_XKX  Country_XNC  Country_XNK  \\\n",
       "1469152        False        False        False        False        False   \n",
       "1562723        False        False        False        False        False   \n",
       "708695         False        False        False        False        False   \n",
       "1828455        False        False        False        False        False   \n",
       "968859         False        False        False        False        False   \n",
       "\n",
       "         Country_XSR  Country_YEM  Country_ZAF  Country_ZMB  Country_ZWE  \n",
       "1469152        False        False        False        False        False  \n",
       "1562723        False        False        False        False        False  \n",
       "708695         False        False        False        False        False  \n",
       "1828455        False        False        False        False        False  \n",
       "968859         False        False        False        False        False  \n",
       "\n",
       "[5 rows x 164 columns]"
      ]
     },
     "execution_count": 17,
     "metadata": {},
     "output_type": "execute_result"
    }
   ],
   "source": [
    "one_hot_encoded.head()"
   ]
  },
  {
   "cell_type": "code",
   "execution_count": 18,
   "id": "066da4bd-38e3-4783-8692-70af028d2ceb",
   "metadata": {},
   "outputs": [],
   "source": [
    "Df_countryOneHot = pd.concat([Df, one_hot_encoded], axis=1)"
   ]
  },
  {
   "cell_type": "code",
   "execution_count": 19,
   "id": "966fcdd8-5edd-43bb-8cf0-b7117b21b65f",
   "metadata": {},
   "outputs": [
    {
     "data": {
      "text/plain": [
       "(1911212, 228)"
      ]
     },
     "execution_count": 19,
     "metadata": {},
     "output_type": "execute_result"
    }
   ],
   "source": [
    "Df_countryOneHot.shape"
   ]
  },
  {
   "cell_type": "code",
   "execution_count": null,
   "id": "3c03c24e-df7a-4817-91a0-03b916161037",
   "metadata": {},
   "outputs": [],
   "source": []
  },
  {
   "cell_type": "code",
   "execution_count": null,
   "id": "156fb722-3cd9-465f-9ea0-86e84b20514d",
   "metadata": {},
   "outputs": [],
   "source": []
  },
  {
   "cell_type": "markdown",
   "id": "4f36cfa7-0345-4403-b37b-9b4b2a407ec1",
   "metadata": {},
   "source": [
    "### Df_male "
   ]
  },
  {
   "cell_type": "code",
   "execution_count": 20,
   "id": "d6bc3f38-42e4-4512-9635-b3a363ec4b50",
   "metadata": {},
   "outputs": [],
   "source": [
    "Df_male = Df_countryOneHot.loc[Df_countryOneHot['Gender_female']==0, :].drop(columns=['Gender_female'])"
   ]
  },
  {
   "cell_type": "code",
   "execution_count": 21,
   "id": "2af589ee-fe70-4cd3-84c6-0a6cd9013bed",
   "metadata": {},
   "outputs": [
    {
     "data": {
      "text/plain": [
       "(893988, 227)"
      ]
     },
     "execution_count": 21,
     "metadata": {},
     "output_type": "execute_result"
    }
   ],
   "source": [
    "Df_male.shape"
   ]
  },
  {
   "cell_type": "code",
   "execution_count": 30,
   "id": "3f57cff5-fc9d-4f20-a56f-e39ed83229fb",
   "metadata": {},
   "outputs": [],
   "source": [
    "ym = Df_male['Cantril_ladder']"
   ]
  },
  {
   "cell_type": "code",
   "execution_count": 31,
   "id": "491ee402-2cbb-494b-8379-83c4a361543a",
   "metadata": {},
   "outputs": [],
   "source": [
    "Xm = Df_male.drop(columns=['Cantril_ladder', 'COUNTRY_ISO3'])"
   ]
  },
  {
   "cell_type": "code",
   "execution_count": null,
   "id": "6277fe27-01ea-4675-9c19-e690df1f6159",
   "metadata": {},
   "outputs": [],
   "source": []
  },
  {
   "cell_type": "markdown",
   "id": "a60f838b-eeff-4bb2-8da9-d75fbedf965c",
   "metadata": {},
   "source": [
    "### Df_female "
   ]
  },
  {
   "cell_type": "code",
   "execution_count": 24,
   "id": "21af5ca1-13f4-4537-89ba-bafb614f4754",
   "metadata": {},
   "outputs": [],
   "source": [
    "Df_female = Df_countryOneHot.loc[Df_countryOneHot['Gender_female']==1, :].drop(columns=['Gender_female'])"
   ]
  },
  {
   "cell_type": "code",
   "execution_count": 25,
   "id": "4e1d47de-513f-43b3-8634-c94ae68b2724",
   "metadata": {},
   "outputs": [
    {
     "data": {
      "text/plain": [
       "(1017224, 227)"
      ]
     },
     "execution_count": 25,
     "metadata": {},
     "output_type": "execute_result"
    }
   ],
   "source": [
    "Df_female.shape"
   ]
  },
  {
   "cell_type": "code",
   "execution_count": 32,
   "id": "d673fda7-f5d1-43d1-a2e5-f45e8aee683a",
   "metadata": {},
   "outputs": [],
   "source": [
    "yf = Df_female['Cantril_ladder']"
   ]
  },
  {
   "cell_type": "code",
   "execution_count": 33,
   "id": "c23077ed-be6a-441e-bd00-bef308763a3c",
   "metadata": {},
   "outputs": [],
   "source": [
    "Xf = Df_female.drop(columns=['Cantril_ladder', 'COUNTRY_ISO3'])"
   ]
  },
  {
   "cell_type": "code",
   "execution_count": null,
   "id": "13f6c3f1-1149-4d3e-95c0-df85b475e76a",
   "metadata": {},
   "outputs": [],
   "source": []
  },
  {
   "cell_type": "markdown",
   "id": "1567f8be-152c-48ef-94e1-8f237129aebd",
   "metadata": {},
   "source": [
    "## 10-CV Linear Regression "
   ]
  },
  {
   "cell_type": "markdown",
   "id": "3b25c91e-7a16-42f5-9f79-65d04078dd45",
   "metadata": {},
   "source": [
    "### Male"
   ]
  },
  {
   "cell_type": "code",
   "execution_count": 28,
   "id": "1e1d12f2-3949-45c9-b372-77167e771132",
   "metadata": {},
   "outputs": [],
   "source": [
    "model = LinearRegression()\n",
    "\n",
    "kf = KFold(n_splits=10, shuffle=True, random_state=42)"
   ]
  },
  {
   "cell_type": "code",
   "execution_count": 35,
   "id": "022ce3df-1781-44d1-92a5-6524e0b7f92c",
   "metadata": {},
   "outputs": [
    {
     "name": "stdout",
     "output_type": "stream",
     "text": [
      "Fold R2: 0.3366196716538916\n",
      "Fold R2: 0.33983354247426745\n",
      "Fold R2: 0.3351244459305015\n",
      "Fold R2: 0.3066222521577294\n",
      "Fold R2: 0.3390786238266855\n",
      "Fold R2: 0.3361867146834654\n",
      "Fold R2: 0.3403555574213536\n",
      "Fold R2: 0.3376248708129216\n",
      "Fold R2: 0.3349398551917866\n",
      "Fold R2: 0.33995646621172426\n"
     ]
    }
   ],
   "source": [
    "r2_scores = []\n",
    "for train_index, test_index in kf.split(Xm):\n",
    "    X_train, X_test = Xm.iloc[train_index], Xm.iloc[test_index]\n",
    "    y_train, y_test = ym.iloc[train_index], ym.iloc[test_index]\n",
    "    \n",
    "    # Train the model\n",
    "    model.fit(X_train, y_train)\n",
    "    \n",
    "    # Predict on the test set\n",
    "    y_pred = model.predict(X_test)\n",
    "    \n",
    "    # Calculate mean squared error\n",
    "    r2 = r2_score(y_test, y_pred)\n",
    "    r2_scores.append(r2)\n",
    "    \n",
    "    # Print fold results\n",
    "    print(f'Fold R2: {r2}')"
   ]
  },
  {
   "cell_type": "code",
   "execution_count": 38,
   "id": "6bba1e46-9738-47ef-a570-80d65bcea4a1",
   "metadata": {},
   "outputs": [
    {
     "name": "stdout",
     "output_type": "stream",
     "text": [
      "Mean R2: 0.3346342000364327\n",
      "Standard Deviation of R2: 0.00952966952845712\n"
     ]
    }
   ],
   "source": [
    "mean_r2 = np.mean(r2_scores)\n",
    "std_r2 = np.std(r2_scores)\n",
    "\n",
    "print(f'Mean R2: {mean_r2}')\n",
    "print(f'Standard Deviation of R2: {std_r2}')"
   ]
  },
  {
   "cell_type": "code",
   "execution_count": null,
   "id": "0e6c91ba-771e-49d1-b0eb-37851431c27a",
   "metadata": {},
   "outputs": [],
   "source": []
  },
  {
   "cell_type": "markdown",
   "id": "b922e7b5-fc23-42cf-8883-6789be472651",
   "metadata": {},
   "source": [
    "### Female"
   ]
  },
  {
   "cell_type": "code",
   "execution_count": 39,
   "id": "5a046d79-415b-4bef-9af8-6ade3025792d",
   "metadata": {},
   "outputs": [],
   "source": [
    "model = LinearRegression()\n",
    "\n",
    "kf = KFold(n_splits=10, shuffle=True, random_state=42)"
   ]
  },
  {
   "cell_type": "code",
   "execution_count": 40,
   "id": "9c2c3749-fabf-4fcf-b7ce-ee9c40192322",
   "metadata": {},
   "outputs": [
    {
     "name": "stdout",
     "output_type": "stream",
     "text": [
      "Fold R2: 0.33914432371364467\n",
      "Fold R2: 0.34145427946987184\n",
      "Fold R2: 0.3383248333311869\n",
      "Fold R2: 0.33621082266128\n",
      "Fold R2: 0.33662643410717596\n",
      "Fold R2: 0.33889501442513814\n",
      "Fold R2: 0.3412368306636001\n",
      "Fold R2: 0.3402954933188045\n",
      "Fold R2: 0.30219012240707455\n",
      "Fold R2: 0.34050579527389246\n"
     ]
    }
   ],
   "source": [
    "r2_scores = []\n",
    "for train_index, test_index in kf.split(Xf):\n",
    "    X_train, X_test = Xf.iloc[train_index], Xf.iloc[test_index]\n",
    "    y_train, y_test = yf.iloc[train_index], yf.iloc[test_index]\n",
    "    \n",
    "    # Train the model\n",
    "    model.fit(X_train, y_train)\n",
    "    \n",
    "    # Predict on the test set\n",
    "    y_pred = model.predict(X_test)\n",
    "    \n",
    "    # Calculate mean squared error\n",
    "    r2 = r2_score(y_test, y_pred)\n",
    "    r2_scores.append(r2)\n",
    "    \n",
    "    # Print fold results\n",
    "    print(f'Fold R2: {r2}')"
   ]
  },
  {
   "cell_type": "code",
   "execution_count": 41,
   "id": "a89f25f5-e57f-4395-a882-5b5c325ac4c4",
   "metadata": {},
   "outputs": [
    {
     "name": "stdout",
     "output_type": "stream",
     "text": [
      "Mean R2: 0.33548839493716687\n",
      "Standard Deviation of R2: 0.011227319516799804\n"
     ]
    }
   ],
   "source": [
    "mean_r2 = np.mean(r2_scores)\n",
    "std_r2 = np.std(r2_scores)\n",
    "\n",
    "print(f'Mean R2: {mean_r2}')\n",
    "print(f'Standard Deviation of R2: {std_r2}')"
   ]
  },
  {
   "cell_type": "code",
   "execution_count": null,
   "id": "82f1d11d-6dc9-4c41-9f79-8a6f720d6add",
   "metadata": {},
   "outputs": [],
   "source": []
  },
  {
   "cell_type": "code",
   "execution_count": null,
   "id": "6d0b5eaf-301f-4f1c-a512-34a6acb8ba36",
   "metadata": {},
   "outputs": [],
   "source": []
  }
 ],
 "metadata": {
  "kernelspec": {
   "display_name": "Python 3 (ipykernel)",
   "language": "python",
   "name": "python3"
  },
  "language_info": {
   "codemirror_mode": {
    "name": "ipython",
    "version": 3
   },
   "file_extension": ".py",
   "mimetype": "text/x-python",
   "name": "python",
   "nbconvert_exporter": "python",
   "pygments_lexer": "ipython3",
   "version": "3.9.19"
  }
 },
 "nbformat": 4,
 "nbformat_minor": 5
}
