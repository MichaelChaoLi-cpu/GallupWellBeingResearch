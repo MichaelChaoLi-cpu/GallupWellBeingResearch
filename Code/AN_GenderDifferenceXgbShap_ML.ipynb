{
 "cells": [
  {
   "cell_type": "markdown",
   "id": "674d42a8-e6ce-4786-a22b-9f68d1b8381f",
   "metadata": {},
   "source": [
    "# Gender Difference: XGB Experiment based on 59 Variables 1513k Rows 14 Waves"
   ]
  },
  {
   "cell_type": "code",
   "execution_count": 1,
   "id": "0da7b886-40aa-4fc8-a7e6-0590522fb7bf",
   "metadata": {},
   "outputs": [
    {
     "data": {
      "text/plain": [
       "'D:\\\\OneDrive - Kyushu University\\\\ESG09_Article\\\\Code'"
      ]
     },
     "execution_count": 1,
     "metadata": {},
     "output_type": "execute_result"
    }
   ],
   "source": [
    "%pwd"
   ]
  },
  {
   "cell_type": "code",
   "execution_count": 2,
   "id": "4cafc506-7084-475e-bc79-5ab38f2df1bf",
   "metadata": {},
   "outputs": [
    {
     "name": "stdout",
     "output_type": "stream",
     "text": [
      "D:\\OneDrive - Kyushu University\\ESG09_Article\n"
     ]
    }
   ],
   "source": [
    "%cd .."
   ]
  },
  {
   "cell_type": "code",
   "execution_count": null,
   "id": "0d275165-ce09-40ad-9c47-aff3099bd040",
   "metadata": {},
   "outputs": [],
   "source": []
  },
  {
   "cell_type": "markdown",
   "id": "cb4e31a2-fed1-475b-adc6-a1270e989445",
   "metadata": {},
   "source": [
    "## Import Packagee"
   ]
  },
  {
   "cell_type": "code",
   "execution_count": 3,
   "id": "45c64cd5-61fa-4ece-8045-ae010e3699d7",
   "metadata": {},
   "outputs": [],
   "source": [
    "import os \n",
    "import pandas as pd\n",
    "from scipy import stats\n",
    "from sklearn.ensemble import RandomForestRegressor\n",
    "from sklearn.linear_model import LinearRegression\n",
    "from sklearn.metrics import mean_squared_error, r2_score\n",
    "from sklearn.model_selection import train_test_split\n",
    "import xgboost as xgb"
   ]
  },
  {
   "cell_type": "code",
   "execution_count": null,
   "id": "ca3d2f77-a012-4072-a23d-d8e303d8b131",
   "metadata": {},
   "outputs": [],
   "source": []
  },
  {
   "cell_type": "markdown",
   "id": "7ba4fd03-e7ac-4a98-a13e-625e527a91ee",
   "metadata": {},
   "source": [
    "## Load and Make Datasets"
   ]
  },
  {
   "cell_type": "code",
   "execution_count": 4,
   "id": "260d9fb0-8280-4ce8-8186-3197ff712cc8",
   "metadata": {},
   "outputs": [],
   "source": [
    "Df_Filename = os.path.join(\"Data\", \"GallupWB_Ml64var1911k14wave_v1.parquet\")"
   ]
  },
  {
   "cell_type": "code",
   "execution_count": 5,
   "id": "6fcc6955-0ed2-4b31-87d6-6440d23bfb42",
   "metadata": {},
   "outputs": [],
   "source": [
    "Df = pd.read_parquet(Df_Filename)"
   ]
  },
  {
   "cell_type": "code",
   "execution_count": 6,
   "id": "1dde35de-81f1-4cdc-acf1-da741c24d044",
   "metadata": {},
   "outputs": [
    {
     "data": {
      "text/plain": [
       "(1911212, 64)"
      ]
     },
     "execution_count": 6,
     "metadata": {},
     "output_type": "execute_result"
    }
   ],
   "source": [
    "Df.shape"
   ]
  },
  {
   "cell_type": "code",
   "execution_count": 7,
   "id": "232cdf8e-1138-4325-8220-9f1d5e79f92c",
   "metadata": {},
   "outputs": [
    {
     "data": {
      "text/plain": [
       "Index(['wave', 'INCOME_2', 'Cantril_ladder', 'Health_disable', 'Relative_have',\n",
       "       'Living_standard_change', 'Enough_food', 'Enough_shelter',\n",
       "       'Well_rested', 'Respected', 'Smile', 'Interesting_thing', 'Enjoyment',\n",
       "       'Physical_pain', 'Worry', 'Sadness', 'Stress', 'Anger',\n",
       "       'City_satisficied', 'Economic_change', 'Goodtime_job', 'Sat_pubtran',\n",
       "       'Sat_road', 'Sat_edu', 'Sat_qualityair', 'Sat_qualitywater',\n",
       "       'Sat_healthcare', 'Sat_affhouse', 'Sat_oppofriend', 'Good_minorities',\n",
       "       'Good_gayles', 'Good_immigrants', 'Donated', 'Volunteer',\n",
       "       'Help_stranger', 'Voice_official', 'Local_police', 'Safety_walk',\n",
       "       'Stolen', 'Assualted', 'Religion_importance', 'Children_respected',\n",
       "       'Children_learn', 'Women_respected', 'Sat_dealpoor', 'Sat_perserveenv',\n",
       "       'Freedom_chooselife', 'Conf_military', 'Conf_judicial',\n",
       "       'Conf_government', 'Conf_financial', 'Conf_honestyelections',\n",
       "       'Freedom_media', 'Corruption_business', 'Corruption_government',\n",
       "       'Performance_leadership', 'Gender_female', 'Age', 'Marital_status',\n",
       "       'Employment', 'Children_under15', 'Feeling_income', 'Income_level',\n",
       "       'COUNTRY_ISO3'],\n",
       "      dtype='object')"
      ]
     },
     "execution_count": 7,
     "metadata": {},
     "output_type": "execute_result"
    }
   ],
   "source": [
    "Df.columns"
   ]
  },
  {
   "cell_type": "code",
   "execution_count": null,
   "id": "2ddf0523-2637-4601-ba1d-cd631e467790",
   "metadata": {},
   "outputs": [],
   "source": []
  },
  {
   "cell_type": "markdown",
   "id": "56c294b5-1063-4bc6-aa81-77f2d8c96799",
   "metadata": {},
   "source": [
    "### Check the Difference between Gender"
   ]
  },
  {
   "cell_type": "code",
   "execution_count": 8,
   "id": "95b7780a-2c93-4b5f-8d5b-94da80e54945",
   "metadata": {},
   "outputs": [],
   "source": [
    "female_cantrilladder = Df.loc[Df['Gender_female']==1, 'Cantril_ladder'].mean()"
   ]
  },
  {
   "cell_type": "code",
   "execution_count": 9,
   "id": "5452f6d8-7f38-4a30-8ec9-2602d8241a0c",
   "metadata": {},
   "outputs": [
    {
     "data": {
      "text/plain": [
       "5.569313150299246"
      ]
     },
     "execution_count": 9,
     "metadata": {},
     "output_type": "execute_result"
    }
   ],
   "source": [
    "female_cantrilladder"
   ]
  },
  {
   "cell_type": "code",
   "execution_count": 10,
   "id": "ed6d3ffc-803e-4f4e-b755-0fc1b44b8e2e",
   "metadata": {},
   "outputs": [],
   "source": [
    "male_cantrilladder = Df.loc[Df['Gender_female']==0, 'Cantril_ladder'].mean()"
   ]
  },
  {
   "cell_type": "code",
   "execution_count": 11,
   "id": "5544ebdd-1260-4060-bb8a-46ca8a0ba56d",
   "metadata": {},
   "outputs": [
    {
     "data": {
      "text/plain": [
       "5.466124824941722"
      ]
     },
     "execution_count": 11,
     "metadata": {},
     "output_type": "execute_result"
    }
   ],
   "source": [
    "male_cantrilladder"
   ]
  },
  {
   "cell_type": "code",
   "execution_count": 12,
   "id": "8112be0a-383e-4f0f-aee9-e3bcc53e368b",
   "metadata": {},
   "outputs": [],
   "source": [
    "t_stat, p_value = stats.ttest_ind(Df.loc[Df['Gender_female']==1, 'Cantril_ladder'], Df.loc[Df['Gender_female']==0, 'Cantril_ladder'])"
   ]
  },
  {
   "cell_type": "code",
   "execution_count": 13,
   "id": "b6c4b166-456a-4042-80c3-52ea4c49d4b2",
   "metadata": {},
   "outputs": [
    {
     "name": "stdout",
     "output_type": "stream",
     "text": [
      "T-statistic: 29.49502322170667, P-value: 3.682499213688914e-191\n"
     ]
    }
   ],
   "source": [
    "print(f\"T-statistic: {t_stat}, P-value: {p_value}\")"
   ]
  },
  {
   "cell_type": "code",
   "execution_count": null,
   "id": "bdc32688-54f4-4815-993a-c1e3f8d0d04e",
   "metadata": {},
   "outputs": [],
   "source": []
  },
  {
   "cell_type": "markdown",
   "id": "09031742-4031-41e1-b1d9-90cc13ac6bea",
   "metadata": {},
   "source": [
    "### Shuffle Conversion"
   ]
  },
  {
   "cell_type": "code",
   "execution_count": 14,
   "id": "4a902521-19d1-47af-9b3d-737b2c302a91",
   "metadata": {},
   "outputs": [],
   "source": [
    "Df = Df.sample(frac=1, random_state=42).reset_index(drop=True)"
   ]
  },
  {
   "cell_type": "code",
   "execution_count": 15,
   "id": "3b217b81-0d86-4f07-8d42-11c63d2378dd",
   "metadata": {},
   "outputs": [],
   "source": [
    "Df['COUNTRY_ISO3'] = Df['COUNTRY_ISO3'].astype('category')"
   ]
  },
  {
   "cell_type": "code",
   "execution_count": null,
   "id": "efb62493-7d22-4483-bdea-ca83db73c47f",
   "metadata": {},
   "outputs": [],
   "source": []
  },
  {
   "cell_type": "markdown",
   "id": "4f36cfa7-0345-4403-b37b-9b4b2a407ec1",
   "metadata": {},
   "source": [
    "### Df_male "
   ]
  },
  {
   "cell_type": "code",
   "execution_count": 16,
   "id": "d6bc3f38-42e4-4512-9635-b3a363ec4b50",
   "metadata": {},
   "outputs": [],
   "source": [
    "Df_male = Df.loc[Df['Gender_female']==0, :].drop(columns=['Gender_female'])"
   ]
  },
  {
   "cell_type": "code",
   "execution_count": 17,
   "id": "2af589ee-fe70-4cd3-84c6-0a6cd9013bed",
   "metadata": {},
   "outputs": [
    {
     "data": {
      "text/plain": [
       "(893988, 63)"
      ]
     },
     "execution_count": 17,
     "metadata": {},
     "output_type": "execute_result"
    }
   ],
   "source": [
    "Df_male.shape"
   ]
  },
  {
   "cell_type": "code",
   "execution_count": 18,
   "id": "3f57cff5-fc9d-4f20-a56f-e39ed83229fb",
   "metadata": {},
   "outputs": [],
   "source": [
    "ym = Df_male['Cantril_ladder']"
   ]
  },
  {
   "cell_type": "code",
   "execution_count": 19,
   "id": "491ee402-2cbb-494b-8379-83c4a361543a",
   "metadata": {},
   "outputs": [],
   "source": [
    "Xm = Df_male.drop(columns=['Cantril_ladder'])"
   ]
  },
  {
   "cell_type": "code",
   "execution_count": 20,
   "id": "38297b6d-0563-4ad9-8a1f-ac0af16e6dac",
   "metadata": {},
   "outputs": [],
   "source": [
    "Xm_train, Xm_test, ym_train, ym_test = train_test_split(Xm, ym, test_size=0.1, random_state=42)"
   ]
  },
  {
   "cell_type": "code",
   "execution_count": null,
   "id": "6277fe27-01ea-4675-9c19-e690df1f6159",
   "metadata": {},
   "outputs": [],
   "source": []
  },
  {
   "cell_type": "markdown",
   "id": "a60f838b-eeff-4bb2-8da9-d75fbedf965c",
   "metadata": {},
   "source": [
    "### Df_female "
   ]
  },
  {
   "cell_type": "code",
   "execution_count": 21,
   "id": "21af5ca1-13f4-4537-89ba-bafb614f4754",
   "metadata": {},
   "outputs": [],
   "source": [
    "Df_female = Df.loc[Df['Gender_female']==1, :].drop(columns=['Gender_female'])"
   ]
  },
  {
   "cell_type": "code",
   "execution_count": 22,
   "id": "4e1d47de-513f-43b3-8634-c94ae68b2724",
   "metadata": {},
   "outputs": [
    {
     "data": {
      "text/plain": [
       "(1017224, 63)"
      ]
     },
     "execution_count": 22,
     "metadata": {},
     "output_type": "execute_result"
    }
   ],
   "source": [
    "Df_female.shape"
   ]
  },
  {
   "cell_type": "code",
   "execution_count": 23,
   "id": "d673fda7-f5d1-43d1-a2e5-f45e8aee683a",
   "metadata": {},
   "outputs": [],
   "source": [
    "yf = Df_female['Cantril_ladder']"
   ]
  },
  {
   "cell_type": "code",
   "execution_count": 24,
   "id": "c23077ed-be6a-441e-bd00-bef308763a3c",
   "metadata": {},
   "outputs": [],
   "source": [
    "Xf = Df_female.drop(columns=['Cantril_ladder'])"
   ]
  },
  {
   "cell_type": "code",
   "execution_count": 25,
   "id": "33cfb3de-073e-4836-9de4-297d1c4de836",
   "metadata": {},
   "outputs": [],
   "source": [
    "Xf_train, Xf_test, yf_train, yf_test = train_test_split(Xf, yf, test_size=0.1, random_state=42)"
   ]
  },
  {
   "cell_type": "code",
   "execution_count": null,
   "id": "6325466d-d910-4a8d-95e9-7be586b346f1",
   "metadata": {},
   "outputs": [],
   "source": []
  },
  {
   "cell_type": "markdown",
   "id": "d6a3636c-a493-4388-be9d-4599eb194135",
   "metadata": {},
   "source": [
    "## Model and Tuning Hyper"
   ]
  },
  {
   "cell_type": "markdown",
   "id": "93106015-77d5-44ad-b5a9-d8abfbeb5fa5",
   "metadata": {},
   "source": [
    "### Male Model"
   ]
  },
  {
   "cell_type": "code",
   "execution_count": 26,
   "id": "e24ad185-fbbc-4da5-874c-0b2119e63d36",
   "metadata": {},
   "outputs": [
    {
     "name": "stdout",
     "output_type": "stream",
     "text": [
      "[13:15:00] WARNING: C:\\buildkite-agent\\builds\\buildkite-windows-cpu-autoscaling-group-i-07593ffd91cd9da33-1\\xgboost\\xgboost-ci-windows\\src\\learner.cc:767: \n",
      "Parameters: { \"device\" } are not used.\n",
      "\n"
     ]
    },
    {
     "data": {
      "text/html": [
       "<style>#sk-container-id-1 {color: black;background-color: white;}#sk-container-id-1 pre{padding: 0;}#sk-container-id-1 div.sk-toggleable {background-color: white;}#sk-container-id-1 label.sk-toggleable__label {cursor: pointer;display: block;width: 100%;margin-bottom: 0;padding: 0.3em;box-sizing: border-box;text-align: center;}#sk-container-id-1 label.sk-toggleable__label-arrow:before {content: \"▸\";float: left;margin-right: 0.25em;color: #696969;}#sk-container-id-1 label.sk-toggleable__label-arrow:hover:before {color: black;}#sk-container-id-1 div.sk-estimator:hover label.sk-toggleable__label-arrow:before {color: black;}#sk-container-id-1 div.sk-toggleable__content {max-height: 0;max-width: 0;overflow: hidden;text-align: left;background-color: #f0f8ff;}#sk-container-id-1 div.sk-toggleable__content pre {margin: 0.2em;color: black;border-radius: 0.25em;background-color: #f0f8ff;}#sk-container-id-1 input.sk-toggleable__control:checked~div.sk-toggleable__content {max-height: 200px;max-width: 100%;overflow: auto;}#sk-container-id-1 input.sk-toggleable__control:checked~label.sk-toggleable__label-arrow:before {content: \"▾\";}#sk-container-id-1 div.sk-estimator input.sk-toggleable__control:checked~label.sk-toggleable__label {background-color: #d4ebff;}#sk-container-id-1 div.sk-label input.sk-toggleable__control:checked~label.sk-toggleable__label {background-color: #d4ebff;}#sk-container-id-1 input.sk-hidden--visually {border: 0;clip: rect(1px 1px 1px 1px);clip: rect(1px, 1px, 1px, 1px);height: 1px;margin: -1px;overflow: hidden;padding: 0;position: absolute;width: 1px;}#sk-container-id-1 div.sk-estimator {font-family: monospace;background-color: #f0f8ff;border: 1px dotted black;border-radius: 0.25em;box-sizing: border-box;margin-bottom: 0.5em;}#sk-container-id-1 div.sk-estimator:hover {background-color: #d4ebff;}#sk-container-id-1 div.sk-parallel-item::after {content: \"\";width: 100%;border-bottom: 1px solid gray;flex-grow: 1;}#sk-container-id-1 div.sk-label:hover label.sk-toggleable__label {background-color: #d4ebff;}#sk-container-id-1 div.sk-serial::before {content: \"\";position: absolute;border-left: 1px solid gray;box-sizing: border-box;top: 0;bottom: 0;left: 50%;z-index: 0;}#sk-container-id-1 div.sk-serial {display: flex;flex-direction: column;align-items: center;background-color: white;padding-right: 0.2em;padding-left: 0.2em;position: relative;}#sk-container-id-1 div.sk-item {position: relative;z-index: 1;}#sk-container-id-1 div.sk-parallel {display: flex;align-items: stretch;justify-content: center;background-color: white;position: relative;}#sk-container-id-1 div.sk-item::before, #sk-container-id-1 div.sk-parallel-item::before {content: \"\";position: absolute;border-left: 1px solid gray;box-sizing: border-box;top: 0;bottom: 0;left: 50%;z-index: -1;}#sk-container-id-1 div.sk-parallel-item {display: flex;flex-direction: column;z-index: 1;position: relative;background-color: white;}#sk-container-id-1 div.sk-parallel-item:first-child::after {align-self: flex-end;width: 50%;}#sk-container-id-1 div.sk-parallel-item:last-child::after {align-self: flex-start;width: 50%;}#sk-container-id-1 div.sk-parallel-item:only-child::after {width: 0;}#sk-container-id-1 div.sk-dashed-wrapped {border: 1px dashed gray;margin: 0 0.4em 0.5em 0.4em;box-sizing: border-box;padding-bottom: 0.4em;background-color: white;}#sk-container-id-1 div.sk-label label {font-family: monospace;font-weight: bold;display: inline-block;line-height: 1.2em;}#sk-container-id-1 div.sk-label-container {text-align: center;}#sk-container-id-1 div.sk-container {/* jupyter's `normalize.less` sets `[hidden] { display: none; }` but bootstrap.min.css set `[hidden] { display: none !important; }` so we also need the `!important` here to be able to override the default hidden behavior on the sphinx rendered scikit-learn.org. See: https://github.com/scikit-learn/scikit-learn/issues/21755 */display: inline-block !important;position: relative;}#sk-container-id-1 div.sk-text-repr-fallback {display: none;}</style><div id=\"sk-container-id-1\" class=\"sk-top-container\"><div class=\"sk-text-repr-fallback\"><pre>XGBRegressor(base_score=None, booster=None, callbacks=None,\n",
       "             colsample_bylevel=None, colsample_bynode=None,\n",
       "             colsample_bytree=None, device=&#x27;cuda&#x27;, early_stopping_rounds=None,\n",
       "             enable_categorical=True, eval_metric=None, feature_types=None,\n",
       "             gamma=None, gpu_id=None, grow_policy=None, importance_type=None,\n",
       "             interaction_constraints=None, learning_rate=0.01, max_bin=None,\n",
       "             max_cat_threshold=None, max_cat_to_onehot=None,\n",
       "             max_delta_step=None, max_depth=5, max_leaves=None,\n",
       "             min_child_weight=None, missing=nan, monotone_constraints=None,\n",
       "             n_estimators=500, n_jobs=None, num_parallel_tree=None,\n",
       "             predictor=None, ...)</pre><b>In a Jupyter environment, please rerun this cell to show the HTML representation or trust the notebook. <br />On GitHub, the HTML representation is unable to render, please try loading this page with nbviewer.org.</b></div><div class=\"sk-container\" hidden><div class=\"sk-item\"><div class=\"sk-estimator sk-toggleable\"><input class=\"sk-toggleable__control sk-hidden--visually\" id=\"sk-estimator-id-1\" type=\"checkbox\" checked><label for=\"sk-estimator-id-1\" class=\"sk-toggleable__label sk-toggleable__label-arrow\">XGBRegressor</label><div class=\"sk-toggleable__content\"><pre>XGBRegressor(base_score=None, booster=None, callbacks=None,\n",
       "             colsample_bylevel=None, colsample_bynode=None,\n",
       "             colsample_bytree=None, device=&#x27;cuda&#x27;, early_stopping_rounds=None,\n",
       "             enable_categorical=True, eval_metric=None, feature_types=None,\n",
       "             gamma=None, gpu_id=None, grow_policy=None, importance_type=None,\n",
       "             interaction_constraints=None, learning_rate=0.01, max_bin=None,\n",
       "             max_cat_threshold=None, max_cat_to_onehot=None,\n",
       "             max_delta_step=None, max_depth=5, max_leaves=None,\n",
       "             min_child_weight=None, missing=nan, monotone_constraints=None,\n",
       "             n_estimators=500, n_jobs=None, num_parallel_tree=None,\n",
       "             predictor=None, ...)</pre></div></div></div></div></div>"
      ],
      "text/plain": [
       "XGBRegressor(base_score=None, booster=None, callbacks=None,\n",
       "             colsample_bylevel=None, colsample_bynode=None,\n",
       "             colsample_bytree=None, device='cuda', early_stopping_rounds=None,\n",
       "             enable_categorical=True, eval_metric=None, feature_types=None,\n",
       "             gamma=None, gpu_id=None, grow_policy=None, importance_type=None,\n",
       "             interaction_constraints=None, learning_rate=0.01, max_bin=None,\n",
       "             max_cat_threshold=None, max_cat_to_onehot=None,\n",
       "             max_delta_step=None, max_depth=5, max_leaves=None,\n",
       "             min_child_weight=None, missing=nan, monotone_constraints=None,\n",
       "             n_estimators=500, n_jobs=None, num_parallel_tree=None,\n",
       "             predictor=None, ...)"
      ]
     },
     "execution_count": 26,
     "metadata": {},
     "output_type": "execute_result"
    }
   ],
   "source": [
    "model = xgb.XGBRegressor(objective='reg:squarederror', device = 'cuda', tree_method='gpu_hist', \n",
    "                         n_estimators=500, learning_rate=0.01, max_depth=5, \n",
    "                         random_state=42, enable_categorical=True  )\n",
    "model.fit(Xm_train, ym_train)"
   ]
  },
  {
   "cell_type": "code",
   "execution_count": 27,
   "id": "0f19a162-9bb1-47bf-a429-5c65bb80da33",
   "metadata": {},
   "outputs": [],
   "source": [
    "ym_pred = model.predict(Xm_test)"
   ]
  },
  {
   "cell_type": "code",
   "execution_count": 28,
   "id": "45a6daa3-be27-45a1-ba9c-3b305dacd9dd",
   "metadata": {},
   "outputs": [
    {
     "data": {
      "text/plain": [
       "35.345814761344485"
      ]
     },
     "execution_count": 28,
     "metadata": {},
     "output_type": "execute_result"
    }
   ],
   "source": [
    "r2_score(ym_test, ym_pred) * 100"
   ]
  },
  {
   "cell_type": "code",
   "execution_count": 29,
   "id": "c3e459fe-301b-4c5e-80dc-a6d3a2ecdd96",
   "metadata": {},
   "outputs": [],
   "source": [
    "ym_train_pred = model.predict(Xm_train)"
   ]
  },
  {
   "cell_type": "code",
   "execution_count": 30,
   "id": "702ad42e-8877-4d6e-954b-03e2cfc77230",
   "metadata": {},
   "outputs": [
    {
     "data": {
      "text/plain": [
       "36.214464768212785"
      ]
     },
     "execution_count": 30,
     "metadata": {},
     "output_type": "execute_result"
    }
   ],
   "source": [
    "r2_score(ym_train, ym_train_pred) * 100"
   ]
  },
  {
   "cell_type": "code",
   "execution_count": 31,
   "id": "7b95a1f5-3017-4d20-a8a5-4247153054f9",
   "metadata": {},
   "outputs": [],
   "source": [
    "n_estimators_list = list(range(100, 1_100, 100))\n",
    "learning_rate_list = [0.001, 0.01, 0.1]\n",
    "max_depth_list = [3, 4, 5, 6, 7, 8, 9, 10, 11, 12, 13, 14, 15]\n",
    "subsample_list = [0.6, 0.7, 0.8, 0.9, 1]"
   ]
  },
  {
   "cell_type": "code",
   "execution_count": null,
   "id": "ca82f52c-e0b2-4b5d-b548-5313a58591f8",
   "metadata": {
    "scrolled": true
   },
   "outputs": [
    {
     "name": "stdout",
     "output_type": "stream",
     "text": [
      "[100, 0.001, 3, 0.6, -346.9465146057738, -345.6614864532208]\n",
      "[100, 0.001, 3, 0.7, -346.94511815918577, -345.6588582299794]\n",
      "[100, 0.001, 3, 0.8, -346.945979315638, -345.66037200174094]\n",
      "[100, 0.001, 3, 0.9, -346.9450669262052, -345.65906585005706]\n",
      "[100, 0.001, 3, 1, -346.9437464794587, -345.65778195979783]\n",
      "[100, 0.001, 4, 0.6, -346.46283379904037, -345.1830119581036]\n",
      "[100, 0.001, 4, 0.7, -346.45976203634837, -345.18123516374874]\n",
      "[100, 0.001, 4, 0.8, -346.46218569776295, -345.18408347586444]\n",
      "[100, 0.001, 4, 0.9, -346.4604923609569, -345.1822236620651]\n",
      "[100, 0.001, 4, 1, -346.4580370637822, -345.1797350393475]\n",
      "[100, 0.001, 5, 0.6, -346.128897802993, -344.84157661217193]\n",
      "[100, 0.001, 5, 0.7, -346.127099842922, -344.83896621101104]\n",
      "[100, 0.001, 5, 0.8, -346.1288610316, -344.84036834428633]\n",
      "[100, 0.001, 5, 0.9, -346.12730377965005, -344.8380758381987]\n",
      "[100, 0.001, 5, 1, -346.12494584822446, -344.834050753722]\n",
      "[100, 0.001, 6, 0.6, -345.89156683411034, -344.59520775945026]\n",
      "[100, 0.001, 6, 0.7, -345.88979196344843, -344.5944731959402]\n",
      "[100, 0.001, 6, 0.8, -345.89151052164067, -344.5979326547355]\n",
      "[100, 0.001, 6, 0.9, -345.88966727326135, -344.5979699524555]\n",
      "[100, 0.001, 6, 1, -345.8877208507805, -344.5986755675626]\n",
      "[100, 0.001, 7, 0.6, -345.7023160168384, -344.42461032400723]\n",
      "[100, 0.001, 7, 0.7, -345.6991209888871, -344.41975481923726]\n",
      "[100, 0.001, 7, 0.8, -345.6998346543094, -344.4198157953856]\n",
      "[100, 0.001, 7, 0.9, -345.6977448667478, -344.4181399370761]\n",
      "[100, 0.001, 7, 1, -345.697418236888, -344.42012138673357]\n",
      "[100, 0.001, 8, 0.6, -345.5453708080561, -344.3170849457733]\n",
      "[100, 0.001, 8, 0.7, -345.53888347489936, -344.31015817941244]\n",
      "[100, 0.001, 8, 0.8, -345.5378498979493, -344.3050818625158]\n",
      "[100, 0.001, 8, 0.9, -345.5339479870034, -344.30302255210216]\n",
      "[100, 0.001, 8, 1, -345.5353335541357, -344.30376876098245]\n",
      "[100, 0.001, 9, 0.6, -345.41477900134606, -344.24454730364636]\n",
      "[100, 0.001, 9, 0.7, -345.4026436437025, -344.23088825779774]\n",
      "[100, 0.001, 9, 0.8, -345.3980554482537, -344.2237872631469]\n",
      "[100, 0.001, 9, 0.9, -345.3914684233895, -344.21962824973645]\n",
      "[100, 0.001, 9, 1, -345.3909809482627, -344.2205853883902]\n",
      "[100, 0.001, 10, 0.6, -345.30027171703705, -344.21954578919394]\n",
      "[100, 0.001, 10, 0.7, -345.27636141668665, -344.20048805819977]\n",
      "[100, 0.001, 10, 0.8, -345.2640061677929, -344.18708012723755]\n",
      "[100, 0.001, 10, 0.9, -345.2514363518869, -344.181263859531]\n",
      "[100, 0.001, 10, 1, -345.2460793804022, -344.19090806117237]\n",
      "[100, 0.001, 11, 0.6, -345.19189359701386, -344.25063173145264]\n",
      "[100, 0.001, 11, 0.7, -345.1514364090528, -344.2165884697955]\n",
      "[100, 0.001, 11, 0.8, -345.1239968594378, -344.19167016292585]\n",
      "[100, 0.001, 11, 0.9, -345.10103141181065, -344.17466731598313]\n",
      "[100, 0.001, 11, 1, -345.09219260068915, -344.1740459561108]\n",
      "[100, 0.001, 12, 0.6, -345.0858266671057, -344.35885621764066]\n",
      "[100, 0.001, 12, 0.7, -345.0165824489905, -344.3045275079613]\n",
      "[100, 0.001, 12, 0.8, -344.9657658030153, -344.26431563829067]\n",
      "[100, 0.001, 12, 0.9, -344.923817489114, -344.2314855093176]\n",
      "[100, 0.001, 12, 1, -344.91692175811926, -344.22471924455476]\n",
      "[100, 0.001, 13, 0.6, -344.97583099657083, -344.5438027532096]\n",
      "[100, 0.001, 13, 0.7, -344.8653476431943, -344.4721715876633]\n",
      "[100, 0.001, 13, 0.8, -344.7790585859091, -344.40795987227534]\n",
      "[100, 0.001, 13, 0.9, -344.7073064754569, -344.3639892193112]\n",
      "[100, 0.001, 13, 1, -344.68864734640795, -344.34522680657363]\n",
      "[100, 0.001, 14, 0.6, -344.8620307421248, -344.79810275828197]\n",
      "[100, 0.001, 14, 0.7, -344.6975320746748, -344.70429865067933]\n",
      "[100, 0.001, 14, 0.8, -344.56305923111427, -344.6269001291534]\n",
      "[100, 0.001, 14, 0.9, -344.4493465917058, -344.5669531449037]\n",
      "[100, 0.001, 14, 1, -344.400834526884, -344.50665823717077]\n",
      "[100, 0.001, 15, 0.6, -344.7540126231694, -345.1030744503817]\n",
      "[100, 0.001, 15, 0.7, -344.5250279521581, -344.99966832662415]\n",
      "[100, 0.001, 15, 0.8, -344.3296986902095, -344.9026302239065]\n",
      "[100, 0.001, 15, 0.9, -344.1612054226106, -344.83064537741103]\n",
      "[100, 0.001, 15, 1, -344.0631637140516, -344.78292983400553]\n",
      "[100, 0.01, 3, 0.6, -33.081997863433955, -32.75587929650696]\n",
      "[100, 0.01, 3, 0.7, -33.0746363190517, -32.74404905006551]\n",
      "[100, 0.01, 3, 0.8, -33.06932439788959, -32.7402518873986]\n",
      "[100, 0.01, 3, 0.9, -33.0575238736244, -32.7296855032472]\n",
      "[100, 0.01, 3, 1, -33.054972985568696, -32.72492860707948]\n",
      "[100, 0.01, 4, 0.6, -31.405227207358678, -31.124891277189736]\n",
      "[100, 0.01, 4, 0.7, -31.41356237813553, -31.128459157248688]\n",
      "[100, 0.01, 4, 0.8, -31.41631979035402, -31.127772196755153]\n",
      "[100, 0.01, 4, 0.9, -31.402683806999534, -31.123579614356856]\n",
      "[100, 0.01, 4, 1, -31.396513691053897, -31.10953070111573]\n",
      "[100, 0.01, 5, 0.6, -30.285938378986366, -30.042653047661716]\n",
      "[100, 0.01, 5, 0.7, -30.2891908670029, -30.04878391534924]\n",
      "[100, 0.01, 5, 0.8, -30.301048659363893, -30.050833387477937]\n",
      "[100, 0.01, 5, 0.9, -30.28318268820087, -30.03929401319365]\n",
      "[100, 0.01, 5, 1, -30.30029770301901, -30.054045332573498]\n",
      "[100, 0.01, 6, 0.6, -29.42171665737783, -29.251308210674807]\n",
      "[100, 0.01, 6, 0.7, -29.42105530446133, -29.25407411456198]\n",
      "[100, 0.01, 6, 0.8, -29.416050345253364, -29.25051711693989]\n",
      "[100, 0.01, 6, 0.9, -29.425463722114454, -29.251772974594402]\n",
      "[100, 0.01, 6, 1, -29.4228947274213, -29.251551266227736]\n",
      "[100, 0.01, 7, 0.6, -28.66076813744558, -28.659115931183244]\n",
      "[100, 0.01, 7, 0.7, -28.656880891309623, -28.65234839786861]\n",
      "[100, 0.01, 7, 0.8, -28.66843937996677, -28.664262243833292]\n",
      "[100, 0.01, 7, 0.9, -28.662778083093833, -28.65449325790157]\n",
      "[100, 0.01, 7, 1, -28.67327377283393, -28.661656460725293]\n",
      "[100, 0.01, 8, 0.6, -27.901294430002977, -28.192983158767948]\n",
      "[100, 0.01, 8, 0.7, -27.904390080319374, -28.187089662874286]\n",
      "[100, 0.01, 8, 0.8, -27.909482248133767, -28.19515328633848]\n",
      "[100, 0.01, 8, 0.9, -27.91487144328244, -28.201173193952233]\n",
      "[100, 0.01, 8, 1, -27.92791634517071, -28.216549164487837]\n",
      "[100, 0.01, 9, 0.6, -27.10487098173242, -27.82223091822329]\n",
      "[100, 0.01, 9, 0.7, -27.08638688181089, -27.79513403745799]\n",
      "[100, 0.01, 9, 0.8, -27.084439346826183, -27.81079073587005]\n",
      "[100, 0.01, 9, 0.9, -27.088551512085644, -27.82590836899295]\n",
      "[100, 0.01, 9, 1, -27.108191821018423, -27.82700042775641]\n",
      "[100, 0.01, 10, 0.6, -26.1352845496589, -27.57044064745793]\n",
      "[100, 0.01, 10, 0.7, -26.083182214051327, -27.514829523213514]\n",
      "[100, 0.01, 10, 0.8, -26.065557992861876, -27.528019425632543]\n",
      "[100, 0.01, 10, 0.9, -26.04226325888257, -27.51989064742566]\n",
      "[100, 0.01, 10, 1, -26.077732110545337, -27.549295486868996]\n",
      "[100, 0.01, 11, 0.6, -24.88946424203673, -27.486109525516934]\n",
      "[100, 0.01, 11, 0.7, -24.779417806762496, -27.408228027464986]\n",
      "[100, 0.01, 11, 0.8, -24.705589133077254, -27.358762053737262]\n",
      "[100, 0.01, 11, 0.9, -24.651810918197835, -27.363443934475875]\n",
      "[100, 0.01, 11, 1, -24.682173957594912, -27.420891051811935]\n",
      "[100, 0.01, 12, 0.6, -23.23447932188394, -27.622836248695105]\n",
      "[100, 0.01, 12, 0.7, -23.009187084289895, -27.505785941003126]\n",
      "[100, 0.01, 12, 0.8, -22.847714988558575, -27.460941156329177]\n",
      "[100, 0.01, 12, 0.9, -22.72912654273085, -27.429887274050092]\n",
      "[100, 0.01, 12, 1, -22.797328831577346, -27.56273351775629]\n",
      "[100, 0.01, 13, 0.6, -21.135617952973874, -28.09305410123453]\n",
      "[100, 0.01, 13, 0.7, -20.691663010485573, -27.913130220081506]\n",
      "[100, 0.01, 13, 0.8, -20.372727244597154, -27.800931540416073]\n",
      "[100, 0.01, 13, 0.9, -20.112355177436392, -27.7287804763537]\n",
      "[100, 0.01, 13, 1, -20.158057508383575, -27.899189325358222]\n",
      "[100, 0.01, 14, 0.6, -18.708616903089514, -28.92109947558852]\n",
      "[100, 0.01, 14, 0.7, -17.927927031177827, -28.663280224097743]\n",
      "[100, 0.01, 14, 0.8, -17.35297051656699, -28.504385410600207]\n",
      "[100, 0.01, 14, 0.9, -16.849567872400108, -28.37930952620247]\n",
      "[100, 0.01, 14, 1, -16.807890772519272, -28.548239085088056]\n",
      "[100, 0.01, 15, 0.6, -16.154449856289, -30.03131601980613]\n",
      "[100, 0.01, 15, 0.7, -14.975595829545307, -29.712650610456535]\n",
      "[100, 0.01, 15, 0.8, -14.037112819077535, -29.53538063702046]\n",
      "[100, 0.01, 15, 0.9, -13.20939256946736, -29.34920713319722]\n",
      "[100, 0.01, 15, 1, -12.996994392787853, -29.584642588361998]\n",
      "[100, 0.1, 3, 0.6, 35.67526545464628, 35.10596595324037]\n",
      "[100, 0.1, 3, 0.7, 35.686121493259414, 35.09482555979132]\n",
      "[100, 0.1, 3, 0.8, 35.6896959330018, 35.11826058109286]\n",
      "[100, 0.1, 3, 0.9, 35.70226585910561, 35.09538895889223]\n",
      "[100, 0.1, 3, 1, 35.72154137462091, 35.13089760014475]\n",
      "[100, 0.1, 4, 0.6, 36.51829470521749, 35.69076873757331]\n",
      "[100, 0.1, 4, 0.7, 36.581586187060076, 35.770654454653496]\n",
      "[100, 0.1, 4, 0.8, 36.57082542897926, 35.73037821193479]\n",
      "[100, 0.1, 4, 0.9, 36.60337223408984, 35.77040981670674]\n",
      "[100, 0.1, 4, 1, 36.535676907537976, 35.67034394111977]\n",
      "[100, 0.1, 5, 0.6, 37.325053954513486, 36.17423114987329]\n",
      "[100, 0.1, 5, 0.7, 37.36497285905619, 36.186451000406706]\n",
      "[100, 0.1, 5, 0.8, 37.40368913596761, 36.192757142762076]\n",
      "[100, 0.1, 5, 0.9, 37.42302624946214, 36.17508917505662]\n",
      "[100, 0.1, 5, 1, 37.44484885769014, 36.206690189991306]\n",
      "[100, 0.1, 6, 0.6, 38.2242389083256, 36.54869376759723]\n",
      "[100, 0.1, 6, 0.7, 38.30034525289967, 36.52910844274021]\n",
      "[100, 0.1, 6, 0.8, 38.3421563432238, 36.57075989553979]\n",
      "[100, 0.1, 6, 0.9, 38.430962263858184, 36.58180329102175]\n",
      "[100, 0.1, 6, 1, 38.47770921473986, 36.57661244314939]\n",
      "[100, 0.1, 7, 0.6, 39.38736984279271, 36.79717598981298]\n",
      "[100, 0.1, 7, 0.7, 39.509299963053365, 36.83705021020809]\n",
      "[100, 0.1, 7, 0.8, 39.63997137945425, 36.88579491224269]\n",
      "[100, 0.1, 7, 0.9, 39.74114539398423, 36.89360428355294]\n",
      "[100, 0.1, 7, 1, 39.78948713411844, 36.8044743596657]\n",
      "[100, 0.1, 8, 0.6, 41.220341881179145, 36.96080592143769]\n",
      "[100, 0.1, 8, 0.7, 41.41296839096354, 37.03814691633954]\n",
      "[100, 0.1, 8, 0.8, 41.53907068854927, 37.021574735845284]\n",
      "[100, 0.1, 8, 0.9, 41.675331597355594, 37.032498828779644]\n",
      "[100, 0.1, 8, 1, 41.7784909156865, 37.00597661991827]\n",
      "[100, 0.1, 9, 0.6, 44.01907222421423, 36.91542347550411]\n",
      "[100, 0.1, 9, 0.7, 44.29942363882547, 37.005606387792135]\n",
      "[100, 0.1, 9, 0.8, 44.485751758289574, 37.11191255208074]\n",
      "[100, 0.1, 9, 0.9, 44.692345839464146, 37.142471812026024]\n",
      "[100, 0.1, 9, 1, 44.7843019941781, 37.07926408870874]\n",
      "[100, 0.1, 10, 0.6, 48.293638777600215, 36.729641267404624]\n",
      "[100, 0.1, 10, 0.7, 48.708088211845826, 37.11972986590667]\n",
      "[100, 0.1, 10, 0.8, 49.053959090916344, 37.10698150615139]\n",
      "[100, 0.1, 10, 0.9, 49.3161119199568, 37.13647510640355]\n",
      "[100, 0.1, 10, 1, 49.498984765123396, 37.042265532295346]\n",
      "[100, 0.1, 11, 0.6, 54.428005594535946, 36.5474579563166]\n",
      "[100, 0.1, 11, 0.7, 55.094070592404655, 36.76627524067948]\n",
      "[100, 0.1, 11, 0.8, 55.478802125507386, 36.91844200659966]\n",
      "[100, 0.1, 11, 0.9, 55.95549618586262, 36.87742898867691]\n",
      "[100, 0.1, 11, 1, 55.94009422504871, 36.99233327866962]\n",
      "[100, 0.1, 12, 0.6, 62.436913502977376, 36.03793170810064]\n",
      "[100, 0.1, 12, 0.7, 63.17289399228856, 36.44006375689821]\n",
      "[100, 0.1, 12, 0.8, 63.96086191718622, 36.57714361324663]\n",
      "[100, 0.1, 12, 0.9, 64.33771134151584, 36.623943866318186]\n",
      "[100, 0.1, 12, 1, 64.7148726403435, 36.70754568256339]\n",
      "[100, 0.1, 13, 0.6, 71.317691721525, 35.239341187632874]\n",
      "[100, 0.1, 13, 0.7, 72.49013635295216, 35.681274558915334]\n",
      "[100, 0.1, 13, 0.8, 73.5876360325578, 35.874920548740064]\n",
      "[100, 0.1, 13, 0.9, 73.82757222192731, 36.24421107495161]\n",
      "[100, 0.1, 13, 1, 74.15716082230158, 36.086434590852136]\n",
      "[100, 0.1, 14, 0.6, 80.28806000455843, 34.30005229755066]\n",
      "[100, 0.1, 14, 0.7, 81.40319035555041, 34.82207351850486]\n",
      "[100, 0.1, 14, 0.8, 82.40393172269911, 35.45852442512771]\n",
      "[100, 0.1, 14, 0.9, 83.08771484966468, 35.47213980211199]\n",
      "[100, 0.1, 14, 1, 83.35698519156338, 35.338295969852105]\n",
      "[100, 0.1, 15, 0.6, 87.36730130056245, 33.73657556859598]\n",
      "[100, 0.1, 15, 0.7, 88.90151045304962, 34.41276586299436]\n",
      "[100, 0.1, 15, 0.8, 89.67602676519498, 34.72648204014607]\n",
      "[100, 0.1, 15, 0.9, 90.4207979715102, 34.94182578192243]\n",
      "[100, 0.1, 15, 1, 90.42650250403094, 34.83085285541744]\n",
      "[200, 0.001, 3, 0.6, -279.4614504763961, -278.3393550070939]\n",
      "[200, 0.001, 3, 0.7, -279.4582909406954, -278.3355435921633]\n",
      "[200, 0.001, 3, 0.8, -279.45777434892307, -278.33505172709835]\n",
      "[200, 0.001, 3, 0.9, -279.45731743383107, -278.3337381234019]\n",
      "[200, 0.001, 3, 1, -279.4555740550301, -278.33203071777757]\n",
      "[200, 0.001, 4, 0.6, -278.59714248528013, -277.49277846849105]\n",
      "[200, 0.001, 4, 0.7, -278.594722357778, -277.4907150224688]\n",
      "[200, 0.001, 4, 0.8, -278.59510433293553, -277.49296202288616]\n",
      "[200, 0.001, 4, 0.9, -278.59339590844405, -277.491021942474]\n",
      "[200, 0.001, 4, 1, -278.59033778767207, -277.48482355759546]\n",
      "[200, 0.001, 5, 0.6, -278.0018337348451, -276.885929392829]\n",
      "[200, 0.001, 5, 0.7, -278.00002809519987, -276.8834881880272]\n",
      "[200, 0.001, 5, 0.8, -278.00169643253764, -276.8835738149427]\n",
      "[200, 0.001, 5, 0.9, -278.00121764060606, -276.8839201743869]\n",
      "[200, 0.001, 5, 1, -278.0012645264827, -276.8830072544083]\n",
      "[200, 0.001, 6, 0.6, -277.5704688867807, -276.4437676826973]\n",
      "[200, 0.001, 6, 0.7, -277.56889009073046, -276.44292798078703]\n",
      "[200, 0.001, 6, 0.8, -277.5709130950565, -276.44589665988735]\n",
      "[200, 0.001, 6, 0.9, -277.56921785171, -276.445913171506]\n",
      "[200, 0.001, 6, 1, -277.56895423353234, -276.4499996554224]\n",
      "[200, 0.001, 7, 0.6, -277.2273867007355, -276.14049826959047]\n",
      "[200, 0.001, 7, 0.7, -277.22391450459025, -276.13684660786515]\n",
      "[200, 0.001, 7, 0.8, -277.224255596806, -276.1366124049917]\n",
      "[200, 0.001, 7, 0.9, -277.22296361808117, -276.13533282194817]\n",
      "[200, 0.001, 7, 1, -277.2236878430335, -276.142141682418]\n",
      "[200, 0.001, 8, 0.6, -276.9363012426155, -275.9373940511898]\n",
      "[200, 0.001, 8, 0.7, -276.92764244074186, -275.9309539740803]\n",
      "[200, 0.001, 8, 0.8, -276.9238111103989, -275.9256654811106]\n",
      "[200, 0.001, 8, 0.9, -276.92100548177837, -275.9225322023787]\n",
      "[200, 0.001, 8, 1, -276.9208045459569, -275.9277682031902]\n",
      "[200, 0.001, 9, 0.6, -276.68876964987874, -275.80173935557036]\n",
      "[200, 0.001, 9, 0.7, -276.6716655442279, -275.78301174536]\n",
      "[200, 0.001, 9, 0.8, -276.6626597334896, -275.7733059369571]\n",
      "[200, 0.001, 9, 0.9, -276.65600713110354, -275.7648009633349]\n",
      "[200, 0.001, 9, 1, -276.65660535931625, -275.76527310110623]\n",
      "[200, 0.001, 10, 0.6, -276.45898577108636, -275.74552768981755]\n",
      "[200, 0.001, 10, 0.7, -276.4220964219729, -275.7159143604497]\n",
      "[200, 0.001, 10, 0.8, -276.400864807954, -275.6934995881402]\n",
      "[200, 0.001, 10, 0.9, -276.3841741756765, -275.6814407707114]\n",
      "[200, 0.001, 10, 1, -276.3830201730483, -275.6912349868154]\n",
      "[200, 0.001, 11, 0.6, -276.2296769055501, -275.79036429494465]\n",
      "[200, 0.001, 11, 0.7, -276.16263957873105, -275.73412528586294]\n",
      "[200, 0.001, 11, 0.8, -276.11603000880456, -275.6941683774571]\n",
      "[200, 0.001, 11, 0.9, -276.08115725051607, -275.6672765183474]\n",
      "[200, 0.001, 11, 1, -276.08039271301544, -275.6695018142978]\n",
      "[200, 0.001, 12, 0.6, -275.9882966689654, -275.96962078415936]\n",
      "[200, 0.001, 12, 0.7, -275.8702053796716, -275.8791318795029]\n",
      "[200, 0.001, 12, 0.8, -275.7813518421536, -275.811887626126]\n",
      "[200, 0.001, 12, 0.9, -275.7135689106784, -275.7566233636028]\n",
      "[200, 0.001, 12, 1, -275.70480577104644, -275.7577929943253]\n",
      "[200, 0.001, 13, 0.6, -275.72956512636006, -276.293175184597]\n",
      "[200, 0.001, 13, 0.7, -275.53310500009195, -276.1682205384666]\n",
      "[200, 0.001, 13, 0.8, -275.3783456864455, -276.0654659477444]\n",
      "[200, 0.001, 13, 0.9, -275.25690018049244, -275.98598168357495]\n",
      "[200, 0.001, 13, 1, -275.2466047722363, -275.9902120314243]\n",
      "[200, 0.001, 14, 0.6, -275.4522187256944, -276.74657491601266]\n",
      "[200, 0.001, 14, 0.7, -275.1535523324324, -276.58481804278193]\n",
      "[200, 0.001, 14, 0.8, -274.90940598246516, -276.4540266322018]\n",
      "[200, 0.001, 14, 0.9, -274.7071635545344, -276.3499341913255]\n",
      "[200, 0.001, 14, 1, -274.6283487201941, -276.29284871469144]\n",
      "[200, 0.001, 15, 0.6, -275.1811929515056, -277.30401127120433]\n",
      "[200, 0.001, 15, 0.7, -274.75997292398995, -277.1220070585723]\n",
      "[200, 0.001, 15, 0.8, -274.39962588374266, -276.9609463930955]\n",
      "[200, 0.001, 15, 0.9, -274.0943877562464, -276.8325631175233]\n",
      "[200, 0.001, 15, 1, -273.9416571721321, -276.7882743219232]\n",
      "[200, 0.01, 3, 0.6, 23.047079004038075, 22.944901605493374]\n",
      "[200, 0.01, 3, 0.7, 23.046295252644033, 22.943895575852512]\n",
      "[200, 0.01, 3, 0.8, 23.04709122967973, 22.950360427403325]\n",
      "[200, 0.01, 3, 0.9, 23.042928739709733, 22.948875450774796]\n",
      "[200, 0.01, 3, 1, 23.04959898478781, 22.955086325164544]\n",
      "[200, 0.01, 4, 0.6, 24.401556979427298, 24.2273967166023]\n",
      "[200, 0.01, 4, 0.7, 24.40457738387043, 24.23976411131673]\n",
      "[200, 0.01, 4, 0.8, 24.406695385468247, 24.233040783026016]\n",
      "[200, 0.01, 4, 0.9, 24.40943876180074, 24.232143325534306]\n",
      "[200, 0.01, 4, 1, 24.411060122896888, 24.230602789980217]\n",
      "[200, 0.01, 5, 0.6, 25.334318277286492, 25.057994493900782]\n",
      "[200, 0.01, 5, 0.7, 25.341054505652405, 25.063972382500232]\n",
      "[200, 0.01, 5, 0.8, 25.33269574002078, 25.05589718995228]\n",
      "[200, 0.01, 5, 0.9, 25.341676579329054, 25.06208798908881]\n",
      "[200, 0.01, 5, 1, 25.32862592460431, 25.046430042614997]\n",
      "[200, 0.01, 6, 0.6, 26.136506792677338, 25.675649243572362]\n",
      "[200, 0.01, 6, 0.7, 26.137964423167737, 25.675347994194453]\n",
      "[200, 0.01, 6, 0.8, 26.14406904707237, 25.676483801360916]\n",
      "[200, 0.01, 6, 0.9, 26.148319709619972, 25.681849642396482]\n",
      "[200, 0.01, 6, 1, 26.136157537630865, 25.66310087459237]\n",
      "[200, 0.01, 7, 0.6, 26.902439884518525, 26.162575722769677]\n",
      "[200, 0.01, 7, 0.7, 26.91254777397689, 26.16352351583351]\n",
      "[200, 0.01, 7, 0.8, 26.90400200629299, 26.143964059049562]\n",
      "[200, 0.01, 7, 0.9, 26.906404803765906, 26.144644528614524]\n",
      "[200, 0.01, 7, 1, 26.89517325620444, 26.127117097036777]\n",
      "[200, 0.01, 8, 0.6, 27.7895726292013, 26.572123561867766]\n",
      "[200, 0.01, 8, 0.7, 27.804635117224418, 26.56234049793437]\n",
      "[200, 0.01, 8, 0.8, 27.805658813949407, 26.55647518732548]\n",
      "[200, 0.01, 8, 0.9, 27.810929430372077, 26.54518497491449]\n",
      "[200, 0.01, 8, 1, 27.7934727952077, 26.514507123701282]\n",
      "[200, 0.01, 9, 0.6, 28.897940161793922, 26.934900193674938]\n",
      "[200, 0.01, 9, 0.7, 28.921629415877636, 26.916937328052924]\n",
      "[200, 0.01, 9, 0.8, 28.942769206222696, 26.913517678464228]\n",
      "[200, 0.01, 9, 0.9, 28.954472883182834, 26.883327972992]\n",
      "[200, 0.01, 9, 1, 28.94147463334353, 26.85555002834975]\n",
      "[200, 0.01, 10, 0.6, 30.42459601006372, 27.221133477636737]\n",
      "[200, 0.01, 10, 0.7, 30.491805713769303, 27.223348547259384]\n",
      "[200, 0.01, 10, 0.8, 30.534790544999947, 27.20565690370531]\n",
      "[200, 0.01, 10, 0.9, 30.56542443996473, 27.183189577736357]\n",
      "[200, 0.01, 10, 1, 30.533573368196233, 27.095146126313118]\n",
      "[200, 0.01, 11, 0.6, 32.611783853004795, 27.415984661808036]\n",
      "[200, 0.01, 11, 0.7, 32.7721683121475, 27.442987597412085]\n",
      "[200, 0.01, 11, 0.8, 32.86071735914037, 27.452669632522987]\n",
      "[200, 0.01, 11, 0.9, 32.91857474345561, 27.40123255507203]\n",
      "[200, 0.01, 11, 1, 32.8810462532613, 27.277133574806978]\n",
      "[200, 0.01, 12, 0.6, 35.722463295512185, 27.510313412806976]\n",
      "[200, 0.01, 12, 0.7, 35.99895324760634, 27.529903844129244]\n",
      "[200, 0.01, 12, 0.8, 36.1784731827974, 27.525718260923316]\n",
      "[200, 0.01, 12, 0.9, 36.326141627239494, 27.508959575790982]\n",
      "[200, 0.01, 12, 1, 36.221422445391084, 27.278195855393793]\n",
      "[200, 0.01, 13, 0.6, 39.809368939651854, 27.346792882879512]\n",
      "[200, 0.01, 13, 0.7, 40.35329051083665, 27.41470716590415]\n",
      "[200, 0.01, 13, 0.8, 40.72056307260986, 27.440629694390584]\n",
      "[200, 0.01, 13, 0.9, 41.029139232607456, 27.42281074696694]\n",
      "[200, 0.01, 13, 1, 40.901113107934115, 27.090910648445654]\n",
      "[200, 0.01, 14, 0.6, 44.62510250543726, 27.025194801279973]\n",
      "[200, 0.01, 14, 0.7, 45.54137307090317, 27.103818062925022]\n",
      "[200, 0.01, 14, 0.8, 46.24773688701861, 27.117868683159053]\n",
      "[200, 0.01, 14, 0.9, 46.81554517914397, 27.127142195690645]\n",
      "[200, 0.01, 14, 1, 46.81691301732119, 26.634284711620282]\n",
      "[200, 0.01, 15, 0.6, 49.70153793518589, 26.518859578336894]\n",
      "[200, 0.01, 15, 0.7, 51.078857596607975, 26.633698273415273]\n",
      "[200, 0.01, 15, 0.8, 52.16651771170184, 26.632703557502712]\n",
      "[200, 0.01, 15, 0.9, 53.08994550411212, 26.62251838066173]\n",
      "[200, 0.01, 15, 1, 53.20442040988873, 26.04550238550878]\n",
      "[200, 0.1, 3, 0.6, 36.51837651360865, 35.81794861990502]\n",
      "[200, 0.1, 3, 0.7, 36.568011242117095, 35.82642822849711]\n",
      "[200, 0.1, 3, 0.8, 36.57121370616711, 35.82287701393898]\n",
      "[200, 0.1, 3, 0.9, 36.56644835662696, 35.78397383604906]\n",
      "[200, 0.1, 3, 1, 36.65202602988848, 35.862147991088335]\n",
      "[200, 0.1, 4, 0.6, 37.353142986306764, 36.31934875530873]\n",
      "[200, 0.1, 4, 0.7, 37.46753909990712, 36.399340291604965]\n",
      "[200, 0.1, 4, 0.8, 37.52130619232299, 36.4031290879403]\n",
      "[200, 0.1, 4, 0.9, 37.61687827612814, 36.44661516319567]\n",
      "[200, 0.1, 4, 1, 37.61168721118069, 36.37050487558293]\n",
      "[200, 0.1, 5, 0.6, 38.289380584735774, 36.73079206973403]\n",
      "[200, 0.1, 5, 0.7, 38.35850435075457, 36.75017466771181]\n",
      "[200, 0.1, 5, 0.8, 38.459807820686244, 36.788288697514126]\n",
      "[200, 0.1, 5, 0.9, 38.568248289460605, 36.8131439088329]\n",
      "[200, 0.1, 5, 1, 38.586087372871944, 36.73766689875851]\n",
      "[200, 0.1, 6, 0.6, 39.4553735836611, 37.00725983686431]\n",
      "[200, 0.1, 6, 0.7, 39.579893915018616, 37.0316241879177]\n",
      "[200, 0.1, 6, 0.8, 39.6776096535615, 37.08998706660724]\n",
      "[200, 0.1, 6, 0.9, 39.861508991891405, 37.1480305277761]\n",
      "[200, 0.1, 6, 1, 40.00064963995581, 37.03441770677058]\n",
      "[200, 0.1, 7, 0.6, 41.231437182538436, 37.16199483074442]\n",
      "[200, 0.1, 7, 0.7, 41.37986066243873, 37.27311017038099]\n",
      "[200, 0.1, 7, 0.8, 41.58529742352999, 37.336800980150585]\n",
      "[200, 0.1, 7, 0.9, 41.752347691594814, 37.322220746862634]\n",
      "[200, 0.1, 7, 1, 41.98802299755051, 37.23891429410783]\n",
      "[200, 0.1, 8, 0.6, 44.08120546859963, 37.14347982885954]\n",
      "[200, 0.1, 8, 0.7, 44.33681787708663, 37.298078246907]\n",
      "[200, 0.1, 8, 0.8, 44.53117103308634, 37.3223165226377]\n",
      "[200, 0.1, 8, 0.9, 44.77417620159416, 37.40275955094522]\n",
      "[200, 0.1, 8, 1, 45.15040180989729, 37.35000772726102]\n",
      "[200, 0.1, 9, 0.6, 48.58538388116368, 36.972853854476554]\n",
      "[200, 0.1, 9, 0.7, 48.94125457327044, 37.06909876155537]\n",
      "[200, 0.1, 9, 0.8, 49.25638877923919, 37.30153312367016]\n",
      "[200, 0.1, 9, 0.9, 49.52987979150916, 37.24240870621755]\n",
      "[200, 0.1, 9, 1, 49.85703959816651, 37.295065350800925]\n",
      "[200, 0.1, 10, 0.6, 55.261910308560516, 36.43396759340566]\n",
      "[200, 0.1, 10, 0.7, 55.786043550613826, 36.89563642611245]\n",
      "[200, 0.1, 10, 0.8, 56.160669317448544, 36.95921593483554]\n",
      "[200, 0.1, 10, 0.9, 56.44939362337005, 37.08824197683656]\n",
      "[200, 0.1, 10, 1, 56.7939103288124, 37.10018666488205]\n",
      "[200, 0.1, 11, 0.6, 64.06441920750439, 35.964204880538816]\n",
      "[200, 0.1, 11, 0.7, 64.7779814627193, 36.3044678859877]\n",
      "[200, 0.1, 11, 0.8, 65.24724049009374, 36.509253358809524]\n",
      "[200, 0.1, 11, 0.9, 65.72196826490277, 36.61374950357656]\n",
      "[200, 0.1, 11, 1, 65.75398332834308, 36.80383455557595]\n",
      "[200, 0.1, 12, 0.6, 74.40865781912362, 35.1414725947927]\n",
      "[200, 0.1, 12, 0.7, 75.07694549259749, 35.669067663778186]\n",
      "[200, 0.1, 12, 0.8, 75.85810934858416, 35.83642810499801]\n",
      "[200, 0.1, 12, 0.9, 76.05491993086105, 36.10166900803704]\n",
      "[200, 0.1, 12, 1, 76.30740227364842, 36.28915059791208]\n",
      "[200, 0.1, 13, 0.6, 84.04300599619496, 34.10272637285644]\n",
      "[200, 0.1, 13, 0.7, 84.97535974181885, 34.75694221919271]\n",
      "[200, 0.1, 13, 0.8, 85.7301186802984, 35.10232668239376]\n",
      "[200, 0.1, 13, 0.9, 85.98378536455886, 35.528731700042094]\n",
      "[200, 0.1, 13, 1, 86.04230984929723, 35.51487016278815]\n",
      "[200, 0.1, 14, 0.6, 91.85169416338614, 33.296941078875264]\n",
      "[200, 0.1, 14, 0.7, 92.68003409246441, 33.98040123236443]\n",
      "[200, 0.1, 14, 0.8, 93.19955715989346, 34.56135392827954]\n",
      "[200, 0.1, 14, 0.9, 93.60019872405837, 34.77240232836871]\n",
      "[200, 0.1, 14, 1, 93.04800277387078, 34.776587289550534]\n",
      "[200, 0.1, 15, 0.6, 96.56564628664691, 32.85302544059936]\n"
     ]
    }
   ],
   "source": [
    "results_list = []\n",
    "for n_estimators in n_estimators_list:\n",
    "    for learning_rate in learning_rate_list:\n",
    "        for max_depth in max_depth_list:\n",
    "            for subsample in subsample_list:\n",
    "                model = xgb.XGBRegressor(objective='reg:squarederror', \n",
    "                                         tree_method='gpu_hist',  ## on linux: device = 'cuda', tree_method='hist', \n",
    "                                         n_estimators = n_estimators, \n",
    "                                         learning_rate = learning_rate, \n",
    "                                         max_depth = max_depth, \n",
    "                                         subsample = subsample,\n",
    "                                         random_state=42, enable_categorical=True  )\n",
    "                model.fit(Xm_train, ym_train)\n",
    "                ym_pred = model.predict(Xm_test)\n",
    "                test_r2 = r2_score(ym_test, ym_pred) * 100\n",
    "                ym_train_pred = model.predict(Xm_train)\n",
    "                train_r2 = r2_score(ym_train, ym_train_pred) * 100\n",
    "                row = [n_estimators, learning_rate, max_depth, \n",
    "                       subsample, train_r2, test_r2]\n",
    "                print(row)\n",
    "                model = None\n",
    "                ym_pred = None\n",
    "                ym_train_pred = None\n",
    "                results_list.append(row)"
   ]
  },
  {
   "cell_type": "code",
   "execution_count": null,
   "id": "dc19c0e5-446b-49c0-989d-d939ebcab4ec",
   "metadata": {},
   "outputs": [],
   "source": []
  },
  {
   "cell_type": "code",
   "execution_count": null,
   "id": "0144ee68-2e7d-45bf-a322-cef4b464cdf0",
   "metadata": {},
   "outputs": [],
   "source": []
  },
  {
   "cell_type": "code",
   "execution_count": null,
   "id": "68dc4bae-ffa8-4f15-8e64-68e9323e8c0d",
   "metadata": {},
   "outputs": [],
   "source": []
  },
  {
   "cell_type": "code",
   "execution_count": null,
   "id": "9cff6d43-70c7-46fe-9d00-fad5edf87719",
   "metadata": {},
   "outputs": [],
   "source": []
  },
  {
   "cell_type": "code",
   "execution_count": null,
   "id": "44c0cef1-29fe-44d3-97f2-97554b67fddc",
   "metadata": {},
   "outputs": [],
   "source": []
  },
  {
   "cell_type": "code",
   "execution_count": null,
   "id": "cb231cac-c199-440c-8b0d-458397751970",
   "metadata": {},
   "outputs": [],
   "source": []
  }
 ],
 "metadata": {
  "kernelspec": {
   "display_name": "Python 3 (ipykernel)",
   "language": "python",
   "name": "python3"
  },
  "language_info": {
   "codemirror_mode": {
    "name": "ipython",
    "version": 3
   },
   "file_extension": ".py",
   "mimetype": "text/x-python",
   "name": "python",
   "nbconvert_exporter": "python",
   "pygments_lexer": "ipython3",
   "version": "3.9.16"
  }
 },
 "nbformat": 4,
 "nbformat_minor": 5
}
