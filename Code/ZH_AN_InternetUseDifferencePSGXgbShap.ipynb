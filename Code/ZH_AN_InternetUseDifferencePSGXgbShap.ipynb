{
 "cells": [
  {
   "cell_type": "markdown",
   "id": "e3f46b19-2e41-493e-b501-5e4164faf021",
   "metadata": {},
   "source": [
    "# PSG-XGBoost"
   ]
  },
  {
   "cell_type": "markdown",
   "id": "33a1dcbb-376a-45f1-835f-0d41ae3d84e0",
   "metadata": {},
   "source": [
    "To solve the problem of endogeneity, use propensity score matching (PSM) combined with XGBoost to analyze the Internet usage"
   ]
  },
  {
   "cell_type": "code",
   "execution_count": 1,
   "id": "38d71e46-2311-4aab-ae80-7854d7ecd427",
   "metadata": {},
   "outputs": [
    {
     "data": {
      "text/plain": [
       "'/mnt/f/ESG09_Project/Code'"
      ]
     },
     "execution_count": 1,
     "metadata": {},
     "output_type": "execute_result"
    }
   ],
   "source": [
    "%pwd"
   ]
  },
  {
   "cell_type": "code",
   "execution_count": 2,
   "id": "333b6216-e1f5-4faa-8205-9bd05df78c50",
   "metadata": {},
   "outputs": [
    {
     "name": "stdout",
     "output_type": "stream",
     "text": [
      "/mnt/f/ESG09_Project\n"
     ]
    },
    {
     "name": "stderr",
     "output_type": "stream",
     "text": [
      "/home/zhang/miniconda3/envs/tf/lib/python3.9/site-packages/IPython/core/magics/osm.py:417: UserWarning: using dhist requires you to install the `pickleshare` library.\n",
      "  self.shell.db['dhist'] = compress_dhist(dhist)[-100:]\n"
     ]
    }
   ],
   "source": [
    "%cd .."
   ]
  },
  {
   "cell_type": "code",
   "execution_count": null,
   "id": "f2128ad2-cb9b-4139-8d29-23f90f46ec52",
   "metadata": {},
   "outputs": [],
   "source": []
  },
  {
   "cell_type": "markdown",
   "id": "01b27b2f-39b9-4565-9c8f-ac9d4f497428",
   "metadata": {},
   "source": [
    "## Import Package"
   ]
  },
  {
   "cell_type": "code",
   "execution_count": 3,
   "id": "51c34e2e-ea61-4c38-8d38-e3281b81b682",
   "metadata": {},
   "outputs": [],
   "source": [
    "import matplotlib.pyplot as plt\n",
    "import numpy as np\n",
    "import os \n",
    "import pandas as pd\n",
    "from scipy import stats\n",
    "import seaborn as sns\n",
    "import shap\n",
    "from sklearn.compose import ColumnTransformer\n",
    "from sklearn.ensemble import RandomForestRegressor\n",
    "from sklearn.feature_selection import RFE\n",
    "from sklearn.linear_model import LinearRegression\n",
    "from sklearn.impute import SimpleImputer\n",
    "from sklearn.metrics import mean_squared_error, r2_score, accuracy_score, roc_auc_score\n",
    "from sklearn.model_selection import train_test_split, GridSearchCV\n",
    "from sklearn.neighbors import NearestNeighbors\n",
    "from sklearn.pipeline import Pipeline\n",
    "from sklearn.preprocessing import LabelEncoder, OneHotEncoder,StandardScaler\n",
    "from xgboost import XGBClassifier, XGBRegressor"
   ]
  },
  {
   "cell_type": "code",
   "execution_count": null,
   "id": "7db3fdc3-9386-464c-9a91-3b6c27f6931e",
   "metadata": {},
   "outputs": [],
   "source": []
  },
  {
   "cell_type": "markdown",
   "id": "9cf9f2e6-ee44-401d-84cc-cafc4638f614",
   "metadata": {},
   "source": [
    "## Load and Make Datasets"
   ]
  },
  {
   "cell_type": "code",
   "execution_count": 4,
   "id": "2f1d18e5-2d3e-49bc-99ad-025aebe46dd2",
   "metadata": {},
   "outputs": [],
   "source": [
    "Df_Filename = os.path.join(\"Data\", \"GallupWB_Zhang47var798k6wave_v1.parquet\")"
   ]
  },
  {
   "cell_type": "code",
   "execution_count": 5,
   "id": "ca0afaaa-6393-471a-a988-60a5b9017807",
   "metadata": {},
   "outputs": [],
   "source": [
    "Df = pd.read_parquet(Df_Filename)"
   ]
  },
  {
   "cell_type": "code",
   "execution_count": 6,
   "id": "b4a12101-1fc8-4f83-a223-5443a53c31bd",
   "metadata": {},
   "outputs": [
    {
     "data": {
      "text/plain": [
       "(798604, 74)"
      ]
     },
     "execution_count": 6,
     "metadata": {},
     "output_type": "execute_result"
    }
   ],
   "source": [
    "Df.shape"
   ]
  },
  {
   "cell_type": "code",
   "execution_count": 7,
   "id": "ab1a9a15-24b8-47c2-8cd9-6f20fda622ec",
   "metadata": {},
   "outputs": [
    {
     "data": {
      "text/html": [
       "<div>\n",
       "<style scoped>\n",
       "    .dataframe tbody tr th:only-of-type {\n",
       "        vertical-align: middle;\n",
       "    }\n",
       "\n",
       "    .dataframe tbody tr th {\n",
       "        vertical-align: top;\n",
       "    }\n",
       "\n",
       "    .dataframe thead th {\n",
       "        text-align: right;\n",
       "    }\n",
       "</style>\n",
       "<table border=\"1\" class=\"dataframe\">\n",
       "  <thead>\n",
       "    <tr style=\"text-align: right;\">\n",
       "      <th></th>\n",
       "      <th>wave</th>\n",
       "      <th>INCOME_2</th>\n",
       "      <th>Cantril_ladder</th>\n",
       "      <th>Health_disable</th>\n",
       "      <th>Relative_have</th>\n",
       "      <th>Life_satisfaction</th>\n",
       "      <th>Living_standard_trend</th>\n",
       "      <th>Enough_food</th>\n",
       "      <th>Enough_shelter</th>\n",
       "      <th>Well_rested</th>\n",
       "      <th>...</th>\n",
       "      <th>Children_under15</th>\n",
       "      <th>Feeling_income</th>\n",
       "      <th>Born_here</th>\n",
       "      <th>Home_handline</th>\n",
       "      <th>Mobile_phone</th>\n",
       "      <th>Internet_access_available</th>\n",
       "      <th>Used_internet_recently</th>\n",
       "      <th>Phone_internet_access</th>\n",
       "      <th>COUNTRY_ISO3</th>\n",
       "      <th>Income_level</th>\n",
       "    </tr>\n",
       "  </thead>\n",
       "  <tbody>\n",
       "    <tr>\n",
       "      <th>1709734</th>\n",
       "      <td>12</td>\n",
       "      <td>592300.098717</td>\n",
       "      <td>5.0</td>\n",
       "      <td>0.0</td>\n",
       "      <td>1.0</td>\n",
       "      <td>0.0</td>\n",
       "      <td>-1.0</td>\n",
       "      <td>1.0</td>\n",
       "      <td>0.0</td>\n",
       "      <td>0.0</td>\n",
       "      <td>...</td>\n",
       "      <td>1.0</td>\n",
       "      <td>2.0</td>\n",
       "      <td>1.0</td>\n",
       "      <td>1.0</td>\n",
       "      <td>1.0</td>\n",
       "      <td>1.0</td>\n",
       "      <td>1.0</td>\n",
       "      <td>1.0</td>\n",
       "      <td>USA</td>\n",
       "      <td>5.0</td>\n",
       "    </tr>\n",
       "    <tr>\n",
       "      <th>1709735</th>\n",
       "      <td>12</td>\n",
       "      <td>106614.017769</td>\n",
       "      <td>9.0</td>\n",
       "      <td>0.0</td>\n",
       "      <td>1.0</td>\n",
       "      <td>1.0</td>\n",
       "      <td>1.0</td>\n",
       "      <td>0.0</td>\n",
       "      <td>0.0</td>\n",
       "      <td>1.0</td>\n",
       "      <td>...</td>\n",
       "      <td>0.0</td>\n",
       "      <td>1.0</td>\n",
       "      <td>1.0</td>\n",
       "      <td>1.0</td>\n",
       "      <td>1.0</td>\n",
       "      <td>1.0</td>\n",
       "      <td>1.0</td>\n",
       "      <td>0.0</td>\n",
       "      <td>USA</td>\n",
       "      <td>5.0</td>\n",
       "    </tr>\n",
       "    <tr>\n",
       "      <th>1709736</th>\n",
       "      <td>12</td>\n",
       "      <td>21322.803554</td>\n",
       "      <td>6.0</td>\n",
       "      <td>1.0</td>\n",
       "      <td>1.0</td>\n",
       "      <td>1.0</td>\n",
       "      <td>1.0</td>\n",
       "      <td>0.0</td>\n",
       "      <td>0.0</td>\n",
       "      <td>1.0</td>\n",
       "      <td>...</td>\n",
       "      <td>0.0</td>\n",
       "      <td>1.0</td>\n",
       "      <td>1.0</td>\n",
       "      <td>1.0</td>\n",
       "      <td>0.0</td>\n",
       "      <td>1.0</td>\n",
       "      <td>0.0</td>\n",
       "      <td>0.0</td>\n",
       "      <td>USA</td>\n",
       "      <td>3.0</td>\n",
       "    </tr>\n",
       "    <tr>\n",
       "      <th>1709737</th>\n",
       "      <td>12</td>\n",
       "      <td>56860.809477</td>\n",
       "      <td>5.0</td>\n",
       "      <td>0.0</td>\n",
       "      <td>1.0</td>\n",
       "      <td>1.0</td>\n",
       "      <td>-0.0</td>\n",
       "      <td>0.0</td>\n",
       "      <td>0.0</td>\n",
       "      <td>1.0</td>\n",
       "      <td>...</td>\n",
       "      <td>0.0</td>\n",
       "      <td>1.0</td>\n",
       "      <td>1.0</td>\n",
       "      <td>1.0</td>\n",
       "      <td>1.0</td>\n",
       "      <td>1.0</td>\n",
       "      <td>1.0</td>\n",
       "      <td>0.0</td>\n",
       "      <td>USA</td>\n",
       "      <td>5.0</td>\n",
       "    </tr>\n",
       "    <tr>\n",
       "      <th>1709738</th>\n",
       "      <td>12</td>\n",
       "      <td>33844.027641</td>\n",
       "      <td>7.0</td>\n",
       "      <td>1.0</td>\n",
       "      <td>1.0</td>\n",
       "      <td>1.0</td>\n",
       "      <td>-0.0</td>\n",
       "      <td>0.0</td>\n",
       "      <td>0.0</td>\n",
       "      <td>0.0</td>\n",
       "      <td>...</td>\n",
       "      <td>1.0</td>\n",
       "      <td>2.0</td>\n",
       "      <td>1.0</td>\n",
       "      <td>1.0</td>\n",
       "      <td>1.0</td>\n",
       "      <td>1.0</td>\n",
       "      <td>1.0</td>\n",
       "      <td>1.0</td>\n",
       "      <td>USA</td>\n",
       "      <td>2.0</td>\n",
       "    </tr>\n",
       "  </tbody>\n",
       "</table>\n",
       "<p>5 rows × 74 columns</p>\n",
       "</div>"
      ],
      "text/plain": [
       "         wave       INCOME_2  Cantril_ladder  Health_disable  Relative_have  \\\n",
       "1709734    12  592300.098717             5.0             0.0            1.0   \n",
       "1709735    12  106614.017769             9.0             0.0            1.0   \n",
       "1709736    12   21322.803554             6.0             1.0            1.0   \n",
       "1709737    12   56860.809477             5.0             0.0            1.0   \n",
       "1709738    12   33844.027641             7.0             1.0            1.0   \n",
       "\n",
       "         Life_satisfaction  Living_standard_trend  Enough_food  \\\n",
       "1709734                0.0                   -1.0          1.0   \n",
       "1709735                1.0                    1.0          0.0   \n",
       "1709736                1.0                    1.0          0.0   \n",
       "1709737                1.0                   -0.0          0.0   \n",
       "1709738                1.0                   -0.0          0.0   \n",
       "\n",
       "         Enough_shelter  Well_rested  ...  Children_under15  Feeling_income  \\\n",
       "1709734             0.0          0.0  ...               1.0             2.0   \n",
       "1709735             0.0          1.0  ...               0.0             1.0   \n",
       "1709736             0.0          1.0  ...               0.0             1.0   \n",
       "1709737             0.0          1.0  ...               0.0             1.0   \n",
       "1709738             0.0          0.0  ...               1.0             2.0   \n",
       "\n",
       "         Born_here  Home_handline  Mobile_phone  Internet_access_available  \\\n",
       "1709734        1.0            1.0           1.0                        1.0   \n",
       "1709735        1.0            1.0           1.0                        1.0   \n",
       "1709736        1.0            1.0           0.0                        1.0   \n",
       "1709737        1.0            1.0           1.0                        1.0   \n",
       "1709738        1.0            1.0           1.0                        1.0   \n",
       "\n",
       "         Used_internet_recently  Phone_internet_access  COUNTRY_ISO3  \\\n",
       "1709734                     1.0                    1.0           USA   \n",
       "1709735                     1.0                    0.0           USA   \n",
       "1709736                     0.0                    0.0           USA   \n",
       "1709737                     1.0                    0.0           USA   \n",
       "1709738                     1.0                    1.0           USA   \n",
       "\n",
       "         Income_level  \n",
       "1709734           5.0  \n",
       "1709735           5.0  \n",
       "1709736           3.0  \n",
       "1709737           5.0  \n",
       "1709738           2.0  \n",
       "\n",
       "[5 rows x 74 columns]"
      ]
     },
     "execution_count": 7,
     "metadata": {},
     "output_type": "execute_result"
    }
   ],
   "source": [
    "Df.head()"
   ]
  },
  {
   "cell_type": "code",
   "execution_count": 8,
   "id": "2525e62d-5c01-478e-a748-fd90f9a9e13d",
   "metadata": {},
   "outputs": [
    {
     "data": {
      "text/plain": [
       "Index(['wave', 'INCOME_2', 'Cantril_ladder', 'Health_disable', 'Relative_have',\n",
       "       'Life_satisfaction', 'Living_standard_trend', 'Enough_food',\n",
       "       'Enough_shelter', 'Well_rested', 'Respected', 'Smile',\n",
       "       'Interesting_thing', 'Enjoyment', 'Physical_pain', 'Worry', 'Sadness',\n",
       "       'Stress', 'Anger', 'City_satisfaction', 'Recommended_live_place',\n",
       "       'Economic_rating', 'Economic_trend', 'Local_job_outlook',\n",
       "       'Satisfied_pubtran', 'Satisfied_road', 'Satisfied_edu',\n",
       "       'Satisfied_qualityair', 'Satisfied_qualitywater',\n",
       "       'Satisfied_healthcare', 'Satisfied_affhouse', 'Satisfied_oppofriend',\n",
       "       'Good_minorities', 'Good_homo', 'Good_immigrants', 'Donated',\n",
       "       'Volunteer', 'Help_stranger', 'Voice_official',\n",
       "       'Local_police_confidence', 'Safety_walk', 'Stolen', 'Assualted',\n",
       "       'Religion_importance', 'Children_respected', 'Children_learn',\n",
       "       'Women_respected', 'Satisfied_dealpoor', 'Satisfied_Env_preservation',\n",
       "       'Satisfied_Personalfreedom', 'Confidence_military',\n",
       "       'Confidence_judicial', 'Confidence_gov', 'Confidence_fin',\n",
       "       'Confidence_honestyelections', 'Freedom_media', 'Corruption_business',\n",
       "       'Corruption_government', 'Performance_leadership', 'Gender_female',\n",
       "       'Age', 'Education', 'Marital_status', 'Employment', 'Children_under15',\n",
       "       'Feeling_income', 'Born_here', 'Home_handline', 'Mobile_phone',\n",
       "       'Internet_access_available', 'Used_internet_recently',\n",
       "       'Phone_internet_access', 'COUNTRY_ISO3', 'Income_level'],\n",
       "      dtype='object')"
      ]
     },
     "execution_count": 8,
     "metadata": {},
     "output_type": "execute_result"
    }
   ],
   "source": [
    "Df.columns"
   ]
  },
  {
   "cell_type": "code",
   "execution_count": null,
   "id": "377e4d2f-b082-4af8-96f2-a302369c1a6b",
   "metadata": {},
   "outputs": [],
   "source": []
  },
  {
   "cell_type": "markdown",
   "id": "37169560-2d62-4888-bda4-55cd551b5865",
   "metadata": {},
   "source": [
    "### One-hot & Shuffle Conversion"
   ]
  },
  {
   "cell_type": "code",
   "execution_count": 9,
   "id": "7ee6661e-8073-4164-ade8-b282fa34da5b",
   "metadata": {},
   "outputs": [
    {
     "name": "stdout",
     "output_type": "stream",
     "text": [
      "object\n"
     ]
    }
   ],
   "source": [
    "print(Df['COUNTRY_ISO3'].dtype)"
   ]
  },
  {
   "cell_type": "code",
   "execution_count": 10,
   "id": "22e8d744-68e9-4638-8dc3-ed4400726a86",
   "metadata": {},
   "outputs": [],
   "source": [
    "# 对 COUNTRY_ISO3 进行 one-hot 编码\n",
    "onehot_encoder = OneHotEncoder(sparse_output=False, dtype=int)\n",
    "country_encoded = onehot_encoder.fit_transform(Df[['COUNTRY_ISO3']])\n",
    "country_columns = onehot_encoder.get_feature_names_out(['COUNTRY_ISO3'])"
   ]
  },
  {
   "cell_type": "code",
   "execution_count": 11,
   "id": "363ab1b8-020f-4b16-bb9d-6b124d9523d8",
   "metadata": {},
   "outputs": [],
   "source": [
    "# 创建一个新的 DataFrame，包含 one-hot 编码后的国家列\n",
    "country_df = pd.DataFrame(country_encoded, columns=country_columns, index=Df.index)"
   ]
  },
  {
   "cell_type": "code",
   "execution_count": 12,
   "id": "b8015edb-b06f-4f3e-adbc-90480b3ae488",
   "metadata": {},
   "outputs": [],
   "source": [
    "Df_new = pd.concat([Df.drop('COUNTRY_ISO3', axis=1), country_df], axis=1)"
   ]
  },
  {
   "cell_type": "code",
   "execution_count": 13,
   "id": "2b7dd876-3394-47ea-819e-ed8b02953c1c",
   "metadata": {},
   "outputs": [],
   "source": [
    "Df_new = Df_new.sample(frac=1, random_state=42).reset_index(drop=True)"
   ]
  },
  {
   "cell_type": "code",
   "execution_count": 14,
   "id": "149cb2bc-ba44-4fb4-9266-70ca7a7c8ed4",
   "metadata": {},
   "outputs": [
    {
     "data": {
      "text/html": [
       "<div>\n",
       "<style scoped>\n",
       "    .dataframe tbody tr th:only-of-type {\n",
       "        vertical-align: middle;\n",
       "    }\n",
       "\n",
       "    .dataframe tbody tr th {\n",
       "        vertical-align: top;\n",
       "    }\n",
       "\n",
       "    .dataframe thead th {\n",
       "        text-align: right;\n",
       "    }\n",
       "</style>\n",
       "<table border=\"1\" class=\"dataframe\">\n",
       "  <thead>\n",
       "    <tr style=\"text-align: right;\">\n",
       "      <th></th>\n",
       "      <th>wave</th>\n",
       "      <th>INCOME_2</th>\n",
       "      <th>Cantril_ladder</th>\n",
       "      <th>Health_disable</th>\n",
       "      <th>Relative_have</th>\n",
       "      <th>Life_satisfaction</th>\n",
       "      <th>Living_standard_trend</th>\n",
       "      <th>Enough_food</th>\n",
       "      <th>Enough_shelter</th>\n",
       "      <th>Well_rested</th>\n",
       "      <th>...</th>\n",
       "      <th>COUNTRY_ISO3_USA</th>\n",
       "      <th>COUNTRY_ISO3_UZB</th>\n",
       "      <th>COUNTRY_ISO3_VEN</th>\n",
       "      <th>COUNTRY_ISO3_VNM</th>\n",
       "      <th>COUNTRY_ISO3_XKX</th>\n",
       "      <th>COUNTRY_ISO3_XNC</th>\n",
       "      <th>COUNTRY_ISO3_YEM</th>\n",
       "      <th>COUNTRY_ISO3_ZAF</th>\n",
       "      <th>COUNTRY_ISO3_ZMB</th>\n",
       "      <th>COUNTRY_ISO3_ZWE</th>\n",
       "    </tr>\n",
       "  </thead>\n",
       "  <tbody>\n",
       "    <tr>\n",
       "      <th>0</th>\n",
       "      <td>13</td>\n",
       "      <td>5278.624306</td>\n",
       "      <td>3.0</td>\n",
       "      <td>1.0</td>\n",
       "      <td>1.0</td>\n",
       "      <td>0.0</td>\n",
       "      <td>-0.0</td>\n",
       "      <td>1.0</td>\n",
       "      <td>0.0</td>\n",
       "      <td>0.0</td>\n",
       "      <td>...</td>\n",
       "      <td>0</td>\n",
       "      <td>0</td>\n",
       "      <td>0</td>\n",
       "      <td>0</td>\n",
       "      <td>0</td>\n",
       "      <td>0</td>\n",
       "      <td>0</td>\n",
       "      <td>0</td>\n",
       "      <td>0</td>\n",
       "      <td>0</td>\n",
       "    </tr>\n",
       "    <tr>\n",
       "      <th>1</th>\n",
       "      <td>14</td>\n",
       "      <td>0.000000</td>\n",
       "      <td>5.0</td>\n",
       "      <td>1.0</td>\n",
       "      <td>0.0</td>\n",
       "      <td>1.0</td>\n",
       "      <td>1.0</td>\n",
       "      <td>0.0</td>\n",
       "      <td>0.0</td>\n",
       "      <td>0.0</td>\n",
       "      <td>...</td>\n",
       "      <td>0</td>\n",
       "      <td>0</td>\n",
       "      <td>0</td>\n",
       "      <td>0</td>\n",
       "      <td>0</td>\n",
       "      <td>0</td>\n",
       "      <td>0</td>\n",
       "      <td>0</td>\n",
       "      <td>0</td>\n",
       "      <td>0</td>\n",
       "    </tr>\n",
       "    <tr>\n",
       "      <th>2</th>\n",
       "      <td>14</td>\n",
       "      <td>5345.822529</td>\n",
       "      <td>10.0</td>\n",
       "      <td>1.0</td>\n",
       "      <td>1.0</td>\n",
       "      <td>1.0</td>\n",
       "      <td>1.0</td>\n",
       "      <td>1.0</td>\n",
       "      <td>1.0</td>\n",
       "      <td>1.0</td>\n",
       "      <td>...</td>\n",
       "      <td>0</td>\n",
       "      <td>0</td>\n",
       "      <td>0</td>\n",
       "      <td>0</td>\n",
       "      <td>0</td>\n",
       "      <td>0</td>\n",
       "      <td>0</td>\n",
       "      <td>0</td>\n",
       "      <td>0</td>\n",
       "      <td>0</td>\n",
       "    </tr>\n",
       "    <tr>\n",
       "      <th>3</th>\n",
       "      <td>17</td>\n",
       "      <td>10127.215850</td>\n",
       "      <td>5.0</td>\n",
       "      <td>1.0</td>\n",
       "      <td>1.0</td>\n",
       "      <td>1.0</td>\n",
       "      <td>1.0</td>\n",
       "      <td>0.0</td>\n",
       "      <td>0.0</td>\n",
       "      <td>1.0</td>\n",
       "      <td>...</td>\n",
       "      <td>0</td>\n",
       "      <td>0</td>\n",
       "      <td>0</td>\n",
       "      <td>0</td>\n",
       "      <td>0</td>\n",
       "      <td>0</td>\n",
       "      <td>0</td>\n",
       "      <td>0</td>\n",
       "      <td>0</td>\n",
       "      <td>0</td>\n",
       "    </tr>\n",
       "    <tr>\n",
       "      <th>4</th>\n",
       "      <td>16</td>\n",
       "      <td>7106.753699</td>\n",
       "      <td>6.0</td>\n",
       "      <td>0.0</td>\n",
       "      <td>0.0</td>\n",
       "      <td>0.0</td>\n",
       "      <td>-0.0</td>\n",
       "      <td>1.0</td>\n",
       "      <td>0.0</td>\n",
       "      <td>0.0</td>\n",
       "      <td>...</td>\n",
       "      <td>0</td>\n",
       "      <td>0</td>\n",
       "      <td>0</td>\n",
       "      <td>0</td>\n",
       "      <td>0</td>\n",
       "      <td>0</td>\n",
       "      <td>0</td>\n",
       "      <td>0</td>\n",
       "      <td>0</td>\n",
       "      <td>0</td>\n",
       "    </tr>\n",
       "  </tbody>\n",
       "</table>\n",
       "<p>5 rows × 224 columns</p>\n",
       "</div>"
      ],
      "text/plain": [
       "   wave      INCOME_2  Cantril_ladder  Health_disable  Relative_have  \\\n",
       "0    13   5278.624306             3.0             1.0            1.0   \n",
       "1    14      0.000000             5.0             1.0            0.0   \n",
       "2    14   5345.822529            10.0             1.0            1.0   \n",
       "3    17  10127.215850             5.0             1.0            1.0   \n",
       "4    16   7106.753699             6.0             0.0            0.0   \n",
       "\n",
       "   Life_satisfaction  Living_standard_trend  Enough_food  Enough_shelter  \\\n",
       "0                0.0                   -0.0          1.0             0.0   \n",
       "1                1.0                    1.0          0.0             0.0   \n",
       "2                1.0                    1.0          1.0             1.0   \n",
       "3                1.0                    1.0          0.0             0.0   \n",
       "4                0.0                   -0.0          1.0             0.0   \n",
       "\n",
       "   Well_rested  ...  COUNTRY_ISO3_USA  COUNTRY_ISO3_UZB  COUNTRY_ISO3_VEN  \\\n",
       "0          0.0  ...                 0                 0                 0   \n",
       "1          0.0  ...                 0                 0                 0   \n",
       "2          1.0  ...                 0                 0                 0   \n",
       "3          1.0  ...                 0                 0                 0   \n",
       "4          0.0  ...                 0                 0                 0   \n",
       "\n",
       "   COUNTRY_ISO3_VNM  COUNTRY_ISO3_XKX  COUNTRY_ISO3_XNC  COUNTRY_ISO3_YEM  \\\n",
       "0                 0                 0                 0                 0   \n",
       "1                 0                 0                 0                 0   \n",
       "2                 0                 0                 0                 0   \n",
       "3                 0                 0                 0                 0   \n",
       "4                 0                 0                 0                 0   \n",
       "\n",
       "   COUNTRY_ISO3_ZAF  COUNTRY_ISO3_ZMB  COUNTRY_ISO3_ZWE  \n",
       "0                 0                 0                 0  \n",
       "1                 0                 0                 0  \n",
       "2                 0                 0                 0  \n",
       "3                 0                 0                 0  \n",
       "4                 0                 0                 0  \n",
       "\n",
       "[5 rows x 224 columns]"
      ]
     },
     "execution_count": 14,
     "metadata": {},
     "output_type": "execute_result"
    }
   ],
   "source": [
    "Df_new.head()"
   ]
  },
  {
   "cell_type": "markdown",
   "id": "1d042c21-2aea-4ee2-aec4-57271262386c",
   "metadata": {},
   "source": [
    "## PSM-XGBOOST"
   ]
  },
  {
   "cell_type": "markdown",
   "id": "50541fc5-eaf7-4292-8473-05132b3ca85d",
   "metadata": {},
   "source": [
    "### 1. Data preprocessing: removing specific features"
   ]
  },
  {
   "cell_type": "code",
   "execution_count": 15,
   "id": "8ca63883-5604-4e1f-8aa8-7f90eff25b26",
   "metadata": {},
   "outputs": [],
   "source": [
    "features_to_remove = ['Used_internet_recently', 'Phone_internet_access']\n",
    "Df_new = Df_new.drop(columns=features_to_remove)"
   ]
  },
  {
   "cell_type": "markdown",
   "id": "f179f82a-395c-4ec9-80c9-5e720c34fb08",
   "metadata": {},
   "source": [
    "### 2. Prepare data"
   ]
  },
  {
   "cell_type": "code",
   "execution_count": 16,
   "id": "acf167c3-0ded-4dbf-ba92-0621039edad7",
   "metadata": {},
   "outputs": [],
   "source": [
    "X = Df_new.drop(['Internet_access_available', 'Cantril_ladder'], axis=1)\n",
    "y = Df_new['Internet_access_available']"
   ]
  },
  {
   "cell_type": "code",
   "execution_count": 17,
   "id": "6c32c78f-2402-45d2-b6ab-c342c608bc80",
   "metadata": {},
   "outputs": [],
   "source": [
    "X_train, X_test, y_train, y_test = train_test_split(X, y, test_size=0.1, random_state=42)"
   ]
  },
  {
   "cell_type": "markdown",
   "id": "14094876-692e-46ad-ba6a-a673afead4ab",
   "metadata": {},
   "source": [
    "### 3. Optimization parameters"
   ]
  },
  {
   "cell_type": "code",
   "execution_count": 18,
   "id": "0a7e842d-4567-4826-937a-173ee1a43c7d",
   "metadata": {},
   "outputs": [
    {
     "name": "stdout",
     "output_type": "stream",
     "text": [
      "Fitting 3 folds for each of 1 candidates, totalling 3 fits\n"
     ]
    },
    {
     "name": "stderr",
     "output_type": "stream",
     "text": [
      "/home/zhang/miniconda3/envs/tf/lib/python3.9/site-packages/xgboost/core.py:160: UserWarning: [20:53:30] WARNING: /workspace/src/common/error_msg.cc:58: Falling back to prediction using DMatrix due to mismatched devices. This might lead to higher memory usage and slower performance. XGBoost is running on: cuda:0, while the input data is on: cpu.\n",
      "Potential solutions:\n",
      "- Use a data structure that matches the device ordinal in the booster.\n",
      "- Set the device for booster before call to inplace_predict.\n",
      "\n",
      "This warning will only be shown once.\n",
      "\n",
      "  warnings.warn(smsg, UserWarning)\n"
     ]
    },
    {
     "name": "stdout",
     "output_type": "stream",
     "text": [
      "[CV] END learning_rate=0.1, max_depth=3, n_estimators=100, subsample=0.8; total time=   3.7s\n",
      "[CV] END learning_rate=0.1, max_depth=3, n_estimators=100, subsample=0.8; total time=   3.3s\n",
      "[CV] END learning_rate=0.1, max_depth=3, n_estimators=100, subsample=0.8; total time=   3.3s\n",
      "Best parameters: {'learning_rate': 0.1, 'max_depth': 3, 'n_estimators': 100, 'subsample': 0.8}\n",
      "Best ROC AUC score: 0.9093221506559894\n"
     ]
    }
   ],
   "source": [
    "def optimize_xgb_params(X_train, y_train):\n",
    "    param_grid = {\n",
    "        'n_estimators': [100],\n",
    "        'learning_rate': [0.1],\n",
    "        'max_depth': [3],\n",
    "        'subsample': [0.8],\n",
    "    }\n",
    "    \n",
    "    xgb_model = XGBClassifier(objective='binary:logistic', device = 'cuda', tree_method='hist', random_state=42)\n",
    "    \n",
    "    grid_search = GridSearchCV(estimator=xgb_model, param_grid=param_grid, \n",
    "                               cv=3, scoring='roc_auc', n_jobs=1, verbose=2)\n",
    "    \n",
    "    grid_search.fit(X_train, y_train)\n",
    "    \n",
    "    print(\"Best parameters:\", grid_search.best_params_)\n",
    "    print(\"Best ROC AUC score:\", grid_search.best_score_)\n",
    "    \n",
    "    return grid_search.best_estimator_\n",
    "\n",
    "best_model = optimize_xgb_params(X_train, y_train)"
   ]
  },
  {
   "cell_type": "markdown",
   "id": "0d8ba942-4f6b-4e9c-bd21-8d05e2d40586",
   "metadata": {},
   "source": [
    "### 4. Evaluate the best model"
   ]
  },
  {
   "cell_type": "code",
   "execution_count": 19,
   "id": "9099c706-ce1e-42b7-8fc0-fb0ed14b19c6",
   "metadata": {},
   "outputs": [
    {
     "name": "stdout",
     "output_type": "stream",
     "text": [
      "Test Accuracy: 0.8405\n",
      "Test ROC AUC: 0.9088\n"
     ]
    }
   ],
   "source": [
    "y_pred = best_model.predict(X_test)\n",
    "y_pred_proba = best_model.predict_proba(X_test)[:, 1]\n",
    "\n",
    "accuracy = accuracy_score(y_test, y_pred)\n",
    "roc_auc = roc_auc_score(y_test, y_pred_proba)\n",
    "\n",
    "print(f\"Test Accuracy: {accuracy:.4f}\")\n",
    "print(f\"Test ROC AUC: {roc_auc:.4f}\")"
   ]
  },
  {
   "cell_type": "markdown",
   "id": "29ef4dd1-cdab-4d2b-aec9-0d7f167a1ad8",
   "metadata": {},
   "source": [
    "### 5. Estimating propensity scores"
   ]
  },
  {
   "cell_type": "code",
   "execution_count": 20,
   "id": "69360f00-8dbd-4878-8ad4-ad5fe1b56452",
   "metadata": {},
   "outputs": [],
   "source": [
    "def estimate_propensity_scores(df, model):\n",
    "    X = df.drop(['Internet_access_available', 'Cantril_ladder'], axis=1)\n",
    "    return model.predict_proba(X)[:, 1]\n",
    "\n",
    "Df_new['propensity_score'] = estimate_propensity_scores(Df_new, best_model)"
   ]
  },
  {
   "cell_type": "markdown",
   "id": "358c9a35-d4db-4fd3-a5b4-5562cb88e918",
   "metadata": {},
   "source": [
    "### 6. Print propensity score statistics"
   ]
  },
  {
   "cell_type": "code",
   "execution_count": 21,
   "id": "6b5b48ff-46c3-4404-8173-ceaa97eb06fc",
   "metadata": {},
   "outputs": [
    {
     "name": "stdout",
     "output_type": "stream",
     "text": [
      "\n",
      "Propensity Score Statistics:\n",
      "count    798604.000000\n",
      "mean          0.675907\n",
      "std           0.308049\n",
      "min           0.008755\n",
      "25%           0.443681\n",
      "50%           0.795498\n",
      "75%           0.943583\n",
      "max           0.994704\n",
      "Name: propensity_score, dtype: float64\n",
      "\n",
      "Propensity Score Statistics for Internet Access Group:\n",
      "count    539754.000000\n",
      "mean          0.825871\n",
      "std           0.191530\n",
      "min           0.014434\n",
      "25%           0.754176\n",
      "50%           0.902958\n",
      "75%           0.964667\n",
      "max           0.994704\n",
      "Name: propensity_score, dtype: float64\n",
      "\n",
      "Propensity Score Statistics for No Internet Access Group:\n",
      "count    258850.000000\n",
      "mean          0.363201\n",
      "std           0.267571\n",
      "min           0.008755\n",
      "25%           0.124115\n",
      "50%           0.305863\n",
      "75%           0.576887\n",
      "max           0.993119\n",
      "Name: propensity_score, dtype: float64\n"
     ]
    }
   ],
   "source": [
    "print(\"\\nPropensity Score Statistics:\")\n",
    "print(Df_new['propensity_score'].describe())\n",
    "\n",
    "print(\"\\nPropensity Score Statistics for Internet Access Group:\")\n",
    "print(Df_new[Df_new['Internet_access_available'] == 1]['propensity_score'].describe())\n",
    "\n",
    "print(\"\\nPropensity Score Statistics for No Internet Access Group:\")\n",
    "print(Df_new[Df_new['Internet_access_available'] == 0]['propensity_score'].describe())"
   ]
  },
  {
   "cell_type": "markdown",
   "id": "a6e0429e-2a15-4a76-b0ed-ebe321085cfe",
   "metadata": {},
   "source": [
    "### 6. Visualizing Propensity Score Distribution"
   ]
  },
  {
   "cell_type": "code",
   "execution_count": 22,
   "id": "d366d231-56f6-418d-96b7-f1922717e30d",
   "metadata": {},
   "outputs": [
    {
     "data": {
      "image/png": "[encoded data removed]",
      "text/plain": [
       "<Figure size 1000x600 with 1 Axes>"
      ]
     },
     "metadata": {},
     "output_type": "display_data"
    }
   ],
   "source": [
    "plt.figure(figsize=(10, 6))\n",
    "plt.hist(Df_new[Df_new['Internet_access_available'] == 1]['propensity_score'], \n",
    "         bins=50, alpha=0.5, label='Internet Access')\n",
    "plt.hist(Df_new[Df_new['Internet_access_available'] == 0]['propensity_score'], \n",
    "         bins=50, alpha=0.5, label='No Internet Access')\n",
    "plt.xlabel('Propensity Score')\n",
    "plt.ylabel('Count')\n",
    "plt.legend()\n",
    "plt.title('Distribution of Propensity Scores')\n",
    "plt.show()"
   ]
  },
  {
   "cell_type": "markdown",
   "id": "30959804-f907-4a21-ae72-da32b4ea1aed",
   "metadata": {},
   "source": [
    "### 7. Optimized sample matching function"
   ]
  },
  {
   "cell_type": "code",
   "execution_count": 23,
   "id": "50440d86-5a1b-4242-b7f6-25c34bd3ff26",
   "metadata": {},
   "outputs": [],
   "source": [
    "def match_samples_optimized(df, caliper=0.2, n_jobs=-1):\n",
    "    treated = df[df['Internet_access_available'] == 1]\n",
    "    control = df[df['Internet_access_available'] == 0]\n",
    "    \n",
    "    # 使用NearestNeighbors进行快速匹配\n",
    "    nn = NearestNeighbors(n_neighbors=1, metric='euclidean', n_jobs=n_jobs)\n",
    "    nn.fit(control[['propensity_score']])\n",
    "    \n",
    "    distances, indices = nn.kneighbors(treated[['propensity_score']])\n",
    "    \n",
    "    # 向量化操作进行匹配\n",
    "    valid_matches = distances.flatten() < caliper\n",
    "    \n",
    "    matched_treated = treated[valid_matches]\n",
    "    matched_control = control.iloc[indices.flatten()[valid_matches]]\n",
    "    \n",
    "    # 合并匹配结果\n",
    "    matched_df = pd.concat([matched_treated, matched_control])\n",
    "    \n",
    "    return matched_df\n",
    "\n",
    "matched_df = match_samples_optimized(Df_new)"
   ]
  },
  {
   "cell_type": "markdown",
   "id": "a6ee418c-0fe9-48fc-ad73-34b346dfeb1a",
   "metadata": {},
   "source": [
    "### 8. Group analysis"
   ]
  },
  {
   "cell_type": "code",
   "execution_count": 24,
   "id": "846e7a3a-145d-4d6f-b915-7406b073a17a",
   "metadata": {},
   "outputs": [],
   "source": [
    "def train_and_analyze(df, internet_access):\n",
    "    subset = df[df['Internet_access_available'] == internet_access]\n",
    "    X = subset.drop(['Cantril_ladder', 'Internet_access_available', 'propensity_score'], axis=1)\n",
    "    y = subset['Cantril_ladder']\n",
    "    \n",
    "    X_train, X_test, y_train, y_test = train_test_split(X, y, test_size=0.1, random_state=42)\n",
    "    \n",
    "    model = XGBRegressor(objective='reg:squarederror', device = 'cuda', tree_method='hist', n_estimators=1000, \n",
    "                         learning_rate=0.01, max_depth=6, subsample=0.8, \n",
    "                         random_state=42)\n",
    "    model.fit(X_train, y_train)\n",
    "    \n",
    "    y_pred = model.predict(X_test)\n",
    "    r2 = r2_score(y_test, y_pred)\n",
    "    print(f\"R-squared score for {'Internet Access' if internet_access else 'No Internet Access'}: {r2:.4f}\")\n",
    "    \n",
    "    explainer = shap.TreeExplainer(model)\n",
    "    shap_values = explainer.shap_values(X_test)\n",
    "    \n",
    "    return model, shap_values, X_test"
   ]
  },
  {
   "cell_type": "code",
   "execution_count": 25,
   "id": "c294606c-a54d-4590-ab6a-cb7a035cf0b0",
   "metadata": {},
   "outputs": [],
   "source": [
    "# Train the models separately and get the SHAP values"
   ]
  },
  {
   "cell_type": "code",
   "execution_count": 26,
   "id": "372f4ef9-70fd-41bf-9c7d-277d86777ece",
   "metadata": {},
   "outputs": [
    {
     "name": "stdout",
     "output_type": "stream",
     "text": [
      "R-squared score for Internet Access: 0.3276\n",
      "R-squared score for No Internet Access: 0.4033\n"
     ]
    }
   ],
   "source": [
    "model_with_internet, shap_values_with, X_test_with = train_and_analyze(matched_df, 1)\n",
    "model_without_internet, shap_values_without, X_test_without = train_and_analyze(matched_df, 0)"
   ]
  },
  {
   "cell_type": "markdown",
   "id": "9ae98041-9707-4ecb-9505-6c5c78403f97",
   "metadata": {},
   "source": [
    "### 9. SHAP value analysis"
   ]
  },
  {
   "cell_type": "code",
   "execution_count": 27,
   "id": "1664624c-c2bd-4fd5-84f2-7c89f6ee31ee",
   "metadata": {},
   "outputs": [
    {
     "data": {
      "image/png": "[encoded data removed]",
      "text/plain": [
       "<Figure size 800x950 with 1 Axes>"
      ]
     },
     "metadata": {},
     "output_type": "display_data"
    }
   ],
   "source": [
    "plt.figure(figsize=(12, 8))\n",
    "shap.summary_plot(shap_values_with, X_test_with, plot_type=\"bar\", show=False)\n",
    "plt.title(\"Feature Importance for Internet Access Group\")\n",
    "plt.tight_layout()\n",
    "plt.show()"
   ]
  },
  {
   "cell_type": "code",
   "execution_count": 28,
   "id": "3a561c2e-a19b-49b9-8cec-86a5b762b749",
   "metadata": {},
   "outputs": [
    {
     "data": {
      "image/png": "[encoded data removed]",
      "text/plain": [
       "<Figure size 800x950 with 1 Axes>"
      ]
     },
     "metadata": {},
     "output_type": "display_data"
    }
   ],
   "source": [
    "plt.figure(figsize=(12, 8))\n",
    "shap.summary_plot(shap_values_without, X_test_without, plot_type=\"bar\", show=False)\n",
    "plt.title(\"Feature Importance for No Internet Access Group\")\n",
    "plt.tight_layout()\n",
    "plt.show()"
   ]
  },
  {
   "cell_type": "markdown",
   "id": "53dc9822-42d9-4b2a-9001-c6b945e520b7",
   "metadata": {},
   "source": [
    "### 10. Comparing variable effects"
   ]
  },
  {
   "cell_type": "code",
   "execution_count": 29,
   "id": "e39e3932-6bf8-444e-9cb9-eaddc48dcbec",
   "metadata": {},
   "outputs": [
    {
     "name": "stdout",
     "output_type": "stream",
     "text": [
      "Impact of INCOME_2 on Cantril_ladder:\n",
      "  With Internet Access: 0.2599\n",
      "  Without Internet Access: 0.2583\n",
      "  Difference: 0.0015\n",
      "Impact of Education on Cantril_ladder:\n",
      "  With Internet Access: 0.0481\n",
      "  Without Internet Access: 0.0740\n",
      "  Difference: -0.0259\n",
      "Impact of Age on Cantril_ladder:\n",
      "  With Internet Access: 0.0438\n",
      "  Without Internet Access: 0.0544\n",
      "  Difference: -0.0107\n",
      "Impact of Employment on Cantril_ladder:\n",
      "  With Internet Access: 0.0013\n",
      "  Without Internet Access: 0.0144\n",
      "  Difference: -0.0131\n",
      "Impact of Health_disable on Cantril_ladder:\n",
      "  With Internet Access: 0.0444\n",
      "  Without Internet Access: 0.0213\n",
      "  Difference: 0.0231\n",
      "Impact of Life_satisfaction on Cantril_ladder:\n",
      "  With Internet Access: 0.4531\n",
      "  Without Internet Access: 0.4493\n",
      "  Difference: 0.0038\n"
     ]
    }
   ],
   "source": [
    "def compare_variable_impact(variable_name):\n",
    "    impact_with = np.abs(shap_values_with[:, X_test_with.columns.get_loc(variable_name)]).mean()\n",
    "    impact_without = np.abs(shap_values_without[:, X_test_without.columns.get_loc(variable_name)]).mean()\n",
    "    \n",
    "    print(f\"Impact of {variable_name} on Cantril_ladder:\")\n",
    "    print(f\"  With Internet Access: {impact_with:.4f}\")\n",
    "    print(f\"  Without Internet Access: {impact_without:.4f}\")\n",
    "    print(f\"  Difference: {impact_with - impact_without:.4f}\")\n",
    "\n",
    "variables_of_interest = ['INCOME_2', 'Education', 'Age', 'Employment', 'Health_disable', 'Life_satisfaction']\n",
    "for var in variables_of_interest:\n",
    "    compare_variable_impact(var)"
   ]
  },
  {
   "cell_type": "markdown",
   "id": "72f9fe2c-132a-4966-9ad1-ed4f1185383c",
   "metadata": {},
   "source": [
    "### 11. Estimating the overall impact of Internet access"
   ]
  },
  {
   "cell_type": "code",
   "execution_count": 30,
   "id": "d20334c4-03df-4e66-ab64-81631223f96a",
   "metadata": {},
   "outputs": [
    {
     "name": "stdout",
     "output_type": "stream",
     "text": [
      "Estimated overall effect of internet access on Cantril_ladder: 0.2162\n"
     ]
    }
   ],
   "source": [
    "internet_effect = np.mean(matched_df[matched_df['Internet_access_available'] == 1]['Cantril_ladder']) - \\\n",
    "                  np.mean(matched_df[matched_df['Internet_access_available'] == 0]['Cantril_ladder'])\n",
    "print(f\"Estimated overall effect of internet access on Cantril_ladder: {internet_effect:.4f}\")"
   ]
  },
  {
   "cell_type": "code",
   "execution_count": null,
   "id": "b25f976c-88ba-4bfe-b5eb-90a3e4756130",
   "metadata": {},
   "outputs": [],
   "source": []
  }
 ],
 "metadata": {
  "kernelspec": {
   "display_name": "Python 3 (ipykernel)",
   "language": "python",
   "name": "python3"
  },
  "language_info": {
   "codemirror_mode": {
    "name": "ipython",
    "version": 3
   },
   "file_extension": ".py",
   "mimetype": "text/x-python",
   "name": "python",
   "nbconvert_exporter": "python",
   "pygments_lexer": "ipython3",
   "version": "3.9.19"
  }
 },
 "nbformat": 4,
 "nbformat_minor": 5
}
