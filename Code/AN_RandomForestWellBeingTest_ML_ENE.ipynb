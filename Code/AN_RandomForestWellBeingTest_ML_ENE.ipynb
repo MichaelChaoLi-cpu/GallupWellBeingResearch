{
 "cells": [
  {
   "cell_type": "markdown",
   "id": "93762d12-6fdd-4e46-bb6c-9714b6f55ed4",
   "metadata": {},
   "source": [
    "# Random Forest Test with Well-being"
   ]
  },
  {
   "cell_type": "code",
   "execution_count": 1,
   "id": "37e38839-0184-49f6-b042-519212e34230",
   "metadata": {},
   "outputs": [
    {
     "data": {
      "text/plain": [
       "'/Users/shibo/Desktop/GallupWellBeingGroup/Code'"
      ]
     },
     "execution_count": 1,
     "metadata": {},
     "output_type": "execute_result"
    }
   ],
   "source": [
    "%pwd"
   ]
  },
  {
   "cell_type": "code",
   "execution_count": 2,
   "id": "aeb33755-8671-40da-9443-2e9715273b63",
   "metadata": {},
   "outputs": [
    {
     "name": "stdout",
     "output_type": "stream",
     "text": [
      "/Users/shibo/Desktop/GallupWellBeingGroup\n"
     ]
    }
   ],
   "source": [
    "%cd .."
   ]
  },
  {
   "cell_type": "code",
   "execution_count": null,
   "id": "b2565ea8-31ec-449d-8ad9-5568e7d40cfd",
   "metadata": {},
   "outputs": [],
   "source": []
  },
  {
   "cell_type": "markdown",
   "id": "2f14be87-268b-4229-983d-8cb41dfc2296",
   "metadata": {},
   "source": [
    "## Import Package"
   ]
  },
  {
   "cell_type": "code",
   "execution_count": 3,
   "id": "af6ef393-fd32-42b6-aefe-7e0686a40901",
   "metadata": {},
   "outputs": [],
   "source": [
    "import os \n",
    "import pandas as pd\n",
    "from sklearn.ensemble import RandomForestRegressor\n",
    "from sklearn.linear_model import LinearRegression\n",
    "from sklearn.metrics import mean_squared_error, r2_score\n",
    "from sklearn.model_selection import train_test_split\n",
    "import xgboost as xgb"
   ]
  },
  {
   "cell_type": "code",
   "execution_count": 4,
   "id": "29220152-fecb-4076-9a50-8a6eae76bda5",
   "metadata": {},
   "outputs": [
    {
     "name": "stdout",
     "output_type": "stream",
     "text": [
      "Requirement already satisfied: xgboost in /opt/anaconda3/envs/MLlearning/lib/python3.9/site-packages (2.0.3)\n",
      "Requirement already satisfied: numpy in /opt/anaconda3/envs/MLlearning/lib/python3.9/site-packages (from xgboost) (1.26.4)\n",
      "Requirement already satisfied: scipy in /opt/anaconda3/envs/MLlearning/lib/python3.9/site-packages (from xgboost) (1.13.1)\n"
     ]
    }
   ],
   "source": [
    "!pip install xgboost"
   ]
  },
  {
   "cell_type": "markdown",
   "id": "58285882-dbf4-4265-8b82-77eabf953a13",
   "metadata": {},
   "source": [
    "## Fine Wash"
   ]
  },
  {
   "cell_type": "markdown",
   "id": "530c9c5a-3919-4cfe-893a-8d9bff2da19d",
   "metadata": {},
   "source": [
    "### Load Dataset"
   ]
  },
  {
   "cell_type": "code",
   "execution_count": 5,
   "id": "6c1929e6-a11b-477f-b941-f8cbc7ed00f9",
   "metadata": {},
   "outputs": [],
   "source": [
    "RawDataset_Filename = os.path.join(\"Data\", \"GallupWB_WashedRawData17Wave_v1.parquet\")"
   ]
  },
  {
   "cell_type": "code",
   "execution_count": 6,
   "id": "1fdf1caf-e6f9-4bd3-8b03-613a42e68490",
   "metadata": {},
   "outputs": [],
   "source": [
    "RawDataset = pd.read_parquet(RawDataset_Filename)"
   ]
  },
  {
   "cell_type": "code",
   "execution_count": 7,
   "id": "d3ea54de-5c7c-49eb-ab5f-c0bc0dd9bf0b",
   "metadata": {},
   "outputs": [
    {
     "data": {
      "text/plain": [
       "(2594089, 90)"
      ]
     },
     "execution_count": 7,
     "metadata": {},
     "output_type": "execute_result"
    }
   ],
   "source": [
    "RawDataset.shape"
   ]
  },
  {
   "cell_type": "code",
   "execution_count": 8,
   "id": "ba8e261a-7b3e-4232-afcf-14bc5fda9b89",
   "metadata": {},
   "outputs": [
    {
     "name": "stdout",
     "output_type": "stream",
     "text": [
      "('wave', 0)\n",
      "('COUNTRY_ISO3', 0)\n",
      "('INCOME_1', 420409)\n",
      "('INCOME_2', 423416)\n",
      "('INCOME_3', 420411)\n",
      "('INCOME_4', 423418)\n",
      "('INCOME_5', 419801)\n",
      "('INCOME_6', 2594089)\n",
      "('INCOME_7', 419841)\n",
      "('WP16', 14604)\n",
      "('WP18', 14603)\n",
      "('WP23', 123903)\n",
      "('WP27', 151900)\n",
      "('WP30', 129145)\n",
      "('WP31', 142727)\n",
      "('WP40', 52441)\n",
      "('WP43', 49598)\n",
      "('WP60', 86371)\n",
      "('WP61', 67376)\n",
      "('WP63', 104399)\n",
      "('WP65', 69390)\n",
      "('WP67', 74033)\n",
      "('WP68', 85721)\n",
      "('WP69', 82693)\n",
      "('WP70', 83895)\n",
      "('WP71', 184749)\n",
      "('WP74', 100720)\n",
      "('WP83', 185474)\n",
      "('WP85', 310161)\n",
      "('WP86', 240808)\n",
      "('WP19472', 1719188)\n",
      "('WP88', 262622)\n",
      "('WP89', 171021)\n",
      "('WP91', 198859)\n",
      "('WP92', 200973)\n",
      "('WP93', 145248)\n",
      "('WP94', 202990)\n",
      "('WP95', 201667)\n",
      "('WP96', 2594089)\n",
      "('WP97', 238617)\n",
      "('WP98', 231858)\n",
      "('WP10248', 710990)\n",
      "('WP103', 452880)\n",
      "('WP105', 545368)\n",
      "('WP106', 262574)\n",
      "('WP108', 189759)\n",
      "('WP109', 187253)\n",
      "('WP110', 193819)\n",
      "('WP111', 675056)\n",
      "('WP112', 419460)\n",
      "('WP113', 206175)\n",
      "('WP117', 268482)\n",
      "('WP118', 786324)\n",
      "('WP119', 291689)\n",
      "('WP129', 177618)\n",
      "('WP130', 156114)\n",
      "('WP9050', 731999)\n",
      "('WP131', 408916)\n",
      "('WP132', 218748)\n",
      "('WP134', 162829)\n",
      "('WP137', 503224)\n",
      "('WP138', 392723)\n",
      "('WP139', 426999)\n",
      "('WP141', 240493)\n",
      "('WP144', 461870)\n",
      "('WP10251', 790018)\n",
      "('WP145', 294340)\n",
      "('WP146', 401409)\n",
      "('WP150', 518606)\n",
      "('WP151', 347999)\n",
      "('WP153', 420278)\n",
      "('WP155', 452531)\n",
      "('WP156', 400767)\n",
      "('WP13125', 1158474)\n",
      "('WP1219', 22)\n",
      "('WP1220', 3306)\n",
      "('WP1223', 26119)\n",
      "('EMP_2010', 433208)\n",
      "('WP1230', 80157)\n",
      "('WP1233', 303845)\n",
      "('WP2319', 146446)\n",
      "('WP4657', 230088)\n",
      "('WP9042', 2467008)\n",
      "('WP9048', 2469606)\n",
      "('WP17625', 1287824)\n",
      "('WP17626', 1412789)\n",
      "('WP16056', 1478999)\n",
      "('WP15862', 1880708)\n",
      "('WP19544', 1824015)\n",
      "('WP3117', 77184)\n"
     ]
    }
   ],
   "source": [
    "nan_counts = RawDataset.isna().sum()\n",
    "for line in zip(RawDataset.columns, nan_counts):\n",
    "    print(line)"
   ]
  },
  {
   "cell_type": "markdown",
   "id": "7a243367-b00e-4819-a1d2-b57c1dd02df0",
   "metadata": {},
   "source": [
    "### wave"
   ]
  },
  {
   "cell_type": "code",
   "execution_count": 9,
   "id": "8f4ef7f6-230a-407a-932a-be63f57308d6",
   "metadata": {},
   "outputs": [
    {
     "data": {
      "text/plain": [
       "wave\n",
       "1.0     129972\n",
       "2.0     104831\n",
       "3.0     120443\n",
       "3.1       3568\n",
       "3.2       4141\n",
       "3.3       2592\n",
       "3.4       1758\n",
       "4.0      99664\n",
       "4.1      18074\n",
       "4.2      19164\n",
       "4.3       1147\n",
       "5.0     112702\n",
       "5.1      18141\n",
       "5.2      20013\n",
       "6.0     130614\n",
       "6.1      23134\n",
       "6.2      26258\n",
       "6.3       7224\n",
       "6.4       7157\n",
       "6.5       1077\n",
       "7.1     151720\n",
       "7.2      49465\n",
       "7.3      12879\n",
       "7.4      16019\n",
       "8.1     138673\n",
       "9.1     154205\n",
       "9.2      36143\n",
       "10.1    148232\n",
       "11.1    148724\n",
       "11.2      2000\n",
       "12.1    154166\n",
       "12.9      1000\n",
       "13.1    118922\n",
       "13.2     33952\n",
       "14.1    176253\n",
       "15.1    121207\n",
       "15.5      6350\n",
       "15.9      1917\n",
       "16.1    126902\n",
       "17.1    143686\n",
       "Name: count, dtype: int64"
      ]
     },
     "execution_count": 9,
     "metadata": {},
     "output_type": "execute_result"
    }
   ],
   "source": [
    "RawDataset['wave'].value_counts().sort_index()"
   ]
  },
  {
   "cell_type": "code",
   "execution_count": 10,
   "id": "027362ce-90ab-4652-b961-408d99f20c9a",
   "metadata": {},
   "outputs": [],
   "source": [
    "RawDataset['wave'] = RawDataset['wave'].astype(int)"
   ]
  },
  {
   "cell_type": "code",
   "execution_count": 11,
   "id": "9d556560-de8b-4893-ae32-cb20505bfef3",
   "metadata": {},
   "outputs": [
    {
     "data": {
      "text/plain": [
       "wave\n",
       "1     129972\n",
       "2     104831\n",
       "3     132502\n",
       "4     138049\n",
       "5     150856\n",
       "6     195464\n",
       "7     230083\n",
       "8     138673\n",
       "9     190348\n",
       "10    148232\n",
       "11    150724\n",
       "12    155166\n",
       "13    152874\n",
       "14    176253\n",
       "15    129474\n",
       "16    126902\n",
       "17    143686\n",
       "Name: count, dtype: int64"
      ]
     },
     "execution_count": 11,
     "metadata": {},
     "output_type": "execute_result"
    }
   ],
   "source": [
    "RawDataset['wave'].value_counts().sort_index()"
   ]
  },
  {
   "cell_type": "markdown",
   "id": "0873d909-74ad-49b1-b674-d7b4d9755ba8",
   "metadata": {},
   "source": [
    "### check elements"
   ]
  },
  {
   "cell_type": "code",
   "execution_count": 19,
   "id": "191ddc81-58c0-4c36-8e60-dc84e6abcd93",
   "metadata": {},
   "outputs": [
    {
     "data": {
      "text/plain": [
       "(2594089, 90)"
      ]
     },
     "execution_count": 19,
     "metadata": {},
     "output_type": "execute_result"
    }
   ],
   "source": [
    "RawDataset.shape"
   ]
  },
  {
   "cell_type": "code",
   "execution_count": 13,
   "id": "549e2e0e-ea1e-4de1-8c10-b93c83d9a17c",
   "metadata": {
    "scrolled": true
   },
   "outputs": [
    {
     "name": "stdout",
     "output_type": "stream",
     "text": [
      "0    1.0\n",
      "1    1.0\n",
      "2    1.0\n",
      "3    1.0\n",
      "4    1.0\n",
      "Name: WP67, dtype: float64\n"
     ]
    }
   ],
   "source": [
    "print(RawDataset['WP67'].head())"
   ]
  },
  {
   "cell_type": "markdown",
   "id": "6497b1fa-d843-459f-934a-d9452fa13115",
   "metadata": {},
   "source": [
    "### Filter rows"
   ]
  },
  {
   "cell_type": "code",
   "execution_count": 16,
   "id": "c8c63b3a-1b14-485e-a39c-0796124a34a3",
   "metadata": {},
   "outputs": [],
   "source": [
    "Droped_datasetdf = RawDataset.drop(columns=['WP27','WP85','WP86','WP103','WP105','WP106','WP111','WP117','WP118','WP119',\n",
    "                     'WP131','WP137','WP138','WP139','WP141','WP144','WP10251','WP145','WP146','WP150'\n",
    "                     ,'WP151','WP153','WP155','WP156','WP13125','WP1230','WP1233','WP4657',\n",
    "                     'WP9042','WP9048','WP17625'])"
   ]
  },
  {
   "cell_type": "code",
   "execution_count": 17,
   "id": "766ae3b0-e6ef-4ec7-8a1d-41db7d3ea887",
   "metadata": {},
   "outputs": [
    {
     "data": {
      "text/plain": [
       "(2594089, 59)"
      ]
     },
     "execution_count": 17,
     "metadata": {},
     "output_type": "execute_result"
    }
   ],
   "source": [
    "Droped_datasetdf.shape"
   ]
  },
  {
   "cell_type": "code",
   "execution_count": 28,
   "id": "110c50b2-ca60-4322-be2b-860b620eb43e",
   "metadata": {},
   "outputs": [
    {
     "name": "stdout",
     "output_type": "stream",
     "text": [
      "0     1.0\n",
      "1     2.0\n",
      "2     1.0\n",
      "3     1.0\n",
      "4     2.0\n",
      "5     2.0\n",
      "6     1.0\n",
      "7     2.0\n",
      "8     2.0\n",
      "9     1.0\n",
      "10    1.0\n",
      "11    2.0\n",
      "12    1.0\n",
      "13    1.0\n",
      "14    2.0\n",
      "15    2.0\n",
      "16    2.0\n",
      "17    1.0\n",
      "18    1.0\n",
      "19    2.0\n",
      "20    1.0\n",
      "21    1.0\n",
      "22    2.0\n",
      "23    1.0\n",
      "24    1.0\n",
      "25    1.0\n",
      "26    1.0\n",
      "27    1.0\n",
      "28    1.0\n",
      "29    1.0\n",
      "30    1.0\n",
      "31    1.0\n",
      "32    2.0\n",
      "33    1.0\n",
      "34    2.0\n",
      "35    2.0\n",
      "36    1.0\n",
      "37    1.0\n",
      "38    3.0\n",
      "39    1.0\n",
      "40    2.0\n",
      "41    2.0\n",
      "42    1.0\n",
      "43    1.0\n",
      "44    2.0\n",
      "45    2.0\n",
      "46    1.0\n",
      "47    1.0\n",
      "48    1.0\n",
      "49    1.0\n",
      "Name: WP129, dtype: float64\n"
     ]
    }
   ],
   "source": [
    "print(Droped_datasetdf['WP129'].head(50))"
   ]
  },
  {
   "cell_type": "code",
   "execution_count": 31,
   "id": "8cfc2274-2c83-43f8-a9fc-2be4205df693",
   "metadata": {},
   "outputs": [
    {
     "name": "stderr",
     "output_type": "stream",
     "text": [
      "/var/folders/_z/l4bh9x2d7_q8069ftw3jb2cr0000gn/T/ipykernel_20805/3302984581.py:5: FutureWarning: DataFrame.applymap has been deprecated. Use DataFrame.map instead.\n",
      "  Droped_datasetdf[columns_to_update] = Droped_datasetdf[columns_to_update].applymap(lambda x: 2 if x not in [1, 2] else x)\n"
     ]
    }
   ],
   "source": [
    "columns_to_update = ['WP23', 'WP30', 'WP40', 'WP43', 'WP60', 'WP61', 'WP63', 'WP65', 'WP67', 'WP68', 'WP69', 'WP70',\n",
    "                     'WP71', 'WP74', 'WP83', 'WP89', 'WP91', 'WP92', 'WP93', 'WP94', 'WP95', 'WP97', 'WP98', 'WP10248',\n",
    "                     'WP108', 'WP109', 'WP110', 'WP112', 'WP113', 'WP129', 'WP130', 'WP9050', 'WP132', 'WP134', 'WP17626',\n",
    "                     'WP16056', 'WP15862', 'WP19544']\n",
    "Droped_datasetdf[columns_to_update] = Droped_datasetdf[columns_to_update].applymap(lambda x: 2 if x not in [1, 2] else x)"
   ]
  },
  {
   "cell_type": "code",
   "execution_count": 32,
   "id": "5cd14a03-5ed2-4d4c-85d0-05b14c0d4b06",
   "metadata": {},
   "outputs": [
    {
     "name": "stdout",
     "output_type": "stream",
     "text": [
      "0     1.0\n",
      "1     2.0\n",
      "2     1.0\n",
      "3     1.0\n",
      "4     2.0\n",
      "5     2.0\n",
      "6     1.0\n",
      "7     2.0\n",
      "8     2.0\n",
      "9     1.0\n",
      "10    1.0\n",
      "11    2.0\n",
      "12    1.0\n",
      "13    1.0\n",
      "14    2.0\n",
      "15    2.0\n",
      "16    2.0\n",
      "17    1.0\n",
      "18    1.0\n",
      "19    2.0\n",
      "20    1.0\n",
      "21    1.0\n",
      "22    2.0\n",
      "23    1.0\n",
      "24    1.0\n",
      "25    1.0\n",
      "26    1.0\n",
      "27    1.0\n",
      "28    1.0\n",
      "29    1.0\n",
      "30    1.0\n",
      "31    1.0\n",
      "32    2.0\n",
      "33    1.0\n",
      "34    2.0\n",
      "35    2.0\n",
      "36    1.0\n",
      "37    1.0\n",
      "38    2.0\n",
      "39    1.0\n",
      "40    2.0\n",
      "41    2.0\n",
      "42    1.0\n",
      "43    1.0\n",
      "44    2.0\n",
      "45    2.0\n",
      "46    1.0\n",
      "47    1.0\n",
      "48    1.0\n",
      "49    1.0\n",
      "Name: WP129, dtype: float64\n"
     ]
    }
   ],
   "source": [
    "print(Droped_datasetdf['WP129'].head(50))"
   ]
  },
  {
   "cell_type": "code",
   "execution_count": 33,
   "id": "b9e3fdec-0ed2-4209-b46b-6c442b8d8a9a",
   "metadata": {},
   "outputs": [
    {
     "name": "stdout",
     "output_type": "stream",
     "text": [
      "0     2.0\n",
      "1     2.0\n",
      "2     1.0\n",
      "3     2.0\n",
      "4     1.0\n",
      "5     1.0\n",
      "6     1.0\n",
      "7     2.0\n",
      "8     1.0\n",
      "9     2.0\n",
      "10    1.0\n",
      "11    3.0\n",
      "12    1.0\n",
      "13    1.0\n",
      "14    1.0\n",
      "15    2.0\n",
      "16    1.0\n",
      "17    1.0\n",
      "18    2.0\n",
      "19    2.0\n",
      "20    1.0\n",
      "21    1.0\n",
      "22    1.0\n",
      "23    1.0\n",
      "24    1.0\n",
      "25    1.0\n",
      "26    1.0\n",
      "27    3.0\n",
      "28    3.0\n",
      "29    3.0\n",
      "30    3.0\n",
      "31    2.0\n",
      "32    1.0\n",
      "33    1.0\n",
      "34    1.0\n",
      "35    1.0\n",
      "36    1.0\n",
      "37    2.0\n",
      "38    2.0\n",
      "39    1.0\n",
      "40    3.0\n",
      "41    2.0\n",
      "42    3.0\n",
      "43    3.0\n",
      "44    1.0\n",
      "45    3.0\n",
      "46    2.0\n",
      "47    3.0\n",
      "48    1.0\n",
      "49    3.0\n",
      "Name: WP31, dtype: float64\n"
     ]
    }
   ],
   "source": [
    "print(Droped_datasetdf['WP31'].head(50))"
   ]
  },
  {
   "cell_type": "code",
   "execution_count": 34,
   "id": "66d34b59-0a05-44c7-aeb6-38503521761d",
   "metadata": {
    "scrolled": true
   },
   "outputs": [
    {
     "name": "stderr",
     "output_type": "stream",
     "text": [
      "/var/folders/_z/l4bh9x2d7_q8069ftw3jb2cr0000gn/T/ipykernel_20805/4047711800.py:2: FutureWarning: DataFrame.applymap has been deprecated. Use DataFrame.map instead.\n",
      "  Droped_datasetdf[columns_to_update] = Droped_datasetdf[columns_to_update].applymap(lambda x: 2 if x not in [1, 2, 3] else x)\n"
     ]
    }
   ],
   "source": [
    "columns_to_update = ['WP31','WP88']\n",
    "Droped_datasetdf[columns_to_update] = Droped_datasetdf[columns_to_update].applymap(lambda x: 2 if x not in [1, 2, 3] else x)"
   ]
  },
  {
   "cell_type": "code",
   "execution_count": 36,
   "id": "53e9cfb1-79ac-486f-8be4-bb69b655243d",
   "metadata": {},
   "outputs": [],
   "source": [
    "Droped_datasetdf = Droped_datasetdf[~((Droped_datasetdf['WP16'].isin([98, 99])) | (Droped_datasetdf['WP18'].isin([98, 99])))]\n",
    "\n",
    "# Reset index (optional)\n",
    "Droped_datasetdf.reset_index(drop=True, inplace=True)"
   ]
  },
  {
   "cell_type": "code",
   "execution_count": 37,
   "id": "98dcd236-1626-46a3-b47a-cd8c426cd866",
   "metadata": {},
   "outputs": [
    {
     "data": {
      "text/plain": [
       "(2366009, 59)"
      ]
     },
     "execution_count": 37,
     "metadata": {},
     "output_type": "execute_result"
    }
   ],
   "source": [
    "Droped_datasetdf.shape"
   ]
  },
  {
   "cell_type": "code",
   "execution_count": null,
   "id": "fad74c72-d249-4c6f-b7fc-dd9fc998fc80",
   "metadata": {},
   "outputs": [],
   "source": []
  },
  {
   "cell_type": "code",
   "execution_count": null,
   "id": "f95ff787-98d9-46ed-9b33-57aa529e273c",
   "metadata": {},
   "outputs": [],
   "source": []
  },
  {
   "cell_type": "code",
   "execution_count": null,
   "id": "0734816c-3ad5-4b18-9979-032573895c34",
   "metadata": {},
   "outputs": [],
   "source": []
  },
  {
   "cell_type": "code",
   "execution_count": null,
   "id": "f32e0fe2-4e83-46c8-8fd3-d25278f0bcb9",
   "metadata": {},
   "outputs": [],
   "source": []
  },
  {
   "cell_type": "code",
   "execution_count": null,
   "id": "8cae3aa9-972a-4abc-bddc-df38ad219792",
   "metadata": {},
   "outputs": [],
   "source": []
  },
  {
   "cell_type": "code",
   "execution_count": null,
   "id": "150d1ca5-11b9-44f8-91ee-e993e24a65cc",
   "metadata": {},
   "outputs": [],
   "source": []
  },
  {
   "cell_type": "code",
   "execution_count": null,
   "id": "3dd2125b-7d14-4ebd-9eb4-d6e7c699b8f2",
   "metadata": {},
   "outputs": [],
   "source": []
  },
  {
   "cell_type": "code",
   "execution_count": null,
   "id": "e2d2833c-7245-499b-b2f4-86c835e75191",
   "metadata": {},
   "outputs": [],
   "source": []
  },
  {
   "cell_type": "code",
   "execution_count": null,
   "id": "39db911b-50cb-4bef-b4aa-6075f5a9e5b1",
   "metadata": {},
   "outputs": [],
   "source": []
  }
 ],
 "metadata": {
  "kernelspec": {
   "display_name": "Python 3 (ipykernel)",
   "language": "python",
   "name": "python3"
  },
  "language_info": {
   "codemirror_mode": {
    "name": "ipython",
    "version": 3
   },
   "file_extension": ".py",
   "mimetype": "text/x-python",
   "name": "python",
   "nbconvert_exporter": "python",
   "pygments_lexer": "ipython3",
   "version": "3.9.19"
  }
 },
 "nbformat": 4,
 "nbformat_minor": 5
}
