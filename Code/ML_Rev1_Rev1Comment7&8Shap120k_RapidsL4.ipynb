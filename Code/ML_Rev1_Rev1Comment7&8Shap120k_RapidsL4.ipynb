{
 "cells": [
  {
   "cell_type": "markdown",
   "id": "504d526a-0dda-4a0e-ab70-585282a47aed",
   "metadata": {},
   "source": [
    "# SHAP Values for XGB With All Age Data"
   ]
  },
  {
   "cell_type": "code",
   "execution_count": 1,
   "id": "4b06de61-c5dd-4078-ad87-6543642794ef",
   "metadata": {},
   "outputs": [
    {
     "data": {
      "text/plain": [
       "'/home/GPU/ML_GallupWellBeingResearch/Code'"
      ]
     },
     "execution_count": 1,
     "metadata": {},
     "output_type": "execute_result"
    }
   ],
   "source": [
    "%pwd"
   ]
  },
  {
   "cell_type": "code",
   "execution_count": 2,
   "id": "982beaa9-7536-451e-a7b6-916414670143",
   "metadata": {},
   "outputs": [
    {
     "name": "stdout",
     "output_type": "stream",
     "text": [
      "/home/GPU/ML_GallupWellBeingResearch\n"
     ]
    },
    {
     "name": "stderr",
     "output_type": "stream",
     "text": [
      "/home/GPU/miniconda3/envs/rapids-24.06/lib/python3.9/site-packages/IPython/core/magics/osm.py:417: UserWarning: using dhist requires you to install the `pickleshare` library.\n",
      "  self.shell.db['dhist'] = compress_dhist(dhist)[-100:]\n"
     ]
    }
   ],
   "source": [
    "%cd .."
   ]
  },
  {
   "cell_type": "code",
   "execution_count": null,
   "id": "01591184-a2fb-4206-b8c6-ab4e91b5749d",
   "metadata": {},
   "outputs": [],
   "source": []
  },
  {
   "cell_type": "markdown",
   "id": "a806b0a7-54ff-4e4b-adad-b29404421d00",
   "metadata": {},
   "source": [
    "## Import Package"
   ]
  },
  {
   "cell_type": "code",
   "execution_count": 3,
   "id": "23c1844c-d0e7-4d02-811a-17f13dd8bff2",
   "metadata": {},
   "outputs": [],
   "source": [
    "import matplotlib.pyplot as plt\n",
    "from joblib import dump, load\n",
    "import os \n",
    "import pandas as pd\n",
    "#import shap\n",
    "from sklearn.metrics import mean_squared_error, r2_score\n",
    "from sklearn.model_selection import train_test_split, KFold, cross_val_score\n",
    "from sklearn.preprocessing import LabelEncoder\n",
    "import xgboost as xgb"
   ]
  },
  {
   "cell_type": "code",
   "execution_count": 4,
   "id": "4305286a-ea1f-4f80-8014-d8e028b4e3bf",
   "metadata": {},
   "outputs": [
    {
     "data": {
      "text/plain": [
       "'2.0.3'"
      ]
     },
     "execution_count": 4,
     "metadata": {},
     "output_type": "execute_result"
    }
   ],
   "source": [
    "xgb.__version__"
   ]
  },
  {
   "cell_type": "code",
   "execution_count": 5,
   "id": "8dc72c67-d436-45f0-a927-3be72ba46ae5",
   "metadata": {},
   "outputs": [],
   "source": [
    "from cuml.explainer import KernelExplainer"
   ]
  },
  {
   "cell_type": "code",
   "execution_count": 6,
   "id": "79fcf217-70af-4aee-a873-225e4c141bc5",
   "metadata": {},
   "outputs": [],
   "source": [
    "import cudf"
   ]
  },
  {
   "cell_type": "code",
   "execution_count": 7,
   "id": "6c4d861d-c01e-4ab8-b21f-9db671608299",
   "metadata": {},
   "outputs": [],
   "source": [
    "import warnings\n",
    "\n",
    "warnings.filterwarnings('ignore', category=UserWarning)"
   ]
  },
  {
   "cell_type": "markdown",
   "id": "11e0ed37-7294-479e-b042-c9a90f37aa2b",
   "metadata": {},
   "source": [
    "## SHAP "
   ]
  },
  {
   "cell_type": "markdown",
   "id": "6991d3d1-38c1-4ccb-8bf2-1de6d05e4623",
   "metadata": {},
   "source": [
    "### load data and hyperparameter"
   ]
  },
  {
   "cell_type": "code",
   "execution_count": 8,
   "id": "6ee3773e",
   "metadata": {},
   "outputs": [],
   "source": [
    "hyper_dict = {'gamma': 0.001035679916752757,\n",
    " 'learning_rate': 0.030918808165467035,\n",
    " 'max_delta_step': 0.3824267566556339,\n",
    " 'max_depth': 11,\n",
    " 'min_child_weight': 0.16747411396464854,\n",
    " 'n_estimators': 2441,\n",
    " 'reg_alpha': 1.1240879648711004,\n",
    " 'reg_lambda': 0.006725578387643221,\n",
    " 'subsample': 0.653416651975892}"
   ]
  },
  {
   "cell_type": "code",
   "execution_count": 9,
   "id": "553f9f14-deb8-49da-a06a-6e5d27a37eca",
   "metadata": {},
   "outputs": [],
   "source": [
    "Df_Filename = os.path.join(\"Data\", \"GallupWB_Ml64var1911k14wave_v1.parquet\")"
   ]
  },
  {
   "cell_type": "code",
   "execution_count": 10,
   "id": "fb0e18c9-2e3d-44d1-b188-ab3634331503",
   "metadata": {},
   "outputs": [],
   "source": [
    "Df = pd.read_parquet(Df_Filename)"
   ]
  },
  {
   "cell_type": "code",
   "execution_count": 11,
   "id": "fade618a-c0af-4d90-b0eb-fcea8c3e0971",
   "metadata": {},
   "outputs": [],
   "source": [
    "#Df['COUNTRY_ISO3'] = Df['COUNTRY_ISO3'].astype('category')\n",
    "label_encoder = LabelEncoder()\n",
    "Df['COUNTRY_ISO3'] = label_encoder.fit_transform(Df['COUNTRY_ISO3'])"
   ]
  },
  {
   "cell_type": "code",
   "execution_count": 12,
   "id": "7d156294-1cb6-4ff1-830b-44489f432a28",
   "metadata": {},
   "outputs": [
    {
     "data": {
      "text/plain": [
       "count    1.911212e+06\n",
       "mean     7.819511e+01\n",
       "std      4.666500e+01\n",
       "min      0.000000e+00\n",
       "25%      3.800000e+01\n",
       "50%      7.400000e+01\n",
       "75%      1.180000e+02\n",
       "max      1.630000e+02\n",
       "Name: COUNTRY_ISO3, dtype: float64"
      ]
     },
     "execution_count": 12,
     "metadata": {},
     "output_type": "execute_result"
    }
   ],
   "source": [
    "Df['COUNTRY_ISO3'].describe()"
   ]
  },
  {
   "cell_type": "code",
   "execution_count": 13,
   "id": "3eb6a882-121f-4193-8967-b3fe0b58aa34",
   "metadata": {},
   "outputs": [],
   "source": [
    "Df = Df.sample(frac=1, random_state=42).reset_index(drop=True)"
   ]
  },
  {
   "cell_type": "code",
   "execution_count": 14,
   "id": "5459acdb-3d26-402e-a500-904f5f8a33be",
   "metadata": {},
   "outputs": [],
   "source": [
    "ytot = Df['Cantril_ladder']"
   ]
  },
  {
   "cell_type": "code",
   "execution_count": 15,
   "id": "17d9806c-3725-49e4-a076-8787b4a82d2b",
   "metadata": {},
   "outputs": [],
   "source": [
    "Xtot = Df.drop(columns=['Cantril_ladder'])"
   ]
  },
  {
   "cell_type": "code",
   "execution_count": null,
   "id": "4f8770a6-1b2f-41e7-b549-68a8ff7bd27e",
   "metadata": {},
   "outputs": [],
   "source": []
  },
  {
   "cell_type": "markdown",
   "id": "b3704a3b-80bd-439e-b358-9e87468c6496",
   "metadata": {},
   "source": [
    "### Shap Computation"
   ]
  },
  {
   "cell_type": "code",
   "execution_count": 17,
   "id": "5b44d345-19dc-4c3e-849b-a0a558f12d82",
   "metadata": {},
   "outputs": [],
   "source": [
    "kf = KFold(n_splits=10, shuffle=True, random_state=42)"
   ]
  },
  {
   "cell_type": "code",
   "execution_count": 18,
   "id": "1eb7701b-8e6f-4f23-81c2-cf66d5181c32",
   "metadata": {
    "scrolled": true
   },
   "outputs": [
    {
     "name": "stdout",
     "output_type": "stream",
     "text": [
      "This is 1 fold\n",
      "(100, 63)\n"
     ]
    },
    {
     "name": "stderr",
     "output_type": "stream",
     "text": [
      "/home/GPU/miniconda3/envs/rapids-24.06/lib/python3.9/site-packages/xgboost/data.py:849: FutureWarning: Index.format is deprecated and will be removed in a future version. Convert using index.astype(str) or index.map(formatter) instead.\n",
      "  feature_names = data.columns.format()\n"
     ]
    },
    {
     "name": "stdout",
     "output_type": "stream",
     "text": [
      "model done\n",
      "here10000:11000\n",
      "CPU times: user 24min 43s, sys: 11.9 s, total: 24min 55s\n",
      "Wall time: 9min 19s\n",
      "here11000:12000\n",
      "CPU times: user 24min 52s, sys: 11.9 s, total: 25min 4s\n",
      "Wall time: 9min 19s\n",
      "here12000:13000\n",
      "CPU times: user 24min 43s, sys: 11.7 s, total: 24min 55s\n",
      "Wall time: 9min 20s\n",
      "here13000:14000\n",
      "CPU times: user 24min 49s, sys: 11.8 s, total: 25min\n",
      "Wall time: 9min 20s\n",
      "here14000:15000\n",
      "CPU times: user 24min 54s, sys: 11.8 s, total: 25min 6s\n",
      "Wall time: 9min 21s\n",
      "here15000:16000\n",
      "CPU times: user 24min 46s, sys: 11.6 s, total: 24min 58s\n",
      "Wall time: 9min 19s\n",
      "here16000:17000\n",
      "CPU times: user 24min 45s, sys: 11.6 s, total: 24min 57s\n",
      "Wall time: 9min 19s\n",
      "here17000:18000\n",
      "CPU times: user 24min 44s, sys: 11.5 s, total: 24min 55s\n",
      "Wall time: 9min 19s\n",
      "here18000:19000\n",
      "CPU times: user 25min 1s, sys: 11.8 s, total: 25min 13s\n",
      "Wall time: 9min 22s\n",
      "here19000:20000\n",
      "CPU times: user 24min 52s, sys: 11.4 s, total: 25min 3s\n",
      "Wall time: 9min 20s\n",
      "here20000:21000\n",
      "CPU times: user 24min 53s, sys: 11.9 s, total: 25min 5s\n",
      "Wall time: 9min 20s\n",
      "here21000:22000\n",
      "CPU times: user 24min 47s, sys: 11.4 s, total: 24min 58s\n",
      "Wall time: 9min 20s\n",
      "here22000:23000\n",
      "CPU times: user 49min 2s, sys: 12.1 s, total: 49min 14s\n",
      "Wall time: 13min 50s\n",
      "here23000:24000\n",
      "CPU times: user 28min 48s, sys: 11.7 s, total: 29min\n",
      "Wall time: 10min 1s\n",
      "here24000:25000\n",
      "CPU times: user 24min 42s, sys: 11.7 s, total: 24min 54s\n",
      "Wall time: 9min 20s\n",
      "here25000:26000\n",
      "CPU times: user 24min 44s, sys: 11.6 s, total: 24min 55s\n",
      "Wall time: 9min 20s\n",
      "here26000:27000\n",
      "CPU times: user 24min 50s, sys: 11.3 s, total: 25min 1s\n",
      "Wall time: 9min 21s\n",
      "here27000:28000\n",
      "CPU times: user 24min 38s, sys: 11.6 s, total: 24min 49s\n",
      "Wall time: 9min 20s\n",
      "here28000:29000\n",
      "CPU times: user 24min 46s, sys: 11.6 s, total: 24min 57s\n",
      "Wall time: 9min 20s\n",
      "here29000:30000\n",
      "CPU times: user 24min 38s, sys: 11.4 s, total: 24min 50s\n",
      "Wall time: 9min 20s\n",
      "here30000:31000\n",
      "CPU times: user 24min 43s, sys: 11.7 s, total: 24min 55s\n",
      "Wall time: 9min 20s\n",
      "here31000:32000\n",
      "CPU times: user 24min 48s, sys: 11.6 s, total: 25min\n",
      "Wall time: 9min 20s\n",
      "here32000:33000\n",
      "CPU times: user 24min 48s, sys: 11.8 s, total: 25min\n",
      "Wall time: 9min 21s\n",
      "here33000:34000\n",
      "CPU times: user 24min 55s, sys: 11.7 s, total: 25min 7s\n",
      "Wall time: 9min 21s\n",
      "here34000:35000\n",
      "CPU times: user 24min 52s, sys: 11.4 s, total: 25min 4s\n",
      "Wall time: 9min 21s\n",
      "here35000:36000\n",
      "CPU times: user 24min 44s, sys: 11.8 s, total: 24min 56s\n",
      "Wall time: 9min 20s\n",
      "here36000:37000\n",
      "CPU times: user 24min 56s, sys: 11.6 s, total: 25min 8s\n",
      "Wall time: 9min 20s\n",
      "here37000:38000\n",
      "CPU times: user 24min 59s, sys: 11.4 s, total: 25min 11s\n",
      "Wall time: 9min 21s\n",
      "here38000:39000\n",
      "CPU times: user 24min 47s, sys: 11.7 s, total: 24min 59s\n",
      "Wall time: 9min 20s\n",
      "here39000:40000\n",
      "CPU times: user 24min 51s, sys: 11.3 s, total: 25min 3s\n",
      "Wall time: 9min 20s\n",
      "here40000:41000\n",
      "CPU times: user 24min 42s, sys: 11.4 s, total: 24min 53s\n",
      "Wall time: 9min 20s\n",
      "here41000:42000\n",
      "CPU times: user 24min 50s, sys: 11.9 s, total: 25min 2s\n",
      "Wall time: 9min 21s\n",
      "here42000:43000\n",
      "CPU times: user 24min 46s, sys: 11.5 s, total: 24min 58s\n",
      "Wall time: 9min 20s\n",
      "here43000:44000\n",
      "CPU times: user 24min 39s, sys: 11.5 s, total: 24min 50s\n",
      "Wall time: 9min 20s\n",
      "here44000:45000\n",
      "CPU times: user 24min 44s, sys: 11.4 s, total: 24min 55s\n",
      "Wall time: 9min 21s\n",
      "here45000:46000\n",
      "CPU times: user 24min 55s, sys: 11.5 s, total: 25min 7s\n",
      "Wall time: 9min 22s\n",
      "here46000:47000\n",
      "CPU times: user 24min 43s, sys: 11.6 s, total: 24min 55s\n",
      "Wall time: 9min 20s\n",
      "here47000:48000\n",
      "CPU times: user 24min 42s, sys: 11.9 s, total: 24min 53s\n",
      "Wall time: 9min 20s\n",
      "here48000:49000\n",
      "CPU times: user 24min 53s, sys: 11.6 s, total: 25min 5s\n",
      "Wall time: 9min 21s\n",
      "here49000:50000\n",
      "CPU times: user 24min 51s, sys: 11.8 s, total: 25min 3s\n",
      "Wall time: 9min 21s\n",
      "here50000:51000\n",
      "CPU times: user 24min 52s, sys: 11.7 s, total: 25min 3s\n",
      "Wall time: 9min 20s\n",
      "here51000:52000\n",
      "CPU times: user 24min 49s, sys: 11.3 s, total: 25min\n",
      "Wall time: 9min 20s\n",
      "here52000:53000\n",
      "CPU times: user 24min 56s, sys: 11.7 s, total: 25min 8s\n",
      "Wall time: 9min 21s\n",
      "here53000:54000\n",
      "CPU times: user 24min 48s, sys: 11.8 s, total: 25min\n",
      "Wall time: 9min 21s\n",
      "here54000:55000\n",
      "CPU times: user 24min 39s, sys: 11.5 s, total: 24min 50s\n",
      "Wall time: 9min 19s\n",
      "here55000:56000\n",
      "CPU times: user 24min 47s, sys: 11.9 s, total: 24min 59s\n",
      "Wall time: 9min 20s\n",
      "here56000:57000\n",
      "CPU times: user 24min 53s, sys: 11.6 s, total: 25min 5s\n",
      "Wall time: 9min 21s\n",
      "here57000:58000\n",
      "CPU times: user 24min 43s, sys: 11.5 s, total: 24min 54s\n",
      "Wall time: 9min 19s\n",
      "here58000:59000\n",
      "CPU times: user 24min 43s, sys: 11.7 s, total: 24min 55s\n",
      "Wall time: 9min 20s\n",
      "here59000:60000\n",
      "CPU times: user 24min 49s, sys: 11.6 s, total: 25min\n",
      "Wall time: 9min 20s\n",
      "here60000:61000\n",
      "CPU times: user 24min 53s, sys: 11.6 s, total: 25min 5s\n",
      "Wall time: 9min 21s\n",
      "here61000:62000\n",
      "CPU times: user 24min 47s, sys: 11.6 s, total: 24min 59s\n",
      "Wall time: 9min 20s\n",
      "here62000:63000\n",
      "CPU times: user 24min 58s, sys: 11.6 s, total: 25min 10s\n",
      "Wall time: 9min 22s\n",
      "here63000:64000\n",
      "CPU times: user 24min 28s, sys: 11.7 s, total: 24min 39s\n",
      "Wall time: 9min 19s\n",
      "here64000:65000\n",
      "CPU times: user 24min 48s, sys: 11.6 s, total: 25min\n",
      "Wall time: 9min 21s\n",
      "here65000:66000\n",
      "CPU times: user 24min 57s, sys: 11.3 s, total: 25min 8s\n",
      "Wall time: 9min 21s\n",
      "here66000:67000\n",
      "CPU times: user 24min 53s, sys: 11.7 s, total: 25min 4s\n",
      "Wall time: 9min 21s\n",
      "here67000:68000\n",
      "CPU times: user 24min 56s, sys: 11.6 s, total: 25min 7s\n",
      "Wall time: 9min 22s\n",
      "here68000:69000\n",
      "CPU times: user 24min 39s, sys: 11.5 s, total: 24min 50s\n",
      "Wall time: 9min 20s\n",
      "here69000:70000\n",
      "CPU times: user 24min 51s, sys: 11.6 s, total: 25min 3s\n",
      "Wall time: 9min 21s\n",
      "here70000:71000\n",
      "CPU times: user 24min 57s, sys: 11.7 s, total: 25min 9s\n",
      "Wall time: 9min 21s\n",
      "here71000:72000\n",
      "CPU times: user 24min 55s, sys: 11.5 s, total: 25min 7s\n",
      "Wall time: 9min 20s\n",
      "here72000:73000\n",
      "CPU times: user 24min 47s, sys: 11.5 s, total: 24min 58s\n",
      "Wall time: 9min 20s\n",
      "here73000:74000\n",
      "CPU times: user 24min 56s, sys: 11.8 s, total: 25min 7s\n",
      "Wall time: 9min 21s\n",
      "here74000:75000\n",
      "CPU times: user 24min 40s, sys: 12 s, total: 24min 52s\n",
      "Wall time: 9min 21s\n",
      "here75000:76000\n",
      "CPU times: user 24min 49s, sys: 11.6 s, total: 25min\n",
      "Wall time: 9min 20s\n",
      "here76000:77000\n",
      "CPU times: user 24min 51s, sys: 11.5 s, total: 25min 3s\n",
      "Wall time: 9min 21s\n",
      "here77000:78000\n",
      "CPU times: user 24min 52s, sys: 11.5 s, total: 25min 4s\n",
      "Wall time: 9min 21s\n",
      "here78000:79000\n",
      "CPU times: user 24min 44s, sys: 11.4 s, total: 24min 55s\n",
      "Wall time: 9min 21s\n",
      "here79000:80000\n",
      "CPU times: user 24min 57s, sys: 11.6 s, total: 25min 9s\n",
      "Wall time: 9min 22s\n",
      "here80000:81000\n",
      "CPU times: user 24min 55s, sys: 11.5 s, total: 25min 7s\n",
      "Wall time: 9min 21s\n",
      "here81000:82000\n",
      "CPU times: user 24min 32s, sys: 11.7 s, total: 24min 43s\n",
      "Wall time: 9min 19s\n",
      "here82000:83000\n",
      "CPU times: user 24min 37s, sys: 11.6 s, total: 24min 49s\n",
      "Wall time: 9min 19s\n",
      "here83000:84000\n",
      "CPU times: user 24min 45s, sys: 11.7 s, total: 24min 57s\n",
      "Wall time: 9min 20s\n",
      "here84000:85000\n",
      "CPU times: user 24min 45s, sys: 11.6 s, total: 24min 57s\n",
      "Wall time: 9min 20s\n",
      "here85000:86000\n",
      "CPU times: user 24min 40s, sys: 11.6 s, total: 24min 51s\n",
      "Wall time: 9min 20s\n",
      "here86000:87000\n",
      "CPU times: user 24min 45s, sys: 11.6 s, total: 24min 56s\n",
      "Wall time: 9min 20s\n",
      "here87000:88000\n",
      "CPU times: user 24min 59s, sys: 11.4 s, total: 25min 10s\n",
      "Wall time: 9min 21s\n",
      "here88000:89000\n",
      "CPU times: user 24min 31s, sys: 11.8 s, total: 24min 42s\n",
      "Wall time: 9min 18s\n",
      "here89000:90000\n",
      "CPU times: user 24min 59s, sys: 11.8 s, total: 25min 11s\n",
      "Wall time: 9min 20s\n",
      "here90000:91000\n",
      "CPU times: user 24min 36s, sys: 11.7 s, total: 24min 48s\n",
      "Wall time: 9min 20s\n",
      "here91000:92000\n",
      "CPU times: user 24min 42s, sys: 11.8 s, total: 24min 53s\n",
      "Wall time: 9min 20s\n",
      "here92000:93000\n",
      "CPU times: user 24min 57s, sys: 11.7 s, total: 25min 9s\n",
      "Wall time: 9min 22s\n",
      "here93000:94000\n",
      "CPU times: user 24min 44s, sys: 11.7 s, total: 24min 56s\n",
      "Wall time: 9min 20s\n",
      "here94000:95000\n",
      "CPU times: user 24min 39s, sys: 11.7 s, total: 24min 51s\n",
      "Wall time: 9min 20s\n",
      "here95000:96000\n",
      "CPU times: user 24min 54s, sys: 11.5 s, total: 25min 6s\n",
      "Wall time: 9min 20s\n",
      "here96000:97000\n",
      "CPU times: user 24min 48s, sys: 11.6 s, total: 25min\n",
      "Wall time: 9min 21s\n",
      "here97000:98000\n",
      "CPU times: user 24min 56s, sys: 11.6 s, total: 25min 8s\n",
      "Wall time: 9min 21s\n",
      "here98000:99000\n",
      "CPU times: user 24min 52s, sys: 11.4 s, total: 25min 4s\n",
      "Wall time: 9min 20s\n",
      "here99000:100000\n",
      "CPU times: user 24min 55s, sys: 11.6 s, total: 25min 7s\n",
      "Wall time: 9min 21s\n",
      "here100000:101000\n",
      "CPU times: user 24min 41s, sys: 11.6 s, total: 24min 53s\n",
      "Wall time: 9min 21s\n",
      "here101000:102000\n",
      "CPU times: user 24min 58s, sys: 11.6 s, total: 25min 9s\n",
      "Wall time: 9min 21s\n",
      "here102000:103000\n",
      "CPU times: user 24min 50s, sys: 11.6 s, total: 25min 2s\n",
      "Wall time: 9min 20s\n",
      "here103000:104000\n",
      "CPU times: user 24min 51s, sys: 11.4 s, total: 25min 2s\n",
      "Wall time: 9min 20s\n",
      "here104000:105000\n",
      "CPU times: user 24min 52s, sys: 11.4 s, total: 25min 4s\n",
      "Wall time: 9min 20s\n",
      "here105000:106000\n",
      "CPU times: user 24min 46s, sys: 11.9 s, total: 24min 58s\n",
      "Wall time: 9min 21s\n",
      "here106000:107000\n",
      "CPU times: user 24min 40s, sys: 11.5 s, total: 24min 51s\n",
      "Wall time: 9min 20s\n",
      "here107000:108000\n",
      "CPU times: user 24min 51s, sys: 11.6 s, total: 25min 3s\n",
      "Wall time: 9min 21s\n",
      "here108000:109000\n",
      "CPU times: user 24min 59s, sys: 11.5 s, total: 25min 11s\n",
      "Wall time: 9min 22s\n",
      "here109000:110000\n",
      "CPU times: user 24min 54s, sys: 11.6 s, total: 25min 6s\n",
      "Wall time: 9min 22s\n",
      "here110000:111000\n",
      "CPU times: user 24min 40s, sys: 11.6 s, total: 24min 52s\n",
      "Wall time: 9min 21s\n",
      "here111000:112000\n",
      "CPU times: user 24min 59s, sys: 11.7 s, total: 25min 11s\n",
      "Wall time: 9min 22s\n",
      "here112000:113000\n",
      "CPU times: user 24min 50s, sys: 11.7 s, total: 25min 2s\n",
      "Wall time: 9min 22s\n",
      "here113000:114000\n",
      "CPU times: user 24min 59s, sys: 11.9 s, total: 25min 11s\n",
      "Wall time: 9min 21s\n",
      "here114000:115000\n",
      "CPU times: user 24min 51s, sys: 11.4 s, total: 25min 2s\n",
      "Wall time: 9min 21s\n",
      "here115000:116000\n",
      "CPU times: user 24min 50s, sys: 11.4 s, total: 25min 1s\n",
      "Wall time: 9min 21s\n",
      "here116000:117000\n",
      "CPU times: user 25min, sys: 11.5 s, total: 25min 12s\n",
      "Wall time: 9min 21s\n",
      "here117000:118000\n",
      "CPU times: user 24min 44s, sys: 11.5 s, total: 24min 55s\n",
      "Wall time: 9min 21s\n",
      "here118000:119000\n",
      "CPU times: user 24min 56s, sys: 11.4 s, total: 25min 8s\n",
      "Wall time: 9min 22s\n",
      "here119000:120000\n",
      "CPU times: user 24min 52s, sys: 11.5 s, total: 25min 3s\n",
      "Wall time: 9min 21s\n"
     ]
    }
   ],
   "source": [
    "Shap_df = []\n",
    "\n",
    "i = 1\n",
    "for train_index, test_index in kf.split(Xtot):\n",
    "    print(f\"This is {i} fold\")\n",
    "    X_train, X_test = Xtot.iloc[train_index, :], Xtot.iloc[test_index, :]\n",
    "    y_train, y_test = ytot.iloc[train_index], ytot.iloc[test_index]\n",
    "    print(X_test.iloc[:100,:].shape)\n",
    "\n",
    "    cX_train = cudf.from_pandas(X_train)\n",
    "    cX_test = cudf.from_pandas(X_test)\n",
    "    cy_train = cudf.from_pandas(y_train)\n",
    "    cy_test = cudf.from_pandas(y_test)\n",
    "    \n",
    "    # Train the model\n",
    "    model = xgb.XGBRegressor(objective='reg:squarederror', tree_method='hist', random_state=42, device = 'cuda', **hyper_dict)\n",
    "    model.fit(cX_train, cy_train)\n",
    "    \n",
    "    print('model done')\n",
    "\n",
    "    colnames = X_test.columns + '_shap'\n",
    "\n",
    "    background = cudf.from_pandas(X_train.iloc[:100,:])\n",
    "    cu_explainer = KernelExplainer(model=model.predict,\n",
    "                                   data=background,\n",
    "                                   is_gpu_model=True, random_state=42)\n",
    "    \n",
    "    interval = 1000\n",
    "    for row in list(range(10_000, 120_000, interval)):\n",
    "        print(f'here{row}:{row + interval}')\n",
    "        %time cu_shap_value_merge = cu_explainer.shap_values(X_test.iloc[row:row + interval,:])\n",
    "        X_test_shap = pd.DataFrame(cu_shap_value_merge, columns=colnames, index=X_test.index[row:row + interval])\n",
    "        X_test_merge = pd.concat([y_test.iloc[row:row + interval], X_test.iloc[row:row + interval,:], X_test_shap], axis=1)\n",
    "\n",
    "        X_test_merge.to_parquet(f'Results/ShapAll_120k/X_test_{row}_{row + interval}.parquet')\n",
    "        Shap_df.append(X_test_merge)\n",
    "\n",
    "    dump(Shap_df, \"Results/Shap_TotalDataset_120k.joblib\")\n",
    "    break"
   ]
  },
  {
   "cell_type": "code",
   "execution_count": 19,
   "id": "67726908-ec1b-4a4b-bf4b-268af5f834cd",
   "metadata": {},
   "outputs": [],
   "source": [
    "Concat_Shap = pd.concat(Shap_df, axis=0)"
   ]
  },
  {
   "cell_type": "code",
   "execution_count": 20,
   "id": "259f2001-78cf-450c-a02c-6f32fb57cbd6",
   "metadata": {},
   "outputs": [
    {
     "data": {
      "text/plain": [
       "(1911212, 127)"
      ]
     },
     "execution_count": 20,
     "metadata": {},
     "output_type": "execute_result"
    }
   ],
   "source": [
    "Concat_Shap.shape"
   ]
  },
  {
   "cell_type": "code",
   "execution_count": 22,
   "id": "d94a9fb8-eeef-4722-a8a2-47ca9e52cf21",
   "metadata": {},
   "outputs": [
    {
     "data": {
      "text/plain": [
       "Index(['Cantril_ladder', 'wave', 'INCOME_2', 'Health_disable', 'Relative_have',\n",
       "       'Living_standard_change', 'Enough_food', 'Enough_shelter',\n",
       "       'Well_rested', 'Respected',\n",
       "       ...\n",
       "       'Corruption_government_shap', 'Performance_leadership_shap',\n",
       "       'Gender_female_shap', 'Age_shap', 'Marital_status_shap',\n",
       "       'Employment_shap', 'Children_under15_shap', 'Feeling_income_shap',\n",
       "       'Income_level_shap', 'COUNTRY_ISO3_shap'],\n",
       "      dtype='object', length=127)"
      ]
     },
     "execution_count": 22,
     "metadata": {},
     "output_type": "execute_result"
    }
   ],
   "source": [
    "Concat_Shap.columns"
   ]
  },
  {
   "cell_type": "code",
   "execution_count": null,
   "id": "c2b06e80-a991-4373-ac40-063c56c1b1f2",
   "metadata": {},
   "outputs": [],
   "source": []
  },
  {
   "cell_type": "markdown",
   "id": "ee7061d7-879f-41fe-9234-e030813a8501",
   "metadata": {},
   "source": [
    "### Draw Plot of Age"
   ]
  },
  {
   "cell_type": "code",
   "execution_count": 4,
   "id": "6ab2fbd7-c3c1-40e8-b052-74da3aa08bf7",
   "metadata": {},
   "outputs": [],
   "source": [
    "Shap_df = load(\"Results/Shap_TotalDataset.joblib\")"
   ]
  },
  {
   "cell_type": "code",
   "execution_count": 5,
   "id": "0509607c-7aa6-44ca-93ec-539db0847122",
   "metadata": {},
   "outputs": [],
   "source": [
    "Concat_Shap = pd.concat(Shap_df, axis=0)"
   ]
  },
  {
   "cell_type": "code",
   "execution_count": 7,
   "id": "0def4180-503f-40d8-8440-39aac98e7810",
   "metadata": {},
   "outputs": [
    {
     "data": {
      "text/plain": [
       "(1911212, 127)"
      ]
     },
     "execution_count": 7,
     "metadata": {},
     "output_type": "execute_result"
    }
   ],
   "source": [
    "Concat_Shap.shape"
   ]
  },
  {
   "cell_type": "code",
   "execution_count": 12,
   "id": "37c81e48-76fc-49bf-bdc0-5668cde3006d",
   "metadata": {},
   "outputs": [],
   "source": [
    "#Concat_Shap.to_parquet(\"Results/Shap_TotalDatasetTreeEplain.parquet\")"
   ]
  },
  {
   "cell_type": "code",
   "execution_count": 11,
   "id": "da189424-772d-4f37-859e-b6a608c33fee",
   "metadata": {},
   "outputs": [
    {
     "data": {
      "text/plain": [
       "[-0.124694675,\n",
       " -0.115843564,\n",
       " -0.10764524,\n",
       " -0.096717134,\n",
       " -0.0953448,\n",
       " -0.09152395,\n",
       " -0.07808477,\n",
       " -0.07709958,\n",
       " -0.07202862,\n",
       " -0.06983307,\n",
       " -0.068805225,\n",
       " -0.06774917,\n",
       " -0.066160336,\n",
       " -0.06567106,\n",
       " -0.06270729,\n",
       " -0.049408544,\n",
       " -0.04351601,\n",
       " -0.042899374,\n",
       " -0.0401199,\n",
       " -0.03655449,\n",
       " -0.026123503,\n",
       " -0.0040100887,\n",
       " 0.0035142554,\n",
       " 0.0035751336,\n",
       " 0.0152991,\n",
       " 0.015776563,\n",
       " 0.016043244,\n",
       " 0.01662778,\n",
       " 0.023073712,\n",
       " 0.02431558,\n",
       " 0.025328545,\n",
       " 0.028254567,\n",
       " 0.030908678,\n",
       " 0.036854308,\n",
       " 0.038859017,\n",
       " 0.06491261,\n",
       " 0.06526296,\n",
       " 0.06938681,\n",
       " 0.08033723,\n",
       " 0.08868406,\n",
       " 0.08889696,\n",
       " 0.0918609,\n",
       " 0.11063762,\n",
       " 0.11184761,\n",
       " 0.11351052,\n",
       " 0.17558543,\n",
       " nan,\n",
       " 0.11346496,\n",
       " 0.1377993,\n",
       " 0.1970437,\n",
       " 0.3454863]"
      ]
     },
     "execution_count": 11,
     "metadata": {},
     "output_type": "execute_result"
    }
   ],
   "source": [
    "sorted(Concat_Shap['Age_shap'].unique())"
   ]
  },
  {
   "cell_type": "code",
   "execution_count": 8,
   "id": "391102cf-2876-4b09-933c-e11a514d5cac",
   "metadata": {},
   "outputs": [
    {
     "data": {
      "image/png": "[encoded data removed]",
      "text/plain": [
       "<Figure size 800x600 with 1 Axes>"
      ]
     },
     "metadata": {},
     "output_type": "display_data"
    }
   ],
   "source": [
    "plt.figure(figsize=(8, 6))\n",
    "plt.scatter(Concat_Shap['Age'], Concat_Shap['Age_shap'], color='blue')\n",
    "plt.title('Scatter Plot between Column 1 and Column 2')\n",
    "plt.xlabel('Column 1')\n",
    "plt.ylabel('Column 2')\n",
    "plt.grid(True)\n",
    "plt.show()"
   ]
  },
  {
   "cell_type": "code",
   "execution_count": null,
   "id": "a4ded505-4b6b-4750-8970-f2df06c5f323",
   "metadata": {},
   "outputs": [],
   "source": []
  }
 ],
 "metadata": {
  "kernelspec": {
   "display_name": "Python 3 (ipykernel)",
   "language": "python",
   "name": "python3"
  },
  "language_info": {
   "codemirror_mode": {
    "name": "ipython",
    "version": 3
   },
   "file_extension": ".py",
   "mimetype": "text/x-python",
   "name": "python",
   "nbconvert_exporter": "python",
   "pygments_lexer": "ipython3",
   "version": "3.9.19"
  }
 },
 "nbformat": 4,
 "nbformat_minor": 5
}
