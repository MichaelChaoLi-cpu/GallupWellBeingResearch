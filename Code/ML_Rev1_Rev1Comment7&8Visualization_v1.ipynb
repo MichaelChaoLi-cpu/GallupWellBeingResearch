{
 "cells": [
  {
   "cell_type": "markdown",
   "id": "7b6fce8c-38ad-4072-9276-9838d1e15f71",
   "metadata": {},
   "source": [
    "# Draw the Plot of SHAP with all Variables"
   ]
  },
  {
   "cell_type": "code",
   "execution_count": 1,
   "id": "4d2453e4-6d5b-4c83-871c-9c1421df8dc5",
   "metadata": {},
   "outputs": [
    {
     "data": {
      "text/plain": [
       "'/mnt/g/D-storage/ESG09_Article/Code'"
      ]
     },
     "execution_count": 1,
     "metadata": {},
     "output_type": "execute_result"
    }
   ],
   "source": [
    "%pwd"
   ]
  },
  {
   "cell_type": "code",
   "execution_count": 2,
   "id": "302d09c4-991e-44b1-8282-be36079d8c5d",
   "metadata": {},
   "outputs": [
    {
     "name": "stdout",
     "output_type": "stream",
     "text": [
      "/mnt/g/D-storage/ESG09_Article\n"
     ]
    },
    {
     "name": "stderr",
     "output_type": "stream",
     "text": [
      "/home/linux/anaconda3/envs/tf/lib/python3.9/site-packages/IPython/core/magics/osm.py:417: UserWarning: using dhist requires you to install the `pickleshare` library.\n",
      "  self.shell.db['dhist'] = compress_dhist(dhist)[-100:]\n"
     ]
    }
   ],
   "source": [
    "%cd .."
   ]
  },
  {
   "cell_type": "code",
   "execution_count": null,
   "id": "e5679d04-8b0b-4b99-83de-7ace3283b4fc",
   "metadata": {},
   "outputs": [],
   "source": []
  },
  {
   "cell_type": "markdown",
   "id": "a2904e31-17c9-4fe3-be4e-32d99f6502e8",
   "metadata": {},
   "source": [
    "## Import Package"
   ]
  },
  {
   "cell_type": "code",
   "execution_count": 26,
   "id": "658ba5fb-a9c5-4756-a714-3f8ec52dc3ec",
   "metadata": {},
   "outputs": [],
   "source": [
    "from scipy.stats import ttest_ind\n",
    "from glob import glob\n",
    "import matplotlib.pyplot as plt\n",
    "import numpy as np\n",
    "import os \n",
    "import pandas as pd"
   ]
  },
  {
   "cell_type": "code",
   "execution_count": null,
   "id": "b58b1f8b-deab-43f5-8551-d5e813dd75ff",
   "metadata": {},
   "outputs": [],
   "source": []
  },
  {
   "cell_type": "markdown",
   "id": "56757dee-5f14-4fee-98fa-c3006ffb740b",
   "metadata": {},
   "source": [
    "## Load Dataset"
   ]
  },
  {
   "cell_type": "code",
   "execution_count": 4,
   "id": "8c7d5ee2-ba90-4325-85fd-69302d409ca7",
   "metadata": {},
   "outputs": [],
   "source": [
    "filename_list = glob('Results/ShapAll_120k/*')"
   ]
  },
  {
   "cell_type": "code",
   "execution_count": 5,
   "id": "0f649ba1-7313-4ec3-86bc-3645b48cdff3",
   "metadata": {},
   "outputs": [
    {
     "data": {
      "text/plain": [
       "120"
      ]
     },
     "execution_count": 5,
     "metadata": {},
     "output_type": "execute_result"
    }
   ],
   "source": [
    "len(filename_list)"
   ]
  },
  {
   "cell_type": "code",
   "execution_count": 6,
   "id": "718c635e-1083-4f79-afa7-952917fde290",
   "metadata": {},
   "outputs": [],
   "source": [
    "df_list = []\n",
    "for filename in filename_list:\n",
    "    sing_df = pd.read_parquet(filename)\n",
    "    df_list.append(sing_df)"
   ]
  },
  {
   "cell_type": "code",
   "execution_count": 7,
   "id": "41619794-45f2-4c14-907c-717ab08cdce8",
   "metadata": {},
   "outputs": [],
   "source": [
    "Concat_Shap = pd.concat(df_list, axis=0)"
   ]
  },
  {
   "cell_type": "code",
   "execution_count": 8,
   "id": "8746c783-a415-4321-8134-bfd0f2e4b355",
   "metadata": {},
   "outputs": [
    {
     "data": {
      "text/plain": [
       "(120000, 127)"
      ]
     },
     "execution_count": 8,
     "metadata": {},
     "output_type": "execute_result"
    }
   ],
   "source": [
    "Concat_Shap.shape"
   ]
  },
  {
   "cell_type": "code",
   "execution_count": null,
   "id": "cf21dc2f-8496-4f20-a276-3d54506df1f5",
   "metadata": {},
   "outputs": [],
   "source": []
  },
  {
   "cell_type": "markdown",
   "id": "89de90d4-2c8a-49f7-aea4-d7f994a9b7da",
   "metadata": {},
   "source": [
    "## Reviewer 1 Comments 7 Shap Directly Fail here"
   ]
  },
  {
   "cell_type": "code",
   "execution_count": 10,
   "id": "e3e243b5-f8ba-4cee-b309-d157d94d0561",
   "metadata": {},
   "outputs": [
    {
     "data": {
      "text/html": [
       "<div>\n",
       "<style scoped>\n",
       "    .dataframe tbody tr th:only-of-type {\n",
       "        vertical-align: middle;\n",
       "    }\n",
       "\n",
       "    .dataframe tbody tr th {\n",
       "        vertical-align: top;\n",
       "    }\n",
       "\n",
       "    .dataframe thead th {\n",
       "        text-align: right;\n",
       "    }\n",
       "</style>\n",
       "<table border=\"1\" class=\"dataframe\">\n",
       "  <thead>\n",
       "    <tr style=\"text-align: right;\">\n",
       "      <th></th>\n",
       "      <th>Cantril_ladder</th>\n",
       "      <th>wave</th>\n",
       "      <th>INCOME_2</th>\n",
       "      <th>Health_disable</th>\n",
       "      <th>Relative_have</th>\n",
       "      <th>Living_standard_change</th>\n",
       "      <th>Enough_food</th>\n",
       "      <th>Enough_shelter</th>\n",
       "      <th>Well_rested</th>\n",
       "      <th>Respected</th>\n",
       "      <th>...</th>\n",
       "      <th>Corruption_government_shap</th>\n",
       "      <th>Performance_leadership_shap</th>\n",
       "      <th>Gender_female_shap</th>\n",
       "      <th>Age_shap</th>\n",
       "      <th>Marital_status_shap</th>\n",
       "      <th>Employment_shap</th>\n",
       "      <th>Children_under15_shap</th>\n",
       "      <th>Feeling_income_shap</th>\n",
       "      <th>Income_level_shap</th>\n",
       "      <th>COUNTRY_ISO3_shap</th>\n",
       "    </tr>\n",
       "  </thead>\n",
       "  <tbody>\n",
       "    <tr>\n",
       "      <th>20</th>\n",
       "      <td>7.0</td>\n",
       "      <td>16</td>\n",
       "      <td>53201.839666</td>\n",
       "      <td>2.0</td>\n",
       "      <td>1.0</td>\n",
       "      <td>1.0</td>\n",
       "      <td>0.0</td>\n",
       "      <td>0.0</td>\n",
       "      <td>1.0</td>\n",
       "      <td>1.0</td>\n",
       "      <td>...</td>\n",
       "      <td>-0.248126</td>\n",
       "      <td>0.000000</td>\n",
       "      <td>0.000000</td>\n",
       "      <td>0.000000</td>\n",
       "      <td>0.047534</td>\n",
       "      <td>0.000000</td>\n",
       "      <td>0.000000</td>\n",
       "      <td>0.277958</td>\n",
       "      <td>0.000000</td>\n",
       "      <td>0.354573</td>\n",
       "    </tr>\n",
       "    <tr>\n",
       "      <th>24</th>\n",
       "      <td>2.0</td>\n",
       "      <td>11</td>\n",
       "      <td>1576.820968</td>\n",
       "      <td>2.0</td>\n",
       "      <td>0.0</td>\n",
       "      <td>-1.0</td>\n",
       "      <td>1.0</td>\n",
       "      <td>0.0</td>\n",
       "      <td>0.0</td>\n",
       "      <td>1.0</td>\n",
       "      <td>...</td>\n",
       "      <td>0.055040</td>\n",
       "      <td>0.000000</td>\n",
       "      <td>-0.031531</td>\n",
       "      <td>0.062238</td>\n",
       "      <td>0.127393</td>\n",
       "      <td>0.201309</td>\n",
       "      <td>0.000000</td>\n",
       "      <td>-0.229387</td>\n",
       "      <td>0.184414</td>\n",
       "      <td>-0.137897</td>\n",
       "    </tr>\n",
       "    <tr>\n",
       "      <th>29</th>\n",
       "      <td>7.0</td>\n",
       "      <td>15</td>\n",
       "      <td>14784.932307</td>\n",
       "      <td>2.0</td>\n",
       "      <td>1.0</td>\n",
       "      <td>1.0</td>\n",
       "      <td>1.0</td>\n",
       "      <td>0.0</td>\n",
       "      <td>1.0</td>\n",
       "      <td>1.0</td>\n",
       "      <td>...</td>\n",
       "      <td>0.000000</td>\n",
       "      <td>0.083371</td>\n",
       "      <td>0.081361</td>\n",
       "      <td>0.000000</td>\n",
       "      <td>-0.230842</td>\n",
       "      <td>-0.082167</td>\n",
       "      <td>-0.091555</td>\n",
       "      <td>-0.203665</td>\n",
       "      <td>0.058620</td>\n",
       "      <td>0.180709</td>\n",
       "    </tr>\n",
       "    <tr>\n",
       "      <th>31</th>\n",
       "      <td>9.0</td>\n",
       "      <td>10</td>\n",
       "      <td>37183.358580</td>\n",
       "      <td>2.0</td>\n",
       "      <td>1.0</td>\n",
       "      <td>1.0</td>\n",
       "      <td>0.0</td>\n",
       "      <td>0.0</td>\n",
       "      <td>0.0</td>\n",
       "      <td>1.0</td>\n",
       "      <td>...</td>\n",
       "      <td>0.000000</td>\n",
       "      <td>0.033324</td>\n",
       "      <td>0.000000</td>\n",
       "      <td>0.000000</td>\n",
       "      <td>0.069091</td>\n",
       "      <td>0.000000</td>\n",
       "      <td>0.000000</td>\n",
       "      <td>0.208146</td>\n",
       "      <td>0.000000</td>\n",
       "      <td>0.525652</td>\n",
       "    </tr>\n",
       "    <tr>\n",
       "      <th>33</th>\n",
       "      <td>3.0</td>\n",
       "      <td>7</td>\n",
       "      <td>4611.683055</td>\n",
       "      <td>1.0</td>\n",
       "      <td>0.0</td>\n",
       "      <td>-0.0</td>\n",
       "      <td>1.0</td>\n",
       "      <td>0.0</td>\n",
       "      <td>0.0</td>\n",
       "      <td>1.0</td>\n",
       "      <td>...</td>\n",
       "      <td>0.000000</td>\n",
       "      <td>-0.013114</td>\n",
       "      <td>0.120524</td>\n",
       "      <td>0.000000</td>\n",
       "      <td>-0.063950</td>\n",
       "      <td>0.000000</td>\n",
       "      <td>0.000000</td>\n",
       "      <td>-0.130189</td>\n",
       "      <td>0.000000</td>\n",
       "      <td>-0.145691</td>\n",
       "    </tr>\n",
       "  </tbody>\n",
       "</table>\n",
       "<p>5 rows × 127 columns</p>\n",
       "</div>"
      ],
      "text/plain": [
       "    Cantril_ladder  wave      INCOME_2  Health_disable  Relative_have  \\\n",
       "20             7.0    16  53201.839666             2.0            1.0   \n",
       "24             2.0    11   1576.820968             2.0            0.0   \n",
       "29             7.0    15  14784.932307             2.0            1.0   \n",
       "31             9.0    10  37183.358580             2.0            1.0   \n",
       "33             3.0     7   4611.683055             1.0            0.0   \n",
       "\n",
       "    Living_standard_change  Enough_food  Enough_shelter  Well_rested  \\\n",
       "20                     1.0          0.0             0.0          1.0   \n",
       "24                    -1.0          1.0             0.0          0.0   \n",
       "29                     1.0          1.0             0.0          1.0   \n",
       "31                     1.0          0.0             0.0          0.0   \n",
       "33                    -0.0          1.0             0.0          0.0   \n",
       "\n",
       "    Respected  ...  Corruption_government_shap  Performance_leadership_shap  \\\n",
       "20        1.0  ...                   -0.248126                     0.000000   \n",
       "24        1.0  ...                    0.055040                     0.000000   \n",
       "29        1.0  ...                    0.000000                     0.083371   \n",
       "31        1.0  ...                    0.000000                     0.033324   \n",
       "33        1.0  ...                    0.000000                    -0.013114   \n",
       "\n",
       "    Gender_female_shap  Age_shap  Marital_status_shap  Employment_shap  \\\n",
       "20            0.000000  0.000000             0.047534         0.000000   \n",
       "24           -0.031531  0.062238             0.127393         0.201309   \n",
       "29            0.081361  0.000000            -0.230842        -0.082167   \n",
       "31            0.000000  0.000000             0.069091         0.000000   \n",
       "33            0.120524  0.000000            -0.063950         0.000000   \n",
       "\n",
       "    Children_under15_shap  Feeling_income_shap  Income_level_shap  \\\n",
       "20               0.000000             0.277958           0.000000   \n",
       "24               0.000000            -0.229387           0.184414   \n",
       "29              -0.091555            -0.203665           0.058620   \n",
       "31               0.000000             0.208146           0.000000   \n",
       "33               0.000000            -0.130189           0.000000   \n",
       "\n",
       "    COUNTRY_ISO3_shap  \n",
       "20           0.354573  \n",
       "24          -0.137897  \n",
       "29           0.180709  \n",
       "31           0.525652  \n",
       "33          -0.145691  \n",
       "\n",
       "[5 rows x 127 columns]"
      ]
     },
     "execution_count": 10,
     "metadata": {},
     "output_type": "execute_result"
    }
   ],
   "source": [
    "Concat_Shap.head()"
   ]
  },
  {
   "cell_type": "code",
   "execution_count": 22,
   "id": "b9615f6a-3fb2-40c4-93a8-914dc39dbaa1",
   "metadata": {},
   "outputs": [
    {
     "data": {
      "text/plain": [
       "Index(['wave_shap', 'INCOME_2_shap', 'Health_disable_shap',\n",
       "       'Relative_have_shap', 'Living_standard_change_shap', 'Enough_food_shap',\n",
       "       'Enough_shelter_shap', 'Well_rested_shap', 'Respected_shap',\n",
       "       'Smile_shap', 'Interesting_thing_shap', 'Enjoyment_shap',\n",
       "       'Physical_pain_shap', 'Worry_shap', 'Sadness_shap', 'Stress_shap',\n",
       "       'Anger_shap', 'City_satisficied_shap', 'Economic_change_shap',\n",
       "       'Goodtime_job_shap', 'Sat_pubtran_shap', 'Sat_road_shap',\n",
       "       'Sat_edu_shap', 'Sat_qualityair_shap', 'Sat_qualitywater_shap',\n",
       "       'Sat_healthcare_shap', 'Sat_affhouse_shap', 'Sat_oppofriend_shap',\n",
       "       'Good_minorities_shap', 'Good_gayles_shap', 'Good_immigrants_shap',\n",
       "       'Donated_shap', 'Volunteer_shap', 'Help_stranger_shap',\n",
       "       'Voice_official_shap', 'Local_police_shap', 'Safety_walk_shap',\n",
       "       'Stolen_shap', 'Assualted_shap', 'Religion_importance_shap',\n",
       "       'Children_respected_shap', 'Children_learn_shap',\n",
       "       'Women_respected_shap', 'Sat_dealpoor_shap', 'Sat_perserveenv_shap',\n",
       "       'Freedom_chooselife_shap', 'Conf_military_shap', 'Conf_judicial_shap',\n",
       "       'Conf_government_shap', 'Conf_financial_shap',\n",
       "       'Conf_honestyelections_shap', 'Freedom_media_shap',\n",
       "       'Corruption_business_shap', 'Corruption_government_shap',\n",
       "       'Performance_leadership_shap', 'Gender_female_shap', 'Age_shap',\n",
       "       'Marital_status_shap', 'Employment_shap', 'Children_under15_shap',\n",
       "       'Feeling_income_shap', 'Income_level_shap', 'COUNTRY_ISO3_shap'],\n",
       "      dtype='object')"
      ]
     },
     "execution_count": 22,
     "metadata": {},
     "output_type": "execute_result"
    }
   ],
   "source": [
    "Concat_Shap.columns[64:]"
   ]
  },
  {
   "cell_type": "markdown",
   "id": "d87b6913-1e32-44f4-8103-812766146967",
   "metadata": {},
   "source": [
    "### Economic Analysis"
   ]
  },
  {
   "cell_type": "code",
   "execution_count": 16,
   "id": "2f3dd4a6-fdf1-469f-b743-82cbf20ce094",
   "metadata": {},
   "outputs": [
    {
     "data": {
      "text/plain": [
       "-0.051769506"
      ]
     },
     "execution_count": 16,
     "metadata": {},
     "output_type": "execute_result"
    }
   ],
   "source": [
    "Concat_Shap[Concat_Shap['Age'] <= 40].loc[:,'Income_level_shap'].mean()"
   ]
  },
  {
   "cell_type": "code",
   "execution_count": 17,
   "id": "a33d9c1f-f8e2-40dd-99c4-4cfad5e5623b",
   "metadata": {},
   "outputs": [
    {
     "data": {
      "text/plain": [
       "-0.050715324"
      ]
     },
     "execution_count": 17,
     "metadata": {},
     "output_type": "execute_result"
    }
   ],
   "source": [
    "Concat_Shap[(Concat_Shap['Age'] > 40)&(Concat_Shap['Age'] <= 65)].loc[:,'Income_level_shap'].mean()"
   ]
  },
  {
   "cell_type": "code",
   "execution_count": 18,
   "id": "20b1794c-b526-429b-b0a0-75ae903e27cb",
   "metadata": {},
   "outputs": [
    {
     "data": {
      "text/plain": [
       "-0.054403223"
      ]
     },
     "execution_count": 18,
     "metadata": {},
     "output_type": "execute_result"
    }
   ],
   "source": [
    "Concat_Shap[Concat_Shap['Age'] > 65].loc[:,'Income_level_shap'].mean()"
   ]
  },
  {
   "cell_type": "code",
   "execution_count": 30,
   "id": "64e3cb55-db4b-40e1-b45b-4549d7f06b26",
   "metadata": {},
   "outputs": [
    {
     "name": "stdout",
     "output_type": "stream",
     "text": [
      "T-statistic: -1.4207\n",
      "P-value: 0.1554\n"
     ]
    }
   ],
   "source": [
    "t_stat, p_value = ttest_ind(Concat_Shap[Concat_Shap['Age'] <= 40].loc[:,'Income_level_shap'], Concat_Shap[(Concat_Shap['Age'] > 40)&(Concat_Shap['Age'] <= 65)].loc[:,'Income_level_shap'])\n",
    "\n",
    "print(f\"T-statistic: {t_stat:.4f}\")\n",
    "print(f\"P-value: {p_value:.4f}\")"
   ]
  },
  {
   "cell_type": "code",
   "execution_count": 31,
   "id": "32d37cdf-e67f-46d0-ae80-10156d53b805",
   "metadata": {},
   "outputs": [
    {
     "name": "stdout",
     "output_type": "stream",
     "text": [
      "T-statistic: 2.3444\n",
      "P-value: 0.0191\n"
     ]
    }
   ],
   "source": [
    "t_stat, p_value = ttest_ind(Concat_Shap[Concat_Shap['Age'] <= 40].loc[:,'Income_level_shap'], Concat_Shap[Concat_Shap['Age'] > 65].loc[:,'Income_level_shap'])\n",
    "\n",
    "print(f\"T-statistic: {t_stat:.4f}\")\n",
    "print(f\"P-value: {p_value:.4f}\")"
   ]
  },
  {
   "cell_type": "code",
   "execution_count": 32,
   "id": "2ecafaa0-59a4-436a-ba5c-df3c84704808",
   "metadata": {},
   "outputs": [
    {
     "name": "stdout",
     "output_type": "stream",
     "text": [
      "T-statistic: 3.0160\n",
      "P-value: 0.0026\n"
     ]
    }
   ],
   "source": [
    "t_stat, p_value = ttest_ind( Concat_Shap[(Concat_Shap['Age'] > 40)&(Concat_Shap['Age'] <= 65)].loc[:,'Income_level_shap'], Concat_Shap[Concat_Shap['Age'] > 65].loc[:,'Income_level_shap'])\n",
    "\n",
    "print(f\"T-statistic: {t_stat:.4f}\")\n",
    "print(f\"P-value: {p_value:.4f}\")"
   ]
  },
  {
   "cell_type": "code",
   "execution_count": null,
   "id": "0bca07e7-46b1-427f-a879-559a9c585ab3",
   "metadata": {},
   "outputs": [],
   "source": []
  },
  {
   "cell_type": "markdown",
   "id": "6409771c-d7d1-42fe-b972-ad8c0fd3f154",
   "metadata": {},
   "source": [
    "### Feeling_income_shap "
   ]
  },
  {
   "cell_type": "code",
   "execution_count": 19,
   "id": "4a59efd1-cef0-47be-b5ec-ab61ea4c1500",
   "metadata": {},
   "outputs": [
    {
     "data": {
      "text/plain": [
       "0.057478867"
      ]
     },
     "execution_count": 19,
     "metadata": {},
     "output_type": "execute_result"
    }
   ],
   "source": [
    "Concat_Shap[Concat_Shap['Age'] <= 40].loc[:,'Feeling_income_shap'].mean()"
   ]
  },
  {
   "cell_type": "code",
   "execution_count": 20,
   "id": "cf70fe27-04cf-4e30-9ab0-67e801f7388d",
   "metadata": {},
   "outputs": [
    {
     "data": {
      "text/plain": [
       "0.07035996"
      ]
     },
     "execution_count": 20,
     "metadata": {},
     "output_type": "execute_result"
    }
   ],
   "source": [
    "Concat_Shap[(Concat_Shap['Age'] > 40)&(Concat_Shap['Age'] <= 65)].loc[:,'Feeling_income_shap'].mean()"
   ]
  },
  {
   "cell_type": "code",
   "execution_count": 21,
   "id": "845c4717-8113-4fb1-9fcd-898cf4f7f24f",
   "metadata": {},
   "outputs": [
    {
     "data": {
      "text/plain": [
       "0.09770239"
      ]
     },
     "execution_count": 21,
     "metadata": {},
     "output_type": "execute_result"
    }
   ],
   "source": [
    "Concat_Shap[Concat_Shap['Age'] > 65].loc[:,'Feeling_income_shap'].mean()"
   ]
  },
  {
   "cell_type": "code",
   "execution_count": 33,
   "id": "064f2e5a-564d-4077-b607-1ff562658ad5",
   "metadata": {},
   "outputs": [
    {
     "name": "stdout",
     "output_type": "stream",
     "text": [
      "T-statistic: -7.9935\n",
      "P-value: 0.0000\n"
     ]
    }
   ],
   "source": [
    "t_stat, p_value = ttest_ind(Concat_Shap[Concat_Shap['Age'] <= 40].loc[:,'Feeling_income_shap'], Concat_Shap[(Concat_Shap['Age'] > 40)&(Concat_Shap['Age'] <= 65)].loc[:,'Feeling_income_shap'])\n",
    "\n",
    "print(f\"T-statistic: {t_stat:.4f}\")\n",
    "print(f\"P-value: {p_value:.4f}\")"
   ]
  },
  {
   "cell_type": "code",
   "execution_count": 34,
   "id": "9b4e3504-3dd2-428a-87e4-8355ee9f204f",
   "metadata": {},
   "outputs": [
    {
     "name": "stdout",
     "output_type": "stream",
     "text": [
      "T-statistic: -16.8167\n",
      "P-value: 0.0000\n"
     ]
    }
   ],
   "source": [
    "t_stat, p_value = ttest_ind(Concat_Shap[Concat_Shap['Age'] <= 40].loc[:,'Feeling_income_shap'], Concat_Shap[Concat_Shap['Age'] > 65].loc[:,'Feeling_income_shap'])\n",
    "\n",
    "print(f\"T-statistic: {t_stat:.4f}\")\n",
    "print(f\"P-value: {p_value:.4f}\")"
   ]
  },
  {
   "cell_type": "code",
   "execution_count": 35,
   "id": "0631ac78-0043-4bf2-be2a-755b2a344719",
   "metadata": {},
   "outputs": [
    {
     "name": "stdout",
     "output_type": "stream",
     "text": [
      "T-statistic: -10.3249\n",
      "P-value: 0.0000\n"
     ]
    }
   ],
   "source": [
    "t_stat, p_value = ttest_ind( Concat_Shap[(Concat_Shap['Age'] > 40)&(Concat_Shap['Age'] <= 65)].loc[:,'Feeling_income_shap'], Concat_Shap[Concat_Shap['Age'] > 65].loc[:,'Feeling_income_shap'])\n",
    "\n",
    "print(f\"T-statistic: {t_stat:.4f}\")\n",
    "print(f\"P-value: {p_value:.4f}\")"
   ]
  },
  {
   "cell_type": "code",
   "execution_count": null,
   "id": "cd7738f3-1676-46d1-8e7d-5c07d1868a63",
   "metadata": {},
   "outputs": [],
   "source": []
  },
  {
   "cell_type": "markdown",
   "id": "3d846596-ae92-4a53-97ac-c08e39be2ba5",
   "metadata": {},
   "source": [
    "### Physical_pain_shap"
   ]
  },
  {
   "cell_type": "code",
   "execution_count": 23,
   "id": "62ac1c8e-975e-4fff-9683-c6014b34c4f0",
   "metadata": {},
   "outputs": [
    {
     "data": {
      "text/plain": [
       "-0.009533933"
      ]
     },
     "execution_count": 23,
     "metadata": {},
     "output_type": "execute_result"
    }
   ],
   "source": [
    "Concat_Shap[Concat_Shap['Age'] <= 40].loc[:,'Physical_pain_shap'].mean()"
   ]
  },
  {
   "cell_type": "code",
   "execution_count": 24,
   "id": "22019d75-bdb3-4ff6-a99e-bb3aea658e65",
   "metadata": {},
   "outputs": [
    {
     "data": {
      "text/plain": [
       "-0.010617035"
      ]
     },
     "execution_count": 24,
     "metadata": {},
     "output_type": "execute_result"
    }
   ],
   "source": [
    "Concat_Shap[(Concat_Shap['Age'] > 40)&(Concat_Shap['Age'] <= 65)].loc[:,'Physical_pain_shap'].mean()"
   ]
  },
  {
   "cell_type": "code",
   "execution_count": 25,
   "id": "8c269a68-679c-4bd7-b1ee-b8d14646de06",
   "metadata": {},
   "outputs": [
    {
     "data": {
      "text/plain": [
       "-0.014281223"
      ]
     },
     "execution_count": 25,
     "metadata": {},
     "output_type": "execute_result"
    }
   ],
   "source": [
    "Concat_Shap[Concat_Shap['Age'] > 65].loc[:,'Physical_pain_shap'].mean()"
   ]
  },
  {
   "cell_type": "code",
   "execution_count": 27,
   "id": "65b6db9d-a650-4313-a9d7-bf4675320bf7",
   "metadata": {},
   "outputs": [
    {
     "name": "stdout",
     "output_type": "stream",
     "text": [
      "T-statistic: 3.4016\n",
      "P-value: 0.0007\n"
     ]
    }
   ],
   "source": [
    "t_stat, p_value = ttest_ind(Concat_Shap[Concat_Shap['Age'] <= 40].loc[:,'Physical_pain_shap'], Concat_Shap[(Concat_Shap['Age'] > 40)&(Concat_Shap['Age'] <= 65)].loc[:,'Physical_pain_shap'])\n",
    "\n",
    "print(f\"T-statistic: {t_stat:.4f}\")\n",
    "print(f\"P-value: {p_value:.4f}\")"
   ]
  },
  {
   "cell_type": "code",
   "execution_count": 28,
   "id": "ed0bdf40-69d5-4375-98e1-5f3d2c857cb2",
   "metadata": {},
   "outputs": [
    {
     "name": "stdout",
     "output_type": "stream",
     "text": [
      "T-statistic: 9.8589\n",
      "P-value: 0.0000\n"
     ]
    }
   ],
   "source": [
    "t_stat, p_value = ttest_ind(Concat_Shap[Concat_Shap['Age'] <= 40].loc[:,'Physical_pain_shap'], Concat_Shap[Concat_Shap['Age'] > 65].loc[:,'Physical_pain_shap'])\n",
    "\n",
    "print(f\"T-statistic: {t_stat:.4f}\")\n",
    "print(f\"P-value: {p_value:.4f}\")"
   ]
  },
  {
   "cell_type": "code",
   "execution_count": 29,
   "id": "42c585c1-b7be-4725-98e1-ade62bf94074",
   "metadata": {},
   "outputs": [
    {
     "name": "stdout",
     "output_type": "stream",
     "text": [
      "T-statistic: 6.6727\n",
      "P-value: 0.0000\n"
     ]
    }
   ],
   "source": [
    "t_stat, p_value = ttest_ind( Concat_Shap[(Concat_Shap['Age'] > 40)&(Concat_Shap['Age'] <= 65)].loc[:,'Physical_pain_shap'], Concat_Shap[Concat_Shap['Age'] > 65].loc[:,'Physical_pain_shap'])\n",
    "\n",
    "print(f\"T-statistic: {t_stat:.4f}\")\n",
    "print(f\"P-value: {p_value:.4f}\")"
   ]
  },
  {
   "cell_type": "code",
   "execution_count": null,
   "id": "44e90e83-dfe6-4cea-93eb-bb54e03f674a",
   "metadata": {},
   "outputs": [],
   "source": []
  },
  {
   "cell_type": "markdown",
   "id": "17419c05-d759-4389-9f54-a27a11a018ec",
   "metadata": {},
   "source": [
    "### ALL"
   ]
  },
  {
   "cell_type": "code",
   "execution_count": 147,
   "id": "e1cd0677-408d-49ff-a6de-38a6012e70c4",
   "metadata": {},
   "outputs": [],
   "source": [
    "yo_df = Concat_Shap[(Concat_Shap['Age'] <= 40)]"
   ]
  },
  {
   "cell_type": "code",
   "execution_count": 148,
   "id": "c866fe68-0578-473e-82ed-699b085e058d",
   "metadata": {},
   "outputs": [],
   "source": [
    "ma_df = Concat_Shap[(Concat_Shap['Age'] > 40)&(Concat_Shap['Age'] <= 65)]"
   ]
  },
  {
   "cell_type": "code",
   "execution_count": 149,
   "id": "99b9d68e-261d-45df-aabd-bcbf15cd3d8c",
   "metadata": {},
   "outputs": [],
   "source": [
    "el_df = Concat_Shap[Concat_Shap['Age'] > 65]"
   ]
  },
  {
   "cell_type": "code",
   "execution_count": 155,
   "id": "a14a1f9f-312b-4a96-b7ac-3e9ce5850f9d",
   "metadata": {},
   "outputs": [
    {
     "data": {
      "text/plain": [
       "0.06895096"
      ]
     },
     "execution_count": 155,
     "metadata": {},
     "output_type": "execute_result"
    }
   ],
   "source": [
    "yo_df[yo_df['Sat_healthcare']==1]['Sat_healthcare_shap'].mean()"
   ]
  },
  {
   "cell_type": "code",
   "execution_count": 156,
   "id": "39806a44-34d6-4a28-91b1-155962655a78",
   "metadata": {},
   "outputs": [
    {
     "data": {
      "text/plain": [
       "0.07436622"
      ]
     },
     "execution_count": 156,
     "metadata": {},
     "output_type": "execute_result"
    }
   ],
   "source": [
    "ma_df[ma_df['Sat_healthcare']==1]['Sat_healthcare_shap'].mean()"
   ]
  },
  {
   "cell_type": "code",
   "execution_count": 154,
   "id": "cdc788de-da85-44cd-876b-4222f335d7a7",
   "metadata": {},
   "outputs": [
    {
     "data": {
      "text/plain": [
       "0.08759071"
      ]
     },
     "execution_count": 154,
     "metadata": {},
     "output_type": "execute_result"
    }
   ],
   "source": [
    "el_df[el_df['Sat_healthcare']==1]['Sat_healthcare_shap'].mean()"
   ]
  },
  {
   "cell_type": "code",
   "execution_count": 157,
   "id": "140fdef4-643e-4ccb-8208-f9f3d6e145a1",
   "metadata": {},
   "outputs": [
    {
     "data": {
      "text/plain": [
       "0.0015421476"
      ]
     },
     "execution_count": 157,
     "metadata": {},
     "output_type": "execute_result"
    }
   ],
   "source": [
    "yo_df[yo_df['Sat_healthcare']==0]['Sat_healthcare_shap'].mean()"
   ]
  },
  {
   "cell_type": "code",
   "execution_count": 158,
   "id": "6dedb1f8-b6f2-4c99-a2e6-22facf564668",
   "metadata": {},
   "outputs": [
    {
     "data": {
      "text/plain": [
       "0.0013148282"
      ]
     },
     "execution_count": 158,
     "metadata": {},
     "output_type": "execute_result"
    }
   ],
   "source": [
    "ma_df[ma_df['Sat_healthcare']==0]['Sat_healthcare_shap'].mean()"
   ]
  },
  {
   "cell_type": "code",
   "execution_count": 159,
   "id": "56c7b659-1b7a-42e6-a495-d0bb066b86b5",
   "metadata": {},
   "outputs": [
    {
     "data": {
      "text/plain": [
       "0.0011671718"
      ]
     },
     "execution_count": 159,
     "metadata": {},
     "output_type": "execute_result"
    }
   ],
   "source": [
    "el_df[el_df['Sat_healthcare']==0]['Sat_healthcare_shap'].mean()"
   ]
  },
  {
   "cell_type": "code",
   "execution_count": null,
   "id": "8efc02e7-3b59-4c6f-b8f1-be86bb06bad7",
   "metadata": {},
   "outputs": [],
   "source": []
  },
  {
   "cell_type": "code",
   "execution_count": null,
   "id": "b4b90cb9-d745-40d2-9b0b-fc2b2bc6c8d4",
   "metadata": {},
   "outputs": [],
   "source": []
  },
  {
   "cell_type": "code",
   "execution_count": null,
   "id": "93a9c81c-e1da-4276-83f5-48bf1fffeaab",
   "metadata": {},
   "outputs": [],
   "source": []
  },
  {
   "cell_type": "code",
   "execution_count": null,
   "id": "655e38bb-db2d-4ce5-a470-2de2f42318d0",
   "metadata": {},
   "outputs": [],
   "source": []
  },
  {
   "cell_type": "code",
   "execution_count": 131,
   "id": "5046884d-ceae-4d43-8160-c8562093f22e",
   "metadata": {},
   "outputs": [
    {
     "data": {
      "text/plain": [
       "0.006060832"
      ]
     },
     "execution_count": 131,
     "metadata": {},
     "output_type": "execute_result"
    }
   ],
   "source": [
    "yo_df[yo_df['Health_disable']==1]['Sat_healthcare_shap'].mean()"
   ]
  },
  {
   "cell_type": "code",
   "execution_count": 132,
   "id": "805477ca-76af-4302-a5c3-6a853ce5ba92",
   "metadata": {},
   "outputs": [
    {
     "data": {
      "text/plain": [
       "0.010873929"
      ]
     },
     "execution_count": 132,
     "metadata": {},
     "output_type": "execute_result"
    }
   ],
   "source": [
    "ma_df[ma_df['Health_disable']==1]['Sat_healthcare_shap'].mean()"
   ]
  },
  {
   "cell_type": "code",
   "execution_count": 133,
   "id": "f8f0373a-b5ea-4ce1-af85-5fc4da8581d7",
   "metadata": {},
   "outputs": [
    {
     "data": {
      "text/plain": [
       "0.0245708"
      ]
     },
     "execution_count": 133,
     "metadata": {},
     "output_type": "execute_result"
    }
   ],
   "source": [
    "el_df[el_df['Health_disable']==1]['Sat_healthcare_shap'].mean()"
   ]
  },
  {
   "cell_type": "code",
   "execution_count": 140,
   "id": "8add8454-489d-4501-a306-c17db651e2cc",
   "metadata": {},
   "outputs": [
    {
     "data": {
      "text/plain": [
       "Index(['Cantril_ladder', 'wave', 'INCOME_2', 'Health_disable', 'Relative_have',\n",
       "       'Living_standard_change', 'Enough_food', 'Enough_shelter',\n",
       "       'Well_rested', 'Respected', 'Smile', 'Interesting_thing', 'Enjoyment',\n",
       "       'Physical_pain', 'Worry', 'Sadness', 'Stress', 'Anger',\n",
       "       'City_satisficied', 'Economic_change', 'Goodtime_job', 'Sat_pubtran',\n",
       "       'Sat_road', 'Sat_edu', 'Sat_qualityair', 'Sat_qualitywater',\n",
       "       'Sat_healthcare', 'Sat_affhouse', 'Sat_oppofriend', 'Good_minorities',\n",
       "       'Good_gayles', 'Good_immigrants', 'Donated', 'Volunteer',\n",
       "       'Help_stranger', 'Voice_official', 'Local_police', 'Safety_walk',\n",
       "       'Stolen', 'Assualted', 'Religion_importance', 'Children_respected',\n",
       "       'Children_learn', 'Women_respected', 'Sat_dealpoor', 'Sat_perserveenv',\n",
       "       'Freedom_chooselife', 'Conf_military', 'Conf_judicial',\n",
       "       'Conf_government', 'Conf_financial', 'Conf_honestyelections',\n",
       "       'Freedom_media', 'Corruption_business', 'Corruption_government',\n",
       "       'Performance_leadership', 'Gender_female', 'Age', 'Marital_status',\n",
       "       'Employment', 'Children_under15', 'Feeling_income', 'Income_level',\n",
       "       'COUNTRY_ISO3'],\n",
       "      dtype='object')"
      ]
     },
     "execution_count": 140,
     "metadata": {},
     "output_type": "execute_result"
    }
   ],
   "source": [
    "yo_df.columns[:64]"
   ]
  },
  {
   "cell_type": "code",
   "execution_count": 141,
   "id": "63cacc51-c5df-4883-a4a3-2067240b619e",
   "metadata": {},
   "outputs": [
    {
     "data": {
      "text/plain": [
       "0.3675196484930998"
      ]
     },
     "execution_count": 141,
     "metadata": {},
     "output_type": "execute_result"
    }
   ],
   "source": [
    "yo_df['Goodtime_job'].mean()"
   ]
  },
  {
   "cell_type": "code",
   "execution_count": 142,
   "id": "afa3e749-3db7-4ca8-8905-a0b43d82cd15",
   "metadata": {},
   "outputs": [
    {
     "data": {
      "text/plain": [
       "0.3134092270820851"
      ]
     },
     "execution_count": 142,
     "metadata": {},
     "output_type": "execute_result"
    }
   ],
   "source": [
    "ma_df['Goodtime_job'].mean()"
   ]
  },
  {
   "cell_type": "code",
   "execution_count": 143,
   "id": "7ebc6cd3-4b05-4df3-90b6-6a642c97f8e7",
   "metadata": {},
   "outputs": [
    {
     "data": {
      "text/plain": [
       "0.27113424737884007"
      ]
     },
     "execution_count": 143,
     "metadata": {},
     "output_type": "execute_result"
    }
   ],
   "source": [
    "el_df['Goodtime_job'].mean()"
   ]
  },
  {
   "cell_type": "code",
   "execution_count": 144,
   "id": "24d3ab69-5d1c-41f6-b5d8-64acdb206b09",
   "metadata": {},
   "outputs": [
    {
     "data": {
      "text/plain": [
       "0.026641704"
      ]
     },
     "execution_count": 144,
     "metadata": {},
     "output_type": "execute_result"
    }
   ],
   "source": [
    "yo_df['Goodtime_job_shap'].mean()"
   ]
  },
  {
   "cell_type": "code",
   "execution_count": 145,
   "id": "0cf1f64b-fbe8-4323-81ef-695ee8f851e1",
   "metadata": {},
   "outputs": [
    {
     "data": {
      "text/plain": [
       "0.025052933"
      ]
     },
     "execution_count": 145,
     "metadata": {},
     "output_type": "execute_result"
    }
   ],
   "source": [
    "ma_df['Goodtime_job_shap'].mean()"
   ]
  },
  {
   "cell_type": "code",
   "execution_count": 146,
   "id": "9582bc72-3729-4936-b48a-e31c0ba727ce",
   "metadata": {},
   "outputs": [
    {
     "data": {
      "text/plain": [
       "0.025615232"
      ]
     },
     "execution_count": 146,
     "metadata": {},
     "output_type": "execute_result"
    }
   ],
   "source": [
    "el_df['Goodtime_job_shap'].mean()"
   ]
  },
  {
   "cell_type": "code",
   "execution_count": null,
   "id": "dab3e0de-b1b2-4147-b147-453a5faa155c",
   "metadata": {},
   "outputs": [],
   "source": []
  },
  {
   "cell_type": "code",
   "execution_count": null,
   "id": "942616c6-1bcd-4f16-8181-722813348ff9",
   "metadata": {},
   "outputs": [],
   "source": []
  },
  {
   "cell_type": "code",
   "execution_count": null,
   "id": "7c3fedac-7eb7-4174-adef-3fc71cdb6229",
   "metadata": {},
   "outputs": [],
   "source": []
  },
  {
   "cell_type": "code",
   "execution_count": 88,
   "id": "410d8f07-ad2c-432a-9d8c-136b8969f2bb",
   "metadata": {},
   "outputs": [
    {
     "data": {
      "text/plain": [
       "-0.31064906504013684"
      ]
     },
     "execution_count": 88,
     "metadata": {},
     "output_type": "execute_result"
    }
   ],
   "source": [
    "yo_df['Income_level'].corr(yo_df['Feeling_income'])"
   ]
  },
  {
   "cell_type": "code",
   "execution_count": 89,
   "id": "63467a6e-0b1b-48d7-8bb2-b6bef1119c6c",
   "metadata": {},
   "outputs": [
    {
     "data": {
      "text/plain": [
       "-0.37108660820178624"
      ]
     },
     "execution_count": 89,
     "metadata": {},
     "output_type": "execute_result"
    }
   ],
   "source": [
    "ma_df['Income_level'].corr(ma_df['Feeling_income'])"
   ]
  },
  {
   "cell_type": "code",
   "execution_count": 90,
   "id": "1eddde02-5cf9-4817-9d3b-3c7214713386",
   "metadata": {},
   "outputs": [
    {
     "data": {
      "text/plain": [
       "-0.3354012600538166"
      ]
     },
     "execution_count": 90,
     "metadata": {},
     "output_type": "execute_result"
    }
   ],
   "source": [
    "el_df['Income_level'].corr(el_df['Feeling_income'])"
   ]
  },
  {
   "cell_type": "code",
   "execution_count": 94,
   "id": "41eb6e93-53ac-4f6d-b8f7-c0cae3d1e5df",
   "metadata": {},
   "outputs": [
    {
     "name": "stdout",
     "output_type": "stream",
     "text": [
      "Intercept: 3.0364\n",
      "Slope: -0.2117\n",
      "R²: 0.0965\n"
     ]
    }
   ],
   "source": [
    "from sklearn.linear_model import LinearRegression\n",
    "import numpy as np\n",
    "\n",
    "# Reshape for sklearn (expects 2D for X)\n",
    "X = yo_df[['Income_level']]  # Already 2D\n",
    "y = yo_df['Feeling_income']         # 1D target\n",
    "\n",
    "# Fit the model\n",
    "model = LinearRegression()\n",
    "model.fit(X, y)\n",
    "\n",
    "# Coefficients\n",
    "print(f\"Intercept: {model.intercept_:.4f}\")\n",
    "print(f\"Slope: {model.coef_[0]:.4f}\")\n",
    "\n",
    "# R^2 score\n",
    "r2 = model.score(X, y)\n",
    "print(f\"R²: {r2:.4f}\")\n"
   ]
  },
  {
   "cell_type": "code",
   "execution_count": 95,
   "id": "3a6979d4-2040-4316-a517-56d9946c6008",
   "metadata": {},
   "outputs": [
    {
     "data": {
      "image/png": "[encoded data removed]",
      "text/plain": [
       "<Figure size 640x480 with 1 Axes>"
      ]
     },
     "metadata": {},
     "output_type": "display_data"
    }
   ],
   "source": [
    "import matplotlib.pyplot as plt\n",
    "\n",
    "plt.scatter(X, y, alpha=0.7, label='Data')\n",
    "plt.plot(X, model.predict(X), color='red', label='Regression Line')\n",
    "plt.xlabel('Income_level')\n",
    "plt.ylabel('Feeling_income')\n",
    "plt.title('Linear Regression')\n",
    "plt.legend()\n",
    "plt.grid(True)\n",
    "plt.show()\n"
   ]
  },
  {
   "cell_type": "code",
   "execution_count": 96,
   "id": "682fe968-5abb-403d-93a6-1559f5f66bce",
   "metadata": {},
   "outputs": [
    {
     "name": "stdout",
     "output_type": "stream",
     "text": [
      "Intercept: 3.1246\n",
      "Slope: -0.2503\n",
      "R²: 0.1377\n"
     ]
    }
   ],
   "source": [
    "from sklearn.linear_model import LinearRegression\n",
    "import numpy as np\n",
    "\n",
    "# Reshape for sklearn (expects 2D for X)\n",
    "X = ma_df[['Income_level']]  # Already 2D\n",
    "y = ma_df['Feeling_income']         # 1D target\n",
    "\n",
    "# Fit the model\n",
    "model = LinearRegression()\n",
    "model.fit(X, y)\n",
    "\n",
    "# Coefficients\n",
    "print(f\"Intercept: {model.intercept_:.4f}\")\n",
    "print(f\"Slope: {model.coef_[0]:.4f}\")\n",
    "\n",
    "# R^2 score\n",
    "r2 = model.score(X, y)\n",
    "print(f\"R²: {r2:.4f}\")\n"
   ]
  },
  {
   "cell_type": "code",
   "execution_count": 97,
   "id": "2aaa4116-86c0-404c-b3df-d1a19abf4141",
   "metadata": {},
   "outputs": [
    {
     "data": {
      "image/png": "[encoded data removed]",
      "text/plain": [
       "<Figure size 640x480 with 1 Axes>"
      ]
     },
     "metadata": {},
     "output_type": "display_data"
    }
   ],
   "source": [
    "import matplotlib.pyplot as plt\n",
    "\n",
    "plt.scatter(X, y, alpha=0.7, label='Data')\n",
    "plt.plot(X, model.predict(X), color='red', label='Regression Line')\n",
    "plt.xlabel('Income_level')\n",
    "plt.ylabel('Feeling_income')\n",
    "plt.title('Linear Regression')\n",
    "plt.legend()\n",
    "plt.grid(True)\n",
    "plt.show()\n"
   ]
  },
  {
   "cell_type": "code",
   "execution_count": 98,
   "id": "8640d11e-059d-4607-8439-3ef7736e0f8d",
   "metadata": {},
   "outputs": [
    {
     "name": "stdout",
     "output_type": "stream",
     "text": [
      "Intercept: 2.9664\n",
      "Slope: -0.2310\n",
      "R²: 0.1125\n"
     ]
    }
   ],
   "source": [
    "from sklearn.linear_model import LinearRegression\n",
    "import numpy as np\n",
    "\n",
    "# Reshape for sklearn (expects 2D for X)\n",
    "X = el_df[['Income_level']]  # Already 2D\n",
    "y = el_df['Feeling_income']         # 1D target\n",
    "\n",
    "# Fit the model\n",
    "model = LinearRegression()\n",
    "model.fit(X, y)\n",
    "\n",
    "# Coefficients\n",
    "print(f\"Intercept: {model.intercept_:.4f}\")\n",
    "print(f\"Slope: {model.coef_[0]:.4f}\")\n",
    "\n",
    "# R^2 score\n",
    "r2 = model.score(X, y)\n",
    "print(f\"R²: {r2:.4f}\")\n"
   ]
  },
  {
   "cell_type": "code",
   "execution_count": 99,
   "id": "3480beed-b80a-477e-a257-2819733a2137",
   "metadata": {},
   "outputs": [
    {
     "data": {
      "image/png": "[encoded data removed]",
      "text/plain": [
       "<Figure size 640x480 with 1 Axes>"
      ]
     },
     "metadata": {},
     "output_type": "display_data"
    }
   ],
   "source": [
    "import matplotlib.pyplot as plt\n",
    "\n",
    "plt.scatter(X, y, alpha=0.7, label='Data')\n",
    "plt.plot(X, model.predict(X), color='red', label='Regression Line')\n",
    "plt.xlabel('Income_level')\n",
    "plt.ylabel('Feeling_income')\n",
    "plt.title('Linear Regression')\n",
    "plt.legend()\n",
    "plt.grid(True)\n",
    "plt.show()\n"
   ]
  },
  {
   "cell_type": "code",
   "execution_count": null,
   "id": "0a5bcbe9-150c-4f70-ad7a-76ffb7f691ff",
   "metadata": {},
   "outputs": [],
   "source": []
  },
  {
   "cell_type": "markdown",
   "id": "fc83f7b1-546c-4ccd-a1af-79f04f58b76e",
   "metadata": {},
   "source": [
    "## Reviewer 1 Comment 7 Model Importance"
   ]
  },
  {
   "cell_type": "code",
   "execution_count": 204,
   "id": "e5825640-cf4a-4dc5-bcbb-044c01a46ef6",
   "metadata": {},
   "outputs": [],
   "source": [
    "import numpy as np\n",
    "import os \n",
    "import pandas as pd\n",
    "import random\n",
    "from sklearn.model_selection import train_test_split, KFold, cross_val_score\n",
    "import xgboost as xgb"
   ]
  },
  {
   "cell_type": "code",
   "execution_count": 193,
   "id": "df6341c3-4c25-4329-adb8-40d91f6b13ae",
   "metadata": {},
   "outputs": [],
   "source": [
    "Df_Filename = os.path.join(\"Data\", \"GallupWB_Ml64var1911k14wave_v1.parquet\")\n",
    "Df = pd.read_parquet(Df_Filename)\n",
    "Df = Df.sample(frac=1, random_state=42)\n",
    "Df['COUNTRY_ISO3'] = Df['COUNTRY_ISO3'].astype('category')"
   ]
  },
  {
   "cell_type": "code",
   "execution_count": 194,
   "id": "e9227652-6bc9-4d97-af84-a1a2a2837982",
   "metadata": {},
   "outputs": [],
   "source": [
    "Df_young = Df.loc[Df['Age']<=40, :].drop(columns=['Age'])\n",
    "Df_middle = Df.loc[(Df['Age']>40)&(Df['Age']<=65), :].drop(columns=['Age'])\n",
    "Df_old = Df.loc[Df['Age']>65, :].drop(columns=['Age'])"
   ]
  },
  {
   "cell_type": "code",
   "execution_count": 195,
   "id": "c06802a1-0080-4848-a10f-c78c365ae4a0",
   "metadata": {},
   "outputs": [],
   "source": [
    "yy = Df_young['Cantril_ladder']\n",
    "Xy = Df_young.drop(columns=['Cantril_ladder'])\n",
    "ym = Df_middle['Cantril_ladder']\n",
    "Xm = Df_middle.drop(columns=['Cantril_ladder'])\n",
    "yo = Df_old['Cantril_ladder']\n",
    "Xo = Df_old.drop(columns=['Cantril_ladder'])"
   ]
  },
  {
   "cell_type": "code",
   "execution_count": null,
   "id": "1ee91295-7e3f-43df-8413-980f2bb99d7b",
   "metadata": {},
   "outputs": [],
   "source": []
  },
  {
   "cell_type": "markdown",
   "id": "32787c25-3739-4dc6-b223-ebc5646b58ca",
   "metadata": {},
   "source": [
    "### Young"
   ]
  },
  {
   "cell_type": "code",
   "execution_count": 215,
   "id": "b894588a-b553-4471-b12d-ffc02465ba49",
   "metadata": {},
   "outputs": [],
   "source": [
    "yo_params = {'gamma': 6.6360850776123375,\n",
    " 'learning_rate': 0.02519085390684862,\n",
    " 'max_delta_step': 3.0662510776734475,\n",
    " 'max_depth': 8,\n",
    " 'min_child_weight': 0.03343944487838535,\n",
    " 'n_estimators': 1136,\n",
    " 'reg_alpha': 0.001000562456331363,\n",
    " 'reg_lambda': 0.030390787275205566,\n",
    " 'subsample': 0.7971894567956928}"
   ]
  },
  {
   "cell_type": "code",
   "execution_count": 216,
   "id": "9589928e-6b28-4cf8-9a53-bac5a9fe5949",
   "metadata": {},
   "outputs": [
    {
     "data": {
      "text/html": [
       "<style>#sk-container-id-5 {\n",
       "  /* Definition of color scheme common for light and dark mode */\n",
       "  --sklearn-color-text: black;\n",
       "  --sklearn-color-line: gray;\n",
       "  /* Definition of color scheme for unfitted estimators */\n",
       "  --sklearn-color-unfitted-level-0: #fff5e6;\n",
       "  --sklearn-color-unfitted-level-1: #f6e4d2;\n",
       "  --sklearn-color-unfitted-level-2: #ffe0b3;\n",
       "  --sklearn-color-unfitted-level-3: chocolate;\n",
       "  /* Definition of color scheme for fitted estimators */\n",
       "  --sklearn-color-fitted-level-0: #f0f8ff;\n",
       "  --sklearn-color-fitted-level-1: #d4ebff;\n",
       "  --sklearn-color-fitted-level-2: #b3dbfd;\n",
       "  --sklearn-color-fitted-level-3: cornflowerblue;\n",
       "\n",
       "  /* Specific color for light theme */\n",
       "  --sklearn-color-text-on-default-background: var(--sg-text-color, var(--theme-code-foreground, var(--jp-content-font-color1, black)));\n",
       "  --sklearn-color-background: var(--sg-background-color, var(--theme-background, var(--jp-layout-color0, white)));\n",
       "  --sklearn-color-border-box: var(--sg-text-color, var(--theme-code-foreground, var(--jp-content-font-color1, black)));\n",
       "  --sklearn-color-icon: #696969;\n",
       "\n",
       "  @media (prefers-color-scheme: dark) {\n",
       "    /* Redefinition of color scheme for dark theme */\n",
       "    --sklearn-color-text-on-default-background: var(--sg-text-color, var(--theme-code-foreground, var(--jp-content-font-color1, white)));\n",
       "    --sklearn-color-background: var(--sg-background-color, var(--theme-background, var(--jp-layout-color0, #111)));\n",
       "    --sklearn-color-border-box: var(--sg-text-color, var(--theme-code-foreground, var(--jp-content-font-color1, white)));\n",
       "    --sklearn-color-icon: #878787;\n",
       "  }\n",
       "}\n",
       "\n",
       "#sk-container-id-5 {\n",
       "  color: var(--sklearn-color-text);\n",
       "}\n",
       "\n",
       "#sk-container-id-5 pre {\n",
       "  padding: 0;\n",
       "}\n",
       "\n",
       "#sk-container-id-5 input.sk-hidden--visually {\n",
       "  border: 0;\n",
       "  clip: rect(1px 1px 1px 1px);\n",
       "  clip: rect(1px, 1px, 1px, 1px);\n",
       "  height: 1px;\n",
       "  margin: -1px;\n",
       "  overflow: hidden;\n",
       "  padding: 0;\n",
       "  position: absolute;\n",
       "  width: 1px;\n",
       "}\n",
       "\n",
       "#sk-container-id-5 div.sk-dashed-wrapped {\n",
       "  border: 1px dashed var(--sklearn-color-line);\n",
       "  margin: 0 0.4em 0.5em 0.4em;\n",
       "  box-sizing: border-box;\n",
       "  padding-bottom: 0.4em;\n",
       "  background-color: var(--sklearn-color-background);\n",
       "}\n",
       "\n",
       "#sk-container-id-5 div.sk-container {\n",
       "  /* jupyter's `normalize.less` sets `[hidden] { display: none; }`\n",
       "     but bootstrap.min.css set `[hidden] { display: none !important; }`\n",
       "     so we also need the `!important` here to be able to override the\n",
       "     default hidden behavior on the sphinx rendered scikit-learn.org.\n",
       "     See: https://github.com/scikit-learn/scikit-learn/issues/21755 */\n",
       "  display: inline-block !important;\n",
       "  position: relative;\n",
       "}\n",
       "\n",
       "#sk-container-id-5 div.sk-text-repr-fallback {\n",
       "  display: none;\n",
       "}\n",
       "\n",
       "div.sk-parallel-item,\n",
       "div.sk-serial,\n",
       "div.sk-item {\n",
       "  /* draw centered vertical line to link estimators */\n",
       "  background-image: linear-gradient(var(--sklearn-color-text-on-default-background), var(--sklearn-color-text-on-default-background));\n",
       "  background-size: 2px 100%;\n",
       "  background-repeat: no-repeat;\n",
       "  background-position: center center;\n",
       "}\n",
       "\n",
       "/* Parallel-specific style estimator block */\n",
       "\n",
       "#sk-container-id-5 div.sk-parallel-item::after {\n",
       "  content: \"\";\n",
       "  width: 100%;\n",
       "  border-bottom: 2px solid var(--sklearn-color-text-on-default-background);\n",
       "  flex-grow: 1;\n",
       "}\n",
       "\n",
       "#sk-container-id-5 div.sk-parallel {\n",
       "  display: flex;\n",
       "  align-items: stretch;\n",
       "  justify-content: center;\n",
       "  background-color: var(--sklearn-color-background);\n",
       "  position: relative;\n",
       "}\n",
       "\n",
       "#sk-container-id-5 div.sk-parallel-item {\n",
       "  display: flex;\n",
       "  flex-direction: column;\n",
       "}\n",
       "\n",
       "#sk-container-id-5 div.sk-parallel-item:first-child::after {\n",
       "  align-self: flex-end;\n",
       "  width: 50%;\n",
       "}\n",
       "\n",
       "#sk-container-id-5 div.sk-parallel-item:last-child::after {\n",
       "  align-self: flex-start;\n",
       "  width: 50%;\n",
       "}\n",
       "\n",
       "#sk-container-id-5 div.sk-parallel-item:only-child::after {\n",
       "  width: 0;\n",
       "}\n",
       "\n",
       "/* Serial-specific style estimator block */\n",
       "\n",
       "#sk-container-id-5 div.sk-serial {\n",
       "  display: flex;\n",
       "  flex-direction: column;\n",
       "  align-items: center;\n",
       "  background-color: var(--sklearn-color-background);\n",
       "  padding-right: 1em;\n",
       "  padding-left: 1em;\n",
       "}\n",
       "\n",
       "\n",
       "/* Toggleable style: style used for estimator/Pipeline/ColumnTransformer box that is\n",
       "clickable and can be expanded/collapsed.\n",
       "- Pipeline and ColumnTransformer use this feature and define the default style\n",
       "- Estimators will overwrite some part of the style using the `sk-estimator` class\n",
       "*/\n",
       "\n",
       "/* Pipeline and ColumnTransformer style (default) */\n",
       "\n",
       "#sk-container-id-5 div.sk-toggleable {\n",
       "  /* Default theme specific background. It is overwritten whether we have a\n",
       "  specific estimator or a Pipeline/ColumnTransformer */\n",
       "  background-color: var(--sklearn-color-background);\n",
       "}\n",
       "\n",
       "/* Toggleable label */\n",
       "#sk-container-id-5 label.sk-toggleable__label {\n",
       "  cursor: pointer;\n",
       "  display: block;\n",
       "  width: 100%;\n",
       "  margin-bottom: 0;\n",
       "  padding: 0.5em;\n",
       "  box-sizing: border-box;\n",
       "  text-align: center;\n",
       "}\n",
       "\n",
       "#sk-container-id-5 label.sk-toggleable__label-arrow:before {\n",
       "  /* Arrow on the left of the label */\n",
       "  content: \"▸\";\n",
       "  float: left;\n",
       "  margin-right: 0.25em;\n",
       "  color: var(--sklearn-color-icon);\n",
       "}\n",
       "\n",
       "#sk-container-id-5 label.sk-toggleable__label-arrow:hover:before {\n",
       "  color: var(--sklearn-color-text);\n",
       "}\n",
       "\n",
       "/* Toggleable content - dropdown */\n",
       "\n",
       "#sk-container-id-5 div.sk-toggleable__content {\n",
       "  max-height: 0;\n",
       "  max-width: 0;\n",
       "  overflow: hidden;\n",
       "  text-align: left;\n",
       "  /* unfitted */\n",
       "  background-color: var(--sklearn-color-unfitted-level-0);\n",
       "}\n",
       "\n",
       "#sk-container-id-5 div.sk-toggleable__content.fitted {\n",
       "  /* fitted */\n",
       "  background-color: var(--sklearn-color-fitted-level-0);\n",
       "}\n",
       "\n",
       "#sk-container-id-5 div.sk-toggleable__content pre {\n",
       "  margin: 0.2em;\n",
       "  border-radius: 0.25em;\n",
       "  color: var(--sklearn-color-text);\n",
       "  /* unfitted */\n",
       "  background-color: var(--sklearn-color-unfitted-level-0);\n",
       "}\n",
       "\n",
       "#sk-container-id-5 div.sk-toggleable__content.fitted pre {\n",
       "  /* unfitted */\n",
       "  background-color: var(--sklearn-color-fitted-level-0);\n",
       "}\n",
       "\n",
       "#sk-container-id-5 input.sk-toggleable__control:checked~div.sk-toggleable__content {\n",
       "  /* Expand drop-down */\n",
       "  max-height: 200px;\n",
       "  max-width: 100%;\n",
       "  overflow: auto;\n",
       "}\n",
       "\n",
       "#sk-container-id-5 input.sk-toggleable__control:checked~label.sk-toggleable__label-arrow:before {\n",
       "  content: \"▾\";\n",
       "}\n",
       "\n",
       "/* Pipeline/ColumnTransformer-specific style */\n",
       "\n",
       "#sk-container-id-5 div.sk-label input.sk-toggleable__control:checked~label.sk-toggleable__label {\n",
       "  color: var(--sklearn-color-text);\n",
       "  background-color: var(--sklearn-color-unfitted-level-2);\n",
       "}\n",
       "\n",
       "#sk-container-id-5 div.sk-label.fitted input.sk-toggleable__control:checked~label.sk-toggleable__label {\n",
       "  background-color: var(--sklearn-color-fitted-level-2);\n",
       "}\n",
       "\n",
       "/* Estimator-specific style */\n",
       "\n",
       "/* Colorize estimator box */\n",
       "#sk-container-id-5 div.sk-estimator input.sk-toggleable__control:checked~label.sk-toggleable__label {\n",
       "  /* unfitted */\n",
       "  background-color: var(--sklearn-color-unfitted-level-2);\n",
       "}\n",
       "\n",
       "#sk-container-id-5 div.sk-estimator.fitted input.sk-toggleable__control:checked~label.sk-toggleable__label {\n",
       "  /* fitted */\n",
       "  background-color: var(--sklearn-color-fitted-level-2);\n",
       "}\n",
       "\n",
       "#sk-container-id-5 div.sk-label label.sk-toggleable__label,\n",
       "#sk-container-id-5 div.sk-label label {\n",
       "  /* The background is the default theme color */\n",
       "  color: var(--sklearn-color-text-on-default-background);\n",
       "}\n",
       "\n",
       "/* On hover, darken the color of the background */\n",
       "#sk-container-id-5 div.sk-label:hover label.sk-toggleable__label {\n",
       "  color: var(--sklearn-color-text);\n",
       "  background-color: var(--sklearn-color-unfitted-level-2);\n",
       "}\n",
       "\n",
       "/* Label box, darken color on hover, fitted */\n",
       "#sk-container-id-5 div.sk-label.fitted:hover label.sk-toggleable__label.fitted {\n",
       "  color: var(--sklearn-color-text);\n",
       "  background-color: var(--sklearn-color-fitted-level-2);\n",
       "}\n",
       "\n",
       "/* Estimator label */\n",
       "\n",
       "#sk-container-id-5 div.sk-label label {\n",
       "  font-family: monospace;\n",
       "  font-weight: bold;\n",
       "  display: inline-block;\n",
       "  line-height: 1.2em;\n",
       "}\n",
       "\n",
       "#sk-container-id-5 div.sk-label-container {\n",
       "  text-align: center;\n",
       "}\n",
       "\n",
       "/* Estimator-specific */\n",
       "#sk-container-id-5 div.sk-estimator {\n",
       "  font-family: monospace;\n",
       "  border: 1px dotted var(--sklearn-color-border-box);\n",
       "  border-radius: 0.25em;\n",
       "  box-sizing: border-box;\n",
       "  margin-bottom: 0.5em;\n",
       "  /* unfitted */\n",
       "  background-color: var(--sklearn-color-unfitted-level-0);\n",
       "}\n",
       "\n",
       "#sk-container-id-5 div.sk-estimator.fitted {\n",
       "  /* fitted */\n",
       "  background-color: var(--sklearn-color-fitted-level-0);\n",
       "}\n",
       "\n",
       "/* on hover */\n",
       "#sk-container-id-5 div.sk-estimator:hover {\n",
       "  /* unfitted */\n",
       "  background-color: var(--sklearn-color-unfitted-level-2);\n",
       "}\n",
       "\n",
       "#sk-container-id-5 div.sk-estimator.fitted:hover {\n",
       "  /* fitted */\n",
       "  background-color: var(--sklearn-color-fitted-level-2);\n",
       "}\n",
       "\n",
       "/* Specification for estimator info (e.g. \"i\" and \"?\") */\n",
       "\n",
       "/* Common style for \"i\" and \"?\" */\n",
       "\n",
       ".sk-estimator-doc-link,\n",
       "a:link.sk-estimator-doc-link,\n",
       "a:visited.sk-estimator-doc-link {\n",
       "  float: right;\n",
       "  font-size: smaller;\n",
       "  line-height: 1em;\n",
       "  font-family: monospace;\n",
       "  background-color: var(--sklearn-color-background);\n",
       "  border-radius: 1em;\n",
       "  height: 1em;\n",
       "  width: 1em;\n",
       "  text-decoration: none !important;\n",
       "  margin-left: 1ex;\n",
       "  /* unfitted */\n",
       "  border: var(--sklearn-color-unfitted-level-1) 1pt solid;\n",
       "  color: var(--sklearn-color-unfitted-level-1);\n",
       "}\n",
       "\n",
       ".sk-estimator-doc-link.fitted,\n",
       "a:link.sk-estimator-doc-link.fitted,\n",
       "a:visited.sk-estimator-doc-link.fitted {\n",
       "  /* fitted */\n",
       "  border: var(--sklearn-color-fitted-level-1) 1pt solid;\n",
       "  color: var(--sklearn-color-fitted-level-1);\n",
       "}\n",
       "\n",
       "/* On hover */\n",
       "div.sk-estimator:hover .sk-estimator-doc-link:hover,\n",
       ".sk-estimator-doc-link:hover,\n",
       "div.sk-label-container:hover .sk-estimator-doc-link:hover,\n",
       ".sk-estimator-doc-link:hover {\n",
       "  /* unfitted */\n",
       "  background-color: var(--sklearn-color-unfitted-level-3);\n",
       "  color: var(--sklearn-color-background);\n",
       "  text-decoration: none;\n",
       "}\n",
       "\n",
       "div.sk-estimator.fitted:hover .sk-estimator-doc-link.fitted:hover,\n",
       ".sk-estimator-doc-link.fitted:hover,\n",
       "div.sk-label-container:hover .sk-estimator-doc-link.fitted:hover,\n",
       ".sk-estimator-doc-link.fitted:hover {\n",
       "  /* fitted */\n",
       "  background-color: var(--sklearn-color-fitted-level-3);\n",
       "  color: var(--sklearn-color-background);\n",
       "  text-decoration: none;\n",
       "}\n",
       "\n",
       "/* Span, style for the box shown on hovering the info icon */\n",
       ".sk-estimator-doc-link span {\n",
       "  display: none;\n",
       "  z-index: 9999;\n",
       "  position: relative;\n",
       "  font-weight: normal;\n",
       "  right: .2ex;\n",
       "  padding: .5ex;\n",
       "  margin: .5ex;\n",
       "  width: min-content;\n",
       "  min-width: 20ex;\n",
       "  max-width: 50ex;\n",
       "  color: var(--sklearn-color-text);\n",
       "  box-shadow: 2pt 2pt 4pt #999;\n",
       "  /* unfitted */\n",
       "  background: var(--sklearn-color-unfitted-level-0);\n",
       "  border: .5pt solid var(--sklearn-color-unfitted-level-3);\n",
       "}\n",
       "\n",
       ".sk-estimator-doc-link.fitted span {\n",
       "  /* fitted */\n",
       "  background: var(--sklearn-color-fitted-level-0);\n",
       "  border: var(--sklearn-color-fitted-level-3);\n",
       "}\n",
       "\n",
       ".sk-estimator-doc-link:hover span {\n",
       "  display: block;\n",
       "}\n",
       "\n",
       "/* \"?\"-specific style due to the `<a>` HTML tag */\n",
       "\n",
       "#sk-container-id-5 a.estimator_doc_link {\n",
       "  float: right;\n",
       "  font-size: 1rem;\n",
       "  line-height: 1em;\n",
       "  font-family: monospace;\n",
       "  background-color: var(--sklearn-color-background);\n",
       "  border-radius: 1rem;\n",
       "  height: 1rem;\n",
       "  width: 1rem;\n",
       "  text-decoration: none;\n",
       "  /* unfitted */\n",
       "  color: var(--sklearn-color-unfitted-level-1);\n",
       "  border: var(--sklearn-color-unfitted-level-1) 1pt solid;\n",
       "}\n",
       "\n",
       "#sk-container-id-5 a.estimator_doc_link.fitted {\n",
       "  /* fitted */\n",
       "  border: var(--sklearn-color-fitted-level-1) 1pt solid;\n",
       "  color: var(--sklearn-color-fitted-level-1);\n",
       "}\n",
       "\n",
       "/* On hover */\n",
       "#sk-container-id-5 a.estimator_doc_link:hover {\n",
       "  /* unfitted */\n",
       "  background-color: var(--sklearn-color-unfitted-level-3);\n",
       "  color: var(--sklearn-color-background);\n",
       "  text-decoration: none;\n",
       "}\n",
       "\n",
       "#sk-container-id-5 a.estimator_doc_link.fitted:hover {\n",
       "  /* fitted */\n",
       "  background-color: var(--sklearn-color-fitted-level-3);\n",
       "}\n",
       "</style><div id=\"sk-container-id-5\" class=\"sk-top-container\"><div class=\"sk-text-repr-fallback\"><pre>XGBRegressor(base_score=None, booster=None, callbacks=None,\n",
       "             colsample_bylevel=None, colsample_bynode=None,\n",
       "             colsample_bytree=None, device=&#x27;cuda&#x27;, early_stopping_rounds=None,\n",
       "             enable_categorical=True, eval_metric=None, feature_types=None,\n",
       "             gamma=6.6360850776123375, grow_policy=None, importance_type=None,\n",
       "             interaction_constraints=None, learning_rate=0.02519085390684862,\n",
       "             max_bin=None, max_cat_threshold=None, max_cat_to_onehot=None,\n",
       "             max_delta_step=3.0662510776734475, max_depth=8, max_leaves=None,\n",
       "             min_child_weight=0.03343944487838535, missing=nan,\n",
       "             monotone_constraints=None, multi_strategy=None, n_estimators=1136,\n",
       "             n_jobs=None, num_parallel_tree=None, random_state=42, ...)</pre><b>In a Jupyter environment, please rerun this cell to show the HTML representation or trust the notebook. <br />On GitHub, the HTML representation is unable to render, please try loading this page with nbviewer.org.</b></div><div class=\"sk-container\" hidden><div class=\"sk-item\"><div class=\"sk-estimator fitted sk-toggleable\"><input class=\"sk-toggleable__control sk-hidden--visually\" id=\"sk-estimator-id-5\" type=\"checkbox\" checked><label for=\"sk-estimator-id-5\" class=\"sk-toggleable__label fitted sk-toggleable__label-arrow fitted\">&nbsp;XGBRegressor<span class=\"sk-estimator-doc-link fitted\">i<span>Fitted</span></span></label><div class=\"sk-toggleable__content fitted\"><pre>XGBRegressor(base_score=None, booster=None, callbacks=None,\n",
       "             colsample_bylevel=None, colsample_bynode=None,\n",
       "             colsample_bytree=None, device=&#x27;cuda&#x27;, early_stopping_rounds=None,\n",
       "             enable_categorical=True, eval_metric=None, feature_types=None,\n",
       "             gamma=6.6360850776123375, grow_policy=None, importance_type=None,\n",
       "             interaction_constraints=None, learning_rate=0.02519085390684862,\n",
       "             max_bin=None, max_cat_threshold=None, max_cat_to_onehot=None,\n",
       "             max_delta_step=3.0662510776734475, max_depth=8, max_leaves=None,\n",
       "             min_child_weight=0.03343944487838535, missing=nan,\n",
       "             monotone_constraints=None, multi_strategy=None, n_estimators=1136,\n",
       "             n_jobs=None, num_parallel_tree=None, random_state=42, ...)</pre></div> </div></div></div></div>"
      ],
      "text/plain": [
       "XGBRegressor(base_score=None, booster=None, callbacks=None,\n",
       "             colsample_bylevel=None, colsample_bynode=None,\n",
       "             colsample_bytree=None, device='cuda', early_stopping_rounds=None,\n",
       "             enable_categorical=True, eval_metric=None, feature_types=None,\n",
       "             gamma=6.6360850776123375, grow_policy=None, importance_type=None,\n",
       "             interaction_constraints=None, learning_rate=0.02519085390684862,\n",
       "             max_bin=None, max_cat_threshold=None, max_cat_to_onehot=None,\n",
       "             max_delta_step=3.0662510776734475, max_depth=8, max_leaves=None,\n",
       "             min_child_weight=0.03343944487838535, missing=nan,\n",
       "             monotone_constraints=None, multi_strategy=None, n_estimators=1136,\n",
       "             n_jobs=None, num_parallel_tree=None, random_state=42, ...)"
      ]
     },
     "execution_count": 216,
     "metadata": {},
     "output_type": "execute_result"
    }
   ],
   "source": [
    "X_train, X_test, y_train, y_test = train_test_split(Xy, yy, test_size=0.1, random_state=42)\n",
    "\n",
    "# Initialize the XGBoost Regressor\n",
    "model_xgb = xgb.XGBRegressor(\n",
    "    objective='reg:squarederror',\n",
    "    device='cuda',\n",
    "    tree_method='hist',\n",
    "    random_state=42,\n",
    "    enable_categorical=True,\n",
    "    **yo_params\n",
    ")\n",
    "\n",
    "# Train the model\n",
    "model_xgb.fit(X_train, y_train)"
   ]
  },
  {
   "cell_type": "code",
   "execution_count": 217,
   "id": "94310864-7f55-4d17-9385-8a1443a4f9d1",
   "metadata": {},
   "outputs": [
    {
     "name": "stdout",
     "output_type": "stream",
     "text": [
      "Feature Importances (gain-based):\n",
      "                   Feature  Importance\n",
      "4   Living_standard_change    0.169231\n",
      "59          Feeling_income    0.149080\n",
      "5              Enough_food    0.059678\n",
      "61            COUNTRY_ISO3    0.045864\n",
      "3            Relative_have    0.040035\n",
      "..                     ...         ...\n",
      "40      Children_respected    0.006024\n",
      "38               Assualted    0.006013\n",
      "42         Women_respected    0.006009\n",
      "52     Corruption_business    0.005937\n",
      "51           Freedom_media    0.005874\n",
      "\n",
      "[62 rows x 2 columns]\n"
     ]
    }
   ],
   "source": [
    "# Create a DataFrame of feature importances with names\n",
    "importance_df = pd.DataFrame({\n",
    "    'Feature': X_train.columns,\n",
    "    'Importance': model_xgb.feature_importances_\n",
    "}).sort_values(by='Importance', ascending=False)\n",
    "\n",
    "# Print the sorted DataFrame\n",
    "print(\"Feature Importances (gain-based):\")\n",
    "print(importance_df)"
   ]
  },
  {
   "cell_type": "code",
   "execution_count": 218,
   "id": "abce8dd9-1729-448e-9e7d-95e008bccf56",
   "metadata": {},
   "outputs": [],
   "source": [
    "yo_importance_df = importance_df.copy()"
   ]
  },
  {
   "cell_type": "code",
   "execution_count": 219,
   "id": "9979a0cd-eb15-495e-83ed-ae005ef4ba94",
   "metadata": {},
   "outputs": [
    {
     "data": {
      "text/html": [
       "<div>\n",
       "<style scoped>\n",
       "    .dataframe tbody tr th:only-of-type {\n",
       "        vertical-align: middle;\n",
       "    }\n",
       "\n",
       "    .dataframe tbody tr th {\n",
       "        vertical-align: top;\n",
       "    }\n",
       "\n",
       "    .dataframe thead th {\n",
       "        text-align: right;\n",
       "    }\n",
       "</style>\n",
       "<table border=\"1\" class=\"dataframe\">\n",
       "  <thead>\n",
       "    <tr style=\"text-align: right;\">\n",
       "      <th></th>\n",
       "      <th>Feature</th>\n",
       "      <th>Importance</th>\n",
       "    </tr>\n",
       "  </thead>\n",
       "  <tbody>\n",
       "    <tr>\n",
       "      <th>4</th>\n",
       "      <td>Living_standard_change</td>\n",
       "      <td>0.169231</td>\n",
       "    </tr>\n",
       "    <tr>\n",
       "      <th>59</th>\n",
       "      <td>Feeling_income</td>\n",
       "      <td>0.149080</td>\n",
       "    </tr>\n",
       "    <tr>\n",
       "      <th>5</th>\n",
       "      <td>Enough_food</td>\n",
       "      <td>0.059678</td>\n",
       "    </tr>\n",
       "    <tr>\n",
       "      <th>61</th>\n",
       "      <td>COUNTRY_ISO3</td>\n",
       "      <td>0.045864</td>\n",
       "    </tr>\n",
       "    <tr>\n",
       "      <th>3</th>\n",
       "      <td>Relative_have</td>\n",
       "      <td>0.040035</td>\n",
       "    </tr>\n",
       "    <tr>\n",
       "      <th>...</th>\n",
       "      <td>...</td>\n",
       "      <td>...</td>\n",
       "    </tr>\n",
       "    <tr>\n",
       "      <th>40</th>\n",
       "      <td>Children_respected</td>\n",
       "      <td>0.006024</td>\n",
       "    </tr>\n",
       "    <tr>\n",
       "      <th>38</th>\n",
       "      <td>Assualted</td>\n",
       "      <td>0.006013</td>\n",
       "    </tr>\n",
       "    <tr>\n",
       "      <th>42</th>\n",
       "      <td>Women_respected</td>\n",
       "      <td>0.006009</td>\n",
       "    </tr>\n",
       "    <tr>\n",
       "      <th>52</th>\n",
       "      <td>Corruption_business</td>\n",
       "      <td>0.005937</td>\n",
       "    </tr>\n",
       "    <tr>\n",
       "      <th>51</th>\n",
       "      <td>Freedom_media</td>\n",
       "      <td>0.005874</td>\n",
       "    </tr>\n",
       "  </tbody>\n",
       "</table>\n",
       "<p>62 rows × 2 columns</p>\n",
       "</div>"
      ],
      "text/plain": [
       "                   Feature  Importance\n",
       "4   Living_standard_change    0.169231\n",
       "59          Feeling_income    0.149080\n",
       "5              Enough_food    0.059678\n",
       "61            COUNTRY_ISO3    0.045864\n",
       "3            Relative_have    0.040035\n",
       "..                     ...         ...\n",
       "40      Children_respected    0.006024\n",
       "38               Assualted    0.006013\n",
       "42         Women_respected    0.006009\n",
       "52     Corruption_business    0.005937\n",
       "51           Freedom_media    0.005874\n",
       "\n",
       "[62 rows x 2 columns]"
      ]
     },
     "execution_count": 219,
     "metadata": {},
     "output_type": "execute_result"
    }
   ],
   "source": [
    "yo_importance_df"
   ]
  },
  {
   "cell_type": "code",
   "execution_count": null,
   "id": "7e58dca5-41c5-426e-a8a5-2f482cebd3fa",
   "metadata": {},
   "outputs": [],
   "source": []
  },
  {
   "cell_type": "markdown",
   "id": "8c65f7a4-413a-4107-9296-83a96c03a55d",
   "metadata": {},
   "source": [
    "### Middle Age"
   ]
  },
  {
   "cell_type": "code",
   "execution_count": 207,
   "id": "5e2ad2f5-4f22-45ea-88c9-21cf5d5493ee",
   "metadata": {},
   "outputs": [],
   "source": [
    "ma_params = {'gamma': 0.05965055817863728,\n",
    " 'learning_rate': 0.016150250040658724,\n",
    " 'max_delta_step': 0.10042448556024319,\n",
    " 'max_depth': 13,\n",
    " 'min_child_weight': 1.7624628686422215,\n",
    " 'n_estimators': 3304,\n",
    " 'reg_alpha': 10.0,\n",
    " 'reg_lambda': 0.002893997263318717,\n",
    " 'subsample': 0.8956214250879957}"
   ]
  },
  {
   "cell_type": "code",
   "execution_count": 208,
   "id": "007ea872-5662-4115-8cbc-c8bc8ecabbf1",
   "metadata": {},
   "outputs": [
    {
     "data": {
      "text/html": [
       "<style>#sk-container-id-3 {\n",
       "  /* Definition of color scheme common for light and dark mode */\n",
       "  --sklearn-color-text: black;\n",
       "  --sklearn-color-line: gray;\n",
       "  /* Definition of color scheme for unfitted estimators */\n",
       "  --sklearn-color-unfitted-level-0: #fff5e6;\n",
       "  --sklearn-color-unfitted-level-1: #f6e4d2;\n",
       "  --sklearn-color-unfitted-level-2: #ffe0b3;\n",
       "  --sklearn-color-unfitted-level-3: chocolate;\n",
       "  /* Definition of color scheme for fitted estimators */\n",
       "  --sklearn-color-fitted-level-0: #f0f8ff;\n",
       "  --sklearn-color-fitted-level-1: #d4ebff;\n",
       "  --sklearn-color-fitted-level-2: #b3dbfd;\n",
       "  --sklearn-color-fitted-level-3: cornflowerblue;\n",
       "\n",
       "  /* Specific color for light theme */\n",
       "  --sklearn-color-text-on-default-background: var(--sg-text-color, var(--theme-code-foreground, var(--jp-content-font-color1, black)));\n",
       "  --sklearn-color-background: var(--sg-background-color, var(--theme-background, var(--jp-layout-color0, white)));\n",
       "  --sklearn-color-border-box: var(--sg-text-color, var(--theme-code-foreground, var(--jp-content-font-color1, black)));\n",
       "  --sklearn-color-icon: #696969;\n",
       "\n",
       "  @media (prefers-color-scheme: dark) {\n",
       "    /* Redefinition of color scheme for dark theme */\n",
       "    --sklearn-color-text-on-default-background: var(--sg-text-color, var(--theme-code-foreground, var(--jp-content-font-color1, white)));\n",
       "    --sklearn-color-background: var(--sg-background-color, var(--theme-background, var(--jp-layout-color0, #111)));\n",
       "    --sklearn-color-border-box: var(--sg-text-color, var(--theme-code-foreground, var(--jp-content-font-color1, white)));\n",
       "    --sklearn-color-icon: #878787;\n",
       "  }\n",
       "}\n",
       "\n",
       "#sk-container-id-3 {\n",
       "  color: var(--sklearn-color-text);\n",
       "}\n",
       "\n",
       "#sk-container-id-3 pre {\n",
       "  padding: 0;\n",
       "}\n",
       "\n",
       "#sk-container-id-3 input.sk-hidden--visually {\n",
       "  border: 0;\n",
       "  clip: rect(1px 1px 1px 1px);\n",
       "  clip: rect(1px, 1px, 1px, 1px);\n",
       "  height: 1px;\n",
       "  margin: -1px;\n",
       "  overflow: hidden;\n",
       "  padding: 0;\n",
       "  position: absolute;\n",
       "  width: 1px;\n",
       "}\n",
       "\n",
       "#sk-container-id-3 div.sk-dashed-wrapped {\n",
       "  border: 1px dashed var(--sklearn-color-line);\n",
       "  margin: 0 0.4em 0.5em 0.4em;\n",
       "  box-sizing: border-box;\n",
       "  padding-bottom: 0.4em;\n",
       "  background-color: var(--sklearn-color-background);\n",
       "}\n",
       "\n",
       "#sk-container-id-3 div.sk-container {\n",
       "  /* jupyter's `normalize.less` sets `[hidden] { display: none; }`\n",
       "     but bootstrap.min.css set `[hidden] { display: none !important; }`\n",
       "     so we also need the `!important` here to be able to override the\n",
       "     default hidden behavior on the sphinx rendered scikit-learn.org.\n",
       "     See: https://github.com/scikit-learn/scikit-learn/issues/21755 */\n",
       "  display: inline-block !important;\n",
       "  position: relative;\n",
       "}\n",
       "\n",
       "#sk-container-id-3 div.sk-text-repr-fallback {\n",
       "  display: none;\n",
       "}\n",
       "\n",
       "div.sk-parallel-item,\n",
       "div.sk-serial,\n",
       "div.sk-item {\n",
       "  /* draw centered vertical line to link estimators */\n",
       "  background-image: linear-gradient(var(--sklearn-color-text-on-default-background), var(--sklearn-color-text-on-default-background));\n",
       "  background-size: 2px 100%;\n",
       "  background-repeat: no-repeat;\n",
       "  background-position: center center;\n",
       "}\n",
       "\n",
       "/* Parallel-specific style estimator block */\n",
       "\n",
       "#sk-container-id-3 div.sk-parallel-item::after {\n",
       "  content: \"\";\n",
       "  width: 100%;\n",
       "  border-bottom: 2px solid var(--sklearn-color-text-on-default-background);\n",
       "  flex-grow: 1;\n",
       "}\n",
       "\n",
       "#sk-container-id-3 div.sk-parallel {\n",
       "  display: flex;\n",
       "  align-items: stretch;\n",
       "  justify-content: center;\n",
       "  background-color: var(--sklearn-color-background);\n",
       "  position: relative;\n",
       "}\n",
       "\n",
       "#sk-container-id-3 div.sk-parallel-item {\n",
       "  display: flex;\n",
       "  flex-direction: column;\n",
       "}\n",
       "\n",
       "#sk-container-id-3 div.sk-parallel-item:first-child::after {\n",
       "  align-self: flex-end;\n",
       "  width: 50%;\n",
       "}\n",
       "\n",
       "#sk-container-id-3 div.sk-parallel-item:last-child::after {\n",
       "  align-self: flex-start;\n",
       "  width: 50%;\n",
       "}\n",
       "\n",
       "#sk-container-id-3 div.sk-parallel-item:only-child::after {\n",
       "  width: 0;\n",
       "}\n",
       "\n",
       "/* Serial-specific style estimator block */\n",
       "\n",
       "#sk-container-id-3 div.sk-serial {\n",
       "  display: flex;\n",
       "  flex-direction: column;\n",
       "  align-items: center;\n",
       "  background-color: var(--sklearn-color-background);\n",
       "  padding-right: 1em;\n",
       "  padding-left: 1em;\n",
       "}\n",
       "\n",
       "\n",
       "/* Toggleable style: style used for estimator/Pipeline/ColumnTransformer box that is\n",
       "clickable and can be expanded/collapsed.\n",
       "- Pipeline and ColumnTransformer use this feature and define the default style\n",
       "- Estimators will overwrite some part of the style using the `sk-estimator` class\n",
       "*/\n",
       "\n",
       "/* Pipeline and ColumnTransformer style (default) */\n",
       "\n",
       "#sk-container-id-3 div.sk-toggleable {\n",
       "  /* Default theme specific background. It is overwritten whether we have a\n",
       "  specific estimator or a Pipeline/ColumnTransformer */\n",
       "  background-color: var(--sklearn-color-background);\n",
       "}\n",
       "\n",
       "/* Toggleable label */\n",
       "#sk-container-id-3 label.sk-toggleable__label {\n",
       "  cursor: pointer;\n",
       "  display: block;\n",
       "  width: 100%;\n",
       "  margin-bottom: 0;\n",
       "  padding: 0.5em;\n",
       "  box-sizing: border-box;\n",
       "  text-align: center;\n",
       "}\n",
       "\n",
       "#sk-container-id-3 label.sk-toggleable__label-arrow:before {\n",
       "  /* Arrow on the left of the label */\n",
       "  content: \"▸\";\n",
       "  float: left;\n",
       "  margin-right: 0.25em;\n",
       "  color: var(--sklearn-color-icon);\n",
       "}\n",
       "\n",
       "#sk-container-id-3 label.sk-toggleable__label-arrow:hover:before {\n",
       "  color: var(--sklearn-color-text);\n",
       "}\n",
       "\n",
       "/* Toggleable content - dropdown */\n",
       "\n",
       "#sk-container-id-3 div.sk-toggleable__content {\n",
       "  max-height: 0;\n",
       "  max-width: 0;\n",
       "  overflow: hidden;\n",
       "  text-align: left;\n",
       "  /* unfitted */\n",
       "  background-color: var(--sklearn-color-unfitted-level-0);\n",
       "}\n",
       "\n",
       "#sk-container-id-3 div.sk-toggleable__content.fitted {\n",
       "  /* fitted */\n",
       "  background-color: var(--sklearn-color-fitted-level-0);\n",
       "}\n",
       "\n",
       "#sk-container-id-3 div.sk-toggleable__content pre {\n",
       "  margin: 0.2em;\n",
       "  border-radius: 0.25em;\n",
       "  color: var(--sklearn-color-text);\n",
       "  /* unfitted */\n",
       "  background-color: var(--sklearn-color-unfitted-level-0);\n",
       "}\n",
       "\n",
       "#sk-container-id-3 div.sk-toggleable__content.fitted pre {\n",
       "  /* unfitted */\n",
       "  background-color: var(--sklearn-color-fitted-level-0);\n",
       "}\n",
       "\n",
       "#sk-container-id-3 input.sk-toggleable__control:checked~div.sk-toggleable__content {\n",
       "  /* Expand drop-down */\n",
       "  max-height: 200px;\n",
       "  max-width: 100%;\n",
       "  overflow: auto;\n",
       "}\n",
       "\n",
       "#sk-container-id-3 input.sk-toggleable__control:checked~label.sk-toggleable__label-arrow:before {\n",
       "  content: \"▾\";\n",
       "}\n",
       "\n",
       "/* Pipeline/ColumnTransformer-specific style */\n",
       "\n",
       "#sk-container-id-3 div.sk-label input.sk-toggleable__control:checked~label.sk-toggleable__label {\n",
       "  color: var(--sklearn-color-text);\n",
       "  background-color: var(--sklearn-color-unfitted-level-2);\n",
       "}\n",
       "\n",
       "#sk-container-id-3 div.sk-label.fitted input.sk-toggleable__control:checked~label.sk-toggleable__label {\n",
       "  background-color: var(--sklearn-color-fitted-level-2);\n",
       "}\n",
       "\n",
       "/* Estimator-specific style */\n",
       "\n",
       "/* Colorize estimator box */\n",
       "#sk-container-id-3 div.sk-estimator input.sk-toggleable__control:checked~label.sk-toggleable__label {\n",
       "  /* unfitted */\n",
       "  background-color: var(--sklearn-color-unfitted-level-2);\n",
       "}\n",
       "\n",
       "#sk-container-id-3 div.sk-estimator.fitted input.sk-toggleable__control:checked~label.sk-toggleable__label {\n",
       "  /* fitted */\n",
       "  background-color: var(--sklearn-color-fitted-level-2);\n",
       "}\n",
       "\n",
       "#sk-container-id-3 div.sk-label label.sk-toggleable__label,\n",
       "#sk-container-id-3 div.sk-label label {\n",
       "  /* The background is the default theme color */\n",
       "  color: var(--sklearn-color-text-on-default-background);\n",
       "}\n",
       "\n",
       "/* On hover, darken the color of the background */\n",
       "#sk-container-id-3 div.sk-label:hover label.sk-toggleable__label {\n",
       "  color: var(--sklearn-color-text);\n",
       "  background-color: var(--sklearn-color-unfitted-level-2);\n",
       "}\n",
       "\n",
       "/* Label box, darken color on hover, fitted */\n",
       "#sk-container-id-3 div.sk-label.fitted:hover label.sk-toggleable__label.fitted {\n",
       "  color: var(--sklearn-color-text);\n",
       "  background-color: var(--sklearn-color-fitted-level-2);\n",
       "}\n",
       "\n",
       "/* Estimator label */\n",
       "\n",
       "#sk-container-id-3 div.sk-label label {\n",
       "  font-family: monospace;\n",
       "  font-weight: bold;\n",
       "  display: inline-block;\n",
       "  line-height: 1.2em;\n",
       "}\n",
       "\n",
       "#sk-container-id-3 div.sk-label-container {\n",
       "  text-align: center;\n",
       "}\n",
       "\n",
       "/* Estimator-specific */\n",
       "#sk-container-id-3 div.sk-estimator {\n",
       "  font-family: monospace;\n",
       "  border: 1px dotted var(--sklearn-color-border-box);\n",
       "  border-radius: 0.25em;\n",
       "  box-sizing: border-box;\n",
       "  margin-bottom: 0.5em;\n",
       "  /* unfitted */\n",
       "  background-color: var(--sklearn-color-unfitted-level-0);\n",
       "}\n",
       "\n",
       "#sk-container-id-3 div.sk-estimator.fitted {\n",
       "  /* fitted */\n",
       "  background-color: var(--sklearn-color-fitted-level-0);\n",
       "}\n",
       "\n",
       "/* on hover */\n",
       "#sk-container-id-3 div.sk-estimator:hover {\n",
       "  /* unfitted */\n",
       "  background-color: var(--sklearn-color-unfitted-level-2);\n",
       "}\n",
       "\n",
       "#sk-container-id-3 div.sk-estimator.fitted:hover {\n",
       "  /* fitted */\n",
       "  background-color: var(--sklearn-color-fitted-level-2);\n",
       "}\n",
       "\n",
       "/* Specification for estimator info (e.g. \"i\" and \"?\") */\n",
       "\n",
       "/* Common style for \"i\" and \"?\" */\n",
       "\n",
       ".sk-estimator-doc-link,\n",
       "a:link.sk-estimator-doc-link,\n",
       "a:visited.sk-estimator-doc-link {\n",
       "  float: right;\n",
       "  font-size: smaller;\n",
       "  line-height: 1em;\n",
       "  font-family: monospace;\n",
       "  background-color: var(--sklearn-color-background);\n",
       "  border-radius: 1em;\n",
       "  height: 1em;\n",
       "  width: 1em;\n",
       "  text-decoration: none !important;\n",
       "  margin-left: 1ex;\n",
       "  /* unfitted */\n",
       "  border: var(--sklearn-color-unfitted-level-1) 1pt solid;\n",
       "  color: var(--sklearn-color-unfitted-level-1);\n",
       "}\n",
       "\n",
       ".sk-estimator-doc-link.fitted,\n",
       "a:link.sk-estimator-doc-link.fitted,\n",
       "a:visited.sk-estimator-doc-link.fitted {\n",
       "  /* fitted */\n",
       "  border: var(--sklearn-color-fitted-level-1) 1pt solid;\n",
       "  color: var(--sklearn-color-fitted-level-1);\n",
       "}\n",
       "\n",
       "/* On hover */\n",
       "div.sk-estimator:hover .sk-estimator-doc-link:hover,\n",
       ".sk-estimator-doc-link:hover,\n",
       "div.sk-label-container:hover .sk-estimator-doc-link:hover,\n",
       ".sk-estimator-doc-link:hover {\n",
       "  /* unfitted */\n",
       "  background-color: var(--sklearn-color-unfitted-level-3);\n",
       "  color: var(--sklearn-color-background);\n",
       "  text-decoration: none;\n",
       "}\n",
       "\n",
       "div.sk-estimator.fitted:hover .sk-estimator-doc-link.fitted:hover,\n",
       ".sk-estimator-doc-link.fitted:hover,\n",
       "div.sk-label-container:hover .sk-estimator-doc-link.fitted:hover,\n",
       ".sk-estimator-doc-link.fitted:hover {\n",
       "  /* fitted */\n",
       "  background-color: var(--sklearn-color-fitted-level-3);\n",
       "  color: var(--sklearn-color-background);\n",
       "  text-decoration: none;\n",
       "}\n",
       "\n",
       "/* Span, style for the box shown on hovering the info icon */\n",
       ".sk-estimator-doc-link span {\n",
       "  display: none;\n",
       "  z-index: 9999;\n",
       "  position: relative;\n",
       "  font-weight: normal;\n",
       "  right: .2ex;\n",
       "  padding: .5ex;\n",
       "  margin: .5ex;\n",
       "  width: min-content;\n",
       "  min-width: 20ex;\n",
       "  max-width: 50ex;\n",
       "  color: var(--sklearn-color-text);\n",
       "  box-shadow: 2pt 2pt 4pt #999;\n",
       "  /* unfitted */\n",
       "  background: var(--sklearn-color-unfitted-level-0);\n",
       "  border: .5pt solid var(--sklearn-color-unfitted-level-3);\n",
       "}\n",
       "\n",
       ".sk-estimator-doc-link.fitted span {\n",
       "  /* fitted */\n",
       "  background: var(--sklearn-color-fitted-level-0);\n",
       "  border: var(--sklearn-color-fitted-level-3);\n",
       "}\n",
       "\n",
       ".sk-estimator-doc-link:hover span {\n",
       "  display: block;\n",
       "}\n",
       "\n",
       "/* \"?\"-specific style due to the `<a>` HTML tag */\n",
       "\n",
       "#sk-container-id-3 a.estimator_doc_link {\n",
       "  float: right;\n",
       "  font-size: 1rem;\n",
       "  line-height: 1em;\n",
       "  font-family: monospace;\n",
       "  background-color: var(--sklearn-color-background);\n",
       "  border-radius: 1rem;\n",
       "  height: 1rem;\n",
       "  width: 1rem;\n",
       "  text-decoration: none;\n",
       "  /* unfitted */\n",
       "  color: var(--sklearn-color-unfitted-level-1);\n",
       "  border: var(--sklearn-color-unfitted-level-1) 1pt solid;\n",
       "}\n",
       "\n",
       "#sk-container-id-3 a.estimator_doc_link.fitted {\n",
       "  /* fitted */\n",
       "  border: var(--sklearn-color-fitted-level-1) 1pt solid;\n",
       "  color: var(--sklearn-color-fitted-level-1);\n",
       "}\n",
       "\n",
       "/* On hover */\n",
       "#sk-container-id-3 a.estimator_doc_link:hover {\n",
       "  /* unfitted */\n",
       "  background-color: var(--sklearn-color-unfitted-level-3);\n",
       "  color: var(--sklearn-color-background);\n",
       "  text-decoration: none;\n",
       "}\n",
       "\n",
       "#sk-container-id-3 a.estimator_doc_link.fitted:hover {\n",
       "  /* fitted */\n",
       "  background-color: var(--sklearn-color-fitted-level-3);\n",
       "}\n",
       "</style><div id=\"sk-container-id-3\" class=\"sk-top-container\"><div class=\"sk-text-repr-fallback\"><pre>XGBRegressor(base_score=None, booster=None, callbacks=None,\n",
       "             colsample_bylevel=None, colsample_bynode=None,\n",
       "             colsample_bytree=None, device=&#x27;cuda&#x27;, early_stopping_rounds=None,\n",
       "             enable_categorical=True, eval_metric=None, feature_types=None,\n",
       "             gamma=0.05965055817863728, grow_policy=None, importance_type=None,\n",
       "             interaction_constraints=None, learning_rate=0.016150250040658724,\n",
       "             max_bin=None, max_cat_threshold=None, max_cat_to_onehot=None,\n",
       "             max_delta_step=0.10042448556024319, max_depth=13, max_leaves=None,\n",
       "             min_child_weight=1.7624628686422215, missing=nan,\n",
       "             monotone_constraints=None, multi_strategy=None, n_estimators=3304,\n",
       "             n_jobs=None, num_parallel_tree=None, random_state=42, ...)</pre><b>In a Jupyter environment, please rerun this cell to show the HTML representation or trust the notebook. <br />On GitHub, the HTML representation is unable to render, please try loading this page with nbviewer.org.</b></div><div class=\"sk-container\" hidden><div class=\"sk-item\"><div class=\"sk-estimator fitted sk-toggleable\"><input class=\"sk-toggleable__control sk-hidden--visually\" id=\"sk-estimator-id-3\" type=\"checkbox\" checked><label for=\"sk-estimator-id-3\" class=\"sk-toggleable__label fitted sk-toggleable__label-arrow fitted\">&nbsp;XGBRegressor<span class=\"sk-estimator-doc-link fitted\">i<span>Fitted</span></span></label><div class=\"sk-toggleable__content fitted\"><pre>XGBRegressor(base_score=None, booster=None, callbacks=None,\n",
       "             colsample_bylevel=None, colsample_bynode=None,\n",
       "             colsample_bytree=None, device=&#x27;cuda&#x27;, early_stopping_rounds=None,\n",
       "             enable_categorical=True, eval_metric=None, feature_types=None,\n",
       "             gamma=0.05965055817863728, grow_policy=None, importance_type=None,\n",
       "             interaction_constraints=None, learning_rate=0.016150250040658724,\n",
       "             max_bin=None, max_cat_threshold=None, max_cat_to_onehot=None,\n",
       "             max_delta_step=0.10042448556024319, max_depth=13, max_leaves=None,\n",
       "             min_child_weight=1.7624628686422215, missing=nan,\n",
       "             monotone_constraints=None, multi_strategy=None, n_estimators=3304,\n",
       "             n_jobs=None, num_parallel_tree=None, random_state=42, ...)</pre></div> </div></div></div></div>"
      ],
      "text/plain": [
       "XGBRegressor(base_score=None, booster=None, callbacks=None,\n",
       "             colsample_bylevel=None, colsample_bynode=None,\n",
       "             colsample_bytree=None, device='cuda', early_stopping_rounds=None,\n",
       "             enable_categorical=True, eval_metric=None, feature_types=None,\n",
       "             gamma=0.05965055817863728, grow_policy=None, importance_type=None,\n",
       "             interaction_constraints=None, learning_rate=0.016150250040658724,\n",
       "             max_bin=None, max_cat_threshold=None, max_cat_to_onehot=None,\n",
       "             max_delta_step=0.10042448556024319, max_depth=13, max_leaves=None,\n",
       "             min_child_weight=1.7624628686422215, missing=nan,\n",
       "             monotone_constraints=None, multi_strategy=None, n_estimators=3304,\n",
       "             n_jobs=None, num_parallel_tree=None, random_state=42, ...)"
      ]
     },
     "execution_count": 208,
     "metadata": {},
     "output_type": "execute_result"
    }
   ],
   "source": [
    "X_train, X_test, y_train, y_test = train_test_split(Xy, yy, test_size=0.1, random_state=42)\n",
    "\n",
    "# Initialize the XGBoost Regressor\n",
    "model_xgb = xgb.XGBRegressor(\n",
    "    objective='reg:squarederror',\n",
    "    device='cuda',\n",
    "    tree_method='hist',\n",
    "    random_state=42,\n",
    "    enable_categorical=True,\n",
    "    **ma_params\n",
    ")\n",
    "\n",
    "# Train the model\n",
    "model_xgb.fit(X_train, y_train)"
   ]
  },
  {
   "cell_type": "code",
   "execution_count": 209,
   "id": "ccc8d994-9a20-4caa-a29b-31de41febca6",
   "metadata": {},
   "outputs": [
    {
     "name": "stdout",
     "output_type": "stream",
     "text": [
      "Feature Importances (gain-based):\n",
      "                   Feature  Importance\n",
      "59          Feeling_income    0.175637\n",
      "5              Enough_food    0.088010\n",
      "61            COUNTRY_ISO3    0.079147\n",
      "4   Living_standard_change    0.068064\n",
      "3            Relative_have    0.043860\n",
      "..                     ...         ...\n",
      "37                  Stolen    0.007128\n",
      "29             Good_gayles    0.007099\n",
      "8                Respected    0.006823\n",
      "39     Religion_importance    0.006684\n",
      "38               Assualted    0.005641\n",
      "\n",
      "[62 rows x 2 columns]\n"
     ]
    }
   ],
   "source": [
    "# Create a DataFrame of feature importances with names\n",
    "importance_df = pd.DataFrame({\n",
    "    'Feature': X_train.columns,\n",
    "    'Importance': model_xgb.feature_importances_\n",
    "}).sort_values(by='Importance', ascending=False)\n",
    "\n",
    "# Print the sorted DataFrame\n",
    "print(\"Feature Importances (gain-based):\")\n",
    "print(importance_df)"
   ]
  },
  {
   "cell_type": "code",
   "execution_count": 210,
   "id": "f369e0f5-f78a-44df-bd8c-57f5a665db8f",
   "metadata": {},
   "outputs": [],
   "source": [
    "ma_importance_df = importance_df.copy()"
   ]
  },
  {
   "cell_type": "code",
   "execution_count": null,
   "id": "54ad68b8-d753-4160-9896-0928b9348e26",
   "metadata": {},
   "outputs": [],
   "source": []
  },
  {
   "cell_type": "markdown",
   "id": "edf514dd-ff84-4b18-8a81-da449fe41eb5",
   "metadata": {},
   "source": [
    "### Elder"
   ]
  },
  {
   "cell_type": "code",
   "execution_count": 211,
   "id": "83555c2a-01e4-4146-b399-b9e1c39504b1",
   "metadata": {},
   "outputs": [],
   "source": [
    "ma_params = {'gamma': 1.2045479993021058,\n",
    " 'learning_rate': 0.030685320506680522,\n",
    " 'max_delta_step': 0.3805781770349062,\n",
    " 'max_depth': 13,\n",
    " 'min_child_weight': 0.002361695637610135,\n",
    " 'n_estimators': 540,\n",
    " 'reg_alpha': 6.59041086695112,\n",
    " 'reg_lambda': 0.01642699361057668,\n",
    " 'subsample': 0.5572023993404673}"
   ]
  },
  {
   "cell_type": "code",
   "execution_count": 212,
   "id": "a1cce51d-e36e-47f9-82af-16ae768e8750",
   "metadata": {},
   "outputs": [
    {
     "data": {
      "text/html": [
       "<style>#sk-container-id-4 {\n",
       "  /* Definition of color scheme common for light and dark mode */\n",
       "  --sklearn-color-text: black;\n",
       "  --sklearn-color-line: gray;\n",
       "  /* Definition of color scheme for unfitted estimators */\n",
       "  --sklearn-color-unfitted-level-0: #fff5e6;\n",
       "  --sklearn-color-unfitted-level-1: #f6e4d2;\n",
       "  --sklearn-color-unfitted-level-2: #ffe0b3;\n",
       "  --sklearn-color-unfitted-level-3: chocolate;\n",
       "  /* Definition of color scheme for fitted estimators */\n",
       "  --sklearn-color-fitted-level-0: #f0f8ff;\n",
       "  --sklearn-color-fitted-level-1: #d4ebff;\n",
       "  --sklearn-color-fitted-level-2: #b3dbfd;\n",
       "  --sklearn-color-fitted-level-3: cornflowerblue;\n",
       "\n",
       "  /* Specific color for light theme */\n",
       "  --sklearn-color-text-on-default-background: var(--sg-text-color, var(--theme-code-foreground, var(--jp-content-font-color1, black)));\n",
       "  --sklearn-color-background: var(--sg-background-color, var(--theme-background, var(--jp-layout-color0, white)));\n",
       "  --sklearn-color-border-box: var(--sg-text-color, var(--theme-code-foreground, var(--jp-content-font-color1, black)));\n",
       "  --sklearn-color-icon: #696969;\n",
       "\n",
       "  @media (prefers-color-scheme: dark) {\n",
       "    /* Redefinition of color scheme for dark theme */\n",
       "    --sklearn-color-text-on-default-background: var(--sg-text-color, var(--theme-code-foreground, var(--jp-content-font-color1, white)));\n",
       "    --sklearn-color-background: var(--sg-background-color, var(--theme-background, var(--jp-layout-color0, #111)));\n",
       "    --sklearn-color-border-box: var(--sg-text-color, var(--theme-code-foreground, var(--jp-content-font-color1, white)));\n",
       "    --sklearn-color-icon: #878787;\n",
       "  }\n",
       "}\n",
       "\n",
       "#sk-container-id-4 {\n",
       "  color: var(--sklearn-color-text);\n",
       "}\n",
       "\n",
       "#sk-container-id-4 pre {\n",
       "  padding: 0;\n",
       "}\n",
       "\n",
       "#sk-container-id-4 input.sk-hidden--visually {\n",
       "  border: 0;\n",
       "  clip: rect(1px 1px 1px 1px);\n",
       "  clip: rect(1px, 1px, 1px, 1px);\n",
       "  height: 1px;\n",
       "  margin: -1px;\n",
       "  overflow: hidden;\n",
       "  padding: 0;\n",
       "  position: absolute;\n",
       "  width: 1px;\n",
       "}\n",
       "\n",
       "#sk-container-id-4 div.sk-dashed-wrapped {\n",
       "  border: 1px dashed var(--sklearn-color-line);\n",
       "  margin: 0 0.4em 0.5em 0.4em;\n",
       "  box-sizing: border-box;\n",
       "  padding-bottom: 0.4em;\n",
       "  background-color: var(--sklearn-color-background);\n",
       "}\n",
       "\n",
       "#sk-container-id-4 div.sk-container {\n",
       "  /* jupyter's `normalize.less` sets `[hidden] { display: none; }`\n",
       "     but bootstrap.min.css set `[hidden] { display: none !important; }`\n",
       "     so we also need the `!important` here to be able to override the\n",
       "     default hidden behavior on the sphinx rendered scikit-learn.org.\n",
       "     See: https://github.com/scikit-learn/scikit-learn/issues/21755 */\n",
       "  display: inline-block !important;\n",
       "  position: relative;\n",
       "}\n",
       "\n",
       "#sk-container-id-4 div.sk-text-repr-fallback {\n",
       "  display: none;\n",
       "}\n",
       "\n",
       "div.sk-parallel-item,\n",
       "div.sk-serial,\n",
       "div.sk-item {\n",
       "  /* draw centered vertical line to link estimators */\n",
       "  background-image: linear-gradient(var(--sklearn-color-text-on-default-background), var(--sklearn-color-text-on-default-background));\n",
       "  background-size: 2px 100%;\n",
       "  background-repeat: no-repeat;\n",
       "  background-position: center center;\n",
       "}\n",
       "\n",
       "/* Parallel-specific style estimator block */\n",
       "\n",
       "#sk-container-id-4 div.sk-parallel-item::after {\n",
       "  content: \"\";\n",
       "  width: 100%;\n",
       "  border-bottom: 2px solid var(--sklearn-color-text-on-default-background);\n",
       "  flex-grow: 1;\n",
       "}\n",
       "\n",
       "#sk-container-id-4 div.sk-parallel {\n",
       "  display: flex;\n",
       "  align-items: stretch;\n",
       "  justify-content: center;\n",
       "  background-color: var(--sklearn-color-background);\n",
       "  position: relative;\n",
       "}\n",
       "\n",
       "#sk-container-id-4 div.sk-parallel-item {\n",
       "  display: flex;\n",
       "  flex-direction: column;\n",
       "}\n",
       "\n",
       "#sk-container-id-4 div.sk-parallel-item:first-child::after {\n",
       "  align-self: flex-end;\n",
       "  width: 50%;\n",
       "}\n",
       "\n",
       "#sk-container-id-4 div.sk-parallel-item:last-child::after {\n",
       "  align-self: flex-start;\n",
       "  width: 50%;\n",
       "}\n",
       "\n",
       "#sk-container-id-4 div.sk-parallel-item:only-child::after {\n",
       "  width: 0;\n",
       "}\n",
       "\n",
       "/* Serial-specific style estimator block */\n",
       "\n",
       "#sk-container-id-4 div.sk-serial {\n",
       "  display: flex;\n",
       "  flex-direction: column;\n",
       "  align-items: center;\n",
       "  background-color: var(--sklearn-color-background);\n",
       "  padding-right: 1em;\n",
       "  padding-left: 1em;\n",
       "}\n",
       "\n",
       "\n",
       "/* Toggleable style: style used for estimator/Pipeline/ColumnTransformer box that is\n",
       "clickable and can be expanded/collapsed.\n",
       "- Pipeline and ColumnTransformer use this feature and define the default style\n",
       "- Estimators will overwrite some part of the style using the `sk-estimator` class\n",
       "*/\n",
       "\n",
       "/* Pipeline and ColumnTransformer style (default) */\n",
       "\n",
       "#sk-container-id-4 div.sk-toggleable {\n",
       "  /* Default theme specific background. It is overwritten whether we have a\n",
       "  specific estimator or a Pipeline/ColumnTransformer */\n",
       "  background-color: var(--sklearn-color-background);\n",
       "}\n",
       "\n",
       "/* Toggleable label */\n",
       "#sk-container-id-4 label.sk-toggleable__label {\n",
       "  cursor: pointer;\n",
       "  display: block;\n",
       "  width: 100%;\n",
       "  margin-bottom: 0;\n",
       "  padding: 0.5em;\n",
       "  box-sizing: border-box;\n",
       "  text-align: center;\n",
       "}\n",
       "\n",
       "#sk-container-id-4 label.sk-toggleable__label-arrow:before {\n",
       "  /* Arrow on the left of the label */\n",
       "  content: \"▸\";\n",
       "  float: left;\n",
       "  margin-right: 0.25em;\n",
       "  color: var(--sklearn-color-icon);\n",
       "}\n",
       "\n",
       "#sk-container-id-4 label.sk-toggleable__label-arrow:hover:before {\n",
       "  color: var(--sklearn-color-text);\n",
       "}\n",
       "\n",
       "/* Toggleable content - dropdown */\n",
       "\n",
       "#sk-container-id-4 div.sk-toggleable__content {\n",
       "  max-height: 0;\n",
       "  max-width: 0;\n",
       "  overflow: hidden;\n",
       "  text-align: left;\n",
       "  /* unfitted */\n",
       "  background-color: var(--sklearn-color-unfitted-level-0);\n",
       "}\n",
       "\n",
       "#sk-container-id-4 div.sk-toggleable__content.fitted {\n",
       "  /* fitted */\n",
       "  background-color: var(--sklearn-color-fitted-level-0);\n",
       "}\n",
       "\n",
       "#sk-container-id-4 div.sk-toggleable__content pre {\n",
       "  margin: 0.2em;\n",
       "  border-radius: 0.25em;\n",
       "  color: var(--sklearn-color-text);\n",
       "  /* unfitted */\n",
       "  background-color: var(--sklearn-color-unfitted-level-0);\n",
       "}\n",
       "\n",
       "#sk-container-id-4 div.sk-toggleable__content.fitted pre {\n",
       "  /* unfitted */\n",
       "  background-color: var(--sklearn-color-fitted-level-0);\n",
       "}\n",
       "\n",
       "#sk-container-id-4 input.sk-toggleable__control:checked~div.sk-toggleable__content {\n",
       "  /* Expand drop-down */\n",
       "  max-height: 200px;\n",
       "  max-width: 100%;\n",
       "  overflow: auto;\n",
       "}\n",
       "\n",
       "#sk-container-id-4 input.sk-toggleable__control:checked~label.sk-toggleable__label-arrow:before {\n",
       "  content: \"▾\";\n",
       "}\n",
       "\n",
       "/* Pipeline/ColumnTransformer-specific style */\n",
       "\n",
       "#sk-container-id-4 div.sk-label input.sk-toggleable__control:checked~label.sk-toggleable__label {\n",
       "  color: var(--sklearn-color-text);\n",
       "  background-color: var(--sklearn-color-unfitted-level-2);\n",
       "}\n",
       "\n",
       "#sk-container-id-4 div.sk-label.fitted input.sk-toggleable__control:checked~label.sk-toggleable__label {\n",
       "  background-color: var(--sklearn-color-fitted-level-2);\n",
       "}\n",
       "\n",
       "/* Estimator-specific style */\n",
       "\n",
       "/* Colorize estimator box */\n",
       "#sk-container-id-4 div.sk-estimator input.sk-toggleable__control:checked~label.sk-toggleable__label {\n",
       "  /* unfitted */\n",
       "  background-color: var(--sklearn-color-unfitted-level-2);\n",
       "}\n",
       "\n",
       "#sk-container-id-4 div.sk-estimator.fitted input.sk-toggleable__control:checked~label.sk-toggleable__label {\n",
       "  /* fitted */\n",
       "  background-color: var(--sklearn-color-fitted-level-2);\n",
       "}\n",
       "\n",
       "#sk-container-id-4 div.sk-label label.sk-toggleable__label,\n",
       "#sk-container-id-4 div.sk-label label {\n",
       "  /* The background is the default theme color */\n",
       "  color: var(--sklearn-color-text-on-default-background);\n",
       "}\n",
       "\n",
       "/* On hover, darken the color of the background */\n",
       "#sk-container-id-4 div.sk-label:hover label.sk-toggleable__label {\n",
       "  color: var(--sklearn-color-text);\n",
       "  background-color: var(--sklearn-color-unfitted-level-2);\n",
       "}\n",
       "\n",
       "/* Label box, darken color on hover, fitted */\n",
       "#sk-container-id-4 div.sk-label.fitted:hover label.sk-toggleable__label.fitted {\n",
       "  color: var(--sklearn-color-text);\n",
       "  background-color: var(--sklearn-color-fitted-level-2);\n",
       "}\n",
       "\n",
       "/* Estimator label */\n",
       "\n",
       "#sk-container-id-4 div.sk-label label {\n",
       "  font-family: monospace;\n",
       "  font-weight: bold;\n",
       "  display: inline-block;\n",
       "  line-height: 1.2em;\n",
       "}\n",
       "\n",
       "#sk-container-id-4 div.sk-label-container {\n",
       "  text-align: center;\n",
       "}\n",
       "\n",
       "/* Estimator-specific */\n",
       "#sk-container-id-4 div.sk-estimator {\n",
       "  font-family: monospace;\n",
       "  border: 1px dotted var(--sklearn-color-border-box);\n",
       "  border-radius: 0.25em;\n",
       "  box-sizing: border-box;\n",
       "  margin-bottom: 0.5em;\n",
       "  /* unfitted */\n",
       "  background-color: var(--sklearn-color-unfitted-level-0);\n",
       "}\n",
       "\n",
       "#sk-container-id-4 div.sk-estimator.fitted {\n",
       "  /* fitted */\n",
       "  background-color: var(--sklearn-color-fitted-level-0);\n",
       "}\n",
       "\n",
       "/* on hover */\n",
       "#sk-container-id-4 div.sk-estimator:hover {\n",
       "  /* unfitted */\n",
       "  background-color: var(--sklearn-color-unfitted-level-2);\n",
       "}\n",
       "\n",
       "#sk-container-id-4 div.sk-estimator.fitted:hover {\n",
       "  /* fitted */\n",
       "  background-color: var(--sklearn-color-fitted-level-2);\n",
       "}\n",
       "\n",
       "/* Specification for estimator info (e.g. \"i\" and \"?\") */\n",
       "\n",
       "/* Common style for \"i\" and \"?\" */\n",
       "\n",
       ".sk-estimator-doc-link,\n",
       "a:link.sk-estimator-doc-link,\n",
       "a:visited.sk-estimator-doc-link {\n",
       "  float: right;\n",
       "  font-size: smaller;\n",
       "  line-height: 1em;\n",
       "  font-family: monospace;\n",
       "  background-color: var(--sklearn-color-background);\n",
       "  border-radius: 1em;\n",
       "  height: 1em;\n",
       "  width: 1em;\n",
       "  text-decoration: none !important;\n",
       "  margin-left: 1ex;\n",
       "  /* unfitted */\n",
       "  border: var(--sklearn-color-unfitted-level-1) 1pt solid;\n",
       "  color: var(--sklearn-color-unfitted-level-1);\n",
       "}\n",
       "\n",
       ".sk-estimator-doc-link.fitted,\n",
       "a:link.sk-estimator-doc-link.fitted,\n",
       "a:visited.sk-estimator-doc-link.fitted {\n",
       "  /* fitted */\n",
       "  border: var(--sklearn-color-fitted-level-1) 1pt solid;\n",
       "  color: var(--sklearn-color-fitted-level-1);\n",
       "}\n",
       "\n",
       "/* On hover */\n",
       "div.sk-estimator:hover .sk-estimator-doc-link:hover,\n",
       ".sk-estimator-doc-link:hover,\n",
       "div.sk-label-container:hover .sk-estimator-doc-link:hover,\n",
       ".sk-estimator-doc-link:hover {\n",
       "  /* unfitted */\n",
       "  background-color: var(--sklearn-color-unfitted-level-3);\n",
       "  color: var(--sklearn-color-background);\n",
       "  text-decoration: none;\n",
       "}\n",
       "\n",
       "div.sk-estimator.fitted:hover .sk-estimator-doc-link.fitted:hover,\n",
       ".sk-estimator-doc-link.fitted:hover,\n",
       "div.sk-label-container:hover .sk-estimator-doc-link.fitted:hover,\n",
       ".sk-estimator-doc-link.fitted:hover {\n",
       "  /* fitted */\n",
       "  background-color: var(--sklearn-color-fitted-level-3);\n",
       "  color: var(--sklearn-color-background);\n",
       "  text-decoration: none;\n",
       "}\n",
       "\n",
       "/* Span, style for the box shown on hovering the info icon */\n",
       ".sk-estimator-doc-link span {\n",
       "  display: none;\n",
       "  z-index: 9999;\n",
       "  position: relative;\n",
       "  font-weight: normal;\n",
       "  right: .2ex;\n",
       "  padding: .5ex;\n",
       "  margin: .5ex;\n",
       "  width: min-content;\n",
       "  min-width: 20ex;\n",
       "  max-width: 50ex;\n",
       "  color: var(--sklearn-color-text);\n",
       "  box-shadow: 2pt 2pt 4pt #999;\n",
       "  /* unfitted */\n",
       "  background: var(--sklearn-color-unfitted-level-0);\n",
       "  border: .5pt solid var(--sklearn-color-unfitted-level-3);\n",
       "}\n",
       "\n",
       ".sk-estimator-doc-link.fitted span {\n",
       "  /* fitted */\n",
       "  background: var(--sklearn-color-fitted-level-0);\n",
       "  border: var(--sklearn-color-fitted-level-3);\n",
       "}\n",
       "\n",
       ".sk-estimator-doc-link:hover span {\n",
       "  display: block;\n",
       "}\n",
       "\n",
       "/* \"?\"-specific style due to the `<a>` HTML tag */\n",
       "\n",
       "#sk-container-id-4 a.estimator_doc_link {\n",
       "  float: right;\n",
       "  font-size: 1rem;\n",
       "  line-height: 1em;\n",
       "  font-family: monospace;\n",
       "  background-color: var(--sklearn-color-background);\n",
       "  border-radius: 1rem;\n",
       "  height: 1rem;\n",
       "  width: 1rem;\n",
       "  text-decoration: none;\n",
       "  /* unfitted */\n",
       "  color: var(--sklearn-color-unfitted-level-1);\n",
       "  border: var(--sklearn-color-unfitted-level-1) 1pt solid;\n",
       "}\n",
       "\n",
       "#sk-container-id-4 a.estimator_doc_link.fitted {\n",
       "  /* fitted */\n",
       "  border: var(--sklearn-color-fitted-level-1) 1pt solid;\n",
       "  color: var(--sklearn-color-fitted-level-1);\n",
       "}\n",
       "\n",
       "/* On hover */\n",
       "#sk-container-id-4 a.estimator_doc_link:hover {\n",
       "  /* unfitted */\n",
       "  background-color: var(--sklearn-color-unfitted-level-3);\n",
       "  color: var(--sklearn-color-background);\n",
       "  text-decoration: none;\n",
       "}\n",
       "\n",
       "#sk-container-id-4 a.estimator_doc_link.fitted:hover {\n",
       "  /* fitted */\n",
       "  background-color: var(--sklearn-color-fitted-level-3);\n",
       "}\n",
       "</style><div id=\"sk-container-id-4\" class=\"sk-top-container\"><div class=\"sk-text-repr-fallback\"><pre>XGBRegressor(base_score=None, booster=None, callbacks=None,\n",
       "             colsample_bylevel=None, colsample_bynode=None,\n",
       "             colsample_bytree=None, device=&#x27;cuda&#x27;, early_stopping_rounds=None,\n",
       "             enable_categorical=True, eval_metric=None, feature_types=None,\n",
       "             gamma=1.2045479993021058, grow_policy=None, importance_type=None,\n",
       "             interaction_constraints=None, learning_rate=0.030685320506680522,\n",
       "             max_bin=None, max_cat_threshold=None, max_cat_to_onehot=None,\n",
       "             max_delta_step=0.3805781770349062, max_depth=13, max_leaves=None,\n",
       "             min_child_weight=0.002361695637610135, missing=nan,\n",
       "             monotone_constraints=None, multi_strategy=None, n_estimators=540,\n",
       "             n_jobs=None, num_parallel_tree=None, random_state=42, ...)</pre><b>In a Jupyter environment, please rerun this cell to show the HTML representation or trust the notebook. <br />On GitHub, the HTML representation is unable to render, please try loading this page with nbviewer.org.</b></div><div class=\"sk-container\" hidden><div class=\"sk-item\"><div class=\"sk-estimator fitted sk-toggleable\"><input class=\"sk-toggleable__control sk-hidden--visually\" id=\"sk-estimator-id-4\" type=\"checkbox\" checked><label for=\"sk-estimator-id-4\" class=\"sk-toggleable__label fitted sk-toggleable__label-arrow fitted\">&nbsp;XGBRegressor<span class=\"sk-estimator-doc-link fitted\">i<span>Fitted</span></span></label><div class=\"sk-toggleable__content fitted\"><pre>XGBRegressor(base_score=None, booster=None, callbacks=None,\n",
       "             colsample_bylevel=None, colsample_bynode=None,\n",
       "             colsample_bytree=None, device=&#x27;cuda&#x27;, early_stopping_rounds=None,\n",
       "             enable_categorical=True, eval_metric=None, feature_types=None,\n",
       "             gamma=1.2045479993021058, grow_policy=None, importance_type=None,\n",
       "             interaction_constraints=None, learning_rate=0.030685320506680522,\n",
       "             max_bin=None, max_cat_threshold=None, max_cat_to_onehot=None,\n",
       "             max_delta_step=0.3805781770349062, max_depth=13, max_leaves=None,\n",
       "             min_child_weight=0.002361695637610135, missing=nan,\n",
       "             monotone_constraints=None, multi_strategy=None, n_estimators=540,\n",
       "             n_jobs=None, num_parallel_tree=None, random_state=42, ...)</pre></div> </div></div></div></div>"
      ],
      "text/plain": [
       "XGBRegressor(base_score=None, booster=None, callbacks=None,\n",
       "             colsample_bylevel=None, colsample_bynode=None,\n",
       "             colsample_bytree=None, device='cuda', early_stopping_rounds=None,\n",
       "             enable_categorical=True, eval_metric=None, feature_types=None,\n",
       "             gamma=1.2045479993021058, grow_policy=None, importance_type=None,\n",
       "             interaction_constraints=None, learning_rate=0.030685320506680522,\n",
       "             max_bin=None, max_cat_threshold=None, max_cat_to_onehot=None,\n",
       "             max_delta_step=0.3805781770349062, max_depth=13, max_leaves=None,\n",
       "             min_child_weight=0.002361695637610135, missing=nan,\n",
       "             monotone_constraints=None, multi_strategy=None, n_estimators=540,\n",
       "             n_jobs=None, num_parallel_tree=None, random_state=42, ...)"
      ]
     },
     "execution_count": 212,
     "metadata": {},
     "output_type": "execute_result"
    }
   ],
   "source": [
    "X_train, X_test, y_train, y_test = train_test_split(Xy, yy, test_size=0.1, random_state=42)\n",
    "\n",
    "# Initialize the XGBoost Regressor\n",
    "model_xgb = xgb.XGBRegressor(\n",
    "    objective='reg:squarederror',\n",
    "    device='cuda',\n",
    "    tree_method='hist',\n",
    "    random_state=42,\n",
    "    enable_categorical=True,\n",
    "    **ma_params\n",
    ")\n",
    "\n",
    "# Train the model\n",
    "model_xgb.fit(X_train, y_train)"
   ]
  },
  {
   "cell_type": "code",
   "execution_count": 213,
   "id": "8681437b-9bab-4304-9b5c-f77d85d76c34",
   "metadata": {},
   "outputs": [
    {
     "name": "stdout",
     "output_type": "stream",
     "text": [
      "Feature Importances (gain-based):\n",
      "                   Feature  Importance\n",
      "61            COUNTRY_ISO3    0.085467\n",
      "59          Feeling_income    0.081951\n",
      "4   Living_standard_change    0.075587\n",
      "3            Relative_have    0.037140\n",
      "5              Enough_food    0.035796\n",
      "..                     ...         ...\n",
      "52     Corruption_business    0.010769\n",
      "29             Good_gayles    0.010678\n",
      "38               Assualted    0.010448\n",
      "58        Children_under15    0.010247\n",
      "39     Religion_importance    0.009427\n",
      "\n",
      "[62 rows x 2 columns]\n"
     ]
    }
   ],
   "source": [
    "# Create a DataFrame of feature importances with names\n",
    "importance_df = pd.DataFrame({\n",
    "    'Feature': X_train.columns,\n",
    "    'Importance': model_xgb.feature_importances_\n",
    "}).sort_values(by='Importance', ascending=False)\n",
    "\n",
    "# Print the sorted DataFrame\n",
    "print(\"Feature Importances (gain-based):\")\n",
    "print(importance_df)"
   ]
  },
  {
   "cell_type": "code",
   "execution_count": 214,
   "id": "46140de7-0809-4695-9f26-8907f4422d83",
   "metadata": {},
   "outputs": [],
   "source": [
    "el_importance_df = importance_df.copy()"
   ]
  },
  {
   "cell_type": "code",
   "execution_count": 220,
   "id": "473f0028-49c4-440a-b668-5d0274263e74",
   "metadata": {},
   "outputs": [],
   "source": [
    "importance_df_merge = yo_importance_df.merge(ma_importance_df, on = 'Feature')\n",
    "importance_df_merge = importance_df_merge.merge(el_importance_df, on = 'Feature')"
   ]
  },
  {
   "cell_type": "code",
   "execution_count": 222,
   "id": "0bee2ace-0743-4598-8432-d4faedc776f8",
   "metadata": {},
   "outputs": [],
   "source": [
    "importance_df_merge.columns = ['Feature', 'Younger', 'Middle-Aged', 'Elder']"
   ]
  },
  {
   "cell_type": "code",
   "execution_count": 224,
   "id": "41d1a2c5-3064-489e-b361-2c48d8e1c0ed",
   "metadata": {},
   "outputs": [],
   "source": [
    "importance_df_merge = importance_df_merge.set_index('Feature')"
   ]
  },
  {
   "cell_type": "code",
   "execution_count": 226,
   "id": "1744d456-6c5b-4ee5-94a8-68ce9c91192a",
   "metadata": {},
   "outputs": [],
   "source": [
    "custom_order = [\n",
    "    'INCOME_2', 'Health_disable', 'Gender_female',\n",
    "    'Marital_status', # 5\n",
    "    'Employment', 'Children_under15', 'Feeling_income', 'Income_level', # 9\n",
    "    'Relative_have', # 10\n",
    "    'Living_standard_change', 'Enough_food', 'Enough_shelter', # 13\n",
    "    'Well_rested', 'Respected', 'Smile', 'Interesting_thing', 'Enjoyment', # 18\n",
    "    'Physical_pain', 'Worry', 'Sadness', 'Stress', 'Anger', # 23\n",
    "    'City_satisficied', 'Economic_change', 'Goodtime_job', 'Sat_pubtran', # 27\n",
    "    'Sat_road', 'Sat_edu', 'Sat_qualityair', 'Sat_qualitywater', # 31\n",
    "    'Sat_healthcare', 'Sat_affhouse', 'Sat_oppofriend', 'Good_minorities', # 35\n",
    "    'Good_gayles', 'Good_immigrants', 'Donated', 'Volunteer', # 39\n",
    "    'Help_stranger', 'Voice_official', 'Local_police', 'Safety_walk', # 43\n",
    "    'Stolen', 'Assualted', 'Religion_importance', 'Children_respected', # 47\n",
    "    'Children_learn', 'Women_respected', 'Sat_dealpoor', 'Sat_perserveenv', # 51\n",
    "    'Freedom_chooselife', 'Conf_military', 'Conf_judicial', # 54\n",
    "    'Conf_government', 'Conf_financial', 'Conf_honestyelections', # 57\n",
    "    'Freedom_media', 'Corruption_business', 'Corruption_government', # 60\n",
    "    'Performance_leadership' # 61\n",
    "]\n",
    "\n",
    "# Reorder the index of importance_df_merge based on custom list\n",
    "importance_df_merge = importance_df_merge.loc[custom_order]"
   ]
  },
  {
   "cell_type": "code",
   "execution_count": 227,
   "id": "d77d69c4-96dd-4b52-9639-6728d421ca51",
   "metadata": {},
   "outputs": [],
   "source": [
    "importance_df_merge.index = [\"Household Income\", \"Health Disability\", \"Female Dummy\", #5 5\n",
    "             'Marital Status', #1 6\n",
    "             'Employment', 'Children Under 15', 'Feeling of Income', 'Income Level', #4 10\n",
    "            \"Having Relatives to Rely on\", #1 11\n",
    "             \"Living Standard Changing Direction\", \"Enough Food\", \"Enough Shelter\", #3 14\n",
    "             \"Well Rested\", \"Respected\", 'Smiling', 'Interesting Things', 'Enjoyment', #5 19\n",
    "            \"Physical Pain\", \"Worry\", \"Sadness\", \"Stress\", \"Anger\", #5 24\n",
    "            \"Satisfied with City\", \"Economic Changing Direction\", \"Good Time to Find Job\", \"Satisfied with Public Transportation\", #4 28\n",
    "            \"Satisfied with Road\", \"Satisfied with Education\", \"Satisfied with Air Quality\", \"Satisfied with Water Quality\", #4 32\n",
    "            \"Satisfied with Healthcare\", \"Satisfied with Affordable House\", \"Satisfied with Opportunity to Make Friends\", \"Good Place for Ethitical Minority\", #4 36\n",
    "            \"Good Place for Gay or Lesbian\", \"Good Place for Immigrants\", \"Donated Recently\", \"Did Volunteer Recently\", #4 40\n",
    "            \"Helped Stranger\", \"Voiced Opinion to Official\", \"Confidence in Local Police\", \"Safety of Alone Night Walking\", #4 44\n",
    "            'Stolen', 'Assaulted', 'Religion Importance', 'Children Respected', #4 48\n",
    "            'Opportunity for Children Learning', 'Women Respected', 'Satisfied with Poverty Alleviation', 'Satisfied with Environmental Efforts', #4 52\n",
    "            \"Freedom of Choosing Life\", \"Confidence in Military\", \"Confidence in Judicial System\", #3 55\n",
    "             \"Confidence in National Government\", \"Confidence in Financial System\", \"Confidence in Election Honesty\", #3 58\n",
    "            \"Freedom of Media\", \"Corruption within Business\", \"Corruption within Government\", #3 61\n",
    "             \"Approval of Leadership Performance\"]"
   ]
  },
  {
   "cell_type": "code",
   "execution_count": 229,
   "id": "f7e99b4f-dc77-4e52-a41f-988b9fcd3251",
   "metadata": {},
   "outputs": [],
   "source": [
    "importance_df_merge.to_excel('Results/Models3_Importance.xlsx')"
   ]
  },
  {
   "cell_type": "code",
   "execution_count": null,
   "id": "14316668-7f89-41f7-ba67-105c3839631f",
   "metadata": {},
   "outputs": [],
   "source": []
  },
  {
   "cell_type": "code",
   "execution_count": null,
   "id": "caa71be3-fc6b-4c6a-b66b-0a025e2f96bb",
   "metadata": {},
   "outputs": [],
   "source": []
  },
  {
   "cell_type": "markdown",
   "id": "1a43848f-84d1-49a0-a7a0-e9852ee331d3",
   "metadata": {},
   "source": [
    "## Reviewer 1 comment 15"
   ]
  },
  {
   "cell_type": "markdown",
   "id": "fdbb6120-be91-40fb-9b94-372980b44fb1",
   "metadata": {},
   "source": [
    "### Plot"
   ]
  },
  {
   "cell_type": "code",
   "execution_count": 172,
   "id": "5eb67f17-3375-4377-b16c-6aa7d716eb3b",
   "metadata": {},
   "outputs": [],
   "source": [
    "# Group by Age and calculate percentiles\n",
    "summary_df = Concat_Shap.groupby('Age')['Age_shap'].agg(\n",
    "    mean='mean',\n",
    "    q05=lambda x: x.quantile(0.05),\n",
    "    q95=lambda x: x.quantile(0.95)\n",
    ").reset_index()"
   ]
  },
  {
   "cell_type": "code",
   "execution_count": 190,
   "id": "cee2ba5b-22ab-4a22-8151-36cfd046a903",
   "metadata": {},
   "outputs": [
    {
     "data": {
      "image/png": "[encoded data removed]",
      "text/plain": [
       "<Figure size 800x600 with 1 Axes>"
      ]
     },
     "metadata": {},
     "output_type": "display_data"
    }
   ],
   "source": [
    "plt.figure(figsize=(8, 6))\n",
    "plt.scatter(Concat_Shap['Age'], Concat_Shap['Age_shap'], color='blue', alpha = 0.01, marker = '.', s=200)\n",
    "\n",
    "# Overlay percentiles\n",
    "plt.plot(summary_df['Age'], summary_df['mean'], color='black', label='Mean', linewidth=3)\n",
    "plt.plot(summary_df['Age'], summary_df['q05'], color='orange', linestyle='--', label='5th Percentile', linewidth=2)\n",
    "plt.plot(summary_df['Age'], summary_df['q95'], color='red', linestyle='--', label='95th Percentile', linewidth=2)\n",
    "\n",
    "\n",
    "plt.xlabel('Age')\n",
    "plt.ylabel('SHAP value of Age')\n",
    "plt.grid(True)\n",
    "plt.legend(loc = 'upper left')\n",
    "plt.savefig('Figures/AgeSHAP.jpg', format='jpg', dpi=300, bbox_inches='tight')\n",
    "plt.show()"
   ]
  },
  {
   "cell_type": "code",
   "execution_count": null,
   "id": "a60cb57f-5b10-44d3-9181-fc3c40895803",
   "metadata": {},
   "outputs": [],
   "source": []
  },
  {
   "cell_type": "markdown",
   "id": "0b992cf0-ff4c-4204-a47f-cb05c863977f",
   "metadata": {},
   "source": [
    "## Comment 8"
   ]
  },
  {
   "cell_type": "markdown",
   "id": "8871266e-c143-401d-8c39-ef8de519f921",
   "metadata": {},
   "source": [
    "### All data"
   ]
  },
  {
   "cell_type": "code",
   "execution_count": 232,
   "id": "d20f9818-a395-47cb-be11-aa1393797069",
   "metadata": {},
   "outputs": [],
   "source": [
    "Df_Filename = os.path.join(\"Data\", \"GallupWB_Ml64var1911k14wave_v1.parquet\")"
   ]
  },
  {
   "cell_type": "code",
   "execution_count": 233,
   "id": "52bd9c39-9b96-4c5f-bff8-52ae0596bc10",
   "metadata": {},
   "outputs": [],
   "source": [
    "Df = pd.read_parquet(Df_Filename)"
   ]
  },
  {
   "cell_type": "code",
   "execution_count": 234,
   "id": "43e49536-4b4d-4ce6-bef5-4ba6c01d2143",
   "metadata": {},
   "outputs": [
    {
     "data": {
      "text/plain": [
       "Index(['wave', 'INCOME_2', 'Cantril_ladder', 'Health_disable', 'Relative_have',\n",
       "       'Living_standard_change', 'Enough_food', 'Enough_shelter',\n",
       "       'Well_rested', 'Respected', 'Smile', 'Interesting_thing', 'Enjoyment',\n",
       "       'Physical_pain', 'Worry', 'Sadness', 'Stress', 'Anger',\n",
       "       'City_satisficied', 'Economic_change', 'Goodtime_job', 'Sat_pubtran',\n",
       "       'Sat_road', 'Sat_edu', 'Sat_qualityair', 'Sat_qualitywater',\n",
       "       'Sat_healthcare', 'Sat_affhouse', 'Sat_oppofriend', 'Good_minorities',\n",
       "       'Good_gayles', 'Good_immigrants', 'Donated', 'Volunteer',\n",
       "       'Help_stranger', 'Voice_official', 'Local_police', 'Safety_walk',\n",
       "       'Stolen', 'Assualted', 'Religion_importance', 'Children_respected',\n",
       "       'Children_learn', 'Women_respected', 'Sat_dealpoor', 'Sat_perserveenv',\n",
       "       'Freedom_chooselife', 'Conf_military', 'Conf_judicial',\n",
       "       'Conf_government', 'Conf_financial', 'Conf_honestyelections',\n",
       "       'Freedom_media', 'Corruption_business', 'Corruption_government',\n",
       "       'Performance_leadership', 'Gender_female', 'Age', 'Marital_status',\n",
       "       'Employment', 'Children_under15', 'Feeling_income', 'Income_level',\n",
       "       'COUNTRY_ISO3'],\n",
       "      dtype='object')"
      ]
     },
     "execution_count": 234,
     "metadata": {},
     "output_type": "execute_result"
    }
   ],
   "source": [
    "Df.columns"
   ]
  },
  {
   "cell_type": "markdown",
   "id": "860c3b9d-cebf-4ce2-abd9-d8feea2d91ec",
   "metadata": {},
   "source": [
    "### Compare \"satisfaction with medical care\" and \"employment opportunities\""
   ]
  },
  {
   "cell_type": "code",
   "execution_count": 242,
   "id": "97f72e58-ca93-4c24-97bf-ac21bf121cce",
   "metadata": {},
   "outputs": [
    {
     "data": {
      "text/plain": [
       "Index(['wave', 'INCOME_2', 'Cantril_ladder', 'Health_disable', 'Relative_have',\n",
       "       'Living_standard_change', 'Enough_food', 'Enough_shelter',\n",
       "       'Well_rested', 'Respected', 'Smile', 'Interesting_thing', 'Enjoyment',\n",
       "       'Physical_pain', 'Worry', 'Sadness', 'Stress', 'Anger',\n",
       "       'City_satisficied', 'Economic_change', 'Goodtime_job', 'Sat_pubtran',\n",
       "       'Sat_road', 'Sat_edu', 'Sat_qualityair', 'Sat_qualitywater',\n",
       "       'Sat_healthcare', 'Sat_affhouse', 'Sat_oppofriend', 'Good_minorities',\n",
       "       'Good_gayles', 'Good_immigrants', 'Donated', 'Volunteer',\n",
       "       'Help_stranger', 'Voice_official', 'Local_police', 'Safety_walk',\n",
       "       'Stolen', 'Assualted', 'Religion_importance', 'Children_respected',\n",
       "       'Children_learn', 'Women_respected', 'Sat_dealpoor', 'Sat_perserveenv',\n",
       "       'Freedom_chooselife', 'Conf_military', 'Conf_judicial',\n",
       "       'Conf_government', 'Conf_financial', 'Conf_honestyelections',\n",
       "       'Freedom_media', 'Corruption_business', 'Corruption_government',\n",
       "       'Performance_leadership', 'Gender_female', 'Age', 'Marital_status',\n",
       "       'Employment', 'Children_under15', 'Feeling_income', 'Income_level',\n",
       "       'COUNTRY_ISO3'],\n",
       "      dtype='object')"
      ]
     },
     "execution_count": 242,
     "metadata": {},
     "output_type": "execute_result"
    }
   ],
   "source": [
    "yo_df.columns"
   ]
  },
  {
   "cell_type": "code",
   "execution_count": 243,
   "id": "7c7a822e-9a34-4300-ab2f-82df3a59c594",
   "metadata": {},
   "outputs": [
    {
     "data": {
      "text/plain": [
       "0.3681105225694209"
      ]
     },
     "execution_count": 243,
     "metadata": {},
     "output_type": "execute_result"
    }
   ],
   "source": [
    "yo_df['Goodtime_job'].mean()"
   ]
  },
  {
   "cell_type": "code",
   "execution_count": 244,
   "id": "e6981007-d0f6-4ee1-9f60-286ff978b68a",
   "metadata": {},
   "outputs": [
    {
     "data": {
      "text/plain": [
       "0.3108489947601846"
      ]
     },
     "execution_count": 244,
     "metadata": {},
     "output_type": "execute_result"
    }
   ],
   "source": [
    "ma_df['Goodtime_job'].mean()"
   ]
  },
  {
   "cell_type": "code",
   "execution_count": 245,
   "id": "3ec00332-36d4-4f83-8b78-55bb329fdf97",
   "metadata": {},
   "outputs": [
    {
     "data": {
      "text/plain": [
       "0.2660383895779918"
      ]
     },
     "execution_count": 245,
     "metadata": {},
     "output_type": "execute_result"
    }
   ],
   "source": [
    "el_df['Goodtime_job'].mean()"
   ]
  },
  {
   "cell_type": "code",
   "execution_count": 251,
   "id": "95b9bdcc-6250-4685-9a7c-6048f5605b5a",
   "metadata": {},
   "outputs": [
    {
     "data": {
      "text/plain": [
       "0.5344845530017373"
      ]
     },
     "execution_count": 251,
     "metadata": {},
     "output_type": "execute_result"
    }
   ],
   "source": [
    "yo_df[yo_df['Health_disable']==2]['Sat_healthcare'].mean()"
   ]
  },
  {
   "cell_type": "code",
   "execution_count": 252,
   "id": "68234422-839b-44ef-8179-70324363afca",
   "metadata": {},
   "outputs": [
    {
     "data": {
      "text/plain": [
       "0.5740198270315073"
      ]
     },
     "execution_count": 252,
     "metadata": {},
     "output_type": "execute_result"
    }
   ],
   "source": [
    "ma_df[ma_df['Health_disable']==2]['Sat_healthcare'].mean()"
   ]
  },
  {
   "cell_type": "code",
   "execution_count": 253,
   "id": "584fa623-5633-4ce2-b159-2b578081a5e3",
   "metadata": {},
   "outputs": [
    {
     "data": {
      "text/plain": [
       "0.6743852553201268"
      ]
     },
     "execution_count": 253,
     "metadata": {},
     "output_type": "execute_result"
    }
   ],
   "source": [
    "el_df[el_df['Health_disable']==2]['Sat_healthcare'].mean()"
   ]
  },
  {
   "cell_type": "code",
   "execution_count": 254,
   "id": "8aabb3ae-ea70-4632-ad81-29333a9f87c7",
   "metadata": {},
   "outputs": [
    {
     "data": {
      "text/plain": [
       "0.5243702808643352"
      ]
     },
     "execution_count": 254,
     "metadata": {},
     "output_type": "execute_result"
    }
   ],
   "source": [
    "yo_df['Sat_healthcare'].mean()"
   ]
  },
  {
   "cell_type": "code",
   "execution_count": 255,
   "id": "fb796672-d14a-4119-be75-d41a6e1b1657",
   "metadata": {},
   "outputs": [
    {
     "data": {
      "text/plain": [
       "0.5505302355581074"
      ]
     },
     "execution_count": 255,
     "metadata": {},
     "output_type": "execute_result"
    }
   ],
   "source": [
    "ma_df['Sat_healthcare'].mean()"
   ]
  },
  {
   "cell_type": "code",
   "execution_count": 256,
   "id": "cb944c42-7d1f-410f-8aed-7bf86881c466",
   "metadata": {},
   "outputs": [
    {
     "data": {
      "text/plain": [
       "0.6189822835100363"
      ]
     },
     "execution_count": 256,
     "metadata": {},
     "output_type": "execute_result"
    }
   ],
   "source": [
    "el_df['Sat_healthcare'].mean()"
   ]
  },
  {
   "cell_type": "markdown",
   "id": "2d002c8c-c6b4-4480-8acd-ece875723698",
   "metadata": {},
   "source": [
    "### Sat_healthcare"
   ]
  },
  {
   "cell_type": "code",
   "execution_count": 275,
   "id": "e44dcf89-845c-4f2f-9e09-1d78ad0bd184",
   "metadata": {},
   "outputs": [
    {
     "name": "stdout",
     "output_type": "stream",
     "text": [
      "    Country_ISO3    group1    group2    group3\n",
      "0            ARG  0.534428  0.560873  0.671692\n",
      "1            AUT  0.887550  0.879628  0.889486\n",
      "2            CRI  0.636719  0.683266  0.823529\n",
      "3            ZAF  0.569456  0.572645  0.535211\n",
      "4            BEN  0.401981  0.395699  0.386301\n",
      "..           ...       ...       ...       ...\n",
      "159          CHN  0.457776  0.444251  0.425982\n",
      "160          KAZ  0.485491  0.446777  0.439771\n",
      "161          ARE  0.786680  0.766746  0.858586\n",
      "162          COG  0.324302  0.275203  0.243750\n",
      "163          EGY  0.357372  0.354001  0.421594\n",
      "\n",
      "[164 rows x 4 columns]\n"
     ]
    }
   ],
   "source": [
    "results = []\n",
    "\n",
    "for country in set(yo_df['COUNTRY_ISO3']) & set(ma_df['COUNTRY_ISO3']):\n",
    "    group1 = yo_df[yo_df['COUNTRY_ISO3'] == country]['Sat_healthcare'].dropna().mean()\n",
    "    group2 = ma_df[ma_df['COUNTRY_ISO3'] == country]['Sat_healthcare'].dropna().mean()\n",
    "    group3 = el_df[el_df['COUNTRY_ISO3'] == country]['Sat_healthcare'].dropna().mean()\n",
    "\n",
    "    results.append({'Country_ISO3': country, 'group1': group1, 'group2': group2,\n",
    "                'group3': group3\n",
    "                   })\n",
    "    \n",
    "results_df = pd.DataFrame(results)\n",
    "print(results_df)"
   ]
  },
  {
   "cell_type": "code",
   "execution_count": 276,
   "id": "1827ced2-4497-4581-b63f-c19dd7c13650",
   "metadata": {},
   "outputs": [],
   "source": [
    "results_df.columns = ['Country', 'Younger', 'Middle-Aged', 'Elderly']"
   ]
  },
  {
   "cell_type": "code",
   "execution_count": 277,
   "id": "69b79fef-c409-411e-a0a8-8c563dbf2723",
   "metadata": {},
   "outputs": [],
   "source": [
    "group_columns = ['Younger', 'Middle-Aged', 'Elderly']\n",
    "results_df['Group Least Satisfied'] = results_df[group_columns].idxmin(axis=1)"
   ]
  },
  {
   "cell_type": "code",
   "execution_count": 278,
   "id": "12eb7c08-034c-4a6b-b4ce-b362632400fe",
   "metadata": {},
   "outputs": [
    {
     "name": "stdout",
     "output_type": "stream",
     "text": [
      "    Country   Younger  Middle-Aged   Elderly Group Least Satisfied\n",
      "0       ARG  0.534428     0.560873  0.671692               Younger\n",
      "1       AUT  0.887550     0.879628  0.889486           Middle-Aged\n",
      "2       CRI  0.636719     0.683266  0.823529               Younger\n",
      "3       ZAF  0.569456     0.572645  0.535211               Elderly\n",
      "4       BEN  0.401981     0.395699  0.386301               Elderly\n",
      "..      ...       ...          ...       ...                   ...\n",
      "159     CHN  0.457776     0.444251  0.425982               Elderly\n",
      "160     KAZ  0.485491     0.446777  0.439771               Elderly\n",
      "161     ARE  0.786680     0.766746  0.858586           Middle-Aged\n",
      "162     COG  0.324302     0.275203  0.243750               Elderly\n",
      "163     EGY  0.357372     0.354001  0.421594           Middle-Aged\n",
      "\n",
      "[164 rows x 5 columns]\n"
     ]
    }
   ],
   "source": [
    "print(results_df)"
   ]
  },
  {
   "cell_type": "code",
   "execution_count": 281,
   "id": "dfae4f0b-ae9e-43e8-a9f2-c61c49eef530",
   "metadata": {},
   "outputs": [
    {
     "data": {
      "text/plain": [
       "Group Least Satisfied\n",
       "Middle-Aged    83\n",
       "Younger        43\n",
       "Elderly        38\n",
       "Name: count, dtype: int64"
      ]
     },
     "execution_count": 281,
     "metadata": {},
     "output_type": "execute_result"
    }
   ],
   "source": [
    "results_df['Group Least Satisfied'].value_counts()"
   ]
  },
  {
   "cell_type": "code",
   "execution_count": 282,
   "id": "2240b5ea-66b6-47c4-9df2-c8d89fb5a993",
   "metadata": {},
   "outputs": [],
   "source": [
    "results_df.to_excel('Results/Sat_healthcare_Country.xlsx')"
   ]
  },
  {
   "cell_type": "markdown",
   "id": "17bb22c3-27b8-47da-a36c-47e2dda1ba97",
   "metadata": {},
   "source": [
    "### Goodtime_job"
   ]
  },
  {
   "cell_type": "code",
   "execution_count": 283,
   "id": "ddcb42b3-c678-43c9-a85b-db9773088bcf",
   "metadata": {},
   "outputs": [
    {
     "name": "stdout",
     "output_type": "stream",
     "text": [
      "    Country_ISO3    group1    group2    group3\n",
      "0            ARG  0.271478  0.220264  0.215243\n",
      "1            AUT  0.407749  0.356904  0.324252\n",
      "2            CRI  0.283654  0.227823  0.179769\n",
      "3            ZAF  0.335042  0.295687  0.231612\n",
      "4            BEN  0.381161  0.330753  0.326027\n",
      "..           ...       ...       ...       ...\n",
      "159          CHN  0.334631  0.238969  0.183564\n",
      "160          KAZ  0.396524  0.351569  0.284895\n",
      "161          ARE  0.518429  0.501188  0.585859\n",
      "162          COG  0.434455  0.383092  0.204167\n",
      "163          EGY  0.164769  0.159388  0.145244\n",
      "\n",
      "[164 rows x 4 columns]\n"
     ]
    }
   ],
   "source": [
    "results = []\n",
    "\n",
    "for country in set(yo_df['COUNTRY_ISO3']) & set(ma_df['COUNTRY_ISO3']):\n",
    "    group1 = yo_df[yo_df['COUNTRY_ISO3'] == country]['Goodtime_job'].dropna().mean()\n",
    "    group2 = ma_df[ma_df['COUNTRY_ISO3'] == country]['Goodtime_job'].dropna().mean()\n",
    "    group3 = el_df[el_df['COUNTRY_ISO3'] == country]['Goodtime_job'].dropna().mean()\n",
    "\n",
    "    results.append({'Country_ISO3': country, 'group1': group1, 'group2': group2,\n",
    "                'group3': group3\n",
    "                   })\n",
    "    \n",
    "results_df = pd.DataFrame(results)\n",
    "print(results_df)"
   ]
  },
  {
   "cell_type": "code",
   "execution_count": 284,
   "id": "5732c0f2-077c-46e9-bb48-1649a00a53cc",
   "metadata": {},
   "outputs": [],
   "source": [
    "results_df.columns = ['Country', 'Younger', 'Middle-Aged', 'Elderly']"
   ]
  },
  {
   "cell_type": "code",
   "execution_count": 285,
   "id": "1870f8df-6f26-4ef5-a65c-4c09ba72d4ca",
   "metadata": {},
   "outputs": [],
   "source": [
    "group_columns = ['Younger', 'Middle-Aged', 'Elderly']\n",
    "results_df['Group Least Satisfied'] = results_df[group_columns].idxmin(axis=1)"
   ]
  },
  {
   "cell_type": "code",
   "execution_count": 286,
   "id": "c9b93cd7-7bf2-480c-a823-e01d6da8f1f8",
   "metadata": {},
   "outputs": [
    {
     "name": "stdout",
     "output_type": "stream",
     "text": [
      "    Country   Younger  Middle-Aged   Elderly Group Least Satisfied\n",
      "0       ARG  0.271478     0.220264  0.215243               Elderly\n",
      "1       AUT  0.407749     0.356904  0.324252               Elderly\n",
      "2       CRI  0.283654     0.227823  0.179769               Elderly\n",
      "3       ZAF  0.335042     0.295687  0.231612               Elderly\n",
      "4       BEN  0.381161     0.330753  0.326027               Elderly\n",
      "..      ...       ...          ...       ...                   ...\n",
      "159     CHN  0.334631     0.238969  0.183564               Elderly\n",
      "160     KAZ  0.396524     0.351569  0.284895               Elderly\n",
      "161     ARE  0.518429     0.501188  0.585859           Middle-Aged\n",
      "162     COG  0.434455     0.383092  0.204167               Elderly\n",
      "163     EGY  0.164769     0.159388  0.145244               Elderly\n",
      "\n",
      "[164 rows x 5 columns]\n"
     ]
    }
   ],
   "source": [
    "print(results_df)"
   ]
  },
  {
   "cell_type": "code",
   "execution_count": 287,
   "id": "217895da-cf37-412b-947e-d9f953b8e9af",
   "metadata": {},
   "outputs": [
    {
     "data": {
      "text/plain": [
       "Group Least Satisfied\n",
       "Elderly        134\n",
       "Middle-Aged     23\n",
       "Younger          7\n",
       "Name: count, dtype: int64"
      ]
     },
     "execution_count": 287,
     "metadata": {},
     "output_type": "execute_result"
    }
   ],
   "source": [
    "results_df['Group Least Satisfied'].value_counts()"
   ]
  }
 ],
 "metadata": {
  "kernelspec": {
   "display_name": "Python 3 (ipykernel)",
   "language": "python",
   "name": "python3"
  },
  "language_info": {
   "codemirror_mode": {
    "name": "ipython",
    "version": 3
   },
   "file_extension": ".py",
   "mimetype": "text/x-python",
   "name": "python",
   "nbconvert_exporter": "python",
   "pygments_lexer": "ipython3",
   "version": "3.9.19"
  }
 },
 "nbformat": 4,
 "nbformat_minor": 5
}
